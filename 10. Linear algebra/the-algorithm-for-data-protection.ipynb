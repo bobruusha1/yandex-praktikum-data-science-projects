{
 "cells": [
  {
   "cell_type": "markdown",
   "metadata": {
    "toc": true
   },
   "source": [
    "<h1>Содержание<span class=\"tocSkip\"></span></h1>\n",
    "<div class=\"toc\"><ul class=\"toc-item\"><li><span><a href=\"#Загрузка-данных\" data-toc-modified-id=\"Загрузка-данных-1\"><span class=\"toc-item-num\">1&nbsp;&nbsp;</span>Загрузка данных</a></span></li><li><span><a href=\"#Умножение-матриц\" data-toc-modified-id=\"Умножение-матриц-2\"><span class=\"toc-item-num\">2&nbsp;&nbsp;</span>Умножение матриц</a></span></li><li><span><a href=\"#Алгоритм-преобразования\" data-toc-modified-id=\"Алгоритм-преобразования-3\"><span class=\"toc-item-num\">3&nbsp;&nbsp;</span>Алгоритм преобразования</a></span></li><li><span><a href=\"#Проверка-алгоритма\" data-toc-modified-id=\"Проверка-алгоритма-4\"><span class=\"toc-item-num\">4&nbsp;&nbsp;</span>Проверка алгоритма</a></span></li><li><span><a href=\"#Чек-лист-проверки\" data-toc-modified-id=\"Чек-лист-проверки-5\"><span class=\"toc-item-num\">5&nbsp;&nbsp;</span>Чек-лист проверки</a></span></li></ul></div>"
   ]
  },
  {
   "cell_type": "markdown",
   "metadata": {},
   "source": [
    "# Защита персональных данных клиентов"
   ]
  },
  {
   "cell_type": "markdown",
   "metadata": {},
   "source": [
    "Вам нужно защитить данные клиентов страховой компании «Хоть потоп». Разработайте такой метод преобразования данных, чтобы по ним было сложно восстановить персональную информацию. Обоснуйте корректность его работы.\n",
    "\n",
    "Нужно защитить данные, чтобы при преобразовании качество моделей машинного обучения не ухудшилось. Подбирать наилучшую модель не требуется."
   ]
  },
  {
   "cell_type": "markdown",
   "metadata": {},
   "source": [
    "## Загрузка данных"
   ]
  },
  {
   "cell_type": "code",
   "execution_count": 1,
   "metadata": {},
   "outputs": [],
   "source": [
    "import pandas as pd\n",
    "import numpy as np\n",
    "\n",
    "import warnings\n",
    "warnings.filterwarnings('ignore')\n",
    "\n",
    "from sklearn.linear_model import LinearRegression\n",
    "\n",
    "from sklearn.metrics import r2_score\n",
    "from sklearn.metrics import mean_squared_error"
   ]
  },
  {
   "cell_type": "code",
   "execution_count": 2,
   "metadata": {
    "scrolled": false
   },
   "outputs": [
    {
     "data": {
      "text/plain": [
       "(5000, 5)"
      ]
     },
     "metadata": {},
     "output_type": "display_data"
    },
    {
     "data": {
      "text/html": [
       "<div>\n",
       "<style scoped>\n",
       "    .dataframe tbody tr th:only-of-type {\n",
       "        vertical-align: middle;\n",
       "    }\n",
       "\n",
       "    .dataframe tbody tr th {\n",
       "        vertical-align: top;\n",
       "    }\n",
       "\n",
       "    .dataframe thead th {\n",
       "        text-align: right;\n",
       "    }\n",
       "</style>\n",
       "<table border=\"1\" class=\"dataframe\">\n",
       "  <thead>\n",
       "    <tr style=\"text-align: right;\">\n",
       "      <th></th>\n",
       "      <th>Пол</th>\n",
       "      <th>Возраст</th>\n",
       "      <th>Зарплата</th>\n",
       "      <th>Члены семьи</th>\n",
       "      <th>Страховые выплаты</th>\n",
       "    </tr>\n",
       "  </thead>\n",
       "  <tbody>\n",
       "    <tr>\n",
       "      <th>count</th>\n",
       "      <td>5000.000000</td>\n",
       "      <td>5000.000000</td>\n",
       "      <td>5000.000000</td>\n",
       "      <td>5000.000000</td>\n",
       "      <td>5000.000000</td>\n",
       "    </tr>\n",
       "    <tr>\n",
       "      <th>mean</th>\n",
       "      <td>0.499000</td>\n",
       "      <td>30.952800</td>\n",
       "      <td>39916.360000</td>\n",
       "      <td>1.194200</td>\n",
       "      <td>0.148000</td>\n",
       "    </tr>\n",
       "    <tr>\n",
       "      <th>std</th>\n",
       "      <td>0.500049</td>\n",
       "      <td>8.440807</td>\n",
       "      <td>9900.083569</td>\n",
       "      <td>1.091387</td>\n",
       "      <td>0.463183</td>\n",
       "    </tr>\n",
       "    <tr>\n",
       "      <th>min</th>\n",
       "      <td>0.000000</td>\n",
       "      <td>18.000000</td>\n",
       "      <td>5300.000000</td>\n",
       "      <td>0.000000</td>\n",
       "      <td>0.000000</td>\n",
       "    </tr>\n",
       "    <tr>\n",
       "      <th>25%</th>\n",
       "      <td>0.000000</td>\n",
       "      <td>24.000000</td>\n",
       "      <td>33300.000000</td>\n",
       "      <td>0.000000</td>\n",
       "      <td>0.000000</td>\n",
       "    </tr>\n",
       "    <tr>\n",
       "      <th>50%</th>\n",
       "      <td>0.000000</td>\n",
       "      <td>30.000000</td>\n",
       "      <td>40200.000000</td>\n",
       "      <td>1.000000</td>\n",
       "      <td>0.000000</td>\n",
       "    </tr>\n",
       "    <tr>\n",
       "      <th>75%</th>\n",
       "      <td>1.000000</td>\n",
       "      <td>37.000000</td>\n",
       "      <td>46600.000000</td>\n",
       "      <td>2.000000</td>\n",
       "      <td>0.000000</td>\n",
       "    </tr>\n",
       "    <tr>\n",
       "      <th>max</th>\n",
       "      <td>1.000000</td>\n",
       "      <td>65.000000</td>\n",
       "      <td>79000.000000</td>\n",
       "      <td>6.000000</td>\n",
       "      <td>5.000000</td>\n",
       "    </tr>\n",
       "  </tbody>\n",
       "</table>\n",
       "</div>"
      ],
      "text/plain": [
       "               Пол      Возраст      Зарплата  Члены семьи  Страховые выплаты\n",
       "count  5000.000000  5000.000000   5000.000000  5000.000000        5000.000000\n",
       "mean      0.499000    30.952800  39916.360000     1.194200           0.148000\n",
       "std       0.500049     8.440807   9900.083569     1.091387           0.463183\n",
       "min       0.000000    18.000000   5300.000000     0.000000           0.000000\n",
       "25%       0.000000    24.000000  33300.000000     0.000000           0.000000\n",
       "50%       0.000000    30.000000  40200.000000     1.000000           0.000000\n",
       "75%       1.000000    37.000000  46600.000000     2.000000           0.000000\n",
       "max       1.000000    65.000000  79000.000000     6.000000           5.000000"
      ]
     },
     "metadata": {},
     "output_type": "display_data"
    },
    {
     "name": "stdout",
     "output_type": "stream",
     "text": [
      "<class 'pandas.core.frame.DataFrame'>\n",
      "RangeIndex: 5000 entries, 0 to 4999\n",
      "Data columns (total 5 columns):\n",
      " #   Column             Non-Null Count  Dtype  \n",
      "---  ------             --------------  -----  \n",
      " 0   Пол                5000 non-null   int64  \n",
      " 1   Возраст            5000 non-null   float64\n",
      " 2   Зарплата           5000 non-null   float64\n",
      " 3   Члены семьи        5000 non-null   int64  \n",
      " 4   Страховые выплаты  5000 non-null   int64  \n",
      "dtypes: float64(2), int64(3)\n",
      "memory usage: 195.4 KB\n"
     ]
    },
    {
     "data": {
      "text/plain": [
       "None"
      ]
     },
     "metadata": {},
     "output_type": "display_data"
    },
    {
     "data": {
      "text/html": [
       "<div>\n",
       "<style scoped>\n",
       "    .dataframe tbody tr th:only-of-type {\n",
       "        vertical-align: middle;\n",
       "    }\n",
       "\n",
       "    .dataframe tbody tr th {\n",
       "        vertical-align: top;\n",
       "    }\n",
       "\n",
       "    .dataframe thead th {\n",
       "        text-align: right;\n",
       "    }\n",
       "</style>\n",
       "<table border=\"1\" class=\"dataframe\">\n",
       "  <thead>\n",
       "    <tr style=\"text-align: right;\">\n",
       "      <th></th>\n",
       "      <th>Пол</th>\n",
       "      <th>Возраст</th>\n",
       "      <th>Зарплата</th>\n",
       "      <th>Члены семьи</th>\n",
       "      <th>Страховые выплаты</th>\n",
       "    </tr>\n",
       "  </thead>\n",
       "  <tbody>\n",
       "    <tr>\n",
       "      <th>0</th>\n",
       "      <td>1</td>\n",
       "      <td>41.0</td>\n",
       "      <td>49600.0</td>\n",
       "      <td>1</td>\n",
       "      <td>0</td>\n",
       "    </tr>\n",
       "    <tr>\n",
       "      <th>1</th>\n",
       "      <td>0</td>\n",
       "      <td>46.0</td>\n",
       "      <td>38000.0</td>\n",
       "      <td>1</td>\n",
       "      <td>1</td>\n",
       "    </tr>\n",
       "    <tr>\n",
       "      <th>2</th>\n",
       "      <td>0</td>\n",
       "      <td>29.0</td>\n",
       "      <td>21000.0</td>\n",
       "      <td>0</td>\n",
       "      <td>0</td>\n",
       "    </tr>\n",
       "    <tr>\n",
       "      <th>3</th>\n",
       "      <td>0</td>\n",
       "      <td>21.0</td>\n",
       "      <td>41700.0</td>\n",
       "      <td>2</td>\n",
       "      <td>0</td>\n",
       "    </tr>\n",
       "    <tr>\n",
       "      <th>4</th>\n",
       "      <td>1</td>\n",
       "      <td>28.0</td>\n",
       "      <td>26100.0</td>\n",
       "      <td>0</td>\n",
       "      <td>0</td>\n",
       "    </tr>\n",
       "    <tr>\n",
       "      <th>5</th>\n",
       "      <td>1</td>\n",
       "      <td>43.0</td>\n",
       "      <td>41000.0</td>\n",
       "      <td>2</td>\n",
       "      <td>1</td>\n",
       "    </tr>\n",
       "    <tr>\n",
       "      <th>6</th>\n",
       "      <td>1</td>\n",
       "      <td>39.0</td>\n",
       "      <td>39700.0</td>\n",
       "      <td>2</td>\n",
       "      <td>0</td>\n",
       "    </tr>\n",
       "    <tr>\n",
       "      <th>7</th>\n",
       "      <td>1</td>\n",
       "      <td>25.0</td>\n",
       "      <td>38600.0</td>\n",
       "      <td>4</td>\n",
       "      <td>0</td>\n",
       "    </tr>\n",
       "    <tr>\n",
       "      <th>8</th>\n",
       "      <td>1</td>\n",
       "      <td>36.0</td>\n",
       "      <td>49700.0</td>\n",
       "      <td>1</td>\n",
       "      <td>0</td>\n",
       "    </tr>\n",
       "    <tr>\n",
       "      <th>9</th>\n",
       "      <td>1</td>\n",
       "      <td>32.0</td>\n",
       "      <td>51700.0</td>\n",
       "      <td>1</td>\n",
       "      <td>0</td>\n",
       "    </tr>\n",
       "  </tbody>\n",
       "</table>\n",
       "</div>"
      ],
      "text/plain": [
       "   Пол  Возраст  Зарплата  Члены семьи  Страховые выплаты\n",
       "0    1     41.0   49600.0            1                  0\n",
       "1    0     46.0   38000.0            1                  1\n",
       "2    0     29.0   21000.0            0                  0\n",
       "3    0     21.0   41700.0            2                  0\n",
       "4    1     28.0   26100.0            0                  0\n",
       "5    1     43.0   41000.0            2                  1\n",
       "6    1     39.0   39700.0            2                  0\n",
       "7    1     25.0   38600.0            4                  0\n",
       "8    1     36.0   49700.0            1                  0\n",
       "9    1     32.0   51700.0            1                  0"
      ]
     },
     "metadata": {},
     "output_type": "display_data"
    }
   ],
   "source": [
    "df = pd.read_csv('/datasets/insurance.csv')\n",
    "display(df.shape)\n",
    "display(df.describe())\n",
    "display(df.info())\n",
    "display(df.head(10))"
   ]
  },
  {
   "cell_type": "markdown",
   "metadata": {},
   "source": [
    "Это задача регрессии.\n",
    "\n",
    "Целевым признаком является столбец **Страховые выплаты**.\n",
    "\n",
    "Остальные признаки помогут предсказывать решение по столбцу **Страховые выплаты**."
   ]
  },
  {
   "cell_type": "markdown",
   "metadata": {},
   "source": [
    "Данные чистые - нулевых значений нет.  \n",
    "Пол представлен численными значениями.  \n",
    "возраст в целом можно перевести в integer."
   ]
  },
  {
   "cell_type": "code",
   "execution_count": 3,
   "metadata": {
    "scrolled": true
   },
   "outputs": [
    {
     "data": {
      "text/plain": [
       "0    4436\n",
       "1     423\n",
       "2     115\n",
       "3      18\n",
       "4       7\n",
       "5       1\n",
       "Name: Страховые выплаты, dtype: int64"
      ]
     },
     "execution_count": 3,
     "metadata": {},
     "output_type": "execute_result"
    }
   ],
   "source": [
    "df['Страховые выплаты'].value_counts()"
   ]
  },
  {
   "cell_type": "code",
   "execution_count": 4,
   "metadata": {
    "scrolled": false
   },
   "outputs": [
    {
     "data": {
      "text/plain": [
       "19.0    223\n",
       "25.0    214\n",
       "31.0    212\n",
       "26.0    211\n",
       "27.0    209\n",
       "22.0    209\n",
       "32.0    206\n",
       "28.0    204\n",
       "29.0    203\n",
       "30.0    202\n",
       "23.0    202\n",
       "21.0    200\n",
       "20.0    195\n",
       "36.0    193\n",
       "33.0    191\n",
       "24.0    182\n",
       "35.0    179\n",
       "34.0    177\n",
       "37.0    147\n",
       "39.0    141\n",
       "38.0    139\n",
       "41.0    129\n",
       "18.0    117\n",
       "40.0    114\n",
       "42.0     93\n",
       "43.0     77\n",
       "44.0     74\n",
       "45.0     73\n",
       "46.0     60\n",
       "47.0     47\n",
       "49.0     37\n",
       "50.0     27\n",
       "48.0     26\n",
       "52.0     22\n",
       "51.0     21\n",
       "53.0     11\n",
       "55.0      9\n",
       "54.0      7\n",
       "56.0      5\n",
       "59.0      3\n",
       "60.0      2\n",
       "58.0      2\n",
       "57.0      2\n",
       "65.0      1\n",
       "61.0      1\n",
       "62.0      1\n",
       "Name: Возраст, dtype: int64"
      ]
     },
     "execution_count": 4,
     "metadata": {},
     "output_type": "execute_result"
    }
   ],
   "source": [
    "df['Возраст'].value_counts()"
   ]
  },
  {
   "cell_type": "code",
   "execution_count": 5,
   "metadata": {},
   "outputs": [],
   "source": [
    "df['Возраст'] = df['Возраст'].astype('int64')"
   ]
  },
  {
   "cell_type": "code",
   "execution_count": 6,
   "metadata": {
    "scrolled": true
   },
   "outputs": [
    {
     "data": {
      "text/plain": [
       "Пол                    int64\n",
       "Возраст                int64\n",
       "Зарплата             float64\n",
       "Члены семьи            int64\n",
       "Страховые выплаты      int64\n",
       "dtype: object"
      ]
     },
     "execution_count": 6,
     "metadata": {},
     "output_type": "execute_result"
    }
   ],
   "source": [
    "df.dtypes"
   ]
  },
  {
   "cell_type": "markdown",
   "metadata": {},
   "source": [
    "На последок проверим дубликаты"
   ]
  },
  {
   "cell_type": "code",
   "execution_count": 7,
   "metadata": {},
   "outputs": [
    {
     "data": {
      "text/plain": [
       "153"
      ]
     },
     "execution_count": 7,
     "metadata": {},
     "output_type": "execute_result"
    }
   ],
   "source": [
    "df.duplicated().sum()"
   ]
  },
  {
   "cell_type": "code",
   "execution_count": 8,
   "metadata": {},
   "outputs": [],
   "source": [
    "df.drop_duplicates(inplace=True)"
   ]
  },
  {
   "cell_type": "code",
   "execution_count": 9,
   "metadata": {},
   "outputs": [
    {
     "data": {
      "text/plain": [
       "array([[<AxesSubplot:xlabel='Пол', ylabel='Пол'>,\n",
       "        <AxesSubplot:xlabel='Возраст', ylabel='Пол'>,\n",
       "        <AxesSubplot:xlabel='Зарплата', ylabel='Пол'>,\n",
       "        <AxesSubplot:xlabel='Члены семьи', ylabel='Пол'>,\n",
       "        <AxesSubplot:xlabel='Страховые выплаты', ylabel='Пол'>],\n",
       "       [<AxesSubplot:xlabel='Пол', ylabel='Возраст'>,\n",
       "        <AxesSubplot:xlabel='Возраст', ylabel='Возраст'>,\n",
       "        <AxesSubplot:xlabel='Зарплата', ylabel='Возраст'>,\n",
       "        <AxesSubplot:xlabel='Члены семьи', ylabel='Возраст'>,\n",
       "        <AxesSubplot:xlabel='Страховые выплаты', ylabel='Возраст'>],\n",
       "       [<AxesSubplot:xlabel='Пол', ylabel='Зарплата'>,\n",
       "        <AxesSubplot:xlabel='Возраст', ylabel='Зарплата'>,\n",
       "        <AxesSubplot:xlabel='Зарплата', ylabel='Зарплата'>,\n",
       "        <AxesSubplot:xlabel='Члены семьи', ylabel='Зарплата'>,\n",
       "        <AxesSubplot:xlabel='Страховые выплаты', ylabel='Зарплата'>],\n",
       "       [<AxesSubplot:xlabel='Пол', ylabel='Члены семьи'>,\n",
       "        <AxesSubplot:xlabel='Возраст', ylabel='Члены семьи'>,\n",
       "        <AxesSubplot:xlabel='Зарплата', ylabel='Члены семьи'>,\n",
       "        <AxesSubplot:xlabel='Члены семьи', ylabel='Члены семьи'>,\n",
       "        <AxesSubplot:xlabel='Страховые выплаты', ylabel='Члены семьи'>],\n",
       "       [<AxesSubplot:xlabel='Пол', ylabel='Страховые выплаты'>,\n",
       "        <AxesSubplot:xlabel='Возраст', ylabel='Страховые выплаты'>,\n",
       "        <AxesSubplot:xlabel='Зарплата', ylabel='Страховые выплаты'>,\n",
       "        <AxesSubplot:xlabel='Члены семьи', ylabel='Страховые выплаты'>,\n",
       "        <AxesSubplot:xlabel='Страховые выплаты', ylabel='Страховые выплаты'>]],\n",
       "      dtype=object)"
      ]
     },
     "execution_count": 9,
     "metadata": {},
     "output_type": "execute_result"
    },
    {
     "data": {
      "image/png": "[encoded data removed]",
      "text/plain": [
       "<Figure size 648x648 with 25 Axes>"
      ]
     },
     "metadata": {
      "needs_background": "light"
     },
     "output_type": "display_data"
    }
   ],
   "source": [
    "pd.plotting.scatter_matrix(df, figsize=(9, 9))"
   ]
  },
  {
   "cell_type": "code",
   "execution_count": 10,
   "metadata": {
    "scrolled": true
   },
   "outputs": [
    {
     "data": {
      "text/html": [
       "<div>\n",
       "<style scoped>\n",
       "    .dataframe tbody tr th:only-of-type {\n",
       "        vertical-align: middle;\n",
       "    }\n",
       "\n",
       "    .dataframe tbody tr th {\n",
       "        vertical-align: top;\n",
       "    }\n",
       "\n",
       "    .dataframe thead th {\n",
       "        text-align: right;\n",
       "    }\n",
       "</style>\n",
       "<table border=\"1\" class=\"dataframe\">\n",
       "  <thead>\n",
       "    <tr style=\"text-align: right;\">\n",
       "      <th></th>\n",
       "      <th>Пол</th>\n",
       "      <th>Возраст</th>\n",
       "      <th>Зарплата</th>\n",
       "      <th>Члены семьи</th>\n",
       "      <th>Страховые выплаты</th>\n",
       "    </tr>\n",
       "  </thead>\n",
       "  <tbody>\n",
       "    <tr>\n",
       "      <th>Пол</th>\n",
       "      <td>1.000000</td>\n",
       "      <td>0.001953</td>\n",
       "      <td>0.015456</td>\n",
       "      <td>-0.007315</td>\n",
       "      <td>0.011565</td>\n",
       "    </tr>\n",
       "    <tr>\n",
       "      <th>Возраст</th>\n",
       "      <td>0.001953</td>\n",
       "      <td>1.000000</td>\n",
       "      <td>-0.017386</td>\n",
       "      <td>-0.009064</td>\n",
       "      <td>0.654964</td>\n",
       "    </tr>\n",
       "    <tr>\n",
       "      <th>Зарплата</th>\n",
       "      <td>0.015456</td>\n",
       "      <td>-0.017386</td>\n",
       "      <td>1.000000</td>\n",
       "      <td>-0.031687</td>\n",
       "      <td>-0.013123</td>\n",
       "    </tr>\n",
       "    <tr>\n",
       "      <th>Члены семьи</th>\n",
       "      <td>-0.007315</td>\n",
       "      <td>-0.009064</td>\n",
       "      <td>-0.031687</td>\n",
       "      <td>1.000000</td>\n",
       "      <td>-0.039303</td>\n",
       "    </tr>\n",
       "    <tr>\n",
       "      <th>Страховые выплаты</th>\n",
       "      <td>0.011565</td>\n",
       "      <td>0.654964</td>\n",
       "      <td>-0.013123</td>\n",
       "      <td>-0.039303</td>\n",
       "      <td>1.000000</td>\n",
       "    </tr>\n",
       "  </tbody>\n",
       "</table>\n",
       "</div>"
      ],
      "text/plain": [
       "                        Пол   Возраст  Зарплата  Члены семьи  \\\n",
       "Пол                1.000000  0.001953  0.015456    -0.007315   \n",
       "Возраст            0.001953  1.000000 -0.017386    -0.009064   \n",
       "Зарплата           0.015456 -0.017386  1.000000    -0.031687   \n",
       "Члены семьи       -0.007315 -0.009064 -0.031687     1.000000   \n",
       "Страховые выплаты  0.011565  0.654964 -0.013123    -0.039303   \n",
       "\n",
       "                   Страховые выплаты  \n",
       "Пол                         0.011565  \n",
       "Возраст                     0.654964  \n",
       "Зарплата                   -0.013123  \n",
       "Члены семьи                -0.039303  \n",
       "Страховые выплаты           1.000000  "
      ]
     },
     "execution_count": 10,
     "metadata": {},
     "output_type": "execute_result"
    }
   ],
   "source": [
    "df.corr()"
   ]
  },
  {
   "cell_type": "markdown",
   "metadata": {},
   "source": [
    "По графику и таблице корреляций видна взаимосвязь между возрастом и страховыми выплатами, остальные особо не коррелируются, либо если и есть связь, то нелинейная."
   ]
  },
  {
   "cell_type": "markdown",
   "metadata": {},
   "source": [
    "\n",
    "\n",
    "<div class=\"alert alert-success\" style=\"border-color: green; border-radius: 5px\">\n",
    "Еще можно использовать функцию pairplot из библиотеки seaborn - то же самое, но добавит эстетики  👌\n",
    "    \n",
    "https://seaborn.pydata.org/generated/seaborn.pairplot.html\n",
    "</div>"
   ]
  },
  {
   "cell_type": "markdown",
   "metadata": {},
   "source": [
    "## Умножение матриц"
   ]
  },
  {
   "cell_type": "markdown",
   "metadata": {},
   "source": [
    "Обозначения:\n",
    "\n",
    "- $X$ — матрица признаков (нулевой столбец состоит из единиц)\n",
    "\n",
    "- $y$ — вектор целевого признака\n",
    "\n",
    "- $P$ — матрица, на которую умножаются признаки\n",
    "\n",
    "- $w$ — вектор весов линейной регрессии (нулевой элемент равен сдвигу)"
   ]
  },
  {
   "cell_type": "markdown",
   "metadata": {},
   "source": [
    "Предсказания:\n",
    "\n",
    "$$\n",
    "a = Xw\n",
    "$$\n",
    "\n",
    "Задача обучения:\n",
    "\n",
    "$$\n",
    "w = \\arg\\min_w MSE(Xw, y)\n",
    "$$\n",
    "\n",
    "Формула обучения:\n",
    "\n",
    "$$\n",
    "w = (X^T X)^{-1} X^T y\n",
    "$$"
   ]
  },
  {
   "cell_type": "markdown",
   "metadata": {},
   "source": [
    "**Ответ:** При умножении на обратимую матрицу, качество линейной регресии не изменится.\n",
    "\n",
    "**Обоснование:** "
   ]
  },
  {
   "cell_type": "markdown",
   "metadata": {},
   "source": [
    "Представим новую матрицу признаков $X1$  как произведение старой $X$ на матрицу $P$ (обратимую):"
   ]
  },
  {
   "cell_type": "markdown",
   "metadata": {},
   "source": [
    "$$X1 = X*P$$"
   ]
  },
  {
   "cell_type": "markdown",
   "metadata": {},
   "source": [
    "Подставим новое значение $X1$ в формулу $w1$ :"
   ]
  },
  {
   "cell_type": "markdown",
   "metadata": {},
   "source": [
    "$$w1 = ((XP)^T XP)^{-1} XP^T y$$"
   ]
  },
  {
   "cell_type": "markdown",
   "metadata": {},
   "source": [
    "Раскроем произведение $(XP)^T$:"
   ]
  },
  {
   "cell_type": "markdown",
   "metadata": {},
   "source": [
    "$$w1 = (P^T X^T XP)^{-1} P^T X^T y$$"
   ]
  },
  {
   "cell_type": "markdown",
   "metadata": {},
   "source": [
    "Имея ввиду $ X^T X$ как единый множитель, раскроем скобки:"
   ]
  },
  {
   "cell_type": "markdown",
   "metadata": {},
   "source": [
    "$$w1 = P^{-1}(X^T X)^{-1}(P^T)^{-1}P^T X^T y $$"
   ]
  },
  {
   "cell_type": "markdown",
   "metadata": {},
   "source": [
    "Так как по условию $P$ является обратимой, то произведение $(P^T)^{-1}P^T$ равно $E$ (единичная матрица):"
   ]
  },
  {
   "cell_type": "markdown",
   "metadata": {},
   "source": [
    "$$w1 = P^{-1}(X^T X)^{-1}E X^T y $$"
   ]
  },
  {
   "cell_type": "markdown",
   "metadata": {},
   "source": [
    "Помня чему равняется $w$ уравнение можно привести к виду:"
   ]
  },
  {
   "cell_type": "markdown",
   "metadata": {},
   "source": [
    "$$w1 = P^{-1}w $$"
   ]
  },
  {
   "cell_type": "markdown",
   "metadata": {},
   "source": [
    "Подставим новое значение весов $𝑤1$ в формулу для предсказаний линейной регрессии."
   ]
  },
  {
   "cell_type": "markdown",
   "metadata": {},
   "source": [
    "$$a1 = XP w1 = XP P^{-1}w$$"
   ]
  },
  {
   "cell_type": "markdown",
   "metadata": {},
   "source": [
    "$PP^{-1} = E$ единичной матрице, поэтому:"
   ]
  },
  {
   "cell_type": "markdown",
   "metadata": {},
   "source": [
    "$$a1 = XEw = Xw =a$$"
   ]
  },
  {
   "cell_type": "markdown",
   "metadata": {},
   "source": [
    "Мы доказали, что предсказания для матрицы признаков, умноженной на обратимую матрицу равны исходным предсказаниям. Следовательно, при умножении признаков на обратимую матрицу - качество линейной регрессии не изменится. В данном случае, параметры линейной регрессии в исходной задаче и в преобразованной связаны следующим образом:"
   ]
  },
  {
   "cell_type": "markdown",
   "metadata": {},
   "source": [
    "$$w1 = P^{-1}w $$"
   ]
  },
  {
   "cell_type": "markdown",
   "metadata": {},
   "source": [
    "## Алгоритм преобразования"
   ]
  },
  {
   "cell_type": "markdown",
   "metadata": {},
   "source": [
    "**Алгоритм**"
   ]
  },
  {
   "cell_type": "markdown",
   "metadata": {},
   "source": [
    "* Возьмем рандомную матрицу\n",
    "* проверим ее на обратимость\n",
    "* зафиксируем ее random seed, чтобы она не менялась\n",
    "* умножим ее на признаки\n",
    "* Найдем метрики обученной модели на исходных признаках и на признаках умноженных на нашу матрицу (r2_score)\n",
    "* Сравнить метрики между собой"
   ]
  },
  {
   "cell_type": "markdown",
   "metadata": {},
   "source": [
    "**Обоснование**"
   ]
  },
  {
   "cell_type": "markdown",
   "metadata": {},
   "source": [
    "Новая рандомная матрица должна иметь необходимую размерность n*n, где n - количество признаков для регрессии.  \n",
    "Матрица является обратимой (т.е. имеет обратную матрицу) только для квадратных матриц."
   ]
  },
  {
   "cell_type": "markdown",
   "metadata": {},
   "source": [
    "## Проверка алгоритма"
   ]
  },
  {
   "cell_type": "code",
   "execution_count": 11,
   "metadata": {},
   "outputs": [],
   "source": [
    "features = df.drop('Страховые выплаты', axis=1)\n",
    "target = df['Страховые выплаты']"
   ]
  },
  {
   "cell_type": "code",
   "execution_count": 12,
   "metadata": {},
   "outputs": [
    {
     "data": {
      "text/plain": [
       "(4847, 4)"
      ]
     },
     "execution_count": 12,
     "metadata": {},
     "output_type": "execute_result"
    }
   ],
   "source": [
    "features.shape #значит ширина =4 и длина у новой матрицы должна быть = 4"
   ]
  },
  {
   "cell_type": "code",
   "execution_count": 13,
   "metadata": {},
   "outputs": [],
   "source": [
    "np.random.seed(12345)\n",
    "n = features.shape[1]\n",
    "matrix = np.random.normal(size = (n,n)) #обратимая д.б. квадратной"
   ]
  },
  {
   "cell_type": "code",
   "execution_count": 14,
   "metadata": {},
   "outputs": [
    {
     "data": {
      "text/plain": [
       "array([[-1.31136747,  0.3921804 ,  0.18868055, -0.67088287],\n",
       "       [ 1.75872714,  0.14106138, -0.17773045,  0.79787127],\n",
       "       [-0.41702659, -0.22854768,  0.3550602 ,  0.33039819],\n",
       "       [ 0.58912996,  0.19073027, -0.5545481 ,  0.6259302 ]])"
      ]
     },
     "execution_count": 14,
     "metadata": {},
     "output_type": "execute_result"
    }
   ],
   "source": [
    "np.linalg.inv(matrix)"
   ]
  },
  {
   "cell_type": "markdown",
   "metadata": {},
   "source": [
    "<div class=\"alert alert-warning\" style=\"border-color: orange; border-radius: 5px\">\n",
    "    \n",
    "Для реализации проверки можно также использовать конструкции try-except или if-else. С их помощью также реализовать создание до тех пор, пока не получится нужная нам обратная матрица.\n",
    "    \n",
    "Проверить матрицу на обратимость:  \n",
    "    \n",
    "    * проверить умножение матрицы на обратную, чтобы получилась единичная матрица\n",
    "    * чтобы определитель был не равен 0\n",
    "</div>"
   ]
  },
  {
   "cell_type": "markdown",
   "metadata": {},
   "source": [
    "Обратная существует, значит она обратимая"
   ]
  },
  {
   "cell_type": "markdown",
   "metadata": {},
   "source": [
    "***"
   ]
  },
  {
   "cell_type": "code",
   "execution_count": 15,
   "metadata": {},
   "outputs": [
    {
     "name": "stdout",
     "output_type": "stream",
     "text": [
      "MSE на исходных признаках: 0.12527263826681606\n",
      "R2 на исходных признаках: 0.4302010044852066\n"
     ]
    }
   ],
   "source": [
    "model = LinearRegression()\n",
    "model.fit(features, target)\n",
    "predictions1 = model.predict(features)\n",
    "r2_score1 = r2_score(target, predictions1)\n",
    "mse1 = mean_squared_error(target, predictions1)\n",
    "print('MSE на исходных признаках:', mse1)\n",
    "print('R2 на исходных признаках:', r2_score1)"
   ]
  },
  {
   "cell_type": "code",
   "execution_count": 16,
   "metadata": {},
   "outputs": [],
   "source": [
    "features_new = features.dot(matrix)"
   ]
  },
  {
   "cell_type": "code",
   "execution_count": 17,
   "metadata": {},
   "outputs": [
    {
     "name": "stdout",
     "output_type": "stream",
     "text": [
      "MSE на новых признаках: 0.12527263826681606\n",
      "R2 на новых признаках: 0.43020100448521015\n"
     ]
    }
   ],
   "source": [
    "#model = LinearRegression()\n",
    "model.fit(features_new, target)\n",
    "predictions2 = model.predict(features_new)\n",
    "r2_score2 = r2_score(target, predictions2)\n",
    "mse2 = mean_squared_error(target, predictions2)\n",
    "print('MSE на новых признаках:', mse1)\n",
    "print('R2 на новых признаках:', r2_score2)"
   ]
  },
  {
   "cell_type": "code",
   "execution_count": 18,
   "metadata": {},
   "outputs": [
    {
     "data": {
      "text/plain": [
       "-3.552713678800501e-15"
      ]
     },
     "execution_count": 18,
     "metadata": {},
     "output_type": "execute_result"
    }
   ],
   "source": [
    "r2_score1 - r2_score2\n",
    "# так мы можем оценить порядок ошибки, а значит и качество модели."
   ]
  },
  {
   "cell_type": "markdown",
   "metadata": {},
   "source": [
    "Качество линейной регрессии практически не изменилось, поэтому можно сказать, что алгоритм преобразования данных работает правильно."
   ]
  },
  {
   "cell_type": "code",
   "execution_count": 19,
   "metadata": {},
   "outputs": [
    {
     "data": {
      "text/html": [
       "<div>\n",
       "<style scoped>\n",
       "    .dataframe tbody tr th:only-of-type {\n",
       "        vertical-align: middle;\n",
       "    }\n",
       "\n",
       "    .dataframe tbody tr th {\n",
       "        vertical-align: top;\n",
       "    }\n",
       "\n",
       "    .dataframe thead th {\n",
       "        text-align: right;\n",
       "    }\n",
       "</style>\n",
       "<table border=\"1\" class=\"dataframe\">\n",
       "  <thead>\n",
       "    <tr style=\"text-align: right;\">\n",
       "      <th></th>\n",
       "      <th>Пол</th>\n",
       "      <th>Возраст</th>\n",
       "      <th>Зарплата</th>\n",
       "      <th>Члены семьи</th>\n",
       "    </tr>\n",
       "  </thead>\n",
       "  <tbody>\n",
       "    <tr>\n",
       "      <th>0</th>\n",
       "      <td>1</td>\n",
       "      <td>41</td>\n",
       "      <td>49600.0</td>\n",
       "      <td>1</td>\n",
       "    </tr>\n",
       "    <tr>\n",
       "      <th>1</th>\n",
       "      <td>0</td>\n",
       "      <td>46</td>\n",
       "      <td>38000.0</td>\n",
       "      <td>1</td>\n",
       "    </tr>\n",
       "    <tr>\n",
       "      <th>2</th>\n",
       "      <td>0</td>\n",
       "      <td>29</td>\n",
       "      <td>21000.0</td>\n",
       "      <td>0</td>\n",
       "    </tr>\n",
       "    <tr>\n",
       "      <th>3</th>\n",
       "      <td>0</td>\n",
       "      <td>21</td>\n",
       "      <td>41700.0</td>\n",
       "      <td>2</td>\n",
       "    </tr>\n",
       "    <tr>\n",
       "      <th>4</th>\n",
       "      <td>1</td>\n",
       "      <td>28</td>\n",
       "      <td>26100.0</td>\n",
       "      <td>0</td>\n",
       "    </tr>\n",
       "    <tr>\n",
       "      <th>5</th>\n",
       "      <td>1</td>\n",
       "      <td>43</td>\n",
       "      <td>41000.0</td>\n",
       "      <td>2</td>\n",
       "    </tr>\n",
       "    <tr>\n",
       "      <th>6</th>\n",
       "      <td>1</td>\n",
       "      <td>39</td>\n",
       "      <td>39700.0</td>\n",
       "      <td>2</td>\n",
       "    </tr>\n",
       "    <tr>\n",
       "      <th>7</th>\n",
       "      <td>1</td>\n",
       "      <td>25</td>\n",
       "      <td>38600.0</td>\n",
       "      <td>4</td>\n",
       "    </tr>\n",
       "    <tr>\n",
       "      <th>8</th>\n",
       "      <td>1</td>\n",
       "      <td>36</td>\n",
       "      <td>49700.0</td>\n",
       "      <td>1</td>\n",
       "    </tr>\n",
       "    <tr>\n",
       "      <th>9</th>\n",
       "      <td>1</td>\n",
       "      <td>32</td>\n",
       "      <td>51700.0</td>\n",
       "      <td>1</td>\n",
       "    </tr>\n",
       "  </tbody>\n",
       "</table>\n",
       "</div>"
      ],
      "text/plain": [
       "   Пол  Возраст  Зарплата  Члены семьи\n",
       "0    1       41   49600.0            1\n",
       "1    0       46   38000.0            1\n",
       "2    0       29   21000.0            0\n",
       "3    0       21   41700.0            2\n",
       "4    1       28   26100.0            0\n",
       "5    1       43   41000.0            2\n",
       "6    1       39   39700.0            2\n",
       "7    1       25   38600.0            4\n",
       "8    1       36   49700.0            1\n",
       "9    1       32   51700.0            1"
      ]
     },
     "execution_count": 19,
     "metadata": {},
     "output_type": "execute_result"
    }
   ],
   "source": [
    "features.head(10)\n",
    "# данные ДО"
   ]
  },
  {
   "cell_type": "code",
   "execution_count": 20,
   "metadata": {},
   "outputs": [
    {
     "data": {
      "text/html": [
       "<div>\n",
       "<style scoped>\n",
       "    .dataframe tbody tr th:only-of-type {\n",
       "        vertical-align: middle;\n",
       "    }\n",
       "\n",
       "    .dataframe tbody tr th {\n",
       "        vertical-align: top;\n",
       "    }\n",
       "\n",
       "    .dataframe thead th {\n",
       "        text-align: right;\n",
       "    }\n",
       "</style>\n",
       "<table border=\"1\" class=\"dataframe\">\n",
       "  <thead>\n",
       "    <tr style=\"text-align: right;\">\n",
       "      <th></th>\n",
       "      <th>0</th>\n",
       "      <th>1</th>\n",
       "      <th>2</th>\n",
       "      <th>3</th>\n",
       "    </tr>\n",
       "  </thead>\n",
       "  <tbody>\n",
       "    <tr>\n",
       "      <th>0</th>\n",
       "      <td>38224.186641</td>\n",
       "      <td>61881.000420</td>\n",
       "      <td>49961.234837</td>\n",
       "      <td>-64280.684721</td>\n",
       "    </tr>\n",
       "    <tr>\n",
       "      <th>1</th>\n",
       "      <td>29313.558467</td>\n",
       "      <td>47428.845564</td>\n",
       "      <td>38278.822267</td>\n",
       "      <td>-49242.555394</td>\n",
       "    </tr>\n",
       "    <tr>\n",
       "      <th>2</th>\n",
       "      <td>16206.481556</td>\n",
       "      <td>26215.538233</td>\n",
       "      <td>21153.670838</td>\n",
       "      <td>-27212.472653</td>\n",
       "    </tr>\n",
       "    <tr>\n",
       "      <th>3</th>\n",
       "      <td>32110.072445</td>\n",
       "      <td>52006.047856</td>\n",
       "      <td>42004.453110</td>\n",
       "      <td>-54044.730722</td>\n",
       "    </tr>\n",
       "    <tr>\n",
       "      <th>4</th>\n",
       "      <td>20126.326163</td>\n",
       "      <td>32571.440926</td>\n",
       "      <td>26289.724215</td>\n",
       "      <td>-33824.037786</td>\n",
       "    </tr>\n",
       "    <tr>\n",
       "      <th>5</th>\n",
       "      <td>31614.799112</td>\n",
       "      <td>51164.677412</td>\n",
       "      <td>41300.945095</td>\n",
       "      <td>-53131.733261</td>\n",
       "    </tr>\n",
       "    <tr>\n",
       "      <th>6</th>\n",
       "      <td>30607.206652</td>\n",
       "      <td>49538.738631</td>\n",
       "      <td>39991.227298</td>\n",
       "      <td>-51447.772803</td>\n",
       "    </tr>\n",
       "    <tr>\n",
       "      <th>7</th>\n",
       "      <td>29734.310883</td>\n",
       "      <td>48148.610565</td>\n",
       "      <td>38884.724128</td>\n",
       "      <td>-50024.101171</td>\n",
       "    </tr>\n",
       "    <tr>\n",
       "      <th>8</th>\n",
       "      <td>38291.259995</td>\n",
       "      <td>61998.676865</td>\n",
       "      <td>50061.489234</td>\n",
       "      <td>-64411.715562</td>\n",
       "    </tr>\n",
       "    <tr>\n",
       "      <th>9</th>\n",
       "      <td>39821.442008</td>\n",
       "      <td>64485.972714</td>\n",
       "      <td>52075.496317</td>\n",
       "      <td>-67005.284765</td>\n",
       "    </tr>\n",
       "  </tbody>\n",
       "</table>\n",
       "</div>"
      ],
      "text/plain": [
       "              0             1             2             3\n",
       "0  38224.186641  61881.000420  49961.234837 -64280.684721\n",
       "1  29313.558467  47428.845564  38278.822267 -49242.555394\n",
       "2  16206.481556  26215.538233  21153.670838 -27212.472653\n",
       "3  32110.072445  52006.047856  42004.453110 -54044.730722\n",
       "4  20126.326163  32571.440926  26289.724215 -33824.037786\n",
       "5  31614.799112  51164.677412  41300.945095 -53131.733261\n",
       "6  30607.206652  49538.738631  39991.227298 -51447.772803\n",
       "7  29734.310883  48148.610565  38884.724128 -50024.101171\n",
       "8  38291.259995  61998.676865  50061.489234 -64411.715562\n",
       "9  39821.442008  64485.972714  52075.496317 -67005.284765"
      ]
     },
     "execution_count": 20,
     "metadata": {},
     "output_type": "execute_result"
    }
   ],
   "source": [
    "features_new.head(10)\n",
    "# данные ПОСЛЕ"
   ]
  },
  {
   "cell_type": "markdown",
   "metadata": {},
   "source": [
    "## Чек-лист проверки"
   ]
  },
  {
   "cell_type": "markdown",
   "metadata": {},
   "source": [
    "Поставьте 'x' в выполненных пунктах. Далее нажмите Shift+Enter."
   ]
  },
  {
   "cell_type": "markdown",
   "metadata": {},
   "source": [
    "- [x]  Jupyter Notebook открыт\n",
    "- [x]  Весь код выполняется без ошибок\n",
    "- [x]  Ячейки с кодом расположены в порядке исполнения\n",
    "- [x]  Выполнен шаг 1: данные загружены\n",
    "- [x]  Выполнен шаг 2: получен ответ на вопрос об умножении матриц\n",
    "    - [x]  Указан правильный вариант ответа\n",
    "    - [x]  Вариант обоснован\n",
    "- [x]  Выполнен шаг 3: предложен алгоритм преобразования\n",
    "    - [x]  Алгоритм описан\n",
    "    - [x]  Алгоритм обоснован\n",
    "- [x]  Выполнен шаг 4: алгоритм проверен\n",
    "    - [x]  Алгоритм реализован\n",
    "    - [x]  Проведено сравнение качества моделей до и после преобразования"
   ]
  }
 ],
 "metadata": {
  "ExecuteTimeLog": [
   {
    "duration": 463,
    "start_time": "2022-07-18T20:25:51.377Z"
   },
   {
    "duration": 111,
    "start_time": "2022-07-18T20:25:51.842Z"
   },
   {
    "duration": 21,
    "start_time": "2022-07-18T20:25:52.291Z"
   },
   {
    "duration": 1051,
    "start_time": "2022-07-21T18:39:23.943Z"
   },
   {
    "duration": 94,
    "start_time": "2022-07-21T18:39:50.382Z"
   },
   {
    "duration": 60,
    "start_time": "2022-07-21T18:51:48.681Z"
   },
   {
    "duration": 6,
    "start_time": "2022-07-21T19:06:43.560Z"
   },
   {
    "duration": 4,
    "start_time": "2022-07-21T19:59:13.650Z"
   },
   {
    "duration": 5,
    "start_time": "2022-07-21T19:59:21.898Z"
   },
   {
    "duration": 7,
    "start_time": "2022-07-21T19:59:30.860Z"
   },
   {
    "duration": 495,
    "start_time": "2022-07-21T20:01:08.142Z"
   },
   {
    "duration": 5,
    "start_time": "2022-07-21T20:01:39.344Z"
   },
   {
    "duration": 7,
    "start_time": "2022-07-21T20:04:04.613Z"
   },
   {
    "duration": 910,
    "start_time": "2022-07-21T20:04:17.734Z"
   },
   {
    "duration": 4,
    "start_time": "2022-07-21T20:04:30.779Z"
   },
   {
    "duration": 12,
    "start_time": "2022-07-21T20:04:48.373Z"
   },
   {
    "duration": 10,
    "start_time": "2022-07-21T20:04:51.724Z"
   },
   {
    "duration": 10,
    "start_time": "2022-07-21T20:05:01.575Z"
   },
   {
    "duration": 10,
    "start_time": "2022-07-21T20:05:05.964Z"
   },
   {
    "duration": 10,
    "start_time": "2022-07-21T20:05:31.768Z"
   },
   {
    "duration": 10,
    "start_time": "2022-07-21T20:05:42.339Z"
   },
   {
    "duration": 5,
    "start_time": "2022-07-21T20:06:11.405Z"
   },
   {
    "duration": 12,
    "start_time": "2022-07-21T20:11:20.016Z"
   },
   {
    "duration": 137,
    "start_time": "2022-07-21T20:11:31.011Z"
   },
   {
    "duration": 4,
    "start_time": "2022-07-21T20:11:39.439Z"
   },
   {
    "duration": 10,
    "start_time": "2022-07-21T20:11:45.254Z"
   },
   {
    "duration": 9,
    "start_time": "2022-07-21T20:16:07.048Z"
   },
   {
    "duration": 288,
    "start_time": "2022-07-21T20:16:10.961Z"
   },
   {
    "duration": 210,
    "start_time": "2022-07-21T20:19:19.059Z"
   },
   {
    "duration": 3,
    "start_time": "2022-07-21T20:19:25.808Z"
   },
   {
    "duration": 4,
    "start_time": "2022-07-21T20:21:28.028Z"
   },
   {
    "duration": 4,
    "start_time": "2022-07-21T20:21:37.708Z"
   },
   {
    "duration": 9,
    "start_time": "2022-07-21T20:24:25.022Z"
   },
   {
    "duration": 75,
    "start_time": "2022-07-21T20:24:33.517Z"
   },
   {
    "duration": 3,
    "start_time": "2022-07-21T20:30:10.724Z"
   },
   {
    "duration": 61,
    "start_time": "2022-07-21T20:30:11.550Z"
   },
   {
    "duration": 3,
    "start_time": "2022-07-21T20:31:03.781Z"
   },
   {
    "duration": 205,
    "start_time": "2022-07-21T20:31:04.313Z"
   },
   {
    "duration": 4,
    "start_time": "2022-07-21T20:31:19.839Z"
   },
   {
    "duration": 80,
    "start_time": "2022-07-21T20:31:21.031Z"
   },
   {
    "duration": 7,
    "start_time": "2022-07-21T20:40:50.590Z"
   },
   {
    "duration": 6,
    "start_time": "2022-07-21T20:41:15.020Z"
   },
   {
    "duration": 4,
    "start_time": "2022-07-21T21:16:35.196Z"
   },
   {
    "duration": 9,
    "start_time": "2022-07-21T21:16:43.180Z"
   },
   {
    "duration": 5,
    "start_time": "2022-07-21T21:17:38.818Z"
   },
   {
    "duration": 9,
    "start_time": "2022-07-21T21:17:40.911Z"
   },
   {
    "duration": 6,
    "start_time": "2022-07-21T21:18:54.646Z"
   },
   {
    "duration": 4,
    "start_time": "2022-07-21T21:20:31.806Z"
   },
   {
    "duration": 3,
    "start_time": "2022-07-21T21:20:44.105Z"
   },
   {
    "duration": 118,
    "start_time": "2022-07-21T21:20:44.836Z"
   },
   {
    "duration": 3,
    "start_time": "2022-07-21T21:22:29.980Z"
   },
   {
    "duration": 6,
    "start_time": "2022-07-21T21:22:30.360Z"
   },
   {
    "duration": 8,
    "start_time": "2022-07-21T21:24:43.726Z"
   },
   {
    "duration": 4,
    "start_time": "2022-07-21T21:26:25.085Z"
   },
   {
    "duration": 12,
    "start_time": "2022-07-21T21:26:25.790Z"
   },
   {
    "duration": 8,
    "start_time": "2022-07-21T21:27:32.290Z"
   },
   {
    "duration": 4,
    "start_time": "2022-07-21T21:27:32.794Z"
   },
   {
    "duration": 9,
    "start_time": "2022-07-21T21:27:33.290Z"
   },
   {
    "duration": 7,
    "start_time": "2022-07-21T21:27:58.230Z"
   },
   {
    "duration": 4,
    "start_time": "2022-07-21T21:28:20.360Z"
   },
   {
    "duration": 5,
    "start_time": "2022-07-21T21:38:27.955Z"
   },
   {
    "duration": 4,
    "start_time": "2022-07-21T21:38:50.373Z"
   },
   {
    "duration": 12,
    "start_time": "2022-07-21T21:38:53.205Z"
   },
   {
    "duration": 3,
    "start_time": "2022-07-21T21:39:06.362Z"
   },
   {
    "duration": 4,
    "start_time": "2022-07-21T21:40:43.503Z"
   },
   {
    "duration": 1049,
    "start_time": "2022-07-21T21:44:57.093Z"
   },
   {
    "duration": 70,
    "start_time": "2022-07-21T21:44:58.144Z"
   },
   {
    "duration": 5,
    "start_time": "2022-07-21T21:44:58.216Z"
   },
   {
    "duration": 14,
    "start_time": "2022-07-21T21:44:58.223Z"
   },
   {
    "duration": 24,
    "start_time": "2022-07-21T21:44:58.238Z"
   },
   {
    "duration": 13,
    "start_time": "2022-07-21T21:44:58.264Z"
   },
   {
    "duration": 13,
    "start_time": "2022-07-21T21:44:58.279Z"
   },
   {
    "duration": 7,
    "start_time": "2022-07-21T21:44:58.293Z"
   },
   {
    "duration": 4,
    "start_time": "2022-07-21T21:44:58.302Z"
   },
   {
    "duration": 5,
    "start_time": "2022-07-21T21:44:58.309Z"
   },
   {
    "duration": 5,
    "start_time": "2022-07-21T21:44:58.316Z"
   },
   {
    "duration": 31,
    "start_time": "2022-07-21T21:44:58.323Z"
   },
   {
    "duration": 218,
    "start_time": "2022-07-21T21:44:58.357Z"
   },
   {
    "duration": 0,
    "start_time": "2022-07-21T21:44:58.577Z"
   },
   {
    "duration": 0,
    "start_time": "2022-07-21T21:44:58.578Z"
   },
   {
    "duration": 0,
    "start_time": "2022-07-21T21:44:58.580Z"
   },
   {
    "duration": 1077,
    "start_time": "2022-07-21T21:45:43.004Z"
   },
   {
    "duration": 78,
    "start_time": "2022-07-21T21:45:44.083Z"
   },
   {
    "duration": 7,
    "start_time": "2022-07-21T21:45:44.164Z"
   },
   {
    "duration": 6,
    "start_time": "2022-07-21T21:45:44.173Z"
   },
   {
    "duration": 5,
    "start_time": "2022-07-21T21:45:44.181Z"
   },
   {
    "duration": 20,
    "start_time": "2022-07-21T21:45:44.187Z"
   },
   {
    "duration": 15,
    "start_time": "2022-07-21T21:45:44.209Z"
   },
   {
    "duration": 11,
    "start_time": "2022-07-21T21:45:44.226Z"
   },
   {
    "duration": 11,
    "start_time": "2022-07-21T21:45:44.238Z"
   },
   {
    "duration": 17,
    "start_time": "2022-07-21T21:45:44.253Z"
   },
   {
    "duration": 6,
    "start_time": "2022-07-21T21:45:44.272Z"
   },
   {
    "duration": 8,
    "start_time": "2022-07-21T21:45:44.280Z"
   },
   {
    "duration": 64,
    "start_time": "2022-07-21T21:45:44.290Z"
   },
   {
    "duration": 193,
    "start_time": "2022-07-21T21:45:44.356Z"
   },
   {
    "duration": 21,
    "start_time": "2022-07-21T21:45:44.552Z"
   },
   {
    "duration": 177,
    "start_time": "2022-07-21T21:45:44.575Z"
   },
   {
    "duration": 125,
    "start_time": "2022-07-22T18:07:32.802Z"
   },
   {
    "duration": 1617,
    "start_time": "2022-07-22T18:07:40.188Z"
   },
   {
    "duration": 242,
    "start_time": "2022-07-22T18:07:41.809Z"
   },
   {
    "duration": 8,
    "start_time": "2022-07-22T18:07:42.053Z"
   },
   {
    "duration": 26,
    "start_time": "2022-07-22T18:07:42.064Z"
   },
   {
    "duration": 25,
    "start_time": "2022-07-22T18:07:42.092Z"
   },
   {
    "duration": 53,
    "start_time": "2022-07-22T18:07:42.119Z"
   },
   {
    "duration": 26,
    "start_time": "2022-07-22T18:07:42.174Z"
   },
   {
    "duration": 42,
    "start_time": "2022-07-22T18:07:42.202Z"
   },
   {
    "duration": 34,
    "start_time": "2022-07-22T18:07:42.246Z"
   },
   {
    "duration": 13,
    "start_time": "2022-07-22T18:07:43.974Z"
   },
   {
    "duration": 2474,
    "start_time": "2022-07-22T18:10:54.508Z"
   },
   {
    "duration": 1869,
    "start_time": "2022-07-22T18:11:10.282Z"
   },
   {
    "duration": 2017,
    "start_time": "2022-07-22T18:13:46.261Z"
   },
   {
    "duration": 19,
    "start_time": "2022-07-22T18:27:33.673Z"
   },
   {
    "duration": 14,
    "start_time": "2022-07-22T18:27:42.057Z"
   },
   {
    "duration": 10,
    "start_time": "2022-07-22T18:28:34.330Z"
   },
   {
    "duration": 1262,
    "start_time": "2022-07-22T18:28:53.933Z"
   },
   {
    "duration": 100,
    "start_time": "2022-07-22T18:28:55.199Z"
   },
   {
    "duration": 8,
    "start_time": "2022-07-22T18:28:55.300Z"
   },
   {
    "duration": 58,
    "start_time": "2022-07-22T18:28:55.311Z"
   },
   {
    "duration": 15,
    "start_time": "2022-07-22T18:28:55.372Z"
   },
   {
    "duration": 27,
    "start_time": "2022-07-22T18:28:55.389Z"
   },
   {
    "duration": 35,
    "start_time": "2022-07-22T18:28:55.418Z"
   },
   {
    "duration": 9,
    "start_time": "2022-07-22T18:28:55.455Z"
   },
   {
    "duration": 2412,
    "start_time": "2022-07-22T18:28:55.466Z"
   },
   {
    "duration": 13,
    "start_time": "2022-07-22T18:28:57.881Z"
   },
   {
    "duration": 8,
    "start_time": "2022-07-22T18:28:57.896Z"
   },
   {
    "duration": 22,
    "start_time": "2022-07-22T18:28:57.906Z"
   },
   {
    "duration": 18,
    "start_time": "2022-07-22T18:28:57.933Z"
   },
   {
    "duration": 17,
    "start_time": "2022-07-22T18:28:57.953Z"
   },
   {
    "duration": 179,
    "start_time": "2022-07-22T18:28:57.973Z"
   },
   {
    "duration": 9,
    "start_time": "2022-07-22T18:28:58.216Z"
   },
   {
    "duration": 91,
    "start_time": "2022-07-22T18:28:58.229Z"
   },
   {
    "duration": 120,
    "start_time": "2022-07-22T18:28:58.326Z"
   },
   {
    "duration": 29,
    "start_time": "2022-07-22T18:28:58.448Z"
   },
   {
    "duration": 25,
    "start_time": "2022-07-22T18:28:58.479Z"
   },
   {
    "duration": 362,
    "start_time": "2022-07-22T18:30:49.081Z"
   },
   {
    "duration": 4,
    "start_time": "2022-07-22T18:32:33.359Z"
   },
   {
    "duration": 146,
    "start_time": "2022-07-22T18:32:41.669Z"
   },
   {
    "duration": 1398,
    "start_time": "2022-07-22T18:34:01.160Z"
   },
   {
    "duration": 88,
    "start_time": "2022-07-22T18:34:02.560Z"
   },
   {
    "duration": 6,
    "start_time": "2022-07-22T18:34:02.650Z"
   },
   {
    "duration": 19,
    "start_time": "2022-07-22T18:34:02.658Z"
   },
   {
    "duration": 16,
    "start_time": "2022-07-22T18:34:02.679Z"
   },
   {
    "duration": 11,
    "start_time": "2022-07-22T18:34:02.696Z"
   },
   {
    "duration": 32,
    "start_time": "2022-07-22T18:34:02.709Z"
   },
   {
    "duration": 9,
    "start_time": "2022-07-22T18:34:02.743Z"
   },
   {
    "duration": 2312,
    "start_time": "2022-07-22T18:34:02.754Z"
   },
   {
    "duration": 15,
    "start_time": "2022-07-22T18:34:05.071Z"
   },
   {
    "duration": 6,
    "start_time": "2022-07-22T18:34:05.088Z"
   },
   {
    "duration": 13,
    "start_time": "2022-07-22T18:34:05.095Z"
   },
   {
    "duration": 33,
    "start_time": "2022-07-22T18:34:05.117Z"
   },
   {
    "duration": 25,
    "start_time": "2022-07-22T18:34:05.152Z"
   },
   {
    "duration": 156,
    "start_time": "2022-07-22T18:34:05.182Z"
   },
   {
    "duration": 194,
    "start_time": "2022-07-22T18:34:05.340Z"
   },
   {
    "duration": 20,
    "start_time": "2022-07-22T18:34:05.537Z"
   },
   {
    "duration": 179,
    "start_time": "2022-07-22T18:34:05.559Z"
   },
   {
    "duration": 25,
    "start_time": "2022-07-22T18:34:05.740Z"
   },
   {
    "duration": 47,
    "start_time": "2022-07-22T18:34:05.768Z"
   }
  ],
  "kernelspec": {
   "display_name": "Python 3 (ipykernel)",
   "language": "python",
   "name": "python3"
  },
  "language_info": {
   "codemirror_mode": {
    "name": "ipython",
    "version": 3
   },
   "file_extension": ".py",
   "mimetype": "text/x-python",
   "name": "python",
   "nbconvert_exporter": "python",
   "pygments_lexer": "ipython3",
   "version": "3.9.5"
  },
  "toc": {
   "base_numbering": 1,
   "nav_menu": {},
   "number_sections": true,
   "sideBar": true,
   "skip_h1_title": true,
   "title_cell": "Содержание",
   "title_sidebar": "Contents",
   "toc_cell": true,
   "toc_position": {},
   "toc_section_display": true,
   "toc_window_display": true
  }
 },
 "nbformat": 4,
 "nbformat_minor": 2
}
