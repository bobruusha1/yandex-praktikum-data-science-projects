{
  "metadata": {
    "kernelspec": {
      "name": "python",
      "display_name": "Python (Pyodide)",
      "language": "python"
    },
    "language_info": {
      "codemirror_mode": {
        "name": "python",
        "version": 3
      },
      "file_extension": ".py",
      "mimetype": "text/x-python",
      "name": "python",
      "nbconvert_exporter": "python",
      "pygments_lexer": "ipython3",
      "version": "3.8"
    },
    "ExecuteTimeLog": [
      {
        "duration": 1195,
        "start_time": "2022-03-11T20:17:27.903Z"
      },
      {
        "duration": 33,
        "start_time": "2022-03-11T20:18:35.336Z"
      },
      {
        "duration": 18,
        "start_time": "2022-03-11T20:20:43.849Z"
      },
      {
        "duration": 73,
        "start_time": "2022-03-11T20:24:28.441Z"
      },
      {
        "duration": 16,
        "start_time": "2022-03-11T20:26:02.711Z"
      },
      {
        "duration": 14,
        "start_time": "2022-03-11T20:26:10.005Z"
      },
      {
        "duration": 13,
        "start_time": "2022-03-11T20:29:48.070Z"
      },
      {
        "duration": 16,
        "start_time": "2022-03-11T20:30:31.758Z"
      },
      {
        "duration": 95,
        "start_time": "2022-03-11T20:31:29.503Z"
      },
      {
        "duration": 16,
        "start_time": "2022-03-11T20:31:37.127Z"
      },
      {
        "duration": 18,
        "start_time": "2022-03-11T20:45:48.655Z"
      },
      {
        "duration": 13,
        "start_time": "2022-03-11T20:48:09.188Z"
      },
      {
        "duration": 16,
        "start_time": "2022-03-11T20:48:55.314Z"
      },
      {
        "duration": 16,
        "start_time": "2022-03-11T20:49:16.994Z"
      },
      {
        "duration": 21,
        "start_time": "2022-03-11T21:53:56.885Z"
      },
      {
        "duration": 21,
        "start_time": "2022-03-11T21:54:06.357Z"
      },
      {
        "duration": 26,
        "start_time": "2022-03-11T21:54:25.237Z"
      },
      {
        "duration": 26,
        "start_time": "2022-03-11T21:55:01.953Z"
      },
      {
        "duration": 29,
        "start_time": "2022-03-11T21:55:35.351Z"
      },
      {
        "duration": 28,
        "start_time": "2022-03-11T21:56:43.053Z"
      },
      {
        "duration": 39,
        "start_time": "2022-03-11T21:58:36.271Z"
      },
      {
        "duration": 6988,
        "start_time": "2022-03-11T22:03:40.586Z"
      },
      {
        "duration": 71,
        "start_time": "2022-03-11T22:03:48.020Z"
      },
      {
        "duration": 38,
        "start_time": "2022-03-11T22:03:48.094Z"
      },
      {
        "duration": -88,
        "start_time": "2022-03-11T22:03:56.389Z"
      },
      {
        "duration": 101,
        "start_time": "2022-03-11T22:04:33.091Z"
      },
      {
        "duration": 67,
        "start_time": "2022-03-11T22:05:24.834Z"
      },
      {
        "duration": 69,
        "start_time": "2022-03-11T22:05:35.642Z"
      },
      {
        "duration": 35,
        "start_time": "2022-03-11T22:05:35.714Z"
      },
      {
        "duration": 7411,
        "start_time": "2022-03-11T22:05:37.666Z"
      },
      {
        "duration": -123,
        "start_time": "2022-03-11T22:06:00.295Z"
      },
      {
        "duration": 34,
        "start_time": "2022-03-11T22:06:06.054Z"
      },
      {
        "duration": 5,
        "start_time": "2022-03-11T22:06:26.687Z"
      },
      {
        "duration": 25,
        "start_time": "2022-03-11T22:10:39.230Z"
      },
      {
        "duration": 281,
        "start_time": "2022-03-11T22:12:35.927Z"
      },
      {
        "duration": 281,
        "start_time": "2022-03-11T22:13:12.482Z"
      },
      {
        "duration": 375,
        "start_time": "2022-03-11T22:13:27.057Z"
      },
      {
        "duration": 868,
        "start_time": "2022-03-11T22:15:33.779Z"
      },
      {
        "duration": 56,
        "start_time": "2022-03-11T22:15:34.650Z"
      },
      {
        "duration": 7,
        "start_time": "2022-03-11T22:15:34.709Z"
      },
      {
        "duration": 425,
        "start_time": "2022-03-11T22:15:37.730Z"
      },
      {
        "duration": 298,
        "start_time": "2022-03-11T22:18:10.701Z"
      },
      {
        "duration": 310,
        "start_time": "2022-03-11T22:20:49.487Z"
      },
      {
        "duration": 602,
        "start_time": "2022-03-13T22:25:22.658Z"
      },
      {
        "duration": 23,
        "start_time": "2022-03-13T22:25:23.262Z"
      },
      {
        "duration": 3,
        "start_time": "2022-03-13T22:25:23.287Z"
      },
      {
        "duration": 360,
        "start_time": "2022-03-13T22:25:25.794Z"
      },
      {
        "duration": 67,
        "start_time": "2022-03-13T22:29:04.446Z"
      },
      {
        "duration": 616,
        "start_time": "2022-03-14T11:43:58.908Z"
      },
      {
        "duration": 35,
        "start_time": "2022-03-14T11:46:43.491Z"
      },
      {
        "duration": 35,
        "start_time": "2022-03-14T11:51:05.527Z"
      },
      {
        "duration": 11,
        "start_time": "2022-03-14T12:00:35.592Z"
      },
      {
        "duration": 55,
        "start_time": "2022-03-14T12:05:17.670Z"
      },
      {
        "duration": 11,
        "start_time": "2022-03-14T12:05:17.727Z"
      },
      {
        "duration": 37,
        "start_time": "2022-03-14T12:05:17.740Z"
      },
      {
        "duration": 26,
        "start_time": "2022-03-14T12:05:17.779Z"
      },
      {
        "duration": 4,
        "start_time": "2022-03-14T12:05:17.807Z"
      },
      {
        "duration": 274,
        "start_time": "2022-03-14T12:05:17.812Z"
      },
      {
        "duration": 319,
        "start_time": "2022-03-14T18:13:30.044Z"
      },
      {
        "duration": 588,
        "start_time": "2022-03-14T18:13:43.735Z"
      },
      {
        "duration": 10,
        "start_time": "2022-03-14T18:13:44.325Z"
      },
      {
        "duration": 312,
        "start_time": "2022-03-14T18:13:44.337Z"
      },
      {
        "duration": -26,
        "start_time": "2022-03-14T18:13:44.677Z"
      },
      {
        "duration": -40,
        "start_time": "2022-03-14T18:13:44.692Z"
      },
      {
        "duration": -51,
        "start_time": "2022-03-14T18:13:44.704Z"
      },
      {
        "duration": -59,
        "start_time": "2022-03-14T18:13:44.713Z"
      },
      {
        "duration": 284,
        "start_time": "2022-03-14T18:13:46.453Z"
      },
      {
        "duration": 284,
        "start_time": "2022-03-14T18:14:42.984Z"
      },
      {
        "duration": 282,
        "start_time": "2022-03-14T18:14:57.198Z"
      },
      {
        "duration": 293,
        "start_time": "2022-03-14T18:15:07.409Z"
      },
      {
        "duration": 60,
        "start_time": "2022-03-14T18:15:27.383Z"
      },
      {
        "duration": 33,
        "start_time": "2022-03-14T18:17:30.991Z"
      },
      {
        "duration": 20,
        "start_time": "2022-03-14T18:18:02.341Z"
      },
      {
        "duration": 20,
        "start_time": "2022-03-14T18:19:32.146Z"
      },
      {
        "duration": 284,
        "start_time": "2022-03-14T18:20:01.770Z"
      },
      {
        "duration": 18,
        "start_time": "2022-03-14T18:20:54.323Z"
      },
      {
        "duration": 21,
        "start_time": "2022-03-14T18:21:06.073Z"
      },
      {
        "duration": 20,
        "start_time": "2022-03-14T18:21:20.634Z"
      },
      {
        "duration": 5,
        "start_time": "2022-03-14T18:22:07.163Z"
      },
      {
        "duration": 7,
        "start_time": "2022-03-14T18:22:53.432Z"
      },
      {
        "duration": 8,
        "start_time": "2022-03-14T18:23:00.513Z"
      },
      {
        "duration": 60,
        "start_time": "2022-03-14T18:23:12.051Z"
      },
      {
        "duration": 10,
        "start_time": "2022-03-14T18:23:12.671Z"
      },
      {
        "duration": 14,
        "start_time": "2022-03-14T18:23:16.720Z"
      },
      {
        "duration": 275,
        "start_time": "2022-03-14T18:23:56.595Z"
      },
      {
        "duration": 22,
        "start_time": "2022-03-14T18:24:30.524Z"
      },
      {
        "duration": 9,
        "start_time": "2022-03-14T18:25:00.618Z"
      },
      {
        "duration": 62,
        "start_time": "2022-03-14T18:25:06.212Z"
      },
      {
        "duration": 11,
        "start_time": "2022-03-14T18:25:06.907Z"
      },
      {
        "duration": 9,
        "start_time": "2022-03-14T18:25:08.563Z"
      },
      {
        "duration": 13,
        "start_time": "2022-03-14T18:26:13.561Z"
      },
      {
        "duration": 18,
        "start_time": "2022-03-14T18:26:32.836Z"
      },
      {
        "duration": 28,
        "start_time": "2022-03-14T18:29:50.867Z"
      },
      {
        "duration": 19,
        "start_time": "2022-03-14T18:42:42.274Z"
      },
      {
        "duration": 14,
        "start_time": "2022-03-14T18:46:16.632Z"
      },
      {
        "duration": 63,
        "start_time": "2022-03-14T18:59:36.932Z"
      },
      {
        "duration": 9,
        "start_time": "2022-03-14T18:59:36.996Z"
      },
      {
        "duration": 19,
        "start_time": "2022-03-14T18:59:37.007Z"
      },
      {
        "duration": 33,
        "start_time": "2022-03-14T18:59:37.027Z"
      },
      {
        "duration": 40,
        "start_time": "2022-03-14T18:59:37.061Z"
      },
      {
        "duration": 12,
        "start_time": "2022-03-14T18:59:37.103Z"
      },
      {
        "duration": 4,
        "start_time": "2022-03-14T19:04:53.406Z"
      },
      {
        "duration": 10,
        "start_time": "2022-03-14T19:08:38.619Z"
      },
      {
        "duration": 16,
        "start_time": "2022-03-14T19:09:53.052Z"
      },
      {
        "duration": 21,
        "start_time": "2022-03-14T19:10:17.228Z"
      },
      {
        "duration": 17,
        "start_time": "2022-03-14T19:10:25.752Z"
      },
      {
        "duration": 6,
        "start_time": "2022-03-14T19:19:51.067Z"
      },
      {
        "duration": 69,
        "start_time": "2022-03-14T19:20:04.109Z"
      },
      {
        "duration": 10,
        "start_time": "2022-03-14T19:20:04.180Z"
      },
      {
        "duration": 26,
        "start_time": "2022-03-14T19:20:04.192Z"
      },
      {
        "duration": 26,
        "start_time": "2022-03-14T19:20:04.219Z"
      },
      {
        "duration": 5,
        "start_time": "2022-03-14T19:20:04.246Z"
      },
      {
        "duration": 6,
        "start_time": "2022-03-14T19:20:06.708Z"
      },
      {
        "duration": 15,
        "start_time": "2022-03-14T19:20:29.518Z"
      },
      {
        "duration": 26,
        "start_time": "2022-03-14T19:20:31.700Z"
      },
      {
        "duration": 9,
        "start_time": "2022-03-14T19:20:37.849Z"
      },
      {
        "duration": 60,
        "start_time": "2022-03-14T20:28:19.337Z"
      },
      {
        "duration": 9,
        "start_time": "2022-03-14T20:28:19.398Z"
      },
      {
        "duration": 17,
        "start_time": "2022-03-14T20:28:19.409Z"
      },
      {
        "duration": 27,
        "start_time": "2022-03-14T20:28:19.428Z"
      },
      {
        "duration": 25,
        "start_time": "2022-03-14T20:28:19.456Z"
      },
      {
        "duration": 9,
        "start_time": "2022-03-14T20:28:19.482Z"
      },
      {
        "duration": 16,
        "start_time": "2022-03-14T20:28:19.492Z"
      },
      {
        "duration": 9,
        "start_time": "2022-03-14T20:28:19.509Z"
      },
      {
        "duration": 7,
        "start_time": "2022-03-14T20:28:19.520Z"
      },
      {
        "duration": 5,
        "start_time": "2022-03-14T20:28:19.528Z"
      },
      {
        "duration": 4,
        "start_time": "2022-03-14T20:28:19.534Z"
      },
      {
        "duration": 5,
        "start_time": "2022-03-14T20:28:19.540Z"
      },
      {
        "duration": 15,
        "start_time": "2022-03-14T20:28:21.697Z"
      },
      {
        "duration": 27,
        "start_time": "2022-03-14T20:29:27.490Z"
      },
      {
        "duration": 32,
        "start_time": "2022-03-14T20:29:47.731Z"
      },
      {
        "duration": 37,
        "start_time": "2022-03-14T20:32:38.031Z"
      },
      {
        "duration": 35,
        "start_time": "2022-03-14T20:36:39.967Z"
      },
      {
        "duration": 10,
        "start_time": "2022-03-14T20:36:40.633Z"
      },
      {
        "duration": 15,
        "start_time": "2022-03-14T20:38:18.560Z"
      },
      {
        "duration": 8,
        "start_time": "2022-03-14T20:40:53.521Z"
      },
      {
        "duration": 5,
        "start_time": "2022-03-14T20:41:35.933Z"
      },
      {
        "duration": 4,
        "start_time": "2022-03-14T20:42:27.397Z"
      },
      {
        "duration": 4,
        "start_time": "2022-03-14T20:42:57.389Z"
      },
      {
        "duration": 5,
        "start_time": "2022-03-14T20:43:33.797Z"
      },
      {
        "duration": 7,
        "start_time": "2022-03-14T20:45:15.493Z"
      },
      {
        "duration": 5,
        "start_time": "2022-03-14T21:03:23.301Z"
      },
      {
        "duration": 3,
        "start_time": "2022-03-14T21:05:12.464Z"
      },
      {
        "duration": 42,
        "start_time": "2022-03-14T21:20:01.282Z"
      },
      {
        "duration": 7,
        "start_time": "2022-03-14T21:20:40.182Z"
      },
      {
        "duration": 34,
        "start_time": "2022-03-14T21:20:42.528Z"
      },
      {
        "duration": 6,
        "start_time": "2022-03-14T21:20:44.832Z"
      },
      {
        "duration": 317,
        "start_time": "2022-03-14T21:28:13.997Z"
      },
      {
        "duration": 19,
        "start_time": "2022-03-14T21:28:20.176Z"
      },
      {
        "duration": 6,
        "start_time": "2022-03-14T21:46:46.926Z"
      },
      {
        "duration": 10,
        "start_time": "2022-03-14T21:46:53.248Z"
      },
      {
        "duration": 14,
        "start_time": "2022-03-14T21:48:07.016Z"
      },
      {
        "duration": 14,
        "start_time": "2022-03-14T21:48:16.823Z"
      },
      {
        "duration": 13,
        "start_time": "2022-03-14T21:48:33.752Z"
      },
      {
        "duration": 16,
        "start_time": "2022-03-14T21:53:02.780Z"
      },
      {
        "duration": 620,
        "start_time": "2022-03-15T10:38:00.180Z"
      },
      {
        "duration": 11,
        "start_time": "2022-03-15T10:38:02.497Z"
      },
      {
        "duration": 22,
        "start_time": "2022-03-15T10:38:09.438Z"
      },
      {
        "duration": 34,
        "start_time": "2022-03-15T10:38:47.277Z"
      },
      {
        "duration": 6,
        "start_time": "2022-03-15T10:38:54.310Z"
      },
      {
        "duration": 11,
        "start_time": "2022-03-15T10:38:55.963Z"
      },
      {
        "duration": 21,
        "start_time": "2022-03-15T10:38:57.707Z"
      },
      {
        "duration": 11,
        "start_time": "2022-03-15T10:39:02.860Z"
      },
      {
        "duration": 4,
        "start_time": "2022-03-15T10:39:07.548Z"
      },
      {
        "duration": 5,
        "start_time": "2022-03-15T10:39:18.185Z"
      },
      {
        "duration": 4,
        "start_time": "2022-03-15T10:39:19.675Z"
      },
      {
        "duration": 4,
        "start_time": "2022-03-15T10:39:30.053Z"
      },
      {
        "duration": 47,
        "start_time": "2022-03-15T10:39:32.473Z"
      },
      {
        "duration": 16,
        "start_time": "2022-03-15T10:39:33.263Z"
      },
      {
        "duration": 12,
        "start_time": "2022-03-15T10:39:34.698Z"
      },
      {
        "duration": 3,
        "start_time": "2022-03-15T10:39:36.980Z"
      },
      {
        "duration": 39,
        "start_time": "2022-03-15T10:39:47.022Z"
      },
      {
        "duration": 8,
        "start_time": "2022-03-15T10:39:48.423Z"
      },
      {
        "duration": 17,
        "start_time": "2022-03-15T10:40:24.019Z"
      },
      {
        "duration": 63,
        "start_time": "2022-03-15T10:40:26.820Z"
      },
      {
        "duration": 14,
        "start_time": "2022-03-15T10:40:44.605Z"
      },
      {
        "duration": 3,
        "start_time": "2022-03-15T10:50:06.989Z"
      },
      {
        "duration": 24,
        "start_time": "2022-03-15T10:50:07.541Z"
      },
      {
        "duration": 16,
        "start_time": "2022-03-15T10:51:09.155Z"
      },
      {
        "duration": 20,
        "start_time": "2022-03-15T10:51:19.963Z"
      },
      {
        "duration": 55,
        "start_time": "2022-03-15T11:13:37.741Z"
      },
      {
        "duration": 3,
        "start_time": "2022-03-15T11:13:44.890Z"
      },
      {
        "duration": 20,
        "start_time": "2022-03-15T11:15:01.304Z"
      },
      {
        "duration": 32,
        "start_time": "2022-03-15T12:25:52.337Z"
      },
      {
        "duration": 30,
        "start_time": "2022-03-15T12:25:58.152Z"
      },
      {
        "duration": 738,
        "start_time": "2022-03-15T20:43:33.006Z"
      },
      {
        "duration": 13,
        "start_time": "2022-03-15T20:43:33.746Z"
      },
      {
        "duration": 42,
        "start_time": "2022-03-15T20:43:33.761Z"
      },
      {
        "duration": 35,
        "start_time": "2022-03-15T20:43:33.805Z"
      },
      {
        "duration": 8,
        "start_time": "2022-03-15T20:43:33.842Z"
      },
      {
        "duration": 13,
        "start_time": "2022-03-15T20:43:33.852Z"
      },
      {
        "duration": 56,
        "start_time": "2022-03-15T20:43:33.867Z"
      },
      {
        "duration": 22,
        "start_time": "2022-03-15T20:43:36.537Z"
      },
      {
        "duration": 15,
        "start_time": "2022-03-15T20:43:37.606Z"
      },
      {
        "duration": 11,
        "start_time": "2022-03-15T20:45:00.145Z"
      },
      {
        "duration": 9,
        "start_time": "2022-03-15T20:45:17.918Z"
      },
      {
        "duration": 7,
        "start_time": "2022-03-15T20:46:18.281Z"
      },
      {
        "duration": 9,
        "start_time": "2022-03-15T20:46:23.512Z"
      },
      {
        "duration": 8,
        "start_time": "2022-03-15T20:46:28.317Z"
      },
      {
        "duration": 25,
        "start_time": "2022-03-15T20:53:35.148Z"
      },
      {
        "duration": 58,
        "start_time": "2022-03-15T20:53:42.787Z"
      },
      {
        "duration": 13,
        "start_time": "2022-03-15T20:53:42.847Z"
      },
      {
        "duration": 44,
        "start_time": "2022-03-15T20:53:42.862Z"
      },
      {
        "duration": 37,
        "start_time": "2022-03-15T20:53:42.909Z"
      },
      {
        "duration": 7,
        "start_time": "2022-03-15T20:53:42.947Z"
      },
      {
        "duration": 12,
        "start_time": "2022-03-15T20:53:42.955Z"
      },
      {
        "duration": 22,
        "start_time": "2022-03-15T20:53:43.002Z"
      },
      {
        "duration": 8,
        "start_time": "2022-03-15T20:53:43.027Z"
      },
      {
        "duration": 20,
        "start_time": "2022-03-15T20:53:43.037Z"
      },
      {
        "duration": 10,
        "start_time": "2022-03-15T20:53:43.059Z"
      },
      {
        "duration": 32,
        "start_time": "2022-03-15T20:53:43.071Z"
      },
      {
        "duration": 4,
        "start_time": "2022-03-15T20:53:43.105Z"
      },
      {
        "duration": 16,
        "start_time": "2022-03-15T20:53:43.111Z"
      },
      {
        "duration": 63,
        "start_time": "2022-03-15T20:53:43.129Z"
      },
      {
        "duration": 16,
        "start_time": "2022-03-15T20:53:43.194Z"
      },
      {
        "duration": 19,
        "start_time": "2022-03-15T20:53:43.212Z"
      },
      {
        "duration": 3,
        "start_time": "2022-03-15T20:53:43.233Z"
      },
      {
        "duration": 67,
        "start_time": "2022-03-15T20:53:43.238Z"
      },
      {
        "duration": 8,
        "start_time": "2022-03-15T20:53:43.307Z"
      },
      {
        "duration": 28,
        "start_time": "2022-03-15T20:53:43.317Z"
      },
      {
        "duration": 15,
        "start_time": "2022-03-15T20:53:43.347Z"
      },
      {
        "duration": 9,
        "start_time": "2022-03-15T20:53:43.364Z"
      },
      {
        "duration": 40,
        "start_time": "2022-03-15T20:53:43.376Z"
      },
      {
        "duration": 7,
        "start_time": "2022-03-15T20:53:43.418Z"
      },
      {
        "duration": 27,
        "start_time": "2022-03-15T20:53:43.427Z"
      },
      {
        "duration": 24,
        "start_time": "2022-03-15T20:53:46.995Z"
      },
      {
        "duration": 7,
        "start_time": "2022-03-15T20:54:18.244Z"
      },
      {
        "duration": 24,
        "start_time": "2022-03-15T21:04:56.062Z"
      },
      {
        "duration": 5291,
        "start_time": "2022-03-15T21:05:54.956Z"
      },
      {
        "duration": 22,
        "start_time": "2022-03-15T21:06:21.079Z"
      },
      {
        "duration": 21,
        "start_time": "2022-03-15T21:06:25.451Z"
      },
      {
        "duration": 6,
        "start_time": "2022-03-15T21:10:12.225Z"
      },
      {
        "duration": 6354,
        "start_time": "2022-03-15T21:11:25.969Z"
      },
      {
        "duration": 7,
        "start_time": "2022-03-15T21:12:05.146Z"
      },
      {
        "duration": 273,
        "start_time": "2022-03-15T21:17:53.310Z"
      },
      {
        "duration": 66,
        "start_time": "2022-03-15T21:24:42.256Z"
      },
      {
        "duration": 14,
        "start_time": "2022-03-15T21:24:42.324Z"
      },
      {
        "duration": 22,
        "start_time": "2022-03-15T21:24:42.341Z"
      },
      {
        "duration": 72,
        "start_time": "2022-03-15T21:24:42.366Z"
      },
      {
        "duration": 7,
        "start_time": "2022-03-15T21:24:42.440Z"
      },
      {
        "duration": 18,
        "start_time": "2022-03-15T21:24:42.449Z"
      },
      {
        "duration": 54,
        "start_time": "2022-03-15T21:24:42.469Z"
      },
      {
        "duration": 9,
        "start_time": "2022-03-15T21:24:42.527Z"
      },
      {
        "duration": 20,
        "start_time": "2022-03-15T21:24:42.539Z"
      },
      {
        "duration": 5,
        "start_time": "2022-03-15T21:24:42.561Z"
      },
      {
        "duration": 15,
        "start_time": "2022-03-15T21:24:42.568Z"
      },
      {
        "duration": 4,
        "start_time": "2022-03-15T21:24:42.601Z"
      },
      {
        "duration": 12,
        "start_time": "2022-03-15T21:24:42.607Z"
      },
      {
        "duration": 56,
        "start_time": "2022-03-15T21:24:42.621Z"
      },
      {
        "duration": 29,
        "start_time": "2022-03-15T21:24:42.679Z"
      },
      {
        "duration": 12,
        "start_time": "2022-03-15T21:24:42.710Z"
      },
      {
        "duration": 3,
        "start_time": "2022-03-15T21:24:42.724Z"
      },
      {
        "duration": 44,
        "start_time": "2022-03-15T21:24:42.729Z"
      },
      {
        "duration": 32,
        "start_time": "2022-03-15T21:24:42.775Z"
      },
      {
        "duration": 20,
        "start_time": "2022-03-15T21:24:42.809Z"
      },
      {
        "duration": 14,
        "start_time": "2022-03-15T21:24:42.831Z"
      },
      {
        "duration": 5,
        "start_time": "2022-03-15T21:24:42.847Z"
      },
      {
        "duration": 59,
        "start_time": "2022-03-15T21:24:42.856Z"
      },
      {
        "duration": 4,
        "start_time": "2022-03-15T21:24:42.917Z"
      },
      {
        "duration": 29,
        "start_time": "2022-03-15T21:24:42.923Z"
      },
      {
        "duration": 10,
        "start_time": "2022-03-15T21:24:42.954Z"
      },
      {
        "duration": 50,
        "start_time": "2022-03-15T21:24:42.967Z"
      },
      {
        "duration": 12,
        "start_time": "2022-03-15T21:25:13.071Z"
      },
      {
        "duration": 24,
        "start_time": "2022-03-15T21:26:54.673Z"
      },
      {
        "duration": 25,
        "start_time": "2022-03-15T21:27:03.817Z"
      },
      {
        "duration": 23,
        "start_time": "2022-03-15T21:27:18.340Z"
      },
      {
        "duration": 25,
        "start_time": "2022-03-15T21:27:24.545Z"
      },
      {
        "duration": 25,
        "start_time": "2022-03-15T21:28:02.538Z"
      },
      {
        "duration": 9,
        "start_time": "2022-03-15T21:31:10.462Z"
      },
      {
        "duration": 24,
        "start_time": "2022-03-15T21:31:12.460Z"
      },
      {
        "duration": 8,
        "start_time": "2022-03-15T21:34:16.924Z"
      },
      {
        "duration": 611,
        "start_time": "2022-03-15T21:37:03.649Z"
      },
      {
        "duration": 38,
        "start_time": "2022-03-15T21:38:35.735Z"
      },
      {
        "duration": 4,
        "start_time": "2022-03-15T21:48:09.702Z"
      },
      {
        "duration": 12,
        "start_time": "2022-03-15T21:48:10.261Z"
      },
      {
        "duration": 35,
        "start_time": "2022-03-15T21:48:20.024Z"
      },
      {
        "duration": 12,
        "start_time": "2022-03-15T21:48:33.215Z"
      },
      {
        "duration": 607,
        "start_time": "2022-03-15T21:49:27.359Z"
      },
      {
        "duration": 36,
        "start_time": "2022-03-15T21:49:47.395Z"
      },
      {
        "duration": 31,
        "start_time": "2022-03-15T21:50:01.314Z"
      },
      {
        "duration": 30,
        "start_time": "2022-03-15T21:50:16.740Z"
      },
      {
        "duration": 9,
        "start_time": "2022-03-15T21:54:46.606Z"
      },
      {
        "duration": 25,
        "start_time": "2022-03-15T21:55:10.317Z"
      },
      {
        "duration": 28,
        "start_time": "2022-03-15T21:55:47.138Z"
      },
      {
        "duration": 11,
        "start_time": "2022-03-15T21:58:20.905Z"
      },
      {
        "duration": 23,
        "start_time": "2022-03-15T21:58:21.553Z"
      },
      {
        "duration": 64,
        "start_time": "2022-03-15T22:20:51.132Z"
      },
      {
        "duration": 13,
        "start_time": "2022-03-15T22:20:51.198Z"
      },
      {
        "duration": 27,
        "start_time": "2022-03-15T22:20:51.214Z"
      },
      {
        "duration": 70,
        "start_time": "2022-03-15T22:20:51.244Z"
      },
      {
        "duration": 7,
        "start_time": "2022-03-15T22:20:51.317Z"
      },
      {
        "duration": 14,
        "start_time": "2022-03-15T22:20:51.327Z"
      },
      {
        "duration": 57,
        "start_time": "2022-03-15T22:20:51.344Z"
      },
      {
        "duration": 10,
        "start_time": "2022-03-15T22:20:51.405Z"
      },
      {
        "duration": 22,
        "start_time": "2022-03-15T22:20:51.417Z"
      },
      {
        "duration": 4,
        "start_time": "2022-03-15T22:20:51.441Z"
      },
      {
        "duration": 11,
        "start_time": "2022-03-15T22:20:51.447Z"
      },
      {
        "duration": 13,
        "start_time": "2022-03-15T22:20:51.460Z"
      },
      {
        "duration": 26,
        "start_time": "2022-03-15T22:20:51.475Z"
      },
      {
        "duration": 66,
        "start_time": "2022-03-15T22:20:51.503Z"
      },
      {
        "duration": 31,
        "start_time": "2022-03-15T22:20:51.571Z"
      },
      {
        "duration": 12,
        "start_time": "2022-03-15T22:20:51.604Z"
      },
      {
        "duration": 3,
        "start_time": "2022-03-15T22:20:51.618Z"
      },
      {
        "duration": 49,
        "start_time": "2022-03-15T22:20:51.623Z"
      },
      {
        "duration": 32,
        "start_time": "2022-03-15T22:20:51.674Z"
      },
      {
        "duration": 26,
        "start_time": "2022-03-15T22:20:51.708Z"
      },
      {
        "duration": 20,
        "start_time": "2022-03-15T22:20:51.737Z"
      },
      {
        "duration": 7,
        "start_time": "2022-03-15T22:20:51.759Z"
      },
      {
        "duration": 52,
        "start_time": "2022-03-15T22:20:51.770Z"
      },
      {
        "duration": 4,
        "start_time": "2022-03-15T22:20:51.824Z"
      },
      {
        "duration": 29,
        "start_time": "2022-03-15T22:20:51.830Z"
      },
      {
        "duration": 7,
        "start_time": "2022-03-15T22:20:51.862Z"
      },
      {
        "duration": 62,
        "start_time": "2022-03-15T22:20:51.871Z"
      },
      {
        "duration": 8,
        "start_time": "2022-03-15T22:20:51.935Z"
      },
      {
        "duration": 36,
        "start_time": "2022-03-15T22:20:51.945Z"
      },
      {
        "duration": 46,
        "start_time": "2022-03-15T22:20:51.983Z"
      },
      {
        "duration": 4,
        "start_time": "2022-03-15T22:20:52.031Z"
      },
      {
        "duration": 33,
        "start_time": "2022-03-15T22:20:52.037Z"
      },
      {
        "duration": 44,
        "start_time": "2022-03-15T22:20:52.072Z"
      },
      {
        "duration": 8,
        "start_time": "2022-03-15T22:20:52.118Z"
      },
      {
        "duration": 31,
        "start_time": "2022-03-15T22:20:52.128Z"
      },
      {
        "duration": 9,
        "start_time": "2022-03-15T22:21:27.294Z"
      },
      {
        "duration": 40,
        "start_time": "2022-03-15T22:22:42.120Z"
      },
      {
        "duration": 42,
        "start_time": "2022-03-15T22:22:48.970Z"
      },
      {
        "duration": 613,
        "start_time": "2022-03-26T16:11:33.748Z"
      },
      {
        "duration": 26,
        "start_time": "2022-03-26T16:11:34.364Z"
      },
      {
        "duration": 31,
        "start_time": "2022-03-26T16:11:34.393Z"
      },
      {
        "duration": 73,
        "start_time": "2022-03-26T16:11:34.427Z"
      },
      {
        "duration": 10,
        "start_time": "2022-03-26T16:11:34.504Z"
      },
      {
        "duration": 14,
        "start_time": "2022-03-26T16:11:34.517Z"
      },
      {
        "duration": 62,
        "start_time": "2022-03-26T16:11:34.534Z"
      },
      {
        "duration": 10,
        "start_time": "2022-03-26T16:11:34.598Z"
      },
      {
        "duration": 38,
        "start_time": "2022-03-26T16:11:34.610Z"
      },
      {
        "duration": 12,
        "start_time": "2022-03-26T16:11:34.650Z"
      },
      {
        "duration": 11,
        "start_time": "2022-03-26T16:11:34.674Z"
      },
      {
        "duration": 8,
        "start_time": "2022-03-26T16:11:34.687Z"
      },
      {
        "duration": 7,
        "start_time": "2022-03-26T16:11:34.697Z"
      },
      {
        "duration": 103,
        "start_time": "2022-03-26T16:11:34.709Z"
      },
      {
        "duration": 21,
        "start_time": "2022-03-26T16:11:34.814Z"
      },
      {
        "duration": 36,
        "start_time": "2022-03-26T16:11:34.838Z"
      },
      {
        "duration": 3,
        "start_time": "2022-03-26T16:11:34.876Z"
      },
      {
        "duration": 55,
        "start_time": "2022-03-26T16:11:34.881Z"
      },
      {
        "duration": 9,
        "start_time": "2022-03-26T16:11:34.938Z"
      },
      {
        "duration": 46,
        "start_time": "2022-03-26T16:11:34.949Z"
      },
      {
        "duration": 19,
        "start_time": "2022-03-26T16:11:34.997Z"
      },
      {
        "duration": 7,
        "start_time": "2022-03-26T16:11:35.019Z"
      },
      {
        "duration": 64,
        "start_time": "2022-03-26T16:11:35.028Z"
      },
      {
        "duration": 7,
        "start_time": "2022-03-26T16:11:35.094Z"
      },
      {
        "duration": 32,
        "start_time": "2022-03-26T16:11:35.103Z"
      },
      {
        "duration": 7,
        "start_time": "2022-03-26T16:11:35.137Z"
      },
      {
        "duration": 56,
        "start_time": "2022-03-26T16:11:35.146Z"
      },
      {
        "duration": 8,
        "start_time": "2022-03-26T16:11:35.204Z"
      },
      {
        "duration": 61,
        "start_time": "2022-03-26T16:11:35.214Z"
      },
      {
        "duration": 45,
        "start_time": "2022-03-26T16:11:35.277Z"
      },
      {
        "duration": 5,
        "start_time": "2022-03-26T16:11:35.324Z"
      },
      {
        "duration": 60,
        "start_time": "2022-03-26T16:11:35.331Z"
      },
      {
        "duration": 34,
        "start_time": "2022-03-26T16:11:35.393Z"
      },
      {
        "duration": 9,
        "start_time": "2022-03-26T16:11:35.428Z"
      },
      {
        "duration": 69,
        "start_time": "2022-03-26T16:11:35.439Z"
      },
      {
        "duration": 94,
        "start_time": "2022-03-26T17:01:13.714Z"
      },
      {
        "duration": 23,
        "start_time": "2022-03-26T17:01:19.066Z"
      },
      {
        "duration": 12,
        "start_time": "2022-03-26T17:01:57.203Z"
      },
      {
        "duration": 693,
        "start_time": "2022-03-26T17:03:01.489Z"
      },
      {
        "duration": 23,
        "start_time": "2022-03-26T17:03:02.184Z"
      },
      {
        "duration": 32,
        "start_time": "2022-03-26T17:03:02.209Z"
      },
      {
        "duration": 71,
        "start_time": "2022-03-26T17:03:02.243Z"
      },
      {
        "duration": 9,
        "start_time": "2022-03-26T17:03:02.317Z"
      },
      {
        "duration": 14,
        "start_time": "2022-03-26T17:03:02.329Z"
      },
      {
        "duration": 31,
        "start_time": "2022-03-26T17:03:02.374Z"
      },
      {
        "duration": 11,
        "start_time": "2022-03-26T17:03:02.407Z"
      },
      {
        "duration": 12,
        "start_time": "2022-03-26T17:03:02.420Z"
      },
      {
        "duration": 52,
        "start_time": "2022-03-26T17:03:02.434Z"
      },
      {
        "duration": 8,
        "start_time": "2022-03-26T17:03:02.489Z"
      },
      {
        "duration": 13,
        "start_time": "2022-03-26T17:03:02.499Z"
      },
      {
        "duration": 5,
        "start_time": "2022-03-26T17:03:02.514Z"
      },
      {
        "duration": 5,
        "start_time": "2022-03-26T17:03:02.523Z"
      },
      {
        "duration": 122,
        "start_time": "2022-03-26T17:03:02.530Z"
      },
      {
        "duration": 33,
        "start_time": "2022-03-26T17:03:02.654Z"
      },
      {
        "duration": 18,
        "start_time": "2022-03-26T17:03:02.689Z"
      },
      {
        "duration": 3,
        "start_time": "2022-03-26T17:03:02.709Z"
      },
      {
        "duration": 85,
        "start_time": "2022-03-26T17:03:02.715Z"
      },
      {
        "duration": 9,
        "start_time": "2022-03-26T17:03:02.802Z"
      },
      {
        "duration": 24,
        "start_time": "2022-03-26T17:03:02.813Z"
      },
      {
        "duration": 37,
        "start_time": "2022-03-26T17:03:02.839Z"
      },
      {
        "duration": 8,
        "start_time": "2022-03-26T17:03:02.878Z"
      },
      {
        "duration": 36,
        "start_time": "2022-03-26T17:03:02.888Z"
      },
      {
        "duration": 4,
        "start_time": "2022-03-26T17:03:02.927Z"
      },
      {
        "duration": 62,
        "start_time": "2022-03-26T17:03:02.933Z"
      },
      {
        "duration": 9,
        "start_time": "2022-03-26T17:03:02.997Z"
      },
      {
        "duration": 32,
        "start_time": "2022-03-26T17:03:03.009Z"
      },
      {
        "duration": 10,
        "start_time": "2022-03-26T17:03:03.073Z"
      },
      {
        "duration": 31,
        "start_time": "2022-03-26T17:03:03.086Z"
      },
      {
        "duration": 80,
        "start_time": "2022-03-26T17:03:03.120Z"
      },
      {
        "duration": 5,
        "start_time": "2022-03-26T17:03:03.203Z"
      },
      {
        "duration": 35,
        "start_time": "2022-03-26T17:03:03.211Z"
      },
      {
        "duration": 35,
        "start_time": "2022-03-26T17:03:03.273Z"
      },
      {
        "duration": 10,
        "start_time": "2022-03-26T17:03:03.310Z"
      },
      {
        "duration": 58,
        "start_time": "2022-03-26T17:03:03.322Z"
      },
      {
        "duration": 7,
        "start_time": "2022-03-26T17:04:00.795Z"
      },
      {
        "duration": 631,
        "start_time": "2022-03-26T17:04:18.644Z"
      },
      {
        "duration": 23,
        "start_time": "2022-03-26T17:04:19.278Z"
      },
      {
        "duration": 37,
        "start_time": "2022-03-26T17:04:19.304Z"
      },
      {
        "duration": 73,
        "start_time": "2022-03-26T17:04:19.344Z"
      },
      {
        "duration": 12,
        "start_time": "2022-03-26T17:04:19.419Z"
      },
      {
        "duration": 14,
        "start_time": "2022-03-26T17:04:19.433Z"
      },
      {
        "duration": 30,
        "start_time": "2022-03-26T17:04:19.473Z"
      },
      {
        "duration": 6,
        "start_time": "2022-03-26T17:04:19.506Z"
      },
      {
        "duration": 11,
        "start_time": "2022-03-26T17:04:19.514Z"
      },
      {
        "duration": 60,
        "start_time": "2022-03-26T17:04:19.531Z"
      },
      {
        "duration": 9,
        "start_time": "2022-03-26T17:04:19.593Z"
      },
      {
        "duration": 20,
        "start_time": "2022-03-26T17:04:19.604Z"
      },
      {
        "duration": 7,
        "start_time": "2022-03-26T17:04:19.627Z"
      },
      {
        "duration": 40,
        "start_time": "2022-03-26T17:04:19.637Z"
      },
      {
        "duration": 125,
        "start_time": "2022-03-26T17:04:19.680Z"
      },
      {
        "duration": 33,
        "start_time": "2022-03-26T17:04:19.808Z"
      },
      {
        "duration": 39,
        "start_time": "2022-03-26T17:04:19.843Z"
      },
      {
        "duration": 3,
        "start_time": "2022-03-26T17:04:19.885Z"
      },
      {
        "duration": 54,
        "start_time": "2022-03-26T17:04:19.889Z"
      },
      {
        "duration": 30,
        "start_time": "2022-03-26T17:04:19.945Z"
      },
      {
        "duration": 31,
        "start_time": "2022-03-26T17:04:19.978Z"
      },
      {
        "duration": 33,
        "start_time": "2022-03-26T17:04:20.012Z"
      },
      {
        "duration": 7,
        "start_time": "2022-03-26T17:04:20.075Z"
      },
      {
        "duration": 51,
        "start_time": "2022-03-26T17:04:20.085Z"
      },
      {
        "duration": 5,
        "start_time": "2022-03-26T17:04:20.139Z"
      },
      {
        "duration": 57,
        "start_time": "2022-03-26T17:04:20.146Z"
      },
      {
        "duration": 8,
        "start_time": "2022-03-26T17:04:20.205Z"
      },
      {
        "duration": 64,
        "start_time": "2022-03-26T17:04:20.219Z"
      },
      {
        "duration": 9,
        "start_time": "2022-03-26T17:04:20.286Z"
      },
      {
        "duration": 32,
        "start_time": "2022-03-26T17:04:20.298Z"
      },
      {
        "duration": 81,
        "start_time": "2022-03-26T17:04:20.332Z"
      },
      {
        "duration": 6,
        "start_time": "2022-03-26T17:04:20.415Z"
      },
      {
        "duration": 61,
        "start_time": "2022-03-26T17:04:20.424Z"
      },
      {
        "duration": 36,
        "start_time": "2022-03-26T17:04:20.487Z"
      },
      {
        "duration": 10,
        "start_time": "2022-03-26T17:04:20.526Z"
      },
      {
        "duration": 66,
        "start_time": "2022-03-26T17:04:20.539Z"
      },
      {
        "duration": 628,
        "start_time": "2022-03-26T17:19:32.730Z"
      },
      {
        "duration": 26,
        "start_time": "2022-03-26T17:19:33.360Z"
      },
      {
        "duration": 31,
        "start_time": "2022-03-26T17:19:33.388Z"
      },
      {
        "duration": 72,
        "start_time": "2022-03-26T17:19:33.422Z"
      },
      {
        "duration": 9,
        "start_time": "2022-03-26T17:19:33.496Z"
      },
      {
        "duration": 13,
        "start_time": "2022-03-26T17:19:33.508Z"
      },
      {
        "duration": 57,
        "start_time": "2022-03-26T17:19:33.523Z"
      },
      {
        "duration": 7,
        "start_time": "2022-03-26T17:19:33.582Z"
      },
      {
        "duration": 10,
        "start_time": "2022-03-26T17:19:33.591Z"
      },
      {
        "duration": 18,
        "start_time": "2022-03-26T17:19:33.605Z"
      },
      {
        "duration": 5,
        "start_time": "2022-03-26T17:19:33.625Z"
      },
      {
        "duration": 52,
        "start_time": "2022-03-26T17:19:33.632Z"
      },
      {
        "duration": 6,
        "start_time": "2022-03-26T17:19:33.686Z"
      },
      {
        "duration": 5,
        "start_time": "2022-03-26T17:19:33.694Z"
      },
      {
        "duration": 111,
        "start_time": "2022-03-26T17:19:33.701Z"
      },
      {
        "duration": 23,
        "start_time": "2022-03-26T17:19:33.814Z"
      },
      {
        "duration": 38,
        "start_time": "2022-03-26T17:19:33.840Z"
      },
      {
        "duration": 4,
        "start_time": "2022-03-26T17:19:33.880Z"
      },
      {
        "duration": 56,
        "start_time": "2022-03-26T17:19:33.886Z"
      },
      {
        "duration": 34,
        "start_time": "2022-03-26T17:19:33.944Z"
      },
      {
        "duration": 24,
        "start_time": "2022-03-26T17:19:33.980Z"
      },
      {
        "duration": 21,
        "start_time": "2022-03-26T17:19:34.006Z"
      },
      {
        "duration": 7,
        "start_time": "2022-03-26T17:19:34.029Z"
      },
      {
        "duration": 38,
        "start_time": "2022-03-26T17:19:34.074Z"
      },
      {
        "duration": 6,
        "start_time": "2022-03-26T17:19:34.114Z"
      },
      {
        "duration": 66,
        "start_time": "2022-03-26T17:19:34.122Z"
      },
      {
        "duration": 8,
        "start_time": "2022-03-26T17:19:34.191Z"
      },
      {
        "duration": 75,
        "start_time": "2022-03-26T17:19:34.206Z"
      },
      {
        "duration": 14,
        "start_time": "2022-03-26T17:19:34.284Z"
      },
      {
        "duration": 30,
        "start_time": "2022-03-26T17:19:34.301Z"
      },
      {
        "duration": 84,
        "start_time": "2022-03-26T17:19:34.333Z"
      },
      {
        "duration": 5,
        "start_time": "2022-03-26T17:19:34.419Z"
      },
      {
        "duration": 63,
        "start_time": "2022-03-26T17:19:34.426Z"
      },
      {
        "duration": 34,
        "start_time": "2022-03-26T17:19:34.491Z"
      },
      {
        "duration": 13,
        "start_time": "2022-03-26T17:19:34.527Z"
      },
      {
        "duration": 57,
        "start_time": "2022-03-26T17:19:34.544Z"
      },
      {
        "duration": 26,
        "start_time": "2022-03-26T17:41:38.707Z"
      },
      {
        "duration": 24,
        "start_time": "2022-03-26T17:41:45.394Z"
      },
      {
        "duration": 531,
        "start_time": "2022-04-04T10:31:42.717Z"
      },
      {
        "duration": 99,
        "start_time": "2022-04-04T10:31:43.251Z"
      },
      {
        "duration": 22,
        "start_time": "2022-04-04T10:31:43.352Z"
      },
      {
        "duration": 32,
        "start_time": "2022-04-04T10:31:43.376Z"
      },
      {
        "duration": 45,
        "start_time": "2022-04-04T10:31:43.442Z"
      },
      {
        "duration": 11,
        "start_time": "2022-04-04T10:31:43.489Z"
      },
      {
        "duration": 49,
        "start_time": "2022-04-04T10:31:43.502Z"
      },
      {
        "duration": 31,
        "start_time": "2022-04-04T10:31:43.553Z"
      },
      {
        "duration": 7,
        "start_time": "2022-04-04T10:31:43.587Z"
      },
      {
        "duration": 49,
        "start_time": "2022-04-04T10:31:43.596Z"
      },
      {
        "duration": 18,
        "start_time": "2022-04-04T10:31:43.647Z"
      },
      {
        "duration": 13,
        "start_time": "2022-04-04T10:31:43.667Z"
      },
      {
        "duration": 15,
        "start_time": "2022-04-04T10:31:43.683Z"
      },
      {
        "duration": 6,
        "start_time": "2022-04-04T10:31:43.701Z"
      },
      {
        "duration": 38,
        "start_time": "2022-04-04T10:31:43.709Z"
      },
      {
        "duration": 98,
        "start_time": "2022-04-04T10:31:43.749Z"
      },
      {
        "duration": 20,
        "start_time": "2022-04-04T10:31:43.850Z"
      },
      {
        "duration": 18,
        "start_time": "2022-04-04T10:31:59.907Z"
      },
      {
        "duration": 17,
        "start_time": "2022-04-04T10:33:05.181Z"
      },
      {
        "duration": 17,
        "start_time": "2022-04-04T10:33:15.685Z"
      },
      {
        "duration": 16,
        "start_time": "2022-04-04T10:33:27.017Z"
      },
      {
        "duration": 14,
        "start_time": "2022-04-04T10:33:51.892Z"
      },
      {
        "duration": 15,
        "start_time": "2022-04-04T10:34:00.305Z"
      },
      {
        "duration": 18,
        "start_time": "2022-04-04T10:36:11.286Z"
      },
      {
        "duration": 20,
        "start_time": "2022-04-04T10:36:21.658Z"
      },
      {
        "duration": 4,
        "start_time": "2022-04-04T11:30:21.518Z"
      },
      {
        "duration": 95,
        "start_time": "2022-04-04T11:30:21.525Z"
      },
      {
        "duration": 37,
        "start_time": "2022-04-04T11:30:21.623Z"
      },
      {
        "duration": 47,
        "start_time": "2022-04-04T11:30:21.662Z"
      },
      {
        "duration": 84,
        "start_time": "2022-04-04T11:30:21.713Z"
      },
      {
        "duration": 9,
        "start_time": "2022-04-04T11:30:21.799Z"
      },
      {
        "duration": 37,
        "start_time": "2022-04-04T11:30:21.810Z"
      },
      {
        "duration": 30,
        "start_time": "2022-04-04T11:30:21.849Z"
      },
      {
        "duration": 8,
        "start_time": "2022-04-04T11:30:21.882Z"
      },
      {
        "duration": 50,
        "start_time": "2022-04-04T11:30:21.893Z"
      },
      {
        "duration": 20,
        "start_time": "2022-04-04T11:30:21.946Z"
      },
      {
        "duration": 10,
        "start_time": "2022-04-04T11:30:21.968Z"
      },
      {
        "duration": 18,
        "start_time": "2022-04-04T11:30:21.982Z"
      },
      {
        "duration": 7,
        "start_time": "2022-04-04T11:30:22.002Z"
      },
      {
        "duration": 32,
        "start_time": "2022-04-04T11:30:22.011Z"
      },
      {
        "duration": 75,
        "start_time": "2022-04-04T11:30:22.045Z"
      },
      {
        "duration": 36,
        "start_time": "2022-04-04T11:30:22.122Z"
      },
      {
        "duration": 21,
        "start_time": "2022-04-04T11:30:22.161Z"
      },
      {
        "duration": 3,
        "start_time": "2022-04-04T11:30:22.185Z"
      },
      {
        "duration": 90,
        "start_time": "2022-04-04T11:30:22.191Z"
      },
      {
        "duration": 9,
        "start_time": "2022-04-04T11:30:22.284Z"
      },
      {
        "duration": 22,
        "start_time": "2022-04-04T11:30:22.295Z"
      },
      {
        "duration": 41,
        "start_time": "2022-04-04T11:30:22.319Z"
      },
      {
        "duration": 7,
        "start_time": "2022-04-04T11:30:22.362Z"
      },
      {
        "duration": 34,
        "start_time": "2022-04-04T11:30:22.371Z"
      },
      {
        "duration": 5,
        "start_time": "2022-04-04T11:30:22.407Z"
      },
      {
        "duration": 31,
        "start_time": "2022-04-04T11:30:22.442Z"
      },
      {
        "duration": 7,
        "start_time": "2022-04-04T11:30:22.475Z"
      },
      {
        "duration": 7,
        "start_time": "2022-04-04T11:30:24.028Z"
      },
      {
        "duration": 34,
        "start_time": "2022-04-04T11:30:24.663Z"
      },
      {
        "duration": 4,
        "start_time": "2022-04-04T11:47:42.245Z"
      },
      {
        "duration": 110,
        "start_time": "2022-04-04T11:47:42.252Z"
      },
      {
        "duration": 21,
        "start_time": "2022-04-04T11:47:42.364Z"
      },
      {
        "duration": 31,
        "start_time": "2022-04-04T11:47:42.388Z"
      },
      {
        "duration": 42,
        "start_time": "2022-04-04T11:47:42.443Z"
      },
      {
        "duration": 8,
        "start_time": "2022-04-04T11:47:42.487Z"
      },
      {
        "duration": 17,
        "start_time": "2022-04-04T11:47:42.496Z"
      },
      {
        "duration": 29,
        "start_time": "2022-04-04T11:47:42.542Z"
      },
      {
        "duration": 6,
        "start_time": "2022-04-04T11:47:42.575Z"
      },
      {
        "duration": 9,
        "start_time": "2022-04-04T11:47:42.583Z"
      },
      {
        "duration": 54,
        "start_time": "2022-04-04T11:47:42.594Z"
      },
      {
        "duration": 4,
        "start_time": "2022-04-04T11:47:42.650Z"
      },
      {
        "duration": 15,
        "start_time": "2022-04-04T11:47:42.656Z"
      },
      {
        "duration": 4,
        "start_time": "2022-04-04T11:47:42.673Z"
      },
      {
        "duration": 11,
        "start_time": "2022-04-04T11:47:42.679Z"
      },
      {
        "duration": 100,
        "start_time": "2022-04-04T11:47:42.692Z"
      },
      {
        "duration": 19,
        "start_time": "2022-04-04T11:47:42.794Z"
      },
      {
        "duration": 42,
        "start_time": "2022-04-04T11:47:42.815Z"
      },
      {
        "duration": 3,
        "start_time": "2022-04-04T11:47:42.859Z"
      },
      {
        "duration": 53,
        "start_time": "2022-04-04T11:47:42.864Z"
      },
      {
        "duration": 9,
        "start_time": "2022-04-04T11:47:42.942Z"
      },
      {
        "duration": 22,
        "start_time": "2022-04-04T11:47:42.954Z"
      },
      {
        "duration": 20,
        "start_time": "2022-04-04T11:47:42.978Z"
      },
      {
        "duration": 4,
        "start_time": "2022-04-04T11:47:43.003Z"
      },
      {
        "duration": 65,
        "start_time": "2022-04-04T11:47:43.009Z"
      },
      {
        "duration": 10,
        "start_time": "2022-04-04T11:47:43.076Z"
      },
      {
        "duration": 55,
        "start_time": "2022-04-04T11:47:43.089Z"
      },
      {
        "duration": 8,
        "start_time": "2022-04-04T11:47:43.147Z"
      },
      {
        "duration": 36,
        "start_time": "2022-04-04T11:47:43.157Z"
      },
      {
        "duration": 9,
        "start_time": "2022-04-04T11:47:43.195Z"
      },
      {
        "duration": 9,
        "start_time": "2022-04-04T11:47:44.882Z"
      },
      {
        "duration": 30,
        "start_time": "2022-04-04T11:47:45.682Z"
      },
      {
        "duration": 45,
        "start_time": "2022-04-04T11:48:48.371Z"
      },
      {
        "duration": 29,
        "start_time": "2022-04-04T11:49:10.358Z"
      },
      {
        "duration": 3,
        "start_time": "2022-04-04T12:20:03.086Z"
      },
      {
        "duration": 4,
        "start_time": "2022-04-04T12:22:10.836Z"
      },
      {
        "duration": 112,
        "start_time": "2022-04-04T12:22:10.842Z"
      },
      {
        "duration": 22,
        "start_time": "2022-04-04T12:22:10.958Z"
      },
      {
        "duration": 29,
        "start_time": "2022-04-04T12:22:10.982Z"
      },
      {
        "duration": 70,
        "start_time": "2022-04-04T12:22:11.014Z"
      },
      {
        "duration": 9,
        "start_time": "2022-04-04T12:22:11.086Z"
      },
      {
        "duration": 46,
        "start_time": "2022-04-04T12:22:11.097Z"
      },
      {
        "duration": 29,
        "start_time": "2022-04-04T12:22:11.146Z"
      },
      {
        "duration": 7,
        "start_time": "2022-04-04T12:22:11.177Z"
      },
      {
        "duration": 10,
        "start_time": "2022-04-04T12:22:11.186Z"
      },
      {
        "duration": 54,
        "start_time": "2022-04-04T12:22:11.199Z"
      },
      {
        "duration": 4,
        "start_time": "2022-04-04T12:22:11.255Z"
      },
      {
        "duration": 19,
        "start_time": "2022-04-04T12:22:11.261Z"
      },
      {
        "duration": 4,
        "start_time": "2022-04-04T12:22:11.282Z"
      },
      {
        "duration": 5,
        "start_time": "2022-04-04T12:22:11.288Z"
      },
      {
        "duration": 107,
        "start_time": "2022-04-04T12:22:11.295Z"
      },
      {
        "duration": 19,
        "start_time": "2022-04-04T12:22:11.405Z"
      },
      {
        "duration": 21,
        "start_time": "2022-04-04T12:22:11.443Z"
      },
      {
        "duration": 3,
        "start_time": "2022-04-04T12:22:11.467Z"
      },
      {
        "duration": 94,
        "start_time": "2022-04-04T12:22:11.473Z"
      },
      {
        "duration": 10,
        "start_time": "2022-04-04T12:22:11.570Z"
      },
      {
        "duration": 23,
        "start_time": "2022-04-04T12:22:11.582Z"
      },
      {
        "duration": 37,
        "start_time": "2022-04-04T12:22:11.607Z"
      },
      {
        "duration": 9,
        "start_time": "2022-04-04T12:22:11.647Z"
      },
      {
        "duration": 36,
        "start_time": "2022-04-04T12:22:11.657Z"
      },
      {
        "duration": 5,
        "start_time": "2022-04-04T12:22:11.695Z"
      },
      {
        "duration": 63,
        "start_time": "2022-04-04T12:22:11.702Z"
      },
      {
        "duration": 7,
        "start_time": "2022-04-04T12:22:11.767Z"
      },
      {
        "duration": 31,
        "start_time": "2022-04-04T12:22:11.778Z"
      },
      {
        "duration": 37,
        "start_time": "2022-04-04T12:22:11.811Z"
      },
      {
        "duration": 30,
        "start_time": "2022-04-04T12:22:11.850Z"
      },
      {
        "duration": 71,
        "start_time": "2022-04-04T12:22:11.882Z"
      },
      {
        "duration": 3,
        "start_time": "2022-04-04T12:22:11.955Z"
      },
      {
        "duration": 12,
        "start_time": "2022-04-04T12:22:11.960Z"
      },
      {
        "duration": 3,
        "start_time": "2022-04-04T12:22:14.116Z"
      },
      {
        "duration": 27,
        "start_time": "2022-04-04T12:22:14.910Z"
      },
      {
        "duration": 20,
        "start_time": "2022-04-04T12:22:32.294Z"
      },
      {
        "duration": 24,
        "start_time": "2022-04-04T12:22:44.614Z"
      },
      {
        "duration": 33,
        "start_time": "2022-04-04T12:23:44.567Z"
      },
      {
        "duration": 44,
        "start_time": "2022-04-04T12:24:19.447Z"
      },
      {
        "duration": 34,
        "start_time": "2022-04-04T12:24:36.648Z"
      },
      {
        "duration": 29,
        "start_time": "2022-04-04T12:25:55.753Z"
      },
      {
        "duration": 4,
        "start_time": "2022-04-04T12:33:12.458Z"
      },
      {
        "duration": 108,
        "start_time": "2022-04-04T12:33:12.466Z"
      },
      {
        "duration": 23,
        "start_time": "2022-04-04T12:33:12.577Z"
      },
      {
        "duration": 60,
        "start_time": "2022-04-04T12:33:12.602Z"
      },
      {
        "duration": 42,
        "start_time": "2022-04-04T12:33:12.667Z"
      },
      {
        "duration": 34,
        "start_time": "2022-04-04T12:33:12.712Z"
      },
      {
        "duration": 16,
        "start_time": "2022-04-04T12:33:12.749Z"
      },
      {
        "duration": 29,
        "start_time": "2022-04-04T12:33:12.768Z"
      },
      {
        "duration": 48,
        "start_time": "2022-04-04T12:33:12.800Z"
      },
      {
        "duration": 12,
        "start_time": "2022-04-04T12:33:12.851Z"
      },
      {
        "duration": 19,
        "start_time": "2022-04-04T12:33:12.866Z"
      },
      {
        "duration": 6,
        "start_time": "2022-04-04T12:33:12.888Z"
      },
      {
        "duration": 14,
        "start_time": "2022-04-04T12:33:12.943Z"
      },
      {
        "duration": 10,
        "start_time": "2022-04-04T12:33:12.959Z"
      },
      {
        "duration": 6,
        "start_time": "2022-04-04T12:33:12.971Z"
      },
      {
        "duration": 103,
        "start_time": "2022-04-04T12:33:12.980Z"
      },
      {
        "duration": 20,
        "start_time": "2022-04-04T12:33:13.085Z"
      },
      {
        "duration": 42,
        "start_time": "2022-04-04T12:33:13.107Z"
      },
      {
        "duration": 3,
        "start_time": "2022-04-04T12:33:13.151Z"
      },
      {
        "duration": 51,
        "start_time": "2022-04-04T12:33:13.157Z"
      },
      {
        "duration": 9,
        "start_time": "2022-04-04T12:33:13.210Z"
      },
      {
        "duration": 22,
        "start_time": "2022-04-04T12:33:13.243Z"
      },
      {
        "duration": 20,
        "start_time": "2022-04-04T12:33:13.267Z"
      },
      {
        "duration": 5,
        "start_time": "2022-04-04T12:33:13.289Z"
      },
      {
        "duration": 71,
        "start_time": "2022-04-04T12:33:13.296Z"
      },
      {
        "duration": 5,
        "start_time": "2022-04-04T12:33:13.369Z"
      },
      {
        "duration": 29,
        "start_time": "2022-04-04T12:33:13.376Z"
      },
      {
        "duration": 37,
        "start_time": "2022-04-04T12:33:13.407Z"
      },
      {
        "duration": 32,
        "start_time": "2022-04-04T12:33:13.446Z"
      },
      {
        "duration": 9,
        "start_time": "2022-04-04T12:33:13.481Z"
      },
      {
        "duration": 59,
        "start_time": "2022-04-04T12:33:13.492Z"
      },
      {
        "duration": 34,
        "start_time": "2022-04-04T12:33:13.553Z"
      },
      {
        "duration": 7,
        "start_time": "2022-04-04T12:33:13.589Z"
      },
      {
        "duration": 5,
        "start_time": "2022-04-04T12:33:13.598Z"
      },
      {
        "duration": 55,
        "start_time": "2022-04-04T12:33:13.605Z"
      },
      {
        "duration": 8,
        "start_time": "2022-04-04T12:33:13.663Z"
      },
      {
        "duration": 10,
        "start_time": "2022-04-04T12:33:20.373Z"
      },
      {
        "duration": 47,
        "start_time": "2022-04-04T12:33:21.310Z"
      },
      {
        "duration": 500,
        "start_time": "2022-04-04T12:57:04.951Z"
      },
      {
        "duration": 117,
        "start_time": "2022-04-04T12:57:05.454Z"
      },
      {
        "duration": 22,
        "start_time": "2022-04-04T12:57:05.573Z"
      },
      {
        "duration": 54,
        "start_time": "2022-04-04T12:57:05.598Z"
      },
      {
        "duration": 47,
        "start_time": "2022-04-04T12:57:05.654Z"
      },
      {
        "duration": 10,
        "start_time": "2022-04-04T12:57:05.703Z"
      },
      {
        "duration": 40,
        "start_time": "2022-04-04T12:57:05.715Z"
      },
      {
        "duration": 44,
        "start_time": "2022-04-04T12:57:05.757Z"
      },
      {
        "duration": 6,
        "start_time": "2022-04-04T12:57:05.804Z"
      },
      {
        "duration": 48,
        "start_time": "2022-04-04T12:57:05.813Z"
      },
      {
        "duration": 20,
        "start_time": "2022-04-04T12:57:05.863Z"
      },
      {
        "duration": 26,
        "start_time": "2022-04-04T12:57:05.885Z"
      },
      {
        "duration": 22,
        "start_time": "2022-04-04T12:57:05.913Z"
      },
      {
        "duration": 6,
        "start_time": "2022-04-04T12:57:05.937Z"
      },
      {
        "duration": 14,
        "start_time": "2022-04-04T12:57:05.945Z"
      },
      {
        "duration": 89,
        "start_time": "2022-04-04T12:57:05.962Z"
      },
      {
        "duration": 22,
        "start_time": "2022-04-04T12:57:06.053Z"
      },
      {
        "duration": 35,
        "start_time": "2022-04-04T12:57:06.077Z"
      },
      {
        "duration": 29,
        "start_time": "2022-04-04T12:57:06.114Z"
      },
      {
        "duration": 71,
        "start_time": "2022-04-04T12:57:06.146Z"
      },
      {
        "duration": 9,
        "start_time": "2022-04-04T12:57:06.219Z"
      },
      {
        "duration": 36,
        "start_time": "2022-04-04T12:57:06.230Z"
      },
      {
        "duration": 20,
        "start_time": "2022-04-04T12:57:06.268Z"
      },
      {
        "duration": 9,
        "start_time": "2022-04-04T12:57:06.290Z"
      },
      {
        "duration": 64,
        "start_time": "2022-04-04T12:57:06.301Z"
      },
      {
        "duration": 4,
        "start_time": "2022-04-04T12:57:06.368Z"
      },
      {
        "duration": 32,
        "start_time": "2022-04-04T12:57:06.374Z"
      },
      {
        "duration": 31,
        "start_time": "2022-04-04T12:57:06.412Z"
      },
      {
        "duration": 33,
        "start_time": "2022-04-04T12:57:06.445Z"
      },
      {
        "duration": 9,
        "start_time": "2022-04-04T12:57:06.480Z"
      },
      {
        "duration": 66,
        "start_time": "2022-04-04T12:57:06.491Z"
      },
      {
        "duration": 41,
        "start_time": "2022-04-04T12:57:06.560Z"
      },
      {
        "duration": 12,
        "start_time": "2022-04-04T12:57:06.604Z"
      },
      {
        "duration": 25,
        "start_time": "2022-04-04T12:57:06.618Z"
      },
      {
        "duration": 28,
        "start_time": "2022-04-04T12:57:06.646Z"
      },
      {
        "duration": 8,
        "start_time": "2022-04-04T12:57:06.676Z"
      },
      {
        "duration": 57,
        "start_time": "2022-04-04T12:57:06.686Z"
      },
      {
        "duration": 548,
        "start_time": "2022-04-04T17:30:47.755Z"
      },
      {
        "duration": 116,
        "start_time": "2022-04-04T17:30:48.305Z"
      },
      {
        "duration": 21,
        "start_time": "2022-04-04T17:30:48.427Z"
      },
      {
        "duration": 51,
        "start_time": "2022-04-04T17:30:48.450Z"
      },
      {
        "duration": 45,
        "start_time": "2022-04-04T17:30:48.503Z"
      },
      {
        "duration": 30,
        "start_time": "2022-04-04T17:30:48.550Z"
      },
      {
        "duration": 24,
        "start_time": "2022-04-04T17:30:48.582Z"
      },
      {
        "duration": 33,
        "start_time": "2022-04-04T17:30:48.609Z"
      },
      {
        "duration": 8,
        "start_time": "2022-04-04T17:30:48.674Z"
      },
      {
        "duration": 28,
        "start_time": "2022-04-04T17:30:48.684Z"
      },
      {
        "duration": 22,
        "start_time": "2022-04-04T17:30:48.714Z"
      },
      {
        "duration": 10,
        "start_time": "2022-04-04T17:30:48.738Z"
      },
      {
        "duration": 30,
        "start_time": "2022-04-04T17:30:48.750Z"
      },
      {
        "duration": 5,
        "start_time": "2022-04-04T17:30:48.783Z"
      },
      {
        "duration": 5,
        "start_time": "2022-04-04T17:30:48.790Z"
      },
      {
        "duration": 109,
        "start_time": "2022-04-04T17:30:48.797Z"
      },
      {
        "duration": 21,
        "start_time": "2022-04-04T17:30:48.908Z"
      },
      {
        "duration": 51,
        "start_time": "2022-04-04T17:30:48.931Z"
      },
      {
        "duration": 4,
        "start_time": "2022-04-04T17:30:48.984Z"
      },
      {
        "duration": 83,
        "start_time": "2022-04-04T17:30:48.991Z"
      },
      {
        "duration": 11,
        "start_time": "2022-04-04T17:30:49.076Z"
      },
      {
        "duration": 30,
        "start_time": "2022-04-04T17:30:49.090Z"
      },
      {
        "duration": 52,
        "start_time": "2022-04-04T17:30:49.123Z"
      },
      {
        "duration": 7,
        "start_time": "2022-04-04T17:30:49.178Z"
      },
      {
        "duration": 36,
        "start_time": "2022-04-04T17:30:49.187Z"
      },
      {
        "duration": 5,
        "start_time": "2022-04-04T17:30:49.225Z"
      },
      {
        "duration": 67,
        "start_time": "2022-04-04T17:30:49.235Z"
      },
      {
        "duration": 8,
        "start_time": "2022-04-04T17:30:49.304Z"
      },
      {
        "duration": 30,
        "start_time": "2022-04-04T17:30:49.314Z"
      },
      {
        "duration": 34,
        "start_time": "2022-04-04T17:30:49.346Z"
      },
      {
        "duration": 30,
        "start_time": "2022-04-04T17:30:49.382Z"
      },
      {
        "duration": 62,
        "start_time": "2022-04-04T17:30:49.414Z"
      },
      {
        "duration": 11,
        "start_time": "2022-04-04T17:30:49.478Z"
      },
      {
        "duration": 11,
        "start_time": "2022-04-04T17:30:49.491Z"
      },
      {
        "duration": 30,
        "start_time": "2022-04-04T17:30:49.505Z"
      },
      {
        "duration": 9,
        "start_time": "2022-04-04T17:30:49.538Z"
      },
      {
        "duration": 55,
        "start_time": "2022-04-04T17:30:49.550Z"
      }
    ],
    "toc": {
      "base_numbering": 1,
      "nav_menu": {},
      "number_sections": true,
      "sideBar": true,
      "skip_h1_title": true,
      "title_cell": "Table of Contents",
      "title_sidebar": "Contents",
      "toc_cell": true,
      "toc_position": {},
      "toc_section_display": true,
      "toc_window_display": true
    }
  },
  "nbformat_minor": 5,
  "nbformat": 4,
  "cells": [
    {
      "id": "30db2a60",
      "cell_type": "markdown",
      "source": "<h1>Table of Contents<span class=\"tocSkip\"></span></h1>\n<div class=\"toc\"><ul class=\"toc-item\"><li><ul class=\"toc-item\"><li><span><a href=\"#Шаг-1.-Обзор-данных\" data-toc-modified-id=\"Шаг-1.-Обзор-данных-0.1\"><span class=\"toc-item-num\">0.1&nbsp;&nbsp;</span>Шаг 1. Обзор данных</a></span></li><li><span><a href=\"#Шаг-2.1-Заполнение-пропусков\" data-toc-modified-id=\"Шаг-2.1-Заполнение-пропусков-0.2\"><span class=\"toc-item-num\">0.2&nbsp;&nbsp;</span>Шаг 2.1 Заполнение пропусков</a></span></li><li><span><a href=\"#Шаг-2.2-Проверка-данных-на-аномалии-и-исправления.\" data-toc-modified-id=\"Шаг-2.2-Проверка-данных-на-аномалии-и-исправления.-0.3\"><span class=\"toc-item-num\">0.3&nbsp;&nbsp;</span>Шаг 2.2 Проверка данных на аномалии и исправления.</a></span></li><li><span><a href=\"#Шаг-2.3.-Изменение-типов-данных.\" data-toc-modified-id=\"Шаг-2.3.-Изменение-типов-данных.-0.4\"><span class=\"toc-item-num\">0.4&nbsp;&nbsp;</span>Шаг 2.3. Изменение типов данных.</a></span></li><li><span><a href=\"#Шаг-2.4.-Удаление-дубликатов.\" data-toc-modified-id=\"Шаг-2.4.-Удаление-дубликатов.-0.5\"><span class=\"toc-item-num\">0.5&nbsp;&nbsp;</span>Шаг 2.4. Удаление дубликатов.</a></span></li><li><span><a href=\"#Шаг-2.5.-Формирование-дополнительных-датафреймов-словарей,-декомпозиция-исходного-датафрейма.\" data-toc-modified-id=\"Шаг-2.5.-Формирование-дополнительных-датафреймов-словарей,-декомпозиция-исходного-датафрейма.-0.6\"><span class=\"toc-item-num\">0.6&nbsp;&nbsp;</span>Шаг 2.5. Формирование дополнительных датафреймов словарей, декомпозиция исходного датафрейма.</a></span></li><li><span><a href=\"#Шаг-2.6.-Категоризация-дохода.\" data-toc-modified-id=\"Шаг-2.6.-Категоризация-дохода.-0.7\"><span class=\"toc-item-num\">0.7&nbsp;&nbsp;</span>Шаг 2.6. Категоризация дохода.</a></span></li><li><span><a href=\"#Шаг-2.7.-Категоризация-целей-кредита.\" data-toc-modified-id=\"Шаг-2.7.-Категоризация-целей-кредита.-0.8\"><span class=\"toc-item-num\">0.8&nbsp;&nbsp;</span>Шаг 2.7. Категоризация целей кредита.</a></span></li><li><span><a href=\"#Ответы-на-вопросы.\" data-toc-modified-id=\"Ответы-на-вопросы.-0.9\"><span class=\"toc-item-num\">0.9&nbsp;&nbsp;</span>Ответы на вопросы.</a></span><ul class=\"toc-item\"><li><ul class=\"toc-item\"><li><span><a href=\"#Вопрос-1:\" data-toc-modified-id=\"Вопрос-1:-0.9.0.1\"><span class=\"toc-item-num\">0.9.0.1&nbsp;&nbsp;</span>Вопрос 1:</a></span></li></ul></li></ul></li></ul></li><li><span><a href=\"#Общий-вывод:\" data-toc-modified-id=\"Общий-вывод:-1\"><span class=\"toc-item-num\">1&nbsp;&nbsp;</span>Общий вывод:</a></span></li><li><span><a href=\"#Общий-вывод-по-проекту\" data-toc-modified-id=\"Общий-вывод-по-проекту-2\"><span class=\"toc-item-num\">2&nbsp;&nbsp;</span>Общий вывод по проекту</a></span></li><li><span><a href=\"#Вторая-итерация-ревью\" data-toc-modified-id=\"Вторая-итерация-ревью-3\"><span class=\"toc-item-num\">3&nbsp;&nbsp;</span>Вторая итерация ревью</a></span></li></ul></div>",
      "metadata": {
        "toc": true
      }
    },
    {
      "id": "ca9b7688",
      "cell_type": "markdown",
      "source": "# Исследование надежности заемщиков.",
      "metadata": {}
    },
    {
      "id": "f98dd9f6",
      "cell_type": "markdown",
      "source": "<b>Описание проекта</b>\n\nЗаказчик — кредитный отдел банка. Нужно разобраться, влияет ли семейное положение и количество детей клиента на факт погашения кредита в срок. Входные данные от банка — статистика о платёжеспособности клиентов.\n\nРезультаты исследования будут учтены при построении модели кредитного скоринга — специальной системы, которая оценивает способность потенциального заёмщика вернуть кредит банку.",
      "metadata": {}
    },
    {
      "id": "b7df29e4",
      "cell_type": "markdown",
      "source": "<b>Описание данных</b>\n\n- children — количество детей в семье\n- days_employed — общий трудовой стаж в днях\n- dob_years — возраст клиента в годах\n- education — уровень образования клиента\n- education_id — идентификатор уровня образования\n- family_status — семейное положение\n- family_status_id — идентификатор семейного положения\n- gender — пол клиента\n- income_type — тип занятости\n- debt — имел ли задолженность по возврату кредитов\n- total_income — ежемесячный доход\n- purpose — цель получения кредита",
      "metadata": {}
    },
    {
      "id": "a9f4db20",
      "cell_type": "markdown",
      "source": "<b>Цель: выявить следующие зависимости</b>\n- Есть ли зависимость между количеством детей и возвратом кредита в срок?\n- Есть ли зависимость между семейным положением и возвратом кредита в срок?\n- Есть ли зависимость между уровнем дохода и возвратом кредита в срок?\n- Как разные цели кредита влияют на его возврат в срок?",
      "metadata": {}
    },
    {
      "id": "5298b2a5",
      "cell_type": "markdown",
      "source": "### Шаг 1. Обзор данных",
      "metadata": {}
    },
    {
      "id": "ca7ce0de",
      "cell_type": "code",
      "source": "import pandas as pd",
      "metadata": {},
      "outputs": [],
      "execution_count": 1
    },
    {
      "id": "57caa00c",
      "cell_type": "code",
      "source": "clients = pd.read_csv('data.csv')\nclients.head(20)",
      "metadata": {},
      "outputs": [
        {
          "data": {
            "text/html": [
              "<div>\n",
              "<style scoped>\n",
              "    .dataframe tbody tr th:only-of-type {\n",
              "        vertical-align: middle;\n",
              "    }\n",
              "\n",
              "    .dataframe tbody tr th {\n",
              "        vertical-align: top;\n",
              "    }\n",
              "\n",
              "    .dataframe thead th {\n",
              "        text-align: right;\n",
              "    }\n",
              "</style>\n",
              "<table border=\"1\" class=\"dataframe\">\n",
              "  <thead>\n",
              "    <tr style=\"text-align: right;\">\n",
              "      <th></th>\n",
              "      <th>children</th>\n",
              "      <th>days_employed</th>\n",
              "      <th>dob_years</th>\n",
              "      <th>education</th>\n",
              "      <th>education_id</th>\n",
              "      <th>family_status</th>\n",
              "      <th>family_status_id</th>\n",
              "      <th>gender</th>\n",
              "      <th>income_type</th>\n",
              "      <th>debt</th>\n",
              "      <th>total_income</th>\n",
              "      <th>purpose</th>\n",
              "    </tr>\n",
              "  </thead>\n",
              "  <tbody>\n",
              "    <tr>\n",
              "      <th>0</th>\n",
              "      <td>1</td>\n",
              "      <td>-8437.673028</td>\n",
              "      <td>42</td>\n",
              "      <td>высшее</td>\n",
              "      <td>0</td>\n",
              "      <td>женат / замужем</td>\n",
              "      <td>0</td>\n",
              "      <td>F</td>\n",
              "      <td>сотрудник</td>\n",
              "      <td>0</td>\n",
              "      <td>253875.639453</td>\n",
              "      <td>покупка жилья</td>\n",
              "    </tr>\n",
              "    <tr>\n",
              "      <th>1</th>\n",
              "      <td>1</td>\n",
              "      <td>-4024.803754</td>\n",
              "      <td>36</td>\n",
              "      <td>среднее</td>\n",
              "      <td>1</td>\n",
              "      <td>женат / замужем</td>\n",
              "      <td>0</td>\n",
              "      <td>F</td>\n",
              "      <td>сотрудник</td>\n",
              "      <td>0</td>\n",
              "      <td>112080.014102</td>\n",
              "      <td>приобретение автомобиля</td>\n",
              "    </tr>\n",
              "    <tr>\n",
              "      <th>2</th>\n",
              "      <td>0</td>\n",
              "      <td>-5623.422610</td>\n",
              "      <td>33</td>\n",
              "      <td>Среднее</td>\n",
              "      <td>1</td>\n",
              "      <td>женат / замужем</td>\n",
              "      <td>0</td>\n",
              "      <td>M</td>\n",
              "      <td>сотрудник</td>\n",
              "      <td>0</td>\n",
              "      <td>145885.952297</td>\n",
              "      <td>покупка жилья</td>\n",
              "    </tr>\n",
              "    <tr>\n",
              "      <th>3</th>\n",
              "      <td>3</td>\n",
              "      <td>-4124.747207</td>\n",
              "      <td>32</td>\n",
              "      <td>среднее</td>\n",
              "      <td>1</td>\n",
              "      <td>женат / замужем</td>\n",
              "      <td>0</td>\n",
              "      <td>M</td>\n",
              "      <td>сотрудник</td>\n",
              "      <td>0</td>\n",
              "      <td>267628.550329</td>\n",
              "      <td>дополнительное образование</td>\n",
              "    </tr>\n",
              "    <tr>\n",
              "      <th>4</th>\n",
              "      <td>0</td>\n",
              "      <td>340266.072047</td>\n",
              "      <td>53</td>\n",
              "      <td>среднее</td>\n",
              "      <td>1</td>\n",
              "      <td>гражданский брак</td>\n",
              "      <td>1</td>\n",
              "      <td>F</td>\n",
              "      <td>пенсионер</td>\n",
              "      <td>0</td>\n",
              "      <td>158616.077870</td>\n",
              "      <td>сыграть свадьбу</td>\n",
              "    </tr>\n",
              "    <tr>\n",
              "      <th>5</th>\n",
              "      <td>0</td>\n",
              "      <td>-926.185831</td>\n",
              "      <td>27</td>\n",
              "      <td>высшее</td>\n",
              "      <td>0</td>\n",
              "      <td>гражданский брак</td>\n",
              "      <td>1</td>\n",
              "      <td>M</td>\n",
              "      <td>компаньон</td>\n",
              "      <td>0</td>\n",
              "      <td>255763.565419</td>\n",
              "      <td>покупка жилья</td>\n",
              "    </tr>\n",
              "    <tr>\n",
              "      <th>6</th>\n",
              "      <td>0</td>\n",
              "      <td>-2879.202052</td>\n",
              "      <td>43</td>\n",
              "      <td>высшее</td>\n",
              "      <td>0</td>\n",
              "      <td>женат / замужем</td>\n",
              "      <td>0</td>\n",
              "      <td>F</td>\n",
              "      <td>компаньон</td>\n",
              "      <td>0</td>\n",
              "      <td>240525.971920</td>\n",
              "      <td>операции с жильем</td>\n",
              "    </tr>\n",
              "    <tr>\n",
              "      <th>7</th>\n",
              "      <td>0</td>\n",
              "      <td>-152.779569</td>\n",
              "      <td>50</td>\n",
              "      <td>СРЕДНЕЕ</td>\n",
              "      <td>1</td>\n",
              "      <td>женат / замужем</td>\n",
              "      <td>0</td>\n",
              "      <td>M</td>\n",
              "      <td>сотрудник</td>\n",
              "      <td>0</td>\n",
              "      <td>135823.934197</td>\n",
              "      <td>образование</td>\n",
              "    </tr>\n",
              "    <tr>\n",
              "      <th>8</th>\n",
              "      <td>2</td>\n",
              "      <td>-6929.865299</td>\n",
              "      <td>35</td>\n",
              "      <td>ВЫСШЕЕ</td>\n",
              "      <td>0</td>\n",
              "      <td>гражданский брак</td>\n",
              "      <td>1</td>\n",
              "      <td>F</td>\n",
              "      <td>сотрудник</td>\n",
              "      <td>0</td>\n",
              "      <td>95856.832424</td>\n",
              "      <td>на проведение свадьбы</td>\n",
              "    </tr>\n",
              "    <tr>\n",
              "      <th>9</th>\n",
              "      <td>0</td>\n",
              "      <td>-2188.756445</td>\n",
              "      <td>41</td>\n",
              "      <td>среднее</td>\n",
              "      <td>1</td>\n",
              "      <td>женат / замужем</td>\n",
              "      <td>0</td>\n",
              "      <td>M</td>\n",
              "      <td>сотрудник</td>\n",
              "      <td>0</td>\n",
              "      <td>144425.938277</td>\n",
              "      <td>покупка жилья для семьи</td>\n",
              "    </tr>\n",
              "    <tr>\n",
              "      <th>10</th>\n",
              "      <td>2</td>\n",
              "      <td>-4171.483647</td>\n",
              "      <td>36</td>\n",
              "      <td>высшее</td>\n",
              "      <td>0</td>\n",
              "      <td>женат / замужем</td>\n",
              "      <td>0</td>\n",
              "      <td>M</td>\n",
              "      <td>компаньон</td>\n",
              "      <td>0</td>\n",
              "      <td>113943.491460</td>\n",
              "      <td>покупка недвижимости</td>\n",
              "    </tr>\n",
              "    <tr>\n",
              "      <th>11</th>\n",
              "      <td>0</td>\n",
              "      <td>-792.701887</td>\n",
              "      <td>40</td>\n",
              "      <td>среднее</td>\n",
              "      <td>1</td>\n",
              "      <td>женат / замужем</td>\n",
              "      <td>0</td>\n",
              "      <td>F</td>\n",
              "      <td>сотрудник</td>\n",
              "      <td>0</td>\n",
              "      <td>77069.234271</td>\n",
              "      <td>покупка коммерческой недвижимости</td>\n",
              "    </tr>\n",
              "    <tr>\n",
              "      <th>12</th>\n",
              "      <td>0</td>\n",
              "      <td>NaN</td>\n",
              "      <td>65</td>\n",
              "      <td>среднее</td>\n",
              "      <td>1</td>\n",
              "      <td>гражданский брак</td>\n",
              "      <td>1</td>\n",
              "      <td>M</td>\n",
              "      <td>пенсионер</td>\n",
              "      <td>0</td>\n",
              "      <td>NaN</td>\n",
              "      <td>сыграть свадьбу</td>\n",
              "    </tr>\n",
              "    <tr>\n",
              "      <th>13</th>\n",
              "      <td>0</td>\n",
              "      <td>-1846.641941</td>\n",
              "      <td>54</td>\n",
              "      <td>неоконченное высшее</td>\n",
              "      <td>2</td>\n",
              "      <td>женат / замужем</td>\n",
              "      <td>0</td>\n",
              "      <td>F</td>\n",
              "      <td>сотрудник</td>\n",
              "      <td>0</td>\n",
              "      <td>130458.228857</td>\n",
              "      <td>приобретение автомобиля</td>\n",
              "    </tr>\n",
              "    <tr>\n",
              "      <th>14</th>\n",
              "      <td>0</td>\n",
              "      <td>-1844.956182</td>\n",
              "      <td>56</td>\n",
              "      <td>высшее</td>\n",
              "      <td>0</td>\n",
              "      <td>гражданский брак</td>\n",
              "      <td>1</td>\n",
              "      <td>F</td>\n",
              "      <td>компаньон</td>\n",
              "      <td>1</td>\n",
              "      <td>165127.911772</td>\n",
              "      <td>покупка жилой недвижимости</td>\n",
              "    </tr>\n",
              "    <tr>\n",
              "      <th>15</th>\n",
              "      <td>1</td>\n",
              "      <td>-972.364419</td>\n",
              "      <td>26</td>\n",
              "      <td>среднее</td>\n",
              "      <td>1</td>\n",
              "      <td>женат / замужем</td>\n",
              "      <td>0</td>\n",
              "      <td>F</td>\n",
              "      <td>сотрудник</td>\n",
              "      <td>0</td>\n",
              "      <td>116820.904450</td>\n",
              "      <td>строительство собственной недвижимости</td>\n",
              "    </tr>\n",
              "    <tr>\n",
              "      <th>16</th>\n",
              "      <td>0</td>\n",
              "      <td>-1719.934226</td>\n",
              "      <td>35</td>\n",
              "      <td>среднее</td>\n",
              "      <td>1</td>\n",
              "      <td>женат / замужем</td>\n",
              "      <td>0</td>\n",
              "      <td>F</td>\n",
              "      <td>сотрудник</td>\n",
              "      <td>0</td>\n",
              "      <td>289202.704229</td>\n",
              "      <td>недвижимость</td>\n",
              "    </tr>\n",
              "    <tr>\n",
              "      <th>17</th>\n",
              "      <td>0</td>\n",
              "      <td>-2369.999720</td>\n",
              "      <td>33</td>\n",
              "      <td>высшее</td>\n",
              "      <td>0</td>\n",
              "      <td>гражданский брак</td>\n",
              "      <td>1</td>\n",
              "      <td>M</td>\n",
              "      <td>сотрудник</td>\n",
              "      <td>0</td>\n",
              "      <td>90410.586745</td>\n",
              "      <td>строительство недвижимости</td>\n",
              "    </tr>\n",
              "    <tr>\n",
              "      <th>18</th>\n",
              "      <td>0</td>\n",
              "      <td>400281.136913</td>\n",
              "      <td>53</td>\n",
              "      <td>среднее</td>\n",
              "      <td>1</td>\n",
              "      <td>вдовец / вдова</td>\n",
              "      <td>2</td>\n",
              "      <td>F</td>\n",
              "      <td>пенсионер</td>\n",
              "      <td>0</td>\n",
              "      <td>56823.777243</td>\n",
              "      <td>на покупку подержанного автомобиля</td>\n",
              "    </tr>\n",
              "    <tr>\n",
              "      <th>19</th>\n",
              "      <td>0</td>\n",
              "      <td>-10038.818549</td>\n",
              "      <td>48</td>\n",
              "      <td>СРЕДНЕЕ</td>\n",
              "      <td>1</td>\n",
              "      <td>в разводе</td>\n",
              "      <td>3</td>\n",
              "      <td>F</td>\n",
              "      <td>сотрудник</td>\n",
              "      <td>0</td>\n",
              "      <td>242831.107982</td>\n",
              "      <td>на покупку своего автомобиля</td>\n",
              "    </tr>\n",
              "  </tbody>\n",
              "</table>\n",
              "</div>"
            ],
            "text/plain": [
              "    children  days_employed  dob_years            education  education_id  \\\n",
              "0          1   -8437.673028         42               высшее             0   \n",
              "1          1   -4024.803754         36              среднее             1   \n",
              "2          0   -5623.422610         33              Среднее             1   \n",
              "3          3   -4124.747207         32              среднее             1   \n",
              "4          0  340266.072047         53              среднее             1   \n",
              "5          0    -926.185831         27               высшее             0   \n",
              "6          0   -2879.202052         43               высшее             0   \n",
              "7          0    -152.779569         50              СРЕДНЕЕ             1   \n",
              "8          2   -6929.865299         35               ВЫСШЕЕ             0   \n",
              "9          0   -2188.756445         41              среднее             1   \n",
              "10         2   -4171.483647         36               высшее             0   \n",
              "11         0    -792.701887         40              среднее             1   \n",
              "12         0            NaN         65              среднее             1   \n",
              "13         0   -1846.641941         54  неоконченное высшее             2   \n",
              "14         0   -1844.956182         56               высшее             0   \n",
              "15         1    -972.364419         26              среднее             1   \n",
              "16         0   -1719.934226         35              среднее             1   \n",
              "17         0   -2369.999720         33               высшее             0   \n",
              "18         0  400281.136913         53              среднее             1   \n",
              "19         0  -10038.818549         48              СРЕДНЕЕ             1   \n",
              "\n",
              "       family_status  family_status_id gender income_type  debt  \\\n",
              "0    женат / замужем                 0      F   сотрудник     0   \n",
              "1    женат / замужем                 0      F   сотрудник     0   \n",
              "2    женат / замужем                 0      M   сотрудник     0   \n",
              "3    женат / замужем                 0      M   сотрудник     0   \n",
              "4   гражданский брак                 1      F   пенсионер     0   \n",
              "5   гражданский брак                 1      M   компаньон     0   \n",
              "6    женат / замужем                 0      F   компаньон     0   \n",
              "7    женат / замужем                 0      M   сотрудник     0   \n",
              "8   гражданский брак                 1      F   сотрудник     0   \n",
              "9    женат / замужем                 0      M   сотрудник     0   \n",
              "10   женат / замужем                 0      M   компаньон     0   \n",
              "11   женат / замужем                 0      F   сотрудник     0   \n",
              "12  гражданский брак                 1      M   пенсионер     0   \n",
              "13   женат / замужем                 0      F   сотрудник     0   \n",
              "14  гражданский брак                 1      F   компаньон     1   \n",
              "15   женат / замужем                 0      F   сотрудник     0   \n",
              "16   женат / замужем                 0      F   сотрудник     0   \n",
              "17  гражданский брак                 1      M   сотрудник     0   \n",
              "18    вдовец / вдова                 2      F   пенсионер     0   \n",
              "19         в разводе                 3      F   сотрудник     0   \n",
              "\n",
              "     total_income                                 purpose  \n",
              "0   253875.639453                           покупка жилья  \n",
              "1   112080.014102                 приобретение автомобиля  \n",
              "2   145885.952297                           покупка жилья  \n",
              "3   267628.550329              дополнительное образование  \n",
              "4   158616.077870                         сыграть свадьбу  \n",
              "5   255763.565419                           покупка жилья  \n",
              "6   240525.971920                       операции с жильем  \n",
              "7   135823.934197                             образование  \n",
              "8    95856.832424                   на проведение свадьбы  \n",
              "9   144425.938277                 покупка жилья для семьи  \n",
              "10  113943.491460                    покупка недвижимости  \n",
              "11   77069.234271       покупка коммерческой недвижимости  \n",
              "12            NaN                         сыграть свадьбу  \n",
              "13  130458.228857                 приобретение автомобиля  \n",
              "14  165127.911772              покупка жилой недвижимости  \n",
              "15  116820.904450  строительство собственной недвижимости  \n",
              "16  289202.704229                            недвижимость  \n",
              "17   90410.586745              строительство недвижимости  \n",
              "18   56823.777243      на покупку подержанного автомобиля  \n",
              "19  242831.107982            на покупку своего автомобиля  "
            ]
          },
          "execution_count": 2,
          "metadata": {},
          "output_type": "execute_result"
        }
      ],
      "execution_count": 2
    },
    {
      "id": "fed595ad",
      "cell_type": "code",
      "source": "clients.info()",
      "metadata": {
        "scrolled": true
      },
      "outputs": [
        {
          "name": "stdout",
          "output_type": "stream",
          "text": [
            "<class 'pandas.core.frame.DataFrame'>\n",
            "RangeIndex: 21525 entries, 0 to 21524\n",
            "Data columns (total 12 columns):\n",
            " #   Column            Non-Null Count  Dtype  \n",
            "---  ------            --------------  -----  \n",
            " 0   children          21525 non-null  int64  \n",
            " 1   days_employed     19351 non-null  float64\n",
            " 2   dob_years         21525 non-null  int64  \n",
            " 3   education         21525 non-null  object \n",
            " 4   education_id      21525 non-null  int64  \n",
            " 5   family_status     21525 non-null  object \n",
            " 6   family_status_id  21525 non-null  int64  \n",
            " 7   gender            21525 non-null  object \n",
            " 8   income_type       21525 non-null  object \n",
            " 9   debt              21525 non-null  int64  \n",
            " 10  total_income      19351 non-null  float64\n",
            " 11  purpose           21525 non-null  object \n",
            "dtypes: float64(2), int64(5), object(5)\n",
            "memory usage: 2.0+ MB\n"
          ]
        }
      ],
      "execution_count": 3
    },
    {
      "id": "57cd833d",
      "cell_type": "markdown",
      "source": "**отсутствуют значения в колонках days_employed и total_income**  #причины для пропусков могут быть следующие:\n#эти люди никогда не работали, поэтому и не получали зп\n#либо они просто не указали данные о работе, в связи с этим и данные о зп отсутствуют. т.е. пропуски могут быть как случайными, так и нет",
      "metadata": {}
    },
    {
      "id": "fa7da337",
      "cell_type": "code",
      "source": "#clients.loc[(clients['days_employed']=='NaN')&(clients['total_income']=='NaN')]\nclients[clients['days_employed'].isna()].head(100)",
      "metadata": {
        "scrolled": true
      },
      "outputs": [
        {
          "data": {
            "text/html": [
              "<div>\n",
              "<style scoped>\n",
              "    .dataframe tbody tr th:only-of-type {\n",
              "        vertical-align: middle;\n",
              "    }\n",
              "\n",
              "    .dataframe tbody tr th {\n",
              "        vertical-align: top;\n",
              "    }\n",
              "\n",
              "    .dataframe thead th {\n",
              "        text-align: right;\n",
              "    }\n",
              "</style>\n",
              "<table border=\"1\" class=\"dataframe\">\n",
              "  <thead>\n",
              "    <tr style=\"text-align: right;\">\n",
              "      <th></th>\n",
              "      <th>children</th>\n",
              "      <th>days_employed</th>\n",
              "      <th>dob_years</th>\n",
              "      <th>education</th>\n",
              "      <th>education_id</th>\n",
              "      <th>family_status</th>\n",
              "      <th>family_status_id</th>\n",
              "      <th>gender</th>\n",
              "      <th>income_type</th>\n",
              "      <th>debt</th>\n",
              "      <th>total_income</th>\n",
              "      <th>purpose</th>\n",
              "    </tr>\n",
              "  </thead>\n",
              "  <tbody>\n",
              "    <tr>\n",
              "      <th>12</th>\n",
              "      <td>0</td>\n",
              "      <td>NaN</td>\n",
              "      <td>65</td>\n",
              "      <td>среднее</td>\n",
              "      <td>1</td>\n",
              "      <td>гражданский брак</td>\n",
              "      <td>1</td>\n",
              "      <td>M</td>\n",
              "      <td>пенсионер</td>\n",
              "      <td>0</td>\n",
              "      <td>NaN</td>\n",
              "      <td>сыграть свадьбу</td>\n",
              "    </tr>\n",
              "    <tr>\n",
              "      <th>26</th>\n",
              "      <td>0</td>\n",
              "      <td>NaN</td>\n",
              "      <td>41</td>\n",
              "      <td>среднее</td>\n",
              "      <td>1</td>\n",
              "      <td>женат / замужем</td>\n",
              "      <td>0</td>\n",
              "      <td>M</td>\n",
              "      <td>госслужащий</td>\n",
              "      <td>0</td>\n",
              "      <td>NaN</td>\n",
              "      <td>образование</td>\n",
              "    </tr>\n",
              "    <tr>\n",
              "      <th>29</th>\n",
              "      <td>0</td>\n",
              "      <td>NaN</td>\n",
              "      <td>63</td>\n",
              "      <td>среднее</td>\n",
              "      <td>1</td>\n",
              "      <td>Не женат / не замужем</td>\n",
              "      <td>4</td>\n",
              "      <td>F</td>\n",
              "      <td>пенсионер</td>\n",
              "      <td>0</td>\n",
              "      <td>NaN</td>\n",
              "      <td>строительство жилой недвижимости</td>\n",
              "    </tr>\n",
              "    <tr>\n",
              "      <th>41</th>\n",
              "      <td>0</td>\n",
              "      <td>NaN</td>\n",
              "      <td>50</td>\n",
              "      <td>среднее</td>\n",
              "      <td>1</td>\n",
              "      <td>женат / замужем</td>\n",
              "      <td>0</td>\n",
              "      <td>F</td>\n",
              "      <td>госслужащий</td>\n",
              "      <td>0</td>\n",
              "      <td>NaN</td>\n",
              "      <td>сделка с подержанным автомобилем</td>\n",
              "    </tr>\n",
              "    <tr>\n",
              "      <th>55</th>\n",
              "      <td>0</td>\n",
              "      <td>NaN</td>\n",
              "      <td>54</td>\n",
              "      <td>среднее</td>\n",
              "      <td>1</td>\n",
              "      <td>гражданский брак</td>\n",
              "      <td>1</td>\n",
              "      <td>F</td>\n",
              "      <td>пенсионер</td>\n",
              "      <td>1</td>\n",
              "      <td>NaN</td>\n",
              "      <td>сыграть свадьбу</td>\n",
              "    </tr>\n",
              "    <tr>\n",
              "      <th>...</th>\n",
              "      <td>...</td>\n",
              "      <td>...</td>\n",
              "      <td>...</td>\n",
              "      <td>...</td>\n",
              "      <td>...</td>\n",
              "      <td>...</td>\n",
              "      <td>...</td>\n",
              "      <td>...</td>\n",
              "      <td>...</td>\n",
              "      <td>...</td>\n",
              "      <td>...</td>\n",
              "      <td>...</td>\n",
              "    </tr>\n",
              "    <tr>\n",
              "      <th>959</th>\n",
              "      <td>0</td>\n",
              "      <td>NaN</td>\n",
              "      <td>25</td>\n",
              "      <td>среднее</td>\n",
              "      <td>1</td>\n",
              "      <td>гражданский брак</td>\n",
              "      <td>1</td>\n",
              "      <td>M</td>\n",
              "      <td>сотрудник</td>\n",
              "      <td>0</td>\n",
              "      <td>NaN</td>\n",
              "      <td>образование</td>\n",
              "    </tr>\n",
              "    <tr>\n",
              "      <th>973</th>\n",
              "      <td>0</td>\n",
              "      <td>NaN</td>\n",
              "      <td>49</td>\n",
              "      <td>среднее</td>\n",
              "      <td>1</td>\n",
              "      <td>женат / замужем</td>\n",
              "      <td>0</td>\n",
              "      <td>F</td>\n",
              "      <td>сотрудник</td>\n",
              "      <td>0</td>\n",
              "      <td>NaN</td>\n",
              "      <td>операции с жильем</td>\n",
              "    </tr>\n",
              "    <tr>\n",
              "      <th>974</th>\n",
              "      <td>0</td>\n",
              "      <td>NaN</td>\n",
              "      <td>60</td>\n",
              "      <td>среднее</td>\n",
              "      <td>1</td>\n",
              "      <td>женат / замужем</td>\n",
              "      <td>0</td>\n",
              "      <td>M</td>\n",
              "      <td>сотрудник</td>\n",
              "      <td>0</td>\n",
              "      <td>NaN</td>\n",
              "      <td>высшее образование</td>\n",
              "    </tr>\n",
              "    <tr>\n",
              "      <th>978</th>\n",
              "      <td>3</td>\n",
              "      <td>NaN</td>\n",
              "      <td>28</td>\n",
              "      <td>среднее</td>\n",
              "      <td>1</td>\n",
              "      <td>гражданский брак</td>\n",
              "      <td>1</td>\n",
              "      <td>F</td>\n",
              "      <td>сотрудник</td>\n",
              "      <td>0</td>\n",
              "      <td>NaN</td>\n",
              "      <td>ремонт жилью</td>\n",
              "    </tr>\n",
              "    <tr>\n",
              "      <th>980</th>\n",
              "      <td>0</td>\n",
              "      <td>NaN</td>\n",
              "      <td>53</td>\n",
              "      <td>высшее</td>\n",
              "      <td>0</td>\n",
              "      <td>женат / замужем</td>\n",
              "      <td>0</td>\n",
              "      <td>F</td>\n",
              "      <td>сотрудник</td>\n",
              "      <td>0</td>\n",
              "      <td>NaN</td>\n",
              "      <td>получение образования</td>\n",
              "    </tr>\n",
              "  </tbody>\n",
              "</table>\n",
              "<p>100 rows × 12 columns</p>\n",
              "</div>"
            ],
            "text/plain": [
              "     children  days_employed  dob_years education  education_id  \\\n",
              "12          0            NaN         65   среднее             1   \n",
              "26          0            NaN         41   среднее             1   \n",
              "29          0            NaN         63   среднее             1   \n",
              "41          0            NaN         50   среднее             1   \n",
              "55          0            NaN         54   среднее             1   \n",
              "..        ...            ...        ...       ...           ...   \n",
              "959         0            NaN         25   среднее             1   \n",
              "973         0            NaN         49   среднее             1   \n",
              "974         0            NaN         60   среднее             1   \n",
              "978         3            NaN         28   среднее             1   \n",
              "980         0            NaN         53    высшее             0   \n",
              "\n",
              "             family_status  family_status_id gender  income_type  debt  \\\n",
              "12        гражданский брак                 1      M    пенсионер     0   \n",
              "26         женат / замужем                 0      M  госслужащий     0   \n",
              "29   Не женат / не замужем                 4      F    пенсионер     0   \n",
              "41         женат / замужем                 0      F  госслужащий     0   \n",
              "55        гражданский брак                 1      F    пенсионер     1   \n",
              "..                     ...               ...    ...          ...   ...   \n",
              "959       гражданский брак                 1      M    сотрудник     0   \n",
              "973        женат / замужем                 0      F    сотрудник     0   \n",
              "974        женат / замужем                 0      M    сотрудник     0   \n",
              "978       гражданский брак                 1      F    сотрудник     0   \n",
              "980        женат / замужем                 0      F    сотрудник     0   \n",
              "\n",
              "     total_income                           purpose  \n",
              "12            NaN                   сыграть свадьбу  \n",
              "26            NaN                       образование  \n",
              "29            NaN  строительство жилой недвижимости  \n",
              "41            NaN  сделка с подержанным автомобилем  \n",
              "55            NaN                   сыграть свадьбу  \n",
              "..            ...                               ...  \n",
              "959           NaN                       образование  \n",
              "973           NaN                 операции с жильем  \n",
              "974           NaN                высшее образование  \n",
              "978           NaN                      ремонт жилью  \n",
              "980           NaN             получение образования  \n",
              "\n",
              "[100 rows x 12 columns]"
            ]
          },
          "execution_count": 4,
          "metadata": {},
          "output_type": "execute_result"
        }
      ],
      "execution_count": 4
    },
    {
      "id": "10c17815",
      "cell_type": "markdown",
      "source": "тут я пыталась понять, совпадают ли строчки с NaN в этих двух столбцах.\nвроде как да)",
      "metadata": {}
    },
    {
      "id": "674b2b97",
      "cell_type": "code",
      "source": "clients.describe()",
      "metadata": {},
      "outputs": [
        {
          "data": {
            "text/html": [
              "<div>\n",
              "<style scoped>\n",
              "    .dataframe tbody tr th:only-of-type {\n",
              "        vertical-align: middle;\n",
              "    }\n",
              "\n",
              "    .dataframe tbody tr th {\n",
              "        vertical-align: top;\n",
              "    }\n",
              "\n",
              "    .dataframe thead th {\n",
              "        text-align: right;\n",
              "    }\n",
              "</style>\n",
              "<table border=\"1\" class=\"dataframe\">\n",
              "  <thead>\n",
              "    <tr style=\"text-align: right;\">\n",
              "      <th></th>\n",
              "      <th>children</th>\n",
              "      <th>days_employed</th>\n",
              "      <th>dob_years</th>\n",
              "      <th>education_id</th>\n",
              "      <th>family_status_id</th>\n",
              "      <th>debt</th>\n",
              "      <th>total_income</th>\n",
              "    </tr>\n",
              "  </thead>\n",
              "  <tbody>\n",
              "    <tr>\n",
              "      <th>count</th>\n",
              "      <td>21525.000000</td>\n",
              "      <td>19351.000000</td>\n",
              "      <td>21525.000000</td>\n",
              "      <td>21525.000000</td>\n",
              "      <td>21525.000000</td>\n",
              "      <td>21525.000000</td>\n",
              "      <td>1.935100e+04</td>\n",
              "    </tr>\n",
              "    <tr>\n",
              "      <th>mean</th>\n",
              "      <td>0.538908</td>\n",
              "      <td>63046.497661</td>\n",
              "      <td>43.293380</td>\n",
              "      <td>0.817236</td>\n",
              "      <td>0.972544</td>\n",
              "      <td>0.080883</td>\n",
              "      <td>1.674223e+05</td>\n",
              "    </tr>\n",
              "    <tr>\n",
              "      <th>std</th>\n",
              "      <td>1.381587</td>\n",
              "      <td>140827.311974</td>\n",
              "      <td>12.574584</td>\n",
              "      <td>0.548138</td>\n",
              "      <td>1.420324</td>\n",
              "      <td>0.272661</td>\n",
              "      <td>1.029716e+05</td>\n",
              "    </tr>\n",
              "    <tr>\n",
              "      <th>min</th>\n",
              "      <td>-1.000000</td>\n",
              "      <td>-18388.949901</td>\n",
              "      <td>0.000000</td>\n",
              "      <td>0.000000</td>\n",
              "      <td>0.000000</td>\n",
              "      <td>0.000000</td>\n",
              "      <td>2.066726e+04</td>\n",
              "    </tr>\n",
              "    <tr>\n",
              "      <th>25%</th>\n",
              "      <td>0.000000</td>\n",
              "      <td>-2747.423625</td>\n",
              "      <td>33.000000</td>\n",
              "      <td>1.000000</td>\n",
              "      <td>0.000000</td>\n",
              "      <td>0.000000</td>\n",
              "      <td>1.030532e+05</td>\n",
              "    </tr>\n",
              "    <tr>\n",
              "      <th>50%</th>\n",
              "      <td>0.000000</td>\n",
              "      <td>-1203.369529</td>\n",
              "      <td>42.000000</td>\n",
              "      <td>1.000000</td>\n",
              "      <td>0.000000</td>\n",
              "      <td>0.000000</td>\n",
              "      <td>1.450179e+05</td>\n",
              "    </tr>\n",
              "    <tr>\n",
              "      <th>75%</th>\n",
              "      <td>1.000000</td>\n",
              "      <td>-291.095954</td>\n",
              "      <td>53.000000</td>\n",
              "      <td>1.000000</td>\n",
              "      <td>1.000000</td>\n",
              "      <td>0.000000</td>\n",
              "      <td>2.034351e+05</td>\n",
              "    </tr>\n",
              "    <tr>\n",
              "      <th>max</th>\n",
              "      <td>20.000000</td>\n",
              "      <td>401755.400475</td>\n",
              "      <td>75.000000</td>\n",
              "      <td>4.000000</td>\n",
              "      <td>4.000000</td>\n",
              "      <td>1.000000</td>\n",
              "      <td>2.265604e+06</td>\n",
              "    </tr>\n",
              "  </tbody>\n",
              "</table>\n",
              "</div>"
            ],
            "text/plain": [
              "           children  days_employed     dob_years  education_id  \\\n",
              "count  21525.000000   19351.000000  21525.000000  21525.000000   \n",
              "mean       0.538908   63046.497661     43.293380      0.817236   \n",
              "std        1.381587  140827.311974     12.574584      0.548138   \n",
              "min       -1.000000  -18388.949901      0.000000      0.000000   \n",
              "25%        0.000000   -2747.423625     33.000000      1.000000   \n",
              "50%        0.000000   -1203.369529     42.000000      1.000000   \n",
              "75%        1.000000    -291.095954     53.000000      1.000000   \n",
              "max       20.000000  401755.400475     75.000000      4.000000   \n",
              "\n",
              "       family_status_id          debt  total_income  \n",
              "count      21525.000000  21525.000000  1.935100e+04  \n",
              "mean           0.972544      0.080883  1.674223e+05  \n",
              "std            1.420324      0.272661  1.029716e+05  \n",
              "min            0.000000      0.000000  2.066726e+04  \n",
              "25%            0.000000      0.000000  1.030532e+05  \n",
              "50%            0.000000      0.000000  1.450179e+05  \n",
              "75%            1.000000      0.000000  2.034351e+05  \n",
              "max            4.000000      1.000000  2.265604e+06  "
            ]
          },
          "execution_count": 5,
          "metadata": {},
          "output_type": "execute_result"
        }
      ],
      "execution_count": 5
    },
    {
      "id": "59add8c8",
      "cell_type": "markdown",
      "source": "1. количество детей = -1 физически невозможно\n2. количество детей = 20 что-то многовато\n3. dob_years минимальное значение 0, вероятнее всего просто не указан возраст\n4. отрицательные значения колонки days_employed, может быть ошибка в знаке?\n5. в этом же столбце максимальное значение 401755 = 1100,7 лет, а среднее 63046 = 172,7 лет нужно искать ошибку. Также логичнее было бы в таблице перевести этот столбец в годах\n6. не описано в чем представлена зарплата, в условных единицах например ",
      "metadata": {}
    },
    {
      "id": "c32f0a9d",
      "cell_type": "markdown",
      "source": "### Шаг 2.1 Заполнение пропусков",
      "metadata": {}
    },
    {
      "id": "9746f6a6",
      "cell_type": "code",
      "source": "print(\"Количество строк с 'days_employed' < 0:\", clients[clients['days_employed'] < 0].shape[0])",
      "metadata": {},
      "outputs": [
        {
          "name": "stdout",
          "output_type": "stream",
          "text": [
            "Количество строк с 'days_employed' < 0: 15906\n"
          ]
        }
      ],
      "execution_count": 6
    },
    {
      "id": "bd0a2639",
      "cell_type": "markdown",
      "source": "1. Всего days_employed 19351, а 15906 из них отрицательные, т.е. почти 82%\nединственное предположение, это убрать минус, т.е.использовать abs",
      "metadata": {}
    },
    {
      "id": "2f0545d4",
      "cell_type": "code",
      "source": "clients.isna().sum() # нашли пропуски в столбцах days_employed, total_income  2174           \na = clients['days_employed'].isna().sum()/clients['children'].count() #примерно 10% составляют пропущенные значения для столбца days_employed\nb = clients['total_income'].isna().sum()/clients['children'].count()  #примерно 10% составляют пропущенные значения для столбца total_income\nprint('Доля пропущенных значений для столбца days_employed равна {:.0%}'.format(a))\nprint('Доля пропущенных значений для столбца total_income равна {:.0%}'.format(b))",
      "metadata": {},
      "outputs": [
        {
          "name": "stdout",
          "output_type": "stream",
          "text": [
            "Доля пропущенных значений для столбца days_employed равна 10%\n",
            "Доля пропущенных значений для столбца total_income равна 10%\n"
          ]
        }
      ],
      "execution_count": 7
    },
    {
      "id": "016c5945",
      "cell_type": "markdown",
      "source": "1. для начала я перевести все отрицательные значения в положительные\n2. затем я заполню пропуски медианным значением.\nС одной стороны использование именно медианного значения позволяет не удалять полностью информацию о людях, а использовать хоть какие-то данные, в этом случае медианна покажет более достоверное значение, так как если брать среднее, то слишком маленькое или слишком большое значение сильно повлияет на него. Но вообще-то это нечестно, так как при отсутствии информации о работе и зарплате шанс выдачи кредита маленький, а если заполнить медианным значением, но шанс наоборот повышается (я бы приравняла к 0).",
      "metadata": {}
    },
    {
      "id": "663c2f5f-1d37-4a01-8114-6a867e7595e1",
      "cell_type": "markdown",
      "source": "Еще нужно сгруппировать данные по типу занятости, посчитать медианы и заполнить пропуски ими. (not done)",
      "metadata": {}
    },
    {
      "id": "9ef13bf3",
      "cell_type": "code",
      "source": "#делаем колонку days_employed положительной \nclients['days_employed'] = clients['days_employed'].abs()\n#для того, чтобы заполнить пропуски, нужно найти медианные значения для этих 2х столбцов\nmed_days_employed=clients['days_employed'].sort_values(ascending=False).median() #получилось отрицательное...\nmed_total_income=clients['total_income'].sort_values(ascending=False).median()\n#заполним пропуски\nclients['days_employed'] = clients['days_employed'].fillna(med_days_employed)\nclients['total_income'] = clients['total_income'].fillna(med_total_income)\nclients.info() #чекнули, пропуски заполнены",
      "metadata": {},
      "outputs": [
        {
          "name": "stdout",
          "output_type": "stream",
          "text": [
            "<class 'pandas.core.frame.DataFrame'>\n",
            "RangeIndex: 21525 entries, 0 to 21524\n",
            "Data columns (total 12 columns):\n",
            " #   Column            Non-Null Count  Dtype  \n",
            "---  ------            --------------  -----  \n",
            " 0   children          21525 non-null  int64  \n",
            " 1   days_employed     21525 non-null  float64\n",
            " 2   dob_years         21525 non-null  int64  \n",
            " 3   education         21525 non-null  object \n",
            " 4   education_id      21525 non-null  int64  \n",
            " 5   family_status     21525 non-null  object \n",
            " 6   family_status_id  21525 non-null  int64  \n",
            " 7   gender            21525 non-null  object \n",
            " 8   income_type       21525 non-null  object \n",
            " 9   debt              21525 non-null  int64  \n",
            " 10  total_income      21525 non-null  float64\n",
            " 11  purpose           21525 non-null  object \n",
            "dtypes: float64(2), int64(5), object(5)\n",
            "memory usage: 2.0+ MB\n"
          ]
        }
      ],
      "execution_count": 8
    },
    {
      "id": "5ef7db42",
      "cell_type": "code",
      "source": "# Код ревьюера\nclients['days_employed'].median()",
      "metadata": {},
      "outputs": [
        {
          "data": {
            "text/plain": [
              "2194.220566878695"
            ]
          },
          "execution_count": 9,
          "metadata": {},
          "output_type": "execute_result"
        }
      ],
      "execution_count": 9
    },
    {
      "id": "cfaad92c",
      "cell_type": "code",
      "source": "#поменяю количество рабочих дней в года в новой колонке. пока непонятно, что делать с тем, кто работал >50-60 лет\nclients['years_employed'] = clients['days_employed']/365\n\nclients[clients['years_employed']>50]['years_employed'].count() #примерно столько человек не похоже, что могли работать так долго",
      "metadata": {},
      "outputs": [
        {
          "data": {
            "text/plain": [
              "3446"
            ]
          },
          "execution_count": 10,
          "metadata": {},
          "output_type": "execute_result"
        }
      ],
      "execution_count": 10
    },
    {
      "id": "30da2808",
      "cell_type": "markdown",
      "source": "### Шаг 2.2 Проверка данных на аномалии и исправления.",
      "metadata": {}
    },
    {
      "id": "3e48d7c5",
      "cell_type": "code",
      "source": "print(\"Всего людей с количеством детей -1 :\", clients[clients['children'] == -1].count()[0])\n\nprint(\"Всего людей с количеством детей 20:\", clients[clients['children'] == 20].count()[0])\n\nprint(\"Всего людей с возрастом 0:\", clients[clients['dob_years'] == 0].count()[0])",
      "metadata": {},
      "outputs": [
        {
          "name": "stdout",
          "output_type": "stream",
          "text": [
            "Всего людей с количеством детей -1 : 47\n",
            "Всего людей с количеством детей 20: 76\n",
            "Всего людей с возрастом 0: 101\n"
          ]
        }
      ],
      "execution_count": 11
    },
    {
      "id": "8d78c217",
      "cell_type": "markdown",
      "source": "1. детей -1, может быть как +1, может что их нет\n2. детей 20 скорее ошибка, либо 2, либо 0, но может и правда так, оставлю, вдруг кому-то действительно так повезло :D\n3. возраст 0 скорее ошибка заполнения\n\n",
      "metadata": {}
    },
    {
      "id": "1472bc19",
      "cell_type": "code",
      "source": "#меняем children на 0\nclients['children'] = clients['children'].replace(-1,0)",
      "metadata": {},
      "outputs": [],
      "execution_count": 12
    },
    {
      "id": "0121a36b",
      "cell_type": "code",
      "source": "#так как мы не знаем, что это за люди с возрастом 0, заменим на среднее, так как нулеых значений всего 101\nmean_dob_years = clients['dob_years'].mean()\nclients['dob_years'] = clients['dob_years'].replace(0,mean_dob_years)",
      "metadata": {},
      "outputs": [],
      "execution_count": 13
    },
    {
      "id": "1adde7a2",
      "cell_type": "markdown",
      "source": "### Шаг 2.3. Изменение типов данных.",
      "metadata": {}
    },
    {
      "id": "9481c6c4",
      "cell_type": "code",
      "source": "clients['total_income'] = clients['total_income'].astype('int')",
      "metadata": {},
      "outputs": [],
      "execution_count": 14
    },
    {
      "id": "16a8f6c1",
      "cell_type": "markdown",
      "source": "в целом нам также не очень важно точное количество рабочих дней, поэтому повторим процедуру и для этого столбца",
      "metadata": {}
    },
    {
      "id": "3eb3309a",
      "cell_type": "code",
      "source": "clients['days_employed'] = clients['days_employed'].astype('int')",
      "metadata": {},
      "outputs": [],
      "execution_count": 15
    },
    {
      "id": "647b5c63",
      "cell_type": "markdown",
      "source": "### Шаг 2.4. Удаление дубликатов.",
      "metadata": {}
    },
    {
      "id": "d457c1eb",
      "cell_type": "markdown",
      "source": "Дубликаты могут повлиять на анализ, особенно если в них будут нестандартные значения (слишком большие или маленькие)",
      "metadata": {}
    },
    {
      "id": "4850bacc",
      "cell_type": "code",
      "source": "#начнем с поиска явных дубликатов\nclients.duplicated().sum()\n#удаляем явные дубликаты\nclients = clients.drop_duplicates().reset_index(drop=True)\nclients.duplicated().sum() #явные дубликаты удалены",
      "metadata": {
        "scrolled": true
      },
      "outputs": [
        {
          "data": {
            "text/plain": [
              "0"
            ]
          },
          "execution_count": 16,
          "metadata": {},
          "output_type": "execute_result"
        }
      ],
      "execution_count": 16
    },
    {
      "id": "3c088f1c",
      "cell_type": "code",
      "source": "#теперь найдем неявные дубликаты в столбце education\nclients['education'] = clients['education'].str.lower() #привели к нижнему регистру, теперь можно искать\nclients['education'].unique()",
      "metadata": {
        "scrolled": true
      },
      "outputs": [
        {
          "data": {
            "text/plain": [
              "array(['высшее', 'среднее', 'неоконченное высшее', 'начальное',\n",
              "       'ученая степень'], dtype=object)"
            ]
          },
          "execution_count": 17,
          "metadata": {},
          "output_type": "execute_result"
        }
      ],
      "execution_count": 17
    },
    {
      "id": "63033441",
      "cell_type": "code",
      "source": "#проверим остальные столбцы с группами \ndisplay(clients['family_status'].unique())\ndisplay(clients['gender'].unique())\ndisplay(clients['income_type'].unique())\ndisplay(clients['purpose'].value_counts())",
      "metadata": {},
      "outputs": [
        {
          "data": {
            "text/plain": [
              "array(['женат / замужем', 'гражданский брак', 'вдовец / вдова',\n",
              "       'в разводе', 'Не женат / не замужем'], dtype=object)"
            ]
          },
          "metadata": {},
          "output_type": "display_data"
        },
        {
          "data": {
            "text/plain": [
              "array(['F', 'M', 'XNA'], dtype=object)"
            ]
          },
          "metadata": {},
          "output_type": "display_data"
        },
        {
          "data": {
            "text/plain": [
              "array(['сотрудник', 'пенсионер', 'компаньон', 'госслужащий',\n",
              "       'безработный', 'предприниматель', 'студент', 'в декрете'],\n",
              "      dtype=object)"
            ]
          },
          "metadata": {},
          "output_type": "display_data"
        },
        {
          "data": {
            "text/plain": [
              "свадьба                                   793\n",
              "на проведение свадьбы                     773\n",
              "сыграть свадьбу                           769\n",
              "операции с недвижимостью                  675\n",
              "покупка коммерческой недвижимости         662\n",
              "покупка жилья для сдачи                   652\n",
              "операции с жильем                         652\n",
              "операции с коммерческой недвижимостью     650\n",
              "жилье                                     646\n",
              "покупка жилья                             646\n",
              "покупка жилья для семьи                   638\n",
              "строительство собственной недвижимости    635\n",
              "недвижимость                              633\n",
              "операции со своей недвижимостью           627\n",
              "строительство жилой недвижимости          625\n",
              "покупка недвижимости                      621\n",
              "покупка своего жилья                      620\n",
              "строительство недвижимости                619\n",
              "ремонт жилью                              607\n",
              "покупка жилой недвижимости                606\n",
              "на покупку своего автомобиля              505\n",
              "заняться высшим образованием              496\n",
              "автомобиль                                494\n",
              "сделка с подержанным автомобилем          486\n",
              "свой автомобиль                           479\n",
              "на покупку подержанного автомобиля        478\n",
              "автомобили                                478\n",
              "на покупку автомобиля                     472\n",
              "приобретение автомобиля                   461\n",
              "дополнительное образование                460\n",
              "сделка с автомобилем                      455\n",
              "высшее образование                        452\n",
              "образование                               447\n",
              "получение дополнительного образования     447\n",
              "получение образования                     442\n",
              "профильное образование                    436\n",
              "получение высшего образования             426\n",
              "заняться образованием                     408\n",
              "Name: purpose, dtype: int64"
            ]
          },
          "metadata": {},
          "output_type": "display_data"
        }
      ],
      "execution_count": 18
    },
    {
      "id": "b8967d23",
      "cell_type": "markdown",
      "source": "1. В столбце family_status только уникальные значения\n2. В столбце gender только уникальные значения\n3. В столбце income_type только уникальные значения\n4. В столбце purpose очень много похожих целей для взятия кредита, заменим на уникальные",
      "metadata": {}
    },
    {
      "id": "561dc940",
      "cell_type": "code",
      "source": "def replace_wrong_values(wrong_values, correct_value): # на вход функции подаются список неправильных значений и строка с правильным значением\n    for wrong_value in wrong_values: # перебираем неправильные причины\n        clients['purpose'] = clients['purpose'].replace(wrong_value, correct_value) # и для каждого неправильного имени вызываем метод replace()\n\nduplicates1 = ['на проведение свадьбы', 'сыграть свадьбу'] # список неправильных имён\npurpose1 = 'свадьба' # правильная причина\nduplicates2 = ['покупка коммерческой недвижимости', 'операции с жильем', 'покупка жилья для сдачи','операции с коммерческой недвижимостью','покупка жилья','жилье','покупка жилья для семьи','строительство собственной недвижимости','недвижимость','операции со своей недвижимостью','строительство жилой недвижимости','покупка недвижимости','покупка своего жилья','строительство недвижимости','ремонт жилью','покупка жилой недвижимости'] # список неправильных имён\npurpose2 = 'операции с недвижимостью' # правильная причина\nduplicates3 = ['на покупку своего автомобиля', 'сделка с подержанным автомобилем','свой автомобиль','на покупку подержанного автомобиля','автомобили','на покупку автомобиля','приобретение автомобиля','сделка с автомобилем'] # список неправильных имён\npurpose3 = 'автомобиль' # правильная причина\nduplicates4 = ['заняться высшим образованием', 'дополнительное образование','высшее образование','получение дополнительного образования','получение образования','профильное образование','получение высшего образования','заняться образованием'] # список неправильных имён\npurpose4 = 'образование' # правильная причина\nreplace_wrong_values(duplicates1, purpose1)\nreplace_wrong_values(duplicates2, purpose2)\nreplace_wrong_values(duplicates3, purpose3)\nreplace_wrong_values(duplicates4, purpose4)",
      "metadata": {},
      "outputs": [],
      "execution_count": 20
    },
    {
      "id": "b3769419",
      "cell_type": "code",
      "source": "#проверим количество уникальных целей\nclients['purpose'].value_counts()",
      "metadata": {},
      "outputs": [
        {
          "data": {
            "text/plain": [
              "операции с недвижимостью    10814\n",
              "автомобиль                   4308\n",
              "образование                  4014\n",
              "свадьба                      2335\n",
              "Name: purpose, dtype: int64"
            ]
          },
          "execution_count": 21,
          "metadata": {},
          "output_type": "execute_result"
        }
      ],
      "execution_count": 21
    },
    {
      "id": "ec4c33bc",
      "cell_type": "markdown",
      "source": "Итак, были удалены явные и неявные дубликаты.\nЯвные дубликаты могут повлиять на конечный анализ результатов,\nнеявные дубликаты усложняют группировку данных и делают анализ данных сложным и невозможным.\nСами дубликаты могут возникать из-за невнимательности заполнителя, из-за отсутствия правил заполнения, особенно при вольной форме заполнения.",
      "metadata": {}
    },
    {
      "id": "e9502a7a",
      "cell_type": "markdown",
      "source": "### Шаг 2.5. Формирование дополнительных датафреймов словарей, декомпозиция исходного датафрейма.",
      "metadata": {}
    },
    {
      "id": "e73015a8",
      "cell_type": "code",
      "source": "#создадим два словаря \nedu_log = clients[['education','education_id']]\nfam_log = clients[['family_status','family_status_id']]\n#удалим дубликаты, чтобы посмотреть соответствие значения и его id\nedu_log = edu_log.drop_duplicates().reset_index(drop=True)\nfam_log = fam_log.drop_duplicates().reset_index(drop=True)\ndisplay(edu_log)\ndisplay(fam_log)",
      "metadata": {},
      "outputs": [
        {
          "data": {
            "text/html": [
              "<div>\n",
              "<style scoped>\n",
              "    .dataframe tbody tr th:only-of-type {\n",
              "        vertical-align: middle;\n",
              "    }\n",
              "\n",
              "    .dataframe tbody tr th {\n",
              "        vertical-align: top;\n",
              "    }\n",
              "\n",
              "    .dataframe thead th {\n",
              "        text-align: right;\n",
              "    }\n",
              "</style>\n",
              "<table border=\"1\" class=\"dataframe\">\n",
              "  <thead>\n",
              "    <tr style=\"text-align: right;\">\n",
              "      <th></th>\n",
              "      <th>education</th>\n",
              "      <th>education_id</th>\n",
              "    </tr>\n",
              "  </thead>\n",
              "  <tbody>\n",
              "    <tr>\n",
              "      <th>0</th>\n",
              "      <td>высшее</td>\n",
              "      <td>0</td>\n",
              "    </tr>\n",
              "    <tr>\n",
              "      <th>1</th>\n",
              "      <td>среднее</td>\n",
              "      <td>1</td>\n",
              "    </tr>\n",
              "    <tr>\n",
              "      <th>2</th>\n",
              "      <td>неоконченное высшее</td>\n",
              "      <td>2</td>\n",
              "    </tr>\n",
              "    <tr>\n",
              "      <th>3</th>\n",
              "      <td>начальное</td>\n",
              "      <td>3</td>\n",
              "    </tr>\n",
              "    <tr>\n",
              "      <th>4</th>\n",
              "      <td>ученая степень</td>\n",
              "      <td>4</td>\n",
              "    </tr>\n",
              "  </tbody>\n",
              "</table>\n",
              "</div>"
            ],
            "text/plain": [
              "             education  education_id\n",
              "0               высшее             0\n",
              "1              среднее             1\n",
              "2  неоконченное высшее             2\n",
              "3            начальное             3\n",
              "4       ученая степень             4"
            ]
          },
          "metadata": {},
          "output_type": "display_data"
        },
        {
          "data": {
            "text/html": [
              "<div>\n",
              "<style scoped>\n",
              "    .dataframe tbody tr th:only-of-type {\n",
              "        vertical-align: middle;\n",
              "    }\n",
              "\n",
              "    .dataframe tbody tr th {\n",
              "        vertical-align: top;\n",
              "    }\n",
              "\n",
              "    .dataframe thead th {\n",
              "        text-align: right;\n",
              "    }\n",
              "</style>\n",
              "<table border=\"1\" class=\"dataframe\">\n",
              "  <thead>\n",
              "    <tr style=\"text-align: right;\">\n",
              "      <th></th>\n",
              "      <th>family_status</th>\n",
              "      <th>family_status_id</th>\n",
              "    </tr>\n",
              "  </thead>\n",
              "  <tbody>\n",
              "    <tr>\n",
              "      <th>0</th>\n",
              "      <td>женат / замужем</td>\n",
              "      <td>0</td>\n",
              "    </tr>\n",
              "    <tr>\n",
              "      <th>1</th>\n",
              "      <td>гражданский брак</td>\n",
              "      <td>1</td>\n",
              "    </tr>\n",
              "    <tr>\n",
              "      <th>2</th>\n",
              "      <td>вдовец / вдова</td>\n",
              "      <td>2</td>\n",
              "    </tr>\n",
              "    <tr>\n",
              "      <th>3</th>\n",
              "      <td>в разводе</td>\n",
              "      <td>3</td>\n",
              "    </tr>\n",
              "    <tr>\n",
              "      <th>4</th>\n",
              "      <td>Не женат / не замужем</td>\n",
              "      <td>4</td>\n",
              "    </tr>\n",
              "  </tbody>\n",
              "</table>\n",
              "</div>"
            ],
            "text/plain": [
              "           family_status  family_status_id\n",
              "0        женат / замужем                 0\n",
              "1       гражданский брак                 1\n",
              "2         вдовец / вдова                 2\n",
              "3              в разводе                 3\n",
              "4  Не женат / не замужем                 4"
            ]
          },
          "metadata": {},
          "output_type": "display_data"
        }
      ],
      "execution_count": 22
    },
    {
      "id": "6967a0d2",
      "cell_type": "code",
      "source": "#удалим из исходной талицы два столбца\n#я закомментила удаление, потому что в конце для создания pivot table мне нужен столбец с family_status\n#clients.drop(columns = ['education','family_status'], axis = 1, inplace=True) #axis1 для столбцов, inplace чтобы изменить исходную таблицу\nclients.head(10) #проверили удаление",
      "metadata": {},
      "outputs": [
        {
          "data": {
            "text/html": [
              "<div>\n",
              "<style scoped>\n",
              "    .dataframe tbody tr th:only-of-type {\n",
              "        vertical-align: middle;\n",
              "    }\n",
              "\n",
              "    .dataframe tbody tr th {\n",
              "        vertical-align: top;\n",
              "    }\n",
              "\n",
              "    .dataframe thead th {\n",
              "        text-align: right;\n",
              "    }\n",
              "</style>\n",
              "<table border=\"1\" class=\"dataframe\">\n",
              "  <thead>\n",
              "    <tr style=\"text-align: right;\">\n",
              "      <th></th>\n",
              "      <th>children</th>\n",
              "      <th>days_employed</th>\n",
              "      <th>dob_years</th>\n",
              "      <th>education</th>\n",
              "      <th>education_id</th>\n",
              "      <th>family_status</th>\n",
              "      <th>family_status_id</th>\n",
              "      <th>gender</th>\n",
              "      <th>income_type</th>\n",
              "      <th>debt</th>\n",
              "      <th>total_income</th>\n",
              "      <th>purpose</th>\n",
              "      <th>years_employed</th>\n",
              "    </tr>\n",
              "  </thead>\n",
              "  <tbody>\n",
              "    <tr>\n",
              "      <th>0</th>\n",
              "      <td>1</td>\n",
              "      <td>8437</td>\n",
              "      <td>42.0</td>\n",
              "      <td>высшее</td>\n",
              "      <td>0</td>\n",
              "      <td>женат / замужем</td>\n",
              "      <td>0</td>\n",
              "      <td>F</td>\n",
              "      <td>сотрудник</td>\n",
              "      <td>0</td>\n",
              "      <td>253875</td>\n",
              "      <td>операции с недвижимостью</td>\n",
              "      <td>23.116912</td>\n",
              "    </tr>\n",
              "    <tr>\n",
              "      <th>1</th>\n",
              "      <td>1</td>\n",
              "      <td>4024</td>\n",
              "      <td>36.0</td>\n",
              "      <td>среднее</td>\n",
              "      <td>1</td>\n",
              "      <td>женат / замужем</td>\n",
              "      <td>0</td>\n",
              "      <td>F</td>\n",
              "      <td>сотрудник</td>\n",
              "      <td>0</td>\n",
              "      <td>112080</td>\n",
              "      <td>автомобиль</td>\n",
              "      <td>11.026860</td>\n",
              "    </tr>\n",
              "    <tr>\n",
              "      <th>2</th>\n",
              "      <td>0</td>\n",
              "      <td>5623</td>\n",
              "      <td>33.0</td>\n",
              "      <td>среднее</td>\n",
              "      <td>1</td>\n",
              "      <td>женат / замужем</td>\n",
              "      <td>0</td>\n",
              "      <td>M</td>\n",
              "      <td>сотрудник</td>\n",
              "      <td>0</td>\n",
              "      <td>145885</td>\n",
              "      <td>операции с недвижимостью</td>\n",
              "      <td>15.406637</td>\n",
              "    </tr>\n",
              "    <tr>\n",
              "      <th>3</th>\n",
              "      <td>3</td>\n",
              "      <td>4124</td>\n",
              "      <td>32.0</td>\n",
              "      <td>среднее</td>\n",
              "      <td>1</td>\n",
              "      <td>женат / замужем</td>\n",
              "      <td>0</td>\n",
              "      <td>M</td>\n",
              "      <td>сотрудник</td>\n",
              "      <td>0</td>\n",
              "      <td>267628</td>\n",
              "      <td>образование</td>\n",
              "      <td>11.300677</td>\n",
              "    </tr>\n",
              "    <tr>\n",
              "      <th>4</th>\n",
              "      <td>0</td>\n",
              "      <td>340266</td>\n",
              "      <td>53.0</td>\n",
              "      <td>среднее</td>\n",
              "      <td>1</td>\n",
              "      <td>гражданский брак</td>\n",
              "      <td>1</td>\n",
              "      <td>F</td>\n",
              "      <td>пенсионер</td>\n",
              "      <td>0</td>\n",
              "      <td>158616</td>\n",
              "      <td>свадьба</td>\n",
              "      <td>932.235814</td>\n",
              "    </tr>\n",
              "    <tr>\n",
              "      <th>5</th>\n",
              "      <td>0</td>\n",
              "      <td>926</td>\n",
              "      <td>27.0</td>\n",
              "      <td>высшее</td>\n",
              "      <td>0</td>\n",
              "      <td>гражданский брак</td>\n",
              "      <td>1</td>\n",
              "      <td>M</td>\n",
              "      <td>компаньон</td>\n",
              "      <td>0</td>\n",
              "      <td>255763</td>\n",
              "      <td>операции с недвижимостью</td>\n",
              "      <td>2.537495</td>\n",
              "    </tr>\n",
              "    <tr>\n",
              "      <th>6</th>\n",
              "      <td>0</td>\n",
              "      <td>2879</td>\n",
              "      <td>43.0</td>\n",
              "      <td>высшее</td>\n",
              "      <td>0</td>\n",
              "      <td>женат / замужем</td>\n",
              "      <td>0</td>\n",
              "      <td>F</td>\n",
              "      <td>компаньон</td>\n",
              "      <td>0</td>\n",
              "      <td>240525</td>\n",
              "      <td>операции с недвижимостью</td>\n",
              "      <td>7.888225</td>\n",
              "    </tr>\n",
              "    <tr>\n",
              "      <th>7</th>\n",
              "      <td>0</td>\n",
              "      <td>152</td>\n",
              "      <td>50.0</td>\n",
              "      <td>среднее</td>\n",
              "      <td>1</td>\n",
              "      <td>женат / замужем</td>\n",
              "      <td>0</td>\n",
              "      <td>M</td>\n",
              "      <td>сотрудник</td>\n",
              "      <td>0</td>\n",
              "      <td>135823</td>\n",
              "      <td>образование</td>\n",
              "      <td>0.418574</td>\n",
              "    </tr>\n",
              "    <tr>\n",
              "      <th>8</th>\n",
              "      <td>2</td>\n",
              "      <td>6929</td>\n",
              "      <td>35.0</td>\n",
              "      <td>высшее</td>\n",
              "      <td>0</td>\n",
              "      <td>гражданский брак</td>\n",
              "      <td>1</td>\n",
              "      <td>F</td>\n",
              "      <td>сотрудник</td>\n",
              "      <td>0</td>\n",
              "      <td>95856</td>\n",
              "      <td>свадьба</td>\n",
              "      <td>18.985932</td>\n",
              "    </tr>\n",
              "    <tr>\n",
              "      <th>9</th>\n",
              "      <td>0</td>\n",
              "      <td>2188</td>\n",
              "      <td>41.0</td>\n",
              "      <td>среднее</td>\n",
              "      <td>1</td>\n",
              "      <td>женат / замужем</td>\n",
              "      <td>0</td>\n",
              "      <td>M</td>\n",
              "      <td>сотрудник</td>\n",
              "      <td>0</td>\n",
              "      <td>144425</td>\n",
              "      <td>операции с недвижимостью</td>\n",
              "      <td>5.996593</td>\n",
              "    </tr>\n",
              "  </tbody>\n",
              "</table>\n",
              "</div>"
            ],
            "text/plain": [
              "   children  days_employed  dob_years education  education_id  \\\n",
              "0         1           8437       42.0    высшее             0   \n",
              "1         1           4024       36.0   среднее             1   \n",
              "2         0           5623       33.0   среднее             1   \n",
              "3         3           4124       32.0   среднее             1   \n",
              "4         0         340266       53.0   среднее             1   \n",
              "5         0            926       27.0    высшее             0   \n",
              "6         0           2879       43.0    высшее             0   \n",
              "7         0            152       50.0   среднее             1   \n",
              "8         2           6929       35.0    высшее             0   \n",
              "9         0           2188       41.0   среднее             1   \n",
              "\n",
              "      family_status  family_status_id gender income_type  debt  total_income  \\\n",
              "0   женат / замужем                 0      F   сотрудник     0        253875   \n",
              "1   женат / замужем                 0      F   сотрудник     0        112080   \n",
              "2   женат / замужем                 0      M   сотрудник     0        145885   \n",
              "3   женат / замужем                 0      M   сотрудник     0        267628   \n",
              "4  гражданский брак                 1      F   пенсионер     0        158616   \n",
              "5  гражданский брак                 1      M   компаньон     0        255763   \n",
              "6   женат / замужем                 0      F   компаньон     0        240525   \n",
              "7   женат / замужем                 0      M   сотрудник     0        135823   \n",
              "8  гражданский брак                 1      F   сотрудник     0         95856   \n",
              "9   женат / замужем                 0      M   сотрудник     0        144425   \n",
              "\n",
              "                    purpose  years_employed  \n",
              "0  операции с недвижимостью       23.116912  \n",
              "1                автомобиль       11.026860  \n",
              "2  операции с недвижимостью       15.406637  \n",
              "3               образование       11.300677  \n",
              "4                   свадьба      932.235814  \n",
              "5  операции с недвижимостью        2.537495  \n",
              "6  операции с недвижимостью        7.888225  \n",
              "7               образование        0.418574  \n",
              "8                   свадьба       18.985932  \n",
              "9  операции с недвижимостью        5.996593  "
            ]
          },
          "execution_count": 23,
          "metadata": {},
          "output_type": "execute_result"
        }
      ],
      "execution_count": 23
    },
    {
      "id": "68c971bf",
      "cell_type": "markdown",
      "source": "### Шаг 2.6. Категоризация дохода.",
      "metadata": {}
    },
    {
      "id": "035b10fb",
      "cell_type": "code",
      "source": "#напишем функции для разделения на группы\ndef income_group(income):\n    \n    if 0<=income <= 30000:\n        return 'E'\n    if 30001<=income <= 50000:\n        return 'D'\n    if 50001<=income <= 200000:\n        return 'C'\n    if 200001<=income <= 1000000:\n        return 'B'\n    return 'A' #предполагая, что все значения в столбце положительные",
      "metadata": {},
      "outputs": [],
      "execution_count": 24
    },
    {
      "id": "64fe6445",
      "cell_type": "code",
      "source": "#создадим новую колонку применив метод apply для вызова функции income_group\nclients['total_income_category'] = clients['total_income'].apply(income_group)\nclients.head(10) #появились категории",
      "metadata": {},
      "outputs": [
        {
          "data": {
            "text/html": [
              "<div>\n",
              "<style scoped>\n",
              "    .dataframe tbody tr th:only-of-type {\n",
              "        vertical-align: middle;\n",
              "    }\n",
              "\n",
              "    .dataframe tbody tr th {\n",
              "        vertical-align: top;\n",
              "    }\n",
              "\n",
              "    .dataframe thead th {\n",
              "        text-align: right;\n",
              "    }\n",
              "</style>\n",
              "<table border=\"1\" class=\"dataframe\">\n",
              "  <thead>\n",
              "    <tr style=\"text-align: right;\">\n",
              "      <th></th>\n",
              "      <th>children</th>\n",
              "      <th>days_employed</th>\n",
              "      <th>dob_years</th>\n",
              "      <th>education</th>\n",
              "      <th>education_id</th>\n",
              "      <th>family_status</th>\n",
              "      <th>family_status_id</th>\n",
              "      <th>gender</th>\n",
              "      <th>income_type</th>\n",
              "      <th>debt</th>\n",
              "      <th>total_income</th>\n",
              "      <th>purpose</th>\n",
              "      <th>years_employed</th>\n",
              "      <th>total_income_category</th>\n",
              "    </tr>\n",
              "  </thead>\n",
              "  <tbody>\n",
              "    <tr>\n",
              "      <th>0</th>\n",
              "      <td>1</td>\n",
              "      <td>8437</td>\n",
              "      <td>42.0</td>\n",
              "      <td>высшее</td>\n",
              "      <td>0</td>\n",
              "      <td>женат / замужем</td>\n",
              "      <td>0</td>\n",
              "      <td>F</td>\n",
              "      <td>сотрудник</td>\n",
              "      <td>0</td>\n",
              "      <td>253875</td>\n",
              "      <td>операции с недвижимостью</td>\n",
              "      <td>23.116912</td>\n",
              "      <td>B</td>\n",
              "    </tr>\n",
              "    <tr>\n",
              "      <th>1</th>\n",
              "      <td>1</td>\n",
              "      <td>4024</td>\n",
              "      <td>36.0</td>\n",
              "      <td>среднее</td>\n",
              "      <td>1</td>\n",
              "      <td>женат / замужем</td>\n",
              "      <td>0</td>\n",
              "      <td>F</td>\n",
              "      <td>сотрудник</td>\n",
              "      <td>0</td>\n",
              "      <td>112080</td>\n",
              "      <td>автомобиль</td>\n",
              "      <td>11.026860</td>\n",
              "      <td>C</td>\n",
              "    </tr>\n",
              "    <tr>\n",
              "      <th>2</th>\n",
              "      <td>0</td>\n",
              "      <td>5623</td>\n",
              "      <td>33.0</td>\n",
              "      <td>среднее</td>\n",
              "      <td>1</td>\n",
              "      <td>женат / замужем</td>\n",
              "      <td>0</td>\n",
              "      <td>M</td>\n",
              "      <td>сотрудник</td>\n",
              "      <td>0</td>\n",
              "      <td>145885</td>\n",
              "      <td>операции с недвижимостью</td>\n",
              "      <td>15.406637</td>\n",
              "      <td>C</td>\n",
              "    </tr>\n",
              "    <tr>\n",
              "      <th>3</th>\n",
              "      <td>3</td>\n",
              "      <td>4124</td>\n",
              "      <td>32.0</td>\n",
              "      <td>среднее</td>\n",
              "      <td>1</td>\n",
              "      <td>женат / замужем</td>\n",
              "      <td>0</td>\n",
              "      <td>M</td>\n",
              "      <td>сотрудник</td>\n",
              "      <td>0</td>\n",
              "      <td>267628</td>\n",
              "      <td>образование</td>\n",
              "      <td>11.300677</td>\n",
              "      <td>B</td>\n",
              "    </tr>\n",
              "    <tr>\n",
              "      <th>4</th>\n",
              "      <td>0</td>\n",
              "      <td>340266</td>\n",
              "      <td>53.0</td>\n",
              "      <td>среднее</td>\n",
              "      <td>1</td>\n",
              "      <td>гражданский брак</td>\n",
              "      <td>1</td>\n",
              "      <td>F</td>\n",
              "      <td>пенсионер</td>\n",
              "      <td>0</td>\n",
              "      <td>158616</td>\n",
              "      <td>свадьба</td>\n",
              "      <td>932.235814</td>\n",
              "      <td>C</td>\n",
              "    </tr>\n",
              "    <tr>\n",
              "      <th>5</th>\n",
              "      <td>0</td>\n",
              "      <td>926</td>\n",
              "      <td>27.0</td>\n",
              "      <td>высшее</td>\n",
              "      <td>0</td>\n",
              "      <td>гражданский брак</td>\n",
              "      <td>1</td>\n",
              "      <td>M</td>\n",
              "      <td>компаньон</td>\n",
              "      <td>0</td>\n",
              "      <td>255763</td>\n",
              "      <td>операции с недвижимостью</td>\n",
              "      <td>2.537495</td>\n",
              "      <td>B</td>\n",
              "    </tr>\n",
              "    <tr>\n",
              "      <th>6</th>\n",
              "      <td>0</td>\n",
              "      <td>2879</td>\n",
              "      <td>43.0</td>\n",
              "      <td>высшее</td>\n",
              "      <td>0</td>\n",
              "      <td>женат / замужем</td>\n",
              "      <td>0</td>\n",
              "      <td>F</td>\n",
              "      <td>компаньон</td>\n",
              "      <td>0</td>\n",
              "      <td>240525</td>\n",
              "      <td>операции с недвижимостью</td>\n",
              "      <td>7.888225</td>\n",
              "      <td>B</td>\n",
              "    </tr>\n",
              "    <tr>\n",
              "      <th>7</th>\n",
              "      <td>0</td>\n",
              "      <td>152</td>\n",
              "      <td>50.0</td>\n",
              "      <td>среднее</td>\n",
              "      <td>1</td>\n",
              "      <td>женат / замужем</td>\n",
              "      <td>0</td>\n",
              "      <td>M</td>\n",
              "      <td>сотрудник</td>\n",
              "      <td>0</td>\n",
              "      <td>135823</td>\n",
              "      <td>образование</td>\n",
              "      <td>0.418574</td>\n",
              "      <td>C</td>\n",
              "    </tr>\n",
              "    <tr>\n",
              "      <th>8</th>\n",
              "      <td>2</td>\n",
              "      <td>6929</td>\n",
              "      <td>35.0</td>\n",
              "      <td>высшее</td>\n",
              "      <td>0</td>\n",
              "      <td>гражданский брак</td>\n",
              "      <td>1</td>\n",
              "      <td>F</td>\n",
              "      <td>сотрудник</td>\n",
              "      <td>0</td>\n",
              "      <td>95856</td>\n",
              "      <td>свадьба</td>\n",
              "      <td>18.985932</td>\n",
              "      <td>C</td>\n",
              "    </tr>\n",
              "    <tr>\n",
              "      <th>9</th>\n",
              "      <td>0</td>\n",
              "      <td>2188</td>\n",
              "      <td>41.0</td>\n",
              "      <td>среднее</td>\n",
              "      <td>1</td>\n",
              "      <td>женат / замужем</td>\n",
              "      <td>0</td>\n",
              "      <td>M</td>\n",
              "      <td>сотрудник</td>\n",
              "      <td>0</td>\n",
              "      <td>144425</td>\n",
              "      <td>операции с недвижимостью</td>\n",
              "      <td>5.996593</td>\n",
              "      <td>C</td>\n",
              "    </tr>\n",
              "  </tbody>\n",
              "</table>\n",
              "</div>"
            ],
            "text/plain": [
              "   children  days_employed  dob_years education  education_id  \\\n",
              "0         1           8437       42.0    высшее             0   \n",
              "1         1           4024       36.0   среднее             1   \n",
              "2         0           5623       33.0   среднее             1   \n",
              "3         3           4124       32.0   среднее             1   \n",
              "4         0         340266       53.0   среднее             1   \n",
              "5         0            926       27.0    высшее             0   \n",
              "6         0           2879       43.0    высшее             0   \n",
              "7         0            152       50.0   среднее             1   \n",
              "8         2           6929       35.0    высшее             0   \n",
              "9         0           2188       41.0   среднее             1   \n",
              "\n",
              "      family_status  family_status_id gender income_type  debt  total_income  \\\n",
              "0   женат / замужем                 0      F   сотрудник     0        253875   \n",
              "1   женат / замужем                 0      F   сотрудник     0        112080   \n",
              "2   женат / замужем                 0      M   сотрудник     0        145885   \n",
              "3   женат / замужем                 0      M   сотрудник     0        267628   \n",
              "4  гражданский брак                 1      F   пенсионер     0        158616   \n",
              "5  гражданский брак                 1      M   компаньон     0        255763   \n",
              "6   женат / замужем                 0      F   компаньон     0        240525   \n",
              "7   женат / замужем                 0      M   сотрудник     0        135823   \n",
              "8  гражданский брак                 1      F   сотрудник     0         95856   \n",
              "9   женат / замужем                 0      M   сотрудник     0        144425   \n",
              "\n",
              "                    purpose  years_employed total_income_category  \n",
              "0  операции с недвижимостью       23.116912                     B  \n",
              "1                автомобиль       11.026860                     C  \n",
              "2  операции с недвижимостью       15.406637                     C  \n",
              "3               образование       11.300677                     B  \n",
              "4                   свадьба      932.235814                     C  \n",
              "5  операции с недвижимостью        2.537495                     B  \n",
              "6  операции с недвижимостью        7.888225                     B  \n",
              "7               образование        0.418574                     C  \n",
              "8                   свадьба       18.985932                     C  \n",
              "9  операции с недвижимостью        5.996593                     C  "
            ]
          },
          "execution_count": 25,
          "metadata": {},
          "output_type": "execute_result"
        }
      ],
      "execution_count": 25
    },
    {
      "id": "ae71e395",
      "cell_type": "markdown",
      "source": "### Шаг 2.7. Категоризация целей кредита.",
      "metadata": {}
    },
    {
      "id": "eb1cad62",
      "cell_type": "code",
      "source": "def purpose_group(purpose):\n    \n    if 'автомоб' in purpose:\n        return 'операции с автомобилем'\n    if 'недвижим' in purpose: \n        return 'операции с недвижимостью'\n    if 'свадьб' in purpose:\n        return 'проведение свадьбы'\n    if 'образовани'in purpose:\n        return 'получение образования'\n    return 'другая цель' #на всякий случай, если никакая из целей не подошла",
      "metadata": {},
      "outputs": [],
      "execution_count": 26
    },
    {
      "id": "69d3d0ea",
      "cell_type": "code",
      "source": "clients['purpose_category'] = clients['purpose'].apply(purpose_group)\nclients.head(10) #появились категории для целей кредита",
      "metadata": {},
      "outputs": [
        {
          "data": {
            "text/html": [
              "<div>\n",
              "<style scoped>\n",
              "    .dataframe tbody tr th:only-of-type {\n",
              "        vertical-align: middle;\n",
              "    }\n",
              "\n",
              "    .dataframe tbody tr th {\n",
              "        vertical-align: top;\n",
              "    }\n",
              "\n",
              "    .dataframe thead th {\n",
              "        text-align: right;\n",
              "    }\n",
              "</style>\n",
              "<table border=\"1\" class=\"dataframe\">\n",
              "  <thead>\n",
              "    <tr style=\"text-align: right;\">\n",
              "      <th></th>\n",
              "      <th>children</th>\n",
              "      <th>days_employed</th>\n",
              "      <th>dob_years</th>\n",
              "      <th>education</th>\n",
              "      <th>education_id</th>\n",
              "      <th>family_status</th>\n",
              "      <th>family_status_id</th>\n",
              "      <th>gender</th>\n",
              "      <th>income_type</th>\n",
              "      <th>debt</th>\n",
              "      <th>total_income</th>\n",
              "      <th>purpose</th>\n",
              "      <th>years_employed</th>\n",
              "      <th>total_income_category</th>\n",
              "      <th>purpose_category</th>\n",
              "    </tr>\n",
              "  </thead>\n",
              "  <tbody>\n",
              "    <tr>\n",
              "      <th>0</th>\n",
              "      <td>1</td>\n",
              "      <td>8437</td>\n",
              "      <td>42.0</td>\n",
              "      <td>высшее</td>\n",
              "      <td>0</td>\n",
              "      <td>женат / замужем</td>\n",
              "      <td>0</td>\n",
              "      <td>F</td>\n",
              "      <td>сотрудник</td>\n",
              "      <td>0</td>\n",
              "      <td>253875</td>\n",
              "      <td>операции с недвижимостью</td>\n",
              "      <td>23.116912</td>\n",
              "      <td>B</td>\n",
              "      <td>операции с недвижимостью</td>\n",
              "    </tr>\n",
              "    <tr>\n",
              "      <th>1</th>\n",
              "      <td>1</td>\n",
              "      <td>4024</td>\n",
              "      <td>36.0</td>\n",
              "      <td>среднее</td>\n",
              "      <td>1</td>\n",
              "      <td>женат / замужем</td>\n",
              "      <td>0</td>\n",
              "      <td>F</td>\n",
              "      <td>сотрудник</td>\n",
              "      <td>0</td>\n",
              "      <td>112080</td>\n",
              "      <td>автомобиль</td>\n",
              "      <td>11.026860</td>\n",
              "      <td>C</td>\n",
              "      <td>операции с автомобилем</td>\n",
              "    </tr>\n",
              "    <tr>\n",
              "      <th>2</th>\n",
              "      <td>0</td>\n",
              "      <td>5623</td>\n",
              "      <td>33.0</td>\n",
              "      <td>среднее</td>\n",
              "      <td>1</td>\n",
              "      <td>женат / замужем</td>\n",
              "      <td>0</td>\n",
              "      <td>M</td>\n",
              "      <td>сотрудник</td>\n",
              "      <td>0</td>\n",
              "      <td>145885</td>\n",
              "      <td>операции с недвижимостью</td>\n",
              "      <td>15.406637</td>\n",
              "      <td>C</td>\n",
              "      <td>операции с недвижимостью</td>\n",
              "    </tr>\n",
              "    <tr>\n",
              "      <th>3</th>\n",
              "      <td>3</td>\n",
              "      <td>4124</td>\n",
              "      <td>32.0</td>\n",
              "      <td>среднее</td>\n",
              "      <td>1</td>\n",
              "      <td>женат / замужем</td>\n",
              "      <td>0</td>\n",
              "      <td>M</td>\n",
              "      <td>сотрудник</td>\n",
              "      <td>0</td>\n",
              "      <td>267628</td>\n",
              "      <td>образование</td>\n",
              "      <td>11.300677</td>\n",
              "      <td>B</td>\n",
              "      <td>получение образования</td>\n",
              "    </tr>\n",
              "    <tr>\n",
              "      <th>4</th>\n",
              "      <td>0</td>\n",
              "      <td>340266</td>\n",
              "      <td>53.0</td>\n",
              "      <td>среднее</td>\n",
              "      <td>1</td>\n",
              "      <td>гражданский брак</td>\n",
              "      <td>1</td>\n",
              "      <td>F</td>\n",
              "      <td>пенсионер</td>\n",
              "      <td>0</td>\n",
              "      <td>158616</td>\n",
              "      <td>свадьба</td>\n",
              "      <td>932.235814</td>\n",
              "      <td>C</td>\n",
              "      <td>проведение свадьбы</td>\n",
              "    </tr>\n",
              "    <tr>\n",
              "      <th>5</th>\n",
              "      <td>0</td>\n",
              "      <td>926</td>\n",
              "      <td>27.0</td>\n",
              "      <td>высшее</td>\n",
              "      <td>0</td>\n",
              "      <td>гражданский брак</td>\n",
              "      <td>1</td>\n",
              "      <td>M</td>\n",
              "      <td>компаньон</td>\n",
              "      <td>0</td>\n",
              "      <td>255763</td>\n",
              "      <td>операции с недвижимостью</td>\n",
              "      <td>2.537495</td>\n",
              "      <td>B</td>\n",
              "      <td>операции с недвижимостью</td>\n",
              "    </tr>\n",
              "    <tr>\n",
              "      <th>6</th>\n",
              "      <td>0</td>\n",
              "      <td>2879</td>\n",
              "      <td>43.0</td>\n",
              "      <td>высшее</td>\n",
              "      <td>0</td>\n",
              "      <td>женат / замужем</td>\n",
              "      <td>0</td>\n",
              "      <td>F</td>\n",
              "      <td>компаньон</td>\n",
              "      <td>0</td>\n",
              "      <td>240525</td>\n",
              "      <td>операции с недвижимостью</td>\n",
              "      <td>7.888225</td>\n",
              "      <td>B</td>\n",
              "      <td>операции с недвижимостью</td>\n",
              "    </tr>\n",
              "    <tr>\n",
              "      <th>7</th>\n",
              "      <td>0</td>\n",
              "      <td>152</td>\n",
              "      <td>50.0</td>\n",
              "      <td>среднее</td>\n",
              "      <td>1</td>\n",
              "      <td>женат / замужем</td>\n",
              "      <td>0</td>\n",
              "      <td>M</td>\n",
              "      <td>сотрудник</td>\n",
              "      <td>0</td>\n",
              "      <td>135823</td>\n",
              "      <td>образование</td>\n",
              "      <td>0.418574</td>\n",
              "      <td>C</td>\n",
              "      <td>получение образования</td>\n",
              "    </tr>\n",
              "    <tr>\n",
              "      <th>8</th>\n",
              "      <td>2</td>\n",
              "      <td>6929</td>\n",
              "      <td>35.0</td>\n",
              "      <td>высшее</td>\n",
              "      <td>0</td>\n",
              "      <td>гражданский брак</td>\n",
              "      <td>1</td>\n",
              "      <td>F</td>\n",
              "      <td>сотрудник</td>\n",
              "      <td>0</td>\n",
              "      <td>95856</td>\n",
              "      <td>свадьба</td>\n",
              "      <td>18.985932</td>\n",
              "      <td>C</td>\n",
              "      <td>проведение свадьбы</td>\n",
              "    </tr>\n",
              "    <tr>\n",
              "      <th>9</th>\n",
              "      <td>0</td>\n",
              "      <td>2188</td>\n",
              "      <td>41.0</td>\n",
              "      <td>среднее</td>\n",
              "      <td>1</td>\n",
              "      <td>женат / замужем</td>\n",
              "      <td>0</td>\n",
              "      <td>M</td>\n",
              "      <td>сотрудник</td>\n",
              "      <td>0</td>\n",
              "      <td>144425</td>\n",
              "      <td>операции с недвижимостью</td>\n",
              "      <td>5.996593</td>\n",
              "      <td>C</td>\n",
              "      <td>операции с недвижимостью</td>\n",
              "    </tr>\n",
              "  </tbody>\n",
              "</table>\n",
              "</div>"
            ],
            "text/plain": [
              "   children  days_employed  dob_years education  education_id  \\\n",
              "0         1           8437       42.0    высшее             0   \n",
              "1         1           4024       36.0   среднее             1   \n",
              "2         0           5623       33.0   среднее             1   \n",
              "3         3           4124       32.0   среднее             1   \n",
              "4         0         340266       53.0   среднее             1   \n",
              "5         0            926       27.0    высшее             0   \n",
              "6         0           2879       43.0    высшее             0   \n",
              "7         0            152       50.0   среднее             1   \n",
              "8         2           6929       35.0    высшее             0   \n",
              "9         0           2188       41.0   среднее             1   \n",
              "\n",
              "      family_status  family_status_id gender income_type  debt  total_income  \\\n",
              "0   женат / замужем                 0      F   сотрудник     0        253875   \n",
              "1   женат / замужем                 0      F   сотрудник     0        112080   \n",
              "2   женат / замужем                 0      M   сотрудник     0        145885   \n",
              "3   женат / замужем                 0      M   сотрудник     0        267628   \n",
              "4  гражданский брак                 1      F   пенсионер     0        158616   \n",
              "5  гражданский брак                 1      M   компаньон     0        255763   \n",
              "6   женат / замужем                 0      F   компаньон     0        240525   \n",
              "7   женат / замужем                 0      M   сотрудник     0        135823   \n",
              "8  гражданский брак                 1      F   сотрудник     0         95856   \n",
              "9   женат / замужем                 0      M   сотрудник     0        144425   \n",
              "\n",
              "                    purpose  years_employed total_income_category  \\\n",
              "0  операции с недвижимостью       23.116912                     B   \n",
              "1                автомобиль       11.026860                     C   \n",
              "2  операции с недвижимостью       15.406637                     C   \n",
              "3               образование       11.300677                     B   \n",
              "4                   свадьба      932.235814                     C   \n",
              "5  операции с недвижимостью        2.537495                     B   \n",
              "6  операции с недвижимостью        7.888225                     B   \n",
              "7               образование        0.418574                     C   \n",
              "8                   свадьба       18.985932                     C   \n",
              "9  операции с недвижимостью        5.996593                     C   \n",
              "\n",
              "           purpose_category  \n",
              "0  операции с недвижимостью  \n",
              "1    операции с автомобилем  \n",
              "2  операции с недвижимостью  \n",
              "3     получение образования  \n",
              "4        проведение свадьбы  \n",
              "5  операции с недвижимостью  \n",
              "6  операции с недвижимостью  \n",
              "7     получение образования  \n",
              "8        проведение свадьбы  \n",
              "9  операции с недвижимостью  "
            ]
          },
          "execution_count": 27,
          "metadata": {},
          "output_type": "execute_result"
        }
      ],
      "execution_count": 27
    },
    {
      "id": "d4de79f2",
      "cell_type": "markdown",
      "source": "### Ответы на вопросы.",
      "metadata": {}
    },
    {
      "id": "b3be3ded",
      "cell_type": "markdown",
      "source": "##### Вопрос 1:",
      "metadata": {}
    },
    {
      "id": "8b1423ad",
      "cell_type": "markdown",
      "source": "**1. Есть ли зависимость между количеством детей и возвратом кредита в срок?**",
      "metadata": {}
    },
    {
      "id": "44973f73",
      "cell_type": "code",
      "source": "clients['children'].value_counts()",
      "metadata": {},
      "outputs": [
        {
          "data": {
            "text/plain": [
              "0     14154\n",
              "1      4809\n",
              "2      2052\n",
              "3       330\n",
              "20       76\n",
              "4        41\n",
              "5         9\n",
              "Name: children, dtype: int64"
            ]
          },
          "execution_count": 28,
          "metadata": {},
          "output_type": "execute_result"
        }
      ],
      "execution_count": 28
    },
    {
      "id": "5f6d96a5",
      "cell_type": "code",
      "source": "clients_piv1 = clients.pivot_table(index = ['children'],columns = 'debt', values = 'income_type', aggfunc = 'count')\nclients_piv1['ratio'] = clients_piv1[1]/(clients_piv1[0]+clients_piv1[1])*100\nclients_piv1",
      "metadata": {},
      "outputs": [
        {
          "data": {
            "text/html": [
              "<div>\n",
              "<style scoped>\n",
              "    .dataframe tbody tr th:only-of-type {\n",
              "        vertical-align: middle;\n",
              "    }\n",
              "\n",
              "    .dataframe tbody tr th {\n",
              "        vertical-align: top;\n",
              "    }\n",
              "\n",
              "    .dataframe thead th {\n",
              "        text-align: right;\n",
              "    }\n",
              "</style>\n",
              "<table border=\"1\" class=\"dataframe\">\n",
              "  <thead>\n",
              "    <tr style=\"text-align: right;\">\n",
              "      <th>debt</th>\n",
              "      <th>0</th>\n",
              "      <th>1</th>\n",
              "      <th>ratio</th>\n",
              "    </tr>\n",
              "    <tr>\n",
              "      <th>children</th>\n",
              "      <th></th>\n",
              "      <th></th>\n",
              "      <th></th>\n",
              "    </tr>\n",
              "  </thead>\n",
              "  <tbody>\n",
              "    <tr>\n",
              "      <th>0</th>\n",
              "      <td>13090.0</td>\n",
              "      <td>1064.0</td>\n",
              "      <td>7.517310</td>\n",
              "    </tr>\n",
              "    <tr>\n",
              "      <th>1</th>\n",
              "      <td>4365.0</td>\n",
              "      <td>444.0</td>\n",
              "      <td>9.232689</td>\n",
              "    </tr>\n",
              "    <tr>\n",
              "      <th>2</th>\n",
              "      <td>1858.0</td>\n",
              "      <td>194.0</td>\n",
              "      <td>9.454191</td>\n",
              "    </tr>\n",
              "    <tr>\n",
              "      <th>3</th>\n",
              "      <td>303.0</td>\n",
              "      <td>27.0</td>\n",
              "      <td>8.181818</td>\n",
              "    </tr>\n",
              "    <tr>\n",
              "      <th>4</th>\n",
              "      <td>37.0</td>\n",
              "      <td>4.0</td>\n",
              "      <td>9.756098</td>\n",
              "    </tr>\n",
              "    <tr>\n",
              "      <th>5</th>\n",
              "      <td>9.0</td>\n",
              "      <td>NaN</td>\n",
              "      <td>NaN</td>\n",
              "    </tr>\n",
              "    <tr>\n",
              "      <th>20</th>\n",
              "      <td>68.0</td>\n",
              "      <td>8.0</td>\n",
              "      <td>10.526316</td>\n",
              "    </tr>\n",
              "  </tbody>\n",
              "</table>\n",
              "</div>"
            ],
            "text/plain": [
              "debt            0       1      ratio\n",
              "children                            \n",
              "0         13090.0  1064.0   7.517310\n",
              "1          4365.0   444.0   9.232689\n",
              "2          1858.0   194.0   9.454191\n",
              "3           303.0    27.0   8.181818\n",
              "4            37.0     4.0   9.756098\n",
              "5             9.0     NaN        NaN\n",
              "20           68.0     8.0  10.526316"
            ]
          },
          "execution_count": 29,
          "metadata": {},
          "output_type": "execute_result"
        }
      ],
      "execution_count": 29
    },
    {
      "id": "5f998137",
      "cell_type": "markdown",
      "source": "1. начнем с того, что я не увидела расшифровки 0 и 1 для столбца debt. Допустим, что 1 нет задолженности, 0 есть.\n2. у нас есть NaN для людей с 5 детьми, значит все они имеют задолженности\n3. можно отметить, что с увеличением количества детей, люди реже берут кредит\n4. соответвенно больше всего берут кредиты бездетные\n5. по соотношению людей с задолженностями и без нет какой-то зависимости, у всех около 10%\n6. при этом, если 20 детей это 2 или 0, то значения сильно не поменяются",
      "metadata": {}
    },
    {
      "id": "32f9eb3d",
      "cell_type": "markdown",
      "source": "**2. Есть ли зависимость между семейным положением и возвратом кредита в срок?**",
      "metadata": {}
    },
    {
      "id": "f8cc2a79",
      "cell_type": "code",
      "source": "clients['family_status'].value_counts()",
      "metadata": {},
      "outputs": [
        {
          "data": {
            "text/plain": [
              "женат / замужем          12344\n",
              "гражданский брак          4163\n",
              "Не женат / не замужем     2810\n",
              "в разводе                 1195\n",
              "вдовец / вдова             959\n",
              "Name: family_status, dtype: int64"
            ]
          },
          "execution_count": 30,
          "metadata": {},
          "output_type": "execute_result"
        }
      ],
      "execution_count": 30
    },
    {
      "id": "0c605bf5",
      "cell_type": "code",
      "source": "clients_piv2 = clients.pivot_table(index = ['family_status'],columns = 'debt', values = 'income_type', aggfunc = 'count')\nclients_piv2['ratio'] = clients_piv2[1]/(clients_piv2[0]+clients_piv2[1])*100\nclients_piv2.sort_values(by = 'ratio')",
      "metadata": {},
      "outputs": [
        {
          "data": {
            "text/html": [
              "<div>\n",
              "<style scoped>\n",
              "    .dataframe tbody tr th:only-of-type {\n",
              "        vertical-align: middle;\n",
              "    }\n",
              "\n",
              "    .dataframe tbody tr th {\n",
              "        vertical-align: top;\n",
              "    }\n",
              "\n",
              "    .dataframe thead th {\n",
              "        text-align: right;\n",
              "    }\n",
              "</style>\n",
              "<table border=\"1\" class=\"dataframe\">\n",
              "  <thead>\n",
              "    <tr style=\"text-align: right;\">\n",
              "      <th>debt</th>\n",
              "      <th>0</th>\n",
              "      <th>1</th>\n",
              "      <th>ratio</th>\n",
              "    </tr>\n",
              "    <tr>\n",
              "      <th>family_status</th>\n",
              "      <th></th>\n",
              "      <th></th>\n",
              "      <th></th>\n",
              "    </tr>\n",
              "  </thead>\n",
              "  <tbody>\n",
              "    <tr>\n",
              "      <th>вдовец / вдова</th>\n",
              "      <td>896</td>\n",
              "      <td>63</td>\n",
              "      <td>6.569343</td>\n",
              "    </tr>\n",
              "    <tr>\n",
              "      <th>в разводе</th>\n",
              "      <td>1110</td>\n",
              "      <td>85</td>\n",
              "      <td>7.112971</td>\n",
              "    </tr>\n",
              "    <tr>\n",
              "      <th>женат / замужем</th>\n",
              "      <td>11413</td>\n",
              "      <td>931</td>\n",
              "      <td>7.542126</td>\n",
              "    </tr>\n",
              "    <tr>\n",
              "      <th>гражданский брак</th>\n",
              "      <td>3775</td>\n",
              "      <td>388</td>\n",
              "      <td>9.320202</td>\n",
              "    </tr>\n",
              "    <tr>\n",
              "      <th>Не женат / не замужем</th>\n",
              "      <td>2536</td>\n",
              "      <td>274</td>\n",
              "      <td>9.750890</td>\n",
              "    </tr>\n",
              "  </tbody>\n",
              "</table>\n",
              "</div>"
            ],
            "text/plain": [
              "debt                       0    1     ratio\n",
              "family_status                              \n",
              "вдовец / вдова           896   63  6.569343\n",
              "в разводе               1110   85  7.112971\n",
              "женат / замужем        11413  931  7.542126\n",
              "гражданский брак        3775  388  9.320202\n",
              "Не женат / не замужем   2536  274  9.750890"
            ]
          },
          "execution_count": 31,
          "metadata": {},
          "output_type": "execute_result"
        }
      ],
      "execution_count": 31
    },
    {
      "id": "984587b6",
      "cell_type": "markdown",
      "source": "1. после сортировки стала видна зависимость возвратов кредита\n2. предполагаю, что при потере/разводе кредит становится выплачивать сложнее, поэтому процент самый низкий\n3. а люди, полагающиеся только на себя (не женат/не замужем) бодрее выплачивают кредиты",
      "metadata": {}
    },
    {
      "id": "8593447f",
      "cell_type": "markdown",
      "source": "**3. Есть ли зависимость между уровнем дохода и возвратом кредита в срок?**",
      "metadata": {}
    },
    {
      "id": "6a6a1ec2",
      "cell_type": "code",
      "source": "#у нас нет различных групп по доходам, попробуем выделить их по процентам от минимального до максимального с шагом 25%\n#clients.describe()\nclients",
      "metadata": {},
      "outputs": [
        {
          "data": {
            "text/html": [
              "<div>\n",
              "<style scoped>\n",
              "    .dataframe tbody tr th:only-of-type {\n",
              "        vertical-align: middle;\n",
              "    }\n",
              "\n",
              "    .dataframe tbody tr th {\n",
              "        vertical-align: top;\n",
              "    }\n",
              "\n",
              "    .dataframe thead th {\n",
              "        text-align: right;\n",
              "    }\n",
              "</style>\n",
              "<table border=\"1\" class=\"dataframe\">\n",
              "  <thead>\n",
              "    <tr style=\"text-align: right;\">\n",
              "      <th></th>\n",
              "      <th>children</th>\n",
              "      <th>days_employed</th>\n",
              "      <th>dob_years</th>\n",
              "      <th>education</th>\n",
              "      <th>education_id</th>\n",
              "      <th>family_status</th>\n",
              "      <th>family_status_id</th>\n",
              "      <th>gender</th>\n",
              "      <th>income_type</th>\n",
              "      <th>debt</th>\n",
              "      <th>total_income</th>\n",
              "      <th>purpose</th>\n",
              "      <th>years_employed</th>\n",
              "      <th>total_income_category</th>\n",
              "      <th>purpose_category</th>\n",
              "    </tr>\n",
              "  </thead>\n",
              "  <tbody>\n",
              "    <tr>\n",
              "      <th>0</th>\n",
              "      <td>1</td>\n",
              "      <td>8437</td>\n",
              "      <td>42.0</td>\n",
              "      <td>высшее</td>\n",
              "      <td>0</td>\n",
              "      <td>женат / замужем</td>\n",
              "      <td>0</td>\n",
              "      <td>F</td>\n",
              "      <td>сотрудник</td>\n",
              "      <td>0</td>\n",
              "      <td>253875</td>\n",
              "      <td>операции с недвижимостью</td>\n",
              "      <td>23.116912</td>\n",
              "      <td>B</td>\n",
              "      <td>операции с недвижимостью</td>\n",
              "    </tr>\n",
              "    <tr>\n",
              "      <th>1</th>\n",
              "      <td>1</td>\n",
              "      <td>4024</td>\n",
              "      <td>36.0</td>\n",
              "      <td>среднее</td>\n",
              "      <td>1</td>\n",
              "      <td>женат / замужем</td>\n",
              "      <td>0</td>\n",
              "      <td>F</td>\n",
              "      <td>сотрудник</td>\n",
              "      <td>0</td>\n",
              "      <td>112080</td>\n",
              "      <td>автомобиль</td>\n",
              "      <td>11.026860</td>\n",
              "      <td>C</td>\n",
              "      <td>операции с автомобилем</td>\n",
              "    </tr>\n",
              "    <tr>\n",
              "      <th>2</th>\n",
              "      <td>0</td>\n",
              "      <td>5623</td>\n",
              "      <td>33.0</td>\n",
              "      <td>среднее</td>\n",
              "      <td>1</td>\n",
              "      <td>женат / замужем</td>\n",
              "      <td>0</td>\n",
              "      <td>M</td>\n",
              "      <td>сотрудник</td>\n",
              "      <td>0</td>\n",
              "      <td>145885</td>\n",
              "      <td>операции с недвижимостью</td>\n",
              "      <td>15.406637</td>\n",
              "      <td>C</td>\n",
              "      <td>операции с недвижимостью</td>\n",
              "    </tr>\n",
              "    <tr>\n",
              "      <th>3</th>\n",
              "      <td>3</td>\n",
              "      <td>4124</td>\n",
              "      <td>32.0</td>\n",
              "      <td>среднее</td>\n",
              "      <td>1</td>\n",
              "      <td>женат / замужем</td>\n",
              "      <td>0</td>\n",
              "      <td>M</td>\n",
              "      <td>сотрудник</td>\n",
              "      <td>0</td>\n",
              "      <td>267628</td>\n",
              "      <td>образование</td>\n",
              "      <td>11.300677</td>\n",
              "      <td>B</td>\n",
              "      <td>получение образования</td>\n",
              "    </tr>\n",
              "    <tr>\n",
              "      <th>4</th>\n",
              "      <td>0</td>\n",
              "      <td>340266</td>\n",
              "      <td>53.0</td>\n",
              "      <td>среднее</td>\n",
              "      <td>1</td>\n",
              "      <td>гражданский брак</td>\n",
              "      <td>1</td>\n",
              "      <td>F</td>\n",
              "      <td>пенсионер</td>\n",
              "      <td>0</td>\n",
              "      <td>158616</td>\n",
              "      <td>свадьба</td>\n",
              "      <td>932.235814</td>\n",
              "      <td>C</td>\n",
              "      <td>проведение свадьбы</td>\n",
              "    </tr>\n",
              "    <tr>\n",
              "      <th>...</th>\n",
              "      <td>...</td>\n",
              "      <td>...</td>\n",
              "      <td>...</td>\n",
              "      <td>...</td>\n",
              "      <td>...</td>\n",
              "      <td>...</td>\n",
              "      <td>...</td>\n",
              "      <td>...</td>\n",
              "      <td>...</td>\n",
              "      <td>...</td>\n",
              "      <td>...</td>\n",
              "      <td>...</td>\n",
              "      <td>...</td>\n",
              "      <td>...</td>\n",
              "      <td>...</td>\n",
              "    </tr>\n",
              "    <tr>\n",
              "      <th>21466</th>\n",
              "      <td>1</td>\n",
              "      <td>4529</td>\n",
              "      <td>43.0</td>\n",
              "      <td>среднее</td>\n",
              "      <td>1</td>\n",
              "      <td>гражданский брак</td>\n",
              "      <td>1</td>\n",
              "      <td>F</td>\n",
              "      <td>компаньон</td>\n",
              "      <td>0</td>\n",
              "      <td>224791</td>\n",
              "      <td>операции с недвижимостью</td>\n",
              "      <td>12.409087</td>\n",
              "      <td>B</td>\n",
              "      <td>операции с недвижимостью</td>\n",
              "    </tr>\n",
              "    <tr>\n",
              "      <th>21467</th>\n",
              "      <td>0</td>\n",
              "      <td>343937</td>\n",
              "      <td>67.0</td>\n",
              "      <td>среднее</td>\n",
              "      <td>1</td>\n",
              "      <td>женат / замужем</td>\n",
              "      <td>0</td>\n",
              "      <td>F</td>\n",
              "      <td>пенсионер</td>\n",
              "      <td>0</td>\n",
              "      <td>155999</td>\n",
              "      <td>автомобиль</td>\n",
              "      <td>942.294258</td>\n",
              "      <td>C</td>\n",
              "      <td>операции с автомобилем</td>\n",
              "    </tr>\n",
              "    <tr>\n",
              "      <th>21468</th>\n",
              "      <td>1</td>\n",
              "      <td>2113</td>\n",
              "      <td>38.0</td>\n",
              "      <td>среднее</td>\n",
              "      <td>1</td>\n",
              "      <td>гражданский брак</td>\n",
              "      <td>1</td>\n",
              "      <td>M</td>\n",
              "      <td>сотрудник</td>\n",
              "      <td>1</td>\n",
              "      <td>89672</td>\n",
              "      <td>операции с недвижимостью</td>\n",
              "      <td>5.789991</td>\n",
              "      <td>C</td>\n",
              "      <td>операции с недвижимостью</td>\n",
              "    </tr>\n",
              "    <tr>\n",
              "      <th>21469</th>\n",
              "      <td>3</td>\n",
              "      <td>3112</td>\n",
              "      <td>38.0</td>\n",
              "      <td>среднее</td>\n",
              "      <td>1</td>\n",
              "      <td>женат / замужем</td>\n",
              "      <td>0</td>\n",
              "      <td>M</td>\n",
              "      <td>сотрудник</td>\n",
              "      <td>1</td>\n",
              "      <td>244093</td>\n",
              "      <td>автомобиль</td>\n",
              "      <td>8.527347</td>\n",
              "      <td>B</td>\n",
              "      <td>операции с автомобилем</td>\n",
              "    </tr>\n",
              "    <tr>\n",
              "      <th>21470</th>\n",
              "      <td>2</td>\n",
              "      <td>1984</td>\n",
              "      <td>40.0</td>\n",
              "      <td>среднее</td>\n",
              "      <td>1</td>\n",
              "      <td>женат / замужем</td>\n",
              "      <td>0</td>\n",
              "      <td>F</td>\n",
              "      <td>сотрудник</td>\n",
              "      <td>0</td>\n",
              "      <td>82047</td>\n",
              "      <td>автомобиль</td>\n",
              "      <td>5.437007</td>\n",
              "      <td>C</td>\n",
              "      <td>операции с автомобилем</td>\n",
              "    </tr>\n",
              "  </tbody>\n",
              "</table>\n",
              "<p>21471 rows × 15 columns</p>\n",
              "</div>"
            ],
            "text/plain": [
              "       children  days_employed  dob_years education  education_id  \\\n",
              "0             1           8437       42.0    высшее             0   \n",
              "1             1           4024       36.0   среднее             1   \n",
              "2             0           5623       33.0   среднее             1   \n",
              "3             3           4124       32.0   среднее             1   \n",
              "4             0         340266       53.0   среднее             1   \n",
              "...         ...            ...        ...       ...           ...   \n",
              "21466         1           4529       43.0   среднее             1   \n",
              "21467         0         343937       67.0   среднее             1   \n",
              "21468         1           2113       38.0   среднее             1   \n",
              "21469         3           3112       38.0   среднее             1   \n",
              "21470         2           1984       40.0   среднее             1   \n",
              "\n",
              "          family_status  family_status_id gender income_type  debt  \\\n",
              "0       женат / замужем                 0      F   сотрудник     0   \n",
              "1       женат / замужем                 0      F   сотрудник     0   \n",
              "2       женат / замужем                 0      M   сотрудник     0   \n",
              "3       женат / замужем                 0      M   сотрудник     0   \n",
              "4      гражданский брак                 1      F   пенсионер     0   \n",
              "...                 ...               ...    ...         ...   ...   \n",
              "21466  гражданский брак                 1      F   компаньон     0   \n",
              "21467   женат / замужем                 0      F   пенсионер     0   \n",
              "21468  гражданский брак                 1      M   сотрудник     1   \n",
              "21469   женат / замужем                 0      M   сотрудник     1   \n",
              "21470   женат / замужем                 0      F   сотрудник     0   \n",
              "\n",
              "       total_income                   purpose  years_employed  \\\n",
              "0            253875  операции с недвижимостью       23.116912   \n",
              "1            112080                автомобиль       11.026860   \n",
              "2            145885  операции с недвижимостью       15.406637   \n",
              "3            267628               образование       11.300677   \n",
              "4            158616                   свадьба      932.235814   \n",
              "...             ...                       ...             ...   \n",
              "21466        224791  операции с недвижимостью       12.409087   \n",
              "21467        155999                автомобиль      942.294258   \n",
              "21468         89672  операции с недвижимостью        5.789991   \n",
              "21469        244093                автомобиль        8.527347   \n",
              "21470         82047                автомобиль        5.437007   \n",
              "\n",
              "      total_income_category          purpose_category  \n",
              "0                         B  операции с недвижимостью  \n",
              "1                         C    операции с автомобилем  \n",
              "2                         C  операции с недвижимостью  \n",
              "3                         B     получение образования  \n",
              "4                         C        проведение свадьбы  \n",
              "...                     ...                       ...  \n",
              "21466                     B  операции с недвижимостью  \n",
              "21467                     C    операции с автомобилем  \n",
              "21468                     C  операции с недвижимостью  \n",
              "21469                     B    операции с автомобилем  \n",
              "21470                     C    операции с автомобилем  \n",
              "\n",
              "[21471 rows x 15 columns]"
            ]
          },
          "execution_count": 32,
          "metadata": {},
          "output_type": "execute_result"
        }
      ],
      "execution_count": 32
    },
    {
      "id": "33132100",
      "cell_type": "code",
      "source": "#def group_income(sal):\n#    if 20667 <=sal <= 107654.5:\n#        return 'низкий достаток'\n#    if 107654.5 <sal <= 145017:\n#        return 'средний достаток'\n#    if 145017 <sal <= 195751.5:\n#        return 'высокий достаток'\n#    if 195751.5 <sal <= 2265604:\n#        return 'очень высокий достаток'\n",
      "metadata": {},
      "outputs": [],
      "execution_count": 33
    },
    {
      "id": "6108fcdc",
      "cell_type": "code",
      "source": "#clients['income_status'] = clients['total_income'].apply(group_income)\n#clients.head(10) #проверили новый столбец",
      "metadata": {},
      "outputs": [],
      "execution_count": 34
    },
    {
      "id": "9cd04296",
      "cell_type": "code",
      "source": "clients_piv3 = clients.pivot_table(index = ['total_income_category'],columns = 'debt', values = 'total_income', aggfunc = 'count')\nclients_piv3['ratio'] = clients_piv3[1]/(clients_piv3[0]+clients_piv3[1])*100\n#clients_piv3.sort_values(by = 'ratio')\nclients_piv3",
      "metadata": {
        "scrolled": true
      },
      "outputs": [
        {
          "data": {
            "text/html": [
              "<div>\n",
              "<style scoped>\n",
              "    .dataframe tbody tr th:only-of-type {\n",
              "        vertical-align: middle;\n",
              "    }\n",
              "\n",
              "    .dataframe tbody tr th {\n",
              "        vertical-align: top;\n",
              "    }\n",
              "\n",
              "    .dataframe thead th {\n",
              "        text-align: right;\n",
              "    }\n",
              "</style>\n",
              "<table border=\"1\" class=\"dataframe\">\n",
              "  <thead>\n",
              "    <tr style=\"text-align: right;\">\n",
              "      <th>debt</th>\n",
              "      <th>0</th>\n",
              "      <th>1</th>\n",
              "      <th>ratio</th>\n",
              "    </tr>\n",
              "    <tr>\n",
              "      <th>total_income_category</th>\n",
              "      <th></th>\n",
              "      <th></th>\n",
              "      <th></th>\n",
              "    </tr>\n",
              "  </thead>\n",
              "  <tbody>\n",
              "    <tr>\n",
              "      <th>A</th>\n",
              "      <td>23</td>\n",
              "      <td>2</td>\n",
              "      <td>8.000000</td>\n",
              "    </tr>\n",
              "    <tr>\n",
              "      <th>B</th>\n",
              "      <td>4685</td>\n",
              "      <td>356</td>\n",
              "      <td>7.062091</td>\n",
              "    </tr>\n",
              "    <tr>\n",
              "      <th>C</th>\n",
              "      <td>14673</td>\n",
              "      <td>1360</td>\n",
              "      <td>8.482505</td>\n",
              "    </tr>\n",
              "    <tr>\n",
              "      <th>D</th>\n",
              "      <td>329</td>\n",
              "      <td>21</td>\n",
              "      <td>6.000000</td>\n",
              "    </tr>\n",
              "    <tr>\n",
              "      <th>E</th>\n",
              "      <td>20</td>\n",
              "      <td>2</td>\n",
              "      <td>9.090909</td>\n",
              "    </tr>\n",
              "  </tbody>\n",
              "</table>\n",
              "</div>"
            ],
            "text/plain": [
              "debt                       0     1     ratio\n",
              "total_income_category                       \n",
              "A                         23     2  8.000000\n",
              "B                       4685   356  7.062091\n",
              "C                      14673  1360  8.482505\n",
              "D                        329    21  6.000000\n",
              "E                         20     2  9.090909"
            ]
          },
          "execution_count": 35,
          "metadata": {},
          "output_type": "execute_result"
        }
      ],
      "execution_count": 35
    },
    {
      "id": "df0ec041",
      "cell_type": "markdown",
      "source": "1. люди со средним достатком (группа С) чаще всех берут кредиты\n2. по отношению задолженности разница не очень очевидна\n3. люди с низким достатком и очень высоким достатком хуже всего возвращают кредиты, предполагаю, что первые по очевидным причинам, а вторые может как много зарабатывают, так много и тратят, поэтому им тоже сложнее возвращать кредиты.",
      "metadata": {}
    },
    {
      "id": "66ea3a6b",
      "cell_type": "markdown",
      "source": "**4. Как разные цели кредита влияют на его возврат в срок?**",
      "metadata": {}
    },
    {
      "id": "d9eef1f9",
      "cell_type": "code",
      "source": "clients['purpose_category'].value_counts()",
      "metadata": {},
      "outputs": [
        {
          "data": {
            "text/plain": [
              "операции с недвижимостью    10814\n",
              "операции с автомобилем       4308\n",
              "получение образования        4014\n",
              "проведение свадьбы           2335\n",
              "Name: purpose_category, dtype: int64"
            ]
          },
          "execution_count": 36,
          "metadata": {},
          "output_type": "execute_result"
        }
      ],
      "execution_count": 36
    },
    {
      "id": "4845356e",
      "cell_type": "code",
      "source": "clients_piv4 = clients.pivot_table(index = ['purpose_category'],columns = 'debt', values = 'income_type', aggfunc = 'count')\nclients_piv4['ratio'] = clients_piv4[1]/(clients_piv4[0]+clients_piv4[1])*100\nclients_piv4.sort_values(by = 'ratio')",
      "metadata": {},
      "outputs": [
        {
          "data": {
            "text/html": [
              "<div>\n",
              "<style scoped>\n",
              "    .dataframe tbody tr th:only-of-type {\n",
              "        vertical-align: middle;\n",
              "    }\n",
              "\n",
              "    .dataframe tbody tr th {\n",
              "        vertical-align: top;\n",
              "    }\n",
              "\n",
              "    .dataframe thead th {\n",
              "        text-align: right;\n",
              "    }\n",
              "</style>\n",
              "<table border=\"1\" class=\"dataframe\">\n",
              "  <thead>\n",
              "    <tr style=\"text-align: right;\">\n",
              "      <th>debt</th>\n",
              "      <th>0</th>\n",
              "      <th>1</th>\n",
              "      <th>ratio</th>\n",
              "    </tr>\n",
              "    <tr>\n",
              "      <th>purpose_category</th>\n",
              "      <th></th>\n",
              "      <th></th>\n",
              "      <th></th>\n",
              "    </tr>\n",
              "  </thead>\n",
              "  <tbody>\n",
              "    <tr>\n",
              "      <th>операции с недвижимостью</th>\n",
              "      <td>10032</td>\n",
              "      <td>782</td>\n",
              "      <td>7.231367</td>\n",
              "    </tr>\n",
              "    <tr>\n",
              "      <th>проведение свадьбы</th>\n",
              "      <td>2149</td>\n",
              "      <td>186</td>\n",
              "      <td>7.965739</td>\n",
              "    </tr>\n",
              "    <tr>\n",
              "      <th>получение образования</th>\n",
              "      <td>3644</td>\n",
              "      <td>370</td>\n",
              "      <td>9.217738</td>\n",
              "    </tr>\n",
              "    <tr>\n",
              "      <th>операции с автомобилем</th>\n",
              "      <td>3905</td>\n",
              "      <td>403</td>\n",
              "      <td>9.354689</td>\n",
              "    </tr>\n",
              "  </tbody>\n",
              "</table>\n",
              "</div>"
            ],
            "text/plain": [
              "debt                          0    1     ratio\n",
              "purpose_category                              \n",
              "операции с недвижимостью  10032  782  7.231367\n",
              "проведение свадьбы         2149  186  7.965739\n",
              "получение образования      3644  370  9.217738\n",
              "операции с автомобилем     3905  403  9.354689"
            ]
          },
          "execution_count": 37,
          "metadata": {},
          "output_type": "execute_result"
        }
      ],
      "execution_count": 37
    },
    {
      "id": "f70d80f8",
      "cell_type": "markdown",
      "source": "1. хуже всего возвращают люди при покупке недвижимости, думаю это связано с размером кредита и длительностью выплат\n2. на свадьбы хоть и тратят меньше денег, но возвращать кредит тоже не особо любят\n3. обдуманные цели, такие как образование и автомобиль, показали лучший процент возврата\n4. но, по сути, разница для всех целей не такая заметная",
      "metadata": {}
    },
    {
      "id": "662ea141",
      "cell_type": "markdown",
      "source": "## Общий вывод:",
      "metadata": {}
    },
    {
      "id": "90a57636",
      "cell_type": "markdown",
      "source": "В общем получить какую-то зависимость оказалось тяжело. Так как +- у всех схожие параметры касательно возврата кредита. Однако даже небольшие отличия могут значительно повлиять на возможности и денежный оборот банка.\nДумаю, банку стоит обратить внимание на людей с семейным положением : вдовец / вдова,в разводе. Также людят с очень низким и очень высоким доходом, и при покупке недвижимости и организации свадьбы.\n\nБолее того, существенным фктором являются наличие ошибок в данных, поэтому следует:\n- более тщательно следить за заполнением всех колонок\n- создать правила заполнения: в каких единицах, стаж работы в годах\n- создать и учитывать группировки \n- следить за дубликатами\n- написать проверочный код, который уведомит о заранее невозможных данных (стаж 1000 лет, 20 детей и т.д.) и покажет ошибку \n- на основе проведенного в конце анализа рассчитать предварительный процент одобрения банком",
      "metadata": {}
    }
  ]
}