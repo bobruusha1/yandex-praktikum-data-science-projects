{
  "metadata": {
    "kernelspec": {
      "name": "python",
      "display_name": "Python (Pyodide)",
      "language": "python"
    },
    "language_info": {
      "codemirror_mode": {
        "name": "python",
        "version": 3
      },
      "file_extension": ".py",
      "mimetype": "text/x-python",
      "name": "python",
      "nbconvert_exporter": "python",
      "pygments_lexer": "ipython3",
      "version": "3.8"
    },
    "toc": {
      "base_numbering": "1",
      "nav_menu": {},
      "number_sections": true,
      "sideBar": true,
      "skip_h1_title": true,
      "title_cell": "Содержание",
      "title_sidebar": "Contents",
      "toc_cell": true,
      "toc_position": {
        "height": "calc(100% - 180px)",
        "left": "10px",
        "top": "150px",
        "width": "357px"
      },
      "toc_section_display": true,
      "toc_window_display": true
    },
    "widgets": {
      "application/vnd.jupyter.widget-state+json": {
        "version_major": 2,
        "version_minor": 0,
        "state": {}
      }
    }
  },
  "nbformat_minor": 5,
  "nbformat": 4,
  "cells": [
    {
      "id": "7337a893",
      "cell_type": "markdown",
      "source": "# Исследование объявлений о продаже квартир",
      "metadata": {}
    },
    {
      "id": "f62c0b51",
      "cell_type": "markdown",
      "source": "<h1>Содержание<span class=\"tocSkip\"></span></h1>\n<div class=\"toc\"><ul class=\"toc-item\"><li><span><a href=\"#Шаг-1.-Откройте-файл-с-данными-и-изучите-общую-информацию\" data-toc-modified-id=\"Шаг-1.-Откройте-файл-с-данными-и-изучите-общую-информацию-1\"><span class=\"toc-item-num\">1&nbsp;&nbsp;</span>Шаг 1. Откройте файл с данными и изучите общую информацию</a></span><ul class=\"toc-item\"><li><span><a href=\"#Импорт-данных\" data-toc-modified-id=\"Импорт-данных-1.1\"><span class=\"toc-item-num\">1.1&nbsp;&nbsp;</span>Импорт данных</a></span></li></ul></li><li><span><a href=\"#Предобработка-данных\" data-toc-modified-id=\"Предобработка-данных-2\"><span class=\"toc-item-num\">2&nbsp;&nbsp;</span>Предобработка данных</a></span><ul class=\"toc-item\"><li><span><a href=\"#is_apartment\" data-toc-modified-id=\"is_apartment-2.1\"><span class=\"toc-item-num\">2.1&nbsp;&nbsp;</span>is_apartment</a></span></li><li><span><a href=\"#balcony\" data-toc-modified-id=\"balcony-2.2\"><span class=\"toc-item-num\">2.2&nbsp;&nbsp;</span>balcony</a></span></li><li><span><a href=\"#ceiling_height\" data-toc-modified-id=\"ceiling_height-2.3\"><span class=\"toc-item-num\">2.3&nbsp;&nbsp;</span>ceiling_height</a></span></li><li><span><a href=\"#cityCenters_nearest,-airports_nearest\" data-toc-modified-id=\"cityCenters_nearest,-airports_nearest-2.4\"><span class=\"toc-item-num\">2.4&nbsp;&nbsp;</span>cityCenters_nearest, airports_nearest</a></span></li><li><span><a href=\"#days_exposition\" data-toc-modified-id=\"days_exposition-2.5\"><span class=\"toc-item-num\">2.5&nbsp;&nbsp;</span>days_exposition</a></span></li><li><span><a href=\"#first_day_exposition\" data-toc-modified-id=\"first_day_exposition-2.6\"><span class=\"toc-item-num\">2.6&nbsp;&nbsp;</span>first_day_exposition</a></span></li><li><span><a href=\"#last_price\" data-toc-modified-id=\"last_price-2.7\"><span class=\"toc-item-num\">2.7&nbsp;&nbsp;</span>last_price</a></span></li></ul></li><li><span><a href=\"#Шаг-3.-Посчитайте-и-добавьте-в-таблицу\" data-toc-modified-id=\"Шаг-3.-Посчитайте-и-добавьте-в-таблицу-3\"><span class=\"toc-item-num\">3&nbsp;&nbsp;</span>Шаг 3. Посчитайте и добавьте в таблицу</a></span><ul class=\"toc-item\"><li><span><a href=\"#Считаем-цену-квадратного-метра-и-можно-сделать-целым-как-и-цену-выше.\" data-toc-modified-id=\"Считаем-цену-квадратного-метра-и-можно-сделать-целым-как-и-цену-выше.-3.1\"><span class=\"toc-item-num\">3.1&nbsp;&nbsp;</span>Считаем цену квадратного метра и можно сделать целым как и цену выше.</a></span></li><li><span><a href=\"#Создаем-столбец-для-дня-недели.-В-самом-начадле-импортировали-datetime.\" data-toc-modified-id=\"Создаем-столбец-для-дня-недели.-В-самом-начадле-импортировали-datetime.-3.2\"><span class=\"toc-item-num\">3.2&nbsp;&nbsp;</span>Создаем столбец для дня недели. В самом начадле импортировали datetime.</a></span></li><li><span><a href=\"#Создем-столбец-для-месяца.\" data-toc-modified-id=\"Создем-столбец-для-месяца.-3.3\"><span class=\"toc-item-num\">3.3&nbsp;&nbsp;</span>Создем столбец для месяца.</a></span></li><li><span><a href=\"#Создаем-столбец-для-года.\" data-toc-modified-id=\"Создаем-столбец-для-года.-3.4\"><span class=\"toc-item-num\">3.4&nbsp;&nbsp;</span>Создаем столбец для года.</a></span></li><li><span><a href=\"#Тип-этажа\" data-toc-modified-id=\"Тип-этажа-3.5\"><span class=\"toc-item-num\">3.5&nbsp;&nbsp;</span>Тип этажа</a></span></li><li><span><a href=\"#Считаем-соотношение-жилой-и-общей-площад.\" data-toc-modified-id=\"Считаем-соотношение-жилой-и-общей-площад.-3.6\"><span class=\"toc-item-num\">3.6&nbsp;&nbsp;</span>Считаем соотношение жилой и общей площад.</a></span></li><li><span><a href=\"#Считаем--отношение-площади-кухни-к-общей.\" data-toc-modified-id=\"Считаем--отношение-площади-кухни-к-общей.-3.7\"><span class=\"toc-item-num\">3.7&nbsp;&nbsp;</span>Считаем  отношение площади кухни к общей.</a></span></li></ul></li><li><span><a href=\"#Шаг-4.-Проведите-исследовательский-анализ-данных-и-выполните-инструкции\" data-toc-modified-id=\"Шаг-4.-Проведите-исследовательский-анализ-данных-и-выполните-инструкции-4\"><span class=\"toc-item-num\">4&nbsp;&nbsp;</span>Шаг 4. Проведите исследовательский анализ данных и выполните инструкции</a></span><ul class=\"toc-item\"><li><span><a href=\"#Изучаем-данные-по-площади,-цене,-числу-комнат,-высоте-потолков.\" data-toc-modified-id=\"Изучаем-данные-по-площади,-цене,-числу-комнат,-высоте-потолков.-4.1\"><span class=\"toc-item-num\">4.1&nbsp;&nbsp;</span>Изучаем данные по площади, цене, числу комнат, высоте потолков.</a></span></li><li><span><a href=\"#Изучаем-время-продажи-квартиры.\" data-toc-modified-id=\"Изучаем-время-продажи-квартиры.-4.2\"><span class=\"toc-item-num\">4.2&nbsp;&nbsp;</span>Изучаем время продажи квартиры.</a></span></li><li><span><a href=\"#Убираем-редкие-и-выбивающиеся-значения.\" data-toc-modified-id=\"Убираем-редкие-и-выбивающиеся-значения.-4.3\"><span class=\"toc-item-num\">4.3&nbsp;&nbsp;</span>Убираем редкие и выбивающиеся значения.<br></a></span></li><li><span><a href=\"#Зависимость-стоимость-квартиры-от-площади,-числа-комнат,-удалённости-от-центра.\" data-toc-modified-id=\"Зависимость-стоимость-квартиры-от-площади,-числа-комнат,-удалённости-от-центра.-4.4\"><span class=\"toc-item-num\">4.4&nbsp;&nbsp;</span>Зависимость стоимость квартиры от площади, числа комнат, удалённости от центра.</a></span><ul class=\"toc-item\"><li><span><a href=\"#зависит-ли-цена-от-площади\" data-toc-modified-id=\"зависит-ли-цена-от-площади-4.4.1\"><span class=\"toc-item-num\">4.4.1&nbsp;&nbsp;</span>зависит ли цена от площади</a></span></li><li><span><a href=\"#зависит-ли-цена-от-числа-комнат\" data-toc-modified-id=\"зависит-ли-цена-от-числа-комнат-4.4.2\"><span class=\"toc-item-num\">4.4.2&nbsp;&nbsp;</span>зависит ли цена от числа комнат</a></span></li><li><span><a href=\"#зависит-ли-цена-от-удалённости-от-центра.\" data-toc-modified-id=\"зависит-ли-цена-от-удалённости-от-центра.-4.4.3\"><span class=\"toc-item-num\">4.4.3&nbsp;&nbsp;</span>зависит ли цена от удалённости от центра.</a></span></li></ul></li><li><span><a href=\"#Зависимость-цены-от-того,-на-каком-этаже-расположена-квартира:-первом,-последнем-или-другом\" data-toc-modified-id=\"Зависимость-цены-от-того,-на-каком-этаже-расположена-квартира:-первом,-последнем-или-другом-4.5\"><span class=\"toc-item-num\">4.5&nbsp;&nbsp;</span>Зависимость цены от того, на каком этаже расположена квартира: первом, последнем или другом</a></span></li><li><span><a href=\"#Зависимость-от-даты-размещения:-дня-недели,-месяца-и-года.\" data-toc-modified-id=\"Зависимость-от-даты-размещения:-дня-недели,-месяца-и-года.-4.6\"><span class=\"toc-item-num\">4.6&nbsp;&nbsp;</span>Зависимость от даты размещения: дня недели, месяца и года.</a></span></li><li><span><a href=\"#Изучение-10-населённых-пунктов-с-наибольшим-числом-объявлений.\" data-toc-modified-id=\"Изучение-10-населённых-пунктов-с-наибольшим-числом-объявлений.-4.7\"><span class=\"toc-item-num\">4.7&nbsp;&nbsp;</span>Изучение 10 населённых пунктов с наибольшим числом объявлений.</a></span></li><li><span><a href=\"#Изучение-центра-Санкт-Петербурга\" data-toc-modified-id=\"Изучение-центра-Санкт-Петербурга-4.8\"><span class=\"toc-item-num\">4.8&nbsp;&nbsp;</span>Изучение центра Санкт-Петербурга</a></span></li><li><span><a href=\"#Анализ-сегмента-квартир-в-центральной-части-С-П.\" data-toc-modified-id=\"Анализ-сегмента-квартир-в-центральной-части-С-П.-4.9\"><span class=\"toc-item-num\">4.9&nbsp;&nbsp;</span>Анализ сегмента квартир в центральной части С-П.</a></span><ul class=\"toc-item\"><li><span><a href=\"#Изучаем-данные-по-площади,-цене,-числу-комнат,-высоте-потолков.\" data-toc-modified-id=\"Изучаем-данные-по-площади,-цене,-числу-комнат,-высоте-потолков.-4.9.1\"><span class=\"toc-item-num\">4.9.1&nbsp;&nbsp;</span>Изучаем данные по площади, цене, числу комнат, высоте потолков.</a></span></li><li><span><a href=\"#Зависит-ли-цена-от-числа-комнат\" data-toc-modified-id=\"Зависит-ли-цена-от-числа-комнат-4.9.2\"><span class=\"toc-item-num\">4.9.2&nbsp;&nbsp;</span>Зависит ли цена от числа комнат</a></span></li><li><span><a href=\"#Зависит-ли-цена-от-этажа\" data-toc-modified-id=\"Зависит-ли-цена-от-этажа-4.9.3\"><span class=\"toc-item-num\">4.9.3&nbsp;&nbsp;</span>Зависит ли цена от этажа</a></span></li><li><span><a href=\"#Зависит-ли-цена-от-удаленности-от-центра\" data-toc-modified-id=\"Зависит-ли-цена-от-удаленности-от-центра-4.9.4\"><span class=\"toc-item-num\">4.9.4&nbsp;&nbsp;</span>Зависит ли цена от удаленности от центра</a></span></li><li><span><a href=\"#Зависимость-от-даты-размещения:-дня-недели,-месяца-и-года.\" data-toc-modified-id=\"Зависимость-от-даты-размещения:-дня-недели,-месяца-и-года.-4.9.5\"><span class=\"toc-item-num\">4.9.5&nbsp;&nbsp;</span>Зависимость от даты размещения: дня недели, месяца и года.</a></span></li></ul></li></ul></li><li><span><a href=\"#Общий-вывод\" data-toc-modified-id=\"Общий-вывод-5\"><span class=\"toc-item-num\">5&nbsp;&nbsp;</span>Общий вывод</a></span></li><li><span><a href=\"#Чек-лист-готовности-проекта\" data-toc-modified-id=\"Чек-лист-готовности-проекта-6\"><span class=\"toc-item-num\">6&nbsp;&nbsp;</span>Чек-лист готовности проекта</a></span></li></ul></div>",
      "metadata": {
        "toc": true
      }
    },
    {
      "id": "e2d5ec8c",
      "cell_type": "markdown",
      "source": "# Описание проекта",
      "metadata": {}
    },
    {
      "id": "7799db9e",
      "cell_type": "markdown",
      "source": "В вашем распоряжении данные сервиса Яндекс Недвижимость — архив объявлений о продаже квартир в Санкт-Петербурге и соседних населённых пунктах за несколько лет. Нужно научиться определять рыночную стоимость объектов недвижимости. Ваша задача — установить параметры. Это позволит построить автоматизированную систему: она отследит аномалии и мошенническую деятельность.\nПо каждой квартире на продажу доступны два вида данных. Первые вписаны пользователем, вторые — получены автоматически на основе картографических данных. Например, расстояние до центра, аэропорта, ближайшего парка и водоёма.",
      "metadata": {}
    },
    {
      "id": "fa4772fd",
      "cell_type": "markdown",
      "source": "# Описание данных\n- airports_nearest — расстояние до ближайшего аэропорта в метрах (м)\n- balcony — число балконов\n- ceiling_height — высота потолков (м)\n- cityCenters_nearest — расстояние до центра города (м)\n- days_exposition — сколько дней было размещено объявление (от публикации до снятия)\n- first_day_exposition — дата публикации\n- floor — этаж\n- floors_total — всего этажей в доме\n- is_apartment — апартаменты (булев тип)\n- kitchen_area — площадь кухни в квадратных метрах (м²)\n- last_price — цена на момент снятия с публикации\n- living_area — жилая площадь в квадратных метрах (м²)\n- locality_name — название населённого пункта\n- open_plan — свободная планировка (булев тип)\n- parks_around3000 — число парков в радиусе 3 км\n- parks_nearest — расстояние до ближайшего парка (м)\n- ponds_around3000 — число водоёмов в радиусе 3 км\n- ponds_nearest — расстояние до ближайшего водоёма (м)\n- rooms — число комнат\n- studio — квартира-студия (булев тип)\n- total_area — площадь квартиры в квадратных метрах (м²)\n- total_images — число фотографий квартиры в объявлении",
      "metadata": {}
    },
    {
      "id": "50a87bbd",
      "cell_type": "markdown",
      "source": "## Шаг 1. Откройте файл с данными и изучите общую информацию",
      "metadata": {}
    },
    {
      "id": "31c12c94",
      "cell_type": "markdown",
      "source": "### Импорт данных",
      "metadata": {}
    },
    {
      "id": "465a1df3",
      "cell_type": "code",
      "source": "import pandas as pd\nimport matplotlib.pyplot as plt\nfrom datetime import datetime",
      "metadata": {
        "trusted": true
      },
      "outputs": [],
      "execution_count": 1
    },
    {
      "id": "7257c0af",
      "cell_type": "code",
      "source": "rproperty = pd.read_csv('real_estate_data.csv')\nrproperty.head(10)",
      "metadata": {
        "trusted": true
      },
      "outputs": [
        {
          "execution_count": 2,
          "output_type": "execute_result",
          "data": {
            "text/html": [
              "<div>\n",
              "<style scoped>\n",
              "    .dataframe tbody tr th:only-of-type {\n",
              "        vertical-align: middle;\n",
              "    }\n",
              "\n",
              "    .dataframe tbody tr th {\n",
              "        vertical-align: top;\n",
              "    }\n",
              "\n",
              "    .dataframe thead th {\n",
              "        text-align: right;\n",
              "    }\n",
              "</style>\n",
              "<table border=\"1\" class=\"dataframe\">\n",
              "  <thead>\n",
              "    <tr style=\"text-align: right;\">\n",
              "      <th></th>\n",
              "      <th>total_images\\tlast_price\\ttotal_area\\tfirst_day_exposition\\trooms\\tceiling_height\\tfloors_total\\tliving_area\\tfloor\\tis_apartment\\tstudio\\topen_plan\\tkitchen_area\\tbalcony\\tlocality_name\\tairports_nearest\\tcityCenters_nearest\\tparks_around3000\\tparks_nearest\\tponds_around3000\\tponds_nearest\\tdays_exposition</th>\n",
              "    </tr>\n",
              "  </thead>\n",
              "  <tbody>\n",
              "    <tr>\n",
              "      <th>0</th>\n",
              "      <td>20\\t13000000.0\\t108.0\\t2019-03-07T00:00:00\\t3\\...</td>\n",
              "    </tr>\n",
              "    <tr>\n",
              "      <th>1</th>\n",
              "      <td>7\\t3350000.0\\t40.4\\t2018-12-04T00:00:00\\t1\\t\\t...</td>\n",
              "    </tr>\n",
              "    <tr>\n",
              "      <th>2</th>\n",
              "      <td>10\\t5196000.0\\t56.0\\t2015-08-20T00:00:00\\t2\\t\\...</td>\n",
              "    </tr>\n",
              "    <tr>\n",
              "      <th>3</th>\n",
              "      <td>0\\t64900000.0\\t159.0\\t2015-07-24T00:00:00\\t3\\t...</td>\n",
              "    </tr>\n",
              "    <tr>\n",
              "      <th>4</th>\n",
              "      <td>2\\t10000000.0\\t100.0\\t2018-06-19T00:00:00\\t2\\t...</td>\n",
              "    </tr>\n",
              "    <tr>\n",
              "      <th>5</th>\n",
              "      <td>10\\t2890000.0\\t30.4\\t2018-09-10T00:00:00\\t1\\t\\...</td>\n",
              "    </tr>\n",
              "    <tr>\n",
              "      <th>6</th>\n",
              "      <td>6\\t3700000.0\\t37.3\\t2017-11-02T00:00:00\\t1\\t\\t...</td>\n",
              "    </tr>\n",
              "    <tr>\n",
              "      <th>7</th>\n",
              "      <td>5\\t7915000.0\\t71.6\\t2019-04-18T00:00:00\\t2\\t\\t...</td>\n",
              "    </tr>\n",
              "    <tr>\n",
              "      <th>8</th>\n",
              "      <td>20\\t2900000.0\\t33.16\\t2018-05-23T00:00:00\\t1\\t...</td>\n",
              "    </tr>\n",
              "    <tr>\n",
              "      <th>9</th>\n",
              "      <td>18\\t5400000.0\\t61.0\\t2017-02-26T00:00:00\\t3\\t2...</td>\n",
              "    </tr>\n",
              "  </tbody>\n",
              "</table>\n",
              "</div>"
            ],
            "text/plain": [
              "  total_images\\tlast_price\\ttotal_area\\tfirst_day_exposition\\trooms\\tceiling_height\\tfloors_total\\tliving_area\\tfloor\\tis_apartment\\tstudio\\topen_plan\\tkitchen_area\\tbalcony\\tlocality_name\\tairports_nearest\\tcityCenters_nearest\\tparks_around3000\\tparks_nearest\\tponds_around3000\\tponds_nearest\\tdays_exposition\n",
              "0  20\\t13000000.0\\t108.0\\t2019-03-07T00:00:00\\t3\\...                                                                                                                                                                                                                                                                  \n",
              "1  7\\t3350000.0\\t40.4\\t2018-12-04T00:00:00\\t1\\t\\t...                                                                                                                                                                                                                                                                  \n",
              "2  10\\t5196000.0\\t56.0\\t2015-08-20T00:00:00\\t2\\t\\...                                                                                                                                                                                                                                                                  \n",
              "3  0\\t64900000.0\\t159.0\\t2015-07-24T00:00:00\\t3\\t...                                                                                                                                                                                                                                                                  \n",
              "4  2\\t10000000.0\\t100.0\\t2018-06-19T00:00:00\\t2\\t...                                                                                                                                                                                                                                                                  \n",
              "5  10\\t2890000.0\\t30.4\\t2018-09-10T00:00:00\\t1\\t\\...                                                                                                                                                                                                                                                                  \n",
              "6  6\\t3700000.0\\t37.3\\t2017-11-02T00:00:00\\t1\\t\\t...                                                                                                                                                                                                                                                                  \n",
              "7  5\\t7915000.0\\t71.6\\t2019-04-18T00:00:00\\t2\\t\\t...                                                                                                                                                                                                                                                                  \n",
              "8  20\\t2900000.0\\t33.16\\t2018-05-23T00:00:00\\t1\\t...                                                                                                                                                                                                                                                                  \n",
              "9  18\\t5400000.0\\t61.0\\t2017-02-26T00:00:00\\t3\\t2...                                                                                                                                                                                                                                                                  "
            ]
          },
          "metadata": {}
        }
      ],
      "execution_count": 2
    },
    {
      "id": "fba833bb",
      "cell_type": "markdown",
      "source": "как мы видим, данные необходимо разделить по столбцам.",
      "metadata": {}
    },
    {
      "id": "7574d27b",
      "cell_type": "code",
      "source": "rproperty = pd.read_csv('real_estate_data.csv', sep = '\\t')\nrproperty.head(50)",
      "metadata": {
        "trusted": true
      },
      "outputs": [
        {
          "execution_count": 3,
          "output_type": "execute_result",
          "data": {
            "text/html": [
              "<div>\n",
              "<style scoped>\n",
              "    .dataframe tbody tr th:only-of-type {\n",
              "        vertical-align: middle;\n",
              "    }\n",
              "\n",
              "    .dataframe tbody tr th {\n",
              "        vertical-align: top;\n",
              "    }\n",
              "\n",
              "    .dataframe thead th {\n",
              "        text-align: right;\n",
              "    }\n",
              "</style>\n",
              "<table border=\"1\" class=\"dataframe\">\n",
              "  <thead>\n",
              "    <tr style=\"text-align: right;\">\n",
              "      <th></th>\n",
              "      <th>total_images</th>\n",
              "      <th>last_price</th>\n",
              "      <th>total_area</th>\n",
              "      <th>first_day_exposition</th>\n",
              "      <th>rooms</th>\n",
              "      <th>ceiling_height</th>\n",
              "      <th>floors_total</th>\n",
              "      <th>living_area</th>\n",
              "      <th>floor</th>\n",
              "      <th>is_apartment</th>\n",
              "      <th>...</th>\n",
              "      <th>kitchen_area</th>\n",
              "      <th>balcony</th>\n",
              "      <th>locality_name</th>\n",
              "      <th>airports_nearest</th>\n",
              "      <th>cityCenters_nearest</th>\n",
              "      <th>parks_around3000</th>\n",
              "      <th>parks_nearest</th>\n",
              "      <th>ponds_around3000</th>\n",
              "      <th>ponds_nearest</th>\n",
              "      <th>days_exposition</th>\n",
              "    </tr>\n",
              "  </thead>\n",
              "  <tbody>\n",
              "    <tr>\n",
              "      <th>0</th>\n",
              "      <td>20</td>\n",
              "      <td>13000000.0</td>\n",
              "      <td>108.00</td>\n",
              "      <td>2019-03-07T00:00:00</td>\n",
              "      <td>3</td>\n",
              "      <td>2.70</td>\n",
              "      <td>16.0</td>\n",
              "      <td>51.00</td>\n",
              "      <td>8</td>\n",
              "      <td>NaN</td>\n",
              "      <td>...</td>\n",
              "      <td>25.00</td>\n",
              "      <td>NaN</td>\n",
              "      <td>Санкт-Петербург</td>\n",
              "      <td>18863.0</td>\n",
              "      <td>16028.0</td>\n",
              "      <td>1.0</td>\n",
              "      <td>482.0</td>\n",
              "      <td>2.0</td>\n",
              "      <td>755.0</td>\n",
              "      <td>NaN</td>\n",
              "    </tr>\n",
              "    <tr>\n",
              "      <th>1</th>\n",
              "      <td>7</td>\n",
              "      <td>3350000.0</td>\n",
              "      <td>40.40</td>\n",
              "      <td>2018-12-04T00:00:00</td>\n",
              "      <td>1</td>\n",
              "      <td>NaN</td>\n",
              "      <td>11.0</td>\n",
              "      <td>18.60</td>\n",
              "      <td>1</td>\n",
              "      <td>NaN</td>\n",
              "      <td>...</td>\n",
              "      <td>11.00</td>\n",
              "      <td>2.0</td>\n",
              "      <td>посёлок Шушары</td>\n",
              "      <td>12817.0</td>\n",
              "      <td>18603.0</td>\n",
              "      <td>0.0</td>\n",
              "      <td>NaN</td>\n",
              "      <td>0.0</td>\n",
              "      <td>NaN</td>\n",
              "      <td>81.0</td>\n",
              "    </tr>\n",
              "    <tr>\n",
              "      <th>2</th>\n",
              "      <td>10</td>\n",
              "      <td>5196000.0</td>\n",
              "      <td>56.00</td>\n",
              "      <td>2015-08-20T00:00:00</td>\n",
              "      <td>2</td>\n",
              "      <td>NaN</td>\n",
              "      <td>5.0</td>\n",
              "      <td>34.30</td>\n",
              "      <td>4</td>\n",
              "      <td>NaN</td>\n",
              "      <td>...</td>\n",
              "      <td>8.30</td>\n",
              "      <td>0.0</td>\n",
              "      <td>Санкт-Петербург</td>\n",
              "      <td>21741.0</td>\n",
              "      <td>13933.0</td>\n",
              "      <td>1.0</td>\n",
              "      <td>90.0</td>\n",
              "      <td>2.0</td>\n",
              "      <td>574.0</td>\n",
              "      <td>558.0</td>\n",
              "    </tr>\n",
              "    <tr>\n",
              "      <th>3</th>\n",
              "      <td>0</td>\n",
              "      <td>64900000.0</td>\n",
              "      <td>159.00</td>\n",
              "      <td>2015-07-24T00:00:00</td>\n",
              "      <td>3</td>\n",
              "      <td>NaN</td>\n",
              "      <td>14.0</td>\n",
              "      <td>NaN</td>\n",
              "      <td>9</td>\n",
              "      <td>NaN</td>\n",
              "      <td>...</td>\n",
              "      <td>NaN</td>\n",
              "      <td>0.0</td>\n",
              "      <td>Санкт-Петербург</td>\n",
              "      <td>28098.0</td>\n",
              "      <td>6800.0</td>\n",
              "      <td>2.0</td>\n",
              "      <td>84.0</td>\n",
              "      <td>3.0</td>\n",
              "      <td>234.0</td>\n",
              "      <td>424.0</td>\n",
              "    </tr>\n",
              "    <tr>\n",
              "      <th>4</th>\n",
              "      <td>2</td>\n",
              "      <td>10000000.0</td>\n",
              "      <td>100.00</td>\n",
              "      <td>2018-06-19T00:00:00</td>\n",
              "      <td>2</td>\n",
              "      <td>3.03</td>\n",
              "      <td>14.0</td>\n",
              "      <td>32.00</td>\n",
              "      <td>13</td>\n",
              "      <td>NaN</td>\n",
              "      <td>...</td>\n",
              "      <td>41.00</td>\n",
              "      <td>NaN</td>\n",
              "      <td>Санкт-Петербург</td>\n",
              "      <td>31856.0</td>\n",
              "      <td>8098.0</td>\n",
              "      <td>2.0</td>\n",
              "      <td>112.0</td>\n",
              "      <td>1.0</td>\n",
              "      <td>48.0</td>\n",
              "      <td>121.0</td>\n",
              "    </tr>\n",
              "    <tr>\n",
              "      <th>5</th>\n",
              "      <td>10</td>\n",
              "      <td>2890000.0</td>\n",
              "      <td>30.40</td>\n",
              "      <td>2018-09-10T00:00:00</td>\n",
              "      <td>1</td>\n",
              "      <td>NaN</td>\n",
              "      <td>12.0</td>\n",
              "      <td>14.40</td>\n",
              "      <td>5</td>\n",
              "      <td>NaN</td>\n",
              "      <td>...</td>\n",
              "      <td>9.10</td>\n",
              "      <td>NaN</td>\n",
              "      <td>городской посёлок Янино-1</td>\n",
              "      <td>NaN</td>\n",
              "      <td>NaN</td>\n",
              "      <td>NaN</td>\n",
              "      <td>NaN</td>\n",
              "      <td>NaN</td>\n",
              "      <td>NaN</td>\n",
              "      <td>55.0</td>\n",
              "    </tr>\n",
              "    <tr>\n",
              "      <th>6</th>\n",
              "      <td>6</td>\n",
              "      <td>3700000.0</td>\n",
              "      <td>37.30</td>\n",
              "      <td>2017-11-02T00:00:00</td>\n",
              "      <td>1</td>\n",
              "      <td>NaN</td>\n",
              "      <td>26.0</td>\n",
              "      <td>10.60</td>\n",
              "      <td>6</td>\n",
              "      <td>NaN</td>\n",
              "      <td>...</td>\n",
              "      <td>14.40</td>\n",
              "      <td>1.0</td>\n",
              "      <td>посёлок Парголово</td>\n",
              "      <td>52996.0</td>\n",
              "      <td>19143.0</td>\n",
              "      <td>0.0</td>\n",
              "      <td>NaN</td>\n",
              "      <td>0.0</td>\n",
              "      <td>NaN</td>\n",
              "      <td>155.0</td>\n",
              "    </tr>\n",
              "    <tr>\n",
              "      <th>7</th>\n",
              "      <td>5</td>\n",
              "      <td>7915000.0</td>\n",
              "      <td>71.60</td>\n",
              "      <td>2019-04-18T00:00:00</td>\n",
              "      <td>2</td>\n",
              "      <td>NaN</td>\n",
              "      <td>24.0</td>\n",
              "      <td>NaN</td>\n",
              "      <td>22</td>\n",
              "      <td>NaN</td>\n",
              "      <td>...</td>\n",
              "      <td>18.90</td>\n",
              "      <td>2.0</td>\n",
              "      <td>Санкт-Петербург</td>\n",
              "      <td>23982.0</td>\n",
              "      <td>11634.0</td>\n",
              "      <td>0.0</td>\n",
              "      <td>NaN</td>\n",
              "      <td>0.0</td>\n",
              "      <td>NaN</td>\n",
              "      <td>NaN</td>\n",
              "    </tr>\n",
              "    <tr>\n",
              "      <th>8</th>\n",
              "      <td>20</td>\n",
              "      <td>2900000.0</td>\n",
              "      <td>33.16</td>\n",
              "      <td>2018-05-23T00:00:00</td>\n",
              "      <td>1</td>\n",
              "      <td>NaN</td>\n",
              "      <td>27.0</td>\n",
              "      <td>15.43</td>\n",
              "      <td>26</td>\n",
              "      <td>NaN</td>\n",
              "      <td>...</td>\n",
              "      <td>8.81</td>\n",
              "      <td>NaN</td>\n",
              "      <td>посёлок Мурино</td>\n",
              "      <td>NaN</td>\n",
              "      <td>NaN</td>\n",
              "      <td>NaN</td>\n",
              "      <td>NaN</td>\n",
              "      <td>NaN</td>\n",
              "      <td>NaN</td>\n",
              "      <td>189.0</td>\n",
              "    </tr>\n",
              "    <tr>\n",
              "      <th>9</th>\n",
              "      <td>18</td>\n",
              "      <td>5400000.0</td>\n",
              "      <td>61.00</td>\n",
              "      <td>2017-02-26T00:00:00</td>\n",
              "      <td>3</td>\n",
              "      <td>2.50</td>\n",
              "      <td>9.0</td>\n",
              "      <td>43.60</td>\n",
              "      <td>7</td>\n",
              "      <td>NaN</td>\n",
              "      <td>...</td>\n",
              "      <td>6.50</td>\n",
              "      <td>2.0</td>\n",
              "      <td>Санкт-Петербург</td>\n",
              "      <td>50898.0</td>\n",
              "      <td>15008.0</td>\n",
              "      <td>0.0</td>\n",
              "      <td>NaN</td>\n",
              "      <td>0.0</td>\n",
              "      <td>NaN</td>\n",
              "      <td>289.0</td>\n",
              "    </tr>\n",
              "    <tr>\n",
              "      <th>10</th>\n",
              "      <td>5</td>\n",
              "      <td>5050000.0</td>\n",
              "      <td>39.60</td>\n",
              "      <td>2017-11-16T00:00:00</td>\n",
              "      <td>1</td>\n",
              "      <td>2.67</td>\n",
              "      <td>12.0</td>\n",
              "      <td>20.30</td>\n",
              "      <td>3</td>\n",
              "      <td>NaN</td>\n",
              "      <td>...</td>\n",
              "      <td>8.50</td>\n",
              "      <td>NaN</td>\n",
              "      <td>Санкт-Петербург</td>\n",
              "      <td>38357.0</td>\n",
              "      <td>13878.0</td>\n",
              "      <td>1.0</td>\n",
              "      <td>310.0</td>\n",
              "      <td>2.0</td>\n",
              "      <td>553.0</td>\n",
              "      <td>137.0</td>\n",
              "    </tr>\n",
              "    <tr>\n",
              "      <th>11</th>\n",
              "      <td>9</td>\n",
              "      <td>3300000.0</td>\n",
              "      <td>44.00</td>\n",
              "      <td>2018-08-27T00:00:00</td>\n",
              "      <td>2</td>\n",
              "      <td>NaN</td>\n",
              "      <td>5.0</td>\n",
              "      <td>31.00</td>\n",
              "      <td>4</td>\n",
              "      <td>False</td>\n",
              "      <td>...</td>\n",
              "      <td>6.00</td>\n",
              "      <td>1.0</td>\n",
              "      <td>Ломоносов</td>\n",
              "      <td>48252.0</td>\n",
              "      <td>51677.0</td>\n",
              "      <td>0.0</td>\n",
              "      <td>NaN</td>\n",
              "      <td>0.0</td>\n",
              "      <td>NaN</td>\n",
              "      <td>7.0</td>\n",
              "    </tr>\n",
              "    <tr>\n",
              "      <th>12</th>\n",
              "      <td>10</td>\n",
              "      <td>3890000.0</td>\n",
              "      <td>54.00</td>\n",
              "      <td>2016-06-30T00:00:00</td>\n",
              "      <td>2</td>\n",
              "      <td>NaN</td>\n",
              "      <td>5.0</td>\n",
              "      <td>30.00</td>\n",
              "      <td>5</td>\n",
              "      <td>NaN</td>\n",
              "      <td>...</td>\n",
              "      <td>9.00</td>\n",
              "      <td>0.0</td>\n",
              "      <td>Сертолово</td>\n",
              "      <td>NaN</td>\n",
              "      <td>NaN</td>\n",
              "      <td>NaN</td>\n",
              "      <td>NaN</td>\n",
              "      <td>NaN</td>\n",
              "      <td>NaN</td>\n",
              "      <td>90.0</td>\n",
              "    </tr>\n",
              "    <tr>\n",
              "      <th>13</th>\n",
              "      <td>20</td>\n",
              "      <td>3550000.0</td>\n",
              "      <td>42.80</td>\n",
              "      <td>2017-07-01T00:00:00</td>\n",
              "      <td>2</td>\n",
              "      <td>2.56</td>\n",
              "      <td>5.0</td>\n",
              "      <td>27.00</td>\n",
              "      <td>5</td>\n",
              "      <td>NaN</td>\n",
              "      <td>...</td>\n",
              "      <td>5.20</td>\n",
              "      <td>1.0</td>\n",
              "      <td>Петергоф</td>\n",
              "      <td>37868.0</td>\n",
              "      <td>33058.0</td>\n",
              "      <td>1.0</td>\n",
              "      <td>294.0</td>\n",
              "      <td>3.0</td>\n",
              "      <td>298.0</td>\n",
              "      <td>366.0</td>\n",
              "    </tr>\n",
              "    <tr>\n",
              "      <th>14</th>\n",
              "      <td>1</td>\n",
              "      <td>4400000.0</td>\n",
              "      <td>36.00</td>\n",
              "      <td>2016-06-23T00:00:00</td>\n",
              "      <td>1</td>\n",
              "      <td>NaN</td>\n",
              "      <td>6.0</td>\n",
              "      <td>17.00</td>\n",
              "      <td>1</td>\n",
              "      <td>NaN</td>\n",
              "      <td>...</td>\n",
              "      <td>8.00</td>\n",
              "      <td>0.0</td>\n",
              "      <td>Пушкин</td>\n",
              "      <td>20782.0</td>\n",
              "      <td>30759.0</td>\n",
              "      <td>0.0</td>\n",
              "      <td>NaN</td>\n",
              "      <td>1.0</td>\n",
              "      <td>96.0</td>\n",
              "      <td>203.0</td>\n",
              "    </tr>\n",
              "    <tr>\n",
              "      <th>15</th>\n",
              "      <td>16</td>\n",
              "      <td>4650000.0</td>\n",
              "      <td>39.00</td>\n",
              "      <td>2017-11-18T00:00:00</td>\n",
              "      <td>1</td>\n",
              "      <td>NaN</td>\n",
              "      <td>14.0</td>\n",
              "      <td>20.50</td>\n",
              "      <td>5</td>\n",
              "      <td>NaN</td>\n",
              "      <td>...</td>\n",
              "      <td>7.60</td>\n",
              "      <td>1.0</td>\n",
              "      <td>Санкт-Петербург</td>\n",
              "      <td>12900.0</td>\n",
              "      <td>14259.0</td>\n",
              "      <td>1.0</td>\n",
              "      <td>590.0</td>\n",
              "      <td>1.0</td>\n",
              "      <td>296.0</td>\n",
              "      <td>19.0</td>\n",
              "    </tr>\n",
              "    <tr>\n",
              "      <th>16</th>\n",
              "      <td>11</td>\n",
              "      <td>6700000.0</td>\n",
              "      <td>82.00</td>\n",
              "      <td>2017-11-23T00:00:00</td>\n",
              "      <td>3</td>\n",
              "      <td>3.05</td>\n",
              "      <td>5.0</td>\n",
              "      <td>55.60</td>\n",
              "      <td>1</td>\n",
              "      <td>NaN</td>\n",
              "      <td>...</td>\n",
              "      <td>9.00</td>\n",
              "      <td>NaN</td>\n",
              "      <td>Санкт-Петербург</td>\n",
              "      <td>22108.0</td>\n",
              "      <td>10698.0</td>\n",
              "      <td>3.0</td>\n",
              "      <td>420.0</td>\n",
              "      <td>0.0</td>\n",
              "      <td>NaN</td>\n",
              "      <td>397.0</td>\n",
              "    </tr>\n",
              "    <tr>\n",
              "      <th>17</th>\n",
              "      <td>6</td>\n",
              "      <td>4180000.0</td>\n",
              "      <td>36.00</td>\n",
              "      <td>2016-09-09T00:00:00</td>\n",
              "      <td>1</td>\n",
              "      <td>NaN</td>\n",
              "      <td>17.0</td>\n",
              "      <td>16.50</td>\n",
              "      <td>7</td>\n",
              "      <td>NaN</td>\n",
              "      <td>...</td>\n",
              "      <td>11.00</td>\n",
              "      <td>1.0</td>\n",
              "      <td>Санкт-Петербург</td>\n",
              "      <td>33564.0</td>\n",
              "      <td>14616.0</td>\n",
              "      <td>0.0</td>\n",
              "      <td>NaN</td>\n",
              "      <td>1.0</td>\n",
              "      <td>859.0</td>\n",
              "      <td>571.0</td>\n",
              "    </tr>\n",
              "    <tr>\n",
              "      <th>18</th>\n",
              "      <td>8</td>\n",
              "      <td>3250000.0</td>\n",
              "      <td>31.00</td>\n",
              "      <td>2017-01-27T00:00:00</td>\n",
              "      <td>1</td>\n",
              "      <td>2.50</td>\n",
              "      <td>5.0</td>\n",
              "      <td>19.40</td>\n",
              "      <td>2</td>\n",
              "      <td>NaN</td>\n",
              "      <td>...</td>\n",
              "      <td>5.60</td>\n",
              "      <td>1.0</td>\n",
              "      <td>Санкт-Петербург</td>\n",
              "      <td>44060.0</td>\n",
              "      <td>10842.0</td>\n",
              "      <td>1.0</td>\n",
              "      <td>759.0</td>\n",
              "      <td>0.0</td>\n",
              "      <td>NaN</td>\n",
              "      <td>168.0</td>\n",
              "    </tr>\n",
              "    <tr>\n",
              "      <th>19</th>\n",
              "      <td>16</td>\n",
              "      <td>14200000.0</td>\n",
              "      <td>121.00</td>\n",
              "      <td>2019-01-09T00:00:00</td>\n",
              "      <td>3</td>\n",
              "      <td>2.75</td>\n",
              "      <td>16.0</td>\n",
              "      <td>76.00</td>\n",
              "      <td>8</td>\n",
              "      <td>NaN</td>\n",
              "      <td>...</td>\n",
              "      <td>12.00</td>\n",
              "      <td>NaN</td>\n",
              "      <td>Санкт-Петербург</td>\n",
              "      <td>38900.0</td>\n",
              "      <td>12843.0</td>\n",
              "      <td>0.0</td>\n",
              "      <td>NaN</td>\n",
              "      <td>0.0</td>\n",
              "      <td>NaN</td>\n",
              "      <td>97.0</td>\n",
              "    </tr>\n",
              "    <tr>\n",
              "      <th>20</th>\n",
              "      <td>12</td>\n",
              "      <td>6120000.0</td>\n",
              "      <td>80.00</td>\n",
              "      <td>2017-09-28T00:00:00</td>\n",
              "      <td>3</td>\n",
              "      <td>2.70</td>\n",
              "      <td>27.0</td>\n",
              "      <td>48.00</td>\n",
              "      <td>11</td>\n",
              "      <td>NaN</td>\n",
              "      <td>...</td>\n",
              "      <td>12.00</td>\n",
              "      <td>2.0</td>\n",
              "      <td>посёлок Парголово</td>\n",
              "      <td>53134.0</td>\n",
              "      <td>19311.0</td>\n",
              "      <td>0.0</td>\n",
              "      <td>NaN</td>\n",
              "      <td>0.0</td>\n",
              "      <td>NaN</td>\n",
              "      <td>74.0</td>\n",
              "    </tr>\n",
              "    <tr>\n",
              "      <th>21</th>\n",
              "      <td>13</td>\n",
              "      <td>3200000.0</td>\n",
              "      <td>31.60</td>\n",
              "      <td>2018-03-14T00:00:00</td>\n",
              "      <td>1</td>\n",
              "      <td>NaN</td>\n",
              "      <td>5.0</td>\n",
              "      <td>16.90</td>\n",
              "      <td>2</td>\n",
              "      <td>NaN</td>\n",
              "      <td>...</td>\n",
              "      <td>5.70</td>\n",
              "      <td>1.0</td>\n",
              "      <td>Санкт-Петербург</td>\n",
              "      <td>36064.0</td>\n",
              "      <td>9722.0</td>\n",
              "      <td>1.0</td>\n",
              "      <td>248.0</td>\n",
              "      <td>0.0</td>\n",
              "      <td>NaN</td>\n",
              "      <td>310.0</td>\n",
              "    </tr>\n",
              "    <tr>\n",
              "      <th>22</th>\n",
              "      <td>20</td>\n",
              "      <td>5000000.0</td>\n",
              "      <td>58.00</td>\n",
              "      <td>2017-04-24T00:00:00</td>\n",
              "      <td>2</td>\n",
              "      <td>2.75</td>\n",
              "      <td>25.0</td>\n",
              "      <td>30.00</td>\n",
              "      <td>15</td>\n",
              "      <td>NaN</td>\n",
              "      <td>...</td>\n",
              "      <td>11.00</td>\n",
              "      <td>2.0</td>\n",
              "      <td>деревня Кудрово</td>\n",
              "      <td>NaN</td>\n",
              "      <td>NaN</td>\n",
              "      <td>NaN</td>\n",
              "      <td>NaN</td>\n",
              "      <td>NaN</td>\n",
              "      <td>NaN</td>\n",
              "      <td>60.0</td>\n",
              "    </tr>\n",
              "    <tr>\n",
              "      <th>23</th>\n",
              "      <td>11</td>\n",
              "      <td>2950000.0</td>\n",
              "      <td>32.00</td>\n",
              "      <td>2016-10-29T00:00:00</td>\n",
              "      <td>1</td>\n",
              "      <td>2.60</td>\n",
              "      <td>9.0</td>\n",
              "      <td>17.70</td>\n",
              "      <td>9</td>\n",
              "      <td>NaN</td>\n",
              "      <td>...</td>\n",
              "      <td>6.10</td>\n",
              "      <td>NaN</td>\n",
              "      <td>Санкт-Петербург</td>\n",
              "      <td>15414.0</td>\n",
              "      <td>14211.0</td>\n",
              "      <td>2.0</td>\n",
              "      <td>517.0</td>\n",
              "      <td>1.0</td>\n",
              "      <td>190.0</td>\n",
              "      <td>615.0</td>\n",
              "    </tr>\n",
              "    <tr>\n",
              "      <th>24</th>\n",
              "      <td>8</td>\n",
              "      <td>6500000.0</td>\n",
              "      <td>97.20</td>\n",
              "      <td>2015-10-31T00:00:00</td>\n",
              "      <td>2</td>\n",
              "      <td>NaN</td>\n",
              "      <td>3.0</td>\n",
              "      <td>46.50</td>\n",
              "      <td>1</td>\n",
              "      <td>NaN</td>\n",
              "      <td>...</td>\n",
              "      <td>19.60</td>\n",
              "      <td>0.0</td>\n",
              "      <td>Санкт-Петербург</td>\n",
              "      <td>20052.0</td>\n",
              "      <td>2336.0</td>\n",
              "      <td>3.0</td>\n",
              "      <td>411.0</td>\n",
              "      <td>3.0</td>\n",
              "      <td>124.0</td>\n",
              "      <td>265.0</td>\n",
              "    </tr>\n",
              "    <tr>\n",
              "      <th>25</th>\n",
              "      <td>3</td>\n",
              "      <td>6800000.0</td>\n",
              "      <td>76.00</td>\n",
              "      <td>2015-10-01T00:00:00</td>\n",
              "      <td>2</td>\n",
              "      <td>2.75</td>\n",
              "      <td>23.0</td>\n",
              "      <td>39.00</td>\n",
              "      <td>18</td>\n",
              "      <td>False</td>\n",
              "      <td>...</td>\n",
              "      <td>15.00</td>\n",
              "      <td>2.0</td>\n",
              "      <td>Санкт-Петербург</td>\n",
              "      <td>34967.0</td>\n",
              "      <td>14640.0</td>\n",
              "      <td>0.0</td>\n",
              "      <td>NaN</td>\n",
              "      <td>1.0</td>\n",
              "      <td>564.0</td>\n",
              "      <td>300.0</td>\n",
              "    </tr>\n",
              "    <tr>\n",
              "      <th>26</th>\n",
              "      <td>6</td>\n",
              "      <td>4050000.0</td>\n",
              "      <td>60.00</td>\n",
              "      <td>2017-04-28T00:00:00</td>\n",
              "      <td>4</td>\n",
              "      <td>NaN</td>\n",
              "      <td>5.0</td>\n",
              "      <td>43.00</td>\n",
              "      <td>4</td>\n",
              "      <td>NaN</td>\n",
              "      <td>...</td>\n",
              "      <td>7.00</td>\n",
              "      <td>NaN</td>\n",
              "      <td>Санкт-Петербург</td>\n",
              "      <td>11580.0</td>\n",
              "      <td>10510.0</td>\n",
              "      <td>0.0</td>\n",
              "      <td>NaN</td>\n",
              "      <td>1.0</td>\n",
              "      <td>95.0</td>\n",
              "      <td>265.0</td>\n",
              "    </tr>\n",
              "    <tr>\n",
              "      <th>27</th>\n",
              "      <td>20</td>\n",
              "      <td>7100000.0</td>\n",
              "      <td>70.00</td>\n",
              "      <td>2017-05-12T00:00:00</td>\n",
              "      <td>3</td>\n",
              "      <td>2.60</td>\n",
              "      <td>17.0</td>\n",
              "      <td>49.00</td>\n",
              "      <td>11</td>\n",
              "      <td>NaN</td>\n",
              "      <td>...</td>\n",
              "      <td>9.20</td>\n",
              "      <td>0.0</td>\n",
              "      <td>Санкт-Петербург</td>\n",
              "      <td>29197.0</td>\n",
              "      <td>11456.0</td>\n",
              "      <td>2.0</td>\n",
              "      <td>452.0</td>\n",
              "      <td>1.0</td>\n",
              "      <td>779.0</td>\n",
              "      <td>151.0</td>\n",
              "    </tr>\n",
              "    <tr>\n",
              "      <th>28</th>\n",
              "      <td>8</td>\n",
              "      <td>4170000.0</td>\n",
              "      <td>44.00</td>\n",
              "      <td>2017-12-13T00:00:00</td>\n",
              "      <td>1</td>\n",
              "      <td>2.90</td>\n",
              "      <td>6.0</td>\n",
              "      <td>20.80</td>\n",
              "      <td>1</td>\n",
              "      <td>NaN</td>\n",
              "      <td>...</td>\n",
              "      <td>11.70</td>\n",
              "      <td>1.0</td>\n",
              "      <td>Пушкин</td>\n",
              "      <td>18557.0</td>\n",
              "      <td>30710.0</td>\n",
              "      <td>0.0</td>\n",
              "      <td>NaN</td>\n",
              "      <td>1.0</td>\n",
              "      <td>118.0</td>\n",
              "      <td>74.0</td>\n",
              "    </tr>\n",
              "    <tr>\n",
              "      <th>29</th>\n",
              "      <td>9</td>\n",
              "      <td>8600000.0</td>\n",
              "      <td>100.00</td>\n",
              "      <td>2016-04-09T00:00:00</td>\n",
              "      <td>3</td>\n",
              "      <td>NaN</td>\n",
              "      <td>19.0</td>\n",
              "      <td>52.00</td>\n",
              "      <td>15</td>\n",
              "      <td>False</td>\n",
              "      <td>...</td>\n",
              "      <td>11.00</td>\n",
              "      <td>0.0</td>\n",
              "      <td>Санкт-Петербург</td>\n",
              "      <td>30394.0</td>\n",
              "      <td>11526.0</td>\n",
              "      <td>1.0</td>\n",
              "      <td>532.0</td>\n",
              "      <td>1.0</td>\n",
              "      <td>896.0</td>\n",
              "      <td>125.0</td>\n",
              "    </tr>\n",
              "    <tr>\n",
              "      <th>30</th>\n",
              "      <td>12</td>\n",
              "      <td>2200000.0</td>\n",
              "      <td>32.80</td>\n",
              "      <td>2018-02-19T00:00:00</td>\n",
              "      <td>1</td>\n",
              "      <td>NaN</td>\n",
              "      <td>9.0</td>\n",
              "      <td>NaN</td>\n",
              "      <td>2</td>\n",
              "      <td>NaN</td>\n",
              "      <td>...</td>\n",
              "      <td>NaN</td>\n",
              "      <td>NaN</td>\n",
              "      <td>Коммунар</td>\n",
              "      <td>NaN</td>\n",
              "      <td>NaN</td>\n",
              "      <td>NaN</td>\n",
              "      <td>NaN</td>\n",
              "      <td>NaN</td>\n",
              "      <td>NaN</td>\n",
              "      <td>63.0</td>\n",
              "    </tr>\n",
              "    <tr>\n",
              "      <th>31</th>\n",
              "      <td>8</td>\n",
              "      <td>7200000.0</td>\n",
              "      <td>67.90</td>\n",
              "      <td>2017-10-26T00:00:00</td>\n",
              "      <td>2</td>\n",
              "      <td>2.80</td>\n",
              "      <td>16.0</td>\n",
              "      <td>38.10</td>\n",
              "      <td>4</td>\n",
              "      <td>NaN</td>\n",
              "      <td>...</td>\n",
              "      <td>13.40</td>\n",
              "      <td>2.0</td>\n",
              "      <td>Санкт-Петербург</td>\n",
              "      <td>32888.0</td>\n",
              "      <td>12944.0</td>\n",
              "      <td>0.0</td>\n",
              "      <td>NaN</td>\n",
              "      <td>0.0</td>\n",
              "      <td>NaN</td>\n",
              "      <td>112.0</td>\n",
              "    </tr>\n",
              "    <tr>\n",
              "      <th>32</th>\n",
              "      <td>7</td>\n",
              "      <td>4990000.0</td>\n",
              "      <td>60.00</td>\n",
              "      <td>2016-05-22T00:00:00</td>\n",
              "      <td>3</td>\n",
              "      <td>NaN</td>\n",
              "      <td>5.0</td>\n",
              "      <td>39.00</td>\n",
              "      <td>4</td>\n",
              "      <td>NaN</td>\n",
              "      <td>...</td>\n",
              "      <td>6.00</td>\n",
              "      <td>0.0</td>\n",
              "      <td>Санкт-Петербург</td>\n",
              "      <td>11349.0</td>\n",
              "      <td>12889.0</td>\n",
              "      <td>0.0</td>\n",
              "      <td>NaN</td>\n",
              "      <td>1.0</td>\n",
              "      <td>426.0</td>\n",
              "      <td>224.0</td>\n",
              "    </tr>\n",
              "    <tr>\n",
              "      <th>33</th>\n",
              "      <td>8</td>\n",
              "      <td>4800000.0</td>\n",
              "      <td>73.00</td>\n",
              "      <td>2018-10-15T00:00:00</td>\n",
              "      <td>4</td>\n",
              "      <td>NaN</td>\n",
              "      <td>9.0</td>\n",
              "      <td>51.60</td>\n",
              "      <td>5</td>\n",
              "      <td>NaN</td>\n",
              "      <td>...</td>\n",
              "      <td>6.50</td>\n",
              "      <td>NaN</td>\n",
              "      <td>Колпино</td>\n",
              "      <td>26535.0</td>\n",
              "      <td>32321.0</td>\n",
              "      <td>0.0</td>\n",
              "      <td>NaN</td>\n",
              "      <td>0.0</td>\n",
              "      <td>NaN</td>\n",
              "      <td>92.0</td>\n",
              "    </tr>\n",
              "    <tr>\n",
              "      <th>34</th>\n",
              "      <td>3</td>\n",
              "      <td>3290000.0</td>\n",
              "      <td>33.00</td>\n",
              "      <td>2018-02-04T00:00:00</td>\n",
              "      <td>1</td>\n",
              "      <td>2.55</td>\n",
              "      <td>16.0</td>\n",
              "      <td>14.00</td>\n",
              "      <td>3</td>\n",
              "      <td>NaN</td>\n",
              "      <td>...</td>\n",
              "      <td>8.00</td>\n",
              "      <td>NaN</td>\n",
              "      <td>Санкт-Петербург</td>\n",
              "      <td>13943.0</td>\n",
              "      <td>12739.0</td>\n",
              "      <td>0.0</td>\n",
              "      <td>NaN</td>\n",
              "      <td>0.0</td>\n",
              "      <td>NaN</td>\n",
              "      <td>15.0</td>\n",
              "    </tr>\n",
              "    <tr>\n",
              "      <th>35</th>\n",
              "      <td>6</td>\n",
              "      <td>15500000.0</td>\n",
              "      <td>149.00</td>\n",
              "      <td>2017-06-26T00:00:00</td>\n",
              "      <td>5</td>\n",
              "      <td>NaN</td>\n",
              "      <td>5.0</td>\n",
              "      <td>104.00</td>\n",
              "      <td>4</td>\n",
              "      <td>NaN</td>\n",
              "      <td>...</td>\n",
              "      <td>17.00</td>\n",
              "      <td>NaN</td>\n",
              "      <td>Санкт-Петербург</td>\n",
              "      <td>23670.0</td>\n",
              "      <td>3502.0</td>\n",
              "      <td>0.0</td>\n",
              "      <td>NaN</td>\n",
              "      <td>1.0</td>\n",
              "      <td>779.0</td>\n",
              "      <td>644.0</td>\n",
              "    </tr>\n",
              "    <tr>\n",
              "      <th>36</th>\n",
              "      <td>13</td>\n",
              "      <td>3790000.0</td>\n",
              "      <td>45.00</td>\n",
              "      <td>2017-01-25T00:00:00</td>\n",
              "      <td>2</td>\n",
              "      <td>NaN</td>\n",
              "      <td>9.0</td>\n",
              "      <td>27.00</td>\n",
              "      <td>9</td>\n",
              "      <td>False</td>\n",
              "      <td>...</td>\n",
              "      <td>6.30</td>\n",
              "      <td>2.0</td>\n",
              "      <td>Санкт-Петербург</td>\n",
              "      <td>49574.0</td>\n",
              "      <td>16461.0</td>\n",
              "      <td>1.0</td>\n",
              "      <td>459.0</td>\n",
              "      <td>0.0</td>\n",
              "      <td>NaN</td>\n",
              "      <td>139.0</td>\n",
              "    </tr>\n",
              "    <tr>\n",
              "      <th>37</th>\n",
              "      <td>10</td>\n",
              "      <td>1990000.0</td>\n",
              "      <td>45.80</td>\n",
              "      <td>2017-10-28T00:00:00</td>\n",
              "      <td>2</td>\n",
              "      <td>2.50</td>\n",
              "      <td>5.0</td>\n",
              "      <td>NaN</td>\n",
              "      <td>1</td>\n",
              "      <td>NaN</td>\n",
              "      <td>...</td>\n",
              "      <td>NaN</td>\n",
              "      <td>NaN</td>\n",
              "      <td>поселок городского типа Красный Бор</td>\n",
              "      <td>NaN</td>\n",
              "      <td>NaN</td>\n",
              "      <td>NaN</td>\n",
              "      <td>NaN</td>\n",
              "      <td>NaN</td>\n",
              "      <td>NaN</td>\n",
              "      <td>196.0</td>\n",
              "    </tr>\n",
              "    <tr>\n",
              "      <th>38</th>\n",
              "      <td>10</td>\n",
              "      <td>3150000.0</td>\n",
              "      <td>40.00</td>\n",
              "      <td>2018-03-29T00:00:00</td>\n",
              "      <td>1</td>\n",
              "      <td>2.75</td>\n",
              "      <td>18.0</td>\n",
              "      <td>16.30</td>\n",
              "      <td>9</td>\n",
              "      <td>NaN</td>\n",
              "      <td>...</td>\n",
              "      <td>11.60</td>\n",
              "      <td>NaN</td>\n",
              "      <td>посёлок Мурино</td>\n",
              "      <td>NaN</td>\n",
              "      <td>NaN</td>\n",
              "      <td>NaN</td>\n",
              "      <td>NaN</td>\n",
              "      <td>NaN</td>\n",
              "      <td>NaN</td>\n",
              "      <td>103.0</td>\n",
              "    </tr>\n",
              "    <tr>\n",
              "      <th>39</th>\n",
              "      <td>15</td>\n",
              "      <td>5200000.0</td>\n",
              "      <td>54.40</td>\n",
              "      <td>2018-11-29T00:00:00</td>\n",
              "      <td>2</td>\n",
              "      <td>2.75</td>\n",
              "      <td>9.0</td>\n",
              "      <td>29.70</td>\n",
              "      <td>2</td>\n",
              "      <td>NaN</td>\n",
              "      <td>...</td>\n",
              "      <td>8.80</td>\n",
              "      <td>2.0</td>\n",
              "      <td>Санкт-Петербург</td>\n",
              "      <td>13413.0</td>\n",
              "      <td>12209.0</td>\n",
              "      <td>0.0</td>\n",
              "      <td>NaN</td>\n",
              "      <td>1.0</td>\n",
              "      <td>1175.0</td>\n",
              "      <td>29.0</td>\n",
              "    </tr>\n",
              "    <tr>\n",
              "      <th>40</th>\n",
              "      <td>9</td>\n",
              "      <td>3590000.0</td>\n",
              "      <td>36.00</td>\n",
              "      <td>2017-03-15T00:00:00</td>\n",
              "      <td>1</td>\n",
              "      <td>2.60</td>\n",
              "      <td>26.0</td>\n",
              "      <td>15.00</td>\n",
              "      <td>22</td>\n",
              "      <td>NaN</td>\n",
              "      <td>...</td>\n",
              "      <td>10.00</td>\n",
              "      <td>2.0</td>\n",
              "      <td>посёлок Парголово</td>\n",
              "      <td>52996.0</td>\n",
              "      <td>19143.0</td>\n",
              "      <td>0.0</td>\n",
              "      <td>NaN</td>\n",
              "      <td>0.0</td>\n",
              "      <td>NaN</td>\n",
              "      <td>430.0</td>\n",
              "    </tr>\n",
              "    <tr>\n",
              "      <th>41</th>\n",
              "      <td>16</td>\n",
              "      <td>7900000.0</td>\n",
              "      <td>74.00</td>\n",
              "      <td>2016-05-04T00:00:00</td>\n",
              "      <td>3</td>\n",
              "      <td>NaN</td>\n",
              "      <td>14.0</td>\n",
              "      <td>59.00</td>\n",
              "      <td>8</td>\n",
              "      <td>False</td>\n",
              "      <td>...</td>\n",
              "      <td>12.00</td>\n",
              "      <td>5.0</td>\n",
              "      <td>Санкт-Петербург</td>\n",
              "      <td>37715.0</td>\n",
              "      <td>12612.0</td>\n",
              "      <td>1.0</td>\n",
              "      <td>725.0</td>\n",
              "      <td>1.0</td>\n",
              "      <td>759.0</td>\n",
              "      <td>179.0</td>\n",
              "    </tr>\n",
              "    <tr>\n",
              "      <th>42</th>\n",
              "      <td>13</td>\n",
              "      <td>22000000.0</td>\n",
              "      <td>161.80</td>\n",
              "      <td>2015-07-08T00:00:00</td>\n",
              "      <td>4</td>\n",
              "      <td>2.80</td>\n",
              "      <td>4.0</td>\n",
              "      <td>80.90</td>\n",
              "      <td>2</td>\n",
              "      <td>False</td>\n",
              "      <td>...</td>\n",
              "      <td>17.60</td>\n",
              "      <td>5.0</td>\n",
              "      <td>Петергоф</td>\n",
              "      <td>35416.0</td>\n",
              "      <td>30605.0</td>\n",
              "      <td>2.0</td>\n",
              "      <td>47.0</td>\n",
              "      <td>1.0</td>\n",
              "      <td>907.0</td>\n",
              "      <td>987.0</td>\n",
              "    </tr>\n",
              "    <tr>\n",
              "      <th>43</th>\n",
              "      <td>13</td>\n",
              "      <td>9330000.0</td>\n",
              "      <td>48.00</td>\n",
              "      <td>2017-01-10T00:00:00</td>\n",
              "      <td>2</td>\n",
              "      <td>3.00</td>\n",
              "      <td>4.0</td>\n",
              "      <td>28.00</td>\n",
              "      <td>4</td>\n",
              "      <td>NaN</td>\n",
              "      <td>...</td>\n",
              "      <td>7.50</td>\n",
              "      <td>NaN</td>\n",
              "      <td>Санкт-Петербург</td>\n",
              "      <td>15016.0</td>\n",
              "      <td>10822.0</td>\n",
              "      <td>0.0</td>\n",
              "      <td>NaN</td>\n",
              "      <td>1.0</td>\n",
              "      <td>492.0</td>\n",
              "      <td>763.0</td>\n",
              "    </tr>\n",
              "    <tr>\n",
              "      <th>44</th>\n",
              "      <td>13</td>\n",
              "      <td>5350000.0</td>\n",
              "      <td>40.00</td>\n",
              "      <td>2018-11-18T00:00:00</td>\n",
              "      <td>1</td>\n",
              "      <td>NaN</td>\n",
              "      <td>22.0</td>\n",
              "      <td>NaN</td>\n",
              "      <td>3</td>\n",
              "      <td>NaN</td>\n",
              "      <td>...</td>\n",
              "      <td>NaN</td>\n",
              "      <td>1.0</td>\n",
              "      <td>Санкт-Петербург</td>\n",
              "      <td>30471.0</td>\n",
              "      <td>11603.0</td>\n",
              "      <td>1.0</td>\n",
              "      <td>620.0</td>\n",
              "      <td>1.0</td>\n",
              "      <td>1152.0</td>\n",
              "      <td>NaN</td>\n",
              "    </tr>\n",
              "    <tr>\n",
              "      <th>45</th>\n",
              "      <td>17</td>\n",
              "      <td>5200000.0</td>\n",
              "      <td>50.60</td>\n",
              "      <td>2018-12-02T00:00:00</td>\n",
              "      <td>2</td>\n",
              "      <td>2.65</td>\n",
              "      <td>9.0</td>\n",
              "      <td>30.30</td>\n",
              "      <td>7</td>\n",
              "      <td>NaN</td>\n",
              "      <td>...</td>\n",
              "      <td>7.00</td>\n",
              "      <td>NaN</td>\n",
              "      <td>Санкт-Петербург</td>\n",
              "      <td>30011.0</td>\n",
              "      <td>12872.0</td>\n",
              "      <td>0.0</td>\n",
              "      <td>NaN</td>\n",
              "      <td>0.0</td>\n",
              "      <td>NaN</td>\n",
              "      <td>NaN</td>\n",
              "    </tr>\n",
              "    <tr>\n",
              "      <th>46</th>\n",
              "      <td>17</td>\n",
              "      <td>6600000.0</td>\n",
              "      <td>52.10</td>\n",
              "      <td>2019-01-31T00:00:00</td>\n",
              "      <td>2</td>\n",
              "      <td>2.60</td>\n",
              "      <td>24.0</td>\n",
              "      <td>29.70</td>\n",
              "      <td>9</td>\n",
              "      <td>NaN</td>\n",
              "      <td>...</td>\n",
              "      <td>8.30</td>\n",
              "      <td>2.0</td>\n",
              "      <td>Санкт-Петербург</td>\n",
              "      <td>15114.0</td>\n",
              "      <td>12702.0</td>\n",
              "      <td>0.0</td>\n",
              "      <td>NaN</td>\n",
              "      <td>0.0</td>\n",
              "      <td>NaN</td>\n",
              "      <td>NaN</td>\n",
              "    </tr>\n",
              "    <tr>\n",
              "      <th>47</th>\n",
              "      <td>17</td>\n",
              "      <td>3600000.0</td>\n",
              "      <td>56.10</td>\n",
              "      <td>2018-10-18T00:00:00</td>\n",
              "      <td>3</td>\n",
              "      <td>NaN</td>\n",
              "      <td>4.0</td>\n",
              "      <td>42.50</td>\n",
              "      <td>3</td>\n",
              "      <td>NaN</td>\n",
              "      <td>...</td>\n",
              "      <td>5.70</td>\n",
              "      <td>1.0</td>\n",
              "      <td>Гатчина</td>\n",
              "      <td>NaN</td>\n",
              "      <td>NaN</td>\n",
              "      <td>NaN</td>\n",
              "      <td>NaN</td>\n",
              "      <td>NaN</td>\n",
              "      <td>NaN</td>\n",
              "      <td>179.0</td>\n",
              "    </tr>\n",
              "    <tr>\n",
              "      <th>48</th>\n",
              "      <td>10</td>\n",
              "      <td>3600000.0</td>\n",
              "      <td>33.83</td>\n",
              "      <td>2017-10-03T00:00:00</td>\n",
              "      <td>1</td>\n",
              "      <td>NaN</td>\n",
              "      <td>24.0</td>\n",
              "      <td>15.35</td>\n",
              "      <td>6</td>\n",
              "      <td>NaN</td>\n",
              "      <td>...</td>\n",
              "      <td>9.50</td>\n",
              "      <td>NaN</td>\n",
              "      <td>Санкт-Петербург</td>\n",
              "      <td>21460.0</td>\n",
              "      <td>16788.0</td>\n",
              "      <td>0.0</td>\n",
              "      <td>NaN</td>\n",
              "      <td>1.0</td>\n",
              "      <td>170.0</td>\n",
              "      <td>322.0</td>\n",
              "    </tr>\n",
              "    <tr>\n",
              "      <th>49</th>\n",
              "      <td>1</td>\n",
              "      <td>3050000.0</td>\n",
              "      <td>30.80</td>\n",
              "      <td>2018-11-22T00:00:00</td>\n",
              "      <td>1</td>\n",
              "      <td>2.50</td>\n",
              "      <td>9.0</td>\n",
              "      <td>18.00</td>\n",
              "      <td>7</td>\n",
              "      <td>NaN</td>\n",
              "      <td>...</td>\n",
              "      <td>6.00</td>\n",
              "      <td>NaN</td>\n",
              "      <td>Санкт-Петербург</td>\n",
              "      <td>45341.0</td>\n",
              "      <td>16603.0</td>\n",
              "      <td>1.0</td>\n",
              "      <td>675.0</td>\n",
              "      <td>0.0</td>\n",
              "      <td>NaN</td>\n",
              "      <td>NaN</td>\n",
              "    </tr>\n",
              "  </tbody>\n",
              "</table>\n",
              "<p>50 rows × 22 columns</p>\n",
              "</div>"
            ],
            "text/plain": [
              "    total_images  last_price  total_area first_day_exposition  rooms  \\\n",
              "0             20  13000000.0      108.00  2019-03-07T00:00:00      3   \n",
              "1              7   3350000.0       40.40  2018-12-04T00:00:00      1   \n",
              "2             10   5196000.0       56.00  2015-08-20T00:00:00      2   \n",
              "3              0  64900000.0      159.00  2015-07-24T00:00:00      3   \n",
              "4              2  10000000.0      100.00  2018-06-19T00:00:00      2   \n",
              "5             10   2890000.0       30.40  2018-09-10T00:00:00      1   \n",
              "6              6   3700000.0       37.30  2017-11-02T00:00:00      1   \n",
              "7              5   7915000.0       71.60  2019-04-18T00:00:00      2   \n",
              "8             20   2900000.0       33.16  2018-05-23T00:00:00      1   \n",
              "9             18   5400000.0       61.00  2017-02-26T00:00:00      3   \n",
              "10             5   5050000.0       39.60  2017-11-16T00:00:00      1   \n",
              "11             9   3300000.0       44.00  2018-08-27T00:00:00      2   \n",
              "12            10   3890000.0       54.00  2016-06-30T00:00:00      2   \n",
              "13            20   3550000.0       42.80  2017-07-01T00:00:00      2   \n",
              "14             1   4400000.0       36.00  2016-06-23T00:00:00      1   \n",
              "15            16   4650000.0       39.00  2017-11-18T00:00:00      1   \n",
              "16            11   6700000.0       82.00  2017-11-23T00:00:00      3   \n",
              "17             6   4180000.0       36.00  2016-09-09T00:00:00      1   \n",
              "18             8   3250000.0       31.00  2017-01-27T00:00:00      1   \n",
              "19            16  14200000.0      121.00  2019-01-09T00:00:00      3   \n",
              "20            12   6120000.0       80.00  2017-09-28T00:00:00      3   \n",
              "21            13   3200000.0       31.60  2018-03-14T00:00:00      1   \n",
              "22            20   5000000.0       58.00  2017-04-24T00:00:00      2   \n",
              "23            11   2950000.0       32.00  2016-10-29T00:00:00      1   \n",
              "24             8   6500000.0       97.20  2015-10-31T00:00:00      2   \n",
              "25             3   6800000.0       76.00  2015-10-01T00:00:00      2   \n",
              "26             6   4050000.0       60.00  2017-04-28T00:00:00      4   \n",
              "27            20   7100000.0       70.00  2017-05-12T00:00:00      3   \n",
              "28             8   4170000.0       44.00  2017-12-13T00:00:00      1   \n",
              "29             9   8600000.0      100.00  2016-04-09T00:00:00      3   \n",
              "30            12   2200000.0       32.80  2018-02-19T00:00:00      1   \n",
              "31             8   7200000.0       67.90  2017-10-26T00:00:00      2   \n",
              "32             7   4990000.0       60.00  2016-05-22T00:00:00      3   \n",
              "33             8   4800000.0       73.00  2018-10-15T00:00:00      4   \n",
              "34             3   3290000.0       33.00  2018-02-04T00:00:00      1   \n",
              "35             6  15500000.0      149.00  2017-06-26T00:00:00      5   \n",
              "36            13   3790000.0       45.00  2017-01-25T00:00:00      2   \n",
              "37            10   1990000.0       45.80  2017-10-28T00:00:00      2   \n",
              "38            10   3150000.0       40.00  2018-03-29T00:00:00      1   \n",
              "39            15   5200000.0       54.40  2018-11-29T00:00:00      2   \n",
              "40             9   3590000.0       36.00  2017-03-15T00:00:00      1   \n",
              "41            16   7900000.0       74.00  2016-05-04T00:00:00      3   \n",
              "42            13  22000000.0      161.80  2015-07-08T00:00:00      4   \n",
              "43            13   9330000.0       48.00  2017-01-10T00:00:00      2   \n",
              "44            13   5350000.0       40.00  2018-11-18T00:00:00      1   \n",
              "45            17   5200000.0       50.60  2018-12-02T00:00:00      2   \n",
              "46            17   6600000.0       52.10  2019-01-31T00:00:00      2   \n",
              "47            17   3600000.0       56.10  2018-10-18T00:00:00      3   \n",
              "48            10   3600000.0       33.83  2017-10-03T00:00:00      1   \n",
              "49             1   3050000.0       30.80  2018-11-22T00:00:00      1   \n",
              "\n",
              "    ceiling_height  floors_total  living_area  floor is_apartment  ...  \\\n",
              "0             2.70          16.0        51.00      8          NaN  ...   \n",
              "1              NaN          11.0        18.60      1          NaN  ...   \n",
              "2              NaN           5.0        34.30      4          NaN  ...   \n",
              "3              NaN          14.0          NaN      9          NaN  ...   \n",
              "4             3.03          14.0        32.00     13          NaN  ...   \n",
              "5              NaN          12.0        14.40      5          NaN  ...   \n",
              "6              NaN          26.0        10.60      6          NaN  ...   \n",
              "7              NaN          24.0          NaN     22          NaN  ...   \n",
              "8              NaN          27.0        15.43     26          NaN  ...   \n",
              "9             2.50           9.0        43.60      7          NaN  ...   \n",
              "10            2.67          12.0        20.30      3          NaN  ...   \n",
              "11             NaN           5.0        31.00      4        False  ...   \n",
              "12             NaN           5.0        30.00      5          NaN  ...   \n",
              "13            2.56           5.0        27.00      5          NaN  ...   \n",
              "14             NaN           6.0        17.00      1          NaN  ...   \n",
              "15             NaN          14.0        20.50      5          NaN  ...   \n",
              "16            3.05           5.0        55.60      1          NaN  ...   \n",
              "17             NaN          17.0        16.50      7          NaN  ...   \n",
              "18            2.50           5.0        19.40      2          NaN  ...   \n",
              "19            2.75          16.0        76.00      8          NaN  ...   \n",
              "20            2.70          27.0        48.00     11          NaN  ...   \n",
              "21             NaN           5.0        16.90      2          NaN  ...   \n",
              "22            2.75          25.0        30.00     15          NaN  ...   \n",
              "23            2.60           9.0        17.70      9          NaN  ...   \n",
              "24             NaN           3.0        46.50      1          NaN  ...   \n",
              "25            2.75          23.0        39.00     18        False  ...   \n",
              "26             NaN           5.0        43.00      4          NaN  ...   \n",
              "27            2.60          17.0        49.00     11          NaN  ...   \n",
              "28            2.90           6.0        20.80      1          NaN  ...   \n",
              "29             NaN          19.0        52.00     15        False  ...   \n",
              "30             NaN           9.0          NaN      2          NaN  ...   \n",
              "31            2.80          16.0        38.10      4          NaN  ...   \n",
              "32             NaN           5.0        39.00      4          NaN  ...   \n",
              "33             NaN           9.0        51.60      5          NaN  ...   \n",
              "34            2.55          16.0        14.00      3          NaN  ...   \n",
              "35             NaN           5.0       104.00      4          NaN  ...   \n",
              "36             NaN           9.0        27.00      9        False  ...   \n",
              "37            2.50           5.0          NaN      1          NaN  ...   \n",
              "38            2.75          18.0        16.30      9          NaN  ...   \n",
              "39            2.75           9.0        29.70      2          NaN  ...   \n",
              "40            2.60          26.0        15.00     22          NaN  ...   \n",
              "41             NaN          14.0        59.00      8        False  ...   \n",
              "42            2.80           4.0        80.90      2        False  ...   \n",
              "43            3.00           4.0        28.00      4          NaN  ...   \n",
              "44             NaN          22.0          NaN      3          NaN  ...   \n",
              "45            2.65           9.0        30.30      7          NaN  ...   \n",
              "46            2.60          24.0        29.70      9          NaN  ...   \n",
              "47             NaN           4.0        42.50      3          NaN  ...   \n",
              "48             NaN          24.0        15.35      6          NaN  ...   \n",
              "49            2.50           9.0        18.00      7          NaN  ...   \n",
              "\n",
              "    kitchen_area  balcony                        locality_name  \\\n",
              "0          25.00      NaN                      Санкт-Петербург   \n",
              "1          11.00      2.0                       посёлок Шушары   \n",
              "2           8.30      0.0                      Санкт-Петербург   \n",
              "3            NaN      0.0                      Санкт-Петербург   \n",
              "4          41.00      NaN                      Санкт-Петербург   \n",
              "5           9.10      NaN            городской посёлок Янино-1   \n",
              "6          14.40      1.0                    посёлок Парголово   \n",
              "7          18.90      2.0                      Санкт-Петербург   \n",
              "8           8.81      NaN                       посёлок Мурино   \n",
              "9           6.50      2.0                      Санкт-Петербург   \n",
              "10          8.50      NaN                      Санкт-Петербург   \n",
              "11          6.00      1.0                            Ломоносов   \n",
              "12          9.00      0.0                            Сертолово   \n",
              "13          5.20      1.0                             Петергоф   \n",
              "14          8.00      0.0                               Пушкин   \n",
              "15          7.60      1.0                      Санкт-Петербург   \n",
              "16          9.00      NaN                      Санкт-Петербург   \n",
              "17         11.00      1.0                      Санкт-Петербург   \n",
              "18          5.60      1.0                      Санкт-Петербург   \n",
              "19         12.00      NaN                      Санкт-Петербург   \n",
              "20         12.00      2.0                    посёлок Парголово   \n",
              "21          5.70      1.0                      Санкт-Петербург   \n",
              "22         11.00      2.0                      деревня Кудрово   \n",
              "23          6.10      NaN                      Санкт-Петербург   \n",
              "24         19.60      0.0                      Санкт-Петербург   \n",
              "25         15.00      2.0                      Санкт-Петербург   \n",
              "26          7.00      NaN                      Санкт-Петербург   \n",
              "27          9.20      0.0                      Санкт-Петербург   \n",
              "28         11.70      1.0                               Пушкин   \n",
              "29         11.00      0.0                      Санкт-Петербург   \n",
              "30           NaN      NaN                             Коммунар   \n",
              "31         13.40      2.0                      Санкт-Петербург   \n",
              "32          6.00      0.0                      Санкт-Петербург   \n",
              "33          6.50      NaN                              Колпино   \n",
              "34          8.00      NaN                      Санкт-Петербург   \n",
              "35         17.00      NaN                      Санкт-Петербург   \n",
              "36          6.30      2.0                      Санкт-Петербург   \n",
              "37           NaN      NaN  поселок городского типа Красный Бор   \n",
              "38         11.60      NaN                       посёлок Мурино   \n",
              "39          8.80      2.0                      Санкт-Петербург   \n",
              "40         10.00      2.0                    посёлок Парголово   \n",
              "41         12.00      5.0                      Санкт-Петербург   \n",
              "42         17.60      5.0                             Петергоф   \n",
              "43          7.50      NaN                      Санкт-Петербург   \n",
              "44           NaN      1.0                      Санкт-Петербург   \n",
              "45          7.00      NaN                      Санкт-Петербург   \n",
              "46          8.30      2.0                      Санкт-Петербург   \n",
              "47          5.70      1.0                              Гатчина   \n",
              "48          9.50      NaN                      Санкт-Петербург   \n",
              "49          6.00      NaN                      Санкт-Петербург   \n",
              "\n",
              "    airports_nearest cityCenters_nearest  parks_around3000  parks_nearest  \\\n",
              "0            18863.0             16028.0               1.0          482.0   \n",
              "1            12817.0             18603.0               0.0            NaN   \n",
              "2            21741.0             13933.0               1.0           90.0   \n",
              "3            28098.0              6800.0               2.0           84.0   \n",
              "4            31856.0              8098.0               2.0          112.0   \n",
              "5                NaN                 NaN               NaN            NaN   \n",
              "6            52996.0             19143.0               0.0            NaN   \n",
              "7            23982.0             11634.0               0.0            NaN   \n",
              "8                NaN                 NaN               NaN            NaN   \n",
              "9            50898.0             15008.0               0.0            NaN   \n",
              "10           38357.0             13878.0               1.0          310.0   \n",
              "11           48252.0             51677.0               0.0            NaN   \n",
              "12               NaN                 NaN               NaN            NaN   \n",
              "13           37868.0             33058.0               1.0          294.0   \n",
              "14           20782.0             30759.0               0.0            NaN   \n",
              "15           12900.0             14259.0               1.0          590.0   \n",
              "16           22108.0             10698.0               3.0          420.0   \n",
              "17           33564.0             14616.0               0.0            NaN   \n",
              "18           44060.0             10842.0               1.0          759.0   \n",
              "19           38900.0             12843.0               0.0            NaN   \n",
              "20           53134.0             19311.0               0.0            NaN   \n",
              "21           36064.0              9722.0               1.0          248.0   \n",
              "22               NaN                 NaN               NaN            NaN   \n",
              "23           15414.0             14211.0               2.0          517.0   \n",
              "24           20052.0              2336.0               3.0          411.0   \n",
              "25           34967.0             14640.0               0.0            NaN   \n",
              "26           11580.0             10510.0               0.0            NaN   \n",
              "27           29197.0             11456.0               2.0          452.0   \n",
              "28           18557.0             30710.0               0.0            NaN   \n",
              "29           30394.0             11526.0               1.0          532.0   \n",
              "30               NaN                 NaN               NaN            NaN   \n",
              "31           32888.0             12944.0               0.0            NaN   \n",
              "32           11349.0             12889.0               0.0            NaN   \n",
              "33           26535.0             32321.0               0.0            NaN   \n",
              "34           13943.0             12739.0               0.0            NaN   \n",
              "35           23670.0              3502.0               0.0            NaN   \n",
              "36           49574.0             16461.0               1.0          459.0   \n",
              "37               NaN                 NaN               NaN            NaN   \n",
              "38               NaN                 NaN               NaN            NaN   \n",
              "39           13413.0             12209.0               0.0            NaN   \n",
              "40           52996.0             19143.0               0.0            NaN   \n",
              "41           37715.0             12612.0               1.0          725.0   \n",
              "42           35416.0             30605.0               2.0           47.0   \n",
              "43           15016.0             10822.0               0.0            NaN   \n",
              "44           30471.0             11603.0               1.0          620.0   \n",
              "45           30011.0             12872.0               0.0            NaN   \n",
              "46           15114.0             12702.0               0.0            NaN   \n",
              "47               NaN                 NaN               NaN            NaN   \n",
              "48           21460.0             16788.0               0.0            NaN   \n",
              "49           45341.0             16603.0               1.0          675.0   \n",
              "\n",
              "    ponds_around3000  ponds_nearest  days_exposition  \n",
              "0                2.0          755.0              NaN  \n",
              "1                0.0            NaN             81.0  \n",
              "2                2.0          574.0            558.0  \n",
              "3                3.0          234.0            424.0  \n",
              "4                1.0           48.0            121.0  \n",
              "5                NaN            NaN             55.0  \n",
              "6                0.0            NaN            155.0  \n",
              "7                0.0            NaN              NaN  \n",
              "8                NaN            NaN            189.0  \n",
              "9                0.0            NaN            289.0  \n",
              "10               2.0          553.0            137.0  \n",
              "11               0.0            NaN              7.0  \n",
              "12               NaN            NaN             90.0  \n",
              "13               3.0          298.0            366.0  \n",
              "14               1.0           96.0            203.0  \n",
              "15               1.0          296.0             19.0  \n",
              "16               0.0            NaN            397.0  \n",
              "17               1.0          859.0            571.0  \n",
              "18               0.0            NaN            168.0  \n",
              "19               0.0            NaN             97.0  \n",
              "20               0.0            NaN             74.0  \n",
              "21               0.0            NaN            310.0  \n",
              "22               NaN            NaN             60.0  \n",
              "23               1.0          190.0            615.0  \n",
              "24               3.0          124.0            265.0  \n",
              "25               1.0          564.0            300.0  \n",
              "26               1.0           95.0            265.0  \n",
              "27               1.0          779.0            151.0  \n",
              "28               1.0          118.0             74.0  \n",
              "29               1.0          896.0            125.0  \n",
              "30               NaN            NaN             63.0  \n",
              "31               0.0            NaN            112.0  \n",
              "32               1.0          426.0            224.0  \n",
              "33               0.0            NaN             92.0  \n",
              "34               0.0            NaN             15.0  \n",
              "35               1.0          779.0            644.0  \n",
              "36               0.0            NaN            139.0  \n",
              "37               NaN            NaN            196.0  \n",
              "38               NaN            NaN            103.0  \n",
              "39               1.0         1175.0             29.0  \n",
              "40               0.0            NaN            430.0  \n",
              "41               1.0          759.0            179.0  \n",
              "42               1.0          907.0            987.0  \n",
              "43               1.0          492.0            763.0  \n",
              "44               1.0         1152.0              NaN  \n",
              "45               0.0            NaN              NaN  \n",
              "46               0.0            NaN              NaN  \n",
              "47               NaN            NaN            179.0  \n",
              "48               1.0          170.0            322.0  \n",
              "49               0.0            NaN              NaN  \n",
              "\n",
              "[50 rows x 22 columns]"
            ]
          },
          "metadata": {}
        }
      ],
      "execution_count": 3
    },
    {
      "id": "ba5c23b7",
      "cell_type": "markdown",
      "source": "При первом просмотре выявляются следующие наблюдения:\n1. Цена непонятно в чем указано (предполагаю в рублях)\n2. Колонка first_day_exposition необходимо перевести в тип datetime, иначе с ними невозможно будет работать\n3. Не везде указана высота\n4. is_apartment должно быть булевым, а не NaN\n5. kitchen_area думаю их нет, заполню нулями\n6. balcony нужно заполнть нулями\n7. в остальных с тем, что рядом, нужно написать пропуски",
      "metadata": {}
    },
    {
      "id": "202e92a5",
      "cell_type": "code",
      "source": "rproperty.describe()",
      "metadata": {
        "scrolled": true,
        "trusted": true
      },
      "outputs": [
        {
          "execution_count": 4,
          "output_type": "execute_result",
          "data": {
            "text/html": [
              "<div>\n",
              "<style scoped>\n",
              "    .dataframe tbody tr th:only-of-type {\n",
              "        vertical-align: middle;\n",
              "    }\n",
              "\n",
              "    .dataframe tbody tr th {\n",
              "        vertical-align: top;\n",
              "    }\n",
              "\n",
              "    .dataframe thead th {\n",
              "        text-align: right;\n",
              "    }\n",
              "</style>\n",
              "<table border=\"1\" class=\"dataframe\">\n",
              "  <thead>\n",
              "    <tr style=\"text-align: right;\">\n",
              "      <th></th>\n",
              "      <th>total_images</th>\n",
              "      <th>last_price</th>\n",
              "      <th>total_area</th>\n",
              "      <th>rooms</th>\n",
              "      <th>ceiling_height</th>\n",
              "      <th>floors_total</th>\n",
              "      <th>living_area</th>\n",
              "      <th>floor</th>\n",
              "      <th>kitchen_area</th>\n",
              "      <th>balcony</th>\n",
              "      <th>airports_nearest</th>\n",
              "      <th>cityCenters_nearest</th>\n",
              "      <th>parks_around3000</th>\n",
              "      <th>parks_nearest</th>\n",
              "      <th>ponds_around3000</th>\n",
              "      <th>ponds_nearest</th>\n",
              "      <th>days_exposition</th>\n",
              "    </tr>\n",
              "  </thead>\n",
              "  <tbody>\n",
              "    <tr>\n",
              "      <th>count</th>\n",
              "      <td>23699.000000</td>\n",
              "      <td>2.369900e+04</td>\n",
              "      <td>23699.000000</td>\n",
              "      <td>23699.000000</td>\n",
              "      <td>14504.000000</td>\n",
              "      <td>23613.000000</td>\n",
              "      <td>21796.000000</td>\n",
              "      <td>23699.000000</td>\n",
              "      <td>21421.000000</td>\n",
              "      <td>12180.000000</td>\n",
              "      <td>18157.000000</td>\n",
              "      <td>18180.000000</td>\n",
              "      <td>18181.000000</td>\n",
              "      <td>8079.000000</td>\n",
              "      <td>18181.000000</td>\n",
              "      <td>9110.000000</td>\n",
              "      <td>20518.000000</td>\n",
              "    </tr>\n",
              "    <tr>\n",
              "      <th>mean</th>\n",
              "      <td>9.858475</td>\n",
              "      <td>6.541549e+06</td>\n",
              "      <td>60.348651</td>\n",
              "      <td>2.070636</td>\n",
              "      <td>2.771499</td>\n",
              "      <td>10.673824</td>\n",
              "      <td>34.457852</td>\n",
              "      <td>5.892358</td>\n",
              "      <td>10.569807</td>\n",
              "      <td>1.150082</td>\n",
              "      <td>28793.672193</td>\n",
              "      <td>14191.277833</td>\n",
              "      <td>0.611408</td>\n",
              "      <td>490.804555</td>\n",
              "      <td>0.770255</td>\n",
              "      <td>517.980900</td>\n",
              "      <td>180.888634</td>\n",
              "    </tr>\n",
              "    <tr>\n",
              "      <th>std</th>\n",
              "      <td>5.682529</td>\n",
              "      <td>1.088701e+07</td>\n",
              "      <td>35.654083</td>\n",
              "      <td>1.078405</td>\n",
              "      <td>1.261056</td>\n",
              "      <td>6.597173</td>\n",
              "      <td>22.030445</td>\n",
              "      <td>4.885249</td>\n",
              "      <td>5.905438</td>\n",
              "      <td>1.071300</td>\n",
              "      <td>12630.880622</td>\n",
              "      <td>8608.386210</td>\n",
              "      <td>0.802074</td>\n",
              "      <td>342.317995</td>\n",
              "      <td>0.938346</td>\n",
              "      <td>277.720643</td>\n",
              "      <td>219.727988</td>\n",
              "    </tr>\n",
              "    <tr>\n",
              "      <th>min</th>\n",
              "      <td>0.000000</td>\n",
              "      <td>1.219000e+04</td>\n",
              "      <td>12.000000</td>\n",
              "      <td>0.000000</td>\n",
              "      <td>1.000000</td>\n",
              "      <td>1.000000</td>\n",
              "      <td>2.000000</td>\n",
              "      <td>1.000000</td>\n",
              "      <td>1.300000</td>\n",
              "      <td>0.000000</td>\n",
              "      <td>0.000000</td>\n",
              "      <td>181.000000</td>\n",
              "      <td>0.000000</td>\n",
              "      <td>1.000000</td>\n",
              "      <td>0.000000</td>\n",
              "      <td>13.000000</td>\n",
              "      <td>1.000000</td>\n",
              "    </tr>\n",
              "    <tr>\n",
              "      <th>25%</th>\n",
              "      <td>6.000000</td>\n",
              "      <td>3.400000e+06</td>\n",
              "      <td>40.000000</td>\n",
              "      <td>1.000000</td>\n",
              "      <td>2.520000</td>\n",
              "      <td>5.000000</td>\n",
              "      <td>18.600000</td>\n",
              "      <td>2.000000</td>\n",
              "      <td>7.000000</td>\n",
              "      <td>0.000000</td>\n",
              "      <td>18585.000000</td>\n",
              "      <td>9238.000000</td>\n",
              "      <td>0.000000</td>\n",
              "      <td>288.000000</td>\n",
              "      <td>0.000000</td>\n",
              "      <td>294.000000</td>\n",
              "      <td>45.000000</td>\n",
              "    </tr>\n",
              "    <tr>\n",
              "      <th>50%</th>\n",
              "      <td>9.000000</td>\n",
              "      <td>4.650000e+06</td>\n",
              "      <td>52.000000</td>\n",
              "      <td>2.000000</td>\n",
              "      <td>2.650000</td>\n",
              "      <td>9.000000</td>\n",
              "      <td>30.000000</td>\n",
              "      <td>4.000000</td>\n",
              "      <td>9.100000</td>\n",
              "      <td>1.000000</td>\n",
              "      <td>26726.000000</td>\n",
              "      <td>13098.500000</td>\n",
              "      <td>0.000000</td>\n",
              "      <td>455.000000</td>\n",
              "      <td>1.000000</td>\n",
              "      <td>502.000000</td>\n",
              "      <td>95.000000</td>\n",
              "    </tr>\n",
              "    <tr>\n",
              "      <th>75%</th>\n",
              "      <td>14.000000</td>\n",
              "      <td>6.800000e+06</td>\n",
              "      <td>69.900000</td>\n",
              "      <td>3.000000</td>\n",
              "      <td>2.800000</td>\n",
              "      <td>16.000000</td>\n",
              "      <td>42.300000</td>\n",
              "      <td>8.000000</td>\n",
              "      <td>12.000000</td>\n",
              "      <td>2.000000</td>\n",
              "      <td>37273.000000</td>\n",
              "      <td>16293.000000</td>\n",
              "      <td>1.000000</td>\n",
              "      <td>612.000000</td>\n",
              "      <td>1.000000</td>\n",
              "      <td>729.000000</td>\n",
              "      <td>232.000000</td>\n",
              "    </tr>\n",
              "    <tr>\n",
              "      <th>max</th>\n",
              "      <td>50.000000</td>\n",
              "      <td>7.630000e+08</td>\n",
              "      <td>900.000000</td>\n",
              "      <td>19.000000</td>\n",
              "      <td>100.000000</td>\n",
              "      <td>60.000000</td>\n",
              "      <td>409.700000</td>\n",
              "      <td>33.000000</td>\n",
              "      <td>112.000000</td>\n",
              "      <td>5.000000</td>\n",
              "      <td>84869.000000</td>\n",
              "      <td>65968.000000</td>\n",
              "      <td>3.000000</td>\n",
              "      <td>3190.000000</td>\n",
              "      <td>3.000000</td>\n",
              "      <td>1344.000000</td>\n",
              "      <td>1580.000000</td>\n",
              "    </tr>\n",
              "  </tbody>\n",
              "</table>\n",
              "</div>"
            ],
            "text/plain": [
              "       total_images    last_price    total_area         rooms  ceiling_height  \\\n",
              "count  23699.000000  2.369900e+04  23699.000000  23699.000000    14504.000000   \n",
              "mean       9.858475  6.541549e+06     60.348651      2.070636        2.771499   \n",
              "std        5.682529  1.088701e+07     35.654083      1.078405        1.261056   \n",
              "min        0.000000  1.219000e+04     12.000000      0.000000        1.000000   \n",
              "25%        6.000000  3.400000e+06     40.000000      1.000000        2.520000   \n",
              "50%        9.000000  4.650000e+06     52.000000      2.000000        2.650000   \n",
              "75%       14.000000  6.800000e+06     69.900000      3.000000        2.800000   \n",
              "max       50.000000  7.630000e+08    900.000000     19.000000      100.000000   \n",
              "\n",
              "       floors_total   living_area         floor  kitchen_area       balcony  \\\n",
              "count  23613.000000  21796.000000  23699.000000  21421.000000  12180.000000   \n",
              "mean      10.673824     34.457852      5.892358     10.569807      1.150082   \n",
              "std        6.597173     22.030445      4.885249      5.905438      1.071300   \n",
              "min        1.000000      2.000000      1.000000      1.300000      0.000000   \n",
              "25%        5.000000     18.600000      2.000000      7.000000      0.000000   \n",
              "50%        9.000000     30.000000      4.000000      9.100000      1.000000   \n",
              "75%       16.000000     42.300000      8.000000     12.000000      2.000000   \n",
              "max       60.000000    409.700000     33.000000    112.000000      5.000000   \n",
              "\n",
              "       airports_nearest  cityCenters_nearest  parks_around3000  parks_nearest  \\\n",
              "count      18157.000000         18180.000000      18181.000000    8079.000000   \n",
              "mean       28793.672193         14191.277833          0.611408     490.804555   \n",
              "std        12630.880622          8608.386210          0.802074     342.317995   \n",
              "min            0.000000           181.000000          0.000000       1.000000   \n",
              "25%        18585.000000          9238.000000          0.000000     288.000000   \n",
              "50%        26726.000000         13098.500000          0.000000     455.000000   \n",
              "75%        37273.000000         16293.000000          1.000000     612.000000   \n",
              "max        84869.000000         65968.000000          3.000000    3190.000000   \n",
              "\n",
              "       ponds_around3000  ponds_nearest  days_exposition  \n",
              "count      18181.000000    9110.000000     20518.000000  \n",
              "mean           0.770255     517.980900       180.888634  \n",
              "std            0.938346     277.720643       219.727988  \n",
              "min            0.000000      13.000000         1.000000  \n",
              "25%            0.000000     294.000000        45.000000  \n",
              "50%            1.000000     502.000000        95.000000  \n",
              "75%            1.000000     729.000000       232.000000  \n",
              "max            3.000000    1344.000000      1580.000000  "
            ]
          },
          "metadata": {}
        }
      ],
      "execution_count": 4
    },
    {
      "id": "c2e971aa",
      "cell_type": "markdown",
      "source": "В целом все выглядит неплохо, но максимальные значения вызывают сомнения, например 19 комнат, 100 м потолок и 60 этажей.",
      "metadata": {}
    },
    {
      "id": "f8603c0a",
      "cell_type": "markdown",
      "source": "## Предобработка данных",
      "metadata": {}
    },
    {
      "id": "948b50d0",
      "cell_type": "markdown",
      "source": "Определите и изучите пропущенные значения:\n- Для некоторых пропущенных значений можно предположить логичную замену. Например, если человек не указал число балконов — скорее всего, их нет. Такие пропуски правильно заменить на 0. Для других типов данных нет подходящего значения на замену. В этом случае правильно оставить эти значения пустыми. Отсутствие значения — тоже важный сигнал, который не нужно прятать.\n- Заполните пропуски, где это уместно. Опишите, почему вы решили заполнить пропуски именно в этих столбцах и как выбрали значения.\n- Укажите причины, которые могли привести к пропускам в данных.\n- Приведите данные к нужным типам:\nПоясните, в каких столбцах нужно изменить тип данных и почему.",
      "metadata": {}
    },
    {
      "id": "4a8ef255",
      "cell_type": "code",
      "source": "rproperty.info()",
      "metadata": {
        "trusted": true
      },
      "outputs": [
        {
          "name": "stdout",
          "output_type": "stream",
          "text": "<class 'pandas.core.frame.DataFrame'>\n\nRangeIndex: 23699 entries, 0 to 23698\n\nData columns (total 22 columns):\n\n #   Column                Non-Null Count  Dtype  \n\n---  ------                --------------  -----  \n\n 0   total_images          23699 non-null  int64  \n\n 1   last_price            23699 non-null  float64\n\n 2   total_area            23699 non-null  float64\n\n 3   first_day_exposition  23699 non-null  object \n\n 4   rooms                 23699 non-null  int64  \n\n 5   ceiling_height        14504 non-null  float64\n\n 6   floors_total          23613 non-null  float64\n\n 7   living_area           21796 non-null  float64\n\n 8   floor                 23699 non-null  int64  \n\n 9   is_apartment          2775 non-null   object \n\n 10  studio                23699 non-null  bool   \n\n 11  open_plan             23699 non-null  bool   \n\n 12  kitchen_area          21421 non-null  float64\n\n 13  balcony               12180 non-null  float64\n\n 14  locality_name         23650 non-null  object \n\n 15  airports_nearest      18157 non-null  float64\n\n 16  cityCenters_nearest   18180 non-null  float64\n\n 17  parks_around3000      18181 non-null  float64\n\n 18  parks_nearest         8079 non-null   float64\n\n 19  ponds_around3000      18181 non-null  float64\n\n 20  ponds_nearest         9110 non-null   float64\n\n 21  days_exposition       20518 non-null  float64\n\ndtypes: bool(2), float64(14), int64(3), object(3)\n\nmemory usage: 3.7+ MB\n"
        }
      ],
      "execution_count": 5
    },
    {
      "id": "f2413671",
      "cell_type": "code",
      "source": "rproperty_grouped = rproperty.count()\nrproperty_grouped.sort_values()",
      "metadata": {
        "trusted": true
      },
      "outputs": [
        {
          "execution_count": 6,
          "output_type": "execute_result",
          "data": {
            "text/plain": [
              "is_apartment             2775\n",
              "parks_nearest            8079\n",
              "ponds_nearest            9110\n",
              "balcony                 12180\n",
              "ceiling_height          14504\n",
              "airports_nearest        18157\n",
              "cityCenters_nearest     18180\n",
              "ponds_around3000        18181\n",
              "parks_around3000        18181\n",
              "days_exposition         20518\n",
              "kitchen_area            21421\n",
              "living_area             21796\n",
              "floors_total            23613\n",
              "locality_name           23650\n",
              "total_images            23699\n",
              "floor                   23699\n",
              "rooms                   23699\n",
              "first_day_exposition    23699\n",
              "total_area              23699\n",
              "last_price              23699\n",
              "open_plan               23699\n",
              "studio                  23699\n",
              "dtype: int64"
            ]
          },
          "metadata": {}
        }
      ],
      "execution_count": 6
    },
    {
      "id": "5ec9ecb9",
      "cell_type": "markdown",
      "source": "Пропусков достаточно много: \n1. is_apartment особенно много. В целом может быть, что нули стоят там, где действительно не апартаменты, но люди по какой-то причине решили этого не указывать. То есть NaN нужно заменить на False. С другой стороны люди могли специально не указывать, что это не апартаменты, чтобы чаще выпадать в поиске. Также думаю, что в питере действительно преобладает не апар-ты.\n2. parks_nearest, ponds_nearest - содержат примерно одинаковое количество нулей. Я думаю, с этой информацией редко заморачиваются и поэтому она просто отсутствует. Трогать не буду, так как вряд ли эти данные сильно повлияют, а вот если занулить, то повлияют сильно, как будто они прям там и находятся)).\n3. Информация о балконах - нужно проверить какие вообще там есть варианты.\n4. ceiling_height - видимо тем, кто заполняет важнее площадь, а не высота потолков. Хотя если рассматривать Питер, там как раз на это могут обратить внимание. Средняя 2.7, минимальная 1, может быть не получится просто заменить средним, но посмотрим. Хотя медиана и среднее очень близки..\n5. airports_nearest, cityCenters_nearest - данных около 18 тысяч. Есть вероятность, что они были получены только для самого Питера, а не области. \n6. ponds_around3000,parks_around3000 - то же, что и во 2 пункте, оставлю без изменений.\n7. days_exposition - данных достаточно много, при этом максимально более 4 лет, а в среднем около полугода. К сожалению, вряд ли получится заполнить средним. Хотя это конечно может быть связано с ошибкой продавца, к примеру не сняли публикацию после продажи. Оставляем как есть.\n8. kitchen_area, living_area- по факту они не обязательны, так как есть общая площадь. Смысла заполнять нет, так как тяжело предугадать, и не так важно.\n9. floors_total - думаю эти данные могут очень даже сильно варьироваться. Заполнять бы не стала. Эта информация нужна, чтобы понять последний этаж или нет.\n10. locality_name - косяк заполнения. Могли решить оставить пустым, чтобы область тоже попадала при поиске. Также могли подумать, что речь идет только о самом Питере без области. Причина не ясна. По факту нужно узнавать у заказчика в чем проблема, ибо зачем нам вообще данные без адреса...\n",
      "metadata": {}
    },
    {
      "id": "7e5c0f9f",
      "cell_type": "markdown",
      "source": "### is_apartment",
      "metadata": {}
    },
    {
      "id": "fa661b6a",
      "cell_type": "markdown",
      "source": "Начнем с пропусков, найдем и посчитаем. Также посмотрим, какие вообще есть значения",
      "metadata": {}
    },
    {
      "id": "e52ed8cf",
      "cell_type": "code",
      "source": "rproperty['is_apartment'].isnull().sum()",
      "metadata": {
        "trusted": true
      },
      "outputs": [
        {
          "execution_count": 7,
          "output_type": "execute_result",
          "data": {
            "text/plain": [
              "20924"
            ]
          },
          "metadata": {}
        }
      ],
      "execution_count": 7
    },
    {
      "id": "8e6839e2",
      "cell_type": "code",
      "source": "rproperty['is_apartment'].value_counts()",
      "metadata": {
        "trusted": true
      },
      "outputs": [
        {
          "execution_count": 8,
          "output_type": "execute_result",
          "data": {
            "text/plain": [
              "False    2725\n",
              "True       50\n",
              "Name: is_apartment, dtype: int64"
            ]
          },
          "metadata": {}
        }
      ],
      "execution_count": 8
    },
    {
      "id": "03720dc3",
      "cell_type": "markdown",
      "source": "Есть оба варианта булевых значений, однако пропусков ооочень много, поэтому заменять их на False будет несправедливо. Оставлю как есть.\n",
      "metadata": {}
    },
    {
      "id": "6048e2f8",
      "cell_type": "code",
      "source": "rproperty['is_apartment'] = rproperty['is_apartment'].fillna(False)",
      "metadata": {
        "trusted": true
      },
      "outputs": [],
      "execution_count": 9
    },
    {
      "id": "53a0857f",
      "cell_type": "markdown",
      "source": "***",
      "metadata": {}
    },
    {
      "id": "aaa2b982",
      "cell_type": "markdown",
      "source": "### balcony ",
      "metadata": {}
    },
    {
      "id": "bd0cb5d1",
      "cell_type": "code",
      "source": "rproperty['balcony'].value_counts()",
      "metadata": {
        "trusted": true
      },
      "outputs": [
        {
          "execution_count": 10,
          "output_type": "execute_result",
          "data": {
            "text/plain": [
              "1.0    4195\n",
              "0.0    3758\n",
              "2.0    3659\n",
              "5.0     304\n",
              "4.0     183\n",
              "3.0      81\n",
              "Name: balcony, dtype: int64"
            ]
          },
          "metadata": {}
        }
      ],
      "execution_count": 10
    },
    {
      "id": "37192af6",
      "cell_type": "code",
      "source": "rproperty['balcony'].sum()",
      "metadata": {
        "trusted": true
      },
      "outputs": [
        {
          "execution_count": 11,
          "output_type": "execute_result",
          "data": {
            "text/plain": [
              "14008.0"
            ]
          },
          "metadata": {}
        }
      ],
      "execution_count": 11
    },
    {
      "id": "b89770b6",
      "cell_type": "code",
      "source": "rproperty['balcony'].isnull().sum()",
      "metadata": {
        "trusted": true
      },
      "outputs": [
        {
          "execution_count": 12,
          "output_type": "execute_result",
          "data": {
            "text/plain": [
              "11519"
            ]
          },
          "metadata": {}
        }
      ],
      "execution_count": 12
    },
    {
      "id": "99f500aa",
      "cell_type": "markdown",
      "source": "Посмотрели на балконы, пополам на пополам заполнение, но ничего не поделаешь, лучше занулим. А для покупателей, если вдруг там в итоге будет балкон, только обрадуются)) <br> я правда удивилась наличию более 1-2 балконов...<br>\nТакже переведем в челочисленные.",
      "metadata": {}
    },
    {
      "id": "6d5115ff",
      "cell_type": "code",
      "source": "rproperty['balcony'] = rproperty['balcony'].fillna(0)",
      "metadata": {
        "trusted": true
      },
      "outputs": [],
      "execution_count": 13
    },
    {
      "id": "42b842b5",
      "cell_type": "code",
      "source": "rproperty['balcony'] = rproperty['balcony'].astype('int')",
      "metadata": {
        "trusted": true
      },
      "outputs": [],
      "execution_count": 14
    },
    {
      "id": "02373c88",
      "cell_type": "markdown",
      "source": "***",
      "metadata": {}
    },
    {
      "id": "211325ef",
      "cell_type": "markdown",
      "source": "### ceiling_height",
      "metadata": {}
    },
    {
      "id": "122f2433",
      "cell_type": "code",
      "source": "rproperty['ceiling_height'].sort_values()",
      "metadata": {
        "trusted": true
      },
      "outputs": [
        {
          "execution_count": 15,
          "output_type": "execute_result",
          "data": {
            "text/plain": [
              "22590    1.00\n",
              "5712     1.20\n",
              "16934    1.75\n",
              "2572     2.00\n",
              "19329    2.00\n",
              "         ... \n",
              "23687     NaN\n",
              "23690     NaN\n",
              "23692     NaN\n",
              "23695     NaN\n",
              "23696     NaN\n",
              "Name: ceiling_height, Length: 23699, dtype: float64"
            ]
          },
          "metadata": {}
        }
      ],
      "execution_count": 15
    },
    {
      "id": "ab98337e",
      "cell_type": "markdown",
      "source": "что-то ничего непонятно",
      "metadata": {}
    },
    {
      "id": "060f94fb",
      "cell_type": "code",
      "source": "rproperty['ceiling_height'].sort_values().plot(y = 'ceiling_height', kind = 'hist', bins = 15, range=(2,10))",
      "metadata": {
        "scrolled": true,
        "trusted": true
      },
      "outputs": [
        {
          "execution_count": 16,
          "output_type": "execute_result",
          "data": {
            "text/plain": [
              "<AxesSubplot:ylabel='Frequency'>"
            ]
          },
          "metadata": {}
        },
        {
          "output_type": "display_data",
          "data": {
            "image/png": "[encoded data removed]",
            "text/plain": [
              "<Figure size 432x288 with 1 Axes>"
            ]
          },
          "metadata": {
            "needs_background": "light"
          }
        }
      ],
      "execution_count": 16
    },
    {
      "id": "32b66aba",
      "cell_type": "markdown",
      "source": "посмотрим на те, которые больше 3.5, они кажутся более реальными",
      "metadata": {}
    },
    {
      "id": "8f8ba17e",
      "cell_type": "code",
      "source": "rproperty[rproperty['ceiling_height'] > 3.5].sort_values('ceiling_height').tail(10)",
      "metadata": {
        "trusted": true
      },
      "outputs": [
        {
          "execution_count": 17,
          "output_type": "execute_result",
          "data": {
            "text/html": [
              "<div>\n",
              "<style scoped>\n",
              "    .dataframe tbody tr th:only-of-type {\n",
              "        vertical-align: middle;\n",
              "    }\n",
              "\n",
              "    .dataframe tbody tr th {\n",
              "        vertical-align: top;\n",
              "    }\n",
              "\n",
              "    .dataframe thead th {\n",
              "        text-align: right;\n",
              "    }\n",
              "</style>\n",
              "<table border=\"1\" class=\"dataframe\">\n",
              "  <thead>\n",
              "    <tr style=\"text-align: right;\">\n",
              "      <th></th>\n",
              "      <th>total_images</th>\n",
              "      <th>last_price</th>\n",
              "      <th>total_area</th>\n",
              "      <th>first_day_exposition</th>\n",
              "      <th>rooms</th>\n",
              "      <th>ceiling_height</th>\n",
              "      <th>floors_total</th>\n",
              "      <th>living_area</th>\n",
              "      <th>floor</th>\n",
              "      <th>is_apartment</th>\n",
              "      <th>...</th>\n",
              "      <th>kitchen_area</th>\n",
              "      <th>balcony</th>\n",
              "      <th>locality_name</th>\n",
              "      <th>airports_nearest</th>\n",
              "      <th>cityCenters_nearest</th>\n",
              "      <th>parks_around3000</th>\n",
              "      <th>parks_nearest</th>\n",
              "      <th>ponds_around3000</th>\n",
              "      <th>ponds_nearest</th>\n",
              "      <th>days_exposition</th>\n",
              "    </tr>\n",
              "  </thead>\n",
              "  <tbody>\n",
              "    <tr>\n",
              "      <th>22938</th>\n",
              "      <td>14</td>\n",
              "      <td>4000000.0</td>\n",
              "      <td>98.0</td>\n",
              "      <td>2018-03-15T00:00:00</td>\n",
              "      <td>4</td>\n",
              "      <td>27.0</td>\n",
              "      <td>2.0</td>\n",
              "      <td>73.0</td>\n",
              "      <td>2</td>\n",
              "      <td>True</td>\n",
              "      <td>...</td>\n",
              "      <td>9.0</td>\n",
              "      <td>1</td>\n",
              "      <td>деревня Нижняя</td>\n",
              "      <td>NaN</td>\n",
              "      <td>NaN</td>\n",
              "      <td>NaN</td>\n",
              "      <td>NaN</td>\n",
              "      <td>NaN</td>\n",
              "      <td>NaN</td>\n",
              "      <td>27.0</td>\n",
              "    </tr>\n",
              "    <tr>\n",
              "      <th>20478</th>\n",
              "      <td>11</td>\n",
              "      <td>8000000.0</td>\n",
              "      <td>45.0</td>\n",
              "      <td>2017-07-18T00:00:00</td>\n",
              "      <td>1</td>\n",
              "      <td>27.0</td>\n",
              "      <td>4.0</td>\n",
              "      <td>22.0</td>\n",
              "      <td>2</td>\n",
              "      <td>False</td>\n",
              "      <td>...</td>\n",
              "      <td>10.0</td>\n",
              "      <td>1</td>\n",
              "      <td>Санкт-Петербург</td>\n",
              "      <td>18975.0</td>\n",
              "      <td>3246.0</td>\n",
              "      <td>0.0</td>\n",
              "      <td>NaN</td>\n",
              "      <td>3.0</td>\n",
              "      <td>449.0</td>\n",
              "      <td>429.0</td>\n",
              "    </tr>\n",
              "    <tr>\n",
              "      <th>10773</th>\n",
              "      <td>8</td>\n",
              "      <td>3800000.0</td>\n",
              "      <td>58.0</td>\n",
              "      <td>2017-10-13T00:00:00</td>\n",
              "      <td>2</td>\n",
              "      <td>27.0</td>\n",
              "      <td>10.0</td>\n",
              "      <td>30.1</td>\n",
              "      <td>3</td>\n",
              "      <td>False</td>\n",
              "      <td>...</td>\n",
              "      <td>8.1</td>\n",
              "      <td>2</td>\n",
              "      <td>посёлок Мурино</td>\n",
              "      <td>NaN</td>\n",
              "      <td>NaN</td>\n",
              "      <td>NaN</td>\n",
              "      <td>NaN</td>\n",
              "      <td>NaN</td>\n",
              "      <td>NaN</td>\n",
              "      <td>71.0</td>\n",
              "    </tr>\n",
              "    <tr>\n",
              "      <th>4876</th>\n",
              "      <td>7</td>\n",
              "      <td>3000000.0</td>\n",
              "      <td>25.0</td>\n",
              "      <td>2017-09-27T00:00:00</td>\n",
              "      <td>0</td>\n",
              "      <td>27.0</td>\n",
              "      <td>25.0</td>\n",
              "      <td>17.0</td>\n",
              "      <td>17</td>\n",
              "      <td>False</td>\n",
              "      <td>...</td>\n",
              "      <td>NaN</td>\n",
              "      <td>2</td>\n",
              "      <td>посёлок Мурино</td>\n",
              "      <td>NaN</td>\n",
              "      <td>NaN</td>\n",
              "      <td>NaN</td>\n",
              "      <td>NaN</td>\n",
              "      <td>NaN</td>\n",
              "      <td>NaN</td>\n",
              "      <td>28.0</td>\n",
              "    </tr>\n",
              "    <tr>\n",
              "      <th>21824</th>\n",
              "      <td>20</td>\n",
              "      <td>2450000.0</td>\n",
              "      <td>44.0</td>\n",
              "      <td>2019-02-12T00:00:00</td>\n",
              "      <td>2</td>\n",
              "      <td>27.0</td>\n",
              "      <td>2.0</td>\n",
              "      <td>38.0</td>\n",
              "      <td>2</td>\n",
              "      <td>False</td>\n",
              "      <td>...</td>\n",
              "      <td>8.6</td>\n",
              "      <td>2</td>\n",
              "      <td>городской поселок Большая Ижора</td>\n",
              "      <td>NaN</td>\n",
              "      <td>NaN</td>\n",
              "      <td>NaN</td>\n",
              "      <td>NaN</td>\n",
              "      <td>NaN</td>\n",
              "      <td>NaN</td>\n",
              "      <td>NaN</td>\n",
              "    </tr>\n",
              "    <tr>\n",
              "      <th>5246</th>\n",
              "      <td>0</td>\n",
              "      <td>2500000.0</td>\n",
              "      <td>54.0</td>\n",
              "      <td>2017-10-13T00:00:00</td>\n",
              "      <td>2</td>\n",
              "      <td>27.0</td>\n",
              "      <td>5.0</td>\n",
              "      <td>30.0</td>\n",
              "      <td>3</td>\n",
              "      <td>False</td>\n",
              "      <td>...</td>\n",
              "      <td>9.0</td>\n",
              "      <td>2</td>\n",
              "      <td>деревня Мины</td>\n",
              "      <td>NaN</td>\n",
              "      <td>NaN</td>\n",
              "      <td>NaN</td>\n",
              "      <td>NaN</td>\n",
              "      <td>NaN</td>\n",
              "      <td>NaN</td>\n",
              "      <td>540.0</td>\n",
              "    </tr>\n",
              "    <tr>\n",
              "      <th>21377</th>\n",
              "      <td>19</td>\n",
              "      <td>4900000.0</td>\n",
              "      <td>42.0</td>\n",
              "      <td>2017-04-18T00:00:00</td>\n",
              "      <td>1</td>\n",
              "      <td>27.5</td>\n",
              "      <td>24.0</td>\n",
              "      <td>37.7</td>\n",
              "      <td>19</td>\n",
              "      <td>False</td>\n",
              "      <td>...</td>\n",
              "      <td>11.0</td>\n",
              "      <td>2</td>\n",
              "      <td>Санкт-Петербург</td>\n",
              "      <td>42742.0</td>\n",
              "      <td>9760.0</td>\n",
              "      <td>0.0</td>\n",
              "      <td>NaN</td>\n",
              "      <td>0.0</td>\n",
              "      <td>NaN</td>\n",
              "      <td>61.0</td>\n",
              "    </tr>\n",
              "    <tr>\n",
              "      <th>3148</th>\n",
              "      <td>14</td>\n",
              "      <td>2900000.0</td>\n",
              "      <td>75.0</td>\n",
              "      <td>2018-11-12T00:00:00</td>\n",
              "      <td>3</td>\n",
              "      <td>32.0</td>\n",
              "      <td>3.0</td>\n",
              "      <td>53.0</td>\n",
              "      <td>2</td>\n",
              "      <td>False</td>\n",
              "      <td>...</td>\n",
              "      <td>8.0</td>\n",
              "      <td>0</td>\n",
              "      <td>Волхов</td>\n",
              "      <td>NaN</td>\n",
              "      <td>NaN</td>\n",
              "      <td>NaN</td>\n",
              "      <td>NaN</td>\n",
              "      <td>NaN</td>\n",
              "      <td>NaN</td>\n",
              "      <td>NaN</td>\n",
              "    </tr>\n",
              "    <tr>\n",
              "      <th>22336</th>\n",
              "      <td>19</td>\n",
              "      <td>9999000.0</td>\n",
              "      <td>92.4</td>\n",
              "      <td>2019-04-05T00:00:00</td>\n",
              "      <td>2</td>\n",
              "      <td>32.0</td>\n",
              "      <td>6.0</td>\n",
              "      <td>55.5</td>\n",
              "      <td>5</td>\n",
              "      <td>False</td>\n",
              "      <td>...</td>\n",
              "      <td>16.5</td>\n",
              "      <td>4</td>\n",
              "      <td>Санкт-Петербург</td>\n",
              "      <td>18838.0</td>\n",
              "      <td>3506.0</td>\n",
              "      <td>0.0</td>\n",
              "      <td>NaN</td>\n",
              "      <td>3.0</td>\n",
              "      <td>511.0</td>\n",
              "      <td>NaN</td>\n",
              "    </tr>\n",
              "    <tr>\n",
              "      <th>22869</th>\n",
              "      <td>0</td>\n",
              "      <td>15000000.0</td>\n",
              "      <td>25.0</td>\n",
              "      <td>2018-07-25T00:00:00</td>\n",
              "      <td>1</td>\n",
              "      <td>100.0</td>\n",
              "      <td>5.0</td>\n",
              "      <td>14.0</td>\n",
              "      <td>5</td>\n",
              "      <td>True</td>\n",
              "      <td>...</td>\n",
              "      <td>11.0</td>\n",
              "      <td>5</td>\n",
              "      <td>Санкт-Петербург</td>\n",
              "      <td>34963.0</td>\n",
              "      <td>8283.0</td>\n",
              "      <td>1.0</td>\n",
              "      <td>223.0</td>\n",
              "      <td>3.0</td>\n",
              "      <td>30.0</td>\n",
              "      <td>19.0</td>\n",
              "    </tr>\n",
              "  </tbody>\n",
              "</table>\n",
              "<p>10 rows × 22 columns</p>\n",
              "</div>"
            ],
            "text/plain": [
              "       total_images  last_price  total_area first_day_exposition  rooms  \\\n",
              "22938            14   4000000.0        98.0  2018-03-15T00:00:00      4   \n",
              "20478            11   8000000.0        45.0  2017-07-18T00:00:00      1   \n",
              "10773             8   3800000.0        58.0  2017-10-13T00:00:00      2   \n",
              "4876              7   3000000.0        25.0  2017-09-27T00:00:00      0   \n",
              "21824            20   2450000.0        44.0  2019-02-12T00:00:00      2   \n",
              "5246              0   2500000.0        54.0  2017-10-13T00:00:00      2   \n",
              "21377            19   4900000.0        42.0  2017-04-18T00:00:00      1   \n",
              "3148             14   2900000.0        75.0  2018-11-12T00:00:00      3   \n",
              "22336            19   9999000.0        92.4  2019-04-05T00:00:00      2   \n",
              "22869             0  15000000.0        25.0  2018-07-25T00:00:00      1   \n",
              "\n",
              "       ceiling_height  floors_total  living_area  floor  is_apartment  ...  \\\n",
              "22938            27.0           2.0         73.0      2          True  ...   \n",
              "20478            27.0           4.0         22.0      2         False  ...   \n",
              "10773            27.0          10.0         30.1      3         False  ...   \n",
              "4876             27.0          25.0         17.0     17         False  ...   \n",
              "21824            27.0           2.0         38.0      2         False  ...   \n",
              "5246             27.0           5.0         30.0      3         False  ...   \n",
              "21377            27.5          24.0         37.7     19         False  ...   \n",
              "3148             32.0           3.0         53.0      2         False  ...   \n",
              "22336            32.0           6.0         55.5      5         False  ...   \n",
              "22869           100.0           5.0         14.0      5          True  ...   \n",
              "\n",
              "       kitchen_area  balcony                    locality_name  \\\n",
              "22938           9.0        1                   деревня Нижняя   \n",
              "20478          10.0        1                  Санкт-Петербург   \n",
              "10773           8.1        2                   посёлок Мурино   \n",
              "4876            NaN        2                   посёлок Мурино   \n",
              "21824           8.6        2  городской поселок Большая Ижора   \n",
              "5246            9.0        2                     деревня Мины   \n",
              "21377          11.0        2                  Санкт-Петербург   \n",
              "3148            8.0        0                           Волхов   \n",
              "22336          16.5        4                  Санкт-Петербург   \n",
              "22869          11.0        5                  Санкт-Петербург   \n",
              "\n",
              "       airports_nearest cityCenters_nearest  parks_around3000  parks_nearest  \\\n",
              "22938               NaN                 NaN               NaN            NaN   \n",
              "20478           18975.0              3246.0               0.0            NaN   \n",
              "10773               NaN                 NaN               NaN            NaN   \n",
              "4876                NaN                 NaN               NaN            NaN   \n",
              "21824               NaN                 NaN               NaN            NaN   \n",
              "5246                NaN                 NaN               NaN            NaN   \n",
              "21377           42742.0              9760.0               0.0            NaN   \n",
              "3148                NaN                 NaN               NaN            NaN   \n",
              "22336           18838.0              3506.0               0.0            NaN   \n",
              "22869           34963.0              8283.0               1.0          223.0   \n",
              "\n",
              "       ponds_around3000  ponds_nearest  days_exposition  \n",
              "22938               NaN            NaN             27.0  \n",
              "20478               3.0          449.0            429.0  \n",
              "10773               NaN            NaN             71.0  \n",
              "4876                NaN            NaN             28.0  \n",
              "21824               NaN            NaN              NaN  \n",
              "5246                NaN            NaN            540.0  \n",
              "21377               0.0            NaN             61.0  \n",
              "3148                NaN            NaN              NaN  \n",
              "22336               3.0          511.0              NaN  \n",
              "22869               3.0           30.0             19.0  \n",
              "\n",
              "[10 rows x 22 columns]"
            ]
          },
          "metadata": {}
        }
      ],
      "execution_count": 17
    },
    {
      "id": "d78d2f20",
      "cell_type": "markdown",
      "source": "Я тут оценила высоту потолков, решила, что не 30, не 100 потолков не бывает. Предположу, что это была опечатка, и нужно поделить на 10. При этом тот, который равен 100 наверно на самом деле 1.<br>\nМожет, конечно, я и ошибаюсь)))) лучше уточнить у заказчика",
      "metadata": {}
    },
    {
      "id": "ccc1116b",
      "cell_type": "code",
      "source": "rproperty[rproperty['ceiling_height']==100].sort_values(by = 'ceiling_height') # 100 is max",
      "metadata": {
        "scrolled": true,
        "trusted": true
      },
      "outputs": [
        {
          "execution_count": 18,
          "output_type": "execute_result",
          "data": {
            "text/html": [
              "<div>\n",
              "<style scoped>\n",
              "    .dataframe tbody tr th:only-of-type {\n",
              "        vertical-align: middle;\n",
              "    }\n",
              "\n",
              "    .dataframe tbody tr th {\n",
              "        vertical-align: top;\n",
              "    }\n",
              "\n",
              "    .dataframe thead th {\n",
              "        text-align: right;\n",
              "    }\n",
              "</style>\n",
              "<table border=\"1\" class=\"dataframe\">\n",
              "  <thead>\n",
              "    <tr style=\"text-align: right;\">\n",
              "      <th></th>\n",
              "      <th>total_images</th>\n",
              "      <th>last_price</th>\n",
              "      <th>total_area</th>\n",
              "      <th>first_day_exposition</th>\n",
              "      <th>rooms</th>\n",
              "      <th>ceiling_height</th>\n",
              "      <th>floors_total</th>\n",
              "      <th>living_area</th>\n",
              "      <th>floor</th>\n",
              "      <th>is_apartment</th>\n",
              "      <th>...</th>\n",
              "      <th>kitchen_area</th>\n",
              "      <th>balcony</th>\n",
              "      <th>locality_name</th>\n",
              "      <th>airports_nearest</th>\n",
              "      <th>cityCenters_nearest</th>\n",
              "      <th>parks_around3000</th>\n",
              "      <th>parks_nearest</th>\n",
              "      <th>ponds_around3000</th>\n",
              "      <th>ponds_nearest</th>\n",
              "      <th>days_exposition</th>\n",
              "    </tr>\n",
              "  </thead>\n",
              "  <tbody>\n",
              "    <tr>\n",
              "      <th>22869</th>\n",
              "      <td>0</td>\n",
              "      <td>15000000.0</td>\n",
              "      <td>25.0</td>\n",
              "      <td>2018-07-25T00:00:00</td>\n",
              "      <td>1</td>\n",
              "      <td>100.0</td>\n",
              "      <td>5.0</td>\n",
              "      <td>14.0</td>\n",
              "      <td>5</td>\n",
              "      <td>True</td>\n",
              "      <td>...</td>\n",
              "      <td>11.0</td>\n",
              "      <td>5</td>\n",
              "      <td>Санкт-Петербург</td>\n",
              "      <td>34963.0</td>\n",
              "      <td>8283.0</td>\n",
              "      <td>1.0</td>\n",
              "      <td>223.0</td>\n",
              "      <td>3.0</td>\n",
              "      <td>30.0</td>\n",
              "      <td>19.0</td>\n",
              "    </tr>\n",
              "  </tbody>\n",
              "</table>\n",
              "<p>1 rows × 22 columns</p>\n",
              "</div>"
            ],
            "text/plain": [
              "       total_images  last_price  total_area first_day_exposition  rooms  \\\n",
              "22869             0  15000000.0        25.0  2018-07-25T00:00:00      1   \n",
              "\n",
              "       ceiling_height  floors_total  living_area  floor  is_apartment  ...  \\\n",
              "22869           100.0           5.0         14.0      5          True  ...   \n",
              "\n",
              "       kitchen_area  balcony    locality_name  airports_nearest  \\\n",
              "22869          11.0        5  Санкт-Петербург           34963.0   \n",
              "\n",
              "      cityCenters_nearest  parks_around3000  parks_nearest  ponds_around3000  \\\n",
              "22869              8283.0               1.0          223.0               3.0   \n",
              "\n",
              "       ponds_nearest  days_exposition  \n",
              "22869           30.0             19.0  \n",
              "\n",
              "[1 rows x 22 columns]"
            ]
          },
          "metadata": {}
        }
      ],
      "execution_count": 18
    },
    {
      "id": "fcd793b8",
      "cell_type": "code",
      "source": "rproperty.loc[rproperty['ceiling_height']==100, 'ceiling_height'] = 1",
      "metadata": {
        "trusted": true
      },
      "outputs": [],
      "execution_count": 19
    },
    {
      "id": "7502fd8b",
      "cell_type": "code",
      "source": "rproperty['ceiling_height'].max()",
      "metadata": {
        "trusted": true
      },
      "outputs": [
        {
          "execution_count": 20,
          "output_type": "execute_result",
          "data": {
            "text/plain": [
              "32.0"
            ]
          },
          "metadata": {}
        }
      ],
      "execution_count": 20
    },
    {
      "id": "2ffed2c6",
      "cell_type": "markdown",
      "source": "проверили, он исчез. Теперь заменим двузначные значения\n<br>\nнапишем небольшую функцию, чтобы найти все значения больше 10 и поделить их на 10, чтобы перевести из двухзначных.",
      "metadata": {}
    },
    {
      "id": "5bc7da86",
      "cell_type": "code",
      "source": "def change_ceil(ceil):\n    \n    if ceil >= 10:\n        return ceil/10\n    else:\n        return ceil",
      "metadata": {
        "trusted": true
      },
      "outputs": [],
      "execution_count": 21
    },
    {
      "id": "5219437a",
      "cell_type": "code",
      "source": "rproperty['ceiling_height'] = rproperty['ceiling_height'].apply(change_ceil)",
      "metadata": {
        "trusted": true
      },
      "outputs": [],
      "execution_count": 22
    },
    {
      "id": "1c8eb957",
      "cell_type": "markdown",
      "source": "Теперь проверим, есть ли что-то больше 5",
      "metadata": {}
    },
    {
      "id": "5c4cde34",
      "cell_type": "code",
      "source": "rproperty[rproperty['ceiling_height']>=5].head(10)",
      "metadata": {
        "trusted": true
      },
      "outputs": [
        {
          "execution_count": 23,
          "output_type": "execute_result",
          "data": {
            "text/html": [
              "<div>\n",
              "<style scoped>\n",
              "    .dataframe tbody tr th:only-of-type {\n",
              "        vertical-align: middle;\n",
              "    }\n",
              "\n",
              "    .dataframe tbody tr th {\n",
              "        vertical-align: top;\n",
              "    }\n",
              "\n",
              "    .dataframe thead th {\n",
              "        text-align: right;\n",
              "    }\n",
              "</style>\n",
              "<table border=\"1\" class=\"dataframe\">\n",
              "  <thead>\n",
              "    <tr style=\"text-align: right;\">\n",
              "      <th></th>\n",
              "      <th>total_images</th>\n",
              "      <th>last_price</th>\n",
              "      <th>total_area</th>\n",
              "      <th>first_day_exposition</th>\n",
              "      <th>rooms</th>\n",
              "      <th>ceiling_height</th>\n",
              "      <th>floors_total</th>\n",
              "      <th>living_area</th>\n",
              "      <th>floor</th>\n",
              "      <th>is_apartment</th>\n",
              "      <th>...</th>\n",
              "      <th>kitchen_area</th>\n",
              "      <th>balcony</th>\n",
              "      <th>locality_name</th>\n",
              "      <th>airports_nearest</th>\n",
              "      <th>cityCenters_nearest</th>\n",
              "      <th>parks_around3000</th>\n",
              "      <th>parks_nearest</th>\n",
              "      <th>ponds_around3000</th>\n",
              "      <th>ponds_nearest</th>\n",
              "      <th>days_exposition</th>\n",
              "    </tr>\n",
              "  </thead>\n",
              "  <tbody>\n",
              "    <tr>\n",
              "      <th>464</th>\n",
              "      <td>15</td>\n",
              "      <td>66571000.0</td>\n",
              "      <td>280.3</td>\n",
              "      <td>2015-06-11T00:00:00</td>\n",
              "      <td>6</td>\n",
              "      <td>5.2</td>\n",
              "      <td>8.0</td>\n",
              "      <td>159.5</td>\n",
              "      <td>7</td>\n",
              "      <td>False</td>\n",
              "      <td>...</td>\n",
              "      <td>21.1</td>\n",
              "      <td>0</td>\n",
              "      <td>Санкт-Петербург</td>\n",
              "      <td>26316.0</td>\n",
              "      <td>6655.0</td>\n",
              "      <td>3.0</td>\n",
              "      <td>187.0</td>\n",
              "      <td>1.0</td>\n",
              "      <td>616.0</td>\n",
              "      <td>578.0</td>\n",
              "    </tr>\n",
              "    <tr>\n",
              "      <th>1026</th>\n",
              "      <td>20</td>\n",
              "      <td>155000000.0</td>\n",
              "      <td>310.0</td>\n",
              "      <td>2018-10-12T00:00:00</td>\n",
              "      <td>5</td>\n",
              "      <td>5.3</td>\n",
              "      <td>3.0</td>\n",
              "      <td>190.0</td>\n",
              "      <td>3</td>\n",
              "      <td>False</td>\n",
              "      <td>...</td>\n",
              "      <td>63.0</td>\n",
              "      <td>2</td>\n",
              "      <td>Санкт-Петербург</td>\n",
              "      <td>24899.0</td>\n",
              "      <td>4785.0</td>\n",
              "      <td>0.0</td>\n",
              "      <td>NaN</td>\n",
              "      <td>1.0</td>\n",
              "      <td>603.0</td>\n",
              "      <td>NaN</td>\n",
              "    </tr>\n",
              "    <tr>\n",
              "      <th>1053</th>\n",
              "      <td>13</td>\n",
              "      <td>550000.0</td>\n",
              "      <td>29.0</td>\n",
              "      <td>2018-02-01T00:00:00</td>\n",
              "      <td>1</td>\n",
              "      <td>5.0</td>\n",
              "      <td>3.0</td>\n",
              "      <td>NaN</td>\n",
              "      <td>1</td>\n",
              "      <td>False</td>\n",
              "      <td>...</td>\n",
              "      <td>NaN</td>\n",
              "      <td>0</td>\n",
              "      <td>Бокситогорск</td>\n",
              "      <td>NaN</td>\n",
              "      <td>NaN</td>\n",
              "      <td>NaN</td>\n",
              "      <td>NaN</td>\n",
              "      <td>NaN</td>\n",
              "      <td>NaN</td>\n",
              "      <td>6.0</td>\n",
              "    </tr>\n",
              "    <tr>\n",
              "      <th>1388</th>\n",
              "      <td>20</td>\n",
              "      <td>59800000.0</td>\n",
              "      <td>399.0</td>\n",
              "      <td>2015-01-21T00:00:00</td>\n",
              "      <td>5</td>\n",
              "      <td>5.6</td>\n",
              "      <td>6.0</td>\n",
              "      <td>NaN</td>\n",
              "      <td>6</td>\n",
              "      <td>False</td>\n",
              "      <td>...</td>\n",
              "      <td>NaN</td>\n",
              "      <td>0</td>\n",
              "      <td>Санкт-Петербург</td>\n",
              "      <td>26204.0</td>\n",
              "      <td>6934.0</td>\n",
              "      <td>2.0</td>\n",
              "      <td>149.0</td>\n",
              "      <td>2.0</td>\n",
              "      <td>577.0</td>\n",
              "      <td>719.0</td>\n",
              "    </tr>\n",
              "    <tr>\n",
              "      <th>3474</th>\n",
              "      <td>3</td>\n",
              "      <td>1400000.0</td>\n",
              "      <td>30.0</td>\n",
              "      <td>2018-03-16T00:00:00</td>\n",
              "      <td>1</td>\n",
              "      <td>8.0</td>\n",
              "      <td>5.0</td>\n",
              "      <td>15.3</td>\n",
              "      <td>2</td>\n",
              "      <td>False</td>\n",
              "      <td>...</td>\n",
              "      <td>7.3</td>\n",
              "      <td>0</td>\n",
              "      <td>деревня Нурма</td>\n",
              "      <td>NaN</td>\n",
              "      <td>NaN</td>\n",
              "      <td>NaN</td>\n",
              "      <td>NaN</td>\n",
              "      <td>NaN</td>\n",
              "      <td>NaN</td>\n",
              "      <td>125.0</td>\n",
              "    </tr>\n",
              "    <tr>\n",
              "      <th>5863</th>\n",
              "      <td>20</td>\n",
              "      <td>5650000.0</td>\n",
              "      <td>45.0</td>\n",
              "      <td>2018-08-15T00:00:00</td>\n",
              "      <td>1</td>\n",
              "      <td>8.3</td>\n",
              "      <td>16.0</td>\n",
              "      <td>19.3</td>\n",
              "      <td>14</td>\n",
              "      <td>False</td>\n",
              "      <td>...</td>\n",
              "      <td>8.3</td>\n",
              "      <td>1</td>\n",
              "      <td>Санкт-Петербург</td>\n",
              "      <td>13069.0</td>\n",
              "      <td>10763.0</td>\n",
              "      <td>0.0</td>\n",
              "      <td>NaN</td>\n",
              "      <td>1.0</td>\n",
              "      <td>613.0</td>\n",
              "      <td>14.0</td>\n",
              "    </tr>\n",
              "    <tr>\n",
              "      <th>7578</th>\n",
              "      <td>17</td>\n",
              "      <td>38000000.0</td>\n",
              "      <td>143.0</td>\n",
              "      <td>2017-11-02T00:00:00</td>\n",
              "      <td>3</td>\n",
              "      <td>5.5</td>\n",
              "      <td>5.0</td>\n",
              "      <td>83.0</td>\n",
              "      <td>5</td>\n",
              "      <td>False</td>\n",
              "      <td>...</td>\n",
              "      <td>29.0</td>\n",
              "      <td>1</td>\n",
              "      <td>Санкт-Петербург</td>\n",
              "      <td>26333.0</td>\n",
              "      <td>6448.0</td>\n",
              "      <td>3.0</td>\n",
              "      <td>479.0</td>\n",
              "      <td>0.0</td>\n",
              "      <td>NaN</td>\n",
              "      <td>NaN</td>\n",
              "    </tr>\n",
              "    <tr>\n",
              "      <th>12628</th>\n",
              "      <td>14</td>\n",
              "      <td>3900000.0</td>\n",
              "      <td>50.0</td>\n",
              "      <td>2018-03-29T00:00:00</td>\n",
              "      <td>1</td>\n",
              "      <td>5.3</td>\n",
              "      <td>5.0</td>\n",
              "      <td>NaN</td>\n",
              "      <td>5</td>\n",
              "      <td>False</td>\n",
              "      <td>...</td>\n",
              "      <td>NaN</td>\n",
              "      <td>0</td>\n",
              "      <td>Санкт-Петербург</td>\n",
              "      <td>19644.0</td>\n",
              "      <td>3918.0</td>\n",
              "      <td>1.0</td>\n",
              "      <td>505.0</td>\n",
              "      <td>1.0</td>\n",
              "      <td>92.0</td>\n",
              "      <td>8.0</td>\n",
              "    </tr>\n",
              "    <tr>\n",
              "      <th>15743</th>\n",
              "      <td>14</td>\n",
              "      <td>5600000.0</td>\n",
              "      <td>67.0</td>\n",
              "      <td>2016-11-11T00:00:00</td>\n",
              "      <td>3</td>\n",
              "      <td>8.0</td>\n",
              "      <td>16.0</td>\n",
              "      <td>41.0</td>\n",
              "      <td>1</td>\n",
              "      <td>False</td>\n",
              "      <td>...</td>\n",
              "      <td>8.0</td>\n",
              "      <td>0</td>\n",
              "      <td>Санкт-Петербург</td>\n",
              "      <td>32691.0</td>\n",
              "      <td>11035.0</td>\n",
              "      <td>1.0</td>\n",
              "      <td>723.0</td>\n",
              "      <td>0.0</td>\n",
              "      <td>NaN</td>\n",
              "      <td>474.0</td>\n",
              "    </tr>\n",
              "    <tr>\n",
              "      <th>17442</th>\n",
              "      <td>0</td>\n",
              "      <td>5350000.0</td>\n",
              "      <td>54.0</td>\n",
              "      <td>2015-06-16T00:00:00</td>\n",
              "      <td>2</td>\n",
              "      <td>8.0</td>\n",
              "      <td>5.0</td>\n",
              "      <td>29.0</td>\n",
              "      <td>2</td>\n",
              "      <td>False</td>\n",
              "      <td>...</td>\n",
              "      <td>NaN</td>\n",
              "      <td>1</td>\n",
              "      <td>Красное Село</td>\n",
              "      <td>24638.0</td>\n",
              "      <td>28062.0</td>\n",
              "      <td>0.0</td>\n",
              "      <td>NaN</td>\n",
              "      <td>0.0</td>\n",
              "      <td>NaN</td>\n",
              "      <td>469.0</td>\n",
              "    </tr>\n",
              "  </tbody>\n",
              "</table>\n",
              "<p>10 rows × 22 columns</p>\n",
              "</div>"
            ],
            "text/plain": [
              "       total_images   last_price  total_area first_day_exposition  rooms  \\\n",
              "464              15   66571000.0       280.3  2015-06-11T00:00:00      6   \n",
              "1026             20  155000000.0       310.0  2018-10-12T00:00:00      5   \n",
              "1053             13     550000.0        29.0  2018-02-01T00:00:00      1   \n",
              "1388             20   59800000.0       399.0  2015-01-21T00:00:00      5   \n",
              "3474              3    1400000.0        30.0  2018-03-16T00:00:00      1   \n",
              "5863             20    5650000.0        45.0  2018-08-15T00:00:00      1   \n",
              "7578             17   38000000.0       143.0  2017-11-02T00:00:00      3   \n",
              "12628            14    3900000.0        50.0  2018-03-29T00:00:00      1   \n",
              "15743            14    5600000.0        67.0  2016-11-11T00:00:00      3   \n",
              "17442             0    5350000.0        54.0  2015-06-16T00:00:00      2   \n",
              "\n",
              "       ceiling_height  floors_total  living_area  floor  is_apartment  ...  \\\n",
              "464               5.2           8.0        159.5      7         False  ...   \n",
              "1026              5.3           3.0        190.0      3         False  ...   \n",
              "1053              5.0           3.0          NaN      1         False  ...   \n",
              "1388              5.6           6.0          NaN      6         False  ...   \n",
              "3474              8.0           5.0         15.3      2         False  ...   \n",
              "5863              8.3          16.0         19.3     14         False  ...   \n",
              "7578              5.5           5.0         83.0      5         False  ...   \n",
              "12628             5.3           5.0          NaN      5         False  ...   \n",
              "15743             8.0          16.0         41.0      1         False  ...   \n",
              "17442             8.0           5.0         29.0      2         False  ...   \n",
              "\n",
              "       kitchen_area  balcony    locality_name  airports_nearest  \\\n",
              "464            21.1        0  Санкт-Петербург           26316.0   \n",
              "1026           63.0        2  Санкт-Петербург           24899.0   \n",
              "1053            NaN        0     Бокситогорск               NaN   \n",
              "1388            NaN        0  Санкт-Петербург           26204.0   \n",
              "3474            7.3        0    деревня Нурма               NaN   \n",
              "5863            8.3        1  Санкт-Петербург           13069.0   \n",
              "7578           29.0        1  Санкт-Петербург           26333.0   \n",
              "12628           NaN        0  Санкт-Петербург           19644.0   \n",
              "15743           8.0        0  Санкт-Петербург           32691.0   \n",
              "17442           NaN        1     Красное Село           24638.0   \n",
              "\n",
              "      cityCenters_nearest  parks_around3000  parks_nearest  ponds_around3000  \\\n",
              "464                6655.0               3.0          187.0               1.0   \n",
              "1026               4785.0               0.0            NaN               1.0   \n",
              "1053                  NaN               NaN            NaN               NaN   \n",
              "1388               6934.0               2.0          149.0               2.0   \n",
              "3474                  NaN               NaN            NaN               NaN   \n",
              "5863              10763.0               0.0            NaN               1.0   \n",
              "7578               6448.0               3.0          479.0               0.0   \n",
              "12628              3918.0               1.0          505.0               1.0   \n",
              "15743             11035.0               1.0          723.0               0.0   \n",
              "17442             28062.0               0.0            NaN               0.0   \n",
              "\n",
              "       ponds_nearest  days_exposition  \n",
              "464            616.0            578.0  \n",
              "1026           603.0              NaN  \n",
              "1053             NaN              6.0  \n",
              "1388           577.0            719.0  \n",
              "3474             NaN            125.0  \n",
              "5863           613.0             14.0  \n",
              "7578             NaN              NaN  \n",
              "12628           92.0              8.0  \n",
              "15743            NaN            474.0  \n",
              "17442            NaN            469.0  \n",
              "\n",
              "[10 rows x 22 columns]"
            ]
          },
          "metadata": {}
        }
      ],
      "execution_count": 23
    },
    {
      "id": "02464f10",
      "cell_type": "markdown",
      "source": "Оказалось есть 10 таких значений, они мне кажутся криповыми, но мало ли что бывает в жизни:)) оставляем",
      "metadata": {}
    },
    {
      "id": "63f53557",
      "cell_type": "markdown",
      "source": "***",
      "metadata": {}
    },
    {
      "id": "4b93aded",
      "cell_type": "markdown",
      "source": "### cityCenters_nearest, airports_nearest ",
      "metadata": {}
    },
    {
      "id": "d1d5051e",
      "cell_type": "code",
      "source": "#rproperty['cityCenters_nearest'].value_counts()",
      "metadata": {
        "trusted": true
      },
      "outputs": [],
      "execution_count": 24
    },
    {
      "id": "8c01e7e8",
      "cell_type": "code",
      "source": "#rproperty['airports_nearest'].value_counts()",
      "metadata": {
        "trusted": true
      },
      "outputs": [],
      "execution_count": 25
    },
    {
      "id": "46ef5ffe",
      "cell_type": "code",
      "source": "#rproperty['locality_name'].value_counts()",
      "metadata": {
        "trusted": true
      },
      "outputs": [],
      "execution_count": 26
    },
    {
      "id": "058e6361",
      "cell_type": "markdown",
      "source": "В общем и целом можно заморочиться и написать функцию, которая проверит locality_name для столбцов cityCenters_nearest и airports_nearest. То есть, если есть значение для этого же места в других строках, то присвоить им это среднее среди них значение. Нулевые не трогать, чтобы не переместить эти квартиры вблизи аэропортов и в самый центр. Но это немного ту мач, поэтому лучше уточнить у заказчика.",
      "metadata": {}
    },
    {
      "id": "9284264d",
      "cell_type": "markdown",
      "source": "***",
      "metadata": {}
    },
    {
      "id": "8d8c3354",
      "cell_type": "markdown",
      "source": "### days_exposition",
      "metadata": {}
    },
    {
      "id": "41ffdcbd",
      "cell_type": "markdown",
      "source": "days_exposition средним не заменить, заменим на 0, в будущем помня это, но это нужно для замены на челочисленный тип",
      "metadata": {}
    },
    {
      "id": "ff1031df",
      "cell_type": "code",
      "source": "rproperty['days_exposition'] = rproperty['days_exposition'].fillna(0).astype('int')",
      "metadata": {
        "trusted": true
      },
      "outputs": [],
      "execution_count": 27
    },
    {
      "id": "7856a58c",
      "cell_type": "markdown",
      "source": "<div class=\"alert alert-warning\">\nМы можем заполнять данные нулями только когда данные пропущены совершенно случайно (MCAR https://robotdreams.cc/blog/103-chto-takoe-propuski-dannyh-i-kak-s-nimi-rabotat, https://publications.hse.ru/mirror/pubs/share/folder/21tn35z9vl/direct/92272011) - тогда заполнение не повлияет на характер связи между заполняемой переменной и остальными. Можно проанализировать распределение пропусков в данном столбце во времени относительно дня выставления квартиры на продажу, чтобы понять, являются ли пропуски случайными и можем ли мы их заполнить нулями.",
      "metadata": {}
    },
    {
      "id": "2a32e56f",
      "cell_type": "markdown",
      "source": "***",
      "metadata": {}
    },
    {
      "id": "ca12ee5b",
      "cell_type": "markdown",
      "source": "### first_day_exposition",
      "metadata": {}
    },
    {
      "id": "681cdebf",
      "cell_type": "markdown",
      "source": "Теперь поменяет тип для даты публикации, плюс уберем время, так как оно не указано",
      "metadata": {}
    },
    {
      "id": "efca3570",
      "cell_type": "code",
      "source": "rproperty['first_day_exposition'] = pd.to_datetime(rproperty['first_day_exposition'], format = '%Y-%m-%d')",
      "metadata": {
        "trusted": true
      },
      "outputs": [],
      "execution_count": 28
    },
    {
      "id": "92ca624b",
      "cell_type": "markdown",
      "source": "***",
      "metadata": {}
    },
    {
      "id": "e912f093",
      "cell_type": "markdown",
      "source": "### last_price",
      "metadata": {}
    },
    {
      "id": "cf0384e4",
      "cell_type": "markdown",
      "source": "Можно еще цену перевести в целые, а то неудобно смотреть",
      "metadata": {}
    },
    {
      "id": "9bf121c9",
      "cell_type": "code",
      "source": "rproperty['last_price'] = rproperty['last_price'].astype('int')",
      "metadata": {
        "trusted": true
      },
      "outputs": [],
      "execution_count": 29
    },
    {
      "id": "c8b29ca5",
      "cell_type": "markdown",
      "source": "<div class=\"alert alert-warning\">\nМожно еще заменить тип данных у площадей с float64 на float32 для экономии памяти",
      "metadata": {}
    },
    {
      "id": "5e5cf84d",
      "cell_type": "markdown",
      "source": "***",
      "metadata": {}
    },
    {
      "id": "a44937dd",
      "cell_type": "markdown",
      "source": "## Шаг 3. Посчитайте и добавьте в таблицу",
      "metadata": {}
    },
    {
      "id": "e77f49f1",
      "cell_type": "markdown",
      "source": "\n- цену квадратного метра;\n- день недели, месяц и год публикации объявления;\n- этаж квартиры; варианты — первый, последний, другой;\n- соотношение жилой и общей площади, а также отношение площади кухни к общей.",
      "metadata": {}
    },
    {
      "id": "65f20a10",
      "cell_type": "markdown",
      "source": "### Считаем цену квадратного метра и можно сделать целым как и цену выше.",
      "metadata": {}
    },
    {
      "id": "62e676ee",
      "cell_type": "code",
      "source": "rproperty['price_per_square_meter'] = rproperty['last_price'] / rproperty['total_area']\nrproperty['price_per_square_meter'] = rproperty['price_per_square_meter'].astype('int')",
      "metadata": {
        "trusted": true
      },
      "outputs": [],
      "execution_count": 30
    },
    {
      "id": "6d5efbc4",
      "cell_type": "markdown",
      "source": "### Создаем столбец для дня недели. В самом начадле импортировали datetime.",
      "metadata": {}
    },
    {
      "id": "93b5bcfb",
      "cell_type": "code",
      "source": "rproperty['weekday_exposition'] = rproperty['first_day_exposition'].dt.weekday",
      "metadata": {
        "trusted": true
      },
      "outputs": [],
      "execution_count": 31
    },
    {
      "id": "c8bc7cfe",
      "cell_type": "markdown",
      "source": "### Создем столбец для месяца.",
      "metadata": {}
    },
    {
      "id": "f0b3bf8e",
      "cell_type": "code",
      "source": "rproperty['month_exposition'] = rproperty['first_day_exposition'].dt.month",
      "metadata": {
        "trusted": true
      },
      "outputs": [],
      "execution_count": 32
    },
    {
      "id": "f91634aa",
      "cell_type": "markdown",
      "source": "<div class=\"alert alert-warning\">\nОбычно в датафреймах содержатся данные за несколько лет. Важно выбрать корректный метод для вычленения месяца, иначе месяца разных годов могут стать одним месяцем (метод month может привести к ошибке).   \nМетод astype('datetime64[M]'). Для его использования не нужно обращаться к pd.DatetimeIndex. В данной работе нам не нужно разделять месяца разных годов.",
      "metadata": {}
    },
    {
      "id": "77c2a7fa",
      "cell_type": "markdown",
      "source": "### Создаем столбец для года.",
      "metadata": {}
    },
    {
      "id": "67171c4b",
      "cell_type": "code",
      "source": "rproperty['year_exposition'] = rproperty['first_day_exposition'].dt.year",
      "metadata": {
        "trusted": true
      },
      "outputs": [],
      "execution_count": 33
    },
    {
      "id": "25a6d010",
      "cell_type": "markdown",
      "source": "***",
      "metadata": {}
    },
    {
      "id": "81b0417b",
      "cell_type": "markdown",
      "source": "Для того, чтобы создать столбец с определением типа этажа квартиры, напишем функцию категоризации и затем применим методом apply.",
      "metadata": {}
    },
    {
      "id": "c18dfe0b",
      "cell_type": "code",
      "source": "def floor_group(row):\n    floor = row['floor']\n    floors_total = row['floors_total']\n    if floor == 1:\n        return 'первый'\n    elif floor == floors_total:\n        return 'последний'\n    elif 1 < floor < floors_total:\n        return 'другой'",
      "metadata": {
        "trusted": true
      },
      "outputs": [],
      "execution_count": 34
    },
    {
      "id": "8f7d01c0",
      "cell_type": "markdown",
      "source": "### Тип этажа",
      "metadata": {}
    },
    {
      "id": "e021069e",
      "cell_type": "code",
      "source": "rproperty['floor_group'] = rproperty.apply(floor_group, axis = 1)",
      "metadata": {
        "trusted": true
      },
      "outputs": [],
      "execution_count": 35
    },
    {
      "id": "e5e42f12",
      "cell_type": "code",
      "source": "rproperty['floor_group'].value_counts()",
      "metadata": {
        "trusted": true
      },
      "outputs": [
        {
          "execution_count": 36,
          "output_type": "execute_result",
          "data": {
            "text/plain": [
              "другой       17363\n",
              "последний     3336\n",
              "первый        2917\n",
              "Name: floor_group, dtype: int64"
            ]
          },
          "metadata": {}
        }
      ],
      "execution_count": 36
    },
    {
      "id": "6347f48c",
      "cell_type": "markdown",
      "source": "***",
      "metadata": {}
    },
    {
      "id": "3dc99bc1",
      "cell_type": "markdown",
      "source": "### Считаем соотношение жилой и общей площад.",
      "metadata": {}
    },
    {
      "id": "651facbb",
      "cell_type": "code",
      "source": "rproperty['area_ratio'] = rproperty['living_area'] / rproperty['total_area']",
      "metadata": {
        "trusted": true
      },
      "outputs": [],
      "execution_count": 37
    },
    {
      "id": "79cd7e6c",
      "cell_type": "markdown",
      "source": "### Считаем  отношение площади кухни к общей.",
      "metadata": {}
    },
    {
      "id": "218e17e8",
      "cell_type": "code",
      "source": "rproperty['kitchen_area_ratio'] = rproperty['kitchen_area'] / rproperty['total_area']",
      "metadata": {
        "trusted": true
      },
      "outputs": [],
      "execution_count": 38
    },
    {
      "id": "1bd9f983",
      "cell_type": "markdown",
      "source": "***",
      "metadata": {}
    },
    {
      "id": "bda67701",
      "cell_type": "markdown",
      "source": "## Шаг 4. Проведите исследовательский анализ данных и выполните инструкции",
      "metadata": {}
    },
    {
      "id": "769bcf3f",
      "cell_type": "markdown",
      "source": "Изучите следующие параметры: площадь, цена, число комнат, высота потолков. Постройте гистограммы для каждого параметра.",
      "metadata": {}
    },
    {
      "id": "4f8717b6",
      "cell_type": "markdown",
      "source": "### Изучаем данные по площади, цене, числу комнат, высоте потолков.",
      "metadata": {}
    },
    {
      "id": "23e163df",
      "cell_type": "code",
      "source": "rproperty.plot(y = 'total_area', kind = 'hist',ec='black', bins = 70, grid=True, figsize = (9,4), range = (0,250))\nrproperty['total_area'].describe()",
      "metadata": {
        "trusted": true
      },
      "outputs": [
        {
          "execution_count": 39,
          "output_type": "execute_result",
          "data": {
            "text/plain": [
              "count    23699.000000\n",
              "mean        60.348651\n",
              "std         35.654083\n",
              "min         12.000000\n",
              "25%         40.000000\n",
              "50%         52.000000\n",
              "75%         69.900000\n",
              "max        900.000000\n",
              "Name: total_area, dtype: float64"
            ]
          },
          "metadata": {}
        },
        {
          "output_type": "display_data",
          "data": {
            "image/png": "[encoded data removed]",
            "text/plain": [
              "<Figure size 648x288 with 1 Axes>"
            ]
          },
          "metadata": {
            "needs_background": "light"
          }
        }
      ],
      "execution_count": 39
    },
    {
      "id": "f717bd11",
      "cell_type": "markdown",
      "source": "распреление частично можно назвать нормальным (Гаусса), однако наблюдается экспоненциальное убывание после примерно 70, что вероятно связано с выбросами. Особенно примечательно максимальное значение 900. Но на само распределение это не влияет.\nТакже явно выражен пик частоты встречаемости в районе 48 м2.",
      "metadata": {}
    },
    {
      "id": "4e92bb14",
      "cell_type": "code",
      "source": "rproperty.plot(y = 'last_price', kind = 'hist',ec='black', bins = 15, grid=True, range = (0,15000000), figsize = (8,4))\nrproperty['last_price'].describe()",
      "metadata": {
        "scrolled": true,
        "trusted": true
      },
      "outputs": [
        {
          "execution_count": 40,
          "output_type": "execute_result",
          "data": {
            "text/plain": [
              "count    2.369900e+04\n",
              "mean     6.541549e+06\n",
              "std      1.088701e+07\n",
              "min      1.219000e+04\n",
              "25%      3.400000e+06\n",
              "50%      4.650000e+06\n",
              "75%      6.800000e+06\n",
              "max      7.630000e+08\n",
              "Name: last_price, dtype: float64"
            ]
          },
          "metadata": {}
        },
        {
          "output_type": "display_data",
          "data": {
            "image/png": "[encoded data removed]",
            "text/plain": [
              "<Figure size 576x288 with 1 Axes>"
            ]
          },
          "metadata": {
            "needs_background": "light"
          }
        }
      ],
      "execution_count": 40
    },
    {
      "id": "83d934ed",
      "cell_type": "markdown",
      "source": "Распределение цен нормальное, особенно если взять ограничение до 1.5*10^6. Однако также присутствуют единичные значения,выраженные в экспоненциальном убывании графика.",
      "metadata": {}
    },
    {
      "id": "ee8d7741",
      "cell_type": "code",
      "source": "rproperty.plot(y = 'rooms', kind = 'hist',ec='black', range =(0,10), bins = 24, grid=True, figsize = (8,4))\nrproperty['rooms'].describe()",
      "metadata": {
        "trusted": true
      },
      "outputs": [
        {
          "execution_count": 41,
          "output_type": "execute_result",
          "data": {
            "text/plain": [
              "count    23699.000000\n",
              "mean         2.070636\n",
              "std          1.078405\n",
              "min          0.000000\n",
              "25%          1.000000\n",
              "50%          2.000000\n",
              "75%          3.000000\n",
              "max         19.000000\n",
              "Name: rooms, dtype: float64"
            ]
          },
          "metadata": {}
        },
        {
          "output_type": "display_data",
          "data": {
            "image/png": "[encoded data removed]",
            "text/plain": [
              "<Figure size 576x288 with 1 Axes>"
            ]
          },
          "metadata": {
            "needs_background": "light"
          }
        }
      ],
      "execution_count": 41
    },
    {
      "id": "31f7c3cd",
      "cell_type": "markdown",
      "source": "приблизительно модно считать распределение количества комнат нормальным. Однако наблюдается довольно странное максимальное значение - 19 комнат, больше похоже на опечатку, хотя может эти те самые 900 м2...<br>\nСамое странное это наличие 0 комнат, предполагаю, что это ошибка зполнения.<br>\nВидно, что преобладают 1 и 2х комнатные квартиры,неного реже встречаются 3х комнатные.",
      "metadata": {}
    },
    {
      "id": "fd3bc9c9",
      "cell_type": "code",
      "source": "rproperty.plot(y = 'ceiling_height', kind = 'hist',ec='black', bins = 10, range = (2,5), grid=True, figsize = (8,4))\nrproperty['ceiling_height'].describe()",
      "metadata": {
        "trusted": true
      },
      "outputs": [
        {
          "execution_count": 42,
          "output_type": "execute_result",
          "data": {
            "text/plain": [
              "count    14504.000000\n",
              "mean         2.727479\n",
              "std          0.294061\n",
              "min          1.000000\n",
              "25%          2.510000\n",
              "50%          2.650000\n",
              "75%          2.800000\n",
              "max          8.300000\n",
              "Name: ceiling_height, dtype: float64"
            ]
          },
          "metadata": {}
        },
        {
          "output_type": "display_data",
          "data": {
            "image/png": "[encoded data removed]",
            "text/plain": [
              "<Figure size 576x288 with 1 Axes>"
            ]
          },
          "metadata": {
            "needs_background": "light"
          }
        }
      ],
      "execution_count": 42
    },
    {
      "id": "82be5207",
      "cell_type": "markdown",
      "source": "Видно преобладание значений высот потолков в районе среднего значения, на удивление мало потолко ниже 2.3 м.",
      "metadata": {}
    },
    {
      "id": "761bbe2a",
      "cell_type": "markdown",
      "source": "**Общий вывод**\n1. Распределение площадей: преобладающая часть квартир имеет метраж от 30 до 80 м2, пик приходится на 48 м2. Присутствуют единичные выбросы до 900 м2.\n2. Распределение цен: цена на квартиры в среднем от 2 до 8 млн. Однако есть цены выше и ниже. С максимальным выбросов почти в млрд.\n3. Распределение по количеству комнат: больше половины квартир имеют 1 или 2 комнаты, около 20-30% имеют 3 комнаты. Остальных гораздо меньше. \n4. Распределение по высоте потолков: преобладающая высотка потолков в районе 2.4-2,9 м, есть также случаи до 4 м- гораздо меньше,на удивление мало потолко ниже 2.3 м. Максимальное значение до 8.3 м.",
      "metadata": {}
    },
    {
      "id": "59bc053c",
      "cell_type": "markdown",
      "source": "***",
      "metadata": {}
    },
    {
      "id": "0a315341",
      "cell_type": "markdown",
      "source": "### Изучаем время продажи квартиры. ",
      "metadata": {}
    },
    {
      "id": "7077ab8f",
      "cell_type": "code",
      "source": "rproperty.plot(y = 'days_exposition', kind = 'hist', ec='black', bins = 50, grid = True, range = (1,1600),figsize = (8,4))\n\n#среднее значение, медиана(50%) \nrproperty[rproperty['days_exposition']!=0]['days_exposition'].describe()# нули не рассматриваем, т.к. так и не знаем причину\n#rproperty['days_exposition'].mean()\n#rproperty['days_exposition'].median()",
      "metadata": {
        "scrolled": true,
        "trusted": true
      },
      "outputs": [
        {
          "execution_count": 43,
          "output_type": "execute_result",
          "data": {
            "text/plain": [
              "count    20518.000000\n",
              "mean       180.888634\n",
              "std        219.727988\n",
              "min          1.000000\n",
              "25%         45.000000\n",
              "50%         95.000000\n",
              "75%        232.000000\n",
              "max       1580.000000\n",
              "Name: days_exposition, dtype: float64"
            ]
          },
          "metadata": {}
        },
        {
          "output_type": "display_data",
          "data": {
            "image/png": "[encoded data removed]",
            "text/plain": [
              "<Figure size 576x288 with 1 Axes>"
            ]
          },
          "metadata": {
            "needs_background": "light"
          }
        }
      ],
      "execution_count": 43
    },
    {
      "id": "36db9981",
      "cell_type": "markdown",
      "source": "1. Распределение близко к лог нормальному или Пуассона.\n2. Среднее время продажи квартир = 180 дней (пол года), медианное - 95 дней.\n3. Большое количество продалось достаточно быстро - за 45 дней.\n4. Максимальное количество дней продажи составляло около 5 лет, я все также думаю, что это ошибка. Однако это может быть связано с высокой стоимостью.",
      "metadata": {}
    },
    {
      "id": "43d36611",
      "cell_type": "markdown",
      "source": "***",
      "metadata": {}
    },
    {
      "id": "13e188a2",
      "cell_type": "markdown",
      "source": "### Убираем редкие и выбивающиеся значения.<br>\nДля этого построим диаграмму размаха.",
      "metadata": {}
    },
    {
      "id": "23fa9f02",
      "cell_type": "code",
      "source": "rproperty.boxplot(column='days_exposition')",
      "metadata": {
        "trusted": true
      },
      "outputs": [
        {
          "execution_count": 44,
          "output_type": "execute_result",
          "data": {
            "text/plain": [
              "<AxesSubplot:>"
            ]
          },
          "metadata": {}
        },
        {
          "output_type": "display_data",
          "data": {
            "image/png": "[encoded data removed]",
            "text/plain": [
              "<Figure size 432x288 with 1 Axes>"
            ]
          },
          "metadata": {
            "needs_background": "light"
          }
        }
      ],
      "execution_count": 44
    },
    {
      "id": "67dd1756",
      "cell_type": "markdown",
      "source": "Я считаю, что значения более 450 дней ,можно убрать. Наблюдается смещение медианы внутри межквартильного размаха в сторону Q1.",
      "metadata": {}
    },
    {
      "id": "7e824333",
      "cell_type": "code",
      "source": "rproperty.query('days_exposition<450 and days_exposition!=0')['days_exposition'].hist(bins=100, figsize=(8,5), ec='black')",
      "metadata": {
        "trusted": true
      },
      "outputs": [
        {
          "execution_count": 45,
          "output_type": "execute_result",
          "data": {
            "text/plain": [
              "<AxesSubplot:>"
            ]
          },
          "metadata": {}
        },
        {
          "output_type": "display_data",
          "data": {
            "image/png": "[encoded data removed]",
            "text/plain": [
              "<Figure size 576x360 with 1 Axes>"
            ]
          },
          "metadata": {
            "needs_background": "light"
          }
        }
      ],
      "execution_count": 45
    },
    {
      "id": "2c69e04f",
      "cell_type": "markdown",
      "source": "в целом ситуация не поменялась, график такой же экспоненциально спадающий, но есть два пиковых значения. можно уточнить когда именно это происходило.",
      "metadata": {}
    },
    {
      "id": "cbb786e0",
      "cell_type": "code",
      "source": "rproperty.plot(y = 'days_exposition', kind = 'hist', bins = 100,figsize=(8,3), grid = True, range = (40,100),ec='black')",
      "metadata": {
        "trusted": true
      },
      "outputs": [
        {
          "execution_count": 46,
          "output_type": "execute_result",
          "data": {
            "text/plain": [
              "<AxesSubplot:ylabel='Frequency'>"
            ]
          },
          "metadata": {}
        },
        {
          "output_type": "display_data",
          "data": {
            "image/png": "[encoded data removed]",
            "text/plain": [
              "<Figure size 576x216 with 1 Axes>"
            ]
          },
          "metadata": {
            "needs_background": "light"
          }
        }
      ],
      "execution_count": 46
    },
    {
      "id": "c533d2e2",
      "cell_type": "markdown",
      "source": "Итак, самый большие значения на 45 и 60 день. Честно, слабо представляю, что это может быть. Также есть небольшой пик на 90. Можно предположить, что идет зачистка неподтвержденных объявлений каждые 45/30/15 дней. Так сказать невозможно. Такой вопрос лучше уточнить у заказчика. И если это зачистка, то они получается искажают показатели.",
      "metadata": {}
    },
    {
      "id": "b12d78b5",
      "cell_type": "markdown",
      "source": "***",
      "metadata": {}
    },
    {
      "id": "ee4c3377",
      "cell_type": "markdown",
      "source": "4. Какие факторы больше всего влияют на стоимость квартиры? Изучите, зависит ли цена от площади, числа комнат, удалённости от центра. Изучите зависимость цены от того, на каком этаже расположена квартира: первом, последнем или другом. Также изучите зависимость от даты размещения: дня недели, месяца и года.",
      "metadata": {}
    },
    {
      "id": "87ebf68d",
      "cell_type": "markdown",
      "source": "### Зависимость стоимость квартиры от площади, числа комнат, удалённости от центра. ",
      "metadata": {}
    },
    {
      "id": "251e059a",
      "cell_type": "markdown",
      "source": "#### зависит ли цена от площади",
      "metadata": {}
    },
    {
      "id": "bda42a20",
      "cell_type": "code",
      "source": "rproperty.plot(x = 'total_area', y = 'last_price', kind = 'scatter', figsize=(8,4), grid = True)",
      "metadata": {
        "trusted": true
      },
      "outputs": [
        {
          "execution_count": 47,
          "output_type": "execute_result",
          "data": {
            "text/plain": [
              "<AxesSubplot:xlabel='total_area', ylabel='last_price'>"
            ]
          },
          "metadata": {}
        },
        {
          "output_type": "display_data",
          "data": {
            "image/png": "[encoded data removed]",
            "text/plain": [
              "<Figure size 576x288 with 1 Axes>"
            ]
          },
          "metadata": {
            "needs_background": "light"
          }
        }
      ],
      "execution_count": 47
    },
    {
      "id": "44e7b3b1",
      "cell_type": "code",
      "source": "rproperty.loc[rproperty['last_price']==rproperty['last_price'].max(), 'last_price']=0",
      "metadata": {
        "trusted": true
      },
      "outputs": [],
      "execution_count": 48
    },
    {
      "id": "106a9560",
      "cell_type": "code",
      "source": "rproperty['total_area'].corr(rproperty['last_price'])",
      "metadata": {
        "trusted": true
      },
      "outputs": [
        {
          "execution_count": 49,
          "output_type": "execute_result",
          "data": {
            "text/plain": [
              "0.7009632093639703"
            ]
          },
          "metadata": {}
        }
      ],
      "execution_count": 49
    },
    {
      "id": "187643db",
      "cell_type": "markdown",
      "source": "Если не удалять максимальное значение цены, то корреляция Пирсона будет 0,65, без него 0.7. Это говорит о наличии положительной линейной связи.<br>\nТ.е. с увеличением площади растет цена.",
      "metadata": {}
    },
    {
      "id": "e5317a75",
      "cell_type": "markdown",
      "source": "####  зависит ли цена от числа комнат",
      "metadata": {}
    },
    {
      "id": "4fbc69dc",
      "cell_type": "code",
      "source": "rproperty.plot(x = 'rooms',y = 'last_price', kind = 'scatter', figsize=(8,3), grid = True)",
      "metadata": {
        "trusted": true
      },
      "outputs": [
        {
          "execution_count": 50,
          "output_type": "execute_result",
          "data": {
            "text/plain": [
              "<AxesSubplot:xlabel='rooms', ylabel='last_price'>"
            ]
          },
          "metadata": {}
        },
        {
          "output_type": "display_data",
          "data": {
            "image/png": "[encoded data removed]",
            "text/plain": [
              "<Figure size 576x216 with 1 Axes>"
            ]
          },
          "metadata": {
            "needs_background": "light"
          }
        }
      ],
      "execution_count": 50
    },
    {
      "id": "f964e5be",
      "cell_type": "code",
      "source": "def barplot(x_data, y_data, x_label=\"\", y_label=\"\", title=\"\"):\n    _, ax = plt.subplots()\n    # Draw bars, position them in the center of the tick mark on the x-axis\n    ax.bar(x_data, y_data, color = '#539caf', align = 'center')\n    ax.set_ylabel(y_label)\n    ax.set_xlabel(x_label)\n    ax.set_title(title)",
      "metadata": {
        "trusted": true
      },
      "outputs": [],
      "execution_count": 51
    },
    {
      "id": "db4de947",
      "cell_type": "code",
      "source": "barplot(rproperty['rooms'],rproperty['last_price'],'rooms', 'last_price' )",
      "metadata": {
        "trusted": true
      },
      "outputs": [
        {
          "output_type": "display_data",
          "data": {
            "image/png": "[encoded data removed]",
            "text/plain": [
              "<Figure size 432x288 with 1 Axes>"
            ]
          },
          "metadata": {
            "needs_background": "light"
          }
        }
      ],
      "execution_count": 52
    },
    {
      "id": "1700c951",
      "cell_type": "code",
      "source": "rproperty['rooms'].corr(rproperty['last_price'])",
      "metadata": {
        "trusted": true
      },
      "outputs": [
        {
          "execution_count": 53,
          "output_type": "execute_result",
          "data": {
            "text/plain": [
              "0.39202782060150465"
            ]
          },
          "metadata": {}
        }
      ],
      "execution_count": 53
    },
    {
      "id": "f04fae02",
      "cell_type": "markdown",
      "source": "Я тут попробовала разными способами поисктаь зависимость. Коэффициент корреляции совсем небольшой.<br> Если смотреть на верхний график scatter, не обращая внимания на сильно вылетающие точки, то можно сказать, что цена за квартиру пропорционально растет с увеличением количества комнат до 5 штук. Затем идет снижение. Это снижение можно объяснить только тем, что комнаты должны быть малюсенькие. <br>\nЕсли смотреть на график Bar, то общая тенденция сохраняется, но есть вылет для 12 комнатной квартиры.Однако мне все равно кажутся квартиры с более 5 комнатами - выбросами.",
      "metadata": {}
    },
    {
      "id": "77d821b3",
      "cell_type": "markdown",
      "source": "#### зависит ли цена от удалённости от центра.",
      "metadata": {}
    },
    {
      "id": "8aafc1ec",
      "cell_type": "code",
      "source": "rproperty.plot(kind = 'scatter', y = 'price_per_square_meter', x = 'cityCenters_nearest')",
      "metadata": {
        "trusted": true
      },
      "outputs": [
        {
          "execution_count": 54,
          "output_type": "execute_result",
          "data": {
            "text/plain": [
              "<AxesSubplot:xlabel='cityCenters_nearest', ylabel='price_per_square_meter'>"
            ]
          },
          "metadata": {}
        },
        {
          "output_type": "display_data",
          "data": {
            "image/png": "[encoded data removed]",
            "text/plain": [
              "<Figure size 432x288 with 1 Axes>"
            ]
          },
          "metadata": {
            "needs_background": "light"
          }
        }
      ],
      "execution_count": 54
    },
    {
      "id": "2f322b00",
      "cell_type": "code",
      "source": "rproperty['cityCenters_nearest'].corr(rproperty['price_per_square_meter'])",
      "metadata": {
        "trusted": true
      },
      "outputs": [
        {
          "execution_count": 55,
          "output_type": "execute_result",
          "data": {
            "text/plain": [
              "-0.31795073682864683"
            ]
          },
          "metadata": {}
        }
      ],
      "execution_count": 55
    },
    {
      "id": "539f313d",
      "cell_type": "markdown",
      "source": "Из-за достаточно близких значений, коэффициент корреляции небольшой, но есть. С приближением к центру, стоимость квартир увеличивается",
      "metadata": {}
    },
    {
      "id": "33a861ae",
      "cell_type": "markdown",
      "source": "### Зависимость цены от того, на каком этаже расположена квартира: первом, последнем или другом",
      "metadata": {}
    },
    {
      "id": "45b8255d",
      "cell_type": "code",
      "source": "rproperty['floor_group'] = rproperty['floor_group'].astype('str')# перевели в строковый тип",
      "metadata": {
        "trusted": true
      },
      "outputs": [],
      "execution_count": 56
    },
    {
      "id": "95e49979",
      "cell_type": "code",
      "source": "barplot(rproperty['floor_group'],rproperty['last_price'])",
      "metadata": {
        "trusted": true
      },
      "outputs": [
        {
          "output_type": "display_data",
          "data": {
            "image/png": "[encoded data removed]",
            "text/plain": [
              "<Figure size 432x288 with 1 Axes>"
            ]
          },
          "metadata": {
            "needs_background": "light"
          }
        }
      ],
      "execution_count": 57
    },
    {
      "id": "92f9fb9d",
      "cell_type": "code",
      "source": "rproperty.plot(x = 'floor_group',y = 'last_price', kind = 'scatter', figsize=(8,3), grid = True)",
      "metadata": {
        "trusted": true
      },
      "outputs": [
        {
          "execution_count": 58,
          "output_type": "execute_result",
          "data": {
            "text/plain": [
              "<AxesSubplot:xlabel='floor_group', ylabel='last_price'>"
            ]
          },
          "metadata": {}
        },
        {
          "output_type": "display_data",
          "data": {
            "image/png": "[encoded data removed]",
            "text/plain": [
              "<Figure size 576x216 with 1 Axes>"
            ]
          },
          "metadata": {
            "needs_background": "light"
          }
        }
      ],
      "execution_count": 58
    },
    {
      "id": "b8fc4bb1",
      "cell_type": "markdown",
      "source": "Итак, если смотреть на bar, то за первый этаж просят меньше всего денег, это и очевидно. Зато за последний просят больше всего, что для меня удивительно, особенно если считать, что существуют дома без лифта. Другой занимает среднее положение.<br>\nЕсли посмотреть на scatter и не смотреть на вылеты, то для первого этажа ситуация сохраняется, а следующим по цене идет последний этаж. Другой занимает самую дорогую позицию, что кажется наиболее реальным.\n<br>\nВ идеале стоило бы рассчитать среднее/медиану для каждой группы и сравнивать уже их.",
      "metadata": {}
    },
    {
      "id": "2c9f78f5",
      "cell_type": "code",
      "source": "data_pivot = rproperty.pivot_table(index = 'floor_group', values = 'last_price', aggfunc = 'median')\ndata_pivot.sort_values(by = 'last_price')",
      "metadata": {
        "trusted": true
      },
      "outputs": [
        {
          "execution_count": 59,
          "output_type": "execute_result",
          "data": {
            "text/html": [
              "<div>\n",
              "<style scoped>\n",
              "    .dataframe tbody tr th:only-of-type {\n",
              "        vertical-align: middle;\n",
              "    }\n",
              "\n",
              "    .dataframe tbody tr th {\n",
              "        vertical-align: top;\n",
              "    }\n",
              "\n",
              "    .dataframe thead th {\n",
              "        text-align: right;\n",
              "    }\n",
              "</style>\n",
              "<table border=\"1\" class=\"dataframe\">\n",
              "  <thead>\n",
              "    <tr style=\"text-align: right;\">\n",
              "      <th></th>\n",
              "      <th>last_price</th>\n",
              "    </tr>\n",
              "    <tr>\n",
              "      <th>floor_group</th>\n",
              "      <th></th>\n",
              "    </tr>\n",
              "  </thead>\n",
              "  <tbody>\n",
              "    <tr>\n",
              "      <th>первый</th>\n",
              "      <td>3900000</td>\n",
              "    </tr>\n",
              "    <tr>\n",
              "      <th>последний</th>\n",
              "      <td>4300000</td>\n",
              "    </tr>\n",
              "    <tr>\n",
              "      <th>другой</th>\n",
              "      <td>4850000</td>\n",
              "    </tr>\n",
              "    <tr>\n",
              "      <th>None</th>\n",
              "      <td>5249478</td>\n",
              "    </tr>\n",
              "  </tbody>\n",
              "</table>\n",
              "</div>"
            ],
            "text/plain": [
              "             last_price\n",
              "floor_group            \n",
              "первый          3900000\n",
              "последний       4300000\n",
              "другой          4850000\n",
              "None            5249478"
            ]
          },
          "metadata": {}
        }
      ],
      "execution_count": 59
    },
    {
      "id": "501bc6a0",
      "cell_type": "markdown",
      "source": "Подтвердилось.",
      "metadata": {}
    },
    {
      "id": "e8340858",
      "cell_type": "markdown",
      "source": "Появился 4й тип None, там, где не указан этаж, но он не особо влияет на зависимость.",
      "metadata": {}
    },
    {
      "id": "fbbba44b",
      "cell_type": "markdown",
      "source": "### Зависимость от даты размещения: дня недели, месяца и года.",
      "metadata": {}
    },
    {
      "id": "317a5931",
      "cell_type": "markdown",
      "source": "Я устала юзать ту функцию выше, поэтому сделаю что-нибудь попроще",
      "metadata": {}
    },
    {
      "id": "a91d39f7",
      "cell_type": "code",
      "source": "pivot_table_week = rproperty.pivot_table(index = 'weekday_exposition', values = 'last_price', aggfunc = ['median'])\npivot_table_week.plot(y = 'median') #взяла медиану, чтобы вылеты не влияли",
      "metadata": {
        "trusted": true
      },
      "outputs": [
        {
          "execution_count": 60,
          "output_type": "execute_result",
          "data": {
            "text/plain": [
              "<AxesSubplot:xlabel='weekday_exposition'>"
            ]
          },
          "metadata": {}
        },
        {
          "output_type": "display_data",
          "data": {
            "image/png": "[encoded data removed]",
            "text/plain": [
              "<Figure size 432x288 with 1 Axes>"
            ]
          },
          "metadata": {
            "needs_background": "light"
          }
        }
      ],
      "execution_count": 60
    },
    {
      "id": "aa39d32e",
      "cell_type": "markdown",
      "source": "Итак, во вторник самое большое повышение цен, в то время как к концу недели стоимость падает и на выходных - самая низкая.",
      "metadata": {}
    },
    {
      "id": "3c7ff697",
      "cell_type": "code",
      "source": "pivot_table_month = rproperty.pivot_table(index = 'month_exposition', values = 'last_price', aggfunc = ['median'])\npivot_table_month.plot(y = 'median')",
      "metadata": {
        "scrolled": true,
        "trusted": true
      },
      "outputs": [
        {
          "execution_count": 61,
          "output_type": "execute_result",
          "data": {
            "text/plain": [
              "<AxesSubplot:xlabel='month_exposition'>"
            ]
          },
          "metadata": {}
        },
        {
          "output_type": "display_data",
          "data": {
            "image/png": "[encoded data removed]",
            "text/plain": [
              "<Figure size 432x288 with 1 Axes>"
            ]
          },
          "metadata": {
            "needs_background": "light"
          }
        }
      ],
      "execution_count": 61
    },
    {
      "id": "755b077e",
      "cell_type": "markdown",
      "source": "Самая выокая цена на квартиры была в апреле, к началу лета резко падает, и начинает также резкий росто до конца года. ",
      "metadata": {}
    },
    {
      "id": "bd534285",
      "cell_type": "code",
      "source": "pivot_table_year = rproperty.pivot_table(index = 'year_exposition', values = 'last_price', aggfunc = ['median'])\npivot_table_year.plot(y = 'median')",
      "metadata": {
        "trusted": true
      },
      "outputs": [
        {
          "execution_count": 62,
          "output_type": "execute_result",
          "data": {
            "text/plain": [
              "<AxesSubplot:xlabel='year_exposition'>"
            ]
          },
          "metadata": {}
        },
        {
          "output_type": "display_data",
          "data": {
            "image/png": "[encoded data removed]",
            "text/plain": [
              "<Figure size 432x288 with 1 Axes>"
            ]
          },
          "metadata": {
            "needs_background": "light"
          }
        }
      ],
      "execution_count": 62
    },
    {
      "id": "d4ed1a11",
      "cell_type": "markdown",
      "source": "наблюдается просев в цене с 2015 по 2018 год, затем начался рост. Так как мы рассматриваем абсолютно все квартиры вместе, но именно медианное значение, то на самом деле ситуация могла быть и другая. С другой стороны могло повыситься предложение и понизиться спрос, тогда такое падение вполне оправдано (Количество новостроек растет, а зп нет).",
      "metadata": {}
    },
    {
      "id": "4d7d5b45",
      "cell_type": "markdown",
      "source": "<div class=\"alert alert-warning\">\nНа параметрах 'last_price', 'total_area', 'rooms', 'cityCenters_nearest'коэффициент корреляции Пирсона работает хорошо. Но применение его к остальным параметрам - типу этажа, дню недели, году, и месяцу - не эффективно, т.к. цена квартиры зависит от них не линейно. Остальные параметры можно рассмотреть на обычных диаграммах, к примеру, столбчатых или линейных, сгруппировав данные по нужным параметрам и рассмотрев среднее цены.\n    \n    \nАльтернативно можно было бы сделать следующим образом:\n    \n1) построить корреляцию матрицей для нужных параметров\n \ndf[['last_price', 'total_area', 'rooms', 'cityCenters_nearest']].corr()\n    \n2) интерпретировать получившийся коэффициент\n    \n3) для визуализации параметров использовать простой и полезный метод sns.pairplot - он отобразит корреляцию всех графиков компактным \"полотном\"\n    \n4) для остальных параметров оставить обычные графики\n    \n</div>",
      "metadata": {}
    },
    {
      "id": "c4ed8b01",
      "cell_type": "markdown",
      "source": "***",
      "metadata": {}
    },
    {
      "id": "0b21dbf6",
      "cell_type": "markdown",
      "source": "### Изучение 10 населённых пунктов с наибольшим числом объявлений. \n<br>Посчитайте среднюю цену квадратного метра в этих населённых пунктах. Выделите населённые пункты с самой высокой и низкой стоимостью жилья. Эти данные можно найти по имени в столбце locality_name.",
      "metadata": {}
    },
    {
      "id": "f8076117",
      "cell_type": "code",
      "source": "locality_pivot_table = rproperty.pivot_table(index = 'locality_name', values = 'price_per_square_meter', aggfunc=['count', 'mean'])\nlocality_pivot_table.columns = ['count', 'mean']\nlocality_pivot_table = locality_pivot_table.sort_values('count', ascending = False).head(10)\ndisplay(locality_pivot_table)\n\ndisplay(locality_pivot_table[locality_pivot_table['mean']==locality_pivot_table['mean'].max()]) #самая высокая стоимость\ndisplay(locality_pivot_table[locality_pivot_table['mean']==locality_pivot_table['mean'].min()])#самая низкая стоимость",
      "metadata": {
        "trusted": true
      },
      "outputs": [
        {
          "output_type": "display_data",
          "data": {
            "text/html": [
              "<div>\n",
              "<style scoped>\n",
              "    .dataframe tbody tr th:only-of-type {\n",
              "        vertical-align: middle;\n",
              "    }\n",
              "\n",
              "    .dataframe tbody tr th {\n",
              "        vertical-align: top;\n",
              "    }\n",
              "\n",
              "    .dataframe thead th {\n",
              "        text-align: right;\n",
              "    }\n",
              "</style>\n",
              "<table border=\"1\" class=\"dataframe\">\n",
              "  <thead>\n",
              "    <tr style=\"text-align: right;\">\n",
              "      <th></th>\n",
              "      <th>count</th>\n",
              "      <th>mean</th>\n",
              "    </tr>\n",
              "    <tr>\n",
              "      <th>locality_name</th>\n",
              "      <th></th>\n",
              "      <th></th>\n",
              "    </tr>\n",
              "  </thead>\n",
              "  <tbody>\n",
              "    <tr>\n",
              "      <th>Выборг</th>\n",
              "      <td>237</td>\n",
              "      <td>58141.489451</td>\n",
              "    </tr>\n",
              "    <tr>\n",
              "      <th>деревня Кудрово</th>\n",
              "      <td>299</td>\n",
              "      <td>92473.086957</td>\n",
              "    </tr>\n",
              "    <tr>\n",
              "      <th>Гатчина</th>\n",
              "      <td>307</td>\n",
              "      <td>68745.693811</td>\n",
              "    </tr>\n",
              "    <tr>\n",
              "      <th>посёлок Парголово</th>\n",
              "      <td>327</td>\n",
              "      <td>90175.489297</td>\n",
              "    </tr>\n",
              "    <tr>\n",
              "      <th>Колпино</th>\n",
              "      <td>338</td>\n",
              "      <td>75424.150888</td>\n",
              "    </tr>\n",
              "    <tr>\n",
              "      <th>Пушкин</th>\n",
              "      <td>369</td>\n",
              "      <td>103125.373984</td>\n",
              "    </tr>\n",
              "    <tr>\n",
              "      <th>Всеволожск</th>\n",
              "      <td>398</td>\n",
              "      <td>68654.007538</td>\n",
              "    </tr>\n",
              "    <tr>\n",
              "      <th>посёлок Шушары</th>\n",
              "      <td>440</td>\n",
              "      <td>78676.904545</td>\n",
              "    </tr>\n",
              "    <tr>\n",
              "      <th>посёлок Мурино</th>\n",
              "      <td>522</td>\n",
              "      <td>85751.733716</td>\n",
              "    </tr>\n",
              "    <tr>\n",
              "      <th>Санкт-Петербург</th>\n",
              "      <td>15721</td>\n",
              "      <td>114848.565231</td>\n",
              "    </tr>\n",
              "  </tbody>\n",
              "</table>\n",
              "</div>"
            ],
            "text/plain": [
              "                   count           mean\n",
              "locality_name                          \n",
              "Выборг               237   58141.489451\n",
              "деревня Кудрово      299   92473.086957\n",
              "Гатчина              307   68745.693811\n",
              "посёлок Парголово    327   90175.489297\n",
              "Колпино              338   75424.150888\n",
              "Пушкин               369  103125.373984\n",
              "Всеволожск           398   68654.007538\n",
              "посёлок Шушары       440   78676.904545\n",
              "посёлок Мурино       522   85751.733716\n",
              "Санкт-Петербург    15721  114848.565231"
            ]
          },
          "metadata": {}
        },
        {
          "output_type": "display_data",
          "data": {
            "text/html": [
              "<div>\n",
              "<style scoped>\n",
              "    .dataframe tbody tr th:only-of-type {\n",
              "        vertical-align: middle;\n",
              "    }\n",
              "\n",
              "    .dataframe tbody tr th {\n",
              "        vertical-align: top;\n",
              "    }\n",
              "\n",
              "    .dataframe thead th {\n",
              "        text-align: right;\n",
              "    }\n",
              "</style>\n",
              "<table border=\"1\" class=\"dataframe\">\n",
              "  <thead>\n",
              "    <tr style=\"text-align: right;\">\n",
              "      <th></th>\n",
              "      <th>count</th>\n",
              "      <th>mean</th>\n",
              "    </tr>\n",
              "    <tr>\n",
              "      <th>locality_name</th>\n",
              "      <th></th>\n",
              "      <th></th>\n",
              "    </tr>\n",
              "  </thead>\n",
              "  <tbody>\n",
              "    <tr>\n",
              "      <th>Санкт-Петербург</th>\n",
              "      <td>15721</td>\n",
              "      <td>114848.565231</td>\n",
              "    </tr>\n",
              "  </tbody>\n",
              "</table>\n",
              "</div>"
            ],
            "text/plain": [
              "                 count           mean\n",
              "locality_name                        \n",
              "Санкт-Петербург  15721  114848.565231"
            ]
          },
          "metadata": {}
        },
        {
          "output_type": "display_data",
          "data": {
            "text/html": [
              "<div>\n",
              "<style scoped>\n",
              "    .dataframe tbody tr th:only-of-type {\n",
              "        vertical-align: middle;\n",
              "    }\n",
              "\n",
              "    .dataframe tbody tr th {\n",
              "        vertical-align: top;\n",
              "    }\n",
              "\n",
              "    .dataframe thead th {\n",
              "        text-align: right;\n",
              "    }\n",
              "</style>\n",
              "<table border=\"1\" class=\"dataframe\">\n",
              "  <thead>\n",
              "    <tr style=\"text-align: right;\">\n",
              "      <th></th>\n",
              "      <th>count</th>\n",
              "      <th>mean</th>\n",
              "    </tr>\n",
              "    <tr>\n",
              "      <th>locality_name</th>\n",
              "      <th></th>\n",
              "      <th></th>\n",
              "    </tr>\n",
              "  </thead>\n",
              "  <tbody>\n",
              "    <tr>\n",
              "      <th>Выборг</th>\n",
              "      <td>237</td>\n",
              "      <td>58141.489451</td>\n",
              "    </tr>\n",
              "  </tbody>\n",
              "</table>\n",
              "</div>"
            ],
            "text/plain": [
              "               count          mean\n",
              "locality_name                     \n",
              "Выборг           237  58141.489451"
            ]
          },
          "metadata": {}
        }
      ],
      "execution_count": 63
    },
    {
      "id": "2399bd06",
      "cell_type": "markdown",
      "source": "Вывела на экран количество и цену за м2 для 10 нас.пунктов с наибольшим числом объявлений. <br>\nСамая высокая стоимость жилья в Санкт-Петербурге, самая низкая - в Выборге.(для Выборга думаю связано также с небольшим количеством объявлений по сравнению с тем же Питером)",
      "metadata": {}
    },
    {
      "id": "aab79007",
      "cell_type": "markdown",
      "source": "***",
      "metadata": {}
    },
    {
      "id": "32bf8fe1",
      "cell_type": "markdown",
      "source": "### Изучение центра Санкт-Петербурга",
      "metadata": {}
    },
    {
      "id": "ad8f7e39",
      "cell_type": "markdown",
      "source": "Изучите предложения квартир: для каждой квартиры есть информация о расстоянии до центра. Выделите квартиры в Санкт-Петербурге (locality_name). Ваша задача — выяснить, какая область входит в центр. Создайте столбец с расстоянием до центра в километрах: округлите до целых значений. После этого посчитайте среднюю цену для каждого километра. Постройте график: он должен показывать, как цена зависит от удалённости от центра. Определите границу, где график сильно меняется, — это и будет центральная зона.",
      "metadata": {}
    },
    {
      "id": "1aee8d61",
      "cell_type": "code",
      "source": "rproperty['cityCenters_nearest_km'] = rproperty['cityCenters_nearest']/1000 #перевели в км\ndisplay(rproperty['cityCenters_nearest_km'].isna().sum())#нашли пустые\nrproperty['cityCenters_nearest_km'] = rproperty['cityCenters_nearest_km'].fillna(9999999) #чтобы не было нулей (т.е.самых близких, сделаем их оч большими)\nrproperty['cityCenters_nearest_km'] = rproperty['cityCenters_nearest_km'].astype('int')#сделали целыми\npivot_table_km = rproperty.query('locality_name == \"Санкт-Петербург\" and cityCenters_nearest_km !=9999999').pivot_table(index = 'cityCenters_nearest_km', values = 'price_per_square_meter', aggfunc = 'mean')\npivot_table_km.head(10)\npivot_table_km.plot()",
      "metadata": {
        "trusted": true
      },
      "outputs": [
        {
          "output_type": "display_data",
          "data": {
            "text/plain": [
              "5519"
            ]
          },
          "metadata": {}
        },
        {
          "execution_count": 64,
          "output_type": "execute_result",
          "data": {
            "text/plain": [
              "<AxesSubplot:xlabel='cityCenters_nearest_km'>"
            ]
          },
          "metadata": {}
        },
        {
          "output_type": "display_data",
          "data": {
            "image/png": "[encoded data removed]",
            "text/plain": [
              "<Figure size 432x288 with 1 Axes>"
            ]
          },
          "metadata": {
            "needs_background": "light"
          }
        }
      ],
      "execution_count": 64
    },
    {
      "id": "6a6411ca",
      "cell_type": "markdown",
      "source": "судя по графику резкое изменение было на 3, 6 и 8 км, вероятнее всего центральная зона находится в 3 км. <br>\nПри этом цена за 1 м2 растет с приближением к центру. Также всплеск цен в 6 км от центра может быть обусловлен хорошими районами, но не центральными.После этого цены падают, правда есть небольшой встплеск на 27 км..",
      "metadata": {}
    },
    {
      "id": "87155372",
      "cell_type": "markdown",
      "source": "***",
      "metadata": {}
    },
    {
      "id": "16316b2a",
      "cell_type": "markdown",
      "source": "### Анализ сегмента квартир в центральной части С-П.",
      "metadata": {}
    },
    {
      "id": "d4d3e71d",
      "cell_type": "markdown",
      "source": "7. Выделите сегмент квартир в центре. Проанализируйте эту территорию и изучите следующие параметры: площадь, цена, число комнат, высота потолков. Также выделите факторы, которые влияют на стоимость квартиры (число комнат, этаж, удалённость от центра, дата размещения объявления). Сделайте выводы. Отличаются ли они от общих выводов по всей базе?",
      "metadata": {}
    },
    {
      "id": "d7f97bbd",
      "cell_type": "code",
      "source": "center_seg = rproperty.query('locality_name == \"Санкт-Петербург\" and cityCenters_nearest_km <= 3')",
      "metadata": {
        "trusted": true
      },
      "outputs": [],
      "execution_count": 65
    },
    {
      "id": "db052c77",
      "cell_type": "markdown",
      "source": "#### Изучаем данные по площади, цене, числу комнат, высоте потолков.",
      "metadata": {}
    },
    {
      "id": "a383e51c",
      "cell_type": "code",
      "source": "center_seg.plot(y = 'total_area', kind = 'hist',ec='black', bins = 70, grid=True, figsize = (9,4), range = (0,250))\ncenter_seg['total_area'].describe()",
      "metadata": {
        "trusted": true
      },
      "outputs": [
        {
          "execution_count": 66,
          "output_type": "execute_result",
          "data": {
            "text/plain": [
              "count    1159.000000\n",
              "mean       97.399172\n",
              "std        55.772422\n",
              "min        12.000000\n",
              "25%        62.000000\n",
              "50%        84.100000\n",
              "75%       115.250000\n",
              "max       517.000000\n",
              "Name: total_area, dtype: float64"
            ]
          },
          "metadata": {}
        },
        {
          "output_type": "display_data",
          "data": {
            "image/png": "[encoded data removed]",
            "text/plain": [
              "<Figure size 648x288 with 1 Axes>"
            ]
          },
          "metadata": {
            "needs_background": "light"
          }
        }
      ],
      "execution_count": 66
    },
    {
      "id": "d19682c1",
      "cell_type": "markdown",
      "source": "Распределение площади изменилось. Для всех квартир был пик на 48 м2, для центра преобладают квартиры площадью окло 70 м2. В среднем площадь находится между 40 и 120 м2, хотя для всех квартир было от 30 до 80 м2.<br>\nТаким образом, в центре находятся квартиры с бОльшей площадью, а также большей выборкой средней площади.",
      "metadata": {}
    },
    {
      "id": "46f5154c",
      "cell_type": "code",
      "source": "center_seg.plot(y = 'last_price', kind = 'hist',ec='black', bins = 15, grid=True, range = (0,20000000), figsize = (8,4))\ncenter_seg['last_price'].describe()",
      "metadata": {
        "trusted": true
      },
      "outputs": [
        {
          "execution_count": 67,
          "output_type": "execute_result",
          "data": {
            "text/plain": [
              "count    1.159000e+03\n",
              "mean     1.536424e+07\n",
              "std      2.453053e+07\n",
              "min      0.000000e+00\n",
              "25%      7.000000e+06\n",
              "50%      9.500000e+06\n",
              "75%      1.442500e+07\n",
              "max      4.013000e+08\n",
              "Name: last_price, dtype: float64"
            ]
          },
          "metadata": {}
        },
        {
          "output_type": "display_data",
          "data": {
            "image/png": "[encoded data removed]",
            "text/plain": [
              "<Figure size 576x288 with 1 Axes>"
            ]
          },
          "metadata": {
            "needs_background": "light"
          }
        }
      ],
      "execution_count": 67
    },
    {
      "id": "4838b9b1",
      "cell_type": "markdown",
      "source": "В среднем цены в центральной части от 4 до 12 млн рублей, в сравнении с 2-8 млн для всех квартир. Также большинство квартир в центре облают ценой около 7,5 млн, что почти в 2 раза больше, чем для всех квартир.\nЭтого можно было предположить, так как площадь растет, и цена соответственно тоже.",
      "metadata": {}
    },
    {
      "id": "d44d4aa7",
      "cell_type": "code",
      "source": "center_seg.plot(y = 'rooms', kind = 'hist',ec='black', range =(0,10), bins = 24, grid=True, figsize = (8,4))\ncenter_seg['rooms'].describe()",
      "metadata": {
        "trusted": true
      },
      "outputs": [
        {
          "execution_count": 68,
          "output_type": "execute_result",
          "data": {
            "text/plain": [
              "count    1159.000000\n",
              "mean        3.104400\n",
              "std         1.558964\n",
              "min         0.000000\n",
              "25%         2.000000\n",
              "50%         3.000000\n",
              "75%         4.000000\n",
              "max        19.000000\n",
              "Name: rooms, dtype: float64"
            ]
          },
          "metadata": {}
        },
        {
          "output_type": "display_data",
          "data": {
            "image/png": "[encoded data removed]",
            "text/plain": [
              "<Figure size 576x288 with 1 Axes>"
            ]
          },
          "metadata": {
            "needs_background": "light"
          }
        }
      ],
      "execution_count": 68
    },
    {
      "id": "ecd22729",
      "cell_type": "markdown",
      "source": "Количество комнат для центальной части изменилось, а именно теперь преобладают 2 и 3х комнатные квартиры, чуть меньше 4х комнатных.<br> Также видимо выброс в 19 комнат находится в центральной части Питера. Также есть квартиры с 0 комнат, что является выбросом, я бы удалила вообще эти объявления.",
      "metadata": {}
    },
    {
      "id": "bafc2ba4",
      "cell_type": "code",
      "source": "center_seg.plot(y = 'ceiling_height', kind = 'hist',ec='black', bins = 10, range = (2,5), grid=True, figsize = (8,4))\ncenter_seg['ceiling_height'].describe()",
      "metadata": {
        "trusted": true
      },
      "outputs": [
        {
          "execution_count": 69,
          "output_type": "execute_result",
          "data": {
            "text/plain": [
              "count    795.000000\n",
              "mean       3.196528\n",
              "std        0.376266\n",
              "min        2.450000\n",
              "25%        3.000000\n",
              "50%        3.160000\n",
              "75%        3.400000\n",
              "max        5.800000\n",
              "Name: ceiling_height, dtype: float64"
            ]
          },
          "metadata": {}
        },
        {
          "output_type": "display_data",
          "data": {
            "image/png": "[encoded data removed]",
            "text/plain": [
              "<Figure size 576x288 with 1 Axes>"
            ]
          },
          "metadata": {
            "needs_background": "light"
          }
        }
      ],
      "execution_count": 69
    },
    {
      "id": "771a816e",
      "cell_type": "markdown",
      "source": "Преобладающая высота потолков в центре от 2.6м до 3.8 м, что гораздо больше чем для всех квартир. Среднее значение измелось с 2.7 до 3.2 м. Видимо в центре много страых домов, с планировкой потолков под 3 м.",
      "metadata": {}
    },
    {
      "id": "5f1c6319",
      "cell_type": "markdown",
      "source": "***",
      "metadata": {}
    },
    {
      "id": "69aa25d9",
      "cell_type": "markdown",
      "source": "**факторы, которые влияют на стоимость квартиры** (число комнат, этаж, удалённость от центра, дата размещения объявления)",
      "metadata": {}
    },
    {
      "id": "315a0edb",
      "cell_type": "markdown",
      "source": "#### Зависит ли цена от числа комнат",
      "metadata": {}
    },
    {
      "id": "8a0e39b0",
      "cell_type": "code",
      "source": "center_seg.plot(x = 'rooms',y = 'last_price', kind = 'scatter', figsize=(8,3), grid = True)",
      "metadata": {
        "trusted": true
      },
      "outputs": [
        {
          "execution_count": 70,
          "output_type": "execute_result",
          "data": {
            "text/plain": [
              "<AxesSubplot:xlabel='rooms', ylabel='last_price'>"
            ]
          },
          "metadata": {}
        },
        {
          "output_type": "display_data",
          "data": {
            "image/png": "[encoded data removed]",
            "text/plain": [
              "<Figure size 576x216 with 1 Axes>"
            ]
          },
          "metadata": {
            "needs_background": "light"
          }
        }
      ],
      "execution_count": 70
    },
    {
      "id": "e64d79d5",
      "cell_type": "code",
      "source": "center_seg['rooms'].corr(center_seg['last_price'])",
      "metadata": {
        "trusted": true
      },
      "outputs": [
        {
          "execution_count": 71,
          "output_type": "execute_result",
          "data": {
            "text/plain": [
              "0.26100935112980495"
            ]
          },
          "metadata": {}
        }
      ],
      "execution_count": 71
    },
    {
      "id": "5602530e",
      "cell_type": "markdown",
      "source": "Если также не обращать внимания на вылетающие значения, то стоимость квартир растет с увеличением количества комнат до 5 штук. Затем идет падение. В целом данная зависимость совпадает и для всех квартир. Также самая большая стоимость для 4 и 5 комнатных квартир.",
      "metadata": {}
    },
    {
      "id": "5f2d9d91",
      "cell_type": "markdown",
      "source": "#### Зависит ли цена от этажа",
      "metadata": {}
    },
    {
      "id": "9e83ad3f",
      "cell_type": "code",
      "source": "center_seg.plot(x = 'floor_group',y = 'last_price', kind = 'scatter', figsize=(8,3), grid = True)",
      "metadata": {
        "trusted": true
      },
      "outputs": [
        {
          "execution_count": 72,
          "output_type": "execute_result",
          "data": {
            "text/plain": [
              "<AxesSubplot:xlabel='floor_group', ylabel='last_price'>"
            ]
          },
          "metadata": {}
        },
        {
          "output_type": "display_data",
          "data": {
            "image/png": "[encoded data removed]",
            "text/plain": [
              "<Figure size 576x216 with 1 Axes>"
            ]
          },
          "metadata": {
            "needs_background": "light"
          }
        }
      ],
      "execution_count": 72
    },
    {
      "id": "5737bfcd",
      "cell_type": "markdown",
      "source": "Здесь тоже зависимость сохраняется. Не смотря на выбросы, за первый цена самая меньшая, следом идет последний этаж, и самая высокая цена для всех кроме первого и последнего.",
      "metadata": {}
    },
    {
      "id": "69672f06",
      "cell_type": "markdown",
      "source": "#### Зависит ли цена от удаленности от центра",
      "metadata": {}
    },
    {
      "id": "33337439",
      "cell_type": "code",
      "source": "center_seg.plot(kind = 'scatter', y = 'price_per_square_meter', x = 'cityCenters_nearest')",
      "metadata": {
        "trusted": true
      },
      "outputs": [
        {
          "execution_count": 73,
          "output_type": "execute_result",
          "data": {
            "text/plain": [
              "<AxesSubplot:xlabel='cityCenters_nearest', ylabel='price_per_square_meter'>"
            ]
          },
          "metadata": {}
        },
        {
          "output_type": "display_data",
          "data": {
            "image/png": "[encoded data removed]",
            "text/plain": [
              "<Figure size 432x288 with 1 Axes>"
            ]
          },
          "metadata": {
            "needs_background": "light"
          }
        }
      ],
      "execution_count": 73
    },
    {
      "id": "5efe2cb2",
      "cell_type": "code",
      "source": "center_seg['cityCenters_nearest'].corr(rproperty['price_per_square_meter'])",
      "metadata": {
        "trusted": true
      },
      "outputs": [
        {
          "execution_count": 74,
          "output_type": "execute_result",
          "data": {
            "text/plain": [
              "-0.1643750663306195"
            ]
          },
          "metadata": {}
        }
      ],
      "execution_count": 74
    },
    {
      "id": "552ebd11",
      "cell_type": "markdown",
      "source": "В отличие от предыдущего исследования, здесь четкой зависимости от центра нет, в целом это и понятно, так как здесь и так уже находятся все квартиры в центре. Это подтверждается низким значением коэффициента корреляции.",
      "metadata": {}
    },
    {
      "id": "4173cfc6",
      "cell_type": "markdown",
      "source": "#### Зависимость от даты размещения: дня недели, месяца и года.",
      "metadata": {}
    },
    {
      "id": "02d4acd2",
      "cell_type": "code",
      "source": "pivot_table_week_2 = center_seg.pivot_table(index = 'weekday_exposition', values = 'last_price', aggfunc = ['median'])\npivot_table_week_2.plot(y = 'median')",
      "metadata": {
        "trusted": true
      },
      "outputs": [
        {
          "execution_count": 75,
          "output_type": "execute_result",
          "data": {
            "text/plain": [
              "<AxesSubplot:xlabel='weekday_exposition'>"
            ]
          },
          "metadata": {}
        },
        {
          "output_type": "display_data",
          "data": {
            "image/png": "[encoded data removed]",
            "text/plain": [
              "<Figure size 432x288 with 1 Axes>"
            ]
          },
          "metadata": {
            "needs_background": "light"
          }
        }
      ],
      "execution_count": 75
    },
    {
      "id": "b9704dbc",
      "cell_type": "markdown",
      "source": "Для центра повышение цен происходит в среду, а не во вторник. При этом также цена падает ближе к выходным, однако в воскресенье цена восстанавливается до среднего значения. Покупать лучше в субботу.",
      "metadata": {}
    },
    {
      "id": "a02e4ea0",
      "cell_type": "code",
      "source": "pivot_table_month_2 = center_seg.pivot_table(index = 'month_exposition', values = 'last_price', aggfunc = ['median'])\npivot_table_month_2.plot(y = 'median')",
      "metadata": {
        "trusted": true
      },
      "outputs": [
        {
          "execution_count": 76,
          "output_type": "execute_result",
          "data": {
            "text/plain": [
              "<AxesSubplot:xlabel='month_exposition'>"
            ]
          },
          "metadata": {}
        },
        {
          "output_type": "display_data",
          "data": {
            "image/png": "[encoded data removed]",
            "text/plain": [
              "<Figure size 432x288 with 1 Axes>"
            ]
          },
          "metadata": {
            "needs_background": "light"
          }
        }
      ],
      "execution_count": 76
    },
    {
      "id": "657486d7",
      "cell_type": "markdown",
      "source": "Для квартир в центре самые высокие цены с января по март и в сентябре, самые низкие цены в августе и ноябре. По сравнению с графиком для всех квартир, где самая высокая стоимость была в апреле, для центра апрель является благоприятным временем для покупки. ",
      "metadata": {}
    },
    {
      "id": "419acf9d",
      "cell_type": "code",
      "source": "pivot_table_year_2 = center_seg.pivot_table(index = 'year_exposition', values = 'last_price', aggfunc = ['median'])\npivot_table_year_2.plot(y = 'median')",
      "metadata": {
        "trusted": true
      },
      "outputs": [
        {
          "execution_count": 77,
          "output_type": "execute_result",
          "data": {
            "text/plain": [
              "<AxesSubplot:xlabel='year_exposition'>"
            ]
          },
          "metadata": {}
        },
        {
          "output_type": "display_data",
          "data": {
            "image/png": "[encoded data removed]",
            "text/plain": [
              "<Figure size 432x288 with 1 Axes>"
            ]
          },
          "metadata": {
            "needs_background": "light"
          }
        }
      ],
      "execution_count": 77
    },
    {
      "id": "071cb75c",
      "cell_type": "markdown",
      "source": "График изменения цен в течение нескольких лет совпадает с построенным для всех квартир, а именно с 2014 по 2015 происходит резкое падение цен, которое продолжается вплоть до 2017 года, и затем ситуация меняться и цены начали расти.",
      "metadata": {}
    },
    {
      "id": "84fec1a9",
      "cell_type": "markdown",
      "source": "***",
      "metadata": {}
    },
    {
      "id": "12f979a4",
      "cell_type": "markdown",
      "source": "## Общий вывод",
      "metadata": {}
    },
    {
      "id": "c3705a0a",
      "cell_type": "markdown",
      "source": "1. Для данной таблицы с данными сервиса Яндекс Недвижимости была произведена первичная обработка. А именно были найдены пустые значения, где необходимо они были заменены, были оценены возможные причины пропусков, были найдены явные и неявные дубликаты, превели некоторые столбцы в необходимый тип данных.\n2. Были созданы новые столбцы с целью посчитать цену за квадратный метр, день недели, месяц и год публикации объявления; этаж квартиры (варианты — первый, последний, другой); соотношение жилой и общей площади, а также отношение площади кухни к общей.\n3. Оценили следующие параметры: площадь, цена, число комнат, высота потолков. Построили гистограммы. Выявили выбивающиеся, среднее и медианное значения. \n<br>\n4. С увеличением площади растет стоимость недвижимости.\n5. Тоже самое происходит со стоимость за квадратный метр.\n6. При рассмотрение количества комнат до 5: стоимость растет с увеличением количества комнат.\n7. С приближением к центру, стоимость квартир увеличивается.\n8. Цена всегда ниже для 1 этажа, большая цена для последнего этажа и максимальная стоимость для этажей между 1 и последним.\n9. Цена в выходные дни значительно меньше, чем в будние дни.\n10. в мае, июне самая низкая цена, в апреле самая высокая, в остальные месяцы примерно одинаковая - средняя.\n11. в 2014 году были самые высокие цены, с 2015-2018 цены сильно упали, начиная в 2019 начался снова рост цен.\n\n<br>\nТакже было выявлено, что \n\n- среднее время продажи невижимости составляет пол года, при этом значения более 450 дней были отсеяны (по диаграмме размаха).\n- слишком большие значения продажи на 45,60, 90 день. Необходимо уточнить причину таких выбросов.\n- центр города находится в радиусе 3 км\n- для центра города нет прямой зависимости цены от удаленности от центра.",
      "metadata": {}
    },
    {
      "id": "28bc19da",
      "cell_type": "markdown",
      "source": "<div class=\"alert alert-warning\">\nМожно обогатить вывод, установив примерную рыночную стоимость для объектов,  исходя из влияния параметров (стоимость по районам и какие факторы на нее влияют)  - средняя стоимость в общей базе и средняя в центре",
      "metadata": {}
    },
    {
      "id": "01137656",
      "cell_type": "markdown",
      "source": "## Чек-лист готовности проекта",
      "metadata": {}
    },
    {
      "id": "f46c649d",
      "cell_type": "markdown",
      "source": "- [x]  открыт файл\n- [x]  файлы изучены (выведены первые строки, метод `info()`)\n- [x]  определены пропущенные значения\n- [x]  заполнены пропущенные значения\n- [x]  есть пояснение, какие пропущенные значения обнаружены\n- [x]  изменены типы данных\n- [x]  есть пояснение, в каких столбцах изменены типы и почему\n- [x]  посчитано и добавлено в таблицу: цена квадратного метра\n- [x]  посчитано и добавлено в таблицу: день недели, месяц и год публикации объявления\n- [x]  посчитано и добавлено в таблицу: этаж квартиры; варианты — первый, последний, другой\n- [x]  посчитано и добавлено в таблицу: соотношение жилой и общей площади, а также отношение площади кухни к общей\n- [x]  изучены следующие параметры: площадь, цена, число комнат, высота потолков\n- [x]  построены гистограммы для каждого параметра\n- [x]  выполнено задание: «Изучите время продажи квартиры. Постройте гистограмму. Посчитайте среднее и медиану. Опишите, сколько обычно занимает продажа. Когда можно считать, что продажи прошли очень быстро, а когда необычно долго?»\n- [x]  выполнено задание: «Уберите редкие и выбивающиеся значения. Опишите, какие особенности обнаружили».\n- [x]  выполнено задание: «Какие факторы больше всего влияют на стоимость квартиры? Изучите, зависит ли цена от квадратного метра, числа комнат, этажа (первого или последнего), удалённости от центра. Также изучите зависимость от даты размещения: дня недели, месяца и года». \n- [x]  выполнено задание: «Выберите 10 населённых пунктов с наибольшим числом объявлений. Посчитайте среднюю цену квадратного метра в этих населённых пунктах. Выделите населённые пункты с самой высокой и низкой стоимостью жилья. Эти данные можно найти по имени в столбце `locality_name`».\n- [x]  выполнено задание: «Изучите предложения квартир: для каждой квартиры есть информация о расстоянии до центра. Выделите квартиры в Санкт-Петербурге (`locality_name`). Ваша задача — выяснить, какая область входит в центр. Создайте столбец с расстоянием до центра в километрах: округлите до целых значений. После этого посчитайте среднюю цену для каждого километра. Постройте график: он должен показывать, как цена зависит от удалённости от центра. Определите границу, где график сильно меняется — это и будет центральная зона».\n- [x]  выполнено задание: «Выделите сегмент квартир в центре. Проанализируйте эту территорию и изучите следующие параметры: площадь, цена, число комнат, высота потолков. Также выделите факторы, которые влияют на стоимость квартиры (число комнат, этаж, удалённость от центра, дата размещения объявления). Сделайте выводы. Отличаются ли они от общих выводов по всей базе?»\n- [x]  в каждом этапе есть выводы\n- [x]  есть общий вывод",
      "metadata": {}
    }
  ]
}