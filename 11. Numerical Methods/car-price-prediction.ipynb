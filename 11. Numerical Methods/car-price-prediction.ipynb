{
 "cells": [
  {
   "cell_type": "markdown",
   "metadata": {},
   "source": [
    "# Определение стоимости автомобилей"
   ]
  },
  {
   "cell_type": "markdown",
   "metadata": {},
   "source": [
    "Сервис по продаже автомобилей с пробегом «Не бит, не крашен» разрабатывает приложение для привлечения новых клиентов. В нём можно быстро узнать рыночную стоимость своего автомобиля. В вашем распоряжении исторические данные: технические характеристики, комплектации и цены автомобилей. Вам нужно построить модель для определения стоимости. \n",
    "\n",
    "Заказчику важны:\n",
    "\n",
    "- качество предсказания;\n",
    "- скорость предсказания;\n",
    "- время обучения."
   ]
  },
  {
   "cell_type": "markdown",
   "metadata": {},
   "source": [
    "# Описание данных"
   ]
  },
  {
   "cell_type": "markdown",
   "metadata": {},
   "source": [
    "<b>Признаки</b>  \n",
    "* DateCrawled — дата скачивания анкеты из базы\n",
    "* VehicleType — тип автомобильного кузова\n",
    "* RegistrationYear — год регистрации автомобиля\n",
    "* Gearbox — тип коробки передач\n",
    "* Power — мощность (л. с.)\n",
    "* Model — модель автомобиля\n",
    "* Kilometer — пробег (км)\n",
    "* RegistrationMonth — месяц регистрации автомобиля\n",
    "* FuelType — тип топлива\n",
    "* Brand — марка автомобиля\n",
    "* NotRepaired — была машина в ремонте или нет\n",
    "* DateCreated — дата создания анкеты\n",
    "* NumberOfPictures — количество фотографий автомобиля\n",
    "* PostalCode — почтовый индекс владельца анкеты (пользователя)\n",
    "* LastSeen — дата последней активности пользователя  \n",
    "\n",
    "<b>Целевой признак</b>\n",
    "* Price — цена (евро)"
   ]
  },
  {
   "cell_type": "markdown",
   "metadata": {},
   "source": [
    "## Подготовка данных"
   ]
  },
  {
   "cell_type": "markdown",
   "metadata": {},
   "source": [
    "- Изучите данные. \n",
    "- Заполните пропущенные значения и обработайте аномалии в столбцах. \n",
    "- Если среди признаков имеются неинформативные, удалите их."
   ]
  },
  {
   "cell_type": "markdown",
   "metadata": {},
   "source": [
    "Импорт библиотек"
   ]
  },
  {
   "cell_type": "code",
   "execution_count": 1,
   "metadata": {},
   "outputs": [],
   "source": [
    "import matplotlib.pyplot as plt\n",
    "import numpy as np\n",
    "import pandas as pd\n",
    "import math\n",
    "from sklearn.model_selection import train_test_split\n",
    "from sklearn.linear_model import LinearRegression\n",
    "from sklearn.metrics import mean_squared_error\n",
    "from sklearn.preprocessing import StandardScaler\n",
    "from sklearn.utils import shuffle\n",
    "import warnings"
   ]
  },
  {
   "cell_type": "code",
   "execution_count": 2,
   "metadata": {},
   "outputs": [
    {
     "data": {
      "text/plain": [
       "(354369, 16)"
      ]
     },
     "metadata": {},
     "output_type": "display_data"
    },
    {
     "name": "stdout",
     "output_type": "stream",
     "text": [
      "<class 'pandas.core.frame.DataFrame'>\n",
      "RangeIndex: 354369 entries, 0 to 354368\n",
      "Data columns (total 16 columns):\n",
      " #   Column             Non-Null Count   Dtype \n",
      "---  ------             --------------   ----- \n",
      " 0   DateCrawled        354369 non-null  object\n",
      " 1   Price              354369 non-null  int64 \n",
      " 2   VehicleType        316879 non-null  object\n",
      " 3   RegistrationYear   354369 non-null  int64 \n",
      " 4   Gearbox            334536 non-null  object\n",
      " 5   Power              354369 non-null  int64 \n",
      " 6   Model              334664 non-null  object\n",
      " 7   Kilometer          354369 non-null  int64 \n",
      " 8   RegistrationMonth  354369 non-null  int64 \n",
      " 9   FuelType           321474 non-null  object\n",
      " 10  Brand              354369 non-null  object\n",
      " 11  NotRepaired        283215 non-null  object\n",
      " 12  DateCreated        354369 non-null  object\n",
      " 13  NumberOfPictures   354369 non-null  int64 \n",
      " 14  PostalCode         354369 non-null  int64 \n",
      " 15  LastSeen           354369 non-null  object\n",
      "dtypes: int64(7), object(9)\n",
      "memory usage: 43.3+ MB\n"
     ]
    },
    {
     "data": {
      "text/plain": [
       "None"
      ]
     },
     "metadata": {},
     "output_type": "display_data"
    },
    {
     "data": {
      "text/html": [
       "<div>\n",
       "<style scoped>\n",
       "    .dataframe tbody tr th:only-of-type {\n",
       "        vertical-align: middle;\n",
       "    }\n",
       "\n",
       "    .dataframe tbody tr th {\n",
       "        vertical-align: top;\n",
       "    }\n",
       "\n",
       "    .dataframe thead th {\n",
       "        text-align: right;\n",
       "    }\n",
       "</style>\n",
       "<table border=\"1\" class=\"dataframe\">\n",
       "  <thead>\n",
       "    <tr style=\"text-align: right;\">\n",
       "      <th></th>\n",
       "      <th>DateCrawled</th>\n",
       "      <th>Price</th>\n",
       "      <th>VehicleType</th>\n",
       "      <th>RegistrationYear</th>\n",
       "      <th>Gearbox</th>\n",
       "      <th>Power</th>\n",
       "      <th>Model</th>\n",
       "      <th>Kilometer</th>\n",
       "      <th>RegistrationMonth</th>\n",
       "      <th>FuelType</th>\n",
       "      <th>Brand</th>\n",
       "      <th>NotRepaired</th>\n",
       "      <th>DateCreated</th>\n",
       "      <th>NumberOfPictures</th>\n",
       "      <th>PostalCode</th>\n",
       "      <th>LastSeen</th>\n",
       "    </tr>\n",
       "  </thead>\n",
       "  <tbody>\n",
       "    <tr>\n",
       "      <th>0</th>\n",
       "      <td>2016-03-24 11:52:17</td>\n",
       "      <td>480</td>\n",
       "      <td>NaN</td>\n",
       "      <td>1993</td>\n",
       "      <td>manual</td>\n",
       "      <td>0</td>\n",
       "      <td>golf</td>\n",
       "      <td>150000</td>\n",
       "      <td>0</td>\n",
       "      <td>petrol</td>\n",
       "      <td>volkswagen</td>\n",
       "      <td>NaN</td>\n",
       "      <td>2016-03-24 00:00:00</td>\n",
       "      <td>0</td>\n",
       "      <td>70435</td>\n",
       "      <td>2016-04-07 03:16:57</td>\n",
       "    </tr>\n",
       "    <tr>\n",
       "      <th>1</th>\n",
       "      <td>2016-03-24 10:58:45</td>\n",
       "      <td>18300</td>\n",
       "      <td>coupe</td>\n",
       "      <td>2011</td>\n",
       "      <td>manual</td>\n",
       "      <td>190</td>\n",
       "      <td>NaN</td>\n",
       "      <td>125000</td>\n",
       "      <td>5</td>\n",
       "      <td>gasoline</td>\n",
       "      <td>audi</td>\n",
       "      <td>yes</td>\n",
       "      <td>2016-03-24 00:00:00</td>\n",
       "      <td>0</td>\n",
       "      <td>66954</td>\n",
       "      <td>2016-04-07 01:46:50</td>\n",
       "    </tr>\n",
       "    <tr>\n",
       "      <th>2</th>\n",
       "      <td>2016-03-14 12:52:21</td>\n",
       "      <td>9800</td>\n",
       "      <td>suv</td>\n",
       "      <td>2004</td>\n",
       "      <td>auto</td>\n",
       "      <td>163</td>\n",
       "      <td>grand</td>\n",
       "      <td>125000</td>\n",
       "      <td>8</td>\n",
       "      <td>gasoline</td>\n",
       "      <td>jeep</td>\n",
       "      <td>NaN</td>\n",
       "      <td>2016-03-14 00:00:00</td>\n",
       "      <td>0</td>\n",
       "      <td>90480</td>\n",
       "      <td>2016-04-05 12:47:46</td>\n",
       "    </tr>\n",
       "    <tr>\n",
       "      <th>3</th>\n",
       "      <td>2016-03-17 16:54:04</td>\n",
       "      <td>1500</td>\n",
       "      <td>small</td>\n",
       "      <td>2001</td>\n",
       "      <td>manual</td>\n",
       "      <td>75</td>\n",
       "      <td>golf</td>\n",
       "      <td>150000</td>\n",
       "      <td>6</td>\n",
       "      <td>petrol</td>\n",
       "      <td>volkswagen</td>\n",
       "      <td>no</td>\n",
       "      <td>2016-03-17 00:00:00</td>\n",
       "      <td>0</td>\n",
       "      <td>91074</td>\n",
       "      <td>2016-03-17 17:40:17</td>\n",
       "    </tr>\n",
       "    <tr>\n",
       "      <th>4</th>\n",
       "      <td>2016-03-31 17:25:20</td>\n",
       "      <td>3600</td>\n",
       "      <td>small</td>\n",
       "      <td>2008</td>\n",
       "      <td>manual</td>\n",
       "      <td>69</td>\n",
       "      <td>fabia</td>\n",
       "      <td>90000</td>\n",
       "      <td>7</td>\n",
       "      <td>gasoline</td>\n",
       "      <td>skoda</td>\n",
       "      <td>no</td>\n",
       "      <td>2016-03-31 00:00:00</td>\n",
       "      <td>0</td>\n",
       "      <td>60437</td>\n",
       "      <td>2016-04-06 10:17:21</td>\n",
       "    </tr>\n",
       "  </tbody>\n",
       "</table>\n",
       "</div>"
      ],
      "text/plain": [
       "           DateCrawled  Price VehicleType  RegistrationYear Gearbox  Power  \\\n",
       "0  2016-03-24 11:52:17    480         NaN              1993  manual      0   \n",
       "1  2016-03-24 10:58:45  18300       coupe              2011  manual    190   \n",
       "2  2016-03-14 12:52:21   9800         suv              2004    auto    163   \n",
       "3  2016-03-17 16:54:04   1500       small              2001  manual     75   \n",
       "4  2016-03-31 17:25:20   3600       small              2008  manual     69   \n",
       "\n",
       "   Model  Kilometer  RegistrationMonth  FuelType       Brand NotRepaired  \\\n",
       "0   golf     150000                  0    petrol  volkswagen         NaN   \n",
       "1    NaN     125000                  5  gasoline        audi         yes   \n",
       "2  grand     125000                  8  gasoline        jeep         NaN   \n",
       "3   golf     150000                  6    petrol  volkswagen          no   \n",
       "4  fabia      90000                  7  gasoline       skoda          no   \n",
       "\n",
       "           DateCreated  NumberOfPictures  PostalCode             LastSeen  \n",
       "0  2016-03-24 00:00:00                 0       70435  2016-04-07 03:16:57  \n",
       "1  2016-03-24 00:00:00                 0       66954  2016-04-07 01:46:50  \n",
       "2  2016-03-14 00:00:00                 0       90480  2016-04-05 12:47:46  \n",
       "3  2016-03-17 00:00:00                 0       91074  2016-03-17 17:40:17  \n",
       "4  2016-03-31 00:00:00                 0       60437  2016-04-06 10:17:21  "
      ]
     },
     "metadata": {},
     "output_type": "display_data"
    },
    {
     "data": {
      "text/html": [
       "<div>\n",
       "<style scoped>\n",
       "    .dataframe tbody tr th:only-of-type {\n",
       "        vertical-align: middle;\n",
       "    }\n",
       "\n",
       "    .dataframe tbody tr th {\n",
       "        vertical-align: top;\n",
       "    }\n",
       "\n",
       "    .dataframe thead th {\n",
       "        text-align: right;\n",
       "    }\n",
       "</style>\n",
       "<table border=\"1\" class=\"dataframe\">\n",
       "  <thead>\n",
       "    <tr style=\"text-align: right;\">\n",
       "      <th></th>\n",
       "      <th>Price</th>\n",
       "      <th>RegistrationYear</th>\n",
       "      <th>Power</th>\n",
       "      <th>Kilometer</th>\n",
       "      <th>RegistrationMonth</th>\n",
       "      <th>NumberOfPictures</th>\n",
       "      <th>PostalCode</th>\n",
       "    </tr>\n",
       "  </thead>\n",
       "  <tbody>\n",
       "    <tr>\n",
       "      <th>count</th>\n",
       "      <td>354369.000000</td>\n",
       "      <td>354369.000000</td>\n",
       "      <td>354369.000000</td>\n",
       "      <td>354369.000000</td>\n",
       "      <td>354369.000000</td>\n",
       "      <td>354369.0</td>\n",
       "      <td>354369.000000</td>\n",
       "    </tr>\n",
       "    <tr>\n",
       "      <th>mean</th>\n",
       "      <td>4416.656776</td>\n",
       "      <td>2004.234448</td>\n",
       "      <td>110.094337</td>\n",
       "      <td>128211.172535</td>\n",
       "      <td>5.714645</td>\n",
       "      <td>0.0</td>\n",
       "      <td>50508.689087</td>\n",
       "    </tr>\n",
       "    <tr>\n",
       "      <th>std</th>\n",
       "      <td>4514.158514</td>\n",
       "      <td>90.227958</td>\n",
       "      <td>189.850405</td>\n",
       "      <td>37905.341530</td>\n",
       "      <td>3.726421</td>\n",
       "      <td>0.0</td>\n",
       "      <td>25783.096248</td>\n",
       "    </tr>\n",
       "    <tr>\n",
       "      <th>min</th>\n",
       "      <td>0.000000</td>\n",
       "      <td>1000.000000</td>\n",
       "      <td>0.000000</td>\n",
       "      <td>5000.000000</td>\n",
       "      <td>0.000000</td>\n",
       "      <td>0.0</td>\n",
       "      <td>1067.000000</td>\n",
       "    </tr>\n",
       "    <tr>\n",
       "      <th>25%</th>\n",
       "      <td>1050.000000</td>\n",
       "      <td>1999.000000</td>\n",
       "      <td>69.000000</td>\n",
       "      <td>125000.000000</td>\n",
       "      <td>3.000000</td>\n",
       "      <td>0.0</td>\n",
       "      <td>30165.000000</td>\n",
       "    </tr>\n",
       "    <tr>\n",
       "      <th>50%</th>\n",
       "      <td>2700.000000</td>\n",
       "      <td>2003.000000</td>\n",
       "      <td>105.000000</td>\n",
       "      <td>150000.000000</td>\n",
       "      <td>6.000000</td>\n",
       "      <td>0.0</td>\n",
       "      <td>49413.000000</td>\n",
       "    </tr>\n",
       "    <tr>\n",
       "      <th>75%</th>\n",
       "      <td>6400.000000</td>\n",
       "      <td>2008.000000</td>\n",
       "      <td>143.000000</td>\n",
       "      <td>150000.000000</td>\n",
       "      <td>9.000000</td>\n",
       "      <td>0.0</td>\n",
       "      <td>71083.000000</td>\n",
       "    </tr>\n",
       "    <tr>\n",
       "      <th>max</th>\n",
       "      <td>20000.000000</td>\n",
       "      <td>9999.000000</td>\n",
       "      <td>20000.000000</td>\n",
       "      <td>150000.000000</td>\n",
       "      <td>12.000000</td>\n",
       "      <td>0.0</td>\n",
       "      <td>99998.000000</td>\n",
       "    </tr>\n",
       "  </tbody>\n",
       "</table>\n",
       "</div>"
      ],
      "text/plain": [
       "               Price  RegistrationYear          Power      Kilometer  \\\n",
       "count  354369.000000     354369.000000  354369.000000  354369.000000   \n",
       "mean     4416.656776       2004.234448     110.094337  128211.172535   \n",
       "std      4514.158514         90.227958     189.850405   37905.341530   \n",
       "min         0.000000       1000.000000       0.000000    5000.000000   \n",
       "25%      1050.000000       1999.000000      69.000000  125000.000000   \n",
       "50%      2700.000000       2003.000000     105.000000  150000.000000   \n",
       "75%      6400.000000       2008.000000     143.000000  150000.000000   \n",
       "max     20000.000000       9999.000000   20000.000000  150000.000000   \n",
       "\n",
       "       RegistrationMonth  NumberOfPictures     PostalCode  \n",
       "count      354369.000000          354369.0  354369.000000  \n",
       "mean            5.714645               0.0   50508.689087  \n",
       "std             3.726421               0.0   25783.096248  \n",
       "min             0.000000               0.0    1067.000000  \n",
       "25%             3.000000               0.0   30165.000000  \n",
       "50%             6.000000               0.0   49413.000000  \n",
       "75%             9.000000               0.0   71083.000000  \n",
       "max            12.000000               0.0   99998.000000  "
      ]
     },
     "metadata": {},
     "output_type": "display_data"
    }
   ],
   "source": [
    "# Импорт данных\n",
    "df = pd.read_csv('/datasets/autos.csv')\n",
    "display(df.shape)\n",
    "display(df.info())\n",
    "display(df.head())\n",
    "display(df.describe())"
   ]
  },
  {
   "cell_type": "markdown",
   "metadata": {},
   "source": [
    "Итак,\n",
    "1. У нас есть 15 признаков и 1 целевок признак Price \n",
    "2. Это задача регрессии\n",
    "3. Признаки, которые не являются информативными (нужно удалить) :\n",
    " - DateCrawled — дата скачивания анкеты из базы\n",
    " - DateCreated — дата создания анкеты\n",
    " - NumberOfPictures — количество фотографий автомобиля ??\n",
    " - PostalCode — почтовый индекс владельца анкеты (пользователя)\n",
    " - LastSeen — дата последней активности пользователя  \n"
   ]
  },
  {
   "cell_type": "markdown",
   "metadata": {},
   "source": [
    "Удалим эти признаки и продолжим анализ."
   ]
  },
  {
   "cell_type": "markdown",
   "metadata": {},
   "source": [
    "### Удаление неинформативных признаков"
   ]
  },
  {
   "cell_type": "code",
   "execution_count": 3,
   "metadata": {},
   "outputs": [],
   "source": [
    "df = df.drop(['DateCreated','NumberOfPictures','PostalCode','LastSeen','RegistrationMonth'], axis=1)"
   ]
  },
  {
   "cell_type": "code",
   "execution_count": 4,
   "metadata": {},
   "outputs": [
    {
     "data": {
      "text/plain": [
       "(354369, 11)"
      ]
     },
     "metadata": {},
     "output_type": "display_data"
    },
    {
     "name": "stdout",
     "output_type": "stream",
     "text": [
      "<class 'pandas.core.frame.DataFrame'>\n",
      "RangeIndex: 354369 entries, 0 to 354368\n",
      "Data columns (total 11 columns):\n",
      " #   Column            Non-Null Count   Dtype \n",
      "---  ------            --------------   ----- \n",
      " 0   DateCrawled       354369 non-null  object\n",
      " 1   Price             354369 non-null  int64 \n",
      " 2   VehicleType       316879 non-null  object\n",
      " 3   RegistrationYear  354369 non-null  int64 \n",
      " 4   Gearbox           334536 non-null  object\n",
      " 5   Power             354369 non-null  int64 \n",
      " 6   Model             334664 non-null  object\n",
      " 7   Kilometer         354369 non-null  int64 \n",
      " 8   FuelType          321474 non-null  object\n",
      " 9   Brand             354369 non-null  object\n",
      " 10  NotRepaired       283215 non-null  object\n",
      "dtypes: int64(4), object(7)\n",
      "memory usage: 29.7+ MB\n"
     ]
    },
    {
     "data": {
      "text/plain": [
       "None"
      ]
     },
     "metadata": {},
     "output_type": "display_data"
    },
    {
     "data": {
      "text/html": [
       "<div>\n",
       "<style scoped>\n",
       "    .dataframe tbody tr th:only-of-type {\n",
       "        vertical-align: middle;\n",
       "    }\n",
       "\n",
       "    .dataframe tbody tr th {\n",
       "        vertical-align: top;\n",
       "    }\n",
       "\n",
       "    .dataframe thead th {\n",
       "        text-align: right;\n",
       "    }\n",
       "</style>\n",
       "<table border=\"1\" class=\"dataframe\">\n",
       "  <thead>\n",
       "    <tr style=\"text-align: right;\">\n",
       "      <th></th>\n",
       "      <th>DateCrawled</th>\n",
       "      <th>Price</th>\n",
       "      <th>VehicleType</th>\n",
       "      <th>RegistrationYear</th>\n",
       "      <th>Gearbox</th>\n",
       "      <th>Power</th>\n",
       "      <th>Model</th>\n",
       "      <th>Kilometer</th>\n",
       "      <th>FuelType</th>\n",
       "      <th>Brand</th>\n",
       "      <th>NotRepaired</th>\n",
       "    </tr>\n",
       "  </thead>\n",
       "  <tbody>\n",
       "    <tr>\n",
       "      <th>0</th>\n",
       "      <td>2016-03-24 11:52:17</td>\n",
       "      <td>480</td>\n",
       "      <td>NaN</td>\n",
       "      <td>1993</td>\n",
       "      <td>manual</td>\n",
       "      <td>0</td>\n",
       "      <td>golf</td>\n",
       "      <td>150000</td>\n",
       "      <td>petrol</td>\n",
       "      <td>volkswagen</td>\n",
       "      <td>NaN</td>\n",
       "    </tr>\n",
       "    <tr>\n",
       "      <th>1</th>\n",
       "      <td>2016-03-24 10:58:45</td>\n",
       "      <td>18300</td>\n",
       "      <td>coupe</td>\n",
       "      <td>2011</td>\n",
       "      <td>manual</td>\n",
       "      <td>190</td>\n",
       "      <td>NaN</td>\n",
       "      <td>125000</td>\n",
       "      <td>gasoline</td>\n",
       "      <td>audi</td>\n",
       "      <td>yes</td>\n",
       "    </tr>\n",
       "    <tr>\n",
       "      <th>2</th>\n",
       "      <td>2016-03-14 12:52:21</td>\n",
       "      <td>9800</td>\n",
       "      <td>suv</td>\n",
       "      <td>2004</td>\n",
       "      <td>auto</td>\n",
       "      <td>163</td>\n",
       "      <td>grand</td>\n",
       "      <td>125000</td>\n",
       "      <td>gasoline</td>\n",
       "      <td>jeep</td>\n",
       "      <td>NaN</td>\n",
       "    </tr>\n",
       "    <tr>\n",
       "      <th>3</th>\n",
       "      <td>2016-03-17 16:54:04</td>\n",
       "      <td>1500</td>\n",
       "      <td>small</td>\n",
       "      <td>2001</td>\n",
       "      <td>manual</td>\n",
       "      <td>75</td>\n",
       "      <td>golf</td>\n",
       "      <td>150000</td>\n",
       "      <td>petrol</td>\n",
       "      <td>volkswagen</td>\n",
       "      <td>no</td>\n",
       "    </tr>\n",
       "    <tr>\n",
       "      <th>4</th>\n",
       "      <td>2016-03-31 17:25:20</td>\n",
       "      <td>3600</td>\n",
       "      <td>small</td>\n",
       "      <td>2008</td>\n",
       "      <td>manual</td>\n",
       "      <td>69</td>\n",
       "      <td>fabia</td>\n",
       "      <td>90000</td>\n",
       "      <td>gasoline</td>\n",
       "      <td>skoda</td>\n",
       "      <td>no</td>\n",
       "    </tr>\n",
       "  </tbody>\n",
       "</table>\n",
       "</div>"
      ],
      "text/plain": [
       "           DateCrawled  Price VehicleType  RegistrationYear Gearbox  Power  \\\n",
       "0  2016-03-24 11:52:17    480         NaN              1993  manual      0   \n",
       "1  2016-03-24 10:58:45  18300       coupe              2011  manual    190   \n",
       "2  2016-03-14 12:52:21   9800         suv              2004    auto    163   \n",
       "3  2016-03-17 16:54:04   1500       small              2001  manual     75   \n",
       "4  2016-03-31 17:25:20   3600       small              2008  manual     69   \n",
       "\n",
       "   Model  Kilometer  FuelType       Brand NotRepaired  \n",
       "0   golf     150000    petrol  volkswagen         NaN  \n",
       "1    NaN     125000  gasoline        audi         yes  \n",
       "2  grand     125000  gasoline        jeep         NaN  \n",
       "3   golf     150000    petrol  volkswagen          no  \n",
       "4  fabia      90000  gasoline       skoda          no  "
      ]
     },
     "metadata": {},
     "output_type": "display_data"
    },
    {
     "data": {
      "text/html": [
       "<div>\n",
       "<style scoped>\n",
       "    .dataframe tbody tr th:only-of-type {\n",
       "        vertical-align: middle;\n",
       "    }\n",
       "\n",
       "    .dataframe tbody tr th {\n",
       "        vertical-align: top;\n",
       "    }\n",
       "\n",
       "    .dataframe thead th {\n",
       "        text-align: right;\n",
       "    }\n",
       "</style>\n",
       "<table border=\"1\" class=\"dataframe\">\n",
       "  <thead>\n",
       "    <tr style=\"text-align: right;\">\n",
       "      <th></th>\n",
       "      <th>Price</th>\n",
       "      <th>RegistrationYear</th>\n",
       "      <th>Power</th>\n",
       "      <th>Kilometer</th>\n",
       "    </tr>\n",
       "  </thead>\n",
       "  <tbody>\n",
       "    <tr>\n",
       "      <th>count</th>\n",
       "      <td>354369.000000</td>\n",
       "      <td>354369.000000</td>\n",
       "      <td>354369.000000</td>\n",
       "      <td>354369.000000</td>\n",
       "    </tr>\n",
       "    <tr>\n",
       "      <th>mean</th>\n",
       "      <td>4416.656776</td>\n",
       "      <td>2004.234448</td>\n",
       "      <td>110.094337</td>\n",
       "      <td>128211.172535</td>\n",
       "    </tr>\n",
       "    <tr>\n",
       "      <th>std</th>\n",
       "      <td>4514.158514</td>\n",
       "      <td>90.227958</td>\n",
       "      <td>189.850405</td>\n",
       "      <td>37905.341530</td>\n",
       "    </tr>\n",
       "    <tr>\n",
       "      <th>min</th>\n",
       "      <td>0.000000</td>\n",
       "      <td>1000.000000</td>\n",
       "      <td>0.000000</td>\n",
       "      <td>5000.000000</td>\n",
       "    </tr>\n",
       "    <tr>\n",
       "      <th>25%</th>\n",
       "      <td>1050.000000</td>\n",
       "      <td>1999.000000</td>\n",
       "      <td>69.000000</td>\n",
       "      <td>125000.000000</td>\n",
       "    </tr>\n",
       "    <tr>\n",
       "      <th>50%</th>\n",
       "      <td>2700.000000</td>\n",
       "      <td>2003.000000</td>\n",
       "      <td>105.000000</td>\n",
       "      <td>150000.000000</td>\n",
       "    </tr>\n",
       "    <tr>\n",
       "      <th>75%</th>\n",
       "      <td>6400.000000</td>\n",
       "      <td>2008.000000</td>\n",
       "      <td>143.000000</td>\n",
       "      <td>150000.000000</td>\n",
       "    </tr>\n",
       "    <tr>\n",
       "      <th>max</th>\n",
       "      <td>20000.000000</td>\n",
       "      <td>9999.000000</td>\n",
       "      <td>20000.000000</td>\n",
       "      <td>150000.000000</td>\n",
       "    </tr>\n",
       "  </tbody>\n",
       "</table>\n",
       "</div>"
      ],
      "text/plain": [
       "               Price  RegistrationYear          Power      Kilometer\n",
       "count  354369.000000     354369.000000  354369.000000  354369.000000\n",
       "mean     4416.656776       2004.234448     110.094337  128211.172535\n",
       "std      4514.158514         90.227958     189.850405   37905.341530\n",
       "min         0.000000       1000.000000       0.000000    5000.000000\n",
       "25%      1050.000000       1999.000000      69.000000  125000.000000\n",
       "50%      2700.000000       2003.000000     105.000000  150000.000000\n",
       "75%      6400.000000       2008.000000     143.000000  150000.000000\n",
       "max     20000.000000       9999.000000   20000.000000  150000.000000"
      ]
     },
     "metadata": {},
     "output_type": "display_data"
    }
   ],
   "source": [
    "display(df.shape)\n",
    "display(df.info())\n",
    "display(df.head())\n",
    "display(df.describe())"
   ]
  },
  {
   "cell_type": "markdown",
   "metadata": {},
   "source": [
    "1. У нас осталось 9 информативных признаков и 1 целевой\n",
    "2. Количество пропущенных значений достаточно много. Посмотрим, можно ли их заполнить, и сделаем это.\n",
    "3. Но перед этим проверим уникальные значения всех столбцов.\n",
    "4. По таблице выше можно заметить неадекватный год регистрации - 9999, Слишком высокое значение мощности 20000."
   ]
  },
  {
   "cell_type": "markdown",
   "metadata": {},
   "source": [
    "### Уникальные значения столбцов"
   ]
  },
  {
   "cell_type": "code",
   "execution_count": 5,
   "metadata": {
    "scrolled": true
   },
   "outputs": [
    {
     "name": "stdout",
     "output_type": "stream",
     "text": [
      "Unique values of DateCrawled\n",
      "['2016-03-24 11:52:17' '2016-03-24 10:58:45' '2016-03-14 12:52:21' ...\n",
      " '2016-03-21 09:50:58' '2016-03-14 17:48:27' '2016-03-19 18:57:12']\n",
      "Unique values of Price\n",
      "[  480 18300  9800 ... 12395 18429 10985]\n",
      "Unique values of VehicleType\n",
      "[nan 'coupe' 'suv' 'small' 'sedan' 'convertible' 'bus' 'wagon' 'other']\n",
      "Unique values of RegistrationYear\n",
      "[1993 2011 2004 2001 2008 1995 1980 2014 1998 2005 1910 2016 2007 2009\n",
      " 2002 2018 1997 1990 2017 1981 2003 1994 1991 1984 2006 1999 2012 2010\n",
      " 2000 1992 2013 1996 1985 1989 2015 1982 1976 1983 1973 1111 1969 1971\n",
      " 1987 1986 1988 1970 1965 1945 1925 1974 1979 1955 1978 1972 1968 1977\n",
      " 1961 1960 1966 1975 1963 1964 5000 1954 1958 1967 1959 9999 1956 3200\n",
      " 1000 1941 8888 1500 2200 4100 1962 1929 1957 1940 3000 2066 1949 2019\n",
      " 1937 1951 1800 1953 1234 8000 5300 9000 2900 6000 5900 5911 1933 1400\n",
      " 1950 4000 1948 1952 1200 8500 1932 1255 3700 3800 4800 1942 7000 1935\n",
      " 1936 6500 1923 2290 2500 1930 1001 9450 1944 1943 1934 1938 1688 2800\n",
      " 1253 1928 1919 5555 5600 1600 2222 1039 9996 1300 8455 1931 1915 4500\n",
      " 1920 1602 7800 9229 1947 1927 7100 8200 1946 7500 3500]\n",
      "Unique values of Gearbox\n",
      "['manual' 'auto' nan]\n",
      "Unique values of Power\n",
      "[    0   190   163    75    69   102   109    50   125   101   105   140\n",
      "   115   131    60   136   160   231    90   118   193    99   113   218\n",
      "   122   129    70   306    95    61   177    80   170    55   143    64\n",
      "   286   232   150   156    82   155    54   185    87   180    86    84\n",
      "   224   235   200   178   265    77   110   144   120   116   184   126\n",
      "   204    88   194   305   197   179   250    45   313    41   165    98\n",
      "   130   114   211    56   201   213    58   107    83   174   100   220\n",
      "    85    73   192    68    66   299    74    52   147    65   310    71\n",
      "    97   239   203     5   300   103   258   320    63    81   148    44\n",
      "   145   230   280   260   104   188   333   186   117   141    59   132\n",
      "   234   158    39    92    51   135    53   209    43   146    67   106\n",
      "   166   276   344    72   249   237   245   111   326   279    23   138\n",
      "   175    96   226    26    37   301   334   128   133   124    33   219\n",
      "   241   167    94   182   196   238  1398   228   112    48   272   139\n",
      "  1799    40   240    79   256   360   243   375   252   396   340   108\n",
      "   121   345   187   289   222   198   284   450   233   387   152   347\n",
      "   172    57   137   212   476   314    30     7    47   173   290   207\n",
      "   205   171   750    78    91    89   349   325    76   151   350   953\n",
      "    93   142   500   343   199   119   164    16   264   367   208   210\n",
      "    46   435  1001   225   127   176   161   603   307   354    35   206\n",
      "   771   355   273   223   255   123   154   149  7515  1400   268   620\n",
      "   169   400   275    34     2   242  1779   285   162   328  1753   329\n",
      "   134   420   247   168 10317   215    18   330   283    62    10   214\n",
      "   183   254    15   321   322   315   952   600   181   426   599   379\n",
      "   999    22   157    42   195   553     4   309   507   381   271   440\n",
      "   189   401  1111  2729    21   236  1240  1704   521     1  1900   270\n",
      "    24   159   292   808   515  1200   303    29    38  1993    14   216\n",
      "   610   504    49   267   331   363   261   385  1011   253   696 10520\n",
      "   376   227   311    27   217    20  1999    11  1056    25   394    12\n",
      "   298   296  1659   294   551  6920   246    17  1800  1625   368   390\n",
      "   221  1367   259   606   327  2017  1597   266   374   392     9   405\n",
      "    13   262   601   430   295     8   411   900   541  7512   382 10218\n",
      "  7544  1102   287    19   751   297  1090   457   282   602   388     6\n",
      "  1000  5411   335  1360   202  3750   805  1062  1024 11530   364  1796\n",
      "  5000   269   460  1002   288  1780 12012 17932   316  2005  1399   191\n",
      "   278  1300   380   257   449  1256   153  1653   520   560   281 12510\n",
      "     3  1500   386    32  1202  2016  1436  1405   671   274  1288  1055\n",
      " 10912 15016  6226  1115   277  1105   341  1223  2340  8404  1968   338\n",
      "   445  1920   370   517  4400 10710 10522  9010   431  1164 11509   371\n",
      "  1501   428 11635    36   304   348  1703  1910  1995   579 10000   580\n",
      "   408    31  1005   358  1403   489  5575 19211   585   960   365   353\n",
      "   490   352  1801   346   550  3199   800  7508  1312   357  1937   950\n",
      "  4700  1600  3454 19208   251   850   337   700  8011  2331  2789   487\n",
      "   519  2461  6006  3500  5815  6018  1781  1503   612  1596   229  1506\n",
      "  5809 15020  5867  2172  1598 17410  1363   584  1054   851  1339   318\n",
      "   510   525  1700    28  1151   685  6011   317   703  1771 15001   514\n",
      "   362   332   324  6045   530   425   308  6010   475   903   640  2000\n",
      "   248   651  2799 17011   505  1103  1521   351 16051   398  9000  1998\n",
      " 10311   409  1230 17019 12684  8259  1895   901  1317   871   909  2201\n",
      "  1595   776 17700 11011  1199   459  1162  1120 15033  1896   339   361\n",
      "   574  6512   454   650 13616   604   607 16312  1082   336 20000   416\n",
      "   678  6012  1401  1021  1870 13636  1250  9710   323  1158  2009   902\n",
      "  6062  1275   572   244   399  1016   743  1221  2402 16011  1362   544\n",
      "   645   907   702 12512  1986  1003  1432  9013  9011   442  1017  1394\n",
      " 15017 10910  1992   540  2018 11025  1433  1701  2792  1502  1239  1390\n",
      " 14009  1160  1351 11111  1783  9007   923  1149   754  1988   402  2004\n",
      "  5420  1793  1324   356  7511  1299   293 19312  1079  1689   998  1100\n",
      "  9012  1933   508 16311   682  1252  1922  7529   732  2389  2200  1707\n",
      "  1416  8500  1012   485  3000 10110   421  4507  1631  7518   377  1004\n",
      "  2007  2598  1548  1241]\n",
      "Unique values of Model\n",
      "['golf' nan 'grand' 'fabia' '3er' '2_reihe' 'other' 'c_max' '3_reihe'\n",
      " 'passat' 'navara' 'ka' 'polo' 'twingo' 'a_klasse' 'scirocco' '5er'\n",
      " 'meriva' 'arosa' 'c4' 'civic' 'transporter' 'punto' 'e_klasse' 'clio'\n",
      " 'kadett' 'kangoo' 'corsa' 'one' 'fortwo' '1er' 'b_klasse' 'signum'\n",
      " 'astra' 'a8' 'jetta' 'fiesta' 'c_klasse' 'micra' 'vito' 'sprinter' '156'\n",
      " 'escort' 'forester' 'xc_reihe' 'scenic' 'a4' 'a1' 'insignia' 'combo'\n",
      " 'focus' 'tt' 'a6' 'jazz' 'omega' 'slk' '7er' '80' '147' '100' 'z_reihe'\n",
      " 'sportage' 'sorento' 'v40' 'ibiza' 'mustang' 'eos' 'touran' 'getz' 'a3'\n",
      " 'almera' 'megane' 'lupo' 'r19' 'zafira' 'caddy' 'mondeo' 'cordoba' 'colt'\n",
      " 'impreza' 'vectra' 'berlingo' 'tiguan' 'i_reihe' 'espace' 'sharan'\n",
      " '6_reihe' 'panda' 'up' 'seicento' 'ceed' '5_reihe' 'yeti' 'octavia' 'mii'\n",
      " 'rx_reihe' '6er' 'modus' 'fox' 'matiz' 'beetle' 'c1' 'rio' 'touareg'\n",
      " 'logan' 'spider' 'cuore' 's_max' 'a2' 'galaxy' 'c3' 'viano' 's_klasse'\n",
      " '1_reihe' 'avensis' 'roomster' 'sl' 'kaefer' 'santa' 'cooper' 'leon'\n",
      " '4_reihe' 'a5' '500' 'laguna' 'ptcruiser' 'clk' 'primera' 'x_reihe'\n",
      " 'exeo' '159' 'transit' 'juke' 'qashqai' 'carisma' 'accord' 'corolla'\n",
      " 'lanos' 'phaeton' 'verso' 'swift' 'rav' 'picanto' 'boxster' 'kalos'\n",
      " 'superb' 'stilo' 'alhambra' 'mx_reihe' 'roadster' 'ypsilon' 'cayenne'\n",
      " 'galant' 'justy' '90' 'sirion' 'crossfire' 'agila' 'duster' 'cr_reihe'\n",
      " 'v50' 'c_reihe' 'v_klasse' 'm_klasse' 'yaris' 'c5' 'aygo' 'cc' 'carnival'\n",
      " 'fusion' '911' 'bora' 'forfour' 'm_reihe' 'cl' 'tigra' '300c' 'spark'\n",
      " 'v70' 'kuga' 'x_type' 'ducato' 's_type' 'x_trail' 'toledo' 'altea'\n",
      " 'voyager' 'calibra' 'bravo' 'antara' 'tucson' 'citigo' 'jimny' 'wrangler'\n",
      " 'lybra' 'q7' 'lancer' 'captiva' 'c2' 'discovery' 'freelander' 'sandero'\n",
      " 'note' '900' 'cherokee' 'clubman' 'samara' 'defender' '601' 'cx_reihe'\n",
      " 'legacy' 'pajero' 'auris' 'niva' 's60' 'nubira' 'vivaro' 'g_klasse'\n",
      " 'lodgy' '850' 'range_rover' 'q3' 'serie_2' 'glk' 'charade' 'croma'\n",
      " 'outlander' 'doblo' 'musa' 'move' '9000' 'v60' '145' 'aveo' '200' 'b_max'\n",
      " 'range_rover_sport' 'terios' 'rangerover' 'q5' 'range_rover_evoque'\n",
      " 'materia' 'delta' 'gl' 'kalina' 'amarok' 'elefantino' 'i3' 'kappa'\n",
      " 'serie_3' 'serie_1']\n",
      "Unique values of Kilometer\n",
      "[150000 125000  90000  40000  30000  70000   5000 100000  60000  20000\n",
      "  80000  50000  10000]\n",
      "Unique values of FuelType\n",
      "['petrol' 'gasoline' nan 'lpg' 'other' 'hybrid' 'cng' 'electric']\n",
      "Unique values of Brand\n",
      "['volkswagen' 'audi' 'jeep' 'skoda' 'bmw' 'peugeot' 'ford' 'mazda'\n",
      " 'nissan' 'renault' 'mercedes_benz' 'opel' 'seat' 'citroen' 'honda' 'fiat'\n",
      " 'mini' 'smart' 'hyundai' 'sonstige_autos' 'alfa_romeo' 'subaru' 'volvo'\n",
      " 'mitsubishi' 'kia' 'suzuki' 'lancia' 'toyota' 'chevrolet' 'dacia'\n",
      " 'daihatsu' 'trabant' 'saab' 'chrysler' 'jaguar' 'daewoo' 'porsche'\n",
      " 'rover' 'land_rover' 'lada']\n",
      "Unique values of NotRepaired\n",
      "[nan 'yes' 'no']\n"
     ]
    }
   ],
   "source": [
    "def valcount(dataframe):\n",
    "    for col in dataframe.columns:\n",
    "        print('Unique values of', col)\n",
    "        print(dataframe[col].unique())\n",
    "        \n",
    "valcount(df)"
   ]
  },
  {
   "cell_type": "markdown",
   "metadata": {},
   "source": [
    "### Изучение целевого признака"
   ]
  },
  {
   "cell_type": "code",
   "execution_count": 6,
   "metadata": {},
   "outputs": [
    {
     "data": {
      "image/png": "[encoded data removed]",
      "text/plain": [
       "<Figure size 720x432 with 1 Axes>"
      ]
     },
     "metadata": {
      "needs_background": "light"
     },
     "output_type": "display_data"
    }
   ],
   "source": [
    "plt.figure(figsize=[10,6])\n",
    "plt.hist(df.Price, bins=100)\n",
    "#plt.xlim([0,500])\n",
    "plt.show()"
   ]
  },
  {
   "cell_type": "markdown",
   "metadata": {},
   "source": [
    "Распределение целевого признака - цены выглядят не очень реальными,  очень много значений, близких к 0, есть пик цены в почти 20тыс.евро. Думаю, объекты с ценами меньше 200 евро можно точно удалить, ибо похоже, что такого не существует."
   ]
  },
  {
   "cell_type": "code",
   "execution_count": 7,
   "metadata": {},
   "outputs": [
    {
     "data": {
      "text/plain": [
       "Int64Index([     7,     40,     59,     79,     89,    111,    115,    145,\n",
       "               152,    154,\n",
       "            ...\n",
       "            354158, 354175, 354205, 354238, 354248, 354273, 354277, 354309,\n",
       "            354338, 354364],\n",
       "           dtype='int64', length=17462)"
      ]
     },
     "execution_count": 7,
     "metadata": {},
     "output_type": "execute_result"
    }
   ],
   "source": [
    "df[df['Price']<200].index"
   ]
  },
  {
   "cell_type": "code",
   "execution_count": 8,
   "metadata": {},
   "outputs": [],
   "source": [
    "df = df.drop(df[df['Price']<200].index, axis=0)"
   ]
  },
  {
   "cell_type": "markdown",
   "metadata": {},
   "source": [
    "\n",
    "<div class=\"alert alert-block alert-info\">\n",
    "Самое интересное, что на нескольких сайтов по продажам подержанных автомобилей в Германии (страну можно определить по почтовым индексам, большинство из них из Германии) показало, что цены начинаются действительно с 0 и 1 евро, но это единичные объявления и не понятно, то ли это ошибка при заполнении формы, то ли машины на металлолом. Но я  все-таки склоняюсь к тому, чтобы избавиться от таких данных\n",
    "</div>\n"
   ]
  },
  {
   "cell_type": "code",
   "execution_count": 9,
   "metadata": {},
   "outputs": [
    {
     "data": {
      "text/html": [
       "<div>\n",
       "<style scoped>\n",
       "    .dataframe tbody tr th:only-of-type {\n",
       "        vertical-align: middle;\n",
       "    }\n",
       "\n",
       "    .dataframe tbody tr th {\n",
       "        vertical-align: top;\n",
       "    }\n",
       "\n",
       "    .dataframe thead th {\n",
       "        text-align: right;\n",
       "    }\n",
       "</style>\n",
       "<table border=\"1\" class=\"dataframe\">\n",
       "  <thead>\n",
       "    <tr style=\"text-align: right;\">\n",
       "      <th></th>\n",
       "      <th>Price</th>\n",
       "      <th>RegistrationYear</th>\n",
       "      <th>Power</th>\n",
       "      <th>Kilometer</th>\n",
       "    </tr>\n",
       "  </thead>\n",
       "  <tbody>\n",
       "    <tr>\n",
       "      <th>count</th>\n",
       "      <td>336907.000000</td>\n",
       "      <td>336907.000000</td>\n",
       "      <td>336907.000000</td>\n",
       "      <td>336907.000000</td>\n",
       "    </tr>\n",
       "    <tr>\n",
       "      <th>mean</th>\n",
       "      <td>4643.615119</td>\n",
       "      <td>2003.979947</td>\n",
       "      <td>112.112313</td>\n",
       "      <td>128475.543696</td>\n",
       "    </tr>\n",
       "    <tr>\n",
       "      <th>std</th>\n",
       "      <td>4515.337846</td>\n",
       "      <td>67.938601</td>\n",
       "      <td>188.015264</td>\n",
       "      <td>37168.253591</td>\n",
       "    </tr>\n",
       "    <tr>\n",
       "      <th>min</th>\n",
       "      <td>200.000000</td>\n",
       "      <td>1000.000000</td>\n",
       "      <td>0.000000</td>\n",
       "      <td>5000.000000</td>\n",
       "    </tr>\n",
       "    <tr>\n",
       "      <th>25%</th>\n",
       "      <td>1250.000000</td>\n",
       "      <td>1999.000000</td>\n",
       "      <td>71.000000</td>\n",
       "      <td>125000.000000</td>\n",
       "    </tr>\n",
       "    <tr>\n",
       "      <th>50%</th>\n",
       "      <td>2950.000000</td>\n",
       "      <td>2003.000000</td>\n",
       "      <td>105.000000</td>\n",
       "      <td>150000.000000</td>\n",
       "    </tr>\n",
       "    <tr>\n",
       "      <th>75%</th>\n",
       "      <td>6650.000000</td>\n",
       "      <td>2008.000000</td>\n",
       "      <td>143.000000</td>\n",
       "      <td>150000.000000</td>\n",
       "    </tr>\n",
       "    <tr>\n",
       "      <th>max</th>\n",
       "      <td>20000.000000</td>\n",
       "      <td>9999.000000</td>\n",
       "      <td>20000.000000</td>\n",
       "      <td>150000.000000</td>\n",
       "    </tr>\n",
       "  </tbody>\n",
       "</table>\n",
       "</div>"
      ],
      "text/plain": [
       "               Price  RegistrationYear          Power      Kilometer\n",
       "count  336907.000000     336907.000000  336907.000000  336907.000000\n",
       "mean     4643.615119       2003.979947     112.112313  128475.543696\n",
       "std      4515.337846         67.938601     188.015264   37168.253591\n",
       "min       200.000000       1000.000000       0.000000    5000.000000\n",
       "25%      1250.000000       1999.000000      71.000000  125000.000000\n",
       "50%      2950.000000       2003.000000     105.000000  150000.000000\n",
       "75%      6650.000000       2008.000000     143.000000  150000.000000\n",
       "max     20000.000000       9999.000000   20000.000000  150000.000000"
      ]
     },
     "execution_count": 9,
     "metadata": {},
     "output_type": "execute_result"
    }
   ],
   "source": [
    "df.describe()"
   ]
  },
  {
   "cell_type": "markdown",
   "metadata": {},
   "source": [
    "***"
   ]
  },
  {
   "cell_type": "markdown",
   "metadata": {},
   "source": [
    "### Удаление NaN"
   ]
  },
  {
   "cell_type": "markdown",
   "metadata": {},
   "source": [
    "В VehicleType,Gearbox, Model,FuelType,NotRepaired  - есть NaN, заменить их не удастся, поэтому удаляем:"
   ]
  },
  {
   "cell_type": "code",
   "execution_count": 10,
   "metadata": {},
   "outputs": [
    {
     "data": {
      "text/plain": [
       "DateCrawled             0\n",
       "Price                   0\n",
       "VehicleType         31380\n",
       "RegistrationYear        0\n",
       "Gearbox             15555\n",
       "Power                   0\n",
       "Model               16574\n",
       "Kilometer               0\n",
       "FuelType            27214\n",
       "Brand                   0\n",
       "NotRepaired         62445\n",
       "dtype: int64"
      ]
     },
     "execution_count": 10,
     "metadata": {},
     "output_type": "execute_result"
    }
   ],
   "source": [
    "df.isnull().sum()"
   ]
  },
  {
   "cell_type": "code",
   "execution_count": 12,
   "metadata": {},
   "outputs": [
    {
     "data": {
      "text/plain": [
       "no     242461\n",
       "yes     32001\n",
       "Name: NotRepaired, dtype: int64"
      ]
     },
     "execution_count": 12,
     "metadata": {},
     "output_type": "execute_result"
    }
   ],
   "source": [
    "df.NotRepaired.value_counts()"
   ]
  },
  {
   "cell_type": "markdown",
   "metadata": {},
   "source": [
    "***"
   ]
  },
  {
   "cell_type": "markdown",
   "metadata": {},
   "source": [
    "### Заполнение пропущенных значений"
   ]
  },
  {
   "cell_type": "markdown",
   "metadata": {},
   "source": [
    "<div class=\"alert alert-block alert-success\">\n",
    "\n",
    "Стратегии их заполнения на обучении модели и в процессе предсказания на тестовой выборке могут быть разными.<br><br>  На обучении объекты с пропусками в некоторых важных признаках можно и удалить для построения более точной модели (если их малое количество), а на тестировании пропуски следует заполнять, ведь в общем случае мы не можем отказать клиенту в рекомендации, если он не заполнил все сведения об автомобиле (хотя можем и потребовать). <br>  <br> Пропуски в \"Model\" (модель автомобиля) на обучающей выборке удаляем, на тестовой заполняем наиболее частой моделью для указанного \"Brand\" (марка автомобиля) в соответствующий год регистрации.\n",
    " <br> <br>   Пропуски в \"VehicleType\" (тип автомобильного кузова) заполняем наиболее частым значением для соответствующих Brand, Model и года регистрации. <br>  <br>  Пропуски в \"Gearbox\" (тип коробки передач) и \"FuelType\" (тип топлива), заполняем по наиболее частым значениям в автомобилях, сгруппированных по указанным выше признакам. <br>  <br> Пропуски \"NotRepaired\" (была машина в ремонте или нет) заполняем наиболее частым значением среди автомобилей той же марки и года регистрации"
   ]
  },
  {
   "cell_type": "code",
   "execution_count": 13,
   "metadata": {
    "scrolled": true
   },
   "outputs": [],
   "source": [
    "from sklearn.impute import SimpleImputer\n",
    "imp = SimpleImputer(missing_values=np.NaN,strategy=\"most_frequent\")\n",
    "new_model = imp.fit_transform(df[['Brand','Model','RegistrationYear']])\n",
    "new_model = pd.DataFrame(new_model, columns = ['Brand','Model','RegistrationYear'] )\n",
    "df['Model'] = new_model['Model'].values"
   ]
  },
  {
   "cell_type": "code",
   "execution_count": 14,
   "metadata": {},
   "outputs": [],
   "source": [
    "imp = SimpleImputer(strategy=\"most_frequent\")\n",
    "new_model = imp.fit_transform(df[['Brand','Model','RegistrationYear','VehicleType']])\n",
    "new_model = pd.DataFrame(new_model, columns = ['Brand','Model','RegistrationYear','VehicleType'] )\n",
    "df['VehicleType'] = new_model['VehicleType'].values"
   ]
  },
  {
   "cell_type": "code",
   "execution_count": 15,
   "metadata": {
    "scrolled": true
   },
   "outputs": [],
   "source": [
    "imp = SimpleImputer(strategy=\"most_frequent\")\n",
    "new_model = imp.fit_transform(df[['Brand','Model','RegistrationYear','VehicleType','Gearbox','FuelType']])\n",
    "new_model = pd.DataFrame(new_model, columns = ['Brand','Model','RegistrationYear','VehicleType','Gearbox','FuelType'] )\n",
    "df['Gearbox'] = new_model['Gearbox'].values\n",
    "df['FuelType'] = new_model['FuelType'].values"
   ]
  },
  {
   "cell_type": "code",
   "execution_count": 16,
   "metadata": {},
   "outputs": [],
   "source": [
    "imp = SimpleImputer(strategy=\"most_frequent\")\n",
    "new_model = imp.fit_transform(df[['Brand','RegistrationYear', 'NotRepaired']])\n",
    "new_model = pd.DataFrame(new_model, columns = ['Brand','RegistrationYear', 'NotRepaired'] )\n",
    "df['NotRepaired'] = new_model['NotRepaired'].values"
   ]
  },
  {
   "cell_type": "code",
   "execution_count": 17,
   "metadata": {},
   "outputs": [
    {
     "data": {
      "text/plain": [
       "DateCrawled         0\n",
       "Price               0\n",
       "VehicleType         0\n",
       "RegistrationYear    0\n",
       "Gearbox             0\n",
       "Power               0\n",
       "Model               0\n",
       "Kilometer           0\n",
       "FuelType            0\n",
       "Brand               0\n",
       "NotRepaired         0\n",
       "dtype: int64"
      ]
     },
     "execution_count": 17,
     "metadata": {},
     "output_type": "execute_result"
    }
   ],
   "source": [
    "df.isna().sum()"
   ]
  },
  {
   "cell_type": "markdown",
   "metadata": {},
   "source": [
    "### Удаление аномальных данных"
   ]
  },
  {
   "cell_type": "code",
   "execution_count": 20,
   "metadata": {},
   "outputs": [
    {
     "data": {
      "text/plain": [
       "<AxesSubplot:ylabel='Frequency'>"
      ]
     },
     "execution_count": 20,
     "metadata": {},
     "output_type": "execute_result"
    },
    {
     "data": {
      "image/png": "[encoded data removed]",
      "text/plain": [
       "<Figure size 432x288 with 1 Axes>"
      ]
     },
     "metadata": {
      "needs_background": "light"
     },
     "output_type": "display_data"
    }
   ],
   "source": [
    "df.RegistrationYear.plot(kind='hist', ec='black', bins=50)"
   ]
  },
  {
   "cell_type": "markdown",
   "metadata": {},
   "source": [
    " Посмотрим на  максимальную дату скачивания анкеты автомобиля."
   ]
  },
  {
   "cell_type": "code",
   "execution_count": 21,
   "metadata": {
    "scrolled": true
   },
   "outputs": [
    {
     "data": {
      "text/plain": [
       "Timestamp('2016-04-07 14:36:58')"
      ]
     },
     "execution_count": 21,
     "metadata": {},
     "output_type": "execute_result"
    }
   ],
   "source": [
    "date = pd.to_datetime(df['DateCrawled'])\n",
    "date.max()"
   ]
  },
  {
   "cell_type": "markdown",
   "metadata": {},
   "source": [
    "Даты регистрации после 2016 года убираем и машины появились не раньше 1900 года. Отсечем ненужные года и промотрим левые выбросы."
   ]
  },
  {
   "cell_type": "code",
   "execution_count": 22,
   "metadata": {},
   "outputs": [
    {
     "data": {
      "text/plain": [
       "count    323252.000000\n",
       "mean       2002.676698\n",
       "std           6.832694\n",
       "min        1910.000000\n",
       "25%        1999.000000\n",
       "50%        2003.000000\n",
       "75%        2007.000000\n",
       "max        2016.000000\n",
       "Name: RegistrationYear, dtype: float64"
      ]
     },
     "execution_count": 22,
     "metadata": {},
     "output_type": "execute_result"
    },
    {
     "data": {
      "image/png": "[encoded data removed]",
      "text/plain": [
       "<Figure size 432x288 with 1 Axes>"
      ]
     },
     "metadata": {
      "needs_background": "light"
     },
     "output_type": "display_data"
    }
   ],
   "source": [
    "df = df.query('1899 < RegistrationYear < 2017')\n",
    "df['RegistrationYear'].hist(bins=100)\n",
    "df['RegistrationYear'].describe()"
   ]
  },
  {
   "cell_type": "markdown",
   "metadata": {},
   "source": [
    "Похоже, что стоит использовать данные, начиная с 1960 года, может они уже и не работают, зато могут быть коллекционным"
   ]
  },
  {
   "cell_type": "code",
   "execution_count": 23,
   "metadata": {},
   "outputs": [],
   "source": [
    "df = df.query('1959 < RegistrationYear < 2017')"
   ]
  },
  {
   "cell_type": "code",
   "execution_count": 24,
   "metadata": {},
   "outputs": [],
   "source": [
    "#теперь можно удалить этот столбец\n",
    "df = df.drop('DateCrawled', axis=1)"
   ]
  },
  {
   "cell_type": "markdown",
   "metadata": {},
   "source": [
    "***"
   ]
  },
  {
   "cell_type": "code",
   "execution_count": 25,
   "metadata": {},
   "outputs": [
    {
     "data": {
      "text/plain": [
       "<AxesSubplot:ylabel='Frequency'>"
      ]
     },
     "execution_count": 25,
     "metadata": {},
     "output_type": "execute_result"
    },
    {
     "data": {
      "image/png": "[encoded data removed]",
      "text/plain": [
       "<Figure size 432x288 with 1 Axes>"
      ]
     },
     "metadata": {
      "needs_background": "light"
     },
     "output_type": "display_data"
    }
   ],
   "source": [
    "df.Power.plot(kind='hist', ec='black', bins=50)"
   ]
  },
  {
   "cell_type": "markdown",
   "metadata": {},
   "source": [
    "Уберем аномально высокие значения мощности:  \n",
    "можно смело убирать выше 500 л.с."
   ]
  },
  {
   "cell_type": "code",
   "execution_count": 27,
   "metadata": {},
   "outputs": [],
   "source": [
    "df = df.query('10 < Power < 500')"
   ]
  },
  {
   "cell_type": "code",
   "execution_count": 28,
   "metadata": {},
   "outputs": [
    {
     "data": {
      "text/plain": [
       "<AxesSubplot:ylabel='Frequency'>"
      ]
     },
     "execution_count": 28,
     "metadata": {},
     "output_type": "execute_result"
    },
    {
     "data": {
      "image/png": "[encoded data removed]",
      "text/plain": [
       "<Figure size 432x288 with 1 Axes>"
      ]
     },
     "metadata": {
      "needs_background": "light"
     },
     "output_type": "display_data"
    }
   ],
   "source": [
    "df.Power.plot(kind='hist', ec='black', bins=50)"
   ]
  },
  {
   "cell_type": "markdown",
   "metadata": {},
   "source": [
    "***"
   ]
  },
  {
   "cell_type": "markdown",
   "metadata": {},
   "source": [
    "### Проверка на дубликаты"
   ]
  },
  {
   "cell_type": "code",
   "execution_count": 29,
   "metadata": {},
   "outputs": [
    {
     "data": {
      "text/plain": [
       "48011"
      ]
     },
     "execution_count": 29,
     "metadata": {},
     "output_type": "execute_result"
    }
   ],
   "source": [
    "df.duplicated().sum()"
   ]
  },
  {
   "cell_type": "markdown",
   "metadata": {},
   "source": [
    "Их достаточно много, но что поделать, придется удалить."
   ]
  },
  {
   "cell_type": "code",
   "execution_count": 30,
   "metadata": {},
   "outputs": [],
   "source": [
    "df = df.drop_duplicates()"
   ]
  },
  {
   "cell_type": "markdown",
   "metadata": {},
   "source": [
    "***"
   ]
  },
  {
   "cell_type": "markdown",
   "metadata": {},
   "source": [
    "### Корреляция"
   ]
  },
  {
   "cell_type": "code",
   "execution_count": 31,
   "metadata": {
    "scrolled": true
   },
   "outputs": [
    {
     "data": {
      "text/html": [
       "<div>\n",
       "<style scoped>\n",
       "    .dataframe tbody tr th:only-of-type {\n",
       "        vertical-align: middle;\n",
       "    }\n",
       "\n",
       "    .dataframe tbody tr th {\n",
       "        vertical-align: top;\n",
       "    }\n",
       "\n",
       "    .dataframe thead th {\n",
       "        text-align: right;\n",
       "    }\n",
       "</style>\n",
       "<table border=\"1\" class=\"dataframe\">\n",
       "  <thead>\n",
       "    <tr style=\"text-align: right;\">\n",
       "      <th></th>\n",
       "      <th>Price</th>\n",
       "      <th>RegistrationYear</th>\n",
       "      <th>Power</th>\n",
       "      <th>Kilometer</th>\n",
       "    </tr>\n",
       "  </thead>\n",
       "  <tbody>\n",
       "    <tr>\n",
       "      <th>Price</th>\n",
       "      <td>1.000000</td>\n",
       "      <td>0.476887</td>\n",
       "      <td>0.489674</td>\n",
       "      <td>-0.376385</td>\n",
       "    </tr>\n",
       "    <tr>\n",
       "      <th>RegistrationYear</th>\n",
       "      <td>0.476887</td>\n",
       "      <td>1.000000</td>\n",
       "      <td>0.110140</td>\n",
       "      <td>-0.285588</td>\n",
       "    </tr>\n",
       "    <tr>\n",
       "      <th>Power</th>\n",
       "      <td>0.489674</td>\n",
       "      <td>0.110140</td>\n",
       "      <td>1.000000</td>\n",
       "      <td>0.135864</td>\n",
       "    </tr>\n",
       "    <tr>\n",
       "      <th>Kilometer</th>\n",
       "      <td>-0.376385</td>\n",
       "      <td>-0.285588</td>\n",
       "      <td>0.135864</td>\n",
       "      <td>1.000000</td>\n",
       "    </tr>\n",
       "  </tbody>\n",
       "</table>\n",
       "</div>"
      ],
      "text/plain": [
       "                     Price  RegistrationYear     Power  Kilometer\n",
       "Price             1.000000          0.476887  0.489674  -0.376385\n",
       "RegistrationYear  0.476887          1.000000  0.110140  -0.285588\n",
       "Power             0.489674          0.110140  1.000000   0.135864\n",
       "Kilometer        -0.376385         -0.285588  0.135864   1.000000"
      ]
     },
     "execution_count": 31,
     "metadata": {},
     "output_type": "execute_result"
    }
   ],
   "source": [
    "df.corr()"
   ]
  },
  {
   "cell_type": "markdown",
   "metadata": {},
   "source": [
    "Корреляция прослеживается между ценой и годом регистрации, мощностью, километражом, а также между годом и километражом"
   ]
  },
  {
   "cell_type": "code",
   "execution_count": 33,
   "metadata": {
    "scrolled": true
   },
   "outputs": [
    {
     "data": {
      "text/html": [
       "<div>\n",
       "<style scoped>\n",
       "    .dataframe tbody tr th:only-of-type {\n",
       "        vertical-align: middle;\n",
       "    }\n",
       "\n",
       "    .dataframe tbody tr th {\n",
       "        vertical-align: top;\n",
       "    }\n",
       "\n",
       "    .dataframe thead th {\n",
       "        text-align: right;\n",
       "    }\n",
       "</style>\n",
       "<table border=\"1\" class=\"dataframe\">\n",
       "  <thead>\n",
       "    <tr style=\"text-align: right;\">\n",
       "      <th></th>\n",
       "      <th>Price</th>\n",
       "      <th>VehicleType</th>\n",
       "      <th>RegistrationYear</th>\n",
       "      <th>Gearbox</th>\n",
       "      <th>Power</th>\n",
       "      <th>Model</th>\n",
       "      <th>Kilometer</th>\n",
       "      <th>FuelType</th>\n",
       "      <th>Brand</th>\n",
       "      <th>NotRepaired</th>\n",
       "    </tr>\n",
       "  </thead>\n",
       "  <tbody>\n",
       "    <tr>\n",
       "      <th>1</th>\n",
       "      <td>18300</td>\n",
       "      <td>coupe</td>\n",
       "      <td>2011</td>\n",
       "      <td>manual</td>\n",
       "      <td>190</td>\n",
       "      <td>golf</td>\n",
       "      <td>125000</td>\n",
       "      <td>gasoline</td>\n",
       "      <td>audi</td>\n",
       "      <td>yes</td>\n",
       "    </tr>\n",
       "    <tr>\n",
       "      <th>2</th>\n",
       "      <td>9800</td>\n",
       "      <td>suv</td>\n",
       "      <td>2004</td>\n",
       "      <td>auto</td>\n",
       "      <td>163</td>\n",
       "      <td>grand</td>\n",
       "      <td>125000</td>\n",
       "      <td>gasoline</td>\n",
       "      <td>jeep</td>\n",
       "      <td>no</td>\n",
       "    </tr>\n",
       "    <tr>\n",
       "      <th>3</th>\n",
       "      <td>1500</td>\n",
       "      <td>small</td>\n",
       "      <td>2001</td>\n",
       "      <td>manual</td>\n",
       "      <td>75</td>\n",
       "      <td>golf</td>\n",
       "      <td>150000</td>\n",
       "      <td>petrol</td>\n",
       "      <td>volkswagen</td>\n",
       "      <td>no</td>\n",
       "    </tr>\n",
       "    <tr>\n",
       "      <th>4</th>\n",
       "      <td>3600</td>\n",
       "      <td>small</td>\n",
       "      <td>2008</td>\n",
       "      <td>manual</td>\n",
       "      <td>69</td>\n",
       "      <td>fabia</td>\n",
       "      <td>90000</td>\n",
       "      <td>gasoline</td>\n",
       "      <td>skoda</td>\n",
       "      <td>no</td>\n",
       "    </tr>\n",
       "    <tr>\n",
       "      <th>5</th>\n",
       "      <td>650</td>\n",
       "      <td>sedan</td>\n",
       "      <td>1995</td>\n",
       "      <td>manual</td>\n",
       "      <td>102</td>\n",
       "      <td>3er</td>\n",
       "      <td>150000</td>\n",
       "      <td>petrol</td>\n",
       "      <td>bmw</td>\n",
       "      <td>yes</td>\n",
       "    </tr>\n",
       "    <tr>\n",
       "      <th>...</th>\n",
       "      <td>...</td>\n",
       "      <td>...</td>\n",
       "      <td>...</td>\n",
       "      <td>...</td>\n",
       "      <td>...</td>\n",
       "      <td>...</td>\n",
       "      <td>...</td>\n",
       "      <td>...</td>\n",
       "      <td>...</td>\n",
       "      <td>...</td>\n",
       "    </tr>\n",
       "    <tr>\n",
       "      <th>354361</th>\n",
       "      <td>5250</td>\n",
       "      <td>sedan</td>\n",
       "      <td>2016</td>\n",
       "      <td>auto</td>\n",
       "      <td>150</td>\n",
       "      <td>159</td>\n",
       "      <td>150000</td>\n",
       "      <td>petrol</td>\n",
       "      <td>alfa_romeo</td>\n",
       "      <td>no</td>\n",
       "    </tr>\n",
       "    <tr>\n",
       "      <th>354362</th>\n",
       "      <td>3200</td>\n",
       "      <td>sedan</td>\n",
       "      <td>2004</td>\n",
       "      <td>manual</td>\n",
       "      <td>225</td>\n",
       "      <td>leon</td>\n",
       "      <td>150000</td>\n",
       "      <td>petrol</td>\n",
       "      <td>seat</td>\n",
       "      <td>yes</td>\n",
       "    </tr>\n",
       "    <tr>\n",
       "      <th>354366</th>\n",
       "      <td>1199</td>\n",
       "      <td>convertible</td>\n",
       "      <td>2000</td>\n",
       "      <td>auto</td>\n",
       "      <td>101</td>\n",
       "      <td>fortwo</td>\n",
       "      <td>125000</td>\n",
       "      <td>petrol</td>\n",
       "      <td>smart</td>\n",
       "      <td>no</td>\n",
       "    </tr>\n",
       "    <tr>\n",
       "      <th>354367</th>\n",
       "      <td>9200</td>\n",
       "      <td>bus</td>\n",
       "      <td>1996</td>\n",
       "      <td>manual</td>\n",
       "      <td>102</td>\n",
       "      <td>transporter</td>\n",
       "      <td>150000</td>\n",
       "      <td>gasoline</td>\n",
       "      <td>volkswagen</td>\n",
       "      <td>no</td>\n",
       "    </tr>\n",
       "    <tr>\n",
       "      <th>354368</th>\n",
       "      <td>3400</td>\n",
       "      <td>wagon</td>\n",
       "      <td>2002</td>\n",
       "      <td>manual</td>\n",
       "      <td>100</td>\n",
       "      <td>golf</td>\n",
       "      <td>150000</td>\n",
       "      <td>gasoline</td>\n",
       "      <td>volkswagen</td>\n",
       "      <td>no</td>\n",
       "    </tr>\n",
       "  </tbody>\n",
       "</table>\n",
       "<p>244260 rows × 10 columns</p>\n",
       "</div>"
      ],
      "text/plain": [
       "        Price  VehicleType  RegistrationYear Gearbox  Power        Model  \\\n",
       "1       18300        coupe              2011  manual    190         golf   \n",
       "2        9800          suv              2004    auto    163        grand   \n",
       "3        1500        small              2001  manual     75         golf   \n",
       "4        3600        small              2008  manual     69        fabia   \n",
       "5         650        sedan              1995  manual    102          3er   \n",
       "...       ...          ...               ...     ...    ...          ...   \n",
       "354361   5250        sedan              2016    auto    150          159   \n",
       "354362   3200        sedan              2004  manual    225         leon   \n",
       "354366   1199  convertible              2000    auto    101       fortwo   \n",
       "354367   9200          bus              1996  manual    102  transporter   \n",
       "354368   3400        wagon              2002  manual    100         golf   \n",
       "\n",
       "        Kilometer  FuelType       Brand NotRepaired  \n",
       "1          125000  gasoline        audi         yes  \n",
       "2          125000  gasoline        jeep          no  \n",
       "3          150000    petrol  volkswagen          no  \n",
       "4           90000  gasoline       skoda          no  \n",
       "5          150000    petrol         bmw         yes  \n",
       "...           ...       ...         ...         ...  \n",
       "354361     150000    petrol  alfa_romeo          no  \n",
       "354362     150000    petrol        seat         yes  \n",
       "354366     125000    petrol       smart          no  \n",
       "354367     150000  gasoline  volkswagen          no  \n",
       "354368     150000  gasoline  volkswagen          no  \n",
       "\n",
       "[244260 rows x 10 columns]"
      ]
     },
     "execution_count": 33,
     "metadata": {},
     "output_type": "execute_result"
    }
   ],
   "source": [
    "df"
   ]
  },
  {
   "cell_type": "markdown",
   "metadata": {},
   "source": [
    "На этом изучение данных закончено.  "
   ]
  },
  {
   "cell_type": "markdown",
   "metadata": {},
   "source": [
    "## Подготовка выборок"
   ]
  },
  {
   "cell_type": "markdown",
   "metadata": {},
   "source": [
    "Подготовим выборки для обучения моделей."
   ]
  },
  {
   "cell_type": "markdown",
   "metadata": {},
   "source": [
    "Обучим разные модели, одна из которых — LightGBM, как минимум одна — не бустинг. Для каждой модели попробуем разные гиперпараметры."
   ]
  },
  {
   "cell_type": "code",
   "execution_count": 34,
   "metadata": {},
   "outputs": [],
   "source": [
    "import matplotlib.pyplot as plt\n",
    "import numpy as np\n",
    "import pandas as pd\n",
    "\n",
    "import warnings\n",
    "warnings.filterwarnings('ignore')\n",
    "\n",
    "from sklearn.model_selection import train_test_split\n",
    "from sklearn.linear_model import LinearRegression\n",
    "from sklearn.metrics import mean_squared_error\n",
    "from sklearn.ensemble import RandomForestRegressor\n",
    "from sklearn.tree import DecisionTreeRegressor\n",
    "from sklearn.preprocessing import OrdinalEncoder\n",
    "from catboost import Pool, CatBoostRegressor, cv\n",
    "from lightgbm import LGBMRegressor\n",
    "from sklearn.model_selection import cross_val_score\n",
    "from sklearn.model_selection import GridSearchCV"
   ]
  },
  {
   "cell_type": "markdown",
   "metadata": {},
   "source": [
    "Существующие данные мы делим на две выборки:\n",
    "\n",
    "* обучающая 75% \n",
    "* тестовая 25% \n",
    "\n",
    "Поделим на features (признаки) и target (целевой признак):"
   ]
  },
  {
   "cell_type": "code",
   "execution_count": 35,
   "metadata": {},
   "outputs": [
    {
     "data": {
      "text/plain": [
       "Price               0\n",
       "VehicleType         0\n",
       "RegistrationYear    0\n",
       "Gearbox             0\n",
       "Power               0\n",
       "Model               0\n",
       "Kilometer           0\n",
       "FuelType            0\n",
       "Brand               0\n",
       "NotRepaired         0\n",
       "dtype: int64"
      ]
     },
     "execution_count": 35,
     "metadata": {},
     "output_type": "execute_result"
    }
   ],
   "source": [
    "df.isna().sum()"
   ]
  },
  {
   "cell_type": "code",
   "execution_count": 36,
   "metadata": {},
   "outputs": [],
   "source": [
    "#Исходные принаки\n",
    "features = df.drop('Price', axis=1)\n",
    "#Целевой признак\n",
    "target = df['Price']\n",
    "\n",
    "#OHE кодирование -чтобы все признаки стали числовыми\n",
    "ohe_features = pd.get_dummies(features, drop_first=True)\n",
    "\n",
    "\n",
    "#Прямое кодирование - чтобы все признаки стали категориальными\n",
    "encoder = OrdinalEncoder()\n",
    "cat_columns = ['VehicleType','Gearbox','FuelType','Brand','Model','NotRepaired']\n",
    "cat_features = features[cat_columns]\n",
    "cat_features = pd.DataFrame(encoder.fit_transform(cat_features),\n",
    "                                columns=cat_features.columns, \n",
    "                                index=cat_features.index)\n",
    "ordinal_features = features.copy()\n",
    "for column in cat_columns:\n",
    "    ordinal_features[column] = cat_features[column]\n"
   ]
  },
  {
   "cell_type": "code",
   "execution_count": 37,
   "metadata": {},
   "outputs": [
    {
     "data": {
      "text/plain": [
       "(183195, 9)"
      ]
     },
     "metadata": {},
     "output_type": "display_data"
    },
    {
     "name": "stdout",
     "output_type": "stream",
     "text": [
      "Размер обучающей выборки 183195\n",
      "Размер тестовой выборки 61065\n"
     ]
    }
   ],
   "source": [
    "features_train, features_test, target_train, target_test = train_test_split(\n",
    "features, target, test_size=0.25, random_state=12345)\n",
    "\n",
    "ohe_features_train = ohe_features.loc[features_train.index, :]\n",
    "ohe_features_test = ohe_features.loc[features_test.index, :]\n",
    "\n",
    "ordinal_features_train = ordinal_features.loc[features_train.index, :]\n",
    "ordinal_features_test = ordinal_features.loc[features_test.index, :]\n",
    "\n",
    "display(features_train.shape)\n",
    "print('Размер обучающей выборки', features_train.shape[0])\n",
    "print('Размер тестовой выборки', features_test.shape[0])"
   ]
  },
  {
   "cell_type": "markdown",
   "metadata": {},
   "source": [
    "<div class=\"alert alert-block alert-info\">\n",
    "    \n",
    "<b>Данные неплохо было бы также масштабировать, особенно линейные модели это любят</b>"
   ]
  },
  {
   "cell_type": "markdown",
   "metadata": {},
   "source": [
    "## Обучение моделей"
   ]
  },
  {
   "cell_type": "markdown",
   "metadata": {},
   "source": [
    "### Решающее дерево"
   ]
  },
  {
   "cell_type": "code",
   "execution_count": 45,
   "metadata": {
    "scrolled": false
   },
   "outputs": [
    {
     "name": "stdout",
     "output_type": "stream",
     "text": [
      "Best parameters:\n",
      "{'max_depth': 15}\n",
      "Best score:\n",
      "1928.356474392506\n",
      "\n",
      "DecisionTreeRegressor(max_depth=15, random_state=12345)\n",
      "CPU times: user 4min 11s, sys: 20.7 s, total: 4min 31s\n",
      "Wall time: 4min 32s\n"
     ]
    }
   ],
   "source": [
    "%%time\n",
    "\n",
    "DTR = DecisionTreeRegressor(random_state = 12345)\n",
    "parameters_grid = {'max_depth' : range(1,21)}\n",
    "DTR_model = GridSearchCV(DTR, parameters_grid, cv=5, scoring = 'neg_root_mean_squared_error')\n",
    "DTR_model.fit(ohe_features_train, target_train)\n",
    "print(\"Best parameters:\")\n",
    "print(DTR_model.best_params_)\n",
    "print(\"Best score:\")\n",
    "RMSE_DTR = DTR_model.best_score_*(-1)\n",
    "print(DTR_model.best_score_*(-1))\n",
    " # Вернуться к оптимальной модели после поиска по сетке\n",
    "best_estimator = DTR_model.best_estimator_ \n",
    "print()\n",
    "print(DTR_model.best_estimator_)"
   ]
  },
  {
   "cell_type": "code",
   "execution_count": 71,
   "metadata": {},
   "outputs": [
    {
     "data": {
      "text/html": [
       "<div>\n",
       "<style scoped>\n",
       "    .dataframe tbody tr th:only-of-type {\n",
       "        vertical-align: middle;\n",
       "    }\n",
       "\n",
       "    .dataframe tbody tr th {\n",
       "        vertical-align: top;\n",
       "    }\n",
       "\n",
       "    .dataframe thead th {\n",
       "        text-align: right;\n",
       "    }\n",
       "</style>\n",
       "<table border=\"1\" class=\"dataframe\">\n",
       "  <thead>\n",
       "    <tr style=\"text-align: right;\">\n",
       "      <th></th>\n",
       "      <th>mean_fit_time</th>\n",
       "      <th>std_fit_time</th>\n",
       "      <th>mean_score_time</th>\n",
       "      <th>std_score_time</th>\n",
       "      <th>param_max_depth</th>\n",
       "      <th>params</th>\n",
       "      <th>split0_test_score</th>\n",
       "      <th>split1_test_score</th>\n",
       "      <th>split2_test_score</th>\n",
       "      <th>split3_test_score</th>\n",
       "      <th>split4_test_score</th>\n",
       "      <th>mean_test_score</th>\n",
       "      <th>std_test_score</th>\n",
       "      <th>rank_test_score</th>\n",
       "    </tr>\n",
       "  </thead>\n",
       "  <tbody>\n",
       "    <tr>\n",
       "      <th>0</th>\n",
       "      <td>0.541222</td>\n",
       "      <td>0.007585</td>\n",
       "      <td>0.068483</td>\n",
       "      <td>0.000878</td>\n",
       "      <td>1</td>\n",
       "      <td>{'max_depth': 1}</td>\n",
       "      <td>-3783.000707</td>\n",
       "      <td>-3749.266901</td>\n",
       "      <td>-3750.383118</td>\n",
       "      <td>-3707.753326</td>\n",
       "      <td>-3720.291081</td>\n",
       "      <td>-3742.139027</td>\n",
       "      <td>26.260836</td>\n",
       "      <td>20</td>\n",
       "    </tr>\n",
       "    <tr>\n",
       "      <th>1</th>\n",
       "      <td>0.781885</td>\n",
       "      <td>0.018992</td>\n",
       "      <td>0.068979</td>\n",
       "      <td>0.000721</td>\n",
       "      <td>2</td>\n",
       "      <td>{'max_depth': 2}</td>\n",
       "      <td>-3290.557217</td>\n",
       "      <td>-3271.686040</td>\n",
       "      <td>-3287.376123</td>\n",
       "      <td>-3247.232994</td>\n",
       "      <td>-3242.015791</td>\n",
       "      <td>-3267.773633</td>\n",
       "      <td>20.020192</td>\n",
       "      <td>19</td>\n",
       "    </tr>\n",
       "    <tr>\n",
       "      <th>2</th>\n",
       "      <td>1.047005</td>\n",
       "      <td>0.013775</td>\n",
       "      <td>0.071160</td>\n",
       "      <td>0.001735</td>\n",
       "      <td>3</td>\n",
       "      <td>{'max_depth': 3}</td>\n",
       "      <td>-3020.453671</td>\n",
       "      <td>-2996.333309</td>\n",
       "      <td>-3022.343142</td>\n",
       "      <td>-3000.625835</td>\n",
       "      <td>-2996.783244</td>\n",
       "      <td>-3007.307840</td>\n",
       "      <td>11.616624</td>\n",
       "      <td>18</td>\n",
       "    </tr>\n",
       "    <tr>\n",
       "      <th>3</th>\n",
       "      <td>1.310022</td>\n",
       "      <td>0.012448</td>\n",
       "      <td>0.069358</td>\n",
       "      <td>0.001963</td>\n",
       "      <td>4</td>\n",
       "      <td>{'max_depth': 4}</td>\n",
       "      <td>-2692.158288</td>\n",
       "      <td>-2659.304133</td>\n",
       "      <td>-2673.951918</td>\n",
       "      <td>-2660.348825</td>\n",
       "      <td>-2649.792223</td>\n",
       "      <td>-2667.111077</td>\n",
       "      <td>14.702238</td>\n",
       "      <td>17</td>\n",
       "    </tr>\n",
       "    <tr>\n",
       "      <th>4</th>\n",
       "      <td>1.610091</td>\n",
       "      <td>0.028554</td>\n",
       "      <td>0.069907</td>\n",
       "      <td>0.000960</td>\n",
       "      <td>5</td>\n",
       "      <td>{'max_depth': 5}</td>\n",
       "      <td>-2522.690219</td>\n",
       "      <td>-2481.498598</td>\n",
       "      <td>-2493.720755</td>\n",
       "      <td>-2471.935661</td>\n",
       "      <td>-2469.388162</td>\n",
       "      <td>-2487.846679</td>\n",
       "      <td>19.404909</td>\n",
       "      <td>16</td>\n",
       "    </tr>\n",
       "    <tr>\n",
       "      <th>5</th>\n",
       "      <td>1.903661</td>\n",
       "      <td>0.013367</td>\n",
       "      <td>0.071336</td>\n",
       "      <td>0.000865</td>\n",
       "      <td>6</td>\n",
       "      <td>{'max_depth': 6}</td>\n",
       "      <td>-2356.218341</td>\n",
       "      <td>-2335.227564</td>\n",
       "      <td>-2335.198398</td>\n",
       "      <td>-2317.695188</td>\n",
       "      <td>-2303.894280</td>\n",
       "      <td>-2329.646754</td>\n",
       "      <td>17.742859</td>\n",
       "      <td>15</td>\n",
       "    </tr>\n",
       "    <tr>\n",
       "      <th>6</th>\n",
       "      <td>2.199362</td>\n",
       "      <td>0.053034</td>\n",
       "      <td>0.072738</td>\n",
       "      <td>0.000935</td>\n",
       "      <td>7</td>\n",
       "      <td>{'max_depth': 7}</td>\n",
       "      <td>-2258.541712</td>\n",
       "      <td>-2232.662294</td>\n",
       "      <td>-2228.823714</td>\n",
       "      <td>-2213.512870</td>\n",
       "      <td>-2204.646779</td>\n",
       "      <td>-2227.637474</td>\n",
       "      <td>18.492184</td>\n",
       "      <td>14</td>\n",
       "    </tr>\n",
       "    <tr>\n",
       "      <th>7</th>\n",
       "      <td>2.409569</td>\n",
       "      <td>0.018488</td>\n",
       "      <td>0.073450</td>\n",
       "      <td>0.002672</td>\n",
       "      <td>8</td>\n",
       "      <td>{'max_depth': 8}</td>\n",
       "      <td>-2172.500079</td>\n",
       "      <td>-2148.374558</td>\n",
       "      <td>-2134.758410</td>\n",
       "      <td>-2136.767982</td>\n",
       "      <td>-2116.483142</td>\n",
       "      <td>-2141.776834</td>\n",
       "      <td>18.447577</td>\n",
       "      <td>13</td>\n",
       "    </tr>\n",
       "    <tr>\n",
       "      <th>8</th>\n",
       "      <td>2.675417</td>\n",
       "      <td>0.049034</td>\n",
       "      <td>0.074410</td>\n",
       "      <td>0.003546</td>\n",
       "      <td>9</td>\n",
       "      <td>{'max_depth': 9}</td>\n",
       "      <td>-2113.942421</td>\n",
       "      <td>-2090.926357</td>\n",
       "      <td>-2080.099428</td>\n",
       "      <td>-2075.781708</td>\n",
       "      <td>-2068.536104</td>\n",
       "      <td>-2085.857204</td>\n",
       "      <td>15.806099</td>\n",
       "      <td>12</td>\n",
       "    </tr>\n",
       "    <tr>\n",
       "      <th>9</th>\n",
       "      <td>2.766309</td>\n",
       "      <td>0.014509</td>\n",
       "      <td>0.072265</td>\n",
       "      <td>0.001240</td>\n",
       "      <td>10</td>\n",
       "      <td>{'max_depth': 10}</td>\n",
       "      <td>-2069.646395</td>\n",
       "      <td>-2041.286436</td>\n",
       "      <td>-2026.738953</td>\n",
       "      <td>-2032.326706</td>\n",
       "      <td>-2017.074515</td>\n",
       "      <td>-2037.414601</td>\n",
       "      <td>17.930169</td>\n",
       "      <td>11</td>\n",
       "    </tr>\n",
       "    <tr>\n",
       "      <th>10</th>\n",
       "      <td>2.962741</td>\n",
       "      <td>0.040696</td>\n",
       "      <td>0.072661</td>\n",
       "      <td>0.001594</td>\n",
       "      <td>11</td>\n",
       "      <td>{'max_depth': 11}</td>\n",
       "      <td>-2025.553195</td>\n",
       "      <td>-2002.962228</td>\n",
       "      <td>-1977.667247</td>\n",
       "      <td>-1996.906521</td>\n",
       "      <td>-1986.338214</td>\n",
       "      <td>-1997.885481</td>\n",
       "      <td>16.336159</td>\n",
       "      <td>10</td>\n",
       "    </tr>\n",
       "    <tr>\n",
       "      <th>11</th>\n",
       "      <td>3.092930</td>\n",
       "      <td>0.027897</td>\n",
       "      <td>0.074992</td>\n",
       "      <td>0.003923</td>\n",
       "      <td>12</td>\n",
       "      <td>{'max_depth': 12}</td>\n",
       "      <td>-2000.825744</td>\n",
       "      <td>-1966.748679</td>\n",
       "      <td>-1958.545845</td>\n",
       "      <td>-1968.054947</td>\n",
       "      <td>-1963.963985</td>\n",
       "      <td>-1971.627840</td>\n",
       "      <td>14.959697</td>\n",
       "      <td>9</td>\n",
       "    </tr>\n",
       "    <tr>\n",
       "      <th>12</th>\n",
       "      <td>3.256131</td>\n",
       "      <td>0.031276</td>\n",
       "      <td>0.073051</td>\n",
       "      <td>0.000751</td>\n",
       "      <td>13</td>\n",
       "      <td>{'max_depth': 13}</td>\n",
       "      <td>-1972.748716</td>\n",
       "      <td>-1939.355617</td>\n",
       "      <td>-1938.830281</td>\n",
       "      <td>-1951.794436</td>\n",
       "      <td>-1936.762775</td>\n",
       "      <td>-1947.898365</td>\n",
       "      <td>13.505032</td>\n",
       "      <td>7</td>\n",
       "    </tr>\n",
       "    <tr>\n",
       "      <th>13</th>\n",
       "      <td>3.338056</td>\n",
       "      <td>0.029982</td>\n",
       "      <td>0.074884</td>\n",
       "      <td>0.004705</td>\n",
       "      <td>14</td>\n",
       "      <td>{'max_depth': 14}</td>\n",
       "      <td>-1950.875815</td>\n",
       "      <td>-1931.180031</td>\n",
       "      <td>-1933.735702</td>\n",
       "      <td>-1937.740070</td>\n",
       "      <td>-1911.205415</td>\n",
       "      <td>-1932.947406</td>\n",
       "      <td>12.812936</td>\n",
       "      <td>3</td>\n",
       "    </tr>\n",
       "    <tr>\n",
       "      <th>14</th>\n",
       "      <td>3.455764</td>\n",
       "      <td>0.043042</td>\n",
       "      <td>0.073616</td>\n",
       "      <td>0.000662</td>\n",
       "      <td>15</td>\n",
       "      <td>{'max_depth': 15}</td>\n",
       "      <td>-1943.802521</td>\n",
       "      <td>-1925.408854</td>\n",
       "      <td>-1926.109280</td>\n",
       "      <td>-1935.923284</td>\n",
       "      <td>-1910.538433</td>\n",
       "      <td>-1928.356474</td>\n",
       "      <td>11.198731</td>\n",
       "      <td>1</td>\n",
       "    </tr>\n",
       "    <tr>\n",
       "      <th>15</th>\n",
       "      <td>3.650978</td>\n",
       "      <td>0.068738</td>\n",
       "      <td>0.075285</td>\n",
       "      <td>0.000995</td>\n",
       "      <td>16</td>\n",
       "      <td>{'max_depth': 16}</td>\n",
       "      <td>-1948.517406</td>\n",
       "      <td>-1921.383851</td>\n",
       "      <td>-1936.522183</td>\n",
       "      <td>-1931.939866</td>\n",
       "      <td>-1916.006710</td>\n",
       "      <td>-1930.874003</td>\n",
       "      <td>11.449254</td>\n",
       "      <td>2</td>\n",
       "    </tr>\n",
       "    <tr>\n",
       "      <th>16</th>\n",
       "      <td>3.686338</td>\n",
       "      <td>0.076214</td>\n",
       "      <td>0.075515</td>\n",
       "      <td>0.001066</td>\n",
       "      <td>17</td>\n",
       "      <td>{'max_depth': 17}</td>\n",
       "      <td>-1962.330517</td>\n",
       "      <td>-1925.784284</td>\n",
       "      <td>-1934.953507</td>\n",
       "      <td>-1933.781922</td>\n",
       "      <td>-1920.259252</td>\n",
       "      <td>-1935.421896</td>\n",
       "      <td>14.489804</td>\n",
       "      <td>4</td>\n",
       "    </tr>\n",
       "    <tr>\n",
       "      <th>17</th>\n",
       "      <td>3.761114</td>\n",
       "      <td>0.066673</td>\n",
       "      <td>0.075537</td>\n",
       "      <td>0.000999</td>\n",
       "      <td>18</td>\n",
       "      <td>{'max_depth': 18}</td>\n",
       "      <td>-1953.034062</td>\n",
       "      <td>-1938.699995</td>\n",
       "      <td>-1950.708476</td>\n",
       "      <td>-1948.089773</td>\n",
       "      <td>-1924.687897</td>\n",
       "      <td>-1943.044041</td>\n",
       "      <td>10.390594</td>\n",
       "      <td>5</td>\n",
       "    </tr>\n",
       "    <tr>\n",
       "      <th>18</th>\n",
       "      <td>3.843107</td>\n",
       "      <td>0.048114</td>\n",
       "      <td>0.079659</td>\n",
       "      <td>0.004071</td>\n",
       "      <td>19</td>\n",
       "      <td>{'max_depth': 19}</td>\n",
       "      <td>-1959.869955</td>\n",
       "      <td>-1934.730499</td>\n",
       "      <td>-1953.833956</td>\n",
       "      <td>-1953.260717</td>\n",
       "      <td>-1917.501807</td>\n",
       "      <td>-1943.839387</td>\n",
       "      <td>15.635037</td>\n",
       "      <td>6</td>\n",
       "    </tr>\n",
       "    <tr>\n",
       "      <th>19</th>\n",
       "      <td>3.975419</td>\n",
       "      <td>0.036553</td>\n",
       "      <td>0.079470</td>\n",
       "      <td>0.000853</td>\n",
       "      <td>20</td>\n",
       "      <td>{'max_depth': 20}</td>\n",
       "      <td>-1953.339424</td>\n",
       "      <td>-1940.279021</td>\n",
       "      <td>-1974.484906</td>\n",
       "      <td>-1968.449707</td>\n",
       "      <td>-1934.886002</td>\n",
       "      <td>-1954.287812</td>\n",
       "      <td>15.375680</td>\n",
       "      <td>8</td>\n",
       "    </tr>\n",
       "  </tbody>\n",
       "</table>\n",
       "</div>"
      ],
      "text/plain": [
       "    mean_fit_time  std_fit_time  mean_score_time  std_score_time  \\\n",
       "0        0.541222      0.007585         0.068483        0.000878   \n",
       "1        0.781885      0.018992         0.068979        0.000721   \n",
       "2        1.047005      0.013775         0.071160        0.001735   \n",
       "3        1.310022      0.012448         0.069358        0.001963   \n",
       "4        1.610091      0.028554         0.069907        0.000960   \n",
       "5        1.903661      0.013367         0.071336        0.000865   \n",
       "6        2.199362      0.053034         0.072738        0.000935   \n",
       "7        2.409569      0.018488         0.073450        0.002672   \n",
       "8        2.675417      0.049034         0.074410        0.003546   \n",
       "9        2.766309      0.014509         0.072265        0.001240   \n",
       "10       2.962741      0.040696         0.072661        0.001594   \n",
       "11       3.092930      0.027897         0.074992        0.003923   \n",
       "12       3.256131      0.031276         0.073051        0.000751   \n",
       "13       3.338056      0.029982         0.074884        0.004705   \n",
       "14       3.455764      0.043042         0.073616        0.000662   \n",
       "15       3.650978      0.068738         0.075285        0.000995   \n",
       "16       3.686338      0.076214         0.075515        0.001066   \n",
       "17       3.761114      0.066673         0.075537        0.000999   \n",
       "18       3.843107      0.048114         0.079659        0.004071   \n",
       "19       3.975419      0.036553         0.079470        0.000853   \n",
       "\n",
       "   param_max_depth             params  split0_test_score  split1_test_score  \\\n",
       "0                1   {'max_depth': 1}       -3783.000707       -3749.266901   \n",
       "1                2   {'max_depth': 2}       -3290.557217       -3271.686040   \n",
       "2                3   {'max_depth': 3}       -3020.453671       -2996.333309   \n",
       "3                4   {'max_depth': 4}       -2692.158288       -2659.304133   \n",
       "4                5   {'max_depth': 5}       -2522.690219       -2481.498598   \n",
       "5                6   {'max_depth': 6}       -2356.218341       -2335.227564   \n",
       "6                7   {'max_depth': 7}       -2258.541712       -2232.662294   \n",
       "7                8   {'max_depth': 8}       -2172.500079       -2148.374558   \n",
       "8                9   {'max_depth': 9}       -2113.942421       -2090.926357   \n",
       "9               10  {'max_depth': 10}       -2069.646395       -2041.286436   \n",
       "10              11  {'max_depth': 11}       -2025.553195       -2002.962228   \n",
       "11              12  {'max_depth': 12}       -2000.825744       -1966.748679   \n",
       "12              13  {'max_depth': 13}       -1972.748716       -1939.355617   \n",
       "13              14  {'max_depth': 14}       -1950.875815       -1931.180031   \n",
       "14              15  {'max_depth': 15}       -1943.802521       -1925.408854   \n",
       "15              16  {'max_depth': 16}       -1948.517406       -1921.383851   \n",
       "16              17  {'max_depth': 17}       -1962.330517       -1925.784284   \n",
       "17              18  {'max_depth': 18}       -1953.034062       -1938.699995   \n",
       "18              19  {'max_depth': 19}       -1959.869955       -1934.730499   \n",
       "19              20  {'max_depth': 20}       -1953.339424       -1940.279021   \n",
       "\n",
       "    split2_test_score  split3_test_score  split4_test_score  mean_test_score  \\\n",
       "0        -3750.383118       -3707.753326       -3720.291081     -3742.139027   \n",
       "1        -3287.376123       -3247.232994       -3242.015791     -3267.773633   \n",
       "2        -3022.343142       -3000.625835       -2996.783244     -3007.307840   \n",
       "3        -2673.951918       -2660.348825       -2649.792223     -2667.111077   \n",
       "4        -2493.720755       -2471.935661       -2469.388162     -2487.846679   \n",
       "5        -2335.198398       -2317.695188       -2303.894280     -2329.646754   \n",
       "6        -2228.823714       -2213.512870       -2204.646779     -2227.637474   \n",
       "7        -2134.758410       -2136.767982       -2116.483142     -2141.776834   \n",
       "8        -2080.099428       -2075.781708       -2068.536104     -2085.857204   \n",
       "9        -2026.738953       -2032.326706       -2017.074515     -2037.414601   \n",
       "10       -1977.667247       -1996.906521       -1986.338214     -1997.885481   \n",
       "11       -1958.545845       -1968.054947       -1963.963985     -1971.627840   \n",
       "12       -1938.830281       -1951.794436       -1936.762775     -1947.898365   \n",
       "13       -1933.735702       -1937.740070       -1911.205415     -1932.947406   \n",
       "14       -1926.109280       -1935.923284       -1910.538433     -1928.356474   \n",
       "15       -1936.522183       -1931.939866       -1916.006710     -1930.874003   \n",
       "16       -1934.953507       -1933.781922       -1920.259252     -1935.421896   \n",
       "17       -1950.708476       -1948.089773       -1924.687897     -1943.044041   \n",
       "18       -1953.833956       -1953.260717       -1917.501807     -1943.839387   \n",
       "19       -1974.484906       -1968.449707       -1934.886002     -1954.287812   \n",
       "\n",
       "    std_test_score  rank_test_score  \n",
       "0        26.260836               20  \n",
       "1        20.020192               19  \n",
       "2        11.616624               18  \n",
       "3        14.702238               17  \n",
       "4        19.404909               16  \n",
       "5        17.742859               15  \n",
       "6        18.492184               14  \n",
       "7        18.447577               13  \n",
       "8        15.806099               12  \n",
       "9        17.930169               11  \n",
       "10       16.336159               10  \n",
       "11       14.959697                9  \n",
       "12       13.505032                7  \n",
       "13       12.812936                3  \n",
       "14       11.198731                1  \n",
       "15       11.449254                2  \n",
       "16       14.489804                4  \n",
       "17       10.390594                5  \n",
       "18       15.635037                6  \n",
       "19       15.375680                8  "
      ]
     },
     "execution_count": 71,
     "metadata": {},
     "output_type": "execute_result"
    }
   ],
   "source": [
    "pd.DataFrame(DTR_model.cv_results_)"
   ]
  },
  {
   "cell_type": "code",
   "execution_count": 105,
   "metadata": {},
   "outputs": [
    {
     "data": {
      "image/png": "[encoded data removed]",
      "text/plain": [
       "<Figure size 576x504 with 1 Axes>"
      ]
     },
     "metadata": {
      "needs_background": "light"
     },
     "output_type": "display_data"
    }
   ],
   "source": [
    "DR_imp = pd.Series(DTR_model.best_estimator_.feature_importances_,\n",
    "                    ohe_features_train.columns)\n",
    "fig, ax = plt.subplots(figsize=(8,7))\n",
    "DR_imp.plot.bar(ax=ax)\n",
    "ax.set_title(\"Важность признаков\")\n",
    "fig.tight_layout()"
   ]
  },
  {
   "cell_type": "markdown",
   "metadata": {},
   "source": [
    "### Случайный лес"
   ]
  },
  {
   "cell_type": "code",
   "execution_count": 49,
   "metadata": {},
   "outputs": [
    {
     "name": "stdout",
     "output_type": "stream",
     "text": [
      "Best parameters:\n",
      "{'max_depth': 5, 'n_estimators': 50}\n",
      "Best score:\n",
      "2435.17716334085\n",
      "\n",
      "RandomForestRegressor(max_depth=5, n_estimators=50, random_state=12345)\n",
      "CPU times: user 20min 27s, sys: 17.2 s, total: 20min 44s\n",
      "Wall time: 20min 44s\n"
     ]
    }
   ],
   "source": [
    "%%time\n",
    "\n",
    "RFR = RandomForestRegressor(random_state = 12345)\n",
    "parameters_grid = {\"max_depth\": range(1,6),\n",
    "                  \"n_estimators\": range(10,51,20)}\n",
    "RFR_model = GridSearchCV(RFR, parameters_grid, cv=5, scoring = 'neg_root_mean_squared_error')\n",
    "RFR_model.fit(ohe_features_train, target_train)\n",
    "\n",
    "print(\"Best parameters:\")\n",
    "print(RFR_model.best_params_)\n",
    "RMSE_RFR = RFR_model.best_score_*(-1)\n",
    "print(\"Best score:\")\n",
    "print(RFR_model.best_score_*(-1))\n",
    " # Вернуться к оптимальной модели после поиска по сетке\n",
    "best_estimator2 = RFR_model.best_estimator_ \n",
    "print()\n",
    "print(RFR_model.best_estimator_)"
   ]
  },
  {
   "cell_type": "code",
   "execution_count": 70,
   "metadata": {
    "scrolled": true
   },
   "outputs": [
    {
     "data": {
      "text/html": [
       "<div>\n",
       "<style scoped>\n",
       "    .dataframe tbody tr th:only-of-type {\n",
       "        vertical-align: middle;\n",
       "    }\n",
       "\n",
       "    .dataframe tbody tr th {\n",
       "        vertical-align: top;\n",
       "    }\n",
       "\n",
       "    .dataframe thead th {\n",
       "        text-align: right;\n",
       "    }\n",
       "</style>\n",
       "<table border=\"1\" class=\"dataframe\">\n",
       "  <thead>\n",
       "    <tr style=\"text-align: right;\">\n",
       "      <th></th>\n",
       "      <th>mean_fit_time</th>\n",
       "      <th>std_fit_time</th>\n",
       "      <th>mean_score_time</th>\n",
       "      <th>std_score_time</th>\n",
       "      <th>param_max_depth</th>\n",
       "      <th>param_n_estimators</th>\n",
       "      <th>params</th>\n",
       "      <th>split0_test_score</th>\n",
       "      <th>split1_test_score</th>\n",
       "      <th>split2_test_score</th>\n",
       "      <th>split3_test_score</th>\n",
       "      <th>split4_test_score</th>\n",
       "      <th>mean_test_score</th>\n",
       "      <th>std_test_score</th>\n",
       "      <th>rank_test_score</th>\n",
       "    </tr>\n",
       "  </thead>\n",
       "  <tbody>\n",
       "    <tr>\n",
       "      <th>0</th>\n",
       "      <td>1.788886</td>\n",
       "      <td>0.037888</td>\n",
       "      <td>0.075305</td>\n",
       "      <td>0.000817</td>\n",
       "      <td>1</td>\n",
       "      <td>10</td>\n",
       "      <td>{'max_depth': 1, 'n_estimators': 10}</td>\n",
       "      <td>-3783.052203</td>\n",
       "      <td>-3749.228721</td>\n",
       "      <td>-3750.392723</td>\n",
       "      <td>-3707.775106</td>\n",
       "      <td>-3720.270880</td>\n",
       "      <td>-3742.143927</td>\n",
       "      <td>26.273066</td>\n",
       "      <td>14</td>\n",
       "    </tr>\n",
       "    <tr>\n",
       "      <th>1</th>\n",
       "      <td>4.630759</td>\n",
       "      <td>0.033281</td>\n",
       "      <td>0.088632</td>\n",
       "      <td>0.001325</td>\n",
       "      <td>1</td>\n",
       "      <td>30</td>\n",
       "      <td>{'max_depth': 1, 'n_estimators': 30}</td>\n",
       "      <td>-3783.006132</td>\n",
       "      <td>-3749.264864</td>\n",
       "      <td>-3750.400376</td>\n",
       "      <td>-3707.797501</td>\n",
       "      <td>-3720.263442</td>\n",
       "      <td>-3742.146463</td>\n",
       "      <td>26.256539</td>\n",
       "      <td>15</td>\n",
       "    </tr>\n",
       "    <tr>\n",
       "      <th>2</th>\n",
       "      <td>7.437224</td>\n",
       "      <td>0.034397</td>\n",
       "      <td>0.098611</td>\n",
       "      <td>0.001357</td>\n",
       "      <td>1</td>\n",
       "      <td>50</td>\n",
       "      <td>{'max_depth': 1, 'n_estimators': 50}</td>\n",
       "      <td>-3783.010062</td>\n",
       "      <td>-3749.264615</td>\n",
       "      <td>-3750.381531</td>\n",
       "      <td>-3707.764539</td>\n",
       "      <td>-3720.274427</td>\n",
       "      <td>-3742.139035</td>\n",
       "      <td>26.263360</td>\n",
       "      <td>13</td>\n",
       "    </tr>\n",
       "    <tr>\n",
       "      <th>3</th>\n",
       "      <td>3.495614</td>\n",
       "      <td>0.016812</td>\n",
       "      <td>0.076734</td>\n",
       "      <td>0.000616</td>\n",
       "      <td>2</td>\n",
       "      <td>10</td>\n",
       "      <td>{'max_depth': 2, 'n_estimators': 10}</td>\n",
       "      <td>-3288.585726</td>\n",
       "      <td>-3269.313835</td>\n",
       "      <td>-3284.774968</td>\n",
       "      <td>-3244.883122</td>\n",
       "      <td>-3240.604300</td>\n",
       "      <td>-3265.632390</td>\n",
       "      <td>19.818095</td>\n",
       "      <td>12</td>\n",
       "    </tr>\n",
       "    <tr>\n",
       "      <th>4</th>\n",
       "      <td>9.923843</td>\n",
       "      <td>0.066158</td>\n",
       "      <td>0.094495</td>\n",
       "      <td>0.001774</td>\n",
       "      <td>2</td>\n",
       "      <td>30</td>\n",
       "      <td>{'max_depth': 2, 'n_estimators': 30}</td>\n",
       "      <td>-3288.695973</td>\n",
       "      <td>-3269.346956</td>\n",
       "      <td>-3284.803938</td>\n",
       "      <td>-3244.493185</td>\n",
       "      <td>-3240.430297</td>\n",
       "      <td>-3265.554070</td>\n",
       "      <td>19.976266</td>\n",
       "      <td>10</td>\n",
       "    </tr>\n",
       "    <tr>\n",
       "      <th>5</th>\n",
       "      <td>16.350033</td>\n",
       "      <td>0.125011</td>\n",
       "      <td>0.109296</td>\n",
       "      <td>0.001314</td>\n",
       "      <td>2</td>\n",
       "      <td>50</td>\n",
       "      <td>{'max_depth': 2, 'n_estimators': 50}</td>\n",
       "      <td>-3288.780980</td>\n",
       "      <td>-3269.465417</td>\n",
       "      <td>-3284.730781</td>\n",
       "      <td>-3244.475252</td>\n",
       "      <td>-3240.418160</td>\n",
       "      <td>-3265.574118</td>\n",
       "      <td>19.993313</td>\n",
       "      <td>11</td>\n",
       "    </tr>\n",
       "    <tr>\n",
       "      <th>6</th>\n",
       "      <td>5.455452</td>\n",
       "      <td>0.059878</td>\n",
       "      <td>0.077664</td>\n",
       "      <td>0.000580</td>\n",
       "      <td>3</td>\n",
       "      <td>10</td>\n",
       "      <td>{'max_depth': 3, 'n_estimators': 10}</td>\n",
       "      <td>-2996.412703</td>\n",
       "      <td>-2992.055402</td>\n",
       "      <td>-3015.214582</td>\n",
       "      <td>-2993.501954</td>\n",
       "      <td>-2986.321779</td>\n",
       "      <td>-2996.701284</td>\n",
       "      <td>9.822215</td>\n",
       "      <td>9</td>\n",
       "    </tr>\n",
       "    <tr>\n",
       "      <th>7</th>\n",
       "      <td>15.833623</td>\n",
       "      <td>0.109544</td>\n",
       "      <td>0.099090</td>\n",
       "      <td>0.000446</td>\n",
       "      <td>3</td>\n",
       "      <td>30</td>\n",
       "      <td>{'max_depth': 3, 'n_estimators': 30}</td>\n",
       "      <td>-3003.169330</td>\n",
       "      <td>-2989.156203</td>\n",
       "      <td>-3011.378038</td>\n",
       "      <td>-2991.609069</td>\n",
       "      <td>-2986.756492</td>\n",
       "      <td>-2996.413826</td>\n",
       "      <td>9.365761</td>\n",
       "      <td>8</td>\n",
       "    </tr>\n",
       "    <tr>\n",
       "      <th>8</th>\n",
       "      <td>26.135160</td>\n",
       "      <td>0.081605</td>\n",
       "      <td>0.121946</td>\n",
       "      <td>0.002605</td>\n",
       "      <td>3</td>\n",
       "      <td>50</td>\n",
       "      <td>{'max_depth': 3, 'n_estimators': 50}</td>\n",
       "      <td>-3001.472972</td>\n",
       "      <td>-2983.295060</td>\n",
       "      <td>-3006.101722</td>\n",
       "      <td>-2991.951269</td>\n",
       "      <td>-2987.328903</td>\n",
       "      <td>-2994.029985</td>\n",
       "      <td>8.550896</td>\n",
       "      <td>7</td>\n",
       "    </tr>\n",
       "    <tr>\n",
       "      <th>9</th>\n",
       "      <td>7.603540</td>\n",
       "      <td>0.036428</td>\n",
       "      <td>0.081167</td>\n",
       "      <td>0.000729</td>\n",
       "      <td>4</td>\n",
       "      <td>10</td>\n",
       "      <td>{'max_depth': 4, 'n_estimators': 10}</td>\n",
       "      <td>-2642.082477</td>\n",
       "      <td>-2638.190647</td>\n",
       "      <td>-2646.852814</td>\n",
       "      <td>-2635.769104</td>\n",
       "      <td>-2613.855373</td>\n",
       "      <td>-2635.350083</td>\n",
       "      <td>11.383364</td>\n",
       "      <td>5</td>\n",
       "    </tr>\n",
       "    <tr>\n",
       "      <th>10</th>\n",
       "      <td>21.765260</td>\n",
       "      <td>0.190873</td>\n",
       "      <td>0.106326</td>\n",
       "      <td>0.003027</td>\n",
       "      <td>4</td>\n",
       "      <td>30</td>\n",
       "      <td>{'max_depth': 4, 'n_estimators': 30}</td>\n",
       "      <td>-2651.241350</td>\n",
       "      <td>-2632.108402</td>\n",
       "      <td>-2641.524839</td>\n",
       "      <td>-2634.465186</td>\n",
       "      <td>-2619.904648</td>\n",
       "      <td>-2635.848885</td>\n",
       "      <td>10.385268</td>\n",
       "      <td>6</td>\n",
       "    </tr>\n",
       "    <tr>\n",
       "      <th>11</th>\n",
       "      <td>36.088184</td>\n",
       "      <td>0.273065</td>\n",
       "      <td>0.130277</td>\n",
       "      <td>0.004104</td>\n",
       "      <td>4</td>\n",
       "      <td>50</td>\n",
       "      <td>{'max_depth': 4, 'n_estimators': 50}</td>\n",
       "      <td>-2648.887003</td>\n",
       "      <td>-2621.945091</td>\n",
       "      <td>-2637.615519</td>\n",
       "      <td>-2634.931821</td>\n",
       "      <td>-2618.483629</td>\n",
       "      <td>-2632.372613</td>\n",
       "      <td>11.030864</td>\n",
       "      <td>4</td>\n",
       "    </tr>\n",
       "    <tr>\n",
       "      <th>12</th>\n",
       "      <td>9.487121</td>\n",
       "      <td>0.072527</td>\n",
       "      <td>0.084015</td>\n",
       "      <td>0.001225</td>\n",
       "      <td>5</td>\n",
       "      <td>10</td>\n",
       "      <td>{'max_depth': 5, 'n_estimators': 10}</td>\n",
       "      <td>-2451.292819</td>\n",
       "      <td>-2439.237793</td>\n",
       "      <td>-2455.989716</td>\n",
       "      <td>-2434.909094</td>\n",
       "      <td>-2411.741231</td>\n",
       "      <td>-2438.634131</td>\n",
       "      <td>15.485006</td>\n",
       "      <td>3</td>\n",
       "    </tr>\n",
       "    <tr>\n",
       "      <th>13</th>\n",
       "      <td>27.139296</td>\n",
       "      <td>0.150487</td>\n",
       "      <td>0.112933</td>\n",
       "      <td>0.001510</td>\n",
       "      <td>5</td>\n",
       "      <td>30</td>\n",
       "      <td>{'max_depth': 5, 'n_estimators': 30}</td>\n",
       "      <td>-2460.490116</td>\n",
       "      <td>-2432.075994</td>\n",
       "      <td>-2450.411727</td>\n",
       "      <td>-2430.333325</td>\n",
       "      <td>-2416.122717</td>\n",
       "      <td>-2437.886776</td>\n",
       "      <td>15.698914</td>\n",
       "      <td>2</td>\n",
       "    </tr>\n",
       "    <tr>\n",
       "      <th>14</th>\n",
       "      <td>45.008346</td>\n",
       "      <td>0.366299</td>\n",
       "      <td>0.141124</td>\n",
       "      <td>0.007007</td>\n",
       "      <td>5</td>\n",
       "      <td>50</td>\n",
       "      <td>{'max_depth': 5, 'n_estimators': 50}</td>\n",
       "      <td>-2460.538916</td>\n",
       "      <td>-2424.099796</td>\n",
       "      <td>-2447.742703</td>\n",
       "      <td>-2428.137398</td>\n",
       "      <td>-2415.367003</td>\n",
       "      <td>-2435.177163</td>\n",
       "      <td>16.527674</td>\n",
       "      <td>1</td>\n",
       "    </tr>\n",
       "  </tbody>\n",
       "</table>\n",
       "</div>"
      ],
      "text/plain": [
       "    mean_fit_time  std_fit_time  mean_score_time  std_score_time  \\\n",
       "0        1.788886      0.037888         0.075305        0.000817   \n",
       "1        4.630759      0.033281         0.088632        0.001325   \n",
       "2        7.437224      0.034397         0.098611        0.001357   \n",
       "3        3.495614      0.016812         0.076734        0.000616   \n",
       "4        9.923843      0.066158         0.094495        0.001774   \n",
       "5       16.350033      0.125011         0.109296        0.001314   \n",
       "6        5.455452      0.059878         0.077664        0.000580   \n",
       "7       15.833623      0.109544         0.099090        0.000446   \n",
       "8       26.135160      0.081605         0.121946        0.002605   \n",
       "9        7.603540      0.036428         0.081167        0.000729   \n",
       "10      21.765260      0.190873         0.106326        0.003027   \n",
       "11      36.088184      0.273065         0.130277        0.004104   \n",
       "12       9.487121      0.072527         0.084015        0.001225   \n",
       "13      27.139296      0.150487         0.112933        0.001510   \n",
       "14      45.008346      0.366299         0.141124        0.007007   \n",
       "\n",
       "   param_max_depth param_n_estimators                                params  \\\n",
       "0                1                 10  {'max_depth': 1, 'n_estimators': 10}   \n",
       "1                1                 30  {'max_depth': 1, 'n_estimators': 30}   \n",
       "2                1                 50  {'max_depth': 1, 'n_estimators': 50}   \n",
       "3                2                 10  {'max_depth': 2, 'n_estimators': 10}   \n",
       "4                2                 30  {'max_depth': 2, 'n_estimators': 30}   \n",
       "5                2                 50  {'max_depth': 2, 'n_estimators': 50}   \n",
       "6                3                 10  {'max_depth': 3, 'n_estimators': 10}   \n",
       "7                3                 30  {'max_depth': 3, 'n_estimators': 30}   \n",
       "8                3                 50  {'max_depth': 3, 'n_estimators': 50}   \n",
       "9                4                 10  {'max_depth': 4, 'n_estimators': 10}   \n",
       "10               4                 30  {'max_depth': 4, 'n_estimators': 30}   \n",
       "11               4                 50  {'max_depth': 4, 'n_estimators': 50}   \n",
       "12               5                 10  {'max_depth': 5, 'n_estimators': 10}   \n",
       "13               5                 30  {'max_depth': 5, 'n_estimators': 30}   \n",
       "14               5                 50  {'max_depth': 5, 'n_estimators': 50}   \n",
       "\n",
       "    split0_test_score  split1_test_score  split2_test_score  \\\n",
       "0        -3783.052203       -3749.228721       -3750.392723   \n",
       "1        -3783.006132       -3749.264864       -3750.400376   \n",
       "2        -3783.010062       -3749.264615       -3750.381531   \n",
       "3        -3288.585726       -3269.313835       -3284.774968   \n",
       "4        -3288.695973       -3269.346956       -3284.803938   \n",
       "5        -3288.780980       -3269.465417       -3284.730781   \n",
       "6        -2996.412703       -2992.055402       -3015.214582   \n",
       "7        -3003.169330       -2989.156203       -3011.378038   \n",
       "8        -3001.472972       -2983.295060       -3006.101722   \n",
       "9        -2642.082477       -2638.190647       -2646.852814   \n",
       "10       -2651.241350       -2632.108402       -2641.524839   \n",
       "11       -2648.887003       -2621.945091       -2637.615519   \n",
       "12       -2451.292819       -2439.237793       -2455.989716   \n",
       "13       -2460.490116       -2432.075994       -2450.411727   \n",
       "14       -2460.538916       -2424.099796       -2447.742703   \n",
       "\n",
       "    split3_test_score  split4_test_score  mean_test_score  std_test_score  \\\n",
       "0        -3707.775106       -3720.270880     -3742.143927       26.273066   \n",
       "1        -3707.797501       -3720.263442     -3742.146463       26.256539   \n",
       "2        -3707.764539       -3720.274427     -3742.139035       26.263360   \n",
       "3        -3244.883122       -3240.604300     -3265.632390       19.818095   \n",
       "4        -3244.493185       -3240.430297     -3265.554070       19.976266   \n",
       "5        -3244.475252       -3240.418160     -3265.574118       19.993313   \n",
       "6        -2993.501954       -2986.321779     -2996.701284        9.822215   \n",
       "7        -2991.609069       -2986.756492     -2996.413826        9.365761   \n",
       "8        -2991.951269       -2987.328903     -2994.029985        8.550896   \n",
       "9        -2635.769104       -2613.855373     -2635.350083       11.383364   \n",
       "10       -2634.465186       -2619.904648     -2635.848885       10.385268   \n",
       "11       -2634.931821       -2618.483629     -2632.372613       11.030864   \n",
       "12       -2434.909094       -2411.741231     -2438.634131       15.485006   \n",
       "13       -2430.333325       -2416.122717     -2437.886776       15.698914   \n",
       "14       -2428.137398       -2415.367003     -2435.177163       16.527674   \n",
       "\n",
       "    rank_test_score  \n",
       "0                14  \n",
       "1                15  \n",
       "2                13  \n",
       "3                12  \n",
       "4                10  \n",
       "5                11  \n",
       "6                 9  \n",
       "7                 8  \n",
       "8                 7  \n",
       "9                 5  \n",
       "10                6  \n",
       "11                4  \n",
       "12                3  \n",
       "13                2  \n",
       "14                1  "
      ]
     },
     "execution_count": 70,
     "metadata": {},
     "output_type": "execute_result"
    }
   ],
   "source": [
    "pd.DataFrame(RFR_model.cv_results_)"
   ]
  },
  {
   "cell_type": "code",
   "execution_count": 106,
   "metadata": {},
   "outputs": [
    {
     "data": {
      "image/png": "[encoded data removed]",
      "text/plain": [
       "<Figure size 576x504 with 1 Axes>"
      ]
     },
     "metadata": {
      "needs_background": "light"
     },
     "output_type": "display_data"
    }
   ],
   "source": [
    "RF_imp = pd.Series(RFR_model.best_estimator_.feature_importances_,\n",
    "                    ohe_features_train.columns)\n",
    "fig, ax = plt.subplots(figsize=(8,7))\n",
    "RF_imp.plot.bar(ax=ax)\n",
    "ax.set_title(\"Важность признаков\")\n",
    "fig.tight_layout()"
   ]
  },
  {
   "cell_type": "markdown",
   "metadata": {},
   "source": [
    "### Линейная регрессия"
   ]
  },
  {
   "cell_type": "code",
   "execution_count": 53,
   "metadata": {},
   "outputs": [
    {
     "name": "stdout",
     "output_type": "stream",
     "text": [
      "# Train for root_mean_squared_error\n",
      "\n",
      "Mean RMSE from CV of LinearRegression = 2678.33252366551\n",
      "CPU times: user 47.7 s, sys: 16.6 s, total: 1min 4s\n",
      "Wall time: 1min 4s\n"
     ]
    }
   ],
   "source": [
    "%%time\n",
    "\n",
    "LR = LinearRegression()\n",
    "print('# Train for root_mean_squared_error')\n",
    "print()\n",
    "cv_RMSE_LR = (cross_val_score(LR, \n",
    "                             ohe_features_train, \n",
    "                             target_train, \n",
    "                             cv=5, \n",
    "                             scoring='neg_root_mean_squared_error').mean() * -1)\n",
    "print('Mean RMSE from CV of LinearRegression =', cv_RMSE_LR)"
   ]
  },
  {
   "cell_type": "markdown",
   "metadata": {},
   "source": [
    "### CatBoostRegressor"
   ]
  },
  {
   "cell_type": "markdown",
   "metadata": {},
   "source": [
    "Сделаем на исходным данных с указанием качественных столбцов."
   ]
  },
  {
   "cell_type": "code",
   "execution_count": 57,
   "metadata": {
    "scrolled": true
   },
   "outputs": [
    {
     "name": "stdout",
     "output_type": "stream",
     "text": [
      "# Train for root_mean_squared_error\n",
      "\n",
      "Mean RMSE from CV of CatBoostRegressor = 1659.4976434729676\n",
      "CPU times: user 1min 54s, sys: 555 ms, total: 1min 54s\n",
      "Wall time: 1min 57s\n"
     ]
    }
   ],
   "source": [
    "%%time\n",
    "\n",
    "CBR = CatBoostRegressor(learning_rate=0.5,\n",
    "                        iterations = 200,\n",
    "                        random_state=19072020, \n",
    "                        verbose=False, \n",
    "                        cat_features=['VehicleType','Gearbox','FuelType','Brand','Model','NotRepaired']) \n",
    "print('# Train for root_mean_squared_error')\n",
    "print()\n",
    "cv_RMSE_CBR = (cross_val_score(CBR,\n",
    "                                features_train, \n",
    "                                target_train, \n",
    "                                cv=5, \n",
    "                                scoring='neg_root_mean_squared_error').mean() * -1) \n",
    "print('Mean RMSE from CV of CatBoostRegressor =', cv_RMSE_CBR)"
   ]
  },
  {
   "cell_type": "code",
   "execution_count": 99,
   "metadata": {},
   "outputs": [
    {
     "data": {
      "image/png": "[encoded data removed]",
      "text/plain": [
       "<Figure size 576x504 with 1 Axes>"
      ]
     },
     "metadata": {
      "needs_background": "light"
     },
     "output_type": "display_data"
    }
   ],
   "source": [
    "CBR_imp = pd.Series(CBR.feature_importances_,\n",
    "                    features_train.columns)\n",
    "fig, ax = plt.subplots(figsize=(8,7))\n",
    "CBR_imp.plot.bar(ax=ax)\n",
    "ax.set_title(\"Важность признаков\")\n",
    "fig.tight_layout()"
   ]
  },
  {
   "cell_type": "markdown",
   "metadata": {},
   "source": [
    "### LightGBM"
   ]
  },
  {
   "cell_type": "code",
   "execution_count": 61,
   "metadata": {},
   "outputs": [
    {
     "name": "stdout",
     "output_type": "stream",
     "text": [
      "# Tuning hyper-parameters for root_mean_squared_error\n",
      "\n",
      "Best parameters:\n",
      "{'learning_rate': 0.1, 'num_leaves': 200, 'random_state': 12345}\n",
      "Best score:\n",
      "1621.4811916495169\n",
      "\n",
      "LGBMRegressor(num_leaves=200, random_state=12345)\n",
      "CPU times: user 5min 3s, sys: 1.61 s, total: 5min 4s\n",
      "Wall time: 5min 8s\n"
     ]
    }
   ],
   "source": [
    "%%time\n",
    "\n",
    "LGBM = LGBMRegressor() \n",
    "parameters_grid = [{'num_leaves':[31, 100, 200], \n",
    "                'learning_rate':[0.1, 0.3, 0.5],\n",
    "                'random_state':[12345]}]\n",
    "\n",
    "print('# Tuning hyper-parameters for root_mean_squared_error')\n",
    "print()\n",
    "LGBM_model = GridSearchCV(LGBM, parameters_grid, scoring='neg_root_mean_squared_error')\n",
    "LGBM_model.fit(ordinal_features_train, target_train)\n",
    "\n",
    "print(\"Best parameters:\")\n",
    "print(LGBM_model.best_params_)\n",
    "RMSE_LGBM = LGBM_model.best_score_*(-1)\n",
    "print(\"Best score:\")\n",
    "print(LGBM_model.best_score_*(-1))\n",
    " # Вернуться к оптимальной модели после поиска по сетке\n",
    "best_estimator3 = DTR_model.best_estimator_ \n",
    "print()\n",
    "print(LGBM_model.best_estimator_)"
   ]
  },
  {
   "cell_type": "code",
   "execution_count": 103,
   "metadata": {},
   "outputs": [
    {
     "data": {
      "image/png": "[encoded data removed]",
      "text/plain": [
       "<Figure size 576x504 with 1 Axes>"
      ]
     },
     "metadata": {
      "needs_background": "light"
     },
     "output_type": "display_data"
    }
   ],
   "source": [
    "LGBM_imp = pd.Series(LGBM_model.best_estimator_.feature_importances_,\n",
    "                    ordinal_features_train.columns)\n",
    "fig, ax = plt.subplots(figsize=(8,7))\n",
    "LGBM_imp.plot.bar(ax=ax)\n",
    "ax.set_title(\"Важность признаков\")\n",
    "fig.tight_layout()"
   ]
  },
  {
   "cell_type": "markdown",
   "metadata": {},
   "source": [
    "# Вывод по шагу 2"
   ]
  },
  {
   "cell_type": "markdown",
   "metadata": {},
   "source": [
    "Были изучены 5 регрессионных моделей. Зафиксированы лучшие гиперпараметры и время их выполнения.\n",
    "\n",
    "По Дереву решений и рандомному лесу тяжело понять, какие признаки больше влияют, так как после кодирования их становится очень много.\n",
    "\n",
    "По кэтбусту и LGBM можно сказать, что +- feature_importance совпадают, однако у первого больше всех влияют - год регистрации и мощность, а у второго - мощность, год регистации, модель и бренд."
   ]
  },
  {
   "cell_type": "markdown",
   "metadata": {},
   "source": [
    "## Анализ моделей"
   ]
  },
  {
   "cell_type": "markdown",
   "metadata": {},
   "source": [
    "Проведем обучение на каждой модели с лучшими гиперпараметрами."
   ]
  },
  {
   "cell_type": "markdown",
   "metadata": {},
   "source": [
    "Также сделаем предсказание на тестовой выборке (т.к. нужно узнать время предсказания) и посчитаем качество модели.  \n",
    "Хотя я считаю, что выбирать модель по результатам на тестовых данных это нечестно...:("
   ]
  },
  {
   "cell_type": "markdown",
   "metadata": {},
   "source": [
    "<div class=\"alert alert-block alert-success\">\n",
    "    \n",
    "<b> Кросс-валидация успешно применена <br> Внутренний метод кодировки данных был использован</b>"
   ]
  },
  {
   "cell_type": "markdown",
   "metadata": {},
   "source": [
    "\n",
    "\n",
    "<div class=\"alert alert-block alert-info\">\n",
    "\n",
    "\n",
    "<b>Что можно ещё улучшить</b> <br>\n",
    "    \n",
    "У нас разный возраст машин. Есть гипотеза, что для разных возрастов - своё ценообразование. Поэтому, можно попробовать ввести фактор \"тип возраста\" (ретро, супер-ретро, старая, новая... надо подумать..)..<br>\n",
    "\n",
    "\n",
    "</div>\n"
   ]
  },
  {
   "cell_type": "markdown",
   "metadata": {},
   "source": [
    "<div class=\"alert alert-block alert-danger\">\n",
    "    \n",
    "<b></b> Выбрать наилучшую модель нужно не переходя к тестовой выборке, то есть метрики, которые интересуют заказчика, нужно получить на текущем шаге:\n",
    "    \n",
    "    качество предсказания;\n",
    "    скорость предсказания;\n",
    "    время обучения.\n",
    "  \n",
    "Проанализировать, а затем провести тестирование, используя 1 наилучшую модель.\n",
    "    "
   ]
  },
  {
   "cell_type": "markdown",
   "metadata": {},
   "source": [
    "<div class=\"alert alert-block alert-danger\">\n",
    "\n",
    " 1) На тестовой выборке не нужно считать метрики времени. Очень важно понять, что на тестовой выборке не выбирается никакая модель, тем более, используя метрики - все это делается до тестовой выборке для валидации. (тестовая выборка, только, чтобы получить объективную оценку качества выбранной модели и оценить всю проделанную до этого работу). <br> До этого момента мы работаем, настраиваем модели, получаем метрики для анализа, используя валидационную выборку либо кросс-валидационные методы. То есть нужно либо как ты сделала ниже оценить дополнительные метрики времени, спользуя валидационную выборку либо тренировочную:\n",
    "    \n",
    "    - время обучения =  model.fit(X_train/X_valid)\n",
    "    - время предсказания  = model.predict(X_train/X_valid)\n",
    "    \n",
    "Либо вытащить эти данные из `grid_search.cv_results_` - там есть и метрики качества, и средняя скорость обучения, и средняя скорость предсказания. <br> 2) Необязательно нужно обучать заново выборку, grid_search содержит в себе информация о наилучшему наборе гиперпараметров, и при использовании `.predict()` будет использовать его. "
   ]
  },
  {
   "cell_type": "markdown",
   "metadata": {},
   "source": [
    "### Решающее дерево"
   ]
  },
  {
   "cell_type": "code",
   "execution_count": 46,
   "metadata": {},
   "outputs": [
    {
     "name": "stdout",
     "output_type": "stream",
     "text": [
      "CPU times: user 4min 12s, sys: 20.8 s, total: 4min 33s\n",
      "Wall time: 4min 33s\n"
     ]
    },
    {
     "data": {
      "text/plain": [
       "GridSearchCV(cv=5, estimator=DecisionTreeRegressor(random_state=12345),\n",
       "             param_grid={'max_depth': range(1, 21)},\n",
       "             scoring='neg_root_mean_squared_error')"
      ]
     },
     "execution_count": 46,
     "metadata": {},
     "output_type": "execute_result"
    }
   ],
   "source": [
    "%%time\n",
    "\n",
    "DTR_model.fit(ohe_features_train, target_train)"
   ]
  },
  {
   "cell_type": "code",
   "execution_count": 72,
   "metadata": {},
   "outputs": [
    {
     "name": "stdout",
     "output_type": "stream",
     "text": [
      "CPU times: user 143 ms, sys: 191 ms, total: 334 ms\n",
      "Wall time: 335 ms\n"
     ]
    }
   ],
   "source": [
    "%%time\n",
    "\n",
    "target_predict = DTR_model.predict(ohe_features_train)"
   ]
  },
  {
   "cell_type": "code",
   "execution_count": 73,
   "metadata": {},
   "outputs": [],
   "source": [
    "final_RMSE_DTR = mean_squared_error(target_train, target_predict) ** 0.5  "
   ]
  },
  {
   "cell_type": "markdown",
   "metadata": {},
   "source": [
    "### Случайный лес"
   ]
  },
  {
   "cell_type": "code",
   "execution_count": 50,
   "metadata": {},
   "outputs": [
    {
     "name": "stdout",
     "output_type": "stream",
     "text": [
      "CPU times: user 20min 38s, sys: 17.2 s, total: 20min 55s\n",
      "Wall time: 20min 55s\n"
     ]
    },
    {
     "data": {
      "text/plain": [
       "GridSearchCV(cv=5, estimator=RandomForestRegressor(random_state=12345),\n",
       "             param_grid={'max_depth': range(1, 6),\n",
       "                         'n_estimators': range(10, 51, 20)},\n",
       "             scoring='neg_root_mean_squared_error')"
      ]
     },
     "execution_count": 50,
     "metadata": {},
     "output_type": "execute_result"
    }
   ],
   "source": [
    "%%time\n",
    "\n",
    "RFR_model.fit(ohe_features_train, target_train)"
   ]
  },
  {
   "cell_type": "code",
   "execution_count": 81,
   "metadata": {},
   "outputs": [
    {
     "name": "stdout",
     "output_type": "stream",
     "text": [
      "CPU times: user 611 ms, sys: 183 ms, total: 794 ms\n",
      "Wall time: 805 ms\n"
     ]
    }
   ],
   "source": [
    "%%time\n",
    "\n",
    "target_predict = RFR_model.predict(ohe_features_train)"
   ]
  },
  {
   "cell_type": "code",
   "execution_count": 70,
   "metadata": {},
   "outputs": [
    {
     "data": {
      "text/html": [
       "<div>\n",
       "<style scoped>\n",
       "    .dataframe tbody tr th:only-of-type {\n",
       "        vertical-align: middle;\n",
       "    }\n",
       "\n",
       "    .dataframe tbody tr th {\n",
       "        vertical-align: top;\n",
       "    }\n",
       "\n",
       "    .dataframe thead th {\n",
       "        text-align: right;\n",
       "    }\n",
       "</style>\n",
       "<table border=\"1\" class=\"dataframe\">\n",
       "  <thead>\n",
       "    <tr style=\"text-align: right;\">\n",
       "      <th></th>\n",
       "      <th>mean_fit_time</th>\n",
       "      <th>std_fit_time</th>\n",
       "      <th>mean_score_time</th>\n",
       "      <th>std_score_time</th>\n",
       "      <th>param_max_depth</th>\n",
       "      <th>param_n_estimators</th>\n",
       "      <th>params</th>\n",
       "      <th>split0_test_score</th>\n",
       "      <th>split1_test_score</th>\n",
       "      <th>split2_test_score</th>\n",
       "      <th>split3_test_score</th>\n",
       "      <th>split4_test_score</th>\n",
       "      <th>mean_test_score</th>\n",
       "      <th>std_test_score</th>\n",
       "      <th>rank_test_score</th>\n",
       "    </tr>\n",
       "  </thead>\n",
       "  <tbody>\n",
       "    <tr>\n",
       "      <th>0</th>\n",
       "      <td>1.788886</td>\n",
       "      <td>0.037888</td>\n",
       "      <td>0.075305</td>\n",
       "      <td>0.000817</td>\n",
       "      <td>1</td>\n",
       "      <td>10</td>\n",
       "      <td>{'max_depth': 1, 'n_estimators': 10}</td>\n",
       "      <td>-3783.052203</td>\n",
       "      <td>-3749.228721</td>\n",
       "      <td>-3750.392723</td>\n",
       "      <td>-3707.775106</td>\n",
       "      <td>-3720.270880</td>\n",
       "      <td>-3742.143927</td>\n",
       "      <td>26.273066</td>\n",
       "      <td>14</td>\n",
       "    </tr>\n",
       "    <tr>\n",
       "      <th>1</th>\n",
       "      <td>4.630759</td>\n",
       "      <td>0.033281</td>\n",
       "      <td>0.088632</td>\n",
       "      <td>0.001325</td>\n",
       "      <td>1</td>\n",
       "      <td>30</td>\n",
       "      <td>{'max_depth': 1, 'n_estimators': 30}</td>\n",
       "      <td>-3783.006132</td>\n",
       "      <td>-3749.264864</td>\n",
       "      <td>-3750.400376</td>\n",
       "      <td>-3707.797501</td>\n",
       "      <td>-3720.263442</td>\n",
       "      <td>-3742.146463</td>\n",
       "      <td>26.256539</td>\n",
       "      <td>15</td>\n",
       "    </tr>\n",
       "    <tr>\n",
       "      <th>2</th>\n",
       "      <td>7.437224</td>\n",
       "      <td>0.034397</td>\n",
       "      <td>0.098611</td>\n",
       "      <td>0.001357</td>\n",
       "      <td>1</td>\n",
       "      <td>50</td>\n",
       "      <td>{'max_depth': 1, 'n_estimators': 50}</td>\n",
       "      <td>-3783.010062</td>\n",
       "      <td>-3749.264615</td>\n",
       "      <td>-3750.381531</td>\n",
       "      <td>-3707.764539</td>\n",
       "      <td>-3720.274427</td>\n",
       "      <td>-3742.139035</td>\n",
       "      <td>26.263360</td>\n",
       "      <td>13</td>\n",
       "    </tr>\n",
       "    <tr>\n",
       "      <th>3</th>\n",
       "      <td>3.495614</td>\n",
       "      <td>0.016812</td>\n",
       "      <td>0.076734</td>\n",
       "      <td>0.000616</td>\n",
       "      <td>2</td>\n",
       "      <td>10</td>\n",
       "      <td>{'max_depth': 2, 'n_estimators': 10}</td>\n",
       "      <td>-3288.585726</td>\n",
       "      <td>-3269.313835</td>\n",
       "      <td>-3284.774968</td>\n",
       "      <td>-3244.883122</td>\n",
       "      <td>-3240.604300</td>\n",
       "      <td>-3265.632390</td>\n",
       "      <td>19.818095</td>\n",
       "      <td>12</td>\n",
       "    </tr>\n",
       "    <tr>\n",
       "      <th>4</th>\n",
       "      <td>9.923843</td>\n",
       "      <td>0.066158</td>\n",
       "      <td>0.094495</td>\n",
       "      <td>0.001774</td>\n",
       "      <td>2</td>\n",
       "      <td>30</td>\n",
       "      <td>{'max_depth': 2, 'n_estimators': 30}</td>\n",
       "      <td>-3288.695973</td>\n",
       "      <td>-3269.346956</td>\n",
       "      <td>-3284.803938</td>\n",
       "      <td>-3244.493185</td>\n",
       "      <td>-3240.430297</td>\n",
       "      <td>-3265.554070</td>\n",
       "      <td>19.976266</td>\n",
       "      <td>10</td>\n",
       "    </tr>\n",
       "    <tr>\n",
       "      <th>5</th>\n",
       "      <td>16.350033</td>\n",
       "      <td>0.125011</td>\n",
       "      <td>0.109296</td>\n",
       "      <td>0.001314</td>\n",
       "      <td>2</td>\n",
       "      <td>50</td>\n",
       "      <td>{'max_depth': 2, 'n_estimators': 50}</td>\n",
       "      <td>-3288.780980</td>\n",
       "      <td>-3269.465417</td>\n",
       "      <td>-3284.730781</td>\n",
       "      <td>-3244.475252</td>\n",
       "      <td>-3240.418160</td>\n",
       "      <td>-3265.574118</td>\n",
       "      <td>19.993313</td>\n",
       "      <td>11</td>\n",
       "    </tr>\n",
       "    <tr>\n",
       "      <th>6</th>\n",
       "      <td>5.455452</td>\n",
       "      <td>0.059878</td>\n",
       "      <td>0.077664</td>\n",
       "      <td>0.000580</td>\n",
       "      <td>3</td>\n",
       "      <td>10</td>\n",
       "      <td>{'max_depth': 3, 'n_estimators': 10}</td>\n",
       "      <td>-2996.412703</td>\n",
       "      <td>-2992.055402</td>\n",
       "      <td>-3015.214582</td>\n",
       "      <td>-2993.501954</td>\n",
       "      <td>-2986.321779</td>\n",
       "      <td>-2996.701284</td>\n",
       "      <td>9.822215</td>\n",
       "      <td>9</td>\n",
       "    </tr>\n",
       "    <tr>\n",
       "      <th>7</th>\n",
       "      <td>15.833623</td>\n",
       "      <td>0.109544</td>\n",
       "      <td>0.099090</td>\n",
       "      <td>0.000446</td>\n",
       "      <td>3</td>\n",
       "      <td>30</td>\n",
       "      <td>{'max_depth': 3, 'n_estimators': 30}</td>\n",
       "      <td>-3003.169330</td>\n",
       "      <td>-2989.156203</td>\n",
       "      <td>-3011.378038</td>\n",
       "      <td>-2991.609069</td>\n",
       "      <td>-2986.756492</td>\n",
       "      <td>-2996.413826</td>\n",
       "      <td>9.365761</td>\n",
       "      <td>8</td>\n",
       "    </tr>\n",
       "    <tr>\n",
       "      <th>8</th>\n",
       "      <td>26.135160</td>\n",
       "      <td>0.081605</td>\n",
       "      <td>0.121946</td>\n",
       "      <td>0.002605</td>\n",
       "      <td>3</td>\n",
       "      <td>50</td>\n",
       "      <td>{'max_depth': 3, 'n_estimators': 50}</td>\n",
       "      <td>-3001.472972</td>\n",
       "      <td>-2983.295060</td>\n",
       "      <td>-3006.101722</td>\n",
       "      <td>-2991.951269</td>\n",
       "      <td>-2987.328903</td>\n",
       "      <td>-2994.029985</td>\n",
       "      <td>8.550896</td>\n",
       "      <td>7</td>\n",
       "    </tr>\n",
       "    <tr>\n",
       "      <th>9</th>\n",
       "      <td>7.603540</td>\n",
       "      <td>0.036428</td>\n",
       "      <td>0.081167</td>\n",
       "      <td>0.000729</td>\n",
       "      <td>4</td>\n",
       "      <td>10</td>\n",
       "      <td>{'max_depth': 4, 'n_estimators': 10}</td>\n",
       "      <td>-2642.082477</td>\n",
       "      <td>-2638.190647</td>\n",
       "      <td>-2646.852814</td>\n",
       "      <td>-2635.769104</td>\n",
       "      <td>-2613.855373</td>\n",
       "      <td>-2635.350083</td>\n",
       "      <td>11.383364</td>\n",
       "      <td>5</td>\n",
       "    </tr>\n",
       "    <tr>\n",
       "      <th>10</th>\n",
       "      <td>21.765260</td>\n",
       "      <td>0.190873</td>\n",
       "      <td>0.106326</td>\n",
       "      <td>0.003027</td>\n",
       "      <td>4</td>\n",
       "      <td>30</td>\n",
       "      <td>{'max_depth': 4, 'n_estimators': 30}</td>\n",
       "      <td>-2651.241350</td>\n",
       "      <td>-2632.108402</td>\n",
       "      <td>-2641.524839</td>\n",
       "      <td>-2634.465186</td>\n",
       "      <td>-2619.904648</td>\n",
       "      <td>-2635.848885</td>\n",
       "      <td>10.385268</td>\n",
       "      <td>6</td>\n",
       "    </tr>\n",
       "    <tr>\n",
       "      <th>11</th>\n",
       "      <td>36.088184</td>\n",
       "      <td>0.273065</td>\n",
       "      <td>0.130277</td>\n",
       "      <td>0.004104</td>\n",
       "      <td>4</td>\n",
       "      <td>50</td>\n",
       "      <td>{'max_depth': 4, 'n_estimators': 50}</td>\n",
       "      <td>-2648.887003</td>\n",
       "      <td>-2621.945091</td>\n",
       "      <td>-2637.615519</td>\n",
       "      <td>-2634.931821</td>\n",
       "      <td>-2618.483629</td>\n",
       "      <td>-2632.372613</td>\n",
       "      <td>11.030864</td>\n",
       "      <td>4</td>\n",
       "    </tr>\n",
       "    <tr>\n",
       "      <th>12</th>\n",
       "      <td>9.487121</td>\n",
       "      <td>0.072527</td>\n",
       "      <td>0.084015</td>\n",
       "      <td>0.001225</td>\n",
       "      <td>5</td>\n",
       "      <td>10</td>\n",
       "      <td>{'max_depth': 5, 'n_estimators': 10}</td>\n",
       "      <td>-2451.292819</td>\n",
       "      <td>-2439.237793</td>\n",
       "      <td>-2455.989716</td>\n",
       "      <td>-2434.909094</td>\n",
       "      <td>-2411.741231</td>\n",
       "      <td>-2438.634131</td>\n",
       "      <td>15.485006</td>\n",
       "      <td>3</td>\n",
       "    </tr>\n",
       "    <tr>\n",
       "      <th>13</th>\n",
       "      <td>27.139296</td>\n",
       "      <td>0.150487</td>\n",
       "      <td>0.112933</td>\n",
       "      <td>0.001510</td>\n",
       "      <td>5</td>\n",
       "      <td>30</td>\n",
       "      <td>{'max_depth': 5, 'n_estimators': 30}</td>\n",
       "      <td>-2460.490116</td>\n",
       "      <td>-2432.075994</td>\n",
       "      <td>-2450.411727</td>\n",
       "      <td>-2430.333325</td>\n",
       "      <td>-2416.122717</td>\n",
       "      <td>-2437.886776</td>\n",
       "      <td>15.698914</td>\n",
       "      <td>2</td>\n",
       "    </tr>\n",
       "    <tr>\n",
       "      <th>14</th>\n",
       "      <td>45.008346</td>\n",
       "      <td>0.366299</td>\n",
       "      <td>0.141124</td>\n",
       "      <td>0.007007</td>\n",
       "      <td>5</td>\n",
       "      <td>50</td>\n",
       "      <td>{'max_depth': 5, 'n_estimators': 50}</td>\n",
       "      <td>-2460.538916</td>\n",
       "      <td>-2424.099796</td>\n",
       "      <td>-2447.742703</td>\n",
       "      <td>-2428.137398</td>\n",
       "      <td>-2415.367003</td>\n",
       "      <td>-2435.177163</td>\n",
       "      <td>16.527674</td>\n",
       "      <td>1</td>\n",
       "    </tr>\n",
       "  </tbody>\n",
       "</table>\n",
       "</div>"
      ],
      "text/plain": [
       "    mean_fit_time  std_fit_time  mean_score_time  std_score_time  \\\n",
       "0        1.788886      0.037888         0.075305        0.000817   \n",
       "1        4.630759      0.033281         0.088632        0.001325   \n",
       "2        7.437224      0.034397         0.098611        0.001357   \n",
       "3        3.495614      0.016812         0.076734        0.000616   \n",
       "4        9.923843      0.066158         0.094495        0.001774   \n",
       "5       16.350033      0.125011         0.109296        0.001314   \n",
       "6        5.455452      0.059878         0.077664        0.000580   \n",
       "7       15.833623      0.109544         0.099090        0.000446   \n",
       "8       26.135160      0.081605         0.121946        0.002605   \n",
       "9        7.603540      0.036428         0.081167        0.000729   \n",
       "10      21.765260      0.190873         0.106326        0.003027   \n",
       "11      36.088184      0.273065         0.130277        0.004104   \n",
       "12       9.487121      0.072527         0.084015        0.001225   \n",
       "13      27.139296      0.150487         0.112933        0.001510   \n",
       "14      45.008346      0.366299         0.141124        0.007007   \n",
       "\n",
       "   param_max_depth param_n_estimators                                params  \\\n",
       "0                1                 10  {'max_depth': 1, 'n_estimators': 10}   \n",
       "1                1                 30  {'max_depth': 1, 'n_estimators': 30}   \n",
       "2                1                 50  {'max_depth': 1, 'n_estimators': 50}   \n",
       "3                2                 10  {'max_depth': 2, 'n_estimators': 10}   \n",
       "4                2                 30  {'max_depth': 2, 'n_estimators': 30}   \n",
       "5                2                 50  {'max_depth': 2, 'n_estimators': 50}   \n",
       "6                3                 10  {'max_depth': 3, 'n_estimators': 10}   \n",
       "7                3                 30  {'max_depth': 3, 'n_estimators': 30}   \n",
       "8                3                 50  {'max_depth': 3, 'n_estimators': 50}   \n",
       "9                4                 10  {'max_depth': 4, 'n_estimators': 10}   \n",
       "10               4                 30  {'max_depth': 4, 'n_estimators': 30}   \n",
       "11               4                 50  {'max_depth': 4, 'n_estimators': 50}   \n",
       "12               5                 10  {'max_depth': 5, 'n_estimators': 10}   \n",
       "13               5                 30  {'max_depth': 5, 'n_estimators': 30}   \n",
       "14               5                 50  {'max_depth': 5, 'n_estimators': 50}   \n",
       "\n",
       "    split0_test_score  split1_test_score  split2_test_score  \\\n",
       "0        -3783.052203       -3749.228721       -3750.392723   \n",
       "1        -3783.006132       -3749.264864       -3750.400376   \n",
       "2        -3783.010062       -3749.264615       -3750.381531   \n",
       "3        -3288.585726       -3269.313835       -3284.774968   \n",
       "4        -3288.695973       -3269.346956       -3284.803938   \n",
       "5        -3288.780980       -3269.465417       -3284.730781   \n",
       "6        -2996.412703       -2992.055402       -3015.214582   \n",
       "7        -3003.169330       -2989.156203       -3011.378038   \n",
       "8        -3001.472972       -2983.295060       -3006.101722   \n",
       "9        -2642.082477       -2638.190647       -2646.852814   \n",
       "10       -2651.241350       -2632.108402       -2641.524839   \n",
       "11       -2648.887003       -2621.945091       -2637.615519   \n",
       "12       -2451.292819       -2439.237793       -2455.989716   \n",
       "13       -2460.490116       -2432.075994       -2450.411727   \n",
       "14       -2460.538916       -2424.099796       -2447.742703   \n",
       "\n",
       "    split3_test_score  split4_test_score  mean_test_score  std_test_score  \\\n",
       "0        -3707.775106       -3720.270880     -3742.143927       26.273066   \n",
       "1        -3707.797501       -3720.263442     -3742.146463       26.256539   \n",
       "2        -3707.764539       -3720.274427     -3742.139035       26.263360   \n",
       "3        -3244.883122       -3240.604300     -3265.632390       19.818095   \n",
       "4        -3244.493185       -3240.430297     -3265.554070       19.976266   \n",
       "5        -3244.475252       -3240.418160     -3265.574118       19.993313   \n",
       "6        -2993.501954       -2986.321779     -2996.701284        9.822215   \n",
       "7        -2991.609069       -2986.756492     -2996.413826        9.365761   \n",
       "8        -2991.951269       -2987.328903     -2994.029985        8.550896   \n",
       "9        -2635.769104       -2613.855373     -2635.350083       11.383364   \n",
       "10       -2634.465186       -2619.904648     -2635.848885       10.385268   \n",
       "11       -2634.931821       -2618.483629     -2632.372613       11.030864   \n",
       "12       -2434.909094       -2411.741231     -2438.634131       15.485006   \n",
       "13       -2430.333325       -2416.122717     -2437.886776       15.698914   \n",
       "14       -2428.137398       -2415.367003     -2435.177163       16.527674   \n",
       "\n",
       "    rank_test_score  \n",
       "0                14  \n",
       "1                15  \n",
       "2                13  \n",
       "3                12  \n",
       "4                10  \n",
       "5                11  \n",
       "6                 9  \n",
       "7                 8  \n",
       "8                 7  \n",
       "9                 5  \n",
       "10                6  \n",
       "11                4  \n",
       "12                3  \n",
       "13                2  \n",
       "14                1  "
      ]
     },
     "execution_count": 70,
     "metadata": {},
     "output_type": "execute_result"
    }
   ],
   "source": [
    "pd.DataFrame(RFR_model.cv_results_)"
   ]
  },
  {
   "cell_type": "code",
   "execution_count": 77,
   "metadata": {},
   "outputs": [],
   "source": [
    "final_RMSE_RFR = mean_squared_error(target_train, target_predict) ** 0.5  "
   ]
  },
  {
   "cell_type": "markdown",
   "metadata": {},
   "source": [
    "### Линейная регрессия"
   ]
  },
  {
   "cell_type": "code",
   "execution_count": 54,
   "metadata": {},
   "outputs": [
    {
     "name": "stdout",
     "output_type": "stream",
     "text": [
      "CPU times: user 12 s, sys: 3.29 s, total: 15.3 s\n",
      "Wall time: 15.3 s\n"
     ]
    },
    {
     "data": {
      "text/plain": [
       "LinearRegression()"
      ]
     },
     "execution_count": 54,
     "metadata": {},
     "output_type": "execute_result"
    }
   ],
   "source": [
    "%%time\n",
    "\n",
    "model = LinearRegression()\n",
    "model.fit(ohe_features_train, target_train)"
   ]
  },
  {
   "cell_type": "code",
   "execution_count": 55,
   "metadata": {
    "scrolled": true
   },
   "outputs": [
    {
     "name": "stdout",
     "output_type": "stream",
     "text": [
      "CPU times: user 413 ms, sys: 248 ms, total: 662 ms\n",
      "Wall time: 600 ms\n"
     ]
    }
   ],
   "source": [
    "%%time\n",
    "\n",
    "target_predict = model.predict(ohe_features_train)"
   ]
  },
  {
   "cell_type": "code",
   "execution_count": 56,
   "metadata": {},
   "outputs": [],
   "source": [
    "final_RMSE_LR = mean_squared_error(target_train, target_predict) ** 0.5"
   ]
  },
  {
   "cell_type": "markdown",
   "metadata": {},
   "source": [
    "### CatBoostRegressor"
   ]
  },
  {
   "cell_type": "code",
   "execution_count": 85,
   "metadata": {},
   "outputs": [
    {
     "name": "stdout",
     "output_type": "stream",
     "text": [
      "CPU times: user 30.4 s, sys: 262 ms, total: 30.7 s\n",
      "Wall time: 31.7 s\n"
     ]
    },
    {
     "data": {
      "text/plain": [
       "<catboost.core.CatBoostRegressor at 0x7f9087f40f40>"
      ]
     },
     "execution_count": 85,
     "metadata": {},
     "output_type": "execute_result"
    }
   ],
   "source": [
    "%%time\n",
    "\n",
    "CBR = CatBoostRegressor(learning_rate=0.5, \n",
    "                          iterations = 200, \n",
    "                          random_state=12345, \n",
    "                          verbose=False,\n",
    "                          cat_features=['VehicleType','Gearbox','FuelType','Brand','Model','NotRepaired']) \n",
    "CBR.fit(features_train, target_train)"
   ]
  },
  {
   "cell_type": "code",
   "execution_count": 86,
   "metadata": {},
   "outputs": [
    {
     "name": "stdout",
     "output_type": "stream",
     "text": [
      "CPU times: user 529 ms, sys: 7.82 ms, total: 537 ms\n",
      "Wall time: 539 ms\n"
     ]
    }
   ],
   "source": [
    "%%time\n",
    "\n",
    "target_predict = CBR.predict(features_train)"
   ]
  },
  {
   "cell_type": "code",
   "execution_count": 87,
   "metadata": {},
   "outputs": [],
   "source": [
    "final_RMSE_CBR = mean_squared_error(target_train, target_predict) ** 0.5"
   ]
  },
  {
   "cell_type": "markdown",
   "metadata": {},
   "source": [
    "### LightGBM"
   ]
  },
  {
   "cell_type": "code",
   "execution_count": 62,
   "metadata": {},
   "outputs": [
    {
     "name": "stdout",
     "output_type": "stream",
     "text": [
      "CPU times: user 24.9 s, sys: 149 ms, total: 25 s\n",
      "Wall time: 25.4 s\n"
     ]
    },
    {
     "data": {
      "text/plain": [
       "LGBMRegressor(num_leaves=200, random_state=12345)"
      ]
     },
     "execution_count": 62,
     "metadata": {},
     "output_type": "execute_result"
    }
   ],
   "source": [
    "%%time\n",
    "\n",
    "model = LGBMRegressor(learning_rate=0.1, \n",
    "                      num_leaves=200, \n",
    "                      random_state=12345)\n",
    "model.fit(ordinal_features_train, target_train)"
   ]
  },
  {
   "cell_type": "code",
   "execution_count": 63,
   "metadata": {
    "scrolled": true
   },
   "outputs": [
    {
     "name": "stdout",
     "output_type": "stream",
     "text": [
      "CPU times: user 2.21 s, sys: 2.39 ms, total: 2.21 s\n",
      "Wall time: 2.21 s\n"
     ]
    }
   ],
   "source": [
    "%%time\n",
    "\n",
    "target_predict = model.predict(ordinal_features_train)"
   ]
  },
  {
   "cell_type": "code",
   "execution_count": 64,
   "metadata": {},
   "outputs": [],
   "source": [
    "final_RMSE_LGBMR = mean_squared_error(target_train, target_predict) ** 0.5"
   ]
  },
  {
   "cell_type": "markdown",
   "metadata": {},
   "source": [
    "## Сравнение моделей"
   ]
  },
  {
   "cell_type": "code",
   "execution_count": 92,
   "metadata": {
    "scrolled": true
   },
   "outputs": [],
   "source": [
    "index = ['DecisionTree',\n",
    "         'RandomForest',\n",
    "         'LinearRegression',\n",
    "         'CatBoost',\n",
    "         'LightGBM']\n",
    "data = {'RMSE при поиске лучших гиперпараметров':[RMSE_DTR,\n",
    "                                     RMSE_RFR,\n",
    "                                     cv_RMSE_LR,\n",
    "                                     cv_RMSE_CBR,\n",
    "                                     RMSE_LGBM],\n",
    "        'Время поиска лучших гиперпараметров, сек':[272,\n",
    "                               1244,\n",
    "                               64,\n",
    "                               117,\n",
    "                               308],\n",
    "        'RMSE модели на обучающей выборке':[final_RMSE_DTR,\n",
    "                                           final_RMSE_RFR,\n",
    "                                           final_RMSE_LR,\n",
    "                                           final_RMSE_CBR,\n",
    "                                           final_RMSE_LGBMR],\n",
    "        'Время обучения модели, сек':[273,\n",
    "                                      1255,\n",
    "                                      15.3,\n",
    "                                      28.8,\n",
    "                                      25.4],\n",
    "        'Время предсказания модели, сек':[0.649,\n",
    "                                          0.805,\n",
    "                                          0.600,\n",
    "                                          0.524,\n",
    "                                          2.21]}\n",
    "\n",
    "scores_data = pd.DataFrame(data=data, index=index)"
   ]
  },
  {
   "cell_type": "code",
   "execution_count": 93,
   "metadata": {
    "scrolled": true
   },
   "outputs": [
    {
     "data": {
      "text/html": [
       "<style  type=\"text/css\" >\n",
       "#T_fbe0f_row0_col0{\n",
       "            background-color:  #a6d2a6;\n",
       "            color:  #000000;\n",
       "        }#T_fbe0f_row0_col1{\n",
       "            background-color:  #c1dfc1;\n",
       "            color:  #000000;\n",
       "        }#T_fbe0f_row0_col2{\n",
       "            background-color:  #e0eedf;\n",
       "            color:  #000000;\n",
       "        }#T_fbe0f_row0_col3{\n",
       "            background-color:  #badbba;\n",
       "            color:  #000000;\n",
       "        }#T_fbe0f_row0_col4{\n",
       "            background-color:  #daebda;\n",
       "            color:  #000000;\n",
       "        }#T_fbe0f_row1_col0{\n",
       "            background-color:  #359a35;\n",
       "            color:  #000000;\n",
       "        }#T_fbe0f_row1_col1,#T_fbe0f_row1_col3,#T_fbe0f_row2_col0,#T_fbe0f_row2_col2,#T_fbe0f_row4_col4{\n",
       "            background-color:  #008000;\n",
       "            color:  #f1f1f1;\n",
       "        }#T_fbe0f_row1_col2{\n",
       "            background-color:  #2e972e;\n",
       "            color:  #000000;\n",
       "        }#T_fbe0f_row1_col4{\n",
       "            background-color:  #c4e0c4;\n",
       "            color:  #000000;\n",
       "        }#T_fbe0f_row2_col1,#T_fbe0f_row2_col3,#T_fbe0f_row3_col4,#T_fbe0f_row4_col0,#T_fbe0f_row4_col2{\n",
       "            background-color:  #ebf3eb;\n",
       "            color:  #000000;\n",
       "        }#T_fbe0f_row2_col4,#T_fbe0f_row3_col1{\n",
       "            background-color:  #e0eee0;\n",
       "            color:  #000000;\n",
       "        }#T_fbe0f_row3_col0{\n",
       "            background-color:  #e2efe2;\n",
       "            color:  #000000;\n",
       "        }#T_fbe0f_row3_col2{\n",
       "            background-color:  #c7e1c7;\n",
       "            color:  #000000;\n",
       "        }#T_fbe0f_row3_col3,#T_fbe0f_row4_col3{\n",
       "            background-color:  #e9f2e9;\n",
       "            color:  #000000;\n",
       "        }#T_fbe0f_row4_col1{\n",
       "            background-color:  #bbdcbb;\n",
       "            color:  #000000;\n",
       "        }</style><table id=\"T_fbe0f_\" ><thead>    <tr>        <th class=\"blank level0\" ></th>        <th class=\"col_heading level0 col0\" >RMSE при поиске лучших гиперпараметров</th>        <th class=\"col_heading level0 col1\" >Время поиска лучших гиперпараметров, сек</th>        <th class=\"col_heading level0 col2\" >RMSE модели на обучающей выборке</th>        <th class=\"col_heading level0 col3\" >Время обучения модели, сек</th>        <th class=\"col_heading level0 col4\" >Время предсказания модели, сек</th>    </tr></thead><tbody>\n",
       "                <tr>\n",
       "                        <th id=\"T_fbe0f_level0_row0\" class=\"row_heading level0 row0\" >DecisionTree</th>\n",
       "                        <td id=\"T_fbe0f_row0_col0\" class=\"data row0 col0\" >1928.356474</td>\n",
       "                        <td id=\"T_fbe0f_row0_col1\" class=\"data row0 col1\" >272</td>\n",
       "                        <td id=\"T_fbe0f_row0_col2\" class=\"data row0 col2\" >1536.977085</td>\n",
       "                        <td id=\"T_fbe0f_row0_col3\" class=\"data row0 col3\" >273.000000</td>\n",
       "                        <td id=\"T_fbe0f_row0_col4\" class=\"data row0 col4\" >0.649000</td>\n",
       "            </tr>\n",
       "            <tr>\n",
       "                        <th id=\"T_fbe0f_level0_row1\" class=\"row_heading level0 row1\" >RandomForest</th>\n",
       "                        <td id=\"T_fbe0f_row1_col0\" class=\"data row1 col0\" >2435.177163</td>\n",
       "                        <td id=\"T_fbe0f_row1_col1\" class=\"data row1 col1\" >1244</td>\n",
       "                        <td id=\"T_fbe0f_row1_col2\" class=\"data row1 col2\" >2436.995453</td>\n",
       "                        <td id=\"T_fbe0f_row1_col3\" class=\"data row1 col3\" >1255.000000</td>\n",
       "                        <td id=\"T_fbe0f_row1_col4\" class=\"data row1 col4\" >0.805000</td>\n",
       "            </tr>\n",
       "            <tr>\n",
       "                        <th id=\"T_fbe0f_level0_row2\" class=\"row_heading level0 row2\" >LinearRegression</th>\n",
       "                        <td id=\"T_fbe0f_row2_col0\" class=\"data row2 col0\" >2678.332524</td>\n",
       "                        <td id=\"T_fbe0f_row2_col1\" class=\"data row2 col1\" >64</td>\n",
       "                        <td id=\"T_fbe0f_row2_col2\" class=\"data row2 col2\" >2672.705505</td>\n",
       "                        <td id=\"T_fbe0f_row2_col3\" class=\"data row2 col3\" >15.300000</td>\n",
       "                        <td id=\"T_fbe0f_row2_col4\" class=\"data row2 col4\" >0.600000</td>\n",
       "            </tr>\n",
       "            <tr>\n",
       "                        <th id=\"T_fbe0f_level0_row3\" class=\"row_heading level0 row3\" >CatBoost</th>\n",
       "                        <td id=\"T_fbe0f_row3_col0\" class=\"data row3 col0\" >1659.497643</td>\n",
       "                        <td id=\"T_fbe0f_row3_col1\" class=\"data row3 col1\" >117</td>\n",
       "                        <td id=\"T_fbe0f_row3_col2\" class=\"data row3 col2\" >1662.610018</td>\n",
       "                        <td id=\"T_fbe0f_row3_col3\" class=\"data row3 col3\" >28.800000</td>\n",
       "                        <td id=\"T_fbe0f_row3_col4\" class=\"data row3 col4\" >0.524000</td>\n",
       "            </tr>\n",
       "            <tr>\n",
       "                        <th id=\"T_fbe0f_level0_row4\" class=\"row_heading level0 row4\" >LightGBM</th>\n",
       "                        <td id=\"T_fbe0f_row4_col0\" class=\"data row4 col0\" >1621.481192</td>\n",
       "                        <td id=\"T_fbe0f_row4_col1\" class=\"data row4 col1\" >308</td>\n",
       "                        <td id=\"T_fbe0f_row4_col2\" class=\"data row4 col2\" >1478.006106</td>\n",
       "                        <td id=\"T_fbe0f_row4_col3\" class=\"data row4 col3\" >25.400000</td>\n",
       "                        <td id=\"T_fbe0f_row4_col4\" class=\"data row4 col4\" >2.210000</td>\n",
       "            </tr>\n",
       "    </tbody></table>"
      ],
      "text/plain": [
       "<pandas.io.formats.style.Styler at 0x7f908b7054c0>"
      ]
     },
     "execution_count": 93,
     "metadata": {},
     "output_type": "execute_result"
    }
   ],
   "source": [
    "import seaborn as sns\n",
    "cm = sns.light_palette(\"green\", as_cmap=True)\n",
    "\n",
    "scores_data.style.background_gradient(cmap=cm)"
   ]
  },
  {
   "cell_type": "code",
   "execution_count": 94,
   "metadata": {
    "scrolled": false
   },
   "outputs": [
    {
     "data": {
      "text/html": [
       "<style  type=\"text/css\" >\n",
       "#T_4a535_row0_col0{\n",
       "            width:  10em;\n",
       "             height:  80%;\n",
       "            background:  linear-gradient(90deg,coral 72.0%, transparent 72.0%);\n",
       "        }#T_4a535_row0_col1{\n",
       "            width:  10em;\n",
       "             height:  80%;\n",
       "            background:  linear-gradient(90deg,coral 21.9%, transparent 21.9%);\n",
       "        }#T_4a535_row0_col2{\n",
       "            width:  10em;\n",
       "             height:  80%;\n",
       "            background:  linear-gradient(90deg,coral 57.5%, transparent 57.5%);\n",
       "        }#T_4a535_row0_col3{\n",
       "            width:  10em;\n",
       "             height:  80%;\n",
       "            background:  linear-gradient(90deg,coral 21.8%, transparent 21.8%);\n",
       "        }#T_4a535_row0_col4{\n",
       "            width:  10em;\n",
       "             height:  80%;\n",
       "            background:  linear-gradient(90deg,coral 29.4%, transparent 29.4%);\n",
       "        }#T_4a535_row1_col0{\n",
       "            width:  10em;\n",
       "             height:  80%;\n",
       "            background:  linear-gradient(90deg,coral 90.9%, transparent 90.9%);\n",
       "        }#T_4a535_row1_col1,#T_4a535_row1_col3,#T_4a535_row2_col0,#T_4a535_row2_col2,#T_4a535_row4_col4{\n",
       "            width:  10em;\n",
       "             height:  80%;\n",
       "            background:  linear-gradient(90deg,coral 100.0%, transparent 100.0%);\n",
       "        }#T_4a535_row1_col2{\n",
       "            width:  10em;\n",
       "             height:  80%;\n",
       "            background:  linear-gradient(90deg,coral 91.2%, transparent 91.2%);\n",
       "        }#T_4a535_row1_col4{\n",
       "            width:  10em;\n",
       "             height:  80%;\n",
       "            background:  linear-gradient(90deg,coral 36.4%, transparent 36.4%);\n",
       "        }#T_4a535_row2_col1{\n",
       "            width:  10em;\n",
       "             height:  80%;\n",
       "            background:  linear-gradient(90deg,coral 5.1%, transparent 5.1%);\n",
       "        }#T_4a535_row2_col3{\n",
       "            width:  10em;\n",
       "             height:  80%;\n",
       "            background:  linear-gradient(90deg,coral 1.2%, transparent 1.2%);\n",
       "        }#T_4a535_row2_col4{\n",
       "            width:  10em;\n",
       "             height:  80%;\n",
       "            background:  linear-gradient(90deg,coral 27.1%, transparent 27.1%);\n",
       "        }#T_4a535_row3_col0{\n",
       "            width:  10em;\n",
       "             height:  80%;\n",
       "            background:  linear-gradient(90deg,coral 62.0%, transparent 62.0%);\n",
       "        }#T_4a535_row3_col1{\n",
       "            width:  10em;\n",
       "             height:  80%;\n",
       "            background:  linear-gradient(90deg,coral 9.4%, transparent 9.4%);\n",
       "        }#T_4a535_row3_col2{\n",
       "            width:  10em;\n",
       "             height:  80%;\n",
       "            background:  linear-gradient(90deg,coral 62.2%, transparent 62.2%);\n",
       "        }#T_4a535_row3_col3{\n",
       "            width:  10em;\n",
       "             height:  80%;\n",
       "            background:  linear-gradient(90deg,coral 2.3%, transparent 2.3%);\n",
       "        }#T_4a535_row3_col4{\n",
       "            width:  10em;\n",
       "             height:  80%;\n",
       "            background:  linear-gradient(90deg,coral 23.7%, transparent 23.7%);\n",
       "        }#T_4a535_row4_col0{\n",
       "            width:  10em;\n",
       "             height:  80%;\n",
       "            background:  linear-gradient(90deg,coral 60.5%, transparent 60.5%);\n",
       "        }#T_4a535_row4_col1{\n",
       "            width:  10em;\n",
       "             height:  80%;\n",
       "            background:  linear-gradient(90deg,coral 24.8%, transparent 24.8%);\n",
       "        }#T_4a535_row4_col2{\n",
       "            width:  10em;\n",
       "             height:  80%;\n",
       "            background:  linear-gradient(90deg,coral 55.3%, transparent 55.3%);\n",
       "        }#T_4a535_row4_col3{\n",
       "            width:  10em;\n",
       "             height:  80%;\n",
       "            background:  linear-gradient(90deg,coral 2.0%, transparent 2.0%);\n",
       "        }</style><table id=\"T_4a535_\" ><thead>    <tr>        <th class=\"blank level0\" ></th>        <th class=\"col_heading level0 col0\" >RMSE при поиске лучших гиперпараметров</th>        <th class=\"col_heading level0 col1\" >Время поиска лучших гиперпараметров, сек</th>        <th class=\"col_heading level0 col2\" >RMSE модели на обучающей выборке</th>        <th class=\"col_heading level0 col3\" >Время обучения модели, сек</th>        <th class=\"col_heading level0 col4\" >Время предсказания модели, сек</th>    </tr></thead><tbody>\n",
       "                <tr>\n",
       "                        <th id=\"T_4a535_level0_row0\" class=\"row_heading level0 row0\" >DecisionTree</th>\n",
       "                        <td id=\"T_4a535_row0_col0\" class=\"data row0 col0\" >1928.356474</td>\n",
       "                        <td id=\"T_4a535_row0_col1\" class=\"data row0 col1\" >272</td>\n",
       "                        <td id=\"T_4a535_row0_col2\" class=\"data row0 col2\" >1536.977085</td>\n",
       "                        <td id=\"T_4a535_row0_col3\" class=\"data row0 col3\" >273.000000</td>\n",
       "                        <td id=\"T_4a535_row0_col4\" class=\"data row0 col4\" >0.649000</td>\n",
       "            </tr>\n",
       "            <tr>\n",
       "                        <th id=\"T_4a535_level0_row1\" class=\"row_heading level0 row1\" >RandomForest</th>\n",
       "                        <td id=\"T_4a535_row1_col0\" class=\"data row1 col0\" >2435.177163</td>\n",
       "                        <td id=\"T_4a535_row1_col1\" class=\"data row1 col1\" >1244</td>\n",
       "                        <td id=\"T_4a535_row1_col2\" class=\"data row1 col2\" >2436.995453</td>\n",
       "                        <td id=\"T_4a535_row1_col3\" class=\"data row1 col3\" >1255.000000</td>\n",
       "                        <td id=\"T_4a535_row1_col4\" class=\"data row1 col4\" >0.805000</td>\n",
       "            </tr>\n",
       "            <tr>\n",
       "                        <th id=\"T_4a535_level0_row2\" class=\"row_heading level0 row2\" >LinearRegression</th>\n",
       "                        <td id=\"T_4a535_row2_col0\" class=\"data row2 col0\" >2678.332524</td>\n",
       "                        <td id=\"T_4a535_row2_col1\" class=\"data row2 col1\" >64</td>\n",
       "                        <td id=\"T_4a535_row2_col2\" class=\"data row2 col2\" >2672.705505</td>\n",
       "                        <td id=\"T_4a535_row2_col3\" class=\"data row2 col3\" >15.300000</td>\n",
       "                        <td id=\"T_4a535_row2_col4\" class=\"data row2 col4\" >0.600000</td>\n",
       "            </tr>\n",
       "            <tr>\n",
       "                        <th id=\"T_4a535_level0_row3\" class=\"row_heading level0 row3\" >CatBoost</th>\n",
       "                        <td id=\"T_4a535_row3_col0\" class=\"data row3 col0\" >1659.497643</td>\n",
       "                        <td id=\"T_4a535_row3_col1\" class=\"data row3 col1\" >117</td>\n",
       "                        <td id=\"T_4a535_row3_col2\" class=\"data row3 col2\" >1662.610018</td>\n",
       "                        <td id=\"T_4a535_row3_col3\" class=\"data row3 col3\" >28.800000</td>\n",
       "                        <td id=\"T_4a535_row3_col4\" class=\"data row3 col4\" >0.524000</td>\n",
       "            </tr>\n",
       "            <tr>\n",
       "                        <th id=\"T_4a535_level0_row4\" class=\"row_heading level0 row4\" >LightGBM</th>\n",
       "                        <td id=\"T_4a535_row4_col0\" class=\"data row4 col0\" >1621.481192</td>\n",
       "                        <td id=\"T_4a535_row4_col1\" class=\"data row4 col1\" >308</td>\n",
       "                        <td id=\"T_4a535_row4_col2\" class=\"data row4 col2\" >1478.006106</td>\n",
       "                        <td id=\"T_4a535_row4_col3\" class=\"data row4 col3\" >25.400000</td>\n",
       "                        <td id=\"T_4a535_row4_col4\" class=\"data row4 col4\" >2.210000</td>\n",
       "            </tr>\n",
       "    </tbody></table>"
      ],
      "text/plain": [
       "<pandas.io.formats.style.Styler at 0x7f908b705370>"
      ]
     },
     "execution_count": 94,
     "metadata": {},
     "output_type": "execute_result"
    }
   ],
   "source": [
    "scores_data.style.bar(color= 'coral',align = 'mid',)"
   ]
  },
  {
   "cell_type": "markdown",
   "metadata": {},
   "source": [
    "## Проверка на тестовой выборке"
   ]
  },
  {
   "cell_type": "markdown",
   "metadata": {},
   "source": [
    "Лучшей моделью по времени обучения, RMSE и времени предсказания модели является CatBoost.  \n",
    "Однако, лучшим результатом RMSE обладает LightGBM, но время предсказания самое большое (хоть и не большое в абсолютных величинах)."
   ]
  },
  {
   "cell_type": "code",
   "execution_count": 89,
   "metadata": {},
   "outputs": [
    {
     "name": "stdout",
     "output_type": "stream",
     "text": [
      "CPU times: user 186 ms, sys: 66 µs, total: 186 ms\n",
      "Wall time: 184 ms\n"
     ]
    }
   ],
   "source": [
    "%%time\n",
    "\n",
    "target_predict = CBR.predict(features_test)"
   ]
  },
  {
   "cell_type": "code",
   "execution_count": 90,
   "metadata": {},
   "outputs": [],
   "source": [
    "final_RMSE_CBR = mean_squared_error(target_test, target_predict) ** 0.5"
   ]
  },
  {
   "cell_type": "code",
   "execution_count": 91,
   "metadata": {},
   "outputs": [
    {
     "data": {
      "text/plain": [
       "1662.6100181682787"
      ]
     },
     "execution_count": 91,
     "metadata": {},
     "output_type": "execute_result"
    }
   ],
   "source": [
    "final_RMSE_CBR"
   ]
  },
  {
   "cell_type": "markdown",
   "metadata": {},
   "source": [
    "## Общий вывод"
   ]
  },
  {
   "cell_type": "markdown",
   "metadata": {},
   "source": [
    "* Данные были открыты, предобработаны.   \n",
    "* У 5 моделей были подобраны лучшие гиперпараметры.\n",
    "* Проверены время обучения и предсказания.\n",
    "\n",
    "\n",
    "<b>Лучшей моделью я выбрала DecisionTreeRegressor</b>, т.к. у него RMSE в обоих случаях меньше 2000 и лучшее время обучения и предсказания.\n",
    "\n",
    "RandomForest и LinearRegression показали себя хуже всех по RMSE.\n",
    "\n",
    "Также отмечу, что LightGBM показал лучшие значения RMSE хоть и за более долгое время."
   ]
  },
  {
   "cell_type": "markdown",
   "metadata": {},
   "source": [
    "<b>Проверили значение RMSE на тестовой выборке, используя модель CatBoost.</b>  \n",
    "Получиллось значение 1662, что говорит о хорошем предсказании (меньше 2500).\n"
   ]
  },
  {
   "cell_type": "markdown",
   "metadata": {},
   "source": [
    "## Чек-лист проверки"
   ]
  },
  {
   "cell_type": "markdown",
   "metadata": {},
   "source": [
    "Поставьте 'x' в выполненных пунктах. Далее нажмите Shift+Enter."
   ]
  },
  {
   "cell_type": "markdown",
   "metadata": {},
   "source": [
    "- [x]  Jupyter Notebook открыт\n",
    "- [x]  Весь код выполняется без ошибок\n",
    "- [x]  Ячейки с кодом расположены в порядке исполнения\n",
    "- [x]  Выполнена загрузка и подготовка данных\n",
    "- [x]  Выполнено обучение моделей\n",
    "- [x]  Есть анализ скорости работы и качества моделей"
   ]
  }
 ],
 "metadata": {
  "ExecuteTimeLog": [
   {
    "duration": 1379,
    "start_time": "2022-07-28T21:02:11.097Z"
   },
   {
    "duration": 3103,
    "start_time": "2022-07-28T21:03:42.310Z"
   },
   {
    "duration": 41,
    "start_time": "2022-07-28T21:15:36.044Z"
   },
   {
    "duration": 159,
    "start_time": "2022-07-28T21:15:46.718Z"
   },
   {
    "duration": 101,
    "start_time": "2022-07-28T21:19:05.337Z"
   },
   {
    "duration": 273,
    "start_time": "2022-07-28T21:24:45.794Z"
   },
   {
    "duration": 244,
    "start_time": "2022-07-28T21:25:01.100Z"
   },
   {
    "duration": 1319,
    "start_time": "2022-07-28T21:25:08.033Z"
   },
   {
    "duration": 485,
    "start_time": "2022-07-28T21:25:14.471Z"
   },
   {
    "duration": 191,
    "start_time": "2022-07-28T21:25:19.144Z"
   },
   {
    "duration": 202,
    "start_time": "2022-07-28T21:25:29.238Z"
   },
   {
    "duration": 26,
    "start_time": "2022-07-28T21:27:36.424Z"
   },
   {
    "duration": 32,
    "start_time": "2022-07-28T21:27:51.567Z"
   },
   {
    "duration": 236,
    "start_time": "2022-07-28T21:28:31.876Z"
   },
   {
    "duration": 218,
    "start_time": "2022-07-28T21:28:59.558Z"
   },
   {
    "duration": 222,
    "start_time": "2022-07-28T21:29:11.236Z"
   },
   {
    "duration": 325,
    "start_time": "2022-07-28T21:29:42.144Z"
   },
   {
    "duration": 227,
    "start_time": "2022-07-28T21:31:08.288Z"
   },
   {
    "duration": 231,
    "start_time": "2022-07-28T21:31:21.056Z"
   },
   {
    "duration": 21,
    "start_time": "2022-07-28T21:32:58.165Z"
   },
   {
    "duration": 112,
    "start_time": "2022-07-28T21:34:46.240Z"
   },
   {
    "duration": 30,
    "start_time": "2022-07-28T21:35:05.922Z"
   },
   {
    "duration": 11,
    "start_time": "2022-07-28T21:41:37.372Z"
   },
   {
    "duration": 39,
    "start_time": "2022-07-28T21:42:31.610Z"
   },
   {
    "duration": 63,
    "start_time": "2022-07-28T21:42:41.013Z"
   },
   {
    "duration": 5,
    "start_time": "2022-07-28T21:42:54.232Z"
   },
   {
    "duration": 244,
    "start_time": "2022-07-28T21:43:31.025Z"
   },
   {
    "duration": 226,
    "start_time": "2022-07-28T21:43:38.255Z"
   },
   {
    "duration": 317,
    "start_time": "2022-07-28T21:43:44.088Z"
   },
   {
    "duration": 90,
    "start_time": "2022-07-28T21:51:27.601Z"
   },
   {
    "duration": 5,
    "start_time": "2022-07-28T21:52:35.750Z"
   },
   {
    "duration": 7,
    "start_time": "2022-07-28T21:52:46.960Z"
   },
   {
    "duration": 171,
    "start_time": "2022-07-28T21:54:06.354Z"
   },
   {
    "duration": 20,
    "start_time": "2022-07-28T21:55:10.929Z"
   },
   {
    "duration": 18,
    "start_time": "2022-07-28T21:55:20.150Z"
   },
   {
    "duration": 17,
    "start_time": "2022-07-28T21:55:25.227Z"
   },
   {
    "duration": 14,
    "start_time": "2022-07-28T21:55:29.814Z"
   },
   {
    "duration": 7,
    "start_time": "2022-07-28T21:55:34.155Z"
   },
   {
    "duration": 73,
    "start_time": "2022-07-28T21:56:20.144Z"
   },
   {
    "duration": 177,
    "start_time": "2022-07-28T21:56:59.448Z"
   },
   {
    "duration": 23,
    "start_time": "2022-07-28T21:58:14.927Z"
   },
   {
    "duration": 16,
    "start_time": "2022-07-28T21:58:24.236Z"
   },
   {
    "duration": 16,
    "start_time": "2022-07-28T21:58:31.109Z"
   },
   {
    "duration": 26,
    "start_time": "2022-07-28T21:58:45.275Z"
   },
   {
    "duration": 17,
    "start_time": "2022-07-28T21:58:51.257Z"
   },
   {
    "duration": 16,
    "start_time": "2022-07-28T22:02:25.588Z"
   },
   {
    "duration": 39,
    "start_time": "2022-07-28T22:03:17.480Z"
   },
   {
    "duration": 179,
    "start_time": "2022-07-28T22:06:11.800Z"
   },
   {
    "duration": 1239,
    "start_time": "2022-07-28T22:06:56.841Z"
   },
   {
    "duration": 934,
    "start_time": "2022-07-28T22:06:58.082Z"
   },
   {
    "duration": 47,
    "start_time": "2022-07-28T22:06:59.018Z"
   },
   {
    "duration": 124,
    "start_time": "2022-07-28T22:06:59.066Z"
   },
   {
    "duration": 110,
    "start_time": "2022-07-28T22:06:59.192Z"
   },
   {
    "duration": 239,
    "start_time": "2022-07-28T22:06:59.304Z"
   },
   {
    "duration": 12,
    "start_time": "2022-07-28T22:06:59.545Z"
   },
   {
    "duration": 39,
    "start_time": "2022-07-28T22:06:59.558Z"
   },
   {
    "duration": 69,
    "start_time": "2022-07-28T22:06:59.599Z"
   },
   {
    "duration": 87,
    "start_time": "2022-07-28T22:06:59.670Z"
   },
   {
    "duration": 210,
    "start_time": "2022-07-28T22:06:59.759Z"
   },
   {
    "duration": 9,
    "start_time": "2022-07-28T22:06:59.971Z"
   },
   {
    "duration": 192,
    "start_time": "2022-07-28T22:06:59.982Z"
   },
   {
    "duration": 34,
    "start_time": "2022-07-28T22:07:00.176Z"
   },
   {
    "duration": 201,
    "start_time": "2022-07-28T22:07:00.211Z"
   },
   {
    "duration": 39,
    "start_time": "2022-07-28T22:07:09.204Z"
   },
   {
    "duration": 15,
    "start_time": "2022-07-28T22:08:22.488Z"
   },
   {
    "duration": 87,
    "start_time": "2022-07-28T22:09:25.274Z"
   },
   {
    "duration": 98,
    "start_time": "2022-07-28T22:14:53.366Z"
   },
   {
    "duration": 43,
    "start_time": "2022-07-28T22:16:11.185Z"
   },
   {
    "duration": 118,
    "start_time": "2022-07-28T22:16:33.586Z"
   },
   {
    "duration": 100,
    "start_time": "2022-07-28T22:16:39.272Z"
   },
   {
    "duration": 114,
    "start_time": "2022-07-28T22:18:21.261Z"
   },
   {
    "duration": 114,
    "start_time": "2022-07-28T22:19:00.411Z"
   },
   {
    "duration": 90,
    "start_time": "2022-07-28T22:19:03.597Z"
   },
   {
    "duration": 44,
    "start_time": "2022-08-02T20:35:32.861Z"
   },
   {
    "duration": 1507,
    "start_time": "2022-08-02T20:35:47.939Z"
   },
   {
    "duration": 2925,
    "start_time": "2022-08-02T20:35:49.448Z"
   },
   {
    "duration": 43,
    "start_time": "2022-08-02T20:35:52.375Z"
   },
   {
    "duration": 139,
    "start_time": "2022-08-02T20:35:52.420Z"
   },
   {
    "duration": 115,
    "start_time": "2022-08-02T20:35:52.561Z"
   },
   {
    "duration": 252,
    "start_time": "2022-08-02T20:35:52.677Z"
   },
   {
    "duration": 13,
    "start_time": "2022-08-02T20:35:52.930Z"
   },
   {
    "duration": 40,
    "start_time": "2022-08-02T20:35:52.952Z"
   },
   {
    "duration": 62,
    "start_time": "2022-08-02T20:35:52.993Z"
   },
   {
    "duration": 57,
    "start_time": "2022-08-02T20:35:53.057Z"
   },
   {
    "duration": 88,
    "start_time": "2022-08-02T20:35:53.116Z"
   },
   {
    "duration": 185,
    "start_time": "2022-08-02T20:35:53.206Z"
   },
   {
    "duration": 7,
    "start_time": "2022-08-02T20:35:53.393Z"
   },
   {
    "duration": 200,
    "start_time": "2022-08-02T20:35:53.403Z"
   },
   {
    "duration": 31,
    "start_time": "2022-08-02T20:35:53.604Z"
   },
   {
    "duration": 205,
    "start_time": "2022-08-02T20:35:53.637Z"
   },
   {
    "duration": 117,
    "start_time": "2022-08-02T20:35:53.843Z"
   },
   {
    "duration": 115,
    "start_time": "2022-08-02T20:35:53.962Z"
   },
   {
    "duration": 20,
    "start_time": "2022-08-02T20:35:54.079Z"
   },
   {
    "duration": 16,
    "start_time": "2022-08-02T20:35:54.100Z"
   },
   {
    "duration": 115,
    "start_time": "2022-08-02T20:35:54.117Z"
   },
   {
    "duration": 6,
    "start_time": "2022-08-02T20:41:17.931Z"
   },
   {
    "duration": 46,
    "start_time": "2022-08-02T20:45:24.159Z"
   },
   {
    "duration": 167,
    "start_time": "2022-08-02T21:04:26.393Z"
   },
   {
    "duration": 4,
    "start_time": "2022-08-02T21:06:15.433Z"
   },
   {
    "duration": 88,
    "start_time": "2022-08-02T21:06:20.837Z"
   },
   {
    "duration": 4,
    "start_time": "2022-08-02T21:06:47.133Z"
   },
   {
    "duration": 11,
    "start_time": "2022-08-02T21:07:07.398Z"
   },
   {
    "duration": 10,
    "start_time": "2022-08-02T21:07:21.077Z"
   },
   {
    "duration": 6,
    "start_time": "2022-08-02T21:08:06.418Z"
   },
   {
    "duration": 70,
    "start_time": "2022-08-02T21:08:09.401Z"
   },
   {
    "duration": 82,
    "start_time": "2022-08-02T21:08:11.062Z"
   },
   {
    "duration": 5,
    "start_time": "2022-08-02T21:08:50.043Z"
   },
   {
    "duration": 1607,
    "start_time": "2022-08-02T21:08:54.354Z"
   },
   {
    "duration": 4352,
    "start_time": "2022-08-02T21:18:35.168Z"
   },
   {
    "duration": 8,
    "start_time": "2022-08-03T20:36:52.928Z"
   },
   {
    "duration": 1428,
    "start_time": "2022-08-03T20:37:20.533Z"
   },
   {
    "duration": 1362,
    "start_time": "2022-08-03T20:37:21.963Z"
   },
   {
    "duration": 43,
    "start_time": "2022-08-03T20:37:23.326Z"
   },
   {
    "duration": 160,
    "start_time": "2022-08-03T20:37:23.371Z"
   },
   {
    "duration": 125,
    "start_time": "2022-08-03T20:37:23.533Z"
   },
   {
    "duration": 290,
    "start_time": "2022-08-03T20:37:23.660Z"
   },
   {
    "duration": 12,
    "start_time": "2022-08-03T20:37:23.952Z"
   },
   {
    "duration": 55,
    "start_time": "2022-08-03T20:37:23.966Z"
   },
   {
    "duration": 53,
    "start_time": "2022-08-03T20:37:24.023Z"
   },
   {
    "duration": 77,
    "start_time": "2022-08-03T20:37:24.079Z"
   },
   {
    "duration": 94,
    "start_time": "2022-08-03T20:37:24.158Z"
   },
   {
    "duration": 239,
    "start_time": "2022-08-03T20:37:24.254Z"
   },
   {
    "duration": 14,
    "start_time": "2022-08-03T20:37:24.495Z"
   },
   {
    "duration": 231,
    "start_time": "2022-08-03T20:37:24.510Z"
   },
   {
    "duration": 33,
    "start_time": "2022-08-03T20:37:24.743Z"
   },
   {
    "duration": 234,
    "start_time": "2022-08-03T20:37:24.778Z"
   },
   {
    "duration": 133,
    "start_time": "2022-08-03T20:37:25.015Z"
   },
   {
    "duration": 129,
    "start_time": "2022-08-03T20:37:25.151Z"
   },
   {
    "duration": 38,
    "start_time": "2022-08-03T20:37:25.282Z"
   },
   {
    "duration": 18,
    "start_time": "2022-08-03T20:37:25.322Z"
   },
   {
    "duration": 123,
    "start_time": "2022-08-03T20:37:25.342Z"
   },
   {
    "duration": 3,
    "start_time": "2022-08-03T20:37:25.466Z"
   },
   {
    "duration": 153,
    "start_time": "2022-08-03T20:37:25.471Z"
   },
   {
    "duration": 0,
    "start_time": "2022-08-03T20:37:25.626Z"
   },
   {
    "duration": 0,
    "start_time": "2022-08-03T20:37:25.627Z"
   },
   {
    "duration": 0,
    "start_time": "2022-08-03T20:37:25.628Z"
   },
   {
    "duration": 0,
    "start_time": "2022-08-03T20:37:25.629Z"
   },
   {
    "duration": 20,
    "start_time": "2022-08-03T20:37:51.428Z"
   },
   {
    "duration": 414,
    "start_time": "2022-08-03T20:37:59.033Z"
   },
   {
    "duration": 96,
    "start_time": "2022-08-03T20:39:10.383Z"
   },
   {
    "duration": 610,
    "start_time": "2022-08-03T20:39:14.063Z"
   },
   {
    "duration": 318,
    "start_time": "2022-08-03T20:39:17.736Z"
   },
   {
    "duration": 395116,
    "start_time": "2022-08-03T20:40:10.989Z"
   },
   {
    "duration": 5075,
    "start_time": "2022-08-03T20:46:46.107Z"
   },
   {
    "duration": 44866,
    "start_time": "2022-08-03T20:47:22.372Z"
   },
   {
    "duration": 397713,
    "start_time": "2022-08-03T20:48:58.936Z"
   },
   {
    "duration": 994519,
    "start_time": "2022-08-03T20:57:15.378Z"
   },
   {
    "duration": 58111,
    "start_time": "2022-08-03T21:13:49.899Z"
   },
   {
    "duration": 1431,
    "start_time": "2022-08-03T21:14:48.012Z"
   },
   {
    "duration": 630,
    "start_time": "2022-08-03T21:14:49.445Z"
   },
   {
    "duration": 47,
    "start_time": "2022-08-03T21:14:50.077Z"
   },
   {
    "duration": 562,
    "start_time": "2022-08-03T21:15:33.272Z"
   },
   {
    "duration": 22,
    "start_time": "2022-08-03T21:19:58.657Z"
   },
   {
    "duration": 18,
    "start_time": "2022-08-03T21:21:29.189Z"
   },
   {
    "duration": 707,
    "start_time": "2022-08-03T21:22:32.627Z"
   },
   {
    "duration": 335,
    "start_time": "2022-08-03T21:22:33.336Z"
   },
   {
    "duration": 256,
    "start_time": "2022-08-03T21:22:51.828Z"
   },
   {
    "duration": 315278,
    "start_time": "2022-08-03T21:22:58.328Z"
   },
   {
    "duration": 1552,
    "start_time": "2022-08-06T15:06:24.624Z"
   },
   {
    "duration": 3,
    "start_time": "2022-08-06T15:07:13.244Z"
   },
   {
    "duration": 2905,
    "start_time": "2022-08-06T15:07:13.263Z"
   },
   {
    "duration": 44,
    "start_time": "2022-08-06T15:07:16.169Z"
   },
   {
    "duration": 148,
    "start_time": "2022-08-06T15:07:16.214Z"
   },
   {
    "duration": 120,
    "start_time": "2022-08-06T15:07:16.364Z"
   },
   {
    "duration": 272,
    "start_time": "2022-08-06T15:07:16.485Z"
   },
   {
    "duration": 15,
    "start_time": "2022-08-06T15:07:16.759Z"
   },
   {
    "duration": 47,
    "start_time": "2022-08-06T15:07:16.776Z"
   },
   {
    "duration": 76,
    "start_time": "2022-08-06T15:07:16.825Z"
   },
   {
    "duration": 61,
    "start_time": "2022-08-06T15:07:16.903Z"
   },
   {
    "duration": 105,
    "start_time": "2022-08-06T15:07:16.967Z"
   },
   {
    "duration": 272,
    "start_time": "2022-08-06T15:07:17.074Z"
   },
   {
    "duration": 11,
    "start_time": "2022-08-06T15:07:17.354Z"
   },
   {
    "duration": 238,
    "start_time": "2022-08-06T15:07:17.367Z"
   },
   {
    "duration": 29,
    "start_time": "2022-08-06T15:07:17.606Z"
   },
   {
    "duration": 201,
    "start_time": "2022-08-06T15:07:17.637Z"
   },
   {
    "duration": 120,
    "start_time": "2022-08-06T15:07:17.839Z"
   },
   {
    "duration": 110,
    "start_time": "2022-08-06T15:07:17.961Z"
   },
   {
    "duration": 21,
    "start_time": "2022-08-06T15:07:18.072Z"
   },
   {
    "duration": 15,
    "start_time": "2022-08-06T15:07:18.094Z"
   },
   {
    "duration": 4,
    "start_time": "2022-08-06T15:07:18.111Z"
   },
   {
    "duration": 642,
    "start_time": "2022-08-06T15:07:18.116Z"
   },
   {
    "duration": 315,
    "start_time": "2022-08-06T15:07:18.760Z"
   },
   {
    "duration": 352127,
    "start_time": "2022-08-06T15:07:19.077Z"
   },
   {
    "duration": 351383,
    "start_time": "2022-08-06T15:13:11.206Z"
   },
   {
    "duration": 100,
    "start_time": "2022-08-06T15:19:02.591Z"
   },
   {
    "duration": 0,
    "start_time": "2022-08-06T15:19:02.693Z"
   },
   {
    "duration": 0,
    "start_time": "2022-08-06T15:19:02.695Z"
   },
   {
    "duration": 0,
    "start_time": "2022-08-06T15:19:02.696Z"
   },
   {
    "duration": 0,
    "start_time": "2022-08-06T15:19:02.698Z"
   },
   {
    "duration": 0,
    "start_time": "2022-08-06T15:19:02.699Z"
   },
   {
    "duration": 865511,
    "start_time": "2022-08-06T15:46:15.068Z"
   },
   {
    "duration": 59774,
    "start_time": "2022-08-06T16:00:40.581Z"
   },
   {
    "duration": 2037,
    "start_time": "2022-08-06T16:01:40.357Z"
   },
   {
    "duration": 17,
    "start_time": "2022-08-06T16:01:42.396Z"
   },
   {
    "duration": 1391,
    "start_time": "2022-08-06T20:40:03.353Z"
   },
   {
    "duration": 1317,
    "start_time": "2022-08-06T20:40:04.746Z"
   },
   {
    "duration": 53,
    "start_time": "2022-08-06T20:40:06.064Z"
   },
   {
    "duration": 163,
    "start_time": "2022-08-06T20:40:06.119Z"
   },
   {
    "duration": 128,
    "start_time": "2022-08-06T20:40:06.284Z"
   },
   {
    "duration": 255,
    "start_time": "2022-08-06T20:40:06.414Z"
   },
   {
    "duration": 11,
    "start_time": "2022-08-06T20:40:06.671Z"
   },
   {
    "duration": 46,
    "start_time": "2022-08-06T20:40:06.683Z"
   },
   {
    "duration": 53,
    "start_time": "2022-08-06T20:40:06.731Z"
   },
   {
    "duration": 90,
    "start_time": "2022-08-06T20:40:06.787Z"
   },
   {
    "duration": 103,
    "start_time": "2022-08-06T20:40:06.878Z"
   },
   {
    "duration": 226,
    "start_time": "2022-08-06T20:40:06.982Z"
   },
   {
    "duration": 9,
    "start_time": "2022-08-06T20:40:07.210Z"
   },
   {
    "duration": 230,
    "start_time": "2022-08-06T20:40:07.221Z"
   },
   {
    "duration": 29,
    "start_time": "2022-08-06T20:40:07.453Z"
   },
   {
    "duration": 203,
    "start_time": "2022-08-06T20:40:07.483Z"
   },
   {
    "duration": 133,
    "start_time": "2022-08-06T20:40:07.689Z"
   },
   {
    "duration": 117,
    "start_time": "2022-08-06T20:40:07.823Z"
   },
   {
    "duration": 21,
    "start_time": "2022-08-06T20:40:07.941Z"
   },
   {
    "duration": 16,
    "start_time": "2022-08-06T20:40:07.963Z"
   },
   {
    "duration": 180,
    "start_time": "2022-08-06T20:40:07.980Z"
   },
   {
    "duration": 651,
    "start_time": "2022-08-06T20:40:08.162Z"
   },
   {
    "duration": 316,
    "start_time": "2022-08-06T20:40:08.814Z"
   },
   {
    "duration": 367234,
    "start_time": "2022-08-06T20:40:09.132Z"
   },
   {
    "duration": 371118,
    "start_time": "2022-08-06T20:46:16.367Z"
   },
   {
    "duration": 933277,
    "start_time": "2022-08-06T20:52:27.487Z"
   },
   {
    "duration": 55046,
    "start_time": "2022-08-06T21:08:00.766Z"
   },
   {
    "duration": 1589,
    "start_time": "2022-08-06T21:08:55.819Z"
   },
   {
    "duration": 21,
    "start_time": "2022-08-06T21:08:57.410Z"
   },
   {
    "duration": 323590,
    "start_time": "2022-08-06T21:08:57.433Z"
   },
   {
    "duration": 94263,
    "start_time": "2022-08-06T21:15:48.062Z"
   },
   {
    "duration": 3398,
    "start_time": "2022-08-06T21:21:30.027Z"
   },
   {
    "duration": 105,
    "start_time": "2022-08-06T21:21:33.427Z"
   },
   {
    "duration": 3,
    "start_time": "2022-08-06T21:21:33.534Z"
   },
   {
    "duration": 9322,
    "start_time": "2022-08-06T21:21:33.539Z"
   },
   {
    "duration": 117,
    "start_time": "2022-08-06T21:21:42.863Z"
   },
   {
    "duration": 4,
    "start_time": "2022-08-06T21:21:42.981Z"
   },
   {
    "duration": 13425,
    "start_time": "2022-08-06T21:21:42.986Z"
   },
   {
    "duration": 202,
    "start_time": "2022-08-06T21:21:56.413Z"
   },
   {
    "duration": 93,
    "start_time": "2022-08-06T21:21:56.618Z"
   },
   {
    "duration": 22166,
    "start_time": "2022-08-06T21:21:56.714Z"
   },
   {
    "duration": 173,
    "start_time": "2022-08-06T21:22:18.882Z"
   },
   {
    "duration": 5,
    "start_time": "2022-08-06T21:22:19.057Z"
   },
   {
    "duration": 15147,
    "start_time": "2022-08-06T21:22:19.064Z"
   },
   {
    "duration": 609,
    "start_time": "2022-08-06T21:22:34.212Z"
   },
   {
    "duration": 4,
    "start_time": "2022-08-06T21:22:34.823Z"
   },
   {
    "duration": 15,
    "start_time": "2022-08-06T21:35:06.848Z"
   },
   {
    "duration": 106,
    "start_time": "2022-08-06T21:42:23.446Z"
   },
   {
    "duration": 46,
    "start_time": "2022-08-06T21:43:31.402Z"
   },
   {
    "duration": 11,
    "start_time": "2022-08-06T21:43:45.297Z"
   },
   {
    "duration": 38,
    "start_time": "2022-08-06T21:44:56.017Z"
   },
   {
    "duration": 11,
    "start_time": "2022-08-06T21:51:24.505Z"
   },
   {
    "duration": 44,
    "start_time": "2022-08-06T22:02:17.449Z"
   },
   {
    "duration": 12,
    "start_time": "2022-08-06T22:04:30.670Z"
   },
   {
    "duration": 9,
    "start_time": "2022-08-06T22:05:47.661Z"
   },
   {
    "duration": 11,
    "start_time": "2022-08-06T22:07:16.528Z"
   },
   {
    "duration": 12,
    "start_time": "2022-08-06T22:08:19.006Z"
   },
   {
    "duration": 11,
    "start_time": "2022-08-06T22:09:12.021Z"
   },
   {
    "duration": 4,
    "start_time": "2022-08-06T22:09:28.771Z"
   },
   {
    "duration": 17,
    "start_time": "2022-08-06T22:11:03.570Z"
   },
   {
    "duration": 9,
    "start_time": "2022-08-06T22:13:32.047Z"
   },
   {
    "duration": 12,
    "start_time": "2022-08-06T22:13:45.396Z"
   },
   {
    "duration": 13,
    "start_time": "2022-08-06T22:13:59.853Z"
   },
   {
    "duration": 7,
    "start_time": "2022-08-06T22:14:43.699Z"
   },
   {
    "duration": 14,
    "start_time": "2022-08-06T22:14:55.171Z"
   },
   {
    "duration": 15,
    "start_time": "2022-08-06T22:15:16.036Z"
   },
   {
    "duration": 10,
    "start_time": "2022-08-06T22:15:44.235Z"
   },
   {
    "duration": 10,
    "start_time": "2022-08-06T22:15:53.892Z"
   },
   {
    "duration": 10,
    "start_time": "2022-08-06T22:16:11.665Z"
   },
   {
    "duration": 47,
    "start_time": "2022-08-06T22:16:25.316Z"
   },
   {
    "duration": 8,
    "start_time": "2022-08-06T22:16:31.748Z"
   },
   {
    "duration": 9,
    "start_time": "2022-08-06T22:16:52.420Z"
   },
   {
    "duration": 51,
    "start_time": "2022-08-06T22:17:02.868Z"
   },
   {
    "duration": 5,
    "start_time": "2022-08-06T22:17:21.997Z"
   },
   {
    "duration": 13,
    "start_time": "2022-08-06T22:17:26.348Z"
   },
   {
    "duration": 14,
    "start_time": "2022-08-06T22:17:33.548Z"
   },
   {
    "duration": 13,
    "start_time": "2022-08-06T22:20:44.687Z"
   },
   {
    "duration": 1315,
    "start_time": "2022-08-09T20:10:49.261Z"
   },
   {
    "duration": 1364,
    "start_time": "2022-08-09T20:22:29.948Z"
   },
   {
    "duration": 3018,
    "start_time": "2022-08-09T20:22:31.314Z"
   },
   {
    "duration": 49,
    "start_time": "2022-08-09T20:22:34.333Z"
   },
   {
    "duration": 142,
    "start_time": "2022-08-09T20:22:34.384Z"
   },
   {
    "duration": 119,
    "start_time": "2022-08-09T20:22:34.528Z"
   },
   {
    "duration": 248,
    "start_time": "2022-08-09T20:22:34.648Z"
   },
   {
    "duration": 12,
    "start_time": "2022-08-09T20:22:34.898Z"
   },
   {
    "duration": 54,
    "start_time": "2022-08-09T20:22:34.911Z"
   },
   {
    "duration": 52,
    "start_time": "2022-08-09T20:22:34.967Z"
   },
   {
    "duration": 69,
    "start_time": "2022-08-09T20:22:35.023Z"
   },
   {
    "duration": 85,
    "start_time": "2022-08-09T20:22:35.093Z"
   },
   {
    "duration": 182,
    "start_time": "2022-08-09T20:22:35.180Z"
   },
   {
    "duration": 8,
    "start_time": "2022-08-09T20:22:35.364Z"
   },
   {
    "duration": 190,
    "start_time": "2022-08-09T20:22:35.373Z"
   },
   {
    "duration": 30,
    "start_time": "2022-08-09T20:22:35.565Z"
   },
   {
    "duration": 205,
    "start_time": "2022-08-09T20:22:35.597Z"
   },
   {
    "duration": 119,
    "start_time": "2022-08-09T20:22:35.804Z"
   },
   {
    "duration": 112,
    "start_time": "2022-08-09T20:22:35.925Z"
   },
   {
    "duration": 29,
    "start_time": "2022-08-09T20:22:36.038Z"
   },
   {
    "duration": 15,
    "start_time": "2022-08-09T20:22:36.069Z"
   },
   {
    "duration": 160,
    "start_time": "2022-08-09T20:22:36.086Z"
   },
   {
    "duration": 641,
    "start_time": "2022-08-09T20:22:36.248Z"
   },
   {
    "duration": 308,
    "start_time": "2022-08-09T20:22:36.890Z"
   },
   {
    "duration": 345264,
    "start_time": "2022-08-09T20:22:37.200Z"
   },
   {
    "duration": 867177,
    "start_time": "2022-08-09T20:28:22.467Z"
   },
   {
    "duration": 58429,
    "start_time": "2022-08-09T20:42:49.646Z"
   },
   {
    "duration": 82739,
    "start_time": "2022-08-09T20:43:48.077Z"
   },
   {
    "duration": 1130954,
    "start_time": "2022-08-09T20:45:10.820Z"
   },
   {
    "duration": 3162,
    "start_time": "2022-08-09T21:04:01.857Z"
   },
   {
    "duration": 114,
    "start_time": "2022-08-09T21:04:05.030Z"
   },
   {
    "duration": 4,
    "start_time": "2022-08-09T21:04:05.308Z"
   },
   {
    "duration": 8607,
    "start_time": "2022-08-09T21:04:05.313Z"
   },
   {
    "duration": 110,
    "start_time": "2022-08-09T21:04:13.921Z"
   },
   {
    "duration": 4,
    "start_time": "2022-08-09T21:04:14.033Z"
   },
   {
    "duration": 11626,
    "start_time": "2022-08-09T21:04:14.038Z"
   },
   {
    "duration": 294,
    "start_time": "2022-08-09T21:04:25.665Z"
   },
   {
    "duration": 98,
    "start_time": "2022-08-09T21:04:25.961Z"
   },
   {
    "duration": 19889,
    "start_time": "2022-08-09T21:04:26.061Z"
   },
   {
    "duration": 119,
    "start_time": "2022-08-09T21:04:45.951Z"
   },
   {
    "duration": 3,
    "start_time": "2022-08-09T21:04:46.072Z"
   },
   {
    "duration": 153495,
    "start_time": "2022-08-09T21:04:46.077Z"
   },
   {
    "duration": 600,
    "start_time": "2022-08-09T21:07:19.574Z"
   },
   {
    "duration": 3,
    "start_time": "2022-08-09T21:07:20.176Z"
   },
   {
    "duration": 10,
    "start_time": "2022-08-09T21:07:20.181Z"
   },
   {
    "duration": 110,
    "start_time": "2022-08-09T21:07:20.193Z"
   },
   {
    "duration": 11,
    "start_time": "2022-08-09T21:07:20.305Z"
   },
   {
    "duration": 3,
    "start_time": "2022-08-10T19:13:37.681Z"
   },
   {
    "duration": 49,
    "start_time": "2022-08-10T19:18:55.723Z"
   },
   {
    "duration": 1538,
    "start_time": "2022-08-10T19:19:03.624Z"
   },
   {
    "duration": 1400,
    "start_time": "2022-08-10T19:19:16.980Z"
   },
   {
    "duration": 43,
    "start_time": "2022-08-10T19:19:21.893Z"
   },
   {
    "duration": 178,
    "start_time": "2022-08-10T19:19:23.153Z"
   },
   {
    "duration": 27,
    "start_time": "2022-08-10T19:19:33.327Z"
   },
   {
    "duration": 201,
    "start_time": "2022-08-10T19:19:36.395Z"
   },
   {
    "duration": 76,
    "start_time": "2022-08-10T19:19:46.548Z"
   },
   {
    "duration": 933,
    "start_time": "2022-08-10T19:19:51.796Z"
   },
   {
    "duration": 3,
    "start_time": "2022-08-10T19:21:44.680Z"
   },
   {
    "duration": 1024,
    "start_time": "2022-08-10T19:21:44.685Z"
   },
   {
    "duration": 51,
    "start_time": "2022-08-10T19:21:45.711Z"
   },
   {
    "duration": 175,
    "start_time": "2022-08-10T19:21:45.764Z"
   },
   {
    "duration": 231,
    "start_time": "2022-08-10T19:21:45.942Z"
   },
   {
    "duration": 275,
    "start_time": "2022-08-10T19:21:46.175Z"
   },
   {
    "duration": 14,
    "start_time": "2022-08-10T19:21:46.453Z"
   },
   {
    "duration": 50,
    "start_time": "2022-08-10T19:21:46.468Z"
   },
   {
    "duration": 76,
    "start_time": "2022-08-10T19:21:46.520Z"
   },
   {
    "duration": 93,
    "start_time": "2022-08-10T19:21:46.597Z"
   },
   {
    "duration": 4,
    "start_time": "2022-08-10T19:21:46.692Z"
   },
   {
    "duration": 190,
    "start_time": "2022-08-10T19:21:51.323Z"
   },
   {
    "duration": 16,
    "start_time": "2022-08-10T19:21:52.980Z"
   },
   {
    "duration": 59,
    "start_time": "2022-08-10T19:22:01.188Z"
   },
   {
    "duration": 449,
    "start_time": "2022-08-10T19:25:43.437Z"
   },
   {
    "duration": 349,
    "start_time": "2022-08-10T19:26:02.935Z"
   },
   {
    "duration": 29,
    "start_time": "2022-08-10T19:28:23.601Z"
   },
   {
    "duration": 29,
    "start_time": "2022-08-10T19:37:13.079Z"
   },
   {
    "duration": 102,
    "start_time": "2022-08-10T19:37:29.301Z"
   },
   {
    "duration": 10,
    "start_time": "2022-08-10T19:38:02.730Z"
   },
   {
    "duration": 16,
    "start_time": "2022-08-10T19:38:10.257Z"
   },
   {
    "duration": 34,
    "start_time": "2022-08-10T19:38:35.497Z"
   },
   {
    "duration": 45,
    "start_time": "2022-08-10T19:38:39.318Z"
   },
   {
    "duration": 56,
    "start_time": "2022-08-10T19:38:45.553Z"
   },
   {
    "duration": 28,
    "start_time": "2022-08-10T19:38:51.798Z"
   },
   {
    "duration": 35,
    "start_time": "2022-08-10T19:39:30.339Z"
   },
   {
    "duration": 32,
    "start_time": "2022-08-10T19:41:55.078Z"
   },
   {
    "duration": 37,
    "start_time": "2022-08-10T19:42:17.237Z"
   },
   {
    "duration": 44,
    "start_time": "2022-08-10T19:42:33.026Z"
   },
   {
    "duration": 171,
    "start_time": "2022-08-10T19:51:18.434Z"
   },
   {
    "duration": 3,
    "start_time": "2022-08-10T19:51:35.231Z"
   },
   {
    "duration": 1137,
    "start_time": "2022-08-10T19:51:35.236Z"
   },
   {
    "duration": 38,
    "start_time": "2022-08-10T19:51:36.375Z"
   },
   {
    "duration": 271,
    "start_time": "2022-08-10T19:51:36.415Z"
   },
   {
    "duration": 231,
    "start_time": "2022-08-10T19:51:36.688Z"
   },
   {
    "duration": 291,
    "start_time": "2022-08-10T19:51:36.921Z"
   },
   {
    "duration": 13,
    "start_time": "2022-08-10T19:51:37.214Z"
   },
   {
    "duration": 68,
    "start_time": "2022-08-10T19:51:37.242Z"
   },
   {
    "duration": 79,
    "start_time": "2022-08-10T19:51:37.313Z"
   },
   {
    "duration": 160,
    "start_time": "2022-08-10T19:51:37.402Z"
   },
   {
    "duration": 14,
    "start_time": "2022-08-10T19:51:37.564Z"
   },
   {
    "duration": 50,
    "start_time": "2022-08-10T19:51:37.580Z"
   },
   {
    "duration": 165,
    "start_time": "2022-08-10T19:51:37.632Z"
   },
   {
    "duration": 232,
    "start_time": "2022-08-10T19:51:37.799Z"
   },
   {
    "duration": 93,
    "start_time": "2022-08-10T19:51:38.033Z"
   },
   {
    "duration": 318,
    "start_time": "2022-08-10T19:51:38.128Z"
   },
   {
    "duration": 42,
    "start_time": "2022-08-10T19:51:38.448Z"
   },
   {
    "duration": 25,
    "start_time": "2022-08-10T19:51:38.492Z"
   },
   {
    "duration": 286,
    "start_time": "2022-08-10T19:51:41.392Z"
   },
   {
    "duration": 23,
    "start_time": "2022-08-10T19:57:38.372Z"
   },
   {
    "duration": 272,
    "start_time": "2022-08-10T19:57:39.058Z"
   },
   {
    "duration": 29,
    "start_time": "2022-08-10T19:58:56.629Z"
   },
   {
    "duration": 188,
    "start_time": "2022-08-10T19:58:57.061Z"
   },
   {
    "duration": 30,
    "start_time": "2022-08-10T19:59:03.028Z"
   },
   {
    "duration": 198,
    "start_time": "2022-08-10T19:59:03.557Z"
   },
   {
    "duration": 15,
    "start_time": "2022-08-10T19:59:33.240Z"
   },
   {
    "duration": 8383,
    "start_time": "2022-08-10T20:01:25.258Z"
   },
   {
    "duration": 1162,
    "start_time": "2022-08-10T20:21:01.796Z"
   },
   {
    "duration": 1041,
    "start_time": "2022-08-10T20:21:02.960Z"
   },
   {
    "duration": 56,
    "start_time": "2022-08-10T20:21:04.003Z"
   },
   {
    "duration": 192,
    "start_time": "2022-08-10T20:21:04.062Z"
   },
   {
    "duration": 264,
    "start_time": "2022-08-10T20:21:04.260Z"
   },
   {
    "duration": 325,
    "start_time": "2022-08-10T20:21:04.527Z"
   },
   {
    "duration": 15,
    "start_time": "2022-08-10T20:21:04.853Z"
   },
   {
    "duration": 48,
    "start_time": "2022-08-10T20:21:04.869Z"
   },
   {
    "duration": 71,
    "start_time": "2022-08-10T20:21:04.919Z"
   },
   {
    "duration": 130,
    "start_time": "2022-08-10T20:21:04.994Z"
   },
   {
    "duration": 2,
    "start_time": "2022-08-10T20:21:05.126Z"
   },
   {
    "duration": 50,
    "start_time": "2022-08-10T20:21:05.129Z"
   },
   {
    "duration": 187,
    "start_time": "2022-08-10T20:21:05.180Z"
   },
   {
    "duration": 228,
    "start_time": "2022-08-10T20:21:05.369Z"
   },
   {
    "duration": 71,
    "start_time": "2022-08-10T20:21:05.598Z"
   },
   {
    "duration": 343,
    "start_time": "2022-08-10T20:21:05.671Z"
   },
   {
    "duration": 47,
    "start_time": "2022-08-10T20:21:06.015Z"
   },
   {
    "duration": 22,
    "start_time": "2022-08-10T20:21:06.064Z"
   },
   {
    "duration": 320,
    "start_time": "2022-08-10T20:21:06.088Z"
   },
   {
    "duration": 3,
    "start_time": "2022-08-10T20:21:06.410Z"
   },
   {
    "duration": 42,
    "start_time": "2022-08-10T20:21:06.415Z"
   },
   {
    "duration": 227,
    "start_time": "2022-08-10T20:21:06.459Z"
   },
   {
    "duration": 158,
    "start_time": "2022-08-10T20:21:06.688Z"
   },
   {
    "duration": 159,
    "start_time": "2022-08-10T20:21:06.848Z"
   },
   {
    "duration": 42,
    "start_time": "2022-08-10T20:21:07.009Z"
   },
   {
    "duration": 7855,
    "start_time": "2022-08-10T20:21:07.056Z"
   },
   {
    "duration": 16,
    "start_time": "2022-08-10T20:21:14.914Z"
   },
   {
    "duration": 101,
    "start_time": "2022-08-10T20:21:14.943Z"
   },
   {
    "duration": 802,
    "start_time": "2022-08-10T20:21:15.046Z"
   },
   {
    "duration": 376,
    "start_time": "2022-08-10T20:21:15.853Z"
   },
   {
    "duration": 493099,
    "start_time": "2022-08-10T20:21:16.230Z"
   },
   {
    "duration": 158291,
    "start_time": "2022-08-10T20:29:29.331Z"
   },
   {
    "duration": 22115,
    "start_time": "2022-08-10T20:32:07.624Z"
   },
   {
    "duration": 16274,
    "start_time": "2022-08-10T20:32:29.741Z"
   },
   {
    "duration": 16444,
    "start_time": "2022-08-10T20:32:46.016Z"
   },
   {
    "duration": 4527,
    "start_time": "2022-08-10T20:33:02.462Z"
   },
   {
    "duration": 117,
    "start_time": "2022-08-10T20:33:06.991Z"
   },
   {
    "duration": 3,
    "start_time": "2022-08-10T20:33:07.110Z"
   },
   {
    "duration": 4894,
    "start_time": "2022-08-10T20:33:07.115Z"
   },
   {
    "duration": 93,
    "start_time": "2022-08-10T20:33:12.011Z"
   },
   {
    "duration": 4,
    "start_time": "2022-08-10T20:33:12.106Z"
   },
   {
    "duration": 26445,
    "start_time": "2022-08-10T20:33:12.112Z"
   },
   {
    "duration": 484,
    "start_time": "2022-08-10T20:33:38.558Z"
   },
   {
    "duration": 6,
    "start_time": "2022-08-10T20:33:39.043Z"
   },
   {
    "duration": 1337,
    "start_time": "2022-08-10T20:33:39.051Z"
   },
   {
    "duration": 55,
    "start_time": "2022-08-10T20:33:40.390Z"
   },
   {
    "duration": 4,
    "start_time": "2022-08-10T20:33:40.446Z"
   },
   {
    "duration": 27046,
    "start_time": "2022-08-10T20:33:40.452Z"
   },
   {
    "duration": 111,
    "start_time": "2022-08-10T20:34:07.500Z"
   },
   {
    "duration": 4,
    "start_time": "2022-08-10T20:34:07.612Z"
   },
   {
    "duration": 41,
    "start_time": "2022-08-10T20:34:07.617Z"
   },
   {
    "duration": 0,
    "start_time": "2022-08-10T20:34:07.661Z"
   },
   {
    "duration": 0,
    "start_time": "2022-08-10T20:34:07.665Z"
   },
   {
    "duration": 0,
    "start_time": "2022-08-10T20:34:07.671Z"
   },
   {
    "duration": 9,
    "start_time": "2022-08-10T20:34:11.013Z"
   },
   {
    "duration": 4749,
    "start_time": "2022-08-10T20:35:32.157Z"
   },
   {
    "duration": 11,
    "start_time": "2022-08-10T20:35:56.871Z"
   },
   {
    "duration": 5518,
    "start_time": "2022-08-10T20:36:53.463Z"
   },
   {
    "duration": 11,
    "start_time": "2022-08-10T20:37:41.479Z"
   },
   {
    "duration": 6,
    "start_time": "2022-08-10T20:38:14.266Z"
   },
   {
    "duration": 5618,
    "start_time": "2022-08-10T20:38:37.661Z"
   },
   {
    "duration": 12,
    "start_time": "2022-08-10T20:39:08.510Z"
   },
   {
    "duration": 5612,
    "start_time": "2022-08-10T20:39:20.312Z"
   },
   {
    "duration": 6,
    "start_time": "2022-08-10T20:40:21.536Z"
   },
   {
    "duration": 1364,
    "start_time": "2022-08-10T20:41:29.010Z"
   },
   {
    "duration": 1174,
    "start_time": "2022-08-10T20:41:30.376Z"
   },
   {
    "duration": 49,
    "start_time": "2022-08-10T20:41:31.552Z"
   },
   {
    "duration": 225,
    "start_time": "2022-08-10T20:41:31.603Z"
   },
   {
    "duration": 256,
    "start_time": "2022-08-10T20:41:31.830Z"
   },
   {
    "duration": 294,
    "start_time": "2022-08-10T20:41:32.088Z"
   },
   {
    "duration": 13,
    "start_time": "2022-08-10T20:41:32.384Z"
   },
   {
    "duration": 64,
    "start_time": "2022-08-10T20:41:32.399Z"
   },
   {
    "duration": 49,
    "start_time": "2022-08-10T20:41:32.471Z"
   },
   {
    "duration": 112,
    "start_time": "2022-08-10T20:41:32.521Z"
   },
   {
    "duration": 12,
    "start_time": "2022-08-10T20:41:32.634Z"
   },
   {
    "duration": 62,
    "start_time": "2022-08-10T20:41:32.647Z"
   },
   {
    "duration": 183,
    "start_time": "2022-08-10T20:41:32.710Z"
   },
   {
    "duration": 210,
    "start_time": "2022-08-10T20:41:32.897Z"
   },
   {
    "duration": 76,
    "start_time": "2022-08-10T20:41:33.109Z"
   },
   {
    "duration": 309,
    "start_time": "2022-08-10T20:41:33.186Z"
   },
   {
    "duration": 33,
    "start_time": "2022-08-10T20:41:33.496Z"
   },
   {
    "duration": 29,
    "start_time": "2022-08-10T20:41:33.530Z"
   },
   {
    "duration": 314,
    "start_time": "2022-08-10T20:41:33.561Z"
   },
   {
    "duration": 2,
    "start_time": "2022-08-10T20:41:33.879Z"
   },
   {
    "duration": 31,
    "start_time": "2022-08-10T20:41:33.883Z"
   },
   {
    "duration": 222,
    "start_time": "2022-08-10T20:41:33.916Z"
   },
   {
    "duration": 145,
    "start_time": "2022-08-10T20:41:34.139Z"
   },
   {
    "duration": 158,
    "start_time": "2022-08-10T20:41:34.286Z"
   },
   {
    "duration": 30,
    "start_time": "2022-08-10T20:41:34.446Z"
   },
   {
    "duration": 8492,
    "start_time": "2022-08-10T20:41:34.477Z"
   },
   {
    "duration": 25,
    "start_time": "2022-08-10T20:41:42.972Z"
   },
   {
    "duration": 129,
    "start_time": "2022-08-10T20:41:42.999Z"
   },
   {
    "duration": 892,
    "start_time": "2022-08-10T20:41:43.129Z"
   },
   {
    "duration": 419,
    "start_time": "2022-08-10T20:41:44.022Z"
   },
   {
    "duration": 487665,
    "start_time": "2022-08-10T20:41:44.443Z"
   },
   {
    "duration": 2,
    "start_time": "2022-08-10T20:49:52.109Z"
   },
   {
    "duration": 1338995,
    "start_time": "2022-08-10T20:49:52.112Z"
   },
   {
    "duration": 109880,
    "start_time": "2022-08-10T21:12:11.109Z"
   },
   {
    "duration": 124742,
    "start_time": "2022-08-10T21:14:01.040Z"
   },
   {
    "duration": 1443760,
    "start_time": "2022-08-10T21:16:05.784Z"
   },
   {
    "duration": 4039,
    "start_time": "2022-08-10T21:40:09.546Z"
   },
   {
    "duration": 123,
    "start_time": "2022-08-10T21:40:13.587Z"
   },
   {
    "duration": 3,
    "start_time": "2022-08-10T21:40:13.712Z"
   },
   {
    "duration": 11044,
    "start_time": "2022-08-10T21:40:13.717Z"
   },
   {
    "duration": 129,
    "start_time": "2022-08-10T21:40:24.765Z"
   },
   {
    "duration": 3,
    "start_time": "2022-08-10T21:40:24.896Z"
   },
   {
    "duration": 14247,
    "start_time": "2022-08-10T21:40:24.901Z"
   },
   {
    "duration": 222,
    "start_time": "2022-08-10T21:40:39.239Z"
   },
   {
    "duration": 5,
    "start_time": "2022-08-10T21:40:39.539Z"
   },
   {
    "duration": 24655,
    "start_time": "2022-08-10T21:40:39.546Z"
   },
   {
    "duration": 148,
    "start_time": "2022-08-10T21:41:04.202Z"
   },
   {
    "duration": 4,
    "start_time": "2022-08-10T21:41:04.352Z"
   },
   {
    "duration": 9488,
    "start_time": "2022-08-10T21:41:04.357Z"
   },
   {
    "duration": 610,
    "start_time": "2022-08-10T21:41:13.846Z"
   },
   {
    "duration": 78,
    "start_time": "2022-08-10T21:41:14.462Z"
   },
   {
    "duration": 8,
    "start_time": "2022-08-10T21:41:14.542Z"
   },
   {
    "duration": 146,
    "start_time": "2022-08-10T21:41:14.551Z"
   },
   {
    "duration": 12,
    "start_time": "2022-08-10T21:41:14.698Z"
   },
   {
    "duration": 1078,
    "start_time": "2022-08-11T19:32:12.057Z"
   },
   {
    "duration": 684,
    "start_time": "2022-08-11T19:32:22.568Z"
   },
   {
    "duration": 3898,
    "start_time": "2022-08-11T19:32:24.015Z"
   },
   {
    "duration": 45,
    "start_time": "2022-08-11T19:32:27.915Z"
   },
   {
    "duration": 227,
    "start_time": "2022-08-11T19:32:29.543Z"
   },
   {
    "duration": 21,
    "start_time": "2022-08-11T19:33:19.091Z"
   },
   {
    "duration": 1560,
    "start_time": "2022-08-11T19:33:29.149Z"
   },
   {
    "duration": 19,
    "start_time": "2022-08-11T19:33:34.228Z"
   },
   {
    "duration": 12,
    "start_time": "2022-08-11T19:33:37.763Z"
   },
   {
    "duration": 759,
    "start_time": "2022-08-11T19:33:44.873Z"
   },
   {
    "duration": 91,
    "start_time": "2022-08-11T19:33:50.877Z"
   },
   {
    "duration": 71,
    "start_time": "2022-08-11T19:33:58.113Z"
   },
   {
    "duration": 11,
    "start_time": "2022-08-11T19:34:31.017Z"
   },
   {
    "duration": 7,
    "start_time": "2022-08-11T19:34:48.864Z"
   },
   {
    "duration": 20,
    "start_time": "2022-08-11T19:34:59.036Z"
   },
   {
    "duration": 18,
    "start_time": "2022-08-11T19:35:11.240Z"
   },
   {
    "duration": 31,
    "start_time": "2022-08-11T19:35:55.253Z"
   },
   {
    "duration": 14,
    "start_time": "2022-08-11T19:36:44.812Z"
   },
   {
    "duration": 15,
    "start_time": "2022-08-11T19:39:01.538Z"
   },
   {
    "duration": 69,
    "start_time": "2022-08-11T19:39:09.900Z"
   },
   {
    "duration": 14,
    "start_time": "2022-08-11T19:54:54.957Z"
   },
   {
    "duration": 2,
    "start_time": "2022-08-11T19:54:58.786Z"
   },
   {
    "duration": 12,
    "start_time": "2022-08-11T19:56:01.315Z"
   },
   {
    "duration": 12,
    "start_time": "2022-08-11T19:57:58.726Z"
   },
   {
    "duration": 11,
    "start_time": "2022-08-11T19:58:36.305Z"
   },
   {
    "duration": 7,
    "start_time": "2022-08-11T19:58:42.250Z"
   },
   {
    "duration": 1230,
    "start_time": "2022-08-11T19:58:53.115Z"
   },
   {
    "duration": 48,
    "start_time": "2022-08-11T19:59:00.542Z"
   },
   {
    "duration": 33,
    "start_time": "2022-08-11T19:59:28.718Z"
   },
   {
    "duration": 11,
    "start_time": "2022-08-11T20:00:12.635Z"
   },
   {
    "duration": 418,
    "start_time": "2022-08-11T20:01:05.113Z"
   },
   {
    "duration": 1184,
    "start_time": "2022-08-11T20:01:30.283Z"
   },
   {
    "duration": 48,
    "start_time": "2022-08-11T20:01:33.585Z"
   },
   {
    "duration": 28,
    "start_time": "2022-08-11T20:01:51.828Z"
   },
   {
    "duration": 89,
    "start_time": "2022-08-11T20:02:01.808Z"
   },
   {
    "duration": 54,
    "start_time": "2022-08-11T20:02:26.520Z"
   },
   {
    "duration": 54,
    "start_time": "2022-08-11T20:03:10.559Z"
   },
   {
    "duration": 1775,
    "start_time": "2022-08-11T20:04:33.432Z"
   },
   {
    "duration": 71,
    "start_time": "2022-08-11T20:04:50.234Z"
   },
   {
    "duration": 46,
    "start_time": "2022-08-11T20:08:25.038Z"
   },
   {
    "duration": 32,
    "start_time": "2022-08-11T20:09:50.107Z"
   },
   {
    "duration": 238,
    "start_time": "2022-08-11T20:10:16.196Z"
   },
   {
    "duration": 14,
    "start_time": "2022-08-11T20:10:35.098Z"
   },
   {
    "duration": 243,
    "start_time": "2022-08-11T20:12:44.136Z"
   },
   {
    "duration": 16,
    "start_time": "2022-08-11T20:12:58.608Z"
   },
   {
    "duration": 13,
    "start_time": "2022-08-11T20:14:08.121Z"
   },
   {
    "duration": 252,
    "start_time": "2022-08-11T20:14:16.671Z"
   },
   {
    "duration": 254,
    "start_time": "2022-08-11T20:14:42.829Z"
   },
   {
    "duration": 273,
    "start_time": "2022-08-11T20:14:59.789Z"
   },
   {
    "duration": 88,
    "start_time": "2022-08-11T20:46:06.150Z"
   },
   {
    "duration": 1686,
    "start_time": "2022-08-11T20:46:15.829Z"
   },
   {
    "duration": 109,
    "start_time": "2022-08-11T20:47:18.637Z"
   },
   {
    "duration": 9,
    "start_time": "2022-08-11T20:48:36.505Z"
   },
   {
    "duration": 10,
    "start_time": "2022-08-11T20:49:33.028Z"
   },
   {
    "duration": 34,
    "start_time": "2022-08-11T20:49:42.884Z"
   },
   {
    "duration": 29,
    "start_time": "2022-08-11T20:49:58.970Z"
   },
   {
    "duration": 32,
    "start_time": "2022-08-11T20:50:15.150Z"
   },
   {
    "duration": 4,
    "start_time": "2022-08-11T20:50:25.347Z"
   },
   {
    "duration": 74,
    "start_time": "2022-08-11T20:51:04.378Z"
   },
   {
    "duration": 18,
    "start_time": "2022-08-11T20:54:47.426Z"
   },
   {
    "duration": 18,
    "start_time": "2022-08-11T20:54:54.626Z"
   },
   {
    "duration": 6,
    "start_time": "2022-08-11T20:55:07.352Z"
   },
   {
    "duration": 11,
    "start_time": "2022-08-11T20:55:25.778Z"
   },
   {
    "duration": 3,
    "start_time": "2022-08-11T20:55:31.193Z"
   },
   {
    "duration": 1121,
    "start_time": "2022-08-11T20:55:32.139Z"
   },
   {
    "duration": 41,
    "start_time": "2022-08-11T20:55:34.593Z"
   },
   {
    "duration": 11,
    "start_time": "2022-08-11T20:55:46.012Z"
   },
   {
    "duration": 11,
    "start_time": "2022-08-11T20:55:58.932Z"
   },
   {
    "duration": 10,
    "start_time": "2022-08-11T20:56:19.611Z"
   },
   {
    "duration": 129,
    "start_time": "2022-08-11T20:56:24.538Z"
   },
   {
    "duration": 41,
    "start_time": "2022-08-11T20:57:53.764Z"
   },
   {
    "duration": 255,
    "start_time": "2022-08-11T21:01:38.556Z"
   },
   {
    "duration": 92,
    "start_time": "2022-08-11T21:02:04.486Z"
   },
   {
    "duration": 257,
    "start_time": "2022-08-11T21:02:17.164Z"
   },
   {
    "duration": 105,
    "start_time": "2022-08-11T21:03:07.511Z"
   },
   {
    "duration": 249,
    "start_time": "2022-08-11T21:03:13.979Z"
   },
   {
    "duration": 100,
    "start_time": "2022-08-11T21:03:24.956Z"
   },
   {
    "duration": 314,
    "start_time": "2022-08-11T21:05:24.229Z"
   },
   {
    "duration": 97,
    "start_time": "2022-08-11T21:05:28.251Z"
   },
   {
    "duration": 475,
    "start_time": "2022-08-11T21:07:00.104Z"
   },
   {
    "duration": 214,
    "start_time": "2022-08-11T21:07:24.193Z"
   },
   {
    "duration": 111,
    "start_time": "2022-08-11T21:07:40.618Z"
   },
   {
    "duration": 135,
    "start_time": "2022-08-11T21:08:09.911Z"
   },
   {
    "duration": 264,
    "start_time": "2022-08-11T21:09:33.008Z"
   },
   {
    "duration": 101,
    "start_time": "2022-08-11T21:09:33.575Z"
   },
   {
    "duration": 100,
    "start_time": "2022-08-11T21:10:00.047Z"
   },
   {
    "duration": 1515,
    "start_time": "2022-08-11T21:14:52.832Z"
   },
   {
    "duration": 1207,
    "start_time": "2022-08-11T21:14:54.349Z"
   },
   {
    "duration": 58,
    "start_time": "2022-08-11T21:14:55.558Z"
   },
   {
    "duration": 197,
    "start_time": "2022-08-11T21:14:55.619Z"
   },
   {
    "duration": 235,
    "start_time": "2022-08-11T21:14:55.818Z"
   },
   {
    "duration": 310,
    "start_time": "2022-08-11T21:14:56.055Z"
   },
   {
    "duration": 25,
    "start_time": "2022-08-11T21:14:56.367Z"
   },
   {
    "duration": 81,
    "start_time": "2022-08-11T21:14:56.395Z"
   },
   {
    "duration": 57,
    "start_time": "2022-08-11T21:14:56.478Z"
   },
   {
    "duration": 102,
    "start_time": "2022-08-11T21:14:56.539Z"
   },
   {
    "duration": 44,
    "start_time": "2022-08-11T21:14:56.643Z"
   },
   {
    "duration": 68,
    "start_time": "2022-08-11T21:14:56.689Z"
   },
   {
    "duration": 290,
    "start_time": "2022-08-11T21:14:56.760Z"
   },
   {
    "duration": 354,
    "start_time": "2022-08-11T21:14:57.052Z"
   },
   {
    "duration": 264,
    "start_time": "2022-08-11T21:14:57.408Z"
   },
   {
    "duration": 463,
    "start_time": "2022-08-11T21:14:57.674Z"
   },
   {
    "duration": 269,
    "start_time": "2022-08-11T21:14:58.139Z"
   },
   {
    "duration": 96,
    "start_time": "2022-08-11T21:14:58.410Z"
   },
   {
    "duration": 8,
    "start_time": "2022-08-11T21:14:58.507Z"
   },
   {
    "duration": 17,
    "start_time": "2022-08-11T21:14:58.517Z"
   },
   {
    "duration": 244,
    "start_time": "2022-08-11T21:14:58.536Z"
   },
   {
    "duration": 69,
    "start_time": "2022-08-11T21:14:58.781Z"
   },
   {
    "duration": 339,
    "start_time": "2022-08-11T21:14:58.852Z"
   },
   {
    "duration": 36,
    "start_time": "2022-08-11T21:14:59.193Z"
   },
   {
    "duration": 25,
    "start_time": "2022-08-11T21:14:59.231Z"
   },
   {
    "duration": 359,
    "start_time": "2022-08-11T21:14:59.258Z"
   },
   {
    "duration": 3,
    "start_time": "2022-08-11T21:14:59.619Z"
   },
   {
    "duration": 43,
    "start_time": "2022-08-11T21:14:59.626Z"
   },
   {
    "duration": 227,
    "start_time": "2022-08-11T21:14:59.671Z"
   },
   {
    "duration": 180,
    "start_time": "2022-08-11T21:14:59.900Z"
   },
   {
    "duration": 203,
    "start_time": "2022-08-11T21:15:00.082Z"
   },
   {
    "duration": 33,
    "start_time": "2022-08-11T21:15:00.287Z"
   },
   {
    "duration": 134,
    "start_time": "2022-08-11T21:15:00.322Z"
   },
   {
    "duration": 0,
    "start_time": "2022-08-11T21:15:00.458Z"
   },
   {
    "duration": 0,
    "start_time": "2022-08-11T21:15:00.459Z"
   },
   {
    "duration": 0,
    "start_time": "2022-08-11T21:15:00.460Z"
   },
   {
    "duration": 0,
    "start_time": "2022-08-11T21:15:00.461Z"
   },
   {
    "duration": 0,
    "start_time": "2022-08-11T21:15:00.463Z"
   },
   {
    "duration": 0,
    "start_time": "2022-08-11T21:15:00.464Z"
   },
   {
    "duration": 0,
    "start_time": "2022-08-11T21:15:00.465Z"
   },
   {
    "duration": 0,
    "start_time": "2022-08-11T21:15:00.466Z"
   },
   {
    "duration": 0,
    "start_time": "2022-08-11T21:15:00.467Z"
   },
   {
    "duration": 0,
    "start_time": "2022-08-11T21:15:00.468Z"
   },
   {
    "duration": 3,
    "start_time": "2022-08-11T21:17:25.988Z"
   },
   {
    "duration": 19,
    "start_time": "2022-08-11T21:17:31.278Z"
   },
   {
    "duration": 176,
    "start_time": "2022-08-11T21:17:38.118Z"
   },
   {
    "duration": 912,
    "start_time": "2022-08-11T21:17:39.539Z"
   },
   {
    "duration": 75,
    "start_time": "2022-08-11T21:18:26.523Z"
   },
   {
    "duration": 4,
    "start_time": "2022-08-11T21:19:23.901Z"
   },
   {
    "duration": 1167,
    "start_time": "2022-08-11T21:19:23.907Z"
   },
   {
    "duration": 50,
    "start_time": "2022-08-11T21:19:25.076Z"
   },
   {
    "duration": 203,
    "start_time": "2022-08-11T21:19:25.127Z"
   },
   {
    "duration": 241,
    "start_time": "2022-08-11T21:19:25.332Z"
   },
   {
    "duration": 293,
    "start_time": "2022-08-11T21:19:25.575Z"
   },
   {
    "duration": 25,
    "start_time": "2022-08-11T21:19:25.870Z"
   },
   {
    "duration": 56,
    "start_time": "2022-08-11T21:19:25.897Z"
   },
   {
    "duration": 80,
    "start_time": "2022-08-11T21:19:25.955Z"
   },
   {
    "duration": 101,
    "start_time": "2022-08-11T21:19:26.038Z"
   },
   {
    "duration": 2,
    "start_time": "2022-08-11T21:19:26.142Z"
   },
   {
    "duration": 46,
    "start_time": "2022-08-11T21:19:26.146Z"
   },
   {
    "duration": 271,
    "start_time": "2022-08-11T21:19:26.194Z"
   },
   {
    "duration": 321,
    "start_time": "2022-08-11T21:19:26.467Z"
   },
   {
    "duration": 478,
    "start_time": "2022-08-11T21:19:26.790Z"
   },
   {
    "duration": 265,
    "start_time": "2022-08-11T21:19:27.270Z"
   },
   {
    "duration": 95,
    "start_time": "2022-08-11T21:19:27.537Z"
   },
   {
    "duration": 4,
    "start_time": "2022-08-11T21:19:48.048Z"
   },
   {
    "duration": 1121,
    "start_time": "2022-08-11T21:19:48.055Z"
   },
   {
    "duration": 55,
    "start_time": "2022-08-11T21:19:49.178Z"
   },
   {
    "duration": 204,
    "start_time": "2022-08-11T21:19:49.235Z"
   },
   {
    "duration": 250,
    "start_time": "2022-08-11T21:19:49.442Z"
   },
   {
    "duration": 287,
    "start_time": "2022-08-11T21:19:49.694Z"
   },
   {
    "duration": 21,
    "start_time": "2022-08-11T21:19:49.983Z"
   },
   {
    "duration": 58,
    "start_time": "2022-08-11T21:19:50.006Z"
   },
   {
    "duration": 80,
    "start_time": "2022-08-11T21:19:50.066Z"
   },
   {
    "duration": 117,
    "start_time": "2022-08-11T21:19:50.148Z"
   },
   {
    "duration": 5,
    "start_time": "2022-08-11T21:19:50.267Z"
   },
   {
    "duration": 50,
    "start_time": "2022-08-11T21:19:50.273Z"
   },
   {
    "duration": 112,
    "start_time": "2022-08-11T21:19:56.823Z"
   },
   {
    "duration": 253,
    "start_time": "2022-08-11T21:20:05.766Z"
   },
   {
    "duration": 98,
    "start_time": "2022-08-11T21:20:07.958Z"
   },
   {
    "duration": 4,
    "start_time": "2022-08-11T21:20:23.719Z"
   },
   {
    "duration": 1136,
    "start_time": "2022-08-11T21:20:23.725Z"
   },
   {
    "duration": 49,
    "start_time": "2022-08-11T21:20:24.863Z"
   },
   {
    "duration": 205,
    "start_time": "2022-08-11T21:20:24.914Z"
   },
   {
    "duration": 261,
    "start_time": "2022-08-11T21:20:25.121Z"
   },
   {
    "duration": 308,
    "start_time": "2022-08-11T21:20:25.392Z"
   },
   {
    "duration": 15,
    "start_time": "2022-08-11T21:20:25.702Z"
   },
   {
    "duration": 77,
    "start_time": "2022-08-11T21:20:25.718Z"
   },
   {
    "duration": 65,
    "start_time": "2022-08-11T21:20:25.797Z"
   },
   {
    "duration": 119,
    "start_time": "2022-08-11T21:20:25.863Z"
   },
   {
    "duration": 8,
    "start_time": "2022-08-11T21:20:25.984Z"
   },
   {
    "duration": 49,
    "start_time": "2022-08-11T21:20:25.994Z"
   },
   {
    "duration": 107,
    "start_time": "2022-08-11T21:20:31.347Z"
   },
   {
    "duration": 241,
    "start_time": "2022-08-11T21:21:33.875Z"
   },
   {
    "duration": 97,
    "start_time": "2022-08-11T21:21:37.422Z"
   },
   {
    "duration": 4,
    "start_time": "2022-08-11T21:22:05.084Z"
   },
   {
    "duration": 1203,
    "start_time": "2022-08-11T21:22:05.090Z"
   },
   {
    "duration": 45,
    "start_time": "2022-08-11T21:22:06.296Z"
   },
   {
    "duration": 215,
    "start_time": "2022-08-11T21:22:06.343Z"
   },
   {
    "duration": 255,
    "start_time": "2022-08-11T21:22:06.560Z"
   },
   {
    "duration": 407,
    "start_time": "2022-08-11T21:22:06.818Z"
   },
   {
    "duration": 13,
    "start_time": "2022-08-11T21:22:07.226Z"
   },
   {
    "duration": 65,
    "start_time": "2022-08-11T21:22:07.241Z"
   },
   {
    "duration": 57,
    "start_time": "2022-08-11T21:22:07.308Z"
   },
   {
    "duration": 113,
    "start_time": "2022-08-11T21:22:07.367Z"
   },
   {
    "duration": 3,
    "start_time": "2022-08-11T21:22:07.492Z"
   },
   {
    "duration": 44,
    "start_time": "2022-08-11T21:22:07.496Z"
   },
   {
    "duration": 35,
    "start_time": "2022-08-11T21:22:23.537Z"
   },
   {
    "duration": 223,
    "start_time": "2022-08-11T21:23:00.625Z"
   },
   {
    "duration": 263,
    "start_time": "2022-08-11T21:23:17.879Z"
   },
   {
    "duration": 37,
    "start_time": "2022-08-11T21:25:18.923Z"
   },
   {
    "duration": 275,
    "start_time": "2022-08-11T21:26:21.434Z"
   },
   {
    "duration": 35,
    "start_time": "2022-08-11T21:26:27.840Z"
   },
   {
    "duration": 103,
    "start_time": "2022-08-11T21:26:40.499Z"
   },
   {
    "duration": 13,
    "start_time": "2022-08-11T21:31:05.449Z"
   },
   {
    "duration": 5,
    "start_time": "2022-08-11T21:32:41.980Z"
   },
   {
    "duration": 1147,
    "start_time": "2022-08-11T21:32:41.988Z"
   },
   {
    "duration": 42,
    "start_time": "2022-08-11T21:32:43.138Z"
   },
   {
    "duration": 205,
    "start_time": "2022-08-11T21:32:43.192Z"
   },
   {
    "duration": 241,
    "start_time": "2022-08-11T21:32:43.399Z"
   },
   {
    "duration": 291,
    "start_time": "2022-08-11T21:32:43.642Z"
   },
   {
    "duration": 13,
    "start_time": "2022-08-11T21:32:43.935Z"
   },
   {
    "duration": 72,
    "start_time": "2022-08-11T21:32:43.950Z"
   },
   {
    "duration": 55,
    "start_time": "2022-08-11T21:32:44.024Z"
   },
   {
    "duration": 106,
    "start_time": "2022-08-11T21:32:44.091Z"
   },
   {
    "duration": 3,
    "start_time": "2022-08-11T21:32:44.199Z"
   },
   {
    "duration": 39,
    "start_time": "2022-08-11T21:32:44.204Z"
   },
   {
    "duration": 29,
    "start_time": "2022-08-11T21:32:46.967Z"
   },
   {
    "duration": 19,
    "start_time": "2022-08-11T21:34:35.366Z"
   },
   {
    "duration": 14,
    "start_time": "2022-08-11T21:36:43.379Z"
   },
   {
    "duration": 5,
    "start_time": "2022-08-11T21:36:55.335Z"
   },
   {
    "duration": 125,
    "start_time": "2022-08-11T21:37:32.045Z"
   },
   {
    "duration": 12,
    "start_time": "2022-08-11T21:39:59.034Z"
   },
   {
    "duration": 252,
    "start_time": "2022-08-11T21:40:12.716Z"
   },
   {
    "duration": 96,
    "start_time": "2022-08-11T21:40:20.590Z"
   },
   {
    "duration": 97,
    "start_time": "2022-08-11T21:40:22.972Z"
   },
   {
    "duration": 4,
    "start_time": "2022-08-11T21:40:41.026Z"
   },
   {
    "duration": 1172,
    "start_time": "2022-08-11T21:40:41.032Z"
   },
   {
    "duration": 42,
    "start_time": "2022-08-11T21:40:42.205Z"
   },
   {
    "duration": 199,
    "start_time": "2022-08-11T21:40:42.249Z"
   },
   {
    "duration": 238,
    "start_time": "2022-08-11T21:40:42.450Z"
   },
   {
    "duration": 276,
    "start_time": "2022-08-11T21:40:42.692Z"
   },
   {
    "duration": 14,
    "start_time": "2022-08-11T21:40:42.969Z"
   },
   {
    "duration": 51,
    "start_time": "2022-08-11T21:40:42.992Z"
   },
   {
    "duration": 69,
    "start_time": "2022-08-11T21:40:43.045Z"
   },
   {
    "duration": 102,
    "start_time": "2022-08-11T21:40:43.116Z"
   },
   {
    "duration": 3,
    "start_time": "2022-08-11T21:40:43.220Z"
   },
   {
    "duration": 50,
    "start_time": "2022-08-11T21:40:43.225Z"
   },
   {
    "duration": 265,
    "start_time": "2022-08-11T21:40:55.814Z"
   },
   {
    "duration": 141,
    "start_time": "2022-08-11T21:41:01.952Z"
   },
   {
    "duration": 259,
    "start_time": "2022-08-11T21:42:39.764Z"
   },
   {
    "duration": 296,
    "start_time": "2022-08-11T21:43:08.114Z"
   },
   {
    "duration": 111,
    "start_time": "2022-08-11T21:43:22.891Z"
   },
   {
    "duration": 4,
    "start_time": "2022-08-11T21:43:45.048Z"
   },
   {
    "duration": 1140,
    "start_time": "2022-08-11T21:43:45.056Z"
   },
   {
    "duration": 41,
    "start_time": "2022-08-11T21:43:46.198Z"
   },
   {
    "duration": 201,
    "start_time": "2022-08-11T21:43:46.241Z"
   },
   {
    "duration": 248,
    "start_time": "2022-08-11T21:43:46.445Z"
   },
   {
    "duration": 308,
    "start_time": "2022-08-11T21:43:46.696Z"
   },
   {
    "duration": 13,
    "start_time": "2022-08-11T21:43:47.006Z"
   },
   {
    "duration": 71,
    "start_time": "2022-08-11T21:43:47.021Z"
   },
   {
    "duration": 61,
    "start_time": "2022-08-11T21:43:47.094Z"
   },
   {
    "duration": 110,
    "start_time": "2022-08-11T21:43:47.157Z"
   },
   {
    "duration": 2,
    "start_time": "2022-08-11T21:43:47.270Z"
   },
   {
    "duration": 50,
    "start_time": "2022-08-11T21:43:47.273Z"
   },
   {
    "duration": 113,
    "start_time": "2022-08-11T21:43:49.897Z"
   },
   {
    "duration": 294,
    "start_time": "2022-08-11T21:44:00.917Z"
   },
   {
    "duration": 330,
    "start_time": "2022-08-11T21:44:15.958Z"
   },
   {
    "duration": 103,
    "start_time": "2022-08-11T21:44:23.314Z"
   },
   {
    "duration": 289,
    "start_time": "2022-08-11T21:48:57.133Z"
   },
   {
    "duration": 326,
    "start_time": "2022-08-11T21:50:04.441Z"
   },
   {
    "duration": 111,
    "start_time": "2022-08-11T21:50:09.216Z"
   },
   {
    "duration": 8,
    "start_time": "2022-08-11T21:50:51.018Z"
   },
   {
    "duration": 402,
    "start_time": "2022-08-11T21:52:12.313Z"
   },
   {
    "duration": 108,
    "start_time": "2022-08-11T21:52:20.035Z"
   },
   {
    "duration": 4,
    "start_time": "2022-08-11T21:52:53.646Z"
   },
   {
    "duration": 1151,
    "start_time": "2022-08-11T21:52:53.652Z"
   },
   {
    "duration": 43,
    "start_time": "2022-08-11T21:52:54.805Z"
   },
   {
    "duration": 209,
    "start_time": "2022-08-11T21:52:54.850Z"
   },
   {
    "duration": 273,
    "start_time": "2022-08-11T21:52:55.061Z"
   },
   {
    "duration": 286,
    "start_time": "2022-08-11T21:52:55.336Z"
   },
   {
    "duration": 15,
    "start_time": "2022-08-11T21:52:55.623Z"
   },
   {
    "duration": 69,
    "start_time": "2022-08-11T21:52:55.639Z"
   },
   {
    "duration": 59,
    "start_time": "2022-08-11T21:52:55.710Z"
   },
   {
    "duration": 107,
    "start_time": "2022-08-11T21:52:55.770Z"
   },
   {
    "duration": 12,
    "start_time": "2022-08-11T21:52:55.880Z"
   },
   {
    "duration": 36,
    "start_time": "2022-08-11T21:52:55.894Z"
   },
   {
    "duration": 242,
    "start_time": "2022-08-11T21:53:01.255Z"
   },
   {
    "duration": 105,
    "start_time": "2022-08-11T21:53:08.392Z"
   },
   {
    "duration": 294,
    "start_time": "2022-08-11T21:53:26.799Z"
   },
   {
    "duration": 450,
    "start_time": "2022-08-11T21:53:27.260Z"
   },
   {
    "duration": 251,
    "start_time": "2022-08-11T21:53:27.889Z"
   },
   {
    "duration": 96,
    "start_time": "2022-08-11T21:53:28.417Z"
   },
   {
    "duration": 1523,
    "start_time": "2022-08-11T21:53:51.262Z"
   },
   {
    "duration": 1249,
    "start_time": "2022-08-11T21:53:52.787Z"
   },
   {
    "duration": 89,
    "start_time": "2022-08-11T21:53:54.038Z"
   },
   {
    "duration": 198,
    "start_time": "2022-08-11T21:53:54.130Z"
   },
   {
    "duration": 230,
    "start_time": "2022-08-11T21:53:54.329Z"
   },
   {
    "duration": 298,
    "start_time": "2022-08-11T21:53:54.561Z"
   },
   {
    "duration": 15,
    "start_time": "2022-08-11T21:53:54.860Z"
   },
   {
    "duration": 66,
    "start_time": "2022-08-11T21:53:54.877Z"
   },
   {
    "duration": 63,
    "start_time": "2022-08-11T21:53:54.945Z"
   },
   {
    "duration": 101,
    "start_time": "2022-08-11T21:53:55.011Z"
   },
   {
    "duration": 3,
    "start_time": "2022-08-11T21:53:55.114Z"
   },
   {
    "duration": 40,
    "start_time": "2022-08-11T21:53:55.119Z"
   },
   {
    "duration": 276,
    "start_time": "2022-08-11T21:53:55.161Z"
   },
   {
    "duration": 335,
    "start_time": "2022-08-11T21:53:55.439Z"
   },
   {
    "duration": 434,
    "start_time": "2022-08-11T21:53:55.775Z"
   },
   {
    "duration": 251,
    "start_time": "2022-08-11T21:53:56.211Z"
   },
   {
    "duration": 98,
    "start_time": "2022-08-11T21:53:56.464Z"
   },
   {
    "duration": 3,
    "start_time": "2022-08-11T21:53:56.564Z"
   },
   {
    "duration": 12,
    "start_time": "2022-08-11T21:53:56.568Z"
   },
   {
    "duration": 248,
    "start_time": "2022-08-11T21:53:56.592Z"
   },
   {
    "duration": 73,
    "start_time": "2022-08-11T21:53:56.842Z"
   },
   {
    "duration": 339,
    "start_time": "2022-08-11T21:53:56.917Z"
   },
   {
    "duration": 39,
    "start_time": "2022-08-11T21:53:57.258Z"
   },
   {
    "duration": 25,
    "start_time": "2022-08-11T21:53:57.299Z"
   },
   {
    "duration": 339,
    "start_time": "2022-08-11T21:53:57.326Z"
   },
   {
    "duration": 2,
    "start_time": "2022-08-11T21:53:57.667Z"
   },
   {
    "duration": 35,
    "start_time": "2022-08-11T21:53:57.671Z"
   },
   {
    "duration": 215,
    "start_time": "2022-08-11T21:53:57.710Z"
   },
   {
    "duration": 156,
    "start_time": "2022-08-11T21:53:57.927Z"
   },
   {
    "duration": 154,
    "start_time": "2022-08-11T21:53:58.091Z"
   },
   {
    "duration": 27,
    "start_time": "2022-08-11T21:53:58.247Z"
   },
   {
    "duration": 2,
    "start_time": "2022-08-11T21:53:58.276Z"
   },
   {
    "duration": 18,
    "start_time": "2022-08-11T21:53:58.292Z"
   },
   {
    "duration": 105,
    "start_time": "2022-08-11T21:53:58.312Z"
   },
   {
    "duration": 72,
    "start_time": "2022-08-11T21:53:58.419Z"
   },
   {
    "duration": 966,
    "start_time": "2022-08-11T21:53:58.493Z"
   },
   {
    "duration": 417,
    "start_time": "2022-08-11T21:53:59.461Z"
   },
   {
    "duration": 111074,
    "start_time": "2022-08-11T21:53:59.880Z"
   },
   {
    "duration": 3,
    "start_time": "2022-08-11T21:55:50.956Z"
   },
   {
    "duration": 272074,
    "start_time": "2022-08-11T22:34:55.323Z"
   },
   {
    "duration": 273287,
    "start_time": "2022-08-11T22:39:27.399Z"
   },
   {
    "duration": 355,
    "start_time": "2022-08-11T22:44:00.691Z"
   },
   {
    "duration": 9,
    "start_time": "2022-08-11T22:44:01.048Z"
   },
   {
    "duration": 1244804,
    "start_time": "2022-08-11T22:44:01.059Z"
   },
   {
    "duration": 1255850,
    "start_time": "2022-08-11T23:04:45.865Z"
   },
   {
    "duration": 668,
    "start_time": "2022-08-11T23:25:41.717Z"
   },
   {
    "duration": 10,
    "start_time": "2022-08-11T23:25:42.386Z"
   },
   {
    "duration": 64502,
    "start_time": "2022-08-11T23:25:42.397Z"
   },
   {
    "duration": 15394,
    "start_time": "2022-08-11T23:26:46.903Z"
   },
   {
    "duration": 694,
    "start_time": "2022-08-11T23:27:02.299Z"
   },
   {
    "duration": 4,
    "start_time": "2022-08-11T23:27:02.996Z"
   },
   {
    "duration": 117752,
    "start_time": "2022-08-11T23:27:03.002Z"
   },
   {
    "duration": 28849,
    "start_time": "2022-08-11T23:29:00.756Z"
   },
   {
    "duration": 528,
    "start_time": "2022-08-11T23:29:29.608Z"
   },
   {
    "duration": 5,
    "start_time": "2022-08-11T23:29:30.138Z"
   },
   {
    "duration": 308050,
    "start_time": "2022-08-11T23:29:30.145Z"
   },
   {
    "duration": 25405,
    "start_time": "2022-08-11T23:34:38.197Z"
   },
   {
    "duration": 2288,
    "start_time": "2022-08-11T23:35:03.604Z"
   },
   {
    "duration": 5,
    "start_time": "2022-08-11T23:35:05.894Z"
   },
   {
    "duration": 14,
    "start_time": "2022-08-12T06:59:32.570Z"
   },
   {
    "duration": 5,
    "start_time": "2022-08-12T07:00:08.229Z"
   },
   {
    "duration": 4,
    "start_time": "2022-08-12T07:00:35.533Z"
   },
   {
    "duration": 7,
    "start_time": "2022-08-12T07:00:39.253Z"
   },
   {
    "duration": 78,
    "start_time": "2022-08-12T07:00:40.971Z"
   },
   {
    "duration": 25,
    "start_time": "2022-08-12T07:03:49.874Z"
   },
   {
    "duration": 25,
    "start_time": "2022-08-12T07:04:47.789Z"
   },
   {
    "duration": 338,
    "start_time": "2022-08-12T07:08:42.294Z"
   },
   {
    "duration": 4,
    "start_time": "2022-08-12T07:08:43.124Z"
   },
   {
    "duration": 6,
    "start_time": "2022-08-12T07:08:50.509Z"
   },
   {
    "duration": 20,
    "start_time": "2022-08-12T07:08:53.278Z"
   },
   {
    "duration": 653,
    "start_time": "2022-08-12T07:09:07.040Z"
   },
   {
    "duration": 5,
    "start_time": "2022-08-12T07:09:08.434Z"
   },
   {
    "duration": 5,
    "start_time": "2022-08-12T07:09:16.623Z"
   },
   {
    "duration": 19,
    "start_time": "2022-08-12T07:09:17.193Z"
   },
   {
    "duration": 15,
    "start_time": "2022-08-12T07:09:54.275Z"
   },
   {
    "duration": 808,
    "start_time": "2022-08-12T09:15:11.707Z"
   },
   {
    "duration": 9,
    "start_time": "2022-08-12T09:19:03.949Z"
   },
   {
    "duration": 28,
    "start_time": "2022-08-12T09:19:05.618Z"
   },
   {
    "duration": 4,
    "start_time": "2022-08-12T09:24:50.844Z"
   },
   {
    "duration": 31670,
    "start_time": "2022-08-12T09:26:17.804Z"
   },
   {
    "duration": 544,
    "start_time": "2022-08-12T09:26:49.476Z"
   },
   {
    "duration": 5,
    "start_time": "2022-08-12T09:26:50.022Z"
   },
   {
    "duration": 93,
    "start_time": "2022-08-12T09:27:33.402Z"
   },
   {
    "duration": 187,
    "start_time": "2022-08-12T09:27:53.186Z"
   },
   {
    "duration": 4,
    "start_time": "2022-08-12T09:27:56.554Z"
   },
   {
    "duration": 5,
    "start_time": "2022-08-12T09:28:03.127Z"
   },
   {
    "duration": 5,
    "start_time": "2022-08-12T09:30:07.096Z"
   },
   {
    "duration": 19,
    "start_time": "2022-08-12T09:30:07.564Z"
   },
   {
    "duration": 20,
    "start_time": "2022-08-12T09:30:08.871Z"
   },
   {
    "duration": 11,
    "start_time": "2022-08-12T09:38:35.634Z"
   },
   {
    "duration": 11,
    "start_time": "2022-08-12T09:41:18.499Z"
   },
   {
    "duration": 11,
    "start_time": "2022-08-12T09:42:34.117Z"
   },
   {
    "duration": 373,
    "start_time": "2022-08-12T09:42:39.473Z"
   },
   {
    "duration": 320,
    "start_time": "2022-08-12T09:42:51.621Z"
   },
   {
    "duration": 12,
    "start_time": "2022-08-12T09:44:02.981Z"
   },
   {
    "duration": 11,
    "start_time": "2022-08-12T09:44:57.775Z"
   },
   {
    "duration": 11,
    "start_time": "2022-08-12T09:45:05.704Z"
   },
   {
    "duration": 376,
    "start_time": "2022-08-12T10:16:14.031Z"
   },
   {
    "duration": 6095,
    "start_time": "2022-08-12T10:17:29.696Z"
   },
   {
    "duration": 6142,
    "start_time": "2022-08-12T10:17:49.639Z"
   },
   {
    "duration": 6040,
    "start_time": "2022-08-12T10:18:55.632Z"
   },
   {
    "duration": 16,
    "start_time": "2022-08-12T10:19:49.932Z"
   }
  ],
  "kernelspec": {
   "display_name": "Python 3 (ipykernel)",
   "language": "python",
   "name": "python3"
  },
  "language_info": {
   "codemirror_mode": {
    "name": "ipython",
    "version": 3
   },
   "file_extension": ".py",
   "mimetype": "text/x-python",
   "name": "python",
   "nbconvert_exporter": "python",
   "pygments_lexer": "ipython3",
   "version": "3.9.5"
  },
  "toc": {
   "base_numbering": 1,
   "nav_menu": {},
   "number_sections": true,
   "sideBar": true,
   "skip_h1_title": true,
   "title_cell": "Table of Contents",
   "title_sidebar": "Contents",
   "toc_cell": false,
   "toc_position": {
    "height": "calc(100% - 180px)",
    "left": "10px",
    "top": "150px",
    "width": "366.391px"
   },
   "toc_section_display": true,
   "toc_window_display": true
  }
 },
 "nbformat": 4,
 "nbformat_minor": 2
}
