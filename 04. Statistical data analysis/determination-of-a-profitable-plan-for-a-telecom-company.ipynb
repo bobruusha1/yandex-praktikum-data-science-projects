{
 "cells": [
  {
   "cell_type": "markdown",
   "id": "fdffb486",
   "metadata": {},
   "source": [
    "# Определение перспективного тарифа для телеком-компании"
   ]
  },
  {
   "cell_type": "markdown",
   "id": "b426ccd7",
   "metadata": {
    "toc": true
   },
   "source": [
    "<h1>Table of Contents<span class=\"tocSkip\"></span></h1>\n",
    "<div class=\"toc\"><ul class=\"toc-item\"><li><span><a href=\"#Описание-проекта,-описание-тарифов,-описание-данных\" data-toc-modified-id=\"Описание-проекта,-описание-тарифов,-описание-данных-1\"><span class=\"toc-item-num\">1&nbsp;&nbsp;</span>Описание проекта, описание тарифов, описание данных</a></span><ul class=\"toc-item\"><li><span><a href=\"#Описание-проекта\" data-toc-modified-id=\"Описание-проекта-1.1\"><span class=\"toc-item-num\">1.1&nbsp;&nbsp;</span>Описание проекта</a></span></li><li><span><a href=\"#Описание-тарифов\" data-toc-modified-id=\"Описание-тарифов-1.2\"><span class=\"toc-item-num\">1.2&nbsp;&nbsp;</span>Описание тарифов</a></span></li><li><span><a href=\"#Описание-данных\" data-toc-modified-id=\"Описание-данных-1.3\"><span class=\"toc-item-num\">1.3&nbsp;&nbsp;</span>Описание данных</a></span></li></ul></li><li><span><a href=\"#Шаг-1.-Откройте-файл-с-данными-и-изучите-общую-информацию\" data-toc-modified-id=\"Шаг-1.-Откройте-файл-с-данными-и-изучите-общую-информацию-2\"><span class=\"toc-item-num\">2&nbsp;&nbsp;</span>Шаг 1. Откройте файл с данными и изучите общую информацию</a></span><ul class=\"toc-item\"><li><span><a href=\"#Импорт-данных\" data-toc-modified-id=\"Импорт-данных-2.1\"><span class=\"toc-item-num\">2.1&nbsp;&nbsp;</span>Импорт данных</a></span></li></ul></li><li><span><a href=\"#Шаг-2.-Подготовьте-данные\" data-toc-modified-id=\"Шаг-2.-Подготовьте-данные-3\"><span class=\"toc-item-num\">3&nbsp;&nbsp;</span>Шаг 2. Подготовьте данные</a></span><ul class=\"toc-item\"><li><span><a href=\"#Приведите-данные-к-нужным-типам\" data-toc-modified-id=\"Приведите-данные-к-нужным-типам-3.1\"><span class=\"toc-item-num\">3.1&nbsp;&nbsp;</span>Приведите данные к нужным типам</a></span></li><li><span><a href=\"#Найдите-и-исправьте-ошибки-в-данных,-если-они-есть.\" data-toc-modified-id=\"Найдите-и-исправьте-ошибки-в-данных,-если-они-есть.-3.2\"><span class=\"toc-item-num\">3.2&nbsp;&nbsp;</span>Найдите и исправьте ошибки в данных, если они есть.</a></span></li><li><span><a href=\"#Сводная-таблица-по-звонкам,-сообщениям,-потраченному-интернету\" data-toc-modified-id=\"Сводная-таблица-по-звонкам,-сообщениям,-потраченному-интернету-3.3\"><span class=\"toc-item-num\">3.3&nbsp;&nbsp;</span>Сводная таблица по звонкам, сообщениям, потраченному интернету</a></span></li><li><span><a href=\"#помесячная-выручка-с-каждого-пользователя\" data-toc-modified-id=\"помесячная-выручка-с-каждого-пользователя-3.4\"><span class=\"toc-item-num\">3.4&nbsp;&nbsp;</span>помесячная выручка с каждого пользователя</a></span></li></ul></li><li><span><a href=\"#Шаг-3.-Проанализируйте-данные\" data-toc-modified-id=\"Шаг-3.-Проанализируйте-данные-4\"><span class=\"toc-item-num\">4&nbsp;&nbsp;</span>Шаг 3. Проанализируйте данные</a></span><ul class=\"toc-item\"><li><span><a href=\"#средние-значения,-дисперсия,-std-для-каждого-месяца\" data-toc-modified-id=\"средние-значения,-дисперсия,-std-для-каждого-месяца-4.1\"><span class=\"toc-item-num\">4.1&nbsp;&nbsp;</span>средние значения, дисперсия, std для каждого месяца</a></span></li><li><span><a href=\"#Диаграмма-размаха-для-звонков,-сообщений-и-интернета\" data-toc-modified-id=\"Диаграмма-размаха-для-звонков,-сообщений-и-интернета-4.2\"><span class=\"toc-item-num\">4.2&nbsp;&nbsp;</span>Диаграмма размаха для звонков, сообщений и интернета</a></span></li><li><span><a href=\"#Гистограммы-звонков,-сообщений,-интернета-и-выручки\" data-toc-modified-id=\"Гистограммы-звонков,-сообщений,-интернета-и-выручки-4.3\"><span class=\"toc-item-num\">4.3&nbsp;&nbsp;</span>Гистограммы звонков, сообщений, интернета и выручки</a></span></li></ul></li><li><span><a href=\"#Шаг-4.-Проверьте-гипотезы\" data-toc-modified-id=\"Шаг-4.-Проверьте-гипотезы-5\"><span class=\"toc-item-num\">5&nbsp;&nbsp;</span>Шаг 4. Проверьте гипотезы</a></span><ul class=\"toc-item\"><li><span><a href=\"#средняя-выручка-пользователей-тарифов-«Ультра»-и-«Смарт»-различаются\" data-toc-modified-id=\"средняя-выручка-пользователей-тарифов-«Ультра»-и-«Смарт»-различаются-5.1\"><span class=\"toc-item-num\">5.1&nbsp;&nbsp;</span>средняя выручка пользователей тарифов «Ультра» и «Смарт» различаются</a></span></li><li><span><a href=\"#средняя-выручка-пользователей-из-Москвы-отличается-от-выручки-пользователей-из-других-регионов\" data-toc-modified-id=\"средняя-выручка-пользователей-из-Москвы-отличается-от-выручки-пользователей-из-других-регионов-5.2\"><span class=\"toc-item-num\">5.2&nbsp;&nbsp;</span>средняя выручка пользователей из Москвы отличается от выручки пользователей из других регионов</a></span></li><li><span><a href=\"#Можно-ещё-попробовать-протестировать-на-двух-выборках.-Ультра-и-смарт.-Вдруг-один-тариф-всё-таки-лучше-продвигать-в-МСК?\" data-toc-modified-id=\"Можно-ещё-попробовать-протестировать-на-двух-выборках.-Ультра-и-смарт.-Вдруг-один-тариф-всё-таки-лучше-продвигать-в-МСК?-5.3\"><span class=\"toc-item-num\">5.3&nbsp;&nbsp;</span>Можно ещё попробовать протестировать на двух выборках. Ультра и смарт. Вдруг один тариф всё таки лучше продвигать в МСК?</a></span></li></ul></li><li><span><a href=\"#Общий-вывод\" data-toc-modified-id=\"Общий-вывод-6\"><span class=\"toc-item-num\">6&nbsp;&nbsp;</span>Общий вывод</a></span></li></ul></div>"
   ]
  },
  {
   "cell_type": "markdown",
   "id": "b84ee7b3",
   "metadata": {},
   "source": [
    "## Описание проекта, описание тарифов, описание данных"
   ]
  },
  {
   "cell_type": "markdown",
   "id": "94fb056b",
   "metadata": {},
   "source": [
    "### Описание проекта"
   ]
  },
  {
   "cell_type": "markdown",
   "id": "3eb6815c",
   "metadata": {},
   "source": [
    "Вы аналитик компании «Мегалайн» — федерального оператора сотовой связи. Клиентам предлагают два тарифных плана: «Смарт» и «Ультра». Чтобы скорректировать рекламный бюджет, коммерческий департамент хочет понять, какой тариф приносит больше денег.\n",
    "Вам предстоит сделать предварительный анализ тарифов на небольшой выборке клиентов. В вашем распоряжении данные 500 пользователей «Мегалайна»: кто они, откуда, каким тарифом пользуются, сколько звонков и сообщений каждый отправил за 2018 год. Нужно проанализировать поведение клиентов и сделать вывод — какой тариф лучше."
   ]
  },
  {
   "cell_type": "markdown",
   "id": "7584156f",
   "metadata": {},
   "source": [
    "### Описание тарифов"
   ]
  },
  {
   "cell_type": "markdown",
   "id": "f36b4395",
   "metadata": {},
   "source": [
    "<b>Тариф «Смарт»</b> <br>\n",
    "- Ежемесячная плата: 550 рублей\n",
    "- Включено 500 минут разговора, 50 сообщений и 15 Гб интернет-трафика\n",
    "- Стоимость услуг сверх тарифного пакета:\n",
    "- минута разговора: 3 рубля\n",
    "- сообщение: 3 рубля\n",
    "- 1 Гб интернет-трафика: 200 рублей<br>\n",
    "<b>Тариф «Ультра»</b> <br>\n",
    "- Ежемесячная плата: 1950 рублей\n",
    "- Включено 3000 минут разговора, 1000 сообщений и 30 Гб интернет-трафика\n",
    "- Стоимость услуг сверх тарифного пакета:\n",
    "- минута разговора: 1 рубль\n",
    "- сообщение: 1 рубль\n",
    "- 1 Гб интернет-трафика: 150 рублей"
   ]
  },
  {
   "cell_type": "markdown",
   "id": "6bc7ee7d",
   "metadata": {},
   "source": [
    "<b>Примечание:</b><br>\n",
    "«Мегалайн» всегда округляет секунды до минут, а мегабайты — до гигабайт. Каждый звонок округляется отдельно: даже если он длился всего 1 секунду, будет засчитан как 1 минута.\n",
    "Для веб-трафика отдельные сессии не считаются. Вместо этого общая сумма за месяц округляется в бо́льшую сторону. Если абонент использует 1025 мегабайт в этом месяце, с него возьмут плату за 2 гигабайта."
   ]
  },
  {
   "cell_type": "markdown",
   "id": "06f77f23",
   "metadata": {},
   "source": [
    "### Описание данных"
   ]
  },
  {
   "cell_type": "markdown",
   "id": "09025e30",
   "metadata": {},
   "source": [
    "<b>Таблица users (информация о пользователях):\n",
    "    <br>\n",
    "- user_id — уникальный идентификатор пользователя\n",
    "- first_name — имя пользователя\n",
    "- last_name — фамилия пользователя\n",
    "- age — возраст пользователя (годы)\n",
    "- reg_date — дата подключения тарифа (день, месяц, год)\n",
    "- churn_date — дата прекращения пользования тарифом (если значение пропущено, то тариф ещё действовал на момент выгрузки данных)\n",
    "- city — город проживания пользователя\n",
    "- tariff — название тарифного плана\n",
    "    <br>\n",
    "    \n",
    "<b>Таблица calls (информация о звонках):\n",
    "    <br>\n",
    "- id — уникальный номер звонка\n",
    "- call_date — дата звонка\n",
    "- duration — длительность звонка в минутах\n",
    "- user_id — идентификатор пользователя, сделавшего звонок\n",
    "    <br>\n",
    "    \n",
    "<b>Таблица messages (информация о сообщениях):\n",
    "    <br>\n",
    "- id — уникальный номер сообщения\n",
    "- message_date — дата сообщения\n",
    "- user_id — идентификатор пользователя, отправившего сообщение\n",
    "    <br>\n",
    "    \n",
    "<b>Таблица internet (информация об интернет-сессиях):\n",
    "    <br>\n",
    "- id — уникальный номер сессии\n",
    "- mb_used — объём потраченного за сессию интернет-трафика (в мегабайтах)\n",
    "- session_date — дата интернет-сессии\n",
    "- user_id — идентификатор пользователя\n",
    "    <br>\n",
    "    \n",
    "<b>Таблица tariffs (информация о тарифах):\n",
    "    <br>\n",
    "- tariff_name — название тарифа\n",
    "- rub_monthly_fee — ежемесячная абонентская плата в рублях\n",
    "- minutes_included — количество минут разговора в месяц, включённых в абонентскую плату\n",
    "- messages_included — количество сообщений в месяц, включённых в абонентскую плату\n",
    "- mb_per_month_included — объём интернет-трафика, включённого в абонентскую плату (в мегабайтах)\n",
    "- rub_per_minute — стоимость минуты разговора сверх тарифного пакета (например, если в тарифе 100 минут разговора в месяц, то со 101 минуты будет взиматься плата)\n",
    "- rub_per_message — стоимость отправки сообщения сверх тарифного пакета\n",
    "- rub_per_gb — стоимость дополнительного гигабайта интернет-трафика сверх тарифного пакета (1 гигабайт = 1024 мегабайта)"
   ]
  },
  {
   "cell_type": "markdown",
   "id": "abccecee",
   "metadata": {},
   "source": [
    "## Шаг 1. Откройте файл с данными и изучите общую информацию"
   ]
  },
  {
   "cell_type": "markdown",
   "id": "e4f88971",
   "metadata": {},
   "source": [
    "### Импорт данных"
   ]
  },
  {
   "cell_type": "code",
   "execution_count": 1,
   "id": "04b4260c",
   "metadata": {},
   "outputs": [],
   "source": [
    "import pandas as pd\n",
    "import numpy as np\n",
    "import matplotlib.pyplot as plt\n",
    "from datetime import datetime\n",
    "from scipy import stats as st"
   ]
  },
  {
   "cell_type": "code",
   "execution_count": 2,
   "id": "9143d532",
   "metadata": {},
   "outputs": [],
   "source": [
    "calls = pd.read_csv('/datasets/calls.csv')\n",
    "internet = pd.read_csv('/datasets/internet.csv')\n",
    "messages = pd.read_csv('/datasets/messages.csv')\n",
    "tariffs = pd.read_csv('/datasets/tariffs.csv')\n",
    "users = pd.read_csv('/datasets/users.csv')"
   ]
  },
  {
   "cell_type": "code",
   "execution_count": 3,
   "id": "3bf113da",
   "metadata": {},
   "outputs": [],
   "source": [
    "# calls = pd.read_csv('calls.csv')\n",
    "# internet = pd.read_csv('internet.csv')\n",
    "# messages = pd.read_csv('messages.csv')\n",
    "# tariffs = pd.read_csv('tariffs.csv')\n",
    "# users = pd.read_csv('users.csv')"
   ]
  },
  {
   "cell_type": "code",
   "execution_count": 4,
   "id": "f907ef76",
   "metadata": {},
   "outputs": [
    {
     "data": {
      "text/html": [
       "<div>\n",
       "<style scoped>\n",
       "    .dataframe tbody tr th:only-of-type {\n",
       "        vertical-align: middle;\n",
       "    }\n",
       "\n",
       "    .dataframe tbody tr th {\n",
       "        vertical-align: top;\n",
       "    }\n",
       "\n",
       "    .dataframe thead th {\n",
       "        text-align: right;\n",
       "    }\n",
       "</style>\n",
       "<table border=\"1\" class=\"dataframe\">\n",
       "  <thead>\n",
       "    <tr style=\"text-align: right;\">\n",
       "      <th></th>\n",
       "      <th>id</th>\n",
       "      <th>call_date</th>\n",
       "      <th>duration</th>\n",
       "      <th>user_id</th>\n",
       "    </tr>\n",
       "  </thead>\n",
       "  <tbody>\n",
       "    <tr>\n",
       "      <th>0</th>\n",
       "      <td>1000_0</td>\n",
       "      <td>2018-07-25</td>\n",
       "      <td>0.00</td>\n",
       "      <td>1000</td>\n",
       "    </tr>\n",
       "    <tr>\n",
       "      <th>1</th>\n",
       "      <td>1000_1</td>\n",
       "      <td>2018-08-17</td>\n",
       "      <td>0.00</td>\n",
       "      <td>1000</td>\n",
       "    </tr>\n",
       "    <tr>\n",
       "      <th>2</th>\n",
       "      <td>1000_2</td>\n",
       "      <td>2018-06-11</td>\n",
       "      <td>2.85</td>\n",
       "      <td>1000</td>\n",
       "    </tr>\n",
       "    <tr>\n",
       "      <th>3</th>\n",
       "      <td>1000_3</td>\n",
       "      <td>2018-09-21</td>\n",
       "      <td>13.80</td>\n",
       "      <td>1000</td>\n",
       "    </tr>\n",
       "    <tr>\n",
       "      <th>4</th>\n",
       "      <td>1000_4</td>\n",
       "      <td>2018-12-15</td>\n",
       "      <td>5.18</td>\n",
       "      <td>1000</td>\n",
       "    </tr>\n",
       "    <tr>\n",
       "      <th>5</th>\n",
       "      <td>1000_5</td>\n",
       "      <td>2018-11-02</td>\n",
       "      <td>0.00</td>\n",
       "      <td>1000</td>\n",
       "    </tr>\n",
       "    <tr>\n",
       "      <th>6</th>\n",
       "      <td>1000_6</td>\n",
       "      <td>2018-10-18</td>\n",
       "      <td>0.00</td>\n",
       "      <td>1000</td>\n",
       "    </tr>\n",
       "    <tr>\n",
       "      <th>7</th>\n",
       "      <td>1000_7</td>\n",
       "      <td>2018-08-22</td>\n",
       "      <td>18.31</td>\n",
       "      <td>1000</td>\n",
       "    </tr>\n",
       "    <tr>\n",
       "      <th>8</th>\n",
       "      <td>1000_8</td>\n",
       "      <td>2018-09-15</td>\n",
       "      <td>18.44</td>\n",
       "      <td>1000</td>\n",
       "    </tr>\n",
       "    <tr>\n",
       "      <th>9</th>\n",
       "      <td>1000_9</td>\n",
       "      <td>2018-08-15</td>\n",
       "      <td>0.00</td>\n",
       "      <td>1000</td>\n",
       "    </tr>\n",
       "  </tbody>\n",
       "</table>\n",
       "</div>"
      ],
      "text/plain": [
       "       id   call_date  duration  user_id\n",
       "0  1000_0  2018-07-25      0.00     1000\n",
       "1  1000_1  2018-08-17      0.00     1000\n",
       "2  1000_2  2018-06-11      2.85     1000\n",
       "3  1000_3  2018-09-21     13.80     1000\n",
       "4  1000_4  2018-12-15      5.18     1000\n",
       "5  1000_5  2018-11-02      0.00     1000\n",
       "6  1000_6  2018-10-18      0.00     1000\n",
       "7  1000_7  2018-08-22     18.31     1000\n",
       "8  1000_8  2018-09-15     18.44     1000\n",
       "9  1000_9  2018-08-15      0.00     1000"
      ]
     },
     "metadata": {},
     "output_type": "display_data"
    },
    {
     "data": {
      "text/html": [
       "<div>\n",
       "<style scoped>\n",
       "    .dataframe tbody tr th:only-of-type {\n",
       "        vertical-align: middle;\n",
       "    }\n",
       "\n",
       "    .dataframe tbody tr th {\n",
       "        vertical-align: top;\n",
       "    }\n",
       "\n",
       "    .dataframe thead th {\n",
       "        text-align: right;\n",
       "    }\n",
       "</style>\n",
       "<table border=\"1\" class=\"dataframe\">\n",
       "  <thead>\n",
       "    <tr style=\"text-align: right;\">\n",
       "      <th></th>\n",
       "      <th>Unnamed: 0</th>\n",
       "      <th>id</th>\n",
       "      <th>mb_used</th>\n",
       "      <th>session_date</th>\n",
       "      <th>user_id</th>\n",
       "    </tr>\n",
       "  </thead>\n",
       "  <tbody>\n",
       "    <tr>\n",
       "      <th>0</th>\n",
       "      <td>0</td>\n",
       "      <td>1000_0</td>\n",
       "      <td>112.95</td>\n",
       "      <td>2018-11-25</td>\n",
       "      <td>1000</td>\n",
       "    </tr>\n",
       "    <tr>\n",
       "      <th>1</th>\n",
       "      <td>1</td>\n",
       "      <td>1000_1</td>\n",
       "      <td>1052.81</td>\n",
       "      <td>2018-09-07</td>\n",
       "      <td>1000</td>\n",
       "    </tr>\n",
       "    <tr>\n",
       "      <th>2</th>\n",
       "      <td>2</td>\n",
       "      <td>1000_2</td>\n",
       "      <td>1197.26</td>\n",
       "      <td>2018-06-25</td>\n",
       "      <td>1000</td>\n",
       "    </tr>\n",
       "    <tr>\n",
       "      <th>3</th>\n",
       "      <td>3</td>\n",
       "      <td>1000_3</td>\n",
       "      <td>550.27</td>\n",
       "      <td>2018-08-22</td>\n",
       "      <td>1000</td>\n",
       "    </tr>\n",
       "    <tr>\n",
       "      <th>4</th>\n",
       "      <td>4</td>\n",
       "      <td>1000_4</td>\n",
       "      <td>302.56</td>\n",
       "      <td>2018-09-24</td>\n",
       "      <td>1000</td>\n",
       "    </tr>\n",
       "    <tr>\n",
       "      <th>5</th>\n",
       "      <td>5</td>\n",
       "      <td>1000_5</td>\n",
       "      <td>399.97</td>\n",
       "      <td>2018-10-02</td>\n",
       "      <td>1000</td>\n",
       "    </tr>\n",
       "    <tr>\n",
       "      <th>6</th>\n",
       "      <td>6</td>\n",
       "      <td>1000_6</td>\n",
       "      <td>540.08</td>\n",
       "      <td>2018-09-07</td>\n",
       "      <td>1000</td>\n",
       "    </tr>\n",
       "    <tr>\n",
       "      <th>7</th>\n",
       "      <td>7</td>\n",
       "      <td>1000_7</td>\n",
       "      <td>415.70</td>\n",
       "      <td>2018-07-11</td>\n",
       "      <td>1000</td>\n",
       "    </tr>\n",
       "    <tr>\n",
       "      <th>8</th>\n",
       "      <td>8</td>\n",
       "      <td>1000_8</td>\n",
       "      <td>505.40</td>\n",
       "      <td>2018-10-08</td>\n",
       "      <td>1000</td>\n",
       "    </tr>\n",
       "    <tr>\n",
       "      <th>9</th>\n",
       "      <td>9</td>\n",
       "      <td>1000_9</td>\n",
       "      <td>345.54</td>\n",
       "      <td>2018-09-03</td>\n",
       "      <td>1000</td>\n",
       "    </tr>\n",
       "  </tbody>\n",
       "</table>\n",
       "</div>"
      ],
      "text/plain": [
       "   Unnamed: 0      id  mb_used session_date  user_id\n",
       "0           0  1000_0   112.95   2018-11-25     1000\n",
       "1           1  1000_1  1052.81   2018-09-07     1000\n",
       "2           2  1000_2  1197.26   2018-06-25     1000\n",
       "3           3  1000_3   550.27   2018-08-22     1000\n",
       "4           4  1000_4   302.56   2018-09-24     1000\n",
       "5           5  1000_5   399.97   2018-10-02     1000\n",
       "6           6  1000_6   540.08   2018-09-07     1000\n",
       "7           7  1000_7   415.70   2018-07-11     1000\n",
       "8           8  1000_8   505.40   2018-10-08     1000\n",
       "9           9  1000_9   345.54   2018-09-03     1000"
      ]
     },
     "metadata": {},
     "output_type": "display_data"
    },
    {
     "data": {
      "text/html": [
       "<div>\n",
       "<style scoped>\n",
       "    .dataframe tbody tr th:only-of-type {\n",
       "        vertical-align: middle;\n",
       "    }\n",
       "\n",
       "    .dataframe tbody tr th {\n",
       "        vertical-align: top;\n",
       "    }\n",
       "\n",
       "    .dataframe thead th {\n",
       "        text-align: right;\n",
       "    }\n",
       "</style>\n",
       "<table border=\"1\" class=\"dataframe\">\n",
       "  <thead>\n",
       "    <tr style=\"text-align: right;\">\n",
       "      <th></th>\n",
       "      <th>id</th>\n",
       "      <th>message_date</th>\n",
       "      <th>user_id</th>\n",
       "    </tr>\n",
       "  </thead>\n",
       "  <tbody>\n",
       "    <tr>\n",
       "      <th>0</th>\n",
       "      <td>1000_0</td>\n",
       "      <td>2018-06-27</td>\n",
       "      <td>1000</td>\n",
       "    </tr>\n",
       "    <tr>\n",
       "      <th>1</th>\n",
       "      <td>1000_1</td>\n",
       "      <td>2018-10-08</td>\n",
       "      <td>1000</td>\n",
       "    </tr>\n",
       "    <tr>\n",
       "      <th>2</th>\n",
       "      <td>1000_2</td>\n",
       "      <td>2018-08-04</td>\n",
       "      <td>1000</td>\n",
       "    </tr>\n",
       "    <tr>\n",
       "      <th>3</th>\n",
       "      <td>1000_3</td>\n",
       "      <td>2018-06-16</td>\n",
       "      <td>1000</td>\n",
       "    </tr>\n",
       "    <tr>\n",
       "      <th>4</th>\n",
       "      <td>1000_4</td>\n",
       "      <td>2018-12-05</td>\n",
       "      <td>1000</td>\n",
       "    </tr>\n",
       "    <tr>\n",
       "      <th>5</th>\n",
       "      <td>1000_5</td>\n",
       "      <td>2018-06-20</td>\n",
       "      <td>1000</td>\n",
       "    </tr>\n",
       "    <tr>\n",
       "      <th>6</th>\n",
       "      <td>1000_6</td>\n",
       "      <td>2018-11-19</td>\n",
       "      <td>1000</td>\n",
       "    </tr>\n",
       "    <tr>\n",
       "      <th>7</th>\n",
       "      <td>1000_7</td>\n",
       "      <td>2018-10-29</td>\n",
       "      <td>1000</td>\n",
       "    </tr>\n",
       "    <tr>\n",
       "      <th>8</th>\n",
       "      <td>1000_8</td>\n",
       "      <td>2018-06-25</td>\n",
       "      <td>1000</td>\n",
       "    </tr>\n",
       "    <tr>\n",
       "      <th>9</th>\n",
       "      <td>1000_9</td>\n",
       "      <td>2018-12-18</td>\n",
       "      <td>1000</td>\n",
       "    </tr>\n",
       "  </tbody>\n",
       "</table>\n",
       "</div>"
      ],
      "text/plain": [
       "       id message_date  user_id\n",
       "0  1000_0   2018-06-27     1000\n",
       "1  1000_1   2018-10-08     1000\n",
       "2  1000_2   2018-08-04     1000\n",
       "3  1000_3   2018-06-16     1000\n",
       "4  1000_4   2018-12-05     1000\n",
       "5  1000_5   2018-06-20     1000\n",
       "6  1000_6   2018-11-19     1000\n",
       "7  1000_7   2018-10-29     1000\n",
       "8  1000_8   2018-06-25     1000\n",
       "9  1000_9   2018-12-18     1000"
      ]
     },
     "metadata": {},
     "output_type": "display_data"
    },
    {
     "data": {
      "text/html": [
       "<div>\n",
       "<style scoped>\n",
       "    .dataframe tbody tr th:only-of-type {\n",
       "        vertical-align: middle;\n",
       "    }\n",
       "\n",
       "    .dataframe tbody tr th {\n",
       "        vertical-align: top;\n",
       "    }\n",
       "\n",
       "    .dataframe thead th {\n",
       "        text-align: right;\n",
       "    }\n",
       "</style>\n",
       "<table border=\"1\" class=\"dataframe\">\n",
       "  <thead>\n",
       "    <tr style=\"text-align: right;\">\n",
       "      <th></th>\n",
       "      <th>messages_included</th>\n",
       "      <th>mb_per_month_included</th>\n",
       "      <th>minutes_included</th>\n",
       "      <th>rub_monthly_fee</th>\n",
       "      <th>rub_per_gb</th>\n",
       "      <th>rub_per_message</th>\n",
       "      <th>rub_per_minute</th>\n",
       "      <th>tariff_name</th>\n",
       "    </tr>\n",
       "  </thead>\n",
       "  <tbody>\n",
       "    <tr>\n",
       "      <th>0</th>\n",
       "      <td>50</td>\n",
       "      <td>15360</td>\n",
       "      <td>500</td>\n",
       "      <td>550</td>\n",
       "      <td>200</td>\n",
       "      <td>3</td>\n",
       "      <td>3</td>\n",
       "      <td>smart</td>\n",
       "    </tr>\n",
       "    <tr>\n",
       "      <th>1</th>\n",
       "      <td>1000</td>\n",
       "      <td>30720</td>\n",
       "      <td>3000</td>\n",
       "      <td>1950</td>\n",
       "      <td>150</td>\n",
       "      <td>1</td>\n",
       "      <td>1</td>\n",
       "      <td>ultra</td>\n",
       "    </tr>\n",
       "  </tbody>\n",
       "</table>\n",
       "</div>"
      ],
      "text/plain": [
       "   messages_included  mb_per_month_included  minutes_included  \\\n",
       "0                 50                  15360               500   \n",
       "1               1000                  30720              3000   \n",
       "\n",
       "   rub_monthly_fee  rub_per_gb  rub_per_message  rub_per_minute tariff_name  \n",
       "0              550         200                3               3       smart  \n",
       "1             1950         150                1               1       ultra  "
      ]
     },
     "metadata": {},
     "output_type": "display_data"
    },
    {
     "data": {
      "text/html": [
       "<div>\n",
       "<style scoped>\n",
       "    .dataframe tbody tr th:only-of-type {\n",
       "        vertical-align: middle;\n",
       "    }\n",
       "\n",
       "    .dataframe tbody tr th {\n",
       "        vertical-align: top;\n",
       "    }\n",
       "\n",
       "    .dataframe thead th {\n",
       "        text-align: right;\n",
       "    }\n",
       "</style>\n",
       "<table border=\"1\" class=\"dataframe\">\n",
       "  <thead>\n",
       "    <tr style=\"text-align: right;\">\n",
       "      <th></th>\n",
       "      <th>user_id</th>\n",
       "      <th>age</th>\n",
       "      <th>churn_date</th>\n",
       "      <th>city</th>\n",
       "      <th>first_name</th>\n",
       "      <th>last_name</th>\n",
       "      <th>reg_date</th>\n",
       "      <th>tariff</th>\n",
       "    </tr>\n",
       "  </thead>\n",
       "  <tbody>\n",
       "    <tr>\n",
       "      <th>0</th>\n",
       "      <td>1000</td>\n",
       "      <td>52</td>\n",
       "      <td>NaN</td>\n",
       "      <td>Краснодар</td>\n",
       "      <td>Рафаил</td>\n",
       "      <td>Верещагин</td>\n",
       "      <td>2018-05-25</td>\n",
       "      <td>ultra</td>\n",
       "    </tr>\n",
       "    <tr>\n",
       "      <th>1</th>\n",
       "      <td>1001</td>\n",
       "      <td>41</td>\n",
       "      <td>NaN</td>\n",
       "      <td>Москва</td>\n",
       "      <td>Иван</td>\n",
       "      <td>Ежов</td>\n",
       "      <td>2018-11-01</td>\n",
       "      <td>smart</td>\n",
       "    </tr>\n",
       "    <tr>\n",
       "      <th>2</th>\n",
       "      <td>1002</td>\n",
       "      <td>59</td>\n",
       "      <td>NaN</td>\n",
       "      <td>Стерлитамак</td>\n",
       "      <td>Евгений</td>\n",
       "      <td>Абрамович</td>\n",
       "      <td>2018-06-17</td>\n",
       "      <td>smart</td>\n",
       "    </tr>\n",
       "    <tr>\n",
       "      <th>3</th>\n",
       "      <td>1003</td>\n",
       "      <td>23</td>\n",
       "      <td>NaN</td>\n",
       "      <td>Москва</td>\n",
       "      <td>Белла</td>\n",
       "      <td>Белякова</td>\n",
       "      <td>2018-08-17</td>\n",
       "      <td>ultra</td>\n",
       "    </tr>\n",
       "    <tr>\n",
       "      <th>4</th>\n",
       "      <td>1004</td>\n",
       "      <td>68</td>\n",
       "      <td>NaN</td>\n",
       "      <td>Новокузнецк</td>\n",
       "      <td>Татьяна</td>\n",
       "      <td>Авдеенко</td>\n",
       "      <td>2018-05-14</td>\n",
       "      <td>ultra</td>\n",
       "    </tr>\n",
       "    <tr>\n",
       "      <th>5</th>\n",
       "      <td>1005</td>\n",
       "      <td>67</td>\n",
       "      <td>NaN</td>\n",
       "      <td>Набережные Челны</td>\n",
       "      <td>Афанасий</td>\n",
       "      <td>Горлов</td>\n",
       "      <td>2018-01-25</td>\n",
       "      <td>smart</td>\n",
       "    </tr>\n",
       "    <tr>\n",
       "      <th>6</th>\n",
       "      <td>1006</td>\n",
       "      <td>21</td>\n",
       "      <td>NaN</td>\n",
       "      <td>Ульяновск</td>\n",
       "      <td>Леонид</td>\n",
       "      <td>Ермолаев</td>\n",
       "      <td>2018-02-26</td>\n",
       "      <td>smart</td>\n",
       "    </tr>\n",
       "    <tr>\n",
       "      <th>7</th>\n",
       "      <td>1007</td>\n",
       "      <td>65</td>\n",
       "      <td>NaN</td>\n",
       "      <td>Москва</td>\n",
       "      <td>Юна</td>\n",
       "      <td>Березина</td>\n",
       "      <td>2018-04-19</td>\n",
       "      <td>smart</td>\n",
       "    </tr>\n",
       "    <tr>\n",
       "      <th>8</th>\n",
       "      <td>1008</td>\n",
       "      <td>63</td>\n",
       "      <td>NaN</td>\n",
       "      <td>Челябинск</td>\n",
       "      <td>Рустэм</td>\n",
       "      <td>Пономарёв</td>\n",
       "      <td>2018-12-19</td>\n",
       "      <td>smart</td>\n",
       "    </tr>\n",
       "    <tr>\n",
       "      <th>9</th>\n",
       "      <td>1009</td>\n",
       "      <td>24</td>\n",
       "      <td>NaN</td>\n",
       "      <td>Пермь</td>\n",
       "      <td>Василиса</td>\n",
       "      <td>Блинова</td>\n",
       "      <td>2018-03-22</td>\n",
       "      <td>smart</td>\n",
       "    </tr>\n",
       "  </tbody>\n",
       "</table>\n",
       "</div>"
      ],
      "text/plain": [
       "   user_id  age churn_date              city first_name  last_name  \\\n",
       "0     1000   52        NaN         Краснодар     Рафаил  Верещагин   \n",
       "1     1001   41        NaN            Москва       Иван       Ежов   \n",
       "2     1002   59        NaN       Стерлитамак    Евгений  Абрамович   \n",
       "3     1003   23        NaN            Москва      Белла   Белякова   \n",
       "4     1004   68        NaN       Новокузнецк    Татьяна   Авдеенко   \n",
       "5     1005   67        NaN  Набережные Челны   Афанасий     Горлов   \n",
       "6     1006   21        NaN         Ульяновск     Леонид   Ермолаев   \n",
       "7     1007   65        NaN            Москва        Юна   Березина   \n",
       "8     1008   63        NaN         Челябинск     Рустэм  Пономарёв   \n",
       "9     1009   24        NaN             Пермь   Василиса    Блинова   \n",
       "\n",
       "     reg_date tariff  \n",
       "0  2018-05-25  ultra  \n",
       "1  2018-11-01  smart  \n",
       "2  2018-06-17  smart  \n",
       "3  2018-08-17  ultra  \n",
       "4  2018-05-14  ultra  \n",
       "5  2018-01-25  smart  \n",
       "6  2018-02-26  smart  \n",
       "7  2018-04-19  smart  \n",
       "8  2018-12-19  smart  \n",
       "9  2018-03-22  smart  "
      ]
     },
     "metadata": {},
     "output_type": "display_data"
    }
   ],
   "source": [
    "display(calls.head(10))\n",
    "display(internet.head(10))\n",
    "display(messages.head(10))\n",
    "display(tariffs.head(10))\n",
    "display(users.head(10))"
   ]
  },
  {
   "cell_type": "markdown",
   "id": "7e6ec2d3",
   "metadata": {},
   "source": [
    "## Шаг 2. Подготовьте данные"
   ]
  },
  {
   "cell_type": "markdown",
   "id": "4302d556",
   "metadata": {},
   "source": [
    "### Приведите данные к нужным типам"
   ]
  },
  {
   "cell_type": "markdown",
   "id": "5d0128bd",
   "metadata": {},
   "source": [
    "Для всех таблиц, кроме tariffs, нужно перевести дату в формат datetime, чтобы с ними было удобно работать. <br>\n",
    "Для начала проверим с помощью .info() исходный тип данных, и заменим на нужный нам.<br>\n",
    "Напишем функцию для всех таблиц сразу."
   ]
  },
  {
   "cell_type": "code",
   "execution_count": 5,
   "id": "b899f266",
   "metadata": {},
   "outputs": [
    {
     "name": "stdout",
     "output_type": "stream",
     "text": [
      "<class 'pandas.core.frame.DataFrame'>\n",
      "RangeIndex: 202607 entries, 0 to 202606\n",
      "Data columns (total 4 columns):\n",
      " #   Column     Non-Null Count   Dtype  \n",
      "---  ------     --------------   -----  \n",
      " 0   id         202607 non-null  object \n",
      " 1   call_date  202607 non-null  object \n",
      " 2   duration   202607 non-null  float64\n",
      " 3   user_id    202607 non-null  int64  \n",
      "dtypes: float64(1), int64(1), object(2)\n",
      "memory usage: 6.2+ MB\n"
     ]
    }
   ],
   "source": [
    "calls.info()"
   ]
  },
  {
   "cell_type": "code",
   "execution_count": 6,
   "id": "3115ed71",
   "metadata": {},
   "outputs": [
    {
     "name": "stdout",
     "output_type": "stream",
     "text": [
      "<class 'pandas.core.frame.DataFrame'>\n",
      "RangeIndex: 149396 entries, 0 to 149395\n",
      "Data columns (total 5 columns):\n",
      " #   Column        Non-Null Count   Dtype  \n",
      "---  ------        --------------   -----  \n",
      " 0   Unnamed: 0    149396 non-null  int64  \n",
      " 1   id            149396 non-null  object \n",
      " 2   mb_used       149396 non-null  float64\n",
      " 3   session_date  149396 non-null  object \n",
      " 4   user_id       149396 non-null  int64  \n",
      "dtypes: float64(1), int64(2), object(2)\n",
      "memory usage: 5.7+ MB\n"
     ]
    }
   ],
   "source": [
    "internet.info()"
   ]
  },
  {
   "cell_type": "code",
   "execution_count": 7,
   "id": "951d65b2",
   "metadata": {},
   "outputs": [
    {
     "name": "stdout",
     "output_type": "stream",
     "text": [
      "<class 'pandas.core.frame.DataFrame'>\n",
      "RangeIndex: 123036 entries, 0 to 123035\n",
      "Data columns (total 3 columns):\n",
      " #   Column        Non-Null Count   Dtype \n",
      "---  ------        --------------   ----- \n",
      " 0   id            123036 non-null  object\n",
      " 1   message_date  123036 non-null  object\n",
      " 2   user_id       123036 non-null  int64 \n",
      "dtypes: int64(1), object(2)\n",
      "memory usage: 2.8+ MB\n"
     ]
    }
   ],
   "source": [
    "messages.info()"
   ]
  },
  {
   "cell_type": "code",
   "execution_count": 8,
   "id": "98c54f9d",
   "metadata": {},
   "outputs": [
    {
     "name": "stdout",
     "output_type": "stream",
     "text": [
      "<class 'pandas.core.frame.DataFrame'>\n",
      "RangeIndex: 500 entries, 0 to 499\n",
      "Data columns (total 8 columns):\n",
      " #   Column      Non-Null Count  Dtype \n",
      "---  ------      --------------  ----- \n",
      " 0   user_id     500 non-null    int64 \n",
      " 1   age         500 non-null    int64 \n",
      " 2   churn_date  38 non-null     object\n",
      " 3   city        500 non-null    object\n",
      " 4   first_name  500 non-null    object\n",
      " 5   last_name   500 non-null    object\n",
      " 6   reg_date    500 non-null    object\n",
      " 7   tariff      500 non-null    object\n",
      "dtypes: int64(2), object(6)\n",
      "memory usage: 31.4+ KB\n"
     ]
    }
   ],
   "source": [
    "users.info()"
   ]
  },
  {
   "cell_type": "code",
   "execution_count": 9,
   "id": "34009bd2",
   "metadata": {},
   "outputs": [],
   "source": [
    "def todatetime(datas):\n",
    "    for df in datas:\n",
    "        for col in df.columns:\n",
    "            if 'date'in col:\n",
    "                df[col] = pd.to_datetime(df[col], format = '%Y-%m-%d')"
   ]
  },
  {
   "cell_type": "code",
   "execution_count": 10,
   "id": "73b23173",
   "metadata": {},
   "outputs": [],
   "source": [
    "todatetime([users, calls, messages, internet])"
   ]
  },
  {
   "cell_type": "markdown",
   "id": "df6bb184",
   "metadata": {},
   "source": [
    "Тип данных изменен."
   ]
  },
  {
   "cell_type": "markdown",
   "id": "0d482d8c",
   "metadata": {},
   "source": [
    "***"
   ]
  },
  {
   "cell_type": "code",
   "execution_count": 11,
   "id": "a74c7e92",
   "metadata": {},
   "outputs": [
    {
     "name": "stdout",
     "output_type": "stream",
     "text": [
      "<class 'pandas.core.frame.DataFrame'>\n",
      "RangeIndex: 2 entries, 0 to 1\n",
      "Data columns (total 8 columns):\n",
      " #   Column                 Non-Null Count  Dtype \n",
      "---  ------                 --------------  ----- \n",
      " 0   messages_included      2 non-null      int64 \n",
      " 1   mb_per_month_included  2 non-null      int64 \n",
      " 2   minutes_included       2 non-null      int64 \n",
      " 3   rub_monthly_fee        2 non-null      int64 \n",
      " 4   rub_per_gb             2 non-null      int64 \n",
      " 5   rub_per_message        2 non-null      int64 \n",
      " 6   rub_per_minute         2 non-null      int64 \n",
      " 7   tariff_name            2 non-null      object\n",
      "dtypes: int64(7), object(1)\n",
      "memory usage: 256.0+ bytes\n"
     ]
    }
   ],
   "source": [
    "tariffs.info()"
   ]
  },
  {
   "cell_type": "markdown",
   "id": "07c9e901",
   "metadata": {},
   "source": [
    "Здесь все по типам правильно."
   ]
  },
  {
   "cell_type": "markdown",
   "id": "6c9e1e9d",
   "metadata": {},
   "source": [
    "### Найдите и исправьте ошибки в данных, если они есть."
   ]
  },
  {
   "cell_type": "markdown",
   "id": "d8f9a743",
   "metadata": {},
   "source": [
    "Сначала проверим на пропуски:"
   ]
  },
  {
   "cell_type": "code",
   "execution_count": 12,
   "id": "20f87bd2",
   "metadata": {},
   "outputs": [
    {
     "data": {
      "text/plain": [
       "id           0\n",
       "call_date    0\n",
       "duration     0\n",
       "user_id      0\n",
       "dtype: int64"
      ]
     },
     "metadata": {},
     "output_type": "display_data"
    },
    {
     "data": {
      "text/plain": [
       "Unnamed: 0      0\n",
       "id              0\n",
       "mb_used         0\n",
       "session_date    0\n",
       "user_id         0\n",
       "dtype: int64"
      ]
     },
     "metadata": {},
     "output_type": "display_data"
    },
    {
     "data": {
      "text/plain": [
       "id              0\n",
       "message_date    0\n",
       "user_id         0\n",
       "dtype: int64"
      ]
     },
     "metadata": {},
     "output_type": "display_data"
    },
    {
     "data": {
      "text/plain": [
       "messages_included        0\n",
       "mb_per_month_included    0\n",
       "minutes_included         0\n",
       "rub_monthly_fee          0\n",
       "rub_per_gb               0\n",
       "rub_per_message          0\n",
       "rub_per_minute           0\n",
       "tariff_name              0\n",
       "dtype: int64"
      ]
     },
     "metadata": {},
     "output_type": "display_data"
    },
    {
     "data": {
      "text/plain": [
       "user_id         0\n",
       "age             0\n",
       "churn_date    462\n",
       "city            0\n",
       "first_name      0\n",
       "last_name       0\n",
       "reg_date        0\n",
       "tariff          0\n",
       "dtype: int64"
      ]
     },
     "metadata": {},
     "output_type": "display_data"
    }
   ],
   "source": [
    "display(calls.isnull().sum())\n",
    "display(internet.isnull().sum())\n",
    "display(messages.isnull().sum())\n",
    "display(tariffs.isnull().sum())\n",
    "display(users.isnull().sum())"
   ]
  },
  {
   "cell_type": "markdown",
   "id": "fa71263c",
   "metadata": {},
   "source": [
    "Искали пропуски, нашли только в столбце churn_date, значит тарифом еще пользовались на момент выгрузки данных."
   ]
  },
  {
   "cell_type": "code",
   "execution_count": 13,
   "id": "ef77646a",
   "metadata": {},
   "outputs": [],
   "source": [
    "# display(calls.isna().sum())\n",
    "# display(internet.isna().sum())\n",
    "# display(messages.isna().sum())\n",
    "# display(tariffs.isna().sum())\n",
    "# display(users.isna().sum())"
   ]
  },
  {
   "cell_type": "markdown",
   "id": "803a2c87",
   "metadata": {},
   "source": [
    "Поищем дубликаты:"
   ]
  },
  {
   "cell_type": "code",
   "execution_count": 14,
   "id": "f352e232",
   "metadata": {},
   "outputs": [
    {
     "data": {
      "text/plain": [
       "0"
      ]
     },
     "metadata": {},
     "output_type": "display_data"
    },
    {
     "data": {
      "text/plain": [
       "0"
      ]
     },
     "metadata": {},
     "output_type": "display_data"
    },
    {
     "data": {
      "text/plain": [
       "0"
      ]
     },
     "metadata": {},
     "output_type": "display_data"
    },
    {
     "data": {
      "text/plain": [
       "0"
      ]
     },
     "metadata": {},
     "output_type": "display_data"
    },
    {
     "data": {
      "text/plain": [
       "0"
      ]
     },
     "metadata": {},
     "output_type": "display_data"
    }
   ],
   "source": [
    "display(calls.duplicated().sum())\n",
    "display(internet.duplicated().sum())\n",
    "display(messages.duplicated().sum())\n",
    "display(tariffs.duplicated().sum())\n",
    "display(users.duplicated().sum())"
   ]
  },
  {
   "cell_type": "markdown",
   "id": "4deaff17",
   "metadata": {},
   "source": [
    "непонятный первый столбец, удалим его, он ни на что не влияет"
   ]
  },
  {
   "cell_type": "code",
   "execution_count": 15,
   "id": "db8f9c24",
   "metadata": {},
   "outputs": [],
   "source": [
    "internet.drop('Unnamed: 0', inplace=True, axis=1)"
   ]
  },
  {
   "cell_type": "code",
   "execution_count": 16,
   "id": "49d94978",
   "metadata": {},
   "outputs": [
    {
     "data": {
      "text/html": [
       "<div>\n",
       "<style scoped>\n",
       "    .dataframe tbody tr th:only-of-type {\n",
       "        vertical-align: middle;\n",
       "    }\n",
       "\n",
       "    .dataframe tbody tr th {\n",
       "        vertical-align: top;\n",
       "    }\n",
       "\n",
       "    .dataframe thead th {\n",
       "        text-align: right;\n",
       "    }\n",
       "</style>\n",
       "<table border=\"1\" class=\"dataframe\">\n",
       "  <thead>\n",
       "    <tr style=\"text-align: right;\">\n",
       "      <th></th>\n",
       "      <th>id</th>\n",
       "      <th>mb_used</th>\n",
       "      <th>session_date</th>\n",
       "      <th>user_id</th>\n",
       "    </tr>\n",
       "  </thead>\n",
       "  <tbody>\n",
       "    <tr>\n",
       "      <th>0</th>\n",
       "      <td>1000_0</td>\n",
       "      <td>112.95</td>\n",
       "      <td>2018-11-25</td>\n",
       "      <td>1000</td>\n",
       "    </tr>\n",
       "    <tr>\n",
       "      <th>1</th>\n",
       "      <td>1000_1</td>\n",
       "      <td>1052.81</td>\n",
       "      <td>2018-09-07</td>\n",
       "      <td>1000</td>\n",
       "    </tr>\n",
       "    <tr>\n",
       "      <th>2</th>\n",
       "      <td>1000_2</td>\n",
       "      <td>1197.26</td>\n",
       "      <td>2018-06-25</td>\n",
       "      <td>1000</td>\n",
       "    </tr>\n",
       "    <tr>\n",
       "      <th>3</th>\n",
       "      <td>1000_3</td>\n",
       "      <td>550.27</td>\n",
       "      <td>2018-08-22</td>\n",
       "      <td>1000</td>\n",
       "    </tr>\n",
       "    <tr>\n",
       "      <th>4</th>\n",
       "      <td>1000_4</td>\n",
       "      <td>302.56</td>\n",
       "      <td>2018-09-24</td>\n",
       "      <td>1000</td>\n",
       "    </tr>\n",
       "  </tbody>\n",
       "</table>\n",
       "</div>"
      ],
      "text/plain": [
       "       id  mb_used session_date  user_id\n",
       "0  1000_0   112.95   2018-11-25     1000\n",
       "1  1000_1  1052.81   2018-09-07     1000\n",
       "2  1000_2  1197.26   2018-06-25     1000\n",
       "3  1000_3   550.27   2018-08-22     1000\n",
       "4  1000_4   302.56   2018-09-24     1000"
      ]
     },
     "execution_count": 16,
     "metadata": {},
     "output_type": "execute_result"
    }
   ],
   "source": [
    "internet.head()"
   ]
  },
  {
   "cell_type": "markdown",
   "id": "aeeecbd6",
   "metadata": {},
   "source": [
    "теперь посмотрим на длительность звонков:"
   ]
  },
  {
   "cell_type": "code",
   "execution_count": 17,
   "id": "932343f8",
   "metadata": {},
   "outputs": [
    {
     "data": {
      "text/plain": [
       "<AxesSubplot:ylabel='Frequency'>"
      ]
     },
     "execution_count": 17,
     "metadata": {},
     "output_type": "execute_result"
    },
    {
     "data": {
      "image/png": "[encoded data removed]",
      "text/plain": [
       "<Figure size 432x288 with 1 Axes>"
      ]
     },
     "metadata": {
      "needs_background": "light"
     },
     "output_type": "display_data"
    }
   ],
   "source": [
    "calls['duration'].plot(kind='hist', ec='black', bins=50)"
   ]
  },
  {
   "cell_type": "markdown",
   "id": "da8c2187",
   "metadata": {},
   "source": [
    "помним, что если звонок длился больше 0 секунд, то нужно округлить до 1 минуты. А затем переведем в целочисленный тип, тк они будут округлены."
   ]
  },
  {
   "cell_type": "code",
   "execution_count": 18,
   "id": "9fb20427",
   "metadata": {},
   "outputs": [],
   "source": [
    "calls['duration'] = calls['duration'].apply(np.ceil)\n",
    "calls['duration'] = calls['duration'].astype('int')"
   ]
  },
  {
   "cell_type": "code",
   "execution_count": 19,
   "id": "e2d01cdb",
   "metadata": {
    "scrolled": true
   },
   "outputs": [
    {
     "data": {
      "text/plain": [
       "<AxesSubplot:ylabel='Frequency'>"
      ]
     },
     "execution_count": 19,
     "metadata": {},
     "output_type": "execute_result"
    },
    {
     "data": {
      "image/png": "[encoded data removed]",
      "text/plain": [
       "<Figure size 432x288 with 1 Axes>"
      ]
     },
     "metadata": {
      "needs_background": "light"
     },
     "output_type": "display_data"
    }
   ],
   "source": [
    "calls['duration'].plot(kind='hist', ec='black', bins=50)"
   ]
  },
  {
   "cell_type": "code",
   "execution_count": 20,
   "id": "89d04153",
   "metadata": {
    "scrolled": true
   },
   "outputs": [
    {
     "data": {
      "text/html": [
       "<div>\n",
       "<style scoped>\n",
       "    .dataframe tbody tr th:only-of-type {\n",
       "        vertical-align: middle;\n",
       "    }\n",
       "\n",
       "    .dataframe tbody tr th {\n",
       "        vertical-align: top;\n",
       "    }\n",
       "\n",
       "    .dataframe thead th {\n",
       "        text-align: right;\n",
       "    }\n",
       "</style>\n",
       "<table border=\"1\" class=\"dataframe\">\n",
       "  <thead>\n",
       "    <tr style=\"text-align: right;\">\n",
       "      <th></th>\n",
       "      <th>id</th>\n",
       "      <th>call_date</th>\n",
       "      <th>duration</th>\n",
       "      <th>user_id</th>\n",
       "    </tr>\n",
       "  </thead>\n",
       "  <tbody>\n",
       "    <tr>\n",
       "      <th>0</th>\n",
       "      <td>1000_0</td>\n",
       "      <td>2018-07-25</td>\n",
       "      <td>0</td>\n",
       "      <td>1000</td>\n",
       "    </tr>\n",
       "    <tr>\n",
       "      <th>1</th>\n",
       "      <td>1000_1</td>\n",
       "      <td>2018-08-17</td>\n",
       "      <td>0</td>\n",
       "      <td>1000</td>\n",
       "    </tr>\n",
       "    <tr>\n",
       "      <th>5</th>\n",
       "      <td>1000_5</td>\n",
       "      <td>2018-11-02</td>\n",
       "      <td>0</td>\n",
       "      <td>1000</td>\n",
       "    </tr>\n",
       "    <tr>\n",
       "      <th>6</th>\n",
       "      <td>1000_6</td>\n",
       "      <td>2018-10-18</td>\n",
       "      <td>0</td>\n",
       "      <td>1000</td>\n",
       "    </tr>\n",
       "    <tr>\n",
       "      <th>9</th>\n",
       "      <td>1000_9</td>\n",
       "      <td>2018-08-15</td>\n",
       "      <td>0</td>\n",
       "      <td>1000</td>\n",
       "    </tr>\n",
       "    <tr>\n",
       "      <th>...</th>\n",
       "      <td>...</td>\n",
       "      <td>...</td>\n",
       "      <td>...</td>\n",
       "      <td>...</td>\n",
       "    </tr>\n",
       "    <tr>\n",
       "      <th>202590</th>\n",
       "      <td>1499_203</td>\n",
       "      <td>2018-12-03</td>\n",
       "      <td>0</td>\n",
       "      <td>1499</td>\n",
       "    </tr>\n",
       "    <tr>\n",
       "      <th>202592</th>\n",
       "      <td>1499_205</td>\n",
       "      <td>2018-10-13</td>\n",
       "      <td>0</td>\n",
       "      <td>1499</td>\n",
       "    </tr>\n",
       "    <tr>\n",
       "      <th>202593</th>\n",
       "      <td>1499_206</td>\n",
       "      <td>2018-12-26</td>\n",
       "      <td>0</td>\n",
       "      <td>1499</td>\n",
       "    </tr>\n",
       "    <tr>\n",
       "      <th>202594</th>\n",
       "      <td>1499_207</td>\n",
       "      <td>2018-10-28</td>\n",
       "      <td>0</td>\n",
       "      <td>1499</td>\n",
       "    </tr>\n",
       "    <tr>\n",
       "      <th>202596</th>\n",
       "      <td>1499_209</td>\n",
       "      <td>2018-12-16</td>\n",
       "      <td>0</td>\n",
       "      <td>1499</td>\n",
       "    </tr>\n",
       "  </tbody>\n",
       "</table>\n",
       "<p>39613 rows × 4 columns</p>\n",
       "</div>"
      ],
      "text/plain": [
       "              id  call_date  duration  user_id\n",
       "0         1000_0 2018-07-25         0     1000\n",
       "1         1000_1 2018-08-17         0     1000\n",
       "5         1000_5 2018-11-02         0     1000\n",
       "6         1000_6 2018-10-18         0     1000\n",
       "9         1000_9 2018-08-15         0     1000\n",
       "...          ...        ...       ...      ...\n",
       "202590  1499_203 2018-12-03         0     1499\n",
       "202592  1499_205 2018-10-13         0     1499\n",
       "202593  1499_206 2018-12-26         0     1499\n",
       "202594  1499_207 2018-10-28         0     1499\n",
       "202596  1499_209 2018-12-16         0     1499\n",
       "\n",
       "[39613 rows x 4 columns]"
      ]
     },
     "execution_count": 20,
     "metadata": {},
     "output_type": "execute_result"
    }
   ],
   "source": [
    "calls[calls['duration']==0]"
   ]
  },
  {
   "cell_type": "markdown",
   "id": "bf9778b7",
   "metadata": {},
   "source": [
    "почти 40 тысяч звонков оказались нулевыми. Эти звонки могут быть пропущенными, сеть пропадала, или скидывали звонки, либо стоял авиарежим.\n",
    "<br>\n",
    "Оставляем как есть."
   ]
  },
  {
   "cell_type": "code",
   "execution_count": 21,
   "id": "34c5816a",
   "metadata": {},
   "outputs": [],
   "source": [
    "#calls.loc[calls['duration']==0,'duration'] = np.NaN"
   ]
  },
  {
   "cell_type": "markdown",
   "id": "6e047cfd",
   "metadata": {},
   "source": [
    "<b>Теперь посмотрим на распредение интернет-трафика:\n"
   ]
  },
  {
   "cell_type": "code",
   "execution_count": 22,
   "id": "4021a0a7",
   "metadata": {},
   "outputs": [
    {
     "data": {
      "text/plain": [
       "<AxesSubplot:ylabel='Frequency'>"
      ]
     },
     "execution_count": 22,
     "metadata": {},
     "output_type": "execute_result"
    },
    {
     "data": {
      "image/png": "[encoded data removed]",
      "text/plain": [
       "<Figure size 432x288 with 1 Axes>"
      ]
     },
     "metadata": {
      "needs_background": "light"
     },
     "output_type": "display_data"
    }
   ],
   "source": [
    "internet['mb_used'].plot(kind='hist', ec='black', bins=50)"
   ]
  },
  {
   "cell_type": "markdown",
   "id": "7e736814",
   "metadata": {},
   "source": [
    "посмотрим на нулевые"
   ]
  },
  {
   "cell_type": "code",
   "execution_count": 23,
   "id": "25b63bbc",
   "metadata": {},
   "outputs": [
    {
     "data": {
      "text/html": [
       "<div>\n",
       "<style scoped>\n",
       "    .dataframe tbody tr th:only-of-type {\n",
       "        vertical-align: middle;\n",
       "    }\n",
       "\n",
       "    .dataframe tbody tr th {\n",
       "        vertical-align: top;\n",
       "    }\n",
       "\n",
       "    .dataframe thead th {\n",
       "        text-align: right;\n",
       "    }\n",
       "</style>\n",
       "<table border=\"1\" class=\"dataframe\">\n",
       "  <thead>\n",
       "    <tr style=\"text-align: right;\">\n",
       "      <th></th>\n",
       "      <th>id</th>\n",
       "      <th>mb_used</th>\n",
       "      <th>session_date</th>\n",
       "      <th>user_id</th>\n",
       "    </tr>\n",
       "  </thead>\n",
       "  <tbody>\n",
       "    <tr>\n",
       "      <th>11</th>\n",
       "      <td>1000_11</td>\n",
       "      <td>0.0</td>\n",
       "      <td>2018-08-28</td>\n",
       "      <td>1000</td>\n",
       "    </tr>\n",
       "    <tr>\n",
       "      <th>38</th>\n",
       "      <td>1000_38</td>\n",
       "      <td>0.0</td>\n",
       "      <td>2018-11-27</td>\n",
       "      <td>1000</td>\n",
       "    </tr>\n",
       "    <tr>\n",
       "      <th>46</th>\n",
       "      <td>1000_46</td>\n",
       "      <td>0.0</td>\n",
       "      <td>2018-06-30</td>\n",
       "      <td>1000</td>\n",
       "    </tr>\n",
       "    <tr>\n",
       "      <th>67</th>\n",
       "      <td>1000_67</td>\n",
       "      <td>0.0</td>\n",
       "      <td>2018-06-16</td>\n",
       "      <td>1000</td>\n",
       "    </tr>\n",
       "    <tr>\n",
       "      <th>72</th>\n",
       "      <td>1000_72</td>\n",
       "      <td>0.0</td>\n",
       "      <td>2018-06-15</td>\n",
       "      <td>1000</td>\n",
       "    </tr>\n",
       "    <tr>\n",
       "      <th>...</th>\n",
       "      <td>...</td>\n",
       "      <td>...</td>\n",
       "      <td>...</td>\n",
       "      <td>...</td>\n",
       "    </tr>\n",
       "    <tr>\n",
       "      <th>149380</th>\n",
       "      <td>1499_141</td>\n",
       "      <td>0.0</td>\n",
       "      <td>2018-12-11</td>\n",
       "      <td>1499</td>\n",
       "    </tr>\n",
       "    <tr>\n",
       "      <th>149381</th>\n",
       "      <td>1499_142</td>\n",
       "      <td>0.0</td>\n",
       "      <td>2018-11-01</td>\n",
       "      <td>1499</td>\n",
       "    </tr>\n",
       "    <tr>\n",
       "      <th>149383</th>\n",
       "      <td>1499_144</td>\n",
       "      <td>0.0</td>\n",
       "      <td>2018-11-27</td>\n",
       "      <td>1499</td>\n",
       "    </tr>\n",
       "    <tr>\n",
       "      <th>149386</th>\n",
       "      <td>1499_147</td>\n",
       "      <td>0.0</td>\n",
       "      <td>2018-10-21</td>\n",
       "      <td>1499</td>\n",
       "    </tr>\n",
       "    <tr>\n",
       "      <th>149393</th>\n",
       "      <td>1499_154</td>\n",
       "      <td>0.0</td>\n",
       "      <td>2018-10-27</td>\n",
       "      <td>1499</td>\n",
       "    </tr>\n",
       "  </tbody>\n",
       "</table>\n",
       "<p>19598 rows × 4 columns</p>\n",
       "</div>"
      ],
      "text/plain": [
       "              id  mb_used session_date  user_id\n",
       "11       1000_11      0.0   2018-08-28     1000\n",
       "38       1000_38      0.0   2018-11-27     1000\n",
       "46       1000_46      0.0   2018-06-30     1000\n",
       "67       1000_67      0.0   2018-06-16     1000\n",
       "72       1000_72      0.0   2018-06-15     1000\n",
       "...          ...      ...          ...      ...\n",
       "149380  1499_141      0.0   2018-12-11     1499\n",
       "149381  1499_142      0.0   2018-11-01     1499\n",
       "149383  1499_144      0.0   2018-11-27     1499\n",
       "149386  1499_147      0.0   2018-10-21     1499\n",
       "149393  1499_154      0.0   2018-10-27     1499\n",
       "\n",
       "[19598 rows x 4 columns]"
      ]
     },
     "execution_count": 23,
     "metadata": {},
     "output_type": "execute_result"
    }
   ],
   "source": [
    "internet[internet['mb_used']==0]"
   ]
  },
  {
   "cell_type": "code",
   "execution_count": 24,
   "id": "3414fb54",
   "metadata": {},
   "outputs": [
    {
     "data": {
      "text/plain": [
       "0"
      ]
     },
     "execution_count": 24,
     "metadata": {},
     "output_type": "execute_result"
    }
   ],
   "source": [
    "internet['mb_used'].isna().sum()"
   ]
  },
  {
   "cell_type": "markdown",
   "id": "4a16140f",
   "metadata": {},
   "source": [
    "Таких значений аж 20 тысяч, оставляем как есть."
   ]
  },
  {
   "cell_type": "markdown",
   "id": "58407b3b",
   "metadata": {},
   "source": [
    "Округлять не будем, так как интернет считается как сумма Мб за месяц и там уже округляется до целых Гб."
   ]
  },
  {
   "cell_type": "markdown",
   "id": "700775f7",
   "metadata": {},
   "source": [
    "***"
   ]
  },
  {
   "cell_type": "markdown",
   "id": "011446ce",
   "metadata": {},
   "source": [
    "<b>Посчитайте для каждого пользователя:\n"
   ]
  },
  {
   "cell_type": "markdown",
   "id": "1cab3b8c",
   "metadata": {},
   "source": [
    "### Сводная таблица по звонкам, сообщениям, потраченному интернету\n",
    "- количество сделанных звонков и израсходованных минут разговора по месяцам;\n",
    "- количество отправленных сообщений по месяцам;\n",
    "- объем израсходованного интернет-трафика по месяцам;"
   ]
  },
  {
   "cell_type": "markdown",
   "id": "972e3a46",
   "metadata": {},
   "source": [
    "Создадим в каждой таблице столбец с месяцем. Для этого напишем функцию."
   ]
  },
  {
   "cell_type": "code",
   "execution_count": 26,
   "id": "e5214fb9",
   "metadata": {},
   "outputs": [],
   "source": [
    "def month_col(datas):\n",
    "    for df in datas:\n",
    "        for col in df.columns:\n",
    "            if 'date'in col and col != 'churn_date':\n",
    "                df['month'] = df[col].dt.month"
   ]
  },
  {
   "cell_type": "code",
   "execution_count": 27,
   "id": "6c75cbc0",
   "metadata": {},
   "outputs": [],
   "source": [
    "month_col([users, calls, messages, internet])"
   ]
  },
  {
   "cell_type": "markdown",
   "id": "f75a1fa5",
   "metadata": {},
   "source": [
    "***"
   ]
  },
  {
   "cell_type": "markdown",
   "id": "1aef3137",
   "metadata": {},
   "source": [
    "<b>Создадим таблицу с посчитанными данными:<br>\n",
    "1. сгруппируем необходимые данные в таблицах\n",
    "2. объединим их\n",
    "3. обновим индекс"
   ]
  },
  {
   "cell_type": "code",
   "execution_count": 28,
   "id": "69039396",
   "metadata": {},
   "outputs": [],
   "source": [
    "calls_num = calls.groupby(['user_id', 'month'])['duration'].agg(['count', 'sum'])\n",
    "messages_num = messages.groupby(['user_id', 'month'])['id'].count()\n",
    "internet_mb = internet.groupby(['user_id', 'month'])['mb_used'].sum()"
   ]
  },
  {
   "cell_type": "code",
   "execution_count": 29,
   "id": "f099fa75",
   "metadata": {},
   "outputs": [
    {
     "data": {
      "text/html": [
       "<div>\n",
       "<style scoped>\n",
       "    .dataframe tbody tr th:only-of-type {\n",
       "        vertical-align: middle;\n",
       "    }\n",
       "\n",
       "    .dataframe tbody tr th {\n",
       "        vertical-align: top;\n",
       "    }\n",
       "\n",
       "    .dataframe thead th {\n",
       "        text-align: right;\n",
       "    }\n",
       "</style>\n",
       "<table border=\"1\" class=\"dataframe\">\n",
       "  <thead>\n",
       "    <tr style=\"text-align: right;\">\n",
       "      <th></th>\n",
       "      <th>user_id</th>\n",
       "      <th>month</th>\n",
       "      <th>count</th>\n",
       "      <th>sum</th>\n",
       "      <th>id</th>\n",
       "      <th>mb_used</th>\n",
       "    </tr>\n",
       "  </thead>\n",
       "  <tbody>\n",
       "    <tr>\n",
       "      <th>0</th>\n",
       "      <td>1000</td>\n",
       "      <td>5</td>\n",
       "      <td>22.0</td>\n",
       "      <td>159.0</td>\n",
       "      <td>22.0</td>\n",
       "      <td>2253.49</td>\n",
       "    </tr>\n",
       "    <tr>\n",
       "      <th>1</th>\n",
       "      <td>1000</td>\n",
       "      <td>6</td>\n",
       "      <td>43.0</td>\n",
       "      <td>172.0</td>\n",
       "      <td>60.0</td>\n",
       "      <td>23233.77</td>\n",
       "    </tr>\n",
       "    <tr>\n",
       "      <th>2</th>\n",
       "      <td>1000</td>\n",
       "      <td>7</td>\n",
       "      <td>47.0</td>\n",
       "      <td>340.0</td>\n",
       "      <td>75.0</td>\n",
       "      <td>14003.64</td>\n",
       "    </tr>\n",
       "    <tr>\n",
       "      <th>3</th>\n",
       "      <td>1000</td>\n",
       "      <td>8</td>\n",
       "      <td>52.0</td>\n",
       "      <td>408.0</td>\n",
       "      <td>81.0</td>\n",
       "      <td>14055.93</td>\n",
       "    </tr>\n",
       "    <tr>\n",
       "      <th>4</th>\n",
       "      <td>1000</td>\n",
       "      <td>9</td>\n",
       "      <td>58.0</td>\n",
       "      <td>466.0</td>\n",
       "      <td>57.0</td>\n",
       "      <td>14568.91</td>\n",
       "    </tr>\n",
       "  </tbody>\n",
       "</table>\n",
       "</div>"
      ],
      "text/plain": [
       "   user_id  month  count    sum    id   mb_used\n",
       "0     1000      5   22.0  159.0  22.0   2253.49\n",
       "1     1000      6   43.0  172.0  60.0  23233.77\n",
       "2     1000      7   47.0  340.0  75.0  14003.64\n",
       "3     1000      8   52.0  408.0  81.0  14055.93\n",
       "4     1000      9   58.0  466.0  57.0  14568.91"
      ]
     },
     "execution_count": 29,
     "metadata": {},
     "output_type": "execute_result"
    }
   ],
   "source": [
    "group_table = pd.concat([calls_num, messages_num, internet_mb], axis=1)\n",
    "group_table = group_table.reset_index()\n",
    "group_table.head()"
   ]
  },
  {
   "cell_type": "markdown",
   "id": "fe946930",
   "metadata": {},
   "source": [
    "<b>Теперь пересчитаем Mb в Gb:"
   ]
  },
  {
   "cell_type": "code",
   "execution_count": 30,
   "id": "fa772dd4",
   "metadata": {},
   "outputs": [],
   "source": [
    "group_table['gb_used'] = (group_table['mb_used']/1024).apply(np.ceil)\n",
    "#group_table['gb_used'] = group_table['gb_used'].astype('int')"
   ]
  },
  {
   "cell_type": "code",
   "execution_count": 31,
   "id": "dec7c970",
   "metadata": {},
   "outputs": [
    {
     "data": {
      "text/html": [
       "<div>\n",
       "<style scoped>\n",
       "    .dataframe tbody tr th:only-of-type {\n",
       "        vertical-align: middle;\n",
       "    }\n",
       "\n",
       "    .dataframe tbody tr th {\n",
       "        vertical-align: top;\n",
       "    }\n",
       "\n",
       "    .dataframe thead th {\n",
       "        text-align: right;\n",
       "    }\n",
       "</style>\n",
       "<table border=\"1\" class=\"dataframe\">\n",
       "  <thead>\n",
       "    <tr style=\"text-align: right;\">\n",
       "      <th></th>\n",
       "      <th>user_id</th>\n",
       "      <th>month</th>\n",
       "      <th>count</th>\n",
       "      <th>sum</th>\n",
       "      <th>id</th>\n",
       "      <th>mb_used</th>\n",
       "      <th>gb_used</th>\n",
       "    </tr>\n",
       "  </thead>\n",
       "  <tbody>\n",
       "    <tr>\n",
       "      <th>0</th>\n",
       "      <td>1000</td>\n",
       "      <td>5</td>\n",
       "      <td>22.0</td>\n",
       "      <td>159.0</td>\n",
       "      <td>22.0</td>\n",
       "      <td>2253.49</td>\n",
       "      <td>3.0</td>\n",
       "    </tr>\n",
       "    <tr>\n",
       "      <th>1</th>\n",
       "      <td>1000</td>\n",
       "      <td>6</td>\n",
       "      <td>43.0</td>\n",
       "      <td>172.0</td>\n",
       "      <td>60.0</td>\n",
       "      <td>23233.77</td>\n",
       "      <td>23.0</td>\n",
       "    </tr>\n",
       "    <tr>\n",
       "      <th>2</th>\n",
       "      <td>1000</td>\n",
       "      <td>7</td>\n",
       "      <td>47.0</td>\n",
       "      <td>340.0</td>\n",
       "      <td>75.0</td>\n",
       "      <td>14003.64</td>\n",
       "      <td>14.0</td>\n",
       "    </tr>\n",
       "    <tr>\n",
       "      <th>3</th>\n",
       "      <td>1000</td>\n",
       "      <td>8</td>\n",
       "      <td>52.0</td>\n",
       "      <td>408.0</td>\n",
       "      <td>81.0</td>\n",
       "      <td>14055.93</td>\n",
       "      <td>14.0</td>\n",
       "    </tr>\n",
       "    <tr>\n",
       "      <th>4</th>\n",
       "      <td>1000</td>\n",
       "      <td>9</td>\n",
       "      <td>58.0</td>\n",
       "      <td>466.0</td>\n",
       "      <td>57.0</td>\n",
       "      <td>14568.91</td>\n",
       "      <td>15.0</td>\n",
       "    </tr>\n",
       "  </tbody>\n",
       "</table>\n",
       "</div>"
      ],
      "text/plain": [
       "   user_id  month  count    sum    id   mb_used  gb_used\n",
       "0     1000      5   22.0  159.0  22.0   2253.49      3.0\n",
       "1     1000      6   43.0  172.0  60.0  23233.77     23.0\n",
       "2     1000      7   47.0  340.0  75.0  14003.64     14.0\n",
       "3     1000      8   52.0  408.0  81.0  14055.93     14.0\n",
       "4     1000      9   58.0  466.0  57.0  14568.91     15.0"
      ]
     },
     "execution_count": 31,
     "metadata": {},
     "output_type": "execute_result"
    }
   ],
   "source": [
    "group_table.head()\n"
   ]
  },
  {
   "cell_type": "code",
   "execution_count": 32,
   "id": "45813431",
   "metadata": {},
   "outputs": [
    {
     "data": {
      "text/plain": [
       "user_id      0\n",
       "month        0\n",
       "count       40\n",
       "sum         40\n",
       "id         497\n",
       "mb_used     11\n",
       "gb_used     11\n",
       "dtype: int64"
      ]
     },
     "execution_count": 32,
     "metadata": {},
     "output_type": "execute_result"
    }
   ],
   "source": [
    "group_table.isna().sum()"
   ]
  },
  {
   "cell_type": "code",
   "execution_count": 33,
   "id": "bcb9f301",
   "metadata": {},
   "outputs": [],
   "source": [
    "group_table = group_table.fillna(0)\n",
    "# так как клиент то был, но не пользовался услугами"
   ]
  },
  {
   "cell_type": "markdown",
   "id": "1823c747",
   "metadata": {},
   "source": [
    "<b>Переименуем столбцы:"
   ]
  },
  {
   "cell_type": "code",
   "execution_count": 34,
   "id": "3238d58f",
   "metadata": {},
   "outputs": [
    {
     "data": {
      "text/html": [
       "<div>\n",
       "<style scoped>\n",
       "    .dataframe tbody tr th:only-of-type {\n",
       "        vertical-align: middle;\n",
       "    }\n",
       "\n",
       "    .dataframe tbody tr th {\n",
       "        vertical-align: top;\n",
       "    }\n",
       "\n",
       "    .dataframe thead th {\n",
       "        text-align: right;\n",
       "    }\n",
       "</style>\n",
       "<table border=\"1\" class=\"dataframe\">\n",
       "  <thead>\n",
       "    <tr style=\"text-align: right;\">\n",
       "      <th></th>\n",
       "      <th>user_id</th>\n",
       "      <th>month</th>\n",
       "      <th>calls_number</th>\n",
       "      <th>minutes_spent</th>\n",
       "      <th>messages_number</th>\n",
       "      <th>mb_used</th>\n",
       "      <th>gb_used</th>\n",
       "    </tr>\n",
       "  </thead>\n",
       "  <tbody>\n",
       "    <tr>\n",
       "      <th>0</th>\n",
       "      <td>1000</td>\n",
       "      <td>5</td>\n",
       "      <td>22.0</td>\n",
       "      <td>159.0</td>\n",
       "      <td>22.0</td>\n",
       "      <td>2253.49</td>\n",
       "      <td>3.0</td>\n",
       "    </tr>\n",
       "    <tr>\n",
       "      <th>1</th>\n",
       "      <td>1000</td>\n",
       "      <td>6</td>\n",
       "      <td>43.0</td>\n",
       "      <td>172.0</td>\n",
       "      <td>60.0</td>\n",
       "      <td>23233.77</td>\n",
       "      <td>23.0</td>\n",
       "    </tr>\n",
       "    <tr>\n",
       "      <th>2</th>\n",
       "      <td>1000</td>\n",
       "      <td>7</td>\n",
       "      <td>47.0</td>\n",
       "      <td>340.0</td>\n",
       "      <td>75.0</td>\n",
       "      <td>14003.64</td>\n",
       "      <td>14.0</td>\n",
       "    </tr>\n",
       "    <tr>\n",
       "      <th>3</th>\n",
       "      <td>1000</td>\n",
       "      <td>8</td>\n",
       "      <td>52.0</td>\n",
       "      <td>408.0</td>\n",
       "      <td>81.0</td>\n",
       "      <td>14055.93</td>\n",
       "      <td>14.0</td>\n",
       "    </tr>\n",
       "    <tr>\n",
       "      <th>4</th>\n",
       "      <td>1000</td>\n",
       "      <td>9</td>\n",
       "      <td>58.0</td>\n",
       "      <td>466.0</td>\n",
       "      <td>57.0</td>\n",
       "      <td>14568.91</td>\n",
       "      <td>15.0</td>\n",
       "    </tr>\n",
       "  </tbody>\n",
       "</table>\n",
       "</div>"
      ],
      "text/plain": [
       "   user_id  month  calls_number  minutes_spent  messages_number   mb_used  \\\n",
       "0     1000      5          22.0          159.0             22.0   2253.49   \n",
       "1     1000      6          43.0          172.0             60.0  23233.77   \n",
       "2     1000      7          47.0          340.0             75.0  14003.64   \n",
       "3     1000      8          52.0          408.0             81.0  14055.93   \n",
       "4     1000      9          58.0          466.0             57.0  14568.91   \n",
       "\n",
       "   gb_used  \n",
       "0      3.0  \n",
       "1     23.0  \n",
       "2     14.0  \n",
       "3     14.0  \n",
       "4     15.0  "
      ]
     },
     "execution_count": 34,
     "metadata": {},
     "output_type": "execute_result"
    }
   ],
   "source": [
    "group_table.columns = ['user_id','month', 'calls_number', 'minutes_spent', 'messages_number','mb_used','gb_used']\n",
    "group_table.head()"
   ]
  },
  {
   "cell_type": "markdown",
   "id": "1632d95a",
   "metadata": {},
   "source": [
    "### помесячная выручка с каждого пользователя \n",
    "(вычтите бесплатный лимит из суммарного количества звонков, сообщений и интернет-трафика; остаток умножьте на значение из тарифного плана; прибавьте абонентскую плату, соответствующую тарифному плану)."
   ]
  },
  {
   "cell_type": "markdown",
   "id": "1d8f2650",
   "metadata": {},
   "source": [
    "<b>Добавим столбцы с тарифом и городом:"
   ]
  },
  {
   "cell_type": "code",
   "execution_count": 35,
   "id": "c5551c9e",
   "metadata": {},
   "outputs": [],
   "source": [
    "group_table = group_table.merge(users[['user_id','tariff','city']], on='user_id')"
   ]
  },
  {
   "cell_type": "code",
   "execution_count": 36,
   "id": "8b8d7471",
   "metadata": {},
   "outputs": [
    {
     "data": {
      "text/html": [
       "<div>\n",
       "<style scoped>\n",
       "    .dataframe tbody tr th:only-of-type {\n",
       "        vertical-align: middle;\n",
       "    }\n",
       "\n",
       "    .dataframe tbody tr th {\n",
       "        vertical-align: top;\n",
       "    }\n",
       "\n",
       "    .dataframe thead th {\n",
       "        text-align: right;\n",
       "    }\n",
       "</style>\n",
       "<table border=\"1\" class=\"dataframe\">\n",
       "  <thead>\n",
       "    <tr style=\"text-align: right;\">\n",
       "      <th></th>\n",
       "      <th>user_id</th>\n",
       "      <th>month</th>\n",
       "      <th>calls_number</th>\n",
       "      <th>minutes_spent</th>\n",
       "      <th>messages_number</th>\n",
       "      <th>mb_used</th>\n",
       "      <th>gb_used</th>\n",
       "      <th>tariff</th>\n",
       "      <th>city</th>\n",
       "    </tr>\n",
       "  </thead>\n",
       "  <tbody>\n",
       "    <tr>\n",
       "      <th>0</th>\n",
       "      <td>1000</td>\n",
       "      <td>5</td>\n",
       "      <td>22.0</td>\n",
       "      <td>159.0</td>\n",
       "      <td>22.0</td>\n",
       "      <td>2253.49</td>\n",
       "      <td>3.0</td>\n",
       "      <td>ultra</td>\n",
       "      <td>Краснодар</td>\n",
       "    </tr>\n",
       "    <tr>\n",
       "      <th>1</th>\n",
       "      <td>1000</td>\n",
       "      <td>6</td>\n",
       "      <td>43.0</td>\n",
       "      <td>172.0</td>\n",
       "      <td>60.0</td>\n",
       "      <td>23233.77</td>\n",
       "      <td>23.0</td>\n",
       "      <td>ultra</td>\n",
       "      <td>Краснодар</td>\n",
       "    </tr>\n",
       "    <tr>\n",
       "      <th>2</th>\n",
       "      <td>1000</td>\n",
       "      <td>7</td>\n",
       "      <td>47.0</td>\n",
       "      <td>340.0</td>\n",
       "      <td>75.0</td>\n",
       "      <td>14003.64</td>\n",
       "      <td>14.0</td>\n",
       "      <td>ultra</td>\n",
       "      <td>Краснодар</td>\n",
       "    </tr>\n",
       "    <tr>\n",
       "      <th>3</th>\n",
       "      <td>1000</td>\n",
       "      <td>8</td>\n",
       "      <td>52.0</td>\n",
       "      <td>408.0</td>\n",
       "      <td>81.0</td>\n",
       "      <td>14055.93</td>\n",
       "      <td>14.0</td>\n",
       "      <td>ultra</td>\n",
       "      <td>Краснодар</td>\n",
       "    </tr>\n",
       "    <tr>\n",
       "      <th>4</th>\n",
       "      <td>1000</td>\n",
       "      <td>9</td>\n",
       "      <td>58.0</td>\n",
       "      <td>466.0</td>\n",
       "      <td>57.0</td>\n",
       "      <td>14568.91</td>\n",
       "      <td>15.0</td>\n",
       "      <td>ultra</td>\n",
       "      <td>Краснодар</td>\n",
       "    </tr>\n",
       "  </tbody>\n",
       "</table>\n",
       "</div>"
      ],
      "text/plain": [
       "   user_id  month  calls_number  minutes_spent  messages_number   mb_used  \\\n",
       "0     1000      5          22.0          159.0             22.0   2253.49   \n",
       "1     1000      6          43.0          172.0             60.0  23233.77   \n",
       "2     1000      7          47.0          340.0             75.0  14003.64   \n",
       "3     1000      8          52.0          408.0             81.0  14055.93   \n",
       "4     1000      9          58.0          466.0             57.0  14568.91   \n",
       "\n",
       "   gb_used tariff       city  \n",
       "0      3.0  ultra  Краснодар  \n",
       "1     23.0  ultra  Краснодар  \n",
       "2     14.0  ultra  Краснодар  \n",
       "3     14.0  ultra  Краснодар  \n",
       "4     15.0  ultra  Краснодар  "
      ]
     },
     "execution_count": 36,
     "metadata": {},
     "output_type": "execute_result"
    }
   ],
   "source": [
    "group_table.head()"
   ]
  },
  {
   "cell_type": "code",
   "execution_count": 37,
   "id": "492b2503",
   "metadata": {
    "scrolled": true
   },
   "outputs": [
    {
     "name": "stdout",
     "output_type": "stream",
     "text": [
      "<class 'pandas.core.frame.DataFrame'>\n",
      "Int64Index: 3214 entries, 0 to 3213\n",
      "Data columns (total 9 columns):\n",
      " #   Column           Non-Null Count  Dtype  \n",
      "---  ------           --------------  -----  \n",
      " 0   user_id          3214 non-null   int64  \n",
      " 1   month            3214 non-null   int64  \n",
      " 2   calls_number     3214 non-null   float64\n",
      " 3   minutes_spent    3214 non-null   float64\n",
      " 4   messages_number  3214 non-null   float64\n",
      " 5   mb_used          3214 non-null   float64\n",
      " 6   gb_used          3214 non-null   float64\n",
      " 7   tariff           3214 non-null   object \n",
      " 8   city             3214 non-null   object \n",
      "dtypes: float64(5), int64(2), object(2)\n",
      "memory usage: 251.1+ KB\n"
     ]
    }
   ],
   "source": [
    "group_table.info()"
   ]
  },
  {
   "cell_type": "markdown",
   "id": "fcdbe16f",
   "metadata": {},
   "source": [
    "Видим, что есть нулевые значения в calls_number, minutes_spent, messages_number,gb_used. Можно посмотреть совпадают ли эти люди:"
   ]
  },
  {
   "cell_type": "code",
   "execution_count": 38,
   "id": "91d9ec8c",
   "metadata": {},
   "outputs": [
    {
     "data": {
      "text/html": [
       "<div>\n",
       "<style scoped>\n",
       "    .dataframe tbody tr th:only-of-type {\n",
       "        vertical-align: middle;\n",
       "    }\n",
       "\n",
       "    .dataframe tbody tr th {\n",
       "        vertical-align: top;\n",
       "    }\n",
       "\n",
       "    .dataframe thead th {\n",
       "        text-align: right;\n",
       "    }\n",
       "</style>\n",
       "<table border=\"1\" class=\"dataframe\">\n",
       "  <thead>\n",
       "    <tr style=\"text-align: right;\">\n",
       "      <th></th>\n",
       "      <th>user_id</th>\n",
       "      <th>month</th>\n",
       "      <th>calls_number</th>\n",
       "      <th>minutes_spent</th>\n",
       "      <th>messages_number</th>\n",
       "      <th>mb_used</th>\n",
       "      <th>gb_used</th>\n",
       "      <th>tariff</th>\n",
       "      <th>city</th>\n",
       "    </tr>\n",
       "  </thead>\n",
       "  <tbody>\n",
       "  </tbody>\n",
       "</table>\n",
       "</div>"
      ],
      "text/plain": [
       "Empty DataFrame\n",
       "Columns: [user_id, month, calls_number, minutes_spent, messages_number, mb_used, gb_used, tariff, city]\n",
       "Index: []"
      ]
     },
     "execution_count": 38,
     "metadata": {},
     "output_type": "execute_result"
    }
   ],
   "source": [
    "group_table[(group_table['calls_number'].isnull()) & (group_table['messages_number'].isnull()) &\n",
    "                 (group_table['gb_used'].isnull())]"
   ]
  },
  {
   "cell_type": "markdown",
   "id": "83656453",
   "metadata": {},
   "source": [
    "Таких нет, значит есть люди, которые не пользовались в течение какого-то месяца одной из функций (звонками, сообщениями, интернетом).\n",
    "<br>\n",
    "Таким образом можно везде этим людям проставить нули."
   ]
  },
  {
   "cell_type": "code",
   "execution_count": 39,
   "id": "f33fddf6",
   "metadata": {},
   "outputs": [],
   "source": [
    "group_table = group_table.fillna(0)"
   ]
  },
  {
   "cell_type": "code",
   "execution_count": 40,
   "id": "0e6bfede",
   "metadata": {},
   "outputs": [
    {
     "name": "stdout",
     "output_type": "stream",
     "text": [
      "<class 'pandas.core.frame.DataFrame'>\n",
      "Int64Index: 3214 entries, 0 to 3213\n",
      "Data columns (total 9 columns):\n",
      " #   Column           Non-Null Count  Dtype  \n",
      "---  ------           --------------  -----  \n",
      " 0   user_id          3214 non-null   int64  \n",
      " 1   month            3214 non-null   int64  \n",
      " 2   calls_number     3214 non-null   float64\n",
      " 3   minutes_spent    3214 non-null   float64\n",
      " 4   messages_number  3214 non-null   float64\n",
      " 5   mb_used          3214 non-null   float64\n",
      " 6   gb_used          3214 non-null   float64\n",
      " 7   tariff           3214 non-null   object \n",
      " 8   city             3214 non-null   object \n",
      "dtypes: float64(5), int64(2), object(2)\n",
      "memory usage: 251.1+ KB\n"
     ]
    }
   ],
   "source": [
    "group_table.info()"
   ]
  },
  {
   "cell_type": "markdown",
   "id": "142060cc",
   "metadata": {},
   "source": [
    "Проверили, заполнение прошло успешно."
   ]
  },
  {
   "cell_type": "markdown",
   "id": "2ff937d8",
   "metadata": {},
   "source": [
    "***"
   ]
  },
  {
   "cell_type": "markdown",
   "id": "69f2f463",
   "metadata": {},
   "source": [
    "Для начала переведем включенные в тариф мегабайты в Гб, так как выше я уже все пересчитала в Гб."
   ]
  },
  {
   "cell_type": "code",
   "execution_count": 41,
   "id": "75ba8fb1",
   "metadata": {},
   "outputs": [],
   "source": [
    "tariffs['gb_per_month_included'] = tariffs['mb_per_month_included']/1024"
   ]
  },
  {
   "cell_type": "markdown",
   "id": "b4c3adda",
   "metadata": {},
   "source": [
    "Заменим название столбца, чтобы можно было объединить таблицы."
   ]
  },
  {
   "cell_type": "code",
   "execution_count": 42,
   "id": "fe9f3f3a",
   "metadata": {},
   "outputs": [],
   "source": [
    "tariffs = tariffs.rename(columns = {'tariff_name':'tariff'})"
   ]
  },
  {
   "cell_type": "code",
   "execution_count": 43,
   "id": "630c6295",
   "metadata": {},
   "outputs": [
    {
     "data": {
      "text/html": [
       "<div>\n",
       "<style scoped>\n",
       "    .dataframe tbody tr th:only-of-type {\n",
       "        vertical-align: middle;\n",
       "    }\n",
       "\n",
       "    .dataframe tbody tr th {\n",
       "        vertical-align: top;\n",
       "    }\n",
       "\n",
       "    .dataframe thead th {\n",
       "        text-align: right;\n",
       "    }\n",
       "</style>\n",
       "<table border=\"1\" class=\"dataframe\">\n",
       "  <thead>\n",
       "    <tr style=\"text-align: right;\">\n",
       "      <th></th>\n",
       "      <th>messages_included</th>\n",
       "      <th>mb_per_month_included</th>\n",
       "      <th>minutes_included</th>\n",
       "      <th>rub_monthly_fee</th>\n",
       "      <th>rub_per_gb</th>\n",
       "      <th>rub_per_message</th>\n",
       "      <th>rub_per_minute</th>\n",
       "      <th>tariff</th>\n",
       "      <th>gb_per_month_included</th>\n",
       "    </tr>\n",
       "  </thead>\n",
       "  <tbody>\n",
       "    <tr>\n",
       "      <th>0</th>\n",
       "      <td>50</td>\n",
       "      <td>15360</td>\n",
       "      <td>500</td>\n",
       "      <td>550</td>\n",
       "      <td>200</td>\n",
       "      <td>3</td>\n",
       "      <td>3</td>\n",
       "      <td>smart</td>\n",
       "      <td>15.0</td>\n",
       "    </tr>\n",
       "    <tr>\n",
       "      <th>1</th>\n",
       "      <td>1000</td>\n",
       "      <td>30720</td>\n",
       "      <td>3000</td>\n",
       "      <td>1950</td>\n",
       "      <td>150</td>\n",
       "      <td>1</td>\n",
       "      <td>1</td>\n",
       "      <td>ultra</td>\n",
       "      <td>30.0</td>\n",
       "    </tr>\n",
       "  </tbody>\n",
       "</table>\n",
       "</div>"
      ],
      "text/plain": [
       "   messages_included  mb_per_month_included  minutes_included  \\\n",
       "0                 50                  15360               500   \n",
       "1               1000                  30720              3000   \n",
       "\n",
       "   rub_monthly_fee  rub_per_gb  rub_per_message  rub_per_minute tariff  \\\n",
       "0              550         200                3               3  smart   \n",
       "1             1950         150                1               1  ultra   \n",
       "\n",
       "   gb_per_month_included  \n",
       "0                   15.0  \n",
       "1                   30.0  "
      ]
     },
     "execution_count": 43,
     "metadata": {},
     "output_type": "execute_result"
    }
   ],
   "source": [
    "tariffs.head()"
   ]
  },
  {
   "cell_type": "markdown",
   "id": "19fb26e3",
   "metadata": {},
   "source": [
    "Напишем функции, которые находят стоимость звонков, сообщений, интернета сверх включенных в тариф."
   ]
  },
  {
   "cell_type": "code",
   "execution_count": 44,
   "id": "9ec5a9f5",
   "metadata": {},
   "outputs": [],
   "source": [
    "def minutes_extra(row):\n",
    "    for i in range(len(tariffs)):\n",
    "        if row['tariff'] == tariffs['tariff'][i]:\n",
    "            if row['minutes_spent']>=tariffs['minutes_included'][i]:\n",
    "                summ = (row['minutes_spent'] - tariffs['minutes_included'][i])*tariffs['rub_per_minute'][i]\n",
    "            else:\n",
    "                summ = 0\n",
    "    return summ"
   ]
  },
  {
   "cell_type": "code",
   "execution_count": 45,
   "id": "7c7105b5",
   "metadata": {},
   "outputs": [],
   "source": [
    "def mesaages_extra(row):\n",
    "    for i in range(len(tariffs)):\n",
    "        if row['tariff'] == tariffs['tariff'][i]:\n",
    "            if row['messages_number']>=tariffs['messages_included'][i]:\n",
    "                summ = (row['messages_number'] - tariffs['messages_included'][i])*tariffs['rub_per_message'][i]\n",
    "            else:\n",
    "                summ = 0\n",
    "    return summ"
   ]
  },
  {
   "cell_type": "code",
   "execution_count": 46,
   "id": "6ef67a5d",
   "metadata": {},
   "outputs": [],
   "source": [
    "def internet_extra(row):\n",
    "    for i in range(len(tariffs)):\n",
    "        if row['tariff'] == tariffs['tariff'][i]:\n",
    "            if row['mb_used']>=tariffs['mb_per_month_included'][i]:\n",
    "                summ = (row['gb_used'] - tariffs['gb_per_month_included'][i])*tariffs['rub_per_gb'][i]\n",
    "            else:\n",
    "                summ = 0\n",
    "    return summ"
   ]
  },
  {
   "cell_type": "markdown",
   "id": "25612fd0",
   "metadata": {},
   "source": [
    "Дабвим оплату тарифов в нашу общую таблицу."
   ]
  },
  {
   "cell_type": "code",
   "execution_count": 47,
   "id": "5c85f07b",
   "metadata": {},
   "outputs": [],
   "source": [
    "group_table = group_table.merge(tariffs[['tariff','rub_monthly_fee']], on='tariff')"
   ]
  },
  {
   "cell_type": "markdown",
   "id": "1482b0cf",
   "metadata": {},
   "source": [
    "Применим функции и сложим абонентскую плату с оплатой сверх тарифа."
   ]
  },
  {
   "cell_type": "code",
   "execution_count": 48,
   "id": "787798f6",
   "metadata": {},
   "outputs": [],
   "source": [
    "group_table['price_extra_minutes'] = group_table.apply(minutes_extra, axis = 1)\n",
    "group_table['price_extra_messages'] = group_table.apply(mesaages_extra, axis = 1)\n",
    "group_table['price_extra_internet'] = group_table.apply(internet_extra, axis = 1)\n",
    "group_table['month_revenue'] = group_table['price_extra_minutes'] + group_table['price_extra_messages']+ group_table['price_extra_internet']+ group_table['rub_monthly_fee']"
   ]
  },
  {
   "cell_type": "code",
   "execution_count": 70,
   "id": "809e003d",
   "metadata": {},
   "outputs": [
    {
     "data": {
      "text/html": [
       "<div>\n",
       "<style scoped>\n",
       "    .dataframe tbody tr th:only-of-type {\n",
       "        vertical-align: middle;\n",
       "    }\n",
       "\n",
       "    .dataframe tbody tr th {\n",
       "        vertical-align: top;\n",
       "    }\n",
       "\n",
       "    .dataframe thead th {\n",
       "        text-align: right;\n",
       "    }\n",
       "</style>\n",
       "<table border=\"1\" class=\"dataframe\">\n",
       "  <thead>\n",
       "    <tr style=\"text-align: right;\">\n",
       "      <th></th>\n",
       "      <th>user_id</th>\n",
       "      <th>month</th>\n",
       "      <th>calls_number</th>\n",
       "      <th>minutes_spent</th>\n",
       "      <th>messages_number</th>\n",
       "      <th>mb_used</th>\n",
       "      <th>gb_used</th>\n",
       "      <th>tariff</th>\n",
       "      <th>city</th>\n",
       "      <th>rub_monthly_fee</th>\n",
       "      <th>price_extra_minutes</th>\n",
       "      <th>price_extra_messages</th>\n",
       "      <th>price_extra_internet</th>\n",
       "      <th>month_revenue</th>\n",
       "    </tr>\n",
       "  </thead>\n",
       "  <tbody>\n",
       "    <tr>\n",
       "      <th>0</th>\n",
       "      <td>1000</td>\n",
       "      <td>5</td>\n",
       "      <td>22.0</td>\n",
       "      <td>159.0</td>\n",
       "      <td>22.0</td>\n",
       "      <td>2253.49</td>\n",
       "      <td>3.0</td>\n",
       "      <td>ultra</td>\n",
       "      <td>Краснодар</td>\n",
       "      <td>1950</td>\n",
       "      <td>0.0</td>\n",
       "      <td>0.0</td>\n",
       "      <td>0.0</td>\n",
       "      <td>1950.0</td>\n",
       "    </tr>\n",
       "    <tr>\n",
       "      <th>1</th>\n",
       "      <td>1000</td>\n",
       "      <td>6</td>\n",
       "      <td>43.0</td>\n",
       "      <td>172.0</td>\n",
       "      <td>60.0</td>\n",
       "      <td>23233.77</td>\n",
       "      <td>23.0</td>\n",
       "      <td>ultra</td>\n",
       "      <td>Краснодар</td>\n",
       "      <td>1950</td>\n",
       "      <td>0.0</td>\n",
       "      <td>0.0</td>\n",
       "      <td>0.0</td>\n",
       "      <td>1950.0</td>\n",
       "    </tr>\n",
       "    <tr>\n",
       "      <th>2</th>\n",
       "      <td>1000</td>\n",
       "      <td>7</td>\n",
       "      <td>47.0</td>\n",
       "      <td>340.0</td>\n",
       "      <td>75.0</td>\n",
       "      <td>14003.64</td>\n",
       "      <td>14.0</td>\n",
       "      <td>ultra</td>\n",
       "      <td>Краснодар</td>\n",
       "      <td>1950</td>\n",
       "      <td>0.0</td>\n",
       "      <td>0.0</td>\n",
       "      <td>0.0</td>\n",
       "      <td>1950.0</td>\n",
       "    </tr>\n",
       "    <tr>\n",
       "      <th>3</th>\n",
       "      <td>1000</td>\n",
       "      <td>8</td>\n",
       "      <td>52.0</td>\n",
       "      <td>408.0</td>\n",
       "      <td>81.0</td>\n",
       "      <td>14055.93</td>\n",
       "      <td>14.0</td>\n",
       "      <td>ultra</td>\n",
       "      <td>Краснодар</td>\n",
       "      <td>1950</td>\n",
       "      <td>0.0</td>\n",
       "      <td>0.0</td>\n",
       "      <td>0.0</td>\n",
       "      <td>1950.0</td>\n",
       "    </tr>\n",
       "    <tr>\n",
       "      <th>4</th>\n",
       "      <td>1000</td>\n",
       "      <td>9</td>\n",
       "      <td>58.0</td>\n",
       "      <td>466.0</td>\n",
       "      <td>57.0</td>\n",
       "      <td>14568.91</td>\n",
       "      <td>15.0</td>\n",
       "      <td>ultra</td>\n",
       "      <td>Краснодар</td>\n",
       "      <td>1950</td>\n",
       "      <td>0.0</td>\n",
       "      <td>0.0</td>\n",
       "      <td>0.0</td>\n",
       "      <td>1950.0</td>\n",
       "    </tr>\n",
       "    <tr>\n",
       "      <th>5</th>\n",
       "      <td>1000</td>\n",
       "      <td>10</td>\n",
       "      <td>57.0</td>\n",
       "      <td>350.0</td>\n",
       "      <td>73.0</td>\n",
       "      <td>14702.49</td>\n",
       "      <td>15.0</td>\n",
       "      <td>ultra</td>\n",
       "      <td>Краснодар</td>\n",
       "      <td>1950</td>\n",
       "      <td>0.0</td>\n",
       "      <td>0.0</td>\n",
       "      <td>0.0</td>\n",
       "      <td>1950.0</td>\n",
       "    </tr>\n",
       "    <tr>\n",
       "      <th>6</th>\n",
       "      <td>1000</td>\n",
       "      <td>11</td>\n",
       "      <td>43.0</td>\n",
       "      <td>338.0</td>\n",
       "      <td>58.0</td>\n",
       "      <td>14756.47</td>\n",
       "      <td>15.0</td>\n",
       "      <td>ultra</td>\n",
       "      <td>Краснодар</td>\n",
       "      <td>1950</td>\n",
       "      <td>0.0</td>\n",
       "      <td>0.0</td>\n",
       "      <td>0.0</td>\n",
       "      <td>1950.0</td>\n",
       "    </tr>\n",
       "    <tr>\n",
       "      <th>7</th>\n",
       "      <td>1000</td>\n",
       "      <td>12</td>\n",
       "      <td>46.0</td>\n",
       "      <td>333.0</td>\n",
       "      <td>70.0</td>\n",
       "      <td>9817.61</td>\n",
       "      <td>10.0</td>\n",
       "      <td>ultra</td>\n",
       "      <td>Краснодар</td>\n",
       "      <td>1950</td>\n",
       "      <td>0.0</td>\n",
       "      <td>0.0</td>\n",
       "      <td>0.0</td>\n",
       "      <td>1950.0</td>\n",
       "    </tr>\n",
       "    <tr>\n",
       "      <th>986</th>\n",
       "      <td>1001</td>\n",
       "      <td>12</td>\n",
       "      <td>63.0</td>\n",
       "      <td>414.0</td>\n",
       "      <td>0.0</td>\n",
       "      <td>14036.66</td>\n",
       "      <td>14.0</td>\n",
       "      <td>smart</td>\n",
       "      <td>Москва</td>\n",
       "      <td>550</td>\n",
       "      <td>0.0</td>\n",
       "      <td>0.0</td>\n",
       "      <td>0.0</td>\n",
       "      <td>550.0</td>\n",
       "    </tr>\n",
       "    <tr>\n",
       "      <th>985</th>\n",
       "      <td>1001</td>\n",
       "      <td>11</td>\n",
       "      <td>59.0</td>\n",
       "      <td>430.0</td>\n",
       "      <td>0.0</td>\n",
       "      <td>18429.34</td>\n",
       "      <td>18.0</td>\n",
       "      <td>smart</td>\n",
       "      <td>Москва</td>\n",
       "      <td>550</td>\n",
       "      <td>0.0</td>\n",
       "      <td>0.0</td>\n",
       "      <td>600.0</td>\n",
       "      <td>1150.0</td>\n",
       "    </tr>\n",
       "    <tr>\n",
       "      <th>989</th>\n",
       "      <td>1002</td>\n",
       "      <td>8</td>\n",
       "      <td>42.0</td>\n",
       "      <td>289.0</td>\n",
       "      <td>13.0</td>\n",
       "      <td>20319.26</td>\n",
       "      <td>20.0</td>\n",
       "      <td>smart</td>\n",
       "      <td>Стерлитамак</td>\n",
       "      <td>550</td>\n",
       "      <td>0.0</td>\n",
       "      <td>0.0</td>\n",
       "      <td>1000.0</td>\n",
       "      <td>1550.0</td>\n",
       "    </tr>\n",
       "    <tr>\n",
       "      <th>993</th>\n",
       "      <td>1002</td>\n",
       "      <td>12</td>\n",
       "      <td>33.0</td>\n",
       "      <td>236.0</td>\n",
       "      <td>12.0</td>\n",
       "      <td>18113.73</td>\n",
       "      <td>18.0</td>\n",
       "      <td>smart</td>\n",
       "      <td>Стерлитамак</td>\n",
       "      <td>550</td>\n",
       "      <td>0.0</td>\n",
       "      <td>0.0</td>\n",
       "      <td>600.0</td>\n",
       "      <td>1150.0</td>\n",
       "    </tr>\n",
       "    <tr>\n",
       "      <th>992</th>\n",
       "      <td>1002</td>\n",
       "      <td>11</td>\n",
       "      <td>32.0</td>\n",
       "      <td>243.0</td>\n",
       "      <td>16.0</td>\n",
       "      <td>18587.28</td>\n",
       "      <td>19.0</td>\n",
       "      <td>smart</td>\n",
       "      <td>Стерлитамак</td>\n",
       "      <td>550</td>\n",
       "      <td>0.0</td>\n",
       "      <td>0.0</td>\n",
       "      <td>800.0</td>\n",
       "      <td>1350.0</td>\n",
       "    </tr>\n",
       "    <tr>\n",
       "      <th>991</th>\n",
       "      <td>1002</td>\n",
       "      <td>10</td>\n",
       "      <td>33.0</td>\n",
       "      <td>212.0</td>\n",
       "      <td>10.0</td>\n",
       "      <td>13888.25</td>\n",
       "      <td>14.0</td>\n",
       "      <td>smart</td>\n",
       "      <td>Стерлитамак</td>\n",
       "      <td>550</td>\n",
       "      <td>0.0</td>\n",
       "      <td>0.0</td>\n",
       "      <td>0.0</td>\n",
       "      <td>550.0</td>\n",
       "    </tr>\n",
       "    <tr>\n",
       "      <th>990</th>\n",
       "      <td>1002</td>\n",
       "      <td>9</td>\n",
       "      <td>36.0</td>\n",
       "      <td>206.0</td>\n",
       "      <td>4.0</td>\n",
       "      <td>16691.08</td>\n",
       "      <td>17.0</td>\n",
       "      <td>smart</td>\n",
       "      <td>Стерлитамак</td>\n",
       "      <td>550</td>\n",
       "      <td>0.0</td>\n",
       "      <td>0.0</td>\n",
       "      <td>400.0</td>\n",
       "      <td>950.0</td>\n",
       "    </tr>\n",
       "    <tr>\n",
       "      <th>988</th>\n",
       "      <td>1002</td>\n",
       "      <td>7</td>\n",
       "      <td>26.0</td>\n",
       "      <td>214.0</td>\n",
       "      <td>11.0</td>\n",
       "      <td>17580.10</td>\n",
       "      <td>18.0</td>\n",
       "      <td>smart</td>\n",
       "      <td>Стерлитамак</td>\n",
       "      <td>550</td>\n",
       "      <td>0.0</td>\n",
       "      <td>0.0</td>\n",
       "      <td>600.0</td>\n",
       "      <td>1150.0</td>\n",
       "    </tr>\n",
       "    <tr>\n",
       "      <th>987</th>\n",
       "      <td>1002</td>\n",
       "      <td>6</td>\n",
       "      <td>15.0</td>\n",
       "      <td>117.0</td>\n",
       "      <td>4.0</td>\n",
       "      <td>10856.82</td>\n",
       "      <td>11.0</td>\n",
       "      <td>smart</td>\n",
       "      <td>Стерлитамак</td>\n",
       "      <td>550</td>\n",
       "      <td>0.0</td>\n",
       "      <td>0.0</td>\n",
       "      <td>0.0</td>\n",
       "      <td>550.0</td>\n",
       "    </tr>\n",
       "    <tr>\n",
       "      <th>9</th>\n",
       "      <td>1003</td>\n",
       "      <td>9</td>\n",
       "      <td>134.0</td>\n",
       "      <td>961.0</td>\n",
       "      <td>91.0</td>\n",
       "      <td>12468.87</td>\n",
       "      <td>13.0</td>\n",
       "      <td>ultra</td>\n",
       "      <td>Москва</td>\n",
       "      <td>1950</td>\n",
       "      <td>0.0</td>\n",
       "      <td>0.0</td>\n",
       "      <td>0.0</td>\n",
       "      <td>1950.0</td>\n",
       "    </tr>\n",
       "    <tr>\n",
       "      <th>8</th>\n",
       "      <td>1003</td>\n",
       "      <td>8</td>\n",
       "      <td>55.0</td>\n",
       "      <td>380.0</td>\n",
       "      <td>37.0</td>\n",
       "      <td>8565.21</td>\n",
       "      <td>9.0</td>\n",
       "      <td>ultra</td>\n",
       "      <td>Москва</td>\n",
       "      <td>1950</td>\n",
       "      <td>0.0</td>\n",
       "      <td>0.0</td>\n",
       "      <td>0.0</td>\n",
       "      <td>1950.0</td>\n",
       "    </tr>\n",
       "    <tr>\n",
       "      <th>10</th>\n",
       "      <td>1003</td>\n",
       "      <td>10</td>\n",
       "      <td>108.0</td>\n",
       "      <td>855.0</td>\n",
       "      <td>83.0</td>\n",
       "      <td>14768.14</td>\n",
       "      <td>15.0</td>\n",
       "      <td>ultra</td>\n",
       "      <td>Москва</td>\n",
       "      <td>1950</td>\n",
       "      <td>0.0</td>\n",
       "      <td>0.0</td>\n",
       "      <td>0.0</td>\n",
       "      <td>1950.0</td>\n",
       "    </tr>\n",
       "    <tr>\n",
       "      <th>12</th>\n",
       "      <td>1003</td>\n",
       "      <td>12</td>\n",
       "      <td>108.0</td>\n",
       "      <td>802.0</td>\n",
       "      <td>75.0</td>\n",
       "      <td>10121.53</td>\n",
       "      <td>10.0</td>\n",
       "      <td>ultra</td>\n",
       "      <td>Москва</td>\n",
       "      <td>1950</td>\n",
       "      <td>0.0</td>\n",
       "      <td>0.0</td>\n",
       "      <td>0.0</td>\n",
       "      <td>1950.0</td>\n",
       "    </tr>\n",
       "    <tr>\n",
       "      <th>11</th>\n",
       "      <td>1003</td>\n",
       "      <td>11</td>\n",
       "      <td>115.0</td>\n",
       "      <td>824.0</td>\n",
       "      <td>94.0</td>\n",
       "      <td>11356.89</td>\n",
       "      <td>12.0</td>\n",
       "      <td>ultra</td>\n",
       "      <td>Москва</td>\n",
       "      <td>1950</td>\n",
       "      <td>0.0</td>\n",
       "      <td>0.0</td>\n",
       "      <td>0.0</td>\n",
       "      <td>1950.0</td>\n",
       "    </tr>\n",
       "    <tr>\n",
       "      <th>20</th>\n",
       "      <td>1004</td>\n",
       "      <td>12</td>\n",
       "      <td>21.0</td>\n",
       "      <td>130.0</td>\n",
       "      <td>162.0</td>\n",
       "      <td>18021.04</td>\n",
       "      <td>18.0</td>\n",
       "      <td>ultra</td>\n",
       "      <td>Новокузнецк</td>\n",
       "      <td>1950</td>\n",
       "      <td>0.0</td>\n",
       "      <td>0.0</td>\n",
       "      <td>0.0</td>\n",
       "      <td>1950.0</td>\n",
       "    </tr>\n",
       "    <tr>\n",
       "      <th>18</th>\n",
       "      <td>1004</td>\n",
       "      <td>10</td>\n",
       "      <td>29.0</td>\n",
       "      <td>145.0</td>\n",
       "      <td>165.0</td>\n",
       "      <td>18475.44</td>\n",
       "      <td>19.0</td>\n",
       "      <td>ultra</td>\n",
       "      <td>Новокузнецк</td>\n",
       "      <td>1950</td>\n",
       "      <td>0.0</td>\n",
       "      <td>0.0</td>\n",
       "      <td>0.0</td>\n",
       "      <td>1950.0</td>\n",
       "    </tr>\n",
       "    <tr>\n",
       "      <th>17</th>\n",
       "      <td>1004</td>\n",
       "      <td>9</td>\n",
       "      <td>26.0</td>\n",
       "      <td>117.0</td>\n",
       "      <td>146.0</td>\n",
       "      <td>15109.03</td>\n",
       "      <td>15.0</td>\n",
       "      <td>ultra</td>\n",
       "      <td>Новокузнецк</td>\n",
       "      <td>1950</td>\n",
       "      <td>0.0</td>\n",
       "      <td>0.0</td>\n",
       "      <td>0.0</td>\n",
       "      <td>1950.0</td>\n",
       "    </tr>\n",
       "    <tr>\n",
       "      <th>16</th>\n",
       "      <td>1004</td>\n",
       "      <td>8</td>\n",
       "      <td>19.0</td>\n",
       "      <td>137.0</td>\n",
       "      <td>151.0</td>\n",
       "      <td>28584.37</td>\n",
       "      <td>28.0</td>\n",
       "      <td>ultra</td>\n",
       "      <td>Новокузнецк</td>\n",
       "      <td>1950</td>\n",
       "      <td>0.0</td>\n",
       "      <td>0.0</td>\n",
       "      <td>0.0</td>\n",
       "      <td>1950.0</td>\n",
       "    </tr>\n",
       "    <tr>\n",
       "      <th>15</th>\n",
       "      <td>1004</td>\n",
       "      <td>7</td>\n",
       "      <td>22.0</td>\n",
       "      <td>135.0</td>\n",
       "      <td>181.0</td>\n",
       "      <td>22229.58</td>\n",
       "      <td>22.0</td>\n",
       "      <td>ultra</td>\n",
       "      <td>Новокузнецк</td>\n",
       "      <td>1950</td>\n",
       "      <td>0.0</td>\n",
       "      <td>0.0</td>\n",
       "      <td>0.0</td>\n",
       "      <td>1950.0</td>\n",
       "    </tr>\n",
       "    <tr>\n",
       "      <th>14</th>\n",
       "      <td>1004</td>\n",
       "      <td>6</td>\n",
       "      <td>31.0</td>\n",
       "      <td>171.0</td>\n",
       "      <td>134.0</td>\n",
       "      <td>17600.02</td>\n",
       "      <td>18.0</td>\n",
       "      <td>ultra</td>\n",
       "      <td>Новокузнецк</td>\n",
       "      <td>1950</td>\n",
       "      <td>0.0</td>\n",
       "      <td>0.0</td>\n",
       "      <td>0.0</td>\n",
       "      <td>1950.0</td>\n",
       "    </tr>\n",
       "    <tr>\n",
       "      <th>13</th>\n",
       "      <td>1004</td>\n",
       "      <td>5</td>\n",
       "      <td>9.0</td>\n",
       "      <td>35.0</td>\n",
       "      <td>95.0</td>\n",
       "      <td>13403.98</td>\n",
       "      <td>14.0</td>\n",
       "      <td>ultra</td>\n",
       "      <td>Новокузнецк</td>\n",
       "      <td>1950</td>\n",
       "      <td>0.0</td>\n",
       "      <td>0.0</td>\n",
       "      <td>0.0</td>\n",
       "      <td>1950.0</td>\n",
       "    </tr>\n",
       "    <tr>\n",
       "      <th>19</th>\n",
       "      <td>1004</td>\n",
       "      <td>11</td>\n",
       "      <td>19.0</td>\n",
       "      <td>117.0</td>\n",
       "      <td>158.0</td>\n",
       "      <td>15616.02</td>\n",
       "      <td>16.0</td>\n",
       "      <td>ultra</td>\n",
       "      <td>Новокузнецк</td>\n",
       "      <td>1950</td>\n",
       "      <td>0.0</td>\n",
       "      <td>0.0</td>\n",
       "      <td>0.0</td>\n",
       "      <td>1950.0</td>\n",
       "    </tr>\n",
       "    <tr>\n",
       "      <th>1004</th>\n",
       "      <td>1005</td>\n",
       "      <td>11</td>\n",
       "      <td>75.0</td>\n",
       "      <td>547.0</td>\n",
       "      <td>51.0</td>\n",
       "      <td>12666.95</td>\n",
       "      <td>13.0</td>\n",
       "      <td>smart</td>\n",
       "      <td>Набережные Челны</td>\n",
       "      <td>550</td>\n",
       "      <td>141.0</td>\n",
       "      <td>3.0</td>\n",
       "      <td>0.0</td>\n",
       "      <td>694.0</td>\n",
       "    </tr>\n",
       "    <tr>\n",
       "      <th>1005</th>\n",
       "      <td>1005</td>\n",
       "      <td>12</td>\n",
       "      <td>84.0</td>\n",
       "      <td>592.0</td>\n",
       "      <td>54.0</td>\n",
       "      <td>8668.19</td>\n",
       "      <td>9.0</td>\n",
       "      <td>smart</td>\n",
       "      <td>Набережные Челны</td>\n",
       "      <td>550</td>\n",
       "      <td>276.0</td>\n",
       "      <td>12.0</td>\n",
       "      <td>0.0</td>\n",
       "      <td>838.0</td>\n",
       "    </tr>\n",
       "    <tr>\n",
       "      <th>1001</th>\n",
       "      <td>1005</td>\n",
       "      <td>8</td>\n",
       "      <td>71.0</td>\n",
       "      <td>619.0</td>\n",
       "      <td>64.0</td>\n",
       "      <td>7543.63</td>\n",
       "      <td>8.0</td>\n",
       "      <td>smart</td>\n",
       "      <td>Набережные Челны</td>\n",
       "      <td>550</td>\n",
       "      <td>357.0</td>\n",
       "      <td>42.0</td>\n",
       "      <td>0.0</td>\n",
       "      <td>949.0</td>\n",
       "    </tr>\n",
       "    <tr>\n",
       "      <th>1000</th>\n",
       "      <td>1005</td>\n",
       "      <td>7</td>\n",
       "      <td>77.0</td>\n",
       "      <td>569.0</td>\n",
       "      <td>56.0</td>\n",
       "      <td>7694.56</td>\n",
       "      <td>8.0</td>\n",
       "      <td>smart</td>\n",
       "      <td>Набережные Челны</td>\n",
       "      <td>550</td>\n",
       "      <td>207.0</td>\n",
       "      <td>18.0</td>\n",
       "      <td>0.0</td>\n",
       "      <td>775.0</td>\n",
       "    </tr>\n",
       "    <tr>\n",
       "      <th>999</th>\n",
       "      <td>1005</td>\n",
       "      <td>6</td>\n",
       "      <td>80.0</td>\n",
       "      <td>612.0</td>\n",
       "      <td>47.0</td>\n",
       "      <td>9863.19</td>\n",
       "      <td>10.0</td>\n",
       "      <td>smart</td>\n",
       "      <td>Набережные Челны</td>\n",
       "      <td>550</td>\n",
       "      <td>336.0</td>\n",
       "      <td>0.0</td>\n",
       "      <td>0.0</td>\n",
       "      <td>886.0</td>\n",
       "    </tr>\n",
       "    <tr>\n",
       "      <th>994</th>\n",
       "      <td>1005</td>\n",
       "      <td>1</td>\n",
       "      <td>15.0</td>\n",
       "      <td>95.0</td>\n",
       "      <td>7.0</td>\n",
       "      <td>2727.97</td>\n",
       "      <td>3.0</td>\n",
       "      <td>smart</td>\n",
       "      <td>Набережные Челны</td>\n",
       "      <td>550</td>\n",
       "      <td>0.0</td>\n",
       "      <td>0.0</td>\n",
       "      <td>0.0</td>\n",
       "      <td>550.0</td>\n",
       "    </tr>\n",
       "    <tr>\n",
       "      <th>997</th>\n",
       "      <td>1005</td>\n",
       "      <td>4</td>\n",
       "      <td>101.0</td>\n",
       "      <td>712.0</td>\n",
       "      <td>41.0</td>\n",
       "      <td>9351.72</td>\n",
       "      <td>10.0</td>\n",
       "      <td>smart</td>\n",
       "      <td>Набережные Челны</td>\n",
       "      <td>550</td>\n",
       "      <td>636.0</td>\n",
       "      <td>0.0</td>\n",
       "      <td>0.0</td>\n",
       "      <td>1186.0</td>\n",
       "    </tr>\n",
       "    <tr>\n",
       "      <th>996</th>\n",
       "      <td>1005</td>\n",
       "      <td>3</td>\n",
       "      <td>77.0</td>\n",
       "      <td>606.0</td>\n",
       "      <td>56.0</td>\n",
       "      <td>11104.25</td>\n",
       "      <td>11.0</td>\n",
       "      <td>smart</td>\n",
       "      <td>Набережные Челны</td>\n",
       "      <td>550</td>\n",
       "      <td>318.0</td>\n",
       "      <td>18.0</td>\n",
       "      <td>0.0</td>\n",
       "      <td>886.0</td>\n",
       "    </tr>\n",
       "    <tr>\n",
       "      <th>995</th>\n",
       "      <td>1005</td>\n",
       "      <td>2</td>\n",
       "      <td>69.0</td>\n",
       "      <td>456.0</td>\n",
       "      <td>38.0</td>\n",
       "      <td>7383.93</td>\n",
       "      <td>8.0</td>\n",
       "      <td>smart</td>\n",
       "      <td>Набережные Челны</td>\n",
       "      <td>550</td>\n",
       "      <td>0.0</td>\n",
       "      <td>0.0</td>\n",
       "      <td>0.0</td>\n",
       "      <td>550.0</td>\n",
       "    </tr>\n",
       "    <tr>\n",
       "      <th>1003</th>\n",
       "      <td>1005</td>\n",
       "      <td>10</td>\n",
       "      <td>100.0</td>\n",
       "      <td>723.0</td>\n",
       "      <td>44.0</td>\n",
       "      <td>7800.93</td>\n",
       "      <td>8.0</td>\n",
       "      <td>smart</td>\n",
       "      <td>Набережные Челны</td>\n",
       "      <td>550</td>\n",
       "      <td>669.0</td>\n",
       "      <td>0.0</td>\n",
       "      <td>0.0</td>\n",
       "      <td>1219.0</td>\n",
       "    </tr>\n",
       "  </tbody>\n",
       "</table>\n",
       "</div>"
      ],
      "text/plain": [
       "      user_id  month  calls_number  minutes_spent  messages_number   mb_used  \\\n",
       "0        1000      5          22.0          159.0             22.0   2253.49   \n",
       "1        1000      6          43.0          172.0             60.0  23233.77   \n",
       "2        1000      7          47.0          340.0             75.0  14003.64   \n",
       "3        1000      8          52.0          408.0             81.0  14055.93   \n",
       "4        1000      9          58.0          466.0             57.0  14568.91   \n",
       "5        1000     10          57.0          350.0             73.0  14702.49   \n",
       "6        1000     11          43.0          338.0             58.0  14756.47   \n",
       "7        1000     12          46.0          333.0             70.0   9817.61   \n",
       "986      1001     12          63.0          414.0              0.0  14036.66   \n",
       "985      1001     11          59.0          430.0              0.0  18429.34   \n",
       "989      1002      8          42.0          289.0             13.0  20319.26   \n",
       "993      1002     12          33.0          236.0             12.0  18113.73   \n",
       "992      1002     11          32.0          243.0             16.0  18587.28   \n",
       "991      1002     10          33.0          212.0             10.0  13888.25   \n",
       "990      1002      9          36.0          206.0              4.0  16691.08   \n",
       "988      1002      7          26.0          214.0             11.0  17580.10   \n",
       "987      1002      6          15.0          117.0              4.0  10856.82   \n",
       "9        1003      9         134.0          961.0             91.0  12468.87   \n",
       "8        1003      8          55.0          380.0             37.0   8565.21   \n",
       "10       1003     10         108.0          855.0             83.0  14768.14   \n",
       "12       1003     12         108.0          802.0             75.0  10121.53   \n",
       "11       1003     11         115.0          824.0             94.0  11356.89   \n",
       "20       1004     12          21.0          130.0            162.0  18021.04   \n",
       "18       1004     10          29.0          145.0            165.0  18475.44   \n",
       "17       1004      9          26.0          117.0            146.0  15109.03   \n",
       "16       1004      8          19.0          137.0            151.0  28584.37   \n",
       "15       1004      7          22.0          135.0            181.0  22229.58   \n",
       "14       1004      6          31.0          171.0            134.0  17600.02   \n",
       "13       1004      5           9.0           35.0             95.0  13403.98   \n",
       "19       1004     11          19.0          117.0            158.0  15616.02   \n",
       "1004     1005     11          75.0          547.0             51.0  12666.95   \n",
       "1005     1005     12          84.0          592.0             54.0   8668.19   \n",
       "1001     1005      8          71.0          619.0             64.0   7543.63   \n",
       "1000     1005      7          77.0          569.0             56.0   7694.56   \n",
       "999      1005      6          80.0          612.0             47.0   9863.19   \n",
       "994      1005      1          15.0           95.0              7.0   2727.97   \n",
       "997      1005      4         101.0          712.0             41.0   9351.72   \n",
       "996      1005      3          77.0          606.0             56.0  11104.25   \n",
       "995      1005      2          69.0          456.0             38.0   7383.93   \n",
       "1003     1005     10         100.0          723.0             44.0   7800.93   \n",
       "\n",
       "      gb_used tariff              city  rub_monthly_fee  price_extra_minutes  \\\n",
       "0         3.0  ultra         Краснодар             1950                  0.0   \n",
       "1        23.0  ultra         Краснодар             1950                  0.0   \n",
       "2        14.0  ultra         Краснодар             1950                  0.0   \n",
       "3        14.0  ultra         Краснодар             1950                  0.0   \n",
       "4        15.0  ultra         Краснодар             1950                  0.0   \n",
       "5        15.0  ultra         Краснодар             1950                  0.0   \n",
       "6        15.0  ultra         Краснодар             1950                  0.0   \n",
       "7        10.0  ultra         Краснодар             1950                  0.0   \n",
       "986      14.0  smart            Москва              550                  0.0   \n",
       "985      18.0  smart            Москва              550                  0.0   \n",
       "989      20.0  smart       Стерлитамак              550                  0.0   \n",
       "993      18.0  smart       Стерлитамак              550                  0.0   \n",
       "992      19.0  smart       Стерлитамак              550                  0.0   \n",
       "991      14.0  smart       Стерлитамак              550                  0.0   \n",
       "990      17.0  smart       Стерлитамак              550                  0.0   \n",
       "988      18.0  smart       Стерлитамак              550                  0.0   \n",
       "987      11.0  smart       Стерлитамак              550                  0.0   \n",
       "9        13.0  ultra            Москва             1950                  0.0   \n",
       "8         9.0  ultra            Москва             1950                  0.0   \n",
       "10       15.0  ultra            Москва             1950                  0.0   \n",
       "12       10.0  ultra            Москва             1950                  0.0   \n",
       "11       12.0  ultra            Москва             1950                  0.0   \n",
       "20       18.0  ultra       Новокузнецк             1950                  0.0   \n",
       "18       19.0  ultra       Новокузнецк             1950                  0.0   \n",
       "17       15.0  ultra       Новокузнецк             1950                  0.0   \n",
       "16       28.0  ultra       Новокузнецк             1950                  0.0   \n",
       "15       22.0  ultra       Новокузнецк             1950                  0.0   \n",
       "14       18.0  ultra       Новокузнецк             1950                  0.0   \n",
       "13       14.0  ultra       Новокузнецк             1950                  0.0   \n",
       "19       16.0  ultra       Новокузнецк             1950                  0.0   \n",
       "1004     13.0  smart  Набережные Челны              550                141.0   \n",
       "1005      9.0  smart  Набережные Челны              550                276.0   \n",
       "1001      8.0  smart  Набережные Челны              550                357.0   \n",
       "1000      8.0  smart  Набережные Челны              550                207.0   \n",
       "999      10.0  smart  Набережные Челны              550                336.0   \n",
       "994       3.0  smart  Набережные Челны              550                  0.0   \n",
       "997      10.0  smart  Набережные Челны              550                636.0   \n",
       "996      11.0  smart  Набережные Челны              550                318.0   \n",
       "995       8.0  smart  Набережные Челны              550                  0.0   \n",
       "1003      8.0  smart  Набережные Челны              550                669.0   \n",
       "\n",
       "      price_extra_messages  price_extra_internet  month_revenue  \n",
       "0                      0.0                   0.0         1950.0  \n",
       "1                      0.0                   0.0         1950.0  \n",
       "2                      0.0                   0.0         1950.0  \n",
       "3                      0.0                   0.0         1950.0  \n",
       "4                      0.0                   0.0         1950.0  \n",
       "5                      0.0                   0.0         1950.0  \n",
       "6                      0.0                   0.0         1950.0  \n",
       "7                      0.0                   0.0         1950.0  \n",
       "986                    0.0                   0.0          550.0  \n",
       "985                    0.0                 600.0         1150.0  \n",
       "989                    0.0                1000.0         1550.0  \n",
       "993                    0.0                 600.0         1150.0  \n",
       "992                    0.0                 800.0         1350.0  \n",
       "991                    0.0                   0.0          550.0  \n",
       "990                    0.0                 400.0          950.0  \n",
       "988                    0.0                 600.0         1150.0  \n",
       "987                    0.0                   0.0          550.0  \n",
       "9                      0.0                   0.0         1950.0  \n",
       "8                      0.0                   0.0         1950.0  \n",
       "10                     0.0                   0.0         1950.0  \n",
       "12                     0.0                   0.0         1950.0  \n",
       "11                     0.0                   0.0         1950.0  \n",
       "20                     0.0                   0.0         1950.0  \n",
       "18                     0.0                   0.0         1950.0  \n",
       "17                     0.0                   0.0         1950.0  \n",
       "16                     0.0                   0.0         1950.0  \n",
       "15                     0.0                   0.0         1950.0  \n",
       "14                     0.0                   0.0         1950.0  \n",
       "13                     0.0                   0.0         1950.0  \n",
       "19                     0.0                   0.0         1950.0  \n",
       "1004                   3.0                   0.0          694.0  \n",
       "1005                  12.0                   0.0          838.0  \n",
       "1001                  42.0                   0.0          949.0  \n",
       "1000                  18.0                   0.0          775.0  \n",
       "999                    0.0                   0.0          886.0  \n",
       "994                    0.0                   0.0          550.0  \n",
       "997                    0.0                   0.0         1186.0  \n",
       "996                   18.0                   0.0          886.0  \n",
       "995                    0.0                   0.0          550.0  \n",
       "1003                   0.0                   0.0         1219.0  "
      ]
     },
     "execution_count": 70,
     "metadata": {},
     "output_type": "execute_result"
    }
   ],
   "source": [
    "group_table.sort_values(by = 'user_id').head(40)"
   ]
  },
  {
   "cell_type": "markdown",
   "id": "c959c4a8",
   "metadata": {},
   "source": [
    "***"
   ]
  },
  {
   "cell_type": "markdown",
   "id": "dc3ca12f",
   "metadata": {},
   "source": [
    "## Шаг 3. Проанализируйте данные"
   ]
  },
  {
   "cell_type": "markdown",
   "id": "f020b01d",
   "metadata": {},
   "source": [
    "Опишите поведение клиентов оператора, исходя из выборки. Сколько минут разговора, сколько сообщений и какой объём интернет-трафика требуется пользователям каждого тарифа в месяц? Посчитайте среднее количество, дисперсию и стандартное отклонение. Постройте гистограммы. Опишите распределения."
   ]
  },
  {
   "cell_type": "code",
   "execution_count": 50,
   "id": "6bab30e9",
   "metadata": {},
   "outputs": [],
   "source": [
    "smart = group_table[group_table['tariff'] == 'smart']\n",
    "ultra = group_table[group_table['tariff'] == 'ultra']"
   ]
  },
  {
   "cell_type": "code",
   "execution_count": 51,
   "id": "619df1d2",
   "metadata": {},
   "outputs": [],
   "source": [
    "smart_statistics = smart.pivot_table(index = 'month', values = ['minutes_spent', 'messages_number','gb_used'], aggfunc = ['mean', 'var', 'std'])"
   ]
  },
  {
   "cell_type": "code",
   "execution_count": 52,
   "id": "187fb35c",
   "metadata": {},
   "outputs": [],
   "source": [
    "ultra_statistics = ultra.pivot_table(index = 'month', values = ['minutes_spent', 'messages_number','gb_used'], aggfunc = ['mean', 'var', 'std'])"
   ]
  },
  {
   "cell_type": "markdown",
   "id": "640ffc0f",
   "metadata": {},
   "source": [
    "### средние значения, дисперсия, std для каждого месяца"
   ]
  },
  {
   "cell_type": "code",
   "execution_count": 53,
   "id": "2c9de290",
   "metadata": {},
   "outputs": [
    {
     "data": {
      "text/html": [
       "<div>\n",
       "<style scoped>\n",
       "    .dataframe tbody tr th:only-of-type {\n",
       "        vertical-align: middle;\n",
       "    }\n",
       "\n",
       "    .dataframe tbody tr th {\n",
       "        vertical-align: top;\n",
       "    }\n",
       "\n",
       "    .dataframe thead tr th {\n",
       "        text-align: left;\n",
       "    }\n",
       "\n",
       "    .dataframe thead tr:last-of-type th {\n",
       "        text-align: right;\n",
       "    }\n",
       "</style>\n",
       "<table border=\"1\" class=\"dataframe\">\n",
       "  <thead>\n",
       "    <tr>\n",
       "      <th></th>\n",
       "      <th colspan=\"3\" halign=\"left\">mean</th>\n",
       "      <th colspan=\"3\" halign=\"left\">var</th>\n",
       "      <th colspan=\"3\" halign=\"left\">std</th>\n",
       "    </tr>\n",
       "    <tr>\n",
       "      <th></th>\n",
       "      <th>gb_used</th>\n",
       "      <th>messages_number</th>\n",
       "      <th>minutes_spent</th>\n",
       "      <th>gb_used</th>\n",
       "      <th>messages_number</th>\n",
       "      <th>minutes_spent</th>\n",
       "      <th>gb_used</th>\n",
       "      <th>messages_number</th>\n",
       "      <th>minutes_spent</th>\n",
       "    </tr>\n",
       "    <tr>\n",
       "      <th>month</th>\n",
       "      <th></th>\n",
       "      <th></th>\n",
       "      <th></th>\n",
       "      <th></th>\n",
       "      <th></th>\n",
       "      <th></th>\n",
       "      <th></th>\n",
       "      <th></th>\n",
       "      <th></th>\n",
       "    </tr>\n",
       "  </thead>\n",
       "  <tbody>\n",
       "    <tr>\n",
       "      <th>1</th>\n",
       "      <td>8.735294</td>\n",
       "      <td>18.235294</td>\n",
       "      <td>203.852941</td>\n",
       "      <td>39.412656</td>\n",
       "      <td>262.367201</td>\n",
       "      <td>23787.341355</td>\n",
       "      <td>6.277950</td>\n",
       "      <td>16.197753</td>\n",
       "      <td>154.231454</td>\n",
       "    </tr>\n",
       "    <tr>\n",
       "      <th>2</th>\n",
       "      <td>11.844828</td>\n",
       "      <td>24.086207</td>\n",
       "      <td>298.689655</td>\n",
       "      <td>37.150938</td>\n",
       "      <td>473.097701</td>\n",
       "      <td>36412.287961</td>\n",
       "      <td>6.095157</td>\n",
       "      <td>21.750809</td>\n",
       "      <td>190.820041</td>\n",
       "    </tr>\n",
       "    <tr>\n",
       "      <th>3</th>\n",
       "      <td>15.233766</td>\n",
       "      <td>31.857143</td>\n",
       "      <td>390.051948</td>\n",
       "      <td>32.549897</td>\n",
       "      <td>718.492481</td>\n",
       "      <td>36823.155161</td>\n",
       "      <td>5.705252</td>\n",
       "      <td>26.804710</td>\n",
       "      <td>191.893604</td>\n",
       "    </tr>\n",
       "    <tr>\n",
       "      <th>4</th>\n",
       "      <td>13.625000</td>\n",
       "      <td>30.741071</td>\n",
       "      <td>367.133929</td>\n",
       "      <td>31.299550</td>\n",
       "      <td>602.139559</td>\n",
       "      <td>34778.207127</td>\n",
       "      <td>5.594600</td>\n",
       "      <td>24.538532</td>\n",
       "      <td>186.489161</td>\n",
       "    </tr>\n",
       "    <tr>\n",
       "      <th>5</th>\n",
       "      <td>15.907801</td>\n",
       "      <td>33.773050</td>\n",
       "      <td>387.361702</td>\n",
       "      <td>34.370010</td>\n",
       "      <td>730.990983</td>\n",
       "      <td>34820.061094</td>\n",
       "      <td>5.862594</td>\n",
       "      <td>27.036845</td>\n",
       "      <td>186.601343</td>\n",
       "    </tr>\n",
       "    <tr>\n",
       "      <th>6</th>\n",
       "      <td>15.951220</td>\n",
       "      <td>33.402439</td>\n",
       "      <td>395.640244</td>\n",
       "      <td>31.911716</td>\n",
       "      <td>806.806374</td>\n",
       "      <td>30742.918861</td>\n",
       "      <td>5.649046</td>\n",
       "      <td>28.404337</td>\n",
       "      <td>175.336587</td>\n",
       "    </tr>\n",
       "    <tr>\n",
       "      <th>7</th>\n",
       "      <td>15.875622</td>\n",
       "      <td>33.751244</td>\n",
       "      <td>408.353234</td>\n",
       "      <td>33.419453</td>\n",
       "      <td>799.887811</td>\n",
       "      <td>32250.269602</td>\n",
       "      <td>5.780956</td>\n",
       "      <td>28.282288</td>\n",
       "      <td>179.583601</td>\n",
       "    </tr>\n",
       "    <tr>\n",
       "      <th>8</th>\n",
       "      <td>16.736170</td>\n",
       "      <td>33.638298</td>\n",
       "      <td>421.468085</td>\n",
       "      <td>30.041207</td>\n",
       "      <td>838.257501</td>\n",
       "      <td>34793.583379</td>\n",
       "      <td>5.480986</td>\n",
       "      <td>28.952677</td>\n",
       "      <td>186.530382</td>\n",
       "    </tr>\n",
       "    <tr>\n",
       "      <th>9</th>\n",
       "      <td>16.392308</td>\n",
       "      <td>33.638462</td>\n",
       "      <td>428.611538</td>\n",
       "      <td>25.884110</td>\n",
       "      <td>790.617820</td>\n",
       "      <td>33535.342723</td>\n",
       "      <td>5.087643</td>\n",
       "      <td>28.117927</td>\n",
       "      <td>183.126576</td>\n",
       "    </tr>\n",
       "    <tr>\n",
       "      <th>10</th>\n",
       "      <td>16.880952</td>\n",
       "      <td>33.765306</td>\n",
       "      <td>426.136054</td>\n",
       "      <td>32.897042</td>\n",
       "      <td>816.111966</td>\n",
       "      <td>35392.336375</td>\n",
       "      <td>5.735594</td>\n",
       "      <td>28.567673</td>\n",
       "      <td>188.128510</td>\n",
       "    </tr>\n",
       "    <tr>\n",
       "      <th>11</th>\n",
       "      <td>17.000000</td>\n",
       "      <td>34.075949</td>\n",
       "      <td>435.265823</td>\n",
       "      <td>27.180952</td>\n",
       "      <td>805.937071</td>\n",
       "      <td>31605.237050</td>\n",
       "      <td>5.213535</td>\n",
       "      <td>28.389031</td>\n",
       "      <td>177.778618</td>\n",
       "    </tr>\n",
       "    <tr>\n",
       "      <th>12</th>\n",
       "      <td>18.201780</td>\n",
       "      <td>35.994065</td>\n",
       "      <td>478.560831</td>\n",
       "      <td>29.786544</td>\n",
       "      <td>934.952346</td>\n",
       "      <td>39698.622033</td>\n",
       "      <td>5.457705</td>\n",
       "      <td>30.576990</td>\n",
       "      <td>199.245131</td>\n",
       "    </tr>\n",
       "  </tbody>\n",
       "</table>\n",
       "</div>"
      ],
      "text/plain": [
       "            mean                                      var                  \\\n",
       "         gb_used messages_number minutes_spent    gb_used messages_number   \n",
       "month                                                                       \n",
       "1       8.735294       18.235294    203.852941  39.412656      262.367201   \n",
       "2      11.844828       24.086207    298.689655  37.150938      473.097701   \n",
       "3      15.233766       31.857143    390.051948  32.549897      718.492481   \n",
       "4      13.625000       30.741071    367.133929  31.299550      602.139559   \n",
       "5      15.907801       33.773050    387.361702  34.370010      730.990983   \n",
       "6      15.951220       33.402439    395.640244  31.911716      806.806374   \n",
       "7      15.875622       33.751244    408.353234  33.419453      799.887811   \n",
       "8      16.736170       33.638298    421.468085  30.041207      838.257501   \n",
       "9      16.392308       33.638462    428.611538  25.884110      790.617820   \n",
       "10     16.880952       33.765306    426.136054  32.897042      816.111966   \n",
       "11     17.000000       34.075949    435.265823  27.180952      805.937071   \n",
       "12     18.201780       35.994065    478.560831  29.786544      934.952346   \n",
       "\n",
       "                          std                                \n",
       "      minutes_spent   gb_used messages_number minutes_spent  \n",
       "month                                                        \n",
       "1      23787.341355  6.277950       16.197753    154.231454  \n",
       "2      36412.287961  6.095157       21.750809    190.820041  \n",
       "3      36823.155161  5.705252       26.804710    191.893604  \n",
       "4      34778.207127  5.594600       24.538532    186.489161  \n",
       "5      34820.061094  5.862594       27.036845    186.601343  \n",
       "6      30742.918861  5.649046       28.404337    175.336587  \n",
       "7      32250.269602  5.780956       28.282288    179.583601  \n",
       "8      34793.583379  5.480986       28.952677    186.530382  \n",
       "9      33535.342723  5.087643       28.117927    183.126576  \n",
       "10     35392.336375  5.735594       28.567673    188.128510  \n",
       "11     31605.237050  5.213535       28.389031    177.778618  \n",
       "12     39698.622033  5.457705       30.576990    199.245131  "
      ]
     },
     "execution_count": 53,
     "metadata": {},
     "output_type": "execute_result"
    }
   ],
   "source": [
    "smart_statistics"
   ]
  },
  {
   "cell_type": "code",
   "execution_count": 54,
   "id": "572ef9d9",
   "metadata": {
    "scrolled": true
   },
   "outputs": [
    {
     "data": {
      "text/html": [
       "<div>\n",
       "<style scoped>\n",
       "    .dataframe tbody tr th:only-of-type {\n",
       "        vertical-align: middle;\n",
       "    }\n",
       "\n",
       "    .dataframe tbody tr th {\n",
       "        vertical-align: top;\n",
       "    }\n",
       "\n",
       "    .dataframe thead tr th {\n",
       "        text-align: left;\n",
       "    }\n",
       "\n",
       "    .dataframe thead tr:last-of-type th {\n",
       "        text-align: right;\n",
       "    }\n",
       "</style>\n",
       "<table border=\"1\" class=\"dataframe\">\n",
       "  <thead>\n",
       "    <tr>\n",
       "      <th></th>\n",
       "      <th colspan=\"3\" halign=\"left\">mean</th>\n",
       "      <th colspan=\"3\" halign=\"left\">var</th>\n",
       "      <th colspan=\"3\" halign=\"left\">std</th>\n",
       "    </tr>\n",
       "    <tr>\n",
       "      <th></th>\n",
       "      <th>gb_used</th>\n",
       "      <th>messages_number</th>\n",
       "      <th>minutes_spent</th>\n",
       "      <th>gb_used</th>\n",
       "      <th>messages_number</th>\n",
       "      <th>minutes_spent</th>\n",
       "      <th>gb_used</th>\n",
       "      <th>messages_number</th>\n",
       "      <th>minutes_spent</th>\n",
       "    </tr>\n",
       "    <tr>\n",
       "      <th>month</th>\n",
       "      <th></th>\n",
       "      <th></th>\n",
       "      <th></th>\n",
       "      <th></th>\n",
       "      <th></th>\n",
       "      <th></th>\n",
       "      <th></th>\n",
       "      <th></th>\n",
       "      <th></th>\n",
       "    </tr>\n",
       "  </thead>\n",
       "  <tbody>\n",
       "    <tr>\n",
       "      <th>1</th>\n",
       "      <td>13.222222</td>\n",
       "      <td>33.777778</td>\n",
       "      <td>428.111111</td>\n",
       "      <td>44.444444</td>\n",
       "      <td>940.694444</td>\n",
       "      <td>72769.361111</td>\n",
       "      <td>6.666667</td>\n",
       "      <td>30.670742</td>\n",
       "      <td>269.757968</td>\n",
       "    </tr>\n",
       "    <tr>\n",
       "      <th>2</th>\n",
       "      <td>12.000000</td>\n",
       "      <td>21.958333</td>\n",
       "      <td>297.125000</td>\n",
       "      <td>109.130435</td>\n",
       "      <td>716.824275</td>\n",
       "      <td>87919.679348</td>\n",
       "      <td>10.446551</td>\n",
       "      <td>26.773574</td>\n",
       "      <td>296.512528</td>\n",
       "    </tr>\n",
       "    <tr>\n",
       "      <th>3</th>\n",
       "      <td>17.648649</td>\n",
       "      <td>32.297297</td>\n",
       "      <td>489.648649</td>\n",
       "      <td>114.345345</td>\n",
       "      <td>1732.381381</td>\n",
       "      <td>111384.900901</td>\n",
       "      <td>10.693238</td>\n",
       "      <td>41.621886</td>\n",
       "      <td>333.743765</td>\n",
       "    </tr>\n",
       "    <tr>\n",
       "      <th>4</th>\n",
       "      <td>16.963636</td>\n",
       "      <td>31.563636</td>\n",
       "      <td>458.018182</td>\n",
       "      <td>89.443098</td>\n",
       "      <td>1407.287542</td>\n",
       "      <td>71653.870034</td>\n",
       "      <td>9.457436</td>\n",
       "      <td>37.513831</td>\n",
       "      <td>267.682405</td>\n",
       "    </tr>\n",
       "    <tr>\n",
       "      <th>5</th>\n",
       "      <td>19.373134</td>\n",
       "      <td>37.850746</td>\n",
       "      <td>510.328358</td>\n",
       "      <td>95.631389</td>\n",
       "      <td>1624.644052</td>\n",
       "      <td>83870.193578</td>\n",
       "      <td>9.779130</td>\n",
       "      <td>40.306874</td>\n",
       "      <td>289.603511</td>\n",
       "    </tr>\n",
       "    <tr>\n",
       "      <th>6</th>\n",
       "      <td>18.940476</td>\n",
       "      <td>41.726190</td>\n",
       "      <td>479.702381</td>\n",
       "      <td>82.394005</td>\n",
       "      <td>1986.297619</td>\n",
       "      <td>91535.946500</td>\n",
       "      <td>9.077114</td>\n",
       "      <td>44.567899</td>\n",
       "      <td>302.549081</td>\n",
       "    </tr>\n",
       "    <tr>\n",
       "      <th>7</th>\n",
       "      <td>20.505495</td>\n",
       "      <td>49.846154</td>\n",
       "      <td>545.791209</td>\n",
       "      <td>96.430525</td>\n",
       "      <td>2372.042735</td>\n",
       "      <td>94322.278144</td>\n",
       "      <td>9.819905</td>\n",
       "      <td>48.703621</td>\n",
       "      <td>307.119322</td>\n",
       "    </tr>\n",
       "    <tr>\n",
       "      <th>8</th>\n",
       "      <td>19.598131</td>\n",
       "      <td>48.439252</td>\n",
       "      <td>510.775701</td>\n",
       "      <td>105.148298</td>\n",
       "      <td>2171.739199</td>\n",
       "      <td>97956.496385</td>\n",
       "      <td>10.254184</td>\n",
       "      <td>46.601923</td>\n",
       "      <td>312.980026</td>\n",
       "    </tr>\n",
       "    <tr>\n",
       "      <th>9</th>\n",
       "      <td>19.243478</td>\n",
       "      <td>52.286957</td>\n",
       "      <td>539.443478</td>\n",
       "      <td>86.255988</td>\n",
       "      <td>2152.855530</td>\n",
       "      <td>105716.775286</td>\n",
       "      <td>9.287410</td>\n",
       "      <td>46.398874</td>\n",
       "      <td>325.141162</td>\n",
       "    </tr>\n",
       "    <tr>\n",
       "      <th>10</th>\n",
       "      <td>20.065041</td>\n",
       "      <td>58.430894</td>\n",
       "      <td>558.081301</td>\n",
       "      <td>91.258030</td>\n",
       "      <td>2697.181661</td>\n",
       "      <td>106464.583500</td>\n",
       "      <td>9.552907</td>\n",
       "      <td>51.934398</td>\n",
       "      <td>326.289110</td>\n",
       "    </tr>\n",
       "    <tr>\n",
       "      <th>11</th>\n",
       "      <td>19.805970</td>\n",
       "      <td>55.791045</td>\n",
       "      <td>541.380597</td>\n",
       "      <td>93.796656</td>\n",
       "      <td>2476.948491</td>\n",
       "      <td>96570.057064</td>\n",
       "      <td>9.684867</td>\n",
       "      <td>49.768951</td>\n",
       "      <td>310.757232</td>\n",
       "    </tr>\n",
       "    <tr>\n",
       "      <th>12</th>\n",
       "      <td>21.741007</td>\n",
       "      <td>60.611511</td>\n",
       "      <td>592.805755</td>\n",
       "      <td>103.236784</td>\n",
       "      <td>2681.978417</td>\n",
       "      <td>117276.331561</td>\n",
       "      <td>10.160550</td>\n",
       "      <td>51.787821</td>\n",
       "      <td>342.456321</td>\n",
       "    </tr>\n",
       "  </tbody>\n",
       "</table>\n",
       "</div>"
      ],
      "text/plain": [
       "            mean                                       var                  \\\n",
       "         gb_used messages_number minutes_spent     gb_used messages_number   \n",
       "month                                                                        \n",
       "1      13.222222       33.777778    428.111111   44.444444      940.694444   \n",
       "2      12.000000       21.958333    297.125000  109.130435      716.824275   \n",
       "3      17.648649       32.297297    489.648649  114.345345     1732.381381   \n",
       "4      16.963636       31.563636    458.018182   89.443098     1407.287542   \n",
       "5      19.373134       37.850746    510.328358   95.631389     1624.644052   \n",
       "6      18.940476       41.726190    479.702381   82.394005     1986.297619   \n",
       "7      20.505495       49.846154    545.791209   96.430525     2372.042735   \n",
       "8      19.598131       48.439252    510.775701  105.148298     2171.739199   \n",
       "9      19.243478       52.286957    539.443478   86.255988     2152.855530   \n",
       "10     20.065041       58.430894    558.081301   91.258030     2697.181661   \n",
       "11     19.805970       55.791045    541.380597   93.796656     2476.948491   \n",
       "12     21.741007       60.611511    592.805755  103.236784     2681.978417   \n",
       "\n",
       "                            std                                \n",
       "       minutes_spent    gb_used messages_number minutes_spent  \n",
       "month                                                          \n",
       "1       72769.361111   6.666667       30.670742    269.757968  \n",
       "2       87919.679348  10.446551       26.773574    296.512528  \n",
       "3      111384.900901  10.693238       41.621886    333.743765  \n",
       "4       71653.870034   9.457436       37.513831    267.682405  \n",
       "5       83870.193578   9.779130       40.306874    289.603511  \n",
       "6       91535.946500   9.077114       44.567899    302.549081  \n",
       "7       94322.278144   9.819905       48.703621    307.119322  \n",
       "8       97956.496385  10.254184       46.601923    312.980026  \n",
       "9      105716.775286   9.287410       46.398874    325.141162  \n",
       "10     106464.583500   9.552907       51.934398    326.289110  \n",
       "11      96570.057064   9.684867       49.768951    310.757232  \n",
       "12     117276.331561  10.160550       51.787821    342.456321  "
      ]
     },
     "execution_count": 54,
     "metadata": {},
     "output_type": "execute_result"
    }
   ],
   "source": [
    "ultra_statistics"
   ]
  },
  {
   "cell_type": "markdown",
   "id": "b45e311e",
   "metadata": {},
   "source": [
    "<b>SMART, в среднем за месяц:"
   ]
  },
  {
   "cell_type": "code",
   "execution_count": 55,
   "id": "73152bb5",
   "metadata": {},
   "outputs": [
    {
     "name": "stdout",
     "output_type": "stream",
     "text": [
      "Минут разговора: 387\n",
      "Сообщений: 31\n",
      "Гигабайт интернета: 15\n",
      "\n",
      "Стандартное отклонение минут разговора: 183\n",
      "Стандартное отклонение сообщений: 26\n",
      "Стандартное отклонение гигабайт интернета: 6\n",
      "\n",
      "Дисперсия минут разговора: 33720\n",
      "Дисперсия сообщений: 715\n",
      "Дисперсия гигабайт интернета: 32\n",
      "\n"
     ]
    }
   ],
   "source": [
    "print('Минут разговора:', round(smart_statistics['mean']['minutes_spent'].mean()))\n",
    "print('Сообщений:', round(smart_statistics['mean']['messages_number'].mean()))\n",
    "print('Гигабайт интернета:', round(smart_statistics['mean']['gb_used'].mean()))\n",
    "print('')\n",
    "print('Стандартное отклонение минут разговора:', round(smart_statistics['std']['minutes_spent'].mean()))\n",
    "print('Стандартное отклонение сообщений:', round(smart_statistics['std']['messages_number'].mean()))\n",
    "print('Стандартное отклонение гигабайт интернета:', round(smart_statistics['std']['gb_used'].mean()))\n",
    "print('')\n",
    "print('Дисперсия минут разговора:', round(smart_statistics['var']['minutes_spent'].mean()))\n",
    "print('Дисперсия сообщений:', round(smart_statistics['var']['messages_number'].mean()))\n",
    "print('Дисперсия гигабайт интернета:', round(smart_statistics['var']['gb_used'].mean()))\n",
    "print('')"
   ]
  },
  {
   "cell_type": "markdown",
   "id": "35a0d84e",
   "metadata": {},
   "source": [
    "<b>ULTRA, в среднем за месяц:"
   ]
  },
  {
   "cell_type": "code",
   "execution_count": 56,
   "id": "a9d4f488",
   "metadata": {},
   "outputs": [
    {
     "name": "stdout",
     "output_type": "stream",
     "text": [
      "Минут разговора: 496\n",
      "Сообщений: 44\n",
      "Гигабайт интернета: 18\n",
      "\n",
      "Стандартное отклонение минут разговора: 307\n",
      "Стандартное отклонение сообщений: 43\n",
      "Стандартное отклонение гигабайт интернета: 10\n",
      "\n",
      "Дисперсия минут разговора: 94787\n",
      "Дисперсия сообщений: 1913\n",
      "Дисперсия гигабайт интернета: 93\n"
     ]
    }
   ],
   "source": [
    "print('Минут разговора:', round(ultra_statistics['mean']['minutes_spent'].mean()))\n",
    "print('Сообщений:', round(ultra_statistics['mean']['messages_number'].mean()))\n",
    "print('Гигабайт интернета:', round(ultra_statistics['mean']['gb_used'].mean()))\n",
    "print('')\n",
    "print('Стандартное отклонение минут разговора:', round(ultra_statistics['std']['minutes_spent'].mean()))\n",
    "print('Стандартное отклонение сообщений:', round(ultra_statistics['std']['messages_number'].mean()))\n",
    "print('Стандартное отклонение гигабайт интернета:', round(ultra_statistics['std']['gb_used'].mean()))\n",
    "print('')\n",
    "print('Дисперсия минут разговора:', round(ultra_statistics['var']['minutes_spent'].mean()))\n",
    "print('Дисперсия сообщений:', round(ultra_statistics['var']['messages_number'].mean()))\n",
    "print('Дисперсия гигабайт интернета:', round(ultra_statistics['var']['gb_used'].mean()))"
   ]
  },
  {
   "cell_type": "markdown",
   "id": "89b8095f",
   "metadata": {},
   "source": [
    "### Диаграмма размаха для звонков, сообщений и интернета"
   ]
  },
  {
   "cell_type": "code",
   "execution_count": 57,
   "id": "6fe22536",
   "metadata": {},
   "outputs": [],
   "source": [
    "def plot_box():\n",
    "    column_list = ['minutes_spent', 'messages_number', 'gb_used']\n",
    "    rows = 1\n",
    "    cols = 3\n",
    "    column_list_counter = 0\n",
    "\n",
    "    fig, axes = plt.subplots(rows, cols, figsize=(35,10))\n",
    "\n",
    "    for r in range(rows):\n",
    "        for c in range(cols):\n",
    "            ax = group_table.boxplot(column=column_list[column_list_counter], by='tariff', fontsize=40, ax=axes[c],\n",
    "                                         boxprops=dict(linestyle='-', linewidth=3),\n",
    "                                         medianprops=dict(linestyle='-', linewidth=5),\n",
    "                                         whiskerprops=dict(linestyle='-', linewidth=3),\n",
    "                                         capprops=dict(linestyle='-', linewidth=5),\n",
    "                                         notch=True)\n",
    "            ax.set_title(column_list[column_list_counter])\n",
    "            ax.title.set_size(30)\n",
    "            ax.set_xlabel('')\n",
    "            column_list_counter += 1"
   ]
  },
  {
   "cell_type": "code",
   "execution_count": 58,
   "id": "5e5c0f42",
   "metadata": {
    "scrolled": true
   },
   "outputs": [
    {
     "data": {
      "image/png": "[encoded data removed]",
      "text/plain": [
       "<Figure size 2520x720 with 3 Axes>"
      ]
     },
     "metadata": {
      "needs_background": "light"
     },
     "output_type": "display_data"
    }
   ],
   "source": [
    "plot_box()"
   ]
  },
  {
   "cell_type": "markdown",
   "id": "2aa2d742",
   "metadata": {},
   "source": [
    "Посмотрев на диаграммы размаха, можно заметить, что медианные значения практически совпадают со средними значениями. И также пользователи тарифа ULTRA используют больше минут, сообщений и интернета, чем пользователи тарифа SMART."
   ]
  },
  {
   "cell_type": "markdown",
   "id": "faed0a97",
   "metadata": {},
   "source": [
    "### Гистограммы звонков, сообщений, интернета и выручки"
   ]
  },
  {
   "cell_type": "code",
   "execution_count": 59,
   "id": "0cc39bbd",
   "metadata": {},
   "outputs": [
    {
     "data": {
      "image/png": "[encoded data removed]",
      "text/plain": [
       "<Figure size 576x360 with 1 Axes>"
      ]
     },
     "metadata": {
      "needs_background": "light"
     },
     "output_type": "display_data"
    }
   ],
   "source": [
    "x = group_table['minutes_spent'][group_table['tariff']=='smart']\n",
    "y = group_table['minutes_spent'][group_table['tariff']=='ultra']\n",
    "ax = plt.gca()\n",
    "bins = 50\n",
    "title = 'Гистограмма длительности звонков, мин.'\n",
    "x.plot(kind='hist', bins=40,alpha=0.5, figsize=(8,5), ec='black', ax=ax, color='b', title=title, label='smart')\n",
    "y.plot(kind='hist', bins=40,alpha=0.5, figsize=(8,5), ec='black', ax=ax, color='g', title=title, label='ultra')\n",
    "\n",
    "plt.legend(loc='upper right')\n",
    "\n",
    "smart_data = 'Среднее - {:.2f}\\nДисперсия - {:.2f}\\nstd - {:.2f}'.format(smart_statistics['mean']['minutes_spent'].mean(), smart_statistics['var']['minutes_spent'].mean(), smart_statistics['std']['minutes_spent'].mean())\n",
    "ultra_data = 'Среднее - {:.2f}\\nДисперсия - {:.2f}\\nstd - {:.2f}'.format(ultra_statistics['mean']['minutes_spent'].mean(), ultra_statistics['var']['minutes_spent'].mean(), ultra_statistics['std']['minutes_spent'].mean())\n",
    "    \n",
    "legend_second = plt.legend([smart_data, ultra_data], prop={'size':10.5}, \n",
    "                                framealpha=0, bbox_to_anchor=(1.0,0.32), loc=4)\n",
    "\n",
    "\n",
    "plt.legend()\n",
    "plt.gca().add_artist(legend_second)    \n",
    "plt.show()"
   ]
  },
  {
   "cell_type": "markdown",
   "id": "09fe0e42",
   "metadata": {},
   "source": [
    "Для обоих тарифов распределение нормальное.\n",
    "<br>\n",
    "Пользователи тарифа SMART в большинстве своем разговаривают по 250-600 минут, при том, что лимит только 500. Таким образом они пользуются практически всеми минутами, а иногда даже и превышают.\n",
    "Для пользователей тарифа ULTRA среднее значение около 500 минут, а максимальные значения по графику доходит до 1500, однако лимит у них 3000. Значит они не очень любят разговаривать по телефону.\n",
    "То есть несмотря на то, что средние значения у ультра больше, чем у смарта, пользуются звонками они реже."
   ]
  },
  {
   "cell_type": "code",
   "execution_count": 60,
   "id": "766197f0",
   "metadata": {
    "scrolled": true
   },
   "outputs": [
    {
     "data": {
      "image/png": "[encoded data removed]",
      "text/plain": [
       "<Figure size 576x360 with 1 Axes>"
      ]
     },
     "metadata": {
      "needs_background": "light"
     },
     "output_type": "display_data"
    }
   ],
   "source": [
    "x = group_table['messages_number'][group_table['tariff']=='smart']\n",
    "y = group_table['messages_number'][group_table['tariff']=='ultra']\n",
    "ax = plt.gca()\n",
    "bins = 50\n",
    "title = 'Гистограмма количества отправленных СМС, шт.'\n",
    "x.plot(kind='hist', bins=40,alpha=0.5, figsize=(8,5), ec='black', ax=ax, color='b', title=title, label='smart')\n",
    "y.plot(kind='hist', bins=40,alpha=0.5, figsize=(8,5), ec='black', ax=ax, color='g', title=title, label='ultra')\n",
    "\n",
    "plt.legend(loc='upper right')\n",
    "\n",
    "smart_data = 'Среднее - {:.2f}\\nДисперсия - {:.2f}\\nstd - {:.2f}'.format(smart_statistics['mean']['messages_number'].mean(), smart_statistics['var']['messages_number'].mean(), smart_statistics['std']['messages_number'].mean())\n",
    "ultra_data = 'Среднее - {:.2f}\\nДисперсия - {:.2f}\\nstd - {:.2f}'.format(ultra_statistics['mean']['messages_number'].mean(), ultra_statistics['var']['messages_number'].mean(), ultra_statistics['std']['messages_number'].mean())\n",
    "    \n",
    "legend_second = plt.legend([smart_data, ultra_data], prop={'size':10.5}, \n",
    "                                framealpha=0, bbox_to_anchor=(1.0,0.32), loc=4)\n",
    "plt.legend()\n",
    "plt.gca().add_artist(legend_second)    \n",
    "plt.show()"
   ]
  },
  {
   "cell_type": "markdown",
   "id": "7c20367d",
   "metadata": {},
   "source": [
    "Расределения в обоих случаях Пуассона.\n",
    "<br>\n",
    "В обоих случаях люди не особо пользуются сообщениями, ни в одном тарифе среднее значение не достигает предложенного в тарифе значения. Тем не менее пользователи тарифа СМАРТ отправляют чаще сообщения, чем в УЛЬТРА."
   ]
  },
  {
   "cell_type": "code",
   "execution_count": 61,
   "id": "b917f227",
   "metadata": {
    "code_folding": []
   },
   "outputs": [
    {
     "data": {
      "image/png": "[encoded data removed]",
      "text/plain": [
       "<Figure size 576x360 with 1 Axes>"
      ]
     },
     "metadata": {
      "needs_background": "light"
     },
     "output_type": "display_data"
    }
   ],
   "source": [
    "x = group_table['gb_used'][group_table['tariff']=='smart']\n",
    "y = group_table['gb_used'][group_table['tariff']=='ultra']\n",
    "ax = plt.gca()\n",
    "bins = 50\n",
    "title = 'Гистограмма использованного интернет-трафика, Гб'\n",
    "x.plot(kind='hist', bins=40,alpha=0.5, figsize=(8,5), ec='black', ax=ax, color='b', title=title, label='smart')\n",
    "y.plot(kind='hist', bins=40,alpha=0.5, figsize=(8,5), ec='black', ax=ax, color='g', title=title, label='ultra')\n",
    "\n",
    "plt.legend(loc='upper right')\n",
    "\n",
    "smart_data = 'Среднее - {:.2f}\\nДисперсия - {:.2f}\\nstd - {:.2f}'.format(smart_statistics['mean']['gb_used'].mean(), smart_statistics['var']['gb_used'].mean(), smart_statistics['std']['gb_used'].mean())\n",
    "ultra_data = 'Среднее - {:.2f}\\nДисперсия - {:.2f}\\nstd - {:.2f}'.format(ultra_statistics['mean']['gb_used'].mean(), ultra_statistics['var']['gb_used'].mean(), ultra_statistics['std']['gb_used'].mean())\n",
    "    \n",
    "legend_second = plt.legend([smart_data, ultra_data], prop={'size':10.5}, \n",
    "                                framealpha=0, bbox_to_anchor=(1.0,0.32), loc=4)\n",
    "plt.legend()\n",
    "plt.gca().add_artist(legend_second)    \n",
    "\n",
    "plt.show()"
   ]
  },
  {
   "cell_type": "markdown",
   "id": "35702b72",
   "metadata": {},
   "source": [
    "Распределния в обоих случаях - нормальное.\n",
    "<br>\n",
    "Люди с тарифа СМАРТ в среднем юзают 15 Гб интернета, то есть сколько и в тарифе. При этом варьируется в пределах от 10 до 25 ГБ.\n",
    "Среднее у тарифа УЛЬТРА на 18 Гб, хотя им положено 30 Гб. То есть они используют меньше, чем им положено. Также есть какие-то выбросы, на 11, 18, 28, 33 Гб, непонятно с чем это связано, но это мало на что влияет. "
   ]
  },
  {
   "cell_type": "code",
   "execution_count": 71,
   "id": "13f8b742",
   "metadata": {},
   "outputs": [
    {
     "data": {
      "image/png": "[encoded data removed]",
      "text/plain": [
       "<Figure size 864x576 with 1 Axes>"
      ]
     },
     "metadata": {
      "needs_background": "light"
     },
     "output_type": "display_data"
    }
   ],
   "source": [
    "#ревьюер_код_ит - выручка\n",
    "import matplotlib.pyplot as plt\n",
    "plt.figure(figsize=(12,8))\n",
    "plt.hist(ultra.month_revenue, bins=10, color='salmon', edgecolor='grey', alpha=0.6, label = 'ultra', density = False)\n",
    "plt.hist(smart.month_revenue, bins=30, color='dodgerblue', edgecolor='grey', alpha=0.5,label = 'smart', density = False)\n",
    "\n",
    "plt.axvline(smart.month_revenue.mean(), color='blue', linestyle='dashed', linewidth=3\n",
    "                , label='Mean smart: {:.0f}'.format(smart.month_revenue.mean()))\n",
    "plt.axvline(ultra.month_revenue.mean(), color='r', linestyle='dashed', linewidth=3\n",
    "            , label='Mean ultra: {:.0f}'.format(ultra.month_revenue.mean()))\n",
    "plt.axvline(np.quantile(ultra.month_revenue, 0.95), color='r', linestyle='solid', linewidth=2, \n",
    "            label='95 quantile Ultra : {:.0f}'.format(np.quantile(ultra.month_revenue, 0.95)))\n",
    "plt.axvline(np.quantile(smart.month_revenue, 0.95), color='blue', linestyle='solid', linewidth=2, \n",
    "            label='95 quantile Smart: {:.0f}'.format(np.quantile(smart.month_revenue, 0.95)))\n",
    "plt.axvline(np.quantile(ultra.month_revenue, 0.05), color='r', linestyle='solid', linewidth=1, \n",
    "            label='05 quantile Ultra : {:.0f}'.format(np.quantile(ultra.month_revenue, 0.05)))\n",
    "plt.axvline(np.quantile(smart.month_revenue, 0.05), color='blue', linestyle='solid', linewidth=1, \n",
    "            label='05 quantile Smart: {:.0f}'.format(np.quantile(smart.month_revenue, 0.05)))\n",
    "plt.legend()\n",
    "plt.title('Revenue histogram')\n",
    "plt.show()"
   ]
  },
  {
   "cell_type": "markdown",
   "id": "9b56fc0e",
   "metadata": {},
   "source": [
    "<b>Вывод по выручке:"
   ]
  },
  {
   "cell_type": "markdown",
   "id": "a0e229d2",
   "metadata": {},
   "source": [
    "Судя по графикам по полученной выручке двух тарифом можно сказать, что:\n",
    "- средняя выручка по тарифу СМАРТ(1290) почти в 1,5 раза меньше средней выручки с тарифа УЛЬТРА (=2070)\n",
    "- почти одинаковую максимальную плату привносят оба тарифа, ультра немного больше\n",
    "- при этом пользователи УЛЬТРА в основном (среднем) платят только себестоимость тарифа, не часто превышая и преобретая дополнительные услуги\n",
    "- в то время как пользователи тарифа СМАРТ довольно часто пользуются услугами сверх тарифа\n",
    "- оба распределения Пуассона\n",
    "\n",
    "Чуть ниже я посчитала общие выручки для 2х тарифов и выяснилось, что несмотря на то, что средняя выручка у тарифа УЛЬТРА значительно больше, выручка тарифа СМАРТ занимает большую часть общей выручки (почти 60%). Что приводит к в выводу, что пользователи тарифа СМАРТ благодаря их количеству и любви разговаривать сверх нормы являются более выгодными."
   ]
  },
  {
   "cell_type": "markdown",
   "id": "7de556d7",
   "metadata": {},
   "source": [
    "<div class=\"alert alert-warning\">\n",
    "       \n",
    "<b>Некоторые рекомендации 💡:</b> \n",
    "        \n",
    "А вот я бы не согласился! На моей гистограмме видно, что мало того, что средняя выручка по ультра больше, так ещё и разлёт выручки ультра - меньше (разница между 5 и 95 квантилью).\n",
    "       \n",
    "Поэтому ультра не просто много платят, но и стабильнее платят. Я бы пикнул ультра."
   ]
  },
  {
   "cell_type": "code",
   "execution_count": 63,
   "id": "d85a70a9",
   "metadata": {},
   "outputs": [
    {
     "name": "stdout",
     "output_type": "stream",
     "text": [
      " Общая выручка тарифа SMART= 2875351, в процентах от общей выручки 58.51%\n",
      " Общая выручка тарифа ULTRA= 2039100, в процентах от общей выручки 41.49%\n"
     ]
    }
   ],
   "source": [
    "sum1 = smart['month_revenue'].sum()\n",
    "sum2 = ultra['month_revenue'].sum()\n",
    "print(f' Общая выручка тарифа SMART= {sum1:.0f}, в процентах от общей выручки {(sum1/(sum1+sum2)):.2%}')\n",
    "print(f' Общая выручка тарифа ULTRA= {sum2:.0f}, в процентах от общей выручки {(sum2/(sum1+sum2)):.2%}')"
   ]
  },
  {
   "cell_type": "code",
   "execution_count": 64,
   "id": "37275882",
   "metadata": {},
   "outputs": [
    {
     "data": {
      "text/plain": [
       "2229"
      ]
     },
     "execution_count": 64,
     "metadata": {},
     "output_type": "execute_result"
    }
   ],
   "source": [
    "len(smart)"
   ]
  },
  {
   "cell_type": "code",
   "execution_count": 65,
   "id": "a7578bc1",
   "metadata": {},
   "outputs": [
    {
     "data": {
      "text/plain": [
       "985"
      ]
     },
     "execution_count": 65,
     "metadata": {},
     "output_type": "execute_result"
    }
   ],
   "source": [
    "len(ultra)"
   ]
  },
  {
   "cell_type": "markdown",
   "id": "9bc737da",
   "metadata": {},
   "source": [
    "## Шаг 4. Проверьте гипотезы"
   ]
  },
  {
   "cell_type": "markdown",
   "id": "41799ce3",
   "metadata": {},
   "source": [
    "Пороговое значение alpha задайте самостоятельно.\n",
    "<br>\n",
    "<b>Поясните:</b>\n",
    "как вы формулировали нулевую и альтернативную гипотезы;\n",
    "какой критерий использовали для проверки гипотез и почему."
   ]
  },
  {
   "cell_type": "markdown",
   "id": "38b702c3",
   "metadata": {},
   "source": [
    "### средняя выручка пользователей тарифов «Ультра» и «Смарт» различаются"
   ]
  },
  {
   "cell_type": "markdown",
   "id": "71ba0979",
   "metadata": {},
   "source": [
    "В данном случае за нулевую H0 гипотезу мы принимаем ту, когда среднее двух выборок равны.<br>\n",
    "За альтернативную гипотезу принимаем ту, в которой они не равны. \n",
    "<br>\n",
    "По гипотезе о равенстве средних 2х генеральных совокупностей можно воспользоваться формулой:scipy.stats.ttest_ind(arra1.array2, equal_var)<br>\n",
    "equal_var сделаем false, так как дисперсии совокупностей не равны.<br>\n",
    "При этом совокупности независимы и выборки одного размера."
   ]
  },
  {
   "cell_type": "markdown",
   "id": "f0840048",
   "metadata": {},
   "source": [
    "Создали таблицы со значениями средней выручки для двух тарифов."
   ]
  },
  {
   "cell_type": "code",
   "execution_count": 66,
   "id": "2acecffa",
   "metadata": {},
   "outputs": [],
   "source": [
    "smart_mean_revenue = smart.pivot_table(index = 'month', values = 'month_revenue', aggfunc = 'mean')\n",
    "ultra_mean_revenue = ultra.pivot_table(index = 'month', values = 'month_revenue', aggfunc = 'mean')"
   ]
  },
  {
   "cell_type": "code",
   "execution_count": 67,
   "id": "0f2b4de2",
   "metadata": {},
   "outputs": [
    {
     "name": "stdout",
     "output_type": "stream",
     "text": [
      "p-value: [3.20279259e-08]\n",
      "Отвергаем нулевую гипотезу\n"
     ]
    }
   ],
   "source": [
    "alpha = 0.05\n",
    "results = st.ttest_ind(smart_mean_revenue, ultra_mean_revenue, equal_var = False)\n",
    "print('p-value:', results.pvalue)\n",
    "\n",
    "if (results.pvalue < alpha):\n",
    "    print(\"Отвергаем нулевую гипотезу\")\n",
    "else:\n",
    "    print(\"Не получилось отвергнуть нулевую гипотезу\")"
   ]
  },
  {
   "cell_type": "markdown",
   "id": "5218af05",
   "metadata": {},
   "source": [
    "<b>Вывод по гипотезе 1:\n",
    "\n",
    "Таким образом, отвергаем нулевую гипотезу, что значит, что средняя выручка для двух тарифов разная.\n",
    "А именно, маленькое значение p-value говорит о том, что средние 2х выборок не будут совпадать."
   ]
  },
  {
   "cell_type": "markdown",
   "id": "b3f89ea4",
   "metadata": {},
   "source": [
    "<div class=\"alert alert-warning\">\n",
    "       \n",
    "<b>Некоторые рекомендации 💡:</b> \n",
    "        \n",
    "        \n",
    "А если поменяем параментр alternative на greater или less, что будет?\n",
    "\n",
    "Как это поменяет наши исходные гипотезы и результаты?\n",
    "        \n",
    "https://www.statsmodels.org/dev/generated/statsmodels.stats.weightstats.ttest_ind.html"
   ]
  },
  {
   "cell_type": "code",
   "execution_count": 83,
   "id": "9a2df663",
   "metadata": {},
   "outputs": [
    {
     "name": "stdout",
     "output_type": "stream",
     "text": [
      "p-value: [-12.21965024]\n",
      "statistics: [1.60139629e-08]\n",
      "Отвергаем нулевую гипотезу\n"
     ]
    }
   ],
   "source": [
    "import statsmodels.api as sm\n",
    "from patsy import dmatrices\n",
    "\n",
    "alpha = 0.05\n",
    "#results = st.ttest_ind(smart_mean_revenue, ultra_mean_revenue, equal_var = False)\n",
    "results =ttest_ind(smart_mean_revenue, ultra_mean_revenue, alternative='less', equal_var = False)\n",
    "print('p-value:', results[0])\n",
    "print('statistics:', results[1])\n",
    "\n",
    "if (results.pvalue < alpha):\n",
    "    print(\"Отвергаем нулевую гипотезу\")\n",
    "else:\n",
    "    print(\"Не получилось отвергнуть нулевую гипотезу\")"
   ]
  },
  {
   "cell_type": "markdown",
   "id": "e40d46cd",
   "metadata": {},
   "source": [
    "<div class=\"alert alert-warning\">\n",
    "       \n",
    "<b>Некоторые рекомендации 💡:</b> \n",
    "        \n",
    "Ну я просто модифицировал ранее использованный ttest_ind.\n",
    "\n",
    "alternative='less' - проверка с нулевой гипотезой о равенстве средних, альтернативной - о том, что средняя смарт меньше ультра.\n",
    "Соответственно, вывод можно делать соответствующий."
   ]
  },
  {
   "cell_type": "markdown",
   "id": "717a9658",
   "metadata": {},
   "source": [
    "### средняя выручка пользователей из Москвы отличается от выручки пользователей из других регионов"
   ]
  },
  {
   "cell_type": "markdown",
   "id": "4f03abbc",
   "metadata": {},
   "source": [
    "За нулевую гипотезу примем одинаковое значение средней выручки, полученной в Москве и в других регионах.\n",
    "<br>\n",
    "Альтернативная гипотеза говорит, что средняя выручка отличается для Москвы и для других регионов."
   ]
  },
  {
   "cell_type": "code",
   "execution_count": 86,
   "id": "f5921840",
   "metadata": {},
   "outputs": [],
   "source": [
    "moscow = group_table[group_table['city'] == 'Москва']\n",
    "other = group_table[group_table['city'] != 'Москва']\n",
    "\n",
    "moscow_mean_revenue = moscow.pivot_table(index = 'month', values = 'month_revenue', aggfunc = 'mean')\n",
    "other_mean_revenue = other.pivot_table(index = 'month', values = 'month_revenue', aggfunc = 'mean')"
   ]
  },
  {
   "cell_type": "code",
   "execution_count": 87,
   "id": "dd221619",
   "metadata": {},
   "outputs": [
    {
     "name": "stdout",
     "output_type": "stream",
     "text": [
      "p-value: [0.27212244]\n",
      "Не получилось отвергнуть нулевую гипотезу\n"
     ]
    }
   ],
   "source": [
    "alpha = 0.05\n",
    "results = st.ttest_ind(moscow_mean_revenue, other_mean_revenue, equal_var = False)\n",
    "print('p-value:', results.pvalue)\n",
    "\n",
    "if (results.pvalue < alpha):\n",
    "    print(\"Отвергаем нулевую гипотезу\")\n",
    "else:\n",
    "    print(\"Не получилось отвергнуть нулевую гипотезу\")"
   ]
  },
  {
   "cell_type": "markdown",
   "id": "1a74e12b",
   "metadata": {},
   "source": [
    "<b>Вывод по гипотезе 2:"
   ]
  },
  {
   "cell_type": "markdown",
   "id": "9189ddaf",
   "metadata": {},
   "source": [
    "Так как значение p-value достаточно велико, нулевую гипотеу не отвергаем. Таким образом средняя выручка для Москвы и других регионов примерно совпадает. А также различие средних значений в выборках случайно."
   ]
  },
  {
   "cell_type": "markdown",
   "id": "baa7809d",
   "metadata": {},
   "source": [
    "### Можно ещё попробовать протестировать на двух выборках. Ультра и смарт. Вдруг один тариф всё таки лучше продвигать в МСК?"
   ]
  },
  {
   "cell_type": "code",
   "execution_count": 88,
   "id": "a3fc00a9",
   "metadata": {},
   "outputs": [],
   "source": [
    "moscow_smart = moscow[moscow['tariff'] == 'smart']\n",
    "moscow_ultra = moscow[moscow['tariff'] == 'ultra']\n",
    "other_smart = other[other['tariff'] == 'smart']\n",
    "other_ultra = other[other['tariff'] == 'ultra']\n",
    "\n",
    "moscow_m_r_smart = moscow_smart.pivot_table(index = 'month', values = 'month_revenue', aggfunc = 'mean')\n",
    "moscow_m_r_ultra = moscow_ultra.pivot_table(index = 'month', values = 'month_revenue', aggfunc = 'mean')\n",
    "other_m_r_smart = other_smart.pivot_table(index = 'month', values = 'month_revenue', aggfunc = 'mean')\n",
    "other_m_r_ultra = other_ultra.pivot_table(index = 'month', values = 'month_revenue', aggfunc = 'mean')"
   ]
  },
  {
   "cell_type": "code",
   "execution_count": 89,
   "id": "dd077ab0",
   "metadata": {},
   "outputs": [
    {
     "name": "stdout",
     "output_type": "stream",
     "text": [
      "p-value: [5.87164322e-10]\n",
      "Отвергаем нулевую гипотезу\n"
     ]
    }
   ],
   "source": [
    "#сравнение тарифов для Москвы\n",
    "\n",
    "alpha = 0.05\n",
    "results = st.ttest_ind(moscow_m_r_smart, moscow_m_r_ultra, equal_var = False)\n",
    "print('p-value:', results.pvalue)\n",
    "\n",
    "if (results.pvalue < alpha):\n",
    "    print(\"Отвергаем нулевую гипотезу\")\n",
    "else:\n",
    "    print(\"Не получилось отвергнуть нулевую гипотезу\")"
   ]
  },
  {
   "cell_type": "code",
   "execution_count": 90,
   "id": "5dcf4f3d",
   "metadata": {},
   "outputs": [
    {
     "name": "stdout",
     "output_type": "stream",
     "text": [
      "p-value: [7.09630168e-08]\n",
      "Отвергаем нулевую гипотезу\n"
     ]
    }
   ],
   "source": [
    "#сравнение тарифов для других районов\n",
    "\n",
    "alpha = 0.05\n",
    "results = st.ttest_ind(other_m_r_smart, other_m_r_ultra, equal_var = False)\n",
    "print('p-value:', results.pvalue)\n",
    "\n",
    "if (results.pvalue < alpha):\n",
    "    print(\"Отвергаем нулевую гипотезу\")\n",
    "else:\n",
    "    print(\"Не получилось отвергнуть нулевую гипотезу\")"
   ]
  },
  {
   "cell_type": "markdown",
   "id": "41b0b7a8",
   "metadata": {},
   "source": [
    "<b>Вывод:"
   ]
  },
  {
   "cell_type": "markdown",
   "id": "800ea668",
   "metadata": {},
   "source": [
    "Для обоих случаев Выручка для двух тарифов различается, так что вполне возможно ты прав и стоит сделать такой же анализ отдельно для Москвы и для других регионов. "
   ]
  },
  {
   "cell_type": "markdown",
   "id": "ae27b431",
   "metadata": {},
   "source": [
    "***"
   ]
  },
  {
   "cell_type": "markdown",
   "id": "4861bfea",
   "metadata": {},
   "source": [
    "## Общий вывод"
   ]
  },
  {
   "cell_type": "markdown",
   "id": "4f1476c5",
   "metadata": {},
   "source": [
    "Итак, загрузили все полученные данные. Обработали данные. Затем создали общую таблицу, в которой была посчитала прибыль для каждого человека по месяцам. Также посчитали среднюю продолжительность разговоров, количество сообщений и использованных Гб интернета для пользователей разных тарифов, а также дисперсию и стандартное отклонение для них.\n",
    "<br>\n",
    "Построив гистограммы для двух тарифов, мы увидели, что пользователи тарифа ULTRA используют в среднем больше минут, сообщений и интернета, чем пользователи тарифа SMART. Однако большинство людей с тарифом ультра не используют все включенные в тариф минуты, сообщения и интернет, хотя тратят на этот тариф почти в 4 раза больше,чем люди с тарифом СМАРТ.\n",
    "<br>\n",
    "Далее мы применили статистический анализ для проверки двух гипотез. Итоги которых :\n",
    "- средняя выручка пользователей тарифов «Ультра» больше чем у «Смарт» \n",
    "- средняя выручка пользователей из Москвы практически не отличается от выручки пользователей из других регионов\n"
   ]
  },
  {
   "cell_type": "markdown",
   "id": "e0a2169f",
   "metadata": {},
   "source": [
    "<b>Краткий отчет:"
   ]
  },
  {
   "cell_type": "markdown",
   "id": "27d2f35b",
   "metadata": {},
   "source": [
    "Тариф СМАРТ в общем сложности приносит компании «Мегалайн» около 60% от всей выручки, количество пользваотелей при этом составляет примерно 2200 человек. В то же время тариф УЛЬТРА приносит оставшиеся 40% всей выручки, но количество пользователей состаляет около 1000, что более чем в раза меньше, чем у СМАРТ.\n",
    "<br>\n",
    "<br>\n",
    "Пользователи тарифа SMART в большинстве своем разговаривают по 250-700 минут, при том, что лимит только 500. Таким образом они пользуются практически всеми минутами, а иногда даже и превышают. И за лишние минуты разговора им приходится доплачивать в районе 400-600 лишних рублей.\n",
    "В то время как пользователи УЛЬТРА даже не расходуют полностью минуты.\n",
    "<br>\n",
    "<br>\n",
    "Несмотря на то, что в целом пользователи обоих тарифов не очень часто пользуются отправкой сообщений, многие из тарифа СМАРТ приобретают до 50 новых сообщений, т.е. платят до 150 рублей сверху. У УЛЬТРА таких проблем совсем нет.\n",
    "<br>\n",
    "<br>\n",
    "Люди с тарифа СМАРТ в среднем юзают 15 Гб интернета, то есть сколько и в тарифе. При этом варьируется в пределах от 10 до 25 ГБ. Таким образом около половины пользователей СМАРТ приходится доплачивать за лишние 10 Гб до 2000 рублей!!\n",
    "Тарифу УЛЬТРА всегда хвататет того, что есть в тарифе.\n",
    "<br>\n",
    "<br>\n",
    "Итак, несмотря на то, что средняя выручка у тарифа УЛЬТРА значительно больше, выручка тарифа СМАРТ занимает большую часть общей выручки. Что приводит к в выводу, что пользователи тарифа СМАРТ благодаря их количеству и приобретенных дополнительных услуг являются более выгодными.\n",
    "<br>\n",
    "<br>\n",
    "Таким образом, в компании «Мегалайн» есть дешевый тариф СМАРТ за 550 рублей, где пользователям не хватает интернета, сообщений и количества минут разговора, и есть тариф УЛЬТРА, стоимостью 1950 рублей, которым пользуется уже другой класс граждан, где лимитов по всем типам связи больше чем предостаточно.\n",
    "<br>\n",
    "<br>\n",
    "В итоге, я думаю, что менять что-то в тарифах особого смысла для компании нет, однако стоит задуматься о создании третьего (промежуточного) тарифа, который включал бы в себя большее количество звонков, сообщений, Гб интернета, но при этом абонентская плата составляла что-то среднее из цен тарифов СМАРТ и УЛЬТРА. Например такой тариф мог бы включать: 1000 минут, 200 сообщений, 20 Гб интернета и стоил бы 1250 рублей. Это бы позволило людям выбрать наиболее подходящий по стоимости тариф, при этом не уменьшая выручки.\n"
   ]
  }
 ],
 "metadata": {
  "ExecuteTimeLog": [
   {
    "duration": 223,
    "start_time": "2022-05-02T13:40:55.402Z"
   },
   {
    "duration": 1287,
    "start_time": "2022-05-02T13:51:10.346Z"
   },
   {
    "duration": 2,
    "start_time": "2022-05-02T13:51:11.636Z"
   },
   {
    "duration": 209,
    "start_time": "2022-05-02T13:51:11.640Z"
   },
   {
    "duration": 0,
    "start_time": "2022-05-02T13:51:11.851Z"
   },
   {
    "duration": 9,
    "start_time": "2022-05-02T13:51:13.159Z"
   },
   {
    "duration": 8,
    "start_time": "2022-05-02T13:51:13.653Z"
   },
   {
    "duration": 3,
    "start_time": "2022-05-02T13:51:25.375Z"
   },
   {
    "duration": 414,
    "start_time": "2022-05-02T13:51:26.758Z"
   },
   {
    "duration": 2,
    "start_time": "2022-05-02T13:51:27.496Z"
   },
   {
    "duration": 38,
    "start_time": "2022-05-02T13:51:28.090Z"
   },
   {
    "duration": 27,
    "start_time": "2022-05-02T13:51:29.889Z"
   },
   {
    "duration": 22,
    "start_time": "2022-05-02T13:51:30.299Z"
   },
   {
    "duration": 18,
    "start_time": "2022-05-02T13:51:30.749Z"
   },
   {
    "duration": 10,
    "start_time": "2022-05-02T13:51:31.229Z"
   },
   {
    "duration": 4,
    "start_time": "2022-05-02T13:51:31.710Z"
   },
   {
    "duration": 103,
    "start_time": "2022-05-02T13:51:32.588Z"
   },
   {
    "duration": 10,
    "start_time": "2022-05-02T13:51:33.788Z"
   },
   {
    "duration": 42,
    "start_time": "2022-05-02T13:51:35.377Z"
   },
   {
    "duration": 3,
    "start_time": "2022-05-02T13:51:36.297Z"
   },
   {
    "duration": 204,
    "start_time": "2022-05-02T13:51:37.072Z"
   },
   {
    "duration": 10,
    "start_time": "2022-05-02T13:51:37.885Z"
   },
   {
    "duration": 9,
    "start_time": "2022-05-02T13:51:38.331Z"
   },
   {
    "duration": 208,
    "start_time": "2022-05-02T13:51:39.112Z"
   },
   {
    "duration": 6,
    "start_time": "2022-05-02T13:51:39.868Z"
   },
   {
    "duration": 275,
    "start_time": "2022-05-02T13:51:40.461Z"
   },
   {
    "duration": 20,
    "start_time": "2022-05-02T13:51:40.986Z"
   },
   {
    "duration": 7,
    "start_time": "2022-05-02T13:51:42.303Z"
   },
   {
    "duration": 265,
    "start_time": "2022-05-02T13:51:42.760Z"
   },
   {
    "duration": 187,
    "start_time": "2022-05-02T13:51:44.042Z"
   },
   {
    "duration": 17,
    "start_time": "2022-05-02T13:51:45.127Z"
   },
   {
    "duration": 5,
    "start_time": "2022-05-02T13:51:45.592Z"
   },
   {
    "duration": 6,
    "start_time": "2022-05-02T13:51:46.657Z"
   },
   {
    "duration": 194,
    "start_time": "2022-05-02T13:51:47.874Z"
   },
   {
    "duration": 5,
    "start_time": "2022-05-02T13:51:50.508Z"
   },
   {
    "duration": 64,
    "start_time": "2022-05-02T13:51:50.920Z"
   },
   {
    "duration": 45,
    "start_time": "2022-05-02T13:51:51.929Z"
   },
   {
    "duration": 98,
    "start_time": "2022-05-02T13:51:52.369Z"
   },
   {
    "duration": 4,
    "start_time": "2022-05-02T13:51:54.361Z"
   },
   {
    "duration": 15,
    "start_time": "2022-05-02T13:51:54.368Z"
   },
   {
    "duration": 12,
    "start_time": "2022-05-02T13:51:55.399Z"
   },
   {
    "duration": 10,
    "start_time": "2022-05-02T13:51:58.530Z"
   },
   {
    "duration": 13,
    "start_time": "2022-05-02T13:51:59.056Z"
   },
   {
    "duration": 12,
    "start_time": "2022-05-02T13:51:59.565Z"
   },
   {
    "duration": 11,
    "start_time": "2022-05-02T13:52:00.246Z"
   },
   {
    "duration": 4,
    "start_time": "2022-05-02T13:52:00.939Z"
   },
   {
    "duration": 14,
    "start_time": "2022-05-02T13:52:01.258Z"
   },
   {
    "duration": 5,
    "start_time": "2022-05-02T13:52:07.131Z"
   },
   {
    "duration": 4,
    "start_time": "2022-05-02T13:52:07.746Z"
   },
   {
    "duration": 15,
    "start_time": "2022-05-02T13:52:08.051Z"
   },
   {
    "duration": 4,
    "start_time": "2022-05-02T13:52:08.992Z"
   },
   {
    "duration": 4,
    "start_time": "2022-05-02T13:52:09.373Z"
   },
   {
    "duration": 4,
    "start_time": "2022-05-02T13:52:09.828Z"
   },
   {
    "duration": 9,
    "start_time": "2022-05-02T13:52:10.696Z"
   },
   {
    "duration": 571,
    "start_time": "2022-05-02T13:52:11.610Z"
   },
   {
    "duration": 40,
    "start_time": "2022-05-02T13:52:14.897Z"
   },
   {
    "duration": 5,
    "start_time": "2022-05-02T13:52:34.064Z"
   },
   {
    "duration": 6,
    "start_time": "2022-05-02T14:00:42.078Z"
   },
   {
    "duration": 260,
    "start_time": "2022-05-02T14:00:51.872Z"
   },
   {
    "duration": 7,
    "start_time": "2022-05-02T14:00:59.270Z"
   },
   {
    "duration": 22,
    "start_time": "2022-05-02T14:00:59.524Z"
   },
   {
    "duration": 21,
    "start_time": "2022-05-02T14:00:59.838Z"
   },
   {
    "duration": 16,
    "start_time": "2022-05-02T14:01:00.516Z"
   },
   {
    "duration": 24,
    "start_time": "2022-05-02T14:01:00.873Z"
   },
   {
    "duration": 18,
    "start_time": "2022-05-02T14:01:01.675Z"
   },
   {
    "duration": 20,
    "start_time": "2022-05-02T14:01:02.443Z"
   },
   {
    "duration": 6,
    "start_time": "2022-05-02T14:01:03.621Z"
   },
   {
    "duration": 986,
    "start_time": "2022-05-02T14:01:04.009Z"
   },
   {
    "duration": 320,
    "start_time": "2022-05-02T14:01:05.870Z"
   },
   {
    "duration": 291,
    "start_time": "2022-05-02T14:03:44.933Z"
   },
   {
    "duration": 315,
    "start_time": "2022-05-02T14:03:49.864Z"
   },
   {
    "duration": 598,
    "start_time": "2022-05-02T14:03:54.613Z"
   },
   {
    "duration": 305,
    "start_time": "2022-05-02T14:03:57.608Z"
   },
   {
    "duration": 24,
    "start_time": "2022-05-02T14:04:47.921Z"
   },
   {
    "duration": 371,
    "start_time": "2022-05-02T14:05:59.165Z"
   },
   {
    "duration": 189,
    "start_time": "2022-05-02T14:07:36.782Z"
   },
   {
    "duration": 364,
    "start_time": "2022-05-02T14:07:42.000Z"
   },
   {
    "duration": 191,
    "start_time": "2022-05-02T14:13:02.086Z"
   },
   {
    "duration": 3,
    "start_time": "2022-05-02T14:21:20.803Z"
   },
   {
    "duration": 473,
    "start_time": "2022-05-02T14:21:21.095Z"
   },
   {
    "duration": 3,
    "start_time": "2022-05-02T14:21:21.570Z"
   },
   {
    "duration": 49,
    "start_time": "2022-05-02T14:21:21.575Z"
   },
   {
    "duration": 29,
    "start_time": "2022-05-02T14:21:22.322Z"
   },
   {
    "duration": 25,
    "start_time": "2022-05-02T14:21:22.388Z"
   },
   {
    "duration": 23,
    "start_time": "2022-05-02T14:21:22.542Z"
   },
   {
    "duration": 11,
    "start_time": "2022-05-02T14:21:22.698Z"
   },
   {
    "duration": 3,
    "start_time": "2022-05-02T14:21:22.857Z"
   },
   {
    "duration": 78,
    "start_time": "2022-05-02T14:21:23.157Z"
   },
   {
    "duration": 12,
    "start_time": "2022-05-02T14:21:23.647Z"
   },
   {
    "duration": 39,
    "start_time": "2022-05-02T14:21:24.286Z"
   },
   {
    "duration": 3,
    "start_time": "2022-05-02T14:21:24.607Z"
   },
   {
    "duration": 196,
    "start_time": "2022-05-02T14:21:24.947Z"
   },
   {
    "duration": 9,
    "start_time": "2022-05-02T14:21:25.282Z"
   },
   {
    "duration": 9,
    "start_time": "2022-05-02T14:21:25.443Z"
   },
   {
    "duration": 182,
    "start_time": "2022-05-02T14:21:25.769Z"
   },
   {
    "duration": 6,
    "start_time": "2022-05-02T14:21:26.082Z"
   },
   {
    "duration": 198,
    "start_time": "2022-05-02T14:21:26.241Z"
   },
   {
    "duration": 17,
    "start_time": "2022-05-02T14:21:26.441Z"
   },
   {
    "duration": 8,
    "start_time": "2022-05-02T14:21:26.727Z"
   },
   {
    "duration": 200,
    "start_time": "2022-05-02T14:21:27.685Z"
   },
   {
    "duration": 274,
    "start_time": "2022-05-02T14:21:28.016Z"
   },
   {
    "duration": 17,
    "start_time": "2022-05-02T14:21:28.333Z"
   },
   {
    "duration": 5,
    "start_time": "2022-05-02T14:21:28.491Z"
   },
   {
    "duration": 6,
    "start_time": "2022-05-02T14:21:28.876Z"
   },
   {
    "duration": 299,
    "start_time": "2022-05-02T14:21:31.434Z"
   },
   {
    "duration": 4,
    "start_time": "2022-05-02T14:21:33.289Z"
   },
   {
    "duration": 53,
    "start_time": "2022-05-02T14:21:33.603Z"
   },
   {
    "duration": 34,
    "start_time": "2022-05-02T14:21:34.780Z"
   },
   {
    "duration": 31,
    "start_time": "2022-05-02T14:21:35.345Z"
   },
   {
    "duration": 4,
    "start_time": "2022-05-02T14:21:36.613Z"
   },
   {
    "duration": 10,
    "start_time": "2022-05-02T14:21:37.055Z"
   },
   {
    "duration": 7,
    "start_time": "2022-05-02T14:21:55.203Z"
   },
   {
    "duration": 11,
    "start_time": "2022-05-02T14:22:04.460Z"
   },
   {
    "duration": 10,
    "start_time": "2022-05-02T14:22:07.624Z"
   },
   {
    "duration": 248,
    "start_time": "2022-05-02T14:23:16.848Z"
   },
   {
    "duration": 4,
    "start_time": "2022-05-06T19:34:34.997Z"
   },
   {
    "duration": 2,
    "start_time": "2022-05-06T19:35:57.088Z"
   },
   {
    "duration": 1286,
    "start_time": "2022-05-06T19:44:22.821Z"
   },
   {
    "duration": 397,
    "start_time": "2022-05-06T19:44:24.109Z"
   },
   {
    "duration": 2,
    "start_time": "2022-05-06T19:44:24.507Z"
   },
   {
    "duration": 38,
    "start_time": "2022-05-06T19:44:24.512Z"
   },
   {
    "duration": 32,
    "start_time": "2022-05-06T19:44:24.552Z"
   },
   {
    "duration": 25,
    "start_time": "2022-05-06T19:44:24.585Z"
   },
   {
    "duration": 18,
    "start_time": "2022-05-06T19:44:24.612Z"
   },
   {
    "duration": 11,
    "start_time": "2022-05-06T19:44:24.631Z"
   },
   {
    "duration": 7,
    "start_time": "2022-05-06T19:44:24.643Z"
   },
   {
    "duration": 94,
    "start_time": "2022-05-06T19:44:24.652Z"
   },
   {
    "duration": 11,
    "start_time": "2022-05-06T19:44:24.747Z"
   },
   {
    "duration": 61,
    "start_time": "2022-05-06T19:44:24.759Z"
   },
   {
    "duration": 2,
    "start_time": "2022-05-06T19:44:24.822Z"
   },
   {
    "duration": 259,
    "start_time": "2022-05-06T19:44:24.826Z"
   },
   {
    "duration": 11,
    "start_time": "2022-05-06T19:44:25.087Z"
   },
   {
    "duration": 15,
    "start_time": "2022-05-06T19:44:25.100Z"
   },
   {
    "duration": 229,
    "start_time": "2022-05-06T19:44:25.117Z"
   },
   {
    "duration": 6,
    "start_time": "2022-05-06T19:44:25.348Z"
   },
   {
    "duration": 249,
    "start_time": "2022-05-06T19:44:25.356Z"
   },
   {
    "duration": 21,
    "start_time": "2022-05-06T19:44:25.607Z"
   },
   {
    "duration": 3,
    "start_time": "2022-05-06T19:44:25.629Z"
   },
   {
    "duration": 228,
    "start_time": "2022-05-06T19:44:25.633Z"
   },
   {
    "duration": 25,
    "start_time": "2022-05-06T19:44:25.863Z"
   },
   {
    "duration": 4,
    "start_time": "2022-05-06T19:44:25.890Z"
   },
   {
    "duration": 7,
    "start_time": "2022-05-06T19:44:25.896Z"
   },
   {
    "duration": 8,
    "start_time": "2022-05-06T19:44:25.904Z"
   },
   {
    "duration": 49,
    "start_time": "2022-05-06T19:44:25.913Z"
   },
   {
    "duration": 53,
    "start_time": "2022-05-06T19:44:25.972Z"
   },
   {
    "duration": 30,
    "start_time": "2022-05-06T19:44:26.027Z"
   },
   {
    "duration": 18,
    "start_time": "2022-05-06T19:44:26.058Z"
   },
   {
    "duration": 23,
    "start_time": "2022-05-06T19:44:26.079Z"
   },
   {
    "duration": 9,
    "start_time": "2022-05-06T19:44:26.104Z"
   },
   {
    "duration": 19,
    "start_time": "2022-05-06T19:44:26.115Z"
   },
   {
    "duration": 14,
    "start_time": "2022-05-06T19:44:26.136Z"
   },
   {
    "duration": 14,
    "start_time": "2022-05-06T19:44:26.151Z"
   },
   {
    "duration": 19,
    "start_time": "2022-05-06T19:44:26.166Z"
   },
   {
    "duration": 11,
    "start_time": "2022-05-06T19:44:26.187Z"
   },
   {
    "duration": 4,
    "start_time": "2022-05-06T19:44:26.199Z"
   },
   {
    "duration": 12,
    "start_time": "2022-05-06T19:44:26.204Z"
   },
   {
    "duration": 4,
    "start_time": "2022-05-06T19:44:26.217Z"
   },
   {
    "duration": 5,
    "start_time": "2022-05-06T19:44:26.222Z"
   },
   {
    "duration": 10,
    "start_time": "2022-05-06T19:44:26.228Z"
   },
   {
    "duration": 5,
    "start_time": "2022-05-06T19:44:26.239Z"
   },
   {
    "duration": 11,
    "start_time": "2022-05-06T19:44:26.280Z"
   },
   {
    "duration": 6,
    "start_time": "2022-05-06T19:44:26.293Z"
   },
   {
    "duration": 10,
    "start_time": "2022-05-06T19:44:26.300Z"
   },
   {
    "duration": 321,
    "start_time": "2022-05-06T19:44:26.312Z"
   },
   {
    "duration": 50,
    "start_time": "2022-05-06T19:44:26.634Z"
   },
   {
    "duration": 6,
    "start_time": "2022-05-06T19:44:26.686Z"
   },
   {
    "duration": 22,
    "start_time": "2022-05-06T19:44:26.693Z"
   },
   {
    "duration": 18,
    "start_time": "2022-05-06T19:44:26.716Z"
   },
   {
    "duration": 14,
    "start_time": "2022-05-06T19:44:26.736Z"
   },
   {
    "duration": 43,
    "start_time": "2022-05-06T19:44:26.751Z"
   },
   {
    "duration": 15,
    "start_time": "2022-05-06T19:44:26.796Z"
   },
   {
    "duration": 14,
    "start_time": "2022-05-06T19:44:26.813Z"
   },
   {
    "duration": 5,
    "start_time": "2022-05-06T19:44:26.828Z"
   },
   {
    "duration": 1011,
    "start_time": "2022-05-06T19:44:26.834Z"
   },
   {
    "duration": 435,
    "start_time": "2022-05-06T19:44:27.847Z"
   },
   {
    "duration": 335,
    "start_time": "2022-05-06T19:44:28.284Z"
   },
   {
    "duration": 319,
    "start_time": "2022-05-06T19:44:28.621Z"
   },
   {
    "duration": 398,
    "start_time": "2022-05-06T19:44:28.941Z"
   },
   {
    "duration": 15,
    "start_time": "2022-05-06T19:44:29.341Z"
   },
   {
    "duration": 20,
    "start_time": "2022-05-06T19:44:29.357Z"
   },
   {
    "duration": 19,
    "start_time": "2022-05-06T19:44:29.382Z"
   },
   {
    "duration": 8,
    "start_time": "2022-05-06T19:44:29.403Z"
   },
   {
    "duration": 5,
    "start_time": "2022-05-06T19:45:21.468Z"
   },
   {
    "duration": 16,
    "start_time": "2022-05-06T19:45:21.899Z"
   },
   {
    "duration": 4,
    "start_time": "2022-05-06T19:46:56.873Z"
   },
   {
    "duration": 401,
    "start_time": "2022-05-06T19:46:56.879Z"
   },
   {
    "duration": 3,
    "start_time": "2022-05-06T19:46:57.284Z"
   },
   {
    "duration": 34,
    "start_time": "2022-05-06T19:46:57.289Z"
   },
   {
    "duration": 24,
    "start_time": "2022-05-06T19:46:57.325Z"
   },
   {
    "duration": 52,
    "start_time": "2022-05-06T19:46:57.350Z"
   },
   {
    "duration": 19,
    "start_time": "2022-05-06T19:46:57.403Z"
   },
   {
    "duration": 11,
    "start_time": "2022-05-06T19:46:57.423Z"
   },
   {
    "duration": 5,
    "start_time": "2022-05-06T19:46:57.435Z"
   },
   {
    "duration": 107,
    "start_time": "2022-05-06T19:46:57.442Z"
   },
   {
    "duration": 11,
    "start_time": "2022-05-06T19:46:57.550Z"
   },
   {
    "duration": 52,
    "start_time": "2022-05-06T19:46:57.562Z"
   },
   {
    "duration": 2,
    "start_time": "2022-05-06T19:46:57.616Z"
   },
   {
    "duration": 228,
    "start_time": "2022-05-06T19:46:57.620Z"
   },
   {
    "duration": 9,
    "start_time": "2022-05-06T19:46:57.849Z"
   },
   {
    "duration": 39,
    "start_time": "2022-05-06T19:46:57.859Z"
   },
   {
    "duration": 191,
    "start_time": "2022-05-06T19:46:57.900Z"
   },
   {
    "duration": 6,
    "start_time": "2022-05-06T19:46:58.093Z"
   },
   {
    "duration": 212,
    "start_time": "2022-05-06T19:46:58.100Z"
   },
   {
    "duration": 16,
    "start_time": "2022-05-06T19:46:58.314Z"
   },
   {
    "duration": 2,
    "start_time": "2022-05-06T19:46:58.332Z"
   },
   {
    "duration": 300,
    "start_time": "2022-05-06T19:46:58.336Z"
   },
   {
    "duration": 15,
    "start_time": "2022-05-06T19:46:58.638Z"
   },
   {
    "duration": 5,
    "start_time": "2022-05-06T19:46:58.654Z"
   },
   {
    "duration": 3,
    "start_time": "2022-05-06T19:46:58.677Z"
   },
   {
    "duration": 14,
    "start_time": "2022-05-06T19:46:58.682Z"
   },
   {
    "duration": 49,
    "start_time": "2022-05-06T19:46:58.698Z"
   },
   {
    "duration": 47,
    "start_time": "2022-05-06T19:46:58.749Z"
   },
   {
    "duration": 29,
    "start_time": "2022-05-06T19:46:58.797Z"
   },
   {
    "duration": 113,
    "start_time": "2022-05-06T19:46:58.828Z"
   },
   {
    "duration": 4,
    "start_time": "2022-05-06T19:47:13.821Z"
   },
   {
    "duration": 11,
    "start_time": "2022-05-06T19:47:14.797Z"
   },
   {
    "duration": 4,
    "start_time": "2022-05-06T19:50:52.223Z"
   },
   {
    "duration": 14,
    "start_time": "2022-05-06T19:58:27.622Z"
   },
   {
    "duration": 13,
    "start_time": "2022-05-06T19:59:10.607Z"
   },
   {
    "duration": 19,
    "start_time": "2022-05-06T19:59:45.872Z"
   },
   {
    "duration": 1164,
    "start_time": "2022-05-06T20:16:12.565Z"
   },
   {
    "duration": 386,
    "start_time": "2022-05-06T20:16:13.731Z"
   },
   {
    "duration": 2,
    "start_time": "2022-05-06T20:16:14.121Z"
   },
   {
    "duration": 38,
    "start_time": "2022-05-06T20:16:14.125Z"
   },
   {
    "duration": 26,
    "start_time": "2022-05-06T20:16:14.164Z"
   },
   {
    "duration": 20,
    "start_time": "2022-05-06T20:16:14.192Z"
   },
   {
    "duration": 18,
    "start_time": "2022-05-06T20:16:14.214Z"
   },
   {
    "duration": 10,
    "start_time": "2022-05-06T20:16:14.233Z"
   },
   {
    "duration": 29,
    "start_time": "2022-05-06T20:16:14.245Z"
   },
   {
    "duration": 86,
    "start_time": "2022-05-06T20:16:14.275Z"
   },
   {
    "duration": 17,
    "start_time": "2022-05-06T20:16:14.362Z"
   },
   {
    "duration": 44,
    "start_time": "2022-05-06T20:16:14.381Z"
   },
   {
    "duration": 2,
    "start_time": "2022-05-06T20:16:14.427Z"
   },
   {
    "duration": 254,
    "start_time": "2022-05-06T20:16:14.431Z"
   },
   {
    "duration": 11,
    "start_time": "2022-05-06T20:16:14.686Z"
   },
   {
    "duration": 13,
    "start_time": "2022-05-06T20:16:14.699Z"
   },
   {
    "duration": 227,
    "start_time": "2022-05-06T20:16:14.713Z"
   },
   {
    "duration": 6,
    "start_time": "2022-05-06T20:16:14.941Z"
   },
   {
    "duration": 227,
    "start_time": "2022-05-06T20:16:14.949Z"
   },
   {
    "duration": 20,
    "start_time": "2022-05-06T20:16:15.178Z"
   },
   {
    "duration": 3,
    "start_time": "2022-05-06T20:16:15.199Z"
   },
   {
    "duration": 203,
    "start_time": "2022-05-06T20:16:15.203Z"
   },
   {
    "duration": 15,
    "start_time": "2022-05-06T20:16:15.408Z"
   },
   {
    "duration": 4,
    "start_time": "2022-05-06T20:16:15.424Z"
   },
   {
    "duration": 4,
    "start_time": "2022-05-06T20:16:15.430Z"
   },
   {
    "duration": 7,
    "start_time": "2022-05-06T20:16:15.435Z"
   },
   {
    "duration": 71,
    "start_time": "2022-05-06T20:16:15.445Z"
   },
   {
    "duration": 55,
    "start_time": "2022-05-06T20:16:15.518Z"
   },
   {
    "duration": 30,
    "start_time": "2022-05-06T20:16:15.575Z"
   },
   {
    "duration": 4,
    "start_time": "2022-05-06T20:16:15.607Z"
   },
   {
    "duration": 14,
    "start_time": "2022-05-06T20:16:15.612Z"
   },
   {
    "duration": 8,
    "start_time": "2022-05-06T20:16:15.627Z"
   },
   {
    "duration": 3,
    "start_time": "2022-05-06T20:16:15.637Z"
   },
   {
    "duration": 37,
    "start_time": "2022-05-06T20:16:15.642Z"
   },
   {
    "duration": 14,
    "start_time": "2022-05-06T20:16:15.681Z"
   },
   {
    "duration": 14,
    "start_time": "2022-05-06T20:16:15.697Z"
   },
   {
    "duration": 13,
    "start_time": "2022-05-06T20:16:15.713Z"
   },
   {
    "duration": 10,
    "start_time": "2022-05-06T20:16:15.728Z"
   },
   {
    "duration": 5,
    "start_time": "2022-05-06T20:16:15.739Z"
   },
   {
    "duration": 31,
    "start_time": "2022-05-06T20:16:15.745Z"
   },
   {
    "duration": 17,
    "start_time": "2022-05-06T20:16:15.777Z"
   },
   {
    "duration": 10,
    "start_time": "2022-05-06T20:16:15.796Z"
   },
   {
    "duration": 13,
    "start_time": "2022-05-06T20:16:15.808Z"
   },
   {
    "duration": 6,
    "start_time": "2022-05-06T20:16:15.823Z"
   },
   {
    "duration": 6,
    "start_time": "2022-05-06T20:16:15.830Z"
   },
   {
    "duration": 6,
    "start_time": "2022-05-06T20:16:15.838Z"
   },
   {
    "duration": 12,
    "start_time": "2022-05-06T20:16:15.845Z"
   },
   {
    "duration": 287,
    "start_time": "2022-05-06T20:16:15.858Z"
   },
   {
    "duration": 39,
    "start_time": "2022-05-06T20:16:16.147Z"
   },
   {
    "duration": 6,
    "start_time": "2022-05-06T20:16:16.187Z"
   },
   {
    "duration": 20,
    "start_time": "2022-05-06T20:16:16.194Z"
   },
   {
    "duration": 17,
    "start_time": "2022-05-06T20:16:16.216Z"
   },
   {
    "duration": 15,
    "start_time": "2022-05-06T20:16:16.235Z"
   },
   {
    "duration": 14,
    "start_time": "2022-05-06T20:16:16.274Z"
   },
   {
    "duration": 18,
    "start_time": "2022-05-06T20:16:16.290Z"
   },
   {
    "duration": 14,
    "start_time": "2022-05-06T20:16:16.309Z"
   },
   {
    "duration": 7,
    "start_time": "2022-05-06T20:16:16.324Z"
   },
   {
    "duration": 785,
    "start_time": "2022-05-06T20:16:16.332Z"
   },
   {
    "duration": 389,
    "start_time": "2022-05-06T20:16:17.119Z"
   },
   {
    "duration": 298,
    "start_time": "2022-05-06T20:16:17.510Z"
   },
   {
    "duration": 297,
    "start_time": "2022-05-06T20:16:17.809Z"
   },
   {
    "duration": 337,
    "start_time": "2022-05-06T20:16:18.108Z"
   },
   {
    "duration": 14,
    "start_time": "2022-05-06T20:16:18.446Z"
   },
   {
    "duration": 14,
    "start_time": "2022-05-06T20:16:18.461Z"
   },
   {
    "duration": 17,
    "start_time": "2022-05-06T20:16:18.477Z"
   },
   {
    "duration": 5,
    "start_time": "2022-05-06T20:16:18.495Z"
   },
   {
    "duration": 106,
    "start_time": "2022-05-06T20:20:53.442Z"
   },
   {
    "duration": 257,
    "start_time": "2022-05-06T20:21:02.331Z"
   },
   {
    "duration": 5,
    "start_time": "2022-05-06T20:25:15.303Z"
   },
   {
    "duration": 95,
    "start_time": "2022-05-06T20:28:52.461Z"
   },
   {
    "duration": 5,
    "start_time": "2022-05-06T20:33:35.114Z"
   },
   {
    "duration": 10,
    "start_time": "2022-05-06T20:33:56.872Z"
   },
   {
    "duration": 12,
    "start_time": "2022-05-06T20:35:04.954Z"
   },
   {
    "duration": 100,
    "start_time": "2022-05-06T20:41:50.592Z"
   },
   {
    "duration": 105,
    "start_time": "2022-05-06T20:42:35.955Z"
   },
   {
    "duration": 112,
    "start_time": "2022-05-06T20:42:47.893Z"
   },
   {
    "duration": 10,
    "start_time": "2022-05-06T20:43:13.687Z"
   },
   {
    "duration": 4,
    "start_time": "2022-05-06T20:43:23.081Z"
   },
   {
    "duration": 6,
    "start_time": "2022-05-06T20:44:37.039Z"
   },
   {
    "duration": 5,
    "start_time": "2022-05-06T20:44:59.517Z"
   },
   {
    "duration": 6,
    "start_time": "2022-05-06T20:45:06.056Z"
   },
   {
    "duration": 9,
    "start_time": "2022-05-06T20:55:32.117Z"
   },
   {
    "duration": 8,
    "start_time": "2022-05-06T20:55:53.406Z"
   },
   {
    "duration": 4,
    "start_time": "2022-05-06T20:56:33.567Z"
   },
   {
    "duration": 4,
    "start_time": "2022-05-06T20:56:42.360Z"
   },
   {
    "duration": 101,
    "start_time": "2022-05-06T20:59:49.357Z"
   },
   {
    "duration": 10,
    "start_time": "2022-05-06T21:08:44.302Z"
   },
   {
    "duration": 11,
    "start_time": "2022-05-06T21:13:15.074Z"
   },
   {
    "duration": 841,
    "start_time": "2022-05-06T21:14:44.507Z"
   },
   {
    "duration": 39,
    "start_time": "2022-05-06T21:14:57.995Z"
   },
   {
    "duration": 12,
    "start_time": "2022-05-06T21:15:22.232Z"
   },
   {
    "duration": 12,
    "start_time": "2022-05-06T21:15:58.427Z"
   },
   {
    "duration": 13,
    "start_time": "2022-05-06T21:16:26.302Z"
   },
   {
    "duration": 13,
    "start_time": "2022-05-06T21:16:34.364Z"
   },
   {
    "duration": 12,
    "start_time": "2022-05-06T21:17:46.468Z"
   },
   {
    "duration": 3,
    "start_time": "2022-05-06T21:18:50.990Z"
   },
   {
    "duration": 5,
    "start_time": "2022-05-06T21:18:56.398Z"
   },
   {
    "duration": 13,
    "start_time": "2022-05-06T21:19:08.375Z"
   },
   {
    "duration": 11,
    "start_time": "2022-05-06T21:20:25.639Z"
   },
   {
    "duration": 12,
    "start_time": "2022-05-06T21:20:50.719Z"
   },
   {
    "duration": 8,
    "start_time": "2022-05-06T21:26:19.962Z"
   },
   {
    "duration": 23,
    "start_time": "2022-05-06T21:28:11.236Z"
   },
   {
    "duration": 26,
    "start_time": "2022-05-06T21:31:48.475Z"
   },
   {
    "duration": 5,
    "start_time": "2022-05-06T21:33:42.386Z"
   },
   {
    "duration": 5,
    "start_time": "2022-05-06T21:33:47.162Z"
   },
   {
    "duration": 1124,
    "start_time": "2022-05-06T22:16:17.106Z"
   },
   {
    "duration": 380,
    "start_time": "2022-05-06T22:16:18.232Z"
   },
   {
    "duration": 2,
    "start_time": "2022-05-06T22:16:18.614Z"
   },
   {
    "duration": 39,
    "start_time": "2022-05-06T22:16:18.618Z"
   },
   {
    "duration": 26,
    "start_time": "2022-05-06T22:16:18.658Z"
   },
   {
    "duration": 20,
    "start_time": "2022-05-06T22:16:18.685Z"
   },
   {
    "duration": 17,
    "start_time": "2022-05-06T22:16:18.707Z"
   },
   {
    "duration": 9,
    "start_time": "2022-05-06T22:16:18.726Z"
   },
   {
    "duration": 4,
    "start_time": "2022-05-06T22:16:18.737Z"
   },
   {
    "duration": 76,
    "start_time": "2022-05-06T22:16:18.775Z"
   },
   {
    "duration": 10,
    "start_time": "2022-05-06T22:16:18.852Z"
   },
   {
    "duration": 36,
    "start_time": "2022-05-06T22:16:18.873Z"
   },
   {
    "duration": 2,
    "start_time": "2022-05-06T22:16:18.911Z"
   },
   {
    "duration": 248,
    "start_time": "2022-05-06T22:16:18.915Z"
   },
   {
    "duration": 11,
    "start_time": "2022-05-06T22:16:19.173Z"
   },
   {
    "duration": 11,
    "start_time": "2022-05-06T22:16:19.185Z"
   },
   {
    "duration": 211,
    "start_time": "2022-05-06T22:16:19.198Z"
   },
   {
    "duration": 5,
    "start_time": "2022-05-06T22:16:19.411Z"
   },
   {
    "duration": 211,
    "start_time": "2022-05-06T22:16:19.417Z"
   },
   {
    "duration": 19,
    "start_time": "2022-05-06T22:16:19.630Z"
   },
   {
    "duration": 2,
    "start_time": "2022-05-06T22:16:19.651Z"
   },
   {
    "duration": 207,
    "start_time": "2022-05-06T22:16:19.655Z"
   },
   {
    "duration": 20,
    "start_time": "2022-05-06T22:16:19.863Z"
   },
   {
    "duration": 5,
    "start_time": "2022-05-06T22:16:19.885Z"
   },
   {
    "duration": 4,
    "start_time": "2022-05-06T22:16:19.891Z"
   },
   {
    "duration": 5,
    "start_time": "2022-05-06T22:16:19.896Z"
   },
   {
    "duration": 50,
    "start_time": "2022-05-06T22:16:19.903Z"
   },
   {
    "duration": 45,
    "start_time": "2022-05-06T22:16:19.975Z"
   },
   {
    "duration": 29,
    "start_time": "2022-05-06T22:16:20.023Z"
   },
   {
    "duration": 21,
    "start_time": "2022-05-06T22:16:20.054Z"
   },
   {
    "duration": 17,
    "start_time": "2022-05-06T22:16:20.077Z"
   },
   {
    "duration": 13,
    "start_time": "2022-05-06T22:16:20.095Z"
   },
   {
    "duration": 8,
    "start_time": "2022-05-06T22:16:20.109Z"
   },
   {
    "duration": 11,
    "start_time": "2022-05-06T22:16:20.118Z"
   },
   {
    "duration": 10,
    "start_time": "2022-05-06T22:16:20.131Z"
   },
   {
    "duration": 12,
    "start_time": "2022-05-06T22:16:20.142Z"
   },
   {
    "duration": 25,
    "start_time": "2022-05-06T22:16:20.155Z"
   },
   {
    "duration": 8,
    "start_time": "2022-05-06T22:16:20.182Z"
   },
   {
    "duration": 6,
    "start_time": "2022-05-06T22:16:20.192Z"
   },
   {
    "duration": 12,
    "start_time": "2022-05-06T22:16:20.199Z"
   },
   {
    "duration": 3,
    "start_time": "2022-05-06T22:16:20.213Z"
   },
   {
    "duration": 7,
    "start_time": "2022-05-06T22:16:20.218Z"
   },
   {
    "duration": 12,
    "start_time": "2022-05-06T22:16:20.226Z"
   },
   {
    "duration": 33,
    "start_time": "2022-05-06T22:16:20.240Z"
   },
   {
    "duration": 4,
    "start_time": "2022-05-06T22:16:20.275Z"
   },
   {
    "duration": 7,
    "start_time": "2022-05-06T22:16:20.281Z"
   },
   {
    "duration": 12,
    "start_time": "2022-05-06T22:16:20.289Z"
   },
   {
    "duration": 293,
    "start_time": "2022-05-06T22:16:20.302Z"
   },
   {
    "duration": 35,
    "start_time": "2022-05-06T22:16:20.596Z"
   },
   {
    "duration": 6,
    "start_time": "2022-05-06T22:16:20.632Z"
   },
   {
    "duration": 39,
    "start_time": "2022-05-06T22:16:20.639Z"
   },
   {
    "duration": 21,
    "start_time": "2022-05-06T22:16:20.680Z"
   },
   {
    "duration": 15,
    "start_time": "2022-05-06T22:16:20.702Z"
   },
   {
    "duration": 16,
    "start_time": "2022-05-06T22:16:20.718Z"
   },
   {
    "duration": 40,
    "start_time": "2022-05-06T22:16:20.736Z"
   },
   {
    "duration": 15,
    "start_time": "2022-05-06T22:16:20.778Z"
   },
   {
    "duration": 5,
    "start_time": "2022-05-06T22:16:20.795Z"
   },
   {
    "duration": 812,
    "start_time": "2022-05-06T22:16:20.801Z"
   },
   {
    "duration": 361,
    "start_time": "2022-05-06T22:16:21.615Z"
   },
   {
    "duration": 297,
    "start_time": "2022-05-06T22:16:21.978Z"
   },
   {
    "duration": 291,
    "start_time": "2022-05-06T22:16:22.277Z"
   },
   {
    "duration": 341,
    "start_time": "2022-05-06T22:16:22.572Z"
   },
   {
    "duration": 4,
    "start_time": "2022-05-06T22:16:22.915Z"
   },
   {
    "duration": 7,
    "start_time": "2022-05-06T22:16:22.921Z"
   },
   {
    "duration": 7,
    "start_time": "2022-05-06T22:16:22.930Z"
   },
   {
    "duration": 19,
    "start_time": "2022-05-06T22:16:22.939Z"
   },
   {
    "duration": 19,
    "start_time": "2022-05-06T22:16:22.959Z"
   },
   {
    "duration": 414,
    "start_time": "2022-05-06T22:16:22.980Z"
   },
   {
    "duration": 0,
    "start_time": "2022-05-06T22:16:23.396Z"
   },
   {
    "duration": 0,
    "start_time": "2022-05-06T22:16:23.397Z"
   },
   {
    "duration": 0,
    "start_time": "2022-05-06T22:16:23.398Z"
   },
   {
    "duration": 0,
    "start_time": "2022-05-06T22:16:23.399Z"
   },
   {
    "duration": 0,
    "start_time": "2022-05-06T22:16:23.400Z"
   },
   {
    "duration": 16,
    "start_time": "2022-05-06T22:16:47.476Z"
   },
   {
    "duration": 8,
    "start_time": "2022-05-06T22:16:47.494Z"
   },
   {
    "duration": 26,
    "start_time": "2022-05-06T22:16:47.503Z"
   },
   {
    "duration": 5,
    "start_time": "2022-05-06T22:16:47.531Z"
   },
   {
    "duration": 12,
    "start_time": "2022-05-06T22:16:47.538Z"
   },
   {
    "duration": 1210,
    "start_time": "2022-05-08T06:24:05.789Z"
   },
   {
    "duration": 460,
    "start_time": "2022-05-08T06:24:07.002Z"
   },
   {
    "duration": 2,
    "start_time": "2022-05-08T06:24:07.465Z"
   },
   {
    "duration": 45,
    "start_time": "2022-05-08T06:24:07.469Z"
   },
   {
    "duration": 29,
    "start_time": "2022-05-08T06:24:07.516Z"
   },
   {
    "duration": 22,
    "start_time": "2022-05-08T06:24:07.547Z"
   },
   {
    "duration": 21,
    "start_time": "2022-05-08T06:24:07.571Z"
   },
   {
    "duration": 11,
    "start_time": "2022-05-08T06:24:07.594Z"
   },
   {
    "duration": 4,
    "start_time": "2022-05-08T06:24:07.634Z"
   },
   {
    "duration": 103,
    "start_time": "2022-05-08T06:24:07.641Z"
   },
   {
    "duration": 11,
    "start_time": "2022-05-08T06:24:07.746Z"
   },
   {
    "duration": 43,
    "start_time": "2022-05-08T06:24:07.759Z"
   },
   {
    "duration": 30,
    "start_time": "2022-05-08T06:24:07.804Z"
   },
   {
    "duration": 261,
    "start_time": "2022-05-08T06:24:07.836Z"
   },
   {
    "duration": 11,
    "start_time": "2022-05-08T06:24:08.099Z"
   },
   {
    "duration": 10,
    "start_time": "2022-05-08T06:24:08.133Z"
   },
   {
    "duration": 250,
    "start_time": "2022-05-08T06:24:08.145Z"
   },
   {
    "duration": 6,
    "start_time": "2022-05-08T06:24:08.397Z"
   },
   {
    "duration": 243,
    "start_time": "2022-05-08T06:24:08.405Z"
   },
   {
    "duration": 20,
    "start_time": "2022-05-08T06:24:08.650Z"
   },
   {
    "duration": 3,
    "start_time": "2022-05-08T06:24:08.671Z"
   },
   {
    "duration": 240,
    "start_time": "2022-05-08T06:24:08.676Z"
   },
   {
    "duration": 25,
    "start_time": "2022-05-08T06:24:08.918Z"
   },
   {
    "duration": 5,
    "start_time": "2022-05-08T06:24:08.945Z"
   },
   {
    "duration": 7,
    "start_time": "2022-05-08T06:24:08.951Z"
   },
   {
    "duration": 5,
    "start_time": "2022-05-08T06:24:08.960Z"
   },
   {
    "duration": 76,
    "start_time": "2022-05-08T06:24:08.967Z"
   },
   {
    "duration": 47,
    "start_time": "2022-05-08T06:24:09.047Z"
   },
   {
    "duration": 54,
    "start_time": "2022-05-08T06:24:09.096Z"
   },
   {
    "duration": 4,
    "start_time": "2022-05-08T06:24:09.152Z"
   },
   {
    "duration": 15,
    "start_time": "2022-05-08T06:24:09.158Z"
   },
   {
    "duration": 11,
    "start_time": "2022-05-08T06:24:09.174Z"
   },
   {
    "duration": 6,
    "start_time": "2022-05-08T06:24:09.187Z"
   },
   {
    "duration": 43,
    "start_time": "2022-05-08T06:24:09.195Z"
   },
   {
    "duration": 11,
    "start_time": "2022-05-08T06:24:09.239Z"
   },
   {
    "duration": 14,
    "start_time": "2022-05-08T06:24:09.252Z"
   },
   {
    "duration": 14,
    "start_time": "2022-05-08T06:24:09.268Z"
   },
   {
    "duration": 10,
    "start_time": "2022-05-08T06:24:09.284Z"
   },
   {
    "duration": 41,
    "start_time": "2022-05-08T06:24:09.296Z"
   },
   {
    "duration": 16,
    "start_time": "2022-05-08T06:24:09.339Z"
   },
   {
    "duration": 11,
    "start_time": "2022-05-08T06:24:09.356Z"
   },
   {
    "duration": 6,
    "start_time": "2022-05-08T06:24:09.369Z"
   },
   {
    "duration": 13,
    "start_time": "2022-05-08T06:24:09.377Z"
   },
   {
    "duration": 9,
    "start_time": "2022-05-08T06:24:09.392Z"
   },
   {
    "duration": 10,
    "start_time": "2022-05-08T06:24:09.403Z"
   },
   {
    "duration": 5,
    "start_time": "2022-05-08T06:24:09.433Z"
   },
   {
    "duration": 12,
    "start_time": "2022-05-08T06:24:09.439Z"
   },
   {
    "duration": 342,
    "start_time": "2022-05-08T06:24:09.453Z"
   },
   {
    "duration": 43,
    "start_time": "2022-05-08T06:24:09.797Z"
   },
   {
    "duration": 6,
    "start_time": "2022-05-08T06:24:09.842Z"
   },
   {
    "duration": 23,
    "start_time": "2022-05-08T06:24:09.849Z"
   },
   {
    "duration": 22,
    "start_time": "2022-05-08T06:24:09.874Z"
   },
   {
    "duration": 54,
    "start_time": "2022-05-08T06:24:09.897Z"
   },
   {
    "duration": 25,
    "start_time": "2022-05-08T06:24:09.953Z"
   },
   {
    "duration": 19,
    "start_time": "2022-05-08T06:24:09.980Z"
   },
   {
    "duration": 48,
    "start_time": "2022-05-08T06:24:10.001Z"
   },
   {
    "duration": 8,
    "start_time": "2022-05-08T06:24:10.052Z"
   },
   {
    "duration": 848,
    "start_time": "2022-05-08T06:24:10.062Z"
   },
   {
    "duration": 416,
    "start_time": "2022-05-08T06:24:10.912Z"
   },
   {
    "duration": 356,
    "start_time": "2022-05-08T06:24:11.330Z"
   },
   {
    "duration": 355,
    "start_time": "2022-05-08T06:24:11.688Z"
   },
   {
    "duration": 401,
    "start_time": "2022-05-08T06:24:12.046Z"
   },
   {
    "duration": 5,
    "start_time": "2022-05-08T06:24:12.449Z"
   },
   {
    "duration": 8,
    "start_time": "2022-05-08T06:24:12.455Z"
   },
   {
    "duration": 7,
    "start_time": "2022-05-08T06:24:12.465Z"
   },
   {
    "duration": 17,
    "start_time": "2022-05-08T06:24:12.474Z"
   },
   {
    "duration": 9,
    "start_time": "2022-05-08T06:24:12.493Z"
   },
   {
    "duration": 468,
    "start_time": "2022-05-08T06:24:12.504Z"
   },
   {
    "duration": 0,
    "start_time": "2022-05-08T06:24:12.974Z"
   },
   {
    "duration": 0,
    "start_time": "2022-05-08T06:24:12.975Z"
   },
   {
    "duration": 0,
    "start_time": "2022-05-08T06:24:12.977Z"
   },
   {
    "duration": 0,
    "start_time": "2022-05-08T06:24:12.979Z"
   },
   {
    "duration": 0,
    "start_time": "2022-05-08T06:24:12.980Z"
   },
   {
    "duration": 6,
    "start_time": "2022-05-08T06:25:12.536Z"
   },
   {
    "duration": 50,
    "start_time": "2022-05-08T06:25:15.630Z"
   },
   {
    "duration": 496,
    "start_time": "2022-05-08T06:26:00.698Z"
   },
   {
    "duration": 13,
    "start_time": "2022-05-08T06:31:30.606Z"
   },
   {
    "duration": 13,
    "start_time": "2022-05-08T06:31:45.308Z"
   },
   {
    "duration": 14,
    "start_time": "2022-05-08T06:32:19.676Z"
   },
   {
    "duration": 13,
    "start_time": "2022-05-08T06:32:28.128Z"
   },
   {
    "duration": 17,
    "start_time": "2022-05-08T06:32:44.420Z"
   },
   {
    "duration": 16,
    "start_time": "2022-05-08T06:32:54.790Z"
   },
   {
    "duration": 7,
    "start_time": "2022-05-08T06:33:20.791Z"
   },
   {
    "duration": 7,
    "start_time": "2022-05-08T06:33:27.006Z"
   },
   {
    "duration": 9,
    "start_time": "2022-05-08T06:33:58.180Z"
   },
   {
    "duration": 6,
    "start_time": "2022-05-08T06:34:17.633Z"
   },
   {
    "duration": 6,
    "start_time": "2022-05-08T06:34:45.410Z"
   },
   {
    "duration": 8,
    "start_time": "2022-05-08T06:34:49.413Z"
   },
   {
    "duration": 171,
    "start_time": "2022-05-08T06:37:36.190Z"
   },
   {
    "duration": 11,
    "start_time": "2022-05-08T06:37:58.305Z"
   },
   {
    "duration": 26,
    "start_time": "2022-05-08T06:38:01.974Z"
   },
   {
    "duration": 6,
    "start_time": "2022-05-08T06:38:03.076Z"
   },
   {
    "duration": 40,
    "start_time": "2022-05-08T06:38:05.451Z"
   },
   {
    "duration": 6,
    "start_time": "2022-05-08T06:38:06.110Z"
   },
   {
    "duration": 6,
    "start_time": "2022-05-08T06:38:08.920Z"
   },
   {
    "duration": 254,
    "start_time": "2022-05-08T06:40:32.065Z"
   },
   {
    "duration": 1367,
    "start_time": "2024-04-04T17:18:55.610Z"
   },
   {
    "duration": 1208,
    "start_time": "2024-04-04T17:19:03.510Z"
   }
  ],
  "kernelspec": {
   "display_name": "Python 3 (ipykernel)",
   "language": "python",
   "name": "python3"
  },
  "language_info": {
   "codemirror_mode": {
    "name": "ipython",
    "version": 3
   },
   "file_extension": ".py",
   "mimetype": "text/x-python",
   "name": "python",
   "nbconvert_exporter": "python",
   "pygments_lexer": "ipython3",
   "version": "3.9.5"
  },
  "toc": {
   "base_numbering": 1,
   "nav_menu": {},
   "number_sections": true,
   "sideBar": true,
   "skip_h1_title": true,
   "title_cell": "Table of Contents",
   "title_sidebar": "Contents",
   "toc_cell": true,
   "toc_position": {
    "height": "calc(100% - 180px)",
    "left": "10px",
    "top": "150px",
    "width": "409.097px"
   },
   "toc_section_display": true,
   "toc_window_display": true
  }
 },
 "nbformat": 4,
 "nbformat_minor": 5
}
