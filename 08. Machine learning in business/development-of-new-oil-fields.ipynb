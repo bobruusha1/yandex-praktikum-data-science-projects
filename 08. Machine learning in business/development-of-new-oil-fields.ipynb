{
 "cells": [
  {
   "cell_type": "markdown",
   "metadata": {
    "toc": true
   },
   "source": [
    "<h1>Table of Contents<span class=\"tocSkip\"></span></h1>\n",
    "<div class=\"toc\"><ul class=\"toc-item\"><li><span><a href=\"#Загрузка-и-подготовка-данных\" data-toc-modified-id=\"Загрузка-и-подготовка-данных-1\"><span class=\"toc-item-num\">1&nbsp;&nbsp;</span>Загрузка и подготовка данных</a></span><ul class=\"toc-item\"><li><span><a href=\"#Проверим-нудевые-значения-в-целевом-признаке\" data-toc-modified-id=\"Проверим-нудевые-значения-в-целевом-признаке-1.1\"><span class=\"toc-item-num\">1.1&nbsp;&nbsp;</span>Проверим нудевые значения в целевом признаке</a></span></li><li><span><a href=\"#Проверим-корреляцию-между-признаками\" data-toc-modified-id=\"Проверим-корреляцию-между-признаками-1.2\"><span class=\"toc-item-num\">1.2&nbsp;&nbsp;</span>Проверим корреляцию между признаками</a></span></li><li><span><a href=\"#Изучим-гистограммы-по-столбцу-product.\" data-toc-modified-id=\"Изучим-гистограммы-по-столбцу-product.-1.3\"><span class=\"toc-item-num\">1.3&nbsp;&nbsp;</span>Изучим гистограммы по столбцу product.</a></span></li></ul></li><li><span><a href=\"#Обучение-и-проверка-модели\" data-toc-modified-id=\"Обучение-и-проверка-модели-2\"><span class=\"toc-item-num\">2&nbsp;&nbsp;</span>Обучение и проверка модели</a></span><ul class=\"toc-item\"><li><span><a href=\"#Разбиение-данных-на-обучающую-и-валидационную-выборки\" data-toc-modified-id=\"Разбиение-данных-на-обучающую-и-валидационную-выборки-2.1\"><span class=\"toc-item-num\">2.1&nbsp;&nbsp;</span>Разбиение данных на обучающую и валидационную выборки</a></span></li><li><span><a href=\"#Обучение-модели,-предсказывание-на-валидационной-выборке\" data-toc-modified-id=\"Обучение-модели,-предсказывание-на-валидационной-выборке-2.2\"><span class=\"toc-item-num\">2.2&nbsp;&nbsp;</span>Обучение модели, предсказывание на валидационной выборке</a></span></li><li><span><a href=\"#Средний-запас-предсказанного-сырья-и-RMSE-модели\" data-toc-modified-id=\"Средний-запас-предсказанного-сырья-и-RMSE-модели-2.3\"><span class=\"toc-item-num\">2.3&nbsp;&nbsp;</span>Средний запас предсказанного сырья и RMSE модели</a></span><ul class=\"toc-item\"><li><span><a href=\"#Первый-регион\" data-toc-modified-id=\"Первый-регион-2.3.1\"><span class=\"toc-item-num\">2.3.1&nbsp;&nbsp;</span>Первый регион</a></span></li><li><span><a href=\"#Второй-регион\" data-toc-modified-id=\"Второй-регион-2.3.2\"><span class=\"toc-item-num\">2.3.2&nbsp;&nbsp;</span>Второй регион</a></span></li><li><span><a href=\"#Третий-регион\" data-toc-modified-id=\"Третий-регион-2.3.3\"><span class=\"toc-item-num\">2.3.3&nbsp;&nbsp;</span>Третий регион</a></span></li></ul></li></ul></li><li><span><a href=\"#Подготовка-к-расчёту-прибыли\" data-toc-modified-id=\"Подготовка-к-расчёту-прибыли-3\"><span class=\"toc-item-num\">3&nbsp;&nbsp;</span>Подготовка к расчёту прибыли</a></span></li><li><span><a href=\"#Расчёт-прибыли-и-рисков\" data-toc-modified-id=\"Расчёт-прибыли-и-рисков-4\"><span class=\"toc-item-num\">4&nbsp;&nbsp;</span>Расчёт прибыли и рисков</a></span></li><li><span><a href=\"#Итоговый-вывод\" data-toc-modified-id=\"Итоговый-вывод-5\"><span class=\"toc-item-num\">5&nbsp;&nbsp;</span>Итоговый вывод</a></span></li><li><span><a href=\"#Чек-лист-готовности-проекта\" data-toc-modified-id=\"Чек-лист-готовности-проекта-6\"><span class=\"toc-item-num\">6&nbsp;&nbsp;</span>Чек-лист готовности проекта</a></span></li></ul></div>"
   ]
  },
  {
   "cell_type": "markdown",
   "metadata": {},
   "source": [
    "# Выбор локации для скважины"
   ]
  },
  {
   "cell_type": "markdown",
   "metadata": {},
   "source": [
    "Мы работаете в добывающей компании «ГлавРосГосНефть». Нужно решить, где бурить новую скважину.\n",
    "\n",
    "Нам предоставлены пробы нефти в трёх регионах: в каждом 10 000 месторождений, где измерили качество нефти и объём её запасов. Построим модель машинного обучения, которая поможет определить регион, где добыча принесёт наибольшую прибыль. Проанализируем возможную прибыль и риски техникой *Bootstrap.*\n",
    "\n",
    "Шаги для выбора локации:\n",
    "\n",
    "- В избранном регионе ищут месторождения, для каждого определяют значения признаков;\n",
    "- Строят модель и оценивают объём запасов;\n",
    "- Выбирают месторождения с самым высокими оценками значений. Количество месторождений зависит от бюджета компании и стоимости разработки одной скважины;\n",
    "- Прибыль равна суммарной прибыли отобранных месторождений."
   ]
  },
  {
   "cell_type": "markdown",
   "metadata": {},
   "source": [
    "## Загрузка и подготовка данных"
   ]
  },
  {
   "cell_type": "markdown",
   "metadata": {},
   "source": [
    "Загрузите и подготовьте данные. Поясните порядок действий.\n"
   ]
  },
  {
   "cell_type": "markdown",
   "metadata": {},
   "source": [
    "Импорт библиотек"
   ]
  },
  {
   "cell_type": "code",
   "execution_count": 1,
   "metadata": {},
   "outputs": [],
   "source": [
    "import matplotlib.pyplot as plt\n",
    "import numpy as np\n",
    "import pandas as pd\n",
    "import math\n",
    "from sklearn.model_selection import train_test_split\n",
    "from sklearn.linear_model import LinearRegression\n",
    "from sklearn.metrics import mean_squared_error\n",
    "from sklearn.preprocessing import StandardScaler\n",
    "from sklearn.utils import shuffle\n",
    "import warnings\n",
    "warnings.filterwarnings('ignore')"
   ]
  },
  {
   "cell_type": "markdown",
   "metadata": {},
   "source": [
    "Импорт данных   \n",
    "Загрузим каждый регион в отдельный датафрейм."
   ]
  },
  {
   "cell_type": "code",
   "execution_count": 2,
   "metadata": {
    "scrolled": false
   },
   "outputs": [
    {
     "data": {
      "text/plain": [
       "(100000, 5)"
      ]
     },
     "metadata": {},
     "output_type": "display_data"
    },
    {
     "name": "stdout",
     "output_type": "stream",
     "text": [
      "<class 'pandas.core.frame.DataFrame'>\n",
      "RangeIndex: 100000 entries, 0 to 99999\n",
      "Data columns (total 5 columns):\n",
      " #   Column   Non-Null Count   Dtype  \n",
      "---  ------   --------------   -----  \n",
      " 0   id       100000 non-null  object \n",
      " 1   f0       100000 non-null  float64\n",
      " 2   f1       100000 non-null  float64\n",
      " 3   f2       100000 non-null  float64\n",
      " 4   product  100000 non-null  float64\n",
      "dtypes: float64(4), object(1)\n",
      "memory usage: 3.8+ MB\n"
     ]
    },
    {
     "data": {
      "text/plain": [
       "None"
      ]
     },
     "metadata": {},
     "output_type": "display_data"
    },
    {
     "data": {
      "text/html": [
       "<div>\n",
       "<style scoped>\n",
       "    .dataframe tbody tr th:only-of-type {\n",
       "        vertical-align: middle;\n",
       "    }\n",
       "\n",
       "    .dataframe tbody tr th {\n",
       "        vertical-align: top;\n",
       "    }\n",
       "\n",
       "    .dataframe thead th {\n",
       "        text-align: right;\n",
       "    }\n",
       "</style>\n",
       "<table border=\"1\" class=\"dataframe\">\n",
       "  <thead>\n",
       "    <tr style=\"text-align: right;\">\n",
       "      <th></th>\n",
       "      <th>id</th>\n",
       "      <th>f0</th>\n",
       "      <th>f1</th>\n",
       "      <th>f2</th>\n",
       "      <th>product</th>\n",
       "    </tr>\n",
       "  </thead>\n",
       "  <tbody>\n",
       "    <tr>\n",
       "      <th>0</th>\n",
       "      <td>txEyH</td>\n",
       "      <td>0.705745</td>\n",
       "      <td>-0.497823</td>\n",
       "      <td>1.221170</td>\n",
       "      <td>105.280062</td>\n",
       "    </tr>\n",
       "    <tr>\n",
       "      <th>1</th>\n",
       "      <td>2acmU</td>\n",
       "      <td>1.334711</td>\n",
       "      <td>-0.340164</td>\n",
       "      <td>4.365080</td>\n",
       "      <td>73.037750</td>\n",
       "    </tr>\n",
       "    <tr>\n",
       "      <th>2</th>\n",
       "      <td>409Wp</td>\n",
       "      <td>1.022732</td>\n",
       "      <td>0.151990</td>\n",
       "      <td>1.419926</td>\n",
       "      <td>85.265647</td>\n",
       "    </tr>\n",
       "    <tr>\n",
       "      <th>3</th>\n",
       "      <td>iJLyR</td>\n",
       "      <td>-0.032172</td>\n",
       "      <td>0.139033</td>\n",
       "      <td>2.978566</td>\n",
       "      <td>168.620776</td>\n",
       "    </tr>\n",
       "    <tr>\n",
       "      <th>4</th>\n",
       "      <td>Xdl7t</td>\n",
       "      <td>1.988431</td>\n",
       "      <td>0.155413</td>\n",
       "      <td>4.751769</td>\n",
       "      <td>154.036647</td>\n",
       "    </tr>\n",
       "  </tbody>\n",
       "</table>\n",
       "</div>"
      ],
      "text/plain": [
       "      id        f0        f1        f2     product\n",
       "0  txEyH  0.705745 -0.497823  1.221170  105.280062\n",
       "1  2acmU  1.334711 -0.340164  4.365080   73.037750\n",
       "2  409Wp  1.022732  0.151990  1.419926   85.265647\n",
       "3  iJLyR -0.032172  0.139033  2.978566  168.620776\n",
       "4  Xdl7t  1.988431  0.155413  4.751769  154.036647"
      ]
     },
     "metadata": {},
     "output_type": "display_data"
    },
    {
     "data": {
      "text/html": [
       "<div>\n",
       "<style scoped>\n",
       "    .dataframe tbody tr th:only-of-type {\n",
       "        vertical-align: middle;\n",
       "    }\n",
       "\n",
       "    .dataframe tbody tr th {\n",
       "        vertical-align: top;\n",
       "    }\n",
       "\n",
       "    .dataframe thead th {\n",
       "        text-align: right;\n",
       "    }\n",
       "</style>\n",
       "<table border=\"1\" class=\"dataframe\">\n",
       "  <thead>\n",
       "    <tr style=\"text-align: right;\">\n",
       "      <th></th>\n",
       "      <th>f0</th>\n",
       "      <th>f1</th>\n",
       "      <th>f2</th>\n",
       "      <th>product</th>\n",
       "    </tr>\n",
       "  </thead>\n",
       "  <tbody>\n",
       "    <tr>\n",
       "      <th>count</th>\n",
       "      <td>100000.000000</td>\n",
       "      <td>100000.000000</td>\n",
       "      <td>100000.000000</td>\n",
       "      <td>100000.000000</td>\n",
       "    </tr>\n",
       "    <tr>\n",
       "      <th>mean</th>\n",
       "      <td>0.500419</td>\n",
       "      <td>0.250143</td>\n",
       "      <td>2.502647</td>\n",
       "      <td>92.500000</td>\n",
       "    </tr>\n",
       "    <tr>\n",
       "      <th>std</th>\n",
       "      <td>0.871832</td>\n",
       "      <td>0.504433</td>\n",
       "      <td>3.248248</td>\n",
       "      <td>44.288691</td>\n",
       "    </tr>\n",
       "    <tr>\n",
       "      <th>min</th>\n",
       "      <td>-1.408605</td>\n",
       "      <td>-0.848218</td>\n",
       "      <td>-12.088328</td>\n",
       "      <td>0.000000</td>\n",
       "    </tr>\n",
       "    <tr>\n",
       "      <th>25%</th>\n",
       "      <td>-0.072580</td>\n",
       "      <td>-0.200881</td>\n",
       "      <td>0.287748</td>\n",
       "      <td>56.497507</td>\n",
       "    </tr>\n",
       "    <tr>\n",
       "      <th>50%</th>\n",
       "      <td>0.502360</td>\n",
       "      <td>0.250252</td>\n",
       "      <td>2.515969</td>\n",
       "      <td>91.849972</td>\n",
       "    </tr>\n",
       "    <tr>\n",
       "      <th>75%</th>\n",
       "      <td>1.073581</td>\n",
       "      <td>0.700646</td>\n",
       "      <td>4.715088</td>\n",
       "      <td>128.564089</td>\n",
       "    </tr>\n",
       "    <tr>\n",
       "      <th>max</th>\n",
       "      <td>2.362331</td>\n",
       "      <td>1.343769</td>\n",
       "      <td>16.003790</td>\n",
       "      <td>185.364347</td>\n",
       "    </tr>\n",
       "  </tbody>\n",
       "</table>\n",
       "</div>"
      ],
      "text/plain": [
       "                  f0             f1             f2        product\n",
       "count  100000.000000  100000.000000  100000.000000  100000.000000\n",
       "mean        0.500419       0.250143       2.502647      92.500000\n",
       "std         0.871832       0.504433       3.248248      44.288691\n",
       "min        -1.408605      -0.848218     -12.088328       0.000000\n",
       "25%        -0.072580      -0.200881       0.287748      56.497507\n",
       "50%         0.502360       0.250252       2.515969      91.849972\n",
       "75%         1.073581       0.700646       4.715088     128.564089\n",
       "max         2.362331       1.343769      16.003790     185.364347"
      ]
     },
     "metadata": {},
     "output_type": "display_data"
    }
   ],
   "source": [
    "df1 = pd.read_csv('/datasets/geo_data_0.csv')\n",
    "display(df1.shape)\n",
    "display(df1.info())\n",
    "display(df1.head())\n",
    "display(df1.describe())"
   ]
  },
  {
   "cell_type": "code",
   "execution_count": 3,
   "metadata": {},
   "outputs": [
    {
     "data": {
      "text/plain": [
       "(100000, 5)"
      ]
     },
     "metadata": {},
     "output_type": "display_data"
    },
    {
     "name": "stdout",
     "output_type": "stream",
     "text": [
      "<class 'pandas.core.frame.DataFrame'>\n",
      "RangeIndex: 100000 entries, 0 to 99999\n",
      "Data columns (total 5 columns):\n",
      " #   Column   Non-Null Count   Dtype  \n",
      "---  ------   --------------   -----  \n",
      " 0   id       100000 non-null  object \n",
      " 1   f0       100000 non-null  float64\n",
      " 2   f1       100000 non-null  float64\n",
      " 3   f2       100000 non-null  float64\n",
      " 4   product  100000 non-null  float64\n",
      "dtypes: float64(4), object(1)\n",
      "memory usage: 3.8+ MB\n"
     ]
    },
    {
     "data": {
      "text/plain": [
       "None"
      ]
     },
     "metadata": {},
     "output_type": "display_data"
    },
    {
     "data": {
      "text/html": [
       "<div>\n",
       "<style scoped>\n",
       "    .dataframe tbody tr th:only-of-type {\n",
       "        vertical-align: middle;\n",
       "    }\n",
       "\n",
       "    .dataframe tbody tr th {\n",
       "        vertical-align: top;\n",
       "    }\n",
       "\n",
       "    .dataframe thead th {\n",
       "        text-align: right;\n",
       "    }\n",
       "</style>\n",
       "<table border=\"1\" class=\"dataframe\">\n",
       "  <thead>\n",
       "    <tr style=\"text-align: right;\">\n",
       "      <th></th>\n",
       "      <th>id</th>\n",
       "      <th>f0</th>\n",
       "      <th>f1</th>\n",
       "      <th>f2</th>\n",
       "      <th>product</th>\n",
       "    </tr>\n",
       "  </thead>\n",
       "  <tbody>\n",
       "    <tr>\n",
       "      <th>0</th>\n",
       "      <td>kBEdx</td>\n",
       "      <td>-15.001348</td>\n",
       "      <td>-8.276000</td>\n",
       "      <td>-0.005876</td>\n",
       "      <td>3.179103</td>\n",
       "    </tr>\n",
       "    <tr>\n",
       "      <th>1</th>\n",
       "      <td>62mP7</td>\n",
       "      <td>14.272088</td>\n",
       "      <td>-3.475083</td>\n",
       "      <td>0.999183</td>\n",
       "      <td>26.953261</td>\n",
       "    </tr>\n",
       "    <tr>\n",
       "      <th>2</th>\n",
       "      <td>vyE1P</td>\n",
       "      <td>6.263187</td>\n",
       "      <td>-5.948386</td>\n",
       "      <td>5.001160</td>\n",
       "      <td>134.766305</td>\n",
       "    </tr>\n",
       "    <tr>\n",
       "      <th>3</th>\n",
       "      <td>KcrkZ</td>\n",
       "      <td>-13.081196</td>\n",
       "      <td>-11.506057</td>\n",
       "      <td>4.999415</td>\n",
       "      <td>137.945408</td>\n",
       "    </tr>\n",
       "    <tr>\n",
       "      <th>4</th>\n",
       "      <td>AHL4O</td>\n",
       "      <td>12.702195</td>\n",
       "      <td>-8.147433</td>\n",
       "      <td>5.004363</td>\n",
       "      <td>134.766305</td>\n",
       "    </tr>\n",
       "  </tbody>\n",
       "</table>\n",
       "</div>"
      ],
      "text/plain": [
       "      id         f0         f1        f2     product\n",
       "0  kBEdx -15.001348  -8.276000 -0.005876    3.179103\n",
       "1  62mP7  14.272088  -3.475083  0.999183   26.953261\n",
       "2  vyE1P   6.263187  -5.948386  5.001160  134.766305\n",
       "3  KcrkZ -13.081196 -11.506057  4.999415  137.945408\n",
       "4  AHL4O  12.702195  -8.147433  5.004363  134.766305"
      ]
     },
     "metadata": {},
     "output_type": "display_data"
    },
    {
     "data": {
      "text/html": [
       "<div>\n",
       "<style scoped>\n",
       "    .dataframe tbody tr th:only-of-type {\n",
       "        vertical-align: middle;\n",
       "    }\n",
       "\n",
       "    .dataframe tbody tr th {\n",
       "        vertical-align: top;\n",
       "    }\n",
       "\n",
       "    .dataframe thead th {\n",
       "        text-align: right;\n",
       "    }\n",
       "</style>\n",
       "<table border=\"1\" class=\"dataframe\">\n",
       "  <thead>\n",
       "    <tr style=\"text-align: right;\">\n",
       "      <th></th>\n",
       "      <th>f0</th>\n",
       "      <th>f1</th>\n",
       "      <th>f2</th>\n",
       "      <th>product</th>\n",
       "    </tr>\n",
       "  </thead>\n",
       "  <tbody>\n",
       "    <tr>\n",
       "      <th>count</th>\n",
       "      <td>100000.000000</td>\n",
       "      <td>100000.000000</td>\n",
       "      <td>100000.000000</td>\n",
       "      <td>100000.000000</td>\n",
       "    </tr>\n",
       "    <tr>\n",
       "      <th>mean</th>\n",
       "      <td>1.141296</td>\n",
       "      <td>-4.796579</td>\n",
       "      <td>2.494541</td>\n",
       "      <td>68.825000</td>\n",
       "    </tr>\n",
       "    <tr>\n",
       "      <th>std</th>\n",
       "      <td>8.965932</td>\n",
       "      <td>5.119872</td>\n",
       "      <td>1.703572</td>\n",
       "      <td>45.944423</td>\n",
       "    </tr>\n",
       "    <tr>\n",
       "      <th>min</th>\n",
       "      <td>-31.609576</td>\n",
       "      <td>-26.358598</td>\n",
       "      <td>-0.018144</td>\n",
       "      <td>0.000000</td>\n",
       "    </tr>\n",
       "    <tr>\n",
       "      <th>25%</th>\n",
       "      <td>-6.298551</td>\n",
       "      <td>-8.267985</td>\n",
       "      <td>1.000021</td>\n",
       "      <td>26.953261</td>\n",
       "    </tr>\n",
       "    <tr>\n",
       "      <th>50%</th>\n",
       "      <td>1.153055</td>\n",
       "      <td>-4.813172</td>\n",
       "      <td>2.011479</td>\n",
       "      <td>57.085625</td>\n",
       "    </tr>\n",
       "    <tr>\n",
       "      <th>75%</th>\n",
       "      <td>8.621015</td>\n",
       "      <td>-1.332816</td>\n",
       "      <td>3.999904</td>\n",
       "      <td>107.813044</td>\n",
       "    </tr>\n",
       "    <tr>\n",
       "      <th>max</th>\n",
       "      <td>29.421755</td>\n",
       "      <td>18.734063</td>\n",
       "      <td>5.019721</td>\n",
       "      <td>137.945408</td>\n",
       "    </tr>\n",
       "  </tbody>\n",
       "</table>\n",
       "</div>"
      ],
      "text/plain": [
       "                  f0             f1             f2        product\n",
       "count  100000.000000  100000.000000  100000.000000  100000.000000\n",
       "mean        1.141296      -4.796579       2.494541      68.825000\n",
       "std         8.965932       5.119872       1.703572      45.944423\n",
       "min       -31.609576     -26.358598      -0.018144       0.000000\n",
       "25%        -6.298551      -8.267985       1.000021      26.953261\n",
       "50%         1.153055      -4.813172       2.011479      57.085625\n",
       "75%         8.621015      -1.332816       3.999904     107.813044\n",
       "max        29.421755      18.734063       5.019721     137.945408"
      ]
     },
     "metadata": {},
     "output_type": "display_data"
    }
   ],
   "source": [
    "df2 = pd.read_csv('/datasets/geo_data_1.csv')\n",
    "display(df2.shape)\n",
    "display(df2.info())\n",
    "display(df2.head())\n",
    "display(df2.describe())"
   ]
  },
  {
   "cell_type": "code",
   "execution_count": 4,
   "metadata": {
    "scrolled": false
   },
   "outputs": [
    {
     "data": {
      "text/plain": [
       "(100000, 5)"
      ]
     },
     "metadata": {},
     "output_type": "display_data"
    },
    {
     "name": "stdout",
     "output_type": "stream",
     "text": [
      "<class 'pandas.core.frame.DataFrame'>\n",
      "RangeIndex: 100000 entries, 0 to 99999\n",
      "Data columns (total 5 columns):\n",
      " #   Column   Non-Null Count   Dtype  \n",
      "---  ------   --------------   -----  \n",
      " 0   id       100000 non-null  object \n",
      " 1   f0       100000 non-null  float64\n",
      " 2   f1       100000 non-null  float64\n",
      " 3   f2       100000 non-null  float64\n",
      " 4   product  100000 non-null  float64\n",
      "dtypes: float64(4), object(1)\n",
      "memory usage: 3.8+ MB\n"
     ]
    },
    {
     "data": {
      "text/plain": [
       "None"
      ]
     },
     "metadata": {},
     "output_type": "display_data"
    },
    {
     "data": {
      "text/html": [
       "<div>\n",
       "<style scoped>\n",
       "    .dataframe tbody tr th:only-of-type {\n",
       "        vertical-align: middle;\n",
       "    }\n",
       "\n",
       "    .dataframe tbody tr th {\n",
       "        vertical-align: top;\n",
       "    }\n",
       "\n",
       "    .dataframe thead th {\n",
       "        text-align: right;\n",
       "    }\n",
       "</style>\n",
       "<table border=\"1\" class=\"dataframe\">\n",
       "  <thead>\n",
       "    <tr style=\"text-align: right;\">\n",
       "      <th></th>\n",
       "      <th>id</th>\n",
       "      <th>f0</th>\n",
       "      <th>f1</th>\n",
       "      <th>f2</th>\n",
       "      <th>product</th>\n",
       "    </tr>\n",
       "  </thead>\n",
       "  <tbody>\n",
       "    <tr>\n",
       "      <th>0</th>\n",
       "      <td>fwXo0</td>\n",
       "      <td>-1.146987</td>\n",
       "      <td>0.963328</td>\n",
       "      <td>-0.828965</td>\n",
       "      <td>27.758673</td>\n",
       "    </tr>\n",
       "    <tr>\n",
       "      <th>1</th>\n",
       "      <td>WJtFt</td>\n",
       "      <td>0.262778</td>\n",
       "      <td>0.269839</td>\n",
       "      <td>-2.530187</td>\n",
       "      <td>56.069697</td>\n",
       "    </tr>\n",
       "    <tr>\n",
       "      <th>2</th>\n",
       "      <td>ovLUW</td>\n",
       "      <td>0.194587</td>\n",
       "      <td>0.289035</td>\n",
       "      <td>-5.586433</td>\n",
       "      <td>62.871910</td>\n",
       "    </tr>\n",
       "    <tr>\n",
       "      <th>3</th>\n",
       "      <td>q6cA6</td>\n",
       "      <td>2.236060</td>\n",
       "      <td>-0.553760</td>\n",
       "      <td>0.930038</td>\n",
       "      <td>114.572842</td>\n",
       "    </tr>\n",
       "    <tr>\n",
       "      <th>4</th>\n",
       "      <td>WPMUX</td>\n",
       "      <td>-0.515993</td>\n",
       "      <td>1.716266</td>\n",
       "      <td>5.899011</td>\n",
       "      <td>149.600746</td>\n",
       "    </tr>\n",
       "  </tbody>\n",
       "</table>\n",
       "</div>"
      ],
      "text/plain": [
       "      id        f0        f1        f2     product\n",
       "0  fwXo0 -1.146987  0.963328 -0.828965   27.758673\n",
       "1  WJtFt  0.262778  0.269839 -2.530187   56.069697\n",
       "2  ovLUW  0.194587  0.289035 -5.586433   62.871910\n",
       "3  q6cA6  2.236060 -0.553760  0.930038  114.572842\n",
       "4  WPMUX -0.515993  1.716266  5.899011  149.600746"
      ]
     },
     "metadata": {},
     "output_type": "display_data"
    },
    {
     "data": {
      "text/html": [
       "<div>\n",
       "<style scoped>\n",
       "    .dataframe tbody tr th:only-of-type {\n",
       "        vertical-align: middle;\n",
       "    }\n",
       "\n",
       "    .dataframe tbody tr th {\n",
       "        vertical-align: top;\n",
       "    }\n",
       "\n",
       "    .dataframe thead th {\n",
       "        text-align: right;\n",
       "    }\n",
       "</style>\n",
       "<table border=\"1\" class=\"dataframe\">\n",
       "  <thead>\n",
       "    <tr style=\"text-align: right;\">\n",
       "      <th></th>\n",
       "      <th>f0</th>\n",
       "      <th>f1</th>\n",
       "      <th>f2</th>\n",
       "      <th>product</th>\n",
       "    </tr>\n",
       "  </thead>\n",
       "  <tbody>\n",
       "    <tr>\n",
       "      <th>count</th>\n",
       "      <td>100000.000000</td>\n",
       "      <td>100000.000000</td>\n",
       "      <td>100000.000000</td>\n",
       "      <td>100000.000000</td>\n",
       "    </tr>\n",
       "    <tr>\n",
       "      <th>mean</th>\n",
       "      <td>0.002023</td>\n",
       "      <td>-0.002081</td>\n",
       "      <td>2.495128</td>\n",
       "      <td>95.000000</td>\n",
       "    </tr>\n",
       "    <tr>\n",
       "      <th>std</th>\n",
       "      <td>1.732045</td>\n",
       "      <td>1.730417</td>\n",
       "      <td>3.473445</td>\n",
       "      <td>44.749921</td>\n",
       "    </tr>\n",
       "    <tr>\n",
       "      <th>min</th>\n",
       "      <td>-8.760004</td>\n",
       "      <td>-7.084020</td>\n",
       "      <td>-11.970335</td>\n",
       "      <td>0.000000</td>\n",
       "    </tr>\n",
       "    <tr>\n",
       "      <th>25%</th>\n",
       "      <td>-1.162288</td>\n",
       "      <td>-1.174820</td>\n",
       "      <td>0.130359</td>\n",
       "      <td>59.450441</td>\n",
       "    </tr>\n",
       "    <tr>\n",
       "      <th>50%</th>\n",
       "      <td>0.009424</td>\n",
       "      <td>-0.009482</td>\n",
       "      <td>2.484236</td>\n",
       "      <td>94.925613</td>\n",
       "    </tr>\n",
       "    <tr>\n",
       "      <th>75%</th>\n",
       "      <td>1.158535</td>\n",
       "      <td>1.163678</td>\n",
       "      <td>4.858794</td>\n",
       "      <td>130.595027</td>\n",
       "    </tr>\n",
       "    <tr>\n",
       "      <th>max</th>\n",
       "      <td>7.238262</td>\n",
       "      <td>7.844801</td>\n",
       "      <td>16.739402</td>\n",
       "      <td>190.029838</td>\n",
       "    </tr>\n",
       "  </tbody>\n",
       "</table>\n",
       "</div>"
      ],
      "text/plain": [
       "                  f0             f1             f2        product\n",
       "count  100000.000000  100000.000000  100000.000000  100000.000000\n",
       "mean        0.002023      -0.002081       2.495128      95.000000\n",
       "std         1.732045       1.730417       3.473445      44.749921\n",
       "min        -8.760004      -7.084020     -11.970335       0.000000\n",
       "25%        -1.162288      -1.174820       0.130359      59.450441\n",
       "50%         0.009424      -0.009482       2.484236      94.925613\n",
       "75%         1.158535       1.163678       4.858794     130.595027\n",
       "max         7.238262       7.844801      16.739402     190.029838"
      ]
     },
     "metadata": {},
     "output_type": "display_data"
    }
   ],
   "source": [
    "df3 = pd.read_csv('/datasets/geo_data_2.csv')\n",
    "display(df3.shape)\n",
    "display(df3.info())\n",
    "display(df3.head())\n",
    "display(df3.describe())"
   ]
  },
  {
   "cell_type": "markdown",
   "metadata": {},
   "source": [
    "В данных отсутсвуют пропуски. То есть у нас имеется 3 датафрейма с 5ю колонками по 100к значений."
   ]
  },
  {
   "cell_type": "markdown",
   "metadata": {},
   "source": [
    "Удалим из каждого датафрейма столбец id, так как он не используется в модели."
   ]
  },
  {
   "cell_type": "code",
   "execution_count": 5,
   "metadata": {},
   "outputs": [],
   "source": [
    "df1 = df1.drop('id', axis=1)\n",
    "df2 = df2.drop('id', axis=1)\n",
    "df3 = df3.drop('id', axis=1)"
   ]
  },
  {
   "cell_type": "markdown",
   "metadata": {},
   "source": [
    "### Проверим нудевые значения в целевом признаке"
   ]
  },
  {
   "cell_type": "code",
   "execution_count": 6,
   "metadata": {},
   "outputs": [],
   "source": [
    "def check_zeros(df, target_name):\n",
    "    zeros = df[df[target_name] == 0][target_name].count()\n",
    "    percent = zeros / df.shape[0]\n",
    "    print('Количество нулевых значений -', zeros)\n",
    "    print('Процент нулевых значений -', percent)"
   ]
  },
  {
   "cell_type": "code",
   "execution_count": 7,
   "metadata": {},
   "outputs": [
    {
     "name": "stdout",
     "output_type": "stream",
     "text": [
      "Количество нулевых значений - 1\n",
      "Процент нулевых значений - 1e-05\n"
     ]
    }
   ],
   "source": [
    "check_zeros(df1, 'product')"
   ]
  },
  {
   "cell_type": "code",
   "execution_count": 8,
   "metadata": {},
   "outputs": [
    {
     "name": "stdout",
     "output_type": "stream",
     "text": [
      "Количество нулевых значений - 8235\n",
      "Процент нулевых значений - 0.08235\n"
     ]
    }
   ],
   "source": [
    "check_zeros(df2, 'product')"
   ]
  },
  {
   "cell_type": "code",
   "execution_count": 9,
   "metadata": {
    "scrolled": true
   },
   "outputs": [
    {
     "name": "stdout",
     "output_type": "stream",
     "text": [
      "Количество нулевых значений - 1\n",
      "Процент нулевых значений - 1e-05\n"
     ]
    }
   ],
   "source": [
    "check_zeros(df3, 'product')"
   ]
  },
  {
   "cell_type": "markdown",
   "metadata": {},
   "source": [
    "В 1 и 3 датафрейме всего одно нулевое значение, однако во втором датафрейме нулей больше 8к. На это стоит обратить внимание.  \n",
    "Тоже самое говорят и средние значения по столбцу product. Однако процент маленький, нужно смотреть дальше."
   ]
  },
  {
   "cell_type": "markdown",
   "metadata": {},
   "source": [
    "### Проверим корреляцию между признаками"
   ]
  },
  {
   "cell_type": "code",
   "execution_count": 10,
   "metadata": {},
   "outputs": [
    {
     "name": "stdout",
     "output_type": "stream",
     "text": [
      "1 регион\n"
     ]
    },
    {
     "data": {
      "text/html": [
       "<div>\n",
       "<style scoped>\n",
       "    .dataframe tbody tr th:only-of-type {\n",
       "        vertical-align: middle;\n",
       "    }\n",
       "\n",
       "    .dataframe tbody tr th {\n",
       "        vertical-align: top;\n",
       "    }\n",
       "\n",
       "    .dataframe thead th {\n",
       "        text-align: right;\n",
       "    }\n",
       "</style>\n",
       "<table border=\"1\" class=\"dataframe\">\n",
       "  <thead>\n",
       "    <tr style=\"text-align: right;\">\n",
       "      <th></th>\n",
       "      <th>f0</th>\n",
       "      <th>f1</th>\n",
       "      <th>f2</th>\n",
       "      <th>product</th>\n",
       "    </tr>\n",
       "  </thead>\n",
       "  <tbody>\n",
       "    <tr>\n",
       "      <th>f0</th>\n",
       "      <td>1.000000</td>\n",
       "      <td>-0.440723</td>\n",
       "      <td>-0.003153</td>\n",
       "      <td>0.143536</td>\n",
       "    </tr>\n",
       "    <tr>\n",
       "      <th>f1</th>\n",
       "      <td>-0.440723</td>\n",
       "      <td>1.000000</td>\n",
       "      <td>0.001724</td>\n",
       "      <td>-0.192356</td>\n",
       "    </tr>\n",
       "    <tr>\n",
       "      <th>f2</th>\n",
       "      <td>-0.003153</td>\n",
       "      <td>0.001724</td>\n",
       "      <td>1.000000</td>\n",
       "      <td>0.483663</td>\n",
       "    </tr>\n",
       "    <tr>\n",
       "      <th>product</th>\n",
       "      <td>0.143536</td>\n",
       "      <td>-0.192356</td>\n",
       "      <td>0.483663</td>\n",
       "      <td>1.000000</td>\n",
       "    </tr>\n",
       "  </tbody>\n",
       "</table>\n",
       "</div>"
      ],
      "text/plain": [
       "               f0        f1        f2   product\n",
       "f0       1.000000 -0.440723 -0.003153  0.143536\n",
       "f1      -0.440723  1.000000  0.001724 -0.192356\n",
       "f2      -0.003153  0.001724  1.000000  0.483663\n",
       "product  0.143536 -0.192356  0.483663  1.000000"
      ]
     },
     "metadata": {},
     "output_type": "display_data"
    },
    {
     "name": "stdout",
     "output_type": "stream",
     "text": [
      "2 регион\n"
     ]
    },
    {
     "data": {
      "text/html": [
       "<div>\n",
       "<style scoped>\n",
       "    .dataframe tbody tr th:only-of-type {\n",
       "        vertical-align: middle;\n",
       "    }\n",
       "\n",
       "    .dataframe tbody tr th {\n",
       "        vertical-align: top;\n",
       "    }\n",
       "\n",
       "    .dataframe thead th {\n",
       "        text-align: right;\n",
       "    }\n",
       "</style>\n",
       "<table border=\"1\" class=\"dataframe\">\n",
       "  <thead>\n",
       "    <tr style=\"text-align: right;\">\n",
       "      <th></th>\n",
       "      <th>f0</th>\n",
       "      <th>f1</th>\n",
       "      <th>f2</th>\n",
       "      <th>product</th>\n",
       "    </tr>\n",
       "  </thead>\n",
       "  <tbody>\n",
       "    <tr>\n",
       "      <th>f0</th>\n",
       "      <td>1.000000</td>\n",
       "      <td>0.182287</td>\n",
       "      <td>-0.001777</td>\n",
       "      <td>-0.030491</td>\n",
       "    </tr>\n",
       "    <tr>\n",
       "      <th>f1</th>\n",
       "      <td>0.182287</td>\n",
       "      <td>1.000000</td>\n",
       "      <td>-0.002595</td>\n",
       "      <td>-0.010155</td>\n",
       "    </tr>\n",
       "    <tr>\n",
       "      <th>f2</th>\n",
       "      <td>-0.001777</td>\n",
       "      <td>-0.002595</td>\n",
       "      <td>1.000000</td>\n",
       "      <td>0.999397</td>\n",
       "    </tr>\n",
       "    <tr>\n",
       "      <th>product</th>\n",
       "      <td>-0.030491</td>\n",
       "      <td>-0.010155</td>\n",
       "      <td>0.999397</td>\n",
       "      <td>1.000000</td>\n",
       "    </tr>\n",
       "  </tbody>\n",
       "</table>\n",
       "</div>"
      ],
      "text/plain": [
       "               f0        f1        f2   product\n",
       "f0       1.000000  0.182287 -0.001777 -0.030491\n",
       "f1       0.182287  1.000000 -0.002595 -0.010155\n",
       "f2      -0.001777 -0.002595  1.000000  0.999397\n",
       "product -0.030491 -0.010155  0.999397  1.000000"
      ]
     },
     "metadata": {},
     "output_type": "display_data"
    },
    {
     "name": "stdout",
     "output_type": "stream",
     "text": [
      "3 регион\n"
     ]
    },
    {
     "data": {
      "text/html": [
       "<div>\n",
       "<style scoped>\n",
       "    .dataframe tbody tr th:only-of-type {\n",
       "        vertical-align: middle;\n",
       "    }\n",
       "\n",
       "    .dataframe tbody tr th {\n",
       "        vertical-align: top;\n",
       "    }\n",
       "\n",
       "    .dataframe thead th {\n",
       "        text-align: right;\n",
       "    }\n",
       "</style>\n",
       "<table border=\"1\" class=\"dataframe\">\n",
       "  <thead>\n",
       "    <tr style=\"text-align: right;\">\n",
       "      <th></th>\n",
       "      <th>f0</th>\n",
       "      <th>f1</th>\n",
       "      <th>f2</th>\n",
       "      <th>product</th>\n",
       "    </tr>\n",
       "  </thead>\n",
       "  <tbody>\n",
       "    <tr>\n",
       "      <th>f0</th>\n",
       "      <td>1.000000</td>\n",
       "      <td>0.000528</td>\n",
       "      <td>-0.000448</td>\n",
       "      <td>-0.001987</td>\n",
       "    </tr>\n",
       "    <tr>\n",
       "      <th>f1</th>\n",
       "      <td>0.000528</td>\n",
       "      <td>1.000000</td>\n",
       "      <td>0.000779</td>\n",
       "      <td>-0.001012</td>\n",
       "    </tr>\n",
       "    <tr>\n",
       "      <th>f2</th>\n",
       "      <td>-0.000448</td>\n",
       "      <td>0.000779</td>\n",
       "      <td>1.000000</td>\n",
       "      <td>0.445871</td>\n",
       "    </tr>\n",
       "    <tr>\n",
       "      <th>product</th>\n",
       "      <td>-0.001987</td>\n",
       "      <td>-0.001012</td>\n",
       "      <td>0.445871</td>\n",
       "      <td>1.000000</td>\n",
       "    </tr>\n",
       "  </tbody>\n",
       "</table>\n",
       "</div>"
      ],
      "text/plain": [
       "               f0        f1        f2   product\n",
       "f0       1.000000  0.000528 -0.000448 -0.001987\n",
       "f1       0.000528  1.000000  0.000779 -0.001012\n",
       "f2      -0.000448  0.000779  1.000000  0.445871\n",
       "product -0.001987 -0.001012  0.445871  1.000000"
      ]
     },
     "metadata": {},
     "output_type": "display_data"
    }
   ],
   "source": [
    "print('1 регион')\n",
    "display(df1.corr())\n",
    "print('2 регион')\n",
    "display(df2.corr())\n",
    "print('3 регион')\n",
    "display(df3.corr())"
   ]
  },
  {
   "cell_type": "markdown",
   "metadata": {},
   "source": [
    "В 1 регионе признаки f0 и f1 отрицательно коррелируют относительно друг друга и f2 положительно коррелирует с целевым признаком.  \n",
    "Во 2 регионе очень сильно коррелирует целевой признак и f2.  \n",
    "В 3 регионе также есть положительно коррелирующие признаки, такие как f2 и product."
   ]
  },
  {
   "cell_type": "markdown",
   "metadata": {},
   "source": [
    "### Изучим гистограммы по столбцу product."
   ]
  },
  {
   "cell_type": "code",
   "execution_count": 11,
   "metadata": {},
   "outputs": [],
   "source": [
    "def oil_hist(targ, bins, xlim_max, ylim_max):\n",
    "    plt.figure(figsize=[12,9])\n",
    "\n",
    "    plt.hist(targ, bins=bins)\n",
    "\n",
    "    plt.xlim([0,xlim_max])\n",
    "    plt.ylim([0,ylim_max])\n",
    "\n",
    "    plt.xlabel(\"Объём запасов в скважине, тыс. баррелей\")\n",
    "    plt.ylabel(\"Количество скважин\") #не оч верно, так как некоторые повторяются, но опустим. мь лучше написать точек?...\n",
    "\n",
    "    plt.title(\"Гистограмма распределения по объему запасов скважин\")\n",
    "    plt.show()"
   ]
  },
  {
   "cell_type": "code",
   "execution_count": 12,
   "metadata": {},
   "outputs": [
    {
     "data": {
      "image/png": "[encoded data removed]",
      "text/plain": [
       "<Figure size 864x648 with 1 Axes>"
      ]
     },
     "metadata": {
      "needs_background": "light"
     },
     "output_type": "display_data"
    }
   ],
   "source": [
    "oil_hist(df1['product'], 200, 190, 1000)"
   ]
  },
  {
   "cell_type": "code",
   "execution_count": 13,
   "metadata": {},
   "outputs": [
    {
     "data": {
      "image/png": "[encoded data removed]",
      "text/plain": [
       "<Figure size 864x648 with 1 Axes>"
      ]
     },
     "metadata": {
      "needs_background": "light"
     },
     "output_type": "display_data"
    }
   ],
   "source": [
    "oil_hist(df2['product'], 50, 150, 10000)"
   ]
  },
  {
   "cell_type": "code",
   "execution_count": 14,
   "metadata": {
    "scrolled": false
   },
   "outputs": [
    {
     "data": {
      "image/png": "[encoded data removed]",
      "text/plain": [
       "<Figure size 864x648 with 1 Axes>"
      ]
     },
     "metadata": {
      "needs_background": "light"
     },
     "output_type": "display_data"
    }
   ],
   "source": [
    "oil_hist(df3['product'], 200, 190, 1000)"
   ]
  },
  {
   "cell_type": "markdown",
   "metadata": {},
   "source": [
    "Вообще судя по гистограмамм во 2 ДФ очень специфичные определенные значения, что по мне так странно. Но, что имеем."
   ]
  },
  {
   "cell_type": "markdown",
   "metadata": {},
   "source": [
    "# Вывод:\n",
    "\n",
    "Признаки для модели:\n",
    "\n",
    "* f0;\n",
    "* f1;\n",
    "* f2.\n",
    "\n",
    "Целевой признак:\n",
    "* product.\n",
    "\n",
    "Данные готовы к обучению.\n",
    "\n",
    "По гистограммам можно понять, что у первого и третьего региона наспределение скважин близкое к нормальному. Во втором регионе данные имеют странное распределение: все значения равномерно распределены по группам с шагом 15-20 баррелей, поэтому возможно, что данные были введены искуственно (или смоделированы)."
   ]
  },
  {
   "cell_type": "markdown",
   "metadata": {},
   "source": [
    "<div class=\"alert alert-block alert-info\">\n",
    "Советую обратить внимание на библиотеки sweetviz и pandas_profiling помогут в проведении более тщательного EDA анализа. Исследовательский анализ можно делать и с помощью ручного вызова функций дефолтных библиотек. Данные библиотеки хороши для максимизации комфорта презентации результатов анализа бизнес-пользователям. \n",
    "    \n",
    "Очень просты в использоовании, на вход кладется датафрейм: pandas_profiling.ProfileReport(df) \n",
    "    \n",
    "</div>\n"
   ]
  },
  {
   "cell_type": "markdown",
   "metadata": {},
   "source": [
    "## Обучение и проверка модели"
   ]
  },
  {
   "cell_type": "markdown",
   "metadata": {},
   "source": [
    "### Разбиение данных на обучающую и валидационную выборки "
   ]
  },
  {
   "cell_type": "markdown",
   "metadata": {},
   "source": [
    "Существующие данные мы делим на две выборки:\n",
    "\n",
    "* обучающая 75% \n",
    "* валидационная 25% \n",
    "\n",
    "Поделим на features (признаки) и target (целевой признак) с помощью функции:"
   ]
  },
  {
   "cell_type": "code",
   "execution_count": 15,
   "metadata": {},
   "outputs": [],
   "source": [
    "def test_split(df, target):\n",
    "    features = df.drop([target] , axis=1)\n",
    "    target = df[target]\n",
    "\n",
    "    features_train, features_valid, target_train, target_valid = train_test_split(\n",
    "    features, target, test_size=0.25, random_state=12345)\n",
    "    \n",
    "    return features_train, features_valid, target_train, target_valid"
   ]
  },
  {
   "cell_type": "code",
   "execution_count": 16,
   "metadata": {
    "scrolled": true
   },
   "outputs": [
    {
     "data": {
      "text/plain": [
       "(75000, 3)"
      ]
     },
     "metadata": {},
     "output_type": "display_data"
    },
    {
     "data": {
      "text/plain": [
       "(75000, 3)"
      ]
     },
     "metadata": {},
     "output_type": "display_data"
    },
    {
     "data": {
      "text/plain": [
       "(75000, 3)"
      ]
     },
     "metadata": {},
     "output_type": "display_data"
    },
    {
     "name": "stdout",
     "output_type": "stream",
     "text": [
      "Размер обучающей выборки 75000\n",
      "Размер тестовой выборки 25000\n"
     ]
    }
   ],
   "source": [
    "features_train_1, features_valid_1, target_train_1, target_valid_1 = test_split(df1, 'product')\n",
    "features_train_2, features_valid_2, target_train_2, target_valid_2 = test_split(df2, 'product')\n",
    "features_train_3, features_valid_3, target_train_3, target_valid_3 = test_split(df3, 'product')\n",
    "\n",
    "display(features_train_1.shape)\n",
    "display(features_train_2.shape)\n",
    "display(features_train_3.shape)\n",
    "print('Размер обучающей выборки', features_train_1.shape[0])\n",
    "print('Размер тестовой выборки', features_valid_1.shape[0])"
   ]
  },
  {
   "cell_type": "markdown",
   "metadata": {},
   "source": [
    "### Обучение модели, предсказывание на валидационной выборке"
   ]
  },
  {
   "cell_type": "markdown",
   "metadata": {},
   "source": [
    "2.2. Обучите модель и сделайте предсказания на валидационной выборке.  \n",
    "2.3. Сохраните предсказания и правильные ответы на валидационной выборке.  \n",
    "2.4. Напечатайте на экране средний запас предсказанного сырья и RMSE модели.  \n",
    "2.5. Проанализируйте результаты."
   ]
  },
  {
   "cell_type": "code",
   "execution_count": 17,
   "metadata": {},
   "outputs": [],
   "source": [
    "from sklearn.metrics import r2_score\n",
    "\n",
    "model = LinearRegression()\n",
    "\n",
    "def region_prediction(reg, f_train,f_valid, t_train, t_valid):\n",
    "    \n",
    "    model.fit(f_train, t_train)\n",
    "    predicted_valid = model.predict(f_valid)\n",
    "    \n",
    "    rmse = mean_squared_error(t_valid, predicted_valid)**0.5\n",
    "    rmse_const = mean_squared_error(t_valid, pd.Series(t_train.mean(), t_valid.index))**0.5\n",
    "    \n",
    "    stock_mean_pred = predicted_valid.mean()\n",
    "   \n",
    "    print('RMSE:', rmse)\n",
    "    print('rmse_mean:',  rmse_const)\n",
    "    print('R2:',  r2_score(t_valid, predicted_valid))\n",
    "    print('Средний запас предсказанного сырья:', stock_mean_pred)\n",
    "    return predicted_valid, stock_mean_pred\n",
    "    "
   ]
  },
  {
   "cell_type": "markdown",
   "metadata": {},
   "source": [
    "### Средний запас предсказанного сырья и RMSE модели"
   ]
  },
  {
   "cell_type": "markdown",
   "metadata": {},
   "source": [
    "#### Первый регион"
   ]
  },
  {
   "cell_type": "code",
   "execution_count": 18,
   "metadata": {},
   "outputs": [
    {
     "name": "stdout",
     "output_type": "stream",
     "text": [
      "RMSE: 37.5794217150813\n",
      "rmse_mean: 44.289591053907365\n",
      "R2: 0.27994321524487786\n",
      "Средний запас предсказанного сырья: 92.59256778438035\n"
     ]
    }
   ],
   "source": [
    "predicted_valid_1, stock_mean_pred_1 = region_prediction(df1, features_train_1, features_valid_1, \\\n",
    "                                                          target_train_1, target_valid_1)"
   ]
  },
  {
   "cell_type": "markdown",
   "metadata": {},
   "source": [
    "#### Второй регион"
   ]
  },
  {
   "cell_type": "code",
   "execution_count": 19,
   "metadata": {},
   "outputs": [
    {
     "name": "stdout",
     "output_type": "stream",
     "text": [
      "RMSE: 0.893099286775617\n",
      "rmse_mean: 46.02144533725462\n",
      "R2: 0.9996233978805127\n",
      "Средний запас предсказанного сырья: 68.728546895446\n"
     ]
    }
   ],
   "source": [
    "predicted_valid_2, stock_mean_pred_2 = region_prediction(df2, features_train_2, features_valid_2, \\\n",
    "                                                          target_train_2, target_valid_2)"
   ]
  },
  {
   "cell_type": "markdown",
   "metadata": {},
   "source": [
    "#### Третий регион"
   ]
  },
  {
   "cell_type": "code",
   "execution_count": 20,
   "metadata": {},
   "outputs": [
    {
     "name": "stdout",
     "output_type": "stream",
     "text": [
      "RMSE: 40.02970873393434\n",
      "rmse_mean: 44.90234968510566\n",
      "R2: 0.20524758386040443\n",
      "Средний запас предсказанного сырья: 94.96504596800489\n"
     ]
    }
   ],
   "source": [
    "predicted_valid_3, stock_mean_pred_3 = region_prediction(df2, features_train_3, features_valid_3, \\\n",
    "                                                          target_train_3, target_valid_3)"
   ]
  },
  {
   "cell_type": "markdown",
   "metadata": {},
   "source": [
    "# Вывод:\n",
    "\n",
    "Проведя обучение на наших моделях, наилучший результат показали данные второго региона.  \n",
    "Данные 1-го и 3-го региона ~ одинаковы.\n",
    "\n",
    "Средне квадратичная ошибка у 1 и 3 примерно одинакова - около 40. У 2-го - около 1, при этом пкоэфициент детерминации почти 1! модель предсказала почти идеально!"
   ]
  },
  {
   "cell_type": "markdown",
   "metadata": {},
   "source": [
    "## Подготовка к расчёту прибыли"
   ]
  },
  {
   "cell_type": "markdown",
   "metadata": {},
   "source": [
    "Запишем данные из условия:"
   ]
  },
  {
   "cell_type": "code",
   "execution_count": 21,
   "metadata": {},
   "outputs": [
    {
     "name": "stdout",
     "output_type": "stream",
     "text": [
      "Достаточный объем добычи для безубыточной разработки = 111.11\n"
     ]
    }
   ],
   "source": [
    "budget = 10_000_000_000\n",
    "price_for_1000_barrel = 450000\n",
    "min_barrel_for_mining = budget / price_for_1000_barrel / 200 #200 - лучшх точек\n",
    "print('Достаточный объем добычи для безубыточной разработки =', round(min_barrel_for_mining, 2))"
   ]
  },
  {
   "cell_type": "code",
   "execution_count": 22,
   "metadata": {},
   "outputs": [
    {
     "name": "stdout",
     "output_type": "stream",
     "text": [
      "Средний запас нефти на скважину в регионе 1 92.50000000000001\n",
      "Средний запас нефти на скважину в регионе 2 68.82500000000002\n",
      "Средний запас нефти на скважину в регионе 3 95.00000000000004\n"
     ]
    }
   ],
   "source": [
    "print('Средний запас нефти на скважину в регионе 1', df1['product'].mean())\n",
    "print('Средний запас нефти на скважину в регионе 2', df2['product'].mean())\n",
    "print('Средний запас нефти на скважину в регионе 3', df3['product'].mean())"
   ]
  },
  {
   "cell_type": "code",
   "execution_count": 23,
   "metadata": {},
   "outputs": [],
   "source": [
    "def volume_(df):\n",
    "    difference = df['product'].mean() - min_barrel_for_mining\n",
    "    if difference >= 0:\n",
    "        print('достаточный объём сырья для безубыточной разработки новой скважины. Запас равен:', difference, 'тыс.баррелей')\n",
    "    else:\n",
    "        print('Недостаточный объём сырья. Для безубыточной разработки новой скважины необходимо:', math.ceil(abs(difference)),\n",
    "              'тыс. баррелей. Средний убыток c одной скважины составит:', math.ceil(abs(difference)) * price_for_1000_barrel,\n",
    "             'рублей')"
   ]
  },
  {
   "cell_type": "code",
   "execution_count": 24,
   "metadata": {},
   "outputs": [
    {
     "name": "stdout",
     "output_type": "stream",
     "text": [
      "Недостаточный объём сырья. Для безубыточной разработки новой скважины необходимо: 19 тыс. баррелей. Средний убыток c одной скважины составит: 8550000 рублей\n"
     ]
    }
   ],
   "source": [
    "volume_(df1)"
   ]
  },
  {
   "cell_type": "code",
   "execution_count": 25,
   "metadata": {},
   "outputs": [
    {
     "name": "stdout",
     "output_type": "stream",
     "text": [
      "Недостаточный объём сырья. Для безубыточной разработки новой скважины необходимо: 43 тыс. баррелей. Средний убыток c одной скважины составит: 19350000 рублей\n"
     ]
    }
   ],
   "source": [
    "volume_(df2)"
   ]
  },
  {
   "cell_type": "code",
   "execution_count": 26,
   "metadata": {},
   "outputs": [
    {
     "name": "stdout",
     "output_type": "stream",
     "text": [
      "Недостаточный объём сырья. Для безубыточной разработки новой скважины необходимо: 17 тыс. баррелей. Средний убыток c одной скважины составит: 7650000 рублей\n"
     ]
    }
   ],
   "source": [
    "volume_(df3)"
   ]
  },
  {
   "cell_type": "markdown",
   "metadata": {},
   "source": [
    "Перейдем к расчёту прибыли по лучшим скважинам, предсказанные моделью."
   ]
  },
  {
   "cell_type": "markdown",
   "metadata": {},
   "source": [
    "## Расчёт прибыли и рисков "
   ]
  },
  {
   "cell_type": "code",
   "execution_count": 27,
   "metadata": {},
   "outputs": [],
   "source": [
    "def revenue(target, predicted):\n",
    "    predicted_sorted = predicted.sort_values(ascending=False)\n",
    "    best = target.loc[predicted_sorted.index.to_list()][:200]\n",
    "    return (best.sum() * price_for_1000_barrel) - budget\n",
    "\n",
    "def bootstrap(target_valid, predict, region):\n",
    "    state = np.random.RandomState(12345)\n",
    "    values = []\n",
    "    target = target_valid.reset_index(drop=True)\n",
    "    predictions = pd.Series(predict)\n",
    "    count = 0 \n",
    "    for i in range(1000):\n",
    " \n",
    "        target_subsample = target.sample(500, replace=True, random_state=state)\n",
    "        predictions_subsample = predictions.loc[target_subsample.index.to_list()]\n",
    "        value = revenue(target_subsample, predictions_subsample)\n",
    "        values.append(value)\n",
    "        \n",
    "        if value < 0: \n",
    "            count += 1 \n",
    "        \n",
    "    risk = count / 1000\n",
    " \n",
    "    values = pd.Series(values)\n",
    "    \n",
    "    lower = values.quantile(0.025)\n",
    "    upper = values.quantile(0.975) \n",
    "    \n",
    "    print('Средняя прибыль по', region, 'региону составляет:', round(values.mean(), 2), 'с риском в', \n",
    "          round(risk * 100, 2), '%')\n",
    "    print('Доверительный интервал в регионе составляет от', round(lower, 2),'до', round(upper, 2))"
   ]
  },
  {
   "cell_type": "markdown",
   "metadata": {},
   "source": [
    "<div class=\"alert alert-block alert-info\">\n",
    "    \n",
    "<b>Совет:</b> риски также можно считать лаконично следующим образом: `(value < 0).mean()`\n",
    "  \n",
    "</div>\n",
    " \n",
    " "
   ]
  },
  {
   "cell_type": "code",
   "execution_count": 28,
   "metadata": {},
   "outputs": [
    {
     "name": "stdout",
     "output_type": "stream",
     "text": [
      "Средняя прибыль по 1 региону составляет: 425938526.91 с риском в 6.0 %\n",
      "Доверительный интервал в регионе составляет от -102090094.84 до 947976353.36\n"
     ]
    }
   ],
   "source": [
    "bootstrap(target_valid_1, predicted_valid_1, 1)"
   ]
  },
  {
   "cell_type": "code",
   "execution_count": 29,
   "metadata": {},
   "outputs": [
    {
     "name": "stdout",
     "output_type": "stream",
     "text": [
      "Средняя прибыль по 2 региону составляет: 515222773.44 с риском в 1.0 %\n",
      "Доверительный интервал в регионе составляет от 68873225.37 до 931547591.26\n"
     ]
    }
   ],
   "source": [
    "bootstrap(target_valid_2, predicted_valid_2, 2)"
   ]
  },
  {
   "cell_type": "code",
   "execution_count": 30,
   "metadata": {
    "scrolled": true
   },
   "outputs": [
    {
     "name": "stdout",
     "output_type": "stream",
     "text": [
      "Средняя прибыль по 3 региону составляет: 435008362.78 с риском в 6.4 %\n",
      "Доверительный интервал в регионе составляет от -128880547.33 до 969706954.18\n"
     ]
    }
   ],
   "source": [
    "bootstrap(target_valid_3, predicted_valid_3, 3)"
   ]
  },
  {
   "cell_type": "markdown",
   "metadata": {},
   "source": [
    "# Вывод:\n",
    "По результатам подсчета: не стоит исследовать 1 и 3 регион, так как риски относительно высоки.  \n",
    "Лучшим вариантом остается 2 регион с риском менее 2.5%! Более того в доверительный интервал входят только положительные числа, таким образом добыча в этом регионе так или иначе окупится."
   ]
  },
  {
   "cell_type": "markdown",
   "metadata": {},
   "source": [
    "## Итоговый вывод\n",
    "Было выполнено:  \n",
    "\n",
    "* Изучили и предобработали данные. \n",
    "\n",
    "* Разбили данные на тренировочную и валидационную  выборки.\n",
    "\n",
    "* Обучили модель для каждого региона. Проверили модели на данных .\n",
    "\n",
    "* Подготовили данные к расчету прибыли.\n",
    "\n",
    "* Посчитали прибыль, итервал и риски.\n",
    "\n",
    "\n",
    "Проведя анализ между 3-м регионами можно сделать вывод, что 2-й регион самый удачный для разработки скважин (хотя данные не выглядят нормально распределенными), т.к. наша модель показала самую маленькую среднеквадратичную ошибку и самый большой коэфициент детерминации в данном регионе, что понижает ошибку выбора скважин по сравнению с другими регионами, а так же данный регион имеет самый низкий % риска, среднюю прибыль по региону и положительный доверительный интервал, который оставит нас в плюсе при любом раскладе.\n",
    "\n",
    "Вероятнее всего такой результат получился благодаря почти 100%-ой корреляции признака f2 и целевого признака для 2 региона:)"
   ]
  },
  {
   "cell_type": "markdown",
   "metadata": {},
   "source": [
    "## Чек-лист готовности проекта"
   ]
  },
  {
   "cell_type": "markdown",
   "metadata": {},
   "source": [
    "Поставьте 'x' в выполненных пунктах. Далее нажмите Shift+Enter."
   ]
  },
  {
   "cell_type": "markdown",
   "metadata": {},
   "source": [
    "- [x]  Jupyter Notebook открыт\n",
    "- [x]  Весь код выполняется без ошибок\n",
    "- [x]  Ячейки с кодом расположены в порядке исполнения\n",
    "- [x]  Выполнен шаг 1: данные подготовлены\n",
    "- [x]  Выполнен шаг 2: модели обучены и проверены\n",
    "    - [x]  Данные корректно разбиты на обучающую и валидационную выборки\n",
    "    - [x]  Модели обучены, предсказания сделаны\n",
    "    - [x]  Предсказания и правильные ответы на валидационной выборке сохранены\n",
    "    - [x]  На экране напечатаны результаты\n",
    "    - [x]  Сделаны выводы\n",
    "- [x]  Выполнен шаг 3: проведена подготовка к расчёту прибыли\n",
    "    - [x]  Для всех ключевых значений созданы константы Python\n",
    "    - [x]  Посчитано минимальное среднее количество продукта в месторождениях региона, достаточное для разработки\n",
    "    - [x]  По предыдущему пункту сделаны выводы\n",
    "    - [x]  Написана функция расчёта прибыли\n",
    "- [x]  Выполнен шаг 4: посчитаны риски и прибыль\n",
    "    - [x]  Проведена процедура *Bootstrap*\n",
    "    - [x]  Все параметры бутстрепа соответствуют условию\n",
    "    - [x]  Найдены все нужные величины\n",
    "    - [x]  Предложен регион для разработки месторождения\n",
    "    - [x]  Выбор региона обоснован"
   ]
  }
 ],
 "metadata": {
  "ExecuteTimeLog": [
   {
    "duration": 1518,
    "start_time": "2022-06-29T16:16:34.783Z"
   },
   {
    "duration": 388,
    "start_time": "2022-06-29T16:22:05.562Z"
   },
   {
    "duration": 371,
    "start_time": "2022-06-29T16:22:26.048Z"
   },
   {
    "duration": 185,
    "start_time": "2022-06-29T16:32:20.481Z"
   },
   {
    "duration": 281,
    "start_time": "2022-06-29T16:32:51.201Z"
   },
   {
    "duration": 248,
    "start_time": "2022-06-29T16:32:56.136Z"
   },
   {
    "duration": 4,
    "start_time": "2022-06-29T16:33:49.217Z"
   },
   {
    "duration": 57,
    "start_time": "2022-06-29T16:33:50.411Z"
   },
   {
    "duration": 18,
    "start_time": "2022-06-29T16:35:25.939Z"
   },
   {
    "duration": 4,
    "start_time": "2022-06-29T16:35:30.219Z"
   },
   {
    "duration": 9,
    "start_time": "2022-06-29T16:35:33.147Z"
   },
   {
    "duration": 7,
    "start_time": "2022-06-29T16:35:33.746Z"
   },
   {
    "duration": 15,
    "start_time": "2022-06-29T16:35:34.274Z"
   },
   {
    "duration": 16,
    "start_time": "2022-06-29T16:36:07.107Z"
   },
   {
    "duration": 6,
    "start_time": "2022-06-29T16:38:29.621Z"
   },
   {
    "duration": 465,
    "start_time": "2022-06-29T16:38:38.383Z"
   },
   {
    "duration": 199,
    "start_time": "2022-06-29T16:42:05.249Z"
   },
   {
    "duration": 111,
    "start_time": "2022-06-29T16:42:30.922Z"
   },
   {
    "duration": 26,
    "start_time": "2022-06-29T16:42:55.040Z"
   },
   {
    "duration": 124,
    "start_time": "2022-06-29T16:43:03.081Z"
   },
   {
    "duration": 27,
    "start_time": "2022-06-29T16:43:15.030Z"
   },
   {
    "duration": 28,
    "start_time": "2022-06-29T16:43:24.402Z"
   },
   {
    "duration": 4,
    "start_time": "2022-06-29T16:44:57.016Z"
   },
   {
    "duration": 205,
    "start_time": "2022-06-29T16:44:57.022Z"
   },
   {
    "duration": 199,
    "start_time": "2022-06-29T16:44:57.229Z"
   },
   {
    "duration": 220,
    "start_time": "2022-06-29T16:44:57.431Z"
   },
   {
    "duration": 15,
    "start_time": "2022-06-29T16:44:57.653Z"
   },
   {
    "duration": 10,
    "start_time": "2022-06-29T16:44:57.670Z"
   },
   {
    "duration": 11,
    "start_time": "2022-06-29T16:44:57.682Z"
   },
   {
    "duration": 7,
    "start_time": "2022-06-29T16:44:57.696Z"
   },
   {
    "duration": 7,
    "start_time": "2022-06-29T16:44:57.727Z"
   },
   {
    "duration": 5,
    "start_time": "2022-06-29T16:44:57.736Z"
   },
   {
    "duration": 441,
    "start_time": "2022-06-29T16:44:57.744Z"
   },
   {
    "duration": 532,
    "start_time": "2022-06-29T16:44:58.186Z"
   },
   {
    "duration": 243,
    "start_time": "2022-06-29T16:44:58.719Z"
   },
   {
    "duration": 370,
    "start_time": "2022-06-29T16:45:01.493Z"
   },
   {
    "duration": 415,
    "start_time": "2022-06-29T16:45:03.772Z"
   },
   {
    "duration": 5,
    "start_time": "2022-06-29T18:56:26.706Z"
   },
   {
    "duration": 51,
    "start_time": "2022-06-29T18:56:33.281Z"
   },
   {
    "duration": 52,
    "start_time": "2022-06-29T18:57:57.038Z"
   },
   {
    "duration": 32,
    "start_time": "2022-06-29T18:58:27.729Z"
   },
   {
    "duration": 5,
    "start_time": "2022-06-29T19:01:50.813Z"
   },
   {
    "duration": 21,
    "start_time": "2022-06-29T19:01:51.669Z"
   },
   {
    "duration": 7,
    "start_time": "2022-06-29T19:03:26.604Z"
   },
   {
    "duration": 51,
    "start_time": "2022-06-29T19:03:27.487Z"
   },
   {
    "duration": 5,
    "start_time": "2022-06-29T19:04:11.317Z"
   },
   {
    "duration": 61,
    "start_time": "2022-06-29T19:04:16.269Z"
   },
   {
    "duration": 4,
    "start_time": "2022-06-29T19:11:45.495Z"
   },
   {
    "duration": 32,
    "start_time": "2022-06-29T19:11:46.899Z"
   },
   {
    "duration": 4,
    "start_time": "2022-06-29T19:12:12.652Z"
   },
   {
    "duration": 81,
    "start_time": "2022-06-29T19:12:13.751Z"
   },
   {
    "duration": 5,
    "start_time": "2022-06-29T19:12:50.380Z"
   },
   {
    "duration": 22,
    "start_time": "2022-06-29T19:12:51.189Z"
   },
   {
    "duration": 6,
    "start_time": "2022-06-29T19:14:14.549Z"
   },
   {
    "duration": 19,
    "start_time": "2022-06-29T19:14:15.445Z"
   },
   {
    "duration": 119,
    "start_time": "2022-06-29T19:14:16.319Z"
   },
   {
    "duration": 90,
    "start_time": "2022-06-29T19:14:17.439Z"
   },
   {
    "duration": 5,
    "start_time": "2022-06-29T19:16:44.918Z"
   },
   {
    "duration": 211,
    "start_time": "2022-06-29T19:16:45.823Z"
   },
   {
    "duration": 5,
    "start_time": "2022-06-29T19:17:01.744Z"
   },
   {
    "duration": 91,
    "start_time": "2022-06-29T19:17:02.742Z"
   },
   {
    "duration": 18,
    "start_time": "2022-06-29T19:17:09.311Z"
   },
   {
    "duration": 16,
    "start_time": "2022-06-29T19:17:16.430Z"
   },
   {
    "duration": 3,
    "start_time": "2022-06-29T19:23:13.501Z"
   },
   {
    "duration": 4,
    "start_time": "2022-06-29T19:25:49.686Z"
   },
   {
    "duration": 15,
    "start_time": "2022-06-29T19:25:50.592Z"
   },
   {
    "duration": 3,
    "start_time": "2022-06-29T19:26:25.644Z"
   },
   {
    "duration": 13,
    "start_time": "2022-06-29T19:26:26.104Z"
   },
   {
    "duration": 4,
    "start_time": "2022-06-29T19:26:32.218Z"
   },
   {
    "duration": 4,
    "start_time": "2022-06-29T19:26:36.488Z"
   },
   {
    "duration": 8,
    "start_time": "2022-06-29T19:26:36.494Z"
   },
   {
    "duration": 5,
    "start_time": "2022-06-29T19:26:36.968Z"
   },
   {
    "duration": 4,
    "start_time": "2022-06-29T19:26:37.439Z"
   },
   {
    "duration": 10,
    "start_time": "2022-06-29T19:39:52.099Z"
   },
   {
    "duration": 9,
    "start_time": "2022-06-29T19:39:56.441Z"
   },
   {
    "duration": 22,
    "start_time": "2022-06-29T19:40:42.003Z"
   },
   {
    "duration": 41,
    "start_time": "2022-06-29T19:41:13.034Z"
   },
   {
    "duration": 46,
    "start_time": "2022-06-29T19:42:08.267Z"
   },
   {
    "duration": 3,
    "start_time": "2022-06-29T19:51:46.862Z"
   },
   {
    "duration": 10,
    "start_time": "2022-06-29T19:51:53.702Z"
   },
   {
    "duration": 4,
    "start_time": "2022-06-29T19:52:18.158Z"
   },
   {
    "duration": 4,
    "start_time": "2022-06-29T19:52:23.092Z"
   },
   {
    "duration": 3,
    "start_time": "2022-06-29T19:52:26.667Z"
   },
   {
    "duration": 4,
    "start_time": "2022-06-29T19:52:47.789Z"
   },
   {
    "duration": 5,
    "start_time": "2022-06-29T19:52:53.988Z"
   },
   {
    "duration": 6,
    "start_time": "2022-06-29T19:56:11.698Z"
   },
   {
    "duration": 3,
    "start_time": "2022-06-29T20:01:51.446Z"
   },
   {
    "duration": 5,
    "start_time": "2022-06-29T20:02:07.598Z"
   },
   {
    "duration": 5,
    "start_time": "2022-06-29T20:02:08.227Z"
   },
   {
    "duration": 5,
    "start_time": "2022-06-29T20:02:09.665Z"
   },
   {
    "duration": 4,
    "start_time": "2022-06-29T20:02:10.499Z"
   },
   {
    "duration": 6,
    "start_time": "2022-06-29T20:31:01.447Z"
   },
   {
    "duration": 9,
    "start_time": "2022-06-29T20:31:01.892Z"
   },
   {
    "duration": 7,
    "start_time": "2022-06-29T20:34:04.276Z"
   },
   {
    "duration": 1555,
    "start_time": "2022-06-29T20:34:04.664Z"
   },
   {
    "duration": 18,
    "start_time": "2022-06-29T20:35:18.020Z"
   },
   {
    "duration": 5,
    "start_time": "2022-06-29T20:35:26.530Z"
   },
   {
    "duration": 7,
    "start_time": "2022-06-29T20:35:26.925Z"
   },
   {
    "duration": 5,
    "start_time": "2022-06-29T20:35:52.244Z"
   },
   {
    "duration": 6,
    "start_time": "2022-06-29T20:35:52.722Z"
   },
   {
    "duration": 5,
    "start_time": "2022-06-29T20:36:06.591Z"
   },
   {
    "duration": 6,
    "start_time": "2022-06-29T20:36:06.969Z"
   },
   {
    "duration": 6,
    "start_time": "2022-06-29T20:36:10.236Z"
   },
   {
    "duration": 6,
    "start_time": "2022-06-29T20:36:11.066Z"
   },
   {
    "duration": 5,
    "start_time": "2022-06-29T20:36:17.210Z"
   },
   {
    "duration": 7,
    "start_time": "2022-06-29T20:36:17.627Z"
   },
   {
    "duration": 5,
    "start_time": "2022-06-29T20:37:25.609Z"
   },
   {
    "duration": 6,
    "start_time": "2022-06-29T20:37:26.089Z"
   },
   {
    "duration": 13,
    "start_time": "2022-06-29T20:37:26.620Z"
   },
   {
    "duration": 6,
    "start_time": "2022-06-29T20:41:40.929Z"
   },
   {
    "duration": 1506,
    "start_time": "2022-06-29T20:41:41.328Z"
   },
   {
    "duration": 1481,
    "start_time": "2022-06-29T20:42:11.407Z"
   },
   {
    "duration": 1454,
    "start_time": "2022-06-29T20:42:12.890Z"
   },
   {
    "duration": 1431,
    "start_time": "2022-06-29T21:01:06.096Z"
   },
   {
    "duration": 199,
    "start_time": "2022-06-29T21:01:07.529Z"
   },
   {
    "duration": 176,
    "start_time": "2022-06-29T21:01:07.729Z"
   },
   {
    "duration": 183,
    "start_time": "2022-06-29T21:01:07.907Z"
   },
   {
    "duration": 13,
    "start_time": "2022-06-29T21:01:08.091Z"
   },
   {
    "duration": 6,
    "start_time": "2022-06-29T21:01:08.105Z"
   },
   {
    "duration": 13,
    "start_time": "2022-06-29T21:01:08.126Z"
   },
   {
    "duration": 15,
    "start_time": "2022-06-29T21:01:08.141Z"
   },
   {
    "duration": 8,
    "start_time": "2022-06-29T21:01:08.157Z"
   },
   {
    "duration": 59,
    "start_time": "2022-06-29T21:01:08.168Z"
   },
   {
    "duration": 4,
    "start_time": "2022-06-29T21:01:08.228Z"
   },
   {
    "duration": 431,
    "start_time": "2022-06-29T21:01:08.233Z"
   },
   {
    "duration": 224,
    "start_time": "2022-06-29T21:01:08.666Z"
   },
   {
    "duration": 540,
    "start_time": "2022-06-29T21:01:08.893Z"
   },
   {
    "duration": 5,
    "start_time": "2022-06-29T21:01:09.435Z"
   },
   {
    "duration": 40,
    "start_time": "2022-06-29T21:01:09.442Z"
   },
   {
    "duration": 4,
    "start_time": "2022-06-29T21:01:09.484Z"
   },
   {
    "duration": 46,
    "start_time": "2022-06-29T21:01:09.490Z"
   },
   {
    "duration": 196,
    "start_time": "2022-06-29T21:01:09.537Z"
   },
   {
    "duration": 198,
    "start_time": "2022-06-29T21:01:09.735Z"
   },
   {
    "duration": 110,
    "start_time": "2022-06-29T21:01:09.935Z"
   },
   {
    "duration": 6,
    "start_time": "2022-06-29T21:01:10.127Z"
   },
   {
    "duration": 6,
    "start_time": "2022-06-29T21:01:10.135Z"
   },
   {
    "duration": 7,
    "start_time": "2022-06-29T21:01:10.143Z"
   },
   {
    "duration": 4,
    "start_time": "2022-06-29T21:01:10.152Z"
   },
   {
    "duration": 11,
    "start_time": "2022-06-29T21:01:10.158Z"
   },
   {
    "duration": 133,
    "start_time": "2022-06-29T21:01:10.171Z"
   },
   {
    "duration": 0,
    "start_time": "2022-06-29T21:01:10.306Z"
   },
   {
    "duration": 0,
    "start_time": "2022-06-29T21:01:10.308Z"
   },
   {
    "duration": 0,
    "start_time": "2022-06-29T21:01:10.310Z"
   },
   {
    "duration": 0,
    "start_time": "2022-06-29T21:01:10.311Z"
   },
   {
    "duration": 1289,
    "start_time": "2022-06-29T21:06:45.592Z"
   },
   {
    "duration": 187,
    "start_time": "2022-06-29T21:06:46.883Z"
   },
   {
    "duration": 188,
    "start_time": "2022-06-29T21:06:47.071Z"
   },
   {
    "duration": 173,
    "start_time": "2022-06-29T21:06:47.261Z"
   },
   {
    "duration": 15,
    "start_time": "2022-06-29T21:06:47.435Z"
   },
   {
    "duration": 9,
    "start_time": "2022-06-29T21:06:47.452Z"
   },
   {
    "duration": 12,
    "start_time": "2022-06-29T21:06:47.462Z"
   },
   {
    "duration": 11,
    "start_time": "2022-06-29T21:06:47.476Z"
   },
   {
    "duration": 6,
    "start_time": "2022-06-29T21:06:47.488Z"
   },
   {
    "duration": 52,
    "start_time": "2022-06-29T21:06:47.497Z"
   },
   {
    "duration": 4,
    "start_time": "2022-06-29T21:06:47.551Z"
   },
   {
    "duration": 430,
    "start_time": "2022-06-29T21:06:47.557Z"
   },
   {
    "duration": 214,
    "start_time": "2022-06-29T21:06:47.989Z"
   },
   {
    "duration": 476,
    "start_time": "2022-06-29T21:06:48.205Z"
   },
   {
    "duration": 4,
    "start_time": "2022-06-29T21:06:48.682Z"
   },
   {
    "duration": 46,
    "start_time": "2022-06-29T21:06:48.687Z"
   },
   {
    "duration": 6,
    "start_time": "2022-06-29T21:06:48.734Z"
   },
   {
    "duration": 85,
    "start_time": "2022-06-29T21:06:48.741Z"
   },
   {
    "duration": 111,
    "start_time": "2022-06-29T21:06:48.829Z"
   },
   {
    "duration": 119,
    "start_time": "2022-06-29T21:06:49.028Z"
   },
   {
    "duration": 95,
    "start_time": "2022-06-29T21:06:49.231Z"
   },
   {
    "duration": 14,
    "start_time": "2022-06-29T21:06:49.328Z"
   },
   {
    "duration": 4,
    "start_time": "2022-06-29T21:06:49.344Z"
   },
   {
    "duration": 17,
    "start_time": "2022-06-29T21:06:49.349Z"
   },
   {
    "duration": 7,
    "start_time": "2022-06-29T21:06:49.368Z"
   },
   {
    "duration": 6,
    "start_time": "2022-06-29T21:06:49.377Z"
   },
   {
    "duration": 8,
    "start_time": "2022-06-29T21:06:49.385Z"
   },
   {
    "duration": 1610,
    "start_time": "2022-06-29T21:06:49.396Z"
   },
   {
    "duration": 1507,
    "start_time": "2022-06-29T21:06:51.008Z"
   },
   {
    "duration": 1471,
    "start_time": "2022-06-29T21:06:52.517Z"
   },
   {
    "duration": 1416,
    "start_time": "2024-04-05T18:47:21.408Z"
   }
  ],
  "kernelspec": {
   "display_name": "Python 3 (ipykernel)",
   "language": "python",
   "name": "python3"
  },
  "language_info": {
   "codemirror_mode": {
    "name": "ipython",
    "version": 3
   },
   "file_extension": ".py",
   "mimetype": "text/x-python",
   "name": "python",
   "nbconvert_exporter": "python",
   "pygments_lexer": "ipython3",
   "version": "3.9.5"
  },
  "toc": {
   "base_numbering": 1,
   "nav_menu": {},
   "number_sections": true,
   "sideBar": true,
   "skip_h1_title": true,
   "title_cell": "Table of Contents",
   "title_sidebar": "Contents",
   "toc_cell": true,
   "toc_position": {},
   "toc_section_display": true,
   "toc_window_display": true
  }
 },
 "nbformat": 4,
 "nbformat_minor": 2
}
