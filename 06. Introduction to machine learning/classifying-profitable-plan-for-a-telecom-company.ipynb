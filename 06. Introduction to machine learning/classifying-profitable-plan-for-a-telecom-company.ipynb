{
 "cells": [
  {
   "cell_type": "markdown",
   "metadata": {},
   "source": [
    "# Рекомендация тарифов"
   ]
  },
  {
   "cell_type": "markdown",
   "metadata": {},
   "source": [
    "В вашем распоряжении данные о поведении клиентов, которые уже перешли на эти тарифы (из проекта курса «Статистический анализ данных»). Нужно построить модель для задачи классификации, которая выберет подходящий тариф. Предобработка данных не понадобится — вы её уже сделали.\n",
    "\n",
    "Постройте модель с максимально большим значением *accuracy*. Чтобы сдать проект успешно, нужно довести долю правильных ответов по крайней мере до 0.75. Проверьте *accuracy* на тестовой выборке самостоятельно."
   ]
  },
  {
   "cell_type": "markdown",
   "metadata": {},
   "source": [
    "## Откройте и изучите файл"
   ]
  },
  {
   "cell_type": "code",
   "execution_count": 1,
   "metadata": {},
   "outputs": [],
   "source": [
    "import pandas as pd\n",
    "import numpy as np\n",
    "from sklearn.model_selection import train_test_split\n",
    "\n",
    "import warnings\n",
    "warnings.filterwarnings('ignore')\n",
    "\n",
    "from sklearn.tree import DecisionTreeClassifier #решающее дерево\n",
    "from sklearn.ensemble import RandomForestClassifier #случайный лес\n",
    "from sklearn.linear_model import LogisticRegression #логистическая регрессия\n",
    "\n",
    "from sklearn.metrics import accuracy_score \n",
    "from sklearn.metrics import precision_score\n",
    "from sklearn.metrics import recall_score\n",
    "from sklearn.metrics import f1_score\n",
    "\n",
    "from sklearn.utils import shuffle"
   ]
  },
  {
   "cell_type": "code",
   "execution_count": 2,
   "metadata": {
    "scrolled": false
   },
   "outputs": [
    {
     "data": {
      "text/plain": [
       "(3214, 5)"
      ]
     },
     "metadata": {},
     "output_type": "display_data"
    },
    {
     "name": "stdout",
     "output_type": "stream",
     "text": [
      "<class 'pandas.core.frame.DataFrame'>\n",
      "RangeIndex: 3214 entries, 0 to 3213\n",
      "Data columns (total 5 columns):\n",
      " #   Column    Non-Null Count  Dtype  \n",
      "---  ------    --------------  -----  \n",
      " 0   calls     3214 non-null   float64\n",
      " 1   minutes   3214 non-null   float64\n",
      " 2   messages  3214 non-null   float64\n",
      " 3   mb_used   3214 non-null   float64\n",
      " 4   is_ultra  3214 non-null   int64  \n",
      "dtypes: float64(4), int64(1)\n",
      "memory usage: 125.7 KB\n"
     ]
    },
    {
     "data": {
      "text/plain": [
       "None"
      ]
     },
     "metadata": {},
     "output_type": "display_data"
    },
    {
     "data": {
      "text/html": [
       "<div>\n",
       "<style scoped>\n",
       "    .dataframe tbody tr th:only-of-type {\n",
       "        vertical-align: middle;\n",
       "    }\n",
       "\n",
       "    .dataframe tbody tr th {\n",
       "        vertical-align: top;\n",
       "    }\n",
       "\n",
       "    .dataframe thead th {\n",
       "        text-align: right;\n",
       "    }\n",
       "</style>\n",
       "<table border=\"1\" class=\"dataframe\">\n",
       "  <thead>\n",
       "    <tr style=\"text-align: right;\">\n",
       "      <th></th>\n",
       "      <th>calls</th>\n",
       "      <th>minutes</th>\n",
       "      <th>messages</th>\n",
       "      <th>mb_used</th>\n",
       "      <th>is_ultra</th>\n",
       "    </tr>\n",
       "  </thead>\n",
       "  <tbody>\n",
       "    <tr>\n",
       "      <th>0</th>\n",
       "      <td>40.0</td>\n",
       "      <td>311.90</td>\n",
       "      <td>83.0</td>\n",
       "      <td>19915.42</td>\n",
       "      <td>0</td>\n",
       "    </tr>\n",
       "    <tr>\n",
       "      <th>1</th>\n",
       "      <td>85.0</td>\n",
       "      <td>516.75</td>\n",
       "      <td>56.0</td>\n",
       "      <td>22696.96</td>\n",
       "      <td>0</td>\n",
       "    </tr>\n",
       "    <tr>\n",
       "      <th>2</th>\n",
       "      <td>77.0</td>\n",
       "      <td>467.66</td>\n",
       "      <td>86.0</td>\n",
       "      <td>21060.45</td>\n",
       "      <td>0</td>\n",
       "    </tr>\n",
       "    <tr>\n",
       "      <th>3</th>\n",
       "      <td>106.0</td>\n",
       "      <td>745.53</td>\n",
       "      <td>81.0</td>\n",
       "      <td>8437.39</td>\n",
       "      <td>1</td>\n",
       "    </tr>\n",
       "    <tr>\n",
       "      <th>4</th>\n",
       "      <td>66.0</td>\n",
       "      <td>418.74</td>\n",
       "      <td>1.0</td>\n",
       "      <td>14502.75</td>\n",
       "      <td>0</td>\n",
       "    </tr>\n",
       "    <tr>\n",
       "      <th>5</th>\n",
       "      <td>58.0</td>\n",
       "      <td>344.56</td>\n",
       "      <td>21.0</td>\n",
       "      <td>15823.37</td>\n",
       "      <td>0</td>\n",
       "    </tr>\n",
       "    <tr>\n",
       "      <th>6</th>\n",
       "      <td>57.0</td>\n",
       "      <td>431.64</td>\n",
       "      <td>20.0</td>\n",
       "      <td>3738.90</td>\n",
       "      <td>1</td>\n",
       "    </tr>\n",
       "    <tr>\n",
       "      <th>7</th>\n",
       "      <td>15.0</td>\n",
       "      <td>132.40</td>\n",
       "      <td>6.0</td>\n",
       "      <td>21911.60</td>\n",
       "      <td>0</td>\n",
       "    </tr>\n",
       "    <tr>\n",
       "      <th>8</th>\n",
       "      <td>7.0</td>\n",
       "      <td>43.39</td>\n",
       "      <td>3.0</td>\n",
       "      <td>2538.67</td>\n",
       "      <td>1</td>\n",
       "    </tr>\n",
       "    <tr>\n",
       "      <th>9</th>\n",
       "      <td>90.0</td>\n",
       "      <td>665.41</td>\n",
       "      <td>38.0</td>\n",
       "      <td>17358.61</td>\n",
       "      <td>0</td>\n",
       "    </tr>\n",
       "  </tbody>\n",
       "</table>\n",
       "</div>"
      ],
      "text/plain": [
       "   calls  minutes  messages   mb_used  is_ultra\n",
       "0   40.0   311.90      83.0  19915.42         0\n",
       "1   85.0   516.75      56.0  22696.96         0\n",
       "2   77.0   467.66      86.0  21060.45         0\n",
       "3  106.0   745.53      81.0   8437.39         1\n",
       "4   66.0   418.74       1.0  14502.75         0\n",
       "5   58.0   344.56      21.0  15823.37         0\n",
       "6   57.0   431.64      20.0   3738.90         1\n",
       "7   15.0   132.40       6.0  21911.60         0\n",
       "8    7.0    43.39       3.0   2538.67         1\n",
       "9   90.0   665.41      38.0  17358.61         0"
      ]
     },
     "metadata": {},
     "output_type": "display_data"
    }
   ],
   "source": [
    "df = pd.read_csv('/datasets/users_behavior.csv')\n",
    "display(df.shape)\n",
    "display(df.info())\n",
    "display(df.head(10))"
   ]
  },
  {
   "cell_type": "markdown",
   "metadata": {},
   "source": [
    "Это задача классификации. \n",
    "\n",
    "Целевым признаком является столбец is_ultra. \n",
    "\n",
    "Остальные признаки помогут предсказывать решение по столбцу is_ultra.\n",
    "\n",
    "Данных я думаю среднее количество, посмотрим как себя покажет модель на тестовых данных."
   ]
  },
  {
   "cell_type": "code",
   "execution_count": 3,
   "metadata": {
    "scrolled": false
   },
   "outputs": [
    {
     "data": {
      "text/plain": [
       "<AxesSubplot:>"
      ]
     },
     "execution_count": 3,
     "metadata": {},
     "output_type": "execute_result"
    },
    {
     "data": {
      "image/png": "[encoded data removed]",
      "text/plain": [
       "<Figure size 432x288 with 1 Axes>"
      ]
     },
     "metadata": {
      "needs_background": "light"
     },
     "output_type": "display_data"
    }
   ],
   "source": [
    "class_frequency = df['is_ultra'].value_counts(normalize = True)\n",
    "class_frequency.plot(kind = 'bar')"
   ]
  },
  {
   "cell_type": "markdown",
   "metadata": {},
   "source": [
    "<div class=\"alert alert-info\">\n",
    "    \n",
    "Проверила датасет на сбалансированность таргетов. Отрицательного класса значительно больше, чем положительного.\n",
    "    \n",
    "В train_test_split изменила stratify при сплитировании (он позволит сохранить изначальное распределение таргетов во всех новых датасетах.)\n",
    "</div>"
   ]
  },
  {
   "cell_type": "markdown",
   "metadata": {},
   "source": [
    "## Разобьем данные на выборки"
   ]
  },
  {
   "cell_type": "markdown",
   "metadata": {},
   "source": [
    "Сначалa поделим на features и target"
   ]
  },
  {
   "cell_type": "code",
   "execution_count": 4,
   "metadata": {},
   "outputs": [],
   "source": [
    "features = df.drop(['is_ultra'], axis = 1)\n",
    "target = df['is_ultra']"
   ]
  },
  {
   "cell_type": "markdown",
   "metadata": {},
   "source": [
    "<b>Разделим исходные данные на обучающую, валидационную и тестовую выборки."
   ]
  },
  {
   "cell_type": "markdown",
   "metadata": {},
   "source": [
    "Сначала разделим на обучающую выборку и и остальное в соотношении 60% на 40%, \n",
    "\n",
    "затем остальное поделим на тестовую и валидационную в соотношении 50% на 50%, так как нужно получить по 20%\n"
   ]
  },
  {
   "cell_type": "code",
   "execution_count": 5,
   "metadata": {},
   "outputs": [
    {
     "name": "stdout",
     "output_type": "stream",
     "text": [
      "Размер обучающей выборки 1928\n",
      "Размер валидационной выборки 643\n",
      "Размер тестовой выборки 643\n"
     ]
    }
   ],
   "source": [
    "features_train, features_other, target_train, target_other = train_test_split(features, target, train_size=0.6, random_state = 12345, stratify =target)\n",
    "features_valid, features_test, target_valid, target_test = train_test_split(features_other, target_other, test_size=0.5, random_state = 12345, stratify =target_other)\n",
    "#последнюю делим пополам по 20% от исходных данных\n",
    "#обучающая - 60% от исходной\n",
    "print('Размер обучающей выборки', features_train.shape[0])\n",
    "print('Размер валидационной выборки', features_valid.shape[0])\n",
    "print('Размер тестовой выборки', features_test.shape[0])"
   ]
  },
  {
   "cell_type": "markdown",
   "metadata": {},
   "source": [
    "## Исследуем модели"
   ]
  },
  {
   "cell_type": "markdown",
   "metadata": {},
   "source": [
    "### Решающее дерево"
   ]
  },
  {
   "cell_type": "markdown",
   "metadata": {},
   "source": [
    "Сначала посмотрим какая глубина дерева лучше."
   ]
  },
  {
   "cell_type": "code",
   "execution_count": 6,
   "metadata": {},
   "outputs": [
    {
     "name": "stdout",
     "output_type": "stream",
     "text": [
      "accuracy_score = 0.80248833592535 depth = 8\n"
     ]
    }
   ],
   "source": [
    "best_model1 = None\n",
    "best_result = 0\n",
    "best_depth = 0\n",
    "for depth in range(1,11):\n",
    "    model = DecisionTreeClassifier(random_state = 12345, max_depth = depth, criterion = 'gini')\n",
    "    model.fit(features_train, target_train)\n",
    "    predictions_valid = model.predict(features_valid)\n",
    "    result = accuracy_score(target_valid, predictions_valid)\n",
    "    if result>best_result:\n",
    "        best_model1 = model\n",
    "        best_result = result\n",
    "        best_depth = depth\n",
    "        \n",
    "print('accuracy_score =', best_result, 'depth =', best_depth)"
   ]
  },
  {
   "cell_type": "markdown",
   "metadata": {},
   "source": [
    "Теперь посмотрим какой критерий лучше."
   ]
  },
  {
   "cell_type": "code",
   "execution_count": 7,
   "metadata": {
    "scrolled": false
   },
   "outputs": [
    {
     "name": "stdout",
     "output_type": "stream",
     "text": [
      "accuracy_score = 0.80248833592535 depth = 8 criterion = gini\n"
     ]
    }
   ],
   "source": [
    "best_model1 = None\n",
    "best_result = 0\n",
    "best_depth = 0\n",
    "best_criterion = ''\n",
    "for crit in ('entropy','gini'):\n",
    "    for depth in range(1,11):\n",
    "        model = DecisionTreeClassifier(random_state = 12345, max_depth = depth, criterion = crit)\n",
    "        model.fit(features_train, target_train)\n",
    "        predictions_valid = model.predict(features_valid)\n",
    "        result = accuracy_score(target_valid, predictions_valid)\n",
    "        if result>best_result:\n",
    "            best_model1 = model\n",
    "            best_result = result\n",
    "            best_depth = depth\n",
    "            best_criterion = crit\n",
    "        \n",
    "print('accuracy_score =',best_result, 'depth =', best_depth, 'criterion =',best_criterion )"
   ]
  },
  {
   "cell_type": "markdown",
   "metadata": {},
   "source": [
    "Получается, что в данном случае параметр criterion никак не влияет на точность."
   ]
  },
  {
   "cell_type": "markdown",
   "metadata": {},
   "source": [
    "Изменим splitter с best на random."
   ]
  },
  {
   "cell_type": "code",
   "execution_count": 8,
   "metadata": {},
   "outputs": [
    {
     "name": "stdout",
     "output_type": "stream",
     "text": [
      "depth= 8 accuracy_score= 0.7713841368584758\n"
     ]
    }
   ],
   "source": [
    "model = DecisionTreeClassifier(random_state=12345, max_depth=8, splitter = 'random')\n",
    "model.fit(features_train, target_train)\n",
    "predictions_valid = model.predict(features_valid)\n",
    "result = accuracy_score(target_valid, predictions_valid)\n",
    "print('depth=', 8,'accuracy_score=',result)"
   ]
  },
  {
   "cell_type": "markdown",
   "metadata": {},
   "source": [
    "Splitter best точнее, чем random."
   ]
  },
  {
   "cell_type": "markdown",
   "metadata": {},
   "source": [
    "<b>Теперь найдем лучший вариант из всех:\n"
   ]
  },
  {
   "cell_type": "code",
   "execution_count": 9,
   "metadata": {},
   "outputs": [
    {
     "name": "stdout",
     "output_type": "stream",
     "text": [
      "accuracy_score = 0.80248833592535\n",
      "depth = 8\n",
      "splitter = best\n",
      "max_features = None\n"
     ]
    }
   ],
   "source": [
    "best_model1 = None\n",
    "best_result = 0\n",
    "best_depth = 0\n",
    "best_features = 0\n",
    "best_splitter = 0\n",
    "for spl in ('best','random'):\n",
    "    for feats in ('sqrt', 'log2', None):\n",
    "        for depth in range(1,11):\n",
    "            model = DecisionTreeClassifier(random_state = 12345, max_depth = depth,  \\\n",
    "                                           splitter = spl, max_features = feats)\n",
    "            model.fit(features_train, target_train)\n",
    "            predictions_valid = model.predict(features_valid)\n",
    "            result = accuracy_score(target_valid, predictions_valid)\n",
    "            if result>best_result:\n",
    "                best_model1 = model\n",
    "                best_result = result\n",
    "                best_depth = depth\n",
    "                best_splitter = spl\n",
    "                best_features = feats\n",
    "        \n",
    "print('accuracy_score =',best_result)\n",
    "print( 'depth =', best_depth)\n",
    "print('splitter =',best_splitter)\n",
    "print('max_features =', best_features)"
   ]
  },
  {
   "cell_type": "markdown",
   "metadata": {},
   "source": [
    "Точность повысилась, и глубина дерева выросла до 8. "
   ]
  },
  {
   "cell_type": "markdown",
   "metadata": {},
   "source": [
    "### Исследуем с помощью GridSearch"
   ]
  },
  {
   "cell_type": "markdown",
   "metadata": {},
   "source": [
    "<div class=\"alert alert-warning\">\n",
    "\n",
    "\n",
    "В случае использования GridSearch, не нужно будет заранее делать валидационную выборку, лучшую метрику автоматом сохранят в best_score_, а лучшую модель (переобученная уже на полном наборе данных) будет хранить в best_estimator_. \n",
    " \n",
    "</div>\n"
   ]
  },
  {
   "cell_type": "code",
   "execution_count": 10,
   "metadata": {},
   "outputs": [],
   "source": [
    "from sklearn.model_selection import GridSearchCV\n",
    "\n",
    "classifier = DecisionTreeClassifier(random_state = 12345)\n",
    "parameters_grid = {\n",
    "        'splitter' : ['best','random'],\n",
    "        'max_features' : ['sqrt', 'log2', None],\n",
    "        'max_depth' : range(1,11)\n",
    "   }\n",
    "f_train, f_test, t_train, t_test = train_test_split(features, target, train_size=0.6, random_state = 12345, stratify =target)"
   ]
  },
  {
   "cell_type": "code",
   "execution_count": 11,
   "metadata": {},
   "outputs": [
    {
     "data": {
      "text/plain": [
       "GridSearchCV(cv=5, estimator=DecisionTreeClassifier(random_state=12345),\n",
       "             param_grid={'max_depth': range(1, 11),\n",
       "                         'max_features': ['sqrt', 'log2', None],\n",
       "                         'splitter': ['best', 'random']})"
      ]
     },
     "execution_count": 11,
     "metadata": {},
     "output_type": "execute_result"
    }
   ],
   "source": [
    "grid = GridSearchCV(classifier, parameters_grid, cv=5)\n",
    "#grid.fit(f_train, t_train)\n",
    "grid.fit(features_train, target_train)"
   ]
  },
  {
   "cell_type": "code",
   "execution_count": 12,
   "metadata": {},
   "outputs": [
    {
     "data": {
      "text/plain": [
       "{'max_depth': 6, 'max_features': None, 'splitter': 'best'}"
      ]
     },
     "execution_count": 12,
     "metadata": {},
     "output_type": "execute_result"
    }
   ],
   "source": [
    "grid.best_params_"
   ]
  },
  {
   "cell_type": "code",
   "execution_count": 13,
   "metadata": {},
   "outputs": [
    {
     "data": {
      "text/plain": [
       "0.8283195020746889"
      ]
     },
     "execution_count": 13,
     "metadata": {},
     "output_type": "execute_result"
    }
   ],
   "source": [
    "grid.score(f_train, t_train)"
   ]
  },
  {
   "cell_type": "markdown",
   "metadata": {},
   "source": [
    "### Случайный лес"
   ]
  },
  {
   "cell_type": "markdown",
   "metadata": {},
   "source": [
    "Сначала посмотрим сколько понадобится деревьев для лучшей точности."
   ]
  },
  {
   "cell_type": "code",
   "execution_count": 14,
   "metadata": {
    "scrolled": true
   },
   "outputs": [
    {
     "name": "stdout",
     "output_type": "stream",
     "text": [
      "accuracy_score = 0.8056 n_estimators =  48\n"
     ]
    }
   ],
   "source": [
    "best_model2 = None\n",
    "best_result = 0\n",
    "\n",
    "best_est = 0\n",
    "for est in range(10,51,1):\n",
    "    model = RandomForestClassifier(random_state = 12345,n_estimators = est)\n",
    "    model.fit(features_train, target_train)\n",
    "    predictions_valid = model.predict(features_valid)\n",
    "    result = accuracy_score(target_valid, predictions_valid)\n",
    "    if result>best_result:\n",
    "        best_model2 = model\n",
    "        best_result = result\n",
    "        best_est = est\n",
    "    \n",
    "        \n",
    "print('accuracy_score =',round(best_result, 5), 'n_estimators = ', best_est)"
   ]
  },
  {
   "cell_type": "markdown",
   "metadata": {},
   "source": [
    "Теперь добавим переменную глубины."
   ]
  },
  {
   "cell_type": "code",
   "execution_count": 15,
   "metadata": {
    "scrolled": false
   },
   "outputs": [
    {
     "name": "stdout",
     "output_type": "stream",
     "text": [
      "accuracy_score = 0.8227060653188181 n_estimators =  39 depth = 9\n",
      "CPU times: user 39.8 s, sys: 205 ms, total: 40 s\n",
      "Wall time: 40.5 s\n"
     ]
    }
   ],
   "source": [
    "%%time\n",
    "\n",
    "best_model2 = None\n",
    "best_result = 0\n",
    "best_depth = 0\n",
    "best_est = 0\n",
    "for est in range(10,51,1):\n",
    "    for depth in range(1,11):\n",
    "        model = RandomForestClassifier(random_state = 12345,n_estimators = est, max_depth = depth)\n",
    "        model.fit(features_train, target_train)\n",
    "        predictions_valid = model.predict(features_valid)\n",
    "        result = accuracy_score(target_valid, predictions_valid)\n",
    "        #result = model.score(predictions_valid, target_valid)\n",
    "        if result>best_result:\n",
    "            best_model2 = model\n",
    "            best_result = result\n",
    "            best_est = est\n",
    "            best_depth = depth\n",
    "        \n",
    "print('accuracy_score =', best_result, 'n_estimators = ', best_est, 'depth =', best_depth)"
   ]
  },
  {
   "cell_type": "markdown",
   "metadata": {},
   "source": [
    "Точность увеличилась, деревьев теперь нужно больше - 40, глубиной 8.\n",
    "\n",
    "Но! данный перебор считается достаточно долго, что не есть хорошо.\n",
    "\n",
    "Поменяем criterion на entropy"
   ]
  },
  {
   "cell_type": "code",
   "execution_count": 16,
   "metadata": {},
   "outputs": [
    {
     "name": "stdout",
     "output_type": "stream",
     "text": [
      "accuracy_score = 0.8164852255054432 n_estimators =  40 depth = 8\n"
     ]
    }
   ],
   "source": [
    "model = RandomForestClassifier(random_state=12345, max_depth = 8,n_estimators = 40, criterion=\"entropy\")\n",
    "model.fit(features_train, target_train)\n",
    "predictions_valid = model.predict(features_valid)\n",
    "result = accuracy_score(target_valid, predictions_valid)\n",
    "print('accuracy_score =', result, 'n_estimators = ', 40, 'depth =', 8)"
   ]
  },
  {
   "cell_type": "markdown",
   "metadata": {},
   "source": [
    "Точность у entropy хуже."
   ]
  },
  {
   "cell_type": "markdown",
   "metadata": {},
   "source": [
    "посмотрим влияние max_features (число признаков для выбора расщепления)"
   ]
  },
  {
   "cell_type": "code",
   "execution_count": 17,
   "metadata": {},
   "outputs": [
    {
     "name": "stdout",
     "output_type": "stream",
     "text": [
      "accuracy =  0.8118195956454122 max_features = sqrt\n",
      "accuracy =  0.8118195956454122 max_features = log2\n",
      "accuracy =  0.8087091757387247 max_features = None\n",
      "accuracy_score = 0.8118195956454122 max_features =  sqrt\n",
      "CPU times: user 381 ms, sys: 3.86 ms, total: 385 ms\n",
      "Wall time: 405 ms\n"
     ]
    }
   ],
   "source": [
    "%%time\n",
    "\n",
    "best_model2 = None\n",
    "best_result = 0\n",
    "best_features = 0\n",
    "\n",
    "for feats in ('sqrt', 'log2', None):\n",
    "    model = RandomForestClassifier(random_state = 12345,n_estimators = 27, max_depth=10, max_features = feats )\n",
    "    model.fit(features_train, target_train)\n",
    "    predictions_valid = model.predict(features_valid)\n",
    "    result = accuracy_score(target_valid, predictions_valid)\n",
    "    #result = model.score(predictions_valid, target_valid)\n",
    "    print('accuracy = ', result, 'max_features =', feats)\n",
    "    if result>best_result:\n",
    "        best_model2 = model\n",
    "        best_result = result\n",
    "        best_features = feats\n",
    "    \n",
    "        \n",
    "print('accuracy_score =', best_result, 'max_features = ', best_features)"
   ]
  },
  {
   "cell_type": "markdown",
   "metadata": {},
   "source": [
    "Значит параметр mаx_features влияет на точность только при None."
   ]
  },
  {
   "cell_type": "markdown",
   "metadata": {},
   "source": [
    "<b>Теперь найдем лучший вариант из всех:\n"
   ]
  },
  {
   "cell_type": "code",
   "execution_count": 18,
   "metadata": {},
   "outputs": [
    {
     "name": "stdout",
     "output_type": "stream",
     "text": [
      "accuracy_score = 0.8211508553654744\n",
      "depth = 9\n",
      "criterion = gini\n",
      "n_estimators = 40\n",
      "bootstrap = True\n",
      "CPU times: user 34.6 s, sys: 145 ms, total: 34.8 s\n",
      "Wall time: 34.9 s\n"
     ]
    }
   ],
   "source": [
    "%%time\n",
    "\n",
    "model_RFC = None\n",
    "best_result = 0\n",
    "best_depth = 0\n",
    "best_criterion = 0\n",
    "best_n_estimators = 0\n",
    "best_bootstrap = 0\n",
    "for crit in ('entropy','gini'):\n",
    "    for est in range(10,51,5):\n",
    "        for bst in (True, False):\n",
    "            for depth in range(1,11):\n",
    "                model = RandomForestClassifier(random_state = 12345, max_depth = depth, criterion = crit, \\\n",
    "                                               n_estimators = est, bootstrap = bst)\n",
    "                model.fit(features_train, target_train)\n",
    "                predictions_valid = model.predict(features_valid)\n",
    "                result = accuracy_score(target_valid, predictions_valid)\n",
    "                if result>best_result:\n",
    "                    model_RFC = model\n",
    "                    best_result = result\n",
    "                    best_depth = depth\n",
    "                    best_criterion = crit\n",
    "                    best_n_estimators = est\n",
    "                    best_bootstrap = bst\n",
    "        \n",
    "print('accuracy_score =',best_result)\n",
    "print( 'depth =', best_depth)\n",
    "print('criterion =',best_criterion )\n",
    "print('n_estimators =',best_n_estimators)\n",
    "print('bootstrap =', best_bootstrap)"
   ]
  },
  {
   "cell_type": "markdown",
   "metadata": {},
   "source": [
    "### Логистическая регрессия"
   ]
  },
  {
   "cell_type": "markdown",
   "metadata": {},
   "source": [
    "Сначала будем менять выбор solver'а."
   ]
  },
  {
   "cell_type": "code",
   "execution_count": 19,
   "metadata": {},
   "outputs": [
    {
     "name": "stdout",
     "output_type": "stream",
     "text": [
      "solver lbfgs accuracy  0.7387247278382582\n",
      "solver sag accuracy  0.6936236391912908\n",
      "solver newton-cg accuracy  0.7387247278382582\n",
      "solver liblinear accuracy  0.71850699844479\n",
      "solver saga accuracy  0.6936236391912908\n",
      "\n",
      "solver = lbfgs accuracy_score = 0.7387247278382582\n"
     ]
    }
   ],
   "source": [
    "best_solver = ''\n",
    "best_result = 0\n",
    "\n",
    "for solv in {'newton-cg', 'lbfgs', 'liblinear', 'sag', 'saga'}:\n",
    "    model = LogisticRegression(random_state = 12345, solver=solv)\n",
    "    model.fit(features_train, target_train)\n",
    "    predictions_valid = model.predict(features_valid)\n",
    "    result = accuracy_score(target_valid, predictions_valid)\n",
    "    print('solver', solv, 'accuracy ', result)\n",
    "    if result>best_result:\n",
    "        best_model3 = model\n",
    "        best_result = result          \n",
    "        best_solver= solv\n",
    "\n",
    "print()\n",
    "print('solver =', best_solver,'accuracy_score =', best_result) "
   ]
  },
  {
   "cell_type": "markdown",
   "metadata": {},
   "source": [
    "Выбрав лучший solver 'newton-cg' поменяем количество итерации."
   ]
  },
  {
   "cell_type": "code",
   "execution_count": 20,
   "metadata": {
    "scrolled": true
   },
   "outputs": [
    {
     "name": "stdout",
     "output_type": "stream",
     "text": [
      "accuracy_score = 0.7387247278382582 max_iter =  50\n"
     ]
    }
   ],
   "source": [
    "best_model3 = None\n",
    "best_result = 0\n",
    "best_iter = 0\n",
    "\n",
    "for iterr in range(10,101,10):\n",
    "    model = LogisticRegression(random_state = 12345,solver = 'newton-cg', max_iter = iterr)\n",
    "    model.fit(features_train, target_train)\n",
    "    predictions_valid = model.predict(features_valid)\n",
    "    result = accuracy_score(target_valid, predictions_valid)\n",
    "    if result>best_result:\n",
    "        best_model3 = model\n",
    "        best_result = result\n",
    "        best_iter = iterr            \n",
    "        \n",
    "        \n",
    "print('accuracy_score =',best_result, 'max_iter = ', best_iter)"
   ]
  },
  {
   "cell_type": "markdown",
   "metadata": {},
   "source": [
    "<b>Решающее дерево : </b>\n",
    "\n",
    "accuracy_score = 0.80248833592535\n",
    "depth = 8\n",
    "splitter = best\n",
    "max_features = None\n",
    "\n",
    "<b>Случайный лес: </b>\n",
    "\n",
    "accuracy_score = 0.8211508553654744\n",
    "depth = 9\n",
    "criterion = gini\n",
    "n_estimators = 40\n",
    "bootstrap = True\n",
    "\n",
    "<b>Логистическая регрессия:</b>\n",
    "\n",
    "accuracy_score = 0.7387247278382582 \n",
    "max_iter =  50 \n",
    "solver = newton-cg"
   ]
  },
  {
   "cell_type": "markdown",
   "metadata": {},
   "source": [
    "# Таким образом, лучше всех себя показала модель случайного леса.\n",
    "\n",
    "Для проверки модели на тестовых данных выбираем ее."
   ]
  },
  {
   "cell_type": "markdown",
   "metadata": {},
   "source": [
    "<div class=\"alert alert-success\">\n",
    "    \n",
    "У логистической регрессии есть и другие гиперпараметры, но логистическая регрессия все равно окажется худшей. \n",
    "    \n",
    "Логистическая регрессия это линейный классификатор: обьекты делим гиперплоскостью (прямой если на плоскости), а в данном датасете видимо более сложные, нелинейные связи между признаками и таргетом. А RF с DT с этим справляются. На других данных  LR могла оказаться лучше, например потому что RF не может экстраполировать. \n",
    "\n",
    "\n",
    "</div>"
   ]
  },
  {
   "cell_type": "markdown",
   "metadata": {},
   "source": [
    "## Проверьте модель на тестовой выборке"
   ]
  },
  {
   "cell_type": "markdown",
   "metadata": {},
   "source": [
    "### Случайный лес"
   ]
  },
  {
   "cell_type": "markdown",
   "metadata": {},
   "source": [
    "<div class=\"alert alert-warning\">\n",
    "\n",
    "\n",
    "Совет как можно улучшить результат, не особо мучаясь с кодом:\n",
    "    \n",
    "Смотри - мы сформировали train выборку на которой обучаем модель, а валидационную используем для поиска лучших значений гиперпараметров. Отлично, нашли их. Так почему бы теперь модель с выбранными гиперпараметрами не обучить на тренировочной + валидационной выборке?! Чем больше данных, тем лучше модель может обучиться. И эту дообученную модель проверим на тесте. Гаранитий что станет лучше нет, но ML это постоянные эксперименты.\n",
    "\n",
    "\n",
    "\n",
    "</div>"
   ]
  },
  {
   "cell_type": "markdown",
   "metadata": {},
   "source": [
    "Сначала создадим новую обучающую выборку, объединив исходные обучающую и валидационную."
   ]
  },
  {
   "cell_type": "code",
   "execution_count": 21,
   "metadata": {
    "scrolled": true
   },
   "outputs": [
    {
     "name": "stdout",
     "output_type": "stream",
     "text": [
      "(2571, 4)\n",
      "(2571,)\n"
     ]
    }
   ],
   "source": [
    "features_new_train = pd.concat([features_train] + [features_valid])\n",
    "target_new_train = pd.concat([target_train] + [target_valid])\n",
    "print(features_new_train.shape)\n",
    "print(target_new_train.shape)\n",
    "features_new_train, target_new_train = shuffle(features_new_train, target_new_train)"
   ]
  },
  {
   "cell_type": "markdown",
   "metadata": {},
   "source": [
    "Теперь переобучим модель на этих данных и получим accuracy на тестовых данных."
   ]
  },
  {
   "cell_type": "code",
   "execution_count": 22,
   "metadata": {},
   "outputs": [
    {
     "name": "stdout",
     "output_type": "stream",
     "text": [
      "Качество: 0.8164852255054432\n"
     ]
    }
   ],
   "source": [
    "model_RFC = RandomForestClassifier(random_state = 12345, max_depth = 9, criterion = 'gini', \\\n",
    "                                              n_estimators = 40, bootstrap = True)\n",
    "model_RFC.fit(features_new_train, target_new_train)\n",
    "predictions_test = model_RFC.predict(features_test)\n",
    "result_RFC = accuracy_score(target_test, predictions_test)\n",
    "print(\"Качество:\", result_RFC)"
   ]
  },
  {
   "cell_type": "markdown",
   "metadata": {},
   "source": [
    "Качество тестовой выбоки получилось даже немного лучше, чем когда обучали на исходной обучающей выборке! победа!"
   ]
  },
  {
   "cell_type": "markdown",
   "metadata": {},
   "source": [
    "<b>ИТОГ:</b>\n",
    "\n",
    "Для решения поставленной задачи можно выбрать модель случайного леса со значением точности почти 0.82.\n",
    "\n",
    "Учитывая разницу между текущей точностью и точностью на валидационной выборке, можно сказать, что модель обучена хорошо. \n",
    "\n",
    "На валидационной выборке acc: 0.8087091757387247 \n",
    "\n",
    "На тестовой выборке acc:      0.7962674961119751"
   ]
  },
  {
   "cell_type": "markdown",
   "metadata": {},
   "source": [
    "## (бонус) Проверьте модели на адекватность"
   ]
  },
  {
   "cell_type": "markdown",
   "metadata": {},
   "source": [
    "Оценить адекватность модели можно используя данные метрики:\n",
    "\n",
    "* accuracy - точность совпадения прогнозов с правильными ответами.\n",
    "* precision - отношение правильно предсказанных классов к сумме правильно предсказанных классов с неправильными предсказаниями.\n",
    "* recall - отношение правильно предсказанных классов к сумме правильно предсказанных классов с неправильными предсказаниями.\n",
    "* F-мера - среднее гармоническое между precision и recall. Если хотя бы один из параметров близок к нулю, то и F-мера стремится к 0. Если оба стремятся к 1, то F-мера тоже стремится к 1."
   ]
  },
  {
   "cell_type": "code",
   "execution_count": 23,
   "metadata": {},
   "outputs": [],
   "source": [
    "def metricss(target_valid, prediction):\n",
    "    print(\"Полнота\" , recall_score(target_valid, prediction))\n",
    "    print(\"Точность\", precision_score(target_valid, prediction))\n",
    "    print(\"F1-мера\", f1_score(target_valid, prediction))"
   ]
  },
  {
   "cell_type": "code",
   "execution_count": 24,
   "metadata": {
    "scrolled": false
   },
   "outputs": [
    {
     "name": "stdout",
     "output_type": "stream",
     "text": [
      "Полнота 0.5329949238578681\n",
      "Точность 0.8015267175572519\n",
      "F1-мера 0.6402439024390244\n"
     ]
    }
   ],
   "source": [
    "metricss(target_test, predictions_test)"
   ]
  },
  {
   "cell_type": "markdown",
   "metadata": {},
   "source": [
    "Посмотрим какое распределение было:"
   ]
  },
  {
   "cell_type": "code",
   "execution_count": 25,
   "metadata": {
    "scrolled": false
   },
   "outputs": [
    {
     "data": {
      "text/plain": [
       "<AxesSubplot:>"
      ]
     },
     "execution_count": 25,
     "metadata": {},
     "output_type": "execute_result"
    },
    {
     "data": {
      "image/png": "[encoded data removed]",
      "text/plain": [
       "<Figure size 432x288 with 1 Axes>"
      ]
     },
     "metadata": {
      "needs_background": "light"
     },
     "output_type": "display_data"
    }
   ],
   "source": [
    "class_frequency = df['is_ultra'].value_counts(normalize = True)\n",
    "class_frequency.plot(kind = 'bar')"
   ]
  },
  {
   "cell_type": "markdown",
   "metadata": {},
   "source": [
    "И также сделаем анализ частот классов в результате предсказания нашей модели случайного леса."
   ]
  },
  {
   "cell_type": "code",
   "execution_count": 26,
   "metadata": {},
   "outputs": [
    {
     "data": {
      "text/plain": [
       "<AxesSubplot:>"
      ]
     },
     "execution_count": 26,
     "metadata": {},
     "output_type": "execute_result"
    },
    {
     "data": {
      "image/png": "[encoded data removed]",
      "text/plain": [
       "<Figure size 432x288 with 1 Axes>"
      ]
     },
     "metadata": {
      "needs_background": "light"
     },
     "output_type": "display_data"
    }
   ],
   "source": [
    "predicted_test = pd.Series(predictions_test)\n",
    "class_frequency_2 = predicted_test.value_counts(normalize = True)\n",
    "class_frequency_2.plot(kind = 'bar')"
   ]
  },
  {
   "cell_type": "markdown",
   "metadata": {},
   "source": [
    "Создадим константную модель и сравним с ней."
   ]
  },
  {
   "cell_type": "code",
   "execution_count": 27,
   "metadata": {},
   "outputs": [
    {
     "name": "stdout",
     "output_type": "stream",
     "text": [
      "0.693528313627878\n"
     ]
    }
   ],
   "source": [
    "target_pred_constant = pd.Series(data = 0, index = target.index)\n",
    "print(accuracy_score(target, target_pred_constant))"
   ]
  },
  {
   "cell_type": "markdown",
   "metadata": {},
   "source": [
    "0,82>0.69, значит наша модель адекватная."
   ]
  },
  {
   "cell_type": "markdown",
   "metadata": {},
   "source": [
    "<div class=\"alert alert-success\">\n",
    "    \n",
    "Константная модель тупо предсказывает самый частый класс, его могло быть 99%, и тогда точность была 99%, но это ничего не говорит о качестве константной модели, просто дисбаланс в таргетах такой. Константная модель это минимум, и если наша модель даже не побила наивный прогноз, то значит что то не то с нашей моделью. \n",
    "    \n",
    "</div>"
   ]
  },
  {
   "cell_type": "markdown",
   "metadata": {},
   "source": [
    "Однако наша модель получила значение 0.82, что значительно выше. \n",
    "Я бы сказала модель относительно адекватная, однако стоит привлечь способы работы с несбалансированной классификацией, а именно:\n",
    "\n",
    "- взвешивание классов\n",
    "- upsampling\n",
    "- downsampling"
   ]
  },
  {
   "cell_type": "markdown",
   "metadata": {},
   "source": [
    "<div class=\"alert alert-success\">\n",
    "\n",
    "С   DummyClassifier это выглядело бы  так:\n",
    "    \n",
    "    dс = DummyClassifier(strategy='most_frequent', random_state=RSEED)\n",
    "    dс.fit(features_train, target_train)\n",
    "    acc = dс.score(features_test, target_test)\n",
    "\n",
    "acc - Качество наивного прогноза (те же 0,69)\n",
    "'most_frequent' - это стратегия предсказывания самого частого класса в target_train    \n",
    "    \n",
    "    \n",
    "    \n",
    "    \n",
    "    upsampling\n",
    "    downsampling\n",
    "    \n",
    "</div>"
   ]
  },
  {
   "cell_type": "markdown",
   "metadata": {},
   "source": [
    "## Итоговый вывод"
   ]
  },
  {
   "cell_type": "markdown",
   "metadata": {},
   "source": [
    "<b>В ходе проделанной работы было выполнено:\n",
    "\n",
    "* Изучен файл с данными.\n",
    "* Разбиты данные на три выборки: обучающая, валидационная и тестовая.\n",
    "* Исследованы три модели классификации: Решающее дерево, Случайный лес и Логистическая регрессия.\n",
    "* С помощью перебора найдены оптимальные параметры для каждой модели и выбрана последняя для обучения модели.\n",
    "* Оценена точность обученных моделей на тестовой выборке.\n",
    "* Оценена адекватность моделей.\n",
    "* Для обучения модели было использована выборка почти в 2000 (1928) значений. Этого может быть недостаточно для повышения главных метрик качества модели классификатора. При увеличении выборки, должны повысится accuracy, precision и recall, но в тоже время повысится и время на поиск оптимальных параметров и обучение.\n",
    "* Адекватность модели повышается с ростом количества значений."
   ]
  },
  {
   "cell_type": "markdown",
   "metadata": {},
   "source": [
    "## Чек-лист готовности проекта"
   ]
  },
  {
   "cell_type": "markdown",
   "metadata": {},
   "source": [
    "Поставьте 'x' в выполненных пунктах. Далее нажмите Shift+Enter."
   ]
  },
  {
   "cell_type": "markdown",
   "metadata": {},
   "source": [
    "- [x] Jupyter Notebook открыт\n",
    "- [x] Весь код исполняется без ошибок\n",
    "- [x] Ячейки с кодом расположены в порядке исполнения\n",
    "- [x] Выполнено задание 1: данные загружены и изучены\n",
    "- [x] Выполнено задание 2: данные разбиты на три выборки\n",
    "- [x] Выполнено задание 3: проведено исследование моделей\n",
    "    - [x] Рассмотрено больше одной модели\n",
    "    - [x] Рассмотрено хотя бы 3 значения гипепараметров для какой-нибудь модели\n",
    "    - [x] Написаны выводы по результатам исследования\n",
    "- [x] Выполнено задание 3: Проведено тестирование\n",
    "- [x] Удалось достичь accuracy не меньше 0.75\n"
   ]
  },
  {
   "cell_type": "code",
   "execution_count": 1,
   "metadata": {
    "scrolled": true
   },
   "outputs": [
    {
     "data": {
      "text/plain": [
       "dict_keys(['explained_variance', 'r2', 'max_error', 'neg_median_absolute_error', 'neg_mean_absolute_error', 'neg_mean_absolute_percentage_error', 'neg_mean_squared_error', 'neg_mean_squared_log_error', 'neg_root_mean_squared_error', 'neg_mean_poisson_deviance', 'neg_mean_gamma_deviance', 'accuracy', 'top_k_accuracy', 'roc_auc', 'roc_auc_ovr', 'roc_auc_ovo', 'roc_auc_ovr_weighted', 'roc_auc_ovo_weighted', 'balanced_accuracy', 'average_precision', 'neg_log_loss', 'neg_brier_score', 'adjusted_rand_score', 'rand_score', 'homogeneity_score', 'completeness_score', 'v_measure_score', 'mutual_info_score', 'adjusted_mutual_info_score', 'normalized_mutual_info_score', 'fowlkes_mallows_score', 'precision', 'precision_macro', 'precision_micro', 'precision_samples', 'precision_weighted', 'recall', 'recall_macro', 'recall_micro', 'recall_samples', 'recall_weighted', 'f1', 'f1_macro', 'f1_micro', 'f1_samples', 'f1_weighted', 'jaccard', 'jaccard_macro', 'jaccard_micro', 'jaccard_samples', 'jaccard_weighted'])"
      ]
     },
     "execution_count": 1,
     "metadata": {},
     "output_type": "execute_result"
    }
   ],
   "source": [
    "import sklearn.metrics\n",
    "sklearn.metrics.SCORERS.keys()"
   ]
  }
 ],
 "metadata": {
  "ExecuteTimeLog": [
   {
    "duration": 744,
    "start_time": "2022-05-28T17:38:27.015Z"
   },
   {
    "duration": 160,
    "start_time": "2022-05-28T17:38:28.170Z"
   },
   {
    "duration": 1081,
    "start_time": "2022-05-28T17:42:11.473Z"
   },
   {
    "duration": 1056,
    "start_time": "2022-05-29T11:02:52.958Z"
   },
   {
    "duration": 85,
    "start_time": "2022-05-29T11:02:54.016Z"
   },
   {
    "duration": 4,
    "start_time": "2022-05-29T11:02:56.981Z"
   },
   {
    "duration": 120,
    "start_time": "2022-05-29T11:09:13.866Z"
   },
   {
    "duration": 6,
    "start_time": "2022-05-29T11:09:41.454Z"
   },
   {
    "duration": 89,
    "start_time": "2022-05-29T11:11:03.551Z"
   },
   {
    "duration": 3,
    "start_time": "2022-05-29T11:13:34.842Z"
   },
   {
    "duration": 17,
    "start_time": "2022-05-29T11:21:42.146Z"
   },
   {
    "duration": 62,
    "start_time": "2022-05-29T11:22:13.596Z"
   },
   {
    "duration": 70,
    "start_time": "2022-05-29T11:22:26.816Z"
   },
   {
    "duration": 10,
    "start_time": "2022-05-29T11:24:19.635Z"
   },
   {
    "duration": 47,
    "start_time": "2022-05-29T11:30:20.089Z"
   },
   {
    "duration": 4,
    "start_time": "2022-05-29T11:31:00.646Z"
   },
   {
    "duration": 5,
    "start_time": "2022-05-29T11:31:14.583Z"
   },
   {
    "duration": 3644,
    "start_time": "2022-05-29T11:33:07.049Z"
   },
   {
    "duration": 2,
    "start_time": "2022-05-29T11:34:56.825Z"
   },
   {
    "duration": 206,
    "start_time": "2022-05-29T11:41:18.961Z"
   },
   {
    "duration": 15609,
    "start_time": "2022-05-29T11:41:48.013Z"
   },
   {
    "duration": 5,
    "start_time": "2022-05-29T11:43:59.091Z"
   },
   {
    "duration": 5,
    "start_time": "2022-05-29T11:44:16.125Z"
   },
   {
    "duration": 5,
    "start_time": "2022-05-29T11:44:28.377Z"
   },
   {
    "duration": 3,
    "start_time": "2022-05-29T11:47:23.357Z"
   },
   {
    "duration": 39,
    "start_time": "2022-05-29T11:47:23.361Z"
   },
   {
    "duration": 3,
    "start_time": "2022-05-29T11:47:23.401Z"
   },
   {
    "duration": 9,
    "start_time": "2022-05-29T11:47:23.406Z"
   },
   {
    "duration": 5,
    "start_time": "2022-05-29T11:47:23.416Z"
   },
   {
    "duration": 4,
    "start_time": "2022-05-29T11:47:23.422Z"
   },
   {
    "duration": 66,
    "start_time": "2022-05-29T11:47:23.427Z"
   },
   {
    "duration": 3,
    "start_time": "2022-05-29T11:47:23.494Z"
   },
   {
    "duration": 3520,
    "start_time": "2022-05-29T11:47:23.498Z"
   },
   {
    "duration": 3,
    "start_time": "2022-05-29T11:47:27.019Z"
   },
   {
    "duration": 203,
    "start_time": "2022-05-29T11:47:27.024Z"
   },
   {
    "duration": 5,
    "start_time": "2022-05-29T11:47:27.229Z"
   },
   {
    "duration": 19,
    "start_time": "2022-05-29T11:47:27.235Z"
   },
   {
    "duration": 5,
    "start_time": "2022-05-29T11:47:38.188Z"
   },
   {
    "duration": 8,
    "start_time": "2022-05-29T11:51:50.190Z"
   },
   {
    "duration": 61,
    "start_time": "2022-05-29T11:58:09.184Z"
   },
   {
    "duration": 328,
    "start_time": "2022-05-29T11:58:14.667Z"
   },
   {
    "duration": 60,
    "start_time": "2022-05-29T11:58:21.798Z"
   },
   {
    "duration": 68,
    "start_time": "2022-05-29T11:58:31.892Z"
   },
   {
    "duration": 2,
    "start_time": "2022-05-29T11:59:19.756Z"
   },
   {
    "duration": 38,
    "start_time": "2022-05-29T11:59:19.760Z"
   },
   {
    "duration": 3,
    "start_time": "2022-05-29T11:59:19.800Z"
   },
   {
    "duration": 10,
    "start_time": "2022-05-29T11:59:19.804Z"
   },
   {
    "duration": 2,
    "start_time": "2022-05-29T11:59:19.816Z"
   },
   {
    "duration": 6,
    "start_time": "2022-05-29T11:59:19.819Z"
   },
   {
    "duration": 73,
    "start_time": "2022-05-29T11:59:19.826Z"
   },
   {
    "duration": 925,
    "start_time": "2022-05-29T11:59:30.496Z"
   },
   {
    "duration": 1225,
    "start_time": "2022-05-31T10:42:51.690Z"
   },
   {
    "duration": 131,
    "start_time": "2022-05-31T10:42:52.917Z"
   },
   {
    "duration": 3,
    "start_time": "2022-05-31T10:42:53.050Z"
   },
   {
    "duration": 10,
    "start_time": "2022-05-31T10:42:53.055Z"
   },
   {
    "duration": 96,
    "start_time": "2022-05-31T10:42:53.067Z"
   },
   {
    "duration": 2,
    "start_time": "2022-05-31T10:42:53.165Z"
   },
   {
    "duration": 107,
    "start_time": "2022-05-31T10:42:53.169Z"
   },
   {
    "duration": 81,
    "start_time": "2022-05-31T10:43:14.953Z"
   },
   {
    "duration": 13,
    "start_time": "2022-05-31T10:43:16.498Z"
   },
   {
    "duration": 135,
    "start_time": "2022-05-31T10:43:25.298Z"
   },
   {
    "duration": 138,
    "start_time": "2022-05-31T10:43:52.678Z"
   },
   {
    "duration": 140,
    "start_time": "2022-05-31T10:44:12.033Z"
   },
   {
    "duration": 66,
    "start_time": "2022-05-31T10:44:15.610Z"
   },
   {
    "duration": 13,
    "start_time": "2022-05-31T10:45:32.246Z"
   },
   {
    "duration": 97,
    "start_time": "2022-05-31T10:49:41.576Z"
   },
   {
    "duration": 100,
    "start_time": "2022-05-31T10:50:30.696Z"
   },
   {
    "duration": 107,
    "start_time": "2022-05-31T10:50:41.854Z"
   },
   {
    "duration": 104,
    "start_time": "2022-05-31T10:50:52.163Z"
   },
   {
    "duration": 9,
    "start_time": "2022-05-31T10:52:12.029Z"
   },
   {
    "duration": 14,
    "start_time": "2022-05-31T10:52:46.490Z"
   },
   {
    "duration": 9,
    "start_time": "2022-05-31T10:52:50.839Z"
   },
   {
    "duration": 10,
    "start_time": "2022-05-31T10:56:27.870Z"
   },
   {
    "duration": 11,
    "start_time": "2022-05-31T10:58:25.123Z"
   },
   {
    "duration": 4822,
    "start_time": "2022-05-31T10:58:27.948Z"
   },
   {
    "duration": 4745,
    "start_time": "2022-05-31T11:02:30.672Z"
   },
   {
    "duration": 29992,
    "start_time": "2022-05-31T11:03:24.800Z"
   },
   {
    "duration": 50,
    "start_time": "2022-05-31T11:05:12.968Z"
   },
   {
    "duration": 116,
    "start_time": "2022-05-31T11:11:53.674Z"
   },
   {
    "duration": 33,
    "start_time": "2022-05-31T11:18:33.507Z"
   },
   {
    "duration": 32,
    "start_time": "2022-05-31T11:19:13.091Z"
   },
   {
    "duration": 11,
    "start_time": "2022-05-31T11:20:38.666Z"
   },
   {
    "duration": 195,
    "start_time": "2022-05-31T11:24:11.663Z"
   },
   {
    "duration": 167,
    "start_time": "2022-05-31T11:24:25.043Z"
   },
   {
    "duration": 318,
    "start_time": "2022-05-31T11:34:20.165Z"
   },
   {
    "duration": 821,
    "start_time": "2022-05-31T11:34:54.791Z"
   },
   {
    "duration": 45,
    "start_time": "2022-05-31T11:34:55.613Z"
   },
   {
    "duration": 3,
    "start_time": "2022-05-31T11:34:55.659Z"
   },
   {
    "duration": 18,
    "start_time": "2022-05-31T11:34:55.663Z"
   },
   {
    "duration": 103,
    "start_time": "2022-05-31T11:34:55.683Z"
   },
   {
    "duration": 3,
    "start_time": "2022-05-31T11:34:55.787Z"
   },
   {
    "duration": 162,
    "start_time": "2022-05-31T11:34:55.791Z"
   },
   {
    "duration": 14,
    "start_time": "2022-05-31T11:34:55.954Z"
   },
   {
    "duration": 8,
    "start_time": "2022-05-31T11:34:55.970Z"
   },
   {
    "duration": 331,
    "start_time": "2022-05-31T11:34:55.979Z"
   },
   {
    "duration": 10,
    "start_time": "2022-05-31T11:34:56.312Z"
   },
   {
    "duration": 4683,
    "start_time": "2022-05-31T11:34:56.324Z"
   },
   {
    "duration": 30456,
    "start_time": "2022-05-31T11:35:01.009Z"
   },
   {
    "duration": 105,
    "start_time": "2022-05-31T11:35:31.467Z"
   },
   {
    "duration": 188,
    "start_time": "2022-05-31T11:35:31.574Z"
   },
   {
    "duration": 3,
    "start_time": "2022-05-31T11:35:31.764Z"
   },
   {
    "duration": 263,
    "start_time": "2022-05-31T11:35:31.769Z"
   },
   {
    "duration": 106,
    "start_time": "2022-05-31T11:35:32.033Z"
   },
   {
    "duration": 0,
    "start_time": "2022-05-31T11:35:32.141Z"
   },
   {
    "duration": 0,
    "start_time": "2022-05-31T11:35:32.143Z"
   },
   {
    "duration": 8,
    "start_time": "2022-05-31T11:38:43.105Z"
   },
   {
    "duration": 11,
    "start_time": "2022-05-31T11:38:59.130Z"
   },
   {
    "duration": 311,
    "start_time": "2022-05-31T11:39:46.010Z"
   },
   {
    "duration": 332,
    "start_time": "2022-05-31T11:40:03.429Z"
   },
   {
    "duration": 308,
    "start_time": "2022-05-31T11:40:04.602Z"
   },
   {
    "duration": 329,
    "start_time": "2022-05-31T11:40:45.194Z"
   },
   {
    "duration": 307,
    "start_time": "2022-05-31T11:40:45.674Z"
   },
   {
    "duration": 304,
    "start_time": "2022-05-31T11:41:27.074Z"
   },
   {
    "duration": 302,
    "start_time": "2022-05-31T11:41:39.332Z"
   },
   {
    "duration": 21,
    "start_time": "2022-05-31T11:42:37.596Z"
   },
   {
    "duration": 8,
    "start_time": "2022-05-31T11:43:17.579Z"
   },
   {
    "duration": 319,
    "start_time": "2022-05-31T11:43:26.860Z"
   },
   {
    "duration": 8,
    "start_time": "2022-05-31T11:43:55.187Z"
   },
   {
    "duration": 14,
    "start_time": "2022-05-31T11:56:13.879Z"
   },
   {
    "duration": 12,
    "start_time": "2022-05-31T11:57:07.964Z"
   },
   {
    "duration": 268728,
    "start_time": "2022-05-31T12:01:54.685Z"
   },
   {
    "duration": 29556,
    "start_time": "2022-05-31T12:08:27.328Z"
   },
   {
    "duration": 72,
    "start_time": "2022-05-31T18:41:19.572Z"
   },
   {
    "duration": 71,
    "start_time": "2022-05-31T18:41:34.388Z"
   },
   {
    "duration": 3,
    "start_time": "2022-05-31T18:41:55.847Z"
   },
   {
    "duration": 49,
    "start_time": "2022-05-31T18:41:55.852Z"
   },
   {
    "duration": 3,
    "start_time": "2022-05-31T18:41:55.903Z"
   },
   {
    "duration": 10,
    "start_time": "2022-05-31T18:41:55.908Z"
   },
   {
    "duration": 6,
    "start_time": "2022-05-31T18:41:55.920Z"
   },
   {
    "duration": 85,
    "start_time": "2022-05-31T18:41:55.928Z"
   },
   {
    "duration": 68,
    "start_time": "2022-05-31T18:41:58.531Z"
   },
   {
    "duration": 148,
    "start_time": "2022-05-31T18:42:03.602Z"
   },
   {
    "duration": 70,
    "start_time": "2022-05-31T18:42:19.041Z"
   },
   {
    "duration": 28,
    "start_time": "2022-05-31T18:43:44.675Z"
   },
   {
    "duration": 154,
    "start_time": "2022-05-31T18:43:51.531Z"
   },
   {
    "duration": 154,
    "start_time": "2022-05-31T18:45:38.684Z"
   },
   {
    "duration": 80,
    "start_time": "2022-05-31T18:46:02.591Z"
   },
   {
    "duration": 142,
    "start_time": "2022-05-31T18:46:03.172Z"
   },
   {
    "duration": 963,
    "start_time": "2022-05-31T18:46:51.781Z"
   },
   {
    "duration": 48,
    "start_time": "2022-05-31T18:46:52.746Z"
   },
   {
    "duration": 4,
    "start_time": "2022-05-31T18:46:52.795Z"
   },
   {
    "duration": 10,
    "start_time": "2022-05-31T18:46:52.801Z"
   },
   {
    "duration": 105,
    "start_time": "2022-05-31T18:46:52.813Z"
   },
   {
    "duration": 80,
    "start_time": "2022-05-31T18:46:52.920Z"
   },
   {
    "duration": 158,
    "start_time": "2022-05-31T18:46:53.002Z"
   },
   {
    "duration": 3,
    "start_time": "2022-05-31T18:46:53.161Z"
   },
   {
    "duration": 11,
    "start_time": "2022-05-31T18:46:53.165Z"
   },
   {
    "duration": 127,
    "start_time": "2022-05-31T18:46:53.178Z"
   },
   {
    "duration": 0,
    "start_time": "2022-05-31T18:46:53.307Z"
   },
   {
    "duration": 0,
    "start_time": "2022-05-31T18:46:53.308Z"
   },
   {
    "duration": 0,
    "start_time": "2022-05-31T18:46:53.309Z"
   },
   {
    "duration": 0,
    "start_time": "2022-05-31T18:46:53.310Z"
   },
   {
    "duration": 0,
    "start_time": "2022-05-31T18:46:53.311Z"
   },
   {
    "duration": 0,
    "start_time": "2022-05-31T18:46:53.312Z"
   },
   {
    "duration": 0,
    "start_time": "2022-05-31T18:46:53.313Z"
   },
   {
    "duration": 0,
    "start_time": "2022-05-31T18:46:53.314Z"
   },
   {
    "duration": 0,
    "start_time": "2022-05-31T18:46:53.315Z"
   },
   {
    "duration": 0,
    "start_time": "2022-05-31T18:46:53.316Z"
   },
   {
    "duration": 0,
    "start_time": "2022-05-31T18:46:53.317Z"
   },
   {
    "duration": 0,
    "start_time": "2022-05-31T18:46:53.318Z"
   },
   {
    "duration": 0,
    "start_time": "2022-05-31T18:46:53.319Z"
   },
   {
    "duration": 0,
    "start_time": "2022-05-31T18:46:53.319Z"
   },
   {
    "duration": 8,
    "start_time": "2022-05-31T18:49:10.210Z"
   },
   {
    "duration": 8,
    "start_time": "2022-05-31T18:49:19.962Z"
   },
   {
    "duration": 182,
    "start_time": "2022-05-31T18:51:03.296Z"
   },
   {
    "duration": 174,
    "start_time": "2022-05-31T18:54:05.587Z"
   },
   {
    "duration": 173,
    "start_time": "2022-05-31T18:55:27.012Z"
   },
   {
    "duration": 11,
    "start_time": "2022-05-31T18:56:26.052Z"
   },
   {
    "duration": 12,
    "start_time": "2022-05-31T18:56:30.508Z"
   },
   {
    "duration": 5107,
    "start_time": "2022-05-31T18:56:32.971Z"
   },
   {
    "duration": 2056,
    "start_time": "2022-05-31T18:56:57.013Z"
   },
   {
    "duration": 32059,
    "start_time": "2022-05-31T18:57:17.684Z"
   },
   {
    "duration": 102,
    "start_time": "2022-05-31T18:59:22.904Z"
   },
   {
    "duration": 145,
    "start_time": "2022-05-31T18:59:42.889Z"
   },
   {
    "duration": 182,
    "start_time": "2022-05-31T18:59:53.023Z"
   },
   {
    "duration": 193,
    "start_time": "2022-05-31T19:00:16.213Z"
   },
   {
    "duration": 193,
    "start_time": "2022-05-31T19:01:06.305Z"
   },
   {
    "duration": 194,
    "start_time": "2022-05-31T19:01:23.264Z"
   },
   {
    "duration": 31693,
    "start_time": "2022-05-31T19:03:10.479Z"
   },
   {
    "duration": 32054,
    "start_time": "2022-05-31T19:05:06.997Z"
   },
   {
    "duration": 31530,
    "start_time": "2022-05-31T19:06:37.221Z"
   },
   {
    "duration": 2,
    "start_time": "2022-05-31T19:08:27.623Z"
   },
   {
    "duration": 208,
    "start_time": "2022-05-31T19:08:29.220Z"
   },
   {
    "duration": 14,
    "start_time": "2022-05-31T19:08:30.016Z"
   },
   {
    "duration": 24,
    "start_time": "2022-05-31T19:10:43.038Z"
   },
   {
    "duration": 3443,
    "start_time": "2022-05-31T19:11:25.805Z"
   },
   {
    "duration": 200,
    "start_time": "2022-05-31T19:12:12.055Z"
   },
   {
    "duration": 193,
    "start_time": "2022-05-31T19:15:05.428Z"
   },
   {
    "duration": 195,
    "start_time": "2022-05-31T19:15:25.930Z"
   },
   {
    "duration": 200,
    "start_time": "2022-05-31T19:16:21.083Z"
   },
   {
    "duration": 206,
    "start_time": "2022-05-31T19:16:32.794Z"
   },
   {
    "duration": 198,
    "start_time": "2022-05-31T19:19:24.363Z"
   },
   {
    "duration": 192,
    "start_time": "2022-05-31T19:19:37.830Z"
   },
   {
    "duration": 5823,
    "start_time": "2022-05-31T19:20:28.886Z"
   },
   {
    "duration": 813,
    "start_time": "2022-05-31T19:20:53.655Z"
   },
   {
    "duration": 8345,
    "start_time": "2022-05-31T19:21:09.653Z"
   },
   {
    "duration": 1757,
    "start_time": "2022-05-31T19:22:06.191Z"
   },
   {
    "duration": 1592,
    "start_time": "2022-05-31T19:22:45.111Z"
   },
   {
    "duration": 2413,
    "start_time": "2022-05-31T19:23:00.442Z"
   },
   {
    "duration": 1731,
    "start_time": "2022-05-31T19:23:23.488Z"
   },
   {
    "duration": 1975,
    "start_time": "2022-05-31T19:23:48.785Z"
   },
   {
    "duration": 2737,
    "start_time": "2022-05-31T19:24:09.227Z"
   },
   {
    "duration": 8306,
    "start_time": "2022-05-31T19:24:23.804Z"
   },
   {
    "duration": 860,
    "start_time": "2022-05-31T19:24:39.124Z"
   },
   {
    "duration": 1677,
    "start_time": "2022-05-31T19:24:52.610Z"
   },
   {
    "duration": 936,
    "start_time": "2022-05-31T19:25:01.274Z"
   },
   {
    "duration": 137,
    "start_time": "2022-05-31T19:28:19.602Z"
   },
   {
    "duration": 12,
    "start_time": "2022-05-31T21:00:28.431Z"
   },
   {
    "duration": 145,
    "start_time": "2022-05-31T21:00:55.018Z"
   },
   {
    "duration": 85,
    "start_time": "2022-05-31T21:01:38.143Z"
   },
   {
    "duration": 88,
    "start_time": "2022-05-31T21:19:35.918Z"
   },
   {
    "duration": 95,
    "start_time": "2022-05-31T21:19:50.707Z"
   },
   {
    "duration": 93,
    "start_time": "2022-05-31T21:20:09.012Z"
   },
   {
    "duration": 92,
    "start_time": "2022-05-31T21:21:32.975Z"
   },
   {
    "duration": 13,
    "start_time": "2022-05-31T21:22:16.830Z"
   },
   {
    "duration": 140,
    "start_time": "2022-05-31T21:22:26.997Z"
   },
   {
    "duration": 92,
    "start_time": "2022-05-31T21:22:34.071Z"
   },
   {
    "duration": 12,
    "start_time": "2022-05-31T21:23:22.573Z"
   },
   {
    "duration": 135,
    "start_time": "2022-05-31T21:23:24.789Z"
   },
   {
    "duration": 85,
    "start_time": "2022-05-31T21:23:40.713Z"
   },
   {
    "duration": 3,
    "start_time": "2022-05-31T21:24:43.824Z"
   },
   {
    "duration": 17,
    "start_time": "2022-05-31T21:24:44.641Z"
   },
   {
    "duration": 3,
    "start_time": "2022-05-31T21:25:42.380Z"
   },
   {
    "duration": 4,
    "start_time": "2022-05-31T21:25:43.488Z"
   },
   {
    "duration": 18,
    "start_time": "2022-05-31T21:25:43.962Z"
   },
   {
    "duration": 3,
    "start_time": "2022-05-31T21:25:58.041Z"
   },
   {
    "duration": 3,
    "start_time": "2022-05-31T21:26:34.250Z"
   },
   {
    "duration": 4,
    "start_time": "2022-05-31T21:26:34.852Z"
   },
   {
    "duration": 10,
    "start_time": "2022-05-31T21:26:35.505Z"
   },
   {
    "duration": 9,
    "start_time": "2022-05-31T21:26:36.441Z"
   },
   {
    "duration": 9,
    "start_time": "2022-05-31T21:27:02.178Z"
   },
   {
    "duration": 3,
    "start_time": "2022-05-31T21:27:31.006Z"
   },
   {
    "duration": 11,
    "start_time": "2022-05-31T21:27:36.434Z"
   },
   {
    "duration": 10,
    "start_time": "2022-05-31T21:27:36.965Z"
   },
   {
    "duration": 7,
    "start_time": "2022-05-31T21:27:38.002Z"
   },
   {
    "duration": 3,
    "start_time": "2022-05-31T21:28:18.214Z"
   },
   {
    "duration": 4,
    "start_time": "2022-05-31T21:29:32.509Z"
   },
   {
    "duration": 3,
    "start_time": "2022-05-31T21:34:09.163Z"
   },
   {
    "duration": 3,
    "start_time": "2022-05-31T21:34:09.619Z"
   },
   {
    "duration": 48,
    "start_time": "2022-05-31T21:38:36.056Z"
   },
   {
    "duration": 924,
    "start_time": "2022-05-31T22:02:17.893Z"
   },
   {
    "duration": 54,
    "start_time": "2022-05-31T22:02:18.819Z"
   },
   {
    "duration": 3,
    "start_time": "2022-05-31T22:02:18.875Z"
   },
   {
    "duration": 25,
    "start_time": "2022-05-31T22:02:18.880Z"
   },
   {
    "duration": 115,
    "start_time": "2022-05-31T22:02:18.906Z"
   },
   {
    "duration": 76,
    "start_time": "2022-05-31T22:02:19.023Z"
   },
   {
    "duration": 154,
    "start_time": "2022-05-31T22:02:19.101Z"
   },
   {
    "duration": 7,
    "start_time": "2022-05-31T22:02:19.257Z"
   },
   {
    "duration": 181,
    "start_time": "2022-05-31T22:02:19.266Z"
   },
   {
    "duration": 11,
    "start_time": "2022-05-31T22:02:19.450Z"
   },
   {
    "duration": 5134,
    "start_time": "2022-05-31T22:02:19.463Z"
   },
   {
    "duration": 31824,
    "start_time": "2022-05-31T22:02:24.599Z"
   },
   {
    "duration": 145,
    "start_time": "2022-05-31T22:02:56.424Z"
   },
   {
    "duration": 197,
    "start_time": "2022-05-31T22:02:56.571Z"
   },
   {
    "duration": 31222,
    "start_time": "2022-05-31T22:02:56.769Z"
   },
   {
    "duration": 7,
    "start_time": "2022-05-31T22:03:27.993Z"
   },
   {
    "duration": 198,
    "start_time": "2022-05-31T22:03:28.002Z"
   },
   {
    "duration": 852,
    "start_time": "2022-05-31T22:03:28.202Z"
   },
   {
    "duration": 13,
    "start_time": "2022-05-31T22:03:29.056Z"
   },
   {
    "duration": 140,
    "start_time": "2022-05-31T22:03:29.070Z"
   },
   {
    "duration": 89,
    "start_time": "2022-05-31T22:03:29.212Z"
   },
   {
    "duration": 4,
    "start_time": "2022-05-31T22:03:29.302Z"
   },
   {
    "duration": 6,
    "start_time": "2022-05-31T22:03:29.307Z"
   },
   {
    "duration": 11,
    "start_time": "2022-05-31T22:03:29.314Z"
   },
   {
    "duration": 7,
    "start_time": "2022-05-31T22:03:29.327Z"
   },
   {
    "duration": 7,
    "start_time": "2022-05-31T22:03:29.336Z"
   },
   {
    "duration": 4,
    "start_time": "2022-05-31T22:03:29.344Z"
   },
   {
    "duration": 916,
    "start_time": "2022-06-01T06:42:32.136Z"
   },
   {
    "duration": 146,
    "start_time": "2022-06-01T06:42:33.054Z"
   },
   {
    "duration": 4,
    "start_time": "2022-06-01T06:42:33.202Z"
   },
   {
    "duration": 11,
    "start_time": "2022-06-01T06:42:33.209Z"
   },
   {
    "duration": 114,
    "start_time": "2022-06-01T06:42:33.222Z"
   },
   {
    "duration": 73,
    "start_time": "2022-06-01T06:42:33.338Z"
   },
   {
    "duration": 151,
    "start_time": "2022-06-01T06:42:33.414Z"
   },
   {
    "duration": 8,
    "start_time": "2022-06-01T06:42:33.567Z"
   },
   {
    "duration": 200,
    "start_time": "2022-06-01T06:42:33.577Z"
   },
   {
    "duration": 21,
    "start_time": "2022-06-01T06:42:33.782Z"
   },
   {
    "duration": 5234,
    "start_time": "2022-06-01T06:42:33.805Z"
   },
   {
    "duration": 32648,
    "start_time": "2022-06-01T06:42:39.041Z"
   },
   {
    "duration": 168,
    "start_time": "2022-06-01T06:43:11.692Z"
   },
   {
    "duration": 229,
    "start_time": "2022-06-01T06:43:11.862Z"
   },
   {
    "duration": 34604,
    "start_time": "2022-06-01T06:43:12.098Z"
   },
   {
    "duration": 3,
    "start_time": "2022-06-01T06:43:46.703Z"
   },
   {
    "duration": 241,
    "start_time": "2022-06-01T06:43:46.708Z"
   },
   {
    "duration": 971,
    "start_time": "2022-06-01T06:43:46.952Z"
   },
   {
    "duration": 11,
    "start_time": "2022-06-01T06:43:47.924Z"
   },
   {
    "duration": 140,
    "start_time": "2022-06-01T06:43:47.937Z"
   },
   {
    "duration": 101,
    "start_time": "2022-06-01T06:43:48.079Z"
   },
   {
    "duration": 3,
    "start_time": "2022-06-01T06:43:48.182Z"
   },
   {
    "duration": 3,
    "start_time": "2022-06-01T06:43:48.199Z"
   },
   {
    "duration": 11,
    "start_time": "2022-06-01T06:43:48.204Z"
   },
   {
    "duration": 7,
    "start_time": "2022-06-01T06:43:48.217Z"
   },
   {
    "duration": 8,
    "start_time": "2022-06-01T06:43:48.226Z"
   },
   {
    "duration": 5,
    "start_time": "2022-06-01T06:43:48.236Z"
   },
   {
    "duration": 1053,
    "start_time": "2022-06-08T11:28:52.914Z"
   },
   {
    "duration": 140,
    "start_time": "2022-06-08T11:28:53.969Z"
   },
   {
    "duration": 105,
    "start_time": "2022-06-08T11:28:58.129Z"
   },
   {
    "duration": 541,
    "start_time": "2022-06-08T11:29:03.466Z"
   },
   {
    "duration": 20,
    "start_time": "2022-06-08T11:34:05.981Z"
   },
   {
    "duration": 5,
    "start_time": "2022-06-08T11:40:46.185Z"
   },
   {
    "duration": 5,
    "start_time": "2022-06-08T11:40:47.089Z"
   },
   {
    "duration": 5,
    "start_time": "2022-06-08T12:05:13.224Z"
   },
   {
    "duration": 57,
    "start_time": "2022-06-08T12:05:13.231Z"
   },
   {
    "duration": 105,
    "start_time": "2022-06-08T12:05:13.290Z"
   },
   {
    "duration": 5,
    "start_time": "2022-06-08T12:05:13.396Z"
   },
   {
    "duration": 23,
    "start_time": "2022-06-08T12:05:13.404Z"
   },
   {
    "duration": 69,
    "start_time": "2022-06-08T12:05:13.429Z"
   },
   {
    "duration": 161,
    "start_time": "2022-06-08T12:05:13.500Z"
   },
   {
    "duration": 8,
    "start_time": "2022-06-08T12:05:13.663Z"
   },
   {
    "duration": 180,
    "start_time": "2022-06-08T12:05:13.672Z"
   },
   {
    "duration": 9,
    "start_time": "2022-06-08T12:06:03.440Z"
   },
   {
    "duration": 155,
    "start_time": "2022-06-08T12:08:06.969Z"
   },
   {
    "duration": 123,
    "start_time": "2022-06-08T12:08:58.859Z"
   },
   {
    "duration": 243,
    "start_time": "2022-06-08T12:11:29.866Z"
   },
   {
    "duration": 6,
    "start_time": "2022-06-08T12:50:26.264Z"
   },
   {
    "duration": 4,
    "start_time": "2022-06-08T13:33:57.579Z"
   },
   {
    "duration": 49,
    "start_time": "2022-06-08T13:33:57.587Z"
   },
   {
    "duration": 100,
    "start_time": "2022-06-08T13:33:57.638Z"
   },
   {
    "duration": 3,
    "start_time": "2022-06-08T13:33:57.739Z"
   },
   {
    "duration": 27,
    "start_time": "2022-06-08T13:33:57.744Z"
   },
   {
    "duration": 61,
    "start_time": "2022-06-08T13:33:57.773Z"
   },
   {
    "duration": 135,
    "start_time": "2022-06-08T13:33:57.835Z"
   },
   {
    "duration": 8,
    "start_time": "2022-06-08T13:33:57.971Z"
   },
   {
    "duration": 260,
    "start_time": "2022-06-08T13:33:57.980Z"
   },
   {
    "duration": 13,
    "start_time": "2022-06-08T13:33:58.241Z"
   },
   {
    "duration": 1514,
    "start_time": "2022-06-08T13:33:58.259Z"
   },
   {
    "duration": 5,
    "start_time": "2022-06-08T13:33:59.774Z"
   },
   {
    "duration": 1729,
    "start_time": "2022-06-08T13:35:35.539Z"
   },
   {
    "duration": 1599,
    "start_time": "2022-06-08T13:35:37.349Z"
   },
   {
    "duration": 3,
    "start_time": "2022-06-08T13:35:42.398Z"
   },
   {
    "duration": 34,
    "start_time": "2022-06-08T13:36:11.430Z"
   },
   {
    "duration": 1534,
    "start_time": "2022-06-08T13:36:22.343Z"
   },
   {
    "duration": 4,
    "start_time": "2022-06-08T13:36:23.879Z"
   },
   {
    "duration": 12,
    "start_time": "2022-06-08T13:38:02.164Z"
   },
   {
    "duration": 1595,
    "start_time": "2022-06-08T13:38:02.561Z"
   },
   {
    "duration": 9,
    "start_time": "2022-06-08T13:38:04.158Z"
   },
   {
    "duration": 7,
    "start_time": "2022-06-08T13:38:43.379Z"
   },
   {
    "duration": 1427,
    "start_time": "2022-06-08T13:38:43.808Z"
   },
   {
    "duration": 3,
    "start_time": "2022-06-08T13:38:45.237Z"
   },
   {
    "duration": 7,
    "start_time": "2022-06-08T13:39:43.061Z"
   },
   {
    "duration": 1516,
    "start_time": "2022-06-08T13:39:43.377Z"
   },
   {
    "duration": 4,
    "start_time": "2022-06-08T13:39:44.895Z"
   },
   {
    "duration": 14,
    "start_time": "2022-06-08T13:39:44.900Z"
   },
   {
    "duration": 7,
    "start_time": "2022-06-08T13:40:08.372Z"
   },
   {
    "duration": 1424,
    "start_time": "2022-06-08T13:40:08.744Z"
   },
   {
    "duration": 4,
    "start_time": "2022-06-08T13:40:10.170Z"
   },
   {
    "duration": 14,
    "start_time": "2022-06-08T13:40:10.176Z"
   },
   {
    "duration": 123,
    "start_time": "2022-06-08T13:40:25.037Z"
   },
   {
    "duration": 144,
    "start_time": "2022-06-08T13:40:30.368Z"
   },
   {
    "duration": 4,
    "start_time": "2022-06-08T13:59:52.531Z"
   },
   {
    "duration": 60,
    "start_time": "2022-06-08T13:59:52.536Z"
   },
   {
    "duration": 118,
    "start_time": "2022-06-08T13:59:52.600Z"
   },
   {
    "duration": 4,
    "start_time": "2022-06-08T13:59:52.719Z"
   },
   {
    "duration": 22,
    "start_time": "2022-06-08T13:59:52.725Z"
   },
   {
    "duration": 68,
    "start_time": "2022-06-08T13:59:52.752Z"
   },
   {
    "duration": 151,
    "start_time": "2022-06-08T13:59:52.821Z"
   },
   {
    "duration": 10,
    "start_time": "2022-06-08T13:59:52.974Z"
   },
   {
    "duration": 157,
    "start_time": "2022-06-08T13:59:52.985Z"
   },
   {
    "duration": 14,
    "start_time": "2022-06-08T13:59:53.144Z"
   },
   {
    "duration": 1534,
    "start_time": "2022-06-08T13:59:53.160Z"
   },
   {
    "duration": 4,
    "start_time": "2022-06-08T13:59:54.695Z"
   },
   {
    "duration": 19,
    "start_time": "2022-06-08T13:59:54.701Z"
   },
   {
    "duration": 239,
    "start_time": "2022-06-08T14:00:25.451Z"
   },
   {
    "duration": 1071,
    "start_time": "2022-06-08T14:51:43.551Z"
   },
   {
    "duration": 150,
    "start_time": "2022-06-08T14:51:44.623Z"
   },
   {
    "duration": 514,
    "start_time": "2022-06-08T14:51:44.774Z"
   },
   {
    "duration": 4,
    "start_time": "2022-06-08T14:51:45.290Z"
   },
   {
    "duration": 15,
    "start_time": "2022-06-08T14:51:45.296Z"
   },
   {
    "duration": 76,
    "start_time": "2022-06-08T14:51:45.313Z"
   },
   {
    "duration": 136,
    "start_time": "2022-06-08T14:51:45.391Z"
   },
   {
    "duration": 8,
    "start_time": "2022-06-08T14:51:45.529Z"
   },
   {
    "duration": 284,
    "start_time": "2022-06-08T14:51:45.538Z"
   },
   {
    "duration": 7,
    "start_time": "2022-06-08T14:51:45.825Z"
   },
   {
    "duration": 1557,
    "start_time": "2022-06-08T14:51:45.834Z"
   },
   {
    "duration": 4,
    "start_time": "2022-06-08T14:51:47.394Z"
   },
   {
    "duration": 13,
    "start_time": "2022-06-08T14:51:47.400Z"
   },
   {
    "duration": 4810,
    "start_time": "2022-06-08T14:51:47.415Z"
   },
   {
    "duration": 32846,
    "start_time": "2022-06-08T14:51:52.226Z"
   },
   {
    "duration": 164,
    "start_time": "2022-06-08T14:52:25.073Z"
   },
   {
    "duration": 210,
    "start_time": "2022-06-08T14:52:25.238Z"
   },
   {
    "duration": 35063,
    "start_time": "2022-06-08T14:52:25.450Z"
   },
   {
    "duration": 279,
    "start_time": "2022-06-08T14:53:00.515Z"
   },
   {
    "duration": 1062,
    "start_time": "2022-06-08T14:53:00.796Z"
   },
   {
    "duration": 14,
    "start_time": "2022-06-08T14:53:01.860Z"
   },
   {
    "duration": 177,
    "start_time": "2022-06-08T14:53:01.876Z"
   },
   {
    "duration": 100,
    "start_time": "2022-06-08T14:53:02.055Z"
   },
   {
    "duration": 4,
    "start_time": "2022-06-08T14:53:02.163Z"
   },
   {
    "duration": 26,
    "start_time": "2022-06-08T14:53:02.169Z"
   },
   {
    "duration": 8,
    "start_time": "2022-06-08T14:53:02.197Z"
   },
   {
    "duration": 14,
    "start_time": "2022-06-08T14:53:02.207Z"
   },
   {
    "duration": 6,
    "start_time": "2022-06-08T14:53:02.225Z"
   },
   {
    "duration": 355,
    "start_time": "2022-06-08T14:54:30.184Z"
   },
   {
    "duration": 177,
    "start_time": "2022-06-08T15:12:52.563Z"
   },
   {
    "duration": 142,
    "start_time": "2022-06-08T15:13:30.180Z"
   },
   {
    "duration": 32591,
    "start_time": "2022-06-08T15:14:40.656Z"
   },
   {
    "duration": 8,
    "start_time": "2022-06-08T15:18:26.190Z"
   },
   {
    "duration": 7,
    "start_time": "2022-06-08T15:18:37.515Z"
   },
   {
    "duration": 8,
    "start_time": "2022-06-08T15:18:58.655Z"
   },
   {
    "duration": 5,
    "start_time": "2022-06-08T15:20:51.176Z"
   },
   {
    "duration": 58,
    "start_time": "2022-06-08T15:20:51.183Z"
   },
   {
    "duration": 111,
    "start_time": "2022-06-08T15:20:51.243Z"
   },
   {
    "duration": 11,
    "start_time": "2022-06-08T15:20:51.356Z"
   },
   {
    "duration": 14,
    "start_time": "2022-06-08T15:20:51.375Z"
   },
   {
    "duration": 80,
    "start_time": "2022-06-08T15:20:51.390Z"
   },
   {
    "duration": 151,
    "start_time": "2022-06-08T15:20:51.473Z"
   },
   {
    "duration": 9,
    "start_time": "2022-06-08T15:20:51.625Z"
   },
   {
    "duration": 276,
    "start_time": "2022-06-08T15:20:51.637Z"
   },
   {
    "duration": 7,
    "start_time": "2022-06-08T15:20:51.915Z"
   },
   {
    "duration": 1614,
    "start_time": "2022-06-08T15:20:51.924Z"
   },
   {
    "duration": 3,
    "start_time": "2022-06-08T15:20:53.540Z"
   },
   {
    "duration": 26,
    "start_time": "2022-06-08T15:20:53.545Z"
   },
   {
    "duration": 5233,
    "start_time": "2022-06-08T15:20:53.578Z"
   },
   {
    "duration": 32946,
    "start_time": "2022-06-08T15:20:58.813Z"
   },
   {
    "duration": 175,
    "start_time": "2022-06-08T15:21:31.761Z"
   },
   {
    "duration": 368,
    "start_time": "2022-06-08T15:21:31.938Z"
   },
   {
    "duration": 32838,
    "start_time": "2022-06-08T15:21:32.308Z"
   },
   {
    "duration": 230,
    "start_time": "2022-06-08T15:22:05.148Z"
   },
   {
    "duration": 869,
    "start_time": "2022-06-08T15:22:05.380Z"
   },
   {
    "duration": 2,
    "start_time": "2022-06-08T15:22:06.252Z"
   },
   {
    "duration": 15,
    "start_time": "2022-06-08T15:22:06.267Z"
   },
   {
    "duration": 126,
    "start_time": "2022-06-08T15:23:20.664Z"
   },
   {
    "duration": 17,
    "start_time": "2022-06-08T15:24:23.050Z"
   },
   {
    "duration": 18,
    "start_time": "2022-06-08T15:26:17.572Z"
   },
   {
    "duration": 9,
    "start_time": "2022-06-08T15:26:50.743Z"
   },
   {
    "duration": 16,
    "start_time": "2022-06-08T15:27:04.892Z"
   },
   {
    "duration": 12,
    "start_time": "2022-06-08T15:27:18.174Z"
   },
   {
    "duration": 16,
    "start_time": "2022-06-08T15:27:33.786Z"
   },
   {
    "duration": 13,
    "start_time": "2022-06-08T15:27:47.821Z"
   },
   {
    "duration": 13,
    "start_time": "2022-06-08T15:27:56.581Z"
   },
   {
    "duration": 6,
    "start_time": "2022-06-08T15:28:59.895Z"
   },
   {
    "duration": 12,
    "start_time": "2022-06-08T15:29:05.719Z"
   },
   {
    "duration": 7,
    "start_time": "2022-06-08T15:29:18.522Z"
   },
   {
    "duration": 15,
    "start_time": "2022-06-08T15:29:19.090Z"
   },
   {
    "duration": 7,
    "start_time": "2022-06-08T15:31:02.550Z"
   },
   {
    "duration": 16,
    "start_time": "2022-06-08T15:31:03.241Z"
   },
   {
    "duration": 146,
    "start_time": "2022-06-08T15:31:19.482Z"
   },
   {
    "duration": 31,
    "start_time": "2022-06-08T15:31:38.961Z"
   },
   {
    "duration": 9,
    "start_time": "2022-06-08T15:31:59.154Z"
   },
   {
    "duration": 178,
    "start_time": "2022-06-08T15:32:00.249Z"
   },
   {
    "duration": 8,
    "start_time": "2022-06-08T15:55:34.452Z"
   },
   {
    "duration": 109,
    "start_time": "2022-06-08T15:59:36.290Z"
   },
   {
    "duration": 5,
    "start_time": "2022-06-08T16:01:36.043Z"
   },
   {
    "duration": 239,
    "start_time": "2022-06-08T16:02:45.763Z"
   },
   {
    "duration": 14,
    "start_time": "2022-06-08T16:06:30.647Z"
   },
   {
    "duration": 6,
    "start_time": "2022-06-08T16:06:36.440Z"
   },
   {
    "duration": 15,
    "start_time": "2022-06-08T16:08:06.469Z"
   },
   {
    "duration": 6,
    "start_time": "2022-06-08T16:08:33.177Z"
   },
   {
    "duration": 4,
    "start_time": "2022-06-08T16:12:51.749Z"
   },
   {
    "duration": 4,
    "start_time": "2022-06-08T16:12:52.172Z"
   },
   {
    "duration": 1058,
    "start_time": "2022-06-08T16:24:30.485Z"
   },
   {
    "duration": 59,
    "start_time": "2022-06-08T16:24:31.545Z"
   },
   {
    "duration": 350,
    "start_time": "2022-06-08T16:24:31.605Z"
   },
   {
    "duration": 8,
    "start_time": "2022-06-08T16:24:31.957Z"
   },
   {
    "duration": 34,
    "start_time": "2022-06-08T16:24:31.967Z"
   },
   {
    "duration": 86,
    "start_time": "2022-06-08T16:24:32.003Z"
   },
   {
    "duration": 150,
    "start_time": "2022-06-08T16:24:32.091Z"
   },
   {
    "duration": 8,
    "start_time": "2022-06-08T16:24:32.243Z"
   },
   {
    "duration": 260,
    "start_time": "2022-06-08T16:24:32.265Z"
   },
   {
    "duration": 6,
    "start_time": "2022-06-08T16:24:32.528Z"
   },
   {
    "duration": 1529,
    "start_time": "2022-06-08T16:24:32.536Z"
   },
   {
    "duration": 4,
    "start_time": "2022-06-08T16:24:34.066Z"
   },
   {
    "duration": 33,
    "start_time": "2022-06-08T16:24:34.071Z"
   },
   {
    "duration": 4738,
    "start_time": "2022-06-08T16:24:34.106Z"
   },
   {
    "duration": 31172,
    "start_time": "2022-06-08T16:24:38.845Z"
   },
   {
    "duration": 146,
    "start_time": "2022-06-08T16:25:10.019Z"
   },
   {
    "duration": 328,
    "start_time": "2022-06-08T16:25:10.167Z"
   },
   {
    "duration": 30917,
    "start_time": "2022-06-08T16:25:10.496Z"
   },
   {
    "duration": 206,
    "start_time": "2022-06-08T16:25:41.415Z"
   },
   {
    "duration": 852,
    "start_time": "2022-06-08T16:25:41.623Z"
   },
   {
    "duration": 7,
    "start_time": "2022-06-08T16:25:42.477Z"
   },
   {
    "duration": 167,
    "start_time": "2022-06-08T16:25:42.485Z"
   },
   {
    "duration": 4,
    "start_time": "2022-06-08T16:25:42.653Z"
   },
   {
    "duration": 10,
    "start_time": "2022-06-08T16:25:42.665Z"
   },
   {
    "duration": 112,
    "start_time": "2022-06-08T16:25:42.676Z"
   },
   {
    "duration": 119,
    "start_time": "2022-06-08T16:25:42.790Z"
   },
   {
    "duration": 5,
    "start_time": "2022-06-08T16:25:42.911Z"
   },
   {
    "duration": 1230,
    "start_time": "2022-06-08T17:19:22.189Z"
   },
   {
    "duration": 99,
    "start_time": "2022-06-08T17:19:23.422Z"
   },
   {
    "duration": 573,
    "start_time": "2022-06-08T17:19:23.523Z"
   },
   {
    "duration": 7,
    "start_time": "2022-06-08T17:19:24.098Z"
   },
   {
    "duration": 79,
    "start_time": "2022-06-08T17:19:24.111Z"
   },
   {
    "duration": 103,
    "start_time": "2022-06-08T17:19:24.192Z"
   },
   {
    "duration": 179,
    "start_time": "2022-06-08T17:19:24.297Z"
   },
   {
    "duration": 11,
    "start_time": "2022-06-08T17:19:24.479Z"
   },
   {
    "duration": 287,
    "start_time": "2022-06-08T17:19:24.493Z"
   },
   {
    "duration": 8,
    "start_time": "2022-06-08T17:19:24.784Z"
   },
   {
    "duration": 1704,
    "start_time": "2022-06-08T17:19:24.797Z"
   },
   {
    "duration": 11,
    "start_time": "2022-06-08T17:19:26.503Z"
   },
   {
    "duration": 61,
    "start_time": "2022-06-08T17:19:26.517Z"
   },
   {
    "duration": 5868,
    "start_time": "2022-06-08T17:19:26.581Z"
   },
   {
    "duration": 40521,
    "start_time": "2022-06-08T17:19:32.451Z"
   },
   {
    "duration": 205,
    "start_time": "2022-06-08T17:20:12.974Z"
   },
   {
    "duration": 411,
    "start_time": "2022-06-08T17:20:13.181Z"
   },
   {
    "duration": 34954,
    "start_time": "2022-06-08T17:20:13.594Z"
   },
   {
    "duration": 258,
    "start_time": "2022-06-08T17:20:48.552Z"
   },
   {
    "duration": 834,
    "start_time": "2022-06-08T17:20:48.813Z"
   },
   {
    "duration": 8,
    "start_time": "2022-06-08T17:20:49.650Z"
   },
   {
    "duration": 173,
    "start_time": "2022-06-08T17:20:49.660Z"
   },
   {
    "duration": 7,
    "start_time": "2022-06-08T17:20:49.839Z"
   },
   {
    "duration": 11,
    "start_time": "2022-06-08T17:20:49.848Z"
   },
   {
    "duration": 138,
    "start_time": "2022-06-08T17:20:49.861Z"
   },
   {
    "duration": 158,
    "start_time": "2022-06-08T17:20:50.002Z"
   },
   {
    "duration": 5,
    "start_time": "2022-06-08T17:20:50.165Z"
   },
   {
    "duration": 1376,
    "start_time": "2022-06-28T21:15:15.892Z"
   }
  ],
  "kernelspec": {
   "display_name": "Python 3 (ipykernel)",
   "language": "python",
   "name": "python3"
  },
  "language_info": {
   "codemirror_mode": {
    "name": "ipython",
    "version": 3
   },
   "file_extension": ".py",
   "mimetype": "text/x-python",
   "name": "python",
   "nbconvert_exporter": "python",
   "pygments_lexer": "ipython3",
   "version": "3.9.5"
  },
  "toc": {
   "base_numbering": 1,
   "nav_menu": {},
   "number_sections": true,
   "sideBar": true,
   "skip_h1_title": true,
   "title_cell": "Table of Contents",
   "title_sidebar": "Contents",
   "toc_cell": false,
   "toc_position": {},
   "toc_section_display": true,
   "toc_window_display": true
  }
 },
 "nbformat": 4,
 "nbformat_minor": 2
}
