{
 "cells": [
  {
   "cell_type": "markdown",
   "metadata": {
    "toc": true
   },
   "source": [
    "<h1>Содержание<span class=\"tocSkip\"></span></h1>\n",
    "<div class=\"toc\"><ul class=\"toc-item\"><li><span><a href=\"#Подготовка-данных\" data-toc-modified-id=\"Подготовка-данных-1\"><span class=\"toc-item-num\">1&nbsp;&nbsp;</span>Подготовка данных</a></span><ul class=\"toc-item\"><li><span><a href=\"#Расчёт-эффективности-обогащения\" data-toc-modified-id=\"Расчёт-эффективности-обогащения-1.1\"><span class=\"toc-item-num\">1.1&nbsp;&nbsp;</span>Расчёт эффективности обогащения</a></span></li><li><span><a href=\"#Анализ-признаков,-недоступных-в-тестовой-выборке.\" data-toc-modified-id=\"Анализ-признаков,-недоступных-в-тестовой-выборке.-1.2\"><span class=\"toc-item-num\">1.2&nbsp;&nbsp;</span>Анализ признаков, недоступных в тестовой выборке.</a></span></li><li><span><a href=\"#Предобработка-данных\" data-toc-modified-id=\"Предобработка-данных-1.3\"><span class=\"toc-item-num\">1.3&nbsp;&nbsp;</span>Предобработка данных</a></span></li></ul></li><li><span><a href=\"#Анализ-данных\" data-toc-modified-id=\"Анализ-данных-2\"><span class=\"toc-item-num\">2&nbsp;&nbsp;</span>Анализ данных</a></span><ul class=\"toc-item\"><li><span><a href=\"#Анализ-концентрации-металлов-на-различных-этапах-очистки\" data-toc-modified-id=\"Анализ-концентрации-металлов-на-различных-этапах-очистки-2.1\"><span class=\"toc-item-num\">2.1&nbsp;&nbsp;</span>Анализ концентрации металлов на различных этапах очистки</a></span></li><li><span><a href=\"#Сравнение-распределения-размеров-гранул-сырья-на-обучающей-и-тестовой-выборках\" data-toc-modified-id=\"Сравнение-распределения-размеров-гранул-сырья-на-обучающей-и-тестовой-выборках-2.2\"><span class=\"toc-item-num\">2.2&nbsp;&nbsp;</span>Сравнение распределения размеров гранул сырья на обучающей и тестовой выборках</a></span></li><li><span><a href=\"#Суммарная-концентрация-всех-веществ-на-разных-стадиях\" data-toc-modified-id=\"Суммарная-концентрация-всех-веществ-на-разных-стадиях-2.3\"><span class=\"toc-item-num\">2.3&nbsp;&nbsp;</span>Суммарная концентрация всех веществ на разных стадиях</a></span></li></ul></li><li><span><a href=\"#Модель\" data-toc-modified-id=\"Модель-3\"><span class=\"toc-item-num\">3&nbsp;&nbsp;</span>Модель</a></span><ul class=\"toc-item\"><li><span><a href=\"#Деление-выборок\" data-toc-modified-id=\"Деление-выборок-3.1\"><span class=\"toc-item-num\">3.1&nbsp;&nbsp;</span>Деление выборок</a></span></li><li><span><a href=\"#Метрики-для-обучения\" data-toc-modified-id=\"Метрики-для-обучения-3.2\"><span class=\"toc-item-num\">3.2&nbsp;&nbsp;</span>Метрики для обучения</a></span></li><li><span><a href=\"#Обучение-моделей-и-оценки-их-качества-кросс-валидацией\" data-toc-modified-id=\"Обучение-моделей-и-оценки-их-качества-кросс-валидацией-3.3\"><span class=\"toc-item-num\">3.3&nbsp;&nbsp;</span>Обучение моделей и оценки их качества кросс-валидацией</a></span><ul class=\"toc-item\"><li><span><a href=\"#Решающее-дерево\" data-toc-modified-id=\"Решающее-дерево-3.3.1\"><span class=\"toc-item-num\">3.3.1&nbsp;&nbsp;</span>Решающее дерево</a></span></li><li><span><a href=\"#Случайный-лес\" data-toc-modified-id=\"Случайный-лес-3.3.2\"><span class=\"toc-item-num\">3.3.2&nbsp;&nbsp;</span>Случайный лес</a></span></li><li><span><a href=\"#Линейная-регрессия\" data-toc-modified-id=\"Линейная-регрессия-3.3.3\"><span class=\"toc-item-num\">3.3.3&nbsp;&nbsp;</span>Линейная регрессия</a></span></li><li><span><a href=\"#Кросс-валидация\" data-toc-modified-id=\"Кросс-валидация-3.3.4\"><span class=\"toc-item-num\">3.3.4&nbsp;&nbsp;</span>Кросс-валидация</a></span></li></ul></li><li><span><a href=\"#Тестовая-выборка\" data-toc-modified-id=\"Тестовая-выборка-3.4\"><span class=\"toc-item-num\">3.4&nbsp;&nbsp;</span>Тестовая выборка</a></span></li></ul></li><li><span><a href=\"#Вывод\" data-toc-modified-id=\"Вывод-4\"><span class=\"toc-item-num\">4&nbsp;&nbsp;</span>Вывод</a></span></li><li><span><a href=\"#Чек-лист-готовности-проекта\" data-toc-modified-id=\"Чек-лист-готовности-проекта-5\"><span class=\"toc-item-num\">5&nbsp;&nbsp;</span>Чек-лист готовности проекта</a></span></li></ul></div>"
   ]
  },
  {
   "cell_type": "markdown",
   "metadata": {},
   "source": [
    "# Восстановление золота из руды"
   ]
  },
  {
   "cell_type": "markdown",
   "metadata": {},
   "source": [
    "Подготовьте прототип модели машинного обучения для «Цифры». Компания разрабатывает решения для эффективной работы промышленных предприятий.\n",
    "\n",
    "Модель должна предсказать коэффициент восстановления золота из золотосодержащей руды. Используйте данные с параметрами добычи и очистки. \n",
    "\n",
    "Модель поможет оптимизировать производство, чтобы не запускать предприятие с убыточными характеристиками.\n",
    "\n",
    "Вам нужно:\n",
    "\n",
    "1. Подготовить данные;\n",
    "2. Провести исследовательский анализ данных;\n",
    "3. Построить и обучить модель.\n",
    "\n",
    "Чтобы выполнить проект, обращайтесь к библиотекам *pandas*, *matplotlib* и *sklearn.* Вам поможет их документация."
   ]
  },
  {
   "cell_type": "markdown",
   "metadata": {},
   "source": [
    "## Подготовка данных"
   ]
  },
  {
   "cell_type": "code",
   "execution_count": 1,
   "metadata": {},
   "outputs": [],
   "source": [
    "import numpy as np\n",
    "import pandas as pd\n",
    "\n",
    "from sklearn.metrics import mean_absolute_error as MAE\n",
    "from sklearn.ensemble import RandomForestRegressor\n",
    "from sklearn.preprocessing import StandardScaler\n",
    "from sklearn.model_selection import cross_val_score\n",
    "from sklearn.model_selection import GridSearchCV\n",
    "from sklearn.linear_model import LinearRegression\n",
    "from sklearn.tree import DecisionTreeRegressor\n",
    "import matplotlib.pyplot as plt\n",
    "from sklearn.metrics import make_scorer\n",
    "from sklearn.dummy import DummyRegressor\n",
    "from sklearn.model_selection import cross_val_score\n",
    "\n",
    "\n",
    "import warnings\n",
    "warnings.simplefilter(action='ignore', category=FutureWarning)"
   ]
  },
  {
   "cell_type": "code",
   "execution_count": 2,
   "metadata": {},
   "outputs": [],
   "source": [
    "train_df = pd.read_csv('/datasets/gold_recovery_train_new.csv')\n",
    "test_df = pd.read_csv('/datasets/gold_recovery_test_new.csv')\n",
    "full_df = pd.read_csv('/datasets/gold_recovery_full_new.csv')"
   ]
  },
  {
   "cell_type": "code",
   "execution_count": 3,
   "metadata": {},
   "outputs": [
    {
     "name": "stdout",
     "output_type": "stream",
     "text": [
      "<class 'pandas.core.frame.DataFrame'>\n",
      "RangeIndex: 14149 entries, 0 to 14148\n",
      "Data columns (total 87 columns):\n",
      " #   Column                                              Non-Null Count  Dtype  \n",
      "---  ------                                              --------------  -----  \n",
      " 0   date                                                14149 non-null  object \n",
      " 1   final.output.concentrate_ag                         14148 non-null  float64\n",
      " 2   final.output.concentrate_pb                         14148 non-null  float64\n",
      " 3   final.output.concentrate_sol                        13938 non-null  float64\n",
      " 4   final.output.concentrate_au                         14149 non-null  float64\n",
      " 5   final.output.recovery                               14149 non-null  float64\n",
      " 6   final.output.tail_ag                                14149 non-null  float64\n",
      " 7   final.output.tail_pb                                14049 non-null  float64\n",
      " 8   final.output.tail_sol                               14144 non-null  float64\n",
      " 9   final.output.tail_au                                14149 non-null  float64\n",
      " 10  primary_cleaner.input.sulfate                       14129 non-null  float64\n",
      " 11  primary_cleaner.input.depressant                    14117 non-null  float64\n",
      " 12  primary_cleaner.input.feed_size                     14149 non-null  float64\n",
      " 13  primary_cleaner.input.xanthate                      14049 non-null  float64\n",
      " 14  primary_cleaner.output.concentrate_ag               14149 non-null  float64\n",
      " 15  primary_cleaner.output.concentrate_pb               14063 non-null  float64\n",
      " 16  primary_cleaner.output.concentrate_sol              13863 non-null  float64\n",
      " 17  primary_cleaner.output.concentrate_au               14149 non-null  float64\n",
      " 18  primary_cleaner.output.tail_ag                      14148 non-null  float64\n",
      " 19  primary_cleaner.output.tail_pb                      14134 non-null  float64\n",
      " 20  primary_cleaner.output.tail_sol                     14103 non-null  float64\n",
      " 21  primary_cleaner.output.tail_au                      14149 non-null  float64\n",
      " 22  primary_cleaner.state.floatbank8_a_air              14145 non-null  float64\n",
      " 23  primary_cleaner.state.floatbank8_a_level            14148 non-null  float64\n",
      " 24  primary_cleaner.state.floatbank8_b_air              14145 non-null  float64\n",
      " 25  primary_cleaner.state.floatbank8_b_level            14148 non-null  float64\n",
      " 26  primary_cleaner.state.floatbank8_c_air              14147 non-null  float64\n",
      " 27  primary_cleaner.state.floatbank8_c_level            14148 non-null  float64\n",
      " 28  primary_cleaner.state.floatbank8_d_air              14146 non-null  float64\n",
      " 29  primary_cleaner.state.floatbank8_d_level            14148 non-null  float64\n",
      " 30  rougher.calculation.sulfate_to_au_concentrate       14148 non-null  float64\n",
      " 31  rougher.calculation.floatbank10_sulfate_to_au_feed  14148 non-null  float64\n",
      " 32  rougher.calculation.floatbank11_sulfate_to_au_feed  14148 non-null  float64\n",
      " 33  rougher.calculation.au_pb_ratio                     14149 non-null  float64\n",
      " 34  rougher.input.feed_ag                               14149 non-null  float64\n",
      " 35  rougher.input.feed_pb                               14049 non-null  float64\n",
      " 36  rougher.input.feed_rate                             14141 non-null  float64\n",
      " 37  rougher.input.feed_size                             14005 non-null  float64\n",
      " 38  rougher.input.feed_sol                              14071 non-null  float64\n",
      " 39  rougher.input.feed_au                               14149 non-null  float64\n",
      " 40  rougher.input.floatbank10_sulfate                   14120 non-null  float64\n",
      " 41  rougher.input.floatbank10_xanthate                  14141 non-null  float64\n",
      " 42  rougher.input.floatbank11_sulfate                   14113 non-null  float64\n",
      " 43  rougher.input.floatbank11_xanthate                  13721 non-null  float64\n",
      " 44  rougher.output.concentrate_ag                       14149 non-null  float64\n",
      " 45  rougher.output.concentrate_pb                       14149 non-null  float64\n",
      " 46  rougher.output.concentrate_sol                      14127 non-null  float64\n",
      " 47  rougher.output.concentrate_au                       14149 non-null  float64\n",
      " 48  rougher.output.recovery                             14149 non-null  float64\n",
      " 49  rougher.output.tail_ag                              14148 non-null  float64\n",
      " 50  rougher.output.tail_pb                              14149 non-null  float64\n",
      " 51  rougher.output.tail_sol                             14149 non-null  float64\n",
      " 52  rougher.output.tail_au                              14149 non-null  float64\n",
      " 53  rougher.state.floatbank10_a_air                     14148 non-null  float64\n",
      " 54  rougher.state.floatbank10_a_level                   14148 non-null  float64\n",
      " 55  rougher.state.floatbank10_b_air                     14148 non-null  float64\n",
      " 56  rougher.state.floatbank10_b_level                   14148 non-null  float64\n",
      " 57  rougher.state.floatbank10_c_air                     14148 non-null  float64\n",
      " 58  rougher.state.floatbank10_c_level                   14148 non-null  float64\n",
      " 59  rougher.state.floatbank10_d_air                     14149 non-null  float64\n",
      " 60  rougher.state.floatbank10_d_level                   14149 non-null  float64\n",
      " 61  rougher.state.floatbank10_e_air                     13713 non-null  float64\n",
      " 62  rougher.state.floatbank10_e_level                   14149 non-null  float64\n",
      " 63  rougher.state.floatbank10_f_air                     14149 non-null  float64\n",
      " 64  rougher.state.floatbank10_f_level                   14149 non-null  float64\n",
      " 65  secondary_cleaner.output.tail_ag                    14147 non-null  float64\n",
      " 66  secondary_cleaner.output.tail_pb                    14139 non-null  float64\n",
      " 67  secondary_cleaner.output.tail_sol                   12544 non-null  float64\n",
      " 68  secondary_cleaner.output.tail_au                    14149 non-null  float64\n",
      " 69  secondary_cleaner.state.floatbank2_a_air            13932 non-null  float64\n",
      " 70  secondary_cleaner.state.floatbank2_a_level          14148 non-null  float64\n",
      " 71  secondary_cleaner.state.floatbank2_b_air            14128 non-null  float64\n",
      " 72  secondary_cleaner.state.floatbank2_b_level          14148 non-null  float64\n",
      " 73  secondary_cleaner.state.floatbank3_a_air            14145 non-null  float64\n",
      " 74  secondary_cleaner.state.floatbank3_a_level          14148 non-null  float64\n",
      " 75  secondary_cleaner.state.floatbank3_b_air            14148 non-null  float64\n",
      " 76  secondary_cleaner.state.floatbank3_b_level          14148 non-null  float64\n",
      " 77  secondary_cleaner.state.floatbank4_a_air            14143 non-null  float64\n",
      " 78  secondary_cleaner.state.floatbank4_a_level          14148 non-null  float64\n",
      " 79  secondary_cleaner.state.floatbank4_b_air            14148 non-null  float64\n",
      " 80  secondary_cleaner.state.floatbank4_b_level          14148 non-null  float64\n",
      " 81  secondary_cleaner.state.floatbank5_a_air            14148 non-null  float64\n",
      " 82  secondary_cleaner.state.floatbank5_a_level          14148 non-null  float64\n",
      " 83  secondary_cleaner.state.floatbank5_b_air            14148 non-null  float64\n",
      " 84  secondary_cleaner.state.floatbank5_b_level          14148 non-null  float64\n",
      " 85  secondary_cleaner.state.floatbank6_a_air            14147 non-null  float64\n",
      " 86  secondary_cleaner.state.floatbank6_a_level          14148 non-null  float64\n",
      "dtypes: float64(86), object(1)\n",
      "memory usage: 9.4+ MB\n"
     ]
    }
   ],
   "source": [
    "train_df.info()"
   ]
  },
  {
   "cell_type": "code",
   "execution_count": 4,
   "metadata": {},
   "outputs": [
    {
     "name": "stdout",
     "output_type": "stream",
     "text": [
      "<class 'pandas.core.frame.DataFrame'>\n",
      "RangeIndex: 5290 entries, 0 to 5289\n",
      "Data columns (total 53 columns):\n",
      " #   Column                                      Non-Null Count  Dtype  \n",
      "---  ------                                      --------------  -----  \n",
      " 0   date                                        5290 non-null   object \n",
      " 1   primary_cleaner.input.sulfate               5286 non-null   float64\n",
      " 2   primary_cleaner.input.depressant            5285 non-null   float64\n",
      " 3   primary_cleaner.input.feed_size             5290 non-null   float64\n",
      " 4   primary_cleaner.input.xanthate              5286 non-null   float64\n",
      " 5   primary_cleaner.state.floatbank8_a_air      5290 non-null   float64\n",
      " 6   primary_cleaner.state.floatbank8_a_level    5290 non-null   float64\n",
      " 7   primary_cleaner.state.floatbank8_b_air      5290 non-null   float64\n",
      " 8   primary_cleaner.state.floatbank8_b_level    5290 non-null   float64\n",
      " 9   primary_cleaner.state.floatbank8_c_air      5290 non-null   float64\n",
      " 10  primary_cleaner.state.floatbank8_c_level    5290 non-null   float64\n",
      " 11  primary_cleaner.state.floatbank8_d_air      5290 non-null   float64\n",
      " 12  primary_cleaner.state.floatbank8_d_level    5290 non-null   float64\n",
      " 13  rougher.input.feed_ag                       5290 non-null   float64\n",
      " 14  rougher.input.feed_pb                       5290 non-null   float64\n",
      " 15  rougher.input.feed_rate                     5287 non-null   float64\n",
      " 16  rougher.input.feed_size                     5289 non-null   float64\n",
      " 17  rougher.input.feed_sol                      5269 non-null   float64\n",
      " 18  rougher.input.feed_au                       5290 non-null   float64\n",
      " 19  rougher.input.floatbank10_sulfate           5285 non-null   float64\n",
      " 20  rougher.input.floatbank10_xanthate          5290 non-null   float64\n",
      " 21  rougher.input.floatbank11_sulfate           5282 non-null   float64\n",
      " 22  rougher.input.floatbank11_xanthate          5265 non-null   float64\n",
      " 23  rougher.state.floatbank10_a_air             5290 non-null   float64\n",
      " 24  rougher.state.floatbank10_a_level           5290 non-null   float64\n",
      " 25  rougher.state.floatbank10_b_air             5290 non-null   float64\n",
      " 26  rougher.state.floatbank10_b_level           5290 non-null   float64\n",
      " 27  rougher.state.floatbank10_c_air             5290 non-null   float64\n",
      " 28  rougher.state.floatbank10_c_level           5290 non-null   float64\n",
      " 29  rougher.state.floatbank10_d_air             5290 non-null   float64\n",
      " 30  rougher.state.floatbank10_d_level           5290 non-null   float64\n",
      " 31  rougher.state.floatbank10_e_air             5290 non-null   float64\n",
      " 32  rougher.state.floatbank10_e_level           5290 non-null   float64\n",
      " 33  rougher.state.floatbank10_f_air             5290 non-null   float64\n",
      " 34  rougher.state.floatbank10_f_level           5290 non-null   float64\n",
      " 35  secondary_cleaner.state.floatbank2_a_air    5287 non-null   float64\n",
      " 36  secondary_cleaner.state.floatbank2_a_level  5290 non-null   float64\n",
      " 37  secondary_cleaner.state.floatbank2_b_air    5288 non-null   float64\n",
      " 38  secondary_cleaner.state.floatbank2_b_level  5290 non-null   float64\n",
      " 39  secondary_cleaner.state.floatbank3_a_air    5281 non-null   float64\n",
      " 40  secondary_cleaner.state.floatbank3_a_level  5290 non-null   float64\n",
      " 41  secondary_cleaner.state.floatbank3_b_air    5290 non-null   float64\n",
      " 42  secondary_cleaner.state.floatbank3_b_level  5290 non-null   float64\n",
      " 43  secondary_cleaner.state.floatbank4_a_air    5290 non-null   float64\n",
      " 44  secondary_cleaner.state.floatbank4_a_level  5290 non-null   float64\n",
      " 45  secondary_cleaner.state.floatbank4_b_air    5290 non-null   float64\n",
      " 46  secondary_cleaner.state.floatbank4_b_level  5290 non-null   float64\n",
      " 47  secondary_cleaner.state.floatbank5_a_air    5290 non-null   float64\n",
      " 48  secondary_cleaner.state.floatbank5_a_level  5290 non-null   float64\n",
      " 49  secondary_cleaner.state.floatbank5_b_air    5290 non-null   float64\n",
      " 50  secondary_cleaner.state.floatbank5_b_level  5290 non-null   float64\n",
      " 51  secondary_cleaner.state.floatbank6_a_air    5290 non-null   float64\n",
      " 52  secondary_cleaner.state.floatbank6_a_level  5290 non-null   float64\n",
      "dtypes: float64(52), object(1)\n",
      "memory usage: 2.1+ MB\n"
     ]
    }
   ],
   "source": [
    "test_df.info()"
   ]
  },
  {
   "cell_type": "code",
   "execution_count": 5,
   "metadata": {},
   "outputs": [
    {
     "name": "stdout",
     "output_type": "stream",
     "text": [
      "<class 'pandas.core.frame.DataFrame'>\n",
      "RangeIndex: 19439 entries, 0 to 19438\n",
      "Data columns (total 87 columns):\n",
      " #   Column                                              Non-Null Count  Dtype  \n",
      "---  ------                                              --------------  -----  \n",
      " 0   date                                                19439 non-null  object \n",
      " 1   final.output.concentrate_ag                         19438 non-null  float64\n",
      " 2   final.output.concentrate_pb                         19438 non-null  float64\n",
      " 3   final.output.concentrate_sol                        19228 non-null  float64\n",
      " 4   final.output.concentrate_au                         19439 non-null  float64\n",
      " 5   final.output.recovery                               19439 non-null  float64\n",
      " 6   final.output.tail_ag                                19438 non-null  float64\n",
      " 7   final.output.tail_pb                                19338 non-null  float64\n",
      " 8   final.output.tail_sol                               19433 non-null  float64\n",
      " 9   final.output.tail_au                                19439 non-null  float64\n",
      " 10  primary_cleaner.input.sulfate                       19415 non-null  float64\n",
      " 11  primary_cleaner.input.depressant                    19402 non-null  float64\n",
      " 12  primary_cleaner.input.feed_size                     19439 non-null  float64\n",
      " 13  primary_cleaner.input.xanthate                      19335 non-null  float64\n",
      " 14  primary_cleaner.output.concentrate_ag               19439 non-null  float64\n",
      " 15  primary_cleaner.output.concentrate_pb               19323 non-null  float64\n",
      " 16  primary_cleaner.output.concentrate_sol              19069 non-null  float64\n",
      " 17  primary_cleaner.output.concentrate_au               19439 non-null  float64\n",
      " 18  primary_cleaner.output.tail_ag                      19435 non-null  float64\n",
      " 19  primary_cleaner.output.tail_pb                      19418 non-null  float64\n",
      " 20  primary_cleaner.output.tail_sol                     19377 non-null  float64\n",
      " 21  primary_cleaner.output.tail_au                      19439 non-null  float64\n",
      " 22  primary_cleaner.state.floatbank8_a_air              19435 non-null  float64\n",
      " 23  primary_cleaner.state.floatbank8_a_level            19438 non-null  float64\n",
      " 24  primary_cleaner.state.floatbank8_b_air              19435 non-null  float64\n",
      " 25  primary_cleaner.state.floatbank8_b_level            19438 non-null  float64\n",
      " 26  primary_cleaner.state.floatbank8_c_air              19437 non-null  float64\n",
      " 27  primary_cleaner.state.floatbank8_c_level            19438 non-null  float64\n",
      " 28  primary_cleaner.state.floatbank8_d_air              19436 non-null  float64\n",
      " 29  primary_cleaner.state.floatbank8_d_level            19438 non-null  float64\n",
      " 30  rougher.calculation.sulfate_to_au_concentrate       19437 non-null  float64\n",
      " 31  rougher.calculation.floatbank10_sulfate_to_au_feed  19437 non-null  float64\n",
      " 32  rougher.calculation.floatbank11_sulfate_to_au_feed  19437 non-null  float64\n",
      " 33  rougher.calculation.au_pb_ratio                     19439 non-null  float64\n",
      " 34  rougher.input.feed_ag                               19439 non-null  float64\n",
      " 35  rougher.input.feed_pb                               19339 non-null  float64\n",
      " 36  rougher.input.feed_rate                             19428 non-null  float64\n",
      " 37  rougher.input.feed_size                             19294 non-null  float64\n",
      " 38  rougher.input.feed_sol                              19340 non-null  float64\n",
      " 39  rougher.input.feed_au                               19439 non-null  float64\n",
      " 40  rougher.input.floatbank10_sulfate                   19405 non-null  float64\n",
      " 41  rougher.input.floatbank10_xanthate                  19431 non-null  float64\n",
      " 42  rougher.input.floatbank11_sulfate                   19395 non-null  float64\n",
      " 43  rougher.input.floatbank11_xanthate                  18986 non-null  float64\n",
      " 44  rougher.output.concentrate_ag                       19439 non-null  float64\n",
      " 45  rougher.output.concentrate_pb                       19439 non-null  float64\n",
      " 46  rougher.output.concentrate_sol                      19416 non-null  float64\n",
      " 47  rougher.output.concentrate_au                       19439 non-null  float64\n",
      " 48  rougher.output.recovery                             19439 non-null  float64\n",
      " 49  rougher.output.tail_ag                              19438 non-null  float64\n",
      " 50  rougher.output.tail_pb                              19439 non-null  float64\n",
      " 51  rougher.output.tail_sol                             19439 non-null  float64\n",
      " 52  rougher.output.tail_au                              19439 non-null  float64\n",
      " 53  rougher.state.floatbank10_a_air                     19438 non-null  float64\n",
      " 54  rougher.state.floatbank10_a_level                   19438 non-null  float64\n",
      " 55  rougher.state.floatbank10_b_air                     19438 non-null  float64\n",
      " 56  rougher.state.floatbank10_b_level                   19438 non-null  float64\n",
      " 57  rougher.state.floatbank10_c_air                     19438 non-null  float64\n",
      " 58  rougher.state.floatbank10_c_level                   19438 non-null  float64\n",
      " 59  rougher.state.floatbank10_d_air                     19439 non-null  float64\n",
      " 60  rougher.state.floatbank10_d_level                   19439 non-null  float64\n",
      " 61  rougher.state.floatbank10_e_air                     19003 non-null  float64\n",
      " 62  rougher.state.floatbank10_e_level                   19439 non-null  float64\n",
      " 63  rougher.state.floatbank10_f_air                     19439 non-null  float64\n",
      " 64  rougher.state.floatbank10_f_level                   19439 non-null  float64\n",
      " 65  secondary_cleaner.output.tail_ag                    19437 non-null  float64\n",
      " 66  secondary_cleaner.output.tail_pb                    19427 non-null  float64\n",
      " 67  secondary_cleaner.output.tail_sol                   17691 non-null  float64\n",
      " 68  secondary_cleaner.output.tail_au                    19439 non-null  float64\n",
      " 69  secondary_cleaner.state.floatbank2_a_air            19219 non-null  float64\n",
      " 70  secondary_cleaner.state.floatbank2_a_level          19438 non-null  float64\n",
      " 71  secondary_cleaner.state.floatbank2_b_air            19416 non-null  float64\n",
      " 72  secondary_cleaner.state.floatbank2_b_level          19438 non-null  float64\n",
      " 73  secondary_cleaner.state.floatbank3_a_air            19426 non-null  float64\n",
      " 74  secondary_cleaner.state.floatbank3_a_level          19438 non-null  float64\n",
      " 75  secondary_cleaner.state.floatbank3_b_air            19438 non-null  float64\n",
      " 76  secondary_cleaner.state.floatbank3_b_level          19438 non-null  float64\n",
      " 77  secondary_cleaner.state.floatbank4_a_air            19433 non-null  float64\n",
      " 78  secondary_cleaner.state.floatbank4_a_level          19438 non-null  float64\n",
      " 79  secondary_cleaner.state.floatbank4_b_air            19438 non-null  float64\n",
      " 80  secondary_cleaner.state.floatbank4_b_level          19438 non-null  float64\n",
      " 81  secondary_cleaner.state.floatbank5_a_air            19438 non-null  float64\n",
      " 82  secondary_cleaner.state.floatbank5_a_level          19438 non-null  float64\n",
      " 83  secondary_cleaner.state.floatbank5_b_air            19438 non-null  float64\n",
      " 84  secondary_cleaner.state.floatbank5_b_level          19438 non-null  float64\n",
      " 85  secondary_cleaner.state.floatbank6_a_air            19437 non-null  float64\n",
      " 86  secondary_cleaner.state.floatbank6_a_level          19438 non-null  float64\n",
      "dtypes: float64(86), object(1)\n",
      "memory usage: 12.9+ MB\n"
     ]
    }
   ],
   "source": [
    "full_df.info()"
   ]
  },
  {
   "cell_type": "markdown",
   "metadata": {},
   "source": [
    "Видим, что много столбцов имеют разные значения. Посчитаем пропуски в каждой выборке."
   ]
  },
  {
   "cell_type": "code",
   "execution_count": 6,
   "metadata": {},
   "outputs": [
    {
     "data": {
      "text/plain": [
       "(14149, 87)"
      ]
     },
     "execution_count": 6,
     "metadata": {},
     "output_type": "execute_result"
    }
   ],
   "source": [
    "train_df.shape"
   ]
  },
  {
   "cell_type": "code",
   "execution_count": 7,
   "metadata": {},
   "outputs": [
    {
     "data": {
      "text/plain": [
       "(5290, 53)"
      ]
     },
     "execution_count": 7,
     "metadata": {},
     "output_type": "execute_result"
    }
   ],
   "source": [
    "test_df.shape"
   ]
  },
  {
   "cell_type": "code",
   "execution_count": 8,
   "metadata": {},
   "outputs": [
    {
     "data": {
      "text/plain": [
       "(19439, 87)"
      ]
     },
     "execution_count": 8,
     "metadata": {},
     "output_type": "execute_result"
    }
   ],
   "source": [
    "full_df.shape"
   ]
  },
  {
   "cell_type": "markdown",
   "metadata": {},
   "source": [
    "С данными познакомились. Обратим внимание, что в данных очень много пропущенных значений. Позже решим, что с ними делать. Перейдём к следующему этапу."
   ]
  },
  {
   "cell_type": "markdown",
   "metadata": {},
   "source": [
    "### Расчёт эффективности обогащения"
   ]
  },
  {
   "cell_type": "markdown",
   "metadata": {},
   "source": [
    "Проверим правильно ли рассчитана эффективность обогащения в нашей обучающей выборке, которая лежит в столбце rougher.output.recovery. Для этого вручную расчитаем нашу эффективность по формуле:"
   ]
  },
  {
   "cell_type": "markdown",
   "metadata": {},
   "source": [
    "![jupyter](https://k8s.jupyterhub.praktikum-services.ru/user/user-0-1549385497/files/recovery.png)"
   ]
  },
  {
   "cell_type": "markdown",
   "metadata": {},
   "source": [
    "Где:\n",
    "\n",
    "* C — доля золота в концентрате после флотации/очистки\n",
    "* F — доля золота в сырье/концентрате до флотации/очистки\n",
    "* T — доля золота в отвальных хвостах после флотации/очистки  \n",
    "И найдём cреднюю абсолютную ошибку между нашими расчётами и значением признака в столбце. Так мы узнаем верно ли рассчитана эффективность обогащения в нашем признаке. Приступим."
   ]
  },
  {
   "cell_type": "code",
   "execution_count": 9,
   "metadata": {},
   "outputs": [],
   "source": [
    "C = train_df['rougher.output.concentrate_au']\n",
    "F = train_df['rougher.input.feed_au']\n",
    "T = train_df['rougher.output.tail_au']"
   ]
  },
  {
   "cell_type": "code",
   "execution_count": 10,
   "metadata": {},
   "outputs": [],
   "source": [
    "recovery = C * (F - T) / (F * (C - T)) * 100"
   ]
  },
  {
   "cell_type": "markdown",
   "metadata": {},
   "source": [
    "Теперь расчитаем среднюю абсолютную ошибку."
   ]
  },
  {
   "cell_type": "code",
   "execution_count": 11,
   "metadata": {},
   "outputs": [
    {
     "data": {
      "text/plain": [
       "9.73512347450521e-15"
      ]
     },
     "execution_count": 11,
     "metadata": {},
     "output_type": "execute_result"
    }
   ],
   "source": [
    "from sklearn.metrics import mean_absolute_error\n",
    "mean_absolute_error(train_df['rougher.output.recovery'],recovery)"
   ]
  },
  {
   "cell_type": "markdown",
   "metadata": {},
   "source": [
    "Как помним, что чем ниже значение, тем лучше. Параметр recovery в train рассчитаны верно."
   ]
  },
  {
   "cell_type": "markdown",
   "metadata": {},
   "source": [
    "### Анализ признаков, недоступных в тестовой выборке."
   ]
  },
  {
   "cell_type": "markdown",
   "metadata": {},
   "source": [
    "Посчитаем сколько у нас недоступных признаков в тестовой выборке, а затем посмотрим на них."
   ]
  },
  {
   "cell_type": "code",
   "execution_count": 12,
   "metadata": {},
   "outputs": [
    {
     "data": {
      "text/plain": [
       "34"
      ]
     },
     "execution_count": 12,
     "metadata": {},
     "output_type": "execute_result"
    }
   ],
   "source": [
    "train_df.shape[1] - test_df.shape[1]"
   ]
  },
  {
   "cell_type": "code",
   "execution_count": 13,
   "metadata": {},
   "outputs": [
    {
     "data": {
      "text/plain": [
       "Index(['final.output.concentrate_ag', 'final.output.concentrate_pb',\n",
       "       'final.output.concentrate_sol', 'final.output.concentrate_au',\n",
       "       'final.output.recovery', 'final.output.tail_ag', 'final.output.tail_pb',\n",
       "       'final.output.tail_sol', 'final.output.tail_au',\n",
       "       'primary_cleaner.output.concentrate_ag',\n",
       "       'primary_cleaner.output.concentrate_pb',\n",
       "       'primary_cleaner.output.concentrate_sol',\n",
       "       'primary_cleaner.output.concentrate_au',\n",
       "       'primary_cleaner.output.tail_ag', 'primary_cleaner.output.tail_pb',\n",
       "       'primary_cleaner.output.tail_sol', 'primary_cleaner.output.tail_au',\n",
       "       'rougher.calculation.sulfate_to_au_concentrate',\n",
       "       'rougher.calculation.floatbank10_sulfate_to_au_feed',\n",
       "       'rougher.calculation.floatbank11_sulfate_to_au_feed',\n",
       "       'rougher.calculation.au_pb_ratio', 'rougher.output.concentrate_ag',\n",
       "       'rougher.output.concentrate_pb', 'rougher.output.concentrate_sol',\n",
       "       'rougher.output.concentrate_au', 'rougher.output.recovery',\n",
       "       'rougher.output.tail_ag', 'rougher.output.tail_pb',\n",
       "       'rougher.output.tail_sol', 'rougher.output.tail_au',\n",
       "       'secondary_cleaner.output.tail_ag', 'secondary_cleaner.output.tail_pb',\n",
       "       'secondary_cleaner.output.tail_sol',\n",
       "       'secondary_cleaner.output.tail_au'],\n",
       "      dtype='object')"
      ]
     },
     "execution_count": 13,
     "metadata": {},
     "output_type": "execute_result"
    }
   ],
   "source": [
    "train_df.columns.drop(test_df.columns)"
   ]
  },
  {
   "cell_type": "markdown",
   "metadata": {},
   "source": [
    "Видим, что в тестовой выборке у нас отсутствуют все этапы на которых были получены параметры продукта из сырья. Условно, конечные значения после каждого этапа обработки. Это говорит нам о том, что мы должны удалить из train все, чего нету в test, иначе мы не построим проверяемую модель. Переходим к следующему этапу."
   ]
  },
  {
   "cell_type": "markdown",
   "metadata": {},
   "source": [
    "### Предобработка данных"
   ]
  },
  {
   "cell_type": "markdown",
   "metadata": {},
   "source": [
    "Для начала посмотрим, есть ли в целевых признаках пропуски в обучающей выборке"
   ]
  },
  {
   "cell_type": "code",
   "execution_count": 14,
   "metadata": {},
   "outputs": [
    {
     "data": {
      "text/plain": [
       "0"
      ]
     },
     "execution_count": 14,
     "metadata": {},
     "output_type": "execute_result"
    }
   ],
   "source": [
    "train_df['final.output.recovery'].isnull().sum()"
   ]
  },
  {
   "cell_type": "code",
   "execution_count": 15,
   "metadata": {},
   "outputs": [
    {
     "data": {
      "text/plain": [
       "0"
      ]
     },
     "execution_count": 15,
     "metadata": {},
     "output_type": "execute_result"
    }
   ],
   "source": [
    "train_df['rougher.output.recovery'].isna().sum()"
   ]
  },
  {
   "cell_type": "code",
   "execution_count": 16,
   "metadata": {},
   "outputs": [],
   "source": [
    "#train_df.dropna(subset=['final.output.recovery', 'rougher.output.recovery'], inplace=True)"
   ]
  },
  {
   "cell_type": "markdown",
   "metadata": {},
   "source": [
    "Теперь удалим все столбцы из обучающей, которых нет в тестовой выборке."
   ]
  },
  {
   "cell_type": "code",
   "execution_count": 17,
   "metadata": {},
   "outputs": [],
   "source": [
    "drop_test = train_df.columns.drop(test_df.columns)\n",
    "train_df.drop(drop_test, axis=1, inplace=True)"
   ]
  },
  {
   "cell_type": "markdown",
   "metadata": {},
   "source": [
    "И преобразуем дату в индекс"
   ]
  },
  {
   "cell_type": "code",
   "execution_count": 18,
   "metadata": {},
   "outputs": [],
   "source": [
    "train_df.set_index('date', inplace=True)\n",
    "test_df.set_index('date', inplace=True)\n",
    "full_df.set_index('date', inplace=True)"
   ]
  },
  {
   "cell_type": "markdown",
   "metadata": {},
   "source": [
    "Проведем чистку от пропущенных значений в обучающей и тестовой выборке"
   ]
  },
  {
   "cell_type": "code",
   "execution_count": 19,
   "metadata": {},
   "outputs": [],
   "source": [
    "# new_train_df = train_df.dropna()\n",
    "# new_test_df = test_df.dropna()"
   ]
  },
  {
   "cell_type": "markdown",
   "metadata": {},
   "source": [
    "<font color='darkorange'> Такое решение допустимо, но мы теряем данные.\\\n",
    "В условиях сказано, что соседние данные похожи. Можно протестировать работу моделей с заполнением по этому условию.</font>"
   ]
  },
  {
   "cell_type": "markdown",
   "metadata": {},
   "source": [
    "<font color='purple'>\n",
    "Класс KNNImputer для заполнения пропущенных значений с использованием подхода к-ближайших соседей."
   ]
  },
  {
   "cell_type": "code",
   "execution_count": 20,
   "metadata": {},
   "outputs": [],
   "source": [
    "from sklearn.impute import KNNImputer\n",
    "\n",
    "def KNN_imputer(data, n_neighbors):\n",
    "\n",
    "    data_columns = data.columns\n",
    "    index = data.index\n",
    "    imputer = KNNImputer(n_neighbors=n_neighbors)\n",
    "    imputer.fit_transform(data)\n",
    "    \n",
    "    return pd.DataFrame(imputer.fit_transform(data), columns=data_columns, index=index)"
   ]
  },
  {
   "cell_type": "code",
   "execution_count": 21,
   "metadata": {},
   "outputs": [],
   "source": [
    "new_train_df = KNN_imputer(train_df, 5)\n",
    "new_test_df = KNN_imputer(test_df, 5)"
   ]
  },
  {
   "cell_type": "code",
   "execution_count": 22,
   "metadata": {},
   "outputs": [
    {
     "name": "stdout",
     "output_type": "stream",
     "text": [
      "Колличество пропусков до обработки данных в обучающей выборке: 1705\n",
      "Колличество пропусков после обработки данных в обучающей выборке: 0\n",
      "Колличество пропусков до обработки данных в тестовой выборке: 90\n",
      "Колличество пропусков после обработки данны в тествой выборке: 0\n"
     ]
    }
   ],
   "source": [
    "print('Колличество пропусков до обработки данных в обучающей выборке:', train_df.isnull().sum().sum())\n",
    "print('Колличество пропусков после обработки данных в обучающей выборке:', new_train_df.isnull().sum().sum())\n",
    "print('Колличество пропусков до обработки данных в тестовой выборке:', test_df.isnull().sum().sum())\n",
    "print('Колличество пропусков после обработки данны в тествой выборке:', new_test_df.isnull().sum().sum())"
   ]
  },
  {
   "cell_type": "markdown",
   "metadata": {},
   "source": [
    "Пропуски заполнены. Лишние признаки удалены и смело перейдём к следующему шагу."
   ]
  },
  {
   "cell_type": "markdown",
   "metadata": {},
   "source": [
    "## Анализ данных"
   ]
  },
  {
   "cell_type": "markdown",
   "metadata": {},
   "source": [
    "### Анализ концентрации металлов на различных этапах очистки"
   ]
  },
  {
   "cell_type": "markdown",
   "metadata": {},
   "source": [
    "Итак, чтобы в ручную не искать в в 87 столбцах нужные нам значения отберём их по названию металла в столбцах."
   ]
  },
  {
   "cell_type": "code",
   "execution_count": 23,
   "metadata": {},
   "outputs": [
    {
     "data": {
      "text/plain": [
       "(Index(['final.output.concentrate_au', 'final.output.tail_au',\n",
       "        'primary_cleaner.output.concentrate_au',\n",
       "        'primary_cleaner.output.tail_au', 'rougher.input.feed_au',\n",
       "        'rougher.output.concentrate_au', 'rougher.output.tail_au',\n",
       "        'secondary_cleaner.output.tail_au'],\n",
       "       dtype='object'),\n",
       " Index(['final.output.concentrate_ag', 'final.output.tail_ag',\n",
       "        'primary_cleaner.output.concentrate_ag',\n",
       "        'primary_cleaner.output.tail_ag', 'rougher.input.feed_ag',\n",
       "        'rougher.output.concentrate_ag', 'rougher.output.tail_ag',\n",
       "        'secondary_cleaner.output.tail_ag'],\n",
       "       dtype='object'),\n",
       " Index(['final.output.concentrate_pb', 'final.output.tail_pb',\n",
       "        'primary_cleaner.output.concentrate_pb',\n",
       "        'primary_cleaner.output.tail_pb', 'rougher.input.feed_pb',\n",
       "        'rougher.output.concentrate_pb', 'rougher.output.tail_pb',\n",
       "        'secondary_cleaner.output.tail_pb'],\n",
       "       dtype='object'))"
      ]
     },
     "execution_count": 23,
     "metadata": {},
     "output_type": "execute_result"
    }
   ],
   "source": [
    "full_df.columns[full_df.columns.str.endswith('au')], full_df.columns[full_df.columns.str.endswith('ag')],\\\n",
    "full_df.columns[full_df.columns.str.endswith('pb')]"
   ]
  },
  {
   "cell_type": "markdown",
   "metadata": {},
   "source": [
    "Теперь так куда проще искать. Отберём нужные нам столбцы, а именно:\n",
    "\n",
    "* сырьё в исходном виде\n",
    "* после флотации\n",
    "* после первичной обработки\n",
    "* финальный концентрат\n"
   ]
  },
  {
   "cell_type": "code",
   "execution_count": 24,
   "metadata": {},
   "outputs": [],
   "source": [
    "AU = full_df[['rougher.input.feed_au', 'rougher.output.concentrate_au', 'primary_cleaner.output.concentrate_au', \\\n",
    "            'final.output.concentrate_au']].dropna()\n",
    "AG = full_df[['rougher.input.feed_ag', 'rougher.output.concentrate_ag', 'primary_cleaner.output.concentrate_ag', \\\n",
    "            'final.output.concentrate_ag']].dropna()\n",
    "PB = full_df[['rougher.input.feed_pb', 'rougher.output.concentrate_pb', 'primary_cleaner.output.concentrate_pb', \\\n",
    "            'final.output.concentrate_pb']].dropna()"
   ]
  },
  {
   "cell_type": "markdown",
   "metadata": {},
   "source": [
    "Теперь посмотрим как меняется концентрация металлов на разных стадиях очистки."
   ]
  },
  {
   "cell_type": "code",
   "execution_count": 25,
   "metadata": {},
   "outputs": [
    {
     "name": "stdout",
     "output_type": "stream",
     "text": [
      "Концентрация до флотации:\n",
      "серебро: 8.59, свинец: 3.54, золото: 8.13\n",
      "\n",
      "Концентрация после флотации:\n",
      "серебро: 12.10, свинец: 7.75, золото: 20.28\n",
      "\n",
      "Концентрация после первичной очистки:\n",
      "серебро: 8.51, свинец: 10.16, золото: 32.84\n",
      "\n",
      "Финальный концентрат:\n",
      "серебро: 5.07, свинец: 10.12, золото: 45.01\n"
     ]
    }
   ],
   "source": [
    "print('Концентрация до флотации:')\n",
    "print('серебро:{: 0.2f}, свинец:{: 0.2f}, золото:{: 0.2f}'.format(AG['rougher.input.feed_ag'].median(),\n",
    "PB['rougher.input.feed_pb'].median(),\n",
    "AU['rougher.input.feed_au'].median()))\n",
    "print()\n",
    "print('Концентрация после флотации:')\n",
    "print('серебро:{: 0.2f}, свинец:{: 0.2f}, золото:{: 0.2f}'.format(AG['rougher.output.concentrate_ag'].median(),\n",
    "PB['rougher.output.concentrate_pb'].median(),\n",
    "AU['rougher.output.concentrate_au'].median()))\n",
    "print()\n",
    "print('Концентрация после первичной очистки:')\n",
    "print('серебро:{: 0.2f}, свинец:{: 0.2f}, золото:{: 0.2f}'.format(AG['primary_cleaner.output.concentrate_ag'].median(),\n",
    "PB['primary_cleaner.output.concentrate_pb'].median(),\n",
    "AU['primary_cleaner.output.concentrate_au'].median()))\n",
    "print()\n",
    "print('Финальный концентрат:')\n",
    "print('серебро:{: 0.2f}, свинец:{: 0.2f}, золото:{: 0.2f}'.format(AG['final.output.concentrate_ag'].median(),\n",
    "PB['final.output.concentrate_pb'].median(),\n",
    "AU['final.output.concentrate_au'].median()))"
   ]
  },
  {
   "cell_type": "code",
   "execution_count": 26,
   "metadata": {},
   "outputs": [
    {
     "data": {
      "image/png": "[encoded data removed]",
      "text/plain": [
       "<Figure size 1080x504 with 1 Axes>"
      ]
     },
     "metadata": {
      "needs_background": "light"
     },
     "output_type": "display_data"
    }
   ],
   "source": [
    "plt.figure(figsize=[15,7])\n",
    "ax = plt.gca()\n",
    "AU.plot(kind='hist',y = 'rougher.input.feed_au', bins=100,alpha=0.9, ax=ax, color='m', label='Сырье')\n",
    "AU.plot(kind='hist',y = 'rougher.output.concentrate_au', bins=100,alpha=0.5, ax=ax, color='g', label='После флотации')\n",
    "AU.plot(kind='hist',y = 'primary_cleaner.output.concentrate_au', bins=100,alpha=0.5, ax=ax, color='r', label='Первичная очистка')\n",
    "AU.plot(kind='hist',y = 'final.output.concentrate_au', bins=100,alpha=0.5, ax=ax, color='b', label='Финальный концентрат')\n",
    "\n",
    "plt.xlim([0, 60])\n",
    "plt.ylim([0, 2200])\n",
    "\n",
    "plt.xlabel(\"Концентрация золота на выходе этапов\")\n",
    "plt.ylabel(\"Количество результатов\")\n",
    "\n",
    "plt.legend(loc='upper left', fontsize='x-large')\n",
    "\n",
    "plt.title(\"Гистограмма распределения концентрации золота на разных этапах\")\n",
    "plt.show()"
   ]
  },
  {
   "cell_type": "markdown",
   "metadata": {},
   "source": [
    "Концентрация золота повышается с каждым этапом. Цель флотации и очисток увеличить концентрацию золота."
   ]
  },
  {
   "cell_type": "code",
   "execution_count": 27,
   "metadata": {
    "scrolled": false
   },
   "outputs": [
    {
     "data": {
      "image/png": "[encoded data removed]",
      "text/plain": [
       "<Figure size 1080x504 with 1 Axes>"
      ]
     },
     "metadata": {
      "needs_background": "light"
     },
     "output_type": "display_data"
    }
   ],
   "source": [
    "plt.figure(figsize=[15,7])\n",
    "ax = plt.gca()\n",
    "AG.plot(kind='hist',y = 'rougher.input.feed_ag', bins=100,alpha=0.9, ax=ax, color='m', label='Сырье')\n",
    "AG.plot(kind='hist',y = 'rougher.output.concentrate_ag', bins=100,alpha=0.5, ax=ax, color='g', label='После флотации')\n",
    "AG.plot(kind='hist',y = 'primary_cleaner.output.concentrate_ag', bins=100,alpha=0.5, ax=ax, color='r', label='Первичная очистка')\n",
    "AG.plot(kind='hist',y = 'final.output.concentrate_ag', bins=100,alpha=0.5, ax=ax, color='b', label='Финальный концентрат')\n",
    "\n",
    "plt.xlim([0, 20])\n",
    "plt.ylim([0, 1100])\n",
    "\n",
    "plt.xlabel(\"Концентрация золота на выходе этапов\")\n",
    "plt.ylabel(\"Количество результатов\")\n",
    "\n",
    "plt.legend(loc='upper right', fontsize='x-large')\n",
    "\n",
    "plt.title(\"Гистограмма распределения концентрации серебра на разных этапах\")\n",
    "plt.show()"
   ]
  },
  {
   "cell_type": "markdown",
   "metadata": {},
   "source": [
    "Концентрация серебра понижается с каждым этапом, не считая сырья. Так как главная цель - добыть золото, значит уменьшение серебра логично."
   ]
  },
  {
   "cell_type": "code",
   "execution_count": 28,
   "metadata": {
    "scrolled": false
   },
   "outputs": [
    {
     "data": {
      "image/png": "[encoded data removed]",
      "text/plain": [
       "<Figure size 1080x504 with 1 Axes>"
      ]
     },
     "metadata": {
      "needs_background": "light"
     },
     "output_type": "display_data"
    }
   ],
   "source": [
    "plt.figure(figsize=[15,7])\n",
    "ax = plt.gca()\n",
    "PB.plot(kind='hist',y = 'rougher.input.feed_pb', bins=100,alpha=0.9, ax=ax, color='m', label='Сырье')\n",
    "PB.plot(kind='hist',y = 'rougher.output.concentrate_pb', bins=100,alpha=0.5, ax=ax, color='g', label='После флотации')\n",
    "PB.plot(kind='hist',y = 'primary_cleaner.output.concentrate_pb', bins=100,alpha=0.5, ax=ax, color='r', label='Первичная очистка')\n",
    "PB.plot(kind='hist',y = 'final.output.concentrate_pb', bins=100,alpha=0.5, ax=ax, color='b', label='Финальный концентрат')\n",
    "\n",
    "plt.xlim([0, 18])\n",
    "plt.ylim([0, 1000])\n",
    "\n",
    "plt.xlabel(\"Концентрация золота на выходе этапов\")\n",
    "plt.ylabel(\"Количество результатов\")\n",
    "\n",
    "plt.legend(loc='upper right', fontsize='x-large')\n",
    "\n",
    "plt.title(\"Гистограмма распределения концентрации свинца на разных этапах\")\n",
    "plt.show()"
   ]
  },
  {
   "cell_type": "markdown",
   "metadata": {},
   "source": [
    "Концентрация свинца повышается начиная с сырья до этапа первичной очистки. И потом усредняется. Может быть на него как-то влияют реагенты...надо уточнить нормально ли такое поведение."
   ]
  },
  {
   "cell_type": "markdown",
   "metadata": {},
   "source": [
    "<b>Вывод:</b> Можно наблюдать, что с каждым этапом очистки концентрация золота заметно увеличивается, в то время как концентрация серебра наоборот снижается. Свинец показывает небольшое увелечение концентрации. "
   ]
  },
  {
   "cell_type": "markdown",
   "metadata": {},
   "source": [
    "### Сравнение распределения размеров гранул сырья на обучающей и тестовой выборках"
   ]
  },
  {
   "cell_type": "code",
   "execution_count": 29,
   "metadata": {},
   "outputs": [
    {
     "data": {
      "image/png": "[encoded data removed]",
      "text/plain": [
       "<Figure size 1080x504 with 1 Axes>"
      ]
     },
     "metadata": {
      "needs_background": "light"
     },
     "output_type": "display_data"
    }
   ],
   "source": [
    "plt.figure(figsize=[15,7])\n",
    "\n",
    "new_test_df['rougher.input.feed_size'].hist(bins=200, alpha=0.7, color='g',label = 'тестовая выборка')\n",
    "new_train_df['rougher.input.feed_size'].hist(bins=200, alpha=0.3, color='m', label = 'обучающая выборка' )\n",
    "\n",
    "plt.title('Гистограмма распределения гранул сырья перед флотацией')\n",
    "plt.xlabel('Размер гранул сырья')\n",
    "plt.ylabel('Количество результатов')\n",
    "plt.legend(loc='upper right', fontsize='x-large')\n",
    "plt.show()"
   ]
  },
  {
   "cell_type": "markdown",
   "metadata": {},
   "source": [
    "Распределение гранул до флотации похоже на нормальное со смещением вправо как в обучающей, так и в тестовой выбрке. Существует много выбросов после размера гранул 100."
   ]
  },
  {
   "cell_type": "code",
   "execution_count": 30,
   "metadata": {},
   "outputs": [
    {
     "data": {
      "image/png": "[encoded data removed]",
      "text/plain": [
       "<Figure size 1080x504 with 1 Axes>"
      ]
     },
     "metadata": {
      "needs_background": "light"
     },
     "output_type": "display_data"
    }
   ],
   "source": [
    "plt.figure(figsize=[15,7])\n",
    "\n",
    "new_test_df['primary_cleaner.input.feed_size'].hist(bins=200, alpha=0.7, color='g',label = 'тестовая выборка')\n",
    "new_train_df['primary_cleaner.input.feed_size'].hist(bins=200, alpha=0.3, color='m', label = 'обучающая выборка' )\n",
    "\n",
    "plt.title('Гистограмма распределения гранул сырья перед первичной очисткой')\n",
    "plt.xlabel('Размер гранул сырья')\n",
    "plt.ylabel('Количество результатов')\n",
    "plt.legend(loc='upper right', fontsize='x-large')\n",
    "plt.show()"
   ]
  },
  {
   "cell_type": "markdown",
   "metadata": {},
   "source": [
    "Размеры гранул перед первичной очисткой обладают нормальным распределением.  \n",
    "распределения похожи, можно обучать"
   ]
  },
  {
   "cell_type": "markdown",
   "metadata": {},
   "source": [
    "### Суммарная концентрация всех веществ на разных стадиях"
   ]
  },
  {
   "cell_type": "code",
   "execution_count": 31,
   "metadata": {},
   "outputs": [
    {
     "data": {
      "image/png": "[encoded data removed]",
      "text/plain": [
       "<Figure size 1080x504 with 1 Axes>"
      ]
     },
     "metadata": {
      "needs_background": "light"
     },
     "output_type": "display_data"
    }
   ],
   "source": [
    "feed_concentrate = full_df['rougher.input.feed_ag'] + full_df['rougher.input.feed_pb'] +\\\n",
    "                    full_df['rougher.input.feed_sol'] + full_df['rougher.input.feed_au']\n",
    "rougher_concentrate = full_df['rougher.output.concentrate_ag'] + full_df['rougher.output.concentrate_pb'] +\\\n",
    "                    full_df['rougher.output.concentrate_sol'] + full_df['rougher.output.concentrate_au']\n",
    "final_concentrate = full_df['final.output.concentrate_ag'] + full_df['final.output.concentrate_pb'] +\\\n",
    "                    full_df['final.output.concentrate_sol'] + full_df['final.output.concentrate_au']\n",
    "\n",
    "plt.figure(figsize=[15,7])\n",
    "feed_concentrate.hist(bins=100, alpha=0.5, color = 'm')\n",
    "rougher_concentrate.hist(bins=100, alpha=0.5)\n",
    "final_concentrate.hist(bins=100, alpha=0.5)\n",
    "plt.legend(['Сырьё', 'черновой концентрат', 'финальный концентрат'], loc='upper left', fontsize='x-large')\n",
    "plt.title('Суммарная концентрация всех веществ на разных стадиях')\n",
    "plt.xlabel('Суммарная концентраця')\n",
    "plt.ylabel('Количество результатов')\n",
    "plt.show()"
   ]
  },
  {
   "cell_type": "markdown",
   "metadata": {},
   "source": [
    "Видим, что аномальные значения лежат где-то возле нуля.  \n",
    "также прослеживаются очень маленькие значения до 30. Однако убирать все, что до 30 будет неправильно, так как в реальных результатах так тоже что- то будет. Поэтому для лучшего обучения, их оставим.  \n",
    "Но значения возле нуля действительно кажутся выпадающими, и их стоит убрать.  "
   ]
  },
  {
   "cell_type": "code",
   "execution_count": 32,
   "metadata": {},
   "outputs": [],
   "source": [
    "full_df = full_df.query('@feed_concentrate > 1 & @rougher_concentrate > 1 & @final_concentrate > 1')"
   ]
  },
  {
   "cell_type": "markdown",
   "metadata": {},
   "source": [
    "<font color='green'> Выбросы удалены. (в полном датасете)</font>"
   ]
  },
  {
   "cell_type": "markdown",
   "metadata": {},
   "source": [
    "Добавим в тестовую и обучающую выборки целевые выборки из полной выборки.  \n",
    "Сделаем так, чтобы индексы в выборках совпадали. как раз и выбросы уйдут"
   ]
  },
  {
   "cell_type": "code",
   "execution_count": 33,
   "metadata": {},
   "outputs": [],
   "source": [
    "train_last = pd.merge(new_train_df, full_df[['rougher.output.recovery', 'final.output.recovery']],\n",
    "                    left_index=True, right_index=True)"
   ]
  },
  {
   "cell_type": "code",
   "execution_count": 34,
   "metadata": {},
   "outputs": [],
   "source": [
    "test_last = pd.merge(new_test_df, full_df[['rougher.output.recovery', 'final.output.recovery']],\n",
    "         left_index=True, right_index=True)"
   ]
  },
  {
   "cell_type": "markdown",
   "metadata": {},
   "source": [
    "Теперь данные готовы к обучению."
   ]
  },
  {
   "cell_type": "markdown",
   "metadata": {},
   "source": [
    "## Модель"
   ]
  },
  {
   "cell_type": "markdown",
   "metadata": {},
   "source": [
    "### Деление выборок"
   ]
  },
  {
   "cell_type": "markdown",
   "metadata": {},
   "source": [
    "Для начала разделим нашу выборку на признаки и целевые признаки."
   ]
  },
  {
   "cell_type": "code",
   "execution_count": 35,
   "metadata": {},
   "outputs": [],
   "source": [
    "train_f = train_last.drop(['rougher.output.recovery', 'final.output.recovery'], axis=1) #признаки\n",
    "train_rougher = train_last['rougher.output.recovery'] #target 1\n",
    "train_final = train_last['final.output.recovery']# target 2\n",
    "\n",
    "test_f = test_last.drop(['rougher.output.recovery', 'final.output.recovery'], axis=1) #признаки\n",
    "test_rougher = test_last['rougher.output.recovery'] #target 1\n",
    "test_final = test_last['final.output.recovery']# target 2"
   ]
  },
  {
   "cell_type": "markdown",
   "metadata": {},
   "source": [
    "### Метрики для обучения"
   ]
  },
  {
   "cell_type": "markdown",
   "metadata": {},
   "source": [
    "Напишем для них функции"
   ]
  },
  {
   "cell_type": "markdown",
   "metadata": {},
   "source": [
    "![jupyter](https://pictures.s3.yandex.net/resources/smape_1576239058.jpg)"
   ]
  },
  {
   "cell_type": "code",
   "execution_count": 36,
   "metadata": {},
   "outputs": [],
   "source": [
    "def smape(true, pred):\n",
    "    return 100/len(true) * np.sum(2 * np.abs(pred - true) / (np.abs(true) + np.abs(pred)))"
   ]
  },
  {
   "cell_type": "markdown",
   "metadata": {},
   "source": [
    "![jupyter](https://pictures.s3.yandex.net/resources/_smape_1576239054.jpg)"
   ]
  },
  {
   "cell_type": "code",
   "execution_count": 37,
   "metadata": {},
   "outputs": [],
   "source": [
    "def the_total_smape(smape_rougher,smape_final):\n",
    "    return (0.25 * smape_rougher + 0.75 * smape_final)"
   ]
  },
  {
   "cell_type": "code",
   "execution_count": 38,
   "metadata": {},
   "outputs": [],
   "source": [
    "smape_score = make_scorer(smape, greater_is_better=False)"
   ]
  },
  {
   "cell_type": "markdown",
   "metadata": {},
   "source": [
    "### Обучение моделей и оценки их качества кросс-валидацией"
   ]
  },
  {
   "cell_type": "markdown",
   "metadata": {},
   "source": [
    "#### Решающее дерево"
   ]
  },
  {
   "cell_type": "code",
   "execution_count": 39,
   "metadata": {},
   "outputs": [
    {
     "name": "stdout",
     "output_type": "stream",
     "text": [
      "{'max_depth': 3}\n",
      "-7.0268513036990345\n",
      "{'max_depth': 1}\n",
      "-9.077618240854763\n",
      "CPU times: user 26.4 s, sys: 57.6 ms, total: 26.4 s\n",
      "Wall time: 27.5 s\n"
     ]
    }
   ],
   "source": [
    "%%time\n",
    "\n",
    "DTR = DecisionTreeRegressor(random_state = 12345)\n",
    "parameters_grid = {'max_depth' : range(1,11)}\n",
    "DTR_model_rougher = GridSearchCV(DTR, parameters_grid, cv=5, scoring = smape_score)\n",
    "DTR_model_final = GridSearchCV(DTR, parameters_grid, cv=5, scoring = smape_score)\n",
    "#обучаем обе\n",
    "DTR_model_rougher.fit(train_f, train_rougher)\n",
    "DTR_model_final.fit(train_f, train_final)\n",
    "\n",
    "print(DTR_model_rougher.best_params_)\n",
    "print(DTR_model_rougher.best_score_)\n",
    "print(DTR_model_final.best_params_)\n",
    "print(DTR_model_final.best_score_)"
   ]
  },
  {
   "cell_type": "code",
   "execution_count": 40,
   "metadata": {},
   "outputs": [
    {
     "name": "stdout",
     "output_type": "stream",
     "text": [
      "DecisionTreeRegressor(max_depth=3, random_state=12345)\n",
      "DecisionTreeRegressor(max_depth=1, random_state=12345)\n"
     ]
    }
   ],
   "source": [
    "print(DTR_model_rougher.best_estimator_)\n",
    "print(DTR_model_final.best_estimator_)"
   ]
  },
  {
   "cell_type": "markdown",
   "metadata": {},
   "source": [
    "#### Случайный лес"
   ]
  },
  {
   "cell_type": "code",
   "execution_count": 41,
   "metadata": {},
   "outputs": [
    {
     "name": "stdout",
     "output_type": "stream",
     "text": [
      "{'max_depth': 3, 'n_estimators': 30}\n",
      "-6.8310532796316155\n",
      "{'max_depth': 4, 'n_estimators': 50}\n",
      "-8.467055804773285\n",
      "CPU times: user 7min 1s, sys: 558 ms, total: 7min 1s\n",
      "Wall time: 7min 2s\n"
     ]
    }
   ],
   "source": [
    "%%time\n",
    "\n",
    "RFR = RandomForestRegressor(random_state = 12345)\n",
    "parameters_grid = {\"max_depth\": range(1,6),\n",
    "                  \"n_estimators\": range(10,51,20)}\n",
    "\n",
    "RFR_model_rougher = GridSearchCV(RFR, parameters_grid, cv=5, scoring = smape_score)\n",
    "RFR_model_final = GridSearchCV(RFR, parameters_grid, cv=5, scoring = smape_score)\n",
    "#обучаем обе\n",
    "RFR_model_rougher.fit(train_f, train_rougher)\n",
    "RFR_model_final.fit(train_f, train_final)\n",
    "\n",
    "print(RFR_model_rougher.best_params_)\n",
    "print(RFR_model_rougher.best_score_)\n",
    "print(RFR_model_final.best_params_)\n",
    "print(RFR_model_final.best_score_)"
   ]
  },
  {
   "cell_type": "code",
   "execution_count": 42,
   "metadata": {},
   "outputs": [
    {
     "name": "stdout",
     "output_type": "stream",
     "text": [
      "RandomForestRegressor(max_depth=3, n_estimators=30, random_state=12345)\n",
      "RandomForestRegressor(max_depth=4, n_estimators=50, random_state=12345)\n"
     ]
    }
   ],
   "source": [
    "print(RFR_model_rougher.best_estimator_)\n",
    "print(RFR_model_final.best_estimator_)"
   ]
  },
  {
   "cell_type": "markdown",
   "metadata": {},
   "source": [
    "#### Линейная регрессия"
   ]
  },
  {
   "cell_type": "code",
   "execution_count": 43,
   "metadata": {
    "scrolled": false
   },
   "outputs": [
    {
     "name": "stdout",
     "output_type": "stream",
     "text": [
      "CPU times: user 2.36 s, sys: 6.34 s, total: 8.7 s\n",
      "Wall time: 8.67 s\n"
     ]
    }
   ],
   "source": [
    "%%time\n",
    "\n",
    "LR_model_rougher = LinearRegression()\n",
    "LR_model_final = LinearRegression()\n",
    "\n",
    "LR_model_rougher.fit(train_f, train_rougher)\n",
    "LR_model_final.fit(train_f, train_final)\n",
    "\n",
    "best_score_rougher_LR = cross_val_score(LR_model_rougher, train_f, train_rougher, cv=5, scoring=smape_score).mean()\n",
    "best_score_final_LR = cross_val_score(LR_model_final, train_f, train_final, cv=5, scoring=smape_score).mean()"
   ]
  },
  {
   "cell_type": "markdown",
   "metadata": {},
   "source": [
    "Посчитаем final_smape для этих 3 моделей с лучшими параметрами:"
   ]
  },
  {
   "cell_type": "code",
   "execution_count": 44,
   "metadata": {},
   "outputs": [],
   "source": [
    "best_score_rougher_DTR = DTR_model_rougher.best_score_\n",
    "best_score_final_DTR = DTR_model_final.best_score_\n",
    "best_score_rougher_RFR = RFR_model_rougher.best_score_\n",
    "best_score_final_RFR = RFR_model_final.best_score_"
   ]
  },
  {
   "cell_type": "code",
   "execution_count": 45,
   "metadata": {
    "scrolled": true
   },
   "outputs": [
    {
     "name": "stdout",
     "output_type": "stream",
     "text": [
      "rougher\n",
      "DecisionTree -7.0268513036990345 RandomForest -6.8310532796316155 LinearRegression -7.1356970041785415\n",
      "final\n",
      "DecisionTree -9.077618240854763 RandomForest -8.467055804773285 LinearRegression -10.044615479414025\n"
     ]
    }
   ],
   "source": [
    "print(\"rougher\")\n",
    "print(\"DecisionTree\",best_score_rougher_DTR,\"RandomForest\",best_score_rougher_RFR,\"LinearRegression\",best_score_rougher_LR)\n",
    "print(\"final\")\n",
    "print(\"DecisionTree\",best_score_final_DTR, \"RandomForest\",best_score_final_RFR,\"LinearRegression\",best_score_final_LR)"
   ]
  },
  {
   "cell_type": "code",
   "execution_count": 46,
   "metadata": {},
   "outputs": [
    {
     "name": "stdout",
     "output_type": "stream",
     "text": [
      "smape:\n",
      "DecisionTree -8.56492650656583 RandomForest -8.058055173487867 LinearRegression -9.317385860605153\n"
     ]
    }
   ],
   "source": [
    "print('smape:')\n",
    "print(\"DecisionTree\",the_total_smape(best_score_rougher_DTR,best_score_final_DTR),\\\n",
    "      \"RandomForest\",the_total_smape(best_score_rougher_RFR,best_score_final_RFR),\\\n",
    "      \"LinearRegression\",the_total_smape(best_score_rougher_LR,best_score_final_LR))"
   ]
  },
  {
   "cell_type": "markdown",
   "metadata": {},
   "source": [
    "Теперь попробуем сделать кросс валидацию."
   ]
  },
  {
   "cell_type": "markdown",
   "metadata": {},
   "source": [
    "#### Кросс-валидация"
   ]
  },
  {
   "cell_type": "code",
   "execution_count": 47,
   "metadata": {},
   "outputs": [
    {
     "name": "stdout",
     "output_type": "stream",
     "text": [
      "CPU times: user 7min 27s, sys: 4.14 s, total: 7min 31s\n",
      "Wall time: 7min 32s\n"
     ]
    }
   ],
   "source": [
    "%%time\n",
    "\n",
    "random_state = 12345\n",
    "cv = 5\n",
    "models = [DecisionTreeRegressor(random_state =random_state),\n",
    "         RandomForestRegressor(random_state =random_state),\n",
    "          LinearRegression()]\n",
    "\n",
    "results_crossval = []\n",
    "results_smape = []\n",
    "for model in models:\n",
    "    smape_score = make_scorer(smape, greater_is_better=False)\n",
    "    crossval_score_rougher = cross_val_score(model, train_f, train_rougher, cv=cv, scoring=smape_score).mean()\n",
    "    crossval_score_final = cross_val_score(model, train_f, train_final, cv=cv, scoring=smape_score).mean()\n",
    "    results_crossval.append({'model name': model.__class__.__name__,\n",
    "                            'crossval_score_rougher': crossval_score_rougher,\n",
    "                            'crossval_score_final': crossval_score_final})\n",
    "    results_smape.append({'model name': model.__class__.__name__,\n",
    "                          'the_total_smape':the_total_smape(crossval_score_rougher,crossval_score_final)})"
   ]
  },
  {
   "cell_type": "code",
   "execution_count": 48,
   "metadata": {},
   "outputs": [
    {
     "data": {
      "text/plain": [
       "[{'model name': 'DecisionTreeRegressor',\n",
       "  'crossval_score_rougher': -9.84795035097594,\n",
       "  'crossval_score_final': -17.370893417913667},\n",
       " {'model name': 'RandomForestRegressor',\n",
       "  'crossval_score_rougher': -8.800874174078539,\n",
       "  'crossval_score_final': -9.114388083259755},\n",
       " {'model name': 'LinearRegression',\n",
       "  'crossval_score_rougher': -7.1356970041785415,\n",
       "  'crossval_score_final': -10.044615479414025}]"
      ]
     },
     "execution_count": 48,
     "metadata": {},
     "output_type": "execute_result"
    }
   ],
   "source": [
    "results_crossval"
   ]
  },
  {
   "cell_type": "code",
   "execution_count": 49,
   "metadata": {},
   "outputs": [
    {
     "data": {
      "text/plain": [
       "[{'model name': 'DecisionTreeRegressor',\n",
       "  'the_total_smape': -15.490157651179237},\n",
       " {'model name': 'RandomForestRegressor', 'the_total_smape': -9.03600960596445},\n",
       " {'model name': 'LinearRegression', 'the_total_smape': -9.317385860605153}]"
      ]
     },
     "execution_count": 49,
     "metadata": {},
     "output_type": "execute_result"
    }
   ],
   "source": [
    "results_smape"
   ]
  },
  {
   "cell_type": "markdown",
   "metadata": {},
   "source": [
    "Наименьшую ошибку мы получили при использовании рандомного леса"
   ]
  },
  {
   "cell_type": "markdown",
   "metadata": {},
   "source": [
    "### Тестовая выборка"
   ]
  },
  {
   "cell_type": "code",
   "execution_count": 50,
   "metadata": {},
   "outputs": [
    {
     "name": "stdout",
     "output_type": "stream",
     "text": [
      "Финальная ошибка на тестовой выборке\n",
      "7.028679670033125\n"
     ]
    }
   ],
   "source": [
    "rougher_pred = RFR_model_rougher.predict(test_f)\n",
    "final_pred = RFR_model_final.predict(test_f)\n",
    "print('Финальная ошибка на тестовой выборке')\n",
    "print(the_total_smape(smape(test_rougher,rougher_pred),smape(test_final,final_pred)))"
   ]
  },
  {
   "cell_type": "markdown",
   "metadata": {},
   "source": [
    "Оценки получены. Теперь напишем константную модель и посмотрим верно ли предсказывает наша модель. Пусть наша константная модель предсказывает средние значения."
   ]
  },
  {
   "cell_type": "code",
   "execution_count": 51,
   "metadata": {},
   "outputs": [
    {
     "data": {
      "text/plain": [
       "DummyRegressor()"
      ]
     },
     "execution_count": 51,
     "metadata": {},
     "output_type": "execute_result"
    }
   ],
   "source": [
    "dummy_rougher = DummyRegressor(strategy = 'mean')\n",
    "dummy_final = DummyRegressor(strategy = 'mean')\n",
    "# и обучим их на наших данных\n",
    "dummy_rougher.fit(train_f,train_rougher)\n",
    "dummy_final.fit(train_f,train_final)"
   ]
  },
  {
   "cell_type": "code",
   "execution_count": 52,
   "metadata": {},
   "outputs": [],
   "source": [
    "dummy_rougher_pred = dummy_rougher.predict(test_f)\n",
    "dummy_final_pred = dummy_final.predict(test_f)"
   ]
  },
  {
   "cell_type": "code",
   "execution_count": 53,
   "metadata": {},
   "outputs": [
    {
     "data": {
      "text/plain": [
       "7.5265484724597975"
      ]
     },
     "execution_count": 53,
     "metadata": {},
     "output_type": "execute_result"
    }
   ],
   "source": [
    "the_total_smape(smape(test_rougher,dummy_rougher_pred),smape(test_final,dummy_final_pred))"
   ]
  },
  {
   "cell_type": "markdown",
   "metadata": {},
   "source": [
    "Видим, что наша метрика получилась ниже, чем на константной модели. Значит мы сделали всё верно."
   ]
  },
  {
   "cell_type": "markdown",
   "metadata": {},
   "source": [
    "<b>Вывод:</b>  \n",
    "    Была написана функция для вычисления smape.  \n",
    "    Каждая модель была изучена на качество с помощью методов кросс-валидации и поиска гипер параметром GridSearchCV.  \n",
    "    Была выбрана лучшая модель - RandomForestRegressor. Ее значение smape самое низкое.  \n",
    "    В полных данных отсутвует 14% и 10% данных."
   ]
  },
  {
   "cell_type": "markdown",
   "metadata": {},
   "source": [
    "## Вывод"
   ]
  },
  {
   "cell_type": "markdown",
   "metadata": {},
   "source": [
    "В ходе работы было выполнено: \n",
    "\n",
    "Подготовлены данные.    \n",
    "Проведен исследовательский анализ данных.   \n",
    "Построены и обучены модели.   \n",
    "\n",
    "Итоговая модель построена на алгоритме RandomForestRegressor\n",
    "Ошибка на тестовой выборке: 7.314\n",
    "Ошибка на константной модели: 7.538\n",
    "Можно сказать, что наша модель адекватнее константной, но совсем не намного.\n",
    "Может быть в данном случае действительно хватило бы ее.\n",
    "\n",
    "Параметр recovery в тренировочной выборке был рассчитан верно.\n",
    "Изначально, в тестовой выборке отсутствует 34 признака."
   ]
  },
  {
   "cell_type": "markdown",
   "metadata": {},
   "source": [
    "## Чек-лист готовности проекта"
   ]
  },
  {
   "cell_type": "markdown",
   "metadata": {},
   "source": [
    "- [x]  Jupyter Notebook открыт\n",
    "- [x]  Весь код выполняется без ошибок\n",
    "- [x]  Ячейки с кодом расположены в порядке выполнения\n",
    "- [x]  Выполнен шаг 1: данные подготовлены\n",
    "    - [x]  Проверена формула вычисления эффективности обогащения\n",
    "    - [x]  Проанализированы признаки, недоступные в тестовой выборке\n",
    "    - [x]  Проведена предобработка данных\n",
    "- [x]  Выполнен шаг 2: данные проанализированы\n",
    "    - [x]  Исследовано изменение концентрации элементов на каждом этапе\n",
    "    - [x]  Проанализированы распределения размеров гранул на обучающей и тестовой выборках\n",
    "    - [x]  Исследованы суммарные концентрации\n",
    "- [x]  Выполнен шаг 3: построена модель прогнозирования\n",
    "    - [x]  Написана функция для вычисления итогового *sMAPE*\n",
    "    - [x]  Обучено и проверено несколько моделей\n",
    "    - [x]  Выбрана лучшая модель, её качество проверено на тестовой выборке"
   ]
  }
 ],
 "metadata": {
  "ExecuteTimeLog": [
   {
    "duration": 42,
    "start_time": "2022-07-01T17:40:34.577Z"
   },
   {
    "duration": 6,
    "start_time": "2022-07-01T17:45:45.640Z"
   },
   {
    "duration": 1576,
    "start_time": "2022-07-01T17:49:12.711Z"
   },
   {
    "duration": 105,
    "start_time": "2022-07-01T17:49:14.289Z"
   },
   {
    "duration": 0,
    "start_time": "2022-07-01T17:49:14.396Z"
   },
   {
    "duration": 0,
    "start_time": "2022-07-01T17:49:14.397Z"
   },
   {
    "duration": 0,
    "start_time": "2022-07-01T17:49:14.398Z"
   },
   {
    "duration": 0,
    "start_time": "2022-07-01T17:49:14.399Z"
   },
   {
    "duration": 0,
    "start_time": "2022-07-01T17:49:14.400Z"
   },
   {
    "duration": 0,
    "start_time": "2022-07-01T17:49:14.401Z"
   },
   {
    "duration": 0,
    "start_time": "2022-07-01T17:49:14.402Z"
   },
   {
    "duration": 0,
    "start_time": "2022-07-01T17:49:14.403Z"
   },
   {
    "duration": 0,
    "start_time": "2022-07-01T17:49:14.404Z"
   },
   {
    "duration": 0,
    "start_time": "2022-07-01T17:49:14.405Z"
   },
   {
    "duration": 0,
    "start_time": "2022-07-01T17:49:14.406Z"
   },
   {
    "duration": 0,
    "start_time": "2022-07-01T17:49:14.407Z"
   },
   {
    "duration": 0,
    "start_time": "2022-07-01T17:49:14.408Z"
   },
   {
    "duration": 0,
    "start_time": "2022-07-01T17:49:14.409Z"
   },
   {
    "duration": 0,
    "start_time": "2022-07-01T17:49:14.410Z"
   },
   {
    "duration": 0,
    "start_time": "2022-07-01T17:49:14.429Z"
   },
   {
    "duration": 0,
    "start_time": "2022-07-01T17:49:14.430Z"
   },
   {
    "duration": 0,
    "start_time": "2022-07-01T17:49:14.432Z"
   },
   {
    "duration": 4,
    "start_time": "2022-07-01T17:50:13.450Z"
   },
   {
    "duration": 56,
    "start_time": "2022-07-01T17:50:13.456Z"
   },
   {
    "duration": 0,
    "start_time": "2022-07-01T17:50:13.514Z"
   },
   {
    "duration": 0,
    "start_time": "2022-07-01T17:50:13.515Z"
   },
   {
    "duration": 0,
    "start_time": "2022-07-01T17:50:13.516Z"
   },
   {
    "duration": 0,
    "start_time": "2022-07-01T17:50:13.517Z"
   },
   {
    "duration": 0,
    "start_time": "2022-07-01T17:50:13.517Z"
   },
   {
    "duration": 0,
    "start_time": "2022-07-01T17:50:13.518Z"
   },
   {
    "duration": 0,
    "start_time": "2022-07-01T17:50:13.519Z"
   },
   {
    "duration": 0,
    "start_time": "2022-07-01T17:50:13.520Z"
   },
   {
    "duration": 0,
    "start_time": "2022-07-01T17:50:13.521Z"
   },
   {
    "duration": 0,
    "start_time": "2022-07-01T17:50:13.522Z"
   },
   {
    "duration": 0,
    "start_time": "2022-07-01T17:50:13.523Z"
   },
   {
    "duration": 0,
    "start_time": "2022-07-01T17:50:13.524Z"
   },
   {
    "duration": 0,
    "start_time": "2022-07-01T17:50:13.525Z"
   },
   {
    "duration": 0,
    "start_time": "2022-07-01T17:50:13.526Z"
   },
   {
    "duration": 0,
    "start_time": "2022-07-01T17:50:13.527Z"
   },
   {
    "duration": 0,
    "start_time": "2022-07-01T17:50:13.528Z"
   },
   {
    "duration": 0,
    "start_time": "2022-07-01T17:50:13.529Z"
   },
   {
    "duration": 0,
    "start_time": "2022-07-01T17:50:13.530Z"
   },
   {
    "duration": 53,
    "start_time": "2022-07-01T17:50:29.585Z"
   },
   {
    "duration": 51,
    "start_time": "2022-07-01T17:51:04.410Z"
   },
   {
    "duration": 3131,
    "start_time": "2022-07-01T17:52:14.226Z"
   },
   {
    "duration": 17,
    "start_time": "2022-07-01T17:52:18.754Z"
   },
   {
    "duration": 14,
    "start_time": "2022-07-01T17:52:19.084Z"
   },
   {
    "duration": 16,
    "start_time": "2022-07-01T17:52:19.643Z"
   },
   {
    "duration": 5,
    "start_time": "2022-07-01T17:52:20.578Z"
   },
   {
    "duration": 3,
    "start_time": "2022-07-01T17:52:20.916Z"
   },
   {
    "duration": 4,
    "start_time": "2022-07-01T17:52:21.635Z"
   },
   {
    "duration": 2,
    "start_time": "2022-07-01T17:53:00.782Z"
   },
   {
    "duration": 6,
    "start_time": "2022-07-01T17:53:01.787Z"
   },
   {
    "duration": 5,
    "start_time": "2022-07-01T17:53:03.700Z"
   },
   {
    "duration": 5,
    "start_time": "2022-07-01T17:53:04.740Z"
   },
   {
    "duration": 4,
    "start_time": "2022-07-01T17:54:04.050Z"
   },
   {
    "duration": 5,
    "start_time": "2022-07-01T17:54:05.499Z"
   },
   {
    "duration": 8,
    "start_time": "2022-07-01T17:56:43.298Z"
   },
   {
    "duration": 5,
    "start_time": "2022-07-01T17:57:08.607Z"
   },
   {
    "duration": 90,
    "start_time": "2022-07-01T17:57:24.884Z"
   },
   {
    "duration": 4,
    "start_time": "2022-07-01T17:57:35.299Z"
   },
   {
    "duration": 11,
    "start_time": "2022-07-01T17:58:39.092Z"
   },
   {
    "duration": 4,
    "start_time": "2022-07-01T17:58:43.246Z"
   },
   {
    "duration": 15,
    "start_time": "2022-07-01T17:58:52.895Z"
   },
   {
    "duration": 10,
    "start_time": "2022-07-01T17:59:02.440Z"
   },
   {
    "duration": 80,
    "start_time": "2022-07-01T17:59:51.901Z"
   },
   {
    "duration": 14,
    "start_time": "2022-07-01T17:59:58.867Z"
   },
   {
    "duration": 14,
    "start_time": "2022-07-01T18:16:11.281Z"
   },
   {
    "duration": 120,
    "start_time": "2022-07-01T18:30:23.512Z"
   },
   {
    "duration": 124,
    "start_time": "2022-07-01T18:33:07.892Z"
   },
   {
    "duration": 115,
    "start_time": "2022-07-01T18:34:01.685Z"
   },
   {
    "duration": 5,
    "start_time": "2022-07-01T18:34:13.496Z"
   },
   {
    "duration": 694,
    "start_time": "2022-07-01T18:34:13.503Z"
   },
   {
    "duration": 100,
    "start_time": "2022-07-01T18:34:14.199Z"
   },
   {
    "duration": 13,
    "start_time": "2022-07-01T18:34:14.301Z"
   },
   {
    "duration": 29,
    "start_time": "2022-07-01T18:34:14.316Z"
   },
   {
    "duration": 17,
    "start_time": "2022-07-01T18:34:14.347Z"
   },
   {
    "duration": 23,
    "start_time": "2022-07-01T18:34:14.366Z"
   },
   {
    "duration": 10,
    "start_time": "2022-07-01T18:34:14.391Z"
   },
   {
    "duration": 24,
    "start_time": "2022-07-01T18:34:14.403Z"
   },
   {
    "duration": 14,
    "start_time": "2022-07-01T18:34:14.429Z"
   },
   {
    "duration": 18,
    "start_time": "2022-07-01T18:34:14.444Z"
   },
   {
    "duration": 13,
    "start_time": "2022-07-01T18:34:14.463Z"
   },
   {
    "duration": 13,
    "start_time": "2022-07-01T18:34:14.478Z"
   },
   {
    "duration": 25,
    "start_time": "2022-07-01T18:34:14.493Z"
   },
   {
    "duration": 12,
    "start_time": "2022-07-01T18:34:14.520Z"
   },
   {
    "duration": 13,
    "start_time": "2022-07-01T18:34:14.534Z"
   },
   {
    "duration": 13,
    "start_time": "2022-07-01T18:34:14.549Z"
   },
   {
    "duration": 17,
    "start_time": "2022-07-01T18:34:14.563Z"
   },
   {
    "duration": 16,
    "start_time": "2022-07-01T18:34:14.582Z"
   },
   {
    "duration": 8150,
    "start_time": "2022-07-01T18:34:14.600Z"
   },
   {
    "duration": 7,
    "start_time": "2022-07-01T18:34:22.752Z"
   },
   {
    "duration": 5,
    "start_time": "2022-07-01T18:34:22.761Z"
   },
   {
    "duration": 13,
    "start_time": "2022-07-01T18:34:22.768Z"
   },
   {
    "duration": 94,
    "start_time": "2022-07-01T18:34:22.783Z"
   },
   {
    "duration": 0,
    "start_time": "2022-07-01T18:34:22.879Z"
   },
   {
    "duration": 14,
    "start_time": "2022-07-01T18:34:37.575Z"
   },
   {
    "duration": 103,
    "start_time": "2022-07-01T18:34:40.890Z"
   },
   {
    "duration": 707,
    "start_time": "2022-07-01T18:36:40.110Z"
   },
   {
    "duration": 868,
    "start_time": "2022-07-01T18:36:58.326Z"
   },
   {
    "duration": 696,
    "start_time": "2022-07-01T18:37:22.087Z"
   },
   {
    "duration": 819,
    "start_time": "2022-07-01T18:37:29.083Z"
   },
   {
    "duration": 614,
    "start_time": "2022-07-01T18:38:07.683Z"
   },
   {
    "duration": 624,
    "start_time": "2022-07-01T18:38:17.008Z"
   },
   {
    "duration": 899,
    "start_time": "2022-07-01T18:38:43.298Z"
   },
   {
    "duration": 711,
    "start_time": "2022-07-01T18:39:07.514Z"
   },
   {
    "duration": 855,
    "start_time": "2022-07-01T18:39:42.528Z"
   },
   {
    "duration": 663,
    "start_time": "2022-07-01T18:39:51.629Z"
   },
   {
    "duration": 862,
    "start_time": "2022-07-01T18:40:03.504Z"
   },
   {
    "duration": 731,
    "start_time": "2022-07-01T18:40:18.783Z"
   },
   {
    "duration": 885,
    "start_time": "2022-07-01T18:40:36.618Z"
   },
   {
    "duration": 709,
    "start_time": "2022-07-01T18:40:51.399Z"
   },
   {
    "duration": 814,
    "start_time": "2022-07-01T18:41:32.322Z"
   },
   {
    "duration": 699,
    "start_time": "2022-07-01T18:42:11.803Z"
   },
   {
    "duration": 5550,
    "start_time": "2022-07-01T18:42:29.986Z"
   },
   {
    "duration": 765,
    "start_time": "2022-07-01T18:42:55.117Z"
   },
   {
    "duration": 1209,
    "start_time": "2022-07-01T18:43:01.126Z"
   },
   {
    "duration": 755,
    "start_time": "2022-07-01T18:44:02.933Z"
   },
   {
    "duration": 1018,
    "start_time": "2022-07-01T18:44:45.822Z"
   },
   {
    "duration": 704,
    "start_time": "2022-07-01T18:45:01.682Z"
   },
   {
    "duration": 683,
    "start_time": "2022-07-01T18:45:10.196Z"
   },
   {
    "duration": 946,
    "start_time": "2022-07-01T18:45:15.665Z"
   },
   {
    "duration": 719,
    "start_time": "2022-07-01T18:45:23.980Z"
   },
   {
    "duration": 1005,
    "start_time": "2022-07-01T18:45:35.516Z"
   },
   {
    "duration": 722,
    "start_time": "2022-07-01T18:45:48.385Z"
   },
   {
    "duration": 868,
    "start_time": "2022-07-01T18:45:54.084Z"
   },
   {
    "duration": 749,
    "start_time": "2022-07-01T18:47:44.182Z"
   },
   {
    "duration": 835,
    "start_time": "2022-07-01T18:48:20.305Z"
   },
   {
    "duration": 732,
    "start_time": "2022-07-01T18:48:32.624Z"
   },
   {
    "duration": 881,
    "start_time": "2022-07-01T18:48:36.440Z"
   },
   {
    "duration": 430,
    "start_time": "2022-07-01T18:57:36.304Z"
   },
   {
    "duration": 1013,
    "start_time": "2022-07-01T19:00:49.001Z"
   },
   {
    "duration": 767,
    "start_time": "2022-07-01T19:02:12.845Z"
   },
   {
    "duration": 773,
    "start_time": "2022-07-01T19:02:24.685Z"
   },
   {
    "duration": 942,
    "start_time": "2022-07-01T19:02:34.587Z"
   },
   {
    "duration": 786,
    "start_time": "2022-07-01T19:02:47.317Z"
   },
   {
    "duration": 973,
    "start_time": "2022-07-01T19:03:18.206Z"
   },
   {
    "duration": 723,
    "start_time": "2022-07-01T19:04:52.292Z"
   },
   {
    "duration": 3,
    "start_time": "2022-07-01T19:05:36.941Z"
   },
   {
    "duration": 739,
    "start_time": "2022-07-01T19:06:49.953Z"
   },
   {
    "duration": 624,
    "start_time": "2022-07-01T20:03:59.103Z"
   },
   {
    "duration": 648,
    "start_time": "2022-07-01T20:04:33.046Z"
   },
   {
    "duration": 801,
    "start_time": "2022-07-01T20:04:48.934Z"
   },
   {
    "duration": 516,
    "start_time": "2022-07-01T20:05:50.775Z"
   },
   {
    "duration": 841,
    "start_time": "2022-07-01T20:06:01.416Z"
   },
   {
    "duration": 567,
    "start_time": "2022-07-01T20:06:33.948Z"
   },
   {
    "duration": 532,
    "start_time": "2022-07-01T20:07:28.181Z"
   },
   {
    "duration": 9,
    "start_time": "2022-07-01T20:21:54.132Z"
   },
   {
    "duration": 232,
    "start_time": "2022-07-01T20:21:58.677Z"
   },
   {
    "duration": 15,
    "start_time": "2022-07-01T20:21:59.731Z"
   },
   {
    "duration": 10,
    "start_time": "2022-07-01T20:22:00.210Z"
   },
   {
    "duration": 7,
    "start_time": "2022-07-01T20:22:01.523Z"
   },
   {
    "duration": 11,
    "start_time": "2022-07-01T20:24:53.904Z"
   },
   {
    "duration": 7,
    "start_time": "2022-07-01T20:24:54.206Z"
   },
   {
    "duration": 385,
    "start_time": "2022-07-01T20:31:54.333Z"
   },
   {
    "duration": 18,
    "start_time": "2022-07-01T20:50:26.217Z"
   },
   {
    "duration": 3,
    "start_time": "2022-07-01T20:50:30.344Z"
   },
   {
    "duration": 3,
    "start_time": "2022-07-01T20:50:32.644Z"
   },
   {
    "duration": 3,
    "start_time": "2022-07-01T20:50:33.916Z"
   },
   {
    "duration": 82782,
    "start_time": "2022-07-01T20:50:34.947Z"
   },
   {
    "duration": 0,
    "start_time": "2022-07-01T20:51:57.743Z"
   },
   {
    "duration": 6,
    "start_time": "2022-07-01T20:52:06.069Z"
   },
   {
    "duration": 568562,
    "start_time": "2022-07-01T20:52:12.172Z"
   },
   {
    "duration": 4,
    "start_time": "2022-07-01T21:03:27.442Z"
   },
   {
    "duration": 18,
    "start_time": "2022-07-01T21:35:49.392Z"
   },
   {
    "duration": 3,
    "start_time": "2022-07-01T21:36:31.502Z"
   },
   {
    "duration": 3741,
    "start_time": "2022-07-01T21:36:43.711Z"
   },
   {
    "duration": 85859,
    "start_time": "2022-07-01T21:36:55.087Z"
   },
   {
    "duration": 5,
    "start_time": "2022-07-01T21:38:20.948Z"
   },
   {
    "duration": 4,
    "start_time": "2022-07-01T21:38:35.900Z"
   },
   {
    "duration": 2400632,
    "start_time": "2022-07-01T21:43:07.991Z"
   },
   {
    "duration": 107,
    "start_time": "2022-07-01T22:23:08.625Z"
   },
   {
    "duration": 0,
    "start_time": "2022-07-01T22:23:08.734Z"
   },
   {
    "duration": 9,
    "start_time": "2022-07-01T22:26:40.195Z"
   },
   {
    "duration": 450549,
    "start_time": "2022-07-01T22:27:10.193Z"
   },
   {
    "duration": 88,
    "start_time": "2022-07-01T22:34:40.744Z"
   },
   {
    "duration": 19,
    "start_time": "2022-07-01T22:34:40.834Z"
   },
   {
    "duration": 11,
    "start_time": "2022-07-01T22:38:05.576Z"
   },
   {
    "duration": 1351,
    "start_time": "2022-07-01T22:38:34.104Z"
   },
   {
    "duration": 704,
    "start_time": "2022-07-01T22:38:35.457Z"
   },
   {
    "duration": 17,
    "start_time": "2022-07-01T22:38:36.163Z"
   },
   {
    "duration": 21,
    "start_time": "2022-07-01T22:38:36.181Z"
   },
   {
    "duration": 29,
    "start_time": "2022-07-01T22:38:36.203Z"
   },
   {
    "duration": 5,
    "start_time": "2022-07-01T22:38:36.233Z"
   },
   {
    "duration": 15,
    "start_time": "2022-07-01T22:38:36.240Z"
   },
   {
    "duration": 6,
    "start_time": "2022-07-01T22:38:36.257Z"
   },
   {
    "duration": 4,
    "start_time": "2022-07-01T22:38:36.264Z"
   },
   {
    "duration": 6,
    "start_time": "2022-07-01T22:38:36.272Z"
   },
   {
    "duration": 6,
    "start_time": "2022-07-01T22:38:36.280Z"
   },
   {
    "duration": 5,
    "start_time": "2022-07-01T22:38:36.288Z"
   },
   {
    "duration": 36,
    "start_time": "2022-07-01T22:38:36.294Z"
   },
   {
    "duration": 7,
    "start_time": "2022-07-01T22:38:36.332Z"
   },
   {
    "duration": 5,
    "start_time": "2022-07-01T22:38:36.341Z"
   },
   {
    "duration": 6,
    "start_time": "2022-07-01T22:38:36.347Z"
   },
   {
    "duration": 9,
    "start_time": "2022-07-01T22:38:36.354Z"
   },
   {
    "duration": 15,
    "start_time": "2022-07-01T22:38:36.364Z"
   },
   {
    "duration": 107,
    "start_time": "2022-07-01T22:38:36.380Z"
   },
   {
    "duration": 0,
    "start_time": "2022-07-01T22:38:36.489Z"
   },
   {
    "duration": 0,
    "start_time": "2022-07-01T22:38:36.491Z"
   },
   {
    "duration": 0,
    "start_time": "2022-07-01T22:38:36.492Z"
   },
   {
    "duration": 0,
    "start_time": "2022-07-01T22:38:36.493Z"
   },
   {
    "duration": 0,
    "start_time": "2022-07-01T22:38:36.494Z"
   },
   {
    "duration": 0,
    "start_time": "2022-07-01T22:38:36.495Z"
   },
   {
    "duration": 0,
    "start_time": "2022-07-01T22:38:36.496Z"
   },
   {
    "duration": 0,
    "start_time": "2022-07-01T22:38:36.497Z"
   },
   {
    "duration": 0,
    "start_time": "2022-07-01T22:38:36.498Z"
   },
   {
    "duration": 0,
    "start_time": "2022-07-01T22:38:36.499Z"
   },
   {
    "duration": 0,
    "start_time": "2022-07-01T22:38:36.500Z"
   },
   {
    "duration": 0,
    "start_time": "2022-07-01T22:38:36.501Z"
   },
   {
    "duration": 0,
    "start_time": "2022-07-01T22:38:36.502Z"
   },
   {
    "duration": 0,
    "start_time": "2022-07-01T22:38:36.503Z"
   },
   {
    "duration": 0,
    "start_time": "2022-07-01T22:38:36.504Z"
   },
   {
    "duration": 0,
    "start_time": "2022-07-01T22:38:36.505Z"
   },
   {
    "duration": 0,
    "start_time": "2022-07-01T22:38:36.529Z"
   },
   {
    "duration": 0,
    "start_time": "2022-07-01T22:38:36.530Z"
   },
   {
    "duration": 0,
    "start_time": "2022-07-01T22:38:36.531Z"
   },
   {
    "duration": 0,
    "start_time": "2022-07-01T22:38:36.532Z"
   },
   {
    "duration": 0,
    "start_time": "2022-07-01T22:38:36.533Z"
   },
   {
    "duration": 0,
    "start_time": "2022-07-01T22:38:36.533Z"
   },
   {
    "duration": 0,
    "start_time": "2022-07-01T22:38:36.534Z"
   },
   {
    "duration": 1,
    "start_time": "2022-07-01T22:38:36.535Z"
   },
   {
    "duration": 0,
    "start_time": "2022-07-01T22:38:36.537Z"
   },
   {
    "duration": 0,
    "start_time": "2022-07-01T22:38:36.537Z"
   },
   {
    "duration": 0,
    "start_time": "2022-07-01T22:38:36.538Z"
   },
   {
    "duration": 0,
    "start_time": "2022-07-01T22:38:36.540Z"
   },
   {
    "duration": 0,
    "start_time": "2022-07-01T22:38:36.541Z"
   },
   {
    "duration": 0,
    "start_time": "2022-07-01T22:38:36.542Z"
   },
   {
    "duration": 0,
    "start_time": "2022-07-01T22:38:36.544Z"
   },
   {
    "duration": 0,
    "start_time": "2022-07-01T22:38:36.545Z"
   },
   {
    "duration": 0,
    "start_time": "2022-07-01T22:38:36.546Z"
   },
   {
    "duration": 1,
    "start_time": "2022-07-01T22:38:36.547Z"
   },
   {
    "duration": 0,
    "start_time": "2022-07-01T22:38:36.549Z"
   },
   {
    "duration": 0,
    "start_time": "2022-07-01T22:38:36.549Z"
   },
   {
    "duration": 0,
    "start_time": "2022-07-01T22:38:36.550Z"
   },
   {
    "duration": 11,
    "start_time": "2022-07-01T22:39:03.232Z"
   },
   {
    "duration": 3,
    "start_time": "2022-07-01T22:39:03.245Z"
   },
   {
    "duration": 5,
    "start_time": "2022-07-01T22:39:03.250Z"
   },
   {
    "duration": 14,
    "start_time": "2022-07-01T22:39:03.256Z"
   },
   {
    "duration": 5,
    "start_time": "2022-07-01T22:39:03.271Z"
   },
   {
    "duration": 13,
    "start_time": "2022-07-01T22:39:03.277Z"
   },
   {
    "duration": 41,
    "start_time": "2022-07-01T22:39:03.291Z"
   },
   {
    "duration": 833,
    "start_time": "2022-07-01T22:39:03.333Z"
   },
   {
    "duration": 677,
    "start_time": "2022-07-01T22:39:04.168Z"
   },
   {
    "duration": 908,
    "start_time": "2022-07-01T22:39:04.847Z"
   },
   {
    "duration": 749,
    "start_time": "2022-07-01T22:39:05.756Z"
   },
   {
    "duration": 721,
    "start_time": "2022-07-01T22:39:06.507Z"
   },
   {
    "duration": 683,
    "start_time": "2022-07-01T22:39:07.230Z"
   },
   {
    "duration": 28,
    "start_time": "2022-07-01T22:39:07.915Z"
   },
   {
    "duration": 14,
    "start_time": "2022-07-01T22:39:07.945Z"
   },
   {
    "duration": 11,
    "start_time": "2022-07-01T22:39:07.960Z"
   },
   {
    "duration": 14,
    "start_time": "2022-07-01T22:39:07.972Z"
   },
   {
    "duration": 3,
    "start_time": "2022-07-01T22:39:07.988Z"
   },
   {
    "duration": 6,
    "start_time": "2022-07-01T22:39:07.992Z"
   },
   {
    "duration": 5,
    "start_time": "2022-07-01T22:39:07.999Z"
   },
   {
    "duration": 27,
    "start_time": "2022-07-01T22:39:08.005Z"
   },
   {
    "duration": 22717,
    "start_time": "2022-07-01T22:39:08.034Z"
   },
   {
    "duration": 5,
    "start_time": "2022-07-01T22:39:30.755Z"
   },
   {
    "duration": 79570,
    "start_time": "2022-07-01T22:39:30.762Z"
   },
   {
    "duration": 8,
    "start_time": "2022-07-01T22:40:50.334Z"
   },
   {
    "duration": 0,
    "start_time": "2022-07-01T22:40:50.344Z"
   },
   {
    "duration": 0,
    "start_time": "2022-07-01T22:40:50.345Z"
   },
   {
    "duration": 0,
    "start_time": "2022-07-01T22:40:50.346Z"
   },
   {
    "duration": 0,
    "start_time": "2022-07-01T22:40:50.346Z"
   },
   {
    "duration": 0,
    "start_time": "2022-07-01T22:40:50.348Z"
   },
   {
    "duration": 0,
    "start_time": "2022-07-01T22:40:50.348Z"
   },
   {
    "duration": 0,
    "start_time": "2022-07-01T22:40:50.349Z"
   },
   {
    "duration": 0,
    "start_time": "2022-07-01T22:40:50.350Z"
   },
   {
    "duration": 0,
    "start_time": "2022-07-01T22:40:50.351Z"
   },
   {
    "duration": 0,
    "start_time": "2022-07-01T22:40:50.352Z"
   },
   {
    "duration": 0,
    "start_time": "2022-07-01T22:40:50.353Z"
   },
   {
    "duration": 0,
    "start_time": "2022-07-01T22:40:50.354Z"
   },
   {
    "duration": 0,
    "start_time": "2022-07-01T22:40:50.355Z"
   },
   {
    "duration": 0,
    "start_time": "2022-07-01T22:40:50.356Z"
   },
   {
    "duration": 1433,
    "start_time": "2022-07-01T22:40:58.919Z"
   },
   {
    "duration": 672,
    "start_time": "2022-07-01T22:41:00.355Z"
   },
   {
    "duration": 17,
    "start_time": "2022-07-01T22:41:01.028Z"
   },
   {
    "duration": 17,
    "start_time": "2022-07-01T22:41:01.047Z"
   },
   {
    "duration": 18,
    "start_time": "2022-07-01T22:41:01.067Z"
   },
   {
    "duration": 8,
    "start_time": "2022-07-01T22:41:01.088Z"
   },
   {
    "duration": 28,
    "start_time": "2022-07-01T22:41:01.098Z"
   },
   {
    "duration": 17,
    "start_time": "2022-07-01T22:41:01.128Z"
   },
   {
    "duration": 26,
    "start_time": "2022-07-01T22:41:01.146Z"
   },
   {
    "duration": 29,
    "start_time": "2022-07-01T22:41:01.175Z"
   },
   {
    "duration": 20,
    "start_time": "2022-07-01T22:41:01.206Z"
   },
   {
    "duration": 27,
    "start_time": "2022-07-01T22:41:01.227Z"
   },
   {
    "duration": 29,
    "start_time": "2022-07-01T22:41:01.255Z"
   },
   {
    "duration": 25,
    "start_time": "2022-07-01T22:41:01.287Z"
   },
   {
    "duration": 12,
    "start_time": "2022-07-01T22:41:01.313Z"
   },
   {
    "duration": 19,
    "start_time": "2022-07-01T22:41:01.326Z"
   },
   {
    "duration": 20,
    "start_time": "2022-07-01T22:41:01.346Z"
   },
   {
    "duration": 28,
    "start_time": "2022-07-01T22:41:01.367Z"
   },
   {
    "duration": 22,
    "start_time": "2022-07-01T22:41:01.397Z"
   },
   {
    "duration": 5,
    "start_time": "2022-07-01T22:41:01.420Z"
   },
   {
    "duration": 9,
    "start_time": "2022-07-01T22:41:01.427Z"
   },
   {
    "duration": 25,
    "start_time": "2022-07-01T22:41:01.438Z"
   },
   {
    "duration": 19,
    "start_time": "2022-07-01T22:41:01.464Z"
   },
   {
    "duration": 23,
    "start_time": "2022-07-01T22:41:01.485Z"
   },
   {
    "duration": 13,
    "start_time": "2022-07-01T22:41:01.510Z"
   },
   {
    "duration": 762,
    "start_time": "2022-07-01T22:41:01.525Z"
   },
   {
    "duration": 677,
    "start_time": "2022-07-01T22:41:02.288Z"
   },
   {
    "duration": 684,
    "start_time": "2022-07-01T22:41:02.967Z"
   },
   {
    "duration": 771,
    "start_time": "2022-07-01T22:41:03.653Z"
   },
   {
    "duration": 676,
    "start_time": "2022-07-01T22:41:04.426Z"
   },
   {
    "duration": 721,
    "start_time": "2022-07-01T22:41:05.104Z"
   },
   {
    "duration": 23,
    "start_time": "2022-07-01T22:41:05.826Z"
   },
   {
    "duration": 16,
    "start_time": "2022-07-01T22:41:05.851Z"
   },
   {
    "duration": 9,
    "start_time": "2022-07-01T22:41:05.869Z"
   },
   {
    "duration": 18,
    "start_time": "2022-07-01T22:41:05.880Z"
   },
   {
    "duration": 29,
    "start_time": "2022-07-01T22:41:05.900Z"
   },
   {
    "duration": 5,
    "start_time": "2022-07-01T22:41:05.931Z"
   },
   {
    "duration": 9,
    "start_time": "2022-07-01T22:41:05.938Z"
   },
   {
    "duration": 7,
    "start_time": "2022-07-01T22:41:05.948Z"
   },
   {
    "duration": 23114,
    "start_time": "2022-07-01T22:41:05.956Z"
   },
   {
    "duration": 4,
    "start_time": "2022-07-01T22:41:29.073Z"
   },
   {
    "duration": 1397,
    "start_time": "2022-07-01T22:43:36.443Z"
   },
   {
    "duration": 657,
    "start_time": "2022-07-01T22:43:37.841Z"
   },
   {
    "duration": 16,
    "start_time": "2022-07-01T22:43:38.500Z"
   },
   {
    "duration": 21,
    "start_time": "2022-07-01T22:43:38.518Z"
   },
   {
    "duration": 17,
    "start_time": "2022-07-01T22:43:38.540Z"
   },
   {
    "duration": 5,
    "start_time": "2022-07-01T22:43:38.558Z"
   },
   {
    "duration": 5,
    "start_time": "2022-07-01T22:43:38.564Z"
   },
   {
    "duration": 8,
    "start_time": "2022-07-01T22:43:38.571Z"
   },
   {
    "duration": 6,
    "start_time": "2022-07-01T22:43:38.580Z"
   },
   {
    "duration": 9,
    "start_time": "2022-07-01T22:43:38.590Z"
   },
   {
    "duration": 29,
    "start_time": "2022-07-01T22:43:38.601Z"
   },
   {
    "duration": 4,
    "start_time": "2022-07-01T22:43:38.632Z"
   },
   {
    "duration": 7,
    "start_time": "2022-07-01T22:43:38.638Z"
   },
   {
    "duration": 8,
    "start_time": "2022-07-01T22:43:38.646Z"
   },
   {
    "duration": 7,
    "start_time": "2022-07-01T22:43:38.655Z"
   },
   {
    "duration": 22,
    "start_time": "2022-07-01T22:43:38.664Z"
   },
   {
    "duration": 13,
    "start_time": "2022-07-01T22:43:38.688Z"
   },
   {
    "duration": 26,
    "start_time": "2022-07-01T22:43:38.704Z"
   },
   {
    "duration": 14,
    "start_time": "2022-07-01T22:43:38.732Z"
   },
   {
    "duration": 12,
    "start_time": "2022-07-01T22:43:38.747Z"
   },
   {
    "duration": 6,
    "start_time": "2022-07-01T22:43:38.761Z"
   },
   {
    "duration": 18,
    "start_time": "2022-07-01T22:43:38.768Z"
   },
   {
    "duration": 48,
    "start_time": "2022-07-01T22:43:38.788Z"
   },
   {
    "duration": 799,
    "start_time": "2022-07-01T22:43:38.838Z"
   },
   {
    "duration": 672,
    "start_time": "2022-07-01T22:43:39.639Z"
   },
   {
    "duration": 675,
    "start_time": "2022-07-01T22:43:40.312Z"
   },
   {
    "duration": 1463,
    "start_time": "2022-07-01T22:43:40.988Z"
   },
   {
    "duration": 693,
    "start_time": "2022-07-01T22:43:42.456Z"
   },
   {
    "duration": 693,
    "start_time": "2022-07-01T22:43:43.151Z"
   },
   {
    "duration": 22,
    "start_time": "2022-07-01T22:43:43.846Z"
   },
   {
    "duration": 14,
    "start_time": "2022-07-01T22:43:43.870Z"
   },
   {
    "duration": 11,
    "start_time": "2022-07-01T22:43:43.886Z"
   },
   {
    "duration": 33,
    "start_time": "2022-07-01T22:43:43.898Z"
   },
   {
    "duration": 4,
    "start_time": "2022-07-01T22:43:43.932Z"
   },
   {
    "duration": 11,
    "start_time": "2022-07-01T22:43:43.938Z"
   },
   {
    "duration": 6,
    "start_time": "2022-07-01T22:43:43.951Z"
   },
   {
    "duration": 6,
    "start_time": "2022-07-01T22:43:43.958Z"
   },
   {
    "duration": 23068,
    "start_time": "2022-07-01T22:43:43.965Z"
   },
   {
    "duration": 4,
    "start_time": "2022-07-01T22:44:07.035Z"
   },
   {
    "duration": 366381,
    "start_time": "2022-07-01T22:44:07.041Z"
   },
   {
    "duration": 6,
    "start_time": "2022-07-01T22:50:13.423Z"
   },
   {
    "duration": 200,
    "start_time": "2022-07-01T22:50:13.430Z"
   },
   {
    "duration": 9,
    "start_time": "2022-07-01T22:50:13.632Z"
   },
   {
    "duration": 0,
    "start_time": "2022-07-01T22:50:13.642Z"
   },
   {
    "duration": 0,
    "start_time": "2022-07-01T22:50:13.644Z"
   },
   {
    "duration": 0,
    "start_time": "2022-07-01T22:50:13.646Z"
   },
   {
    "duration": 0,
    "start_time": "2022-07-01T22:50:13.647Z"
   },
   {
    "duration": 0,
    "start_time": "2022-07-01T22:50:13.648Z"
   },
   {
    "duration": 0,
    "start_time": "2022-07-01T22:50:13.649Z"
   },
   {
    "duration": 0,
    "start_time": "2022-07-01T22:50:13.650Z"
   },
   {
    "duration": 0,
    "start_time": "2022-07-01T22:50:13.651Z"
   },
   {
    "duration": 0,
    "start_time": "2022-07-01T22:50:13.652Z"
   },
   {
    "duration": 0,
    "start_time": "2022-07-01T22:50:13.653Z"
   },
   {
    "duration": 0,
    "start_time": "2022-07-01T22:50:13.654Z"
   },
   {
    "duration": 9,
    "start_time": "2022-07-01T22:52:06.430Z"
   },
   {
    "duration": 9,
    "start_time": "2022-07-01T22:52:28.250Z"
   },
   {
    "duration": 4,
    "start_time": "2022-07-01T22:52:48.556Z"
   },
   {
    "duration": 2708,
    "start_time": "2022-07-01T23:01:31.528Z"
   },
   {
    "duration": 3,
    "start_time": "2022-07-01T23:02:01.062Z"
   },
   {
    "duration": 5,
    "start_time": "2022-07-01T23:02:03.157Z"
   },
   {
    "duration": 370741,
    "start_time": "2022-07-01T23:03:02.189Z"
   },
   {
    "duration": 3,
    "start_time": "2022-07-01T23:09:12.932Z"
   },
   {
    "duration": 6,
    "start_time": "2022-07-01T23:09:12.937Z"
   },
   {
    "duration": 25,
    "start_time": "2022-07-01T23:09:12.945Z"
   },
   {
    "duration": 5,
    "start_time": "2022-07-01T23:09:12.972Z"
   },
   {
    "duration": 2,
    "start_time": "2022-07-01T23:09:12.979Z"
   },
   {
    "duration": 9,
    "start_time": "2022-07-01T23:09:12.983Z"
   },
   {
    "duration": 120,
    "start_time": "2022-07-01T23:11:38.099Z"
   },
   {
    "duration": 92,
    "start_time": "2022-07-02T10:17:05.415Z"
   },
   {
    "duration": 1506,
    "start_time": "2022-07-02T10:20:51.636Z"
   },
   {
    "duration": 1765,
    "start_time": "2022-07-02T10:20:53.144Z"
   },
   {
    "duration": 18,
    "start_time": "2022-07-02T10:20:54.910Z"
   },
   {
    "duration": 13,
    "start_time": "2022-07-02T10:20:54.929Z"
   },
   {
    "duration": 23,
    "start_time": "2022-07-02T10:20:54.944Z"
   },
   {
    "duration": 15,
    "start_time": "2022-07-02T10:20:54.973Z"
   },
   {
    "duration": 5,
    "start_time": "2022-07-02T10:20:54.990Z"
   },
   {
    "duration": 5,
    "start_time": "2022-07-02T10:20:54.997Z"
   },
   {
    "duration": 6,
    "start_time": "2022-07-02T10:20:55.004Z"
   },
   {
    "duration": 9,
    "start_time": "2022-07-02T10:20:55.012Z"
   },
   {
    "duration": 5,
    "start_time": "2022-07-02T10:20:55.022Z"
   },
   {
    "duration": 4,
    "start_time": "2022-07-02T10:20:55.029Z"
   },
   {
    "duration": 19,
    "start_time": "2022-07-02T10:20:55.034Z"
   },
   {
    "duration": 8,
    "start_time": "2022-07-02T10:20:55.062Z"
   },
   {
    "duration": 14,
    "start_time": "2022-07-02T10:20:55.074Z"
   },
   {
    "duration": 6,
    "start_time": "2022-07-02T10:20:55.089Z"
   },
   {
    "duration": 9,
    "start_time": "2022-07-02T10:20:55.097Z"
   },
   {
    "duration": 8,
    "start_time": "2022-07-02T10:20:55.107Z"
   },
   {
    "duration": 6,
    "start_time": "2022-07-02T10:20:55.117Z"
   },
   {
    "duration": 7,
    "start_time": "2022-07-02T10:20:55.125Z"
   },
   {
    "duration": 8050,
    "start_time": "2022-07-02T10:20:55.134Z"
   },
   {
    "duration": 12,
    "start_time": "2022-07-02T10:21:03.185Z"
   },
   {
    "duration": 8,
    "start_time": "2022-07-02T10:21:03.199Z"
   },
   {
    "duration": 14,
    "start_time": "2022-07-02T10:21:03.209Z"
   },
   {
    "duration": 49,
    "start_time": "2022-07-02T10:21:03.225Z"
   },
   {
    "duration": 885,
    "start_time": "2022-07-02T10:21:03.279Z"
   },
   {
    "duration": 761,
    "start_time": "2022-07-02T10:21:04.166Z"
   },
   {
    "duration": 877,
    "start_time": "2022-07-02T10:21:04.928Z"
   },
   {
    "duration": 649,
    "start_time": "2022-07-02T10:21:05.807Z"
   },
   {
    "duration": 666,
    "start_time": "2022-07-02T10:21:06.458Z"
   },
   {
    "duration": 709,
    "start_time": "2022-07-02T10:21:07.126Z"
   },
   {
    "duration": 26,
    "start_time": "2022-07-02T10:21:07.837Z"
   },
   {
    "duration": 27,
    "start_time": "2022-07-02T10:21:07.872Z"
   },
   {
    "duration": 9,
    "start_time": "2022-07-02T10:21:07.901Z"
   },
   {
    "duration": 18,
    "start_time": "2022-07-02T10:21:07.911Z"
   },
   {
    "duration": 5,
    "start_time": "2022-07-02T10:21:07.931Z"
   },
   {
    "duration": 6,
    "start_time": "2022-07-02T10:21:07.937Z"
   },
   {
    "duration": 6,
    "start_time": "2022-07-02T10:21:07.944Z"
   },
   {
    "duration": 27496,
    "start_time": "2022-07-02T10:21:07.951Z"
   },
   {
    "duration": 15,
    "start_time": "2022-07-02T10:21:35.449Z"
   },
   {
    "duration": 422064,
    "start_time": "2022-07-02T10:21:35.468Z"
   },
   {
    "duration": 4,
    "start_time": "2022-07-02T10:28:37.534Z"
   },
   {
    "duration": 8729,
    "start_time": "2022-07-02T10:28:37.540Z"
   },
   {
    "duration": 5,
    "start_time": "2022-07-02T10:28:46.271Z"
   },
   {
    "duration": 113,
    "start_time": "2022-07-02T10:28:46.278Z"
   },
   {
    "duration": 6,
    "start_time": "2022-07-02T10:28:46.393Z"
   },
   {
    "duration": 452371,
    "start_time": "2022-07-02T10:28:46.401Z"
   },
   {
    "duration": 10,
    "start_time": "2022-07-02T10:36:18.851Z"
   },
   {
    "duration": 38,
    "start_time": "2022-07-02T10:36:18.865Z"
   },
   {
    "duration": 23,
    "start_time": "2022-07-02T10:36:18.905Z"
   },
   {
    "duration": 25,
    "start_time": "2022-07-02T10:36:18.929Z"
   },
   {
    "duration": 24,
    "start_time": "2022-07-02T10:36:18.961Z"
   },
   {
    "duration": 8,
    "start_time": "2022-07-02T10:36:18.987Z"
   }
  ],
  "kernelspec": {
   "display_name": "Python 3 (ipykernel)",
   "language": "python",
   "name": "python3"
  },
  "language_info": {
   "codemirror_mode": {
    "name": "ipython",
    "version": 3
   },
   "file_extension": ".py",
   "mimetype": "text/x-python",
   "name": "python",
   "nbconvert_exporter": "python",
   "pygments_lexer": "ipython3",
   "version": "3.9.5"
  },
  "toc": {
   "base_numbering": 1,
   "nav_menu": {},
   "number_sections": true,
   "sideBar": true,
   "skip_h1_title": true,
   "title_cell": "Содержание",
   "title_sidebar": "Contents",
   "toc_cell": true,
   "toc_position": {
    "height": "calc(100% - 180px)",
    "left": "10px",
    "top": "150px",
    "width": "303px"
   },
   "toc_section_display": true,
   "toc_window_display": true
  }
 },
 "nbformat": 4,
 "nbformat_minor": 2
}
