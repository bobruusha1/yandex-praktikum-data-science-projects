{
  "metadata": {
    "kernelspec": {
      "name": "python",
      "display_name": "Python (Pyodide)",
      "language": "python"
    },
    "language_info": {
      "codemirror_mode": {
        "name": "python",
        "version": 3
      },
      "file_extension": ".py",
      "mimetype": "text/x-python",
      "name": "python",
      "nbconvert_exporter": "python",
      "pygments_lexer": "ipython3",
      "version": "3.8"
    },
    "ExecuteTimeLog": [
      {
        "duration": 665,
        "start_time": "2022-02-17T20:33:54.481Z"
      },
      {
        "duration": 158,
        "start_time": "2022-02-17T20:33:55.350Z"
      },
      {
        "duration": 43,
        "start_time": "2022-02-17T20:34:25.324Z"
      },
      {
        "duration": 28,
        "start_time": "2022-02-17T20:34:46.739Z"
      },
      {
        "duration": 308,
        "start_time": "2022-02-18T20:09:56.866Z"
      },
      {
        "duration": 860,
        "start_time": "2022-02-18T20:10:13.895Z"
      },
      {
        "duration": 191,
        "start_time": "2022-02-18T20:10:14.757Z"
      },
      {
        "duration": 27,
        "start_time": "2022-02-18T20:10:14.951Z"
      },
      {
        "duration": 45,
        "start_time": "2022-02-18T20:10:14.980Z"
      },
      {
        "duration": 405,
        "start_time": "2022-02-18T20:10:15.027Z"
      },
      {
        "duration": 4,
        "start_time": "2022-02-18T20:10:24.290Z"
      },
      {
        "duration": 193,
        "start_time": "2022-02-18T20:10:24.886Z"
      },
      {
        "duration": 17,
        "start_time": "2022-02-18T20:10:25.612Z"
      },
      {
        "duration": 33,
        "start_time": "2022-02-18T20:10:26.548Z"
      },
      {
        "duration": 230,
        "start_time": "2022-02-18T20:10:29.391Z"
      },
      {
        "duration": 6,
        "start_time": "2022-02-18T20:11:55.521Z"
      },
      {
        "duration": 24,
        "start_time": "2022-02-18T20:13:57.696Z"
      },
      {
        "duration": 6,
        "start_time": "2022-02-18T20:14:10.477Z"
      },
      {
        "duration": 30,
        "start_time": "2022-02-18T20:14:42.683Z"
      },
      {
        "duration": 23,
        "start_time": "2022-02-18T20:21:00.237Z"
      },
      {
        "duration": 31,
        "start_time": "2022-02-18T20:21:01.999Z"
      },
      {
        "duration": 87,
        "start_time": "2022-02-18T20:21:43.334Z"
      },
      {
        "duration": 115,
        "start_time": "2022-02-18T20:23:04.459Z"
      },
      {
        "duration": 83,
        "start_time": "2022-02-18T20:23:22.776Z"
      },
      {
        "duration": 91,
        "start_time": "2022-02-18T20:24:56.748Z"
      },
      {
        "duration": 79,
        "start_time": "2022-02-18T20:25:00.097Z"
      },
      {
        "duration": 14,
        "start_time": "2022-02-18T20:28:06.323Z"
      },
      {
        "duration": 14,
        "start_time": "2022-02-18T20:35:05.691Z"
      },
      {
        "duration": 14,
        "start_time": "2022-02-18T20:36:04.641Z"
      },
      {
        "duration": 23,
        "start_time": "2022-02-18T22:02:28.173Z"
      },
      {
        "duration": 36,
        "start_time": "2022-02-18T22:02:46.356Z"
      },
      {
        "duration": 9,
        "start_time": "2022-02-18T22:04:17.880Z"
      },
      {
        "duration": 658,
        "start_time": "2022-02-18T22:06:33.462Z"
      },
      {
        "duration": 43,
        "start_time": "2022-02-18T22:08:00.646Z"
      },
      {
        "duration": 28,
        "start_time": "2022-02-18T22:08:20.134Z"
      },
      {
        "duration": 637,
        "start_time": "2022-02-18T22:09:23.001Z"
      },
      {
        "duration": 29,
        "start_time": "2022-02-18T22:10:04.613Z"
      },
      {
        "duration": 30,
        "start_time": "2022-02-18T22:34:42.406Z"
      },
      {
        "duration": 34,
        "start_time": "2022-02-18T22:35:01.159Z"
      },
      {
        "duration": 37,
        "start_time": "2022-02-18T22:35:12.470Z"
      },
      {
        "duration": 32,
        "start_time": "2022-02-18T22:35:28.167Z"
      },
      {
        "duration": 17,
        "start_time": "2022-02-18T22:36:51.116Z"
      },
      {
        "duration": 11,
        "start_time": "2022-02-18T22:37:00.689Z"
      },
      {
        "duration": 7,
        "start_time": "2022-02-18T22:37:13.935Z"
      },
      {
        "duration": 9,
        "start_time": "2022-02-18T22:37:18.260Z"
      },
      {
        "duration": 265,
        "start_time": "2022-02-18T22:39:13.475Z"
      },
      {
        "duration": 40,
        "start_time": "2022-02-18T22:39:26.164Z"
      },
      {
        "duration": 58,
        "start_time": "2022-02-18T22:40:02.471Z"
      },
      {
        "duration": 80,
        "start_time": "2022-02-18T22:40:32.451Z"
      },
      {
        "duration": 37,
        "start_time": "2022-02-18T22:40:38.916Z"
      },
      {
        "duration": 23,
        "start_time": "2022-02-18T22:40:48.301Z"
      },
      {
        "duration": 32,
        "start_time": "2022-02-18T22:43:39.126Z"
      },
      {
        "duration": 5,
        "start_time": "2022-02-18T22:53:16.422Z"
      },
      {
        "duration": 16,
        "start_time": "2022-02-18T22:53:17.449Z"
      },
      {
        "duration": 16,
        "start_time": "2022-02-18T22:56:27.506Z"
      },
      {
        "duration": 5,
        "start_time": "2022-02-18T22:56:30.370Z"
      },
      {
        "duration": 16,
        "start_time": "2022-02-18T22:56:31.954Z"
      },
      {
        "duration": 15,
        "start_time": "2022-02-18T22:56:32.800Z"
      },
      {
        "duration": 399,
        "start_time": "2022-02-18T22:57:58.905Z"
      },
      {
        "duration": 5,
        "start_time": "2022-02-18T22:58:03.629Z"
      },
      {
        "duration": 15,
        "start_time": "2022-02-18T22:58:04.692Z"
      },
      {
        "duration": 4,
        "start_time": "2022-02-18T22:58:12.086Z"
      },
      {
        "duration": 204,
        "start_time": "2022-02-18T22:58:12.094Z"
      },
      {
        "duration": 16,
        "start_time": "2022-02-18T22:58:12.300Z"
      },
      {
        "duration": 33,
        "start_time": "2022-02-18T22:58:12.319Z"
      },
      {
        "duration": 5,
        "start_time": "2022-02-18T22:58:12.355Z"
      },
      {
        "duration": 26,
        "start_time": "2022-02-18T22:58:12.394Z"
      },
      {
        "duration": 12,
        "start_time": "2022-02-18T22:58:12.422Z"
      },
      {
        "duration": 33,
        "start_time": "2022-02-18T22:58:12.437Z"
      },
      {
        "duration": 25,
        "start_time": "2022-02-18T22:58:12.494Z"
      },
      {
        "duration": 31,
        "start_time": "2022-02-18T22:58:12.522Z"
      },
      {
        "duration": 108,
        "start_time": "2022-02-18T22:58:12.556Z"
      },
      {
        "duration": 101,
        "start_time": "2022-02-18T22:58:12.666Z"
      },
      {
        "duration": 86,
        "start_time": "2022-02-18T22:58:12.770Z"
      },
      {
        "duration": 15,
        "start_time": "2022-02-18T22:58:12.858Z"
      },
      {
        "duration": 18,
        "start_time": "2022-02-18T22:58:12.876Z"
      },
      {
        "duration": 16,
        "start_time": "2022-02-18T22:58:12.897Z"
      },
      {
        "duration": 16,
        "start_time": "2022-02-18T22:58:12.915Z"
      },
      {
        "duration": 8,
        "start_time": "2022-02-18T22:58:12.934Z"
      },
      {
        "duration": 69,
        "start_time": "2022-02-18T22:58:12.944Z"
      },
      {
        "duration": 31,
        "start_time": "2022-02-18T22:58:13.015Z"
      },
      {
        "duration": 4,
        "start_time": "2022-02-18T22:58:13.048Z"
      },
      {
        "duration": 49,
        "start_time": "2022-02-18T22:58:13.055Z"
      },
      {
        "duration": 5,
        "start_time": "2022-02-18T23:01:54.980Z"
      },
      {
        "duration": 17,
        "start_time": "2022-02-18T23:01:56.008Z"
      },
      {
        "duration": 19,
        "start_time": "2022-02-18T23:02:42.349Z"
      },
      {
        "duration": 33,
        "start_time": "2022-02-18T23:03:19.996Z"
      },
      {
        "duration": 5,
        "start_time": "2022-02-18T23:03:26.423Z"
      },
      {
        "duration": 30,
        "start_time": "2022-02-18T23:03:29.401Z"
      },
      {
        "duration": 25,
        "start_time": "2022-02-18T23:03:30.706Z"
      },
      {
        "duration": 30,
        "start_time": "2022-02-18T23:04:27.976Z"
      },
      {
        "duration": 24,
        "start_time": "2022-02-18T23:04:28.642Z"
      },
      {
        "duration": 31,
        "start_time": "2022-02-18T23:04:32.916Z"
      },
      {
        "duration": 27,
        "start_time": "2022-02-18T23:04:38.300Z"
      },
      {
        "duration": 3,
        "start_time": "2022-02-18T23:08:04.519Z"
      },
      {
        "duration": 191,
        "start_time": "2022-02-18T23:08:04.525Z"
      },
      {
        "duration": 15,
        "start_time": "2022-02-18T23:08:04.719Z"
      },
      {
        "duration": 56,
        "start_time": "2022-02-18T23:08:04.738Z"
      },
      {
        "duration": 6,
        "start_time": "2022-02-18T23:08:04.797Z"
      },
      {
        "duration": 24,
        "start_time": "2022-02-18T23:08:04.806Z"
      },
      {
        "duration": 6,
        "start_time": "2022-02-18T23:08:04.835Z"
      },
      {
        "duration": 72,
        "start_time": "2022-02-18T23:08:04.844Z"
      },
      {
        "duration": 22,
        "start_time": "2022-02-18T23:08:04.919Z"
      },
      {
        "duration": 30,
        "start_time": "2022-02-18T23:08:04.943Z"
      },
      {
        "duration": 83,
        "start_time": "2022-02-18T23:08:04.994Z"
      },
      {
        "duration": 102,
        "start_time": "2022-02-18T23:08:05.079Z"
      },
      {
        "duration": 74,
        "start_time": "2022-02-18T23:08:05.193Z"
      },
      {
        "duration": 26,
        "start_time": "2022-02-18T23:08:05.270Z"
      },
      {
        "duration": 4,
        "start_time": "2022-02-18T23:08:05.299Z"
      },
      {
        "duration": 17,
        "start_time": "2022-02-18T23:08:05.305Z"
      },
      {
        "duration": 14,
        "start_time": "2022-02-18T23:08:05.324Z"
      },
      {
        "duration": 8,
        "start_time": "2022-02-18T23:08:05.340Z"
      },
      {
        "duration": 75,
        "start_time": "2022-02-18T23:08:05.352Z"
      },
      {
        "duration": 32,
        "start_time": "2022-02-18T23:08:05.430Z"
      },
      {
        "duration": 5,
        "start_time": "2022-02-18T23:08:09.436Z"
      },
      {
        "duration": 32,
        "start_time": "2022-02-18T23:08:14.286Z"
      },
      {
        "duration": 26,
        "start_time": "2022-02-18T23:08:15.041Z"
      },
      {
        "duration": 28,
        "start_time": "2022-02-18T23:08:15.731Z"
      },
      {
        "duration": 236,
        "start_time": "2022-02-18T23:10:54.798Z"
      },
      {
        "duration": 249,
        "start_time": "2022-02-18T23:11:01.453Z"
      },
      {
        "duration": 30,
        "start_time": "2022-02-18T23:11:07.803Z"
      },
      {
        "duration": 757,
        "start_time": "2022-02-18T23:12:26.503Z"
      },
      {
        "duration": 195,
        "start_time": "2022-02-18T23:12:27.263Z"
      },
      {
        "duration": 34,
        "start_time": "2022-02-18T23:12:27.461Z"
      },
      {
        "duration": 43,
        "start_time": "2022-02-18T23:12:27.497Z"
      },
      {
        "duration": 22,
        "start_time": "2022-02-18T23:12:27.543Z"
      },
      {
        "duration": 47,
        "start_time": "2022-02-18T23:12:27.567Z"
      },
      {
        "duration": 19,
        "start_time": "2022-02-18T23:12:27.616Z"
      },
      {
        "duration": 43,
        "start_time": "2022-02-18T23:12:27.639Z"
      },
      {
        "duration": 24,
        "start_time": "2022-02-18T23:12:27.685Z"
      },
      {
        "duration": 31,
        "start_time": "2022-02-18T23:12:27.712Z"
      },
      {
        "duration": 103,
        "start_time": "2022-02-18T23:12:27.745Z"
      },
      {
        "duration": 111,
        "start_time": "2022-02-18T23:12:27.851Z"
      },
      {
        "duration": 81,
        "start_time": "2022-02-18T23:12:27.965Z"
      },
      {
        "duration": 15,
        "start_time": "2022-02-18T23:12:28.048Z"
      },
      {
        "duration": 27,
        "start_time": "2022-02-18T23:12:28.066Z"
      },
      {
        "duration": 24,
        "start_time": "2022-02-18T23:12:28.096Z"
      },
      {
        "duration": 14,
        "start_time": "2022-02-18T23:12:28.123Z"
      },
      {
        "duration": 19,
        "start_time": "2022-02-18T23:12:28.140Z"
      },
      {
        "duration": 44,
        "start_time": "2022-02-18T23:12:28.161Z"
      },
      {
        "duration": 29,
        "start_time": "2022-02-18T23:12:28.207Z"
      },
      {
        "duration": 4,
        "start_time": "2022-02-18T23:12:31.821Z"
      },
      {
        "duration": 30,
        "start_time": "2022-02-18T23:12:32.954Z"
      },
      {
        "duration": 5,
        "start_time": "2022-02-18T23:17:28.435Z"
      },
      {
        "duration": 26,
        "start_time": "2022-02-18T23:17:29.078Z"
      },
      {
        "duration": 22,
        "start_time": "2022-02-18T23:17:54.063Z"
      },
      {
        "duration": 19,
        "start_time": "2022-02-18T23:17:54.808Z"
      },
      {
        "duration": 20,
        "start_time": "2022-02-18T23:17:55.399Z"
      },
      {
        "duration": 21,
        "start_time": "2022-02-18T23:17:55.972Z"
      },
      {
        "duration": 25,
        "start_time": "2022-02-18T23:17:56.487Z"
      },
      {
        "duration": 21,
        "start_time": "2022-02-18T23:17:57.315Z"
      },
      {
        "duration": 13,
        "start_time": "2022-02-18T23:21:07.265Z"
      },
      {
        "duration": 363,
        "start_time": "2022-02-18T23:21:31.085Z"
      },
      {
        "duration": 13,
        "start_time": "2022-02-18T23:21:58.690Z"
      },
      {
        "duration": 15,
        "start_time": "2022-02-18T23:24:25.580Z"
      },
      {
        "duration": 12,
        "start_time": "2022-02-18T23:24:54.508Z"
      },
      {
        "duration": 6,
        "start_time": "2022-02-18T23:35:01.701Z"
      },
      {
        "duration": 479,
        "start_time": "2022-02-18T23:35:57.478Z"
      },
      {
        "duration": 7,
        "start_time": "2022-02-18T23:36:36.308Z"
      },
      {
        "duration": 495,
        "start_time": "2022-02-18T23:36:38.021Z"
      },
      {
        "duration": 5,
        "start_time": "2022-02-18T23:37:22.225Z"
      },
      {
        "duration": 27,
        "start_time": "2022-02-18T23:37:23.432Z"
      },
      {
        "duration": 26,
        "start_time": "2022-02-18T23:37:30.434Z"
      },
      {
        "duration": 26,
        "start_time": "2022-02-18T23:38:20.409Z"
      },
      {
        "duration": 26,
        "start_time": "2022-02-18T23:38:20.926Z"
      },
      {
        "duration": 25,
        "start_time": "2022-02-18T23:38:21.508Z"
      },
      {
        "duration": 6,
        "start_time": "2022-02-18T23:46:31.359Z"
      },
      {
        "duration": 39,
        "start_time": "2022-02-18T23:46:32.436Z"
      },
      {
        "duration": 38,
        "start_time": "2022-02-18T23:46:46.701Z"
      },
      {
        "duration": 33,
        "start_time": "2022-02-18T23:46:47.997Z"
      },
      {
        "duration": 32,
        "start_time": "2022-02-18T23:46:49.533Z"
      },
      {
        "duration": 35,
        "start_time": "2022-02-18T23:52:13.739Z"
      },
      {
        "duration": 13,
        "start_time": "2022-02-18T23:52:15.082Z"
      },
      {
        "duration": 251,
        "start_time": "2022-02-18T23:54:30.301Z"
      },
      {
        "duration": 253,
        "start_time": "2022-02-18T23:55:07.259Z"
      },
      {
        "duration": 17,
        "start_time": "2022-02-18T23:55:33.631Z"
      },
      {
        "duration": 13,
        "start_time": "2022-02-18T23:55:49.701Z"
      },
      {
        "duration": 8,
        "start_time": "2022-02-18T23:56:55.832Z"
      },
      {
        "duration": 13,
        "start_time": "2022-02-18T23:56:58.031Z"
      },
      {
        "duration": 735,
        "start_time": "2022-02-18T23:57:26.107Z"
      },
      {
        "duration": 186,
        "start_time": "2022-02-18T23:57:26.845Z"
      },
      {
        "duration": 26,
        "start_time": "2022-02-18T23:57:27.034Z"
      },
      {
        "duration": 49,
        "start_time": "2022-02-18T23:57:27.063Z"
      },
      {
        "duration": 5,
        "start_time": "2022-02-18T23:57:27.114Z"
      },
      {
        "duration": 30,
        "start_time": "2022-02-18T23:57:27.122Z"
      },
      {
        "duration": 5,
        "start_time": "2022-02-18T23:57:27.155Z"
      },
      {
        "duration": 66,
        "start_time": "2022-02-18T23:57:27.163Z"
      },
      {
        "duration": 24,
        "start_time": "2022-02-18T23:57:27.233Z"
      },
      {
        "duration": 52,
        "start_time": "2022-02-18T23:57:27.260Z"
      },
      {
        "duration": 98,
        "start_time": "2022-02-18T23:57:27.315Z"
      },
      {
        "duration": 107,
        "start_time": "2022-02-18T23:57:27.416Z"
      },
      {
        "duration": 88,
        "start_time": "2022-02-18T23:57:27.525Z"
      },
      {
        "duration": 14,
        "start_time": "2022-02-18T23:57:27.615Z"
      },
      {
        "duration": 4,
        "start_time": "2022-02-18T23:57:27.631Z"
      },
      {
        "duration": 14,
        "start_time": "2022-02-18T23:57:27.638Z"
      },
      {
        "duration": 41,
        "start_time": "2022-02-18T23:57:27.655Z"
      },
      {
        "duration": 8,
        "start_time": "2022-02-18T23:57:27.699Z"
      },
      {
        "duration": 33,
        "start_time": "2022-02-18T23:57:27.710Z"
      },
      {
        "duration": 68,
        "start_time": "2022-02-18T23:57:27.745Z"
      },
      {
        "duration": 6,
        "start_time": "2022-02-18T23:57:27.816Z"
      },
      {
        "duration": 28,
        "start_time": "2022-02-18T23:57:27.825Z"
      },
      {
        "duration": 48,
        "start_time": "2022-02-18T23:57:27.858Z"
      },
      {
        "duration": 18,
        "start_time": "2022-02-18T23:57:27.909Z"
      },
      {
        "duration": 19,
        "start_time": "2022-02-18T23:57:27.930Z"
      },
      {
        "duration": 53,
        "start_time": "2022-02-18T23:57:27.951Z"
      },
      {
        "duration": 19,
        "start_time": "2022-02-18T23:57:28.006Z"
      },
      {
        "duration": 12,
        "start_time": "2022-02-18T23:57:28.027Z"
      },
      {
        "duration": 18,
        "start_time": "2022-02-18T23:57:28.041Z"
      },
      {
        "duration": 43,
        "start_time": "2022-02-18T23:57:28.062Z"
      },
      {
        "duration": 7,
        "start_time": "2022-02-18T23:57:28.108Z"
      },
      {
        "duration": 42,
        "start_time": "2022-02-18T23:57:28.118Z"
      },
      {
        "duration": 67,
        "start_time": "2022-02-18T23:57:28.163Z"
      },
      {
        "duration": 36,
        "start_time": "2022-02-18T23:57:28.233Z"
      },
      {
        "duration": 35,
        "start_time": "2022-02-18T23:57:28.293Z"
      },
      {
        "duration": 35,
        "start_time": "2022-02-18T23:57:31.831Z"
      },
      {
        "duration": 12,
        "start_time": "2022-02-18T23:57:33.151Z"
      },
      {
        "duration": 342,
        "start_time": "2022-02-18T23:59:29.283Z"
      },
      {
        "duration": 268,
        "start_time": "2022-02-19T00:00:02.584Z"
      },
      {
        "duration": 3,
        "start_time": "2022-02-19T00:00:12.099Z"
      },
      {
        "duration": 218,
        "start_time": "2022-02-19T00:00:12.108Z"
      },
      {
        "duration": 15,
        "start_time": "2022-02-19T00:00:12.329Z"
      },
      {
        "duration": 51,
        "start_time": "2022-02-19T00:00:12.347Z"
      },
      {
        "duration": 5,
        "start_time": "2022-02-19T00:00:12.401Z"
      },
      {
        "duration": 27,
        "start_time": "2022-02-19T00:00:12.408Z"
      },
      {
        "duration": 6,
        "start_time": "2022-02-19T00:00:12.437Z"
      },
      {
        "duration": 61,
        "start_time": "2022-02-19T00:00:12.446Z"
      },
      {
        "duration": 25,
        "start_time": "2022-02-19T00:00:12.511Z"
      },
      {
        "duration": 33,
        "start_time": "2022-02-19T00:00:12.539Z"
      },
      {
        "duration": 100,
        "start_time": "2022-02-19T00:00:12.595Z"
      },
      {
        "duration": 107,
        "start_time": "2022-02-19T00:00:12.698Z"
      },
      {
        "duration": 74,
        "start_time": "2022-02-19T00:00:12.807Z"
      },
      {
        "duration": 14,
        "start_time": "2022-02-19T00:00:12.893Z"
      },
      {
        "duration": 8,
        "start_time": "2022-02-19T00:00:12.909Z"
      },
      {
        "duration": 32,
        "start_time": "2022-02-19T00:00:12.919Z"
      },
      {
        "duration": 35,
        "start_time": "2022-02-19T00:00:12.954Z"
      },
      {
        "duration": 8,
        "start_time": "2022-02-19T00:00:12.991Z"
      },
      {
        "duration": 44,
        "start_time": "2022-02-19T00:00:13.002Z"
      },
      {
        "duration": 57,
        "start_time": "2022-02-19T00:00:13.049Z"
      },
      {
        "duration": 6,
        "start_time": "2022-02-19T00:00:13.108Z"
      },
      {
        "duration": 31,
        "start_time": "2022-02-19T00:00:13.117Z"
      },
      {
        "duration": 45,
        "start_time": "2022-02-19T00:00:13.150Z"
      },
      {
        "duration": 22,
        "start_time": "2022-02-19T00:00:13.200Z"
      },
      {
        "duration": 21,
        "start_time": "2022-02-19T00:00:13.225Z"
      },
      {
        "duration": 57,
        "start_time": "2022-02-19T00:00:13.249Z"
      },
      {
        "duration": 19,
        "start_time": "2022-02-19T00:00:13.308Z"
      },
      {
        "duration": 16,
        "start_time": "2022-02-19T00:00:13.330Z"
      },
      {
        "duration": 49,
        "start_time": "2022-02-19T00:00:13.348Z"
      },
      {
        "duration": 13,
        "start_time": "2022-02-19T00:00:13.399Z"
      },
      {
        "duration": 5,
        "start_time": "2022-02-19T00:00:13.415Z"
      },
      {
        "duration": 45,
        "start_time": "2022-02-19T00:00:13.422Z"
      },
      {
        "duration": 59,
        "start_time": "2022-02-19T00:00:13.470Z"
      },
      {
        "duration": 35,
        "start_time": "2022-02-19T00:00:13.532Z"
      },
      {
        "duration": 54,
        "start_time": "2022-02-19T00:00:13.570Z"
      },
      {
        "duration": 263,
        "start_time": "2022-02-19T00:00:16.503Z"
      },
      {
        "duration": 247,
        "start_time": "2022-02-19T00:22:36.989Z"
      },
      {
        "duration": 727,
        "start_time": "2022-02-19T00:22:49.547Z"
      },
      {
        "duration": 186,
        "start_time": "2022-02-19T00:22:50.277Z"
      },
      {
        "duration": 35,
        "start_time": "2022-02-19T00:22:50.466Z"
      },
      {
        "duration": 34,
        "start_time": "2022-02-19T00:22:50.505Z"
      },
      {
        "duration": 10,
        "start_time": "2022-02-19T00:22:50.541Z"
      },
      {
        "duration": 61,
        "start_time": "2022-02-19T00:22:50.555Z"
      },
      {
        "duration": 13,
        "start_time": "2022-02-19T00:22:50.619Z"
      },
      {
        "duration": 33,
        "start_time": "2022-02-19T00:22:50.636Z"
      },
      {
        "duration": 69,
        "start_time": "2022-02-19T00:22:50.672Z"
      },
      {
        "duration": 50,
        "start_time": "2022-02-19T00:22:50.745Z"
      },
      {
        "duration": 99,
        "start_time": "2022-02-19T00:22:50.798Z"
      },
      {
        "duration": 114,
        "start_time": "2022-02-19T00:22:50.899Z"
      },
      {
        "duration": 87,
        "start_time": "2022-02-19T00:22:51.016Z"
      },
      {
        "duration": 15,
        "start_time": "2022-02-19T00:22:51.105Z"
      },
      {
        "duration": 5,
        "start_time": "2022-02-19T00:22:51.122Z"
      },
      {
        "duration": 19,
        "start_time": "2022-02-19T00:22:51.129Z"
      },
      {
        "duration": 46,
        "start_time": "2022-02-19T00:22:51.151Z"
      },
      {
        "duration": 10,
        "start_time": "2022-02-19T00:22:51.199Z"
      },
      {
        "duration": 42,
        "start_time": "2022-02-19T00:22:51.211Z"
      },
      {
        "duration": 61,
        "start_time": "2022-02-19T00:22:51.256Z"
      },
      {
        "duration": 4,
        "start_time": "2022-02-19T00:22:51.320Z"
      },
      {
        "duration": 31,
        "start_time": "2022-02-19T00:22:51.327Z"
      },
      {
        "duration": 40,
        "start_time": "2022-02-19T00:22:51.363Z"
      },
      {
        "duration": 20,
        "start_time": "2022-02-19T00:22:51.406Z"
      },
      {
        "duration": 18,
        "start_time": "2022-02-19T00:22:51.429Z"
      },
      {
        "duration": 57,
        "start_time": "2022-02-19T00:22:51.449Z"
      },
      {
        "duration": 19,
        "start_time": "2022-02-19T00:22:51.509Z"
      },
      {
        "duration": 12,
        "start_time": "2022-02-19T00:22:51.530Z"
      },
      {
        "duration": 15,
        "start_time": "2022-02-19T00:22:51.544Z"
      },
      {
        "duration": 12,
        "start_time": "2022-02-19T00:22:51.595Z"
      },
      {
        "duration": 7,
        "start_time": "2022-02-19T00:22:51.609Z"
      },
      {
        "duration": 44,
        "start_time": "2022-02-19T00:22:51.619Z"
      },
      {
        "duration": 61,
        "start_time": "2022-02-19T00:22:51.666Z"
      },
      {
        "duration": 33,
        "start_time": "2022-02-19T00:22:51.730Z"
      },
      {
        "duration": 58,
        "start_time": "2022-02-19T00:22:51.765Z"
      },
      {
        "duration": 15,
        "start_time": "2022-02-19T00:22:51.825Z"
      },
      {
        "duration": 328,
        "start_time": "2022-02-19T00:22:53.412Z"
      },
      {
        "duration": 782,
        "start_time": "2022-02-19T00:26:47.451Z"
      },
      {
        "duration": 197,
        "start_time": "2022-02-19T00:26:48.235Z"
      },
      {
        "duration": 27,
        "start_time": "2022-02-19T00:26:48.436Z"
      },
      {
        "duration": 53,
        "start_time": "2022-02-19T00:26:48.466Z"
      },
      {
        "duration": 7,
        "start_time": "2022-02-19T00:26:48.522Z"
      },
      {
        "duration": 27,
        "start_time": "2022-02-19T00:26:48.532Z"
      },
      {
        "duration": 36,
        "start_time": "2022-02-19T00:26:48.562Z"
      },
      {
        "duration": 39,
        "start_time": "2022-02-19T00:26:48.603Z"
      },
      {
        "duration": 52,
        "start_time": "2022-02-19T00:26:48.647Z"
      },
      {
        "duration": 32,
        "start_time": "2022-02-19T00:26:48.702Z"
      },
      {
        "duration": 112,
        "start_time": "2022-02-19T00:26:48.737Z"
      },
      {
        "duration": 112,
        "start_time": "2022-02-19T00:26:48.852Z"
      },
      {
        "duration": 87,
        "start_time": "2022-02-19T00:26:48.966Z"
      },
      {
        "duration": 14,
        "start_time": "2022-02-19T00:26:49.055Z"
      },
      {
        "duration": 4,
        "start_time": "2022-02-19T00:26:49.071Z"
      },
      {
        "duration": 13,
        "start_time": "2022-02-19T00:26:49.094Z"
      },
      {
        "duration": 15,
        "start_time": "2022-02-19T00:26:49.110Z"
      },
      {
        "duration": 10,
        "start_time": "2022-02-19T00:26:49.128Z"
      },
      {
        "duration": 76,
        "start_time": "2022-02-19T00:26:49.141Z"
      },
      {
        "duration": 32,
        "start_time": "2022-02-19T00:26:49.220Z"
      },
      {
        "duration": 4,
        "start_time": "2022-02-19T00:26:49.255Z"
      },
      {
        "duration": 54,
        "start_time": "2022-02-19T00:26:49.261Z"
      },
      {
        "duration": 19,
        "start_time": "2022-02-19T00:26:49.320Z"
      },
      {
        "duration": 53,
        "start_time": "2022-02-19T00:26:49.342Z"
      },
      {
        "duration": 20,
        "start_time": "2022-02-19T00:26:49.398Z"
      },
      {
        "duration": 23,
        "start_time": "2022-02-19T00:26:49.421Z"
      },
      {
        "duration": 48,
        "start_time": "2022-02-19T00:26:49.447Z"
      },
      {
        "duration": 12,
        "start_time": "2022-02-19T00:26:49.498Z"
      },
      {
        "duration": 16,
        "start_time": "2022-02-19T00:26:49.512Z"
      },
      {
        "duration": 12,
        "start_time": "2022-02-19T00:26:49.530Z"
      },
      {
        "duration": 6,
        "start_time": "2022-02-19T00:26:49.544Z"
      },
      {
        "duration": 76,
        "start_time": "2022-02-19T00:26:49.552Z"
      },
      {
        "duration": 40,
        "start_time": "2022-02-19T00:26:49.631Z"
      },
      {
        "duration": 34,
        "start_time": "2022-02-19T00:26:49.694Z"
      },
      {
        "duration": 34,
        "start_time": "2022-02-19T00:26:49.730Z"
      },
      {
        "duration": 16,
        "start_time": "2022-02-19T00:27:13.203Z"
      },
      {
        "duration": 41,
        "start_time": "2022-02-19T00:27:32.100Z"
      },
      {
        "duration": 15,
        "start_time": "2022-02-19T00:28:28.943Z"
      },
      {
        "duration": 356,
        "start_time": "2022-02-19T00:31:07.402Z"
      },
      {
        "duration": 74,
        "start_time": "2022-02-19T00:31:18.456Z"
      },
      {
        "duration": 86,
        "start_time": "2022-02-19T00:31:29.259Z"
      },
      {
        "duration": 84,
        "start_time": "2022-02-19T00:32:48.346Z"
      },
      {
        "duration": 91,
        "start_time": "2022-02-19T00:33:08.936Z"
      },
      {
        "duration": 15,
        "start_time": "2022-02-19T00:34:48.171Z"
      },
      {
        "duration": 16,
        "start_time": "2022-02-19T00:35:47.927Z"
      },
      {
        "duration": 17,
        "start_time": "2022-02-19T00:35:59.760Z"
      },
      {
        "duration": 702,
        "start_time": "2022-02-19T00:38:46.341Z"
      },
      {
        "duration": 190,
        "start_time": "2022-02-19T00:38:47.046Z"
      },
      {
        "duration": 27,
        "start_time": "2022-02-19T00:38:47.239Z"
      },
      {
        "duration": 50,
        "start_time": "2022-02-19T00:38:47.269Z"
      },
      {
        "duration": 8,
        "start_time": "2022-02-19T00:38:47.322Z"
      },
      {
        "duration": 30,
        "start_time": "2022-02-19T00:38:47.332Z"
      },
      {
        "duration": 30,
        "start_time": "2022-02-19T00:38:47.364Z"
      },
      {
        "duration": 29,
        "start_time": "2022-02-19T00:38:47.398Z"
      },
      {
        "duration": 23,
        "start_time": "2022-02-19T00:38:47.430Z"
      },
      {
        "duration": 59,
        "start_time": "2022-02-19T00:38:47.455Z"
      },
      {
        "duration": 102,
        "start_time": "2022-02-19T00:38:47.517Z"
      },
      {
        "duration": 113,
        "start_time": "2022-02-19T00:38:47.621Z"
      },
      {
        "duration": 85,
        "start_time": "2022-02-19T00:38:47.736Z"
      },
      {
        "duration": 16,
        "start_time": "2022-02-19T00:38:47.824Z"
      },
      {
        "duration": 4,
        "start_time": "2022-02-19T00:38:47.843Z"
      },
      {
        "duration": 22,
        "start_time": "2022-02-19T00:38:47.849Z"
      },
      {
        "duration": 14,
        "start_time": "2022-02-19T00:38:47.894Z"
      },
      {
        "duration": 9,
        "start_time": "2022-02-19T00:38:47.910Z"
      },
      {
        "duration": 35,
        "start_time": "2022-02-19T00:38:47.921Z"
      },
      {
        "duration": 66,
        "start_time": "2022-02-19T00:38:47.958Z"
      },
      {
        "duration": 6,
        "start_time": "2022-02-19T00:38:48.026Z"
      },
      {
        "duration": 28,
        "start_time": "2022-02-19T00:38:48.035Z"
      },
      {
        "duration": 20,
        "start_time": "2022-02-19T00:38:48.095Z"
      },
      {
        "duration": 20,
        "start_time": "2022-02-19T00:38:48.117Z"
      },
      {
        "duration": 19,
        "start_time": "2022-02-19T00:38:48.139Z"
      },
      {
        "duration": 24,
        "start_time": "2022-02-19T00:38:48.193Z"
      },
      {
        "duration": 21,
        "start_time": "2022-02-19T00:38:48.220Z"
      },
      {
        "duration": 13,
        "start_time": "2022-02-19T00:38:48.243Z"
      },
      {
        "duration": 16,
        "start_time": "2022-02-19T00:38:48.295Z"
      },
      {
        "duration": 13,
        "start_time": "2022-02-19T00:38:48.313Z"
      },
      {
        "duration": 6,
        "start_time": "2022-02-19T00:38:48.328Z"
      },
      {
        "duration": 74,
        "start_time": "2022-02-19T00:38:48.337Z"
      },
      {
        "duration": 42,
        "start_time": "2022-02-19T00:38:48.413Z"
      },
      {
        "duration": 59,
        "start_time": "2022-02-19T00:38:48.458Z"
      },
      {
        "duration": 36,
        "start_time": "2022-02-19T00:38:48.519Z"
      },
      {
        "duration": 13,
        "start_time": "2022-02-19T00:38:51.123Z"
      },
      {
        "duration": 7,
        "start_time": "2022-02-19T00:38:55.376Z"
      },
      {
        "duration": 11,
        "start_time": "2022-02-19T00:39:00.677Z"
      },
      {
        "duration": 7,
        "start_time": "2022-02-19T00:39:03.049Z"
      },
      {
        "duration": 99,
        "start_time": "2022-02-28T14:01:31.453Z"
      },
      {
        "duration": 767,
        "start_time": "2022-02-28T14:20:30.957Z"
      },
      {
        "duration": 201,
        "start_time": "2022-02-28T14:20:31.726Z"
      },
      {
        "duration": 31,
        "start_time": "2022-02-28T14:20:31.930Z"
      },
      {
        "duration": 38,
        "start_time": "2022-02-28T14:20:31.965Z"
      },
      {
        "duration": 6,
        "start_time": "2022-02-28T14:20:32.041Z"
      },
      {
        "duration": 27,
        "start_time": "2022-02-28T14:20:32.050Z"
      },
      {
        "duration": 7,
        "start_time": "2022-02-28T14:20:32.080Z"
      },
      {
        "duration": 75,
        "start_time": "2022-02-28T14:20:32.092Z"
      },
      {
        "duration": 21,
        "start_time": "2022-02-28T14:20:32.170Z"
      },
      {
        "duration": 42,
        "start_time": "2022-02-28T14:20:32.193Z"
      },
      {
        "duration": 97,
        "start_time": "2022-02-28T14:20:32.237Z"
      },
      {
        "duration": 111,
        "start_time": "2022-02-28T14:20:32.337Z"
      },
      {
        "duration": 93,
        "start_time": "2022-02-28T14:20:32.451Z"
      },
      {
        "duration": 14,
        "start_time": "2022-02-28T14:20:32.546Z"
      },
      {
        "duration": 6,
        "start_time": "2022-02-28T14:20:32.563Z"
      },
      {
        "duration": 15,
        "start_time": "2022-02-28T14:20:32.571Z"
      },
      {
        "duration": 15,
        "start_time": "2022-02-28T14:20:32.588Z"
      },
      {
        "duration": 11,
        "start_time": "2022-02-28T14:20:32.641Z"
      },
      {
        "duration": 29,
        "start_time": "2022-02-28T14:20:32.655Z"
      },
      {
        "duration": 64,
        "start_time": "2022-02-28T14:20:32.687Z"
      },
      {
        "duration": 4,
        "start_time": "2022-02-28T14:20:32.753Z"
      },
      {
        "duration": 32,
        "start_time": "2022-02-28T14:20:32.759Z"
      },
      {
        "duration": 45,
        "start_time": "2022-02-28T14:20:32.796Z"
      },
      {
        "duration": 21,
        "start_time": "2022-02-28T14:20:32.844Z"
      },
      {
        "duration": 19,
        "start_time": "2022-02-28T14:20:32.867Z"
      },
      {
        "duration": 47,
        "start_time": "2022-02-28T14:20:32.888Z"
      },
      {
        "duration": 27,
        "start_time": "2022-02-28T14:20:32.937Z"
      },
      {
        "duration": 14,
        "start_time": "2022-02-28T14:20:32.967Z"
      },
      {
        "duration": 49,
        "start_time": "2022-02-28T14:20:32.984Z"
      },
      {
        "duration": 18,
        "start_time": "2022-02-28T14:20:33.037Z"
      },
      {
        "duration": 9,
        "start_time": "2022-02-28T14:20:33.057Z"
      },
      {
        "duration": 40,
        "start_time": "2022-02-28T14:20:33.068Z"
      },
      {
        "duration": 57,
        "start_time": "2022-02-28T14:20:33.111Z"
      },
      {
        "duration": 32,
        "start_time": "2022-02-28T14:20:33.171Z"
      },
      {
        "duration": 60,
        "start_time": "2022-02-28T14:20:33.205Z"
      },
      {
        "duration": 13,
        "start_time": "2022-02-28T14:20:33.268Z"
      },
      {
        "duration": 6,
        "start_time": "2022-02-28T14:20:33.283Z"
      },
      {
        "duration": 12,
        "start_time": "2022-02-28T14:20:33.291Z"
      },
      {
        "duration": 35,
        "start_time": "2022-02-28T14:20:33.305Z"
      },
      {
        "duration": 762,
        "start_time": "2022-03-10T20:57:30.948Z"
      },
      {
        "duration": 172,
        "start_time": "2022-03-10T20:57:31.713Z"
      },
      {
        "duration": 25,
        "start_time": "2022-03-10T20:57:31.888Z"
      },
      {
        "duration": 47,
        "start_time": "2022-03-10T20:57:31.917Z"
      },
      {
        "duration": 5,
        "start_time": "2022-03-10T20:57:31.966Z"
      },
      {
        "duration": 31,
        "start_time": "2022-03-10T20:57:31.973Z"
      },
      {
        "duration": 8,
        "start_time": "2022-03-10T20:57:32.007Z"
      },
      {
        "duration": 59,
        "start_time": "2022-03-10T20:57:32.021Z"
      },
      {
        "duration": 22,
        "start_time": "2022-03-10T20:57:32.085Z"
      },
      {
        "duration": 53,
        "start_time": "2022-03-10T20:57:32.110Z"
      },
      {
        "duration": 100,
        "start_time": "2022-03-10T20:57:32.165Z"
      },
      {
        "duration": 114,
        "start_time": "2022-03-10T20:57:32.267Z"
      },
      {
        "duration": 82,
        "start_time": "2022-03-10T20:57:32.384Z"
      },
      {
        "duration": 14,
        "start_time": "2022-03-10T20:57:32.468Z"
      },
      {
        "duration": 4,
        "start_time": "2022-03-10T20:57:32.484Z"
      },
      {
        "duration": 13,
        "start_time": "2022-03-10T20:57:32.491Z"
      },
      {
        "duration": 45,
        "start_time": "2022-03-10T20:57:32.507Z"
      },
      {
        "duration": 9,
        "start_time": "2022-03-10T20:57:32.554Z"
      },
      {
        "duration": 32,
        "start_time": "2022-03-10T20:57:32.565Z"
      },
      {
        "duration": 64,
        "start_time": "2022-03-10T20:57:32.599Z"
      },
      {
        "duration": 4,
        "start_time": "2022-03-10T20:57:32.665Z"
      },
      {
        "duration": 26,
        "start_time": "2022-03-10T20:57:32.672Z"
      },
      {
        "duration": 17,
        "start_time": "2022-03-10T20:57:32.702Z"
      },
      {
        "duration": 47,
        "start_time": "2022-03-10T20:57:32.721Z"
      },
      {
        "duration": 18,
        "start_time": "2022-03-10T20:57:32.770Z"
      },
      {
        "duration": 22,
        "start_time": "2022-03-10T20:57:32.790Z"
      },
      {
        "duration": 53,
        "start_time": "2022-03-10T20:57:32.816Z"
      },
      {
        "duration": 13,
        "start_time": "2022-03-10T20:57:32.871Z"
      },
      {
        "duration": 17,
        "start_time": "2022-03-10T20:57:32.886Z"
      },
      {
        "duration": 47,
        "start_time": "2022-03-10T20:57:32.906Z"
      },
      {
        "duration": 8,
        "start_time": "2022-03-10T20:57:36.952Z"
      },
      {
        "duration": 36,
        "start_time": "2022-03-10T21:02:09.196Z"
      },
      {
        "duration": 38,
        "start_time": "2022-03-10T21:02:15.156Z"
      },
      {
        "duration": 33,
        "start_time": "2022-03-10T21:02:18.415Z"
      },
      {
        "duration": 33,
        "start_time": "2022-03-10T21:02:19.634Z"
      },
      {
        "duration": 29,
        "start_time": "2022-03-10T21:03:54.740Z"
      },
      {
        "duration": 25,
        "start_time": "2022-03-10T21:04:13.217Z"
      },
      {
        "duration": 99,
        "start_time": "2022-03-10T21:05:29.448Z"
      },
      {
        "duration": 336,
        "start_time": "2022-03-10T21:28:46.387Z"
      },
      {
        "duration": 15,
        "start_time": "2022-03-10T21:29:05.895Z"
      },
      {
        "duration": 5,
        "start_time": "2022-03-10T21:29:23.900Z"
      },
      {
        "duration": 10,
        "start_time": "2022-03-10T21:30:23.364Z"
      },
      {
        "duration": 66,
        "start_time": "2022-03-10T21:30:45.461Z"
      },
      {
        "duration": 14,
        "start_time": "2022-03-10T21:30:51.641Z"
      },
      {
        "duration": 270,
        "start_time": "2022-03-10T21:31:12.446Z"
      },
      {
        "duration": 268,
        "start_time": "2022-03-10T21:31:27.428Z"
      },
      {
        "duration": 282,
        "start_time": "2022-03-10T21:31:41.163Z"
      },
      {
        "duration": 65,
        "start_time": "2022-03-10T21:31:54.092Z"
      },
      {
        "duration": 244,
        "start_time": "2022-03-10T21:32:28.805Z"
      },
      {
        "duration": 260,
        "start_time": "2022-03-10T21:32:40.761Z"
      },
      {
        "duration": 251,
        "start_time": "2022-03-10T21:33:47.273Z"
      },
      {
        "duration": 15,
        "start_time": "2022-03-10T21:34:10.541Z"
      },
      {
        "duration": 14,
        "start_time": "2022-03-10T21:37:53.656Z"
      },
      {
        "duration": 14,
        "start_time": "2022-03-10T21:38:45.114Z"
      },
      {
        "duration": 13,
        "start_time": "2022-03-10T21:38:53.540Z"
      },
      {
        "duration": 34,
        "start_time": "2022-03-10T21:41:24.748Z"
      },
      {
        "duration": 3,
        "start_time": "2022-03-10T21:41:33.453Z"
      },
      {
        "duration": 197,
        "start_time": "2022-03-10T21:41:33.462Z"
      },
      {
        "duration": 17,
        "start_time": "2022-03-10T21:41:33.662Z"
      },
      {
        "duration": 71,
        "start_time": "2022-03-10T21:41:33.683Z"
      },
      {
        "duration": 6,
        "start_time": "2022-03-10T21:41:33.757Z"
      },
      {
        "duration": 27,
        "start_time": "2022-03-10T21:41:33.765Z"
      },
      {
        "duration": 5,
        "start_time": "2022-03-10T21:41:33.794Z"
      },
      {
        "duration": 66,
        "start_time": "2022-03-10T21:41:33.802Z"
      },
      {
        "duration": 22,
        "start_time": "2022-03-10T21:41:33.872Z"
      },
      {
        "duration": 27,
        "start_time": "2022-03-10T21:41:33.897Z"
      },
      {
        "duration": 104,
        "start_time": "2022-03-10T21:41:33.926Z"
      },
      {
        "duration": 101,
        "start_time": "2022-03-10T21:41:34.032Z"
      },
      {
        "duration": 77,
        "start_time": "2022-03-10T21:41:34.136Z"
      },
      {
        "duration": 14,
        "start_time": "2022-03-10T21:41:34.216Z"
      },
      {
        "duration": 4,
        "start_time": "2022-03-10T21:41:34.252Z"
      },
      {
        "duration": 13,
        "start_time": "2022-03-10T21:41:34.258Z"
      },
      {
        "duration": 13,
        "start_time": "2022-03-10T21:41:34.273Z"
      },
      {
        "duration": 7,
        "start_time": "2022-03-10T21:41:34.288Z"
      },
      {
        "duration": 73,
        "start_time": "2022-03-10T21:41:34.298Z"
      },
      {
        "duration": 27,
        "start_time": "2022-03-10T21:41:34.373Z"
      },
      {
        "duration": 4,
        "start_time": "2022-03-10T21:41:34.402Z"
      },
      {
        "duration": 52,
        "start_time": "2022-03-10T21:41:34.409Z"
      },
      {
        "duration": 17,
        "start_time": "2022-03-10T21:41:34.464Z"
      },
      {
        "duration": 17,
        "start_time": "2022-03-10T21:41:34.485Z"
      },
      {
        "duration": 49,
        "start_time": "2022-03-10T21:41:34.505Z"
      },
      {
        "duration": 21,
        "start_time": "2022-03-10T21:41:34.556Z"
      },
      {
        "duration": 18,
        "start_time": "2022-03-10T21:41:34.580Z"
      },
      {
        "duration": 12,
        "start_time": "2022-03-10T21:41:34.600Z"
      },
      {
        "duration": 50,
        "start_time": "2022-03-10T21:41:34.615Z"
      },
      {
        "duration": 14,
        "start_time": "2022-03-10T21:41:34.668Z"
      },
      {
        "duration": 5,
        "start_time": "2022-03-10T21:41:34.684Z"
      },
      {
        "duration": 19,
        "start_time": "2022-03-10T21:41:34.692Z"
      },
      {
        "duration": 519,
        "start_time": "2022-03-10T21:41:37.119Z"
      },
      {
        "duration": 6,
        "start_time": "2022-03-10T21:42:22.541Z"
      },
      {
        "duration": 3,
        "start_time": "2022-03-10T21:42:23.071Z"
      },
      {
        "duration": 505,
        "start_time": "2022-03-10T21:42:27.143Z"
      },
      {
        "duration": 3,
        "start_time": "2022-03-10T21:43:15.526Z"
      },
      {
        "duration": 180,
        "start_time": "2022-03-10T21:43:15.539Z"
      },
      {
        "duration": 32,
        "start_time": "2022-03-10T21:43:15.721Z"
      },
      {
        "duration": 34,
        "start_time": "2022-03-10T21:43:15.755Z"
      },
      {
        "duration": 6,
        "start_time": "2022-03-10T21:43:15.793Z"
      },
      {
        "duration": 62,
        "start_time": "2022-03-10T21:43:15.802Z"
      },
      {
        "duration": 5,
        "start_time": "2022-03-10T21:43:15.867Z"
      },
      {
        "duration": 33,
        "start_time": "2022-03-10T21:43:15.874Z"
      },
      {
        "duration": 56,
        "start_time": "2022-03-10T21:43:15.911Z"
      },
      {
        "duration": 28,
        "start_time": "2022-03-10T21:43:15.970Z"
      },
      {
        "duration": 103,
        "start_time": "2022-03-10T21:43:16.001Z"
      },
      {
        "duration": 91,
        "start_time": "2022-03-10T21:43:16.107Z"
      },
      {
        "duration": 86,
        "start_time": "2022-03-10T21:43:16.201Z"
      },
      {
        "duration": 14,
        "start_time": "2022-03-10T21:43:16.289Z"
      },
      {
        "duration": 11,
        "start_time": "2022-03-10T21:43:16.306Z"
      },
      {
        "duration": 34,
        "start_time": "2022-03-10T21:43:16.319Z"
      },
      {
        "duration": 32,
        "start_time": "2022-03-10T21:43:16.356Z"
      },
      {
        "duration": 19,
        "start_time": "2022-03-10T21:43:16.391Z"
      },
      {
        "duration": 55,
        "start_time": "2022-03-10T21:43:16.413Z"
      },
      {
        "duration": 33,
        "start_time": "2022-03-10T21:43:16.470Z"
      },
      {
        "duration": 6,
        "start_time": "2022-03-10T21:43:16.505Z"
      },
      {
        "duration": 55,
        "start_time": "2022-03-10T21:43:16.513Z"
      },
      {
        "duration": 22,
        "start_time": "2022-03-10T21:43:16.571Z"
      },
      {
        "duration": 19,
        "start_time": "2022-03-10T21:43:16.600Z"
      },
      {
        "duration": 43,
        "start_time": "2022-03-10T21:43:16.623Z"
      },
      {
        "duration": 20,
        "start_time": "2022-03-10T21:43:16.668Z"
      },
      {
        "duration": 18,
        "start_time": "2022-03-10T21:43:16.690Z"
      },
      {
        "duration": 49,
        "start_time": "2022-03-10T21:43:16.710Z"
      },
      {
        "duration": 16,
        "start_time": "2022-03-10T21:43:16.762Z"
      },
      {
        "duration": 18,
        "start_time": "2022-03-10T21:43:16.781Z"
      },
      {
        "duration": 9,
        "start_time": "2022-03-10T21:43:16.802Z"
      },
      {
        "duration": 21,
        "start_time": "2022-03-10T21:43:16.813Z"
      },
      {
        "duration": 539,
        "start_time": "2022-03-10T21:43:16.837Z"
      },
      {
        "duration": -45,
        "start_time": "2022-03-10T21:43:17.423Z"
      },
      {
        "duration": -55,
        "start_time": "2022-03-10T21:43:17.435Z"
      },
      {
        "duration": -61,
        "start_time": "2022-03-10T21:43:17.442Z"
      },
      {
        "duration": -64,
        "start_time": "2022-03-10T21:43:17.447Z"
      },
      {
        "duration": -69,
        "start_time": "2022-03-10T21:43:17.453Z"
      },
      {
        "duration": -74,
        "start_time": "2022-03-10T21:43:17.459Z"
      },
      {
        "duration": -76,
        "start_time": "2022-03-10T21:43:17.464Z"
      },
      {
        "duration": -82,
        "start_time": "2022-03-10T21:43:17.471Z"
      },
      {
        "duration": 6,
        "start_time": "2022-03-10T21:46:14.607Z"
      },
      {
        "duration": 3,
        "start_time": "2022-03-10T21:46:15.890Z"
      },
      {
        "duration": 36,
        "start_time": "2022-03-10T21:46:17.597Z"
      },
      {
        "duration": 14,
        "start_time": "2022-03-10T21:47:46.307Z"
      },
      {
        "duration": 21,
        "start_time": "2022-03-10T21:49:08.660Z"
      },
      {
        "duration": 5,
        "start_time": "2022-03-10T21:50:40.632Z"
      },
      {
        "duration": 3,
        "start_time": "2022-03-10T21:50:41.887Z"
      },
      {
        "duration": 514,
        "start_time": "2022-03-10T21:50:44.460Z"
      },
      {
        "duration": 3,
        "start_time": "2022-03-10T21:54:50.135Z"
      },
      {
        "duration": 207,
        "start_time": "2022-03-10T21:54:50.146Z"
      },
      {
        "duration": 18,
        "start_time": "2022-03-10T21:54:50.356Z"
      },
      {
        "duration": 34,
        "start_time": "2022-03-10T21:54:50.377Z"
      },
      {
        "duration": 44,
        "start_time": "2022-03-10T21:54:50.414Z"
      },
      {
        "duration": 25,
        "start_time": "2022-03-10T21:54:50.461Z"
      },
      {
        "duration": 5,
        "start_time": "2022-03-10T21:54:50.488Z"
      },
      {
        "duration": 61,
        "start_time": "2022-03-10T21:54:50.495Z"
      },
      {
        "duration": 22,
        "start_time": "2022-03-10T21:54:50.559Z"
      },
      {
        "duration": 30,
        "start_time": "2022-03-10T21:54:50.584Z"
      },
      {
        "duration": 106,
        "start_time": "2022-03-10T21:54:50.617Z"
      },
      {
        "duration": 97,
        "start_time": "2022-03-10T21:54:50.725Z"
      },
      {
        "duration": 84,
        "start_time": "2022-03-10T21:54:50.824Z"
      },
      {
        "duration": 13,
        "start_time": "2022-03-10T21:54:50.911Z"
      },
      {
        "duration": 4,
        "start_time": "2022-03-10T21:54:50.926Z"
      },
      {
        "duration": 13,
        "start_time": "2022-03-10T21:54:50.952Z"
      },
      {
        "duration": 21,
        "start_time": "2022-03-10T21:54:50.967Z"
      },
      {
        "duration": 8,
        "start_time": "2022-03-10T21:54:50.990Z"
      },
      {
        "duration": 70,
        "start_time": "2022-03-10T21:54:51.000Z"
      },
      {
        "duration": 28,
        "start_time": "2022-03-10T21:54:51.072Z"
      },
      {
        "duration": 4,
        "start_time": "2022-03-10T21:54:51.102Z"
      },
      {
        "duration": 51,
        "start_time": "2022-03-10T21:54:51.108Z"
      },
      {
        "duration": 18,
        "start_time": "2022-03-10T21:54:51.161Z"
      },
      {
        "duration": 17,
        "start_time": "2022-03-10T21:54:51.184Z"
      },
      {
        "duration": 50,
        "start_time": "2022-03-10T21:54:51.204Z"
      },
      {
        "duration": 21,
        "start_time": "2022-03-10T21:54:51.256Z"
      },
      {
        "duration": 20,
        "start_time": "2022-03-10T21:54:51.280Z"
      },
      {
        "duration": 48,
        "start_time": "2022-03-10T21:54:51.303Z"
      },
      {
        "duration": 15,
        "start_time": "2022-03-10T21:54:51.353Z"
      },
      {
        "duration": 12,
        "start_time": "2022-03-10T21:54:51.371Z"
      },
      {
        "duration": 6,
        "start_time": "2022-03-10T21:54:51.386Z"
      },
      {
        "duration": 7,
        "start_time": "2022-03-10T21:54:51.394Z"
      },
      {
        "duration": 74,
        "start_time": "2022-03-10T21:54:51.403Z"
      },
      {
        "duration": 25,
        "start_time": "2022-03-10T21:54:51.479Z"
      },
      {
        "duration": 57,
        "start_time": "2022-03-10T21:54:51.507Z"
      },
      {
        "duration": 28,
        "start_time": "2022-03-10T21:54:51.567Z"
      },
      {
        "duration": 76,
        "start_time": "2022-03-10T21:54:51.597Z"
      },
      {
        "duration": -32,
        "start_time": "2022-03-10T21:54:51.707Z"
      },
      {
        "duration": -57,
        "start_time": "2022-03-10T21:54:51.734Z"
      },
      {
        "duration": -68,
        "start_time": "2022-03-10T21:54:51.746Z"
      },
      {
        "duration": -77,
        "start_time": "2022-03-10T21:54:51.756Z"
      },
      {
        "duration": 5,
        "start_time": "2022-03-10T22:00:40.877Z"
      },
      {
        "duration": 4,
        "start_time": "2022-03-10T22:00:41.468Z"
      },
      {
        "duration": 510,
        "start_time": "2022-03-10T22:00:44.243Z"
      },
      {
        "duration": 4,
        "start_time": "2022-03-10T22:14:55.700Z"
      },
      {
        "duration": 183,
        "start_time": "2022-03-10T22:14:55.710Z"
      },
      {
        "duration": 20,
        "start_time": "2022-03-10T22:14:55.896Z"
      },
      {
        "duration": 31,
        "start_time": "2022-03-10T22:14:55.951Z"
      },
      {
        "duration": 5,
        "start_time": "2022-03-10T22:14:55.985Z"
      },
      {
        "duration": 19,
        "start_time": "2022-03-10T22:14:55.992Z"
      },
      {
        "duration": 55,
        "start_time": "2022-03-10T22:14:56.014Z"
      },
      {
        "duration": 34,
        "start_time": "2022-03-10T22:14:56.072Z"
      },
      {
        "duration": 39,
        "start_time": "2022-03-10T22:14:56.112Z"
      },
      {
        "duration": 31,
        "start_time": "2022-03-10T22:14:56.155Z"
      },
      {
        "duration": 99,
        "start_time": "2022-03-10T22:14:56.189Z"
      },
      {
        "duration": 105,
        "start_time": "2022-03-10T22:14:56.291Z"
      },
      {
        "duration": 79,
        "start_time": "2022-03-10T22:14:56.398Z"
      },
      {
        "duration": 13,
        "start_time": "2022-03-10T22:14:56.479Z"
      },
      {
        "duration": 3,
        "start_time": "2022-03-10T22:14:56.495Z"
      },
      {
        "duration": 14,
        "start_time": "2022-03-10T22:14:56.501Z"
      },
      {
        "duration": 16,
        "start_time": "2022-03-10T22:14:56.552Z"
      },
      {
        "duration": 10,
        "start_time": "2022-03-10T22:14:56.571Z"
      },
      {
        "duration": 75,
        "start_time": "2022-03-10T22:14:56.584Z"
      },
      {
        "duration": 32,
        "start_time": "2022-03-10T22:14:56.662Z"
      },
      {
        "duration": 5,
        "start_time": "2022-03-10T22:14:56.697Z"
      },
      {
        "duration": 58,
        "start_time": "2022-03-10T22:14:56.704Z"
      },
      {
        "duration": 17,
        "start_time": "2022-03-10T22:14:56.764Z"
      },
      {
        "duration": 17,
        "start_time": "2022-03-10T22:14:56.786Z"
      },
      {
        "duration": 46,
        "start_time": "2022-03-10T22:14:56.806Z"
      },
      {
        "duration": 20,
        "start_time": "2022-03-10T22:14:56.855Z"
      },
      {
        "duration": 18,
        "start_time": "2022-03-10T22:14:56.877Z"
      },
      {
        "duration": 12,
        "start_time": "2022-03-10T22:14:56.898Z"
      },
      {
        "duration": 56,
        "start_time": "2022-03-10T22:14:56.913Z"
      },
      {
        "duration": 18,
        "start_time": "2022-03-10T22:14:56.972Z"
      },
      {
        "duration": 6,
        "start_time": "2022-03-10T22:14:56.993Z"
      },
      {
        "duration": 8,
        "start_time": "2022-03-10T22:14:57.002Z"
      },
      {
        "duration": 68,
        "start_time": "2022-03-10T22:14:57.013Z"
      },
      {
        "duration": 20,
        "start_time": "2022-03-10T22:14:57.084Z"
      },
      {
        "duration": 45,
        "start_time": "2022-03-10T22:14:57.107Z"
      },
      {
        "duration": 15,
        "start_time": "2022-03-10T22:14:57.155Z"
      },
      {
        "duration": 81,
        "start_time": "2022-03-10T22:14:57.173Z"
      },
      {
        "duration": -749,
        "start_time": "2022-03-10T22:14:58.006Z"
      },
      {
        "duration": -755,
        "start_time": "2022-03-10T22:14:58.013Z"
      },
      {
        "duration": -761,
        "start_time": "2022-03-10T22:14:58.021Z"
      },
      {
        "duration": -768,
        "start_time": "2022-03-10T22:14:58.029Z"
      },
      {
        "duration": 6,
        "start_time": "2022-03-10T22:20:41.163Z"
      },
      {
        "duration": 4,
        "start_time": "2022-03-10T22:20:43.056Z"
      },
      {
        "duration": 25,
        "start_time": "2022-03-10T22:20:45.305Z"
      },
      {
        "duration": 25,
        "start_time": "2022-03-10T22:22:53.988Z"
      },
      {
        "duration": 17,
        "start_time": "2022-03-10T22:22:54.834Z"
      },
      {
        "duration": 22,
        "start_time": "2022-03-10T22:22:55.716Z"
      },
      {
        "duration": 16,
        "start_time": "2022-03-10T22:22:58.843Z"
      },
      {
        "duration": 101,
        "start_time": "2022-03-10T22:23:02.638Z"
      },
      {
        "duration": 13,
        "start_time": "2022-03-10T22:24:23.035Z"
      },
      {
        "duration": 6,
        "start_time": "2022-03-10T22:24:29.389Z"
      },
      {
        "duration": 10,
        "start_time": "2022-03-10T22:25:32.136Z"
      },
      {
        "duration": 7,
        "start_time": "2022-03-10T22:25:34.808Z"
      },
      {
        "duration": 4,
        "start_time": "2022-03-10T22:27:04.569Z"
      },
      {
        "duration": 175,
        "start_time": "2022-03-10T22:27:04.583Z"
      },
      {
        "duration": 19,
        "start_time": "2022-03-10T22:27:04.762Z"
      },
      {
        "duration": 33,
        "start_time": "2022-03-10T22:27:04.784Z"
      },
      {
        "duration": 32,
        "start_time": "2022-03-10T22:27:04.820Z"
      },
      {
        "duration": 16,
        "start_time": "2022-03-10T22:27:04.855Z"
      },
      {
        "duration": 5,
        "start_time": "2022-03-10T22:27:04.874Z"
      },
      {
        "duration": 29,
        "start_time": "2022-03-10T22:27:04.881Z"
      },
      {
        "duration": 22,
        "start_time": "2022-03-10T22:27:04.953Z"
      },
      {
        "duration": 28,
        "start_time": "2022-03-10T22:27:04.978Z"
      },
      {
        "duration": 105,
        "start_time": "2022-03-10T22:27:05.008Z"
      },
      {
        "duration": 98,
        "start_time": "2022-03-10T22:27:05.116Z"
      },
      {
        "duration": 81,
        "start_time": "2022-03-10T22:27:05.217Z"
      },
      {
        "duration": 13,
        "start_time": "2022-03-10T22:27:05.301Z"
      },
      {
        "duration": 4,
        "start_time": "2022-03-10T22:27:05.317Z"
      },
      {
        "duration": 36,
        "start_time": "2022-03-10T22:27:05.323Z"
      },
      {
        "duration": 12,
        "start_time": "2022-03-10T22:27:05.361Z"
      },
      {
        "duration": 7,
        "start_time": "2022-03-10T22:27:05.375Z"
      },
      {
        "duration": 68,
        "start_time": "2022-03-10T22:27:05.385Z"
      },
      {
        "duration": 30,
        "start_time": "2022-03-10T22:27:05.455Z"
      },
      {
        "duration": 4,
        "start_time": "2022-03-10T22:27:05.487Z"
      },
      {
        "duration": 25,
        "start_time": "2022-03-10T22:27:05.494Z"
      },
      {
        "duration": 17,
        "start_time": "2022-03-10T22:27:05.552Z"
      },
      {
        "duration": 21,
        "start_time": "2022-03-10T22:27:05.574Z"
      },
      {
        "duration": 18,
        "start_time": "2022-03-10T22:27:05.598Z"
      },
      {
        "duration": 49,
        "start_time": "2022-03-10T22:27:05.619Z"
      },
      {
        "duration": 18,
        "start_time": "2022-03-10T22:27:05.671Z"
      },
      {
        "duration": 12,
        "start_time": "2022-03-10T22:27:05.691Z"
      },
      {
        "duration": 49,
        "start_time": "2022-03-10T22:27:05.705Z"
      },
      {
        "duration": 13,
        "start_time": "2022-03-10T22:27:05.757Z"
      },
      {
        "duration": 5,
        "start_time": "2022-03-10T22:27:05.773Z"
      },
      {
        "duration": 8,
        "start_time": "2022-03-10T22:27:05.780Z"
      },
      {
        "duration": 27,
        "start_time": "2022-03-10T22:27:05.790Z"
      },
      {
        "duration": 45,
        "start_time": "2022-03-10T22:27:05.820Z"
      },
      {
        "duration": 21,
        "start_time": "2022-03-10T22:27:05.868Z"
      },
      {
        "duration": 15,
        "start_time": "2022-03-10T22:27:05.891Z"
      },
      {
        "duration": 48,
        "start_time": "2022-03-10T22:27:05.909Z"
      },
      {
        "duration": 7,
        "start_time": "2022-03-10T22:27:05.959Z"
      },
      {
        "duration": 12,
        "start_time": "2022-03-10T22:27:05.968Z"
      },
      {
        "duration": 6,
        "start_time": "2022-03-10T22:27:05.983Z"
      },
      {
        "duration": 549,
        "start_time": "2022-03-11T08:15:48.905Z"
      },
      {
        "duration": 145,
        "start_time": "2022-03-11T08:15:49.456Z"
      },
      {
        "duration": 18,
        "start_time": "2022-03-11T08:15:49.603Z"
      },
      {
        "duration": 40,
        "start_time": "2022-03-11T08:15:49.623Z"
      },
      {
        "duration": 5,
        "start_time": "2022-03-11T08:15:49.666Z"
      },
      {
        "duration": 21,
        "start_time": "2022-03-11T08:15:49.673Z"
      },
      {
        "duration": 4,
        "start_time": "2022-03-11T08:15:49.696Z"
      },
      {
        "duration": 58,
        "start_time": "2022-03-11T08:15:49.703Z"
      },
      {
        "duration": 31,
        "start_time": "2022-03-11T08:15:49.763Z"
      },
      {
        "duration": 25,
        "start_time": "2022-03-11T08:15:49.796Z"
      },
      {
        "duration": 68,
        "start_time": "2022-03-11T08:15:49.823Z"
      },
      {
        "duration": 74,
        "start_time": "2022-03-11T08:15:49.892Z"
      },
      {
        "duration": 50,
        "start_time": "2022-03-11T08:15:49.968Z"
      },
      {
        "duration": 19,
        "start_time": "2022-03-11T08:15:50.020Z"
      },
      {
        "duration": 11,
        "start_time": "2022-03-11T08:15:50.041Z"
      },
      {
        "duration": 26,
        "start_time": "2022-03-11T08:15:50.054Z"
      },
      {
        "duration": 35,
        "start_time": "2022-03-11T08:15:50.082Z"
      },
      {
        "duration": 10,
        "start_time": "2022-03-11T08:15:50.119Z"
      },
      {
        "duration": 44,
        "start_time": "2022-03-11T08:15:50.130Z"
      },
      {
        "duration": 22,
        "start_time": "2022-03-11T08:15:50.176Z"
      },
      {
        "duration": 10,
        "start_time": "2022-03-11T08:15:50.200Z"
      },
      {
        "duration": 41,
        "start_time": "2022-03-11T08:15:50.211Z"
      },
      {
        "duration": 24,
        "start_time": "2022-03-11T08:15:50.256Z"
      },
      {
        "duration": 22,
        "start_time": "2022-03-11T08:15:50.282Z"
      },
      {
        "duration": 32,
        "start_time": "2022-03-11T08:15:50.306Z"
      },
      {
        "duration": 31,
        "start_time": "2022-03-11T08:15:50.340Z"
      },
      {
        "duration": 21,
        "start_time": "2022-03-11T08:15:50.373Z"
      },
      {
        "duration": 17,
        "start_time": "2022-03-11T08:15:50.395Z"
      },
      {
        "duration": 21,
        "start_time": "2022-03-11T08:15:50.414Z"
      },
      {
        "duration": 19,
        "start_time": "2022-03-11T08:15:50.437Z"
      },
      {
        "duration": 27,
        "start_time": "2022-03-11T08:15:50.458Z"
      },
      {
        "duration": 29,
        "start_time": "2022-03-11T08:15:50.487Z"
      },
      {
        "duration": 29,
        "start_time": "2022-03-11T08:15:50.518Z"
      },
      {
        "duration": 23,
        "start_time": "2022-03-11T08:15:50.549Z"
      },
      {
        "duration": 23,
        "start_time": "2022-03-11T08:15:50.574Z"
      },
      {
        "duration": 18,
        "start_time": "2022-03-11T08:15:50.599Z"
      },
      {
        "duration": 14,
        "start_time": "2022-03-11T08:15:50.618Z"
      },
      {
        "duration": 15,
        "start_time": "2022-03-11T08:15:50.634Z"
      },
      {
        "duration": 15,
        "start_time": "2022-03-11T08:15:50.651Z"
      },
      {
        "duration": 12,
        "start_time": "2022-03-11T08:15:50.668Z"
      },
      {
        "duration": 840,
        "start_time": "2022-03-11T08:53:00.336Z"
      },
      {
        "duration": 182,
        "start_time": "2022-03-11T08:53:01.187Z"
      },
      {
        "duration": 37,
        "start_time": "2022-03-11T08:53:01.372Z"
      },
      {
        "duration": 70,
        "start_time": "2022-03-11T08:53:01.412Z"
      },
      {
        "duration": 6,
        "start_time": "2022-03-11T08:53:01.486Z"
      },
      {
        "duration": 37,
        "start_time": "2022-03-11T08:53:01.495Z"
      },
      {
        "duration": 18,
        "start_time": "2022-03-11T08:53:01.535Z"
      },
      {
        "duration": 60,
        "start_time": "2022-03-11T08:53:01.559Z"
      },
      {
        "duration": 32,
        "start_time": "2022-03-11T08:53:01.623Z"
      },
      {
        "duration": 64,
        "start_time": "2022-03-11T08:53:01.658Z"
      },
      {
        "duration": 137,
        "start_time": "2022-03-11T08:53:01.724Z"
      },
      {
        "duration": 152,
        "start_time": "2022-03-11T08:53:01.864Z"
      },
      {
        "duration": 112,
        "start_time": "2022-03-11T08:53:02.019Z"
      },
      {
        "duration": 20,
        "start_time": "2022-03-11T08:53:02.134Z"
      },
      {
        "duration": 5,
        "start_time": "2022-03-11T08:53:02.157Z"
      },
      {
        "duration": 36,
        "start_time": "2022-03-11T08:53:02.165Z"
      },
      {
        "duration": 24,
        "start_time": "2022-03-11T08:53:02.204Z"
      },
      {
        "duration": 13,
        "start_time": "2022-03-11T08:53:02.230Z"
      },
      {
        "duration": 56,
        "start_time": "2022-03-11T08:53:02.246Z"
      },
      {
        "duration": 31,
        "start_time": "2022-03-11T08:53:02.305Z"
      },
      {
        "duration": 7,
        "start_time": "2022-03-11T08:53:02.339Z"
      },
      {
        "duration": 53,
        "start_time": "2022-03-11T08:53:02.349Z"
      },
      {
        "duration": 20,
        "start_time": "2022-03-11T08:53:02.409Z"
      },
      {
        "duration": 20,
        "start_time": "2022-03-11T08:53:02.433Z"
      },
      {
        "duration": 20,
        "start_time": "2022-03-11T08:53:02.488Z"
      },
      {
        "duration": 20,
        "start_time": "2022-03-11T08:53:02.510Z"
      },
      {
        "duration": 17,
        "start_time": "2022-03-11T08:53:02.532Z"
      },
      {
        "duration": 17,
        "start_time": "2022-03-11T08:53:02.588Z"
      },
      {
        "duration": 24,
        "start_time": "2022-03-11T08:53:02.607Z"
      },
      {
        "duration": 12,
        "start_time": "2022-03-11T08:53:02.633Z"
      },
      {
        "duration": 6,
        "start_time": "2022-03-11T08:53:02.647Z"
      },
      {
        "duration": 47,
        "start_time": "2022-03-11T08:53:02.655Z"
      },
      {
        "duration": 39,
        "start_time": "2022-03-11T08:53:02.705Z"
      },
      {
        "duration": 34,
        "start_time": "2022-03-11T08:53:02.746Z"
      },
      {
        "duration": 24,
        "start_time": "2022-03-11T08:53:02.783Z"
      },
      {
        "duration": 18,
        "start_time": "2022-03-11T08:53:02.810Z"
      },
      {
        "duration": 14,
        "start_time": "2022-03-11T08:53:02.831Z"
      },
      {
        "duration": 41,
        "start_time": "2022-03-11T08:53:02.847Z"
      },
      {
        "duration": 30,
        "start_time": "2022-03-11T08:53:02.891Z"
      },
      {
        "duration": 9,
        "start_time": "2022-03-11T08:53:02.924Z"
      },
      {
        "duration": 802,
        "start_time": "2022-03-11T10:44:21.142Z"
      },
      {
        "duration": 172,
        "start_time": "2022-03-11T10:44:21.946Z"
      },
      {
        "duration": 34,
        "start_time": "2022-03-11T10:44:22.121Z"
      },
      {
        "duration": 43,
        "start_time": "2022-03-11T10:44:22.158Z"
      },
      {
        "duration": 6,
        "start_time": "2022-03-11T10:44:22.203Z"
      },
      {
        "duration": 23,
        "start_time": "2022-03-11T10:44:22.233Z"
      },
      {
        "duration": 6,
        "start_time": "2022-03-11T10:44:22.259Z"
      },
      {
        "duration": 38,
        "start_time": "2022-03-11T10:44:22.269Z"
      },
      {
        "duration": 22,
        "start_time": "2022-03-11T10:44:22.332Z"
      },
      {
        "duration": 29,
        "start_time": "2022-03-11T10:44:22.356Z"
      },
      {
        "duration": 106,
        "start_time": "2022-03-11T10:44:22.387Z"
      },
      {
        "duration": 108,
        "start_time": "2022-03-11T10:44:22.495Z"
      },
      {
        "duration": 81,
        "start_time": "2022-03-11T10:44:22.605Z"
      },
      {
        "duration": 13,
        "start_time": "2022-03-11T10:44:22.688Z"
      },
      {
        "duration": 4,
        "start_time": "2022-03-11T10:44:22.704Z"
      },
      {
        "duration": 31,
        "start_time": "2022-03-11T10:44:22.710Z"
      },
      {
        "duration": 13,
        "start_time": "2022-03-11T10:44:22.743Z"
      },
      {
        "duration": 10,
        "start_time": "2022-03-11T10:44:22.759Z"
      },
      {
        "duration": 67,
        "start_time": "2022-03-11T10:44:22.771Z"
      },
      {
        "duration": 29,
        "start_time": "2022-03-11T10:44:22.840Z"
      },
      {
        "duration": 4,
        "start_time": "2022-03-11T10:44:22.871Z"
      },
      {
        "duration": 25,
        "start_time": "2022-03-11T10:44:22.878Z"
      },
      {
        "duration": 23,
        "start_time": "2022-03-11T10:44:22.935Z"
      },
      {
        "duration": 22,
        "start_time": "2022-03-11T10:44:22.962Z"
      },
      {
        "duration": 58,
        "start_time": "2022-03-11T10:44:22.987Z"
      },
      {
        "duration": 23,
        "start_time": "2022-03-11T10:44:23.048Z"
      },
      {
        "duration": 18,
        "start_time": "2022-03-11T10:44:23.074Z"
      },
      {
        "duration": 42,
        "start_time": "2022-03-11T10:44:23.095Z"
      },
      {
        "duration": 15,
        "start_time": "2022-03-11T10:44:23.140Z"
      },
      {
        "duration": 10,
        "start_time": "2022-03-11T10:44:23.158Z"
      },
      {
        "duration": 5,
        "start_time": "2022-03-11T10:44:23.171Z"
      },
      {
        "duration": 9,
        "start_time": "2022-03-11T10:44:23.179Z"
      },
      {
        "duration": 59,
        "start_time": "2022-03-11T10:44:23.191Z"
      },
      {
        "duration": 17,
        "start_time": "2022-03-11T10:44:23.252Z"
      },
      {
        "duration": 22,
        "start_time": "2022-03-11T10:44:23.271Z"
      },
      {
        "duration": 44,
        "start_time": "2022-03-11T10:44:23.295Z"
      },
      {
        "duration": 12,
        "start_time": "2022-03-11T10:44:23.341Z"
      },
      {
        "duration": 6,
        "start_time": "2022-03-11T10:44:23.355Z"
      },
      {
        "duration": 9,
        "start_time": "2022-03-11T10:44:23.363Z"
      },
      {
        "duration": 5,
        "start_time": "2022-03-11T10:44:23.374Z"
      },
      {
        "duration": 760,
        "start_time": "2022-03-11T10:44:50.146Z"
      },
      {
        "duration": 193,
        "start_time": "2022-03-11T10:44:50.909Z"
      },
      {
        "duration": 35,
        "start_time": "2022-03-11T10:44:51.106Z"
      },
      {
        "duration": 38,
        "start_time": "2022-03-11T10:44:51.143Z"
      },
      {
        "duration": 5,
        "start_time": "2022-03-11T10:44:51.184Z"
      },
      {
        "duration": 53,
        "start_time": "2022-03-11T10:44:51.191Z"
      },
      {
        "duration": 29,
        "start_time": "2022-03-11T10:44:51.246Z"
      },
      {
        "duration": 37,
        "start_time": "2022-03-11T10:44:51.279Z"
      },
      {
        "duration": 23,
        "start_time": "2022-03-11T10:44:51.320Z"
      },
      {
        "duration": 31,
        "start_time": "2022-03-11T10:44:51.346Z"
      },
      {
        "duration": 109,
        "start_time": "2022-03-11T10:44:51.379Z"
      },
      {
        "duration": 124,
        "start_time": "2022-03-11T10:44:51.491Z"
      },
      {
        "duration": 84,
        "start_time": "2022-03-11T10:44:51.618Z"
      },
      {
        "duration": 29,
        "start_time": "2022-03-11T10:44:51.705Z"
      },
      {
        "duration": 4,
        "start_time": "2022-03-11T10:44:51.737Z"
      },
      {
        "duration": 20,
        "start_time": "2022-03-11T10:44:51.743Z"
      },
      {
        "duration": 14,
        "start_time": "2022-03-11T10:44:51.765Z"
      },
      {
        "duration": 9,
        "start_time": "2022-03-11T10:44:51.782Z"
      },
      {
        "duration": 68,
        "start_time": "2022-03-11T10:44:51.793Z"
      },
      {
        "duration": 36,
        "start_time": "2022-03-11T10:44:51.863Z"
      },
      {
        "duration": 33,
        "start_time": "2022-03-11T10:44:51.902Z"
      },
      {
        "duration": 26,
        "start_time": "2022-03-11T10:44:51.938Z"
      },
      {
        "duration": 21,
        "start_time": "2022-03-11T10:44:51.969Z"
      },
      {
        "duration": 49,
        "start_time": "2022-03-11T10:44:51.992Z"
      },
      {
        "duration": 17,
        "start_time": "2022-03-11T10:44:52.044Z"
      },
      {
        "duration": 21,
        "start_time": "2022-03-11T10:44:52.063Z"
      },
      {
        "duration": 53,
        "start_time": "2022-03-11T10:44:52.086Z"
      },
      {
        "duration": 12,
        "start_time": "2022-03-11T10:44:52.142Z"
      },
      {
        "duration": 22,
        "start_time": "2022-03-11T10:44:52.156Z"
      },
      {
        "duration": 12,
        "start_time": "2022-03-11T10:44:52.180Z"
      },
      {
        "duration": 6,
        "start_time": "2022-03-11T10:44:52.194Z"
      },
      {
        "duration": 31,
        "start_time": "2022-03-11T10:44:52.202Z"
      },
      {
        "duration": 30,
        "start_time": "2022-03-11T10:44:52.236Z"
      },
      {
        "duration": 18,
        "start_time": "2022-03-11T10:44:52.268Z"
      },
      {
        "duration": 56,
        "start_time": "2022-03-11T10:44:52.289Z"
      },
      {
        "duration": 16,
        "start_time": "2022-03-11T10:44:52.347Z"
      },
      {
        "duration": 11,
        "start_time": "2022-03-11T10:44:52.365Z"
      },
      {
        "duration": 6,
        "start_time": "2022-03-11T10:44:52.379Z"
      },
      {
        "duration": 45,
        "start_time": "2022-03-11T10:44:52.388Z"
      },
      {
        "duration": 6,
        "start_time": "2022-03-11T10:44:52.435Z"
      },
      {
        "duration": 769,
        "start_time": "2022-03-11T10:45:15.846Z"
      },
      {
        "duration": 190,
        "start_time": "2022-03-11T10:45:16.618Z"
      },
      {
        "duration": 30,
        "start_time": "2022-03-11T10:45:16.810Z"
      },
      {
        "duration": 40,
        "start_time": "2022-03-11T10:45:16.843Z"
      },
      {
        "duration": 10,
        "start_time": "2022-03-11T10:45:16.886Z"
      },
      {
        "duration": 42,
        "start_time": "2022-03-11T10:45:16.898Z"
      },
      {
        "duration": 17,
        "start_time": "2022-03-11T10:45:16.943Z"
      },
      {
        "duration": 34,
        "start_time": "2022-03-11T10:45:16.963Z"
      },
      {
        "duration": 39,
        "start_time": "2022-03-11T10:45:17.001Z"
      },
      {
        "duration": 41,
        "start_time": "2022-03-11T10:45:17.043Z"
      },
      {
        "duration": 95,
        "start_time": "2022-03-11T10:45:17.086Z"
      },
      {
        "duration": 107,
        "start_time": "2022-03-11T10:45:17.183Z"
      },
      {
        "duration": 82,
        "start_time": "2022-03-11T10:45:17.292Z"
      },
      {
        "duration": 12,
        "start_time": "2022-03-11T10:45:17.377Z"
      },
      {
        "duration": 4,
        "start_time": "2022-03-11T10:45:17.392Z"
      },
      {
        "duration": 41,
        "start_time": "2022-03-11T10:45:17.398Z"
      },
      {
        "duration": 13,
        "start_time": "2022-03-11T10:45:17.441Z"
      },
      {
        "duration": 9,
        "start_time": "2022-03-11T10:45:17.456Z"
      },
      {
        "duration": 33,
        "start_time": "2022-03-11T10:45:17.467Z"
      },
      {
        "duration": 60,
        "start_time": "2022-03-11T10:45:17.503Z"
      },
      {
        "duration": 5,
        "start_time": "2022-03-11T10:45:17.565Z"
      },
      {
        "duration": 26,
        "start_time": "2022-03-11T10:45:17.572Z"
      },
      {
        "duration": 19,
        "start_time": "2022-03-11T10:45:17.636Z"
      },
      {
        "duration": 19,
        "start_time": "2022-03-11T10:45:17.658Z"
      },
      {
        "duration": 17,
        "start_time": "2022-03-11T10:45:17.679Z"
      },
      {
        "duration": 53,
        "start_time": "2022-03-11T10:45:17.698Z"
      },
      {
        "duration": 18,
        "start_time": "2022-03-11T10:45:17.753Z"
      },
      {
        "duration": 12,
        "start_time": "2022-03-11T10:45:17.774Z"
      },
      {
        "duration": 52,
        "start_time": "2022-03-11T10:45:17.788Z"
      },
      {
        "duration": 12,
        "start_time": "2022-03-11T10:45:17.842Z"
      },
      {
        "duration": 5,
        "start_time": "2022-03-11T10:45:17.857Z"
      },
      {
        "duration": 8,
        "start_time": "2022-03-11T10:45:17.864Z"
      },
      {
        "duration": 57,
        "start_time": "2022-03-11T10:45:17.874Z"
      },
      {
        "duration": 18,
        "start_time": "2022-03-11T10:45:17.934Z"
      },
      {
        "duration": 21,
        "start_time": "2022-03-11T10:45:17.954Z"
      },
      {
        "duration": 17,
        "start_time": "2022-03-11T10:45:17.978Z"
      },
      {
        "duration": 40,
        "start_time": "2022-03-11T10:45:17.997Z"
      },
      {
        "duration": 7,
        "start_time": "2022-03-11T10:45:18.039Z"
      },
      {
        "duration": 12,
        "start_time": "2022-03-11T10:45:18.049Z"
      },
      {
        "duration": 7,
        "start_time": "2022-03-11T10:45:18.063Z"
      }
    ],
    "colab": {
      "collapsed_sections": [
        "E0vqbgi9ay0H",
        "VUC88oWjTJw2"
      ],
      "name": "yandex_music_project_2021.2.ipynb",
      "provenance": []
    },
    "toc": {
      "base_numbering": 1,
      "nav_menu": {},
      "number_sections": true,
      "sideBar": true,
      "skip_h1_title": true,
      "title_cell": "Table of Contents",
      "title_sidebar": "Contents",
      "toc_cell": false,
      "toc_position": {
        "height": "calc(100% - 180px)",
        "left": "10px",
        "top": "150px",
        "width": "303.675px"
      },
      "toc_section_display": true,
      "toc_window_display": true
    }
  },
  "nbformat_minor": 4,
  "nbformat": 4,
  "cells": [
    {
      "cell_type": "markdown",
      "source": "# Yandex Music",
      "metadata": {
        "id": "E0vqbgi9ay0H"
      }
    },
    {
      "cell_type": "markdown",
      "source": "Сравнение Москвы и Петербурга окружено мифами. Например:\n * Москва — мегаполис, подчинённый жёсткому ритму рабочей недели;\n * Петербург — культурная столица, со своими вкусами.\n\nНа данных Яндекс.Музыки вы сравните поведение пользователей двух столиц.\n\n**Цель исследования** — проверьте три гипотезы:\n1. Активность пользователей зависит от дня недели. Причём в Москве и Петербурге это проявляется по-разному.\n2. В понедельник утром в Москве преобладают одни жанры, а в Петербурге — другие. Так же и вечером пятницы преобладают разные жанры — в зависимости от города. \n3. Москва и Петербург предпочитают разные жанры музыки. В Москве чаще слушают поп-музыку, в Петербурге — русский рэп.\n\n**Ход исследования**\n\nДанные о поведении пользователей вы получите из файла `yandex_music_project.csv`. О качестве данных ничего не известно. Поэтому перед проверкой гипотез понадобится обзор данных. \n\nВы проверите данные на ошибки и оцените их влияние на исследование. Затем, на этапе предобработки вы поищете возможность исправить самые критичные ошибки данных.\n \nТаким образом, исследование пройдёт в три этапа:\n 1. Обзор данных.\n 2. Предобработка данных.\n 3. Проверка гипотез.\n\n",
      "metadata": {
        "id": "VUC88oWjTJw2"
      }
    },
    {
      "cell_type": "markdown",
      "source": "## Обзор данных\n\nСоставьте первое представление о данных Яндекс.Музыки.\n\n\n",
      "metadata": {
        "id": "Ml1hmfXC_Zcs"
      }
    },
    {
      "cell_type": "markdown",
      "source": "Основной инструмент аналитика — `pandas`. Импортируйте эту библиотеку.",
      "metadata": {
        "id": "57eAOGIz_Zcs"
      }
    },
    {
      "cell_type": "code",
      "source": "import pandas as pd\n# импорт библиотеки pandas",
      "metadata": {
        "id": "AXN7PHPN_Zcs",
        "trusted": true
      },
      "outputs": [],
      "execution_count": 1
    },
    {
      "cell_type": "markdown",
      "source": "Прочитайте файл `yandex_music_project.csv` из папки `/datasets` и сохраните его в переменной `df`:",
      "metadata": {
        "id": "SG23P8tt_Zcs"
      }
    },
    {
      "cell_type": "code",
      "source": "df = pd.read_csv('yandex_music_project.csv')\n\n# чтение файла с данными и сохранение в df",
      "metadata": {
        "id": "fFVu7vqh_Zct",
        "trusted": true
      },
      "outputs": [],
      "execution_count": 2
    },
    {
      "cell_type": "markdown",
      "source": "Выведите на экран первые десять строк таблицы:",
      "metadata": {
        "id": "rDoOMd3uTqnZ"
      }
    },
    {
      "cell_type": "code",
      "source": "df.head(10)\n# получение первых 10 строк таблицы df",
      "metadata": {
        "id": "oWTVX3gW_Zct",
        "trusted": true
      },
      "outputs": [
        {
          "execution_count": 3,
          "output_type": "execute_result",
          "data": {
            "text/plain": "     userID                        Track            artist   genre  \\\n0  FFB692EC            Kamigata To Boots  The Mass Missile    rock   \n1  55204538  Delayed Because of Accident  Andreas Rönnberg    rock   \n2    20EC38            Funiculì funiculà       Mario Lanza     pop   \n3  A3DD03C9        Dragons in the Sunset        Fire + Ice    folk   \n4  E2DC1FAE                  Soul People        Space Echo   dance   \n5  842029A1                    Преданная         IMPERVTOR  rusrap   \n6  4CB90AA5                         True      Roman Messer   dance   \n7  F03E1C1F             Feeling This Way   Polina Griffith   dance   \n8  8FA1D3BE     И вновь продолжается бой               NaN  ruspop   \n9  E772D5C0                    Pessimist               NaN   dance   \n\n             City        time        Day  \n0  Saint-Petersburg  20:28:33  Wednesday  \n1            Moscow  14:07:09     Friday  \n2  Saint-Petersburg  20:58:07  Wednesday  \n3  Saint-Petersburg  08:37:09     Monday  \n4            Moscow  08:34:34     Monday  \n5  Saint-Petersburg  13:09:41     Friday  \n6            Moscow  13:00:07  Wednesday  \n7            Moscow  20:47:49  Wednesday  \n8            Moscow  09:17:40     Friday  \n9  Saint-Petersburg  21:20:49  Wednesday  ",
            "text/html": "<div>\n<style scoped>\n    .dataframe tbody tr th:only-of-type {\n        vertical-align: middle;\n    }\n\n    .dataframe tbody tr th {\n        vertical-align: top;\n    }\n\n    .dataframe thead th {\n        text-align: right;\n    }\n</style>\n<table border=\"1\" class=\"dataframe\">\n  <thead>\n    <tr style=\"text-align: right;\">\n      <th></th>\n      <th>userID</th>\n      <th>Track</th>\n      <th>artist</th>\n      <th>genre</th>\n      <th>City</th>\n      <th>time</th>\n      <th>Day</th>\n    </tr>\n  </thead>\n  <tbody>\n    <tr>\n      <th>0</th>\n      <td>FFB692EC</td>\n      <td>Kamigata To Boots</td>\n      <td>The Mass Missile</td>\n      <td>rock</td>\n      <td>Saint-Petersburg</td>\n      <td>20:28:33</td>\n      <td>Wednesday</td>\n    </tr>\n    <tr>\n      <th>1</th>\n      <td>55204538</td>\n      <td>Delayed Because of Accident</td>\n      <td>Andreas Rönnberg</td>\n      <td>rock</td>\n      <td>Moscow</td>\n      <td>14:07:09</td>\n      <td>Friday</td>\n    </tr>\n    <tr>\n      <th>2</th>\n      <td>20EC38</td>\n      <td>Funiculì funiculà</td>\n      <td>Mario Lanza</td>\n      <td>pop</td>\n      <td>Saint-Petersburg</td>\n      <td>20:58:07</td>\n      <td>Wednesday</td>\n    </tr>\n    <tr>\n      <th>3</th>\n      <td>A3DD03C9</td>\n      <td>Dragons in the Sunset</td>\n      <td>Fire + Ice</td>\n      <td>folk</td>\n      <td>Saint-Petersburg</td>\n      <td>08:37:09</td>\n      <td>Monday</td>\n    </tr>\n    <tr>\n      <th>4</th>\n      <td>E2DC1FAE</td>\n      <td>Soul People</td>\n      <td>Space Echo</td>\n      <td>dance</td>\n      <td>Moscow</td>\n      <td>08:34:34</td>\n      <td>Monday</td>\n    </tr>\n    <tr>\n      <th>5</th>\n      <td>842029A1</td>\n      <td>Преданная</td>\n      <td>IMPERVTOR</td>\n      <td>rusrap</td>\n      <td>Saint-Petersburg</td>\n      <td>13:09:41</td>\n      <td>Friday</td>\n    </tr>\n    <tr>\n      <th>6</th>\n      <td>4CB90AA5</td>\n      <td>True</td>\n      <td>Roman Messer</td>\n      <td>dance</td>\n      <td>Moscow</td>\n      <td>13:00:07</td>\n      <td>Wednesday</td>\n    </tr>\n    <tr>\n      <th>7</th>\n      <td>F03E1C1F</td>\n      <td>Feeling This Way</td>\n      <td>Polina Griffith</td>\n      <td>dance</td>\n      <td>Moscow</td>\n      <td>20:47:49</td>\n      <td>Wednesday</td>\n    </tr>\n    <tr>\n      <th>8</th>\n      <td>8FA1D3BE</td>\n      <td>И вновь продолжается бой</td>\n      <td>NaN</td>\n      <td>ruspop</td>\n      <td>Moscow</td>\n      <td>09:17:40</td>\n      <td>Friday</td>\n    </tr>\n    <tr>\n      <th>9</th>\n      <td>E772D5C0</td>\n      <td>Pessimist</td>\n      <td>NaN</td>\n      <td>dance</td>\n      <td>Saint-Petersburg</td>\n      <td>21:20:49</td>\n      <td>Wednesday</td>\n    </tr>\n  </tbody>\n</table>\n</div>"
          },
          "metadata": {}
        }
      ],
      "execution_count": 3
    },
    {
      "cell_type": "markdown",
      "source": "Одной командой получить общую информацию о таблице:",
      "metadata": {
        "id": "EO73Kwic_Zct"
      }
    },
    {
      "cell_type": "code",
      "source": "df.info()\n# получение общей информации о данных в таблице df",
      "metadata": {
        "id": "DSf2kIb-_Zct"
      },
      "outputs": [
        {
          "name": "stdout",
          "output_type": "stream",
          "text": [
            "<class 'pandas.core.frame.DataFrame'>\n",
            "RangeIndex: 65079 entries, 0 to 65078\n",
            "Data columns (total 7 columns):\n",
            "  userID    65079 non-null object\n",
            "Track       63848 non-null object\n",
            "artist      57876 non-null object\n",
            "genre       63881 non-null object\n",
            "  City      65079 non-null object\n",
            "time        65079 non-null object\n",
            "Day         65079 non-null object\n",
            "dtypes: object(7)\n",
            "memory usage: 3.5+ MB\n"
          ]
        }
      ],
      "execution_count": 4
    },
    {
      "cell_type": "markdown",
      "source": "Итак, в таблице семь столбцов. Тип данных во всех столбцах — `object`.\n\nСогласно документации к данным:\n* `userID` — идентификатор пользователя;\n* `Track` — название трека;  \n* `artist` — имя исполнителя;\n* `genre` — название жанра;\n* `City` — город пользователя;\n* `time` — время начала прослушивания;\n* `Day` — день недели.\n\nВ названиях колонок видны три нарушения стиля:\n1. Строчные буквы сочетаются с прописными.\n2. Встречаются пробелы.\n3. Найдите ещё одну проблему в названии колонок и опишите её в этом пункте.\n\n\n\nКоличество значений в столбцах различается. Значит, в данных есть пропущенные значения.\n",
      "metadata": {
        "id": "TaQ2Iwbr_Zct"
      }
    },
    {
      "cell_type": "markdown",
      "source": "**Выводы**\n\nВ каждой строке таблицы — данные о прослушанном треке. Часть колонок описывает саму композицию: название, исполнителя и жанр. Остальные данные рассказывают о пользователе: из какого он города, когда он слушал музыку. \n\nПредварительно можно утверждать, что, данных достаточно для проверки гипотез. Но встречаются пропуски в данных, а в названиях колонок — расхождения с хорошим стилем.\n\nЧтобы двигаться дальше, нужно устранить проблемы в данных.",
      "metadata": {
        "id": "MCB6-dXG_Zct"
      }
    },
    {
      "cell_type": "markdown",
      "source": "## Предобработка данных\nИсправьте стиль в заголовках столбцов, исключите пропуски. Затем проверьте данные на дубликаты.",
      "metadata": {
        "id": "SjYF6Ub9_Zct"
      }
    },
    {
      "cell_type": "markdown",
      "source": "### Стиль заголовков\nВыведите на экран названия столбцов:",
      "metadata": {
        "id": "dIaKXr29_Zct"
      }
    },
    {
      "cell_type": "code",
      "source": "df.columns\n# перечень названий столбцов таблицы df",
      "metadata": {
        "id": "oKOTdF_Q_Zct"
      },
      "outputs": [
        {
          "data": {
            "text/plain": [
              "Index(['  userID', 'Track', 'artist', 'genre', '  City  ', 'time', 'Day'], dtype='object')"
            ]
          },
          "execution_count": 5,
          "metadata": {},
          "output_type": "execute_result"
        }
      ],
      "execution_count": 5
    },
    {
      "cell_type": "markdown",
      "source": "Приведите названия в соответствие с хорошим стилем:\n* несколько слов в названии запишите в «змеином_регистре»,\n* все символы сделайте строчными,\n* устраните пробелы.\n\nДля этого переименуйте колонки так:\n* `'  userID'` → `'user_id'`;\n* `'Track'` → `'track'`;\n* `'  City  '` → `'city'`;\n* `'Day'` → `'day'`.",
      "metadata": {
        "id": "zj5534cv_Zct"
      }
    },
    {
      "cell_type": "code",
      "source": "df = df.rename(columns = {'  userID':'user_id', 'Track':'track', '  City  ':'city', 'Day':'day'}) \n# переименование столбцов",
      "metadata": {
        "id": "ISlFqs5y_Zct"
      },
      "outputs": [],
      "execution_count": 6
    },
    {
      "cell_type": "markdown",
      "source": "Проверьте результат. Для этого ещё раз выведите на экран названия столбцов:",
      "metadata": {
        "id": "1dqbh00J_Zct"
      }
    },
    {
      "cell_type": "code",
      "source": "df.columns\n# проверка результатов - перечень названий столбцов",
      "metadata": {
        "id": "d4NOAmTW_Zct"
      },
      "outputs": [
        {
          "data": {
            "text/plain": [
              "Index(['user_id', 'track', 'artist', 'genre', 'city', 'time', 'day'], dtype='object')"
            ]
          },
          "execution_count": 7,
          "metadata": {},
          "output_type": "execute_result"
        }
      ],
      "execution_count": 7
    },
    {
      "cell_type": "markdown",
      "source": "### Пропуски значений\nСначала посчитайте, сколько в таблице пропущенных значений. Для этого достаточно двух методов `pandas`:",
      "metadata": {
        "id": "5ISfbcfY_Zct"
      }
    },
    {
      "cell_type": "code",
      "source": "df.isna().sum()\n# подсчёт пропусков\n# isnull() и isna() делают одно и то же",
      "metadata": {
        "id": "RskX29qr_Zct"
      },
      "outputs": [
        {
          "data": {
            "text/plain": [
              "user_id       0\n",
              "track      1231\n",
              "artist     7203\n",
              "genre      1198\n",
              "city          0\n",
              "time          0\n",
              "day           0\n",
              "dtype: int64"
            ]
          },
          "execution_count": 8,
          "metadata": {},
          "output_type": "execute_result"
        }
      ],
      "execution_count": 8
    },
    {
      "cell_type": "markdown",
      "source": "Не все пропущенные значения влияют на исследование. Так в `track` и `artist` пропуски не важны для вашей работы. Достаточно заменить их явными обозначениями.\n\nНо пропуски в `genre` могут помешать сравнению музыкальных вкусов в Москве и Санкт-Петербурге. На практике было бы правильно установить причину пропусков и восстановить данные. Такой возможности нет в учебном проекте. Придётся:\n* заполнить и эти пропуски явными обозначениями,\n* оценить, насколько они повредят расчётам. ",
      "metadata": {
        "id": "qubhgnlO_Zct"
      }
    },
    {
      "cell_type": "markdown",
      "source": "Замените пропущенные значения в столбцах `track`, `artist` и `genre` на строку `'unknown'`. Для этого создайте список `columns_to_replace`, переберите его элементы циклом `for` и для каждого столбца выполните замену пропущенных значений:",
      "metadata": {
        "id": "fSv2laPA_Zct"
      }
    },
    {
      "cell_type": "code",
      "source": "columns_to_replace = ['track', 'artist','genre']\nfor col in columns_to_replace:\n    df[col]=df[col].fillna('unknown')\n# перебор названий столбцов в цикле и замена пропущенных значений на 'unknown'",
      "metadata": {
        "id": "KplB5qWs_Zct"
      },
      "outputs": [],
      "execution_count": 9
    },
    {
      "cell_type": "markdown",
      "source": "Убедитесь, что в таблице не осталось пропусков. Для этого ещё раз посчитайте пропущенные значения.",
      "metadata": {
        "id": "Ilsm-MZo_Zct"
      }
    },
    {
      "cell_type": "code",
      "source": "df.isna().sum()\n# подсчёт пропусков",
      "metadata": {
        "id": "Tq4nYRX4_Zct",
        "trusted": true
      },
      "outputs": [
        {
          "execution_count": 4,
          "output_type": "execute_result",
          "data": {
            "text/plain": "  userID       0\nTrack       1231\nartist      7203\ngenre       1198\n  City         0\ntime           0\nDay            0\ndtype: int64"
          },
          "metadata": {}
        }
      ],
      "execution_count": 4
    },
    {
      "cell_type": "markdown",
      "source": "### Дубликаты\nПосчитайте явные дубликаты в таблице одной командой:",
      "metadata": {
        "id": "BWKRtBJ3_Zct"
      }
    },
    {
      "cell_type": "code",
      "source": "df.duplicated().sum()\n# подсчёт явных дубликатов",
      "metadata": {
        "id": "36eES_S0_Zct"
      },
      "outputs": [
        {
          "data": {
            "text/plain": [
              "3826"
            ]
          },
          "execution_count": 11,
          "metadata": {},
          "output_type": "execute_result"
        }
      ],
      "execution_count": 11
    },
    {
      "cell_type": "markdown",
      "source": "Вызовите специальный метод `pandas`, чтобы удалить явные дубликаты:",
      "metadata": {
        "id": "Ot25h6XR_Zct"
      }
    },
    {
      "cell_type": "code",
      "source": "df = df.drop_duplicates().reset_index(drop=True)\n# удаление явных дубликатов (с удалением старых индексов и формированием новых)",
      "metadata": {
        "id": "exFHq6tt_Zct"
      },
      "outputs": [],
      "execution_count": 12
    },
    {
      "cell_type": "markdown",
      "source": "Ещё раз посчитайте явные дубликаты в таблице — убедитесь, что полностью от них избавились:",
      "metadata": {
        "id": "Im2YwBEG_Zct"
      }
    },
    {
      "cell_type": "code",
      "source": "df.duplicated().sum()\n# проверка на отсутствие дубликатов",
      "metadata": {
        "id": "-8PuNWQ0_Zct"
      },
      "outputs": [
        {
          "data": {
            "text/plain": [
              "0"
            ]
          },
          "execution_count": 13,
          "metadata": {},
          "output_type": "execute_result"
        }
      ],
      "execution_count": 13
    },
    {
      "cell_type": "markdown",
      "source": "Теперь избавьтесь от неявных дубликатов в колонке `genre`. Например, название одного и того же жанра может быть записано немного по-разному. Такие ошибки тоже повлияют на результат исследования.",
      "metadata": {
        "id": "QlFBsxAr_Zct"
      }
    },
    {
      "cell_type": "markdown",
      "source": "Выведите на экран список уникальных названий жанров, отсортированный в алфавитном порядке. Для этого:\n* извлеките нужный столбец датафрейма, \n* примените к нему метод сортировки,\n* для отсортированного столбца вызовите метод, который вернёт уникальные значения из столбца.",
      "metadata": {
        "id": "eSjWwsOh_Zct"
      }
    },
    {
      "cell_type": "code",
      "source": "df['genre'].sort_values().unique()\n# Просмотр уникальных названий жанров",
      "metadata": {
        "id": "JIUcqzZN_Zct",
        "scrolled": true,
        "trusted": true
      },
      "outputs": [
        {
          "execution_count": 5,
          "output_type": "execute_result",
          "data": {
            "text/plain": "array(['acid', 'acoustic', 'action', 'adult', 'africa', 'afrikaans',\n       'alternative', 'alternativepunk', 'ambient', 'americana',\n       'animated', 'anime', 'arabesk', 'arabic', 'arena',\n       'argentinetango', 'art', 'audiobook', 'author', 'avantgarde',\n       'axé', 'baile', 'balkan', 'beats', 'bigroom', 'black', 'bluegrass',\n       'blues', 'bollywood', 'bossa', 'brazilian', 'breakbeat', 'breaks',\n       'broadway', 'cantautori', 'cantopop', 'canzone', 'caribbean',\n       'caucasian', 'celtic', 'chamber', 'chanson', 'children', 'chill',\n       'chinese', 'choral', 'christian', 'christmas', 'classical',\n       'classicmetal', 'club', 'colombian', 'comedy', 'conjazz',\n       'contemporary', 'country', 'cuban', 'dance', 'dancehall',\n       'dancepop', 'dark', 'death', 'deep', 'deutschrock', 'deutschspr',\n       'dirty', 'disco', 'dnb', 'documentary', 'downbeat', 'downtempo',\n       'drum', 'dub', 'dubstep', 'eastern', 'easy', 'electronic',\n       'electropop', 'emo', 'entehno', 'epicmetal', 'estrada', 'ethnic',\n       'eurofolk', 'european', 'experimental', 'extrememetal', 'fado',\n       'fairytail', 'film', 'fitness', 'flamenco', 'folk', 'folklore',\n       'folkmetal', 'folkrock', 'folktronica', 'forró', 'frankreich',\n       'französisch', 'french', 'funk', 'future', 'gangsta', 'garage',\n       'german', 'ghazal', 'gitarre', 'glitch', 'gospel', 'gothic',\n       'grime', 'grunge', 'gypsy', 'handsup', \"hard'n'heavy\", 'hardcore',\n       'hardstyle', 'hardtechno', 'hip', 'hip-hop', 'hiphop',\n       'historisch', 'holiday', 'hop', 'horror', 'house', 'hymn', 'idm',\n       'independent', 'indian', 'indie', 'indipop', 'industrial',\n       'inspirational', 'instrumental', 'international', 'irish', 'jam',\n       'japanese', 'jazz', 'jewish', 'jpop', 'jungle', 'k-pop',\n       'karadeniz', 'karaoke', 'kayokyoku', 'korean', 'laiko', 'latin',\n       'latino', 'leftfield', 'local', 'lounge', 'loungeelectronic',\n       'lovers', 'malaysian', 'mandopop', 'marschmusik', 'meditative',\n       'mediterranean', 'melodic', 'metal', 'metalcore', 'mexican',\n       'middle', 'minimal', 'miscellaneous', 'modern', 'mood', 'mpb',\n       'muslim', 'native', 'neoklassik', 'neue', 'new', 'newage',\n       'newwave', 'nu', 'nujazz', 'numetal', 'oceania', 'old', 'opera',\n       'orchestral', 'other', 'piano', 'podcasts', 'pop', 'popdance',\n       'popelectronic', 'popeurodance', 'poprussian', 'post',\n       'posthardcore', 'postrock', 'power', 'progmetal', 'progressive',\n       'psychedelic', 'punjabi', 'punk', 'quebecois', 'ragga', 'ram',\n       'rancheras', 'rap', 'rave', 'reggae', 'reggaeton', 'regional',\n       'relax', 'religious', 'retro', 'rhythm', 'rnb', 'rnr', 'rock',\n       'rockabilly', 'rockalternative', 'rockindie', 'rockother',\n       'romance', 'roots', 'ruspop', 'rusrap', 'rusrock', 'russian',\n       'salsa', 'samba', 'scenic', 'schlager', 'self', 'sertanejo',\n       'shanson', 'shoegazing', 'showtunes', 'singer', 'ska', 'skarock',\n       'slow', 'smooth', 'soft', 'soul', 'soulful', 'sound', 'soundtrack',\n       'southern', 'specialty', 'speech', 'spiritual', 'sport',\n       'stonerrock', 'surf', 'swing', 'synthpop', 'synthrock',\n       'sängerportrait', 'tango', 'tanzorchester', 'taraftar', 'tatar',\n       'tech', 'techno', 'teen', 'thrash', 'top', 'traditional',\n       'tradjazz', 'trance', 'tribal', 'trip', 'triphop', 'tropical',\n       'türk', 'türkçe', 'ukrrock', 'urban', 'uzbek', 'variété', 'vi',\n       'videogame', 'vocal', 'western', 'world', 'worldbeat', 'ïîï',\n       'электроника', nan], dtype=object)"
          },
          "metadata": {}
        }
      ],
      "execution_count": 5
    },
    {
      "cell_type": "markdown",
      "source": "Просмотрите список и найдите неявные дубликаты названия `hiphop`. Это могут быть названия с ошибками или альтернативные названия того же жанра.\n\nВы увидите следующие неявные дубликаты:\n* *hip*,\n* *hop*,\n* *hip-hop*.\n\nЧтобы очистить от них таблицу, напишите функцию `replace_wrong_genres()` с двумя параметрами: \n* `wrong_genres` — список дубликатов,\n* `correct_genre` — строка с правильным значением.\n\nФункция должна исправить колонку `genre` в таблице `df`: заменить каждое значение из списка `wrong_genres` на значение из `correct_genre`.",
      "metadata": {
        "id": "qej-Qmuo_Zct"
      }
    },
    {
      "cell_type": "code",
      "source": "wrong_genres = ['hip','hip-hop','hop']    \ndef replace_wrong_genres(wrong_genres,correct_genre):\n    for wn in wrong_genres:\n        df['genre']=df['genre'].replace(wn, correct_genre)\n        \n# Функция для замены неявных дубликатов",
      "metadata": {
        "id": "ErNDkmns_Zct"
      },
      "outputs": [],
      "execution_count": 15
    },
    {
      "cell_type": "markdown",
      "source": "Вызовите `replace_wrong_genres()` и передайте ей такие аргументы, чтобы она устранила неявные дубликаты: вместо `hip`, `hop` и `hip-hop` в таблице должно быть значение `hiphop`:",
      "metadata": {
        "id": "aDoBJxbA_Zct"
      }
    },
    {
      "cell_type": "code",
      "source": "replace_wrong_genres(wrong_genres, 'hiphop')\n# Устранение неявных дубликатов",
      "metadata": {
        "id": "YN5i2hpmSo09"
      },
      "outputs": [],
      "execution_count": 16
    },
    {
      "cell_type": "markdown",
      "source": "Проверьте, что заменили неправильные названия:\n\n*   hip\n*   hop\n*   hip-hop\n\nВыведите отсортированный список уникальных значений столбца `genre`:",
      "metadata": {
        "id": "zQKF16_RG15m"
      }
    },
    {
      "cell_type": "code",
      "source": "df['genre'].sort_values().unique()\n# Проверка на неявные дубликаты",
      "metadata": {
        "id": "wvixALnFG15m"
      },
      "outputs": [
        {
          "data": {
            "text/plain": [
              "['acid',\n",
              " 'acoustic',\n",
              " 'action',\n",
              " 'adult',\n",
              " 'africa',\n",
              " 'afrikaans',\n",
              " 'alternative',\n",
              " 'alternativepunk',\n",
              " 'ambient',\n",
              " 'americana',\n",
              " 'animated',\n",
              " 'anime',\n",
              " 'arabesk',\n",
              " 'arabic',\n",
              " 'arena',\n",
              " 'argentinetango',\n",
              " 'art',\n",
              " 'audiobook',\n",
              " 'author',\n",
              " 'avantgarde',\n",
              " 'axé',\n",
              " 'baile',\n",
              " 'balkan',\n",
              " 'beats',\n",
              " 'bigroom',\n",
              " 'black',\n",
              " 'bluegrass',\n",
              " 'blues',\n",
              " 'bollywood',\n",
              " 'bossa',\n",
              " 'brazilian',\n",
              " 'breakbeat',\n",
              " 'breaks',\n",
              " 'broadway',\n",
              " 'cantautori',\n",
              " 'cantopop',\n",
              " 'canzone',\n",
              " 'caribbean',\n",
              " 'caucasian',\n",
              " 'celtic',\n",
              " 'chamber',\n",
              " 'chanson',\n",
              " 'children',\n",
              " 'chill',\n",
              " 'chinese',\n",
              " 'choral',\n",
              " 'christian',\n",
              " 'christmas',\n",
              " 'classical',\n",
              " 'classicmetal',\n",
              " 'club',\n",
              " 'colombian',\n",
              " 'comedy',\n",
              " 'conjazz',\n",
              " 'contemporary',\n",
              " 'country',\n",
              " 'cuban',\n",
              " 'dance',\n",
              " 'dancehall',\n",
              " 'dancepop',\n",
              " 'dark',\n",
              " 'death',\n",
              " 'deep',\n",
              " 'deutschrock',\n",
              " 'deutschspr',\n",
              " 'dirty',\n",
              " 'disco',\n",
              " 'dnb',\n",
              " 'documentary',\n",
              " 'downbeat',\n",
              " 'downtempo',\n",
              " 'drum',\n",
              " 'dub',\n",
              " 'dubstep',\n",
              " 'eastern',\n",
              " 'easy',\n",
              " 'electronic',\n",
              " 'electropop',\n",
              " 'emo',\n",
              " 'entehno',\n",
              " 'epicmetal',\n",
              " 'estrada',\n",
              " 'ethnic',\n",
              " 'eurofolk',\n",
              " 'european',\n",
              " 'experimental',\n",
              " 'extrememetal',\n",
              " 'fado',\n",
              " 'fairytail',\n",
              " 'film',\n",
              " 'fitness',\n",
              " 'flamenco',\n",
              " 'folk',\n",
              " 'folklore',\n",
              " 'folkmetal',\n",
              " 'folkrock',\n",
              " 'folktronica',\n",
              " 'forró',\n",
              " 'frankreich',\n",
              " 'französisch',\n",
              " 'french',\n",
              " 'funk',\n",
              " 'future',\n",
              " 'gangsta',\n",
              " 'garage',\n",
              " 'german',\n",
              " 'ghazal',\n",
              " 'gitarre',\n",
              " 'glitch',\n",
              " 'gospel',\n",
              " 'gothic',\n",
              " 'grime',\n",
              " 'grunge',\n",
              " 'gypsy',\n",
              " 'handsup',\n",
              " \"hard'n'heavy\",\n",
              " 'hardcore',\n",
              " 'hardstyle',\n",
              " 'hardtechno',\n",
              " 'hiphop',\n",
              " 'historisch',\n",
              " 'holiday',\n",
              " 'horror',\n",
              " 'house',\n",
              " 'hymn',\n",
              " 'idm',\n",
              " 'independent',\n",
              " 'indian',\n",
              " 'indie',\n",
              " 'indipop',\n",
              " 'industrial',\n",
              " 'inspirational',\n",
              " 'instrumental',\n",
              " 'international',\n",
              " 'irish',\n",
              " 'jam',\n",
              " 'japanese',\n",
              " 'jazz',\n",
              " 'jewish',\n",
              " 'jpop',\n",
              " 'jungle',\n",
              " 'k-pop',\n",
              " 'karadeniz',\n",
              " 'karaoke',\n",
              " 'kayokyoku',\n",
              " 'korean',\n",
              " 'laiko',\n",
              " 'latin',\n",
              " 'latino',\n",
              " 'leftfield',\n",
              " 'local',\n",
              " 'lounge',\n",
              " 'loungeelectronic',\n",
              " 'lovers',\n",
              " 'malaysian',\n",
              " 'mandopop',\n",
              " 'marschmusik',\n",
              " 'meditative',\n",
              " 'mediterranean',\n",
              " 'melodic',\n",
              " 'metal',\n",
              " 'metalcore',\n",
              " 'mexican',\n",
              " 'middle',\n",
              " 'minimal',\n",
              " 'miscellaneous',\n",
              " 'modern',\n",
              " 'mood',\n",
              " 'mpb',\n",
              " 'muslim',\n",
              " 'native',\n",
              " 'neoklassik',\n",
              " 'neue',\n",
              " 'new',\n",
              " 'newage',\n",
              " 'newwave',\n",
              " 'nu',\n",
              " 'nujazz',\n",
              " 'numetal',\n",
              " 'oceania',\n",
              " 'old',\n",
              " 'opera',\n",
              " 'orchestral',\n",
              " 'other',\n",
              " 'piano',\n",
              " 'podcasts',\n",
              " 'pop',\n",
              " 'popdance',\n",
              " 'popelectronic',\n",
              " 'popeurodance',\n",
              " 'poprussian',\n",
              " 'post',\n",
              " 'posthardcore',\n",
              " 'postrock',\n",
              " 'power',\n",
              " 'progmetal',\n",
              " 'progressive',\n",
              " 'psychedelic',\n",
              " 'punjabi',\n",
              " 'punk',\n",
              " 'quebecois',\n",
              " 'ragga',\n",
              " 'ram',\n",
              " 'rancheras',\n",
              " 'rap',\n",
              " 'rave',\n",
              " 'reggae',\n",
              " 'reggaeton',\n",
              " 'regional',\n",
              " 'relax',\n",
              " 'religious',\n",
              " 'retro',\n",
              " 'rhythm',\n",
              " 'rnb',\n",
              " 'rnr',\n",
              " 'rock',\n",
              " 'rockabilly',\n",
              " 'rockalternative',\n",
              " 'rockindie',\n",
              " 'rockother',\n",
              " 'romance',\n",
              " 'roots',\n",
              " 'ruspop',\n",
              " 'rusrap',\n",
              " 'rusrock',\n",
              " 'russian',\n",
              " 'salsa',\n",
              " 'samba',\n",
              " 'scenic',\n",
              " 'schlager',\n",
              " 'self',\n",
              " 'sertanejo',\n",
              " 'shanson',\n",
              " 'shoegazing',\n",
              " 'showtunes',\n",
              " 'singer',\n",
              " 'ska',\n",
              " 'skarock',\n",
              " 'slow',\n",
              " 'smooth',\n",
              " 'soft',\n",
              " 'soul',\n",
              " 'soulful',\n",
              " 'sound',\n",
              " 'soundtrack',\n",
              " 'southern',\n",
              " 'specialty',\n",
              " 'speech',\n",
              " 'spiritual',\n",
              " 'sport',\n",
              " 'stonerrock',\n",
              " 'surf',\n",
              " 'swing',\n",
              " 'synthpop',\n",
              " 'synthrock',\n",
              " 'sängerportrait',\n",
              " 'tango',\n",
              " 'tanzorchester',\n",
              " 'taraftar',\n",
              " 'tatar',\n",
              " 'tech',\n",
              " 'techno',\n",
              " 'teen',\n",
              " 'thrash',\n",
              " 'top',\n",
              " 'traditional',\n",
              " 'tradjazz',\n",
              " 'trance',\n",
              " 'tribal',\n",
              " 'trip',\n",
              " 'triphop',\n",
              " 'tropical',\n",
              " 'türk',\n",
              " 'türkçe',\n",
              " 'ukrrock',\n",
              " 'unknown',\n",
              " 'urban',\n",
              " 'uzbek',\n",
              " 'variété',\n",
              " 'vi',\n",
              " 'videogame',\n",
              " 'vocal',\n",
              " 'western',\n",
              " 'world',\n",
              " 'worldbeat',\n",
              " 'ïîï',\n",
              " 'электроника']"
            ]
          },
          "execution_count": 17,
          "metadata": {},
          "output_type": "execute_result"
        }
      ],
      "execution_count": 17
    },
    {
      "cell_type": "markdown",
      "source": "**Выводы**\n\nПредобработка обнаружила три проблемы в данных:\n\n- нарушения в стиле заголовков,\n- пропущенные значения,\n- дубликаты — явные и неявные.\n\nВы исправили заголовки, чтобы упростить работу с таблицей. Без дубликатов исследование станет более точным.\n\nПропущенные значения вы заменили на `'unknown'`. Ещё предстоит увидеть, не повредят ли исследованию пропуски в колонке `genre`.\n\nТеперь можно перейти к проверке гипотез. ",
      "metadata": {
        "id": "jz6a9-7HQUDd"
      }
    },
    {
      "cell_type": "markdown",
      "source": "## Проверка гипотез",
      "metadata": {
        "id": "WttZHXH0SqKk"
      }
    },
    {
      "cell_type": "markdown",
      "source": "### Сравнение поведения пользователей двух столиц",
      "metadata": {
        "id": "Im936VVi_Zcu"
      }
    },
    {
      "cell_type": "markdown",
      "source": "Первая гипотеза утверждает, что пользователи по-разному слушают музыку в Москве и Санкт-Петербурге. Проверьте это предположение по данным о трёх днях недели — понедельнике, среде и пятнице. Для этого:\n\n* Разделите пользователей Москвы и Санкт-Петербурга\n* Сравните, сколько треков послушала каждая группа пользователей в понедельник, среду и пятницу.\n",
      "metadata": {
        "id": "nwt_MuaL_Zcu"
      }
    },
    {
      "cell_type": "markdown",
      "source": "Для тренировки сначала выполните каждый из расчётов по отдельности. \n\nОцените активность пользователей в каждом городе. Сгруппируйте данные по городу и посчитайте прослушивания в каждой группе.\n\n",
      "metadata": {
        "id": "8Dw_YMmT_Zcu"
      }
    },
    {
      "cell_type": "code",
      "source": "df['day'].unique() #checked unique days",
      "metadata": {},
      "outputs": [
        {
          "data": {
            "text/plain": [
              "array(['Wednesday', 'Friday', 'Monday'], dtype=object)"
            ]
          },
          "execution_count": 18,
          "metadata": {},
          "output_type": "execute_result"
        }
      ],
      "execution_count": 18
    },
    {
      "cell_type": "code",
      "source": "msk_df = df[df['city']=='Moscow']\nsp_df = df[df['city']=='Saint-Petersburg']\n\ndisplay(msk_df['track'].count())\ndisplay(sp_df['track'].count())\n# Подсчёт прослушиваний в каждом городе",
      "metadata": {
        "id": "0_Qs96oh_Zcu"
      },
      "outputs": [
        {
          "data": {
            "text/plain": [
              "42741"
            ]
          },
          "metadata": {},
          "output_type": "display_data"
        },
        {
          "data": {
            "text/plain": [
              "18512"
            ]
          },
          "metadata": {},
          "output_type": "display_data"
        }
      ],
      "execution_count": 19
    },
    {
      "cell_type": "markdown",
      "source": "В Москве прослушиваний больше, чем в Петербурге. Из этого не следует, что московские пользователи чаще слушают музыку. Просто самих пользователей в Москве больше.\n\nТеперь сгруппируйте данные по дню недели и подсчитайте прослушивания в понедельник, среду и пятницу. Учтите, что в данных есть информация только о прослушиваниях только за эти дни.\n",
      "metadata": {
        "id": "dzli3w8o_Zcu"
      }
    },
    {
      "cell_type": "code",
      "source": "#days = df['day'].unique()\ndisplay(df.groupby('day')['track'].count()) #for all the data\ndisplay(msk_df.groupby('day')['track'].count()) #for Moscow\ndisplay(sp_df.groupby('day')['track'].count()) #for S-P\n# Подсчёт прослушиваний в каждый из трёх дней",
      "metadata": {
        "id": "uZMKjiJz_Zcu"
      },
      "outputs": [
        {
          "data": {
            "text/plain": [
              "day\n",
              "Friday       21840\n",
              "Monday       21354\n",
              "Wednesday    18059\n",
              "Name: track, dtype: int64"
            ]
          },
          "metadata": {},
          "output_type": "display_data"
        },
        {
          "data": {
            "text/plain": [
              "day\n",
              "Friday       15945\n",
              "Monday       15740\n",
              "Wednesday    11056\n",
              "Name: track, dtype: int64"
            ]
          },
          "metadata": {},
          "output_type": "display_data"
        },
        {
          "data": {
            "text/plain": [
              "day\n",
              "Friday       5895\n",
              "Monday       5614\n",
              "Wednesday    7003\n",
              "Name: track, dtype: int64"
            ]
          },
          "metadata": {},
          "output_type": "display_data"
        }
      ],
      "execution_count": 20
    },
    {
      "cell_type": "markdown",
      "source": "В среднем пользователи из двух городов менее активны по средам. Но картина может измениться, если рассмотреть каждый город в отдельности.",
      "metadata": {
        "id": "cC2tNrlL_Zcu"
      }
    },
    {
      "cell_type": "markdown",
      "source": "***",
      "metadata": {}
    },
    {
      "cell_type": "markdown",
      "source": "Вы видели, как работает группировка по городу и по дням недели. Теперь напишите функцию, которая объединит два эти расчёта.\n\nСоздайте функцию `number_tracks()`, которая посчитает прослушивания для заданного дня и города. Ей понадобятся два параметра:\n* день недели,\n* название города.\n\nВ функции сохраните в переменную строки исходной таблицы, у которых значение:\n  * в колонке `day` равно параметру `day`,\n  * в колонке `city` равно параметру `city`.\n\nДля этого примените последовательную фильтрацию с логической индексацией.\n\nЗатем посчитайте значения в столбце `user_id` получившейся таблицы. Результат сохраните в новую переменную. Верните эту переменную из функции.",
      "metadata": {
        "id": "POzs8bGa_Zcu"
      }
    },
    {
      "cell_type": "code",
      "source": "def number_tracks(city, day):\n    track_list = df[df['day']== day]\n    track_list = track_list[track_list['city']== city]\n    track_list_count = track_list['user_id'].count()\n    return track_list_count\n# <создание функции number_tracks()>\n# Объявляется функция с двумя параметрами: day, city.\n# В переменной track_list сохраняются те строки таблицы df, для которых \n# значение в столбце 'day' равно параметру day и одновременно значение\n# в столбце 'city' равно параметру city (используйте последовательную фильтрацию\n# с помощью логической индексации).\n# В переменной track_list_count сохраняется число значений столбца 'user_id',\n# рассчитанное методом count() для таблицы track_list.\n# Функция возвращает число - значение track_list_count.\n\n# Функция для подсчёта прослушиваний для конкретного города и дня.\n# С помощью последовательной фильтрации с логической индексацией она \n# сначала получит из исходной таблицы строки с нужным днём,\n# затем из результата отфильтрует строки с нужным городом,\n# методом count() посчитает количество значений в колонке user_id. \n# Это количество функция вернёт в качестве результата",
      "metadata": {
        "id": "Nz3GdQB1_Zcu"
      },
      "outputs": [],
      "execution_count": 21
    },
    {
      "cell_type": "markdown",
      "source": "Вызовите `number_tracks()` шесть раз, меняя значение параметров — так, чтобы получить данные для каждого города в каждый из трёх дней.",
      "metadata": {
        "id": "ytf7xFrFJQ2r"
      }
    },
    {
      "cell_type": "code",
      "source": "number_tracks('Moscow', 'Monday')\n# количество прослушиваний в Москве по понедельникам",
      "metadata": {
        "id": "rJcRATNQ_Zcu"
      },
      "outputs": [
        {
          "data": {
            "text/plain": [
              "15740"
            ]
          },
          "execution_count": 22,
          "metadata": {},
          "output_type": "execute_result"
        }
      ],
      "execution_count": 22
    },
    {
      "cell_type": "code",
      "source": "number_tracks('Saint-Petersburg', 'Monday')\n# количество прослушиваний в Санкт-Петербурге по понедельникам",
      "metadata": {
        "id": "hq_ncZ5T_Zcu"
      },
      "outputs": [
        {
          "data": {
            "text/plain": [
              "5614"
            ]
          },
          "execution_count": 23,
          "metadata": {},
          "output_type": "execute_result"
        }
      ],
      "execution_count": 23
    },
    {
      "cell_type": "code",
      "source": "number_tracks('Moscow', 'Wednesday')\n# количество прослушиваний в Москве по средам",
      "metadata": {
        "id": "_NTy2VPU_Zcu"
      },
      "outputs": [
        {
          "data": {
            "text/plain": [
              "11056"
            ]
          },
          "execution_count": 24,
          "metadata": {},
          "output_type": "execute_result"
        }
      ],
      "execution_count": 24
    },
    {
      "cell_type": "code",
      "source": "number_tracks('Saint-Petersburg', 'Wednesday')\n# количество прослушиваний в Санкт-Петербурге по средам",
      "metadata": {
        "id": "j2y3TAwo_Zcu"
      },
      "outputs": [
        {
          "data": {
            "text/plain": [
              "7003"
            ]
          },
          "execution_count": 25,
          "metadata": {},
          "output_type": "execute_result"
        }
      ],
      "execution_count": 25
    },
    {
      "cell_type": "code",
      "source": "number_tracks('Moscow', 'Friday')\n# количество прослушиваний в Москве по пятницам",
      "metadata": {
        "id": "vYDw5u_K_Zcu"
      },
      "outputs": [
        {
          "data": {
            "text/plain": [
              "15945"
            ]
          },
          "execution_count": 26,
          "metadata": {},
          "output_type": "execute_result"
        }
      ],
      "execution_count": 26
    },
    {
      "cell_type": "code",
      "source": "number_tracks('Saint-Petersburg', 'Friday')\n# количество прослушиваний в Санкт-Петербурге по пятницам",
      "metadata": {
        "id": "8_yzFtW3_Zcu"
      },
      "outputs": [
        {
          "data": {
            "text/plain": [
              "5895"
            ]
          },
          "execution_count": 27,
          "metadata": {},
          "output_type": "execute_result"
        }
      ],
      "execution_count": 27
    },
    {
      "cell_type": "markdown",
      "source": "Создайте c помощью конструктора `pd.DataFrame` таблицу, где\n* названия колонок — `['city', 'monday', 'wednesday', 'friday']`;\n* данные — результаты, которые вы получили с помощью `number_tracks`.",
      "metadata": {
        "id": "7QXffbO-_Zcu"
      }
    },
    {
      "cell_type": "code",
      "source": "columns = ['city', 'monday', 'wednesday', 'friday']\ndata = [['Moscow', 15740,11056, 15945],\n       ['Saint-Petersburg',5614, 7003, 5895]]\ndff = pd.DataFrame(data = data, columns = columns)\ndff\n# Таблица с результатами",
      "metadata": {
        "id": "APAcLpOr_Zcu"
      },
      "outputs": [
        {
          "data": {
            "text/html": [
              "<div>\n",
              "<style scoped>\n",
              "    .dataframe tbody tr th:only-of-type {\n",
              "        vertical-align: middle;\n",
              "    }\n",
              "\n",
              "    .dataframe tbody tr th {\n",
              "        vertical-align: top;\n",
              "    }\n",
              "\n",
              "    .dataframe thead th {\n",
              "        text-align: right;\n",
              "    }\n",
              "</style>\n",
              "<table border=\"1\" class=\"dataframe\">\n",
              "  <thead>\n",
              "    <tr style=\"text-align: right;\">\n",
              "      <th></th>\n",
              "      <th>city</th>\n",
              "      <th>monday</th>\n",
              "      <th>wednesday</th>\n",
              "      <th>friday</th>\n",
              "    </tr>\n",
              "  </thead>\n",
              "  <tbody>\n",
              "    <tr>\n",
              "      <td>0</td>\n",
              "      <td>Moscow</td>\n",
              "      <td>15740</td>\n",
              "      <td>11056</td>\n",
              "      <td>15945</td>\n",
              "    </tr>\n",
              "    <tr>\n",
              "      <td>1</td>\n",
              "      <td>Saint-Petersburg</td>\n",
              "      <td>5614</td>\n",
              "      <td>7003</td>\n",
              "      <td>5895</td>\n",
              "    </tr>\n",
              "  </tbody>\n",
              "</table>\n",
              "</div>"
            ],
            "text/plain": [
              "               city  monday  wednesday  friday\n",
              "0            Moscow   15740      11056   15945\n",
              "1  Saint-Petersburg    5614       7003    5895"
            ]
          },
          "execution_count": 28,
          "metadata": {},
          "output_type": "execute_result"
        }
      ],
      "execution_count": 28
    },
    {
      "cell_type": "markdown",
      "source": "**Выводы**\n\nДанные показывают разницу поведения пользователей:\n\n- В Москве пик прослушиваний приходится на понедельник и пятницу, а в среду заметен спад.\n- В Петербурге, наоборот, больше слушают музыку по средам. Активность в понедельник и пятницу здесь почти в равной мере уступает среде.\n\nЗначит, данные говорят в пользу первой гипотезы.",
      "metadata": {
        "id": "-EgPIHYu_Zcu"
      }
    },
    {
      "cell_type": "markdown",
      "source": "### Музыка в начале и в конце недели",
      "metadata": {
        "id": "atZAxtq4_Zcu"
      }
    },
    {
      "cell_type": "markdown",
      "source": "Согласно второй гипотезе, утром в понедельник в Москве преобладают одни жанры, а в Петербурге — другие. Так же и вечером пятницы преобладают разные жанры — в зависимости от города.",
      "metadata": {
        "id": "eXrQqXFH_Zcu"
      }
    },
    {
      "cell_type": "markdown",
      "source": "Сохраните таблицы с данными в две переменные:\n* по Москве — в `moscow_general`;\n* по Санкт-Петербургу — в `spb_general`.",
      "metadata": {
        "id": "S8UcW6Hw_Zcu"
      }
    },
    {
      "cell_type": "code",
      "source": "moscow_general = df[df['city'] == 'Moscow']\n# получение таблицы moscow_general из тех строк таблицы df, \n# для которых значение в столбце 'city' равно 'Moscow'\n",
      "metadata": {
        "id": "qeaFfM_P_Zcu"
      },
      "outputs": [],
      "execution_count": 29
    },
    {
      "cell_type": "code",
      "source": "spb_general = df[df['city'] == 'Saint-Petersburg']\n# получение таблицы spb_general из тех строк таблицы df,\n# для которых значение в столбце 'city' равно 'Saint-Petersburg'\n",
      "metadata": {
        "id": "ORaVRKto_Zcu"
      },
      "outputs": [],
      "execution_count": 30
    },
    {
      "cell_type": "markdown",
      "source": "Создайте функцию `genre_weekday()` с четырьмя параметрами:\n* таблица (датафрейм) с данными,\n* день недели,\n* начальная временная метка в формате 'hh:mm', \n* последняя временная метка в формате 'hh:mm'.\n\nФункция должна вернуть информацию о топ-10 жанров тех треков, которые прослушивали в указанный день, в промежутке между двумя отметками времени.",
      "metadata": {
        "id": "MEJV-CX2_Zcu"
      }
    },
    {
      "cell_type": "code",
      "source": "def genre_weekday(table, day, time1, time2):\n    genre_df = table[table['day']==day]\n    genre_df = genre_df[genre_df['time']>time1]\n    genre_df = genre_df[genre_df['time']<time2]\n    genre_df_count = genre_df.groupby('genre')['user_id'].count()\n    genre_df_sorted = genre_df_count.sort_values(ascending=False)\n    return genre_df_sorted.head(10)\n# Объявление функции genre_weekday() с параметрами table, day, time1, time2,\n# которая возвращает информацию о самых популярных жанрах в указанный день в\n# заданное время:\n# 1) в переменную genre_df сохраняются те строки переданного датафрейма table, для\n#    которых одновременно:\n#    - значение в столбце day равно значению аргумента day\n#    - значение в столбце time больше значения аргумента time1\n#    - значение в столбце time меньше значения аргумента time2\n#    Используйте последовательную фильтрацию с помощью логической индексации.\n# 2) сгруппировать датафрейм genre_df по столбцу genre, взять один из его\n#    столбцов и посчитать методом count() количество записей для каждого из\n#    присутствующих жанров, получившийся Series записать в переменную\n#    genre_df_count\n# 3) отсортировать genre_df_count по убыванию встречаемости и сохранить\n#    в переменную genre_df_sorted\n# 4) вернуть Series из 10 первых значений genre_df_sorted, это будут топ-10\n#    популярных жанров (в указанный день, в заданное время)",
      "metadata": {
        "id": "laJT9BYl_Zcu"
      },
      "outputs": [],
      "execution_count": 31
    },
    {
      "cell_type": "markdown",
      "source": "Cравните результаты функции `genre_weekday()` для Москвы и Санкт-Петербурга в понедельник утром (с 7:00 до 11:00) и в пятницу вечером (с 17:00 до 23:00):",
      "metadata": {
        "id": "la2s2_PF_Zcu"
      }
    },
    {
      "cell_type": "code",
      "source": "genre_weekday(moscow_general,'Monday', '07:00', '11:00' )\n# вызов функции для утра понедельника в Москве (вместо df — таблица moscow_general)\n# объекты, хранящие время, являются строками и сравниваются как строки\n# пример вызова: genre_weekday(moscow_general, 'Monday', '07:00', '11:00')",
      "metadata": {
        "id": "yz7itPUQ_Zcu"
      },
      "outputs": [
        {
          "data": {
            "text/plain": [
              "genre\n",
              "pop            781\n",
              "dance          549\n",
              "electronic     480\n",
              "rock           474\n",
              "hiphop         286\n",
              "ruspop         186\n",
              "world          181\n",
              "rusrap         175\n",
              "alternative    164\n",
              "unknown        161\n",
              "Name: user_id, dtype: int64"
            ]
          },
          "execution_count": 33,
          "metadata": {},
          "output_type": "execute_result"
        }
      ],
      "execution_count": 33
    },
    {
      "cell_type": "code",
      "source": "genre_weekday(spb_general,'Monday', '07:00', '11:00' )\n# вызов функции для утра понедельника в Петербурге (вместо df — таблица spb_general)",
      "metadata": {
        "id": "kwUcHPdy_Zcu"
      },
      "outputs": [
        {
          "data": {
            "text/plain": [
              "genre\n",
              "pop            218\n",
              "dance          182\n",
              "rock           162\n",
              "electronic     147\n",
              "hiphop          80\n",
              "ruspop          64\n",
              "alternative     58\n",
              "rusrap          55\n",
              "jazz            44\n",
              "classical       40\n",
              "Name: user_id, dtype: int64"
            ]
          },
          "execution_count": 34,
          "metadata": {},
          "output_type": "execute_result"
        }
      ],
      "execution_count": 34
    },
    {
      "cell_type": "code",
      "source": "genre_weekday(moscow_general,'Friday', '17:00', '23:00' )\n# вызов функции для вечера пятницы в Москве",
      "metadata": {
        "id": "EzXVRE1o_Zcu"
      },
      "outputs": [
        {
          "data": {
            "text/plain": [
              "genre\n",
              "pop            713\n",
              "rock           517\n",
              "dance          495\n",
              "electronic     482\n",
              "hiphop         273\n",
              "world          208\n",
              "ruspop         170\n",
              "alternative    163\n",
              "classical      163\n",
              "rusrap         142\n",
              "Name: user_id, dtype: int64"
            ]
          },
          "execution_count": 35,
          "metadata": {},
          "output_type": "execute_result"
        }
      ],
      "execution_count": 35
    },
    {
      "cell_type": "code",
      "source": "genre_weekday(spb_general,'Friday', '17:00', '23:00' )\n# вызов функции для вечера пятницы в Петербурге",
      "metadata": {
        "id": "JZaEKu5v_Zcu"
      },
      "outputs": [
        {
          "data": {
            "text/plain": [
              "genre\n",
              "pop            256\n",
              "rock           216\n",
              "electronic     216\n",
              "dance          210\n",
              "hiphop          97\n",
              "alternative     63\n",
              "jazz            61\n",
              "classical       60\n",
              "rusrap          59\n",
              "world           54\n",
              "Name: user_id, dtype: int64"
            ]
          },
          "execution_count": 36,
          "metadata": {},
          "output_type": "execute_result"
        }
      ],
      "execution_count": 36
    },
    {
      "cell_type": "markdown",
      "source": "**Выводы**\n\nЕсли сравнить топ-10 жанров в понедельник утром, можно сделать такие выводы:\n\n1. В Москве и Петербурге слушают похожую музыку. Единственное отличие — в московский рейтинг вошёл жанр “world”, а в петербургский — джаз и классика.\n\n2. В Москве пропущенных значений оказалось так много, что значение `'unknown'` заняло десятое место среди самых популярных жанров. Значит, пропущенные значения занимают существенную долю в данных и угрожают достоверности исследования.\n\nВечер пятницы не меняет эту картину. Некоторые жанры поднимаются немного выше, другие спускаются, но в целом топ-10 остаётся тем же самым.\n\nТаким образом, вторая гипотеза подтвердилась лишь частично:\n* Пользователи слушают похожую музыку в начале недели и в конце.\n* Разница между Москвой и Петербургом не слишком выражена. В Москве чаще слушают русскую популярную музыку, в Петербурге — джаз.\n\nОднако пропуски в данных ставят под сомнение этот результат. В Москве их так много, что рейтинг топ-10 мог бы выглядеть иначе, если бы не утерянные  данные о жанрах.",
      "metadata": {
        "id": "wrCe4MNX_Zcu"
      }
    },
    {
      "cell_type": "markdown",
      "source": "### Жанровые предпочтения в Москве и Петербурге\n\nГипотеза: Петербург — столица рэпа, музыку этого жанра там слушают чаще, чем в Москве.  А Москва — город контрастов, в котором, тем не менее, преобладает поп-музыка.",
      "metadata": {
        "id": "JolODAqr_Zcu"
      }
    },
    {
      "cell_type": "markdown",
      "source": "Сгруппируйте таблицу `moscow_general` по жанру и посчитайте прослушивания треков каждого жанра методом `count()`. Затем отсортируйте результат в порядке убывания и сохраните его в таблице `moscow_genres`.",
      "metadata": {
        "id": "DlegSvaT_Zcu"
      }
    },
    {
      "cell_type": "code",
      "source": "moscow_genres = moscow_general.groupby('genre')['track'].count().sort_values(ascending=False)\n# одной строкой: группировка таблицы moscow_general по столбцу 'genre', \n# подсчёт числа значений 'genre' в этой группировке методом count(), \n# сортировка получившегося Series в порядке убывания и сохранение в moscow_genres",
      "metadata": {
        "id": "r19lIPke_Zcu"
      },
      "outputs": [],
      "execution_count": 37
    },
    {
      "cell_type": "markdown",
      "source": "Выведите на экран первые десять строк `moscow_genres`:",
      "metadata": {
        "id": "6kMuomxTiIr8"
      }
    },
    {
      "cell_type": "code",
      "source": "moscow_genres.head(10)",
      "metadata": {},
      "outputs": [
        {
          "data": {
            "text/plain": [
              "genre\n",
              "pop            5892\n",
              "dance          4435\n",
              "rock           3965\n",
              "electronic     3786\n",
              "hiphop         2096\n",
              "classical      1616\n",
              "world          1432\n",
              "alternative    1379\n",
              "ruspop         1372\n",
              "rusrap         1161\n",
              "Name: track, dtype: int64"
            ]
          },
          "execution_count": 38,
          "metadata": {},
          "output_type": "execute_result"
        }
      ],
      "execution_count": 38
    },
    {
      "cell_type": "markdown",
      "source": "Теперь повторите то же и для Петербурга.\n\nСгруппируйте таблицу `spb_general` по жанру. Посчитайте прослушивания треков каждого жанра. Результат отсортируйте в порядке убывания и сохраните в таблице `spb_genres`:\n",
      "metadata": {
        "id": "cnPG2vnN_Zcv"
      }
    },
    {
      "cell_type": "code",
      "source": "spb_genres = spb_general.groupby('genre')['track'].count().sort_values(ascending=False)\n# одной строкой: группировка таблицы spb_general по столбцу 'genre', \n# подсчёт числа значений 'genre' в этой группировке методом count(), \n# сортировка получившегося Series в порядке убывания и сохранение в spb_genres",
      "metadata": {
        "id": "gluLIpE7_Zcv"
      },
      "outputs": [],
      "execution_count": 39
    },
    {
      "cell_type": "markdown",
      "source": "Выведите на экран первые десять строк `spb_genres`:",
      "metadata": {
        "id": "5Doha_ODgyQ8"
      }
    },
    {
      "cell_type": "code",
      "source": "spb_genres.head(10)\n# просмотр первых 10 строк spb_genres",
      "metadata": {
        "id": "uaGJHjVU_Zcv"
      },
      "outputs": [
        {
          "data": {
            "text/plain": [
              "genre\n",
              "pop            2431\n",
              "dance          1932\n",
              "rock           1879\n",
              "electronic     1736\n",
              "hiphop          960\n",
              "alternative     649\n",
              "classical       646\n",
              "rusrap          564\n",
              "ruspop          538\n",
              "world           515\n",
              "Name: track, dtype: int64"
            ]
          },
          "execution_count": 40,
          "metadata": {},
          "output_type": "execute_result"
        }
      ],
      "execution_count": 40
    },
    {
      "cell_type": "markdown",
      "source": "**Выводы**",
      "metadata": {
        "id": "RY51YJYu_Zcv"
      }
    },
    {
      "cell_type": "markdown",
      "source": "Гипотеза частично подтвердилась:\n* Поп-музыка — самый популярный жанр в Москве, как и предполагала гипотеза. Более того, в топ-10 жанров встречается близкий жанр — русская популярная музыка.\n* Вопреки ожиданиям, рэп одинаково популярен в Москве и Петербурге. \n",
      "metadata": {
        "id": "nVhnJEm__Zcv"
      }
    },
    {
      "cell_type": "markdown",
      "source": "## Итоги исследования",
      "metadata": {
        "id": "ykKQ0N65_Zcv"
      }
    },
    {
      "cell_type": "markdown",
      "source": "Вы проверили три гипотезы и установили:\n\n1. День недели по-разному влияет на активность пользователей в Москве и Петербурге. \n\nПервая гипотеза полностью подтвердилась.\n\n2. Музыкальные предпочтения не сильно меняются в течение недели — будь то Москва или Петербург. Небольшие различия заметны в начале недели, по понедельникам:\n* в Москве слушают музыку жанра “world”,\n* в Петербурге — джаз и классику.\n\nТаким образом, вторая гипотеза подтвердилась лишь отчасти. Этот результат мог оказаться иным, если бы не пропуски в данных.\n\n3. Во вкусах пользователей Москвы и Петербурга больше общего чем различий. Вопреки ожиданиям, предпочтения жанров в Петербурге напоминают московские.\n\nТретья гипотеза не подтвердилась. Если различия в предпочтениях и существуют, на основной массе пользователей они незаметны.\n\n**На практике исследования содержат проверки статистических гипотез.**\nИз данных одного сервиса не всегда можно сделать вывод о всех жителях города.\nПроверки статистических гипотез покажут, насколько они достоверны, исходя из имеющихся данных. \nС методами проверок гипотез вы ещё познакомитесь в следующих темах.",
      "metadata": {
        "id": "tjUwbHb3_Zcv"
      }
    }
  ]
}