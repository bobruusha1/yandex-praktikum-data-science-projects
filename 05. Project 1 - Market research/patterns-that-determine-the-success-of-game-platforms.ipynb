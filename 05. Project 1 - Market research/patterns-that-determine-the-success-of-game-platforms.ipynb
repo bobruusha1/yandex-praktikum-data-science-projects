{
 "cells": [
  {
   "cell_type": "markdown",
   "metadata": {},
   "source": [
    "# Сборный проект"
   ]
  },
  {
   "cell_type": "markdown",
   "metadata": {},
   "source": [
    "## Описание проекта, Описание данных"
   ]
  },
  {
   "cell_type": "markdown",
   "metadata": {},
   "source": [
    "### Описание проекта"
   ]
  },
  {
   "cell_type": "markdown",
   "metadata": {},
   "source": [
    "Мы работаем в интернет-магазине «Стримчик», который продаёт по всему миру компьютерные игры. Из открытых источников доступны исторические данные о продажах игр, оценки пользователей и экспертов, жанры и платформы (например, Xbox или PlayStation). Нам нужно выявить определяющие успешность игры закономерности. Это позволит сделать ставку на потенциально популярный продукт и спланировать рекламные кампании.\n",
    "<br>\n",
    "\n",
    "Перед нами данные до 2016 года. Представим, что сейчас декабрь 2016 г., и мы планируем кампанию на 2017-й. Нужно отработать принцип работы с данными. Неважно, прогнозируем ли мы продажи на 2017 год по данным 2016-го или же 2027-й — по данным 2026 года.\n",
    "<br>\n",
    "\n",
    "В наборе данных попадается аббревиатура ESRB (Entertainment Software Rating Board) — это ассоциация, определяющая возрастной рейтинг компьютерных игр. ESRB оценивает игровой контент и присваивает ему подходящую возрастную категорию, например, «Для взрослых», «Для детей младшего возраста» или «Для подростков»."
   ]
  },
  {
   "cell_type": "markdown",
   "metadata": {},
   "source": [
    "### Описание данных"
   ]
  },
  {
   "cell_type": "markdown",
   "metadata": {},
   "source": [
    "- <b>Name</b> — название игры\n",
    "- <b>Platform</b> — платформа\n",
    "- <b>Year_of_Release</b> — год выпуска\n",
    "- <b>Genre</b> — жанр игры\n",
    "- <b>NA_sales</b> — продажи в Северной Америке (миллионы проданных копий)\n",
    "- <b>EU_sales</b> — продажи в Европе (миллионы проданных копий)\n",
    "- <b>JP_sales</b> — продажи в Японии (миллионы проданных копий)\n",
    "- <b>Other_sales</b> — продажи в других странах (миллионы проданных копий)\n",
    "- <b>Critic_Score</b> — оценка критиков (максимум 100)\n",
    "- <b>User_Score</b> — оценка пользователей (максимум 10)\n",
    "- <b>Rating</b> — рейтинг от организации ESRB (англ. Entertainment Software Rating Board). Эта ассоциация определяет рейтинг компьютерных игр и присваивает им подходящую возрастную категорию.\n",
    "<br>\n",
    "\n",
    "Данные за 2016 год могут быть неполными."
   ]
  },
  {
   "cell_type": "markdown",
   "metadata": {},
   "source": [
    "## Шаг 1. Ознакомление с данными / Изучение данных"
   ]
  },
  {
   "cell_type": "markdown",
   "metadata": {},
   "source": [
    "### Импорт данных"
   ]
  },
  {
   "cell_type": "code",
   "execution_count": 1,
   "metadata": {},
   "outputs": [],
   "source": [
    "import pandas as pd\n",
    "import numpy as np\n",
    "import matplotlib.pyplot as plt\n",
    "from datetime import datetime\n",
    "from scipy import stats as st\n"
   ]
  },
  {
   "cell_type": "code",
   "execution_count": 2,
   "metadata": {},
   "outputs": [],
   "source": [
    "games = pd.read_csv('/datasets/games.csv')"
   ]
  },
  {
   "cell_type": "code",
   "execution_count": 3,
   "metadata": {
    "scrolled": true
   },
   "outputs": [
    {
     "data": {
      "text/html": [
       "<div>\n",
       "<style scoped>\n",
       "    .dataframe tbody tr th:only-of-type {\n",
       "        vertical-align: middle;\n",
       "    }\n",
       "\n",
       "    .dataframe tbody tr th {\n",
       "        vertical-align: top;\n",
       "    }\n",
       "\n",
       "    .dataframe thead th {\n",
       "        text-align: right;\n",
       "    }\n",
       "</style>\n",
       "<table border=\"1\" class=\"dataframe\">\n",
       "  <thead>\n",
       "    <tr style=\"text-align: right;\">\n",
       "      <th></th>\n",
       "      <th>Name</th>\n",
       "      <th>Platform</th>\n",
       "      <th>Year_of_Release</th>\n",
       "      <th>Genre</th>\n",
       "      <th>NA_sales</th>\n",
       "      <th>EU_sales</th>\n",
       "      <th>JP_sales</th>\n",
       "      <th>Other_sales</th>\n",
       "      <th>Critic_Score</th>\n",
       "      <th>User_Score</th>\n",
       "      <th>Rating</th>\n",
       "    </tr>\n",
       "  </thead>\n",
       "  <tbody>\n",
       "    <tr>\n",
       "      <th>0</th>\n",
       "      <td>Wii Sports</td>\n",
       "      <td>Wii</td>\n",
       "      <td>2006.0</td>\n",
       "      <td>Sports</td>\n",
       "      <td>41.36</td>\n",
       "      <td>28.96</td>\n",
       "      <td>3.77</td>\n",
       "      <td>8.45</td>\n",
       "      <td>76.0</td>\n",
       "      <td>8</td>\n",
       "      <td>E</td>\n",
       "    </tr>\n",
       "    <tr>\n",
       "      <th>1</th>\n",
       "      <td>Super Mario Bros.</td>\n",
       "      <td>NES</td>\n",
       "      <td>1985.0</td>\n",
       "      <td>Platform</td>\n",
       "      <td>29.08</td>\n",
       "      <td>3.58</td>\n",
       "      <td>6.81</td>\n",
       "      <td>0.77</td>\n",
       "      <td>NaN</td>\n",
       "      <td>NaN</td>\n",
       "      <td>NaN</td>\n",
       "    </tr>\n",
       "    <tr>\n",
       "      <th>2</th>\n",
       "      <td>Mario Kart Wii</td>\n",
       "      <td>Wii</td>\n",
       "      <td>2008.0</td>\n",
       "      <td>Racing</td>\n",
       "      <td>15.68</td>\n",
       "      <td>12.76</td>\n",
       "      <td>3.79</td>\n",
       "      <td>3.29</td>\n",
       "      <td>82.0</td>\n",
       "      <td>8.3</td>\n",
       "      <td>E</td>\n",
       "    </tr>\n",
       "    <tr>\n",
       "      <th>3</th>\n",
       "      <td>Wii Sports Resort</td>\n",
       "      <td>Wii</td>\n",
       "      <td>2009.0</td>\n",
       "      <td>Sports</td>\n",
       "      <td>15.61</td>\n",
       "      <td>10.93</td>\n",
       "      <td>3.28</td>\n",
       "      <td>2.95</td>\n",
       "      <td>80.0</td>\n",
       "      <td>8</td>\n",
       "      <td>E</td>\n",
       "    </tr>\n",
       "    <tr>\n",
       "      <th>4</th>\n",
       "      <td>Pokemon Red/Pokemon Blue</td>\n",
       "      <td>GB</td>\n",
       "      <td>1996.0</td>\n",
       "      <td>Role-Playing</td>\n",
       "      <td>11.27</td>\n",
       "      <td>8.89</td>\n",
       "      <td>10.22</td>\n",
       "      <td>1.00</td>\n",
       "      <td>NaN</td>\n",
       "      <td>NaN</td>\n",
       "      <td>NaN</td>\n",
       "    </tr>\n",
       "    <tr>\n",
       "      <th>5</th>\n",
       "      <td>Tetris</td>\n",
       "      <td>GB</td>\n",
       "      <td>1989.0</td>\n",
       "      <td>Puzzle</td>\n",
       "      <td>23.20</td>\n",
       "      <td>2.26</td>\n",
       "      <td>4.22</td>\n",
       "      <td>0.58</td>\n",
       "      <td>NaN</td>\n",
       "      <td>NaN</td>\n",
       "      <td>NaN</td>\n",
       "    </tr>\n",
       "    <tr>\n",
       "      <th>6</th>\n",
       "      <td>New Super Mario Bros.</td>\n",
       "      <td>DS</td>\n",
       "      <td>2006.0</td>\n",
       "      <td>Platform</td>\n",
       "      <td>11.28</td>\n",
       "      <td>9.14</td>\n",
       "      <td>6.50</td>\n",
       "      <td>2.88</td>\n",
       "      <td>89.0</td>\n",
       "      <td>8.5</td>\n",
       "      <td>E</td>\n",
       "    </tr>\n",
       "    <tr>\n",
       "      <th>7</th>\n",
       "      <td>Wii Play</td>\n",
       "      <td>Wii</td>\n",
       "      <td>2006.0</td>\n",
       "      <td>Misc</td>\n",
       "      <td>13.96</td>\n",
       "      <td>9.18</td>\n",
       "      <td>2.93</td>\n",
       "      <td>2.84</td>\n",
       "      <td>58.0</td>\n",
       "      <td>6.6</td>\n",
       "      <td>E</td>\n",
       "    </tr>\n",
       "    <tr>\n",
       "      <th>8</th>\n",
       "      <td>New Super Mario Bros. Wii</td>\n",
       "      <td>Wii</td>\n",
       "      <td>2009.0</td>\n",
       "      <td>Platform</td>\n",
       "      <td>14.44</td>\n",
       "      <td>6.94</td>\n",
       "      <td>4.70</td>\n",
       "      <td>2.24</td>\n",
       "      <td>87.0</td>\n",
       "      <td>8.4</td>\n",
       "      <td>E</td>\n",
       "    </tr>\n",
       "    <tr>\n",
       "      <th>9</th>\n",
       "      <td>Duck Hunt</td>\n",
       "      <td>NES</td>\n",
       "      <td>1984.0</td>\n",
       "      <td>Shooter</td>\n",
       "      <td>26.93</td>\n",
       "      <td>0.63</td>\n",
       "      <td>0.28</td>\n",
       "      <td>0.47</td>\n",
       "      <td>NaN</td>\n",
       "      <td>NaN</td>\n",
       "      <td>NaN</td>\n",
       "    </tr>\n",
       "  </tbody>\n",
       "</table>\n",
       "</div>"
      ],
      "text/plain": [
       "                        Name Platform  Year_of_Release         Genre  \\\n",
       "0                 Wii Sports      Wii           2006.0        Sports   \n",
       "1          Super Mario Bros.      NES           1985.0      Platform   \n",
       "2             Mario Kart Wii      Wii           2008.0        Racing   \n",
       "3          Wii Sports Resort      Wii           2009.0        Sports   \n",
       "4   Pokemon Red/Pokemon Blue       GB           1996.0  Role-Playing   \n",
       "5                     Tetris       GB           1989.0        Puzzle   \n",
       "6      New Super Mario Bros.       DS           2006.0      Platform   \n",
       "7                   Wii Play      Wii           2006.0          Misc   \n",
       "8  New Super Mario Bros. Wii      Wii           2009.0      Platform   \n",
       "9                  Duck Hunt      NES           1984.0       Shooter   \n",
       "\n",
       "   NA_sales  EU_sales  JP_sales  Other_sales  Critic_Score User_Score Rating  \n",
       "0     41.36     28.96      3.77         8.45          76.0          8      E  \n",
       "1     29.08      3.58      6.81         0.77           NaN        NaN    NaN  \n",
       "2     15.68     12.76      3.79         3.29          82.0        8.3      E  \n",
       "3     15.61     10.93      3.28         2.95          80.0          8      E  \n",
       "4     11.27      8.89     10.22         1.00           NaN        NaN    NaN  \n",
       "5     23.20      2.26      4.22         0.58           NaN        NaN    NaN  \n",
       "6     11.28      9.14      6.50         2.88          89.0        8.5      E  \n",
       "7     13.96      9.18      2.93         2.84          58.0        6.6      E  \n",
       "8     14.44      6.94      4.70         2.24          87.0        8.4      E  \n",
       "9     26.93      0.63      0.28         0.47           NaN        NaN    NaN  "
      ]
     },
     "execution_count": 3,
     "metadata": {},
     "output_type": "execute_result"
    }
   ],
   "source": [
    "games.head(10)"
   ]
  },
  {
   "cell_type": "code",
   "execution_count": 4,
   "metadata": {},
   "outputs": [
    {
     "data": {
      "text/plain": [
       "(16715, 11)"
      ]
     },
     "execution_count": 4,
     "metadata": {},
     "output_type": "execute_result"
    }
   ],
   "source": [
    "games.shape"
   ]
  },
  {
   "cell_type": "code",
   "execution_count": 5,
   "metadata": {},
   "outputs": [
    {
     "name": "stdout",
     "output_type": "stream",
     "text": [
      "<class 'pandas.core.frame.DataFrame'>\n",
      "RangeIndex: 16715 entries, 0 to 16714\n",
      "Data columns (total 11 columns):\n",
      " #   Column           Non-Null Count  Dtype  \n",
      "---  ------           --------------  -----  \n",
      " 0   Name             16713 non-null  object \n",
      " 1   Platform         16715 non-null  object \n",
      " 2   Year_of_Release  16446 non-null  float64\n",
      " 3   Genre            16713 non-null  object \n",
      " 4   NA_sales         16715 non-null  float64\n",
      " 5   EU_sales         16715 non-null  float64\n",
      " 6   JP_sales         16715 non-null  float64\n",
      " 7   Other_sales      16715 non-null  float64\n",
      " 8   Critic_Score     8137 non-null   float64\n",
      " 9   User_Score       10014 non-null  object \n",
      " 10  Rating           9949 non-null   object \n",
      "dtypes: float64(6), object(5)\n",
      "memory usage: 1.4+ MB\n"
     ]
    }
   ],
   "source": [
    "games.info()"
   ]
  },
  {
   "cell_type": "markdown",
   "metadata": {},
   "source": [
    "Сразу видно много пропусков и странные типы..Чтож посмотрим поближе"
   ]
  },
  {
   "cell_type": "markdown",
   "metadata": {},
   "source": [
    "## Шаг 2. Подготовка данных"
   ]
  },
  {
   "cell_type": "markdown",
   "metadata": {},
   "source": [
    "- Замените названия столбцов (приведите к нижнему регистру);\n",
    "- Преобразуйте данные в нужные типы. Опишите, в каких столбцах заменили тип данных и почему;\n",
    "- Обработайте пропуски при необходимости:\n",
    "\n",
    "- Посчитайте суммарные продажи во всех регионах и запишите их в отдельный столбец."
   ]
  },
  {
   "cell_type": "markdown",
   "metadata": {},
   "source": [
    "### Заменим названия столбцов (приведение к нижнему регистру)"
   ]
  },
  {
   "cell_type": "code",
   "execution_count": 6,
   "metadata": {},
   "outputs": [],
   "source": [
    "games.columns = games.columns.str.lower()"
   ]
  },
  {
   "cell_type": "code",
   "execution_count": 7,
   "metadata": {},
   "outputs": [
    {
     "data": {
      "text/plain": [
       "Index(['name', 'platform', 'year_of_release', 'genre', 'na_sales', 'eu_sales',\n",
       "       'jp_sales', 'other_sales', 'critic_score', 'user_score', 'rating'],\n",
       "      dtype='object')"
      ]
     },
     "execution_count": 7,
     "metadata": {},
     "output_type": "execute_result"
    }
   ],
   "source": [
    "games.columns"
   ]
  },
  {
   "cell_type": "markdown",
   "metadata": {},
   "source": [
    "Проверили, изменились"
   ]
  },
  {
   "cell_type": "markdown",
   "metadata": {},
   "source": [
    "### Преобразуем данные в нужные типы"
   ]
  },
  {
   "cell_type": "code",
   "execution_count": 8,
   "metadata": {},
   "outputs": [
    {
     "name": "stdout",
     "output_type": "stream",
     "text": [
      "<class 'pandas.core.frame.DataFrame'>\n",
      "RangeIndex: 16715 entries, 0 to 16714\n",
      "Data columns (total 11 columns):\n",
      " #   Column           Non-Null Count  Dtype  \n",
      "---  ------           --------------  -----  \n",
      " 0   name             16713 non-null  object \n",
      " 1   platform         16715 non-null  object \n",
      " 2   year_of_release  16446 non-null  float64\n",
      " 3   genre            16713 non-null  object \n",
      " 4   na_sales         16715 non-null  float64\n",
      " 5   eu_sales         16715 non-null  float64\n",
      " 6   jp_sales         16715 non-null  float64\n",
      " 7   other_sales      16715 non-null  float64\n",
      " 8   critic_score     8137 non-null   float64\n",
      " 9   user_score       10014 non-null  object \n",
      " 10  rating           9949 non-null   object \n",
      "dtypes: float64(6), object(5)\n",
      "memory usage: 1.4+ MB\n"
     ]
    }
   ],
   "source": [
    "games.info()"
   ]
  },
  {
   "cell_type": "markdown",
   "metadata": {},
   "source": [
    "- year_of_release in INT | Год измеряется целочисленно\n",
    "- critic_score in INT | После запятой у них нет значений кроме 0, так что округлим до целых\n",
    "- user_score in FLOAT | У них есть значения после запятой, нужно перевести в числа, а именно float"
   ]
  },
  {
   "cell_type": "code",
   "execution_count": 9,
   "metadata": {},
   "outputs": [],
   "source": [
    "# Заменим годы и оценки критиков в целочисленный тип\n",
    "games['year_of_release'] = games['year_of_release'].astype('Int64')\n",
    "games['critic_score'] = games['critic_score'].astype('Int64')\n",
    "\n",
    "\n",
    "# Заменим тип оценки пользователей на float\n",
    "games['user_score'] = pd.to_numeric(games['user_score'], errors = 'ignore')"
   ]
  },
  {
   "cell_type": "markdown",
   "metadata": {},
   "source": [
    "### Обработаем пропуски при необходимости:"
   ]
  },
  {
   "cell_type": "markdown",
   "metadata": {},
   "source": [
    "1. Объясните, почему заполнили пропуски определённым образом или почему не стали это делать;\n",
    "2. Опишите причины, которые могли привести к пропускам;\n",
    "3. Обратите внимание на аббревиатуру 'tbd' в столбце с оценкой пользователей. Отдельно разберите это значение и опишите, как его обработать;"
   ]
  },
  {
   "cell_type": "code",
   "execution_count": 10,
   "metadata": {},
   "outputs": [
    {
     "data": {
      "text/plain": [
       "name                  2\n",
       "platform              0\n",
       "year_of_release     269\n",
       "genre                 2\n",
       "na_sales              0\n",
       "eu_sales              0\n",
       "jp_sales              0\n",
       "other_sales           0\n",
       "critic_score       8578\n",
       "user_score         6701\n",
       "rating             6766\n",
       "dtype: int64"
      ]
     },
     "execution_count": 10,
     "metadata": {},
     "output_type": "execute_result"
    }
   ],
   "source": [
    "games.isna().sum()"
   ]
  },
  {
   "cell_type": "markdown",
   "metadata": {},
   "source": [
    "Отсутствуют 2 значения в name - удалим, 269 значений в year_of_release - тоже удалим, небольшое значение, так что не повлияет на анализ.\n",
    "\n",
    "Почти половина данных отсутствует по столбцам critic_score,user_score и rating. Подумаем о причинах и решениях:\n",
    "- critic_score и user_score эти оценки могли просто не существовать, то есть либо они достаточно старые, и тогда этого могли не делать, либо они новые. Также есть вероятность, что эти игры не так распространены или имеют очень маленькое количество оценок для использования их средней. \n",
    "- заполнять эти столюцы средним или медианой просто не имеет смысла, так как пропусков очень много, они могут значительно повлиять на анализ. Оставим пропусками, но в дальнейшем при рассмотрении зависимостей, связанных с этими колонками, будем брать только существующие значения.\n",
    "- rating - рейтинг от ESRB. Эта организация была создана в 1994 году, соответственно все игры до этого периода с большой вероятностью не будут иметь этих оценок. Заполнять их вручную, просматривая каждую игру, смысла нет, так как это затратно по времени. Поступать будем также, что и с рейтингами критиков и пользователей."
   ]
  },
  {
   "cell_type": "markdown",
   "metadata": {},
   "source": [
    "проверим, преимущественно ли по старым играм есть все эти пропуски:"
   ]
  },
  {
   "cell_type": "code",
   "execution_count": 11,
   "metadata": {},
   "outputs": [
    {
     "data": {
      "text/html": [
       "<div>\n",
       "<style scoped>\n",
       "    .dataframe tbody tr th:only-of-type {\n",
       "        vertical-align: middle;\n",
       "    }\n",
       "\n",
       "    .dataframe tbody tr th {\n",
       "        vertical-align: top;\n",
       "    }\n",
       "\n",
       "    .dataframe thead th {\n",
       "        text-align: right;\n",
       "    }\n",
       "</style>\n",
       "<table border=\"1\" class=\"dataframe\">\n",
       "  <thead>\n",
       "    <tr style=\"text-align: right;\">\n",
       "      <th></th>\n",
       "      <th>name</th>\n",
       "      <th>platform</th>\n",
       "      <th>year_of_release</th>\n",
       "      <th>genre</th>\n",
       "      <th>na_sales</th>\n",
       "      <th>eu_sales</th>\n",
       "      <th>jp_sales</th>\n",
       "      <th>other_sales</th>\n",
       "      <th>critic_score</th>\n",
       "      <th>user_score</th>\n",
       "      <th>rating</th>\n",
       "    </tr>\n",
       "  </thead>\n",
       "  <tbody>\n",
       "    <tr>\n",
       "      <th>1</th>\n",
       "      <td>Super Mario Bros.</td>\n",
       "      <td>NES</td>\n",
       "      <td>1985</td>\n",
       "      <td>Platform</td>\n",
       "      <td>29.08</td>\n",
       "      <td>3.58</td>\n",
       "      <td>6.81</td>\n",
       "      <td>0.77</td>\n",
       "      <td>&lt;NA&gt;</td>\n",
       "      <td>NaN</td>\n",
       "      <td>NaN</td>\n",
       "    </tr>\n",
       "    <tr>\n",
       "      <th>4</th>\n",
       "      <td>Pokemon Red/Pokemon Blue</td>\n",
       "      <td>GB</td>\n",
       "      <td>1996</td>\n",
       "      <td>Role-Playing</td>\n",
       "      <td>11.27</td>\n",
       "      <td>8.89</td>\n",
       "      <td>10.22</td>\n",
       "      <td>1.00</td>\n",
       "      <td>&lt;NA&gt;</td>\n",
       "      <td>NaN</td>\n",
       "      <td>NaN</td>\n",
       "    </tr>\n",
       "    <tr>\n",
       "      <th>5</th>\n",
       "      <td>Tetris</td>\n",
       "      <td>GB</td>\n",
       "      <td>1989</td>\n",
       "      <td>Puzzle</td>\n",
       "      <td>23.20</td>\n",
       "      <td>2.26</td>\n",
       "      <td>4.22</td>\n",
       "      <td>0.58</td>\n",
       "      <td>&lt;NA&gt;</td>\n",
       "      <td>NaN</td>\n",
       "      <td>NaN</td>\n",
       "    </tr>\n",
       "    <tr>\n",
       "      <th>9</th>\n",
       "      <td>Duck Hunt</td>\n",
       "      <td>NES</td>\n",
       "      <td>1984</td>\n",
       "      <td>Shooter</td>\n",
       "      <td>26.93</td>\n",
       "      <td>0.63</td>\n",
       "      <td>0.28</td>\n",
       "      <td>0.47</td>\n",
       "      <td>&lt;NA&gt;</td>\n",
       "      <td>NaN</td>\n",
       "      <td>NaN</td>\n",
       "    </tr>\n",
       "    <tr>\n",
       "      <th>10</th>\n",
       "      <td>Nintendogs</td>\n",
       "      <td>DS</td>\n",
       "      <td>2005</td>\n",
       "      <td>Simulation</td>\n",
       "      <td>9.05</td>\n",
       "      <td>10.95</td>\n",
       "      <td>1.93</td>\n",
       "      <td>2.74</td>\n",
       "      <td>&lt;NA&gt;</td>\n",
       "      <td>NaN</td>\n",
       "      <td>NaN</td>\n",
       "    </tr>\n",
       "    <tr>\n",
       "      <th>...</th>\n",
       "      <td>...</td>\n",
       "      <td>...</td>\n",
       "      <td>...</td>\n",
       "      <td>...</td>\n",
       "      <td>...</td>\n",
       "      <td>...</td>\n",
       "      <td>...</td>\n",
       "      <td>...</td>\n",
       "      <td>...</td>\n",
       "      <td>...</td>\n",
       "      <td>...</td>\n",
       "    </tr>\n",
       "    <tr>\n",
       "      <th>16710</th>\n",
       "      <td>Samurai Warriors: Sanada Maru</td>\n",
       "      <td>PS3</td>\n",
       "      <td>2016</td>\n",
       "      <td>Action</td>\n",
       "      <td>0.00</td>\n",
       "      <td>0.00</td>\n",
       "      <td>0.01</td>\n",
       "      <td>0.00</td>\n",
       "      <td>&lt;NA&gt;</td>\n",
       "      <td>NaN</td>\n",
       "      <td>NaN</td>\n",
       "    </tr>\n",
       "    <tr>\n",
       "      <th>16711</th>\n",
       "      <td>LMA Manager 2007</td>\n",
       "      <td>X360</td>\n",
       "      <td>2006</td>\n",
       "      <td>Sports</td>\n",
       "      <td>0.00</td>\n",
       "      <td>0.01</td>\n",
       "      <td>0.00</td>\n",
       "      <td>0.00</td>\n",
       "      <td>&lt;NA&gt;</td>\n",
       "      <td>NaN</td>\n",
       "      <td>NaN</td>\n",
       "    </tr>\n",
       "    <tr>\n",
       "      <th>16712</th>\n",
       "      <td>Haitaka no Psychedelica</td>\n",
       "      <td>PSV</td>\n",
       "      <td>2016</td>\n",
       "      <td>Adventure</td>\n",
       "      <td>0.00</td>\n",
       "      <td>0.00</td>\n",
       "      <td>0.01</td>\n",
       "      <td>0.00</td>\n",
       "      <td>&lt;NA&gt;</td>\n",
       "      <td>NaN</td>\n",
       "      <td>NaN</td>\n",
       "    </tr>\n",
       "    <tr>\n",
       "      <th>16713</th>\n",
       "      <td>Spirits &amp; Spells</td>\n",
       "      <td>GBA</td>\n",
       "      <td>2003</td>\n",
       "      <td>Platform</td>\n",
       "      <td>0.01</td>\n",
       "      <td>0.00</td>\n",
       "      <td>0.00</td>\n",
       "      <td>0.00</td>\n",
       "      <td>&lt;NA&gt;</td>\n",
       "      <td>NaN</td>\n",
       "      <td>NaN</td>\n",
       "    </tr>\n",
       "    <tr>\n",
       "      <th>16714</th>\n",
       "      <td>Winning Post 8 2016</td>\n",
       "      <td>PSV</td>\n",
       "      <td>2016</td>\n",
       "      <td>Simulation</td>\n",
       "      <td>0.00</td>\n",
       "      <td>0.00</td>\n",
       "      <td>0.01</td>\n",
       "      <td>0.00</td>\n",
       "      <td>&lt;NA&gt;</td>\n",
       "      <td>NaN</td>\n",
       "      <td>NaN</td>\n",
       "    </tr>\n",
       "  </tbody>\n",
       "</table>\n",
       "<p>6621 rows × 11 columns</p>\n",
       "</div>"
      ],
      "text/plain": [
       "                                name platform  year_of_release         genre  \\\n",
       "1                  Super Mario Bros.      NES             1985      Platform   \n",
       "4           Pokemon Red/Pokemon Blue       GB             1996  Role-Playing   \n",
       "5                             Tetris       GB             1989        Puzzle   \n",
       "9                          Duck Hunt      NES             1984       Shooter   \n",
       "10                        Nintendogs       DS             2005    Simulation   \n",
       "...                              ...      ...              ...           ...   \n",
       "16710  Samurai Warriors: Sanada Maru      PS3             2016        Action   \n",
       "16711               LMA Manager 2007     X360             2006        Sports   \n",
       "16712        Haitaka no Psychedelica      PSV             2016     Adventure   \n",
       "16713               Spirits & Spells      GBA             2003      Platform   \n",
       "16714            Winning Post 8 2016      PSV             2016    Simulation   \n",
       "\n",
       "       na_sales  eu_sales  jp_sales  other_sales  critic_score user_score  \\\n",
       "1         29.08      3.58      6.81         0.77          <NA>        NaN   \n",
       "4         11.27      8.89     10.22         1.00          <NA>        NaN   \n",
       "5         23.20      2.26      4.22         0.58          <NA>        NaN   \n",
       "9         26.93      0.63      0.28         0.47          <NA>        NaN   \n",
       "10         9.05     10.95      1.93         2.74          <NA>        NaN   \n",
       "...         ...       ...       ...          ...           ...        ...   \n",
       "16710      0.00      0.00      0.01         0.00          <NA>        NaN   \n",
       "16711      0.00      0.01      0.00         0.00          <NA>        NaN   \n",
       "16712      0.00      0.00      0.01         0.00          <NA>        NaN   \n",
       "16713      0.01      0.00      0.00         0.00          <NA>        NaN   \n",
       "16714      0.00      0.00      0.01         0.00          <NA>        NaN   \n",
       "\n",
       "      rating  \n",
       "1        NaN  \n",
       "4        NaN  \n",
       "5        NaN  \n",
       "9        NaN  \n",
       "10       NaN  \n",
       "...      ...  \n",
       "16710    NaN  \n",
       "16711    NaN  \n",
       "16712    NaN  \n",
       "16713    NaN  \n",
       "16714    NaN  \n",
       "\n",
       "[6621 rows x 11 columns]"
      ]
     },
     "execution_count": 11,
     "metadata": {},
     "output_type": "execute_result"
    }
   ],
   "source": [
    "games.query('critic_score.isnull() & rating.isnull() & user_score.isnull()')#.sort_values(by='year_of_release', ascending = False).head(50)"
   ]
  },
  {
   "cell_type": "markdown",
   "metadata": {},
   "source": [
    "Предположение верно частично. Но и по довольно новым играм есть такие пропуски (и не в самый последний год)."
   ]
  },
  {
   "cell_type": "markdown",
   "metadata": {},
   "source": [
    "***"
   ]
  },
  {
   "cell_type": "markdown",
   "metadata": {},
   "source": [
    "Помимо пропусков, видим \"tbd\". Посмотрим, сколько их там таких:"
   ]
  },
  {
   "cell_type": "code",
   "execution_count": 12,
   "metadata": {},
   "outputs": [
    {
     "data": {
      "text/plain": [
       "2424"
      ]
     },
     "execution_count": 12,
     "metadata": {},
     "output_type": "execute_result"
    }
   ],
   "source": [
    "len(games[games['user_score'] == 'tbd'])"
   ]
  },
  {
   "cell_type": "markdown",
   "metadata": {},
   "source": [
    "tbd это аббревиатура от To Be Determined. Пишется тогда, когда игра имеет недостаточное количество отзывов (менее 4) для подсчета рейтинга пользователей и его публикации.\n",
    "Вероятнее всего это подходит для новых или не популярных игр. Либо просто не оставляют отзывы именно на том сайте, где и были собраны данные рейтинги.\n",
    "\n",
    "Но числовой тип столбца нам необходим. Т.к. 'tbd' фактически и является NaN, заменим  'tbd' на Nan:"
   ]
  },
  {
   "cell_type": "code",
   "execution_count": 13,
   "metadata": {},
   "outputs": [],
   "source": [
    "games['user_score'] = games['user_score'].replace('tbd', np.NaN)"
   ]
  },
  {
   "cell_type": "code",
   "execution_count": 14,
   "metadata": {},
   "outputs": [],
   "source": [
    "#Так как в первом случае при ошибках я ставила игнорировать, то тип не поменялся из-за этих tbd.\n",
    "#Проведем данную операцию еще раз\n",
    "games['user_score'] = pd.to_numeric(games['user_score'], errors = 'ignore')"
   ]
  },
  {
   "cell_type": "code",
   "execution_count": 15,
   "metadata": {},
   "outputs": [
    {
     "name": "stdout",
     "output_type": "stream",
     "text": [
      "<class 'pandas.core.frame.DataFrame'>\n",
      "RangeIndex: 16715 entries, 0 to 16714\n",
      "Data columns (total 11 columns):\n",
      " #   Column           Non-Null Count  Dtype  \n",
      "---  ------           --------------  -----  \n",
      " 0   name             16713 non-null  object \n",
      " 1   platform         16715 non-null  object \n",
      " 2   year_of_release  16446 non-null  Int64  \n",
      " 3   genre            16713 non-null  object \n",
      " 4   na_sales         16715 non-null  float64\n",
      " 5   eu_sales         16715 non-null  float64\n",
      " 6   jp_sales         16715 non-null  float64\n",
      " 7   other_sales      16715 non-null  float64\n",
      " 8   critic_score     8137 non-null   Int64  \n",
      " 9   user_score       7590 non-null   float64\n",
      " 10  rating           9949 non-null   object \n",
      "dtypes: Int64(2), float64(5), object(4)\n",
      "memory usage: 1.4+ MB\n"
     ]
    }
   ],
   "source": [
    "games.info()"
   ]
  },
  {
   "cell_type": "markdown",
   "metadata": {},
   "source": [
    "Теперь все сработало."
   ]
  },
  {
   "cell_type": "markdown",
   "metadata": {},
   "source": [
    "***"
   ]
  },
  {
   "cell_type": "markdown",
   "metadata": {},
   "source": [
    "Удалим строки с пустым значением name, genre. Они не изменят общую статистическую картину."
   ]
  },
  {
   "cell_type": "code",
   "execution_count": 16,
   "metadata": {
    "scrolled": true
   },
   "outputs": [
    {
     "name": "stdout",
     "output_type": "stream",
     "text": [
      "<class 'pandas.core.frame.DataFrame'>\n",
      "RangeIndex: 16713 entries, 0 to 16712\n",
      "Data columns (total 11 columns):\n",
      " #   Column           Non-Null Count  Dtype  \n",
      "---  ------           --------------  -----  \n",
      " 0   name             16713 non-null  object \n",
      " 1   platform         16713 non-null  object \n",
      " 2   year_of_release  16444 non-null  Int64  \n",
      " 3   genre            16713 non-null  object \n",
      " 4   na_sales         16713 non-null  float64\n",
      " 5   eu_sales         16713 non-null  float64\n",
      " 6   jp_sales         16713 non-null  float64\n",
      " 7   other_sales      16713 non-null  float64\n",
      " 8   critic_score     8137 non-null   Int64  \n",
      " 9   user_score       7590 non-null   float64\n",
      " 10  rating           9949 non-null   object \n",
      "dtypes: Int64(2), float64(5), object(4)\n",
      "memory usage: 1.4+ MB\n"
     ]
    }
   ],
   "source": [
    "games = games.dropna(subset=['name', 'genre']).reset_index(drop=True)\n",
    "games.info()"
   ]
  },
  {
   "cell_type": "markdown",
   "metadata": {},
   "source": [
    "посмотрим на данные с отсутствием year_of_release:"
   ]
  },
  {
   "cell_type": "code",
   "execution_count": 17,
   "metadata": {},
   "outputs": [
    {
     "data": {
      "text/html": [
       "<div>\n",
       "<style scoped>\n",
       "    .dataframe tbody tr th:only-of-type {\n",
       "        vertical-align: middle;\n",
       "    }\n",
       "\n",
       "    .dataframe tbody tr th {\n",
       "        vertical-align: top;\n",
       "    }\n",
       "\n",
       "    .dataframe thead th {\n",
       "        text-align: right;\n",
       "    }\n",
       "</style>\n",
       "<table border=\"1\" class=\"dataframe\">\n",
       "  <thead>\n",
       "    <tr style=\"text-align: right;\">\n",
       "      <th></th>\n",
       "      <th>name</th>\n",
       "      <th>platform</th>\n",
       "      <th>year_of_release</th>\n",
       "      <th>genre</th>\n",
       "      <th>na_sales</th>\n",
       "      <th>eu_sales</th>\n",
       "      <th>jp_sales</th>\n",
       "      <th>other_sales</th>\n",
       "      <th>critic_score</th>\n",
       "      <th>user_score</th>\n",
       "      <th>rating</th>\n",
       "    </tr>\n",
       "  </thead>\n",
       "  <tbody>\n",
       "    <tr>\n",
       "      <th>183</th>\n",
       "      <td>Madden NFL 2004</td>\n",
       "      <td>PS2</td>\n",
       "      <td>&lt;NA&gt;</td>\n",
       "      <td>Sports</td>\n",
       "      <td>4.26</td>\n",
       "      <td>0.26</td>\n",
       "      <td>0.01</td>\n",
       "      <td>0.71</td>\n",
       "      <td>94</td>\n",
       "      <td>8.5</td>\n",
       "      <td>E</td>\n",
       "    </tr>\n",
       "    <tr>\n",
       "      <th>377</th>\n",
       "      <td>FIFA Soccer 2004</td>\n",
       "      <td>PS2</td>\n",
       "      <td>&lt;NA&gt;</td>\n",
       "      <td>Sports</td>\n",
       "      <td>0.59</td>\n",
       "      <td>2.36</td>\n",
       "      <td>0.04</td>\n",
       "      <td>0.51</td>\n",
       "      <td>84</td>\n",
       "      <td>6.4</td>\n",
       "      <td>E</td>\n",
       "    </tr>\n",
       "    <tr>\n",
       "      <th>456</th>\n",
       "      <td>LEGO Batman: The Videogame</td>\n",
       "      <td>Wii</td>\n",
       "      <td>&lt;NA&gt;</td>\n",
       "      <td>Action</td>\n",
       "      <td>1.80</td>\n",
       "      <td>0.97</td>\n",
       "      <td>0.00</td>\n",
       "      <td>0.29</td>\n",
       "      <td>74</td>\n",
       "      <td>7.9</td>\n",
       "      <td>E10+</td>\n",
       "    </tr>\n",
       "    <tr>\n",
       "      <th>475</th>\n",
       "      <td>wwe Smackdown vs. Raw 2006</td>\n",
       "      <td>PS2</td>\n",
       "      <td>&lt;NA&gt;</td>\n",
       "      <td>Fighting</td>\n",
       "      <td>1.57</td>\n",
       "      <td>1.02</td>\n",
       "      <td>0.00</td>\n",
       "      <td>0.41</td>\n",
       "      <td>&lt;NA&gt;</td>\n",
       "      <td>NaN</td>\n",
       "      <td>NaN</td>\n",
       "    </tr>\n",
       "    <tr>\n",
       "      <th>609</th>\n",
       "      <td>Space Invaders</td>\n",
       "      <td>2600</td>\n",
       "      <td>&lt;NA&gt;</td>\n",
       "      <td>Shooter</td>\n",
       "      <td>2.36</td>\n",
       "      <td>0.14</td>\n",
       "      <td>0.00</td>\n",
       "      <td>0.03</td>\n",
       "      <td>&lt;NA&gt;</td>\n",
       "      <td>NaN</td>\n",
       "      <td>NaN</td>\n",
       "    </tr>\n",
       "    <tr>\n",
       "      <th>...</th>\n",
       "      <td>...</td>\n",
       "      <td>...</td>\n",
       "      <td>...</td>\n",
       "      <td>...</td>\n",
       "      <td>...</td>\n",
       "      <td>...</td>\n",
       "      <td>...</td>\n",
       "      <td>...</td>\n",
       "      <td>...</td>\n",
       "      <td>...</td>\n",
       "      <td>...</td>\n",
       "    </tr>\n",
       "    <tr>\n",
       "      <th>16371</th>\n",
       "      <td>PDC World Championship Darts 2008</td>\n",
       "      <td>PSP</td>\n",
       "      <td>&lt;NA&gt;</td>\n",
       "      <td>Sports</td>\n",
       "      <td>0.01</td>\n",
       "      <td>0.00</td>\n",
       "      <td>0.00</td>\n",
       "      <td>0.00</td>\n",
       "      <td>43</td>\n",
       "      <td>NaN</td>\n",
       "      <td>E10+</td>\n",
       "    </tr>\n",
       "    <tr>\n",
       "      <th>16403</th>\n",
       "      <td>Freaky Flyers</td>\n",
       "      <td>GC</td>\n",
       "      <td>&lt;NA&gt;</td>\n",
       "      <td>Racing</td>\n",
       "      <td>0.01</td>\n",
       "      <td>0.00</td>\n",
       "      <td>0.00</td>\n",
       "      <td>0.00</td>\n",
       "      <td>69</td>\n",
       "      <td>6.5</td>\n",
       "      <td>T</td>\n",
       "    </tr>\n",
       "    <tr>\n",
       "      <th>16446</th>\n",
       "      <td>Inversion</td>\n",
       "      <td>PC</td>\n",
       "      <td>&lt;NA&gt;</td>\n",
       "      <td>Shooter</td>\n",
       "      <td>0.01</td>\n",
       "      <td>0.00</td>\n",
       "      <td>0.00</td>\n",
       "      <td>0.00</td>\n",
       "      <td>59</td>\n",
       "      <td>6.7</td>\n",
       "      <td>M</td>\n",
       "    </tr>\n",
       "    <tr>\n",
       "      <th>16456</th>\n",
       "      <td>Hakuouki: Shinsengumi Kitan</td>\n",
       "      <td>PS3</td>\n",
       "      <td>&lt;NA&gt;</td>\n",
       "      <td>Adventure</td>\n",
       "      <td>0.01</td>\n",
       "      <td>0.00</td>\n",
       "      <td>0.00</td>\n",
       "      <td>0.00</td>\n",
       "      <td>&lt;NA&gt;</td>\n",
       "      <td>NaN</td>\n",
       "      <td>NaN</td>\n",
       "    </tr>\n",
       "    <tr>\n",
       "      <th>16520</th>\n",
       "      <td>Virtua Quest</td>\n",
       "      <td>GC</td>\n",
       "      <td>&lt;NA&gt;</td>\n",
       "      <td>Role-Playing</td>\n",
       "      <td>0.01</td>\n",
       "      <td>0.00</td>\n",
       "      <td>0.00</td>\n",
       "      <td>0.00</td>\n",
       "      <td>55</td>\n",
       "      <td>5.5</td>\n",
       "      <td>T</td>\n",
       "    </tr>\n",
       "  </tbody>\n",
       "</table>\n",
       "<p>269 rows × 11 columns</p>\n",
       "</div>"
      ],
      "text/plain": [
       "                                    name platform  year_of_release  \\\n",
       "183                      Madden NFL 2004      PS2             <NA>   \n",
       "377                     FIFA Soccer 2004      PS2             <NA>   \n",
       "456           LEGO Batman: The Videogame      Wii             <NA>   \n",
       "475           wwe Smackdown vs. Raw 2006      PS2             <NA>   \n",
       "609                       Space Invaders     2600             <NA>   \n",
       "...                                  ...      ...              ...   \n",
       "16371  PDC World Championship Darts 2008      PSP             <NA>   \n",
       "16403                      Freaky Flyers       GC             <NA>   \n",
       "16446                          Inversion       PC             <NA>   \n",
       "16456        Hakuouki: Shinsengumi Kitan      PS3             <NA>   \n",
       "16520                       Virtua Quest       GC             <NA>   \n",
       "\n",
       "              genre  na_sales  eu_sales  jp_sales  other_sales  critic_score  \\\n",
       "183          Sports      4.26      0.26      0.01         0.71            94   \n",
       "377          Sports      0.59      2.36      0.04         0.51            84   \n",
       "456          Action      1.80      0.97      0.00         0.29            74   \n",
       "475        Fighting      1.57      1.02      0.00         0.41          <NA>   \n",
       "609         Shooter      2.36      0.14      0.00         0.03          <NA>   \n",
       "...             ...       ...       ...       ...          ...           ...   \n",
       "16371        Sports      0.01      0.00      0.00         0.00            43   \n",
       "16403        Racing      0.01      0.00      0.00         0.00            69   \n",
       "16446       Shooter      0.01      0.00      0.00         0.00            59   \n",
       "16456     Adventure      0.01      0.00      0.00         0.00          <NA>   \n",
       "16520  Role-Playing      0.01      0.00      0.00         0.00            55   \n",
       "\n",
       "       user_score rating  \n",
       "183           8.5      E  \n",
       "377           6.4      E  \n",
       "456           7.9   E10+  \n",
       "475           NaN    NaN  \n",
       "609           NaN    NaN  \n",
       "...           ...    ...  \n",
       "16371         NaN   E10+  \n",
       "16403         6.5      T  \n",
       "16446         6.7      M  \n",
       "16456         NaN    NaN  \n",
       "16520         5.5      T  \n",
       "\n",
       "[269 rows x 11 columns]"
      ]
     },
     "execution_count": 17,
     "metadata": {},
     "output_type": "execute_result"
    }
   ],
   "source": [
    "games[games['year_of_release'].isnull()]"
   ]
  },
  {
   "cell_type": "markdown",
   "metadata": {},
   "source": [
    "Вообще названия игр могут совпадать и для нескольких платформ будет один и тот же выпуск, но в целом пустых данных всего 269 их можно удалить из анализа."
   ]
  },
  {
   "cell_type": "code",
   "execution_count": 18,
   "metadata": {},
   "outputs": [],
   "source": [
    "games = games.dropna(subset=['year_of_release']).reset_index(drop=True)"
   ]
  },
  {
   "cell_type": "markdown",
   "metadata": {},
   "source": [
    "## Шаг 3. Исследовательский анализ данных (EDA)"
   ]
  },
  {
   "cell_type": "markdown",
   "metadata": {},
   "source": [
    "### Посмотрим, сколько игр выпускалось в разные годы. Важны ли данные за все периоды?"
   ]
  },
  {
   "cell_type": "markdown",
   "metadata": {},
   "source": [
    "Посчитаем продажи и общее количество выпущенных игр в новых столбцах, затем сгруппируем:"
   ]
  },
  {
   "cell_type": "code",
   "execution_count": 19,
   "metadata": {},
   "outputs": [],
   "source": [
    "games['total_sales'] = games['na_sales'] + games['eu_sales'] + games['jp_sales'] + games['other_sales']"
   ]
  },
  {
   "cell_type": "code",
   "execution_count": 20,
   "metadata": {},
   "outputs": [],
   "source": [
    "sales = games.groupby('year_of_release')[['total_sales']].sum()\n",
    "number = games.groupby('year_of_release')[['name']].count()\n",
    "games_s = sales.join(number)\n",
    "games_s.columns = ['total_sales', 'number_of_games']"
   ]
  },
  {
   "cell_type": "markdown",
   "metadata": {},
   "source": [
    "<div class=\"alert alert-warning\"; style=\"border-left: 7px solid gold\"> \n",
    "    \n",
    "    `pivot = df.groupby('column_1').agg({'column2': 'агрегирующая функция', 'column_3': 'агрегирующая функция'}).reset_index()`\n",
    "    "
   ]
  },
  {
   "cell_type": "code",
   "execution_count": 21,
   "metadata": {},
   "outputs": [
    {
     "data": {
      "image/png": "[encoded data removed]",
      "text/plain": [
       "<Figure size 864x360 with 1 Axes>"
      ]
     },
     "metadata": {
      "needs_background": "light"
     },
     "output_type": "display_data"
    }
   ],
   "source": [
    "games_s.plot(title = 'Количество выпущенных игр по годам', kind='bar', ec='black', figsize = (12,5))\n",
    "plt.show()"
   ]
  },
  {
   "cell_type": "markdown",
   "metadata": {},
   "source": [
    "Можно заметить две точки перелома, начиная с которых тренд сильно меняется на растущий - это 1994 и 2000 гг."
   ]
  },
  {
   "cell_type": "markdown",
   "metadata": {},
   "source": [
    "До 1994 года игр практически не было. Потом они начали появляться. Резкий скачок по количеству игр, выпущенных в год, произошел в 2002 году. Максимальные значения были в 2008-2009 годах. После этого произошло резкое падение, предположительно связанное с развитием мобильных устройств. Это и повлекло за собой снижение интереса к играм, и в итоге к выпуску новых игр."
   ]
  },
  {
   "cell_type": "markdown",
   "metadata": {},
   "source": [
    "### Посмотрим, как менялись продажи по платформам. Выберем платформы с наибольшими суммарными продажами и построим распределение по годам. За какой характерный срок появляются новые и исчезают старые платформы?"
   ]
  },
  {
   "cell_type": "code",
   "execution_count": 22,
   "metadata": {},
   "outputs": [],
   "source": [
    "sales_p = games.groupby('platform').agg({'total_sales':'sum'}).sort_values(by = 'total_sales')#[-6:]"
   ]
  },
  {
   "cell_type": "code",
   "execution_count": 23,
   "metadata": {},
   "outputs": [
    {
     "data": {
      "text/plain": [
       "<AxesSubplot:title={'center':'Количество проданных игр по платформам'}, xlabel='platform'>"
      ]
     },
     "execution_count": 23,
     "metadata": {},
     "output_type": "execute_result"
    },
    {
     "data": {
      "image/png": "[encoded data removed]",
      "text/plain": [
       "<Figure size 864x360 with 1 Axes>"
      ]
     },
     "metadata": {
      "needs_background": "light"
     },
     "output_type": "display_data"
    }
   ],
   "source": [
    "sales_p.plot(title = 'Количество проданных игр по платформам', kind='bar', ec='black', figsize = (12,5))"
   ]
  },
  {
   "cell_type": "markdown",
   "metadata": {},
   "source": [
    "Для выборки возьмем первые 6 платформ, они сильно выделяются на фоне остальных. \n",
    "\n",
    "Сначала сгруппируем новую таблицу с годами и сделаем срез для 6 платформ."
   ]
  },
  {
   "cell_type": "code",
   "execution_count": 24,
   "metadata": {},
   "outputs": [
    {
     "data": {
      "text/html": [
       "<div>\n",
       "<style scoped>\n",
       "    .dataframe tbody tr th:only-of-type {\n",
       "        vertical-align: middle;\n",
       "    }\n",
       "\n",
       "    .dataframe tbody tr th {\n",
       "        vertical-align: top;\n",
       "    }\n",
       "\n",
       "    .dataframe thead th {\n",
       "        text-align: right;\n",
       "    }\n",
       "</style>\n",
       "<table border=\"1\" class=\"dataframe\">\n",
       "  <thead>\n",
       "    <tr style=\"text-align: right;\">\n",
       "      <th></th>\n",
       "      <th>platform</th>\n",
       "      <th>year_of_release</th>\n",
       "      <th>total_sales</th>\n",
       "    </tr>\n",
       "  </thead>\n",
       "  <tbody>\n",
       "    <tr>\n",
       "      <th>0</th>\n",
       "      <td>DS</td>\n",
       "      <td>1985</td>\n",
       "      <td>0.02</td>\n",
       "    </tr>\n",
       "    <tr>\n",
       "      <th>1</th>\n",
       "      <td>DS</td>\n",
       "      <td>2004</td>\n",
       "      <td>17.27</td>\n",
       "    </tr>\n",
       "    <tr>\n",
       "      <th>2</th>\n",
       "      <td>DS</td>\n",
       "      <td>2005</td>\n",
       "      <td>130.14</td>\n",
       "    </tr>\n",
       "    <tr>\n",
       "      <th>3</th>\n",
       "      <td>DS</td>\n",
       "      <td>2006</td>\n",
       "      <td>119.81</td>\n",
       "    </tr>\n",
       "    <tr>\n",
       "      <th>4</th>\n",
       "      <td>DS</td>\n",
       "      <td>2007</td>\n",
       "      <td>146.94</td>\n",
       "    </tr>\n",
       "    <tr>\n",
       "      <th>...</th>\n",
       "      <td>...</td>\n",
       "      <td>...</td>\n",
       "      <td>...</td>\n",
       "    </tr>\n",
       "    <tr>\n",
       "      <th>62</th>\n",
       "      <td>X360</td>\n",
       "      <td>2012</td>\n",
       "      <td>99.74</td>\n",
       "    </tr>\n",
       "    <tr>\n",
       "      <th>63</th>\n",
       "      <td>X360</td>\n",
       "      <td>2013</td>\n",
       "      <td>88.58</td>\n",
       "    </tr>\n",
       "    <tr>\n",
       "      <th>64</th>\n",
       "      <td>X360</td>\n",
       "      <td>2014</td>\n",
       "      <td>34.74</td>\n",
       "    </tr>\n",
       "    <tr>\n",
       "      <th>65</th>\n",
       "      <td>X360</td>\n",
       "      <td>2015</td>\n",
       "      <td>11.96</td>\n",
       "    </tr>\n",
       "    <tr>\n",
       "      <th>66</th>\n",
       "      <td>X360</td>\n",
       "      <td>2016</td>\n",
       "      <td>1.52</td>\n",
       "    </tr>\n",
       "  </tbody>\n",
       "</table>\n",
       "<p>67 rows × 3 columns</p>\n",
       "</div>"
      ],
      "text/plain": [
       "   platform  year_of_release  total_sales\n",
       "0        DS             1985         0.02\n",
       "1        DS             2004        17.27\n",
       "2        DS             2005       130.14\n",
       "3        DS             2006       119.81\n",
       "4        DS             2007       146.94\n",
       "..      ...              ...          ...\n",
       "62     X360             2012        99.74\n",
       "63     X360             2013        88.58\n",
       "64     X360             2014        34.74\n",
       "65     X360             2015        11.96\n",
       "66     X360             2016         1.52\n",
       "\n",
       "[67 rows x 3 columns]"
      ]
     },
     "execution_count": 24,
     "metadata": {},
     "output_type": "execute_result"
    }
   ],
   "source": [
    "platform_years = pd.DataFrame(games.groupby(['platform','year_of_release'])['total_sales'].sum())\n",
    "platforms_six = ['PS2', 'X360', 'PS3', 'Wii', 'DS', 'PS']\n",
    "#platforms_best = platform_years.query('year_of_release>1992')\n",
    "platforms_best = platform_years.query('platform in @platforms_six').reset_index()\n",
    "platforms_best"
   ]
  },
  {
   "cell_type": "code",
   "execution_count": 25,
   "metadata": {
    "scrolled": false
   },
   "outputs": [
    {
     "data": {
      "text/plain": [
       "<matplotlib.legend.Legend at 0x7f918e5517c0>"
      ]
     },
     "execution_count": 25,
     "metadata": {},
     "output_type": "execute_result"
    },
    {
     "data": {
      "image/png": "[encoded data removed]",
      "text/plain": [
       "<Figure size 936x432 with 1 Axes>"
      ]
     },
     "metadata": {
      "needs_background": "light"
     },
     "output_type": "display_data"
    }
   ],
   "source": [
    "x1 = platforms_best[platforms_best['platform']=='PS2']['year_of_release']\n",
    "x2 = platforms_best[platforms_best['platform']=='X360']['year_of_release']\n",
    "x3 = platforms_best[platforms_best['platform']=='PS3']['year_of_release']\n",
    "x4 = platforms_best[platforms_best['platform']=='Wii']['year_of_release']\n",
    "x5 = platforms_best[platforms_best['platform']=='DS']['year_of_release']\n",
    "x6 = platforms_best[platforms_best['platform']=='PS']['year_of_release']\n",
    "\n",
    "y1 = platforms_best[platforms_best['platform']=='PS2']['total_sales']\n",
    "y2 = platforms_best[platforms_best['platform']=='X360']['total_sales']\n",
    "y3 = platforms_best[platforms_best['platform']=='PS3']['total_sales']\n",
    "y4 = platforms_best[platforms_best['platform']=='Wii']['total_sales']\n",
    "y5 = platforms_best[platforms_best['platform']=='DS']['total_sales']\n",
    "y6 = platforms_best[platforms_best['platform']=='PS']['total_sales']\n",
    "\n",
    "fig, ax = plt.subplots(figsize=(13, 6))\n",
    "\n",
    "ax.bar(x1, y1, alpha = 0.5,ec='black', label='PS2')\n",
    "ax.bar(x2, y2, alpha = 0.5,ec='black', label='X360')\n",
    "ax.bar(x3, y3, alpha = 0.5,ec='black', label='PS3')\n",
    "ax.bar(x4, y4, alpha = 0.5,ec='black', label='Wii')\n",
    "ax.bar(x5, y5, alpha = 0.5,ec='black', label='DS',color='b')\n",
    "ax.bar(x6, y6, alpha = 0.7,ec='black', label='PS')\n",
    "\n",
    "plt.legend()"
   ]
  },
  {
   "cell_type": "markdown",
   "metadata": {},
   "source": [
    "Что-то плоховато видно, лучше разделить на отдельные графики."
   ]
  },
  {
   "cell_type": "code",
   "execution_count": 27,
   "metadata": {},
   "outputs": [
    {
     "data": {
      "image/png": "[encoded data removed]",
      "text/plain": [
       "<Figure size 1080x576 with 6 Axes>"
      ]
     },
     "metadata": {
      "needs_background": "light"
     },
     "output_type": "display_data"
    }
   ],
   "source": [
    "plt.figure(figsize = (15, 8))\n",
    "plt.subplots_adjust(hspace=0.4, wspace=0.3)\n",
    "\n",
    "def draw_graph(i, plat):\n",
    "    plt.subplot(2, 3, i)\n",
    "    platforms_best.query('platform == @plat').groupby('year_of_release')['total_sales'].sum()\\\n",
    "                 .plot( kind='bar', color='g', alpha = 0.7)\n",
    "    plt.xlabel(plat)\n",
    "    plt.ylabel('Выручка в год')\n",
    "    plt.ylim(0, 220)\n",
    "\n",
    "def create_graphs():\n",
    "    i = 1\n",
    "    for pl in platforms_best['platform'].unique():\n",
    "        draw_graph(i, pl)\n",
    "        i += 1\n",
    "        \n",
    "create_graphs()"
   ]
  },
  {
   "cell_type": "markdown",
   "metadata": {},
   "source": [
    "<div class=\"alert alert-success\"; style=\"border-left: 7px solid green\">\n",
    "<b> или так</b> \n",
    "    "
   ]
  },
  {
   "cell_type": "code",
   "execution_count": 28,
   "metadata": {
    "scrolled": false
   },
   "outputs": [
    {
     "data": {
      "image/png": "[encoded data removed]",
      "text/plain": [
       "<Figure size 1080x576 with 6 Axes>"
      ]
     },
     "metadata": {
      "needs_background": "light"
     },
     "output_type": "display_data"
    }
   ],
   "source": [
    "plt.figure(figsize = (15, 8))\n",
    "plt.subplots_adjust(hspace=0.4, wspace=0.3)\n",
    "\n",
    "i = 0\n",
    "\n",
    "for platform in platforms_best['platform'].unique():\n",
    "\n",
    "    i += 1\n",
    "    plt.subplot(2, 3, i)\n",
    "    platforms_best.query('platform == @platform').groupby('year_of_release')['total_sales'].sum()\\\n",
    "                 .plot( kind='bar', color='g', alpha = 0.7)\n",
    "    plt.xlabel(platform)\n",
    "    plt.ylabel('Выручка в год')\n",
    "    plt.ylim(0, 220)\n",
    "\n"
   ]
  },
  {
   "cell_type": "markdown",
   "metadata": {},
   "source": [
    "В среднем каждая из платформ просуществовала примерно по 10 лет. Но так как они постоянно модифицируются и создаются новые, старым, увы, места не остается.\n",
    "- PS2 с 2000 по 2010 (в точности 10 лет)\n",
    "- X360 с 2005 по 2015 (10 лет)\n",
    "- PS3 с 2006 по 2016 (10 лет)\n",
    "- Wii с 2006 по 2014(2015) (8-9 лет)\n",
    "- DS с 2004 по 2013 (9 лет)\n",
    "- PS с 1994 по 2003 (9 лет)\n"
   ]
  },
  {
   "cell_type": "markdown",
   "metadata": {},
   "source": [
    "### Возьмем данные за соответствующий актуальный период. Актуальный период определим самостоятельно в результате исследования предыдущих вопросов. Основной фактор — эти данные помогут построить прогноз на 2017 год."
   ]
  },
  {
   "cell_type": "code",
   "execution_count": 29,
   "metadata": {},
   "outputs": [],
   "source": [
    "games= games[games['year_of_release']>=2013]\n",
    "# обновим нашу таблицу, так как было сказано не учитывать данные за прошлые года\n"
   ]
  },
  {
   "cell_type": "markdown",
   "metadata": {},
   "source": [
    "### Какие платформы лидируют по продажам, растут или падают? Выберем несколько потенциально прибыльных платформ."
   ]
  },
  {
   "cell_type": "code",
   "execution_count": 30,
   "metadata": {
    "scrolled": false
   },
   "outputs": [
    {
     "data": {
      "image/png": "[encoded data removed]",
      "text/plain": [
       "<Figure size 864x360 with 1 Axes>"
      ]
     },
     "metadata": {
      "needs_background": "light"
     },
     "output_type": "display_data"
    }
   ],
   "source": [
    "sales_plat_new = games.groupby('platform').agg({'total_sales':'sum'}).sort_values(by = 'total_sales')\n",
    "sales_plat_new.plot(title = 'Количество проданных игр по платформам', kind='bar', ec='black', figsize = (12,5))\n",
    "plt.legend()\n",
    "plt.show()"
   ]
  },
  {
   "cell_type": "markdown",
   "metadata": {},
   "source": [
    "Если рассматривать в целом только продажи, то лидирующими являются 4 платформы : X360, PS3, Wii и DS.\n",
    "\n",
    "Теперь посмотрим, что происходит с продажами по годам."
   ]
  },
  {
   "cell_type": "markdown",
   "metadata": {},
   "source": [
    "<div class=\"alert alert-block alert-info\"; style=\"border-left: 7px solid blue\">\n",
    "<b>Комментарий студента</b>\n",
    "    \n",
    "По продажам явно лидирует PS4, и за ним идет четверка : PS3, XOne, 3DS, X360.\n",
    "</div>"
   ]
  },
  {
   "cell_type": "code",
   "execution_count": 31,
   "metadata": {
    "scrolled": false
   },
   "outputs": [
    {
     "data": {
      "image/png": "[encoded data removed]",
      "text/plain": [
       "<Figure size 1080x504 with 1 Axes>"
      ]
     },
     "metadata": {
      "needs_background": "light"
     },
     "output_type": "display_data"
    }
   ],
   "source": [
    "platform_years_new = pd.DataFrame(games.groupby(['platform','year_of_release'])['total_sales'].sum()).reset_index()\n",
    "#platforms_six = ['PS2', 'X360', 'PS3', 'Wii', 'DS', 'PS']\n",
    "#platforms_best = platform_years.query('year_of_release>1992')\n",
    "#platforms_best = platform_years.query('platform in @platforms_six').reset_index()\n",
    "#platforms_best\n",
    "\n",
    "fig, ax = plt.subplots( figsize=(15, 7)) \n",
    "for platform, group_data in platform_years_new.groupby('platform'):\n",
    "    ax.plot(group_data['year_of_release'],group_data['total_sales'] ,'.-',label =  platform,  linewidth=1.5)\n",
    "    ax.set_title('Количество выпущенных игр по годам' , size = 20)\n",
    "    ax.set_xlabel('year_of_release', size = 15)\n",
    "    ax.set_ylabel('total_sales', size= 15)\n",
    "    plt.grid()\n",
    "    plt.legend()\n",
    "    \n",
    "    #plt.show()"
   ]
  },
  {
   "cell_type": "markdown",
   "metadata": {},
   "source": [
    "В целом продажи по всем платформам падают. \n",
    "\n",
    "Сравнивая с первоначальной оценкой, X360, PS3, Wii и DS, все эти платформы можно сказать уже \"отжили\" свое, и их продажи практически на минимуме. Однако выбиваются относительно новые платформы, такие как:\n",
    "- PS4\n",
    "- XOne\n",
    "- 3DS"
   ]
  },
  {
   "cell_type": "markdown",
   "metadata": {},
   "source": [
    "<div class=\"alert alert-block alert-info\"; style=\"border-left: 7px solid blue\">\n",
    "    \n",
    "По сравнению с первоначальным анализом, PS4 также остается в лидерах, а из четверки еще \"держатся\" только XOne и 3DS.\n",
    "    \n",
    "<div class=\"alert alert-success\"; style=\"border-left: 7px solid green\"> \n",
    "    \n",
    "Помним, что стоит смотреть не только на количественные данные, но еще углубляться в специфику. Вот здесь, например, если знать предметную область, то можно увидеть, что 3DS и PSV - это мобильные платформы с изначально меньшей аудиторией, но тем не менее это отдельный сегмент. А у РС уже давно невысокие, но тем не менее стабильные продажи.  \n",
    "    \n",
    "</div>"
   ]
  },
  {
   "cell_type": "markdown",
   "metadata": {},
   "source": [
    "### Построим график «ящик с усами» по глобальным продажам игр в разбивке по платформам"
   ]
  },
  {
   "cell_type": "code",
   "execution_count": 33,
   "metadata": {
    "scrolled": false
   },
   "outputs": [
    {
     "data": {
      "image/png": "[encoded data removed]",
      "text/plain": [
       "<Figure size 1080x504 with 1 Axes>"
      ]
     },
     "metadata": {},
     "output_type": "display_data"
    }
   ],
   "source": [
    "import seaborn as sns\n",
    "sns.set_theme(style=\"whitegrid\")\n",
    "\n",
    "fig, ax = plt.subplots( figsize=(15, 7)) \n",
    "for platform, group_data in games.groupby('platform'):\n",
    "    #ax.plot(group_data['year_of_release'],group_data['total_sales'] ,'boxplot',label =  platform)\n",
    "    ax = sns.boxplot(x=\"platform\", y=\"total_sales\", data=games)\n",
    "    plt.ylim(0, 3)\n"
   ]
  },
  {
   "cell_type": "markdown",
   "metadata": {},
   "source": [
    "<div class=\"alert alert-block alert-info\"; style=\"border-left: 7px solid blue\">\n",
    "    \n",
    "Наибольшие медианные значения продаж у платформ X360, XOne, PS4, WiiU и Wii. Они варьируются от 0,18 до 0,27 млн проданных копий.\n",
    "    \n",
    "У остальных платформ <= 0.15 млн.\n",
    "                           \n",
    "Максимальные значения у платформ доходят до 10-20 млн, таких как PS3, X360, PS4, 3DS.\n",
    "\n",
    "В целом, практически у всех платформ есть как игры с очень низкими значениями по продажам, так и единичные игры с оочень высокими продажами.\n",
    "    \n",
    "                           \n",
    "<div class=\"alert alert-success\"; style=\"border-left: 7px solid green\">\n",
    "    \n",
    "В идеале, стоило построить два графика: один без ограничения, чтобы увидеть весь диапазон, а второй с ограничением лучше до 2, чтобы медианы и другие характеристики распределения было лучше видно.\n",
    "    \n",
    "    \n",
    "</div>"
   ]
  },
  {
   "cell_type": "markdown",
   "metadata": {},
   "source": [
    "\n",
    "У всех лидирующих платформ присутствует большой разброс от самых маленьких продаж до высоких. Т.е. бывают и очень успешные игры, и совсем \"не очень\"."
   ]
  },
  {
   "cell_type": "markdown",
   "metadata": {},
   "source": [
    "### Посмотрим, как влияют на продажи внутри одной популярной платформы отзывы пользователей и критиков. Построим диаграмму рассеяния и посчитаем корреляцию между отзывами и продажами."
   ]
  },
  {
   "cell_type": "markdown",
   "metadata": {},
   "source": [
    "Для оценки влияния возьмем платформу PS3. Сначала выведем все необходимые колонки, и для более точного результата возьмем все оценки больше нуля."
   ]
  },
  {
   "cell_type": "code",
   "execution_count": 34,
   "metadata": {},
   "outputs": [
    {
     "data": {
      "text/html": [
       "<div>\n",
       "<style scoped>\n",
       "    .dataframe tbody tr th:only-of-type {\n",
       "        vertical-align: middle;\n",
       "    }\n",
       "\n",
       "    .dataframe tbody tr th {\n",
       "        vertical-align: top;\n",
       "    }\n",
       "\n",
       "    .dataframe thead th {\n",
       "        text-align: right;\n",
       "    }\n",
       "</style>\n",
       "<table border=\"1\" class=\"dataframe\">\n",
       "  <thead>\n",
       "    <tr style=\"text-align: right;\">\n",
       "      <th></th>\n",
       "      <th>total_sales</th>\n",
       "      <th>critic_score</th>\n",
       "      <th>user_score</th>\n",
       "    </tr>\n",
       "  </thead>\n",
       "  <tbody>\n",
       "    <tr>\n",
       "      <th>0</th>\n",
       "      <td>21.05</td>\n",
       "      <td>97</td>\n",
       "      <td>8.2</td>\n",
       "    </tr>\n",
       "    <tr>\n",
       "      <th>1</th>\n",
       "      <td>9.36</td>\n",
       "      <td>71</td>\n",
       "      <td>2.6</td>\n",
       "    </tr>\n",
       "    <tr>\n",
       "      <th>2</th>\n",
       "      <td>6.46</td>\n",
       "      <td>86</td>\n",
       "      <td>4.3</td>\n",
       "    </tr>\n",
       "    <tr>\n",
       "      <th>3</th>\n",
       "      <td>5.86</td>\n",
       "      <td>95</td>\n",
       "      <td>9.1</td>\n",
       "    </tr>\n",
       "    <tr>\n",
       "      <th>4</th>\n",
       "      <td>3.71</td>\n",
       "      <td>88</td>\n",
       "      <td>8.1</td>\n",
       "    </tr>\n",
       "    <tr>\n",
       "      <th>5</th>\n",
       "      <td>3.49</td>\n",
       "      <td>80</td>\n",
       "      <td>5.8</td>\n",
       "    </tr>\n",
       "    <tr>\n",
       "      <th>6</th>\n",
       "      <td>3.23</td>\n",
       "      <td>81</td>\n",
       "      <td>7.7</td>\n",
       "    </tr>\n",
       "    <tr>\n",
       "      <th>7</th>\n",
       "      <td>2.29</td>\n",
       "      <td>76</td>\n",
       "      <td>7.7</td>\n",
       "    </tr>\n",
       "    <tr>\n",
       "      <th>8</th>\n",
       "      <td>2.25</td>\n",
       "      <td>80</td>\n",
       "      <td>7.5</td>\n",
       "    </tr>\n",
       "    <tr>\n",
       "      <th>9</th>\n",
       "      <td>2.11</td>\n",
       "      <td>84</td>\n",
       "      <td>4.9</td>\n",
       "    </tr>\n",
       "  </tbody>\n",
       "</table>\n",
       "</div>"
      ],
      "text/plain": [
       "   total_sales  critic_score  user_score\n",
       "0        21.05            97         8.2\n",
       "1         9.36            71         2.6\n",
       "2         6.46            86         4.3\n",
       "3         5.86            95         9.1\n",
       "4         3.71            88         8.1\n",
       "5         3.49            80         5.8\n",
       "6         3.23            81         7.7\n",
       "7         2.29            76         7.7\n",
       "8         2.25            80         7.5\n",
       "9         2.11            84         4.9"
      ]
     },
     "execution_count": 34,
     "metadata": {},
     "output_type": "execute_result"
    }
   ],
   "source": [
    "ps3_corr = games[games.platform == \"PS3\"].loc[:,['total_sales', 'critic_score', 'user_score']]\n",
    "ps3_corr = ps3_corr[(ps3_corr['critic_score']>0) & (ps3_corr['user_score']>0)].reset_index(drop=True)\n",
    "ps3_corr.head(10)"
   ]
  },
  {
   "cell_type": "code",
   "execution_count": 35,
   "metadata": {
    "scrolled": false
   },
   "outputs": [
    {
     "name": "stdout",
     "output_type": "stream",
     "text": [
      "Диаграмма рассеяния для PS3\n"
     ]
    },
    {
     "data": {
      "image/png": "[encoded data removed]",
      "text/plain": [
       "<Figure size 720x576 with 9 Axes>"
      ]
     },
     "metadata": {},
     "output_type": "display_data"
    }
   ],
   "source": [
    "print(\"Диаграмма рассеяния для PS3\")\n",
    "pd.plotting.scatter_matrix(ps3_corr, figsize=(10, 8))\n",
    "plt.show()"
   ]
  },
  {
   "cell_type": "markdown",
   "metadata": {},
   "source": [
    "Существует  не очень явно выраженная прямая корреляция между продажами и рейтингом критиков.\n",
    "\n",
    "Однако корреляции между продажами и рейтингом пользователей особой корреляции не наблюдается.\n",
    "\n",
    "Что следует заметить, что рейтинги между собой зависимы. Скорее всего на рейтинг пользователей влияет оценка критиков.\n",
    "\n",
    "В итоге: у игр с высоким рейтингом критиков продажи больше."
   ]
  },
  {
   "cell_type": "code",
   "execution_count": 36,
   "metadata": {},
   "outputs": [
    {
     "data": {
      "text/html": [
       "<div>\n",
       "<style scoped>\n",
       "    .dataframe tbody tr th:only-of-type {\n",
       "        vertical-align: middle;\n",
       "    }\n",
       "\n",
       "    .dataframe tbody tr th {\n",
       "        vertical-align: top;\n",
       "    }\n",
       "\n",
       "    .dataframe thead th {\n",
       "        text-align: right;\n",
       "    }\n",
       "</style>\n",
       "<table border=\"1\" class=\"dataframe\">\n",
       "  <thead>\n",
       "    <tr style=\"text-align: right;\">\n",
       "      <th></th>\n",
       "      <th>total_sales</th>\n",
       "      <th>critic_score</th>\n",
       "      <th>user_score</th>\n",
       "    </tr>\n",
       "  </thead>\n",
       "  <tbody>\n",
       "    <tr>\n",
       "      <th>total_sales</th>\n",
       "      <td>1.000000</td>\n",
       "      <td>0.333807</td>\n",
       "      <td>0.022691</td>\n",
       "    </tr>\n",
       "    <tr>\n",
       "      <th>critic_score</th>\n",
       "      <td>0.333807</td>\n",
       "      <td>1.000000</td>\n",
       "      <td>0.599920</td>\n",
       "    </tr>\n",
       "    <tr>\n",
       "      <th>user_score</th>\n",
       "      <td>0.022691</td>\n",
       "      <td>0.599920</td>\n",
       "      <td>1.000000</td>\n",
       "    </tr>\n",
       "  </tbody>\n",
       "</table>\n",
       "</div>"
      ],
      "text/plain": [
       "              total_sales  critic_score  user_score\n",
       "total_sales      1.000000      0.333807    0.022691\n",
       "critic_score     0.333807      1.000000    0.599920\n",
       "user_score       0.022691      0.599920    1.000000"
      ]
     },
     "execution_count": 36,
     "metadata": {},
     "output_type": "execute_result"
    }
   ],
   "source": [
    "ps3_corr.corr()"
   ]
  },
  {
   "cell_type": "markdown",
   "metadata": {},
   "source": [
    "Корреляция между total_sales и critic_score равна 0.33, что ожидаемо, мы заметили эту зависимость на графике.\n",
    "\n",
    "Корреляции между total_sales и user_score практически отсутствует.\n",
    "\n",
    "Корреляция между critic_score и user_score равна 0.6, что подтверждает влияние критиков на простых пользователей."
   ]
  },
  {
   "cell_type": "markdown",
   "metadata": {},
   "source": [
    "<div class=\"alert alert-danger\"; style=\"border-left: 7px solid red\">\n",
    "\n",
    "И расчет корреляции и построение диаграмм нужно делать на данных за актуальный период. Ты же пытаешься найти взаимосвязи, которые помогут тебе сделать прогноз на следующий год.\n",
    "    \n",
    "Тебе нужно было рассмотреть влияние на данных по одной *перспективной* платформе, а потом сделать аналогичное для каждой из оставшихся *перспективных* платформ.\n",
    "    "
   ]
  },
  {
   "cell_type": "markdown",
   "metadata": {},
   "source": [
    "### Посмотрим на общее распределение игр по жанрам. Что можно сказать о самых прибыльных жанрах? Выделяются ли жанры с высокими и низкими продажами?"
   ]
  },
  {
   "cell_type": "code",
   "execution_count": 37,
   "metadata": {},
   "outputs": [
    {
     "data": {
      "text/html": [
       "<style  type=\"text/css\" >\n",
       "#T_70c94_row0_col0{\n",
       "            width:  10em;\n",
       "             height:  80%;\n",
       "            background:  linear-gradient(90deg,#d65f5f 100.0%, transparent 100.0%);\n",
       "        }#T_70c94_row1_col0{\n",
       "            width:  10em;\n",
       "             height:  80%;\n",
       "            background:  linear-gradient(90deg,#d65f5f 72.1%, transparent 72.1%);\n",
       "        }#T_70c94_row2_col0{\n",
       "            width:  10em;\n",
       "             height:  80%;\n",
       "            background:  linear-gradient(90deg,#d65f5f 46.3%, transparent 46.3%);\n",
       "        }#T_70c94_row3_col0{\n",
       "            width:  10em;\n",
       "             height:  80%;\n",
       "            background:  linear-gradient(90deg,#d65f5f 44.8%, transparent 44.8%);\n",
       "        }#T_70c94_row4_col0{\n",
       "            width:  10em;\n",
       "             height:  80%;\n",
       "            background:  linear-gradient(90deg,#d65f5f 18.7%, transparent 18.7%);\n",
       "        }#T_70c94_row5_col0{\n",
       "            width:  10em;\n",
       "             height:  80%;\n",
       "            background:  linear-gradient(90deg,#d65f5f 12.4%, transparent 12.4%);\n",
       "        }#T_70c94_row6_col0{\n",
       "            width:  10em;\n",
       "             height:  80%;\n",
       "            background:  linear-gradient(90deg,#d65f5f 11.5%, transparent 11.5%);\n",
       "        }#T_70c94_row7_col0{\n",
       "            width:  10em;\n",
       "             height:  80%;\n",
       "            background:  linear-gradient(90deg,#d65f5f 10.1%, transparent 10.1%);\n",
       "        }#T_70c94_row8_col0{\n",
       "            width:  10em;\n",
       "             height:  80%;\n",
       "            background:  linear-gradient(90deg,#d65f5f 6.4%, transparent 6.4%);\n",
       "        }#T_70c94_row9_col0{\n",
       "            width:  10em;\n",
       "             height:  80%;\n",
       "            background:  linear-gradient(90deg,#d65f5f 5.8%, transparent 5.8%);\n",
       "        }#T_70c94_row10_col0{\n",
       "            width:  10em;\n",
       "             height:  80%;\n",
       "            background:  linear-gradient(90deg,#d65f5f 2.2%, transparent 2.2%);\n",
       "        }#T_70c94_row11_col0{\n",
       "            width:  10em;\n",
       "             height:  80%;\n",
       "        }</style><table id=\"T_70c94_\" ><thead>    <tr>        <th class=\"blank level0\" ></th>        <th class=\"col_heading level0 col0\" >total_sales</th>    </tr>    <tr>        <th class=\"index_name level0\" >genre</th>        <th class=\"blank\" ></th>    </tr></thead><tbody>\n",
       "                <tr>\n",
       "                        <th id=\"T_70c94_level0_row0\" class=\"row_heading level0 row0\" >Action</th>\n",
       "                        <td id=\"T_70c94_row0_col0\" class=\"data row0 col0\" >321.870000</td>\n",
       "            </tr>\n",
       "            <tr>\n",
       "                        <th id=\"T_70c94_level0_row1\" class=\"row_heading level0 row1\" >Shooter</th>\n",
       "                        <td id=\"T_70c94_row1_col0\" class=\"data row1 col0\" >232.980000</td>\n",
       "            </tr>\n",
       "            <tr>\n",
       "                        <th id=\"T_70c94_level0_row2\" class=\"row_heading level0 row2\" >Sports</th>\n",
       "                        <td id=\"T_70c94_row2_col0\" class=\"data row2 col0\" >150.650000</td>\n",
       "            </tr>\n",
       "            <tr>\n",
       "                        <th id=\"T_70c94_level0_row3\" class=\"row_heading level0 row3\" >Role-Playing</th>\n",
       "                        <td id=\"T_70c94_row3_col0\" class=\"data row3 col0\" >145.890000</td>\n",
       "            </tr>\n",
       "            <tr>\n",
       "                        <th id=\"T_70c94_level0_row4\" class=\"row_heading level0 row4\" >Misc</th>\n",
       "                        <td id=\"T_70c94_row4_col0\" class=\"data row4 col0\" >62.820000</td>\n",
       "            </tr>\n",
       "            <tr>\n",
       "                        <th id=\"T_70c94_level0_row5\" class=\"row_heading level0 row5\" >Platform</th>\n",
       "                        <td id=\"T_70c94_row5_col0\" class=\"data row5 col0\" >42.630000</td>\n",
       "            </tr>\n",
       "            <tr>\n",
       "                        <th id=\"T_70c94_level0_row6\" class=\"row_heading level0 row6\" >Racing</th>\n",
       "                        <td id=\"T_70c94_row6_col0\" class=\"data row6 col0\" >39.890000</td>\n",
       "            </tr>\n",
       "            <tr>\n",
       "                        <th id=\"T_70c94_level0_row7\" class=\"row_heading level0 row7\" >Fighting</th>\n",
       "                        <td id=\"T_70c94_row7_col0\" class=\"data row7 col0\" >35.310000</td>\n",
       "            </tr>\n",
       "            <tr>\n",
       "                        <th id=\"T_70c94_level0_row8\" class=\"row_heading level0 row8\" >Adventure</th>\n",
       "                        <td id=\"T_70c94_row8_col0\" class=\"data row8 col0\" >23.640000</td>\n",
       "            </tr>\n",
       "            <tr>\n",
       "                        <th id=\"T_70c94_level0_row9\" class=\"row_heading level0 row9\" >Simulation</th>\n",
       "                        <td id=\"T_70c94_row9_col0\" class=\"data row9 col0\" >21.760000</td>\n",
       "            </tr>\n",
       "            <tr>\n",
       "                        <th id=\"T_70c94_level0_row10\" class=\"row_heading level0 row10\" >Strategy</th>\n",
       "                        <td id=\"T_70c94_row10_col0\" class=\"data row10 col0\" >10.080000</td>\n",
       "            </tr>\n",
       "            <tr>\n",
       "                        <th id=\"T_70c94_level0_row11\" class=\"row_heading level0 row11\" >Puzzle</th>\n",
       "                        <td id=\"T_70c94_row11_col0\" class=\"data row11 col0\" >3.170000</td>\n",
       "            </tr>\n",
       "    </tbody></table>"
      ],
      "text/plain": [
       "<pandas.io.formats.style.Styler at 0x7f918e703a90>"
      ]
     },
     "execution_count": 37,
     "metadata": {},
     "output_type": "execute_result"
    }
   ],
   "source": [
    "group_genre = pd.pivot_table(games, index='genre', values='total_sales', aggfunc='sum')\n",
    "group_genre.sort_values('total_sales', ascending=False).style.bar()"
   ]
  },
  {
   "cell_type": "markdown",
   "metadata": {},
   "source": [
    "<div class=\"alert alert-danger\"; style=\"border-left: 7px solid red\">\n",
    "\n",
    "За высокими показателями общих продаж может скрываться множество мелких игр с низкими продажами. Или 2-3 звезды и куча провалов. Лучше найти жанр, где игры стабильно приносят высокий доход - для этого стоит еще рассмотреть средние (или медианные продажи).\n",
    "\n",
    "И популярные жанры искать тоже нужно за актуальный период.</div>\n"
   ]
  },
  {
   "cell_type": "markdown",
   "metadata": {},
   "source": [
    "Самыми прибыльными жанрами можно считать Action, Sports, Shooter, Misc и Role-Playing.\n",
    "Тем не менее нужно отметить, что продажи Экшена почти в 1.5 раза больше, чем у спортвных игр, стоящих на втором месте.\n",
    "\n",
    "Средний по продажам сектор занимают Racing,Platform, Simulation,Fighting. \n",
    "Может быть эти игры немного однообразные (к примеру гонки и драки), поэтому ими интересуются меньше. \n",
    "\n",
    "Меньше 100 млн проданных копий получают жанры Puzzle и Strategy. "
   ]
  },
  {
   "cell_type": "code",
   "execution_count": 38,
   "metadata": {},
   "outputs": [
    {
     "data": {
      "image/png": "[encoded data removed]",
      "text/plain": [
       "<Figure size 1080x504 with 1 Axes>"
      ]
     },
     "metadata": {},
     "output_type": "display_data"
    }
   ],
   "source": [
    "fig, ax = plt.subplots( figsize=(15, 7)) \n",
    "for platform, group_data in games.groupby('genre'):\n",
    "    ax = sns.boxplot(x=\"genre\", y=\"total_sales\", data=games)\n",
    "    plt.ylim(0, 3)"
   ]
  },
  {
   "cell_type": "markdown",
   "metadata": {},
   "source": [
    "<div class=\"alert alert-block alert-info\"; style=\"border-left: 7px solid blue\">\n",
    "\n",
    "Очень неожиданно для меня, но действительно жанр Action , который в общем распределении занимал 1 место по продажам, на самом деле далеко не лучший.\n",
    "    \n",
    "По медианным значениям тройка лидеров состоит из жанров Shooter, Sports и Platform со значениями от 0.2 до 0.45 млн.\n",
    "    \n",
    "Остальные жанры в общем состоят из мелких игр с низкими продажами и небольшим количество игр, которые \"выстрелили\"."
   ]
  },
  {
   "cell_type": "markdown",
   "metadata": {},
   "source": [
    "## Шаг 4. Портрет пользователя каждого региона"
   ]
  },
  {
   "cell_type": "markdown",
   "metadata": {},
   "source": [
    "Определим для пользователя каждого региона (NA, EU, JP):"
   ]
  },
  {
   "cell_type": "markdown",
   "metadata": {},
   "source": [
    "### Самые популярные платформы (топ-5). Опишем различия в долях продаж."
   ]
  },
  {
   "cell_type": "code",
   "execution_count": 39,
   "metadata": {},
   "outputs": [],
   "source": [
    "def top_plat_plot1(region_sales, ax):\n",
    "    pivot = games.groupby('platform').agg({region_sales: 'sum'}).sort_values(by=region_sales, ascending=False)[:5]\n",
    "    color_dict = {'na_sales': 'b', 'eu_sales': 'g', 'jp_sales': 'r'}\n",
    "    plot = pivot.plot(kind='bar', ec='black', ax=axes[ax], \n",
    "                   fontsize=18, color=color_dict[region_sales], rot=20)\n",
    "    plot.legend(prop={'size':17})\n",
    "    plot.set_xlabel('')\n",
    "    plot.set_ylim(0,150)\n",
    "    plot.title.set_size(20)\n",
    "    plt.title('Самые популярные платформы (топ-5)', size = 20 )"
   ]
  },
  {
   "cell_type": "code",
   "execution_count": 40,
   "metadata": {
    "scrolled": true
   },
   "outputs": [
    {
     "data": {
      "image/png": "[encoded data removed]",
      "text/plain": [
       "<Figure size 1800x432 with 3 Axes>"
      ]
     },
     "metadata": {},
     "output_type": "display_data"
    }
   ],
   "source": [
    "fig, axes = plt.subplots(1, 3, figsize=(25,6))\n",
    "plt.title('Самые популярные платформы (топ-5)', size = 20 )\n",
    "top_plat_plot1( 'na_sales', 0)\n",
    "top_plat_plot1( 'eu_sales', 1)\n",
    "top_plat_plot1( 'jp_sales', 2)"
   ]
  },
  {
   "cell_type": "markdown",
   "metadata": {},
   "source": [
    "<div class=\"alert alert-block alert-info\"; style=\"border-left: 7px solid blue\">\n",
    "\n",
    "Для актуального периода:\n",
    "\n",
    "В Северной Америке распределение по местам происходит +- равномерно (разница 10-20). \n",
    "    На пером месте PS4, затем Xone, X360, PS3, и немного остатет от всех 3DS.\n",
    "    \n",
    "В Европе со значительным отрывом на 1 месте также располагается PS4. Затем с меньшими в 2 раза и более значениями PS3, XOne, X360 и 3DS. \n",
    "    \n",
    "То есть в СА и Европе платформы одни и те же, но с разными местами.\n",
    "    \n",
    "В Японии все по-другому. На первом месте со значительным отрывом находится платформа 3DS, которая в СА и Е находится на 5 месте. Однако в пятерку также входят PS3 и PS4, а также PSV. И неожиданно на 5 месте WiiU."
   ]
  },
  {
   "cell_type": "markdown",
   "metadata": {},
   "source": [
    "### Самые популярные жанры (топ-5). "
   ]
  },
  {
   "cell_type": "code",
   "execution_count": 41,
   "metadata": {},
   "outputs": [],
   "source": [
    "def top_plat_plot2(region_sales, ax):\n",
    "    pivot = games.groupby('genre').agg({region_sales: 'sum'}).sort_values(by=region_sales, ascending=False)[:5]\n",
    "    color_dict = {'na_sales': 'b', 'eu_sales': 'g', 'jp_sales': 'r'}\n",
    "    plot = pivot.plot(kind='bar', ec='black', ax=axes[ax], \n",
    "                   fontsize=18, color=color_dict[region_sales], rot=20)\n",
    "    plot.legend(prop={'size':17})\n",
    "    plot.set_xlabel('')\n",
    "    plot.set_ylim(0,150)\n",
    "    plot.title.set_size(20)"
   ]
  },
  {
   "cell_type": "code",
   "execution_count": 42,
   "metadata": {
    "scrolled": false
   },
   "outputs": [
    {
     "data": {
      "image/png": "[encoded data removed]",
      "text/plain": [
       "<Figure size 1800x432 with 3 Axes>"
      ]
     },
     "metadata": {},
     "output_type": "display_data"
    }
   ],
   "source": [
    "fig, axes = plt.subplots(1, 3, figsize=(25,6))\n",
    "plt.title('Самые популярные жанры (топ-5)', size = 20 )\n",
    "top_plat_plot2( 'na_sales', 0)\n",
    "top_plat_plot2( 'eu_sales', 1)\n",
    "top_plat_plot2( 'jp_sales', 2)"
   ]
  },
  {
   "cell_type": "markdown",
   "metadata": {},
   "source": [
    "<div class=\"alert alert-block alert-info\"; style=\"border-left: 7px solid blue\">\n",
    "\n",
    "В Северной Америке и Европе самые популярные жанры практически совпадают. Отличаются лишь пятые места. \n",
    "Самый популярный жанр - экшны.\n",
    "    \n",
    "В Японии же вкусы сильно отличаются от NA и EU, на первом месте стоит жанр Role-Playing, далее экшны и аркады. на 4 месте располагается Fighting. Жанр Shooter находится на последнем месте, хотя он занимает аж 2 место в СА и Европе!"
   ]
  },
  {
   "cell_type": "markdown",
   "metadata": {},
   "source": [
    "### Влияет ли рейтинг ESRB на продажи в отдельном регионе?"
   ]
  },
  {
   "cell_type": "code",
   "execution_count": 43,
   "metadata": {},
   "outputs": [],
   "source": [
    "games['rating'] = games['rating'].fillna('Other') #Заменили все NaN на Other"
   ]
  },
  {
   "cell_type": "code",
   "execution_count": 44,
   "metadata": {},
   "outputs": [],
   "source": [
    "def top_plat_plot3(region_sales, ax):\n",
    "    pivot = games.groupby('rating').agg({region_sales: 'sum'}).sort_values(by=region_sales, ascending=False)\n",
    "    color_dict = {'na_sales': 'b', 'eu_sales': 'g', 'jp_sales': 'r'}\n",
    "    plot = pivot.plot(kind='bar', ec='black', ax=axes[ax], \n",
    "                   fontsize=18, color=color_dict[region_sales], rot=20)\n",
    "    plot.legend(prop={'size':17})\n",
    "    plot.set_xlabel('')\n",
    "    plot.set_ylim(0,175)\n",
    "    \n",
    "    plot.title.set_size(20)"
   ]
  },
  {
   "cell_type": "code",
   "execution_count": 45,
   "metadata": {},
   "outputs": [
    {
     "data": {
      "image/png": "[encoded data removed]",
      "text/plain": [
       "<Figure size 1800x432 with 3 Axes>"
      ]
     },
     "metadata": {},
     "output_type": "display_data"
    }
   ],
   "source": [
    "fig, axes = plt.subplots(1, 3, figsize=(25,6))\n",
    "plt.title('Распределение рейтинга ESRB', size = 20 )\n",
    "top_plat_plot3('na_sales', 0)\n",
    "top_plat_plot3('eu_sales', 1)\n",
    "top_plat_plot3('jp_sales', 2)"
   ]
  },
  {
   "cell_type": "markdown",
   "metadata": {},
   "source": [
    "- E: 6+ лет\n",
    "- M: 17+ лет\n",
    "- T: 13+ лет\n",
    "- E10+: 10+ лет\n",
    "- EC-RP: 'Для всех 3+\n",
    "- Без рейтинга"
   ]
  },
  {
   "cell_type": "markdown",
   "metadata": {},
   "source": [
    "<div class=\"alert alert-block alert-info\"; style=\"border-left: 7px solid blue\">\n",
    "\n",
    "Для Северной Америки и Европы на 1 месте по продажам выходят игры 17+.\n",
    "\n",
    "Далее идут либо 6+, либо игры без рейтинга. Таким образом у нас очень много продаж, которые вообще без категории. Предполагаю, что это игры 18+, но, конечно, не факт.\n",
    "    \n",
    "Меньше всего продаются 10+ и 13+. \n",
    "    \n",
    "В Японии ОЧЕНЬ преобладают продажи игр без рейтинга...\n",
    "    \n",
    "Дальше идут 13+,6+, 17+ и 10+.\n",
    "    \n",
    "<div class=\"alert alert-success\"; style=\"border-left: 7px solid green\">\n",
    "    \n",
    "Да, верно. Здесь стоит заинтересоваться аномалией Японии - весьма законопослушные японцы, почему столько игр без рейтинга? А дело в том, что у них просто свой собственный орган, который присваивает рейтинги, называется CERO. Поэтому производители игр, выпускаемых для местного рынка, не стремятся получать классификацию от американо-канадского ESRB. \n",
    "    \n",
    "</div>"
   ]
  },
  {
   "cell_type": "markdown",
   "metadata": {},
   "source": [
    "## Шаг 5. Проверим гипотезы"
   ]
  },
  {
   "cell_type": "markdown",
   "metadata": {},
   "source": [
    "### Гипотеза 1. Средние пользовательские рейтинги платформ Xbox One и PC одинаковые."
   ]
  },
  {
   "cell_type": "markdown",
   "metadata": {},
   "source": [
    "Н0 (нулевая гипотеза) - средние пользовательские рейтинги платформ Xbox One и PC одинаковые.\n",
    "\n",
    "Н1 (альтернативная гипотеза) - средние пользовательские рейтинги платформ Xbox One и PC отличаются между собой."
   ]
  },
  {
   "cell_type": "code",
   "execution_count": 46,
   "metadata": {},
   "outputs": [],
   "source": [
    "from scipy import stats as st\n",
    "\n",
    "XOne_sample1 = games[(games['platform'] == 'XOne') & (games['user_score'] > 0)]['user_score']\n",
    "PC_sample2 = games[(games['platform'] == 'PC') & (games['user_score'] > 0)]['user_score']"
   ]
  },
  {
   "cell_type": "code",
   "execution_count": 47,
   "metadata": {},
   "outputs": [
    {
     "data": {
      "image/png": "[encoded data removed]",
      "text/plain": [
       "<Figure size 864x576 with 1 Axes>"
      ]
     },
     "metadata": {},
     "output_type": "display_data"
    },
    {
     "data": {
      "text/plain": [
       "'Дисперсия Xbox One - 1.91;  Дисперсия PC - 3.04'"
      ]
     },
     "metadata": {},
     "output_type": "display_data"
    }
   ],
   "source": [
    "plt.figure(figsize=(12,8))\n",
    "plt.hist(XOne_sample1, bins=30, color='salmon', edgecolor='black', alpha=0.8, label = 'Xbox One', density = False)\n",
    "plt.hist(PC_sample2, bins=30, color='dodgerblue', edgecolor='black', alpha=0.5,label = 'PC', density = False)\n",
    "\n",
    "plt.axvline(XOne_sample1.mean(), color='blue', linestyle='dashed', linewidth=3\n",
    "                , label='Mean XOne: {:.0f}'.format(XOne_sample1.mean()))\n",
    "plt.axvline(PC_sample2.mean(), color='r', linestyle='dashed', linewidth=3\n",
    "            , label='Mean ultra: {:.0f}'.format(PC_sample2.mean()))\n",
    "\n",
    "\n",
    "plt.legend()\n",
    "plt.title(' histogram')\n",
    "plt.show()\n",
    "display(\"Дисперсия Xbox One - {:.2f};  Дисперсия PC - {:.2f}\"\n",
    "      .format(XOne_sample1.var(),  PC_sample2.var()))"
   ]
  },
  {
   "cell_type": "markdown",
   "metadata": {},
   "source": [
    "#будем считать дисперсии равными."
   ]
  },
  {
   "cell_type": "markdown",
   "metadata": {},
   "source": [
    "<div class=\"alert alert-block alert-info\"; style=\"border-left: 7px solid blue\">\n",
    "\n",
    "Разница почти в 1.5 раза, я бы сказала, что дисперсии отличаются - поэтому equal_var = False\n",
    "</div>"
   ]
  },
  {
   "cell_type": "code",
   "execution_count": 48,
   "metadata": {},
   "outputs": [
    {
     "name": "stdout",
     "output_type": "stream",
     "text": [
      "p-значение: 0.14759594013430463\n",
      "Не получилось отвергнуть нулевую гипотезу\n"
     ]
    }
   ],
   "source": [
    "alpha = .05 # критический уровень статистической значимости\n",
    "            # если p-value окажется меньше него - отвергнем гипотезу\n",
    "\n",
    "results1 = st.ttest_ind(\n",
    "    XOne_sample1, \n",
    "    PC_sample2,\n",
    "    equal_var = False)\n",
    "\n",
    "print('p-значение:', results1.pvalue)\n",
    "\n",
    "if (results1.pvalue < alpha): \n",
    "    print(\"Отвергаем нулевую гипотезу\")\n",
    "else:\n",
    "    print(\"Не получилось отвергнуть нулевую гипотезу\") "
   ]
  },
  {
   "cell_type": "markdown",
   "metadata": {},
   "source": [
    "<div class=\"alert alert-block alert-info\"; style=\"border-left: 7px solid blue\">\n",
    "\n",
    "У нас нет оснований для того, чтобы отвергнуть гипотезу.\n",
    "    \n",
    "Средние пользовательские рейтинги платформ Xbox One и PC и правда одинаковые.\n",
    "\n",
    "</div>"
   ]
  },
  {
   "cell_type": "markdown",
   "metadata": {},
   "source": [
    "### Гипотеза 2. Средние пользовательские рейтинги жанров Action (англ. «действие», экшен-игры) и Sports (англ. «спортивные соревнования») разные."
   ]
  },
  {
   "cell_type": "markdown",
   "metadata": {},
   "source": [
    "Ho (нулевая гипотеза) - средние оценки пользователей жанров Action и Sports равны;\n",
    "\n",
    "H1 (альтернативная гипотеза) - средние оценки отличаются между собой."
   ]
  },
  {
   "cell_type": "code",
   "execution_count": 49,
   "metadata": {},
   "outputs": [],
   "source": [
    "Action_sample1 = games[(games['genre'] == 'Action') & (games['user_score'] > 0)]['user_score']\n",
    "Sports_sample2 = games[(games['genre'] == 'Sports') & (games['user_score'] > 0)]['user_score']"
   ]
  },
  {
   "cell_type": "code",
   "execution_count": 50,
   "metadata": {},
   "outputs": [
    {
     "data": {
      "image/png": "[encoded data removed]",
      "text/plain": [
       "<Figure size 864x576 with 1 Axes>"
      ]
     },
     "metadata": {},
     "output_type": "display_data"
    },
    {
     "data": {
      "text/plain": [
       "'Дисперсия Xbox One - 1.77;  Дисперсия PC - 3.18'"
      ]
     },
     "metadata": {},
     "output_type": "display_data"
    }
   ],
   "source": [
    "plt.figure(figsize=(12,8))\n",
    "plt.hist(Action_sample1, bins=30, color='salmon', edgecolor='black', alpha=0.6, label = 'Action', density = False)\n",
    "plt.hist(Sports_sample2, bins=30, color='dodgerblue', edgecolor='black', alpha=0.5,label = 'Sports', density = False)\n",
    "\n",
    "plt.axvline(Action_sample1.mean(), color='blue', linestyle='dashed', linewidth=3\n",
    "                , label='Mean XOne: {:.0f}'.format(Action_sample1.mean()))\n",
    "plt.axvline(Sports_sample2.mean(), color='r', linestyle='dashed', linewidth=3\n",
    "            , label='Mean ultra: {:.0f}'.format(Sports_sample2.mean()))\n",
    "\n",
    "\n",
    "plt.legend()\n",
    "plt.title('Гистограммы распределения пользовательских рейтингов \\n жанров Action и Sports', size = 20)\n",
    "plt.show()\n",
    "display(\"Дисперсия Xbox One - {:.2f};  Дисперсия PC - {:.2f}\"\n",
    "      .format(Action_sample1.var(),  Sports_sample2.var()))"
   ]
  },
  {
   "cell_type": "markdown",
   "metadata": {},
   "source": [
    "Дисперсии отличаются почти в 2 раза, будет считать их разными. В equal_var поставим False."
   ]
  },
  {
   "cell_type": "code",
   "execution_count": 51,
   "metadata": {},
   "outputs": [
    {
     "name": "stdout",
     "output_type": "stream",
     "text": [
      "p-значение: 1.4460039700704315e-20\n",
      "Отвергаем нулевую гипотезу\n"
     ]
    }
   ],
   "source": [
    "alpha = .05 # критический уровень статистической значимости\n",
    "            # если p-value окажется меньше него - отвергнем гипотезу\n",
    "\n",
    "results2 = st.ttest_ind(\n",
    "    Action_sample1, \n",
    "    Sports_sample2,\n",
    "    equal_var = False)\n",
    "\n",
    "print('p-значение:', results2.pvalue)\n",
    "\n",
    "if (results2.pvalue < alpha): \n",
    "    print(\"Отвергаем нулевую гипотезу\")\n",
    "else:\n",
    "    print(\"Не получилось отвергнуть нулевую гипотезу\") "
   ]
  },
  {
   "cell_type": "markdown",
   "metadata": {},
   "source": [
    "Уровень значимости очень маленький, значит отвергаем нулевую гипотезу.\n",
    "\n",
    "Таким образом, оценки пользователей игр жанров Action и Sports разные. Значит наша исходная гипотеза подтверилась!"
   ]
  },
  {
   "cell_type": "markdown",
   "metadata": {},
   "source": [
    "<div class=\"alert alert-block alert-info\"; style=\"border-left: 7px solid blue\">\n",
    "\n",
    "А здесь нулевая гипотеза отвергнута, и ты прнимаешь альтернативную. Подтвердилось предположение о различии рейтингов. Оценки пользователей игр жанров Action и Sports разные.\n",
    "    \n",
    "</div>"
   ]
  },
  {
   "cell_type": "markdown",
   "metadata": {},
   "source": [
    "## Шаг 6. Общий вывод"
   ]
  },
  {
   "cell_type": "markdown",
   "metadata": {},
   "source": [
    "Вам нужно выявить определяющие успешность игры закономерности. Это позволит сделать ставку на потенциально популярный продукт и спланировать рекламные кампании."
   ]
  },
  {
   "cell_type": "markdown",
   "metadata": {},
   "source": [
    "<b>В ходе проделанной работы было выполнено:</b>\n",
    "\n",
    "- Просмотрена таблица, выявлены аномалии и пропущенные значения.\n",
    "- Проведена предобработка таблицы: изменение названия столбцов, выборка данных, изменение типов данных и т.д.\n",
    "- Проведен анализ по данным и подготовлены актуальные данные.\n",
    "- Составлены портреты пользователей для отдельных регионов продаж.\n",
    "- Выполнены проверки гипотез."
   ]
  },
  {
   "cell_type": "markdown",
   "metadata": {},
   "source": [
    "<b>В результате исследовательского анализа данных:</b>\n",
    "\n",
    "- Было обнаружено, что резкий рост выпуска игр приходится на 1994 и 2000 гг., а пик на 2008-2009 гг.\n",
    "- Характерный срок жизни платформы - 9-10 лет, поэтому оставили данные с 2006 по 2016 гг.\n",
    "- Рынок игр находится в стадии спада.\n",
    "- 3 потенциально прибыльных платформ на данный момент (2016 год) - PS4, XOne, 3DS.\n",
    "- Наибольшие медианные продажи у платформ PS3,DS и X360.\n",
    "- Оценки критиков несильно влияют на общие продажи, оценки пользователей не влияют практически совсем.\n",
    "- Оценки критиков в достаточной мере влияют на оценки пользователей.\n",
    "- Лучше всего покупают игры жанра Action, Sports, Shooter."
   ]
  },
  {
   "cell_type": "markdown",
   "metadata": {},
   "source": [
    "<b>В результате изучения пользователей регионов:</b>\n",
    "\n",
    "Если разрабатывать игры для Северной Америки и Европы нужно ориентироваться на возрастную категорию 6+ и 17+ в жанрах экшен и спорт на платформах Xbox 360, PS3 и Wii.\n",
    "\n",
    "Для Японии нужно ориентироваться на возрастную категорию 6+ и 13+ в жанре Role-Playing на платформах DS или 3DS."
   ]
  },
  {
   "cell_type": "markdown",
   "metadata": {},
   "source": [
    "<b>В результате проверки гипотез</b>\n",
    "\n",
    "Средние пользовательские рейтинги платформ Xbox One и PC одинаковые. Гипотеза не подтвердилась.\n",
    "Средние пользовательские рейтинги жанров Action и Sports разные. Гипотеза подтвердилась."
   ]
  },
  {
   "cell_type": "markdown",
   "metadata": {},
   "source": [
    "<b>ИТОГ:</b>\n",
    "    \n",
    "Для планирования рекламных кампаний необходимо учитывать несколько принципов:\n",
    "- какая платформа создает игру (у платформ-лидеров есть своя устоявшаяся аудитория, также у них есть больше возможности улучшать технические параметры)\n",
    "- какого жанра игра (топ-3: Action, Sports, Shooter)\n",
    "- для какой аудитории она создается (В Северной Америке и Европе вкусы похожие, в то время как Япония абсолютно им не соответствует)\n",
    "- новизна платформ (наиболее технически развиты платформы позволят создать лучший продукт и продержится свой полный срок жизни 9-10 лет)\n",
    "- учет влияния критиков (игры, у которых высокая оценка критиков как правило лучше продаются, а также оценка пользователей прямо зависит от оценки критиков)"
   ]
  },
  {
   "cell_type": "markdown",
   "metadata": {},
   "source": [
    "<div class=\"alert alert-block alert-info\"; style=\"border-left: 7px solid blue\">\n",
    "\n",
    "Итак, напишу новый итог на основе обновленных данных.\n",
    "    \n",
    "- За период с 2013 по 2016 год по суммарному количеству проданных игр лидирует платформа PS4 с продажами более 300 млн копий. Следом идет топовая четверка - PS3, XOne, 3DS, X360, продавшая от 140 до 180 млн копий.\n",
    "\n",
    "- По медианным значениям: Наибольшие значения продаж у платформ X360, XOne, PS4, WiiU и Wii. Они варьируются от 0,18 до 0,27 млн проданных копий. У остальных платформ <= 0.15 млн.\n",
    "\n",
    "- Максимальные значения продаж определенных игр у платформ доходят до 10-20 млн, таких как PS3, X360, PS4, 3DS.\n",
    "\n",
    "- Корреляция между critic_score и user_score равна 0.63, что говорит о влиянии мнения критиков на простых пользователей.\n",
    "\n",
    "- Топ-3 жанров по более высоким значениям продаж, попавших в межквартильный размах - Shooter, Sports и Platform с медианными значениями от 0.2 до 0.45 млн.\n",
    "\n",
    "- В Северной Америке на платформу PS4 приходтся около 110 млн продаж, в Европе 140 млн, а в Японии большинство продаж досталось платорме 3DS(70 млн).\n",
    "\n",
    "- В Северной Америке и Европе преобладают жанры Action, Shooter и Sports. В Японии - Role-playing.\n",
    "\n",
    "- В СА и Европе большинство игр 17+, а в Японии и вовсе без рейтинга.\n",
    "\n",
    "- Проверка 1 гипотезы показала, что средние пользовательские рейтинги платформ Xbox One и PC одинаковые.\n",
    "\n",
    "- Проверка 2 гипотезы показала, что оценки пользователей игр жанров Action и Sports разные.\n",
    "\n",
    "</div>"
   ]
  },
  {
   "cell_type": "code",
   "execution_count": null,
   "metadata": {},
   "outputs": [],
   "source": []
  }
 ],
 "metadata": {
  "ExecuteTimeLog": [
   {
    "duration": 81,
    "start_time": "2022-05-18T20:22:12.722Z"
   },
   {
    "duration": 1758,
    "start_time": "2022-05-18T20:26:33.680Z"
   },
   {
    "duration": 18,
    "start_time": "2022-05-18T20:27:16.768Z"
   },
   {
    "duration": 246,
    "start_time": "2022-05-18T20:27:22.975Z"
   },
   {
    "duration": 29,
    "start_time": "2022-05-18T20:27:38.185Z"
   },
   {
    "duration": 14,
    "start_time": "2022-05-18T20:32:42.313Z"
   },
   {
    "duration": 142,
    "start_time": "2022-05-18T20:33:43.068Z"
   },
   {
    "duration": 12,
    "start_time": "2022-05-18T20:33:50.677Z"
   },
   {
    "duration": 4,
    "start_time": "2022-05-18T20:35:41.488Z"
   },
   {
    "duration": 4,
    "start_time": "2022-05-18T20:36:09.080Z"
   },
   {
    "duration": 4,
    "start_time": "2022-05-18T20:36:15.170Z"
   },
   {
    "duration": 3,
    "start_time": "2022-05-18T20:36:37.912Z"
   },
   {
    "duration": 71,
    "start_time": "2022-05-18T20:36:37.916Z"
   },
   {
    "duration": 15,
    "start_time": "2022-05-18T20:36:37.989Z"
   },
   {
    "duration": 15,
    "start_time": "2022-05-18T20:36:38.006Z"
   },
   {
    "duration": 3,
    "start_time": "2022-05-18T20:36:38.023Z"
   },
   {
    "duration": 47,
    "start_time": "2022-05-18T20:36:38.027Z"
   },
   {
    "duration": 3,
    "start_time": "2022-05-18T20:37:04.226Z"
   },
   {
    "duration": 13,
    "start_time": "2022-05-18T20:37:48.002Z"
   },
   {
    "duration": 726,
    "start_time": "2022-05-18T20:39:00.507Z"
   },
   {
    "duration": 9,
    "start_time": "2022-05-18T20:39:18.266Z"
   },
   {
    "duration": 14,
    "start_time": "2022-05-18T20:39:36.967Z"
   },
   {
    "duration": 5,
    "start_time": "2022-05-18T20:41:14.494Z"
   },
   {
    "duration": 31,
    "start_time": "2022-05-18T20:44:29.831Z"
   },
   {
    "duration": 11,
    "start_time": "2022-05-18T20:51:24.783Z"
   },
   {
    "duration": 17,
    "start_time": "2022-05-18T20:54:03.767Z"
   },
   {
    "duration": 21,
    "start_time": "2022-05-18T20:54:15.506Z"
   },
   {
    "duration": 6,
    "start_time": "2022-05-18T20:54:56.568Z"
   },
   {
    "duration": 19,
    "start_time": "2022-05-18T20:55:10.172Z"
   },
   {
    "duration": 4,
    "start_time": "2022-05-18T20:56:00.601Z"
   },
   {
    "duration": 50,
    "start_time": "2022-05-19T09:25:59.494Z"
   },
   {
    "duration": 1366,
    "start_time": "2022-05-19T09:26:02.648Z"
   },
   {
    "duration": 203,
    "start_time": "2022-05-19T09:26:04.015Z"
   },
   {
    "duration": 18,
    "start_time": "2022-05-19T09:26:04.220Z"
   },
   {
    "duration": 54,
    "start_time": "2022-05-19T09:26:43.394Z"
   },
   {
    "duration": 4,
    "start_time": "2022-05-19T09:26:50.364Z"
   },
   {
    "duration": 8,
    "start_time": "2022-05-19T09:27:55.964Z"
   },
   {
    "duration": 2,
    "start_time": "2022-05-19T09:30:09.860Z"
   },
   {
    "duration": 4,
    "start_time": "2022-05-19T09:41:25.354Z"
   },
   {
    "duration": 68,
    "start_time": "2022-05-19T09:41:25.361Z"
   },
   {
    "duration": 21,
    "start_time": "2022-05-19T09:41:25.431Z"
   },
   {
    "duration": 6,
    "start_time": "2022-05-19T09:41:25.454Z"
   },
   {
    "duration": 24,
    "start_time": "2022-05-19T09:41:25.462Z"
   },
   {
    "duration": 10,
    "start_time": "2022-05-19T09:41:25.487Z"
   },
   {
    "duration": 25,
    "start_time": "2022-05-19T09:41:25.499Z"
   },
   {
    "duration": 20,
    "start_time": "2022-05-19T09:41:25.527Z"
   },
   {
    "duration": 8,
    "start_time": "2022-05-19T09:41:25.549Z"
   },
   {
    "duration": 22,
    "start_time": "2022-05-19T09:41:25.559Z"
   },
   {
    "duration": 401,
    "start_time": "2022-05-19T09:41:25.583Z"
   },
   {
    "duration": 26,
    "start_time": "2022-05-19T09:41:52.314Z"
   },
   {
    "duration": 10,
    "start_time": "2022-05-19T09:43:49.319Z"
   },
   {
    "duration": 6,
    "start_time": "2022-05-19T09:45:44.641Z"
   },
   {
    "duration": 22,
    "start_time": "2022-05-19T10:15:04.132Z"
   },
   {
    "duration": 32,
    "start_time": "2022-05-19T10:18:57.601Z"
   },
   {
    "duration": 26,
    "start_time": "2022-05-19T10:19:01.306Z"
   },
   {
    "duration": 55,
    "start_time": "2022-05-19T10:20:44.292Z"
   },
   {
    "duration": 21,
    "start_time": "2022-05-19T10:20:50.717Z"
   },
   {
    "duration": 20,
    "start_time": "2022-05-19T10:21:16.624Z"
   },
   {
    "duration": 20,
    "start_time": "2022-05-19T10:21:35.475Z"
   },
   {
    "duration": 19,
    "start_time": "2022-05-19T10:21:51.064Z"
   },
   {
    "duration": 37,
    "start_time": "2022-05-19T10:21:54.452Z"
   },
   {
    "duration": 35,
    "start_time": "2022-05-19T10:22:29.356Z"
   },
   {
    "duration": 9,
    "start_time": "2022-05-19T10:31:06.105Z"
   },
   {
    "duration": 4,
    "start_time": "2022-05-19T10:56:22.001Z"
   },
   {
    "duration": 11,
    "start_time": "2022-05-19T10:58:48.607Z"
   },
   {
    "duration": 5,
    "start_time": "2022-05-19T10:59:43.951Z"
   },
   {
    "duration": 9,
    "start_time": "2022-05-19T10:59:44.392Z"
   },
   {
    "duration": 509,
    "start_time": "2022-05-19T11:01:46.994Z"
   },
   {
    "duration": 506,
    "start_time": "2022-05-19T11:02:02.396Z"
   },
   {
    "duration": 367,
    "start_time": "2022-05-19T11:04:26.016Z"
   },
   {
    "duration": 402,
    "start_time": "2022-05-19T11:04:37.414Z"
   },
   {
    "duration": 399,
    "start_time": "2022-05-19T11:05:49.622Z"
   },
   {
    "duration": 427,
    "start_time": "2022-05-19T11:07:01.103Z"
   },
   {
    "duration": 13,
    "start_time": "2022-05-19T11:14:04.285Z"
   },
   {
    "duration": 8,
    "start_time": "2022-05-19T11:20:05.425Z"
   },
   {
    "duration": 13,
    "start_time": "2022-05-19T11:20:11.197Z"
   },
   {
    "duration": 304,
    "start_time": "2022-05-19T11:21:03.981Z"
   },
   {
    "duration": 15,
    "start_time": "2022-05-19T11:22:04.204Z"
   },
   {
    "duration": 14,
    "start_time": "2022-05-19T11:22:25.100Z"
   },
   {
    "duration": 7,
    "start_time": "2022-05-19T11:22:38.579Z"
   },
   {
    "duration": 10,
    "start_time": "2022-05-19T11:22:43.184Z"
   },
   {
    "duration": 9,
    "start_time": "2022-05-19T11:23:05.087Z"
   },
   {
    "duration": 9,
    "start_time": "2022-05-19T11:23:16.414Z"
   },
   {
    "duration": 378,
    "start_time": "2022-05-19T11:23:27.312Z"
   },
   {
    "duration": 7,
    "start_time": "2022-05-19T11:27:46.348Z"
   },
   {
    "duration": 160,
    "start_time": "2022-05-19T11:27:46.885Z"
   },
   {
    "duration": 7,
    "start_time": "2022-05-19T11:27:55.130Z"
   },
   {
    "duration": 195,
    "start_time": "2022-05-19T11:27:57.002Z"
   },
   {
    "duration": 9,
    "start_time": "2022-05-19T11:32:54.309Z"
   },
   {
    "duration": 8,
    "start_time": "2022-05-19T11:40:48.116Z"
   },
   {
    "duration": 61,
    "start_time": "2022-05-19T11:46:15.823Z"
   },
   {
    "duration": 41,
    "start_time": "2022-05-19T11:46:32.484Z"
   },
   {
    "duration": 19,
    "start_time": "2022-05-19T11:47:46.192Z"
   },
   {
    "duration": 13,
    "start_time": "2022-05-19T11:48:32.520Z"
   },
   {
    "duration": 22,
    "start_time": "2022-05-19T11:48:52.248Z"
   },
   {
    "duration": 54,
    "start_time": "2022-05-19T11:49:00.229Z"
   },
   {
    "duration": 10,
    "start_time": "2022-05-19T11:50:00.625Z"
   },
   {
    "duration": 11,
    "start_time": "2022-05-19T11:50:02.300Z"
   },
   {
    "duration": 648,
    "start_time": "2022-05-19T11:51:27.729Z"
   },
   {
    "duration": 771,
    "start_time": "2022-05-19T11:52:08.987Z"
   },
   {
    "duration": 7,
    "start_time": "2022-05-19T11:52:16.298Z"
   },
   {
    "duration": 688,
    "start_time": "2022-05-19T11:52:29.124Z"
   },
   {
    "duration": 7,
    "start_time": "2022-05-19T11:52:49.997Z"
   },
   {
    "duration": 9,
    "start_time": "2022-05-19T11:53:52.784Z"
   },
   {
    "duration": 904,
    "start_time": "2022-05-19T11:54:00.132Z"
   },
   {
    "duration": 13,
    "start_time": "2022-05-19T11:54:11.987Z"
   },
   {
    "duration": 6,
    "start_time": "2022-05-19T11:55:49.533Z"
   },
   {
    "duration": 6,
    "start_time": "2022-05-19T11:55:56.575Z"
   },
   {
    "duration": 610,
    "start_time": "2022-05-19T11:56:31.079Z"
   },
   {
    "duration": 6,
    "start_time": "2022-05-19T11:56:40.878Z"
   },
   {
    "duration": 4,
    "start_time": "2022-05-19T11:57:30.839Z"
   },
   {
    "duration": 4,
    "start_time": "2022-05-19T11:57:41.495Z"
   },
   {
    "duration": 12,
    "start_time": "2022-05-19T12:53:11.170Z"
   },
   {
    "duration": 4,
    "start_time": "2022-05-19T12:53:22.474Z"
   },
   {
    "duration": 4,
    "start_time": "2022-05-19T12:53:46.697Z"
   },
   {
    "duration": 6,
    "start_time": "2022-05-19T13:02:35.493Z"
   },
   {
    "duration": 5,
    "start_time": "2022-05-19T13:05:12.783Z"
   },
   {
    "duration": 13,
    "start_time": "2022-05-19T13:05:23.740Z"
   },
   {
    "duration": 41,
    "start_time": "2022-05-19T13:09:56.708Z"
   },
   {
    "duration": 3,
    "start_time": "2022-05-19T13:12:58.913Z"
   },
   {
    "duration": 5,
    "start_time": "2022-05-19T13:13:05.616Z"
   },
   {
    "duration": 1461,
    "start_time": "2022-05-20T11:05:31.081Z"
   },
   {
    "duration": 206,
    "start_time": "2022-05-20T11:05:32.547Z"
   },
   {
    "duration": 22,
    "start_time": "2022-05-20T11:05:32.755Z"
   },
   {
    "duration": 8,
    "start_time": "2022-05-20T11:05:32.778Z"
   },
   {
    "duration": 15,
    "start_time": "2022-05-20T11:05:32.789Z"
   },
   {
    "duration": 5,
    "start_time": "2022-05-20T11:05:32.805Z"
   },
   {
    "duration": 7,
    "start_time": "2022-05-20T11:05:32.811Z"
   },
   {
    "duration": 30,
    "start_time": "2022-05-20T11:05:32.819Z"
   },
   {
    "duration": 8,
    "start_time": "2022-05-20T11:05:32.850Z"
   },
   {
    "duration": 11,
    "start_time": "2022-05-20T11:05:32.859Z"
   },
   {
    "duration": 30,
    "start_time": "2022-05-20T11:05:32.872Z"
   },
   {
    "duration": 6,
    "start_time": "2022-05-20T11:05:32.904Z"
   },
   {
    "duration": 41,
    "start_time": "2022-05-20T11:05:32.912Z"
   },
   {
    "duration": 22,
    "start_time": "2022-05-20T11:05:32.956Z"
   },
   {
    "duration": 21,
    "start_time": "2022-05-20T11:05:32.979Z"
   },
   {
    "duration": 9,
    "start_time": "2022-05-20T11:05:33.001Z"
   },
   {
    "duration": 7,
    "start_time": "2022-05-20T11:05:33.011Z"
   },
   {
    "duration": 24,
    "start_time": "2022-05-20T11:05:33.019Z"
   },
   {
    "duration": 489,
    "start_time": "2022-05-20T11:05:33.044Z"
   },
   {
    "duration": 14,
    "start_time": "2022-05-20T11:05:33.535Z"
   },
   {
    "duration": 13,
    "start_time": "2022-05-20T11:05:33.552Z"
   },
   {
    "duration": 186,
    "start_time": "2022-05-20T11:05:33.567Z"
   },
   {
    "duration": 18,
    "start_time": "2022-05-20T11:05:40.655Z"
   },
   {
    "duration": 12,
    "start_time": "2022-05-20T11:05:54.697Z"
   },
   {
    "duration": 134,
    "start_time": "2022-05-20T11:10:33.676Z"
   },
   {
    "duration": 45,
    "start_time": "2022-05-20T11:10:58.656Z"
   },
   {
    "duration": 19,
    "start_time": "2022-05-20T11:11:12.608Z"
   },
   {
    "duration": 8,
    "start_time": "2022-05-20T11:28:05.699Z"
   },
   {
    "duration": 1112,
    "start_time": "2022-05-20T11:30:49.127Z"
   },
   {
    "duration": 127,
    "start_time": "2022-05-20T11:42:15.765Z"
   },
   {
    "duration": 123,
    "start_time": "2022-05-20T11:42:48.791Z"
   },
   {
    "duration": 214,
    "start_time": "2022-05-20T11:43:13.568Z"
   },
   {
    "duration": 167,
    "start_time": "2022-05-20T11:43:53.666Z"
   },
   {
    "duration": 243,
    "start_time": "2022-05-20T11:51:28.840Z"
   },
   {
    "duration": 247,
    "start_time": "2022-05-20T12:08:42.784Z"
   },
   {
    "duration": 195,
    "start_time": "2022-05-20T12:10:54.662Z"
   },
   {
    "duration": 203,
    "start_time": "2022-05-20T12:10:59.986Z"
   },
   {
    "duration": 209,
    "start_time": "2022-05-20T12:11:07.381Z"
   },
   {
    "duration": 509,
    "start_time": "2022-05-20T12:24:29.428Z"
   },
   {
    "duration": 296,
    "start_time": "2022-05-20T12:25:47.531Z"
   },
   {
    "duration": 401,
    "start_time": "2022-05-20T12:26:06.684Z"
   },
   {
    "duration": 59,
    "start_time": "2022-05-20T12:26:42.543Z"
   },
   {
    "duration": 445,
    "start_time": "2022-05-20T12:26:48.552Z"
   },
   {
    "duration": 334,
    "start_time": "2022-05-20T12:27:00.806Z"
   },
   {
    "duration": 29,
    "start_time": "2022-05-20T12:28:27.834Z"
   },
   {
    "duration": 21,
    "start_time": "2022-05-20T12:28:43.079Z"
   },
   {
    "duration": 290,
    "start_time": "2022-05-20T12:28:48.476Z"
   },
   {
    "duration": 318,
    "start_time": "2022-05-20T12:28:56.671Z"
   },
   {
    "duration": 199,
    "start_time": "2022-05-20T12:29:48.806Z"
   },
   {
    "duration": 326,
    "start_time": "2022-05-20T12:30:32.143Z"
   },
   {
    "duration": 376,
    "start_time": "2022-05-20T12:30:48.424Z"
   },
   {
    "duration": 504,
    "start_time": "2022-05-20T12:31:24.680Z"
   },
   {
    "duration": 473,
    "start_time": "2022-05-20T12:31:47.309Z"
   },
   {
    "duration": 380,
    "start_time": "2022-05-20T12:31:54.182Z"
   },
   {
    "duration": 350,
    "start_time": "2022-05-20T12:32:03.776Z"
   },
   {
    "duration": 352,
    "start_time": "2022-05-20T12:32:59.385Z"
   },
   {
    "duration": 373,
    "start_time": "2022-05-20T12:33:23.313Z"
   },
   {
    "duration": 1237,
    "start_time": "2022-05-20T12:38:17.999Z"
   },
   {
    "duration": 899,
    "start_time": "2022-05-20T12:41:48.817Z"
   },
   {
    "duration": 1139,
    "start_time": "2022-05-20T12:42:00.801Z"
   },
   {
    "duration": 1152,
    "start_time": "2022-05-20T12:42:56.263Z"
   },
   {
    "duration": 1314,
    "start_time": "2022-05-20T12:43:32.275Z"
   },
   {
    "duration": 1018,
    "start_time": "2022-05-20T12:44:00.303Z"
   },
   {
    "duration": 1060,
    "start_time": "2022-05-20T12:44:24.163Z"
   },
   {
    "duration": 155,
    "start_time": "2022-05-20T12:45:06.351Z"
   },
   {
    "duration": 1184,
    "start_time": "2022-05-20T12:45:10.208Z"
   },
   {
    "duration": 32,
    "start_time": "2022-05-20T12:46:00.349Z"
   },
   {
    "duration": 10,
    "start_time": "2022-05-20T12:46:18.230Z"
   },
   {
    "duration": 12,
    "start_time": "2022-05-20T12:46:57.015Z"
   },
   {
    "duration": 8,
    "start_time": "2022-05-20T12:47:23.427Z"
   },
   {
    "duration": 6,
    "start_time": "2022-05-20T12:47:32.395Z"
   },
   {
    "duration": 10,
    "start_time": "2022-05-20T12:47:50.206Z"
   },
   {
    "duration": 11,
    "start_time": "2022-05-20T12:48:38.157Z"
   },
   {
    "duration": 7,
    "start_time": "2022-05-20T12:48:57.856Z"
   },
   {
    "duration": 704,
    "start_time": "2022-05-20T12:49:14.590Z"
   },
   {
    "duration": 10,
    "start_time": "2022-05-20T12:51:12.506Z"
   },
   {
    "duration": 1142,
    "start_time": "2022-05-20T12:58:54.926Z"
   },
   {
    "duration": 1300,
    "start_time": "2022-05-20T12:59:20.961Z"
   },
   {
    "duration": 11,
    "start_time": "2022-05-20T13:03:10.663Z"
   },
   {
    "duration": 21,
    "start_time": "2022-05-20T13:03:18.586Z"
   },
   {
    "duration": 16,
    "start_time": "2022-05-20T13:03:50.623Z"
   },
   {
    "duration": 5274,
    "start_time": "2022-05-20T13:04:23.397Z"
   },
   {
    "duration": 938,
    "start_time": "2022-05-20T13:07:49.148Z"
   },
   {
    "duration": 902,
    "start_time": "2022-05-20T13:08:20.401Z"
   },
   {
    "duration": 1097,
    "start_time": "2022-05-20T13:09:04.761Z"
   },
   {
    "duration": 839,
    "start_time": "2022-05-20T13:11:41.432Z"
   },
   {
    "duration": 837,
    "start_time": "2022-05-20T13:14:20.536Z"
   },
   {
    "duration": 2069,
    "start_time": "2022-05-20T13:14:36.200Z"
   },
   {
    "duration": 1489,
    "start_time": "2022-05-20T13:15:20.952Z"
   },
   {
    "duration": 1030,
    "start_time": "2022-05-20T13:15:41.856Z"
   },
   {
    "duration": 1072,
    "start_time": "2022-05-20T13:16:42.178Z"
   },
   {
    "duration": 789,
    "start_time": "2022-05-20T13:18:04.953Z"
   },
   {
    "duration": 1127,
    "start_time": "2022-05-20T13:21:18.603Z"
   },
   {
    "duration": 969,
    "start_time": "2022-05-20T13:25:14.602Z"
   },
   {
    "duration": 861,
    "start_time": "2022-05-20T13:25:21.412Z"
   },
   {
    "duration": 954,
    "start_time": "2022-05-20T13:25:29.092Z"
   },
   {
    "duration": 1113,
    "start_time": "2022-05-20T13:25:41.850Z"
   },
   {
    "duration": 1115,
    "start_time": "2022-05-20T13:26:26.402Z"
   },
   {
    "duration": 1029,
    "start_time": "2022-05-20T13:27:01.148Z"
   },
   {
    "duration": 16,
    "start_time": "2022-05-20T13:27:23.354Z"
   },
   {
    "duration": 1305,
    "start_time": "2022-05-20T13:27:35.093Z"
   },
   {
    "duration": 17,
    "start_time": "2022-05-20T13:28:15.797Z"
   },
   {
    "duration": 1030,
    "start_time": "2022-05-20T13:28:33.036Z"
   },
   {
    "duration": 1017,
    "start_time": "2022-05-20T13:30:06.396Z"
   },
   {
    "duration": 46,
    "start_time": "2022-05-20T13:37:22.164Z"
   },
   {
    "duration": 7,
    "start_time": "2022-05-20T13:38:14.320Z"
   },
   {
    "duration": 11,
    "start_time": "2022-05-20T13:38:24.973Z"
   },
   {
    "duration": 6,
    "start_time": "2022-05-20T13:38:33.612Z"
   },
   {
    "duration": 7,
    "start_time": "2022-05-20T13:39:28.428Z"
   },
   {
    "duration": 6,
    "start_time": "2022-05-20T13:40:51.027Z"
   },
   {
    "duration": 7,
    "start_time": "2022-05-20T13:41:27.477Z"
   },
   {
    "duration": 8,
    "start_time": "2022-05-20T13:42:59.711Z"
   },
   {
    "duration": 234,
    "start_time": "2022-05-20T13:43:26.223Z"
   },
   {
    "duration": 256,
    "start_time": "2022-05-20T13:45:29.841Z"
   },
   {
    "duration": 1064,
    "start_time": "2022-05-20T14:08:40.090Z"
   },
   {
    "duration": 10,
    "start_time": "2022-05-20T14:10:03.813Z"
   },
   {
    "duration": 176,
    "start_time": "2022-05-20T14:11:03.854Z"
   },
   {
    "duration": 125,
    "start_time": "2022-05-20T14:11:37.749Z"
   },
   {
    "duration": 206,
    "start_time": "2022-05-20T14:14:16.159Z"
   },
   {
    "duration": 164,
    "start_time": "2022-05-20T14:14:25.834Z"
   },
   {
    "duration": 205,
    "start_time": "2022-05-20T14:16:55.367Z"
   },
   {
    "duration": 256,
    "start_time": "2022-05-20T14:18:16.226Z"
   },
   {
    "duration": 893,
    "start_time": "2022-05-20T14:18:46.985Z"
   },
   {
    "duration": 234,
    "start_time": "2022-05-20T14:18:55.387Z"
   },
   {
    "duration": 247,
    "start_time": "2022-05-20T14:19:03.586Z"
   },
   {
    "duration": 167,
    "start_time": "2022-05-20T14:19:59.314Z"
   },
   {
    "duration": 140,
    "start_time": "2022-05-20T14:20:14.059Z"
   },
   {
    "duration": 138,
    "start_time": "2022-05-20T14:20:46.395Z"
   },
   {
    "duration": 219,
    "start_time": "2022-05-20T14:20:58.516Z"
   },
   {
    "duration": 10,
    "start_time": "2022-05-20T14:21:32.844Z"
   },
   {
    "duration": 180,
    "start_time": "2022-05-20T14:22:18.173Z"
   },
   {
    "duration": 254,
    "start_time": "2022-05-20T14:22:59.582Z"
   },
   {
    "duration": 11,
    "start_time": "2022-05-20T14:23:04.233Z"
   },
   {
    "duration": 5,
    "start_time": "2022-05-20T14:23:16.211Z"
   },
   {
    "duration": 7,
    "start_time": "2022-05-20T14:24:06.430Z"
   },
   {
    "duration": 14,
    "start_time": "2022-05-20T14:26:09.231Z"
   },
   {
    "duration": 34,
    "start_time": "2022-05-20T14:26:32.432Z"
   },
   {
    "duration": 17,
    "start_time": "2022-05-20T14:29:15.011Z"
   },
   {
    "duration": 17,
    "start_time": "2022-05-20T14:29:58.196Z"
   },
   {
    "duration": 819,
    "start_time": "2022-05-20T14:30:11.444Z"
   },
   {
    "duration": 18,
    "start_time": "2022-05-20T14:30:23.598Z"
   },
   {
    "duration": 435,
    "start_time": "2022-05-20T14:30:25.883Z"
   },
   {
    "duration": 177,
    "start_time": "2022-05-20T14:32:08.882Z"
   },
   {
    "duration": 472,
    "start_time": "2022-05-20T14:33:03.881Z"
   },
   {
    "duration": 493,
    "start_time": "2022-05-20T14:33:10.287Z"
   },
   {
    "duration": 464,
    "start_time": "2022-05-20T14:34:59.025Z"
   },
   {
    "duration": 543,
    "start_time": "2022-05-20T14:35:13.920Z"
   },
   {
    "duration": 477,
    "start_time": "2022-05-20T14:35:28.408Z"
   },
   {
    "duration": 475,
    "start_time": "2022-05-20T14:35:38.602Z"
   },
   {
    "duration": 571,
    "start_time": "2022-05-20T14:38:44.830Z"
   },
   {
    "duration": 795,
    "start_time": "2022-05-20T14:39:09.859Z"
   },
   {
    "duration": 472,
    "start_time": "2022-05-20T14:39:17.503Z"
   },
   {
    "duration": 142,
    "start_time": "2022-05-20T16:02:48.946Z"
   },
   {
    "duration": 139,
    "start_time": "2022-05-20T16:03:06.315Z"
   },
   {
    "duration": 150,
    "start_time": "2022-05-20T16:03:20.044Z"
   },
   {
    "duration": 137,
    "start_time": "2022-05-20T16:03:53.616Z"
   },
   {
    "duration": 131,
    "start_time": "2022-05-20T16:04:25.418Z"
   },
   {
    "duration": 137,
    "start_time": "2022-05-20T16:05:28.418Z"
   },
   {
    "duration": 82,
    "start_time": "2022-05-20T16:12:16.001Z"
   },
   {
    "duration": 152,
    "start_time": "2022-05-20T16:12:21.784Z"
   },
   {
    "duration": 168,
    "start_time": "2022-05-20T16:12:55.917Z"
   },
   {
    "duration": 223,
    "start_time": "2022-05-20T16:13:06.106Z"
   },
   {
    "duration": 528,
    "start_time": "2022-05-20T16:13:11.868Z"
   },
   {
    "duration": 1276,
    "start_time": "2022-05-20T16:19:25.722Z"
   },
   {
    "duration": 12,
    "start_time": "2022-05-20T16:21:12.870Z"
   },
   {
    "duration": 3523,
    "start_time": "2022-05-20T16:21:40.706Z"
   },
   {
    "duration": 404,
    "start_time": "2022-05-20T16:25:48.019Z"
   },
   {
    "duration": 1578,
    "start_time": "2022-05-20T21:44:44.472Z"
   },
   {
    "duration": 3,
    "start_time": "2022-05-20T21:44:51.736Z"
   },
   {
    "duration": 82,
    "start_time": "2022-05-20T21:44:51.741Z"
   },
   {
    "duration": 19,
    "start_time": "2022-05-20T21:44:51.824Z"
   },
   {
    "duration": 13,
    "start_time": "2022-05-20T21:44:51.845Z"
   },
   {
    "duration": 16,
    "start_time": "2022-05-20T21:44:51.860Z"
   },
   {
    "duration": 3,
    "start_time": "2022-05-20T21:44:51.878Z"
   },
   {
    "duration": 8,
    "start_time": "2022-05-20T21:44:51.882Z"
   },
   {
    "duration": 14,
    "start_time": "2022-05-20T21:44:51.892Z"
   },
   {
    "duration": 6,
    "start_time": "2022-05-20T21:44:51.907Z"
   },
   {
    "duration": 11,
    "start_time": "2022-05-20T21:44:51.915Z"
   },
   {
    "duration": 33,
    "start_time": "2022-05-20T21:44:51.951Z"
   },
   {
    "duration": 6,
    "start_time": "2022-05-20T21:44:51.985Z"
   },
   {
    "duration": 8,
    "start_time": "2022-05-20T21:44:51.992Z"
   },
   {
    "duration": 26,
    "start_time": "2022-05-20T21:44:52.001Z"
   },
   {
    "duration": 35,
    "start_time": "2022-05-20T21:44:52.029Z"
   },
   {
    "duration": 10,
    "start_time": "2022-05-20T21:44:52.066Z"
   },
   {
    "duration": 7,
    "start_time": "2022-05-20T21:44:52.077Z"
   },
   {
    "duration": 13,
    "start_time": "2022-05-20T21:44:52.086Z"
   },
   {
    "duration": 581,
    "start_time": "2022-05-20T21:44:52.101Z"
   },
   {
    "duration": 6,
    "start_time": "2022-05-20T21:44:52.684Z"
   },
   {
    "duration": 22,
    "start_time": "2022-05-20T21:44:52.692Z"
   },
   {
    "duration": 162,
    "start_time": "2022-05-20T21:44:52.716Z"
   },
   {
    "duration": 7,
    "start_time": "2022-05-20T21:44:52.879Z"
   },
   {
    "duration": 38,
    "start_time": "2022-05-20T21:44:52.887Z"
   },
   {
    "duration": 332,
    "start_time": "2022-05-20T21:44:52.927Z"
   },
   {
    "duration": 1112,
    "start_time": "2022-05-20T21:44:53.260Z"
   },
   {
    "duration": 1106,
    "start_time": "2022-05-20T21:44:54.374Z"
   },
   {
    "duration": 146,
    "start_time": "2022-05-20T21:44:55.481Z"
   },
   {
    "duration": 4,
    "start_time": "2022-05-20T21:44:55.630Z"
   },
   {
    "duration": 235,
    "start_time": "2022-05-20T21:44:55.635Z"
   },
   {
    "duration": 164,
    "start_time": "2022-05-20T21:44:55.872Z"
   },
   {
    "duration": 1,
    "start_time": "2022-05-20T21:44:56.037Z"
   },
   {
    "duration": 0,
    "start_time": "2022-05-20T21:44:56.039Z"
   },
   {
    "duration": 192,
    "start_time": "2022-05-20T21:45:34.113Z"
   },
   {
    "duration": 643,
    "start_time": "2022-05-20T21:47:18.538Z"
   },
   {
    "duration": 656,
    "start_time": "2022-05-20T21:48:19.589Z"
   },
   {
    "duration": 12,
    "start_time": "2022-05-20T21:49:08.356Z"
   },
   {
    "duration": 777,
    "start_time": "2022-05-20T21:53:03.894Z"
   },
   {
    "duration": 473,
    "start_time": "2022-05-20T21:53:16.395Z"
   },
   {
    "duration": 506,
    "start_time": "2022-05-20T21:53:26.818Z"
   },
   {
    "duration": 165,
    "start_time": "2022-05-20T21:53:39.282Z"
   },
   {
    "duration": 2697,
    "start_time": "2022-05-20T21:53:56.781Z"
   },
   {
    "duration": 37,
    "start_time": "2022-05-20T22:01:16.809Z"
   },
   {
    "duration": 176,
    "start_time": "2022-05-20T22:01:23.230Z"
   },
   {
    "duration": 2833,
    "start_time": "2022-05-20T22:01:33.523Z"
   },
   {
    "duration": 1273,
    "start_time": "2022-05-22T16:47:57.645Z"
   },
   {
    "duration": 188,
    "start_time": "2022-05-22T16:47:58.920Z"
   },
   {
    "duration": 21,
    "start_time": "2022-05-22T16:47:59.110Z"
   },
   {
    "duration": 4,
    "start_time": "2022-05-22T16:47:59.133Z"
   },
   {
    "duration": 23,
    "start_time": "2022-05-22T16:47:59.139Z"
   },
   {
    "duration": 3,
    "start_time": "2022-05-22T16:47:59.164Z"
   },
   {
    "duration": 10,
    "start_time": "2022-05-22T16:47:59.169Z"
   },
   {
    "duration": 23,
    "start_time": "2022-05-22T16:47:59.180Z"
   },
   {
    "duration": 8,
    "start_time": "2022-05-22T16:47:59.205Z"
   },
   {
    "duration": 12,
    "start_time": "2022-05-22T16:47:59.216Z"
   },
   {
    "duration": 57,
    "start_time": "2022-05-22T16:47:59.230Z"
   },
   {
    "duration": 7,
    "start_time": "2022-05-22T16:47:59.289Z"
   },
   {
    "duration": 7,
    "start_time": "2022-05-22T16:47:59.297Z"
   },
   {
    "duration": 26,
    "start_time": "2022-05-22T16:47:59.305Z"
   },
   {
    "duration": 43,
    "start_time": "2022-05-22T16:47:59.333Z"
   },
   {
    "duration": 11,
    "start_time": "2022-05-22T16:47:59.378Z"
   },
   {
    "duration": 6,
    "start_time": "2022-05-22T16:47:59.391Z"
   },
   {
    "duration": 16,
    "start_time": "2022-05-22T16:47:59.399Z"
   },
   {
    "duration": 429,
    "start_time": "2022-05-22T16:47:59.417Z"
   },
   {
    "duration": 16,
    "start_time": "2022-05-22T16:47:59.848Z"
   },
   {
    "duration": 12,
    "start_time": "2022-05-22T16:47:59.865Z"
   },
   {
    "duration": 217,
    "start_time": "2022-05-22T16:47:59.878Z"
   },
   {
    "duration": 7,
    "start_time": "2022-05-22T16:48:00.097Z"
   },
   {
    "duration": 21,
    "start_time": "2022-05-22T16:48:00.107Z"
   },
   {
    "duration": 305,
    "start_time": "2022-05-22T16:48:00.129Z"
   },
   {
    "duration": 1010,
    "start_time": "2022-05-22T16:48:00.436Z"
   },
   {
    "duration": 965,
    "start_time": "2022-05-22T16:48:01.448Z"
   },
   {
    "duration": 305,
    "start_time": "2022-05-22T16:48:02.417Z"
   },
   {
    "duration": 5,
    "start_time": "2022-05-22T16:48:02.723Z"
   },
   {
    "duration": 219,
    "start_time": "2022-05-22T16:48:02.729Z"
   },
   {
    "duration": 432,
    "start_time": "2022-05-22T16:48:02.949Z"
   },
   {
    "duration": 146,
    "start_time": "2022-05-22T16:48:03.383Z"
   },
   {
    "duration": 2678,
    "start_time": "2022-05-22T16:49:42.332Z"
   },
   {
    "duration": 320,
    "start_time": "2022-05-22T16:54:54.798Z"
   },
   {
    "duration": 20,
    "start_time": "2022-05-22T16:55:22.253Z"
   },
   {
    "duration": 32,
    "start_time": "2022-05-22T16:55:39.656Z"
   },
   {
    "duration": 344,
    "start_time": "2022-05-22T16:55:49.949Z"
   },
   {
    "duration": 8,
    "start_time": "2022-05-22T18:41:44.623Z"
   },
   {
    "duration": 15,
    "start_time": "2022-05-22T18:41:54.600Z"
   },
   {
    "duration": 19,
    "start_time": "2022-05-22T18:42:43.550Z"
   },
   {
    "duration": 16,
    "start_time": "2022-05-22T18:42:50.394Z"
   },
   {
    "duration": 272,
    "start_time": "2022-05-22T18:43:08.611Z"
   },
   {
    "duration": 14,
    "start_time": "2022-05-22T18:43:24.850Z"
   },
   {
    "duration": 454,
    "start_time": "2022-05-22T18:43:26.938Z"
   },
   {
    "duration": 12,
    "start_time": "2022-05-22T18:44:11.279Z"
   },
   {
    "duration": 417,
    "start_time": "2022-05-22T18:44:14.825Z"
   },
   {
    "duration": 8,
    "start_time": "2022-05-22T18:44:31.794Z"
   },
   {
    "duration": 9,
    "start_time": "2022-05-22T18:45:17.162Z"
   },
   {
    "duration": 432,
    "start_time": "2022-05-22T18:45:38.646Z"
   },
   {
    "duration": 352,
    "start_time": "2022-05-22T18:45:45.410Z"
   },
   {
    "duration": 295,
    "start_time": "2022-05-22T18:46:02.446Z"
   },
   {
    "duration": 267,
    "start_time": "2022-05-22T18:46:12.052Z"
   },
   {
    "duration": 942,
    "start_time": "2022-05-22T18:47:42.796Z"
   },
   {
    "duration": 51,
    "start_time": "2022-05-22T18:47:43.740Z"
   },
   {
    "duration": 19,
    "start_time": "2022-05-22T18:47:43.792Z"
   },
   {
    "duration": 4,
    "start_time": "2022-05-22T18:47:43.812Z"
   },
   {
    "duration": 24,
    "start_time": "2022-05-22T18:47:43.817Z"
   },
   {
    "duration": 2,
    "start_time": "2022-05-22T18:47:43.843Z"
   },
   {
    "duration": 7,
    "start_time": "2022-05-22T18:47:43.847Z"
   },
   {
    "duration": 14,
    "start_time": "2022-05-22T18:47:43.855Z"
   },
   {
    "duration": 6,
    "start_time": "2022-05-22T18:47:43.870Z"
   },
   {
    "duration": 9,
    "start_time": "2022-05-22T18:47:43.878Z"
   },
   {
    "duration": 24,
    "start_time": "2022-05-22T18:47:43.888Z"
   },
   {
    "duration": 6,
    "start_time": "2022-05-22T18:47:43.914Z"
   },
   {
    "duration": 6,
    "start_time": "2022-05-22T18:47:43.921Z"
   },
   {
    "duration": 46,
    "start_time": "2022-05-22T18:47:43.928Z"
   },
   {
    "duration": 20,
    "start_time": "2022-05-22T18:47:43.976Z"
   },
   {
    "duration": 8,
    "start_time": "2022-05-22T18:47:43.997Z"
   },
   {
    "duration": 5,
    "start_time": "2022-05-22T18:47:44.006Z"
   },
   {
    "duration": 9,
    "start_time": "2022-05-22T18:47:44.013Z"
   },
   {
    "duration": 380,
    "start_time": "2022-05-22T18:47:44.023Z"
   },
   {
    "duration": 6,
    "start_time": "2022-05-22T18:47:44.405Z"
   },
   {
    "duration": 8,
    "start_time": "2022-05-22T18:47:44.412Z"
   },
   {
    "duration": 206,
    "start_time": "2022-05-22T18:47:44.422Z"
   },
   {
    "duration": 6,
    "start_time": "2022-05-22T18:47:44.629Z"
   },
   {
    "duration": 29,
    "start_time": "2022-05-22T18:47:44.636Z"
   },
   {
    "duration": 272,
    "start_time": "2022-05-22T18:47:44.666Z"
   },
   {
    "duration": 869,
    "start_time": "2022-05-22T18:47:44.940Z"
   },
   {
    "duration": 847,
    "start_time": "2022-05-22T18:47:45.811Z"
   },
   {
    "duration": 226,
    "start_time": "2022-05-22T18:47:46.661Z"
   },
   {
    "duration": 5,
    "start_time": "2022-05-22T18:47:46.888Z"
   },
   {
    "duration": 197,
    "start_time": "2022-05-22T18:47:46.894Z"
   },
   {
    "duration": 399,
    "start_time": "2022-05-22T18:47:47.093Z"
   },
   {
    "duration": 119,
    "start_time": "2022-05-22T18:47:47.494Z"
   },
   {
    "duration": 0,
    "start_time": "2022-05-22T18:47:47.614Z"
   },
   {
    "duration": 0,
    "start_time": "2022-05-22T18:47:47.615Z"
   },
   {
    "duration": 0,
    "start_time": "2022-05-22T18:47:47.616Z"
   },
   {
    "duration": 0,
    "start_time": "2022-05-22T18:47:47.617Z"
   },
   {
    "duration": 0,
    "start_time": "2022-05-22T18:47:47.618Z"
   },
   {
    "duration": 0,
    "start_time": "2022-05-22T18:47:47.619Z"
   },
   {
    "duration": 0,
    "start_time": "2022-05-22T18:47:47.620Z"
   },
   {
    "duration": 0,
    "start_time": "2022-05-22T18:47:47.621Z"
   },
   {
    "duration": 0,
    "start_time": "2022-05-22T18:47:47.622Z"
   },
   {
    "duration": 0,
    "start_time": "2022-05-22T18:47:47.623Z"
   },
   {
    "duration": 0,
    "start_time": "2022-05-22T18:47:47.624Z"
   },
   {
    "duration": 2506,
    "start_time": "2022-05-22T18:48:02.376Z"
   },
   {
    "duration": 14,
    "start_time": "2022-05-22T18:48:07.484Z"
   },
   {
    "duration": 15,
    "start_time": "2022-05-22T18:48:09.019Z"
   },
   {
    "duration": 10,
    "start_time": "2022-05-22T18:48:09.844Z"
   },
   {
    "duration": 275,
    "start_time": "2022-05-22T18:48:12.310Z"
   },
   {
    "duration": 11,
    "start_time": "2022-05-22T18:49:02.620Z"
   },
   {
    "duration": 10,
    "start_time": "2022-05-22T18:49:03.676Z"
   },
   {
    "duration": 265,
    "start_time": "2022-05-22T18:49:04.270Z"
   },
   {
    "duration": 282,
    "start_time": "2022-05-22T18:50:59.049Z"
   },
   {
    "duration": 33,
    "start_time": "2022-05-22T18:52:34.982Z"
   },
   {
    "duration": 216,
    "start_time": "2022-05-22T18:52:40.746Z"
   },
   {
    "duration": 13,
    "start_time": "2022-05-22T18:53:18.399Z"
   },
   {
    "duration": 8,
    "start_time": "2022-05-22T18:53:20.750Z"
   },
   {
    "duration": 10,
    "start_time": "2022-05-22T18:54:04.261Z"
   },
   {
    "duration": 8,
    "start_time": "2022-05-22T18:54:06.263Z"
   },
   {
    "duration": 9,
    "start_time": "2022-05-22T18:54:35.321Z"
   },
   {
    "duration": 6,
    "start_time": "2022-05-22T18:54:41.496Z"
   },
   {
    "duration": 10,
    "start_time": "2022-05-22T18:54:53.323Z"
   },
   {
    "duration": 12,
    "start_time": "2022-05-22T18:55:05.048Z"
   },
   {
    "duration": 10,
    "start_time": "2022-05-22T18:55:06.183Z"
   },
   {
    "duration": 12,
    "start_time": "2022-05-22T18:55:46.496Z"
   },
   {
    "duration": 8,
    "start_time": "2022-05-22T18:56:44.928Z"
   },
   {
    "duration": 13,
    "start_time": "2022-05-22T18:56:46.008Z"
   },
   {
    "duration": 17,
    "start_time": "2022-05-22T18:57:08.119Z"
   },
   {
    "duration": 14,
    "start_time": "2022-05-22T18:57:08.842Z"
   },
   {
    "duration": 10,
    "start_time": "2022-05-22T18:57:10.849Z"
   },
   {
    "duration": 466,
    "start_time": "2022-05-22T18:57:12.417Z"
   },
   {
    "duration": 824,
    "start_time": "2022-05-22T18:57:36.784Z"
   },
   {
    "duration": 10,
    "start_time": "2022-05-22T18:59:56.019Z"
   },
   {
    "duration": 12,
    "start_time": "2022-05-22T19:00:12.509Z"
   },
   {
    "duration": 9,
    "start_time": "2022-05-22T19:00:12.856Z"
   },
   {
    "duration": 606,
    "start_time": "2022-05-22T19:00:13.195Z"
   },
   {
    "duration": 935,
    "start_time": "2022-05-22T19:00:30.811Z"
   },
   {
    "duration": 617,
    "start_time": "2022-05-22T19:01:20.722Z"
   },
   {
    "duration": 124,
    "start_time": "2022-05-22T19:11:18.725Z"
   },
   {
    "duration": 13,
    "start_time": "2022-05-22T19:13:42.429Z"
   },
   {
    "duration": 890,
    "start_time": "2022-05-22T19:13:52.093Z"
   },
   {
    "duration": 9,
    "start_time": "2022-05-22T19:14:26.032Z"
   },
   {
    "duration": 21,
    "start_time": "2022-05-22T19:20:23.273Z"
   },
   {
    "duration": 18,
    "start_time": "2022-05-22T19:20:32.287Z"
   },
   {
    "duration": 255,
    "start_time": "2022-05-22T19:23:43.735Z"
   },
   {
    "duration": 15,
    "start_time": "2022-05-22T19:31:45.761Z"
   },
   {
    "duration": 7,
    "start_time": "2022-05-22T19:32:09.786Z"
   },
   {
    "duration": 166,
    "start_time": "2022-05-22T19:32:10.585Z"
   },
   {
    "duration": 7,
    "start_time": "2022-05-22T19:32:45.788Z"
   },
   {
    "duration": 169,
    "start_time": "2022-05-22T19:32:46.380Z"
   },
   {
    "duration": 148,
    "start_time": "2022-05-22T19:33:33.723Z"
   },
   {
    "duration": 175,
    "start_time": "2022-05-22T19:33:39.768Z"
   },
   {
    "duration": 164,
    "start_time": "2022-05-22T19:33:50.352Z"
   },
   {
    "duration": 12,
    "start_time": "2022-05-22T19:34:08.155Z"
   },
   {
    "duration": 7,
    "start_time": "2022-05-22T19:34:14.099Z"
   },
   {
    "duration": 161,
    "start_time": "2022-05-22T19:34:14.420Z"
   },
   {
    "duration": 4,
    "start_time": "2022-05-22T20:03:25.951Z"
   },
   {
    "duration": 10,
    "start_time": "2022-05-22T20:04:15.057Z"
   },
   {
    "duration": 151,
    "start_time": "2022-05-22T20:04:21.073Z"
   },
   {
    "duration": 215,
    "start_time": "2022-05-22T20:04:24.401Z"
   },
   {
    "duration": 203,
    "start_time": "2022-05-22T20:04:39.968Z"
   },
   {
    "duration": 43,
    "start_time": "2022-05-22T20:09:06.023Z"
   },
   {
    "duration": 34,
    "start_time": "2022-05-22T20:09:11.629Z"
   },
   {
    "duration": 256,
    "start_time": "2022-05-22T20:09:21.541Z"
   },
   {
    "duration": 294,
    "start_time": "2022-05-22T20:12:51.191Z"
   },
   {
    "duration": 228,
    "start_time": "2022-05-22T20:12:56.886Z"
   },
   {
    "duration": 12,
    "start_time": "2022-05-22T20:13:34.464Z"
   },
   {
    "duration": 4,
    "start_time": "2022-05-22T20:15:25.474Z"
   },
   {
    "duration": 33,
    "start_time": "2022-05-22T20:15:33.801Z"
   },
   {
    "duration": 299,
    "start_time": "2022-05-22T20:15:37.789Z"
   },
   {
    "duration": 4,
    "start_time": "2022-05-22T20:19:41.381Z"
   },
   {
    "duration": 357,
    "start_time": "2022-05-22T20:19:43.297Z"
   },
   {
    "duration": 343,
    "start_time": "2022-05-22T20:20:10.472Z"
   },
   {
    "duration": 4,
    "start_time": "2022-05-22T20:20:28.358Z"
   },
   {
    "duration": 363,
    "start_time": "2022-05-22T20:20:28.861Z"
   },
   {
    "duration": 6,
    "start_time": "2022-05-22T20:20:44.150Z"
   },
   {
    "duration": 397,
    "start_time": "2022-05-22T20:20:44.650Z"
   },
   {
    "duration": 5,
    "start_time": "2022-05-22T20:21:58.895Z"
   },
   {
    "duration": 394,
    "start_time": "2022-05-22T20:22:02.765Z"
   },
   {
    "duration": 5,
    "start_time": "2022-05-22T20:22:22.567Z"
   },
   {
    "duration": 424,
    "start_time": "2022-05-22T20:22:23.095Z"
   },
   {
    "duration": 6,
    "start_time": "2022-05-22T20:24:47.899Z"
   },
   {
    "duration": 394,
    "start_time": "2022-05-22T20:24:48.330Z"
   },
   {
    "duration": 5,
    "start_time": "2022-05-22T20:25:07.832Z"
   },
   {
    "duration": 368,
    "start_time": "2022-05-22T20:25:08.591Z"
   },
   {
    "duration": 5,
    "start_time": "2022-05-22T20:25:41.557Z"
   },
   {
    "duration": 707,
    "start_time": "2022-05-22T20:25:42.080Z"
   },
   {
    "duration": 5,
    "start_time": "2022-05-22T20:28:25.879Z"
   },
   {
    "duration": 408,
    "start_time": "2022-05-22T20:28:26.345Z"
   },
   {
    "duration": 4,
    "start_time": "2022-05-22T20:29:14.228Z"
   },
   {
    "duration": 434,
    "start_time": "2022-05-22T20:29:14.844Z"
   },
   {
    "duration": 4,
    "start_time": "2022-05-22T20:29:26.229Z"
   },
   {
    "duration": 413,
    "start_time": "2022-05-22T20:29:27.241Z"
   },
   {
    "duration": 6,
    "start_time": "2022-05-22T20:29:39.723Z"
   },
   {
    "duration": 448,
    "start_time": "2022-05-22T20:29:41.658Z"
   },
   {
    "duration": 3,
    "start_time": "2022-05-22T20:29:50.740Z"
   },
   {
    "duration": 462,
    "start_time": "2022-05-22T20:29:51.393Z"
   },
   {
    "duration": 439,
    "start_time": "2022-05-22T20:31:00.899Z"
   },
   {
    "duration": 433,
    "start_time": "2022-05-22T20:32:30.933Z"
   },
   {
    "duration": 322,
    "start_time": "2022-05-22T20:33:01.104Z"
   },
   {
    "duration": 392,
    "start_time": "2022-05-22T20:33:07.749Z"
   },
   {
    "duration": 382,
    "start_time": "2022-05-22T20:33:13.763Z"
   },
   {
    "duration": 378,
    "start_time": "2022-05-22T20:33:37.612Z"
   },
   {
    "duration": 390,
    "start_time": "2022-05-22T20:37:47.109Z"
   },
   {
    "duration": 706,
    "start_time": "2022-05-22T20:38:07.527Z"
   },
   {
    "duration": 417,
    "start_time": "2022-05-22T20:38:24.579Z"
   },
   {
    "duration": 4,
    "start_time": "2022-05-22T20:38:54.784Z"
   },
   {
    "duration": 376,
    "start_time": "2022-05-22T20:38:55.348Z"
   },
   {
    "duration": 402,
    "start_time": "2022-05-22T20:40:15.593Z"
   },
   {
    "duration": 19,
    "start_time": "2022-05-22T20:42:17.333Z"
   },
   {
    "duration": 382,
    "start_time": "2022-05-22T20:44:14.109Z"
   },
   {
    "duration": 325,
    "start_time": "2022-05-22T20:45:43.034Z"
   },
   {
    "duration": 658,
    "start_time": "2022-05-22T20:46:12.775Z"
   },
   {
    "duration": 606,
    "start_time": "2022-05-22T20:48:24.922Z"
   },
   {
    "duration": 579,
    "start_time": "2022-05-22T20:50:29.030Z"
   },
   {
    "duration": 42,
    "start_time": "2022-05-22T20:52:42.751Z"
   },
   {
    "duration": 570,
    "start_time": "2022-05-22T20:53:20.084Z"
   },
   {
    "duration": 3,
    "start_time": "2022-05-22T20:53:46.641Z"
   },
   {
    "duration": 2,
    "start_time": "2022-05-22T20:54:05.389Z"
   },
   {
    "duration": 4,
    "start_time": "2022-05-22T21:00:39.609Z"
   },
   {
    "duration": 364,
    "start_time": "2022-05-22T21:00:40.092Z"
   },
   {
    "duration": 3,
    "start_time": "2022-05-22T21:02:55.697Z"
   },
   {
    "duration": 386,
    "start_time": "2022-05-22T21:02:56.224Z"
   },
   {
    "duration": 4,
    "start_time": "2022-05-22T21:12:08.857Z"
   },
   {
    "duration": 680,
    "start_time": "2022-05-22T21:12:09.422Z"
   },
   {
    "duration": 4,
    "start_time": "2022-05-22T21:12:28.853Z"
   },
   {
    "duration": 387,
    "start_time": "2022-05-22T21:12:29.224Z"
   },
   {
    "duration": 5,
    "start_time": "2022-05-22T21:12:56.730Z"
   },
   {
    "duration": 457,
    "start_time": "2022-05-22T21:12:57.142Z"
   },
   {
    "duration": 411,
    "start_time": "2022-05-22T21:13:19.886Z"
   },
   {
    "duration": 401,
    "start_time": "2022-05-22T21:14:00.275Z"
   },
   {
    "duration": 4,
    "start_time": "2022-05-22T21:14:45.479Z"
   },
   {
    "duration": 384,
    "start_time": "2022-05-22T21:14:45.878Z"
   },
   {
    "duration": 6,
    "start_time": "2022-05-22T21:15:51.576Z"
   },
   {
    "duration": 440,
    "start_time": "2022-05-22T21:15:52.143Z"
   },
   {
    "duration": 15,
    "start_time": "2022-05-22T21:32:35.181Z"
   },
   {
    "duration": 14,
    "start_time": "2022-05-22T21:32:39.356Z"
   },
   {
    "duration": 16,
    "start_time": "2022-05-22T21:33:02.820Z"
   },
   {
    "duration": 12,
    "start_time": "2022-05-22T21:33:30.725Z"
   },
   {
    "duration": 212,
    "start_time": "2022-05-22T21:33:38.509Z"
   },
   {
    "duration": 384,
    "start_time": "2022-05-22T21:34:09.465Z"
   },
   {
    "duration": 397,
    "start_time": "2022-05-22T21:34:43.320Z"
   },
   {
    "duration": 392,
    "start_time": "2022-05-22T21:35:08.621Z"
   },
   {
    "duration": 351,
    "start_time": "2022-05-22T21:35:32.976Z"
   },
   {
    "duration": 384,
    "start_time": "2022-05-22T21:35:56.322Z"
   },
   {
    "duration": 386,
    "start_time": "2022-05-22T21:36:25.633Z"
   },
   {
    "duration": 361,
    "start_time": "2022-05-22T21:36:34.071Z"
   },
   {
    "duration": 365,
    "start_time": "2022-05-22T21:37:30.184Z"
   },
   {
    "duration": 10,
    "start_time": "2022-05-22T21:40:37.684Z"
   },
   {
    "duration": 4,
    "start_time": "2022-05-22T21:40:48.114Z"
   },
   {
    "duration": 719,
    "start_time": "2022-05-22T21:43:29.246Z"
   },
   {
    "duration": 400,
    "start_time": "2022-05-22T21:43:44.868Z"
   },
   {
    "duration": 463,
    "start_time": "2022-05-22T21:43:51.628Z"
   },
   {
    "duration": 8,
    "start_time": "2022-05-22T21:44:22.243Z"
   },
   {
    "duration": 322,
    "start_time": "2022-05-22T21:44:23.099Z"
   },
   {
    "duration": 386,
    "start_time": "2022-05-22T21:44:34.807Z"
   },
   {
    "duration": 378,
    "start_time": "2022-05-22T21:45:28.466Z"
   },
   {
    "duration": 8,
    "start_time": "2022-05-22T21:45:50.487Z"
   },
   {
    "duration": 373,
    "start_time": "2022-05-22T21:45:50.959Z"
   },
   {
    "duration": 5,
    "start_time": "2022-05-22T21:46:24.717Z"
   },
   {
    "duration": 5,
    "start_time": "2022-05-22T21:47:19.645Z"
   },
   {
    "duration": 4,
    "start_time": "2022-05-22T21:49:40.750Z"
   },
   {
    "duration": 375,
    "start_time": "2022-05-22T21:49:41.452Z"
   },
   {
    "duration": 4,
    "start_time": "2022-05-22T21:50:08.171Z"
   },
   {
    "duration": 357,
    "start_time": "2022-05-22T21:50:08.597Z"
   },
   {
    "duration": 4,
    "start_time": "2022-05-22T21:50:28.002Z"
   },
   {
    "duration": 381,
    "start_time": "2022-05-22T21:50:28.403Z"
   },
   {
    "duration": 421,
    "start_time": "2022-05-22T21:50:48.718Z"
   },
   {
    "duration": 385,
    "start_time": "2022-05-22T21:50:54.960Z"
   },
   {
    "duration": 4,
    "start_time": "2022-05-22T21:51:28.249Z"
   },
   {
    "duration": 4,
    "start_time": "2022-05-22T21:51:33.210Z"
   },
   {
    "duration": 1014,
    "start_time": "2022-05-22T21:51:53.127Z"
   },
   {
    "duration": 50,
    "start_time": "2022-05-22T21:51:54.143Z"
   },
   {
    "duration": 18,
    "start_time": "2022-05-22T21:51:54.194Z"
   },
   {
    "duration": 3,
    "start_time": "2022-05-22T21:51:54.214Z"
   },
   {
    "duration": 18,
    "start_time": "2022-05-22T21:51:54.219Z"
   },
   {
    "duration": 2,
    "start_time": "2022-05-22T21:51:54.239Z"
   },
   {
    "duration": 11,
    "start_time": "2022-05-22T21:51:54.244Z"
   },
   {
    "duration": 13,
    "start_time": "2022-05-22T21:51:54.259Z"
   },
   {
    "duration": 10,
    "start_time": "2022-05-22T21:51:54.273Z"
   },
   {
    "duration": 7,
    "start_time": "2022-05-22T21:51:54.284Z"
   },
   {
    "duration": 26,
    "start_time": "2022-05-22T21:51:54.293Z"
   },
   {
    "duration": 4,
    "start_time": "2022-05-22T21:51:54.320Z"
   },
   {
    "duration": 35,
    "start_time": "2022-05-22T21:51:54.325Z"
   },
   {
    "duration": 18,
    "start_time": "2022-05-22T21:51:54.362Z"
   },
   {
    "duration": 19,
    "start_time": "2022-05-22T21:51:54.381Z"
   },
   {
    "duration": 6,
    "start_time": "2022-05-22T21:51:54.402Z"
   },
   {
    "duration": 9,
    "start_time": "2022-05-22T21:51:54.409Z"
   },
   {
    "duration": 12,
    "start_time": "2022-05-22T21:51:54.420Z"
   },
   {
    "duration": 367,
    "start_time": "2022-05-22T21:51:54.434Z"
   },
   {
    "duration": 6,
    "start_time": "2022-05-22T21:51:54.802Z"
   },
   {
    "duration": 11,
    "start_time": "2022-05-22T21:51:54.809Z"
   },
   {
    "duration": 201,
    "start_time": "2022-05-22T21:51:54.821Z"
   },
   {
    "duration": 6,
    "start_time": "2022-05-22T21:51:55.023Z"
   },
   {
    "duration": 18,
    "start_time": "2022-05-22T21:51:55.030Z"
   },
   {
    "duration": 280,
    "start_time": "2022-05-22T21:51:55.049Z"
   },
   {
    "duration": 2,
    "start_time": "2022-05-22T21:51:55.331Z"
   },
   {
    "duration": 812,
    "start_time": "2022-05-22T21:51:55.334Z"
   },
   {
    "duration": 133,
    "start_time": "2022-05-22T21:51:56.147Z"
   },
   {
    "duration": 4,
    "start_time": "2022-05-22T21:51:56.282Z"
   },
   {
    "duration": 188,
    "start_time": "2022-05-22T21:51:56.287Z"
   },
   {
    "duration": 372,
    "start_time": "2022-05-22T21:51:56.477Z"
   },
   {
    "duration": 3,
    "start_time": "2022-05-22T21:51:56.850Z"
   },
   {
    "duration": 2430,
    "start_time": "2022-05-22T21:51:56.854Z"
   },
   {
    "duration": 13,
    "start_time": "2022-05-22T21:51:59.285Z"
   },
   {
    "duration": 712,
    "start_time": "2022-05-22T21:51:59.300Z"
   },
   {
    "duration": 9,
    "start_time": "2022-05-22T21:52:00.013Z"
   },
   {
    "duration": 66,
    "start_time": "2022-05-22T21:52:00.023Z"
   },
   {
    "duration": 5,
    "start_time": "2022-05-22T21:52:00.091Z"
   },
   {
    "duration": 417,
    "start_time": "2022-05-22T21:52:00.097Z"
   },
   {
    "duration": 4,
    "start_time": "2022-05-22T21:52:00.515Z"
   },
   {
    "duration": 383,
    "start_time": "2022-05-22T21:52:00.523Z"
   },
   {
    "duration": 15,
    "start_time": "2022-05-22T21:52:00.908Z"
   },
   {
    "duration": 0,
    "start_time": "2022-05-22T21:52:00.924Z"
   },
   {
    "duration": 0,
    "start_time": "2022-05-22T21:52:00.926Z"
   },
   {
    "duration": 0,
    "start_time": "2022-05-22T21:52:00.927Z"
   },
   {
    "duration": 0,
    "start_time": "2022-05-22T21:52:00.928Z"
   },
   {
    "duration": 0,
    "start_time": "2022-05-22T21:52:00.929Z"
   },
   {
    "duration": 0,
    "start_time": "2022-05-22T21:52:00.930Z"
   },
   {
    "duration": 0,
    "start_time": "2022-05-22T21:52:00.931Z"
   },
   {
    "duration": 0,
    "start_time": "2022-05-22T21:52:00.932Z"
   },
   {
    "duration": 1,
    "start_time": "2022-05-22T21:52:00.933Z"
   },
   {
    "duration": 0,
    "start_time": "2022-05-22T21:52:00.934Z"
   },
   {
    "duration": 0,
    "start_time": "2022-05-22T21:52:00.960Z"
   },
   {
    "duration": 4,
    "start_time": "2022-05-22T21:52:55.574Z"
   },
   {
    "duration": 384,
    "start_time": "2022-05-22T21:53:19.384Z"
   },
   {
    "duration": 9,
    "start_time": "2022-05-22T21:53:22.788Z"
   },
   {
    "duration": 377,
    "start_time": "2022-05-22T21:53:23.294Z"
   },
   {
    "duration": 4,
    "start_time": "2022-05-22T21:53:23.865Z"
   },
   {
    "duration": 9,
    "start_time": "2022-05-22T21:53:24.594Z"
   },
   {
    "duration": 385,
    "start_time": "2022-05-22T21:53:24.909Z"
   },
   {
    "duration": 4,
    "start_time": "2022-05-22T21:53:26.305Z"
   },
   {
    "duration": 67,
    "start_time": "2022-05-23T16:50:18.654Z"
   },
   {
    "duration": 1345,
    "start_time": "2022-05-23T16:50:32.278Z"
   },
   {
    "duration": 427,
    "start_time": "2022-05-23T16:50:33.625Z"
   },
   {
    "duration": 20,
    "start_time": "2022-05-23T16:50:34.054Z"
   },
   {
    "duration": 5,
    "start_time": "2022-05-23T16:50:34.076Z"
   },
   {
    "duration": 34,
    "start_time": "2022-05-23T16:50:34.082Z"
   },
   {
    "duration": 3,
    "start_time": "2022-05-23T16:50:34.117Z"
   },
   {
    "duration": 14,
    "start_time": "2022-05-23T16:50:34.121Z"
   },
   {
    "duration": 24,
    "start_time": "2022-05-23T16:50:34.137Z"
   },
   {
    "duration": 13,
    "start_time": "2022-05-23T16:50:34.163Z"
   },
   {
    "duration": 21,
    "start_time": "2022-05-23T16:50:34.179Z"
   },
   {
    "duration": 40,
    "start_time": "2022-05-23T16:50:34.205Z"
   },
   {
    "duration": 5,
    "start_time": "2022-05-23T16:50:34.246Z"
   },
   {
    "duration": 26,
    "start_time": "2022-05-23T16:50:34.253Z"
   },
   {
    "duration": 48,
    "start_time": "2022-05-23T16:50:34.280Z"
   },
   {
    "duration": 22,
    "start_time": "2022-05-23T16:50:34.331Z"
   },
   {
    "duration": 7,
    "start_time": "2022-05-23T16:50:34.355Z"
   },
   {
    "duration": 4,
    "start_time": "2022-05-23T16:50:34.364Z"
   },
   {
    "duration": 18,
    "start_time": "2022-05-23T16:50:34.369Z"
   },
   {
    "duration": 474,
    "start_time": "2022-05-23T16:50:34.389Z"
   },
   {
    "duration": 7,
    "start_time": "2022-05-23T16:50:34.865Z"
   },
   {
    "duration": 12,
    "start_time": "2022-05-23T16:50:34.884Z"
   },
   {
    "duration": 257,
    "start_time": "2022-05-23T16:50:34.898Z"
   },
   {
    "duration": 7,
    "start_time": "2022-05-23T16:50:35.156Z"
   },
   {
    "duration": 39,
    "start_time": "2022-05-23T16:50:35.165Z"
   },
   {
    "duration": 364,
    "start_time": "2022-05-23T16:50:35.207Z"
   },
   {
    "duration": 2,
    "start_time": "2022-05-23T16:50:35.573Z"
   },
   {
    "duration": 1088,
    "start_time": "2022-05-23T16:50:35.582Z"
   },
   {
    "duration": 184,
    "start_time": "2022-05-23T16:50:36.676Z"
   },
   {
    "duration": 5,
    "start_time": "2022-05-23T16:50:36.862Z"
   },
   {
    "duration": 255,
    "start_time": "2022-05-23T16:50:36.868Z"
   },
   {
    "duration": 525,
    "start_time": "2022-05-23T16:50:37.125Z"
   },
   {
    "duration": 3,
    "start_time": "2022-05-23T16:50:37.652Z"
   },
   {
    "duration": 3365,
    "start_time": "2022-05-23T16:50:37.657Z"
   },
   {
    "duration": 14,
    "start_time": "2022-05-23T16:50:41.024Z"
   },
   {
    "duration": 882,
    "start_time": "2022-05-23T16:50:41.040Z"
   },
   {
    "duration": 9,
    "start_time": "2022-05-23T16:50:41.924Z"
   },
   {
    "duration": 83,
    "start_time": "2022-05-23T16:50:41.935Z"
   },
   {
    "duration": 5,
    "start_time": "2022-05-23T16:50:42.019Z"
   },
   {
    "duration": 483,
    "start_time": "2022-05-23T16:50:42.026Z"
   },
   {
    "duration": 6,
    "start_time": "2022-05-23T16:50:42.513Z"
   },
   {
    "duration": 480,
    "start_time": "2022-05-23T16:50:42.521Z"
   },
   {
    "duration": 10,
    "start_time": "2022-05-23T16:50:43.006Z"
   },
   {
    "duration": 505,
    "start_time": "2022-05-23T16:50:43.019Z"
   },
   {
    "duration": 9,
    "start_time": "2022-05-23T16:50:43.526Z"
   },
   {
    "duration": 520,
    "start_time": "2022-05-23T16:50:43.537Z"
   },
   {
    "duration": 5,
    "start_time": "2022-05-23T16:50:44.059Z"
   },
   {
    "duration": 31,
    "start_time": "2022-05-23T16:50:44.065Z"
   },
   {
    "duration": 439,
    "start_time": "2022-05-23T16:50:44.098Z"
   },
   {
    "duration": 9,
    "start_time": "2022-05-23T16:50:44.539Z"
   },
   {
    "duration": 6,
    "start_time": "2022-05-23T16:50:44.550Z"
   },
   {
    "duration": 5,
    "start_time": "2022-05-23T16:50:44.558Z"
   },
   {
    "duration": 11,
    "start_time": "2022-05-23T16:50:44.564Z"
   },
   {
    "duration": 497,
    "start_time": "2022-05-23T16:51:01.753Z"
   },
   {
    "duration": 629,
    "start_time": "2022-05-23T16:51:05.999Z"
   },
   {
    "duration": 475,
    "start_time": "2022-05-23T16:51:53.591Z"
   },
   {
    "duration": 548,
    "start_time": "2022-05-23T16:52:12.031Z"
   },
   {
    "duration": 476,
    "start_time": "2022-05-23T16:52:33.862Z"
   },
   {
    "duration": 13,
    "start_time": "2022-05-23T16:53:12.679Z"
   },
   {
    "duration": 6,
    "start_time": "2022-05-23T16:53:18.470Z"
   },
   {
    "duration": 4,
    "start_time": "2022-05-23T17:02:43.355Z"
   },
   {
    "duration": 517,
    "start_time": "2022-05-23T17:02:43.747Z"
   },
   {
    "duration": 5,
    "start_time": "2022-05-23T17:02:53.502Z"
   },
   {
    "duration": 496,
    "start_time": "2022-05-23T17:02:54.350Z"
   },
   {
    "duration": 7,
    "start_time": "2022-05-23T17:03:15.506Z"
   },
   {
    "duration": 511,
    "start_time": "2022-05-23T17:03:15.910Z"
   },
   {
    "duration": 4,
    "start_time": "2022-05-23T17:03:53.348Z"
   },
   {
    "duration": 513,
    "start_time": "2022-05-23T17:03:53.920Z"
   },
   {
    "duration": 5,
    "start_time": "2022-05-23T17:11:45.043Z"
   },
   {
    "duration": 518,
    "start_time": "2022-05-23T17:11:45.470Z"
   },
   {
    "duration": 513,
    "start_time": "2022-05-23T17:12:01.813Z"
   },
   {
    "duration": 4,
    "start_time": "2022-05-23T17:12:46.458Z"
   },
   {
    "duration": 798,
    "start_time": "2022-05-23T17:12:47.201Z"
   },
   {
    "duration": 34,
    "start_time": "2022-05-23T19:01:07.662Z"
   },
   {
    "duration": 30,
    "start_time": "2022-05-23T19:01:21.380Z"
   },
   {
    "duration": 16,
    "start_time": "2022-05-23T19:01:36.791Z"
   },
   {
    "duration": 50,
    "start_time": "2022-05-23T19:02:34.684Z"
   },
   {
    "duration": 40,
    "start_time": "2022-05-23T19:03:11.999Z"
   },
   {
    "duration": 3,
    "start_time": "2022-05-23T19:03:30.798Z"
   },
   {
    "duration": 68,
    "start_time": "2022-05-23T19:03:30.804Z"
   },
   {
    "duration": 19,
    "start_time": "2022-05-23T19:03:30.874Z"
   },
   {
    "duration": 30,
    "start_time": "2022-05-23T19:03:30.895Z"
   },
   {
    "duration": 25,
    "start_time": "2022-05-23T19:03:30.927Z"
   },
   {
    "duration": 9,
    "start_time": "2022-05-23T19:03:30.954Z"
   },
   {
    "duration": 33,
    "start_time": "2022-05-23T19:03:30.965Z"
   },
   {
    "duration": 29,
    "start_time": "2022-05-23T19:03:31.000Z"
   },
   {
    "duration": 30,
    "start_time": "2022-05-23T19:03:31.031Z"
   },
   {
    "duration": 17,
    "start_time": "2022-05-23T19:03:31.064Z"
   },
   {
    "duration": 59,
    "start_time": "2022-05-23T19:03:33.561Z"
   },
   {
    "duration": 33,
    "start_time": "2022-05-23T19:03:55.604Z"
   },
   {
    "duration": 64,
    "start_time": "2022-05-23T19:04:01.263Z"
   },
   {
    "duration": 58,
    "start_time": "2022-05-23T19:04:22.358Z"
   },
   {
    "duration": 26,
    "start_time": "2022-05-23T19:04:42.203Z"
   },
   {
    "duration": 12,
    "start_time": "2022-05-23T19:05:42.601Z"
   },
   {
    "duration": 1213,
    "start_time": "2022-05-23T19:06:03.493Z"
   },
   {
    "duration": 54,
    "start_time": "2022-05-23T19:06:04.714Z"
   },
   {
    "duration": 32,
    "start_time": "2022-05-23T19:06:04.770Z"
   },
   {
    "duration": 5,
    "start_time": "2022-05-23T19:06:04.805Z"
   },
   {
    "duration": 24,
    "start_time": "2022-05-23T19:06:04.812Z"
   },
   {
    "duration": 4,
    "start_time": "2022-05-23T19:06:04.838Z"
   },
   {
    "duration": 7,
    "start_time": "2022-05-23T19:06:04.844Z"
   },
   {
    "duration": 46,
    "start_time": "2022-05-23T19:06:04.853Z"
   },
   {
    "duration": 16,
    "start_time": "2022-05-23T19:06:04.901Z"
   },
   {
    "duration": 15,
    "start_time": "2022-05-23T19:06:04.920Z"
   },
   {
    "duration": 70,
    "start_time": "2022-05-23T19:06:04.937Z"
   },
   {
    "duration": 8,
    "start_time": "2022-05-23T19:06:05.009Z"
   },
   {
    "duration": 1130,
    "start_time": "2022-05-23T19:07:35.761Z"
   },
   {
    "duration": 53,
    "start_time": "2022-05-23T19:07:36.896Z"
   },
   {
    "duration": 22,
    "start_time": "2022-05-23T19:07:36.951Z"
   },
   {
    "duration": 4,
    "start_time": "2022-05-23T19:07:36.975Z"
   },
   {
    "duration": 25,
    "start_time": "2022-05-23T19:07:36.982Z"
   },
   {
    "duration": 3,
    "start_time": "2022-05-23T19:07:37.010Z"
   },
   {
    "duration": 11,
    "start_time": "2022-05-23T19:07:37.015Z"
   },
   {
    "duration": 23,
    "start_time": "2022-05-23T19:07:37.027Z"
   },
   {
    "duration": 11,
    "start_time": "2022-05-23T19:07:37.052Z"
   },
   {
    "duration": 35,
    "start_time": "2022-05-23T19:07:37.065Z"
   },
   {
    "duration": 40,
    "start_time": "2022-05-23T19:07:37.102Z"
   },
   {
    "duration": 5,
    "start_time": "2022-05-23T19:07:37.143Z"
   },
   {
    "duration": 6,
    "start_time": "2022-05-23T19:07:37.150Z"
   },
   {
    "duration": 40,
    "start_time": "2022-05-23T19:07:37.160Z"
   },
   {
    "duration": 22,
    "start_time": "2022-05-23T19:07:37.202Z"
   },
   {
    "duration": 7,
    "start_time": "2022-05-23T19:07:37.226Z"
   },
   {
    "duration": 6,
    "start_time": "2022-05-23T19:07:37.234Z"
   },
   {
    "duration": 10,
    "start_time": "2022-05-23T19:07:37.241Z"
   },
   {
    "duration": 443,
    "start_time": "2022-05-23T19:07:37.253Z"
   },
   {
    "duration": 11,
    "start_time": "2022-05-23T19:07:37.698Z"
   },
   {
    "duration": 10,
    "start_time": "2022-05-23T19:07:37.711Z"
   },
   {
    "duration": 323,
    "start_time": "2022-05-23T19:07:37.723Z"
   },
   {
    "duration": 9,
    "start_time": "2022-05-23T19:07:38.048Z"
   },
   {
    "duration": 42,
    "start_time": "2022-05-23T19:07:38.059Z"
   },
   {
    "duration": 392,
    "start_time": "2022-05-23T19:07:38.105Z"
   },
   {
    "duration": 3,
    "start_time": "2022-05-23T19:07:38.499Z"
   },
   {
    "duration": 958,
    "start_time": "2022-05-23T19:07:38.503Z"
   },
   {
    "duration": 160,
    "start_time": "2022-05-23T19:07:39.463Z"
   },
   {
    "duration": 5,
    "start_time": "2022-05-23T19:07:39.625Z"
   },
   {
    "duration": 243,
    "start_time": "2022-05-23T19:07:39.632Z"
   },
   {
    "duration": 474,
    "start_time": "2022-05-23T19:07:39.876Z"
   },
   {
    "duration": 3,
    "start_time": "2022-05-23T19:07:40.351Z"
   },
   {
    "duration": 2883,
    "start_time": "2022-05-23T19:07:40.355Z"
   },
   {
    "duration": 13,
    "start_time": "2022-05-23T19:07:43.240Z"
   },
   {
    "duration": 829,
    "start_time": "2022-05-23T19:07:43.254Z"
   },
   {
    "duration": 17,
    "start_time": "2022-05-23T19:07:44.087Z"
   },
   {
    "duration": 63,
    "start_time": "2022-05-23T19:07:44.106Z"
   },
   {
    "duration": 6,
    "start_time": "2022-05-23T19:07:44.171Z"
   },
   {
    "duration": 466,
    "start_time": "2022-05-23T19:07:44.178Z"
   },
   {
    "duration": 4,
    "start_time": "2022-05-23T19:07:44.646Z"
   },
   {
    "duration": 520,
    "start_time": "2022-05-23T19:07:44.655Z"
   },
   {
    "duration": 15,
    "start_time": "2022-05-23T19:07:45.177Z"
   },
   {
    "duration": 551,
    "start_time": "2022-05-23T19:07:45.194Z"
   },
   {
    "duration": 28,
    "start_time": "2022-05-23T19:07:45.754Z"
   },
   {
    "duration": 0,
    "start_time": "2022-05-23T19:07:45.789Z"
   },
   {
    "duration": 0,
    "start_time": "2022-05-23T19:07:45.791Z"
   },
   {
    "duration": 0,
    "start_time": "2022-05-23T19:07:45.792Z"
   },
   {
    "duration": 0,
    "start_time": "2022-05-23T19:07:45.793Z"
   },
   {
    "duration": 0,
    "start_time": "2022-05-23T19:07:45.794Z"
   },
   {
    "duration": 0,
    "start_time": "2022-05-23T19:07:45.796Z"
   },
   {
    "duration": 0,
    "start_time": "2022-05-23T19:07:45.797Z"
   },
   {
    "duration": 9,
    "start_time": "2022-05-23T19:08:45.067Z"
   },
   {
    "duration": 462,
    "start_time": "2022-05-23T19:08:45.552Z"
   },
   {
    "duration": 6,
    "start_time": "2022-05-23T19:08:46.875Z"
   },
   {
    "duration": 9,
    "start_time": "2022-05-23T19:08:47.868Z"
   },
   {
    "duration": 446,
    "start_time": "2022-05-23T19:08:48.183Z"
   },
   {
    "duration": 5,
    "start_time": "2022-05-23T19:08:48.702Z"
   },
   {
    "duration": 10,
    "start_time": "2022-05-23T19:09:43.268Z"
   },
   {
    "duration": 5,
    "start_time": "2022-05-23T19:09:50.259Z"
   },
   {
    "duration": 1108,
    "start_time": "2022-05-23T19:10:44.383Z"
   },
   {
    "duration": 53,
    "start_time": "2022-05-23T19:10:45.494Z"
   },
   {
    "duration": 21,
    "start_time": "2022-05-23T19:10:45.548Z"
   },
   {
    "duration": 3,
    "start_time": "2022-05-23T19:10:45.571Z"
   },
   {
    "duration": 23,
    "start_time": "2022-05-23T19:10:45.576Z"
   },
   {
    "duration": 133,
    "start_time": "2022-05-23T19:10:45.601Z"
   },
   {
    "duration": 9,
    "start_time": "2022-05-23T19:11:03.193Z"
   },
   {
    "duration": 3,
    "start_time": "2022-05-23T19:11:19.471Z"
   },
   {
    "duration": 5,
    "start_time": "2022-05-23T19:11:21.614Z"
   },
   {
    "duration": 14,
    "start_time": "2022-05-23T19:11:24.761Z"
   },
   {
    "duration": 6,
    "start_time": "2022-05-23T19:11:38.418Z"
   },
   {
    "duration": 12,
    "start_time": "2022-05-23T19:11:45.369Z"
   },
   {
    "duration": 7,
    "start_time": "2022-05-23T19:11:46.711Z"
   },
   {
    "duration": 9,
    "start_time": "2022-05-23T19:12:55.969Z"
   },
   {
    "duration": 3,
    "start_time": "2022-05-23T19:14:06.077Z"
   },
   {
    "duration": 66,
    "start_time": "2022-05-23T19:14:06.082Z"
   },
   {
    "duration": 16,
    "start_time": "2022-05-23T19:14:06.150Z"
   },
   {
    "duration": 6,
    "start_time": "2022-05-23T19:14:06.168Z"
   },
   {
    "duration": 20,
    "start_time": "2022-05-23T19:14:06.176Z"
   },
   {
    "duration": 3,
    "start_time": "2022-05-23T19:14:06.199Z"
   },
   {
    "duration": 6,
    "start_time": "2022-05-23T19:14:06.204Z"
   },
   {
    "duration": 14,
    "start_time": "2022-05-23T19:14:06.211Z"
   },
   {
    "duration": 5,
    "start_time": "2022-05-23T19:14:06.227Z"
   },
   {
    "duration": 445,
    "start_time": "2022-05-23T19:14:15.063Z"
   },
   {
    "duration": 7,
    "start_time": "2022-05-23T19:14:27.360Z"
   },
   {
    "duration": 5,
    "start_time": "2022-05-23T19:26:30.912Z"
   },
   {
    "duration": 93,
    "start_time": "2022-05-23T19:26:30.920Z"
   },
   {
    "duration": 26,
    "start_time": "2022-05-23T19:26:31.017Z"
   },
   {
    "duration": 15,
    "start_time": "2022-05-23T19:26:31.046Z"
   },
   {
    "duration": 61,
    "start_time": "2022-05-23T19:26:31.063Z"
   },
   {
    "duration": 25,
    "start_time": "2022-05-23T19:26:31.126Z"
   },
   {
    "duration": 30,
    "start_time": "2022-05-23T19:26:31.153Z"
   },
   {
    "duration": 41,
    "start_time": "2022-05-23T19:26:31.185Z"
   },
   {
    "duration": 28,
    "start_time": "2022-05-23T19:26:31.230Z"
   },
   {
    "duration": 52,
    "start_time": "2022-05-23T19:26:31.261Z"
   },
   {
    "duration": 374,
    "start_time": "2022-05-23T19:26:31.315Z"
   },
   {
    "duration": 7,
    "start_time": "2022-05-23T19:26:36.760Z"
   },
   {
    "duration": 9,
    "start_time": "2022-05-23T19:26:40.294Z"
   },
   {
    "duration": 8,
    "start_time": "2022-05-23T19:26:44.252Z"
   },
   {
    "duration": 32,
    "start_time": "2022-05-23T19:27:12.928Z"
   },
   {
    "duration": 28,
    "start_time": "2022-05-23T19:27:13.898Z"
   },
   {
    "duration": 4,
    "start_time": "2022-05-23T19:27:30.164Z"
   },
   {
    "duration": 11,
    "start_time": "2022-05-23T19:28:04.727Z"
   },
   {
    "duration": 5,
    "start_time": "2022-05-23T19:29:56.266Z"
   },
   {
    "duration": 12,
    "start_time": "2022-05-23T19:29:58.660Z"
   },
   {
    "duration": 668,
    "start_time": "2022-05-23T19:29:59.760Z"
   },
   {
    "duration": 10,
    "start_time": "2022-05-23T19:37:07.191Z"
   },
   {
    "duration": 7,
    "start_time": "2022-05-23T19:37:09.070Z"
   },
   {
    "duration": 245,
    "start_time": "2022-05-23T19:37:11.012Z"
   },
   {
    "duration": 12,
    "start_time": "2022-05-23T19:38:34.492Z"
   },
   {
    "duration": 303,
    "start_time": "2022-05-23T19:38:35.201Z"
   },
   {
    "duration": 9,
    "start_time": "2022-05-23T19:38:41.321Z"
   },
   {
    "duration": 18,
    "start_time": "2022-05-23T19:39:44.071Z"
   },
   {
    "duration": 344,
    "start_time": "2022-05-23T19:39:47.590Z"
   },
   {
    "duration": 1078,
    "start_time": "2022-05-23T19:40:03.670Z"
   },
   {
    "duration": 1349,
    "start_time": "2022-05-23T19:40:27.589Z"
   },
   {
    "duration": 6,
    "start_time": "2022-05-23T19:49:51.524Z"
   },
   {
    "duration": 219,
    "start_time": "2022-05-23T19:50:04.146Z"
   },
   {
    "duration": 490,
    "start_time": "2022-05-23T19:50:13.940Z"
   },
   {
    "duration": 3213,
    "start_time": "2022-05-23T19:58:18.988Z"
   },
   {
    "duration": 184,
    "start_time": "2022-05-23T20:02:52.745Z"
   },
   {
    "duration": 6,
    "start_time": "2022-05-23T20:03:33.511Z"
   },
   {
    "duration": 17,
    "start_time": "2022-05-23T20:03:55.659Z"
   },
   {
    "duration": 7,
    "start_time": "2022-05-23T20:04:36.188Z"
   },
   {
    "duration": 63,
    "start_time": "2022-05-23T20:04:36.198Z"
   },
   {
    "duration": 17,
    "start_time": "2022-05-23T20:04:36.263Z"
   },
   {
    "duration": 24,
    "start_time": "2022-05-23T20:04:36.282Z"
   },
   {
    "duration": 21,
    "start_time": "2022-05-23T20:04:36.309Z"
   },
   {
    "duration": 4,
    "start_time": "2022-05-23T20:04:36.332Z"
   },
   {
    "duration": 7,
    "start_time": "2022-05-23T20:04:36.338Z"
   },
   {
    "duration": 14,
    "start_time": "2022-05-23T20:04:36.347Z"
   },
   {
    "duration": 14,
    "start_time": "2022-05-23T20:04:40.410Z"
   },
   {
    "duration": 8,
    "start_time": "2022-05-23T20:04:51.639Z"
   },
   {
    "duration": 15,
    "start_time": "2022-05-23T20:04:56.059Z"
   },
   {
    "duration": 9,
    "start_time": "2022-05-23T20:10:44.837Z"
   },
   {
    "duration": 10,
    "start_time": "2022-05-23T20:10:47.923Z"
   },
   {
    "duration": 14,
    "start_time": "2022-05-23T20:10:52.764Z"
   },
   {
    "duration": 9,
    "start_time": "2022-05-23T20:12:25.631Z"
   },
   {
    "duration": 17,
    "start_time": "2022-05-23T20:12:45.947Z"
   },
   {
    "duration": 3,
    "start_time": "2022-05-23T20:17:33.068Z"
   },
   {
    "duration": 74,
    "start_time": "2022-05-23T20:17:33.073Z"
   },
   {
    "duration": 15,
    "start_time": "2022-05-23T20:17:33.149Z"
   },
   {
    "duration": 5,
    "start_time": "2022-05-23T20:17:33.166Z"
   },
   {
    "duration": 18,
    "start_time": "2022-05-23T20:17:33.173Z"
   },
   {
    "duration": 6,
    "start_time": "2022-05-23T20:17:33.193Z"
   },
   {
    "duration": 7,
    "start_time": "2022-05-23T20:17:33.201Z"
   },
   {
    "duration": 20,
    "start_time": "2022-05-23T20:17:33.210Z"
   },
   {
    "duration": 7,
    "start_time": "2022-05-23T20:17:33.233Z"
   },
   {
    "duration": 9,
    "start_time": "2022-05-23T20:17:33.242Z"
   },
   {
    "duration": 72,
    "start_time": "2022-05-23T20:17:33.253Z"
   },
   {
    "duration": 6,
    "start_time": "2022-05-23T20:17:33.327Z"
   },
   {
    "duration": 5,
    "start_time": "2022-05-23T20:17:33.335Z"
   },
   {
    "duration": 7,
    "start_time": "2022-05-23T20:17:33.341Z"
   },
   {
    "duration": 18,
    "start_time": "2022-05-23T20:17:33.349Z"
   },
   {
    "duration": 45,
    "start_time": "2022-05-23T20:17:33.384Z"
   },
   {
    "duration": 23,
    "start_time": "2022-05-23T20:17:33.432Z"
   },
   {
    "duration": 8,
    "start_time": "2022-05-23T20:17:33.456Z"
   },
   {
    "duration": 5,
    "start_time": "2022-05-23T20:17:33.465Z"
   },
   {
    "duration": 22,
    "start_time": "2022-05-23T20:17:33.483Z"
   },
   {
    "duration": 547,
    "start_time": "2022-05-23T20:17:33.506Z"
   },
   {
    "duration": 6,
    "start_time": "2022-05-23T20:17:34.055Z"
   },
   {
    "duration": 413,
    "start_time": "2022-05-23T20:17:34.063Z"
   },
   {
    "duration": 33,
    "start_time": "2022-05-23T20:17:34.479Z"
   },
   {
    "duration": 418,
    "start_time": "2022-05-23T20:17:34.514Z"
   },
   {
    "duration": 2,
    "start_time": "2022-05-23T20:17:34.934Z"
   },
   {
    "duration": 1479,
    "start_time": "2022-05-23T20:17:34.938Z"
   },
   {
    "duration": 10,
    "start_time": "2022-05-23T20:17:36.419Z"
   },
   {
    "duration": 339,
    "start_time": "2022-05-23T20:17:36.431Z"
   },
   {
    "duration": 541,
    "start_time": "2022-05-23T20:17:36.772Z"
   },
   {
    "duration": 5,
    "start_time": "2022-05-23T20:17:37.315Z"
   },
   {
    "duration": 3323,
    "start_time": "2022-05-23T20:17:37.327Z"
   },
   {
    "duration": 13,
    "start_time": "2022-05-23T20:17:40.651Z"
   },
   {
    "duration": 23,
    "start_time": "2022-05-23T20:17:44.795Z"
   },
   {
    "duration": 937,
    "start_time": "2022-05-23T20:17:48.319Z"
   },
   {
    "duration": 20,
    "start_time": "2022-05-23T20:18:37.786Z"
   },
   {
    "duration": 10,
    "start_time": "2022-05-23T20:19:58.446Z"
   },
   {
    "duration": 801,
    "start_time": "2022-05-23T20:23:40.971Z"
   },
   {
    "duration": 431,
    "start_time": "2022-05-23T20:27:47.610Z"
   },
   {
    "duration": 7,
    "start_time": "2022-05-23T20:40:06.084Z"
   },
   {
    "duration": 495,
    "start_time": "2022-05-23T20:40:06.712Z"
   },
   {
    "duration": 5,
    "start_time": "2022-05-23T20:40:16.751Z"
   },
   {
    "duration": 550,
    "start_time": "2022-05-23T20:40:17.840Z"
   },
   {
    "duration": 5,
    "start_time": "2022-05-23T20:40:36.753Z"
   },
   {
    "duration": 689,
    "start_time": "2022-05-23T20:40:37.032Z"
   },
   {
    "duration": 9,
    "start_time": "2022-05-23T20:42:51.158Z"
   },
   {
    "duration": 484,
    "start_time": "2022-05-23T20:42:51.429Z"
   },
   {
    "duration": 5,
    "start_time": "2022-05-23T20:42:52.034Z"
   },
   {
    "duration": 8,
    "start_time": "2022-05-23T20:42:54.549Z"
   },
   {
    "duration": 429,
    "start_time": "2022-05-23T20:42:54.819Z"
   },
   {
    "duration": 5,
    "start_time": "2022-05-23T20:42:55.849Z"
   },
   {
    "duration": 38,
    "start_time": "2022-05-23T21:07:51.425Z"
   },
   {
    "duration": 1061,
    "start_time": "2022-05-23T21:26:06.817Z"
   },
   {
    "duration": 54,
    "start_time": "2022-05-23T21:26:07.879Z"
   },
   {
    "duration": 20,
    "start_time": "2022-05-23T21:26:07.934Z"
   },
   {
    "duration": 8,
    "start_time": "2022-05-23T21:26:07.956Z"
   },
   {
    "duration": 30,
    "start_time": "2022-05-23T21:26:07.966Z"
   },
   {
    "duration": 4,
    "start_time": "2022-05-23T21:26:07.998Z"
   },
   {
    "duration": 11,
    "start_time": "2022-05-23T21:26:08.005Z"
   },
   {
    "duration": 29,
    "start_time": "2022-05-23T21:26:08.018Z"
   },
   {
    "duration": 11,
    "start_time": "2022-05-23T21:26:08.050Z"
   },
   {
    "duration": 23,
    "start_time": "2022-05-23T21:26:08.064Z"
   },
   {
    "duration": 34,
    "start_time": "2022-05-23T21:26:08.089Z"
   },
   {
    "duration": 8,
    "start_time": "2022-05-23T21:26:08.126Z"
   },
   {
    "duration": 12,
    "start_time": "2022-05-23T21:26:08.136Z"
   },
   {
    "duration": 35,
    "start_time": "2022-05-23T21:26:08.150Z"
   },
   {
    "duration": 15,
    "start_time": "2022-05-23T21:26:08.187Z"
   },
   {
    "duration": 24,
    "start_time": "2022-05-23T21:26:08.204Z"
   },
   {
    "duration": 26,
    "start_time": "2022-05-23T21:26:08.231Z"
   },
   {
    "duration": 7,
    "start_time": "2022-05-23T21:26:08.283Z"
   },
   {
    "duration": 10,
    "start_time": "2022-05-23T21:26:08.292Z"
   },
   {
    "duration": 11,
    "start_time": "2022-05-23T21:26:08.303Z"
   },
   {
    "duration": 413,
    "start_time": "2022-05-23T21:26:08.315Z"
   },
   {
    "duration": 7,
    "start_time": "2022-05-23T21:26:08.730Z"
   },
   {
    "duration": 385,
    "start_time": "2022-05-23T21:26:08.738Z"
   },
   {
    "duration": 18,
    "start_time": "2022-05-23T21:26:09.124Z"
   },
   {
    "duration": 314,
    "start_time": "2022-05-23T21:26:09.144Z"
   },
   {
    "duration": 2,
    "start_time": "2022-05-23T21:26:09.460Z"
   },
   {
    "duration": 938,
    "start_time": "2022-05-23T21:26:09.463Z"
   },
   {
    "duration": 6,
    "start_time": "2022-05-23T21:26:10.404Z"
   },
   {
    "duration": 208,
    "start_time": "2022-05-23T21:26:10.411Z"
   },
   {
    "duration": 548,
    "start_time": "2022-05-23T21:26:10.621Z"
   },
   {
    "duration": 3,
    "start_time": "2022-05-23T21:26:11.172Z"
   },
   {
    "duration": 2648,
    "start_time": "2022-05-23T21:26:11.176Z"
   },
   {
    "duration": 15,
    "start_time": "2022-05-23T21:26:13.826Z"
   },
   {
    "duration": 789,
    "start_time": "2022-05-23T21:26:13.842Z"
   },
   {
    "duration": 10,
    "start_time": "2022-05-23T21:26:14.632Z"
   },
   {
    "duration": 68,
    "start_time": "2022-05-23T21:26:14.643Z"
   },
   {
    "duration": 4,
    "start_time": "2022-05-23T21:26:14.713Z"
   },
   {
    "duration": 462,
    "start_time": "2022-05-23T21:26:14.719Z"
   },
   {
    "duration": 4,
    "start_time": "2022-05-23T21:26:15.184Z"
   },
   {
    "duration": 430,
    "start_time": "2022-05-23T21:26:15.189Z"
   },
   {
    "duration": 5,
    "start_time": "2022-05-23T21:26:15.620Z"
   },
   {
    "duration": 466,
    "start_time": "2022-05-23T21:26:15.626Z"
   },
   {
    "duration": 9,
    "start_time": "2022-05-23T21:26:16.094Z"
   },
   {
    "duration": 404,
    "start_time": "2022-05-23T21:26:16.104Z"
   },
   {
    "duration": 5,
    "start_time": "2022-05-23T21:26:16.510Z"
   },
   {
    "duration": 10,
    "start_time": "2022-05-23T21:26:16.516Z"
   },
   {
    "duration": 460,
    "start_time": "2022-05-23T21:26:16.528Z"
   },
   {
    "duration": 6,
    "start_time": "2022-05-23T21:26:16.990Z"
   },
   {
    "duration": 1464,
    "start_time": "2022-05-24T02:59:23.072Z"
   },
   {
    "duration": 123,
    "start_time": "2022-05-24T02:59:24.539Z"
   },
   {
    "duration": 21,
    "start_time": "2022-05-24T02:59:24.664Z"
   },
   {
    "duration": 4,
    "start_time": "2022-05-24T02:59:24.687Z"
   },
   {
    "duration": 25,
    "start_time": "2022-05-24T02:59:24.693Z"
   },
   {
    "duration": 4,
    "start_time": "2022-05-24T02:59:24.720Z"
   },
   {
    "duration": 50,
    "start_time": "2022-05-24T02:59:24.726Z"
   },
   {
    "duration": 20,
    "start_time": "2022-05-24T02:59:24.779Z"
   },
   {
    "duration": 9,
    "start_time": "2022-05-24T02:59:24.801Z"
   },
   {
    "duration": 11,
    "start_time": "2022-05-24T02:59:24.813Z"
   },
   {
    "duration": 42,
    "start_time": "2022-05-24T02:59:24.826Z"
   },
   {
    "duration": 9,
    "start_time": "2022-05-24T02:59:24.871Z"
   },
   {
    "duration": 9,
    "start_time": "2022-05-24T02:59:24.882Z"
   },
   {
    "duration": 9,
    "start_time": "2022-05-24T02:59:24.893Z"
   },
   {
    "duration": 48,
    "start_time": "2022-05-24T02:59:24.904Z"
   },
   {
    "duration": 29,
    "start_time": "2022-05-24T02:59:24.959Z"
   },
   {
    "duration": 25,
    "start_time": "2022-05-24T02:59:24.990Z"
   },
   {
    "duration": 21,
    "start_time": "2022-05-24T02:59:25.017Z"
   },
   {
    "duration": 26,
    "start_time": "2022-05-24T02:59:25.041Z"
   },
   {
    "duration": 20,
    "start_time": "2022-05-24T02:59:25.070Z"
   },
   {
    "duration": 485,
    "start_time": "2022-05-24T02:59:25.092Z"
   },
   {
    "duration": 7,
    "start_time": "2022-05-24T02:59:25.578Z"
   },
   {
    "duration": 427,
    "start_time": "2022-05-24T02:59:25.586Z"
   },
   {
    "duration": 22,
    "start_time": "2022-05-24T02:59:26.014Z"
   },
   {
    "duration": 404,
    "start_time": "2022-05-24T02:59:26.040Z"
   },
   {
    "duration": 2,
    "start_time": "2022-05-24T02:59:26.445Z"
   },
   {
    "duration": 1218,
    "start_time": "2022-05-24T02:59:26.450Z"
   },
   {
    "duration": 6,
    "start_time": "2022-05-24T02:59:27.673Z"
   },
   {
    "duration": 247,
    "start_time": "2022-05-24T02:59:27.681Z"
   },
   {
    "duration": 589,
    "start_time": "2022-05-24T02:59:27.930Z"
   },
   {
    "duration": 3,
    "start_time": "2022-05-24T02:59:28.520Z"
   },
   {
    "duration": 3079,
    "start_time": "2022-05-24T02:59:28.524Z"
   },
   {
    "duration": 22,
    "start_time": "2022-05-24T02:59:31.605Z"
   },
   {
    "duration": 954,
    "start_time": "2022-05-24T02:59:31.629Z"
   },
   {
    "duration": 9,
    "start_time": "2022-05-24T02:59:32.584Z"
   },
   {
    "duration": 108,
    "start_time": "2022-05-24T02:59:32.595Z"
   },
   {
    "duration": 4,
    "start_time": "2022-05-24T02:59:32.704Z"
   },
   {
    "duration": 537,
    "start_time": "2022-05-24T02:59:32.710Z"
   },
   {
    "duration": 7,
    "start_time": "2022-05-24T02:59:33.249Z"
   },
   {
    "duration": 505,
    "start_time": "2022-05-24T02:59:33.259Z"
   },
   {
    "duration": 5,
    "start_time": "2022-05-24T02:59:33.766Z"
   },
   {
    "duration": 566,
    "start_time": "2022-05-24T02:59:33.772Z"
   },
   {
    "duration": 11,
    "start_time": "2022-05-24T02:59:34.340Z"
   },
   {
    "duration": 556,
    "start_time": "2022-05-24T02:59:34.355Z"
   },
   {
    "duration": 6,
    "start_time": "2022-05-24T02:59:34.912Z"
   },
   {
    "duration": 42,
    "start_time": "2022-05-24T02:59:34.919Z"
   },
   {
    "duration": 451,
    "start_time": "2022-05-24T02:59:34.963Z"
   },
   {
    "duration": 5,
    "start_time": "2022-05-24T02:59:35.416Z"
   },
   {
    "duration": 51,
    "start_time": "2022-05-24T03:13:38.619Z"
   },
   {
    "duration": 56,
    "start_time": "2022-05-24T16:50:38.600Z"
   },
   {
    "duration": 1387,
    "start_time": "2022-05-24T16:50:47.808Z"
   },
   {
    "duration": 103,
    "start_time": "2022-05-24T16:50:49.197Z"
   },
   {
    "duration": 20,
    "start_time": "2022-05-24T16:50:49.301Z"
   },
   {
    "duration": 8,
    "start_time": "2022-05-24T16:50:49.323Z"
   },
   {
    "duration": 15,
    "start_time": "2022-05-24T16:50:49.332Z"
   },
   {
    "duration": 3,
    "start_time": "2022-05-24T16:50:49.349Z"
   },
   {
    "duration": 14,
    "start_time": "2022-05-24T16:50:49.354Z"
   },
   {
    "duration": 18,
    "start_time": "2022-05-24T16:50:49.370Z"
   },
   {
    "duration": 5,
    "start_time": "2022-05-24T16:50:49.390Z"
   },
   {
    "duration": 8,
    "start_time": "2022-05-24T16:50:49.397Z"
   },
   {
    "duration": 22,
    "start_time": "2022-05-24T16:50:49.407Z"
   },
   {
    "duration": 5,
    "start_time": "2022-05-24T16:50:49.431Z"
   },
   {
    "duration": 24,
    "start_time": "2022-05-24T16:50:49.437Z"
   },
   {
    "duration": 10,
    "start_time": "2022-05-24T16:50:49.463Z"
   },
   {
    "duration": 13,
    "start_time": "2022-05-24T16:50:49.475Z"
   },
   {
    "duration": 18,
    "start_time": "2022-05-24T16:50:49.490Z"
   },
   {
    "duration": 50,
    "start_time": "2022-05-24T16:50:49.509Z"
   },
   {
    "duration": 10,
    "start_time": "2022-05-24T16:50:49.561Z"
   },
   {
    "duration": 12,
    "start_time": "2022-05-24T16:50:49.573Z"
   },
   {
    "duration": 16,
    "start_time": "2022-05-24T16:50:49.586Z"
   },
   {
    "duration": 427,
    "start_time": "2022-05-24T16:50:49.603Z"
   },
   {
    "duration": 9,
    "start_time": "2022-05-24T16:50:50.032Z"
   },
   {
    "duration": 364,
    "start_time": "2022-05-24T16:50:50.043Z"
   },
   {
    "duration": 18,
    "start_time": "2022-05-24T16:50:50.409Z"
   },
   {
    "duration": 324,
    "start_time": "2022-05-24T16:50:50.429Z"
   },
   {
    "duration": 4,
    "start_time": "2022-05-24T16:50:50.755Z"
   },
   {
    "duration": 989,
    "start_time": "2022-05-24T16:51:26.398Z"
   },
   {
    "duration": 1069,
    "start_time": "2022-05-24T16:51:33.704Z"
   },
   {
    "duration": 35,
    "start_time": "2022-05-24T16:52:25.963Z"
   },
   {
    "duration": 75,
    "start_time": "2022-05-24T16:58:00.913Z"
   },
   {
    "duration": 1061,
    "start_time": "2022-05-24T16:58:09.889Z"
   },
   {
    "duration": 57,
    "start_time": "2022-05-24T16:58:10.952Z"
   },
   {
    "duration": 22,
    "start_time": "2022-05-24T16:58:11.011Z"
   },
   {
    "duration": 4,
    "start_time": "2022-05-24T16:58:11.035Z"
   },
   {
    "duration": 18,
    "start_time": "2022-05-24T16:58:11.040Z"
   },
   {
    "duration": 3,
    "start_time": "2022-05-24T16:58:11.072Z"
   },
   {
    "duration": 9,
    "start_time": "2022-05-24T16:58:11.077Z"
   },
   {
    "duration": 18,
    "start_time": "2022-05-24T16:58:11.088Z"
   },
   {
    "duration": 8,
    "start_time": "2022-05-24T16:58:11.108Z"
   },
   {
    "duration": 10,
    "start_time": "2022-05-24T16:58:11.119Z"
   },
   {
    "duration": 58,
    "start_time": "2022-05-24T16:58:11.131Z"
   },
   {
    "duration": 7,
    "start_time": "2022-05-24T16:58:11.191Z"
   },
   {
    "duration": 5,
    "start_time": "2022-05-24T16:58:11.200Z"
   },
   {
    "duration": 10,
    "start_time": "2022-05-24T16:58:11.207Z"
   },
   {
    "duration": 15,
    "start_time": "2022-05-24T16:58:11.218Z"
   },
   {
    "duration": 39,
    "start_time": "2022-05-24T16:58:11.235Z"
   },
   {
    "duration": 22,
    "start_time": "2022-05-24T16:58:11.275Z"
   },
   {
    "duration": 9,
    "start_time": "2022-05-24T16:58:11.299Z"
   },
   {
    "duration": 7,
    "start_time": "2022-05-24T16:58:11.309Z"
   },
   {
    "duration": 12,
    "start_time": "2022-05-24T16:58:11.318Z"
   },
   {
    "duration": 456,
    "start_time": "2022-05-24T16:58:11.332Z"
   },
   {
    "duration": 6,
    "start_time": "2022-05-24T16:58:11.790Z"
   },
   {
    "duration": 381,
    "start_time": "2022-05-24T16:58:11.798Z"
   },
   {
    "duration": 17,
    "start_time": "2022-05-24T16:58:12.181Z"
   },
   {
    "duration": 334,
    "start_time": "2022-05-24T16:58:12.199Z"
   },
   {
    "duration": 3,
    "start_time": "2022-05-24T16:58:12.534Z"
   },
   {
    "duration": 1029,
    "start_time": "2022-05-24T16:58:12.545Z"
   },
   {
    "duration": 1058,
    "start_time": "2022-05-24T16:58:13.577Z"
   },
   {
    "duration": 12,
    "start_time": "2022-05-24T16:58:14.636Z"
   },
   {
    "duration": 234,
    "start_time": "2022-05-24T16:58:14.650Z"
   },
   {
    "duration": 462,
    "start_time": "2022-05-24T16:58:14.886Z"
   },
   {
    "duration": 3,
    "start_time": "2022-05-24T16:58:15.350Z"
   },
   {
    "duration": 33,
    "start_time": "2022-05-24T16:58:15.354Z"
   },
   {
    "duration": 2904,
    "start_time": "2022-05-24T16:58:15.389Z"
   },
   {
    "duration": 14,
    "start_time": "2022-05-24T16:58:18.295Z"
   },
   {
    "duration": 645,
    "start_time": "2022-05-24T16:58:18.310Z"
   },
   {
    "duration": 10,
    "start_time": "2022-05-24T16:58:18.967Z"
   },
   {
    "duration": 65,
    "start_time": "2022-05-24T16:58:18.978Z"
   },
   {
    "duration": 5,
    "start_time": "2022-05-24T16:58:19.044Z"
   },
   {
    "duration": 447,
    "start_time": "2022-05-24T16:58:19.050Z"
   },
   {
    "duration": 4,
    "start_time": "2022-05-24T16:58:19.499Z"
   },
   {
    "duration": 421,
    "start_time": "2022-05-24T16:58:19.504Z"
   },
   {
    "duration": 4,
    "start_time": "2022-05-24T16:58:19.926Z"
   },
   {
    "duration": 604,
    "start_time": "2022-05-24T16:58:19.932Z"
   },
   {
    "duration": 7,
    "start_time": "2022-05-24T16:58:20.538Z"
   },
   {
    "duration": 441,
    "start_time": "2022-05-24T16:58:20.547Z"
   },
   {
    "duration": 4,
    "start_time": "2022-05-24T16:58:20.990Z"
   },
   {
    "duration": 13,
    "start_time": "2022-05-24T16:58:20.996Z"
   },
   {
    "duration": 459,
    "start_time": "2022-05-24T16:58:21.011Z"
   },
   {
    "duration": 5,
    "start_time": "2022-05-24T16:58:21.474Z"
   },
   {
    "duration": 60,
    "start_time": "2022-05-24T17:05:03.270Z"
   },
   {
    "duration": 42,
    "start_time": "2022-05-24T17:07:49.229Z"
   },
   {
    "duration": 38,
    "start_time": "2022-05-24T17:10:36.579Z"
   },
   {
    "duration": 60,
    "start_time": "2022-05-24T17:11:57.085Z"
   },
   {
    "duration": 62,
    "start_time": "2022-05-24T17:13:05.796Z"
   },
   {
    "duration": 1835,
    "start_time": "2022-05-25T19:22:38.786Z"
   },
   {
    "duration": 3,
    "start_time": "2022-05-25T19:22:45.812Z"
   },
   {
    "duration": 95,
    "start_time": "2022-05-25T19:22:45.819Z"
   },
   {
    "duration": 21,
    "start_time": "2022-05-25T19:22:45.915Z"
   },
   {
    "duration": 4,
    "start_time": "2022-05-25T19:22:45.937Z"
   },
   {
    "duration": 23,
    "start_time": "2022-05-25T19:22:45.944Z"
   },
   {
    "duration": 3,
    "start_time": "2022-05-25T19:22:45.969Z"
   },
   {
    "duration": 8,
    "start_time": "2022-05-25T19:22:45.974Z"
   },
   {
    "duration": 22,
    "start_time": "2022-05-25T19:22:45.984Z"
   },
   {
    "duration": 9,
    "start_time": "2022-05-25T19:22:46.008Z"
   },
   {
    "duration": 36,
    "start_time": "2022-05-25T19:22:46.018Z"
   },
   {
    "duration": 37,
    "start_time": "2022-05-25T19:22:46.058Z"
   },
   {
    "duration": 6,
    "start_time": "2022-05-25T19:22:46.097Z"
   },
   {
    "duration": 7,
    "start_time": "2022-05-25T19:22:46.105Z"
   },
   {
    "duration": 7,
    "start_time": "2022-05-25T19:22:46.151Z"
   },
   {
    "duration": 26,
    "start_time": "2022-05-25T19:22:46.160Z"
   },
   {
    "duration": 27,
    "start_time": "2022-05-25T19:22:46.188Z"
   },
   {
    "duration": 56,
    "start_time": "2022-05-25T19:22:46.217Z"
   },
   {
    "duration": 9,
    "start_time": "2022-05-25T19:22:46.275Z"
   },
   {
    "duration": 10,
    "start_time": "2022-05-25T19:22:46.285Z"
   },
   {
    "duration": 14,
    "start_time": "2022-05-25T19:22:46.296Z"
   },
   {
    "duration": 584,
    "start_time": "2022-05-25T19:22:46.312Z"
   },
   {
    "duration": 9,
    "start_time": "2022-05-25T19:22:46.897Z"
   },
   {
    "duration": 379,
    "start_time": "2022-05-25T19:22:46.908Z"
   },
   {
    "duration": 19,
    "start_time": "2022-05-25T19:22:47.289Z"
   },
   {
    "duration": 373,
    "start_time": "2022-05-25T19:22:47.309Z"
   },
   {
    "duration": 2,
    "start_time": "2022-05-25T19:22:47.686Z"
   },
   {
    "duration": 1089,
    "start_time": "2022-05-25T19:22:47.690Z"
   },
   {
    "duration": 1141,
    "start_time": "2022-05-25T19:22:48.781Z"
   },
   {
    "duration": 6,
    "start_time": "2022-05-25T19:22:49.924Z"
   },
   {
    "duration": 267,
    "start_time": "2022-05-25T19:22:49.931Z"
   },
   {
    "duration": 448,
    "start_time": "2022-05-25T19:22:50.199Z"
   },
   {
    "duration": 3,
    "start_time": "2022-05-25T19:22:50.651Z"
   },
   {
    "duration": 3,
    "start_time": "2022-05-25T19:22:53.111Z"
   },
   {
    "duration": 3237,
    "start_time": "2022-05-25T19:22:53.753Z"
   },
   {
    "duration": 3175,
    "start_time": "2022-05-25T19:30:36.310Z"
   },
   {
    "duration": 1774,
    "start_time": "2022-05-26T09:27:37.633Z"
   },
   {
    "duration": 101,
    "start_time": "2022-05-26T09:27:39.410Z"
   },
   {
    "duration": 22,
    "start_time": "2022-05-26T09:27:39.513Z"
   },
   {
    "duration": 4,
    "start_time": "2022-05-26T09:27:39.537Z"
   },
   {
    "duration": 19,
    "start_time": "2022-05-26T09:27:39.542Z"
   },
   {
    "duration": 4,
    "start_time": "2022-05-26T09:27:39.564Z"
   },
   {
    "duration": 11,
    "start_time": "2022-05-26T09:27:39.569Z"
   },
   {
    "duration": 19,
    "start_time": "2022-05-26T09:27:39.582Z"
   },
   {
    "duration": 7,
    "start_time": "2022-05-26T09:27:39.603Z"
   },
   {
    "duration": 12,
    "start_time": "2022-05-26T09:27:39.612Z"
   },
   {
    "duration": 47,
    "start_time": "2022-05-26T09:27:39.626Z"
   },
   {
    "duration": 7,
    "start_time": "2022-05-26T09:27:39.675Z"
   },
   {
    "duration": 8,
    "start_time": "2022-05-26T09:27:39.683Z"
   },
   {
    "duration": 8,
    "start_time": "2022-05-26T09:27:39.693Z"
   },
   {
    "duration": 15,
    "start_time": "2022-05-26T09:27:39.703Z"
   },
   {
    "duration": 49,
    "start_time": "2022-05-26T09:27:39.720Z"
   },
   {
    "duration": 24,
    "start_time": "2022-05-26T09:27:39.771Z"
   },
   {
    "duration": 7,
    "start_time": "2022-05-26T09:27:39.797Z"
   },
   {
    "duration": 5,
    "start_time": "2022-05-26T09:27:39.806Z"
   },
   {
    "duration": 15,
    "start_time": "2022-05-26T09:27:39.812Z"
   },
   {
    "duration": 506,
    "start_time": "2022-05-26T09:27:39.828Z"
   },
   {
    "duration": 9,
    "start_time": "2022-05-26T09:27:40.336Z"
   },
   {
    "duration": 449,
    "start_time": "2022-05-26T09:27:40.347Z"
   },
   {
    "duration": 24,
    "start_time": "2022-05-26T09:27:40.799Z"
   },
   {
    "duration": 452,
    "start_time": "2022-05-26T09:27:40.826Z"
   },
   {
    "duration": 3,
    "start_time": "2022-05-26T09:27:41.280Z"
   },
   {
    "duration": 1076,
    "start_time": "2022-05-26T09:27:41.285Z"
   },
   {
    "duration": 1175,
    "start_time": "2022-05-26T09:27:42.365Z"
   },
   {
    "duration": 6,
    "start_time": "2022-05-26T09:27:47.501Z"
   },
   {
    "duration": 194,
    "start_time": "2022-05-26T09:28:32.239Z"
   },
   {
    "duration": 193,
    "start_time": "2022-05-26T09:28:44.344Z"
   },
   {
    "duration": 180,
    "start_time": "2022-05-26T09:28:52.111Z"
   },
   {
    "duration": 398,
    "start_time": "2022-05-26T09:31:36.021Z"
   },
   {
    "duration": 2106,
    "start_time": "2022-05-26T09:35:09.366Z"
   },
   {
    "duration": 1659,
    "start_time": "2022-05-26T09:46:00.363Z"
   },
   {
    "duration": 1499,
    "start_time": "2022-05-26T09:47:28.221Z"
   },
   {
    "duration": 1587,
    "start_time": "2022-05-26T09:49:02.319Z"
   },
   {
    "duration": 1535,
    "start_time": "2022-05-26T09:49:14.397Z"
   },
   {
    "duration": 15,
    "start_time": "2022-05-26T09:50:53.176Z"
   },
   {
    "duration": 650,
    "start_time": "2022-05-26T09:51:06.991Z"
   },
   {
    "duration": 10,
    "start_time": "2022-05-26T09:52:57.432Z"
   },
   {
    "duration": 384,
    "start_time": "2022-05-26T09:54:06.880Z"
   },
   {
    "duration": 1520,
    "start_time": "2022-05-26T09:56:59.048Z"
   },
   {
    "duration": 1728,
    "start_time": "2022-05-26T09:57:51.757Z"
   },
   {
    "duration": 1762,
    "start_time": "2022-05-26T09:58:32.140Z"
   },
   {
    "duration": 1724,
    "start_time": "2022-05-26T09:58:42.043Z"
   },
   {
    "duration": 1820,
    "start_time": "2022-05-26T10:04:16.505Z"
   },
   {
    "duration": 1778,
    "start_time": "2022-05-26T10:05:48.560Z"
   },
   {
    "duration": 4,
    "start_time": "2022-05-26T10:08:29.787Z"
   },
   {
    "duration": 601,
    "start_time": "2022-05-26T10:08:30.634Z"
   },
   {
    "duration": 439,
    "start_time": "2022-05-26T10:08:46.074Z"
   },
   {
    "duration": 441,
    "start_time": "2022-05-26T10:08:55.555Z"
   },
   {
    "duration": 4,
    "start_time": "2022-05-26T10:09:06.275Z"
   },
   {
    "duration": 446,
    "start_time": "2022-05-26T10:09:07.745Z"
   },
   {
    "duration": 4,
    "start_time": "2022-05-26T10:09:18.099Z"
   },
   {
    "duration": 511,
    "start_time": "2022-05-26T10:09:18.579Z"
   },
   {
    "duration": 5,
    "start_time": "2022-05-26T10:19:39.245Z"
   },
   {
    "duration": 431,
    "start_time": "2022-05-26T10:19:39.722Z"
   },
   {
    "duration": 5,
    "start_time": "2022-05-26T10:19:48.811Z"
   },
   {
    "duration": 440,
    "start_time": "2022-05-26T10:19:50.219Z"
   },
   {
    "duration": 594,
    "start_time": "2022-05-26T10:20:12.164Z"
   },
   {
    "duration": 5,
    "start_time": "2022-05-26T10:21:28.499Z"
   },
   {
    "duration": 455,
    "start_time": "2022-05-26T10:21:29.345Z"
   },
   {
    "duration": 4,
    "start_time": "2022-05-26T10:24:00.593Z"
   },
   {
    "duration": 435,
    "start_time": "2022-05-26T10:24:03.103Z"
   },
   {
    "duration": 4,
    "start_time": "2022-05-26T10:24:09.920Z"
   },
   {
    "duration": 438,
    "start_time": "2022-05-26T10:24:11.458Z"
   },
   {
    "duration": 432,
    "start_time": "2022-05-26T10:24:40.408Z"
   },
   {
    "duration": 12,
    "start_time": "2022-05-26T10:27:00.161Z"
   },
   {
    "duration": 483,
    "start_time": "2022-05-26T10:27:00.641Z"
   },
   {
    "duration": 125,
    "start_time": "2022-05-26T10:31:32.792Z"
   },
   {
    "duration": 12,
    "start_time": "2022-05-26T10:31:42.949Z"
   },
   {
    "duration": 14,
    "start_time": "2022-05-26T10:34:17.842Z"
   },
   {
    "duration": 12,
    "start_time": "2022-05-26T10:34:50.274Z"
   },
   {
    "duration": 5,
    "start_time": "2022-05-26T10:35:33.340Z"
   },
   {
    "duration": 18,
    "start_time": "2022-05-26T10:36:12.618Z"
   },
   {
    "duration": 6,
    "start_time": "2022-05-26T10:36:32.834Z"
   },
   {
    "duration": 5,
    "start_time": "2022-05-26T10:37:39.492Z"
   },
   {
    "duration": 15,
    "start_time": "2022-05-26T10:38:08.404Z"
   },
   {
    "duration": 12,
    "start_time": "2022-05-26T10:38:42.381Z"
   },
   {
    "duration": 5,
    "start_time": "2022-05-26T10:39:08.316Z"
   },
   {
    "duration": 7,
    "start_time": "2022-05-26T10:39:22.125Z"
   },
   {
    "duration": 12,
    "start_time": "2022-05-26T10:39:52.940Z"
   },
   {
    "duration": 14,
    "start_time": "2022-05-26T10:40:04.318Z"
   },
   {
    "duration": 10,
    "start_time": "2022-05-26T10:40:12.453Z"
   },
   {
    "duration": 19,
    "start_time": "2022-05-26T10:40:17.854Z"
   },
   {
    "duration": 32,
    "start_time": "2022-05-26T10:40:43.485Z"
   },
   {
    "duration": 8,
    "start_time": "2022-05-26T10:40:47.478Z"
   },
   {
    "duration": 11,
    "start_time": "2022-05-26T10:41:11.817Z"
   },
   {
    "duration": 47,
    "start_time": "2022-05-26T10:42:34.543Z"
   },
   {
    "duration": 42,
    "start_time": "2022-05-26T10:42:45.960Z"
   },
   {
    "duration": 29,
    "start_time": "2022-05-26T10:42:56.719Z"
   },
   {
    "duration": 42,
    "start_time": "2022-05-26T10:43:19.144Z"
   },
   {
    "duration": 18,
    "start_time": "2022-05-26T10:46:26.836Z"
   },
   {
    "duration": 25,
    "start_time": "2022-05-26T10:46:38.010Z"
   },
   {
    "duration": 12,
    "start_time": "2022-05-26T10:47:12.484Z"
   },
   {
    "duration": 28,
    "start_time": "2022-05-26T10:47:19.795Z"
   },
   {
    "duration": 11,
    "start_time": "2022-05-26T10:47:37.282Z"
   },
   {
    "duration": 9,
    "start_time": "2022-05-26T10:47:52.580Z"
   },
   {
    "duration": 10,
    "start_time": "2022-05-26T10:48:37.996Z"
   },
   {
    "duration": 10,
    "start_time": "2022-05-26T10:48:44.641Z"
   },
   {
    "duration": 9,
    "start_time": "2022-05-26T10:48:50.492Z"
   },
   {
    "duration": 7,
    "start_time": "2022-05-26T10:48:56.876Z"
   },
   {
    "duration": 10,
    "start_time": "2022-05-26T10:49:08.812Z"
   },
   {
    "duration": 12,
    "start_time": "2022-05-26T10:49:45.226Z"
   },
   {
    "duration": 10,
    "start_time": "2022-05-26T10:49:54.175Z"
   },
   {
    "duration": 68,
    "start_time": "2022-05-26T10:50:26.109Z"
   },
   {
    "duration": 22,
    "start_time": "2022-05-26T10:50:30.661Z"
   },
   {
    "duration": 6,
    "start_time": "2022-05-26T10:51:34.489Z"
   },
   {
    "duration": 7,
    "start_time": "2022-05-26T10:51:45.175Z"
   },
   {
    "duration": 8,
    "start_time": "2022-05-26T10:53:24.206Z"
   },
   {
    "duration": 5,
    "start_time": "2022-05-26T10:53:37.348Z"
   },
   {
    "duration": 6,
    "start_time": "2022-05-26T10:54:01.309Z"
   },
   {
    "duration": 6,
    "start_time": "2022-05-26T10:54:22.940Z"
   },
   {
    "duration": 6,
    "start_time": "2022-05-26T10:54:53.990Z"
   },
   {
    "duration": 5,
    "start_time": "2022-05-26T10:54:56.565Z"
   },
   {
    "duration": 452,
    "start_time": "2022-05-26T10:54:57.773Z"
   },
   {
    "duration": 4,
    "start_time": "2022-05-26T10:56:24.727Z"
   },
   {
    "duration": 5,
    "start_time": "2022-05-26T10:56:25.083Z"
   },
   {
    "duration": 648,
    "start_time": "2022-05-26T10:56:25.503Z"
   },
   {
    "duration": 19,
    "start_time": "2022-05-26T11:03:09.860Z"
   },
   {
    "duration": 493,
    "start_time": "2022-05-26T11:03:16.688Z"
   },
   {
    "duration": 5,
    "start_time": "2022-05-26T11:04:56.895Z"
   },
   {
    "duration": 8,
    "start_time": "2022-05-26T11:06:01.006Z"
   },
   {
    "duration": 448,
    "start_time": "2022-05-26T11:06:02.100Z"
   },
   {
    "duration": 5,
    "start_time": "2022-05-26T11:06:18.146Z"
   },
   {
    "duration": 224,
    "start_time": "2022-05-26T18:54:52.722Z"
   },
   {
    "duration": 1492,
    "start_time": "2022-05-26T19:00:45.592Z"
   },
   {
    "duration": 1556,
    "start_time": "2022-05-26T19:00:59.747Z"
   },
   {
    "duration": 1136,
    "start_time": "2022-05-26T19:13:38.139Z"
   },
   {
    "duration": 56,
    "start_time": "2022-05-26T19:13:39.276Z"
   },
   {
    "duration": 27,
    "start_time": "2022-05-26T19:13:39.336Z"
   },
   {
    "duration": 5,
    "start_time": "2022-05-26T19:13:39.365Z"
   },
   {
    "duration": 21,
    "start_time": "2022-05-26T19:13:39.372Z"
   },
   {
    "duration": 4,
    "start_time": "2022-05-26T19:13:39.395Z"
   },
   {
    "duration": 8,
    "start_time": "2022-05-26T19:13:39.401Z"
   },
   {
    "duration": 15,
    "start_time": "2022-05-26T19:13:39.410Z"
   },
   {
    "duration": 13,
    "start_time": "2022-05-26T19:13:39.428Z"
   },
   {
    "duration": 9,
    "start_time": "2022-05-26T19:13:39.465Z"
   },
   {
    "duration": 35,
    "start_time": "2022-05-26T19:13:39.476Z"
   },
   {
    "duration": 6,
    "start_time": "2022-05-26T19:13:39.513Z"
   },
   {
    "duration": 8,
    "start_time": "2022-05-26T19:13:39.521Z"
   },
   {
    "duration": 35,
    "start_time": "2022-05-26T19:13:39.531Z"
   },
   {
    "duration": 27,
    "start_time": "2022-05-26T19:13:39.569Z"
   },
   {
    "duration": 29,
    "start_time": "2022-05-26T19:13:39.598Z"
   },
   {
    "duration": 21,
    "start_time": "2022-05-26T19:13:39.631Z"
   },
   {
    "duration": 9,
    "start_time": "2022-05-26T19:13:39.665Z"
   },
   {
    "duration": 10,
    "start_time": "2022-05-26T19:13:39.676Z"
   },
   {
    "duration": 11,
    "start_time": "2022-05-26T19:13:39.688Z"
   },
   {
    "duration": 464,
    "start_time": "2022-05-26T19:13:39.701Z"
   },
   {
    "duration": 12,
    "start_time": "2022-05-26T19:13:40.167Z"
   },
   {
    "duration": 416,
    "start_time": "2022-05-26T19:13:40.183Z"
   },
   {
    "duration": 17,
    "start_time": "2022-05-26T19:13:40.600Z"
   },
   {
    "duration": 335,
    "start_time": "2022-05-26T19:13:40.619Z"
   },
   {
    "duration": 2,
    "start_time": "2022-05-26T19:13:40.956Z"
   },
   {
    "duration": 1025,
    "start_time": "2022-05-26T19:13:40.966Z"
   },
   {
    "duration": 1071,
    "start_time": "2022-05-26T19:13:41.993Z"
   },
   {
    "duration": 5,
    "start_time": "2022-05-26T19:13:43.065Z"
   },
   {
    "duration": 192,
    "start_time": "2022-05-26T19:13:43.072Z"
   },
   {
    "duration": 383,
    "start_time": "2022-05-26T19:13:43.266Z"
   },
   {
    "duration": 3,
    "start_time": "2022-05-26T19:13:43.651Z"
   },
   {
    "duration": 1496,
    "start_time": "2022-05-26T19:13:43.655Z"
   },
   {
    "duration": 16,
    "start_time": "2022-05-26T19:13:45.153Z"
   },
   {
    "duration": 600,
    "start_time": "2022-05-26T19:13:45.171Z"
   },
   {
    "duration": 8,
    "start_time": "2022-05-26T19:13:45.773Z"
   },
   {
    "duration": 52,
    "start_time": "2022-05-26T19:13:45.783Z"
   },
   {
    "duration": 1712,
    "start_time": "2022-05-26T19:13:45.837Z"
   },
   {
    "duration": 5,
    "start_time": "2022-05-26T19:13:47.551Z"
   },
   {
    "duration": 569,
    "start_time": "2022-05-26T19:13:47.564Z"
   },
   {
    "duration": 4,
    "start_time": "2022-05-26T19:13:48.135Z"
   },
   {
    "duration": 453,
    "start_time": "2022-05-26T19:13:48.140Z"
   },
   {
    "duration": 4,
    "start_time": "2022-05-26T19:13:48.595Z"
   },
   {
    "duration": 5,
    "start_time": "2022-05-26T19:13:48.600Z"
   },
   {
    "duration": 456,
    "start_time": "2022-05-26T19:13:48.607Z"
   },
   {
    "duration": 9,
    "start_time": "2022-05-26T19:13:49.066Z"
   },
   {
    "duration": 485,
    "start_time": "2022-05-26T19:13:49.078Z"
   },
   {
    "duration": 4,
    "start_time": "2022-05-26T19:13:49.565Z"
   },
   {
    "duration": 12,
    "start_time": "2022-05-26T19:13:49.571Z"
   },
   {
    "duration": 400,
    "start_time": "2022-05-26T19:13:49.585Z"
   },
   {
    "duration": 5,
    "start_time": "2022-05-26T19:13:49.987Z"
   }
  ],
  "kernelspec": {
   "display_name": "Python 3 (ipykernel)",
   "language": "python",
   "name": "python3"
  },
  "language_info": {
   "codemirror_mode": {
    "name": "ipython",
    "version": 3
   },
   "file_extension": ".py",
   "mimetype": "text/x-python",
   "name": "python",
   "nbconvert_exporter": "python",
   "pygments_lexer": "ipython3",
   "version": "3.9.5"
  },
  "toc": {
   "base_numbering": 1,
   "nav_menu": {},
   "number_sections": true,
   "sideBar": true,
   "skip_h1_title": true,
   "title_cell": "Table of Contents",
   "title_sidebar": "Contents",
   "toc_cell": false,
   "toc_position": {
    "height": "calc(100% - 180px)",
    "left": "10px",
    "top": "150px",
    "width": "409.097px"
   },
   "toc_section_display": true,
   "toc_window_display": true
  }
 },
 "nbformat": 4,
 "nbformat_minor": 2
}
