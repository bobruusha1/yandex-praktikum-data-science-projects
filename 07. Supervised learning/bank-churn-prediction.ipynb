{
 "cells": [
  {
   "cell_type": "markdown",
   "metadata": {
    "toc": true
   },
   "source": [
    "<h1>Содержание<span class=\"tocSkip\"></span></h1>\n",
    "<div class=\"toc\"><ul class=\"toc-item\"><li><span><a href=\"#Подготовка-данных\" data-toc-modified-id=\"Подготовка-данных-1\"><span class=\"toc-item-num\">1&nbsp;&nbsp;</span>Подготовка данных</a></span><ul class=\"toc-item\"><li><span><a href=\"#Проверка-на-уникальные-значения-всех-столбцов\" data-toc-modified-id=\"Проверка-на-уникальные-значения-всех-столбцов-1.1\"><span class=\"toc-item-num\">1.1&nbsp;&nbsp;</span>Проверка на уникальные значения всех столбцов</a></span></li><li><span><a href=\"#Выбор-признаков\" data-toc-modified-id=\"Выбор-признаков-1.2\"><span class=\"toc-item-num\">1.2&nbsp;&nbsp;</span>Выбор признаков</a></span></li><li><span><a href=\"#Сбалансированность-таргетов\" data-toc-modified-id=\"Сбалансированность-таргетов-1.3\"><span class=\"toc-item-num\">1.3&nbsp;&nbsp;</span>Сбалансированность таргетов</a></span></li><li><span><a href=\"#Прямое-кодирование\" data-toc-modified-id=\"Прямое-кодирование-1.4\"><span class=\"toc-item-num\">1.4&nbsp;&nbsp;</span>Прямое кодирование</a></span></li><li><span><a href=\"#Деление-на-выборки\" data-toc-modified-id=\"Деление-на-выборки-1.5\"><span class=\"toc-item-num\">1.5&nbsp;&nbsp;</span>Деление на выборки</a></span></li><li><span><a href=\"#Масштабирование-признаков\" data-toc-modified-id=\"Масштабирование-признаков-1.6\"><span class=\"toc-item-num\">1.6&nbsp;&nbsp;</span>Масштабирование признаков</a></span></li></ul></li><li><span><a href=\"#Исследование-задачи\" data-toc-modified-id=\"Исследование-задачи-2\"><span class=\"toc-item-num\">2&nbsp;&nbsp;</span>Исследование задачи</a></span><ul class=\"toc-item\"><li><span><a href=\"#Решающее-дерево\" data-toc-modified-id=\"Решающее-дерево-2.1\"><span class=\"toc-item-num\">2.1&nbsp;&nbsp;</span>Решающее дерево</a></span></li><li><span><a href=\"#Случайный-лес\" data-toc-modified-id=\"Случайный-лес-2.2\"><span class=\"toc-item-num\">2.2&nbsp;&nbsp;</span>Случайный лес</a></span></li><li><span><a href=\"#Логистическая-регрессия\" data-toc-modified-id=\"Логистическая-регрессия-2.3\"><span class=\"toc-item-num\">2.3&nbsp;&nbsp;</span>Логистическая регрессия</a></span></li><li><span><a href=\"#ROC-кривой-для-каждой-модели\" data-toc-modified-id=\"ROC-кривой-для-каждой-модели-2.4\"><span class=\"toc-item-num\">2.4&nbsp;&nbsp;</span>ROC-кривой для каждой модели</a></span></li></ul></li><li><span><a href=\"#Борьба-с-дисбалансом\" data-toc-modified-id=\"Борьба-с-дисбалансом-3\"><span class=\"toc-item-num\">3&nbsp;&nbsp;</span>Борьба с дисбалансом</a></span><ul class=\"toc-item\"><li><span><a href=\"#Взвешивание-классов\" data-toc-modified-id=\"Взвешивание-классов-3.1\"><span class=\"toc-item-num\">3.1&nbsp;&nbsp;</span>Взвешивание классов</a></span><ul class=\"toc-item\"><li><span><a href=\"#Решающее-дерево\" data-toc-modified-id=\"Решающее-дерево-3.1.1\"><span class=\"toc-item-num\">3.1.1&nbsp;&nbsp;</span>Решающее дерево</a></span></li><li><span><a href=\"#Случайный-лес\" data-toc-modified-id=\"Случайный-лес-3.1.2\"><span class=\"toc-item-num\">3.1.2&nbsp;&nbsp;</span>Случайный лес</a></span></li><li><span><a href=\"#Логистическая-регрессия\" data-toc-modified-id=\"Логистическая-регрессия-3.1.3\"><span class=\"toc-item-num\">3.1.3&nbsp;&nbsp;</span>Логистическая регрессия</a></span></li></ul></li><li><span><a href=\"#Увеличение-выборки-(класса-1)\" data-toc-modified-id=\"Увеличение-выборки-(класса-1)-3.2\"><span class=\"toc-item-num\">3.2&nbsp;&nbsp;</span>Увеличение выборки (класса 1)</a></span><ul class=\"toc-item\"><li><span><a href=\"#Решающее-дерево\" data-toc-modified-id=\"Решающее-дерево-3.2.1\"><span class=\"toc-item-num\">3.2.1&nbsp;&nbsp;</span>Решающее дерево</a></span></li><li><span><a href=\"#Случайный-лес\" data-toc-modified-id=\"Случайный-лес-3.2.2\"><span class=\"toc-item-num\">3.2.2&nbsp;&nbsp;</span>Случайный лес</a></span></li><li><span><a href=\"#Логистическая-регрессия\" data-toc-modified-id=\"Логистическая-регрессия-3.2.3\"><span class=\"toc-item-num\">3.2.3&nbsp;&nbsp;</span>Логистическая регрессия</a></span></li></ul></li><li><span><a href=\"#Уменьшение-выборки-(класса-0)\" data-toc-modified-id=\"Уменьшение-выборки-(класса-0)-3.3\"><span class=\"toc-item-num\">3.3&nbsp;&nbsp;</span>Уменьшение выборки (класса 0)</a></span><ul class=\"toc-item\"><li><span><a href=\"#Решающее-дерево\" data-toc-modified-id=\"Решающее-дерево-3.3.1\"><span class=\"toc-item-num\">3.3.1&nbsp;&nbsp;</span>Решающее дерево</a></span></li><li><span><a href=\"#Случайный-лес\" data-toc-modified-id=\"Случайный-лес-3.3.2\"><span class=\"toc-item-num\">3.3.2&nbsp;&nbsp;</span>Случайный лес</a></span></li><li><span><a href=\"#Логистическая-регрессия\" data-toc-modified-id=\"Логистическая-регрессия-3.3.3\"><span class=\"toc-item-num\">3.3.3&nbsp;&nbsp;</span>Логистическая регрессия</a></span></li></ul></li></ul></li><li><span><a href=\"#Тестирование-модели\" data-toc-modified-id=\"Тестирование-модели-4\"><span class=\"toc-item-num\">4&nbsp;&nbsp;</span>Тестирование модели</a></span><ul class=\"toc-item\"><li><span><a href=\"#ROC-кривой-для-каждой-модели\" data-toc-modified-id=\"ROC-кривой-для-каждой-модели-4.1\"><span class=\"toc-item-num\">4.1&nbsp;&nbsp;</span>ROC-кривой для каждой модели</a></span></li></ul></li><li><span><a href=\"#Вывод\" data-toc-modified-id=\"Вывод-5\"><span class=\"toc-item-num\">5&nbsp;&nbsp;</span>Вывод</a></span></li><li><span><a href=\"#Чек-лист-готовности-проекта\" data-toc-modified-id=\"Чек-лист-готовности-проекта-6\"><span class=\"toc-item-num\">6&nbsp;&nbsp;</span>Чек-лист готовности проекта</a></span></li></ul></div>"
   ]
  },
  {
   "cell_type": "markdown",
   "metadata": {},
   "source": [
    "# Отток клиентов"
   ]
  },
  {
   "cell_type": "markdown",
   "metadata": {},
   "source": [
    "Из «Бета-Банка» стали уходить клиенты. Каждый месяц. Немного, но заметно. Банковские маркетологи посчитали: сохранять текущих клиентов дешевле, чем привлекать новых.\n",
    "\n",
    "Нужно спрогнозировать, уйдёт клиент из банка в ближайшее время или нет. Вам предоставлены исторические данные о поведении клиентов и расторжении договоров с банком. \n",
    "\n",
    "Постройте модель с предельно большим значением *F1*-меры. Чтобы сдать проект успешно, нужно довести метрику до 0.59. Проверьте *F1*-меру на тестовой выборке самостоятельно.\n",
    "\n",
    "Дополнительно измеряйте *AUC-ROC*, сравнивайте её значение с *F1*-мерой.\n",
    "\n",
    "Источник данных: [https://www.kaggle.com/barelydedicated/bank-customer-churn-modeling](https://www.kaggle.com/barelydedicated/bank-customer-churn-modeling)"
   ]
  },
  {
   "cell_type": "markdown",
   "metadata": {},
   "source": [
    "<b>Признаки</b>\n",
    "    \n",
    "* RowNumber — индекс строки в данных\n",
    "* CustomerId — уникальный идентификатор клиента\n",
    "* Surname — фамилия\n",
    "* CreditScore — кредитный рейтинг\n",
    "* Geography — страна проживания\n",
    "* Gender — пол\n",
    "* Age — возраст\n",
    "* Tenure — сколько лет человек является клиентом банка\n",
    "* Balance — баланс на счёте\n",
    "* NumOfProducts — количество продуктов банка, используемых клиентом\n",
    "* HasCrCard — наличие кредитной карты\n",
    "* IsActiveMember — активность клиента\n",
    "* EstimatedSalary — предполагаемая зарплата\n",
    "    \n",
    "<b>Целевой признак</b>\n",
    "    \n",
    "* Exited — факт ухода клиента"
   ]
  },
  {
   "cell_type": "markdown",
   "metadata": {},
   "source": [
    "## Подготовка данных"
   ]
  },
  {
   "cell_type": "code",
   "execution_count": 1,
   "metadata": {},
   "outputs": [],
   "source": [
    "import pandas as pd\n",
    "import numpy as np\n",
    "from sklearn.model_selection import train_test_split\n",
    "\n",
    "import warnings\n",
    "warnings.filterwarnings('ignore')\n",
    "\n",
    "from sklearn.tree import DecisionTreeClassifier #решающее дерево\n",
    "from sklearn.ensemble import RandomForestClassifier #случайный лес\n",
    "from sklearn.linear_model import LogisticRegression #логистическая регрессия\n",
    "\n",
    "from sklearn.metrics import accuracy_score \n",
    "from sklearn.metrics import precision_score\n",
    "from sklearn.metrics import recall_score\n",
    "from sklearn.metrics import f1_score\n",
    "\n",
    "from sklearn.utils import shuffle"
   ]
  },
  {
   "cell_type": "code",
   "execution_count": 2,
   "metadata": {
    "scrolled": false
   },
   "outputs": [
    {
     "data": {
      "text/plain": [
       "(10000, 14)"
      ]
     },
     "metadata": {},
     "output_type": "display_data"
    },
    {
     "name": "stdout",
     "output_type": "stream",
     "text": [
      "<class 'pandas.core.frame.DataFrame'>\n",
      "RangeIndex: 10000 entries, 0 to 9999\n",
      "Data columns (total 14 columns):\n",
      " #   Column           Non-Null Count  Dtype  \n",
      "---  ------           --------------  -----  \n",
      " 0   RowNumber        10000 non-null  int64  \n",
      " 1   CustomerId       10000 non-null  int64  \n",
      " 2   Surname          10000 non-null  object \n",
      " 3   CreditScore      10000 non-null  int64  \n",
      " 4   Geography        10000 non-null  object \n",
      " 5   Gender           10000 non-null  object \n",
      " 6   Age              10000 non-null  int64  \n",
      " 7   Tenure           9091 non-null   float64\n",
      " 8   Balance          10000 non-null  float64\n",
      " 9   NumOfProducts    10000 non-null  int64  \n",
      " 10  HasCrCard        10000 non-null  int64  \n",
      " 11  IsActiveMember   10000 non-null  int64  \n",
      " 12  EstimatedSalary  10000 non-null  float64\n",
      " 13  Exited           10000 non-null  int64  \n",
      "dtypes: float64(3), int64(8), object(3)\n",
      "memory usage: 1.1+ MB\n"
     ]
    },
    {
     "data": {
      "text/plain": [
       "None"
      ]
     },
     "metadata": {},
     "output_type": "display_data"
    },
    {
     "data": {
      "text/html": [
       "<div>\n",
       "<style scoped>\n",
       "    .dataframe tbody tr th:only-of-type {\n",
       "        vertical-align: middle;\n",
       "    }\n",
       "\n",
       "    .dataframe tbody tr th {\n",
       "        vertical-align: top;\n",
       "    }\n",
       "\n",
       "    .dataframe thead th {\n",
       "        text-align: right;\n",
       "    }\n",
       "</style>\n",
       "<table border=\"1\" class=\"dataframe\">\n",
       "  <thead>\n",
       "    <tr style=\"text-align: right;\">\n",
       "      <th></th>\n",
       "      <th>RowNumber</th>\n",
       "      <th>CustomerId</th>\n",
       "      <th>Surname</th>\n",
       "      <th>CreditScore</th>\n",
       "      <th>Geography</th>\n",
       "      <th>Gender</th>\n",
       "      <th>Age</th>\n",
       "      <th>Tenure</th>\n",
       "      <th>Balance</th>\n",
       "      <th>NumOfProducts</th>\n",
       "      <th>HasCrCard</th>\n",
       "      <th>IsActiveMember</th>\n",
       "      <th>EstimatedSalary</th>\n",
       "      <th>Exited</th>\n",
       "    </tr>\n",
       "  </thead>\n",
       "  <tbody>\n",
       "    <tr>\n",
       "      <th>0</th>\n",
       "      <td>1</td>\n",
       "      <td>15634602</td>\n",
       "      <td>Hargrave</td>\n",
       "      <td>619</td>\n",
       "      <td>France</td>\n",
       "      <td>Female</td>\n",
       "      <td>42</td>\n",
       "      <td>2.0</td>\n",
       "      <td>0.00</td>\n",
       "      <td>1</td>\n",
       "      <td>1</td>\n",
       "      <td>1</td>\n",
       "      <td>101348.88</td>\n",
       "      <td>1</td>\n",
       "    </tr>\n",
       "    <tr>\n",
       "      <th>1</th>\n",
       "      <td>2</td>\n",
       "      <td>15647311</td>\n",
       "      <td>Hill</td>\n",
       "      <td>608</td>\n",
       "      <td>Spain</td>\n",
       "      <td>Female</td>\n",
       "      <td>41</td>\n",
       "      <td>1.0</td>\n",
       "      <td>83807.86</td>\n",
       "      <td>1</td>\n",
       "      <td>0</td>\n",
       "      <td>1</td>\n",
       "      <td>112542.58</td>\n",
       "      <td>0</td>\n",
       "    </tr>\n",
       "    <tr>\n",
       "      <th>2</th>\n",
       "      <td>3</td>\n",
       "      <td>15619304</td>\n",
       "      <td>Onio</td>\n",
       "      <td>502</td>\n",
       "      <td>France</td>\n",
       "      <td>Female</td>\n",
       "      <td>42</td>\n",
       "      <td>8.0</td>\n",
       "      <td>159660.80</td>\n",
       "      <td>3</td>\n",
       "      <td>1</td>\n",
       "      <td>0</td>\n",
       "      <td>113931.57</td>\n",
       "      <td>1</td>\n",
       "    </tr>\n",
       "    <tr>\n",
       "      <th>3</th>\n",
       "      <td>4</td>\n",
       "      <td>15701354</td>\n",
       "      <td>Boni</td>\n",
       "      <td>699</td>\n",
       "      <td>France</td>\n",
       "      <td>Female</td>\n",
       "      <td>39</td>\n",
       "      <td>1.0</td>\n",
       "      <td>0.00</td>\n",
       "      <td>2</td>\n",
       "      <td>0</td>\n",
       "      <td>0</td>\n",
       "      <td>93826.63</td>\n",
       "      <td>0</td>\n",
       "    </tr>\n",
       "    <tr>\n",
       "      <th>4</th>\n",
       "      <td>5</td>\n",
       "      <td>15737888</td>\n",
       "      <td>Mitchell</td>\n",
       "      <td>850</td>\n",
       "      <td>Spain</td>\n",
       "      <td>Female</td>\n",
       "      <td>43</td>\n",
       "      <td>2.0</td>\n",
       "      <td>125510.82</td>\n",
       "      <td>1</td>\n",
       "      <td>1</td>\n",
       "      <td>1</td>\n",
       "      <td>79084.10</td>\n",
       "      <td>0</td>\n",
       "    </tr>\n",
       "    <tr>\n",
       "      <th>5</th>\n",
       "      <td>6</td>\n",
       "      <td>15574012</td>\n",
       "      <td>Chu</td>\n",
       "      <td>645</td>\n",
       "      <td>Spain</td>\n",
       "      <td>Male</td>\n",
       "      <td>44</td>\n",
       "      <td>8.0</td>\n",
       "      <td>113755.78</td>\n",
       "      <td>2</td>\n",
       "      <td>1</td>\n",
       "      <td>0</td>\n",
       "      <td>149756.71</td>\n",
       "      <td>1</td>\n",
       "    </tr>\n",
       "    <tr>\n",
       "      <th>6</th>\n",
       "      <td>7</td>\n",
       "      <td>15592531</td>\n",
       "      <td>Bartlett</td>\n",
       "      <td>822</td>\n",
       "      <td>France</td>\n",
       "      <td>Male</td>\n",
       "      <td>50</td>\n",
       "      <td>7.0</td>\n",
       "      <td>0.00</td>\n",
       "      <td>2</td>\n",
       "      <td>1</td>\n",
       "      <td>1</td>\n",
       "      <td>10062.80</td>\n",
       "      <td>0</td>\n",
       "    </tr>\n",
       "    <tr>\n",
       "      <th>7</th>\n",
       "      <td>8</td>\n",
       "      <td>15656148</td>\n",
       "      <td>Obinna</td>\n",
       "      <td>376</td>\n",
       "      <td>Germany</td>\n",
       "      <td>Female</td>\n",
       "      <td>29</td>\n",
       "      <td>4.0</td>\n",
       "      <td>115046.74</td>\n",
       "      <td>4</td>\n",
       "      <td>1</td>\n",
       "      <td>0</td>\n",
       "      <td>119346.88</td>\n",
       "      <td>1</td>\n",
       "    </tr>\n",
       "    <tr>\n",
       "      <th>8</th>\n",
       "      <td>9</td>\n",
       "      <td>15792365</td>\n",
       "      <td>He</td>\n",
       "      <td>501</td>\n",
       "      <td>France</td>\n",
       "      <td>Male</td>\n",
       "      <td>44</td>\n",
       "      <td>4.0</td>\n",
       "      <td>142051.07</td>\n",
       "      <td>2</td>\n",
       "      <td>0</td>\n",
       "      <td>1</td>\n",
       "      <td>74940.50</td>\n",
       "      <td>0</td>\n",
       "    </tr>\n",
       "    <tr>\n",
       "      <th>9</th>\n",
       "      <td>10</td>\n",
       "      <td>15592389</td>\n",
       "      <td>H?</td>\n",
       "      <td>684</td>\n",
       "      <td>France</td>\n",
       "      <td>Male</td>\n",
       "      <td>27</td>\n",
       "      <td>2.0</td>\n",
       "      <td>134603.88</td>\n",
       "      <td>1</td>\n",
       "      <td>1</td>\n",
       "      <td>1</td>\n",
       "      <td>71725.73</td>\n",
       "      <td>0</td>\n",
       "    </tr>\n",
       "  </tbody>\n",
       "</table>\n",
       "</div>"
      ],
      "text/plain": [
       "   RowNumber  CustomerId   Surname  CreditScore Geography  Gender  Age  \\\n",
       "0          1    15634602  Hargrave          619    France  Female   42   \n",
       "1          2    15647311      Hill          608     Spain  Female   41   \n",
       "2          3    15619304      Onio          502    France  Female   42   \n",
       "3          4    15701354      Boni          699    France  Female   39   \n",
       "4          5    15737888  Mitchell          850     Spain  Female   43   \n",
       "5          6    15574012       Chu          645     Spain    Male   44   \n",
       "6          7    15592531  Bartlett          822    France    Male   50   \n",
       "7          8    15656148    Obinna          376   Germany  Female   29   \n",
       "8          9    15792365        He          501    France    Male   44   \n",
       "9         10    15592389        H?          684    France    Male   27   \n",
       "\n",
       "   Tenure    Balance  NumOfProducts  HasCrCard  IsActiveMember  \\\n",
       "0     2.0       0.00              1          1               1   \n",
       "1     1.0   83807.86              1          0               1   \n",
       "2     8.0  159660.80              3          1               0   \n",
       "3     1.0       0.00              2          0               0   \n",
       "4     2.0  125510.82              1          1               1   \n",
       "5     8.0  113755.78              2          1               0   \n",
       "6     7.0       0.00              2          1               1   \n",
       "7     4.0  115046.74              4          1               0   \n",
       "8     4.0  142051.07              2          0               1   \n",
       "9     2.0  134603.88              1          1               1   \n",
       "\n",
       "   EstimatedSalary  Exited  \n",
       "0        101348.88       1  \n",
       "1        112542.58       0  \n",
       "2        113931.57       1  \n",
       "3         93826.63       0  \n",
       "4         79084.10       0  \n",
       "5        149756.71       1  \n",
       "6         10062.80       0  \n",
       "7        119346.88       1  \n",
       "8         74940.50       0  \n",
       "9         71725.73       0  "
      ]
     },
     "metadata": {},
     "output_type": "display_data"
    },
    {
     "data": {
      "text/html": [
       "<div>\n",
       "<style scoped>\n",
       "    .dataframe tbody tr th:only-of-type {\n",
       "        vertical-align: middle;\n",
       "    }\n",
       "\n",
       "    .dataframe tbody tr th {\n",
       "        vertical-align: top;\n",
       "    }\n",
       "\n",
       "    .dataframe thead th {\n",
       "        text-align: right;\n",
       "    }\n",
       "</style>\n",
       "<table border=\"1\" class=\"dataframe\">\n",
       "  <thead>\n",
       "    <tr style=\"text-align: right;\">\n",
       "      <th></th>\n",
       "      <th>RowNumber</th>\n",
       "      <th>CustomerId</th>\n",
       "      <th>CreditScore</th>\n",
       "      <th>Age</th>\n",
       "      <th>Tenure</th>\n",
       "      <th>Balance</th>\n",
       "      <th>NumOfProducts</th>\n",
       "      <th>HasCrCard</th>\n",
       "      <th>IsActiveMember</th>\n",
       "      <th>EstimatedSalary</th>\n",
       "      <th>Exited</th>\n",
       "    </tr>\n",
       "  </thead>\n",
       "  <tbody>\n",
       "    <tr>\n",
       "      <th>count</th>\n",
       "      <td>10000.00000</td>\n",
       "      <td>1.000000e+04</td>\n",
       "      <td>10000.000000</td>\n",
       "      <td>10000.000000</td>\n",
       "      <td>9091.000000</td>\n",
       "      <td>10000.000000</td>\n",
       "      <td>10000.000000</td>\n",
       "      <td>10000.00000</td>\n",
       "      <td>10000.000000</td>\n",
       "      <td>10000.000000</td>\n",
       "      <td>10000.000000</td>\n",
       "    </tr>\n",
       "    <tr>\n",
       "      <th>mean</th>\n",
       "      <td>5000.50000</td>\n",
       "      <td>1.569094e+07</td>\n",
       "      <td>650.528800</td>\n",
       "      <td>38.921800</td>\n",
       "      <td>4.997690</td>\n",
       "      <td>76485.889288</td>\n",
       "      <td>1.530200</td>\n",
       "      <td>0.70550</td>\n",
       "      <td>0.515100</td>\n",
       "      <td>100090.239881</td>\n",
       "      <td>0.203700</td>\n",
       "    </tr>\n",
       "    <tr>\n",
       "      <th>std</th>\n",
       "      <td>2886.89568</td>\n",
       "      <td>7.193619e+04</td>\n",
       "      <td>96.653299</td>\n",
       "      <td>10.487806</td>\n",
       "      <td>2.894723</td>\n",
       "      <td>62397.405202</td>\n",
       "      <td>0.581654</td>\n",
       "      <td>0.45584</td>\n",
       "      <td>0.499797</td>\n",
       "      <td>57510.492818</td>\n",
       "      <td>0.402769</td>\n",
       "    </tr>\n",
       "    <tr>\n",
       "      <th>min</th>\n",
       "      <td>1.00000</td>\n",
       "      <td>1.556570e+07</td>\n",
       "      <td>350.000000</td>\n",
       "      <td>18.000000</td>\n",
       "      <td>0.000000</td>\n",
       "      <td>0.000000</td>\n",
       "      <td>1.000000</td>\n",
       "      <td>0.00000</td>\n",
       "      <td>0.000000</td>\n",
       "      <td>11.580000</td>\n",
       "      <td>0.000000</td>\n",
       "    </tr>\n",
       "    <tr>\n",
       "      <th>25%</th>\n",
       "      <td>2500.75000</td>\n",
       "      <td>1.562853e+07</td>\n",
       "      <td>584.000000</td>\n",
       "      <td>32.000000</td>\n",
       "      <td>2.000000</td>\n",
       "      <td>0.000000</td>\n",
       "      <td>1.000000</td>\n",
       "      <td>0.00000</td>\n",
       "      <td>0.000000</td>\n",
       "      <td>51002.110000</td>\n",
       "      <td>0.000000</td>\n",
       "    </tr>\n",
       "    <tr>\n",
       "      <th>50%</th>\n",
       "      <td>5000.50000</td>\n",
       "      <td>1.569074e+07</td>\n",
       "      <td>652.000000</td>\n",
       "      <td>37.000000</td>\n",
       "      <td>5.000000</td>\n",
       "      <td>97198.540000</td>\n",
       "      <td>1.000000</td>\n",
       "      <td>1.00000</td>\n",
       "      <td>1.000000</td>\n",
       "      <td>100193.915000</td>\n",
       "      <td>0.000000</td>\n",
       "    </tr>\n",
       "    <tr>\n",
       "      <th>75%</th>\n",
       "      <td>7500.25000</td>\n",
       "      <td>1.575323e+07</td>\n",
       "      <td>718.000000</td>\n",
       "      <td>44.000000</td>\n",
       "      <td>7.000000</td>\n",
       "      <td>127644.240000</td>\n",
       "      <td>2.000000</td>\n",
       "      <td>1.00000</td>\n",
       "      <td>1.000000</td>\n",
       "      <td>149388.247500</td>\n",
       "      <td>0.000000</td>\n",
       "    </tr>\n",
       "    <tr>\n",
       "      <th>max</th>\n",
       "      <td>10000.00000</td>\n",
       "      <td>1.581569e+07</td>\n",
       "      <td>850.000000</td>\n",
       "      <td>92.000000</td>\n",
       "      <td>10.000000</td>\n",
       "      <td>250898.090000</td>\n",
       "      <td>4.000000</td>\n",
       "      <td>1.00000</td>\n",
       "      <td>1.000000</td>\n",
       "      <td>199992.480000</td>\n",
       "      <td>1.000000</td>\n",
       "    </tr>\n",
       "  </tbody>\n",
       "</table>\n",
       "</div>"
      ],
      "text/plain": [
       "         RowNumber    CustomerId   CreditScore           Age       Tenure  \\\n",
       "count  10000.00000  1.000000e+04  10000.000000  10000.000000  9091.000000   \n",
       "mean    5000.50000  1.569094e+07    650.528800     38.921800     4.997690   \n",
       "std     2886.89568  7.193619e+04     96.653299     10.487806     2.894723   \n",
       "min        1.00000  1.556570e+07    350.000000     18.000000     0.000000   \n",
       "25%     2500.75000  1.562853e+07    584.000000     32.000000     2.000000   \n",
       "50%     5000.50000  1.569074e+07    652.000000     37.000000     5.000000   \n",
       "75%     7500.25000  1.575323e+07    718.000000     44.000000     7.000000   \n",
       "max    10000.00000  1.581569e+07    850.000000     92.000000    10.000000   \n",
       "\n",
       "             Balance  NumOfProducts    HasCrCard  IsActiveMember  \\\n",
       "count   10000.000000   10000.000000  10000.00000    10000.000000   \n",
       "mean    76485.889288       1.530200      0.70550        0.515100   \n",
       "std     62397.405202       0.581654      0.45584        0.499797   \n",
       "min         0.000000       1.000000      0.00000        0.000000   \n",
       "25%         0.000000       1.000000      0.00000        0.000000   \n",
       "50%     97198.540000       1.000000      1.00000        1.000000   \n",
       "75%    127644.240000       2.000000      1.00000        1.000000   \n",
       "max    250898.090000       4.000000      1.00000        1.000000   \n",
       "\n",
       "       EstimatedSalary        Exited  \n",
       "count     10000.000000  10000.000000  \n",
       "mean     100090.239881      0.203700  \n",
       "std       57510.492818      0.402769  \n",
       "min          11.580000      0.000000  \n",
       "25%       51002.110000      0.000000  \n",
       "50%      100193.915000      0.000000  \n",
       "75%      149388.247500      0.000000  \n",
       "max      199992.480000      1.000000  "
      ]
     },
     "metadata": {},
     "output_type": "display_data"
    }
   ],
   "source": [
    "df = pd.read_csv('/datasets/Churn.csv')\n",
    "display(df.shape)\n",
    "display(df.info())\n",
    "display(df.head(10))\n",
    "display(df.describe())"
   ]
  },
  {
   "cell_type": "markdown",
   "metadata": {},
   "source": [
    "* Это задача классификации.\n",
    "\n",
    "Целевым признаком является столбец Exited - факт ухода клиента.\n",
    "\n",
    "Остальные признаки помогут предсказывать решение по столбцу Exited.\n",
    "\n",
    "Всего 10000 строк для каждого признака, а их 13. Значит данных более чем достаточно."
   ]
  },
  {
   "cell_type": "markdown",
   "metadata": {},
   "source": [
    "### Проверка на уникальные значения всех столбцов"
   ]
  },
  {
   "cell_type": "code",
   "execution_count": 3,
   "metadata": {
    "scrolled": false
   },
   "outputs": [
    {
     "name": "stdout",
     "output_type": "stream",
     "text": [
      "Unique values of RowNumber\n",
      "[    1     2     3 ...  9998  9999 10000]\n",
      "Unique values of CustomerId\n",
      "[15634602 15647311 15619304 ... 15584532 15682355 15628319]\n",
      "Unique values of Surname\n",
      "['Hargrave' 'Hill' 'Onio' ... 'Kashiwagi' 'Aldridge' 'Burbidge']\n",
      "Unique values of CreditScore\n",
      "[619 608 502 699 850 645 822 376 501 684 528 497 476 549 635 616 653 587\n",
      " 726 732 636 510 669 846 577 756 571 574 411 591 533 553 520 722 475 490\n",
      " 804 582 472 465 556 834 660 776 829 637 550 698 585 788 655 601 656 725\n",
      " 511 614 742 687 555 603 751 581 735 661 675 738 813 657 604 519 664 678\n",
      " 757 416 665 777 543 506 493 652 750 729 646 647 808 524 769 730 515 773\n",
      " 814 710 413 623 670 622 785 605 479 685 538 562 721 628 668 828 674 625\n",
      " 432 770 758 795 686 789 589 461 584 579 663 682 793 691 485 650 754 535\n",
      " 716 539 706 586 631 717 800 683 704 615 667 484 480 578 512 606 597 778\n",
      " 514 525 715 580 807 521 759 516 711 618 643 671 689 620 676 572 695 592\n",
      " 567 694 547 594 673 610 767 763 712 703 662 659 523 772 545 634 739 771\n",
      " 681 544 696 766 727 693 557 531 498 651 791 733 811 707 714 782 775 799\n",
      " 602 744 588 747 583 627 731 629 438 642 806 474 559 429 680 749 734 644\n",
      " 626 649 805 718 840 630 654 762 568 613 522 737 648 443 640 540 460 593\n",
      " 801 611 802 745 483 690 492 709 705 560 752 701 537 487 596 702 486 724\n",
      " 548 464 790 534 748 494 590 468 509 818 816 536 753 774 621 569 658 798\n",
      " 641 542 692 639 765 570 638 599 632 779 527 564 833 504 842 508 417 598\n",
      " 741 607 761 848 546 439 755 760 526 713 700 666 566 495 688 612 477 427\n",
      " 839 819 720 459 503 624 529 563 482 796 445 746 786 554 672 787 499 844\n",
      " 450 815 838 803 736 633 600 679 517 792 743 488 421 841 708 507 505 456\n",
      " 435 561 518 565 728 784 552 609 764 697 723 551 444 719 496 541 830 812\n",
      " 677 420 595 617 809 500 826 434 513 478 797 363 399 463 780 452 575 837\n",
      " 794 824 428 823 781 849 489 431 457 768 831 359 820 573 576 558 817 449\n",
      " 440 415 821 530 350 446 425 740 481 783 358 845 451 458 469 423 404 836\n",
      " 473 835 466 491 351 827 843 365 532 414 453 471 401 810 832 470 447 422\n",
      " 825 430 436 426 408 847 418 437 410 454 407 455 462 386 405 383 395 467\n",
      " 433 442 424 448 441 367 412 382 373 419]\n",
      "Unique values of Geography\n",
      "['France' 'Spain' 'Germany']\n",
      "Unique values of Gender\n",
      "['Female' 'Male']\n",
      "Unique values of Age\n",
      "[42 41 39 43 44 50 29 27 31 24 34 25 35 45 58 32 38 46 36 33 40 51 61 49\n",
      " 37 19 66 56 26 21 55 75 22 30 28 65 48 52 57 73 47 54 72 20 67 79 62 53\n",
      " 80 59 68 23 60 70 63 64 18 82 69 74 71 76 77 88 85 84 78 81 92 83]\n",
      "Unique values of Tenure\n",
      "[ 2.  1.  8.  7.  4.  6.  3. 10.  5.  9.  0. nan]\n",
      "Unique values of Balance\n",
      "[     0.    83807.86 159660.8  ...  57369.61  75075.31 130142.79]\n",
      "Unique values of NumOfProducts\n",
      "[1 3 2 4]\n",
      "Unique values of HasCrCard\n",
      "[1 0]\n",
      "Unique values of IsActiveMember\n",
      "[1 0]\n",
      "Unique values of EstimatedSalary\n",
      "[101348.88 112542.58 113931.57 ...  42085.58  92888.52  38190.78]\n",
      "Unique values of Exited\n",
      "[1 0]\n"
     ]
    }
   ],
   "source": [
    "def valcount(dataframe):\n",
    "    for col in dataframe.columns:\n",
    "        print('Unique values of', col)\n",
    "        print(dataframe[col].unique())\n",
    "        \n",
    "valcount(df)"
   ]
  },
  {
   "cell_type": "code",
   "execution_count": 4,
   "metadata": {},
   "outputs": [
    {
     "data": {
      "text/plain": [
       "0"
      ]
     },
     "execution_count": 4,
     "metadata": {},
     "output_type": "execute_result"
    }
   ],
   "source": [
    "df.duplicated().sum()"
   ]
  },
  {
   "cell_type": "markdown",
   "metadata": {},
   "source": [
    "Все столбцы выглядят соответственно их типам.\n",
    "\n",
    "NumOfProducts от 1 до 4, значит вариантов продуктов только четыре.\n",
    "\n",
    "HasCrCard, IsActiveMember, Exited - булевы значения.\n",
    "\n",
    "Дубликаты отсутствуют.\n"
   ]
  },
  {
   "cell_type": "markdown",
   "metadata": {},
   "source": [
    "### Выбор признаков"
   ]
  },
  {
   "cell_type": "markdown",
   "metadata": {},
   "source": [
    "- Удалим столбцы RowNumber, CustomerId и Surname. Они не нужны при исследовании модели.\n",
    "\n",
    "RowNumber повторяет индекс df, CustomerId - уникальный идентификатор клиента, который никак не влияет на вероятность уйти из банка. Surname - фамилия также не влияет на действия пользователя."
   ]
  },
  {
   "cell_type": "code",
   "execution_count": 5,
   "metadata": {},
   "outputs": [
    {
     "data": {
      "text/plain": [
       "(10000, 11)"
      ]
     },
     "execution_count": 5,
     "metadata": {},
     "output_type": "execute_result"
    }
   ],
   "source": [
    "df = df.drop(['RowNumber','CustomerId','Surname'], axis=1)\n",
    "df.shape"
   ]
  },
  {
   "cell_type": "markdown",
   "metadata": {},
   "source": [
    "- Судя по количеству и типу столбцов, выбивается только Tenure - количество лет в банке. Данный признак может повлиять на модель."
   ]
  },
  {
   "cell_type": "code",
   "execution_count": 6,
   "metadata": {},
   "outputs": [
    {
     "data": {
      "text/plain": [
       "909"
      ]
     },
     "execution_count": 6,
     "metadata": {},
     "output_type": "execute_result"
    }
   ],
   "source": [
    "df['Tenure'].isnull().sum()"
   ]
  },
  {
   "cell_type": "markdown",
   "metadata": {},
   "source": [
    "Мы видим, что все значения целочисленные, их нужно перевести в int. \n",
    "\n",
    "Также видим отсутствующие значения - 909 штук,  заменять на среднее/медиану или 0 будет некорректно, так как это может повлиять на модель. Выхода три - убрать все строки из других признаков,  удалить сам столбец, заменить на какое-то значение.\n",
    "\n",
    "Данные этого столбца могут повлиять на целевой признак, а значит удалять его нельзя, поэтому чтобы не терять данные других стоолбцов просто заменим на -1."
   ]
  },
  {
   "cell_type": "code",
   "execution_count": 7,
   "metadata": {},
   "outputs": [],
   "source": [
    "#df = df.dropna(subset = ['Tenure'])"
   ]
  },
  {
   "cell_type": "code",
   "execution_count": 8,
   "metadata": {},
   "outputs": [],
   "source": [
    "df['Tenure'] = df['Tenure'].fillna(df['Tenure'].median())\n",
    "#лучше всего обратиться к представителю бизнеса и уточнить у него - откуда взялись пропуски"
   ]
  },
  {
   "cell_type": "code",
   "execution_count": 9,
   "metadata": {},
   "outputs": [
    {
     "data": {
      "text/plain": [
       "1.00000     952\n",
       "2.00000     950\n",
       "8.00000     933\n",
       "3.00000     928\n",
       "5.00000     927\n",
       "7.00000     925\n",
       "4.99769     909\n",
       "4.00000     885\n",
       "9.00000     882\n",
       "6.00000     881\n",
       "10.00000    446\n",
       "0.00000     382\n",
       "Name: Tenure, dtype: int64"
      ]
     },
     "execution_count": 9,
     "metadata": {},
     "output_type": "execute_result"
    }
   ],
   "source": [
    "df['Tenure'].value_counts()"
   ]
  },
  {
   "cell_type": "code",
   "execution_count": 11,
   "metadata": {},
   "outputs": [
    {
     "name": "stdout",
     "output_type": "stream",
     "text": [
      "<class 'pandas.core.frame.DataFrame'>\n",
      "RangeIndex: 10000 entries, 0 to 9999\n",
      "Data columns (total 11 columns):\n",
      " #   Column           Non-Null Count  Dtype  \n",
      "---  ------           --------------  -----  \n",
      " 0   CreditScore      10000 non-null  int64  \n",
      " 1   Geography        10000 non-null  object \n",
      " 2   Gender           10000 non-null  object \n",
      " 3   Age              10000 non-null  int64  \n",
      " 4   Tenure           10000 non-null  float64\n",
      " 5   Balance          10000 non-null  float64\n",
      " 6   NumOfProducts    10000 non-null  int64  \n",
      " 7   HasCrCard        10000 non-null  int64  \n",
      " 8   IsActiveMember   10000 non-null  int64  \n",
      " 9   EstimatedSalary  10000 non-null  float64\n",
      " 10  Exited           10000 non-null  int64  \n",
      "dtypes: float64(3), int64(6), object(2)\n",
      "memory usage: 859.5+ KB\n"
     ]
    }
   ],
   "source": [
    "df.info()"
   ]
  },
  {
   "cell_type": "markdown",
   "metadata": {},
   "source": [
    " ### Сбалансированность таргетов"
   ]
  },
  {
   "cell_type": "code",
   "execution_count": 12,
   "metadata": {
    "scrolled": true
   },
   "outputs": [
    {
     "data": {
      "text/plain": [
       "<AxesSubplot:>"
      ]
     },
     "execution_count": 12,
     "metadata": {},
     "output_type": "execute_result"
    },
    {
     "data": {
      "image/png": "[encoded data removed]",
      "text/plain": [
       "<Figure size 432x288 with 1 Axes>"
      ]
     },
     "metadata": {
      "needs_background": "light"
     },
     "output_type": "display_data"
    }
   ],
   "source": [
    "class_frequency = df['Exited'].value_counts(normalize = True)\n",
    "class_frequency.plot(kind = 'bar')"
   ]
  },
  {
   "cell_type": "markdown",
   "metadata": {},
   "source": [
    "Проверила датасет на сбалансированность таргетов. Отрицательного класса значительно больше, чем положительного. В выборке представлены клиенты, где почти 80% - остались с банком, а 20% ушли от банка, таким образом наши данные несбалансированы.\n",
    "\n",
    "- Сначала обучим модель без учета дисбаланса."
   ]
  },
  {
   "cell_type": "markdown",
   "metadata": {},
   "source": [
    "### Прямое кодирование"
   ]
  },
  {
   "cell_type": "markdown",
   "metadata": {},
   "source": [
    "- Создадим датафрейм, созданный по методу прямого кодирования с защитой от дамми-ловушки. \n"
   ]
  },
  {
   "cell_type": "code",
   "execution_count": 13,
   "metadata": {
    "scrolled": true
   },
   "outputs": [
    {
     "name": "stdout",
     "output_type": "stream",
     "text": [
      "<class 'pandas.core.frame.DataFrame'>\n",
      "RangeIndex: 10000 entries, 0 to 9999\n",
      "Data columns (total 12 columns):\n",
      " #   Column             Non-Null Count  Dtype  \n",
      "---  ------             --------------  -----  \n",
      " 0   CreditScore        10000 non-null  int64  \n",
      " 1   Age                10000 non-null  int64  \n",
      " 2   Tenure             10000 non-null  float64\n",
      " 3   Balance            10000 non-null  float64\n",
      " 4   NumOfProducts      10000 non-null  int64  \n",
      " 5   HasCrCard          10000 non-null  int64  \n",
      " 6   IsActiveMember     10000 non-null  int64  \n",
      " 7   EstimatedSalary    10000 non-null  float64\n",
      " 8   Exited             10000 non-null  int64  \n",
      " 9   Geography_Germany  10000 non-null  uint8  \n",
      " 10  Geography_Spain    10000 non-null  uint8  \n",
      " 11  Gender_Male        10000 non-null  uint8  \n",
      "dtypes: float64(3), int64(6), uint8(3)\n",
      "memory usage: 732.5 KB\n"
     ]
    }
   ],
   "source": [
    "df_upd = pd.get_dummies(df, drop_first=True)\n",
    "df_upd.info()"
   ]
  },
  {
   "cell_type": "code",
   "execution_count": 14,
   "metadata": {},
   "outputs": [
    {
     "data": {
      "text/html": [
       "<div>\n",
       "<style scoped>\n",
       "    .dataframe tbody tr th:only-of-type {\n",
       "        vertical-align: middle;\n",
       "    }\n",
       "\n",
       "    .dataframe tbody tr th {\n",
       "        vertical-align: top;\n",
       "    }\n",
       "\n",
       "    .dataframe thead th {\n",
       "        text-align: right;\n",
       "    }\n",
       "</style>\n",
       "<table border=\"1\" class=\"dataframe\">\n",
       "  <thead>\n",
       "    <tr style=\"text-align: right;\">\n",
       "      <th></th>\n",
       "      <th>CreditScore</th>\n",
       "      <th>Age</th>\n",
       "      <th>Tenure</th>\n",
       "      <th>Balance</th>\n",
       "      <th>NumOfProducts</th>\n",
       "      <th>HasCrCard</th>\n",
       "      <th>IsActiveMember</th>\n",
       "      <th>EstimatedSalary</th>\n",
       "      <th>Exited</th>\n",
       "      <th>Geography_Germany</th>\n",
       "      <th>Geography_Spain</th>\n",
       "      <th>Gender_Male</th>\n",
       "    </tr>\n",
       "  </thead>\n",
       "  <tbody>\n",
       "    <tr>\n",
       "      <th>0</th>\n",
       "      <td>619</td>\n",
       "      <td>42</td>\n",
       "      <td>2.0</td>\n",
       "      <td>0.00</td>\n",
       "      <td>1</td>\n",
       "      <td>1</td>\n",
       "      <td>1</td>\n",
       "      <td>101348.88</td>\n",
       "      <td>1</td>\n",
       "      <td>0</td>\n",
       "      <td>0</td>\n",
       "      <td>0</td>\n",
       "    </tr>\n",
       "    <tr>\n",
       "      <th>1</th>\n",
       "      <td>608</td>\n",
       "      <td>41</td>\n",
       "      <td>1.0</td>\n",
       "      <td>83807.86</td>\n",
       "      <td>1</td>\n",
       "      <td>0</td>\n",
       "      <td>1</td>\n",
       "      <td>112542.58</td>\n",
       "      <td>0</td>\n",
       "      <td>0</td>\n",
       "      <td>1</td>\n",
       "      <td>0</td>\n",
       "    </tr>\n",
       "    <tr>\n",
       "      <th>2</th>\n",
       "      <td>502</td>\n",
       "      <td>42</td>\n",
       "      <td>8.0</td>\n",
       "      <td>159660.80</td>\n",
       "      <td>3</td>\n",
       "      <td>1</td>\n",
       "      <td>0</td>\n",
       "      <td>113931.57</td>\n",
       "      <td>1</td>\n",
       "      <td>0</td>\n",
       "      <td>0</td>\n",
       "      <td>0</td>\n",
       "    </tr>\n",
       "    <tr>\n",
       "      <th>3</th>\n",
       "      <td>699</td>\n",
       "      <td>39</td>\n",
       "      <td>1.0</td>\n",
       "      <td>0.00</td>\n",
       "      <td>2</td>\n",
       "      <td>0</td>\n",
       "      <td>0</td>\n",
       "      <td>93826.63</td>\n",
       "      <td>0</td>\n",
       "      <td>0</td>\n",
       "      <td>0</td>\n",
       "      <td>0</td>\n",
       "    </tr>\n",
       "    <tr>\n",
       "      <th>4</th>\n",
       "      <td>850</td>\n",
       "      <td>43</td>\n",
       "      <td>2.0</td>\n",
       "      <td>125510.82</td>\n",
       "      <td>1</td>\n",
       "      <td>1</td>\n",
       "      <td>1</td>\n",
       "      <td>79084.10</td>\n",
       "      <td>0</td>\n",
       "      <td>0</td>\n",
       "      <td>1</td>\n",
       "      <td>0</td>\n",
       "    </tr>\n",
       "  </tbody>\n",
       "</table>\n",
       "</div>"
      ],
      "text/plain": [
       "   CreditScore  Age  Tenure    Balance  NumOfProducts  HasCrCard  \\\n",
       "0          619   42     2.0       0.00              1          1   \n",
       "1          608   41     1.0   83807.86              1          0   \n",
       "2          502   42     8.0  159660.80              3          1   \n",
       "3          699   39     1.0       0.00              2          0   \n",
       "4          850   43     2.0  125510.82              1          1   \n",
       "\n",
       "   IsActiveMember  EstimatedSalary  Exited  Geography_Germany  \\\n",
       "0               1        101348.88       1                  0   \n",
       "1               1        112542.58       0                  0   \n",
       "2               0        113931.57       1                  0   \n",
       "3               0         93826.63       0                  0   \n",
       "4               1         79084.10       0                  0   \n",
       "\n",
       "   Geography_Spain  Gender_Male  \n",
       "0                0            0  \n",
       "1                1            0  \n",
       "2                0            0  \n",
       "3                0            0  \n",
       "4                1            0  "
      ]
     },
     "execution_count": 14,
     "metadata": {},
     "output_type": "execute_result"
    }
   ],
   "source": [
    "df_upd.head()"
   ]
  },
  {
   "cell_type": "markdown",
   "metadata": {},
   "source": [
    "В новом df мы получили 12 столбцов.\n",
    "Столбец Geography содержал 3 класса, Gender - 2 класса — в результате мы получили только 2 и 1 столбцов соответственно, что позволяет избежать дами-ловушки."
   ]
  },
  {
   "cell_type": "markdown",
   "metadata": {},
   "source": [
    "### Деление на выборки"
   ]
  },
  {
   "cell_type": "markdown",
   "metadata": {},
   "source": [
    "В нашем случае нет отдельно выделенной тестовой выборки, поэтому существующие данные мы делим на три выборки:\n",
    "\n",
    "- обучающая 60% для обучения модели\n",
    "- валидационная 20% для выбора лучшего алгоритма и оптимальных параметров\n",
    "- тестовая 20% для финального теста лучшей модели"
   ]
  },
  {
   "cell_type": "markdown",
   "metadata": {},
   "source": [
    "Поделим на features (признаки) и target (целевой признак):"
   ]
  },
  {
   "cell_type": "code",
   "execution_count": 15,
   "metadata": {},
   "outputs": [],
   "source": [
    "features = df_upd.drop(['Exited'], axis = 1)\n",
    "target = df_upd['Exited']"
   ]
  },
  {
   "cell_type": "markdown",
   "metadata": {},
   "source": [
    "Делим только на обучающую и тестовую выборки в соотношении 80% на 20%."
   ]
  },
  {
   "cell_type": "code",
   "execution_count": 17,
   "metadata": {},
   "outputs": [
    {
     "name": "stdout",
     "output_type": "stream",
     "text": [
      "Размер обучающей выборки 8000\n",
      "Размер тестовой выборки 2000\n"
     ]
    }
   ],
   "source": [
    "features_train, features_test, target_train, target_test = train_test_split(features, target, train_size=0.8, random_state = 12345)\n",
    "\n",
    "#обучающая - 80% от исходной\n",
    "print('Размер обучающей выборки', features_train.shape[0])\n",
    "print('Размер тестовой выборки', features_test.shape[0])"
   ]
  },
  {
   "cell_type": "markdown",
   "metadata": {},
   "source": [
    "### Масштабирование признаков"
   ]
  },
  {
   "cell_type": "code",
   "execution_count": 18,
   "metadata": {},
   "outputs": [],
   "source": [
    "#импортируем библиотеку для стандартного масштабирования\n",
    "from sklearn.preprocessing import StandardScaler"
   ]
  },
  {
   "cell_type": "code",
   "execution_count": 19,
   "metadata": {
    "scrolled": false
   },
   "outputs": [
    {
     "name": "stdout",
     "output_type": "stream",
     "text": [
      "Размер обучающей выборки 8000\n",
      "Размер тестовой выборки 2000\n",
      "\n",
      "      CreditScore       Age    Tenure   Balance  NumOfProducts  HasCrCard  \\\n",
      "454      1.107585  0.011482  0.358630  0.819420      -0.899779          0   \n",
      "8307    -0.338704 -0.844298 -0.730366  0.923294      -0.899779          1   \n",
      "4811    -0.782922 -1.224645  0.721628 -1.220083       0.811234          1   \n",
      "1132    -0.235398 -0.178692 -0.005207 -1.220083       0.811234          1   \n",
      "9640     1.024940 -0.368865 -0.730366 -1.220083      -0.899779          1   \n",
      "\n",
      "      IsActiveMember  EstimatedSalary  Geography_Germany  Geography_Spain  \\\n",
      "454                1        -0.757878                  0                0   \n",
      "8307               1        -1.194506                  0                0   \n",
      "4811               0         0.212357                  0                1   \n",
      "1132               1         1.239310                  0                0   \n",
      "9640               0         1.583001                  0                0   \n",
      "\n",
      "      Gender_Male  \n",
      "454             0  \n",
      "8307            1  \n",
      "4811            0  \n",
      "1132            1  \n",
      "9640            0  \n",
      "      CreditScore       Age    Tenure   Balance  NumOfProducts  HasCrCard  \\\n",
      "7867    -0.111430  0.677088 -0.730366 -1.220083      -0.899779          1   \n",
      "1402     1.097255 -0.939385  1.084626  0.866641      -0.899779          1   \n",
      "8606     1.613787  0.296742 -0.004369 -1.220083       0.811234          1   \n",
      "8885     0.177828  0.582002 -0.367367  0.421128       0.811234          1   \n",
      "6494     0.498078 -1.034472  0.721628 -1.220083       0.811234          1   \n",
      "\n",
      "      IsActiveMember  EstimatedSalary  Geography_Germany  Geography_Spain  \\\n",
      "7867               1         0.971335                  0                1   \n",
      "1402               0        -0.395456                  0                0   \n",
      "8606               1        -0.440011                  0                1   \n",
      "8885               1         1.008096                  0                1   \n",
      "6494               1        -1.345810                  0                0   \n",
      "\n",
      "      Gender_Male  \n",
      "7867            0  \n",
      "1402            1  \n",
      "8606            1  \n",
      "8885            1  \n",
      "6494            1  \n"
     ]
    }
   ],
   "source": [
    "#Для масштабирования запишем численные признаки в numeric\n",
    "numeric = ['CreditScore', 'Age', 'Tenure', 'Balance', 'NumOfProducts', 'EstimatedSalary']\n",
    "#Создадим объект этой структуры и настроим его на обучающих данных:\n",
    "scaler = StandardScaler()\n",
    "scaler.fit(features_train[numeric])\n",
    "\n",
    "#Масштабируем численные признаки обучающей выборки \n",
    "features_train[numeric] = scaler.transform(features_train[numeric])\n",
    "#Масштабируем численные признаки тестовой выборки \n",
    "features_test[numeric] = scaler.transform(features_test[numeric])\n",
    "print('Размер обучающей выборки', features_train.shape[0])\n",
    "print('Размер тестовой выборки', features_test.shape[0])\n",
    "print('')\n",
    "print(features_train.head())\n",
    "print(features_test.head())"
   ]
  },
  {
   "cell_type": "markdown",
   "metadata": {},
   "source": [
    "В результате мы получили масштабированные признаки для трех выборок. Перейдем к исследованию задачи моделями машинного обучения."
   ]
  },
  {
   "cell_type": "markdown",
   "metadata": {},
   "source": [
    "<div style=\"background: #B0E0E6; padding: 5px; border: 1px solid SteelBlue; border-radius: 5px;\">\n",
    "    <font color='4682B4'>Теперь только 2 выборки. Размеры сохранились, все в одной шкале.</font>\n",
    "</div>"
   ]
  },
  {
   "cell_type": "markdown",
   "metadata": {},
   "source": [
    "## Исследование задачи"
   ]
  },
  {
   "cell_type": "markdown",
   "metadata": {},
   "source": [
    "Будем использовать следующие модели:\n",
    "\n",
    "* Решающее дерево\n",
    "* Случайный лес\n",
    "* Логистическая регрессия"
   ]
  },
  {
   "cell_type": "markdown",
   "metadata": {},
   "source": [
    "### Решающее дерево"
   ]
  },
  {
   "cell_type": "markdown",
   "metadata": {},
   "source": [
    "Посмотрим какая глубина дерева лучше."
   ]
  },
  {
   "cell_type": "markdown",
   "metadata": {},
   "source": [
    "Теперь попробуем перебрать с помощью Grid Search разные параметры классифаера, при этом данные берем сразу из обучающей + валидационной выборок. (80% от всех данных, чтобы тестовые остались нетронутыми)"
   ]
  },
  {
   "cell_type": "code",
   "execution_count": 21,
   "metadata": {},
   "outputs": [],
   "source": [
    "from sklearn.model_selection import GridSearchCV\n",
    "\n",
    "classifier = DecisionTreeClassifier(random_state = 12345)\n",
    "parameters_grid = {\n",
    "        'splitter' : ['best','random'],\n",
    "        'max_features' : ['sqrt', 'log2', None],\n",
    "        'max_depth' : range(1,21)\n",
    "   }"
   ]
  },
  {
   "cell_type": "code",
   "execution_count": 22,
   "metadata": {
    "scrolled": true
   },
   "outputs": [],
   "source": [
    "grid = GridSearchCV(classifier, parameters_grid, cv=5, scoring = 'f1')\n",
    "res = grid.fit(features_train, target_train)"
   ]
  },
  {
   "cell_type": "code",
   "execution_count": 23,
   "metadata": {},
   "outputs": [],
   "source": [
    "#import sklearn.metrics\n",
    "#sklearn.metrics.SCORERS.keys()"
   ]
  },
  {
   "cell_type": "code",
   "execution_count": 24,
   "metadata": {
    "scrolled": false
   },
   "outputs": [
    {
     "data": {
      "text/plain": [
       "{'max_depth': 7, 'max_features': None, 'splitter': 'best'}"
      ]
     },
     "execution_count": 24,
     "metadata": {},
     "output_type": "execute_result"
    }
   ],
   "source": [
    "res.best_params_"
   ]
  },
  {
   "cell_type": "code",
   "execution_count": 25,
   "metadata": {},
   "outputs": [
    {
     "data": {
      "text/plain": [
       "0.5573985676003281"
      ]
     },
     "execution_count": 25,
     "metadata": {},
     "output_type": "execute_result"
    }
   ],
   "source": [
    "res.best_score_"
   ]
  },
  {
   "cell_type": "code",
   "execution_count": 26,
   "metadata": {},
   "outputs": [
    {
     "name": "stdout",
     "output_type": "stream",
     "text": [
      "Accuracy_score: 0.85\n",
      "Precision: 0.7953488372093023\n",
      "Recall: 0.40046838407494145\n",
      "F1: 0.5327102803738317\n"
     ]
    }
   ],
   "source": [
    "predictions = res.predict(features_test)\n",
    "print(\"Accuracy_score: \" + str(accuracy_score(target_test, predictions)))\n",
    "print(\"Precision: \" + str(precision_score(target_test, predictions)))\n",
    "print(\"Recall: \" + str(recall_score(target_test, predictions)))\n",
    "print(\"F1: \" + str(f1_score(target_test, predictions)))"
   ]
  },
  {
   "cell_type": "markdown",
   "metadata": {},
   "source": [
    "### Случайный лес"
   ]
  },
  {
   "cell_type": "code",
   "execution_count": 27,
   "metadata": {},
   "outputs": [
    {
     "name": "stdout",
     "output_type": "stream",
     "text": [
      "CPU times: user 4min 24s, sys: 1.43 s, total: 4min 25s\n",
      "Wall time: 4min 25s\n"
     ]
    }
   ],
   "source": [
    "%%time\n",
    "\n",
    "param_grid = {\"max_depth\": range(1,11),\n",
    "#              \"max_features\": [1, 3, 10, 20],\n",
    "              \"min_samples_split\": [1, 3, 10],\n",
    "              \"min_samples_leaf\": [1, 3, 10],\n",
    "#              \"criterion\": [\"gini\", \"entropy\"],\n",
    "              \"n_estimators\": range(20,70,10)}\n",
    "clf = RandomForestClassifier()\n",
    "\n",
    "gs = GridSearchCV(clf, param_grid=param_grid, scoring = 'f1', cv = 5) \n",
    "res2 = gs.fit(features_train, target_train)"
   ]
  },
  {
   "cell_type": "markdown",
   "metadata": {},
   "source": [
    "Времени на перебор в модели случайного леса потребуется много, ждем:)"
   ]
  },
  {
   "cell_type": "code",
   "execution_count": 28,
   "metadata": {
    "scrolled": true
   },
   "outputs": [
    {
     "data": {
      "text/plain": [
       "{'max_depth': 10,\n",
       " 'min_samples_leaf': 1,\n",
       " 'min_samples_split': 10,\n",
       " 'n_estimators': 60}"
      ]
     },
     "execution_count": 28,
     "metadata": {},
     "output_type": "execute_result"
    }
   ],
   "source": [
    "res2.best_params_"
   ]
  },
  {
   "cell_type": "code",
   "execution_count": 29,
   "metadata": {},
   "outputs": [],
   "source": [
    "RD = res2.best_params_['max_depth']\n",
    "RL = res2.best_params_['min_samples_leaf']\n",
    "RS = res2.best_params_['min_samples_split']\n",
    "RE = res2.best_params_['n_estimators']"
   ]
  },
  {
   "cell_type": "code",
   "execution_count": 30,
   "metadata": {},
   "outputs": [
    {
     "data": {
      "text/plain": [
       "0.56904157606274"
      ]
     },
     "execution_count": 30,
     "metadata": {},
     "output_type": "execute_result"
    }
   ],
   "source": [
    "res2.best_score_"
   ]
  },
  {
   "cell_type": "code",
   "execution_count": 31,
   "metadata": {},
   "outputs": [
    {
     "name": "stdout",
     "output_type": "stream",
     "text": [
      "Accuracy_score: 0.8545\n",
      "Precision: 0.8119266055045872\n",
      "Recall: 0.41451990632318503\n",
      "F1: 0.5488372093023256\n"
     ]
    }
   ],
   "source": [
    "predictions = res2.predict(features_test)\n",
    "print(\"Accuracy_score: \" + str(accuracy_score(target_test, predictions)))\n",
    "print(\"Precision: \" + str(precision_score(target_test, predictions)))\n",
    "print(\"Recall: \" + str(recall_score(target_test, predictions)))\n",
    "print(\"F1: \" + str(f1_score(target_test, predictions)))"
   ]
  },
  {
   "cell_type": "markdown",
   "metadata": {},
   "source": [
    "### Логистическая регрессия"
   ]
  },
  {
   "cell_type": "code",
   "execution_count": 32,
   "metadata": {},
   "outputs": [
    {
     "name": "stdout",
     "output_type": "stream",
     "text": [
      "CPU times: user 52.8 s, sys: 1min 7s, total: 2min\n",
      "Wall time: 2min\n"
     ]
    }
   ],
   "source": [
    "%%time\n",
    "\n",
    "clf = LogisticRegression(random_state = 12345)\n",
    "parameters_grid = {'solver': ['newton-cg', 'lbfgs', 'liblinear', 'sag', 'saga'],\n",
    "                   'max_iter' : range(10,101,10)}\n",
    "gs3 = GridSearchCV(clf, parameters_grid, scoring = 'f1', cv = 5) \n",
    "res3 = gs3.fit(features_train, target_train)"
   ]
  },
  {
   "cell_type": "markdown",
   "metadata": {},
   "source": [
    "Логистическая регрессия тоже занимает много времени."
   ]
  },
  {
   "cell_type": "code",
   "execution_count": 33,
   "metadata": {},
   "outputs": [
    {
     "data": {
      "text/plain": [
       "{'max_iter': 10, 'solver': 'sag'}"
      ]
     },
     "execution_count": 33,
     "metadata": {},
     "output_type": "execute_result"
    }
   ],
   "source": [
    "res3.best_params_"
   ]
  },
  {
   "cell_type": "code",
   "execution_count": 34,
   "metadata": {},
   "outputs": [
    {
     "data": {
      "text/plain": [
       "0.32209486087795164"
      ]
     },
     "execution_count": 34,
     "metadata": {},
     "output_type": "execute_result"
    }
   ],
   "source": [
    "res3.best_score_"
   ]
  },
  {
   "cell_type": "code",
   "execution_count": 35,
   "metadata": {},
   "outputs": [
    {
     "name": "stdout",
     "output_type": "stream",
     "text": [
      "Accuracy_score: 0.7985\n",
      "Precision: 0.5923076923076923\n",
      "Recall: 0.18032786885245902\n",
      "F1: 0.2764811490125673\n"
     ]
    }
   ],
   "source": [
    "predictions = res3.predict(features_test)\n",
    "print(\"Accuracy_score: \" + str(accuracy_score(target_test, predictions)))\n",
    "print(\"Precision: \" + str(precision_score(target_test, predictions)))\n",
    "print(\"Recall: \" + str(recall_score(target_test, predictions)))\n",
    "print(\"F1: \" + str(f1_score(target_test, predictions)))"
   ]
  },
  {
   "cell_type": "markdown",
   "metadata": {},
   "source": [
    "# Вывод:\n",
    " \n",
    "<b>Решающее дерево</b>   \n",
    "{'max_depth': 7, 'max_features': None, 'splitter': 'best'}  \n",
    "best_score 0.5573985676003281  \n",
    "\n",
    "Accuracy_score: 0.85  \n",
    "Precision: 0.7953488372093023  \n",
    "Recall: 0.40046838407494145  \n",
    "F1: 0.5327102803738317   \n",
    "\n",
    "<b>Случайный лес</b>  \n",
    "{'max_depth': 10,  \n",
    " 'min_samples_leaf': 3,  \n",
    " 'min_samples_split': 10,  \n",
    " 'n_estimators': 60}  \n",
    "best_score 0.5666661344074908   \n",
    "\n",
    "Accuracy_score: 0.851  \n",
    "Precision: 0.7918552036199095  \n",
    "Recall: 0.4098360655737705  \n",
    "F1: 0.5401234567901234   \n",
    "\n",
    "<b>Логистическая регрессия</b>  \n",
    "{'max_iter': 10, 'solver': 'sag'}  \n",
    "best_score 0.32209486087795164  \n",
    " \n",
    "Accuracy_score: 0.7985  \n",
    "Precision: 0.5923076923076923  \n",
    "Recall: 0.18032786885245902  \n",
    "F1: 0.2764811490125673  "
   ]
  },
  {
   "cell_type": "markdown",
   "metadata": {},
   "source": [
    "Получается, что самое низкое значение F-меры у логистической регрессии, а у решающего дерева и случайного леса примерно одинаковое, у последнего немного выше. Тем не менее маленькое значение F-меры говорит о низком качестве модели."
   ]
  },
  {
   "cell_type": "markdown",
   "metadata": {},
   "source": [
    "### ROC-кривой для каждой модели"
   ]
  },
  {
   "cell_type": "code",
   "execution_count": 36,
   "metadata": {},
   "outputs": [],
   "source": [
    "from sklearn.metrics import roc_curve\n",
    "from sklearn.metrics import roc_auc_score\n",
    "import matplotlib.pyplot as plt"
   ]
  },
  {
   "cell_type": "markdown",
   "metadata": {},
   "source": [
    "Построим AUC-ROC кривые для 3х моделей с лучшими параметрами, найденными ранее."
   ]
  },
  {
   "cell_type": "code",
   "execution_count": 37,
   "metadata": {},
   "outputs": [
    {
     "name": "stdout",
     "output_type": "stream",
     "text": [
      "AUC-ROC DecisionTreeClassifier 0.8309246640096117\n",
      "AUC-ROC RandomForestClassifier 0.8693348380382658\n",
      "AUC-ROC LogisticRegression 0.7537723081687313\n"
     ]
    },
    {
     "data": {
      "image/png": "[encoded data removed]",
      "text/plain": [
       "<Figure size 864x648 with 1 Axes>"
      ]
     },
     "metadata": {
      "needs_background": "light"
     },
     "output_type": "display_data"
    }
   ],
   "source": [
    "plt.figure(figsize=[12,9])\n",
    "\n",
    "plt.plot([0, 1], [0, 1], linestyle='--', label='RandomModel')\n",
    "\n",
    "\n",
    "model = DecisionTreeClassifier(random_state=12345, max_depth=7)\n",
    "model.fit(features_train, target_train)\n",
    "probabilities_valid = model.predict_proba(features_test)\n",
    "probabilities_one_valid = probabilities_valid[:, 1]\n",
    "fpr, tpr, thresholds = roc_curve(target_test, probabilities_one_valid)\n",
    "auc_roc = roc_auc_score(target_test, probabilities_one_valid)\n",
    "print('AUC-ROC DecisionTreeClassifier',auc_roc)\n",
    "plt.plot(fpr, tpr, label='DecisionTreeClassifier')\n",
    "\n",
    "model = RandomForestClassifier(random_state=12345, max_depth= 10,\\\n",
    "                               min_samples_leaf= 3,min_samples_split= 10, n_estimators= 60)\n",
    "model.fit(features_train, target_train)\n",
    "probabilities_valid = model.predict_proba(features_test)\n",
    "probabilities_one_valid = probabilities_valid[:, 1]\n",
    "fpr, tpr, thresholds = roc_curve(target_test, probabilities_one_valid)\n",
    "auc_roc = roc_auc_score(target_test, probabilities_one_valid)\n",
    "print('AUC-ROC RandomForestClassifier',auc_roc)\n",
    "plt.plot(fpr, tpr, label='RandomForestClassifier')\n",
    "\n",
    "model = LogisticRegression(random_state=12345, solver='sag',max_iter=10 )\n",
    "model.fit(features_train, target_train)\n",
    "probabilities_valid = model.predict_proba(features_test)\n",
    "probabilities_one_valid = probabilities_valid[:, 1]\n",
    "fpr, tpr, thresholds = roc_curve(target_test, probabilities_one_valid)\n",
    "auc_roc = roc_auc_score(target_test, probabilities_one_valid)\n",
    "print('AUC-ROC LogisticRegression',auc_roc)\n",
    "plt.plot(fpr, tpr, label='LogisticRegression')\n",
    "\n",
    "\n",
    "plt.xlim([0,1])\n",
    "plt.ylim([0,1])\n",
    "\n",
    "plt.xlabel(\"False Positive Rate\")\n",
    "plt.ylabel(\"True Positive Rate\")\n",
    "\n",
    "plt.legend(loc='lower right', fontsize='x-large')\n",
    "\n",
    "plt.title(\"ROC-кривая\")\n",
    "plt.show()"
   ]
  },
  {
   "cell_type": "markdown",
   "metadata": {},
   "source": [
    "Как и говорила раньше, лучше себя показала модель случайного леса. Немного хуже Решающее дерево, и самое низкое у ЛР."
   ]
  },
  {
   "cell_type": "markdown",
   "metadata": {},
   "source": [
    "## Борьба с дисбалансом"
   ]
  },
  {
   "cell_type": "markdown",
   "metadata": {},
   "source": [
    "Применим 3 варианта работы с несбалансированной классификацией:\n",
    "\n",
    "- взвешиевание классов\n",
    "- увеличение выборки\n",
    "- уменьшение выборки"
   ]
  },
  {
   "cell_type": "markdown",
   "metadata": {},
   "source": [
    "### Взвешивание классов"
   ]
  },
  {
   "cell_type": "code",
   "execution_count": 38,
   "metadata": {
    "scrolled": true
   },
   "outputs": [],
   "source": [
    "# model = DecisionTreeClassifier(random_state=12345, max_depth=8, class_weight='balanced')\n",
    "# model.fit(features_train, target_train)\n",
    "# predicted_valid = model.predict(features_valid)\n",
    "# print('Решающее дерево')\n",
    "# print('Accuracy_score', accuracy_score(target_valid, predicted_valid))\n",
    "# print('Precision', precision_score(target_valid, predicted_valid))\n",
    "# print('Recall', recall_score(target_valid, predicted_valid))\n",
    "# print('F1', f1_score(target_valid, predicted_valid))\n",
    "# print()\n",
    "\n",
    "# model = RandomForestClassifier(random_state=12345, max_depth= 10,\\\n",
    "#                                min_samples_leaf= 1,min_samples_split= 10, n_estimators= 50, class_weight='balanced')\n",
    "# model.fit(features_train, target_train)\n",
    "# predicted_valid = model.predict(features_valid)\n",
    "# print('Случайный лес')\n",
    "# print('Accuracy_score', accuracy_score(target_valid, predicted_valid))\n",
    "# print('Precision', precision_score(target_valid, predicted_valid))\n",
    "# print('Recall', recall_score(target_valid, predicted_valid))\n",
    "# print('F1', f1_score(target_valid, predicted_valid))\n",
    "# print()\n",
    "\n",
    "# model = LogisticRegression(random_state=12345, solver='newton-cg',max_iter=100, class_weight='balanced')\n",
    "# model.fit(features_train, target_train)\n",
    "# predicted_valid = model.predict(features_valid)\n",
    "# print('Логистическая регрессия')\n",
    "# print('Accuracy_score', accuracy_score(target_valid, predicted_valid))\n",
    "# print('Precision', precision_score(target_valid, predicted_valid))\n",
    "# print('Recall', recall_score(target_valid, predicted_valid))\n",
    "# print('F1', f1_score(target_valid, predicted_valid))\n",
    "# print()"
   ]
  },
  {
   "cell_type": "markdown",
   "metadata": {},
   "source": [
    "#### Решающее дерево"
   ]
  },
  {
   "cell_type": "code",
   "execution_count": 39,
   "metadata": {},
   "outputs": [],
   "source": [
    "classifier = DecisionTreeClassifier(random_state = 12345)\n",
    "parameters_grid = {\n",
    "        'class_weight' : ['balanced'],\n",
    "        'splitter' : ['best','random'],\n",
    "        'max_features' : ['sqrt', 'log2', None],\n",
    "        'max_depth' : range(1,21)\n",
    "   }\n",
    "grid = GridSearchCV(classifier, parameters_grid, cv=5, scoring = 'f1')\n",
    "res = grid.fit(features_train, target_train)"
   ]
  },
  {
   "cell_type": "code",
   "execution_count": 40,
   "metadata": {},
   "outputs": [
    {
     "data": {
      "text/plain": [
       "{'class_weight': 'balanced',\n",
       " 'max_depth': 6,\n",
       " 'max_features': None,\n",
       " 'splitter': 'best'}"
      ]
     },
     "execution_count": 40,
     "metadata": {},
     "output_type": "execute_result"
    }
   ],
   "source": [
    "res.best_params_"
   ]
  },
  {
   "cell_type": "code",
   "execution_count": 41,
   "metadata": {},
   "outputs": [
    {
     "data": {
      "text/plain": [
       "0.5611481665937952"
      ]
     },
     "execution_count": 41,
     "metadata": {},
     "output_type": "execute_result"
    }
   ],
   "source": [
    "res.best_score_"
   ]
  },
  {
   "cell_type": "code",
   "execution_count": 42,
   "metadata": {},
   "outputs": [
    {
     "name": "stdout",
     "output_type": "stream",
     "text": [
      "Accuracy_score: 0.7835\n",
      "Precision: 0.49538461538461537\n",
      "Recall: 0.7540983606557377\n",
      "F1: 0.5979572887650882\n"
     ]
    }
   ],
   "source": [
    "predictions = res.predict(features_test)\n",
    "print(\"Accuracy_score: \" + str(accuracy_score(target_test, predictions)))\n",
    "print(\"Precision: \" + str(precision_score(target_test, predictions)))\n",
    "print(\"Recall: \" + str(recall_score(target_test, predictions)))\n",
    "print(\"F1: \" + str(f1_score(target_test, predictions)))"
   ]
  },
  {
   "cell_type": "markdown",
   "metadata": {},
   "source": [
    "#### Случайный лес"
   ]
  },
  {
   "cell_type": "code",
   "execution_count": 43,
   "metadata": {},
   "outputs": [
    {
     "name": "stdout",
     "output_type": "stream",
     "text": [
      "CPU times: user 4min 27s, sys: 1.29 s, total: 4min 29s\n",
      "Wall time: 4min 29s\n"
     ]
    }
   ],
   "source": [
    "%%time\n",
    "\n",
    "param_grid = {'max_depth': range(1,11),\n",
    "#              'max_features': [1, 3, 10, 20],\n",
    "              'min_samples_split': [1, 3, 10],\n",
    "              'min_samples_leaf': [1, 3, 10],\n",
    "#              'criterion': ['gini', 'entropy'],\n",
    "              'n_estimators': range(20,70,10),\n",
    "             'class_weight' : ['balanced']}\n",
    "clf = RandomForestClassifier()\n",
    "\n",
    "gs = GridSearchCV(clf, param_grid=param_grid, scoring = 'f1', cv = 5) \n",
    "res2 = gs.fit(features_train, target_train)"
   ]
  },
  {
   "cell_type": "code",
   "execution_count": 44,
   "metadata": {
    "scrolled": true
   },
   "outputs": [
    {
     "data": {
      "text/plain": [
       "{'class_weight': 'balanced',\n",
       " 'max_depth': 10,\n",
       " 'min_samples_leaf': 3,\n",
       " 'min_samples_split': 3,\n",
       " 'n_estimators': 40}"
      ]
     },
     "execution_count": 44,
     "metadata": {},
     "output_type": "execute_result"
    }
   ],
   "source": [
    "res2.best_params_"
   ]
  },
  {
   "cell_type": "code",
   "execution_count": 45,
   "metadata": {},
   "outputs": [],
   "source": [
    "WD = res2.best_params_['max_depth']\n",
    "WL = res2.best_params_['min_samples_leaf']\n",
    "WS = res2.best_params_['min_samples_split']\n",
    "WE = res2.best_params_['n_estimators']"
   ]
  },
  {
   "cell_type": "code",
   "execution_count": 46,
   "metadata": {},
   "outputs": [
    {
     "data": {
      "text/plain": [
       "0.6178856332119326"
      ]
     },
     "execution_count": 46,
     "metadata": {},
     "output_type": "execute_result"
    }
   ],
   "source": [
    "res2.best_score_"
   ]
  },
  {
   "cell_type": "code",
   "execution_count": 47,
   "metadata": {},
   "outputs": [
    {
     "name": "stdout",
     "output_type": "stream",
     "text": [
      "Accuracy_score: 0.8335\n",
      "Precision: 0.5995762711864406\n",
      "Recall: 0.6627634660421545\n",
      "F1: 0.6295884315906563\n"
     ]
    }
   ],
   "source": [
    "predictions = res2.predict(features_test)\n",
    "print(\"Accuracy_score: \" + str(accuracy_score(target_test, predictions)))\n",
    "print(\"Precision: \" + str(precision_score(target_test, predictions)))\n",
    "print(\"Recall: \" + str(recall_score(target_test, predictions)))\n",
    "print(\"F1: \" + str(f1_score(target_test, predictions)))"
   ]
  },
  {
   "cell_type": "markdown",
   "metadata": {},
   "source": [
    "#### Логистическая регрессия"
   ]
  },
  {
   "cell_type": "code",
   "execution_count": 48,
   "metadata": {},
   "outputs": [
    {
     "name": "stdout",
     "output_type": "stream",
     "text": [
      "CPU times: user 57.4 s, sys: 1min 5s, total: 2min 3s\n",
      "Wall time: 2min 3s\n"
     ]
    }
   ],
   "source": [
    "%%time\n",
    "\n",
    "clf = LogisticRegression(random_state = 12345)\n",
    "parameters_grid = {\n",
    "        'class_weight' : ['balanced'],\n",
    "        'solver': ['newton-cg', 'lbfgs', 'liblinear', 'sag', 'saga'],\n",
    "        'max_iter' : range(10,101,10)}\n",
    "gs3 = GridSearchCV(clf, parameters_grid, scoring = 'f1', cv = 5) \n",
    "res3 = gs3.fit(features_train, target_train)"
   ]
  },
  {
   "cell_type": "code",
   "execution_count": 49,
   "metadata": {},
   "outputs": [
    {
     "data": {
      "text/plain": [
       "{'class_weight': 'balanced', 'max_iter': 10, 'solver': 'sag'}"
      ]
     },
     "execution_count": 49,
     "metadata": {},
     "output_type": "execute_result"
    }
   ],
   "source": [
    "res3.best_params_"
   ]
  },
  {
   "cell_type": "code",
   "execution_count": 50,
   "metadata": {},
   "outputs": [
    {
     "data": {
      "text/plain": [
       "0.4901764839586099"
      ]
     },
     "execution_count": 50,
     "metadata": {},
     "output_type": "execute_result"
    }
   ],
   "source": [
    "res3.best_score_"
   ]
  },
  {
   "cell_type": "code",
   "execution_count": 51,
   "metadata": {},
   "outputs": [
    {
     "name": "stdout",
     "output_type": "stream",
     "text": [
      "Accuracy_score: 0.712\n",
      "Precision: 0.3989145183175034\n",
      "Recall: 0.6885245901639344\n",
      "F1: 0.5051546391752577\n"
     ]
    }
   ],
   "source": [
    "predictions = res3.predict(features_test)\n",
    "print(\"Accuracy_score: \" + str(accuracy_score(target_test, predictions)))\n",
    "print(\"Precision: \" + str(precision_score(target_test, predictions)))\n",
    "print(\"Recall: \" + str(recall_score(target_test, predictions)))\n",
    "print(\"F1: \" + str(f1_score(target_test, predictions)))"
   ]
  },
  {
   "cell_type": "markdown",
   "metadata": {},
   "source": [
    "# Новый вывод:\n",
    " \n",
    "<b>Решающее дерево</b>   \n",
    "{'class_weight': 'balanced',  \n",
    " 'max_depth': 6,  \n",
    " 'max_features': None,  \n",
    " 'splitter': 'best'}   \n",
    "best_score 0.5611481665937952  \n",
    "\n",
    "Accuracy_score: 0.7835  \n",
    "Precision: 0.49538461538461537  \n",
    "Recall: 0.7540983606557377  \n",
    "F1: 0.5979572887650882     \n",
    "\n",
    "<b>Случайный лес</b>  \n",
    "{'class_weight': 'balanced',  \n",
    " 'max_depth': 10,  \n",
    " 'min_samples_leaf': 1,  \n",
    " 'min_samples_split': 10,  \n",
    " 'n_estimators': 40}  \n",
    "best_score 0.6183456538888195     \n",
    "\n",
    "Accuracy_score: 0.8365  \n",
    "Precision: 0.604602510460251  \n",
    "Recall: 0.6768149882903981  \n",
    "F1: 0.6386740331491713     \n",
    "\n",
    "<b>Логистическая регрессия</b>  \n",
    "{'class_weight': 'balanced', 'max_iter': 10, 'solver': 'sag'}    \n",
    "best_score 0.4901764839586099    \n",
    " \n",
    "Accuracy_score: 0.712  \n",
    "Precision: 0.3989145183175034  \n",
    "Recall: 0.6885245901639344  \n",
    "F1: 0.5051546391752577  \n"
   ]
  },
  {
   "cell_type": "markdown",
   "metadata": {},
   "source": [
    "- F1 у решающего дерево немножечко вырос\n",
    "- у случайного леса заметно вырос\n",
    "- у ЛГ вырос почти в 2 раза!"
   ]
  },
  {
   "cell_type": "markdown",
   "metadata": {},
   "source": [
    "### Увеличение выборки (класса 1)"
   ]
  },
  {
   "cell_type": "code",
   "execution_count": 52,
   "metadata": {},
   "outputs": [
    {
     "name": "stdout",
     "output_type": "stream",
     "text": [
      "1    6440\n",
      "0    6390\n",
      "Name: Exited, dtype: int64\n",
      "(12830,)\n"
     ]
    }
   ],
   "source": [
    "from sklearn.utils import shuffle\n",
    "\n",
    "def upsample(features, target, repeat):\n",
    "    features_zeros = features[target ==0]\n",
    "    features_ones = features[target ==1]\n",
    "    target_zeros = target[target ==0]\n",
    "    target_ones = target[target ==1]\n",
    "    features_upsampled = pd.concat([features_zeros]+[features_ones]*repeat)\n",
    "    target_upsampled = pd.concat([target_zeros]+[target_ones]*repeat)\n",
    "    features_upsampled, target_upsampled = shuffle(features_upsampled, target_upsampled, random_state = 12345)\n",
    "    return features_upsampled, target_upsampled\n",
    "\n",
    "features_upsampled, target_upsampled = upsample(features_train, target_train, 4)\n",
    "\n",
    "print(target_upsampled.value_counts())\n",
    "print(target_upsampled.shape)"
   ]
  },
  {
   "cell_type": "code",
   "execution_count": 53,
   "metadata": {
    "scrolled": false
   },
   "outputs": [],
   "source": [
    "# model = DecisionTreeClassifier(random_state=12345, max_depth=8)\n",
    "# model.fit(features_upsampled, target_upsampled)\n",
    "# predicted_valid = model.predict(features_valid)\n",
    "# print('Решающее дерево')\n",
    "# print('Accuracy_score', accuracy_score(target_valid, predicted_valid))\n",
    "# print('Precision', precision_score(target_valid, predicted_valid))\n",
    "# print('Recall', recall_score(target_valid, predicted_valid))\n",
    "# print('F1', f1_score(target_valid, predicted_valid))\n",
    "# print()\n",
    "\n",
    "# model = RandomForestClassifier(random_state=12345, max_depth= 10,\\\n",
    "#                                min_samples_leaf= 1,min_samples_split= 10, n_estimators= 50)\n",
    "# model.fit(features_upsampled, target_upsampled)\n",
    "# predicted_valid = model.predict(features_valid)\n",
    "# print('Случайный лес')\n",
    "# print('Accuracy_score', accuracy_score(target_valid, predicted_valid))\n",
    "# print('Precision', precision_score(target_valid, predicted_valid))\n",
    "# print('Recall', recall_score(target_valid, predicted_valid))\n",
    "# print('F1', f1_score(target_valid, predicted_valid))\n",
    "# print()\n",
    "\n",
    "# model = LogisticRegression(random_state=12345, solver='newton-cg',max_iter=100)\n",
    "# model.fit(features_upsampled, target_upsampled)\n",
    "# predicted_valid = model.predict(features_valid)\n",
    "# print('Логистическая регрессия')\n",
    "# print('Accuracy_score', accuracy_score(target_valid, predicted_valid))\n",
    "# print('Precision', precision_score(target_valid, predicted_valid))\n",
    "# print('Recall', recall_score(target_valid, predicted_valid))\n",
    "# print('F1', f1_score(target_valid, predicted_valid))\n",
    "# print()"
   ]
  },
  {
   "cell_type": "markdown",
   "metadata": {},
   "source": [
    "У решающего дерево F1 стал хуже, чем был на несбалансированных данных (совсем слегка),   \n",
    "У случайного леса вырос, но не лучше чем при взвешенных,  \n",
    "у ЛР тоже вырос почти в 2 раза, но не лучше чем при взвешенных.\n"
   ]
  },
  {
   "cell_type": "markdown",
   "metadata": {},
   "source": [
    "#### Решающее дерево"
   ]
  },
  {
   "cell_type": "code",
   "execution_count": 54,
   "metadata": {},
   "outputs": [],
   "source": [
    "classifier = DecisionTreeClassifier(random_state = 12345)\n",
    "parameters_grid = {\n",
    "        'splitter' : ['best','random'],\n",
    "        'max_features' : ['sqrt', 'log2', None],\n",
    "        'max_depth' : range(1,21)\n",
    "   }\n",
    "grid = GridSearchCV(classifier, parameters_grid, cv=5, scoring = 'f1')\n",
    "res = grid.fit(features_upsampled, target_upsampled)"
   ]
  },
  {
   "cell_type": "code",
   "execution_count": 55,
   "metadata": {},
   "outputs": [
    {
     "data": {
      "text/plain": [
       "{'max_depth': 20, 'max_features': None, 'splitter': 'best'}"
      ]
     },
     "execution_count": 55,
     "metadata": {},
     "output_type": "execute_result"
    }
   ],
   "source": [
    "res.best_params_"
   ]
  },
  {
   "cell_type": "code",
   "execution_count": 56,
   "metadata": {},
   "outputs": [
    {
     "data": {
      "text/plain": [
       "0.9282560625069888"
      ]
     },
     "execution_count": 56,
     "metadata": {},
     "output_type": "execute_result"
    }
   ],
   "source": [
    "res.best_score_"
   ]
  },
  {
   "cell_type": "code",
   "execution_count": 57,
   "metadata": {},
   "outputs": [
    {
     "name": "stdout",
     "output_type": "stream",
     "text": [
      "Accuracy_score: 0.786\n",
      "Precision: 0.4987951807228916\n",
      "Recall: 0.4847775175644028\n",
      "F1: 0.491686460807601\n"
     ]
    }
   ],
   "source": [
    "predictions = res.predict(features_test)\n",
    "print(\"Accuracy_score: \" + str(accuracy_score(target_test, predictions)))\n",
    "print(\"Precision: \" + str(precision_score(target_test, predictions)))\n",
    "print(\"Recall: \" + str(recall_score(target_test, predictions)))\n",
    "print(\"F1: \" + str(f1_score(target_test, predictions)))"
   ]
  },
  {
   "cell_type": "markdown",
   "metadata": {},
   "source": [
    "#### Случайный лес"
   ]
  },
  {
   "cell_type": "code",
   "execution_count": 58,
   "metadata": {},
   "outputs": [
    {
     "name": "stdout",
     "output_type": "stream",
     "text": [
      "CPU times: user 6min 8s, sys: 1.45 s, total: 6min 9s\n",
      "Wall time: 6min 10s\n"
     ]
    }
   ],
   "source": [
    "%%time\n",
    "\n",
    "param_grid = {'max_depth': range(1,11),\n",
    "#              'max_features': [1, 3, 10, 20],\n",
    "              'min_samples_split': [1, 3, 10],\n",
    "              'min_samples_leaf': [1, 3, 10],\n",
    "#              'criterion': ['gini', 'entropy'],\n",
    "              'n_estimators': range(20,70,10)}\n",
    "clf = RandomForestClassifier()\n",
    "\n",
    "gs = GridSearchCV(clf, param_grid=param_grid, scoring = 'f1', cv = 5) \n",
    "res2 = gs.fit(features_upsampled, target_upsampled)"
   ]
  },
  {
   "cell_type": "code",
   "execution_count": 59,
   "metadata": {},
   "outputs": [
    {
     "data": {
      "text/plain": [
       "{'max_depth': 10,\n",
       " 'min_samples_leaf': 1,\n",
       " 'min_samples_split': 3,\n",
       " 'n_estimators': 50}"
      ]
     },
     "execution_count": 59,
     "metadata": {},
     "output_type": "execute_result"
    }
   ],
   "source": [
    "res2.best_params_"
   ]
  },
  {
   "cell_type": "code",
   "execution_count": 60,
   "metadata": {},
   "outputs": [],
   "source": [
    "ID = res2.best_params_['max_depth']\n",
    "IL = res2.best_params_['min_samples_leaf']\n",
    "IS = res2.best_params_['min_samples_split']\n",
    "IE = res2.best_params_['n_estimators']"
   ]
  },
  {
   "cell_type": "code",
   "execution_count": 61,
   "metadata": {},
   "outputs": [
    {
     "data": {
      "text/plain": [
       "0.8518228723963578"
      ]
     },
     "execution_count": 61,
     "metadata": {},
     "output_type": "execute_result"
    }
   ],
   "source": [
    "res2.best_score_"
   ]
  },
  {
   "cell_type": "code",
   "execution_count": 62,
   "metadata": {},
   "outputs": [
    {
     "name": "stdout",
     "output_type": "stream",
     "text": [
      "Accuracy_score: 0.8295\n",
      "Precision: 0.5820610687022901\n",
      "Recall: 0.7142857142857143\n",
      "F1: 0.6414300736067298\n"
     ]
    }
   ],
   "source": [
    "predictions = res2.predict(features_test)\n",
    "print(\"Accuracy_score: \" + str(accuracy_score(target_test, predictions)))\n",
    "print(\"Precision: \" + str(precision_score(target_test, predictions)))\n",
    "print(\"Recall: \" + str(recall_score(target_test, predictions)))\n",
    "print(\"F1: \" + str(f1_score(target_test, predictions)))"
   ]
  },
  {
   "cell_type": "markdown",
   "metadata": {},
   "source": [
    "#### Логистическая регрессия"
   ]
  },
  {
   "cell_type": "code",
   "execution_count": 63,
   "metadata": {},
   "outputs": [
    {
     "name": "stdout",
     "output_type": "stream",
     "text": [
      "CPU times: user 1min 4s, sys: 1min 13s, total: 2min 18s\n",
      "Wall time: 2min 18s\n"
     ]
    }
   ],
   "source": [
    "%%time\n",
    "\n",
    "clf = LogisticRegression(random_state = 12345)\n",
    "parameters_grid = {\n",
    "        'solver': ['newton-cg', 'lbfgs', 'liblinear', 'sag', 'saga'],\n",
    "        'max_iter' : range(10,101,10)}\n",
    "gs3 = GridSearchCV(clf, parameters_grid, scoring = 'f1', cv = 5) \n",
    "res3 = gs3.fit(features_upsampled, target_upsampled)"
   ]
  },
  {
   "cell_type": "code",
   "execution_count": 64,
   "metadata": {},
   "outputs": [
    {
     "data": {
      "text/plain": [
       "{'max_iter': 10, 'solver': 'liblinear'}"
      ]
     },
     "execution_count": 64,
     "metadata": {},
     "output_type": "execute_result"
    }
   ],
   "source": [
    "res3.best_params_"
   ]
  },
  {
   "cell_type": "code",
   "execution_count": 65,
   "metadata": {},
   "outputs": [
    {
     "data": {
      "text/plain": [
       "0.7020411840445248"
      ]
     },
     "execution_count": 65,
     "metadata": {},
     "output_type": "execute_result"
    }
   ],
   "source": [
    "res3.best_score_"
   ]
  },
  {
   "cell_type": "code",
   "execution_count": 66,
   "metadata": {},
   "outputs": [
    {
     "name": "stdout",
     "output_type": "stream",
     "text": [
      "Accuracy_score: 0.703\n",
      "Precision: 0.3908496732026144\n",
      "Recall: 0.7002341920374707\n",
      "F1: 0.5016778523489932\n"
     ]
    }
   ],
   "source": [
    "predictions = res3.predict(features_test)\n",
    "print(\"Accuracy_score: \" + str(accuracy_score(target_test, predictions)))\n",
    "print(\"Precision: \" + str(precision_score(target_test, predictions)))\n",
    "print(\"Recall: \" + str(recall_score(target_test, predictions)))\n",
    "print(\"F1: \" + str(f1_score(target_test, predictions)))"
   ]
  },
  {
   "cell_type": "markdown",
   "metadata": {},
   "source": [
    "### Уменьшение выборки (класса 0)"
   ]
  },
  {
   "cell_type": "code",
   "execution_count": 67,
   "metadata": {},
   "outputs": [
    {
     "name": "stdout",
     "output_type": "stream",
     "text": [
      "1    1610\n",
      "0    1598\n",
      "Name: Exited, dtype: int64\n",
      "(3208,)\n"
     ]
    }
   ],
   "source": [
    "def downsample(features, target, fraction):\n",
    "    features_zeros = features[target == 0]\n",
    "    features_ones = features[target == 1]\n",
    "    target_zeros = target[target == 0]\n",
    "    target_ones = target[target == 1]\n",
    "\n",
    "    features_downsampled = pd.concat(\n",
    "        [features_zeros.sample(frac=fraction, random_state=12345)] + [features_ones])\n",
    "    target_downsampled = pd.concat(\n",
    "        [target_zeros.sample(frac=fraction, random_state=12345)] + [target_ones])\n",
    "    \n",
    "    features_downsampled, target_downsampled = shuffle(\n",
    "        features_downsampled, target_downsampled, random_state=12345)\n",
    "    \n",
    "    return features_downsampled, target_downsampled\n",
    "\n",
    "features_downsampled, target_downsampled = downsample(features_train, target_train, 0.25)\n",
    "\n",
    "print(target_downsampled.value_counts())\n",
    "print(target_downsampled.shape)"
   ]
  },
  {
   "cell_type": "code",
   "execution_count": 68,
   "metadata": {},
   "outputs": [],
   "source": [
    "# %%time\n",
    "\n",
    "# model = DecisionTreeClassifier(random_state=12345, max_depth=8)\n",
    "# model.fit(features_downsampled, target_downsampled)\n",
    "# predicted_valid = model.predict(features_valid)\n",
    "# print('Решающее дерево')\n",
    "# print('Accuracy_score', accuracy_score(target_valid, predicted_valid))\n",
    "# print('Precision', precision_score(target_valid, predicted_valid))\n",
    "# print('Recall', recall_score(target_valid, predicted_valid))\n",
    "# print('F1', f1_score(target_valid, predicted_valid))\n",
    "# print()\n",
    "\n",
    "# model = RandomForestClassifier(random_state=12345, max_depth= 10,\\\n",
    "#                                min_samples_leaf= 1,min_samples_split= 10, n_estimators= 50)\n",
    "# model.fit(features_downsampled, target_downsampled)\n",
    "# predicted_valid = model.predict(features_valid)\n",
    "# print('Случайный лес')\n",
    "# print('Accuracy_score', accuracy_score(target_valid, predicted_valid))\n",
    "# print('Precision', precision_score(target_valid, predicted_valid))\n",
    "# print('Recall', recall_score(target_valid, predicted_valid))\n",
    "# print('F1', f1_score(target_valid, predicted_valid))\n",
    "# print()\n",
    "\n",
    "# model = LogisticRegression(random_state=12345, solver='newton-cg',max_iter=100)\n",
    "# model.fit(features_downsampled, target_downsampled)\n",
    "# predicted_valid = model.predict(features_valid)\n",
    "# print('Логистическая регрессия')\n",
    "# print('Accuracy_score', accuracy_score(target_valid, predicted_valid))\n",
    "# print('Precision', precision_score(target_valid, predicted_valid))\n",
    "# print('Recall', recall_score(target_valid, predicted_valid))\n",
    "# print('F1', f1_score(target_valid, predicted_valid))\n",
    "# print()"
   ]
  },
  {
   "cell_type": "markdown",
   "metadata": {},
   "source": [
    "Уменьшение выборки практически уменьшило F1 решающего дерева,у случайного леса выросло, но не сильно, а у ЛР показало лучший из 3х методов балансировки."
   ]
  },
  {
   "cell_type": "markdown",
   "metadata": {},
   "source": [
    "#### Решающее дерево"
   ]
  },
  {
   "cell_type": "code",
   "execution_count": 69,
   "metadata": {},
   "outputs": [],
   "source": [
    "classifier = DecisionTreeClassifier(random_state = 12345)\n",
    "parameters_grid = {\n",
    "        'splitter' : ['best','random'],\n",
    "        'max_features' : ['sqrt', 'log2', None],\n",
    "        'max_depth' : range(1,21)\n",
    "   }\n",
    "grid = GridSearchCV(classifier, parameters_grid, cv=5, scoring = 'f1')\n",
    "res = grid.fit(features_downsampled, target_downsampled)"
   ]
  },
  {
   "cell_type": "code",
   "execution_count": 70,
   "metadata": {},
   "outputs": [
    {
     "data": {
      "text/plain": [
       "{'max_depth': 6, 'max_features': None, 'splitter': 'best'}"
      ]
     },
     "execution_count": 70,
     "metadata": {},
     "output_type": "execute_result"
    }
   ],
   "source": [
    "res.best_params_"
   ]
  },
  {
   "cell_type": "code",
   "execution_count": 71,
   "metadata": {},
   "outputs": [
    {
     "data": {
      "text/plain": [
       "0.7576420956142563"
      ]
     },
     "execution_count": 71,
     "metadata": {},
     "output_type": "execute_result"
    }
   ],
   "source": [
    "res.best_score_"
   ]
  },
  {
   "cell_type": "code",
   "execution_count": 72,
   "metadata": {},
   "outputs": [
    {
     "name": "stdout",
     "output_type": "stream",
     "text": [
      "Accuracy_score: 0.784\n",
      "Precision: 0.4960998439937597\n",
      "Recall: 0.7447306791569087\n",
      "F1: 0.5955056179775281\n"
     ]
    }
   ],
   "source": [
    "predictions = res.predict(features_test)\n",
    "print(\"Accuracy_score: \" + str(accuracy_score(target_test, predictions)))\n",
    "print(\"Precision: \" + str(precision_score(target_test, predictions)))\n",
    "print(\"Recall: \" + str(recall_score(target_test, predictions)))\n",
    "print(\"F1: \" + str(f1_score(target_test, predictions)))"
   ]
  },
  {
   "cell_type": "markdown",
   "metadata": {},
   "source": [
    "#### Случайный лес"
   ]
  },
  {
   "cell_type": "code",
   "execution_count": 73,
   "metadata": {},
   "outputs": [
    {
     "name": "stdout",
     "output_type": "stream",
     "text": [
      "CPU times: user 2min 41s, sys: 1.15 s, total: 2min 43s\n",
      "Wall time: 2min 43s\n"
     ]
    }
   ],
   "source": [
    "%%time\n",
    "\n",
    "param_grid = {'max_depth': range(1,11),\n",
    "#              'max_features': [1, 3, 10, 20],\n",
    "              'min_samples_split': [1, 3, 10],\n",
    "              'min_samples_leaf': [1, 3, 10],\n",
    "#              'criterion': ['gini', 'entropy'],\n",
    "              'n_estimators': range(20,70,10)}\n",
    "clf = RandomForestClassifier()\n",
    "\n",
    "gs = GridSearchCV(clf, param_grid=param_grid, scoring = 'f1', cv = 5) \n",
    "res2 = gs.fit(features_downsampled, target_downsampled)"
   ]
  },
  {
   "cell_type": "code",
   "execution_count": 74,
   "metadata": {},
   "outputs": [
    {
     "data": {
      "text/plain": [
       "{'max_depth': 10,\n",
       " 'min_samples_leaf': 1,\n",
       " 'min_samples_split': 3,\n",
       " 'n_estimators': 60}"
      ]
     },
     "execution_count": 74,
     "metadata": {},
     "output_type": "execute_result"
    }
   ],
   "source": [
    "res2.best_params_"
   ]
  },
  {
   "cell_type": "code",
   "execution_count": 75,
   "metadata": {},
   "outputs": [],
   "source": [
    "DD = res2.best_params_['max_depth']\n",
    "DL = res2.best_params_['min_samples_leaf']\n",
    "DS = res2.best_params_['min_samples_split']\n",
    "DE = res2.best_params_['n_estimators']"
   ]
  },
  {
   "cell_type": "code",
   "execution_count": 76,
   "metadata": {},
   "outputs": [
    {
     "data": {
      "text/plain": [
       "0.7780165650920876"
      ]
     },
     "execution_count": 76,
     "metadata": {},
     "output_type": "execute_result"
    }
   ],
   "source": [
    "res2.best_score_"
   ]
  },
  {
   "cell_type": "code",
   "execution_count": 77,
   "metadata": {},
   "outputs": [
    {
     "name": "stdout",
     "output_type": "stream",
     "text": [
      "Accuracy_score: 0.7895\n",
      "Precision: 0.5046153846153846\n",
      "Recall: 0.7681498829039812\n",
      "F1: 0.6090993500464252\n"
     ]
    }
   ],
   "source": [
    "predictions = res2.predict(features_test)\n",
    "print(\"Accuracy_score: \" + str(accuracy_score(target_test, predictions)))\n",
    "print(\"Precision: \" + str(precision_score(target_test, predictions)))\n",
    "print(\"Recall: \" + str(recall_score(target_test, predictions)))\n",
    "print(\"F1: \" + str(f1_score(target_test, predictions)))"
   ]
  },
  {
   "cell_type": "markdown",
   "metadata": {},
   "source": [
    "#### Логистическая регрессия"
   ]
  },
  {
   "cell_type": "code",
   "execution_count": 78,
   "metadata": {},
   "outputs": [
    {
     "name": "stdout",
     "output_type": "stream",
     "text": [
      "CPU times: user 28.3 s, sys: 40 s, total: 1min 8s\n",
      "Wall time: 1min 8s\n"
     ]
    }
   ],
   "source": [
    "%%time\n",
    "\n",
    "clf = LogisticRegression(random_state = 12345)\n",
    "parameters_grid = {\n",
    "        'solver': ['newton-cg', 'lbfgs', 'liblinear', 'sag', 'saga'],\n",
    "        'max_iter' : range(10,101,10)}\n",
    "gs3 = GridSearchCV(clf, parameters_grid, scoring = 'f1', cv = 5) \n",
    "res3 = gs3.fit(features_downsampled, target_downsampled)"
   ]
  },
  {
   "cell_type": "code",
   "execution_count": 79,
   "metadata": {},
   "outputs": [
    {
     "data": {
      "text/plain": [
       "{'max_iter': 10, 'solver': 'lbfgs'}"
      ]
     },
     "execution_count": 79,
     "metadata": {},
     "output_type": "execute_result"
    }
   ],
   "source": [
    "res3.best_params_"
   ]
  },
  {
   "cell_type": "code",
   "execution_count": 80,
   "metadata": {},
   "outputs": [
    {
     "data": {
      "text/plain": [
       "0.7056861376827765"
      ]
     },
     "execution_count": 80,
     "metadata": {},
     "output_type": "execute_result"
    }
   ],
   "source": [
    "res3.best_score_"
   ]
  },
  {
   "cell_type": "code",
   "execution_count": 81,
   "metadata": {},
   "outputs": [
    {
     "name": "stdout",
     "output_type": "stream",
     "text": [
      "Accuracy_score: 0.6985\n",
      "Precision: 0.3883248730964467\n",
      "Recall: 0.7166276346604216\n",
      "F1: 0.5037037037037038\n"
     ]
    }
   ],
   "source": [
    "predictions = res3.predict(features_test)\n",
    "print(\"Accuracy_score: \" + str(accuracy_score(target_test, predictions)))\n",
    "print(\"Precision: \" + str(precision_score(target_test, predictions)))\n",
    "print(\"Recall: \" + str(recall_score(target_test, predictions)))\n",
    "print(\"F1: \" + str(f1_score(target_test, predictions)))"
   ]
  },
  {
   "cell_type": "markdown",
   "metadata": {},
   "source": [
    "# Новый вывод:\n",
    "\n",
    "Итак, мы изменяли баланс разными способами на трех моделях.\n",
    "\n",
    "Наблюдается большое значение F1  при увеличении класса 1 у модели РД - 0,928. Скорее всего оно обусловлено значениями полноты и точности, которые для тестовой модели показали по 0.5 (я знаю, что тестовую использовать нельзя, но других аргументов у меня нет). Поэтому сразу отметаем этот вариант.\n",
    "\n",
    "Не считая этого случая, лучше всего себя показала модель СЛ для всех методов балансировки.  \n",
    "Поэтому далее я построю ROC-кривые для этих 3-х вариантов.  \n",
    "Посмотрим которая из них покажет лучшие результаты и протестируем на тестовых данных.  "
   ]
  },
  {
   "cell_type": "markdown",
   "metadata": {},
   "source": [
    "***"
   ]
  },
  {
   "cell_type": "markdown",
   "metadata": {},
   "source": [
    "## Тестирование модели"
   ]
  },
  {
   "cell_type": "markdown",
   "metadata": {},
   "source": [
    "К тестовой выборке примем модель случайного дерева."
   ]
  },
  {
   "cell_type": "markdown",
   "metadata": {},
   "source": [
    "Проверим на тестовой выборке четыре модели:   \n",
    " на дисбалансных данных и сбалансированных: \n",
    "- со взвешенными классами, \n",
    "- увеличением класса 1,\n",
    "- уменьшением класса 0.\n"
   ]
  },
  {
   "cell_type": "code",
   "execution_count": 82,
   "metadata": {},
   "outputs": [
    {
     "name": "stdout",
     "output_type": "stream",
     "text": [
      "Случайный лес - дисбаланс классов\n",
      "Accuracy_score 0.8525\n",
      "Precision 0.7894736842105263\n",
      "Recall 0.4215456674473068\n",
      "F1 0.549618320610687\n",
      "\n",
      "Случайный лес - взвешенные классы\n",
      "Accuracy_score 0.835\n",
      "Precision 0.6004140786749482\n",
      "Recall 0.6791569086651054\n",
      "F1 0.6373626373626373\n",
      "\n",
      "Случайный лес - уменьшение класса 0\n",
      "Accuracy_score 0.794\n",
      "Precision 0.5115919629057187\n",
      "Recall 0.775175644028103\n",
      "F1 0.6163873370577282\n",
      "\n",
      "Случайный лес - увеличение класса 1\n",
      "Accuracy_score 0.8255\n",
      "Precision 0.575\n",
      "Recall 0.7002341920374707\n",
      "F1 0.6314677930306231\n",
      "\n"
     ]
    }
   ],
   "source": [
    "model = RandomForestClassifier(random_state=12345, max_depth= RD,\\\n",
    "                               min_samples_leaf= RL,min_samples_split= RS, n_estimators= RE)\n",
    "\n",
    "model.fit(features_train, target_train)\n",
    "predicted_test = model.predict(features_test)\n",
    "print('Случайный лес - дисбаланс классов')\n",
    "print('Accuracy_score', accuracy_score(target_test, predicted_test))\n",
    "print('Precision', precision_score(target_test, predicted_test))\n",
    "print('Recall', recall_score(target_test, predicted_test))\n",
    "print('F1', f1_score(target_test, predicted_test))\n",
    "print()\n",
    "\n",
    "model = RandomForestClassifier(random_state=12345, max_depth= WD,\\\n",
    "                               min_samples_leaf= WL,min_samples_split= WS, n_estimators= WE, class_weight='balanced')\n",
    "model.fit(features_train, target_train)\n",
    "predicted_test = model.predict(features_test)\n",
    "print('Случайный лес - взвешенные классы')\n",
    "print('Accuracy_score', accuracy_score(target_test, predicted_test))\n",
    "print('Precision', precision_score(target_test, predicted_test))\n",
    "print('Recall', recall_score(target_test, predicted_test))\n",
    "print('F1', f1_score(target_test, predicted_test))\n",
    "print()\n",
    "\n",
    "model = RandomForestClassifier(random_state=12345, max_depth= DD,\\\n",
    "                               min_samples_leaf= DL,min_samples_split= DS, n_estimators= DE)\n",
    "model.fit(features_downsampled, target_downsampled)\n",
    "predicted_test = model.predict(features_test)\n",
    "print('Случайный лес - уменьшение класса 0')\n",
    "print('Accuracy_score', accuracy_score(target_test, predicted_test))\n",
    "print('Precision', precision_score(target_test, predicted_test))\n",
    "print('Recall', recall_score(target_test, predicted_test))\n",
    "print('F1', f1_score(target_test, predicted_test))\n",
    "print()\n",
    "\n",
    "model = RandomForestClassifier(random_state=12345, \n",
    "                               max_depth=ID,\n",
    "                               min_samples_leaf=IL,\n",
    "                               min_samples_split=IS,\n",
    "                               n_estimators= IE)\n",
    "\n",
    "model.fit(features_upsampled, target_upsampled)\n",
    "predicted_test = model.predict(features_test)\n",
    "print('Случайный лес - увеличение класса 1')\n",
    "print('Accuracy_score', accuracy_score(target_test, predicted_test))\n",
    "print('Precision', precision_score(target_test, predicted_test))\n",
    "print('Recall', recall_score(target_test, predicted_test))\n",
    "print('F1', f1_score(target_test, predicted_test))\n",
    "print()"
   ]
  },
  {
   "cell_type": "markdown",
   "metadata": {},
   "source": [
    "<div style=\"background: #B0E0E6; padding: 5px; border: 1px solid SteelBlue; border-radius: 5px;\">\n",
    "    <font color='4682B4'>Гиперпараметры пересчитались. Переменные: R - raw, W-weighted, D -decreased, I - increased</font>\n",
    "</div>"
   ]
  },
  {
   "cell_type": "markdown",
   "metadata": {},
   "source": [
    "### ROC-кривой для каждой модели"
   ]
  },
  {
   "cell_type": "markdown",
   "metadata": {},
   "source": [
    "***Выведем ROC-кривую и AUC-ROC для измененного баланса с помощью взвешивания классов."
   ]
  },
  {
   "cell_type": "code",
   "execution_count": 83,
   "metadata": {
    "scrolled": false
   },
   "outputs": [
    {
     "name": "stdout",
     "output_type": "stream",
     "text": [
      "AUC-ROC RandomForestClassifier - дисбаланс классов 0.8693348380382658\n",
      "AUC-ROC RandomForestClassifier - взвешенные классы 0.8626797941253977\n",
      "AUC-ROC RandomForestClassifier - уменьшение класса 0 0.8640510011597939\n",
      "AUC-ROC RandomForestClassifier - увеличение класса 1 0.862017267382394\n"
     ]
    },
    {
     "data": {
      "image/png": "[encoded data removed]",
      "text/plain": [
       "<Figure size 864x648 with 1 Axes>"
      ]
     },
     "metadata": {
      "needs_background": "light"
     },
     "output_type": "display_data"
    }
   ],
   "source": [
    "plt.figure(figsize=[12,9])\n",
    "\n",
    "plt.plot([0, 1], [0, 1], linestyle='--', label='RandomModel')\n",
    "\n",
    "\n",
    "model = RandomForestClassifier(random_state=12345, max_depth= 10,\\\n",
    "                               min_samples_leaf= 3,min_samples_split= 10, n_estimators= 60)\n",
    "model.fit(features_train, target_train)\n",
    "predicted_test = model.predict(features_test)\n",
    "probabilities_test = model.predict_proba(features_test)\n",
    "probabilities_one_test = probabilities_test[:, 1]\n",
    "fpr, tpr, thresholds = roc_curve(target_test, probabilities_one_test)\n",
    "auc_roc = roc_auc_score(target_test, probabilities_one_test)\n",
    "print('AUC-ROC RandomForestClassifier - дисбаланс классов',auc_roc)\n",
    "plt.plot(fpr, tpr, label='RandomForestClassifier - дисбаланс классов')\n",
    "\n",
    "model = RandomForestClassifier(random_state=12345, max_depth= 10,\\\n",
    "                               min_samples_leaf= 1,min_samples_split= 10, n_estimators= 40, class_weight='balanced')\n",
    "model.fit(features_train, target_train)\n",
    "predicted_test = model.predict(features_test)\n",
    "probabilities_test = model.predict_proba(features_test)\n",
    "probabilities_one_test = probabilities_test[:, 1]\n",
    "fpr, tpr, thresholds = roc_curve(target_test, probabilities_one_test)\n",
    "auc_roc = roc_auc_score(target_test, probabilities_one_test)\n",
    "print('AUC-ROC RandomForestClassifier - взвешенные классы',auc_roc)\n",
    "plt.plot(fpr, tpr, label='RandomForestClassifier - взвешенные классы')\n",
    "\n",
    "model = RandomForestClassifier(random_state=12345, max_depth= 8,\\\n",
    "                               min_samples_leaf= 3,min_samples_split= 10, n_estimators= 50)\n",
    "model.fit(features_downsampled, target_downsampled)\n",
    "predicted_test = model.predict(features_test)\n",
    "probabilities_test = model.predict_proba(features_test)\n",
    "probabilities_one_test = probabilities_test[:, 1]\n",
    "fpr, tpr, thresholds = roc_curve(target_test, probabilities_one_test)\n",
    "auc_roc = roc_auc_score(target_test, probabilities_one_test)\n",
    "print('AUC-ROC RandomForestClassifier - уменьшение класса 0',auc_roc)\n",
    "plt.plot(fpr, tpr, label='RandomForestClassifier - уменьшение класса 0')\n",
    "\n",
    "model = RandomForestClassifier(random_state=12345, max_depth= 10,\\\n",
    "                               min_samples_leaf= 1,min_samples_split= 3, n_estimators= 40)\n",
    "model.fit(features_upsampled, target_upsampled)\n",
    "predicted_test = model.predict(features_test)\n",
    "probabilities_test = model.predict_proba(features_test)\n",
    "probabilities_one_test = probabilities_test[:, 1]\n",
    "fpr, tpr, thresholds = roc_curve(target_test, probabilities_one_test)\n",
    "auc_roc = roc_auc_score(target_test, probabilities_one_test)\n",
    "print('AUC-ROC RandomForestClassifier - увеличение класса 1',auc_roc)\n",
    "plt.plot(fpr, tpr, label='RandomForestClassifier - увеличение класса 1')\n",
    "\n",
    "plt.xlim([0,1])\n",
    "plt.ylim([0,1])\n",
    "\n",
    "plt.xlabel(\"False Positive Rate\")\n",
    "plt.ylabel(\"True Positive Rate\")\n",
    "\n",
    "plt.legend(loc='lower right', fontsize='x-large')\n",
    "\n",
    "plt.title(\"ROC-кривая\")\n",
    "plt.show()"
   ]
  },
  {
   "cell_type": "markdown",
   "metadata": {},
   "source": [
    "У сбалансированных моделей  значение F-меры больше 0,59 на тестовых данных.\n",
    "\n",
    "Увеличение класса 1 дает результат лучше для данного набора данных. Percision и recall достаточно высокие, и F-мера немного больше остальных. \n",
    "\n",
    "Оценивая адеватность модели можно заметить, что AUC-ROC дисбалансной модели и модели сбалансированной примерно одинаково предсказывают вероятность ухода клиента.\n",
    "\n",
    "В результате исследования была получена модель с лучшими показателями как по F1-мере, так и по AUC-ROC - Случайный лес: Увеличение класса 1. Хотя и показатель AUC-ROC не сильно отличается для 4 моделей."
   ]
  },
  {
   "cell_type": "markdown",
   "metadata": {},
   "source": [
    "## Вывод"
   ]
  },
  {
   "cell_type": "markdown",
   "metadata": {},
   "source": [
    "БЫЛО ВЫПОЛНЕНО:  \n",
    "\n",
    "* Изучили и предобработали данные. Разбили данные на тренировочную, валидационную и тестовую выборки.\n",
    "* Исследована задача. Проверены модели на данных без изменений.\n",
    "* Скоректирован балланс класса. Изменен вес класса тремя способами.\n",
    "* Проведен финальный тест.\n",
    "* Обученная модель случайного леса сс увеличением класса 1 имеет достаточную адекватность, подтвержденная ее значением * AUC-ROC = 0.862. Данное значение явно выше, чем у случайной модели предсказывания (AUC-ROC = 0.5).\n",
    "Аccuracy_score 0.8265 достаточно высокая  \n",
    "Precision 0.5769230769230769 не очень высокая точность, модель не очень хорошо определит кто действительно ушел.  \n",
    "Recall 0.702576112412178 Высокий показатель полноты, поэтому модель должна хорошо предсказать уход из банка.  \n",
    "F1 0.6335797254487856 Финальная модель достигла заданой метрики (F1 > 0.59)  \n",
    "\n",
    "* Сбалансированные данные показывают себя лучше по всем параметрам.\n",
    "\n",
    "Данная модель поможет определить клиентов, которые могут уйти в ближайшее время, а банк в свою очередь постарается это предотвратить."
   ]
  },
  {
   "cell_type": "markdown",
   "metadata": {},
   "source": [
    "## Чек-лист готовности проекта"
   ]
  },
  {
   "cell_type": "markdown",
   "metadata": {},
   "source": [
    "Поставьте 'x' в выполненных пунктах. Далее нажмите Shift+Enter."
   ]
  },
  {
   "cell_type": "markdown",
   "metadata": {},
   "source": [
    "- [x]  Jupyter Notebook открыт\n",
    "- [x]  Весь код выполняется без ошибок\n",
    "- [x]  Ячейки с кодом расположены в порядке исполнения\n",
    "- [x]  Выполнен шаг 1: данные подготовлены\n",
    "- [x]  Выполнен шаг 2: задача исследована\n",
    "    - [x]  Исследован баланс классов\n",
    "    - [x]  Изучены модели без учёта дисбаланса\n",
    "    - [x]  Написаны выводы по результатам исследования\n",
    "- [x]  Выполнен шаг 3: учтён дисбаланс\n",
    "    - [x]  Применено несколько способов борьбы с дисбалансом\n",
    "    - [x]  Написаны выводы по результатам исследования\n",
    "- [x]  Выполнен шаг 4: проведено тестирование\n",
    "- [x]  Удалось достичь *F1*-меры не менее 0.59\n",
    "- [x]  Исследована метрика *AUC-ROC*"
   ]
  }
 ],
 "metadata": {
  "ExecuteTimeLog": [
   {
    "duration": 1060,
    "start_time": "2022-06-16T18:00:43.994Z"
   },
   {
    "duration": 108,
    "start_time": "2022-06-16T18:01:48.493Z"
   },
   {
    "duration": 5,
    "start_time": "2022-06-16T18:19:56.797Z"
   },
   {
    "duration": 5,
    "start_time": "2022-06-16T18:20:04.107Z"
   },
   {
    "duration": 5,
    "start_time": "2022-06-16T18:20:26.210Z"
   },
   {
    "duration": 6,
    "start_time": "2022-06-16T18:21:13.418Z"
   },
   {
    "duration": 5,
    "start_time": "2022-06-16T18:21:36.908Z"
   },
   {
    "duration": 6,
    "start_time": "2022-06-16T18:21:54.725Z"
   },
   {
    "duration": 5,
    "start_time": "2022-06-16T18:22:00.867Z"
   },
   {
    "duration": 6,
    "start_time": "2022-06-16T18:25:31.619Z"
   },
   {
    "duration": 15,
    "start_time": "2022-06-16T19:14:16.614Z"
   },
   {
    "duration": 11,
    "start_time": "2022-06-16T19:19:16.736Z"
   },
   {
    "duration": 513,
    "start_time": "2022-06-16T19:23:06.913Z"
   },
   {
    "duration": 7,
    "start_time": "2022-06-16T19:39:28.162Z"
   },
   {
    "duration": 101,
    "start_time": "2022-06-16T19:45:35.683Z"
   },
   {
    "duration": 9,
    "start_time": "2022-06-16T19:46:09.489Z"
   },
   {
    "duration": 14,
    "start_time": "2022-06-16T19:47:42.250Z"
   },
   {
    "duration": 9,
    "start_time": "2022-06-16T19:48:08.146Z"
   },
   {
    "duration": 13,
    "start_time": "2022-06-16T19:48:15.119Z"
   },
   {
    "duration": 113,
    "start_time": "2022-06-16T19:48:34.143Z"
   },
   {
    "duration": 4,
    "start_time": "2022-06-16T19:49:30.579Z"
   },
   {
    "duration": 12,
    "start_time": "2022-06-16T19:49:33.354Z"
   },
   {
    "duration": 6,
    "start_time": "2022-06-16T19:52:34.004Z"
   },
   {
    "duration": 11,
    "start_time": "2022-06-16T19:54:07.230Z"
   },
   {
    "duration": 18,
    "start_time": "2022-06-16T19:56:27.703Z"
   },
   {
    "duration": 3,
    "start_time": "2022-06-17T07:52:49.486Z"
   },
   {
    "duration": 22,
    "start_time": "2022-06-17T07:54:11.725Z"
   },
   {
    "duration": 20,
    "start_time": "2022-06-17T07:55:01.126Z"
   },
   {
    "duration": 4,
    "start_time": "2022-06-17T07:55:14.237Z"
   },
   {
    "duration": 70,
    "start_time": "2022-06-17T07:55:14.244Z"
   },
   {
    "duration": 15,
    "start_time": "2022-06-17T07:55:14.317Z"
   },
   {
    "duration": 13,
    "start_time": "2022-06-17T07:55:14.334Z"
   },
   {
    "duration": 6,
    "start_time": "2022-06-17T07:55:14.350Z"
   },
   {
    "duration": 40,
    "start_time": "2022-06-17T07:55:14.359Z"
   },
   {
    "duration": 12,
    "start_time": "2022-06-17T07:55:14.401Z"
   },
   {
    "duration": 8,
    "start_time": "2022-06-17T07:55:14.414Z"
   },
   {
    "duration": 14,
    "start_time": "2022-06-17T07:55:14.424Z"
   },
   {
    "duration": 19,
    "start_time": "2022-06-17T07:55:14.440Z"
   },
   {
    "duration": 45,
    "start_time": "2022-06-17T07:55:14.462Z"
   },
   {
    "duration": 139,
    "start_time": "2022-06-17T07:55:14.509Z"
   },
   {
    "duration": 6,
    "start_time": "2022-06-17T07:55:14.650Z"
   },
   {
    "duration": 13,
    "start_time": "2022-06-17T07:55:14.658Z"
   },
   {
    "duration": 436,
    "start_time": "2022-06-17T07:55:17.414Z"
   },
   {
    "duration": 7,
    "start_time": "2022-06-17T08:41:04.777Z"
   },
   {
    "duration": 15,
    "start_time": "2022-06-17T08:41:07.905Z"
   },
   {
    "duration": 10,
    "start_time": "2022-06-17T08:41:32.206Z"
   },
   {
    "duration": 10,
    "start_time": "2022-06-17T08:42:10.457Z"
   },
   {
    "duration": 10,
    "start_time": "2022-06-17T08:42:58.598Z"
   },
   {
    "duration": 28,
    "start_time": "2022-06-17T08:43:47.161Z"
   },
   {
    "duration": 4,
    "start_time": "2022-06-17T08:43:56.158Z"
   },
   {
    "duration": 7263,
    "start_time": "2022-06-17T08:44:25.689Z"
   },
   {
    "duration": 4,
    "start_time": "2022-06-17T08:44:35.617Z"
   },
   {
    "duration": 9,
    "start_time": "2022-06-17T08:44:48.144Z"
   },
   {
    "duration": 10,
    "start_time": "2022-06-17T08:45:05.545Z"
   },
   {
    "duration": 10,
    "start_time": "2022-06-17T08:45:12.367Z"
   },
   {
    "duration": 11,
    "start_time": "2022-06-17T08:45:18.247Z"
   },
   {
    "duration": 650,
    "start_time": "2022-06-17T08:49:48.797Z"
   },
   {
    "duration": 12,
    "start_time": "2022-06-17T08:50:01.674Z"
   },
   {
    "duration": 12,
    "start_time": "2022-06-17T08:50:24.143Z"
   },
   {
    "duration": 7270,
    "start_time": "2022-06-17T08:51:07.562Z"
   },
   {
    "duration": 4,
    "start_time": "2022-06-17T08:51:26.412Z"
   },
   {
    "duration": 9,
    "start_time": "2022-06-17T08:51:27.234Z"
   },
   {
    "duration": 13,
    "start_time": "2022-06-17T08:51:34.745Z"
   },
   {
    "duration": 9,
    "start_time": "2022-06-17T08:51:44.349Z"
   },
   {
    "duration": 13,
    "start_time": "2022-06-17T08:54:49.112Z"
   },
   {
    "duration": 15,
    "start_time": "2022-06-17T08:56:45.964Z"
   },
   {
    "duration": 11,
    "start_time": "2022-06-17T08:56:51.243Z"
   },
   {
    "duration": 11,
    "start_time": "2022-06-17T09:07:09.987Z"
   },
   {
    "duration": 5,
    "start_time": "2022-06-17T09:07:33.662Z"
   },
   {
    "duration": 0,
    "start_time": "2022-06-17T09:14:55.755Z"
   },
   {
    "duration": 4,
    "start_time": "2022-06-17T09:15:00.175Z"
   },
   {
    "duration": 7021,
    "start_time": "2022-06-17T09:19:07.788Z"
   },
   {
    "duration": 4,
    "start_time": "2022-06-17T09:19:36.761Z"
   },
   {
    "duration": 6880,
    "start_time": "2022-06-17T09:19:44.527Z"
   },
   {
    "duration": 4,
    "start_time": "2022-06-17T09:19:55.671Z"
   },
   {
    "duration": 236386,
    "start_time": "2022-06-17T09:20:12.809Z"
   },
   {
    "duration": 0,
    "start_time": "2022-06-17T09:24:09.197Z"
   },
   {
    "duration": 536953,
    "start_time": "2022-06-17T09:24:18.601Z"
   },
   {
    "duration": 273638,
    "start_time": "2022-06-17T09:33:15.555Z"
   },
   {
    "duration": 94,
    "start_time": "2022-06-17T09:37:49.200Z"
   },
   {
    "duration": 59,
    "start_time": "2022-06-17T09:37:49.296Z"
   },
   {
    "duration": 44,
    "start_time": "2022-06-17T09:37:49.357Z"
   },
   {
    "duration": 2028866,
    "start_time": "2022-06-17T09:38:46.196Z"
   },
   {
    "duration": 4,
    "start_time": "2022-06-17T10:12:35.064Z"
   },
   {
    "duration": 28,
    "start_time": "2022-06-17T10:12:35.069Z"
   },
   {
    "duration": 199,
    "start_time": "2022-06-17T10:12:35.101Z"
   },
   {
    "duration": 99,
    "start_time": "2022-06-17T10:12:35.303Z"
   },
   {
    "duration": 5,
    "start_time": "2022-06-17T10:30:06.127Z"
   },
   {
    "duration": 62,
    "start_time": "2022-06-17T10:31:18.798Z"
   },
   {
    "duration": 34,
    "start_time": "2022-06-17T10:31:23.024Z"
   },
   {
    "duration": 3,
    "start_time": "2022-06-17T10:34:06.352Z"
   },
   {
    "duration": 12,
    "start_time": "2022-06-17T10:34:06.847Z"
   },
   {
    "duration": 13,
    "start_time": "2022-06-17T10:34:07.590Z"
   },
   {
    "duration": 43,
    "start_time": "2022-06-17T10:36:52.808Z"
   },
   {
    "duration": 13,
    "start_time": "2022-06-17T10:37:12.688Z"
   },
   {
    "duration": 3,
    "start_time": "2022-06-17T10:38:14.436Z"
   },
   {
    "duration": 8869,
    "start_time": "2022-06-17T10:38:15.896Z"
   },
   {
    "duration": 8810,
    "start_time": "2022-06-17T10:43:35.686Z"
   },
   {
    "duration": 16,
    "start_time": "2022-06-17T10:55:57.399Z"
   },
   {
    "duration": 15,
    "start_time": "2022-06-17T10:56:03.063Z"
   },
   {
    "duration": 14,
    "start_time": "2022-06-17T10:56:06.857Z"
   },
   {
    "duration": 14,
    "start_time": "2022-06-17T10:56:12.687Z"
   },
   {
    "duration": 13,
    "start_time": "2022-06-17T10:56:15.631Z"
   },
   {
    "duration": 14,
    "start_time": "2022-06-17T10:56:18.495Z"
   },
   {
    "duration": 11757,
    "start_time": "2022-06-17T10:57:37.738Z"
   },
   {
    "duration": 3,
    "start_time": "2022-06-17T14:08:57.832Z"
   },
   {
    "duration": 3,
    "start_time": "2022-06-21T19:53:18.610Z"
   },
   {
    "duration": 44,
    "start_time": "2022-06-21T19:59:27.976Z"
   },
   {
    "duration": 1116,
    "start_time": "2022-06-21T19:59:44.600Z"
   },
   {
    "duration": 154,
    "start_time": "2022-06-21T19:59:45.719Z"
   },
   {
    "duration": 22,
    "start_time": "2022-06-21T19:59:45.875Z"
   },
   {
    "duration": 13,
    "start_time": "2022-06-21T19:59:45.900Z"
   },
   {
    "duration": 5,
    "start_time": "2022-06-21T19:59:45.915Z"
   },
   {
    "duration": 8,
    "start_time": "2022-06-21T19:59:45.921Z"
   },
   {
    "duration": 7,
    "start_time": "2022-06-21T19:59:45.931Z"
   },
   {
    "duration": 19,
    "start_time": "2022-06-21T19:59:45.939Z"
   },
   {
    "duration": 33,
    "start_time": "2022-06-21T19:59:45.965Z"
   },
   {
    "duration": 69,
    "start_time": "2022-06-21T19:59:46.000Z"
   },
   {
    "duration": 0,
    "start_time": "2022-06-21T19:59:46.078Z"
   },
   {
    "duration": 0,
    "start_time": "2022-06-21T19:59:46.079Z"
   },
   {
    "duration": 0,
    "start_time": "2022-06-21T19:59:46.080Z"
   },
   {
    "duration": 0,
    "start_time": "2022-06-21T19:59:46.080Z"
   },
   {
    "duration": 0,
    "start_time": "2022-06-21T19:59:46.081Z"
   },
   {
    "duration": 0,
    "start_time": "2022-06-21T19:59:46.083Z"
   },
   {
    "duration": 0,
    "start_time": "2022-06-21T19:59:46.084Z"
   },
   {
    "duration": 0,
    "start_time": "2022-06-21T19:59:46.085Z"
   },
   {
    "duration": 0,
    "start_time": "2022-06-21T19:59:46.086Z"
   },
   {
    "duration": 0,
    "start_time": "2022-06-21T19:59:46.088Z"
   },
   {
    "duration": 0,
    "start_time": "2022-06-21T19:59:46.089Z"
   },
   {
    "duration": 0,
    "start_time": "2022-06-21T19:59:46.091Z"
   },
   {
    "duration": 0,
    "start_time": "2022-06-21T19:59:46.092Z"
   },
   {
    "duration": 0,
    "start_time": "2022-06-21T19:59:46.094Z"
   },
   {
    "duration": 0,
    "start_time": "2022-06-21T19:59:46.095Z"
   },
   {
    "duration": 0,
    "start_time": "2022-06-21T19:59:46.096Z"
   },
   {
    "duration": 0,
    "start_time": "2022-06-21T19:59:46.098Z"
   },
   {
    "duration": 0,
    "start_time": "2022-06-21T19:59:46.099Z"
   },
   {
    "duration": 0,
    "start_time": "2022-06-21T19:59:46.101Z"
   },
   {
    "duration": 0,
    "start_time": "2022-06-21T19:59:46.102Z"
   },
   {
    "duration": 0,
    "start_time": "2022-06-21T19:59:46.103Z"
   },
   {
    "duration": 0,
    "start_time": "2022-06-21T19:59:46.105Z"
   },
   {
    "duration": 0,
    "start_time": "2022-06-21T19:59:46.106Z"
   },
   {
    "duration": 0,
    "start_time": "2022-06-21T19:59:46.107Z"
   },
   {
    "duration": 0,
    "start_time": "2022-06-21T19:59:46.109Z"
   },
   {
    "duration": 0,
    "start_time": "2022-06-21T19:59:46.110Z"
   },
   {
    "duration": 5,
    "start_time": "2022-06-21T20:00:44.084Z"
   },
   {
    "duration": 81,
    "start_time": "2022-06-21T20:00:44.091Z"
   },
   {
    "duration": 19,
    "start_time": "2022-06-21T20:00:44.173Z"
   },
   {
    "duration": 14,
    "start_time": "2022-06-21T20:00:44.193Z"
   },
   {
    "duration": 10,
    "start_time": "2022-06-21T20:00:44.209Z"
   },
   {
    "duration": 10,
    "start_time": "2022-06-21T20:00:44.220Z"
   },
   {
    "duration": 14,
    "start_time": "2022-06-21T20:00:44.231Z"
   },
   {
    "duration": 10,
    "start_time": "2022-06-21T20:00:44.246Z"
   },
   {
    "duration": 37,
    "start_time": "2022-06-21T20:00:44.257Z"
   },
   {
    "duration": 522,
    "start_time": "2022-06-21T20:00:44.295Z"
   },
   {
    "duration": 18,
    "start_time": "2022-06-21T20:00:44.819Z"
   },
   {
    "duration": 42,
    "start_time": "2022-06-21T20:00:44.839Z"
   },
   {
    "duration": 22,
    "start_time": "2022-06-21T20:00:44.884Z"
   },
   {
    "duration": 17,
    "start_time": "2022-06-21T20:00:44.907Z"
   },
   {
    "duration": 18,
    "start_time": "2022-06-21T20:00:44.926Z"
   },
   {
    "duration": 62,
    "start_time": "2022-06-21T20:00:44.946Z"
   },
   {
    "duration": 411,
    "start_time": "2022-06-21T20:00:45.010Z"
   },
   {
    "duration": 7,
    "start_time": "2022-06-21T20:00:45.423Z"
   },
   {
    "duration": 6860,
    "start_time": "2022-06-21T20:00:45.432Z"
   },
   {
    "duration": 2,
    "start_time": "2022-06-21T20:00:52.294Z"
   },
   {
    "duration": 19,
    "start_time": "2022-06-21T20:00:52.297Z"
   },
   {
    "duration": 30,
    "start_time": "2022-06-21T20:00:52.317Z"
   },
   {
    "duration": 43,
    "start_time": "2022-06-21T20:00:52.348Z"
   },
   {
    "duration": 12,
    "start_time": "2022-06-21T20:01:09.128Z"
   },
   {
    "duration": 18,
    "start_time": "2022-06-21T20:01:18.743Z"
   },
   {
    "duration": 330,
    "start_time": "2022-06-21T20:02:15.347Z"
   },
   {
    "duration": 22,
    "start_time": "2022-06-21T20:05:25.705Z"
   },
   {
    "duration": 3,
    "start_time": "2022-06-21T20:05:53.418Z"
   },
   {
    "duration": 2628,
    "start_time": "2022-06-21T20:05:54.019Z"
   },
   {
    "duration": 156,
    "start_time": "2022-06-21T20:06:02.251Z"
   },
   {
    "duration": 11,
    "start_time": "2022-06-21T20:06:44.735Z"
   },
   {
    "duration": 1782,
    "start_time": "2022-06-21T20:06:45.477Z"
   },
   {
    "duration": 901,
    "start_time": "2022-06-21T20:06:56.636Z"
   },
   {
    "duration": 3,
    "start_time": "2022-06-21T20:13:17.032Z"
   },
   {
    "duration": 1101,
    "start_time": "2022-06-22T19:45:00.157Z"
   },
   {
    "duration": 113,
    "start_time": "2022-06-22T19:45:03.842Z"
   },
   {
    "duration": 17,
    "start_time": "2022-06-22T19:45:19.941Z"
   },
   {
    "duration": 13,
    "start_time": "2022-06-22T19:45:22.678Z"
   },
   {
    "duration": 543,
    "start_time": "2022-06-22T19:45:54.046Z"
   },
   {
    "duration": 425,
    "start_time": "2022-06-22T19:46:11.380Z"
   },
   {
    "duration": 71,
    "start_time": "2022-06-22T19:46:16.764Z"
   },
   {
    "duration": 90,
    "start_time": "2022-06-22T19:46:18.072Z"
   },
   {
    "duration": 3,
    "start_time": "2022-06-22T19:46:21.117Z"
   },
   {
    "duration": 45,
    "start_time": "2022-06-22T19:46:21.541Z"
   },
   {
    "duration": 226,
    "start_time": "2022-06-22T19:46:25.085Z"
   },
   {
    "duration": 4,
    "start_time": "2022-06-22T19:46:40.794Z"
   },
   {
    "duration": 80,
    "start_time": "2022-06-22T19:46:40.800Z"
   },
   {
    "duration": 12,
    "start_time": "2022-06-22T19:46:40.882Z"
   },
   {
    "duration": 43,
    "start_time": "2022-06-22T19:46:40.895Z"
   },
   {
    "duration": 25,
    "start_time": "2022-06-22T19:46:40.940Z"
   },
   {
    "duration": 12,
    "start_time": "2022-06-22T19:46:40.966Z"
   },
   {
    "duration": 24,
    "start_time": "2022-06-22T19:46:40.980Z"
   },
   {
    "duration": 27,
    "start_time": "2022-06-22T19:46:41.005Z"
   },
   {
    "duration": 38,
    "start_time": "2022-06-22T19:46:41.037Z"
   },
   {
    "duration": 115,
    "start_time": "2022-06-22T19:46:41.077Z"
   },
   {
    "duration": 18,
    "start_time": "2022-06-22T19:46:41.194Z"
   },
   {
    "duration": 38,
    "start_time": "2022-06-22T19:46:41.213Z"
   },
   {
    "duration": 9,
    "start_time": "2022-06-22T19:46:41.253Z"
   },
   {
    "duration": 32,
    "start_time": "2022-06-22T19:46:41.264Z"
   },
   {
    "duration": 26,
    "start_time": "2022-06-22T19:46:41.298Z"
   },
   {
    "duration": 51,
    "start_time": "2022-06-22T19:46:41.325Z"
   },
   {
    "duration": 426,
    "start_time": "2022-06-22T19:46:45.038Z"
   },
   {
    "duration": 7,
    "start_time": "2022-06-22T19:47:01.492Z"
   },
   {
    "duration": 7,
    "start_time": "2022-06-22T19:47:13.303Z"
   },
   {
    "duration": 7105,
    "start_time": "2022-06-22T19:47:16.959Z"
   },
   {
    "duration": 2,
    "start_time": "2022-06-22T19:47:24.066Z"
   },
   {
    "duration": 9,
    "start_time": "2022-06-22T19:47:24.069Z"
   },
   {
    "duration": 12,
    "start_time": "2022-06-22T19:47:24.080Z"
   },
   {
    "duration": 13,
    "start_time": "2022-06-22T19:47:24.094Z"
   },
   {
    "duration": 250373,
    "start_time": "2022-06-22T19:48:21.624Z"
   },
   {
    "duration": 4,
    "start_time": "2022-06-22T19:52:31.999Z"
   },
   {
    "duration": 68,
    "start_time": "2022-06-22T19:52:32.005Z"
   },
   {
    "duration": 29,
    "start_time": "2022-06-22T19:52:32.075Z"
   },
   {
    "duration": 640241,
    "start_time": "2022-06-22T19:52:58.602Z"
   },
   {
    "duration": 84,
    "start_time": "2022-06-22T20:03:38.846Z"
   },
   {
    "duration": 124,
    "start_time": "2022-06-22T20:03:38.931Z"
   },
   {
    "duration": 270,
    "start_time": "2022-06-22T20:03:39.058Z"
   },
   {
    "duration": 15,
    "start_time": "2022-06-22T20:08:23.542Z"
   },
   {
    "duration": 2,
    "start_time": "2022-06-22T20:08:30.081Z"
   },
   {
    "duration": 1513,
    "start_time": "2022-06-22T20:08:30.473Z"
   },
   {
    "duration": 909,
    "start_time": "2022-06-22T20:10:46.623Z"
   },
   {
    "duration": 12,
    "start_time": "2022-06-22T20:12:17.041Z"
   },
   {
    "duration": 1542,
    "start_time": "2022-06-22T20:12:25.413Z"
   },
   {
    "duration": 13,
    "start_time": "2022-06-22T20:15:07.987Z"
   },
   {
    "duration": 290,
    "start_time": "2022-06-22T20:15:09.044Z"
   },
   {
    "duration": 1508,
    "start_time": "2022-06-22T20:16:43.728Z"
   },
   {
    "duration": 12,
    "start_time": "2022-06-22T20:20:03.249Z"
   },
   {
    "duration": 783,
    "start_time": "2022-06-22T20:20:04.346Z"
   },
   {
    "duration": 222,
    "start_time": "2022-06-22T20:23:50.624Z"
   },
   {
    "duration": 1735,
    "start_time": "2022-06-22T20:24:08.267Z"
   },
   {
    "duration": 75,
    "start_time": "2022-06-22T20:45:04.464Z"
   },
   {
    "duration": 1157,
    "start_time": "2022-06-27T17:35:43.828Z"
   },
   {
    "duration": 88,
    "start_time": "2022-06-27T17:35:44.986Z"
   },
   {
    "duration": 17,
    "start_time": "2022-06-27T17:35:45.075Z"
   },
   {
    "duration": 13,
    "start_time": "2022-06-27T17:35:45.093Z"
   },
   {
    "duration": 9,
    "start_time": "2022-06-27T17:35:45.126Z"
   },
   {
    "duration": 18,
    "start_time": "2022-06-27T17:35:45.136Z"
   },
   {
    "duration": 16,
    "start_time": "2022-06-27T17:35:45.156Z"
   },
   {
    "duration": 128,
    "start_time": "2022-06-27T17:35:45.173Z"
   },
   {
    "duration": 0,
    "start_time": "2022-06-27T17:35:45.304Z"
   },
   {
    "duration": 0,
    "start_time": "2022-06-27T17:35:45.305Z"
   },
   {
    "duration": 0,
    "start_time": "2022-06-27T17:35:45.307Z"
   },
   {
    "duration": 0,
    "start_time": "2022-06-27T17:35:45.308Z"
   },
   {
    "duration": 0,
    "start_time": "2022-06-27T17:35:45.309Z"
   },
   {
    "duration": 0,
    "start_time": "2022-06-27T17:35:45.310Z"
   },
   {
    "duration": 0,
    "start_time": "2022-06-27T17:35:45.311Z"
   },
   {
    "duration": 0,
    "start_time": "2022-06-27T17:35:45.326Z"
   },
   {
    "duration": 0,
    "start_time": "2022-06-27T17:35:45.327Z"
   },
   {
    "duration": 0,
    "start_time": "2022-06-27T17:35:45.329Z"
   },
   {
    "duration": 1,
    "start_time": "2022-06-27T17:35:45.329Z"
   },
   {
    "duration": 0,
    "start_time": "2022-06-27T17:35:45.330Z"
   },
   {
    "duration": 0,
    "start_time": "2022-06-27T17:35:45.331Z"
   },
   {
    "duration": 0,
    "start_time": "2022-06-27T17:35:45.332Z"
   },
   {
    "duration": 0,
    "start_time": "2022-06-27T17:35:45.333Z"
   },
   {
    "duration": 0,
    "start_time": "2022-06-27T17:35:45.335Z"
   },
   {
    "duration": 0,
    "start_time": "2022-06-27T17:35:45.336Z"
   },
   {
    "duration": 0,
    "start_time": "2022-06-27T17:35:45.337Z"
   },
   {
    "duration": 0,
    "start_time": "2022-06-27T17:35:45.338Z"
   },
   {
    "duration": 0,
    "start_time": "2022-06-27T17:35:45.339Z"
   },
   {
    "duration": 0,
    "start_time": "2022-06-27T17:35:45.340Z"
   },
   {
    "duration": 0,
    "start_time": "2022-06-27T17:35:45.341Z"
   },
   {
    "duration": 0,
    "start_time": "2022-06-27T17:35:45.342Z"
   },
   {
    "duration": 0,
    "start_time": "2022-06-27T17:35:45.344Z"
   },
   {
    "duration": 0,
    "start_time": "2022-06-27T17:35:45.346Z"
   },
   {
    "duration": 0,
    "start_time": "2022-06-27T17:35:45.347Z"
   },
   {
    "duration": 0,
    "start_time": "2022-06-27T17:35:45.349Z"
   },
   {
    "duration": 0,
    "start_time": "2022-06-27T17:35:45.350Z"
   },
   {
    "duration": 0,
    "start_time": "2022-06-27T17:35:45.351Z"
   },
   {
    "duration": 0,
    "start_time": "2022-06-27T17:35:45.353Z"
   },
   {
    "duration": 0,
    "start_time": "2022-06-27T17:35:45.354Z"
   },
   {
    "duration": 0,
    "start_time": "2022-06-27T17:35:45.355Z"
   },
   {
    "duration": 5,
    "start_time": "2022-06-27T17:35:59.316Z"
   },
   {
    "duration": 54,
    "start_time": "2022-06-27T17:35:59.323Z"
   },
   {
    "duration": 17,
    "start_time": "2022-06-27T17:35:59.380Z"
   },
   {
    "duration": 38,
    "start_time": "2022-06-27T17:35:59.399Z"
   },
   {
    "duration": 9,
    "start_time": "2022-06-27T17:35:59.439Z"
   },
   {
    "duration": 8,
    "start_time": "2022-06-27T17:35:59.450Z"
   },
   {
    "duration": 5,
    "start_time": "2022-06-27T17:35:59.459Z"
   },
   {
    "duration": 12,
    "start_time": "2022-06-27T17:35:59.466Z"
   },
   {
    "duration": 0,
    "start_time": "2022-06-27T17:35:59.481Z"
   },
   {
    "duration": 0,
    "start_time": "2022-06-27T17:35:59.484Z"
   },
   {
    "duration": 0,
    "start_time": "2022-06-27T17:35:59.485Z"
   },
   {
    "duration": 0,
    "start_time": "2022-06-27T17:35:59.487Z"
   },
   {
    "duration": 0,
    "start_time": "2022-06-27T17:35:59.489Z"
   },
   {
    "duration": 0,
    "start_time": "2022-06-27T17:35:59.490Z"
   },
   {
    "duration": 0,
    "start_time": "2022-06-27T17:35:59.492Z"
   },
   {
    "duration": 0,
    "start_time": "2022-06-27T17:35:59.526Z"
   },
   {
    "duration": 0,
    "start_time": "2022-06-27T17:35:59.528Z"
   },
   {
    "duration": 0,
    "start_time": "2022-06-27T17:35:59.529Z"
   },
   {
    "duration": 0,
    "start_time": "2022-06-27T17:35:59.530Z"
   },
   {
    "duration": 0,
    "start_time": "2022-06-27T17:35:59.531Z"
   },
   {
    "duration": 0,
    "start_time": "2022-06-27T17:35:59.532Z"
   },
   {
    "duration": 0,
    "start_time": "2022-06-27T17:35:59.533Z"
   },
   {
    "duration": 0,
    "start_time": "2022-06-27T17:35:59.534Z"
   },
   {
    "duration": 0,
    "start_time": "2022-06-27T17:35:59.535Z"
   },
   {
    "duration": 1,
    "start_time": "2022-06-27T17:35:59.535Z"
   },
   {
    "duration": 0,
    "start_time": "2022-06-27T17:35:59.536Z"
   },
   {
    "duration": 0,
    "start_time": "2022-06-27T17:35:59.537Z"
   },
   {
    "duration": 0,
    "start_time": "2022-06-27T17:35:59.538Z"
   },
   {
    "duration": 0,
    "start_time": "2022-06-27T17:35:59.539Z"
   },
   {
    "duration": 0,
    "start_time": "2022-06-27T17:35:59.541Z"
   },
   {
    "duration": 0,
    "start_time": "2022-06-27T17:35:59.542Z"
   },
   {
    "duration": 0,
    "start_time": "2022-06-27T17:35:59.544Z"
   },
   {
    "duration": 0,
    "start_time": "2022-06-27T17:35:59.546Z"
   },
   {
    "duration": 0,
    "start_time": "2022-06-27T17:35:59.549Z"
   },
   {
    "duration": 0,
    "start_time": "2022-06-27T17:35:59.550Z"
   },
   {
    "duration": 0,
    "start_time": "2022-06-27T17:35:59.551Z"
   },
   {
    "duration": 0,
    "start_time": "2022-06-27T17:35:59.553Z"
   },
   {
    "duration": 0,
    "start_time": "2022-06-27T17:35:59.554Z"
   },
   {
    "duration": 0,
    "start_time": "2022-06-27T17:35:59.556Z"
   },
   {
    "duration": 0,
    "start_time": "2022-06-27T17:35:59.557Z"
   },
   {
    "duration": 5,
    "start_time": "2022-06-27T17:36:18.951Z"
   },
   {
    "duration": 56,
    "start_time": "2022-06-27T17:36:18.957Z"
   },
   {
    "duration": 22,
    "start_time": "2022-06-27T17:36:19.014Z"
   },
   {
    "duration": 12,
    "start_time": "2022-06-27T17:36:19.039Z"
   },
   {
    "duration": 6,
    "start_time": "2022-06-27T17:36:19.052Z"
   },
   {
    "duration": 8,
    "start_time": "2022-06-27T17:36:19.060Z"
   },
   {
    "duration": 18,
    "start_time": "2022-06-27T17:36:19.070Z"
   },
   {
    "duration": 8,
    "start_time": "2022-06-27T17:36:19.089Z"
   },
   {
    "duration": 7,
    "start_time": "2022-06-27T17:36:19.099Z"
   },
   {
    "duration": 26,
    "start_time": "2022-06-27T17:36:19.108Z"
   },
   {
    "duration": 564,
    "start_time": "2022-06-27T17:36:19.136Z"
   },
   {
    "duration": 33,
    "start_time": "2022-06-27T17:36:19.702Z"
   },
   {
    "duration": 17,
    "start_time": "2022-06-27T17:36:19.737Z"
   },
   {
    "duration": 6,
    "start_time": "2022-06-27T17:36:19.755Z"
   },
   {
    "duration": 10,
    "start_time": "2022-06-27T17:36:19.762Z"
   },
   {
    "duration": 4,
    "start_time": "2022-06-27T17:36:19.774Z"
   },
   {
    "duration": 57,
    "start_time": "2022-06-27T17:36:19.779Z"
   },
   {
    "duration": 480,
    "start_time": "2022-06-27T17:36:19.838Z"
   },
   {
    "duration": 9,
    "start_time": "2022-06-27T17:36:20.320Z"
   },
   {
    "duration": 7685,
    "start_time": "2022-06-27T17:36:20.331Z"
   },
   {
    "duration": 2,
    "start_time": "2022-06-27T17:36:28.018Z"
   },
   {
    "duration": 4,
    "start_time": "2022-06-27T17:36:28.027Z"
   },
   {
    "duration": 16,
    "start_time": "2022-06-27T17:36:28.033Z"
   },
   {
    "duration": 15,
    "start_time": "2022-06-27T17:36:28.053Z"
   },
   {
    "duration": 87669,
    "start_time": "2022-06-27T17:36:28.070Z"
   },
   {
    "duration": 4,
    "start_time": "2022-06-27T17:37:55.741Z"
   },
   {
    "duration": 71,
    "start_time": "2022-06-27T17:37:55.746Z"
   },
   {
    "duration": 39,
    "start_time": "2022-06-27T17:37:55.819Z"
   },
   {
    "duration": 269574,
    "start_time": "2022-06-27T17:37:55.860Z"
   },
   {
    "duration": 93,
    "start_time": "2022-06-27T17:42:25.436Z"
   },
   {
    "duration": 110,
    "start_time": "2022-06-27T17:42:25.532Z"
   },
   {
    "duration": 107,
    "start_time": "2022-06-27T17:42:25.727Z"
   },
   {
    "duration": 91,
    "start_time": "2022-06-27T17:42:25.836Z"
   },
   {
    "duration": 1137,
    "start_time": "2022-06-27T17:42:25.929Z"
   },
   {
    "duration": 764,
    "start_time": "2022-06-27T17:42:27.067Z"
   },
   {
    "duration": 102,
    "start_time": "2022-06-27T17:42:27.835Z"
   },
   {
    "duration": 1295,
    "start_time": "2022-06-27T17:42:27.938Z"
   },
   {
    "duration": 100,
    "start_time": "2022-06-27T17:42:29.235Z"
   },
   {
    "duration": 400,
    "start_time": "2022-06-27T17:42:29.337Z"
   },
   {
    "duration": 1258,
    "start_time": "2022-06-27T17:42:29.828Z"
   },
   {
    "duration": 1191,
    "start_time": "2022-06-27T17:42:52.193Z"
   },
   {
    "duration": 157,
    "start_time": "2022-06-27T17:45:27.326Z"
   },
   {
    "duration": 1452,
    "start_time": "2022-06-27T17:45:44.497Z"
   },
   {
    "duration": 510,
    "start_time": "2022-06-27T17:53:04.941Z"
   },
   {
    "duration": 7,
    "start_time": "2022-06-27T17:53:06.597Z"
   },
   {
    "duration": 8127,
    "start_time": "2022-06-27T17:53:07.086Z"
   },
   {
    "duration": 2,
    "start_time": "2022-06-27T17:53:15.216Z"
   },
   {
    "duration": 12,
    "start_time": "2022-06-27T17:53:15.220Z"
   },
   {
    "duration": 709,
    "start_time": "2022-06-27T18:00:04.041Z"
   },
   {
    "duration": 13,
    "start_time": "2022-06-27T18:01:01.919Z"
   },
   {
    "duration": 1413,
    "start_time": "2022-06-27T18:01:10.614Z"
   },
   {
    "duration": 12,
    "start_time": "2022-06-27T18:03:38.362Z"
   },
   {
    "duration": 12,
    "start_time": "2022-06-27T18:03:45.986Z"
   },
   {
    "duration": 586,
    "start_time": "2022-06-27T18:03:58.158Z"
   },
   {
    "duration": 4871,
    "start_time": "2022-06-27T18:08:07.527Z"
   },
   {
    "duration": 1213,
    "start_time": "2022-06-27T18:09:29.655Z"
   },
   {
    "duration": 1439,
    "start_time": "2022-06-27T18:10:31.942Z"
   },
   {
    "duration": 1503,
    "start_time": "2022-06-27T18:12:16.436Z"
   },
   {
    "duration": 47,
    "start_time": "2022-06-27T18:33:38.842Z"
   },
   {
    "duration": 1151,
    "start_time": "2022-06-27T18:50:07.058Z"
   },
   {
    "duration": 65,
    "start_time": "2022-06-27T18:50:08.211Z"
   },
   {
    "duration": 15,
    "start_time": "2022-06-27T18:50:08.278Z"
   },
   {
    "duration": 43,
    "start_time": "2022-06-27T18:50:08.295Z"
   },
   {
    "duration": 8,
    "start_time": "2022-06-27T18:50:08.342Z"
   },
   {
    "duration": 17,
    "start_time": "2022-06-27T18:50:08.352Z"
   },
   {
    "duration": 5,
    "start_time": "2022-06-27T18:50:08.371Z"
   },
   {
    "duration": 7,
    "start_time": "2022-06-27T18:50:08.378Z"
   },
   {
    "duration": 12,
    "start_time": "2022-06-27T18:50:08.387Z"
   },
   {
    "duration": 15,
    "start_time": "2022-06-27T18:50:08.402Z"
   },
   {
    "duration": 426,
    "start_time": "2022-06-27T18:50:08.418Z"
   },
   {
    "duration": 20,
    "start_time": "2022-06-27T18:50:08.846Z"
   },
   {
    "duration": 17,
    "start_time": "2022-06-27T18:50:08.868Z"
   },
   {
    "duration": 4,
    "start_time": "2022-06-27T18:50:08.887Z"
   },
   {
    "duration": 36,
    "start_time": "2022-06-27T18:50:08.893Z"
   },
   {
    "duration": 5,
    "start_time": "2022-06-27T18:50:08.935Z"
   },
   {
    "duration": 31,
    "start_time": "2022-06-27T18:50:08.945Z"
   },
   {
    "duration": 479,
    "start_time": "2022-06-27T18:50:08.978Z"
   },
   {
    "duration": 6,
    "start_time": "2022-06-27T18:50:09.459Z"
   },
   {
    "duration": 7881,
    "start_time": "2022-06-27T18:50:09.467Z"
   },
   {
    "duration": 2,
    "start_time": "2022-06-27T18:50:17.350Z"
   },
   {
    "duration": 7,
    "start_time": "2022-06-27T18:50:17.354Z"
   },
   {
    "duration": 11,
    "start_time": "2022-06-27T18:50:17.363Z"
   },
   {
    "duration": 12,
    "start_time": "2022-06-27T18:50:17.376Z"
   },
   {
    "duration": 92484,
    "start_time": "2022-06-27T18:50:17.390Z"
   },
   {
    "duration": 3,
    "start_time": "2022-06-27T18:51:49.876Z"
   },
   {
    "duration": 52,
    "start_time": "2022-06-27T18:51:49.881Z"
   },
   {
    "duration": 24,
    "start_time": "2022-06-27T18:51:49.938Z"
   },
   {
    "duration": 397970,
    "start_time": "2022-06-27T18:51:49.963Z"
   },
   {
    "duration": 4,
    "start_time": "2022-06-27T18:58:27.936Z"
   },
   {
    "duration": 208,
    "start_time": "2022-06-27T18:58:27.941Z"
   },
   {
    "duration": 199,
    "start_time": "2022-06-27T18:58:28.228Z"
   },
   {
    "duration": 101,
    "start_time": "2022-06-27T18:58:28.434Z"
   },
   {
    "duration": 960,
    "start_time": "2022-06-27T18:58:28.538Z"
   },
   {
    "duration": 730,
    "start_time": "2022-06-27T18:58:29.501Z"
   },
   {
    "duration": 94,
    "start_time": "2022-06-27T18:58:30.233Z"
   },
   {
    "duration": 813,
    "start_time": "2022-06-27T18:58:30.329Z"
   },
   {
    "duration": 94,
    "start_time": "2022-06-27T18:58:31.144Z"
   },
   {
    "duration": 491,
    "start_time": "2022-06-27T18:58:31.240Z"
   },
   {
    "duration": 1054,
    "start_time": "2022-06-27T18:58:31.738Z"
   },
   {
    "duration": 5,
    "start_time": "2022-06-27T18:58:32.794Z"
   },
   {
    "duration": 1233,
    "start_time": "2022-06-27T18:58:32.801Z"
   },
   {
    "duration": 1529,
    "start_time": "2022-06-27T18:58:34.036Z"
   },
   {
    "duration": 1164,
    "start_time": "2022-06-28T03:25:40.530Z"
   },
   {
    "duration": 85,
    "start_time": "2022-06-28T03:25:41.695Z"
   },
   {
    "duration": 14,
    "start_time": "2022-06-28T03:25:41.781Z"
   },
   {
    "duration": 10,
    "start_time": "2022-06-28T03:25:41.797Z"
   },
   {
    "duration": 4,
    "start_time": "2022-06-28T03:25:41.809Z"
   },
   {
    "duration": 10,
    "start_time": "2022-06-28T03:25:41.815Z"
   },
   {
    "duration": 2,
    "start_time": "2022-06-28T03:25:41.851Z"
   },
   {
    "duration": 7,
    "start_time": "2022-06-28T03:25:41.854Z"
   },
   {
    "duration": 7,
    "start_time": "2022-06-28T03:25:41.863Z"
   },
   {
    "duration": 14,
    "start_time": "2022-06-28T03:25:41.873Z"
   },
   {
    "duration": 505,
    "start_time": "2022-06-28T03:25:41.888Z"
   },
   {
    "duration": 17,
    "start_time": "2022-06-28T03:25:42.395Z"
   },
   {
    "duration": 16,
    "start_time": "2022-06-28T03:25:42.414Z"
   },
   {
    "duration": 23,
    "start_time": "2022-06-28T03:25:42.431Z"
   },
   {
    "duration": 12,
    "start_time": "2022-06-28T03:25:42.455Z"
   },
   {
    "duration": 3,
    "start_time": "2022-06-28T03:25:42.469Z"
   },
   {
    "duration": 28,
    "start_time": "2022-06-28T03:25:42.473Z"
   },
   {
    "duration": 422,
    "start_time": "2022-06-28T03:25:42.503Z"
   },
   {
    "duration": 6,
    "start_time": "2022-06-28T03:25:42.927Z"
   },
   {
    "duration": 6891,
    "start_time": "2022-06-28T03:25:42.934Z"
   },
   {
    "duration": 3,
    "start_time": "2022-06-28T03:25:49.826Z"
   },
   {
    "duration": 6,
    "start_time": "2022-06-28T03:25:49.831Z"
   },
   {
    "duration": 19,
    "start_time": "2022-06-28T03:25:49.839Z"
   },
   {
    "duration": 11,
    "start_time": "2022-06-28T03:25:49.860Z"
   },
   {
    "duration": 80191,
    "start_time": "2022-06-28T03:25:49.873Z"
   },
   {
    "duration": 4,
    "start_time": "2022-06-28T03:27:10.066Z"
   },
   {
    "duration": 80,
    "start_time": "2022-06-28T03:27:10.071Z"
   },
   {
    "duration": 34,
    "start_time": "2022-06-28T03:27:10.154Z"
   },
   {
    "duration": 198065,
    "start_time": "2022-06-28T03:27:10.191Z"
   },
   {
    "duration": 94,
    "start_time": "2022-06-28T03:30:28.258Z"
   },
   {
    "duration": 105,
    "start_time": "2022-06-28T03:30:28.355Z"
   },
   {
    "duration": 289,
    "start_time": "2022-06-28T03:30:28.462Z"
   },
   {
    "duration": 96,
    "start_time": "2022-06-28T03:30:28.757Z"
   },
   {
    "duration": 1076,
    "start_time": "2022-06-28T03:30:28.854Z"
   },
   {
    "duration": 721,
    "start_time": "2022-06-28T03:30:29.932Z"
   },
   {
    "duration": 101,
    "start_time": "2022-06-28T03:30:30.655Z"
   },
   {
    "duration": 793,
    "start_time": "2022-06-28T03:30:30.758Z"
   },
   {
    "duration": 100,
    "start_time": "2022-06-28T03:30:31.553Z"
   },
   {
    "duration": 397,
    "start_time": "2022-06-28T03:30:31.654Z"
   },
   {
    "duration": 1042,
    "start_time": "2022-06-28T03:30:32.055Z"
   },
   {
    "duration": 3,
    "start_time": "2022-06-28T03:30:33.099Z"
   },
   {
    "duration": 1144,
    "start_time": "2022-06-28T03:30:33.104Z"
   },
   {
    "duration": 1346,
    "start_time": "2022-06-28T03:30:34.251Z"
   },
   {
    "duration": 4,
    "start_time": "2022-06-28T04:04:15.016Z"
   },
   {
    "duration": 967,
    "start_time": "2022-06-28T16:53:28.078Z"
   },
   {
    "duration": 357,
    "start_time": "2022-06-28T16:53:29.047Z"
   },
   {
    "duration": 14,
    "start_time": "2022-06-28T16:53:29.406Z"
   },
   {
    "duration": 11,
    "start_time": "2022-06-28T16:53:29.422Z"
   },
   {
    "duration": 5,
    "start_time": "2022-06-28T16:53:29.434Z"
   },
   {
    "duration": 7,
    "start_time": "2022-06-28T16:53:29.441Z"
   },
   {
    "duration": 6,
    "start_time": "2022-06-28T16:53:29.449Z"
   },
   {
    "duration": 2,
    "start_time": "2022-06-28T16:53:31.147Z"
   },
   {
    "duration": 4,
    "start_time": "2022-06-28T16:53:31.571Z"
   },
   {
    "duration": 6,
    "start_time": "2022-06-28T16:53:46.666Z"
   },
   {
    "duration": 7,
    "start_time": "2022-06-28T16:53:56.084Z"
   },
   {
    "duration": 96,
    "start_time": "2022-06-28T16:55:01.943Z"
   },
   {
    "duration": 3,
    "start_time": "2022-06-28T16:58:13.896Z"
   },
   {
    "duration": 3,
    "start_time": "2022-06-28T17:04:16.916Z"
   },
   {
    "duration": 60,
    "start_time": "2022-06-28T17:04:16.923Z"
   },
   {
    "duration": 14,
    "start_time": "2022-06-28T17:04:16.984Z"
   },
   {
    "duration": 9,
    "start_time": "2022-06-28T17:04:17.000Z"
   },
   {
    "duration": 4,
    "start_time": "2022-06-28T17:04:17.011Z"
   },
   {
    "duration": 15,
    "start_time": "2022-06-28T17:04:17.017Z"
   },
   {
    "duration": 4,
    "start_time": "2022-06-28T17:04:17.033Z"
   },
   {
    "duration": 5,
    "start_time": "2022-06-28T17:04:17.038Z"
   },
   {
    "duration": 6,
    "start_time": "2022-06-28T17:04:17.044Z"
   },
   {
    "duration": 3,
    "start_time": "2022-06-28T17:04:17.051Z"
   },
   {
    "duration": 12,
    "start_time": "2022-06-28T17:04:17.056Z"
   },
   {
    "duration": 503,
    "start_time": "2022-06-28T17:04:17.069Z"
   },
   {
    "duration": 23,
    "start_time": "2022-06-28T17:04:17.573Z"
   },
   {
    "duration": 11,
    "start_time": "2022-06-28T17:04:17.597Z"
   },
   {
    "duration": 5,
    "start_time": "2022-06-28T17:04:17.628Z"
   },
   {
    "duration": 5,
    "start_time": "2022-06-28T17:04:17.634Z"
   },
   {
    "duration": 7,
    "start_time": "2022-06-28T17:04:17.641Z"
   },
   {
    "duration": 3,
    "start_time": "2022-06-28T17:04:17.650Z"
   },
   {
    "duration": 32,
    "start_time": "2022-06-28T17:04:17.654Z"
   },
   {
    "duration": 4,
    "start_time": "2022-06-28T18:46:57.849Z"
   },
   {
    "duration": 63,
    "start_time": "2022-06-28T18:46:57.855Z"
   },
   {
    "duration": 15,
    "start_time": "2022-06-28T18:46:57.920Z"
   },
   {
    "duration": 10,
    "start_time": "2022-06-28T18:46:57.936Z"
   },
   {
    "duration": 4,
    "start_time": "2022-06-28T18:46:57.948Z"
   },
   {
    "duration": 18,
    "start_time": "2022-06-28T18:46:57.953Z"
   },
   {
    "duration": 9,
    "start_time": "2022-06-28T18:46:57.972Z"
   },
   {
    "duration": 6,
    "start_time": "2022-06-28T18:46:57.982Z"
   },
   {
    "duration": 8,
    "start_time": "2022-06-28T18:46:57.990Z"
   },
   {
    "duration": 5,
    "start_time": "2022-06-28T18:46:57.999Z"
   },
   {
    "duration": 22,
    "start_time": "2022-06-28T18:46:58.007Z"
   },
   {
    "duration": 111,
    "start_time": "2022-06-28T18:46:58.030Z"
   },
   {
    "duration": 15,
    "start_time": "2022-06-28T18:46:58.142Z"
   },
   {
    "duration": 9,
    "start_time": "2022-06-28T18:46:58.159Z"
   },
   {
    "duration": 5,
    "start_time": "2022-06-28T18:46:58.170Z"
   },
   {
    "duration": 4,
    "start_time": "2022-06-28T18:46:58.176Z"
   },
   {
    "duration": 9,
    "start_time": "2022-06-28T18:46:58.181Z"
   },
   {
    "duration": 3,
    "start_time": "2022-06-28T18:46:58.191Z"
   },
   {
    "duration": 29,
    "start_time": "2022-06-28T18:46:58.229Z"
   },
   {
    "duration": 2,
    "start_time": "2022-06-28T18:46:58.259Z"
   },
   {
    "duration": 5,
    "start_time": "2022-06-28T18:46:58.263Z"
   },
   {
    "duration": 7141,
    "start_time": "2022-06-28T18:46:58.269Z"
   },
   {
    "duration": 3,
    "start_time": "2022-06-28T18:47:05.412Z"
   },
   {
    "duration": 15,
    "start_time": "2022-06-28T18:47:05.416Z"
   },
   {
    "duration": 6,
    "start_time": "2022-06-28T18:47:05.433Z"
   },
   {
    "duration": 18,
    "start_time": "2022-06-28T18:47:05.440Z"
   },
   {
    "duration": 82019,
    "start_time": "2022-06-28T18:47:05.460Z"
   },
   {
    "duration": 4,
    "start_time": "2022-06-28T18:48:27.480Z"
   },
   {
    "duration": 6,
    "start_time": "2022-06-28T18:48:27.488Z"
   },
   {
    "duration": 35,
    "start_time": "2022-06-28T18:48:27.495Z"
   },
   {
    "duration": 96,
    "start_time": "2022-06-28T18:48:27.531Z"
   },
   {
    "duration": 8,
    "start_time": "2022-06-28T18:48:27.628Z"
   },
   {
    "duration": 0,
    "start_time": "2022-06-28T18:48:27.637Z"
   },
   {
    "duration": 0,
    "start_time": "2022-06-28T18:48:27.638Z"
   },
   {
    "duration": 0,
    "start_time": "2022-06-28T18:48:27.639Z"
   },
   {
    "duration": 0,
    "start_time": "2022-06-28T18:48:27.641Z"
   },
   {
    "duration": 0,
    "start_time": "2022-06-28T18:48:27.642Z"
   },
   {
    "duration": 0,
    "start_time": "2022-06-28T18:48:27.643Z"
   },
   {
    "duration": 0,
    "start_time": "2022-06-28T18:48:27.643Z"
   },
   {
    "duration": 0,
    "start_time": "2022-06-28T18:48:27.645Z"
   },
   {
    "duration": 0,
    "start_time": "2022-06-28T18:48:27.646Z"
   },
   {
    "duration": 0,
    "start_time": "2022-06-28T18:48:27.647Z"
   },
   {
    "duration": 0,
    "start_time": "2022-06-28T18:48:27.648Z"
   },
   {
    "duration": 0,
    "start_time": "2022-06-28T18:48:27.649Z"
   },
   {
    "duration": 0,
    "start_time": "2022-06-28T18:48:27.650Z"
   },
   {
    "duration": 0,
    "start_time": "2022-06-28T18:48:27.651Z"
   },
   {
    "duration": 0,
    "start_time": "2022-06-28T18:48:27.652Z"
   },
   {
    "duration": 0,
    "start_time": "2022-06-28T18:48:27.653Z"
   },
   {
    "duration": 0,
    "start_time": "2022-06-28T18:48:27.653Z"
   },
   {
    "duration": 0,
    "start_time": "2022-06-28T18:48:27.655Z"
   },
   {
    "duration": 0,
    "start_time": "2022-06-28T18:48:27.656Z"
   },
   {
    "duration": 0,
    "start_time": "2022-06-28T18:48:27.657Z"
   },
   {
    "duration": 0,
    "start_time": "2022-06-28T18:48:27.658Z"
   },
   {
    "duration": 0,
    "start_time": "2022-06-28T18:48:27.659Z"
   },
   {
    "duration": 0,
    "start_time": "2022-06-28T18:48:27.660Z"
   },
   {
    "duration": 0,
    "start_time": "2022-06-28T18:48:27.661Z"
   },
   {
    "duration": 0,
    "start_time": "2022-06-28T18:48:27.661Z"
   },
   {
    "duration": 0,
    "start_time": "2022-06-28T18:48:27.663Z"
   },
   {
    "duration": 0,
    "start_time": "2022-06-28T18:48:27.663Z"
   },
   {
    "duration": 0,
    "start_time": "2022-06-28T18:48:27.664Z"
   },
   {
    "duration": 0,
    "start_time": "2022-06-28T18:48:27.665Z"
   },
   {
    "duration": 0,
    "start_time": "2022-06-28T18:48:27.666Z"
   },
   {
    "duration": 0,
    "start_time": "2022-06-28T18:48:27.667Z"
   },
   {
    "duration": 0,
    "start_time": "2022-06-28T18:48:27.668Z"
   },
   {
    "duration": 0,
    "start_time": "2022-06-28T18:48:27.669Z"
   },
   {
    "duration": 0,
    "start_time": "2022-06-28T18:48:27.670Z"
   },
   {
    "duration": 0,
    "start_time": "2022-06-28T18:48:27.671Z"
   },
   {
    "duration": 0,
    "start_time": "2022-06-28T18:48:27.729Z"
   },
   {
    "duration": 0,
    "start_time": "2022-06-28T18:48:27.730Z"
   },
   {
    "duration": 0,
    "start_time": "2022-06-28T18:48:27.731Z"
   },
   {
    "duration": 0,
    "start_time": "2022-06-28T18:48:27.733Z"
   },
   {
    "duration": 0,
    "start_time": "2022-06-28T18:48:27.733Z"
   },
   {
    "duration": 0,
    "start_time": "2022-06-28T18:48:27.735Z"
   },
   {
    "duration": 0,
    "start_time": "2022-06-28T18:48:27.735Z"
   },
   {
    "duration": 0,
    "start_time": "2022-06-28T18:48:27.736Z"
   },
   {
    "duration": 0,
    "start_time": "2022-06-28T18:48:27.737Z"
   },
   {
    "duration": 0,
    "start_time": "2022-06-28T18:48:27.738Z"
   },
   {
    "duration": 57395,
    "start_time": "2022-06-28T18:52:52.234Z"
   },
   {
    "duration": 3,
    "start_time": "2022-06-28T18:53:49.631Z"
   },
   {
    "duration": 6,
    "start_time": "2022-06-28T18:53:49.636Z"
   },
   {
    "duration": 85,
    "start_time": "2022-06-28T18:53:49.644Z"
   },
   {
    "duration": 95,
    "start_time": "2022-06-28T18:53:49.734Z"
   },
   {
    "duration": 1318,
    "start_time": "2022-06-28T18:53:49.831Z"
   },
   {
    "duration": 3,
    "start_time": "2022-06-28T18:53:51.150Z"
   },
   {
    "duration": 98,
    "start_time": "2022-06-28T18:53:51.155Z"
   },
   {
    "duration": 0,
    "start_time": "2022-06-28T18:53:51.255Z"
   },
   {
    "duration": 0,
    "start_time": "2022-06-28T18:53:51.256Z"
   },
   {
    "duration": 0,
    "start_time": "2022-06-28T18:53:51.257Z"
   },
   {
    "duration": 0,
    "start_time": "2022-06-28T18:53:51.258Z"
   },
   {
    "duration": 0,
    "start_time": "2022-06-28T18:53:51.259Z"
   },
   {
    "duration": 0,
    "start_time": "2022-06-28T18:53:51.259Z"
   },
   {
    "duration": 0,
    "start_time": "2022-06-28T18:53:51.260Z"
   },
   {
    "duration": 0,
    "start_time": "2022-06-28T18:53:51.261Z"
   },
   {
    "duration": 0,
    "start_time": "2022-06-28T18:53:51.262Z"
   },
   {
    "duration": 0,
    "start_time": "2022-06-28T18:53:51.263Z"
   },
   {
    "duration": 0,
    "start_time": "2022-06-28T18:53:51.264Z"
   },
   {
    "duration": 0,
    "start_time": "2022-06-28T18:53:51.264Z"
   },
   {
    "duration": 0,
    "start_time": "2022-06-28T18:53:51.265Z"
   },
   {
    "duration": 0,
    "start_time": "2022-06-28T18:53:51.266Z"
   },
   {
    "duration": 0,
    "start_time": "2022-06-28T18:53:51.267Z"
   },
   {
    "duration": 0,
    "start_time": "2022-06-28T18:53:51.268Z"
   },
   {
    "duration": 0,
    "start_time": "2022-06-28T18:53:51.269Z"
   },
   {
    "duration": 1,
    "start_time": "2022-06-28T18:53:51.269Z"
   },
   {
    "duration": 0,
    "start_time": "2022-06-28T18:53:51.270Z"
   },
   {
    "duration": 0,
    "start_time": "2022-06-28T18:53:51.271Z"
   },
   {
    "duration": 0,
    "start_time": "2022-06-28T18:53:51.272Z"
   },
   {
    "duration": 0,
    "start_time": "2022-06-28T18:53:51.273Z"
   },
   {
    "duration": 0,
    "start_time": "2022-06-28T18:53:51.274Z"
   },
   {
    "duration": 0,
    "start_time": "2022-06-28T18:53:51.274Z"
   },
   {
    "duration": 0,
    "start_time": "2022-06-28T18:53:51.275Z"
   },
   {
    "duration": 0,
    "start_time": "2022-06-28T18:53:51.276Z"
   },
   {
    "duration": 0,
    "start_time": "2022-06-28T18:53:51.277Z"
   },
   {
    "duration": 0,
    "start_time": "2022-06-28T18:53:51.278Z"
   },
   {
    "duration": 0,
    "start_time": "2022-06-28T18:53:51.278Z"
   },
   {
    "duration": 0,
    "start_time": "2022-06-28T18:53:51.279Z"
   },
   {
    "duration": 0,
    "start_time": "2022-06-28T18:53:51.280Z"
   },
   {
    "duration": 0,
    "start_time": "2022-06-28T18:53:51.281Z"
   },
   {
    "duration": 0,
    "start_time": "2022-06-28T18:53:51.281Z"
   },
   {
    "duration": 0,
    "start_time": "2022-06-28T18:53:51.282Z"
   },
   {
    "duration": 0,
    "start_time": "2022-06-28T18:53:51.283Z"
   },
   {
    "duration": 0,
    "start_time": "2022-06-28T18:53:51.284Z"
   },
   {
    "duration": 0,
    "start_time": "2022-06-28T18:53:51.285Z"
   },
   {
    "duration": 0,
    "start_time": "2022-06-28T18:53:51.286Z"
   },
   {
    "duration": 0,
    "start_time": "2022-06-28T18:53:51.287Z"
   },
   {
    "duration": 0,
    "start_time": "2022-06-28T18:53:51.288Z"
   },
   {
    "duration": 0,
    "start_time": "2022-06-28T18:53:51.289Z"
   },
   {
    "duration": 0,
    "start_time": "2022-06-28T18:53:51.290Z"
   },
   {
    "duration": 0,
    "start_time": "2022-06-28T18:53:51.291Z"
   },
   {
    "duration": 0,
    "start_time": "2022-06-28T18:53:51.292Z"
   },
   {
    "duration": 3,
    "start_time": "2022-06-28T19:03:12.147Z"
   },
   {
    "duration": 40,
    "start_time": "2022-06-28T19:03:12.152Z"
   },
   {
    "duration": 0,
    "start_time": "2022-06-28T19:03:12.194Z"
   },
   {
    "duration": 0,
    "start_time": "2022-06-28T19:03:12.195Z"
   },
   {
    "duration": 0,
    "start_time": "2022-06-28T19:03:12.196Z"
   },
   {
    "duration": 0,
    "start_time": "2022-06-28T19:03:12.197Z"
   },
   {
    "duration": 0,
    "start_time": "2022-06-28T19:03:12.198Z"
   },
   {
    "duration": 0,
    "start_time": "2022-06-28T19:03:12.199Z"
   },
   {
    "duration": 0,
    "start_time": "2022-06-28T19:03:12.200Z"
   },
   {
    "duration": 0,
    "start_time": "2022-06-28T19:03:12.201Z"
   },
   {
    "duration": 0,
    "start_time": "2022-06-28T19:03:12.201Z"
   },
   {
    "duration": 4,
    "start_time": "2022-06-28T19:03:12.203Z"
   },
   {
    "duration": 26,
    "start_time": "2022-06-28T19:03:12.208Z"
   },
   {
    "duration": 218,
    "start_time": "2022-06-28T19:03:12.236Z"
   },
   {
    "duration": 10,
    "start_time": "2022-06-28T19:03:12.456Z"
   },
   {
    "duration": 9208,
    "start_time": "2022-06-28T19:03:12.467Z"
   },
   {
    "duration": 3,
    "start_time": "2022-06-28T19:03:21.677Z"
   },
   {
    "duration": 8,
    "start_time": "2022-06-28T19:03:21.681Z"
   },
   {
    "duration": 35,
    "start_time": "2022-06-28T19:03:21.692Z"
   },
   {
    "duration": 111443,
    "start_time": "2022-06-28T19:03:21.729Z"
   },
   {
    "duration": 4,
    "start_time": "2022-06-28T19:05:13.173Z"
   },
   {
    "duration": 12,
    "start_time": "2022-06-28T19:05:13.178Z"
   },
   {
    "duration": 26,
    "start_time": "2022-06-28T19:05:13.191Z"
   },
   {
    "duration": 70802,
    "start_time": "2022-06-28T19:05:13.228Z"
   },
   {
    "duration": 3,
    "start_time": "2022-06-28T19:06:24.032Z"
   },
   {
    "duration": 6,
    "start_time": "2022-06-28T19:06:24.037Z"
   },
   {
    "duration": 86,
    "start_time": "2022-06-28T19:06:24.044Z"
   },
   {
    "duration": 106,
    "start_time": "2022-06-28T19:06:24.132Z"
   },
   {
    "duration": 2,
    "start_time": "2022-06-28T19:06:24.240Z"
   },
   {
    "duration": 4438,
    "start_time": "2022-06-28T19:06:24.244Z"
   },
   {
    "duration": 5,
    "start_time": "2022-06-28T19:06:28.683Z"
   },
   {
    "duration": 6,
    "start_time": "2022-06-28T19:06:28.689Z"
   },
   {
    "duration": 12,
    "start_time": "2022-06-28T19:06:28.696Z"
   },
   {
    "duration": 52019,
    "start_time": "2022-06-28T19:06:28.711Z"
   },
   {
    "duration": 3,
    "start_time": "2022-06-28T19:07:20.732Z"
   },
   {
    "duration": 7,
    "start_time": "2022-06-28T19:07:20.737Z"
   },
   {
    "duration": 35,
    "start_time": "2022-06-28T19:07:20.746Z"
   },
   {
    "duration": 21056,
    "start_time": "2022-06-28T19:07:20.782Z"
   },
   {
    "duration": 5,
    "start_time": "2022-06-28T19:07:41.928Z"
   },
   {
    "duration": 96,
    "start_time": "2022-06-28T19:07:41.935Z"
   },
   {
    "duration": 20,
    "start_time": "2022-06-28T19:07:42.033Z"
   },
   {
    "duration": 106,
    "start_time": "2022-06-28T19:07:42.130Z"
   },
   {
    "duration": 0,
    "start_time": "2022-06-28T19:07:42.237Z"
   },
   {
    "duration": 0,
    "start_time": "2022-06-28T19:07:42.239Z"
   },
   {
    "duration": 0,
    "start_time": "2022-06-28T19:07:42.240Z"
   },
   {
    "duration": 0,
    "start_time": "2022-06-28T19:07:42.241Z"
   },
   {
    "duration": 7462,
    "start_time": "2022-06-28T19:10:51.397Z"
   },
   {
    "duration": 7545,
    "start_time": "2022-06-28T19:11:07.212Z"
   },
   {
    "duration": 4,
    "start_time": "2022-06-28T19:11:14.759Z"
   },
   {
    "duration": 6,
    "start_time": "2022-06-28T19:11:14.764Z"
   },
   {
    "duration": 11,
    "start_time": "2022-06-28T19:11:14.771Z"
   },
   {
    "duration": 81,
    "start_time": "2022-06-28T19:11:14.783Z"
   },
   {
    "duration": 4,
    "start_time": "2022-06-28T19:11:14.866Z"
   },
   {
    "duration": 10,
    "start_time": "2022-06-28T19:11:14.871Z"
   },
   {
    "duration": 36,
    "start_time": "2022-06-28T19:11:14.882Z"
   },
   {
    "duration": 80,
    "start_time": "2022-06-28T19:11:14.919Z"
   },
   {
    "duration": 3,
    "start_time": "2022-06-28T19:11:15.003Z"
   },
   {
    "duration": 11,
    "start_time": "2022-06-28T19:11:15.008Z"
   },
   {
    "duration": 16,
    "start_time": "2022-06-28T19:11:15.021Z"
   },
   {
    "duration": 200,
    "start_time": "2022-06-28T19:11:15.038Z"
   },
   {
    "duration": 3,
    "start_time": "2022-06-28T19:11:15.239Z"
   },
   {
    "duration": 9831,
    "start_time": "2022-06-28T19:11:15.244Z"
   },
   {
    "duration": 4,
    "start_time": "2022-06-28T19:11:25.077Z"
   },
   {
    "duration": 10,
    "start_time": "2022-06-28T19:11:25.082Z"
   },
   {
    "duration": 26,
    "start_time": "2022-06-28T19:11:25.093Z"
   },
   {
    "duration": 0,
    "start_time": "2022-06-28T19:15:44.437Z"
   },
   {
    "duration": 0,
    "start_time": "2022-06-28T19:15:44.437Z"
   },
   {
    "duration": 0,
    "start_time": "2022-06-28T19:15:44.439Z"
   },
   {
    "duration": 0,
    "start_time": "2022-06-28T19:15:44.440Z"
   },
   {
    "duration": 0,
    "start_time": "2022-06-28T19:15:44.441Z"
   },
   {
    "duration": 0,
    "start_time": "2022-06-28T19:15:44.442Z"
   },
   {
    "duration": 0,
    "start_time": "2022-06-28T19:15:44.443Z"
   },
   {
    "duration": 0,
    "start_time": "2022-06-28T19:15:44.444Z"
   },
   {
    "duration": 0,
    "start_time": "2022-06-28T19:15:44.445Z"
   },
   {
    "duration": 0,
    "start_time": "2022-06-28T19:15:44.446Z"
   },
   {
    "duration": 0,
    "start_time": "2022-06-28T19:15:44.447Z"
   },
   {
    "duration": 0,
    "start_time": "2022-06-28T19:15:44.448Z"
   },
   {
    "duration": 0,
    "start_time": "2022-06-28T19:15:44.449Z"
   },
   {
    "duration": 0,
    "start_time": "2022-06-28T19:15:44.450Z"
   },
   {
    "duration": 0,
    "start_time": "2022-06-28T19:15:44.451Z"
   },
   {
    "duration": 0,
    "start_time": "2022-06-28T19:15:44.452Z"
   },
   {
    "duration": 0,
    "start_time": "2022-06-28T19:15:44.453Z"
   },
   {
    "duration": 0,
    "start_time": "2022-06-28T19:15:44.454Z"
   },
   {
    "duration": 0,
    "start_time": "2022-06-28T19:15:44.455Z"
   },
   {
    "duration": 0,
    "start_time": "2022-06-28T19:15:44.456Z"
   },
   {
    "duration": 0,
    "start_time": "2022-06-28T19:15:44.457Z"
   },
   {
    "duration": 0,
    "start_time": "2022-06-28T19:15:44.458Z"
   },
   {
    "duration": 0,
    "start_time": "2022-06-28T19:15:44.459Z"
   },
   {
    "duration": 0,
    "start_time": "2022-06-28T19:15:44.460Z"
   },
   {
    "duration": 0,
    "start_time": "2022-06-28T19:15:44.461Z"
   },
   {
    "duration": 0,
    "start_time": "2022-06-28T19:15:44.462Z"
   },
   {
    "duration": 0,
    "start_time": "2022-06-28T19:15:44.463Z"
   },
   {
    "duration": 0,
    "start_time": "2022-06-28T19:15:44.464Z"
   },
   {
    "duration": 0,
    "start_time": "2022-06-28T19:15:44.465Z"
   },
   {
    "duration": 0,
    "start_time": "2022-06-28T19:15:44.466Z"
   },
   {
    "duration": 0,
    "start_time": "2022-06-28T19:15:44.467Z"
   },
   {
    "duration": 0,
    "start_time": "2022-06-28T19:15:44.468Z"
   },
   {
    "duration": 0,
    "start_time": "2022-06-28T19:15:44.469Z"
   },
   {
    "duration": 0,
    "start_time": "2022-06-28T19:15:44.529Z"
   },
   {
    "duration": 0,
    "start_time": "2022-06-28T19:15:44.530Z"
   },
   {
    "duration": 0,
    "start_time": "2022-06-28T19:15:44.531Z"
   },
   {
    "duration": 0,
    "start_time": "2022-06-28T19:15:44.532Z"
   },
   {
    "duration": 0,
    "start_time": "2022-06-28T19:15:44.533Z"
   },
   {
    "duration": 0,
    "start_time": "2022-06-28T19:15:44.534Z"
   },
   {
    "duration": 0,
    "start_time": "2022-06-28T19:15:44.535Z"
   },
   {
    "duration": 0,
    "start_time": "2022-06-28T19:15:44.536Z"
   },
   {
    "duration": 83064,
    "start_time": "2022-06-28T19:26:42.487Z"
   },
   {
    "duration": 3,
    "start_time": "2022-06-28T19:28:05.553Z"
   },
   {
    "duration": 6,
    "start_time": "2022-06-28T19:28:05.558Z"
   },
   {
    "duration": 34,
    "start_time": "2022-06-28T19:28:05.566Z"
   },
   {
    "duration": 55828,
    "start_time": "2022-06-28T19:28:05.602Z"
   },
   {
    "duration": 3,
    "start_time": "2022-06-28T19:29:01.432Z"
   },
   {
    "duration": 11,
    "start_time": "2022-06-28T19:29:01.437Z"
   },
   {
    "duration": 80,
    "start_time": "2022-06-28T19:29:01.450Z"
   },
   {
    "duration": 103,
    "start_time": "2022-06-28T19:29:01.532Z"
   },
   {
    "duration": 3,
    "start_time": "2022-06-28T19:29:01.637Z"
   },
   {
    "duration": 8910,
    "start_time": "2022-06-28T19:29:01.642Z"
   },
   {
    "duration": 4,
    "start_time": "2022-06-28T19:29:10.554Z"
   },
   {
    "duration": 6,
    "start_time": "2022-06-28T19:29:10.559Z"
   },
   {
    "duration": 13,
    "start_time": "2022-06-28T19:29:10.566Z"
   },
   {
    "duration": 113416,
    "start_time": "2022-06-28T19:29:10.580Z"
   },
   {
    "duration": 4,
    "start_time": "2022-06-28T19:31:03.997Z"
   },
   {
    "duration": 6,
    "start_time": "2022-06-28T19:31:04.003Z"
   },
   {
    "duration": 51,
    "start_time": "2022-06-28T19:31:04.011Z"
   },
   {
    "duration": 71467,
    "start_time": "2022-06-28T19:31:04.064Z"
   },
   {
    "duration": 4,
    "start_time": "2022-06-28T19:32:15.533Z"
   },
   {
    "duration": 5,
    "start_time": "2022-06-28T19:32:15.539Z"
   },
   {
    "duration": 84,
    "start_time": "2022-06-28T19:32:15.546Z"
   },
   {
    "duration": 108,
    "start_time": "2022-06-28T19:32:15.631Z"
   },
   {
    "duration": 3,
    "start_time": "2022-06-28T19:32:15.740Z"
   },
   {
    "duration": 4468,
    "start_time": "2022-06-28T19:32:15.744Z"
   },
   {
    "duration": 4,
    "start_time": "2022-06-28T19:32:20.214Z"
   },
   {
    "duration": 4,
    "start_time": "2022-06-28T19:32:20.229Z"
   },
   {
    "duration": 13,
    "start_time": "2022-06-28T19:32:20.236Z"
   },
   {
    "duration": 50317,
    "start_time": "2022-06-28T19:32:20.251Z"
   },
   {
    "duration": 4,
    "start_time": "2022-06-28T19:33:10.569Z"
   },
   {
    "duration": 7,
    "start_time": "2022-06-28T19:33:10.575Z"
   },
   {
    "duration": 21,
    "start_time": "2022-06-28T19:33:10.584Z"
   },
   {
    "duration": 22922,
    "start_time": "2022-06-28T19:33:10.607Z"
   },
   {
    "duration": 4,
    "start_time": "2022-06-28T19:33:33.531Z"
   },
   {
    "duration": 100,
    "start_time": "2022-06-28T19:33:33.537Z"
   },
   {
    "duration": 90,
    "start_time": "2022-06-28T19:33:33.639Z"
   },
   {
    "duration": 107,
    "start_time": "2022-06-28T19:33:33.731Z"
   },
   {
    "duration": 0,
    "start_time": "2022-06-28T19:33:33.840Z"
   },
   {
    "duration": 0,
    "start_time": "2022-06-28T19:33:33.841Z"
   },
   {
    "duration": 0,
    "start_time": "2022-06-28T19:33:33.842Z"
   },
   {
    "duration": 0,
    "start_time": "2022-06-28T19:33:33.844Z"
   },
   {
    "duration": 1108,
    "start_time": "2022-06-28T19:39:03.076Z"
   },
   {
    "duration": 72,
    "start_time": "2022-06-28T19:39:04.186Z"
   },
   {
    "duration": 14,
    "start_time": "2022-06-28T19:39:04.260Z"
   },
   {
    "duration": 12,
    "start_time": "2022-06-28T19:39:04.276Z"
   },
   {
    "duration": 6,
    "start_time": "2022-06-28T19:39:04.290Z"
   },
   {
    "duration": 46,
    "start_time": "2022-06-28T19:39:04.297Z"
   },
   {
    "duration": 11,
    "start_time": "2022-06-28T19:39:04.345Z"
   },
   {
    "duration": 9,
    "start_time": "2022-06-28T19:39:04.357Z"
   },
   {
    "duration": 12,
    "start_time": "2022-06-28T19:39:04.368Z"
   },
   {
    "duration": 4,
    "start_time": "2022-06-28T19:39:04.383Z"
   },
   {
    "duration": 30,
    "start_time": "2022-06-28T19:39:04.389Z"
   },
   {
    "duration": 372,
    "start_time": "2022-06-28T19:39:04.421Z"
   },
   {
    "duration": 18,
    "start_time": "2022-06-28T19:39:04.795Z"
   },
   {
    "duration": 24,
    "start_time": "2022-06-28T19:39:04.814Z"
   },
   {
    "duration": 7,
    "start_time": "2022-06-28T19:39:04.840Z"
   },
   {
    "duration": 2,
    "start_time": "2022-06-28T19:39:04.851Z"
   },
   {
    "duration": 17,
    "start_time": "2022-06-28T19:39:04.855Z"
   },
   {
    "duration": 3,
    "start_time": "2022-06-28T19:39:04.874Z"
   },
   {
    "duration": 51,
    "start_time": "2022-06-28T19:39:04.879Z"
   },
   {
    "duration": 3,
    "start_time": "2022-06-28T19:39:04.932Z"
   },
   {
    "duration": 6,
    "start_time": "2022-06-28T19:39:04.936Z"
   },
   {
    "duration": 6971,
    "start_time": "2022-06-28T19:39:04.943Z"
   },
   {
    "duration": 2,
    "start_time": "2022-06-28T19:39:11.915Z"
   },
   {
    "duration": 3,
    "start_time": "2022-06-28T19:39:11.928Z"
   },
   {
    "duration": 6,
    "start_time": "2022-06-28T19:39:11.933Z"
   },
   {
    "duration": 14,
    "start_time": "2022-06-28T19:39:11.940Z"
   },
   {
    "duration": 243099,
    "start_time": "2022-06-28T19:39:11.956Z"
   },
   {
    "duration": 4,
    "start_time": "2022-06-28T19:43:15.059Z"
   },
   {
    "duration": 6,
    "start_time": "2022-06-28T19:43:15.065Z"
   },
   {
    "duration": 32,
    "start_time": "2022-06-28T19:43:15.073Z"
   },
   {
    "duration": 60032,
    "start_time": "2022-06-28T19:43:15.107Z"
   },
   {
    "duration": 3,
    "start_time": "2022-06-28T19:44:15.230Z"
   },
   {
    "duration": 18,
    "start_time": "2022-06-28T19:44:15.235Z"
   },
   {
    "duration": 76,
    "start_time": "2022-06-28T19:44:15.254Z"
   },
   {
    "duration": 107,
    "start_time": "2022-06-28T19:44:15.331Z"
   },
   {
    "duration": 1036,
    "start_time": "2022-06-28T19:44:15.440Z"
   },
   {
    "duration": 2,
    "start_time": "2022-06-28T19:44:16.478Z"
   },
   {
    "duration": 7558,
    "start_time": "2022-06-28T19:44:16.482Z"
   },
   {
    "duration": 3,
    "start_time": "2022-06-28T19:44:24.042Z"
   },
   {
    "duration": 6,
    "start_time": "2022-06-28T19:44:24.047Z"
   },
   {
    "duration": 12,
    "start_time": "2022-06-28T19:44:24.054Z"
   },
   {
    "duration": 244313,
    "start_time": "2022-06-28T19:44:24.067Z"
   },
   {
    "duration": 3,
    "start_time": "2022-06-28T19:48:28.382Z"
   },
   {
    "duration": 6,
    "start_time": "2022-06-28T19:48:28.386Z"
   },
   {
    "duration": 40,
    "start_time": "2022-06-28T19:48:28.393Z"
   },
   {
    "duration": 57295,
    "start_time": "2022-06-28T19:48:28.435Z"
   },
   {
    "duration": 4,
    "start_time": "2022-06-28T19:49:25.731Z"
   },
   {
    "duration": 9,
    "start_time": "2022-06-28T19:49:25.736Z"
   },
   {
    "duration": 87,
    "start_time": "2022-06-28T19:49:25.746Z"
   },
   {
    "duration": 105,
    "start_time": "2022-06-28T19:49:25.834Z"
   },
   {
    "duration": 3,
    "start_time": "2022-06-28T19:49:25.941Z"
   },
   {
    "duration": 8826,
    "start_time": "2022-06-28T19:49:25.945Z"
   },
   {
    "duration": 5,
    "start_time": "2022-06-28T19:49:34.773Z"
   },
   {
    "duration": 10,
    "start_time": "2022-06-28T19:49:34.779Z"
   },
   {
    "duration": 16,
    "start_time": "2022-06-28T19:49:34.790Z"
   },
   {
    "duration": 334600,
    "start_time": "2022-06-28T19:49:34.808Z"
   },
   {
    "duration": 4,
    "start_time": "2022-06-28T19:55:09.409Z"
   },
   {
    "duration": 16,
    "start_time": "2022-06-28T19:55:09.415Z"
   },
   {
    "duration": 33,
    "start_time": "2022-06-28T19:55:09.432Z"
   },
   {
    "duration": 69467,
    "start_time": "2022-06-28T19:55:09.467Z"
   },
   {
    "duration": 5,
    "start_time": "2022-06-28T19:56:18.936Z"
   },
   {
    "duration": 5,
    "start_time": "2022-06-28T19:56:18.943Z"
   },
   {
    "duration": 87,
    "start_time": "2022-06-28T19:56:18.950Z"
   },
   {
    "duration": 101,
    "start_time": "2022-06-28T19:56:19.040Z"
   },
   {
    "duration": 3,
    "start_time": "2022-06-28T19:56:19.142Z"
   },
   {
    "duration": 4440,
    "start_time": "2022-06-28T19:56:19.146Z"
   },
   {
    "duration": 4,
    "start_time": "2022-06-28T19:56:23.588Z"
   },
   {
    "duration": 14,
    "start_time": "2022-06-28T19:56:23.594Z"
   },
   {
    "duration": 23,
    "start_time": "2022-06-28T19:56:23.610Z"
   },
   {
    "duration": 150452,
    "start_time": "2022-06-28T19:56:23.634Z"
   },
   {
    "duration": 3,
    "start_time": "2022-06-28T19:58:54.088Z"
   },
   {
    "duration": 7,
    "start_time": "2022-06-28T19:58:54.093Z"
   },
   {
    "duration": 42,
    "start_time": "2022-06-28T19:58:54.102Z"
   },
   {
    "duration": 23089,
    "start_time": "2022-06-28T19:58:54.146Z"
   },
   {
    "duration": 95,
    "start_time": "2022-06-28T19:59:17.238Z"
   },
   {
    "duration": 96,
    "start_time": "2022-06-28T19:59:17.335Z"
   },
   {
    "duration": 13,
    "start_time": "2022-06-28T19:59:17.433Z"
   },
   {
    "duration": 282,
    "start_time": "2022-06-28T19:59:17.448Z"
   },
   {
    "duration": 0,
    "start_time": "2022-06-28T19:59:17.731Z"
   },
   {
    "duration": 0,
    "start_time": "2022-06-28T19:59:17.733Z"
   },
   {
    "duration": 0,
    "start_time": "2022-06-28T19:59:17.734Z"
   },
   {
    "duration": 0,
    "start_time": "2022-06-28T19:59:17.735Z"
   },
   {
    "duration": 169,
    "start_time": "2022-06-28T20:12:55.268Z"
   },
   {
    "duration": 404,
    "start_time": "2022-06-28T20:12:59.827Z"
   },
   {
    "duration": 162,
    "start_time": "2022-06-28T20:14:18.542Z"
   },
   {
    "duration": 1298,
    "start_time": "2022-06-28T20:14:54.752Z"
   },
   {
    "duration": 1261,
    "start_time": "2022-06-28T20:22:28.856Z"
   },
   {
    "duration": 1654,
    "start_time": "2022-06-28T20:23:01.067Z"
   },
   {
    "duration": 343,
    "start_time": "2022-06-28T20:23:50.921Z"
   },
   {
    "duration": 367,
    "start_time": "2022-06-28T20:24:07.321Z"
   },
   {
    "duration": 11,
    "start_time": "2022-06-28T21:09:06.506Z"
   },
   {
    "duration": 3918,
    "start_time": "2022-06-28T21:09:06.519Z"
   },
   {
    "duration": 3,
    "start_time": "2022-06-28T21:09:10.439Z"
   },
   {
    "duration": 10,
    "start_time": "2022-06-28T21:09:10.443Z"
   },
   {
    "duration": 35,
    "start_time": "2022-06-28T21:09:10.454Z"
   },
   {
    "duration": 5773,
    "start_time": "2022-06-28T21:09:10.490Z"
   },
   {
    "duration": 4,
    "start_time": "2022-06-28T21:09:16.266Z"
   },
   {
    "duration": 23,
    "start_time": "2022-06-28T21:09:16.272Z"
   },
   {
    "duration": 36,
    "start_time": "2022-06-28T21:09:16.298Z"
   },
   {
    "duration": 2,
    "start_time": "2022-06-28T21:09:16.336Z"
   },
   {
    "duration": 1168,
    "start_time": "2022-06-28T21:09:16.340Z"
   },
   {
    "duration": 3,
    "start_time": "2022-06-28T21:09:17.510Z"
   },
   {
    "duration": 4156,
    "start_time": "2022-06-28T21:09:17.515Z"
   },
   {
    "duration": 0,
    "start_time": "2022-06-28T21:09:21.673Z"
   },
   {
    "duration": 0,
    "start_time": "2022-06-28T21:09:21.674Z"
   },
   {
    "duration": 0,
    "start_time": "2022-06-28T21:09:21.675Z"
   },
   {
    "duration": 0,
    "start_time": "2022-06-28T21:09:21.676Z"
   },
   {
    "duration": 1,
    "start_time": "2022-06-28T21:09:21.677Z"
   },
   {
    "duration": 0,
    "start_time": "2022-06-28T21:09:21.679Z"
   },
   {
    "duration": 0,
    "start_time": "2022-06-28T21:09:21.679Z"
   },
   {
    "duration": 0,
    "start_time": "2022-06-28T21:09:21.680Z"
   },
   {
    "duration": 0,
    "start_time": "2022-06-28T21:09:21.681Z"
   },
   {
    "duration": 0,
    "start_time": "2022-06-28T21:09:21.682Z"
   },
   {
    "duration": 0,
    "start_time": "2022-06-28T21:09:21.683Z"
   },
   {
    "duration": 0,
    "start_time": "2022-06-28T21:09:21.684Z"
   },
   {
    "duration": 0,
    "start_time": "2022-06-28T21:09:21.685Z"
   },
   {
    "duration": 0,
    "start_time": "2022-06-28T21:09:21.686Z"
   },
   {
    "duration": 0,
    "start_time": "2022-06-28T21:09:21.687Z"
   },
   {
    "duration": 0,
    "start_time": "2022-06-28T21:09:21.687Z"
   },
   {
    "duration": 0,
    "start_time": "2022-06-28T21:09:21.688Z"
   },
   {
    "duration": 0,
    "start_time": "2022-06-28T21:09:21.689Z"
   },
   {
    "duration": 0,
    "start_time": "2022-06-28T21:09:21.690Z"
   },
   {
    "duration": 0,
    "start_time": "2022-06-28T21:09:21.690Z"
   },
   {
    "duration": 0,
    "start_time": "2022-06-28T21:09:21.691Z"
   },
   {
    "duration": 0,
    "start_time": "2022-06-28T21:09:21.693Z"
   },
   {
    "duration": 0,
    "start_time": "2022-06-28T21:09:21.693Z"
   },
   {
    "duration": 0,
    "start_time": "2022-06-28T21:09:21.694Z"
   },
   {
    "duration": 0,
    "start_time": "2022-06-28T21:09:21.695Z"
   },
   {
    "duration": 0,
    "start_time": "2022-06-28T21:09:21.697Z"
   },
   {
    "duration": 0,
    "start_time": "2022-06-28T21:09:21.698Z"
   },
   {
    "duration": 0,
    "start_time": "2022-06-28T21:09:21.698Z"
   },
   {
    "duration": 0,
    "start_time": "2022-06-28T21:09:21.699Z"
   },
   {
    "duration": 0,
    "start_time": "2022-06-28T21:09:21.700Z"
   },
   {
    "duration": 0,
    "start_time": "2022-06-28T21:09:21.701Z"
   },
   {
    "duration": 0,
    "start_time": "2022-06-28T21:09:21.702Z"
   },
   {
    "duration": 0,
    "start_time": "2022-06-28T21:09:21.729Z"
   },
   {
    "duration": 0,
    "start_time": "2022-06-28T21:09:21.729Z"
   },
   {
    "duration": 0,
    "start_time": "2022-06-28T21:09:21.730Z"
   },
   {
    "duration": 0,
    "start_time": "2022-06-28T21:09:21.732Z"
   },
   {
    "duration": 1,
    "start_time": "2022-06-28T21:09:21.732Z"
   },
   {
    "duration": 0,
    "start_time": "2022-06-28T21:09:21.733Z"
   },
   {
    "duration": 0,
    "start_time": "2022-06-28T21:09:21.734Z"
   },
   {
    "duration": 0,
    "start_time": "2022-06-28T21:09:21.735Z"
   },
   {
    "duration": 0,
    "start_time": "2022-06-28T21:09:21.736Z"
   },
   {
    "duration": 0,
    "start_time": "2022-06-28T21:09:21.738Z"
   },
   {
    "duration": 0,
    "start_time": "2022-06-28T21:09:21.739Z"
   },
   {
    "duration": 0,
    "start_time": "2022-06-28T21:09:21.740Z"
   },
   {
    "duration": 0,
    "start_time": "2022-06-28T21:09:21.741Z"
   },
   {
    "duration": 0,
    "start_time": "2022-06-28T21:09:21.742Z"
   },
   {
    "duration": 0,
    "start_time": "2022-06-28T21:09:21.743Z"
   },
   {
    "duration": 0,
    "start_time": "2022-06-28T21:09:21.744Z"
   },
   {
    "duration": 4,
    "start_time": "2022-06-28T21:09:38.069Z"
   },
   {
    "duration": 74,
    "start_time": "2022-06-28T21:09:38.075Z"
   },
   {
    "duration": 15,
    "start_time": "2022-06-28T21:09:38.151Z"
   },
   {
    "duration": 11,
    "start_time": "2022-06-28T21:09:38.167Z"
   },
   {
    "duration": 7,
    "start_time": "2022-06-28T21:09:38.181Z"
   },
   {
    "duration": 47,
    "start_time": "2022-06-28T21:09:38.190Z"
   },
   {
    "duration": 4,
    "start_time": "2022-06-28T21:09:38.239Z"
   },
   {
    "duration": 6,
    "start_time": "2022-06-28T21:09:38.244Z"
   },
   {
    "duration": 7,
    "start_time": "2022-06-28T21:09:38.251Z"
   },
   {
    "duration": 8,
    "start_time": "2022-06-28T21:09:38.260Z"
   },
   {
    "duration": 15,
    "start_time": "2022-06-28T21:09:38.270Z"
   },
   {
    "duration": 112,
    "start_time": "2022-06-28T21:09:38.287Z"
   },
   {
    "duration": 16,
    "start_time": "2022-06-28T21:09:38.400Z"
   },
   {
    "duration": 11,
    "start_time": "2022-06-28T21:09:38.429Z"
   },
   {
    "duration": 5,
    "start_time": "2022-06-28T21:09:38.442Z"
   },
   {
    "duration": 3,
    "start_time": "2022-06-28T21:09:38.449Z"
   },
   {
    "duration": 10,
    "start_time": "2022-06-28T21:09:38.453Z"
   },
   {
    "duration": 5,
    "start_time": "2022-06-28T21:09:38.465Z"
   },
   {
    "duration": 34,
    "start_time": "2022-06-28T21:09:38.471Z"
   },
   {
    "duration": 25,
    "start_time": "2022-06-28T21:09:38.506Z"
   },
   {
    "duration": 5,
    "start_time": "2022-06-28T21:09:38.532Z"
   },
   {
    "duration": 7347,
    "start_time": "2022-06-28T21:09:38.539Z"
   },
   {
    "duration": 2,
    "start_time": "2022-06-28T21:09:45.888Z"
   },
   {
    "duration": 8,
    "start_time": "2022-06-28T21:09:45.891Z"
   },
   {
    "duration": 11,
    "start_time": "2022-06-28T21:09:45.901Z"
   },
   {
    "duration": 6,
    "start_time": "2022-06-28T21:09:45.914Z"
   },
   {
    "duration": 4,
    "start_time": "2022-06-28T21:09:45.929Z"
   },
   {
    "duration": 1111,
    "start_time": "2022-06-28T21:12:30.541Z"
   },
   {
    "duration": 67,
    "start_time": "2022-06-28T21:12:31.654Z"
   },
   {
    "duration": 13,
    "start_time": "2022-06-28T21:12:31.723Z"
   },
   {
    "duration": 10,
    "start_time": "2022-06-28T21:12:31.738Z"
   },
   {
    "duration": 5,
    "start_time": "2022-06-28T21:12:31.749Z"
   },
   {
    "duration": 7,
    "start_time": "2022-06-28T21:12:31.755Z"
   },
   {
    "duration": 5,
    "start_time": "2022-06-28T21:12:31.763Z"
   },
   {
    "duration": 12,
    "start_time": "2022-06-28T21:12:31.769Z"
   },
   {
    "duration": 8,
    "start_time": "2022-06-28T21:12:31.782Z"
   },
   {
    "duration": 3,
    "start_time": "2022-06-28T21:12:31.792Z"
   },
   {
    "duration": 33,
    "start_time": "2022-06-28T21:12:31.796Z"
   },
   {
    "duration": 336,
    "start_time": "2022-06-28T21:12:31.830Z"
   },
   {
    "duration": 18,
    "start_time": "2022-06-28T21:12:32.167Z"
   },
   {
    "duration": 11,
    "start_time": "2022-06-28T21:12:32.187Z"
   },
   {
    "duration": 11,
    "start_time": "2022-06-28T21:12:32.200Z"
   },
   {
    "duration": 19,
    "start_time": "2022-06-28T21:12:32.212Z"
   },
   {
    "duration": 13,
    "start_time": "2022-06-28T21:12:32.233Z"
   },
   {
    "duration": 2,
    "start_time": "2022-06-28T21:12:32.247Z"
   },
   {
    "duration": 31,
    "start_time": "2022-06-28T21:12:32.251Z"
   },
   {
    "duration": 3,
    "start_time": "2022-06-28T21:12:32.283Z"
   },
   {
    "duration": 5,
    "start_time": "2022-06-28T21:12:32.287Z"
   },
   {
    "duration": 6954,
    "start_time": "2022-06-28T21:12:32.293Z"
   },
   {
    "duration": 2,
    "start_time": "2022-06-28T21:12:39.249Z"
   },
   {
    "duration": 9,
    "start_time": "2022-06-28T21:12:39.253Z"
   },
   {
    "duration": 7,
    "start_time": "2022-06-28T21:12:39.264Z"
   },
   {
    "duration": 14,
    "start_time": "2022-06-28T21:12:39.273Z"
   },
   {
    "duration": 221076,
    "start_time": "2022-06-28T21:12:39.289Z"
   },
   {
    "duration": 9,
    "start_time": "2022-06-28T21:16:20.369Z"
   },
   {
    "duration": 0,
    "start_time": "2022-06-28T21:16:20.380Z"
   },
   {
    "duration": 0,
    "start_time": "2022-06-28T21:16:20.381Z"
   },
   {
    "duration": 0,
    "start_time": "2022-06-28T21:16:20.382Z"
   },
   {
    "duration": 0,
    "start_time": "2022-06-28T21:16:20.383Z"
   },
   {
    "duration": 0,
    "start_time": "2022-06-28T21:16:20.384Z"
   },
   {
    "duration": 0,
    "start_time": "2022-06-28T21:16:20.385Z"
   },
   {
    "duration": 0,
    "start_time": "2022-06-28T21:16:20.386Z"
   },
   {
    "duration": 0,
    "start_time": "2022-06-28T21:16:20.387Z"
   },
   {
    "duration": 0,
    "start_time": "2022-06-28T21:16:20.388Z"
   },
   {
    "duration": 0,
    "start_time": "2022-06-28T21:16:20.389Z"
   },
   {
    "duration": 0,
    "start_time": "2022-06-28T21:16:20.390Z"
   },
   {
    "duration": 0,
    "start_time": "2022-06-28T21:16:20.391Z"
   },
   {
    "duration": 0,
    "start_time": "2022-06-28T21:16:20.392Z"
   },
   {
    "duration": 0,
    "start_time": "2022-06-28T21:16:20.393Z"
   },
   {
    "duration": 0,
    "start_time": "2022-06-28T21:16:20.394Z"
   },
   {
    "duration": 0,
    "start_time": "2022-06-28T21:16:20.395Z"
   },
   {
    "duration": 0,
    "start_time": "2022-06-28T21:16:20.396Z"
   },
   {
    "duration": 0,
    "start_time": "2022-06-28T21:16:20.397Z"
   },
   {
    "duration": 0,
    "start_time": "2022-06-28T21:16:20.398Z"
   },
   {
    "duration": 0,
    "start_time": "2022-06-28T21:16:20.399Z"
   },
   {
    "duration": 0,
    "start_time": "2022-06-28T21:16:20.400Z"
   },
   {
    "duration": 0,
    "start_time": "2022-06-28T21:16:20.401Z"
   },
   {
    "duration": 0,
    "start_time": "2022-06-28T21:16:20.402Z"
   },
   {
    "duration": 0,
    "start_time": "2022-06-28T21:16:20.429Z"
   },
   {
    "duration": 0,
    "start_time": "2022-06-28T21:16:20.430Z"
   },
   {
    "duration": 0,
    "start_time": "2022-06-28T21:16:20.431Z"
   },
   {
    "duration": 0,
    "start_time": "2022-06-28T21:16:20.432Z"
   },
   {
    "duration": 0,
    "start_time": "2022-06-28T21:16:20.433Z"
   },
   {
    "duration": 0,
    "start_time": "2022-06-28T21:16:20.434Z"
   },
   {
    "duration": 0,
    "start_time": "2022-06-28T21:16:20.435Z"
   },
   {
    "duration": 0,
    "start_time": "2022-06-28T21:16:20.436Z"
   },
   {
    "duration": 0,
    "start_time": "2022-06-28T21:16:20.437Z"
   },
   {
    "duration": 0,
    "start_time": "2022-06-28T21:16:20.438Z"
   },
   {
    "duration": 0,
    "start_time": "2022-06-28T21:16:20.439Z"
   },
   {
    "duration": 0,
    "start_time": "2022-06-28T21:16:20.440Z"
   },
   {
    "duration": 0,
    "start_time": "2022-06-28T21:16:20.441Z"
   },
   {
    "duration": 0,
    "start_time": "2022-06-28T21:16:20.442Z"
   },
   {
    "duration": 0,
    "start_time": "2022-06-28T21:16:20.443Z"
   },
   {
    "duration": 0,
    "start_time": "2022-06-28T21:16:20.444Z"
   },
   {
    "duration": 0,
    "start_time": "2022-06-28T21:16:20.445Z"
   },
   {
    "duration": 0,
    "start_time": "2022-06-28T21:16:20.445Z"
   },
   {
    "duration": 0,
    "start_time": "2022-06-28T21:16:20.446Z"
   },
   {
    "duration": 0,
    "start_time": "2022-06-28T21:16:20.447Z"
   },
   {
    "duration": 0,
    "start_time": "2022-06-28T21:16:20.448Z"
   },
   {
    "duration": 0,
    "start_time": "2022-06-28T21:16:20.449Z"
   },
   {
    "duration": 0,
    "start_time": "2022-06-28T21:16:20.451Z"
   },
   {
    "duration": 0,
    "start_time": "2022-06-28T21:16:20.452Z"
   },
   {
    "duration": 0,
    "start_time": "2022-06-28T21:16:20.453Z"
   },
   {
    "duration": 0,
    "start_time": "2022-06-28T21:16:20.454Z"
   },
   {
    "duration": 0,
    "start_time": "2022-06-28T21:16:20.455Z"
   },
   {
    "duration": 0,
    "start_time": "2022-06-28T21:16:20.456Z"
   },
   {
    "duration": 0,
    "start_time": "2022-06-28T21:16:20.457Z"
   },
   {
    "duration": 0,
    "start_time": "2022-06-28T21:16:20.458Z"
   },
   {
    "duration": 0,
    "start_time": "2022-06-28T21:16:20.459Z"
   },
   {
    "duration": 0,
    "start_time": "2022-06-28T21:16:20.460Z"
   },
   {
    "duration": 0,
    "start_time": "2022-06-28T21:16:20.461Z"
   },
   {
    "duration": 0,
    "start_time": "2022-06-28T21:16:20.462Z"
   },
   {
    "duration": 0,
    "start_time": "2022-06-28T21:16:20.463Z"
   },
   {
    "duration": 3,
    "start_time": "2022-06-28T21:16:34.038Z"
   },
   {
    "duration": 62,
    "start_time": "2022-06-28T21:16:34.046Z"
   },
   {
    "duration": 13,
    "start_time": "2022-06-28T21:16:34.110Z"
   },
   {
    "duration": 10,
    "start_time": "2022-06-28T21:16:34.124Z"
   },
   {
    "duration": 5,
    "start_time": "2022-06-28T21:16:34.136Z"
   },
   {
    "duration": 5,
    "start_time": "2022-06-28T21:16:34.142Z"
   },
   {
    "duration": 2,
    "start_time": "2022-06-28T21:16:34.149Z"
   },
   {
    "duration": 6,
    "start_time": "2022-06-28T21:16:34.152Z"
   },
   {
    "duration": 6,
    "start_time": "2022-06-28T21:16:34.159Z"
   },
   {
    "duration": 4,
    "start_time": "2022-06-28T21:16:34.166Z"
   },
   {
    "duration": 14,
    "start_time": "2022-06-28T21:16:34.172Z"
   },
   {
    "duration": 121,
    "start_time": "2022-06-28T21:16:34.187Z"
   },
   {
    "duration": 28,
    "start_time": "2022-06-28T21:16:34.309Z"
   },
   {
    "duration": 10,
    "start_time": "2022-06-28T21:16:34.338Z"
   },
   {
    "duration": 6,
    "start_time": "2022-06-28T21:16:34.349Z"
   },
   {
    "duration": 4,
    "start_time": "2022-06-28T21:16:34.357Z"
   },
   {
    "duration": 6,
    "start_time": "2022-06-28T21:16:34.363Z"
   },
   {
    "duration": 2,
    "start_time": "2022-06-28T21:16:34.371Z"
   },
   {
    "duration": 54,
    "start_time": "2022-06-28T21:16:34.375Z"
   },
   {
    "duration": 2,
    "start_time": "2022-06-28T21:16:34.431Z"
   },
   {
    "duration": 6,
    "start_time": "2022-06-28T21:16:34.434Z"
   },
   {
    "duration": 7040,
    "start_time": "2022-06-28T21:16:34.441Z"
   },
   {
    "duration": 2,
    "start_time": "2022-06-28T21:16:41.483Z"
   },
   {
    "duration": 6,
    "start_time": "2022-06-28T21:16:41.487Z"
   },
   {
    "duration": 8,
    "start_time": "2022-06-28T21:16:44.070Z"
   },
   {
    "duration": 9,
    "start_time": "2022-06-28T21:16:48.453Z"
   },
   {
    "duration": 1071,
    "start_time": "2022-06-28T21:17:28.472Z"
   },
   {
    "duration": 66,
    "start_time": "2022-06-28T21:17:29.545Z"
   },
   {
    "duration": 12,
    "start_time": "2022-06-28T21:17:29.613Z"
   },
   {
    "duration": 9,
    "start_time": "2022-06-28T21:17:29.627Z"
   },
   {
    "duration": 4,
    "start_time": "2022-06-28T21:17:29.638Z"
   },
   {
    "duration": 5,
    "start_time": "2022-06-28T21:17:29.644Z"
   },
   {
    "duration": 4,
    "start_time": "2022-06-28T21:17:29.650Z"
   },
   {
    "duration": 5,
    "start_time": "2022-06-28T21:17:29.656Z"
   },
   {
    "duration": 6,
    "start_time": "2022-06-28T21:17:29.662Z"
   },
   {
    "duration": 4,
    "start_time": "2022-06-28T21:17:29.670Z"
   },
   {
    "duration": 11,
    "start_time": "2022-06-28T21:17:29.675Z"
   },
   {
    "duration": 363,
    "start_time": "2022-06-28T21:17:29.688Z"
   },
   {
    "duration": 16,
    "start_time": "2022-06-28T21:17:30.052Z"
   },
   {
    "duration": 25,
    "start_time": "2022-06-28T21:17:30.070Z"
   },
   {
    "duration": 25,
    "start_time": "2022-06-28T21:17:30.096Z"
   },
   {
    "duration": 8,
    "start_time": "2022-06-28T21:17:30.123Z"
   },
   {
    "duration": 20,
    "start_time": "2022-06-28T21:17:30.132Z"
   },
   {
    "duration": 20,
    "start_time": "2022-06-28T21:17:30.153Z"
   },
   {
    "duration": 45,
    "start_time": "2022-06-28T21:17:30.175Z"
   },
   {
    "duration": 3,
    "start_time": "2022-06-28T21:17:30.222Z"
   },
   {
    "duration": 11,
    "start_time": "2022-06-28T21:17:30.226Z"
   },
   {
    "duration": 6700,
    "start_time": "2022-06-28T21:17:30.239Z"
   },
   {
    "duration": 4,
    "start_time": "2022-06-28T21:17:36.941Z"
   },
   {
    "duration": 7,
    "start_time": "2022-06-28T21:17:36.947Z"
   },
   {
    "duration": 5,
    "start_time": "2022-06-28T21:17:36.955Z"
   },
   {
    "duration": 12,
    "start_time": "2022-06-28T21:17:36.961Z"
   },
   {
    "duration": 245988,
    "start_time": "2022-06-28T21:17:36.975Z"
   },
   {
    "duration": 4,
    "start_time": "2022-06-28T21:21:42.968Z"
   },
   {
    "duration": 9,
    "start_time": "2022-06-28T21:21:42.973Z"
   },
   {
    "duration": 49,
    "start_time": "2022-06-28T21:21:42.984Z"
   },
   {
    "duration": 58595,
    "start_time": "2022-06-28T21:21:43.035Z"
   },
   {
    "duration": 4,
    "start_time": "2022-06-28T21:22:41.632Z"
   },
   {
    "duration": 6,
    "start_time": "2022-06-28T21:22:41.638Z"
   },
   {
    "duration": 85,
    "start_time": "2022-06-28T21:22:41.646Z"
   },
   {
    "duration": 101,
    "start_time": "2022-06-28T21:22:41.733Z"
   },
   {
    "duration": 674,
    "start_time": "2022-06-28T21:22:41.836Z"
   },
   {
    "duration": 4,
    "start_time": "2022-06-28T21:22:42.512Z"
   },
   {
    "duration": 7680,
    "start_time": "2022-06-28T21:22:42.517Z"
   },
   {
    "duration": 4,
    "start_time": "2022-06-28T21:22:50.198Z"
   },
   {
    "duration": 6,
    "start_time": "2022-06-28T21:22:50.203Z"
   },
   {
    "duration": 29,
    "start_time": "2022-06-28T21:22:50.210Z"
   },
   {
    "duration": 241443,
    "start_time": "2022-06-28T21:22:50.241Z"
   },
   {
    "duration": 3,
    "start_time": "2022-06-28T21:26:51.686Z"
   },
   {
    "duration": 11,
    "start_time": "2022-06-28T21:26:51.691Z"
   },
   {
    "duration": 34,
    "start_time": "2022-06-28T21:26:51.703Z"
   },
   {
    "duration": 56092,
    "start_time": "2022-06-28T21:26:51.738Z"
   },
   {
    "duration": 3,
    "start_time": "2022-06-28T21:27:47.831Z"
   },
   {
    "duration": 7,
    "start_time": "2022-06-28T21:27:47.835Z"
   },
   {
    "duration": 85,
    "start_time": "2022-06-28T21:27:47.844Z"
   },
   {
    "duration": 108,
    "start_time": "2022-06-28T21:27:47.931Z"
   },
   {
    "duration": 2,
    "start_time": "2022-06-28T21:27:48.041Z"
   },
   {
    "duration": 8768,
    "start_time": "2022-06-28T21:27:48.044Z"
   },
   {
    "duration": 7,
    "start_time": "2022-06-28T21:27:56.813Z"
   },
   {
    "duration": 4,
    "start_time": "2022-06-28T21:27:56.829Z"
   },
   {
    "duration": 16,
    "start_time": "2022-06-28T21:27:56.834Z"
   },
   {
    "duration": 329760,
    "start_time": "2022-06-28T21:27:56.852Z"
   },
   {
    "duration": 3,
    "start_time": "2022-06-28T21:33:26.613Z"
   },
   {
    "duration": 11,
    "start_time": "2022-06-28T21:33:26.618Z"
   },
   {
    "duration": 26,
    "start_time": "2022-06-28T21:33:26.631Z"
   },
   {
    "duration": 68072,
    "start_time": "2022-06-28T21:33:26.658Z"
   },
   {
    "duration": 3,
    "start_time": "2022-06-28T21:34:34.732Z"
   },
   {
    "duration": 7,
    "start_time": "2022-06-28T21:34:34.737Z"
   },
   {
    "duration": 14,
    "start_time": "2022-06-28T21:34:34.746Z"
   },
   {
    "duration": 99,
    "start_time": "2022-06-28T21:34:34.830Z"
   },
   {
    "duration": 8,
    "start_time": "2022-06-28T21:34:34.931Z"
   },
   {
    "duration": 4336,
    "start_time": "2022-06-28T21:34:34.940Z"
   },
   {
    "duration": 3,
    "start_time": "2022-06-28T21:34:39.278Z"
   },
   {
    "duration": 6,
    "start_time": "2022-06-28T21:34:39.283Z"
   },
   {
    "duration": 12,
    "start_time": "2022-06-28T21:34:39.291Z"
   },
   {
    "duration": 150930,
    "start_time": "2022-06-28T21:34:39.304Z"
   },
   {
    "duration": 3,
    "start_time": "2022-06-28T21:37:10.236Z"
   },
   {
    "duration": 7,
    "start_time": "2022-06-28T21:37:10.240Z"
   },
   {
    "duration": 28,
    "start_time": "2022-06-28T21:37:10.248Z"
   },
   {
    "duration": 20058,
    "start_time": "2022-06-28T21:37:10.278Z"
   },
   {
    "duration": 5,
    "start_time": "2022-06-28T21:37:30.428Z"
   },
   {
    "duration": 112,
    "start_time": "2022-06-28T21:37:30.435Z"
   },
   {
    "duration": 25,
    "start_time": "2022-06-28T21:37:30.549Z"
   },
   {
    "duration": 230,
    "start_time": "2022-06-28T21:37:30.576Z"
   },
   {
    "duration": 0,
    "start_time": "2022-06-28T21:37:30.808Z"
   },
   {
    "duration": 0,
    "start_time": "2022-06-28T21:37:30.809Z"
   },
   {
    "duration": 0,
    "start_time": "2022-06-28T21:37:30.810Z"
   },
   {
    "duration": 0,
    "start_time": "2022-06-28T21:37:30.811Z"
   },
   {
    "duration": 0,
    "start_time": "2022-06-28T21:37:30.829Z"
   },
   {
    "duration": 0,
    "start_time": "2022-06-28T21:37:30.831Z"
   },
   {
    "duration": 0,
    "start_time": "2022-06-28T21:37:30.832Z"
   },
   {
    "duration": 0,
    "start_time": "2022-06-28T21:37:30.833Z"
   },
   {
    "duration": 1158,
    "start_time": "2022-06-28T22:06:30.218Z"
   },
   {
    "duration": 1439,
    "start_time": "2022-06-28T22:06:33.488Z"
   },
   {
    "duration": 1826,
    "start_time": "2022-06-29T03:32:39.633Z"
   },
   {
    "duration": 175,
    "start_time": "2022-06-29T03:32:41.461Z"
   },
   {
    "duration": 17,
    "start_time": "2022-06-29T03:32:41.638Z"
   },
   {
    "duration": 70,
    "start_time": "2022-06-29T03:32:41.658Z"
   },
   {
    "duration": 6,
    "start_time": "2022-06-29T03:32:41.731Z"
   },
   {
    "duration": 6,
    "start_time": "2022-06-29T03:32:41.739Z"
   },
   {
    "duration": 4,
    "start_time": "2022-06-29T03:32:41.747Z"
   },
   {
    "duration": 6,
    "start_time": "2022-06-29T03:32:41.753Z"
   },
   {
    "duration": 72,
    "start_time": "2022-06-29T03:32:41.760Z"
   },
   {
    "duration": 3,
    "start_time": "2022-06-29T03:32:41.835Z"
   },
   {
    "duration": 22,
    "start_time": "2022-06-29T03:32:41.840Z"
   },
   {
    "duration": 702,
    "start_time": "2022-06-29T03:32:41.864Z"
   },
   {
    "duration": 76,
    "start_time": "2022-06-29T03:32:42.567Z"
   },
   {
    "duration": 19,
    "start_time": "2022-06-29T03:32:42.645Z"
   },
   {
    "duration": 71,
    "start_time": "2022-06-29T03:32:42.666Z"
   },
   {
    "duration": 6,
    "start_time": "2022-06-29T03:32:42.739Z"
   },
   {
    "duration": 16,
    "start_time": "2022-06-29T03:32:42.747Z"
   },
   {
    "duration": 62,
    "start_time": "2022-06-29T03:32:42.765Z"
   },
   {
    "duration": 33,
    "start_time": "2022-06-29T03:32:42.829Z"
   },
   {
    "duration": 3,
    "start_time": "2022-06-29T03:32:42.864Z"
   },
   {
    "duration": 7,
    "start_time": "2022-06-29T03:32:42.928Z"
   },
   {
    "duration": 15301,
    "start_time": "2022-06-29T03:32:42.936Z"
   },
   {
    "duration": 3,
    "start_time": "2022-06-29T03:32:58.239Z"
   },
   {
    "duration": 12,
    "start_time": "2022-06-29T03:32:58.244Z"
   },
   {
    "duration": 8,
    "start_time": "2022-06-29T03:32:58.258Z"
   },
   {
    "duration": 74,
    "start_time": "2022-06-29T03:32:58.268Z"
   },
   {
    "duration": 552211,
    "start_time": "2022-06-29T03:32:58.344Z"
   },
   {
    "duration": 5,
    "start_time": "2022-06-29T03:42:10.561Z"
   },
   {
    "duration": 62,
    "start_time": "2022-06-29T03:42:10.568Z"
   },
   {
    "duration": 100,
    "start_time": "2022-06-29T03:42:10.633Z"
   },
   {
    "duration": 80617,
    "start_time": "2022-06-29T03:42:10.737Z"
   },
   {
    "duration": 73,
    "start_time": "2022-06-29T03:43:31.356Z"
   },
   {
    "duration": 7,
    "start_time": "2022-06-29T03:43:31.431Z"
   },
   {
    "duration": 188,
    "start_time": "2022-06-29T03:43:31.440Z"
   },
   {
    "duration": 3,
    "start_time": "2022-06-29T03:43:31.630Z"
   },
   {
    "duration": 1514,
    "start_time": "2022-06-29T03:43:31.635Z"
   },
   {
    "duration": 4,
    "start_time": "2022-06-29T03:43:33.152Z"
   },
   {
    "duration": 20679,
    "start_time": "2022-06-29T03:43:33.158Z"
   },
   {
    "duration": 6,
    "start_time": "2022-06-29T03:43:53.840Z"
   },
   {
    "duration": 114,
    "start_time": "2022-06-29T03:43:53.848Z"
   },
   {
    "duration": 73,
    "start_time": "2022-06-29T03:43:53.964Z"
   },
   {
    "duration": 722230,
    "start_time": "2022-06-29T03:43:54.039Z"
   },
   {
    "duration": 62,
    "start_time": "2022-06-29T03:55:56.272Z"
   },
   {
    "duration": 41,
    "start_time": "2022-06-29T03:55:56.336Z"
   },
   {
    "duration": 93,
    "start_time": "2022-06-29T03:55:56.379Z"
   },
   {
    "duration": 116717,
    "start_time": "2022-06-29T03:55:56.529Z"
   },
   {
    "duration": 5,
    "start_time": "2022-06-29T03:57:53.330Z"
   },
   {
    "duration": 6,
    "start_time": "2022-06-29T03:57:53.347Z"
   },
   {
    "duration": 92,
    "start_time": "2022-06-29T03:57:53.355Z"
   },
   {
    "duration": 113,
    "start_time": "2022-06-29T03:57:53.451Z"
   },
   {
    "duration": 4,
    "start_time": "2022-06-29T03:57:53.566Z"
   },
   {
    "duration": 22364,
    "start_time": "2022-06-29T03:57:53.572Z"
   },
   {
    "duration": 7,
    "start_time": "2022-06-29T03:58:15.938Z"
   },
   {
    "duration": 10,
    "start_time": "2022-06-29T03:58:15.946Z"
   },
   {
    "duration": 15,
    "start_time": "2022-06-29T03:58:15.957Z"
   },
   {
    "duration": 855566,
    "start_time": "2022-06-29T03:58:15.974Z"
   },
   {
    "duration": 4,
    "start_time": "2022-06-29T04:12:31.542Z"
   },
   {
    "duration": 10,
    "start_time": "2022-06-29T04:12:31.548Z"
   },
   {
    "duration": 97,
    "start_time": "2022-06-29T04:12:31.560Z"
   },
   {
    "duration": 142174,
    "start_time": "2022-06-29T04:12:31.659Z"
   },
   {
    "duration": 7,
    "start_time": "2022-06-29T04:14:53.835Z"
   },
   {
    "duration": 14,
    "start_time": "2022-06-29T04:14:53.846Z"
   },
   {
    "duration": 91,
    "start_time": "2022-06-29T04:14:53.861Z"
   },
   {
    "duration": 29,
    "start_time": "2022-06-29T04:14:54.028Z"
   },
   {
    "duration": 3,
    "start_time": "2022-06-29T04:14:54.059Z"
   },
   {
    "duration": 11104,
    "start_time": "2022-06-29T04:14:54.064Z"
   },
   {
    "duration": 62,
    "start_time": "2022-06-29T04:15:05.170Z"
   },
   {
    "duration": 22,
    "start_time": "2022-06-29T04:15:05.234Z"
   },
   {
    "duration": 21,
    "start_time": "2022-06-29T04:15:05.258Z"
   },
   {
    "duration": 380954,
    "start_time": "2022-06-29T04:15:05.281Z"
   },
   {
    "duration": 10,
    "start_time": "2022-06-29T04:21:26.237Z"
   },
   {
    "duration": 37,
    "start_time": "2022-06-29T04:21:26.249Z"
   },
   {
    "duration": 37,
    "start_time": "2022-06-29T04:21:26.327Z"
   },
   {
    "duration": 65478,
    "start_time": "2022-06-29T04:21:26.367Z"
   },
   {
    "duration": 74,
    "start_time": "2022-06-29T04:22:31.855Z"
   },
   {
    "duration": 121,
    "start_time": "2022-06-29T04:22:31.931Z"
   },
   {
    "duration": 82,
    "start_time": "2022-06-29T04:22:32.054Z"
   },
   {
    "duration": 7807,
    "start_time": "2022-06-29T04:22:32.138Z"
   },
   {
    "duration": 11584,
    "start_time": "2022-06-29T04:22:39.947Z"
   },
   {
    "duration": 48,
    "start_time": "2022-06-29T06:17:03.467Z"
   },
   {
    "duration": 1126,
    "start_time": "2022-06-29T06:17:13.236Z"
   },
   {
    "duration": 101,
    "start_time": "2022-06-29T06:17:14.364Z"
   },
   {
    "duration": 13,
    "start_time": "2022-06-29T06:17:14.467Z"
   },
   {
    "duration": 11,
    "start_time": "2022-06-29T06:17:14.482Z"
   },
   {
    "duration": 5,
    "start_time": "2022-06-29T06:17:14.494Z"
   },
   {
    "duration": 24,
    "start_time": "2022-06-29T06:17:14.500Z"
   },
   {
    "duration": 4,
    "start_time": "2022-06-29T06:17:14.526Z"
   },
   {
    "duration": 16,
    "start_time": "2022-06-29T06:17:14.532Z"
   },
   {
    "duration": 7,
    "start_time": "2022-06-29T06:17:14.550Z"
   },
   {
    "duration": 3,
    "start_time": "2022-06-29T06:17:14.560Z"
   },
   {
    "duration": 15,
    "start_time": "2022-06-29T06:17:14.564Z"
   },
   {
    "duration": 558,
    "start_time": "2022-06-29T06:17:14.580Z"
   },
   {
    "duration": 20,
    "start_time": "2022-06-29T06:17:15.141Z"
   },
   {
    "duration": 11,
    "start_time": "2022-06-29T06:17:15.162Z"
   },
   {
    "duration": 8,
    "start_time": "2022-06-29T06:17:15.175Z"
   },
   {
    "duration": 4,
    "start_time": "2022-06-29T06:17:15.184Z"
   },
   {
    "duration": 15,
    "start_time": "2022-06-29T06:17:15.190Z"
   },
   {
    "duration": 3,
    "start_time": "2022-06-29T06:17:15.224Z"
   },
   {
    "duration": 42,
    "start_time": "2022-06-29T06:17:15.229Z"
   },
   {
    "duration": 2,
    "start_time": "2022-06-29T06:17:15.273Z"
   },
   {
    "duration": 9,
    "start_time": "2022-06-29T06:17:15.277Z"
   },
   {
    "duration": 7783,
    "start_time": "2022-06-29T06:17:15.287Z"
   },
   {
    "duration": 2,
    "start_time": "2022-06-29T06:17:23.072Z"
   },
   {
    "duration": 29,
    "start_time": "2022-06-29T06:17:23.075Z"
   },
   {
    "duration": 15,
    "start_time": "2022-06-29T06:17:23.106Z"
   },
   {
    "duration": 28,
    "start_time": "2022-06-29T06:17:23.123Z"
   },
   {
    "duration": 20245,
    "start_time": "2022-06-29T06:17:23.153Z"
   },
   {
    "duration": 8,
    "start_time": "2022-06-29T06:17:43.401Z"
   },
   {
    "duration": 0,
    "start_time": "2022-06-29T06:17:43.411Z"
   },
   {
    "duration": 0,
    "start_time": "2022-06-29T06:17:43.412Z"
   },
   {
    "duration": 0,
    "start_time": "2022-06-29T06:17:43.413Z"
   },
   {
    "duration": 0,
    "start_time": "2022-06-29T06:17:43.414Z"
   },
   {
    "duration": 0,
    "start_time": "2022-06-29T06:17:43.415Z"
   },
   {
    "duration": 0,
    "start_time": "2022-06-29T06:17:43.416Z"
   },
   {
    "duration": 0,
    "start_time": "2022-06-29T06:17:43.418Z"
   },
   {
    "duration": 0,
    "start_time": "2022-06-29T06:17:43.419Z"
   },
   {
    "duration": 0,
    "start_time": "2022-06-29T06:17:43.420Z"
   },
   {
    "duration": 0,
    "start_time": "2022-06-29T06:17:43.421Z"
   },
   {
    "duration": 0,
    "start_time": "2022-06-29T06:17:43.422Z"
   },
   {
    "duration": 8,
    "start_time": "2022-06-29T06:18:14.594Z"
   },
   {
    "duration": 4,
    "start_time": "2022-06-29T06:18:21.097Z"
   },
   {
    "duration": 1128,
    "start_time": "2022-06-29T06:35:56.391Z"
   },
   {
    "duration": 62,
    "start_time": "2022-06-29T06:35:57.521Z"
   },
   {
    "duration": 13,
    "start_time": "2022-06-29T06:35:57.584Z"
   },
   {
    "duration": 10,
    "start_time": "2022-06-29T06:35:57.599Z"
   },
   {
    "duration": 18,
    "start_time": "2022-06-29T06:35:57.611Z"
   },
   {
    "duration": 14,
    "start_time": "2022-06-29T06:35:57.631Z"
   },
   {
    "duration": 5,
    "start_time": "2022-06-29T06:35:57.646Z"
   },
   {
    "duration": 6,
    "start_time": "2022-06-29T06:35:57.652Z"
   },
   {
    "duration": 7,
    "start_time": "2022-06-29T06:35:57.660Z"
   },
   {
    "duration": 6,
    "start_time": "2022-06-29T06:35:57.670Z"
   },
   {
    "duration": 15,
    "start_time": "2022-06-29T06:35:57.677Z"
   },
   {
    "duration": 365,
    "start_time": "2022-06-29T06:35:57.693Z"
   },
   {
    "duration": 19,
    "start_time": "2022-06-29T06:35:58.060Z"
   },
   {
    "duration": 12,
    "start_time": "2022-06-29T06:35:58.080Z"
   },
   {
    "duration": 8,
    "start_time": "2022-06-29T06:35:58.093Z"
   },
   {
    "duration": 24,
    "start_time": "2022-06-29T06:35:58.102Z"
   },
   {
    "duration": 11,
    "start_time": "2022-06-29T06:35:58.128Z"
   },
   {
    "duration": 6,
    "start_time": "2022-06-29T06:35:58.141Z"
   },
   {
    "duration": 39,
    "start_time": "2022-06-29T06:35:58.148Z"
   },
   {
    "duration": 2,
    "start_time": "2022-06-29T06:35:58.189Z"
   },
   {
    "duration": 7,
    "start_time": "2022-06-29T06:35:58.192Z"
   },
   {
    "duration": 7519,
    "start_time": "2022-06-29T06:35:58.200Z"
   },
   {
    "duration": 2,
    "start_time": "2022-06-29T06:36:05.721Z"
   },
   {
    "duration": 26,
    "start_time": "2022-06-29T06:36:05.725Z"
   },
   {
    "duration": 7,
    "start_time": "2022-06-29T06:36:05.752Z"
   },
   {
    "duration": 15,
    "start_time": "2022-06-29T06:36:05.760Z"
   },
   {
    "duration": 267130,
    "start_time": "2022-06-29T06:36:05.777Z"
   },
   {
    "duration": 4,
    "start_time": "2022-06-29T06:40:32.910Z"
   },
   {
    "duration": 30,
    "start_time": "2022-06-29T06:40:32.923Z"
   },
   {
    "duration": 8,
    "start_time": "2022-06-29T06:40:32.955Z"
   },
   {
    "duration": 46,
    "start_time": "2022-06-29T06:40:32.965Z"
   },
   {
    "duration": 131325,
    "start_time": "2022-06-29T06:40:33.013Z"
   },
   {
    "duration": 82,
    "start_time": "2022-06-29T06:42:44.340Z"
   },
   {
    "duration": 17,
    "start_time": "2022-06-29T06:42:44.426Z"
   },
   {
    "duration": 85,
    "start_time": "2022-06-29T06:42:44.445Z"
   },
   {
    "duration": 106,
    "start_time": "2022-06-29T06:42:44.532Z"
   },
   {
    "duration": 851,
    "start_time": "2022-06-29T06:42:44.640Z"
   },
   {
    "duration": 4,
    "start_time": "2022-06-29T06:42:45.492Z"
   },
   {
    "duration": 8432,
    "start_time": "2022-06-29T06:42:45.497Z"
   },
   {
    "duration": 5,
    "start_time": "2022-06-29T06:42:53.931Z"
   },
   {
    "duration": 14,
    "start_time": "2022-06-29T06:42:53.941Z"
   },
   {
    "duration": 18,
    "start_time": "2022-06-29T06:42:53.958Z"
   },
   {
    "duration": 271769,
    "start_time": "2022-06-29T06:42:53.977Z"
   },
   {
    "duration": 4,
    "start_time": "2022-06-29T06:47:25.747Z"
   },
   {
    "duration": 8,
    "start_time": "2022-06-29T06:47:25.753Z"
   },
   {
    "duration": 7,
    "start_time": "2022-06-29T06:47:25.762Z"
   },
   {
    "duration": 37,
    "start_time": "2022-06-29T06:47:25.770Z"
   },
   {
    "duration": 124533,
    "start_time": "2022-06-29T06:47:25.808Z"
   },
   {
    "duration": 87,
    "start_time": "2022-06-29T06:49:30.346Z"
   },
   {
    "duration": 12,
    "start_time": "2022-06-29T06:49:30.436Z"
   },
   {
    "duration": 84,
    "start_time": "2022-06-29T06:49:30.449Z"
   },
   {
    "duration": 114,
    "start_time": "2022-06-29T06:49:30.535Z"
   },
   {
    "duration": 3,
    "start_time": "2022-06-29T06:49:30.651Z"
   },
   {
    "duration": 9914,
    "start_time": "2022-06-29T06:49:30.656Z"
   },
   {
    "duration": 3,
    "start_time": "2022-06-29T06:49:40.572Z"
   },
   {
    "duration": 10,
    "start_time": "2022-06-29T06:49:40.577Z"
   },
   {
    "duration": 16,
    "start_time": "2022-06-29T06:49:40.588Z"
   },
   {
    "duration": 369839,
    "start_time": "2022-06-29T06:49:40.605Z"
   },
   {
    "duration": 4,
    "start_time": "2022-06-29T06:55:50.446Z"
   },
   {
    "duration": 6,
    "start_time": "2022-06-29T06:55:50.452Z"
   },
   {
    "duration": 8,
    "start_time": "2022-06-29T06:55:50.459Z"
   },
   {
    "duration": 34,
    "start_time": "2022-06-29T06:55:50.469Z"
   },
   {
    "duration": 142727,
    "start_time": "2022-06-29T06:55:50.505Z"
   },
   {
    "duration": 4,
    "start_time": "2022-06-29T06:58:13.235Z"
   },
   {
    "duration": 9,
    "start_time": "2022-06-29T06:58:13.241Z"
   },
   {
    "duration": 73,
    "start_time": "2022-06-29T06:58:13.252Z"
   },
   {
    "duration": 100,
    "start_time": "2022-06-29T06:58:13.330Z"
   },
   {
    "duration": 10,
    "start_time": "2022-06-29T06:58:13.434Z"
   },
   {
    "duration": 4860,
    "start_time": "2022-06-29T06:58:13.445Z"
   },
   {
    "duration": 4,
    "start_time": "2022-06-29T06:58:18.307Z"
   },
   {
    "duration": 14,
    "start_time": "2022-06-29T06:58:18.312Z"
   },
   {
    "duration": 16,
    "start_time": "2022-06-29T06:58:18.333Z"
   },
   {
    "duration": 166195,
    "start_time": "2022-06-29T06:58:18.351Z"
   },
   {
    "duration": 4,
    "start_time": "2022-06-29T07:01:04.548Z"
   },
   {
    "duration": 8,
    "start_time": "2022-06-29T07:01:04.554Z"
   },
   {
    "duration": 8,
    "start_time": "2022-06-29T07:01:04.564Z"
   },
   {
    "duration": 33,
    "start_time": "2022-06-29T07:01:04.573Z"
   },
   {
    "duration": 69115,
    "start_time": "2022-06-29T07:01:04.608Z"
   },
   {
    "duration": 7,
    "start_time": "2022-06-29T07:02:13.729Z"
   },
   {
    "duration": 98,
    "start_time": "2022-06-29T07:02:13.738Z"
   },
   {
    "duration": 24,
    "start_time": "2022-06-29T07:02:13.839Z"
   },
   {
    "duration": 1626,
    "start_time": "2022-06-29T07:02:13.946Z"
   },
   {
    "duration": 1645,
    "start_time": "2022-06-29T07:02:15.574Z"
   },
   {
    "duration": 1252,
    "start_time": "2022-06-29T11:24:28.161Z"
   },
   {
    "duration": 99,
    "start_time": "2022-06-29T11:24:29.415Z"
   },
   {
    "duration": 20,
    "start_time": "2022-06-29T11:24:29.515Z"
   },
   {
    "duration": 14,
    "start_time": "2022-06-29T11:24:29.537Z"
   },
   {
    "duration": 6,
    "start_time": "2022-06-29T11:24:29.553Z"
   },
   {
    "duration": 5,
    "start_time": "2022-06-29T11:24:29.561Z"
   },
   {
    "duration": 3,
    "start_time": "2022-06-29T11:24:29.568Z"
   },
   {
    "duration": 7,
    "start_time": "2022-06-29T11:24:29.572Z"
   },
   {
    "duration": 12,
    "start_time": "2022-06-29T11:24:29.580Z"
   },
   {
    "duration": 33,
    "start_time": "2022-06-29T11:24:29.595Z"
   },
   {
    "duration": 19,
    "start_time": "2022-06-29T11:24:29.630Z"
   },
   {
    "duration": 544,
    "start_time": "2022-06-29T11:24:29.651Z"
   },
   {
    "duration": 17,
    "start_time": "2022-06-29T11:24:30.197Z"
   },
   {
    "duration": 26,
    "start_time": "2022-06-29T11:24:30.215Z"
   },
   {
    "duration": 11,
    "start_time": "2022-06-29T11:24:30.245Z"
   },
   {
    "duration": 6,
    "start_time": "2022-06-29T11:24:30.258Z"
   },
   {
    "duration": 28,
    "start_time": "2022-06-29T11:24:30.266Z"
   },
   {
    "duration": 16,
    "start_time": "2022-06-29T11:24:30.296Z"
   },
   {
    "duration": 54,
    "start_time": "2022-06-29T11:24:30.313Z"
   },
   {
    "duration": 3,
    "start_time": "2022-06-29T11:24:30.369Z"
   },
   {
    "duration": 12,
    "start_time": "2022-06-29T11:24:30.374Z"
   },
   {
    "duration": 7477,
    "start_time": "2022-06-29T11:24:30.387Z"
   },
   {
    "duration": 3,
    "start_time": "2022-06-29T11:24:37.865Z"
   },
   {
    "duration": 7,
    "start_time": "2022-06-29T11:24:37.869Z"
   },
   {
    "duration": 8,
    "start_time": "2022-06-29T11:24:37.877Z"
   },
   {
    "duration": 17,
    "start_time": "2022-06-29T11:24:37.887Z"
   },
   {
    "duration": 265772,
    "start_time": "2022-06-29T11:24:37.906Z"
   },
   {
    "duration": 3,
    "start_time": "2022-06-29T11:29:03.683Z"
   },
   {
    "duration": 5,
    "start_time": "2022-06-29T11:29:03.688Z"
   },
   {
    "duration": 7,
    "start_time": "2022-06-29T11:29:03.694Z"
   },
   {
    "duration": 56,
    "start_time": "2022-06-29T11:29:03.703Z"
   },
   {
    "duration": 120572,
    "start_time": "2022-06-29T11:29:03.761Z"
   },
   {
    "duration": 4,
    "start_time": "2022-06-29T11:31:04.338Z"
   },
   {
    "duration": 6,
    "start_time": "2022-06-29T11:31:04.346Z"
   },
   {
    "duration": 78,
    "start_time": "2022-06-29T11:31:04.354Z"
   },
   {
    "duration": 104,
    "start_time": "2022-06-29T11:31:04.434Z"
   },
   {
    "duration": 861,
    "start_time": "2022-06-29T11:31:04.542Z"
   },
   {
    "duration": 4,
    "start_time": "2022-06-29T11:31:05.405Z"
   },
   {
    "duration": 8723,
    "start_time": "2022-06-29T11:31:05.410Z"
   },
   {
    "duration": 6,
    "start_time": "2022-06-29T11:31:14.138Z"
   },
   {
    "duration": 9,
    "start_time": "2022-06-29T11:31:14.146Z"
   },
   {
    "duration": 12,
    "start_time": "2022-06-29T11:31:14.157Z"
   },
   {
    "duration": 269444,
    "start_time": "2022-06-29T11:31:14.171Z"
   },
   {
    "duration": 11,
    "start_time": "2022-06-29T11:35:43.616Z"
   },
   {
    "duration": 18,
    "start_time": "2022-06-29T11:35:43.630Z"
   },
   {
    "duration": 8,
    "start_time": "2022-06-29T11:35:43.650Z"
   },
   {
    "duration": 31,
    "start_time": "2022-06-29T11:35:43.659Z"
   },
   {
    "duration": 123637,
    "start_time": "2022-06-29T11:35:43.691Z"
   },
   {
    "duration": 5,
    "start_time": "2022-06-29T11:37:47.330Z"
   },
   {
    "duration": 12,
    "start_time": "2022-06-29T11:37:47.337Z"
   },
   {
    "duration": 86,
    "start_time": "2022-06-29T11:37:47.350Z"
   },
   {
    "duration": 109,
    "start_time": "2022-06-29T11:37:47.439Z"
   },
   {
    "duration": 4,
    "start_time": "2022-06-29T11:37:47.550Z"
   },
   {
    "duration": 10018,
    "start_time": "2022-06-29T11:37:47.555Z"
   },
   {
    "duration": 4,
    "start_time": "2022-06-29T11:37:57.575Z"
   },
   {
    "duration": 6,
    "start_time": "2022-06-29T11:37:57.581Z"
   },
   {
    "duration": 14,
    "start_time": "2022-06-29T11:37:57.589Z"
   },
   {
    "duration": 370503,
    "start_time": "2022-06-29T11:37:57.605Z"
   },
   {
    "duration": 3,
    "start_time": "2022-06-29T11:44:08.110Z"
   },
   {
    "duration": 60,
    "start_time": "2022-06-29T11:44:08.114Z"
   },
   {
    "duration": 29,
    "start_time": "2022-06-29T11:44:08.175Z"
   },
   {
    "duration": 58,
    "start_time": "2022-06-29T11:44:08.206Z"
   },
   {
    "duration": 138783,
    "start_time": "2022-06-29T11:44:08.266Z"
   },
   {
    "duration": 82,
    "start_time": "2022-06-29T11:46:27.051Z"
   },
   {
    "duration": 14,
    "start_time": "2022-06-29T11:46:27.135Z"
   },
   {
    "duration": 14,
    "start_time": "2022-06-29T11:46:27.151Z"
   },
   {
    "duration": 185,
    "start_time": "2022-06-29T11:46:27.166Z"
   },
   {
    "duration": 3,
    "start_time": "2022-06-29T11:46:27.353Z"
   },
   {
    "duration": 4743,
    "start_time": "2022-06-29T11:46:27.358Z"
   },
   {
    "duration": 5,
    "start_time": "2022-06-29T11:46:32.102Z"
   },
   {
    "duration": 23,
    "start_time": "2022-06-29T11:46:32.109Z"
   },
   {
    "duration": 11,
    "start_time": "2022-06-29T11:46:32.141Z"
   },
   {
    "duration": 163330,
    "start_time": "2022-06-29T11:46:32.154Z"
   },
   {
    "duration": 5,
    "start_time": "2022-06-29T11:49:15.486Z"
   },
   {
    "duration": 7,
    "start_time": "2022-06-29T11:49:15.493Z"
   },
   {
    "duration": 10,
    "start_time": "2022-06-29T11:49:15.501Z"
   },
   {
    "duration": 45,
    "start_time": "2022-06-29T11:49:15.513Z"
   },
   {
    "duration": 68482,
    "start_time": "2022-06-29T11:49:15.560Z"
   },
   {
    "duration": 6,
    "start_time": "2022-06-29T11:50:24.044Z"
   },
   {
    "duration": 192,
    "start_time": "2022-06-29T11:50:24.052Z"
   },
   {
    "duration": 83,
    "start_time": "2022-06-29T11:50:24.247Z"
   },
   {
    "duration": 1566,
    "start_time": "2022-06-29T11:50:24.351Z"
   },
   {
    "duration": 1643,
    "start_time": "2022-06-29T11:50:25.919Z"
   },
   {
    "duration": 1166,
    "start_time": "2024-04-05T18:20:16.401Z"
   },
   {
    "duration": 165,
    "start_time": "2024-04-05T18:20:19.301Z"
   }
  ],
  "kernelspec": {
   "display_name": "Python 3 (ipykernel)",
   "language": "python",
   "name": "python3"
  },
  "language_info": {
   "codemirror_mode": {
    "name": "ipython",
    "version": 3
   },
   "file_extension": ".py",
   "mimetype": "text/x-python",
   "name": "python",
   "nbconvert_exporter": "python",
   "pygments_lexer": "ipython3",
   "version": "3.9.5"
  },
  "toc": {
   "base_numbering": 1,
   "nav_menu": {},
   "number_sections": true,
   "sideBar": true,
   "skip_h1_title": true,
   "title_cell": "Содержание",
   "title_sidebar": "Contents",
   "toc_cell": true,
   "toc_position": {
    "height": "calc(100% - 180px)",
    "left": "10px",
    "top": "150px",
    "width": "320.062px"
   },
   "toc_section_display": true,
   "toc_window_display": true
  }
 },
 "nbformat": 4,
 "nbformat_minor": 2
}
